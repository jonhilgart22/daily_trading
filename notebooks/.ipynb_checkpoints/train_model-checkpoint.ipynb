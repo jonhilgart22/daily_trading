{
 "cells": [
  {
   "cell_type": "code",
   "execution_count": 467,
   "metadata": {},
   "outputs": [
    {
     "name": "stdout",
     "output_type": "stream",
     "text": [
      "Populating the interactive namespace from numpy and matplotlib\n"
     ]
    }
   ],
   "source": [
    "import pandas as pd\n",
    "import glob\n",
    "import numpy as numpy\n",
    "import matplotlib.pyplot as plt\n",
    "from collections import defaultdict\n",
    "from tqdm import tqdm\n",
    "import time\n",
    "from sklearn.model_selection import train_test_split\n",
    "from sklearn.ensemble import GradientBoostingRegressor, RandomForestRegressor\n",
    "from sklearn.metrics import mean_squared_error\n",
    "%pylab inline"
   ]
  },
  {
   "cell_type": "markdown",
   "metadata": {},
   "source": [
    "## Read in data\n"
   ]
  },
  {
   "cell_type": "code",
   "execution_count": 423,
   "metadata": {},
   "outputs": [
    {
     "name": "stdout",
     "output_type": "stream",
     "text": [
      "Reading in pnr\n",
      "Reading in bac\n",
      "Reading in ni\n",
      "Reading in vno\n",
      "Reading in ual\n",
      "Reading in efx\n",
      "Reading in ph\n",
      "Reading in rop\n",
      "Reading in are\n",
      "Reading in pg\n",
      "Reading in pvh\n",
      "Reading in lb\n",
      "Reading in cern\n",
      "Reading in peg\n",
      "Reading in adbe\n",
      "Reading in emr\n",
      "Reading in ce\n",
      "Reading in eqix\n",
      "Reading in rost\n",
      "Reading in so\n"
     ]
    }
   ],
   "source": [
    "dict_of_stocks_and_dfs = {}\n",
    "for file_ in glob.glob('../data/updated_historical_stock_data/*.csv'):\n",
    "    stock_name = file_.rsplit(\"/\")[-1].split('_')[0].lower() \n",
    "    print(f\"Reading in {stock_name}\")\n",
    "    dict_of_stocks_and_dfs[stock_name] = pd.read_csv(f\"{file_}\")\n"
   ]
  },
  {
   "cell_type": "code",
   "execution_count": 424,
   "metadata": {},
   "outputs": [
    {
     "data": {
      "text/plain": [
       "dict_keys(['pnr', 'bac', 'ni', 'vno', 'ual', 'efx', 'ph', 'rop', 'are', 'pg', 'pvh', 'lb', 'cern', 'peg', 'adbe', 'emr', 'ce', 'eqix', 'rost', 'so'])"
      ]
     },
     "execution_count": 424,
     "metadata": {},
     "output_type": "execute_result"
    }
   ],
   "source": [
    "# key is company value is df of data\n",
    "dict_of_stocks_and_dfs.keys()"
   ]
  },
  {
   "cell_type": "markdown",
   "metadata": {},
   "source": [
    "# Create correlation & variance features\n",
    "- Daily, weekly, 30-days, 90-days, 180-days, 365-days"
   ]
  },
  {
   "cell_type": "code",
   "execution_count": 425,
   "metadata": {},
   "outputs": [],
   "source": [
    "\n",
    "# here the date is not the index, yet\n",
    "first_stock_df = dict_of_stocks_and_dfs['ph'].loc[ dict_of_stocks_and_dfs['ph'].date.isin(dict_of_stocks_and_dfs['emr'].date), :]"
   ]
  },
  {
   "cell_type": "code",
   "execution_count": 426,
   "metadata": {},
   "outputs": [
    {
     "data": {
      "text/plain": [
       "2629.342599254268"
      ]
     },
     "execution_count": 426,
     "metadata": {},
     "output_type": "execute_result"
    }
   ],
   "source": [
    "np.var(first_stock_df.close)"
   ]
  },
  {
   "cell_type": "code",
   "execution_count": 427,
   "metadata": {},
   "outputs": [
    {
     "data": {
      "text/html": [
       "<div>\n",
       "<style scoped>\n",
       "    .dataframe tbody tr th:only-of-type {\n",
       "        vertical-align: middle;\n",
       "    }\n",
       "\n",
       "    .dataframe tbody tr th {\n",
       "        vertical-align: top;\n",
       "    }\n",
       "\n",
       "    .dataframe thead th {\n",
       "        text-align: right;\n",
       "    }\n",
       "</style>\n",
       "<table border=\"1\" class=\"dataframe\">\n",
       "  <thead>\n",
       "    <tr style=\"text-align: right;\">\n",
       "      <th></th>\n",
       "      <th>date</th>\n",
       "      <th>open</th>\n",
       "      <th>high</th>\n",
       "      <th>low</th>\n",
       "      <th>close</th>\n",
       "      <th>volume</th>\n",
       "    </tr>\n",
       "  </thead>\n",
       "  <tbody>\n",
       "  </tbody>\n",
       "</table>\n",
       "</div>"
      ],
      "text/plain": [
       "Empty DataFrame\n",
       "Columns: [date, open, high, low, close, volume]\n",
       "Index: []"
      ]
     },
     "execution_count": 427,
     "metadata": {},
     "output_type": "execute_result"
    }
   ],
   "source": [
    "dict_of_stocks_and_dfs['ph'][dict_of_stocks_and_dfs['ph'].date == '2017-01-02']"
   ]
  },
  {
   "cell_type": "code",
   "execution_count": 428,
   "metadata": {},
   "outputs": [
    {
     "data": {
      "text/html": [
       "<div>\n",
       "<style scoped>\n",
       "    .dataframe tbody tr th:only-of-type {\n",
       "        vertical-align: middle;\n",
       "    }\n",
       "\n",
       "    .dataframe tbody tr th {\n",
       "        vertical-align: top;\n",
       "    }\n",
       "\n",
       "    .dataframe thead th {\n",
       "        text-align: right;\n",
       "    }\n",
       "</style>\n",
       "<table border=\"1\" class=\"dataframe\">\n",
       "  <thead>\n",
       "    <tr style=\"text-align: right;\">\n",
       "      <th></th>\n",
       "      <th>date</th>\n",
       "      <th>open</th>\n",
       "      <th>high</th>\n",
       "      <th>low</th>\n",
       "      <th>close</th>\n",
       "      <th>volume</th>\n",
       "    </tr>\n",
       "  </thead>\n",
       "  <tbody>\n",
       "    <tr>\n",
       "      <th>0</th>\n",
       "      <td>2017-01-03</td>\n",
       "      <td>142.2</td>\n",
       "      <td>144.25</td>\n",
       "      <td>140.83</td>\n",
       "      <td>142.55</td>\n",
       "      <td>1115090</td>\n",
       "    </tr>\n",
       "  </tbody>\n",
       "</table>\n",
       "</div>"
      ],
      "text/plain": [
       "         date   open    high     low   close   volume\n",
       "0  2017-01-03  142.2  144.25  140.83  142.55  1115090"
      ]
     },
     "execution_count": 428,
     "metadata": {},
     "output_type": "execute_result"
    }
   ],
   "source": [
    "dict_of_stocks_and_dfs['ph'][dict_of_stocks_and_dfs['ph'].date == '2017-01-03']"
   ]
  },
  {
   "cell_type": "code",
   "execution_count": 429,
   "metadata": {},
   "outputs": [
    {
     "data": {
      "text/html": [
       "<div>\n",
       "<style scoped>\n",
       "    .dataframe tbody tr th:only-of-type {\n",
       "        vertical-align: middle;\n",
       "    }\n",
       "\n",
       "    .dataframe tbody tr th {\n",
       "        vertical-align: top;\n",
       "    }\n",
       "\n",
       "    .dataframe thead th {\n",
       "        text-align: right;\n",
       "    }\n",
       "</style>\n",
       "<table border=\"1\" class=\"dataframe\">\n",
       "  <thead>\n",
       "    <tr style=\"text-align: right;\">\n",
       "      <th></th>\n",
       "      <th>date</th>\n",
       "      <th>open</th>\n",
       "      <th>high</th>\n",
       "      <th>low</th>\n",
       "      <th>close</th>\n",
       "      <th>volume</th>\n",
       "    </tr>\n",
       "  </thead>\n",
       "  <tbody>\n",
       "    <tr>\n",
       "      <th>1</th>\n",
       "      <td>2017-01-04</td>\n",
       "      <td>142.5</td>\n",
       "      <td>143.2</td>\n",
       "      <td>141.9</td>\n",
       "      <td>142.64</td>\n",
       "      <td>637928</td>\n",
       "    </tr>\n",
       "  </tbody>\n",
       "</table>\n",
       "</div>"
      ],
      "text/plain": [
       "         date   open   high    low   close  volume\n",
       "1  2017-01-04  142.5  143.2  141.9  142.64  637928"
      ]
     },
     "execution_count": 429,
     "metadata": {},
     "output_type": "execute_result"
    }
   ],
   "source": [
    "dict_of_stocks_and_dfs['ph'][dict_of_stocks_and_dfs['ph'].date == '2017-01-04']"
   ]
  },
  {
   "cell_type": "code",
   "execution_count": 430,
   "metadata": {},
   "outputs": [
    {
     "data": {
      "text/html": [
       "<div>\n",
       "<style scoped>\n",
       "    .dataframe tbody tr th:only-of-type {\n",
       "        vertical-align: middle;\n",
       "    }\n",
       "\n",
       "    .dataframe tbody tr th {\n",
       "        vertical-align: top;\n",
       "    }\n",
       "\n",
       "    .dataframe thead th {\n",
       "        text-align: right;\n",
       "    }\n",
       "</style>\n",
       "<table border=\"1\" class=\"dataframe\">\n",
       "  <thead>\n",
       "    <tr style=\"text-align: right;\">\n",
       "      <th></th>\n",
       "      <th>date</th>\n",
       "      <th>open</th>\n",
       "      <th>high</th>\n",
       "      <th>low</th>\n",
       "      <th>close</th>\n",
       "      <th>volume</th>\n",
       "    </tr>\n",
       "  </thead>\n",
       "  <tbody>\n",
       "    <tr>\n",
       "      <th>2</th>\n",
       "      <td>2017-01-05</td>\n",
       "      <td>142.35</td>\n",
       "      <td>142.67</td>\n",
       "      <td>139.92</td>\n",
       "      <td>141.37</td>\n",
       "      <td>557915</td>\n",
       "    </tr>\n",
       "  </tbody>\n",
       "</table>\n",
       "</div>"
      ],
      "text/plain": [
       "         date    open    high     low   close  volume\n",
       "2  2017-01-05  142.35  142.67  139.92  141.37  557915"
      ]
     },
     "execution_count": 430,
     "metadata": {},
     "output_type": "execute_result"
    }
   ],
   "source": [
    "dict_of_stocks_and_dfs['ph'][dict_of_stocks_and_dfs['ph'].date == '2017-01-05']"
   ]
  },
  {
   "cell_type": "code",
   "execution_count": 431,
   "metadata": {},
   "outputs": [
    {
     "data": {
      "text/html": [
       "<div>\n",
       "<style scoped>\n",
       "    .dataframe tbody tr th:only-of-type {\n",
       "        vertical-align: middle;\n",
       "    }\n",
       "\n",
       "    .dataframe tbody tr th {\n",
       "        vertical-align: top;\n",
       "    }\n",
       "\n",
       "    .dataframe thead th {\n",
       "        text-align: right;\n",
       "    }\n",
       "</style>\n",
       "<table border=\"1\" class=\"dataframe\">\n",
       "  <thead>\n",
       "    <tr style=\"text-align: right;\">\n",
       "      <th></th>\n",
       "      <th>date</th>\n",
       "      <th>open</th>\n",
       "      <th>high</th>\n",
       "      <th>low</th>\n",
       "      <th>close</th>\n",
       "      <th>volume</th>\n",
       "    </tr>\n",
       "  </thead>\n",
       "  <tbody>\n",
       "    <tr>\n",
       "      <th>3</th>\n",
       "      <td>2017-01-06</td>\n",
       "      <td>141.91</td>\n",
       "      <td>142.4</td>\n",
       "      <td>141.06</td>\n",
       "      <td>141.49</td>\n",
       "      <td>727481</td>\n",
       "    </tr>\n",
       "  </tbody>\n",
       "</table>\n",
       "</div>"
      ],
      "text/plain": [
       "         date    open   high     low   close  volume\n",
       "3  2017-01-06  141.91  142.4  141.06  141.49  727481"
      ]
     },
     "execution_count": 431,
     "metadata": {},
     "output_type": "execute_result"
    }
   ],
   "source": [
    "dict_of_stocks_and_dfs['ph'][dict_of_stocks_and_dfs['ph'].date == '2017-01-06']"
   ]
  },
  {
   "cell_type": "code",
   "execution_count": 432,
   "metadata": {},
   "outputs": [
    {
     "data": {
      "text/html": [
       "<div>\n",
       "<style scoped>\n",
       "    .dataframe tbody tr th:only-of-type {\n",
       "        vertical-align: middle;\n",
       "    }\n",
       "\n",
       "    .dataframe tbody tr th {\n",
       "        vertical-align: top;\n",
       "    }\n",
       "\n",
       "    .dataframe thead th {\n",
       "        text-align: right;\n",
       "    }\n",
       "</style>\n",
       "<table border=\"1\" class=\"dataframe\">\n",
       "  <thead>\n",
       "    <tr style=\"text-align: right;\">\n",
       "      <th></th>\n",
       "      <th>date</th>\n",
       "      <th>open</th>\n",
       "      <th>high</th>\n",
       "      <th>low</th>\n",
       "      <th>close</th>\n",
       "      <th>volume</th>\n",
       "    </tr>\n",
       "  </thead>\n",
       "  <tbody>\n",
       "    <tr>\n",
       "      <th>255</th>\n",
       "      <td>2018-01-08</td>\n",
       "      <td>203.81</td>\n",
       "      <td>206.41</td>\n",
       "      <td>203.67</td>\n",
       "      <td>205.55</td>\n",
       "      <td>974719</td>\n",
       "    </tr>\n",
       "  </tbody>\n",
       "</table>\n",
       "</div>"
      ],
      "text/plain": [
       "           date    open    high     low   close  volume\n",
       "255  2018-01-08  203.81  206.41  203.67  205.55  974719"
      ]
     },
     "execution_count": 432,
     "metadata": {},
     "output_type": "execute_result"
    }
   ],
   "source": [
    "dict_of_stocks_and_dfs['ph'][dict_of_stocks_and_dfs['ph'].date == '2018-01-08']"
   ]
  },
  {
   "cell_type": "code",
   "execution_count": 433,
   "metadata": {},
   "outputs": [
    {
     "ename": "SyntaxError",
     "evalue": "invalid token (<ipython-input-433-4d9b7842368f>, line 1)",
     "output_type": "error",
     "traceback": [
      "\u001b[0;36m  File \u001b[0;32m\"<ipython-input-433-4d9b7842368f>\"\u001b[0;36m, line \u001b[0;32m1\u001b[0m\n\u001b[0;31m    2017-01-04\u001b[0m\n\u001b[0m          ^\u001b[0m\n\u001b[0;31mSyntaxError\u001b[0m\u001b[0;31m:\u001b[0m invalid token\n"
     ]
    }
   ],
   "source": [
    "2017-01-04"
   ]
  },
  {
   "cell_type": "code",
   "execution_count": 434,
   "metadata": {},
   "outputs": [],
   "source": [
    "\n",
    "# here the date is not the index, yet\n",
    "first_stock_df = dict_of_stocks_and_dfs['ph'].loc[ dict_of_stocks_and_dfs['ph'].date.isin(dict_of_stocks_and_dfs['emr'].date), :]\n",
    "#  filter second df by the dates in first\n",
    "\n",
    "# here the date is not the index, yet\n",
    "second_stock_df = dict_of_stocks_and_dfs['emr'].loc[ dict_of_stocks_and_dfs['emr'].date.isin(dict_of_stocks_and_dfs['ph'].date), :]"
   ]
  },
  {
   "cell_type": "markdown",
   "metadata": {},
   "source": [
    "## Set the date as the index and sort"
   ]
  },
  {
   "cell_type": "code",
   "execution_count": 435,
   "metadata": {},
   "outputs": [],
   "source": [
    "first_stock_df = first_stock_df.sort_values('date')\n",
    "second_stock_df = second_stock_df.sort_values('date')\n",
    "\n",
    "first_stock_df = first_stock_df.set_index('date')\n",
    "second_stock_df = second_stock_df.set_index('date')"
   ]
  },
  {
   "cell_type": "code",
   "execution_count": null,
   "metadata": {},
   "outputs": [],
   "source": []
  },
  {
   "cell_type": "code",
   "execution_count": 567,
   "metadata": {},
   "outputs": [
    {
     "data": {
      "text/html": [
       "<div>\n",
       "<style scoped>\n",
       "    .dataframe tbody tr th:only-of-type {\n",
       "        vertical-align: middle;\n",
       "    }\n",
       "\n",
       "    .dataframe tbody tr th {\n",
       "        vertical-align: top;\n",
       "    }\n",
       "\n",
       "    .dataframe thead th {\n",
       "        text-align: right;\n",
       "    }\n",
       "</style>\n",
       "<table border=\"1\" class=\"dataframe\">\n",
       "  <thead>\n",
       "    <tr style=\"text-align: right;\">\n",
       "      <th></th>\n",
       "      <th>volume</th>\n",
       "    </tr>\n",
       "    <tr>\n",
       "      <th>date</th>\n",
       "      <th></th>\n",
       "    </tr>\n",
       "  </thead>\n",
       "  <tbody>\n",
       "    <tr>\n",
       "      <th>1985-07-01</th>\n",
       "      <td>NaN</td>\n",
       "    </tr>\n",
       "    <tr>\n",
       "      <th>1985-07-02</th>\n",
       "      <td>NaN</td>\n",
       "    </tr>\n",
       "    <tr>\n",
       "      <th>1985-07-03</th>\n",
       "      <td>NaN</td>\n",
       "    </tr>\n",
       "    <tr>\n",
       "      <th>1985-07-05</th>\n",
       "      <td>NaN</td>\n",
       "    </tr>\n",
       "    <tr>\n",
       "      <th>1985-07-08</th>\n",
       "      <td>NaN</td>\n",
       "    </tr>\n",
       "    <tr>\n",
       "      <th>...</th>\n",
       "      <td>...</td>\n",
       "    </tr>\n",
       "    <tr>\n",
       "      <th>2020-04-13</th>\n",
       "      <td>229010.856284</td>\n",
       "    </tr>\n",
       "    <tr>\n",
       "      <th>2020-04-14</th>\n",
       "      <td>278939.899371</td>\n",
       "    </tr>\n",
       "    <tr>\n",
       "      <th>2020-04-15</th>\n",
       "      <td>476096.659721</td>\n",
       "    </tr>\n",
       "    <tr>\n",
       "      <th>2020-04-16</th>\n",
       "      <td>779986.325022</td>\n",
       "    </tr>\n",
       "    <tr>\n",
       "      <th>2020-04-17</th>\n",
       "      <td>779087.340787</td>\n",
       "    </tr>\n",
       "  </tbody>\n",
       "</table>\n",
       "<p>8770 rows × 1 columns</p>\n",
       "</div>"
      ],
      "text/plain": [
       "                   volume\n",
       "date                     \n",
       "1985-07-01            NaN\n",
       "1985-07-02            NaN\n",
       "1985-07-03            NaN\n",
       "1985-07-05            NaN\n",
       "1985-07-08            NaN\n",
       "...                   ...\n",
       "2020-04-13  229010.856284\n",
       "2020-04-14  278939.899371\n",
       "2020-04-15  476096.659721\n",
       "2020-04-16  779986.325022\n",
       "2020-04-17  779087.340787\n",
       "\n",
       "[8770 rows x 1 columns]"
      ]
     },
     "execution_count": 567,
     "metadata": {},
     "output_type": "execute_result"
    }
   ],
   "source": [
    "pd.DataFrame(first_stock_df.volume.rolling(7).std())"
   ]
  },
  {
   "cell_type": "code",
   "execution_count": null,
   "metadata": {},
   "outputs": [],
   "source": []
  },
  {
   "cell_type": "code",
   "execution_count": 541,
   "metadata": {},
   "outputs": [],
   "source": [
    "corr_df = pd.DataFrame(first_stock_df.close.rolling(7).corr(second_stock_df.close)).fillna(method='backfill').rename({'close': 'rolling_corr'},axis=1)"
   ]
  },
  {
   "cell_type": "code",
   "execution_count": 551,
   "metadata": {},
   "outputs": [
    {
     "data": {
      "text/html": [
       "<div>\n",
       "<style scoped>\n",
       "    .dataframe tbody tr th:only-of-type {\n",
       "        vertical-align: middle;\n",
       "    }\n",
       "\n",
       "    .dataframe tbody tr th {\n",
       "        vertical-align: top;\n",
       "    }\n",
       "\n",
       "    .dataframe thead th {\n",
       "        text-align: right;\n",
       "    }\n",
       "</style>\n",
       "<table border=\"1\" class=\"dataframe\">\n",
       "  <thead>\n",
       "    <tr style=\"text-align: right;\">\n",
       "      <th></th>\n",
       "      <th>rolling_corr</th>\n",
       "    </tr>\n",
       "    <tr>\n",
       "      <th>date</th>\n",
       "      <th></th>\n",
       "    </tr>\n",
       "  </thead>\n",
       "  <tbody>\n",
       "    <tr>\n",
       "      <th>1985-07-01</th>\n",
       "      <td>0.770455</td>\n",
       "    </tr>\n",
       "    <tr>\n",
       "      <th>1985-07-02</th>\n",
       "      <td>0.770455</td>\n",
       "    </tr>\n",
       "    <tr>\n",
       "      <th>1985-07-03</th>\n",
       "      <td>0.770455</td>\n",
       "    </tr>\n",
       "    <tr>\n",
       "      <th>1985-07-05</th>\n",
       "      <td>0.770455</td>\n",
       "    </tr>\n",
       "    <tr>\n",
       "      <th>1985-07-08</th>\n",
       "      <td>0.770455</td>\n",
       "    </tr>\n",
       "    <tr>\n",
       "      <th>...</th>\n",
       "      <td>...</td>\n",
       "    </tr>\n",
       "    <tr>\n",
       "      <th>2020-04-13</th>\n",
       "      <td>0.971589</td>\n",
       "    </tr>\n",
       "    <tr>\n",
       "      <th>2020-04-14</th>\n",
       "      <td>0.951834</td>\n",
       "    </tr>\n",
       "    <tr>\n",
       "      <th>2020-04-15</th>\n",
       "      <td>0.819152</td>\n",
       "    </tr>\n",
       "    <tr>\n",
       "      <th>2020-04-16</th>\n",
       "      <td>0.890888</td>\n",
       "    </tr>\n",
       "    <tr>\n",
       "      <th>2020-04-17</th>\n",
       "      <td>0.935726</td>\n",
       "    </tr>\n",
       "  </tbody>\n",
       "</table>\n",
       "<p>8770 rows × 1 columns</p>\n",
       "</div>"
      ],
      "text/plain": [
       "            rolling_corr\n",
       "date                    \n",
       "1985-07-01      0.770455\n",
       "1985-07-02      0.770455\n",
       "1985-07-03      0.770455\n",
       "1985-07-05      0.770455\n",
       "1985-07-08      0.770455\n",
       "...                  ...\n",
       "2020-04-13      0.971589\n",
       "2020-04-14      0.951834\n",
       "2020-04-15      0.819152\n",
       "2020-04-16      0.890888\n",
       "2020-04-17      0.935726\n",
       "\n",
       "[8770 rows x 1 columns]"
      ]
     },
     "execution_count": 551,
     "metadata": {},
     "output_type": "execute_result"
    }
   ],
   "source": [
    "corr_df"
   ]
  },
  {
   "cell_type": "code",
   "execution_count": 436,
   "metadata": {},
   "outputs": [
    {
     "data": {
      "text/plain": [
       "'2020-04-17'"
      ]
     },
     "execution_count": 436,
     "metadata": {},
     "output_type": "execute_result"
    }
   ],
   "source": [
    "first_stock_df.index.max()"
   ]
  },
  {
   "cell_type": "code",
   "execution_count": 437,
   "metadata": {},
   "outputs": [
    {
     "data": {
      "text/plain": [
       "'2020-04-17'"
      ]
     },
     "execution_count": 437,
     "metadata": {},
     "output_type": "execute_result"
    }
   ],
   "source": [
    "second_stock_df.index.max()"
   ]
  },
  {
   "cell_type": "code",
   "execution_count": 438,
   "metadata": {},
   "outputs": [
    {
     "data": {
      "text/plain": [
       "array([[1.        , 0.95325325],\n",
       "       [0.95325325, 1.        ]])"
      ]
     },
     "execution_count": 438,
     "metadata": {},
     "output_type": "execute_result"
    }
   ],
   "source": [
    "np.corrcoef(first_stock_df.close, second_stock_df.close) # all time corrcoef"
   ]
  },
  {
   "cell_type": "code",
   "execution_count": 439,
   "metadata": {},
   "outputs": [
    {
     "data": {
      "text/plain": [
       "<matplotlib.axes._subplots.AxesSubplot at 0x13937b908>"
      ]
     },
     "execution_count": 439,
     "metadata": {},
     "output_type": "execute_result"
    },
    {
     "data": {
      "image/png": "[encoded data removed]",
      "text/plain": [
       "<Figure size 432x288 with 1 Axes>"
      ]
     },
     "metadata": {
      "needs_background": "light"
     },
     "output_type": "display_data"
    }
   ],
   "source": [
    "\n",
    "ax = first_stock_df.plot(y='close')\n",
    "second_stock_df.plot(y='close', color='red', ax=ax)"
   ]
  },
  {
   "cell_type": "code",
   "execution_count": 440,
   "metadata": {},
   "outputs": [
    {
     "name": "stdout",
     "output_type": "stream",
     "text": [
      "Idx 0 out of 8770\n",
      "Idx 100 out of 8770\n",
      "Idx 200 out of 8770\n",
      "Idx 300 out of 8770\n",
      "Idx 400 out of 8770\n",
      "Idx 500 out of 8770\n",
      "Idx 600 out of 8770\n",
      "Idx 700 out of 8770\n",
      "Idx 800 out of 8770\n",
      "Idx 900 out of 8770\n",
      "Idx 1000 out of 8770\n",
      "Idx 1100 out of 8770\n",
      "Idx 1200 out of 8770\n",
      "Idx 1300 out of 8770\n",
      "Idx 1400 out of 8770\n",
      "Idx 1500 out of 8770\n",
      "Idx 1600 out of 8770\n",
      "Idx 1700 out of 8770\n",
      "Idx 1800 out of 8770\n",
      "Idx 1900 out of 8770\n",
      "Idx 2000 out of 8770\n",
      "Idx 2100 out of 8770\n",
      "Idx 2200 out of 8770\n",
      "Idx 2300 out of 8770\n",
      "Idx 2400 out of 8770\n",
      "Idx 2500 out of 8770\n",
      "Idx 2600 out of 8770\n",
      "Idx 2700 out of 8770\n",
      "Idx 2800 out of 8770\n",
      "Idx 2900 out of 8770\n",
      "Idx 3000 out of 8770\n",
      "Idx 3100 out of 8770\n",
      "Idx 3200 out of 8770\n",
      "Idx 3300 out of 8770\n",
      "Idx 3400 out of 8770\n",
      "Idx 3500 out of 8770\n",
      "Idx 3600 out of 8770\n",
      "Idx 3700 out of 8770\n",
      "Idx 3800 out of 8770\n",
      "Idx 3900 out of 8770\n",
      "Idx 4000 out of 8770\n",
      "Idx 4100 out of 8770\n",
      "Idx 4200 out of 8770\n",
      "Idx 4300 out of 8770\n",
      "Idx 4400 out of 8770\n",
      "Idx 4500 out of 8770\n",
      "Idx 4600 out of 8770\n",
      "Idx 4700 out of 8770\n",
      "Idx 4800 out of 8770\n",
      "Idx 4900 out of 8770\n",
      "Idx 5000 out of 8770\n",
      "Idx 5100 out of 8770\n",
      "Idx 5200 out of 8770\n",
      "Idx 5300 out of 8770\n",
      "Idx 5400 out of 8770\n",
      "Idx 5500 out of 8770\n",
      "Idx 5600 out of 8770\n",
      "Idx 5700 out of 8770\n",
      "Idx 5800 out of 8770\n",
      "Idx 5900 out of 8770\n",
      "Idx 6000 out of 8770\n",
      "Idx 6100 out of 8770\n",
      "Idx 6200 out of 8770\n",
      "Idx 6300 out of 8770\n",
      "Idx 6400 out of 8770\n",
      "Idx 6500 out of 8770\n",
      "Idx 6600 out of 8770\n",
      "Idx 6700 out of 8770\n",
      "Idx 6800 out of 8770\n",
      "Idx 6900 out of 8770\n",
      "Idx 7000 out of 8770\n",
      "Idx 7100 out of 8770\n",
      "Idx 7200 out of 8770\n",
      "Idx 7300 out of 8770\n",
      "Idx 7400 out of 8770\n",
      "Idx 7500 out of 8770\n",
      "Idx 7600 out of 8770\n",
      "Idx 7700 out of 8770\n",
      "Idx 7800 out of 8770\n",
      "Idx 7900 out of 8770\n",
      "Idx 8000 out of 8770\n",
      "Idx 8100 out of 8770\n",
      "Idx 8200 out of 8770\n",
      "Idx 8300 out of 8770\n",
      "Idx 8400 out of 8770\n",
      "Idx 8500 out of 8770\n",
      "Idx 8600 out of 8770\n",
      "Idx 8700 out of 8770\n"
     ]
    },
    {
     "name": "stderr",
     "output_type": "stream",
     "text": [
      "/Users/jonathanhilgart/Library/Caches/pypoetry/virtualenvs/daily-trading-nJ43NNNI-py3.7/lib/python3.7/site-packages/numpy/lib/function_base.py:2526: RuntimeWarning: Degrees of freedom <= 0 for slice\n",
      "  c = cov(x, y, rowvar)\n",
      "/Users/jonathanhilgart/Library/Caches/pypoetry/virtualenvs/daily-trading-nJ43NNNI-py3.7/lib/python3.7/site-packages/numpy/lib/function_base.py:2455: RuntimeWarning: divide by zero encountered in true_divide\n",
      "  c *= np.true_divide(1, fact)\n"
     ]
    }
   ],
   "source": [
    "n_rows = len(first_stock_df)\n",
    "n_days_stride = 365\n",
    "\n",
    "previous_row = 0\n",
    "c = 0\n",
    "\n",
    "correlation_per_time_period = defaultdict(list)\n",
    "for day_window in range(n_rows):\n",
    "    \n",
    "    if day_window % 100 == 0:\n",
    "        print(f\"Idx {day_window} out of {n_rows}\")\n",
    "    first_stock= first_stock_df.iloc[previous_row:day_window + n_days_stride, :]\n",
    "    second_stock = second_stock_df.iloc[previous_row:day_window + n_days_stride, :]\n",
    "#     print(f\"Correcoef for {first_stock.index.min()} to {second_stock.index.max()}\")\n",
    "    correlation = np.corrcoef(first_stock.close, second_stock.close)[0,1]\n",
    "\n",
    "#     print(correlation) \n",
    "    \n",
    "    correlation_per_time_period['date'].append(first_stock.index.min())\n",
    "    correlation_per_time_period['correlation'].append(correlation)\n",
    "    \n",
    "    previous_row+= 1\n",
    "\n",
    "    \n",
    "    "
   ]
  },
  {
   "cell_type": "code",
   "execution_count": 443,
   "metadata": {},
   "outputs": [
    {
     "data": {
      "text/html": [
       "<div>\n",
       "<style scoped>\n",
       "    .dataframe tbody tr th:only-of-type {\n",
       "        vertical-align: middle;\n",
       "    }\n",
       "\n",
       "    .dataframe tbody tr th {\n",
       "        vertical-align: top;\n",
       "    }\n",
       "\n",
       "    .dataframe thead th {\n",
       "        text-align: right;\n",
       "    }\n",
       "</style>\n",
       "<table border=\"1\" class=\"dataframe\">\n",
       "  <thead>\n",
       "    <tr style=\"text-align: right;\">\n",
       "      <th></th>\n",
       "      <th>correlation</th>\n",
       "    </tr>\n",
       "    <tr>\n",
       "      <th>date</th>\n",
       "      <th></th>\n",
       "    </tr>\n",
       "  </thead>\n",
       "  <tbody>\n",
       "    <tr>\n",
       "      <th>1985-07-01</th>\n",
       "      <td>0.908957</td>\n",
       "    </tr>\n",
       "    <tr>\n",
       "      <th>1985-07-02</th>\n",
       "      <td>0.908344</td>\n",
       "    </tr>\n",
       "    <tr>\n",
       "      <th>1985-07-03</th>\n",
       "      <td>0.908069</td>\n",
       "    </tr>\n",
       "    <tr>\n",
       "      <th>1985-07-05</th>\n",
       "      <td>0.907743</td>\n",
       "    </tr>\n",
       "    <tr>\n",
       "      <th>1985-07-08</th>\n",
       "      <td>0.907586</td>\n",
       "    </tr>\n",
       "    <tr>\n",
       "      <th>...</th>\n",
       "      <td>...</td>\n",
       "    </tr>\n",
       "    <tr>\n",
       "      <th>2020-04-13</th>\n",
       "      <td>0.936544</td>\n",
       "    </tr>\n",
       "    <tr>\n",
       "      <th>2020-04-14</th>\n",
       "      <td>0.965812</td>\n",
       "    </tr>\n",
       "    <tr>\n",
       "      <th>2020-04-15</th>\n",
       "      <td>0.970104</td>\n",
       "    </tr>\n",
       "    <tr>\n",
       "      <th>2020-04-16</th>\n",
       "      <td>1.000000</td>\n",
       "    </tr>\n",
       "    <tr>\n",
       "      <th>2020-04-17</th>\n",
       "      <td>NaN</td>\n",
       "    </tr>\n",
       "  </tbody>\n",
       "</table>\n",
       "<p>8770 rows × 1 columns</p>\n",
       "</div>"
      ],
      "text/plain": [
       "            correlation\n",
       "date                   \n",
       "1985-07-01     0.908957\n",
       "1985-07-02     0.908344\n",
       "1985-07-03     0.908069\n",
       "1985-07-05     0.907743\n",
       "1985-07-08     0.907586\n",
       "...                 ...\n",
       "2020-04-13     0.936544\n",
       "2020-04-14     0.965812\n",
       "2020-04-15     0.970104\n",
       "2020-04-16     1.000000\n",
       "2020-04-17          NaN\n",
       "\n",
       "[8770 rows x 1 columns]"
      ]
     },
     "execution_count": 443,
     "metadata": {},
     "output_type": "execute_result"
    }
   ],
   "source": [
    "correlation_df = pd.DataFrame(correlation_per_time_period)\n",
    "correlation_df.set_index('date')"
   ]
  },
  {
   "cell_type": "code",
   "execution_count": 444,
   "metadata": {},
   "outputs": [
    {
     "name": "stdout",
     "output_type": "stream",
     "text": [
      "<class 'pandas.core.frame.DataFrame'>\n",
      "RangeIndex: 8770 entries, 0 to 8769\n",
      "Data columns (total 2 columns):\n",
      " #   Column       Non-Null Count  Dtype  \n",
      "---  ------       --------------  -----  \n",
      " 0   date         8770 non-null   object \n",
      " 1   correlation  8769 non-null   float64\n",
      "dtypes: float64(1), object(1)\n",
      "memory usage: 137.2+ KB\n"
     ]
    }
   ],
   "source": [
    "correlation_df.info()"
   ]
  },
  {
   "cell_type": "code",
   "execution_count": 445,
   "metadata": {},
   "outputs": [
    {
     "data": {
      "text/plain": [
       "<matplotlib.axes._subplots.AxesSubplot at 0x13938fda0>"
      ]
     },
     "execution_count": 445,
     "metadata": {},
     "output_type": "execute_result"
    },
    {
     "data": {
      "image/png": "[encoded data removed]",
      "text/plain": [
       "<Figure size 2160x360 with 1 Axes>"
      ]
     },
     "metadata": {
      "needs_background": "light"
     },
     "output_type": "display_data"
    }
   ],
   "source": [
    "correlation_df.set_index('date').plot(figsize=(30,5), title='Rolling 365-day correlation between ph and emr')"
   ]
  },
  {
   "cell_type": "code",
   "execution_count": 446,
   "metadata": {},
   "outputs": [
    {
     "data": {
      "text/plain": [
       "'2020-04-17'"
      ]
     },
     "execution_count": 446,
     "metadata": {},
     "output_type": "execute_result"
    }
   ],
   "source": [
    "correlation_df.date.max()"
   ]
  },
  {
   "cell_type": "code",
   "execution_count": 447,
   "metadata": {},
   "outputs": [
    {
     "data": {
      "text/html": [
       "<div>\n",
       "<style scoped>\n",
       "    .dataframe tbody tr th:only-of-type {\n",
       "        vertical-align: middle;\n",
       "    }\n",
       "\n",
       "    .dataframe tbody tr th {\n",
       "        vertical-align: top;\n",
       "    }\n",
       "\n",
       "    .dataframe thead th {\n",
       "        text-align: right;\n",
       "    }\n",
       "</style>\n",
       "<table border=\"1\" class=\"dataframe\">\n",
       "  <thead>\n",
       "    <tr style=\"text-align: right;\">\n",
       "      <th></th>\n",
       "      <th>correlation</th>\n",
       "    </tr>\n",
       "  </thead>\n",
       "  <tbody>\n",
       "    <tr>\n",
       "      <th>0</th>\n",
       "      <td>NaN</td>\n",
       "    </tr>\n",
       "    <tr>\n",
       "      <th>1</th>\n",
       "      <td>NaN</td>\n",
       "    </tr>\n",
       "    <tr>\n",
       "      <th>2</th>\n",
       "      <td>NaN</td>\n",
       "    </tr>\n",
       "    <tr>\n",
       "      <th>3</th>\n",
       "      <td>NaN</td>\n",
       "    </tr>\n",
       "    <tr>\n",
       "      <th>4</th>\n",
       "      <td>NaN</td>\n",
       "    </tr>\n",
       "    <tr>\n",
       "      <th>...</th>\n",
       "      <td>...</td>\n",
       "    </tr>\n",
       "    <tr>\n",
       "      <th>8765</th>\n",
       "      <td>6.469109</td>\n",
       "    </tr>\n",
       "    <tr>\n",
       "      <th>8766</th>\n",
       "      <td>6.508580</td>\n",
       "    </tr>\n",
       "    <tr>\n",
       "      <th>8767</th>\n",
       "      <td>6.539512</td>\n",
       "    </tr>\n",
       "    <tr>\n",
       "      <th>8768</th>\n",
       "      <td>6.653166</td>\n",
       "    </tr>\n",
       "    <tr>\n",
       "      <th>8769</th>\n",
       "      <td>NaN</td>\n",
       "    </tr>\n",
       "  </tbody>\n",
       "</table>\n",
       "<p>8770 rows × 1 columns</p>\n",
       "</div>"
      ],
      "text/plain": [
       "      correlation\n",
       "0             NaN\n",
       "1             NaN\n",
       "2             NaN\n",
       "3             NaN\n",
       "4             NaN\n",
       "...           ...\n",
       "8765     6.469109\n",
       "8766     6.508580\n",
       "8767     6.539512\n",
       "8768     6.653166\n",
       "8769          NaN\n",
       "\n",
       "[8770 rows x 1 columns]"
      ]
     },
     "execution_count": 447,
     "metadata": {},
     "output_type": "execute_result"
    }
   ],
   "source": [
    "correlation_df.rolling(7).sum()"
   ]
  },
  {
   "cell_type": "code",
   "execution_count": 448,
   "metadata": {},
   "outputs": [
    {
     "data": {
      "text/html": [
       "<div>\n",
       "<style scoped>\n",
       "    .dataframe tbody tr th:only-of-type {\n",
       "        vertical-align: middle;\n",
       "    }\n",
       "\n",
       "    .dataframe tbody tr th {\n",
       "        vertical-align: top;\n",
       "    }\n",
       "\n",
       "    .dataframe thead th {\n",
       "        text-align: right;\n",
       "    }\n",
       "</style>\n",
       "<table border=\"1\" class=\"dataframe\">\n",
       "  <thead>\n",
       "    <tr style=\"text-align: right;\">\n",
       "      <th></th>\n",
       "      <th>date</th>\n",
       "      <th>correlation</th>\n",
       "    </tr>\n",
       "  </thead>\n",
       "  <tbody>\n",
       "    <tr>\n",
       "      <th>0</th>\n",
       "      <td>1985-07-01</td>\n",
       "      <td>0.908957</td>\n",
       "    </tr>\n",
       "    <tr>\n",
       "      <th>1</th>\n",
       "      <td>1985-07-02</td>\n",
       "      <td>0.908344</td>\n",
       "    </tr>\n",
       "    <tr>\n",
       "      <th>2</th>\n",
       "      <td>1985-07-03</td>\n",
       "      <td>0.908069</td>\n",
       "    </tr>\n",
       "    <tr>\n",
       "      <th>3</th>\n",
       "      <td>1985-07-05</td>\n",
       "      <td>0.907743</td>\n",
       "    </tr>\n",
       "    <tr>\n",
       "      <th>4</th>\n",
       "      <td>1985-07-08</td>\n",
       "      <td>0.907586</td>\n",
       "    </tr>\n",
       "    <tr>\n",
       "      <th>...</th>\n",
       "      <td>...</td>\n",
       "      <td>...</td>\n",
       "    </tr>\n",
       "    <tr>\n",
       "      <th>8765</th>\n",
       "      <td>2020-04-13</td>\n",
       "      <td>0.936544</td>\n",
       "    </tr>\n",
       "    <tr>\n",
       "      <th>8766</th>\n",
       "      <td>2020-04-14</td>\n",
       "      <td>0.965812</td>\n",
       "    </tr>\n",
       "    <tr>\n",
       "      <th>8767</th>\n",
       "      <td>2020-04-15</td>\n",
       "      <td>0.970104</td>\n",
       "    </tr>\n",
       "    <tr>\n",
       "      <th>8768</th>\n",
       "      <td>2020-04-16</td>\n",
       "      <td>1.000000</td>\n",
       "    </tr>\n",
       "    <tr>\n",
       "      <th>8769</th>\n",
       "      <td>2020-04-17</td>\n",
       "      <td>NaN</td>\n",
       "    </tr>\n",
       "  </tbody>\n",
       "</table>\n",
       "<p>8770 rows × 2 columns</p>\n",
       "</div>"
      ],
      "text/plain": [
       "            date  correlation\n",
       "0     1985-07-01     0.908957\n",
       "1     1985-07-02     0.908344\n",
       "2     1985-07-03     0.908069\n",
       "3     1985-07-05     0.907743\n",
       "4     1985-07-08     0.907586\n",
       "...          ...          ...\n",
       "8765  2020-04-13     0.936544\n",
       "8766  2020-04-14     0.965812\n",
       "8767  2020-04-15     0.970104\n",
       "8768  2020-04-16     1.000000\n",
       "8769  2020-04-17          NaN\n",
       "\n",
       "[8770 rows x 2 columns]"
      ]
     },
     "execution_count": 448,
     "metadata": {},
     "output_type": "execute_result"
    }
   ],
   "source": [
    "correlation_df"
   ]
  },
  {
   "cell_type": "markdown",
   "metadata": {},
   "source": [
    "## Build a function to create correlation features for all pairs of stocks"
   ]
  },
  {
   "cell_type": "code",
   "execution_count": 556,
   "metadata": {},
   "outputs": [],
   "source": [
    "def build_correlation_dfs(dict_of_stocks_and_dfs, n_day_rolling_features_list=[ 3, 7, 30, 180, 365, 720]):\n",
    "    \"\"\"\n",
    "    Create correlation + variance based  upon daily closing stock prices for given date ranges 3, 7, 30, 180, 365 days\n",
    "    \n",
    "    also include daily volume\n",
    "    \n",
    "    We are trying to  predict 7 day correaltion\n",
    "    \"\"\"\n",
    "\n",
    "    stock_features_dict = defaultdict(pd.DataFrame)\n",
    "    start_time = time.time()\n",
    "    \n",
    "    start = time.time()\n",
    "    n_stocks = len(dict_of_stocks_and_dfs.keys())\n",
    "    final_feature_df = create_date_dummy_df()\n",
    "    pairs_of_stocks = []\n",
    "    \n",
    "    for idx, first_stock_name in enumerate(dict_of_stocks_and_dfs.keys()):\n",
    "        print('')\n",
    "        print(f\"Finished {idx/n_stocks} pct of stocks\")\n",
    "        print('')\n",
    "        for second_idx, second_stock_name in enumerate(dict_of_stocks_and_dfs.keys()):\n",
    "            if first_stock_name == second_stock_name:\n",
    "                continue\n",
    "            pairs_of_stocks.append(f\"{first_stock_name}_{second_stock_name}\")\n",
    "            print('-------')\n",
    "            print(f\"{first_stock_name} & {second_stock_name}\")\n",
    "            print('-------')\n",
    "            \n",
    "            # here the date is not the index, yet\n",
    "            first_stock_df = dict_of_stocks_and_dfs[f\"{first_stock_name}\"].loc[ \n",
    "                dict_of_stocks_and_dfs[f\"{first_stock_name}\"].date.isin(dict_of_stocks_and_dfs[f\"{second_stock_name}\"].date), :]\n",
    "#             first_stock_df.date = pd.to_datetime(first_stock_df)\n",
    "            #  filter second df by the dates in first\n",
    "\n",
    "            # here the date is not the index, yet\n",
    "            second_stock_df = dict_of_stocks_and_dfs[f\"{second_stock_name}\"].loc[ \n",
    "                dict_of_stocks_and_dfs[f\"{second_stock_name}\"].date.isin(dict_of_stocks_and_dfs[f\"{first_stock_name}\"].date), :]\n",
    "#             second_stock_df.date = pd.to_datetime(second_stock_df)\n",
    "\n",
    "            # set the date as an index and sort by date\n",
    "            first_stock_df = first_stock_df.sort_values('date')\n",
    "            second_stock_df = second_stock_df.sort_values('date')\n",
    "\n",
    "            first_stock_df = first_stock_df.set_index('date')\n",
    "            second_stock_df = second_stock_df.set_index('date')\n",
    "            \n",
    "            all_features_df = pd.DataFrame()\n",
    "            for rolling_idx, rolling_day in enumerate(n_day_rolling_features_list):\n",
    "                print('rolling_idx', rolling_idx)\n",
    "                features_df = create_correlation_and_variance_features(\n",
    "                    first_stock_df, second_stock_df, rolling_day, first_stock_name=first_stock_name, second_stock_name=second_stock_name)\n",
    "                 \n",
    "#                 if rolling_idx == 0: # only add in volume features once\n",
    "#                 if f\"{first_stock_name}_volume\" in    \n",
    "\n",
    "                if (f\"{first_stock_name}_volume\" not in features_df.columns) and (rolling_idx == 0):\n",
    "                    print('adding first stock volume')\n",
    "                    features_df[f\"{first_stock_name}_volume\"] = list(first_stock_df.volume)\n",
    "                \n",
    "                if (f\"{second_stock_name}_volume\" not in features_df.columns) and (rolling_idx == 0):\n",
    "                    print('adding second stock volume')\n",
    "                    features_df[f\"{second_stock_name}_volume\"] = list(second_stock_df.volume)\n",
    "                    \n",
    "                if rolling_idx == 0: \n",
    "                    print('features_df', features_df.head())\n",
    "                    print('rolling idx == 0')\n",
    "                    all_features_df = features_df\n",
    "                else:\n",
    "                    print(all_features_df.info(), 'alal features')\n",
    "                    print(features_df.info(), 'features_df df')\n",
    "                    all_features_df = all_features_df.join(features_df, on='date', lsuffix='_left')\n",
    "                    \n",
    "            all_features_df.index = pd.to_datetime(all_features_df.index)\n",
    "            final_feature_df = final_feature_df.join(all_features_df, on='date')\n",
    "            print('all_features_df', all_features_df.head())\n",
    "\n",
    "#                     final_df.join(all_features_df)\n",
    "        \n",
    "#             stock_features_dict[f\"{first_stock_name}_and_{second_stock_name}\"] = all_features_df\n",
    "            \n",
    "            end = time.time()\n",
    "            print(f\"Building all features took {(end-start)/60} minutes\")\n",
    "            start = time.time()\n",
    "            break\n",
    "        \n",
    "        break\n",
    "\n",
    "    end_time = time.time()\n",
    "    print(f\"Total time {(end_time-start_time) / 60} minutes\")\n",
    "    return final_feature_df, pairs_of_stocks\n",
    "            \n",
    "        \n",
    "\n",
    "# Note: will eventuall need to add in 0s for stocks withour correlation data with other stocks due to date range"
   ]
  },
  {
   "cell_type": "code",
   "execution_count": 557,
   "metadata": {},
   "outputs": [],
   "source": [
    "def create_date_dummy_df(start_date=datetime.datetime(1980,1,1), n_years=55):\n",
    "    \n",
    "    #  create dummy df with dates to join against\n",
    "    list_of_dates  = []\n",
    "    n_days = 365*n_years\n",
    "    start_date = datetime.datetime(1970,1,1)\n",
    "\n",
    "    for i in range(n_days):\n",
    "        list_of_dates.append(start_date + datetime.timedelta(i))\n",
    "    df_ = pd.DataFrame(list_of_dates, columns=['date'])\n",
    "    \n",
    "    df_.date_ =  pd.to_datetime(df_.date)\n",
    "    return df_.set_index('date')\n",
    "    "
   ]
  },
  {
   "cell_type": "code",
   "execution_count": 558,
   "metadata": {},
   "outputs": [],
   "source": [
    "def create_correlation_and_variance_features(first_stock_df, second_stock_df, n_days_stride, \n",
    "                                             first_stock_name=None, second_stock_name=None):\n",
    "    \"\"\"\n",
    "    n_days_stride: the  number of rolling days to calculate correlation for\n",
    "    \"\"\"\n",
    "    n_rows = len(first_stock_df)\n",
    "\n",
    "    previous_row = 0\n",
    "\n",
    "    features_per_time_period = defaultdict(list)\n",
    "    print(f\"Creating correlations + variance on close for {n_days_stride} days\")\n",
    "    \n",
    "    rolling_close_correlation = first_stock_df.close.rolling(\n",
    "        n_days_stride).corr(second_stock_df.close).rename({'close': f\"{first_stock_name}_{second_stock_name}_corr_rolling_{n_days_stride}_days\"},axis=1)\n",
    "    \n",
    "    rolling_close_std_first_stock_df =  pd.DataFrame(first_stock_df.close.rolling(\n",
    "        n_days_stride).std()).rename({'volume': f\"{first_stock_name}_close_var_rolling_{n_days_stride}_days\", axis=1}))\n",
    "    \n",
    "    rolling_close_std_second_stock_df =  pd.DataFrame(second_stock_df.close.rolling(\n",
    "        n_days_stride).std().rename({'volume': f\"{second_stock_name}_close_var_rolling_{n_days_stride}_days\", axis=1}))\n",
    "    \n",
    "    return pd.DataFrame(rolling_correlation).fillna(method='backfill').rename({'close': \n",
    "                                                                               f\"{first_stock_name}_{second_stock_name}_corr_rolling_{n_days_stride}_days\"},axis=1)\n",
    "\n",
    "# pd.DataFrame(first_stock_df.close.rolling(7).corr(second_stock_df.close)).fillna(method='backfill').rename({'close': 'rolling_corr'},axis=1)\n",
    "    \n",
    "    \n",
    "#     for day_window in tqdm(range(n_rows)):\n",
    "\n",
    "\n",
    "#         first_stock= first_stock_df.iloc[previous_row:day_window + n_days_stride, :]\n",
    "\n",
    "#         second_stock = second_stock_df.iloc[previous_row:day_window + n_days_stride, :]\n",
    "        \n",
    "#         try:\n",
    "#             correlation = np.corrcoef(first_stock.close, second_stock.close)[0,1]\n",
    "#         except Exception as e:\n",
    "#             print(f\" ERROR: {e}\")\n",
    "\n",
    "#         features_per_time_period['date'].append(first_stock.index.min())\n",
    "\n",
    "#         features_per_time_period[f\"{first_stock_name}_{second_stock_name}_corr_rolling_{n_days_stride}_days\"].append(correlation)\n",
    "#         # CODE TO ADD IN VARIANCE\n",
    "# #         first_stock_var = np.var(first_stock.close)\n",
    "# #         second_stock_var = np.var(second_stock.close)\n",
    "        \n",
    "# #         features_per_time_period[f\"{first_stock_name}_close_var_rolling_{n_days_stride}_days\"].append(first_stock_var)\n",
    "# #         features_per_time_period[f\"{second_stock_name}_close_var_rolling_{n_days_stride}_days\"].append(second_stock_var)\n",
    "    \n",
    "        \n",
    "#         previous_row+= 1 # calculate snapshots every day...7/1-7/7, 7/2-7/8, ...etc\n",
    "    \n",
    "#     print('Finished feature calculation')\n",
    "#     features_per_time_period_df = pd.DataFrame(features_per_time_period)\n",
    "#     features_per_time_period_df.set_index('date')\n",
    "    \n",
    "#     return features_per_time_period_df\n"
   ]
  },
  {
   "cell_type": "code",
   "execution_count": 559,
   "metadata": {},
   "outputs": [
    {
     "name": "stdout",
     "output_type": "stream",
     "text": [
      "\n",
      "Finished 0.0 pct of stocks\n",
      "\n",
      "-------\n",
      "pnr & bac\n",
      "-------\n",
      "rolling_idx 0\n",
      "Creating correlations + variance on close for 3 days\n",
      "adding first stock volume\n",
      "adding second stock volume\n",
      "features_df             pnr_bac_corr_rolling_3_days  pnr_volume  bac_volume\n",
      "date                                                           \n",
      "2005-02-25                    -0.978919      425379     8656470\n",
      "2005-02-28                    -0.978919      489224    10653157\n",
      "2005-03-01                    -0.978919      479025    11230182\n",
      "2005-03-02                    -0.985118      458965    10294635\n",
      "2005-03-03                    -0.998760      589176     9655981\n",
      "rolling idx == 0\n",
      "rolling_idx 1\n",
      "Creating correlations + variance on close for 7 days\n",
      "<class 'pandas.core.frame.DataFrame'>\n",
      "Index: 3811 entries, 2005-02-25 to 2020-04-17\n",
      "Data columns (total 3 columns):\n",
      " #   Column                       Non-Null Count  Dtype  \n",
      "---  ------                       --------------  -----  \n",
      " 0   pnr_bac_corr_rolling_3_days  3811 non-null   float64\n",
      " 1   pnr_volume                   3811 non-null   int64  \n",
      " 2   bac_volume                   3811 non-null   int64  \n",
      "dtypes: float64(1), int64(2)\n",
      "memory usage: 119.1+ KB\n",
      "None alal features\n",
      "<class 'pandas.core.frame.DataFrame'>\n",
      "Index: 3811 entries, 2005-02-25 to 2020-04-17\n",
      "Data columns (total 1 columns):\n",
      " #   Column                       Non-Null Count  Dtype  \n",
      "---  ------                       --------------  -----  \n",
      " 0   pnr_bac_corr_rolling_7_days  3811 non-null   float64\n",
      "dtypes: float64(1)\n",
      "memory usage: 59.5+ KB\n",
      "None features_df df\n",
      "rolling_idx 2\n",
      "Creating correlations + variance on close for 30 days\n",
      "<class 'pandas.core.frame.DataFrame'>\n",
      "Index: 3811 entries, 2005-02-25 to 2020-04-17\n",
      "Data columns (total 4 columns):\n",
      " #   Column                       Non-Null Count  Dtype  \n",
      "---  ------                       --------------  -----  \n",
      " 0   pnr_bac_corr_rolling_3_days  3811 non-null   float64\n",
      " 1   pnr_volume                   3811 non-null   int64  \n",
      " 2   bac_volume                   3811 non-null   int64  \n",
      " 3   pnr_bac_corr_rolling_7_days  3811 non-null   float64\n",
      "dtypes: float64(2), int64(2)\n",
      "memory usage: 148.9+ KB\n",
      "None alal features\n",
      "<class 'pandas.core.frame.DataFrame'>\n",
      "Index: 3811 entries, 2005-02-25 to 2020-04-17\n",
      "Data columns (total 1 columns):\n",
      " #   Column                        Non-Null Count  Dtype  \n",
      "---  ------                        --------------  -----  \n",
      " 0   pnr_bac_corr_rolling_30_days  3811 non-null   float64\n",
      "dtypes: float64(1)\n",
      "memory usage: 59.5+ KB\n",
      "None features_df df\n",
      "rolling_idx 3\n",
      "Creating correlations + variance on close for 180 days\n",
      "<class 'pandas.core.frame.DataFrame'>\n",
      "Index: 3811 entries, 2005-02-25 to 2020-04-17\n",
      "Data columns (total 5 columns):\n",
      " #   Column                        Non-Null Count  Dtype  \n",
      "---  ------                        --------------  -----  \n",
      " 0   pnr_bac_corr_rolling_3_days   3811 non-null   float64\n",
      " 1   pnr_volume                    3811 non-null   int64  \n",
      " 2   bac_volume                    3811 non-null   int64  \n",
      " 3   pnr_bac_corr_rolling_7_days   3811 non-null   float64\n",
      " 4   pnr_bac_corr_rolling_30_days  3811 non-null   float64\n",
      "dtypes: float64(3), int64(2)\n",
      "memory usage: 178.6+ KB\n",
      "None alal features\n",
      "<class 'pandas.core.frame.DataFrame'>\n",
      "Index: 3811 entries, 2005-02-25 to 2020-04-17\n",
      "Data columns (total 1 columns):\n",
      " #   Column                         Non-Null Count  Dtype  \n",
      "---  ------                         --------------  -----  \n",
      " 0   pnr_bac_corr_rolling_180_days  3811 non-null   float64\n",
      "dtypes: float64(1)\n",
      "memory usage: 59.5+ KB\n",
      "None features_df df\n",
      "rolling_idx 4\n",
      "Creating correlations + variance on close for 365 days\n",
      "<class 'pandas.core.frame.DataFrame'>\n",
      "Index: 3811 entries, 2005-02-25 to 2020-04-17\n",
      "Data columns (total 6 columns):\n",
      " #   Column                         Non-Null Count  Dtype  \n",
      "---  ------                         --------------  -----  \n",
      " 0   pnr_bac_corr_rolling_3_days    3811 non-null   float64\n",
      " 1   pnr_volume                     3811 non-null   int64  \n",
      " 2   bac_volume                     3811 non-null   int64  \n",
      " 3   pnr_bac_corr_rolling_7_days    3811 non-null   float64\n",
      " 4   pnr_bac_corr_rolling_30_days   3811 non-null   float64\n",
      " 5   pnr_bac_corr_rolling_180_days  3811 non-null   float64\n",
      "dtypes: float64(4), int64(2)\n",
      "memory usage: 208.4+ KB\n",
      "None alal features\n",
      "<class 'pandas.core.frame.DataFrame'>\n",
      "Index: 3811 entries, 2005-02-25 to 2020-04-17\n",
      "Data columns (total 1 columns):\n",
      " #   Column                         Non-Null Count  Dtype  \n",
      "---  ------                         --------------  -----  \n",
      " 0   pnr_bac_corr_rolling_365_days  3811 non-null   float64\n",
      "dtypes: float64(1)\n",
      "memory usage: 59.5+ KB\n",
      "None features_df df\n",
      "rolling_idx 5\n",
      "Creating correlations + variance on close for 720 days\n",
      "<class 'pandas.core.frame.DataFrame'>\n",
      "Index: 3811 entries, 2005-02-25 to 2020-04-17\n",
      "Data columns (total 7 columns):\n",
      " #   Column                         Non-Null Count  Dtype  \n",
      "---  ------                         --------------  -----  \n",
      " 0   pnr_bac_corr_rolling_3_days    3811 non-null   float64\n",
      " 1   pnr_volume                     3811 non-null   int64  \n",
      " 2   bac_volume                     3811 non-null   int64  \n",
      " 3   pnr_bac_corr_rolling_7_days    3811 non-null   float64\n",
      " 4   pnr_bac_corr_rolling_30_days   3811 non-null   float64\n",
      " 5   pnr_bac_corr_rolling_180_days  3811 non-null   float64\n",
      " 6   pnr_bac_corr_rolling_365_days  3811 non-null   float64\n",
      "dtypes: float64(5), int64(2)\n",
      "memory usage: 238.2+ KB\n",
      "None alal features\n",
      "<class 'pandas.core.frame.DataFrame'>\n",
      "Index: 3811 entries, 2005-02-25 to 2020-04-17\n",
      "Data columns (total 1 columns):\n",
      " #   Column                         Non-Null Count  Dtype  \n",
      "---  ------                         --------------  -----  \n",
      " 0   pnr_bac_corr_rolling_720_days  3811 non-null   float64\n",
      "dtypes: float64(1)\n",
      "memory usage: 59.5+ KB\n",
      "None features_df df\n",
      "all_features_df             pnr_bac_corr_rolling_3_days  pnr_volume  bac_volume  \\\n",
      "date                                                              \n",
      "2005-02-25                    -0.978919      425379     8656470   \n",
      "2005-02-28                    -0.978919      489224    10653157   \n",
      "2005-03-01                    -0.978919      479025    11230182   \n",
      "2005-03-02                    -0.985118      458965    10294635   \n",
      "2005-03-03                    -0.998760      589176     9655981   \n",
      "\n",
      "            pnr_bac_corr_rolling_7_days  pnr_bac_corr_rolling_30_days  \\\n",
      "date                                                                    \n",
      "2005-02-25                     -0.44973                      0.941902   \n",
      "2005-02-28                     -0.44973                      0.941902   \n",
      "2005-03-01                     -0.44973                      0.941902   \n",
      "2005-03-02                     -0.44973                      0.941902   \n",
      "2005-03-03                     -0.44973                      0.941902   \n",
      "\n",
      "            pnr_bac_corr_rolling_180_days  pnr_bac_corr_rolling_365_days  \\\n",
      "date                                                                       \n",
      "2005-02-25                        0.75849                      -0.298009   \n",
      "2005-02-28                        0.75849                      -0.298009   \n",
      "2005-03-01                        0.75849                      -0.298009   \n",
      "2005-03-02                        0.75849                      -0.298009   \n",
      "2005-03-03                        0.75849                      -0.298009   \n",
      "\n",
      "            pnr_bac_corr_rolling_720_days  \n",
      "date                                       \n",
      "2005-02-25                      -0.619574  \n",
      "2005-02-28                      -0.619574  \n",
      "2005-03-01                      -0.619574  \n",
      "2005-03-02                      -0.619574  \n",
      "2005-03-03                      -0.619574  \n",
      "Building all features took 0.0027450799942016603 minutes\n",
      "Total time 0.002745350201924642 minutes\n"
     ]
    },
    {
     "name": "stderr",
     "output_type": "stream",
     "text": [
      "/Users/jonathanhilgart/Library/Caches/pypoetry/virtualenvs/daily-trading-nJ43NNNI-py3.7/lib/python3.7/site-packages/ipykernel_launcher.py:12: UserWarning: Pandas doesn't allow columns to be created via a new attribute name - see https://pandas.pydata.org/pandas-docs/stable/indexing.html#attribute-access\n",
      "  if sys.path[0] == '':\n"
     ]
    }
   ],
   "source": [
    "# 100 minutes for 20 stocks (20*20 = 400 pairs each pair takes .25 minutes)\n",
    "final_stock_df, pairs_of_stocks = build_correlation_dfs(dict_of_stocks_and_dfs)"
   ]
  },
  {
   "cell_type": "code",
   "execution_count": 560,
   "metadata": {},
   "outputs": [
    {
     "data": {
      "text/plain": [
       "['pnr_bac']"
      ]
     },
     "execution_count": 560,
     "metadata": {},
     "output_type": "execute_result"
    }
   ],
   "source": [
    "pairs_of_stocks"
   ]
  },
  {
   "cell_type": "code",
   "execution_count": 561,
   "metadata": {},
   "outputs": [
    {
     "data": {
      "text/html": [
       "<div>\n",
       "<style scoped>\n",
       "    .dataframe tbody tr th:only-of-type {\n",
       "        vertical-align: middle;\n",
       "    }\n",
       "\n",
       "    .dataframe tbody tr th {\n",
       "        vertical-align: top;\n",
       "    }\n",
       "\n",
       "    .dataframe thead th {\n",
       "        text-align: right;\n",
       "    }\n",
       "</style>\n",
       "<table border=\"1\" class=\"dataframe\">\n",
       "  <thead>\n",
       "    <tr style=\"text-align: right;\">\n",
       "      <th></th>\n",
       "      <th>pnr_bac_corr_rolling_3_days</th>\n",
       "      <th>pnr_volume</th>\n",
       "      <th>bac_volume</th>\n",
       "      <th>pnr_bac_corr_rolling_7_days</th>\n",
       "      <th>pnr_bac_corr_rolling_30_days</th>\n",
       "      <th>pnr_bac_corr_rolling_180_days</th>\n",
       "      <th>pnr_bac_corr_rolling_365_days</th>\n",
       "      <th>pnr_bac_corr_rolling_720_days</th>\n",
       "    </tr>\n",
       "    <tr>\n",
       "      <th>date</th>\n",
       "      <th></th>\n",
       "      <th></th>\n",
       "      <th></th>\n",
       "      <th></th>\n",
       "      <th></th>\n",
       "      <th></th>\n",
       "      <th></th>\n",
       "      <th></th>\n",
       "    </tr>\n",
       "  </thead>\n",
       "  <tbody>\n",
       "    <tr>\n",
       "      <th>2005-02-25</th>\n",
       "      <td>-0.978919</td>\n",
       "      <td>425379.0</td>\n",
       "      <td>8656470.0</td>\n",
       "      <td>-0.449730</td>\n",
       "      <td>0.941902</td>\n",
       "      <td>0.758490</td>\n",
       "      <td>-0.298009</td>\n",
       "      <td>-0.619574</td>\n",
       "    </tr>\n",
       "    <tr>\n",
       "      <th>2005-02-28</th>\n",
       "      <td>-0.978919</td>\n",
       "      <td>489224.0</td>\n",
       "      <td>10653157.0</td>\n",
       "      <td>-0.449730</td>\n",
       "      <td>0.941902</td>\n",
       "      <td>0.758490</td>\n",
       "      <td>-0.298009</td>\n",
       "      <td>-0.619574</td>\n",
       "    </tr>\n",
       "    <tr>\n",
       "      <th>2005-03-01</th>\n",
       "      <td>-0.978919</td>\n",
       "      <td>479025.0</td>\n",
       "      <td>11230182.0</td>\n",
       "      <td>-0.449730</td>\n",
       "      <td>0.941902</td>\n",
       "      <td>0.758490</td>\n",
       "      <td>-0.298009</td>\n",
       "      <td>-0.619574</td>\n",
       "    </tr>\n",
       "    <tr>\n",
       "      <th>2005-03-02</th>\n",
       "      <td>-0.985118</td>\n",
       "      <td>458965.0</td>\n",
       "      <td>10294635.0</td>\n",
       "      <td>-0.449730</td>\n",
       "      <td>0.941902</td>\n",
       "      <td>0.758490</td>\n",
       "      <td>-0.298009</td>\n",
       "      <td>-0.619574</td>\n",
       "    </tr>\n",
       "    <tr>\n",
       "      <th>2005-03-03</th>\n",
       "      <td>-0.998760</td>\n",
       "      <td>589176.0</td>\n",
       "      <td>9655981.0</td>\n",
       "      <td>-0.449730</td>\n",
       "      <td>0.941902</td>\n",
       "      <td>0.758490</td>\n",
       "      <td>-0.298009</td>\n",
       "      <td>-0.619574</td>\n",
       "    </tr>\n",
       "    <tr>\n",
       "      <th>...</th>\n",
       "      <td>...</td>\n",
       "      <td>...</td>\n",
       "      <td>...</td>\n",
       "      <td>...</td>\n",
       "      <td>...</td>\n",
       "      <td>...</td>\n",
       "      <td>...</td>\n",
       "      <td>...</td>\n",
       "    </tr>\n",
       "    <tr>\n",
       "      <th>2020-04-13</th>\n",
       "      <td>0.285322</td>\n",
       "      <td>806105.0</td>\n",
       "      <td>83164717.0</td>\n",
       "      <td>0.892585</td>\n",
       "      <td>0.873234</td>\n",
       "      <td>0.960213</td>\n",
       "      <td>0.792963</td>\n",
       "      <td>-0.039926</td>\n",
       "    </tr>\n",
       "    <tr>\n",
       "      <th>2020-04-14</th>\n",
       "      <td>0.744225</td>\n",
       "      <td>1355716.0</td>\n",
       "      <td>88991066.0</td>\n",
       "      <td>0.905635</td>\n",
       "      <td>0.855684</td>\n",
       "      <td>0.960794</td>\n",
       "      <td>0.794806</td>\n",
       "      <td>-0.033659</td>\n",
       "    </tr>\n",
       "    <tr>\n",
       "      <th>2020-04-15</th>\n",
       "      <td>0.669138</td>\n",
       "      <td>2278293.0</td>\n",
       "      <td>99082222.0</td>\n",
       "      <td>0.834242</td>\n",
       "      <td>0.838961</td>\n",
       "      <td>0.961412</td>\n",
       "      <td>0.797634</td>\n",
       "      <td>-0.026395</td>\n",
       "    </tr>\n",
       "    <tr>\n",
       "      <th>2020-04-16</th>\n",
       "      <td>0.999157</td>\n",
       "      <td>1409030.0</td>\n",
       "      <td>89213331.0</td>\n",
       "      <td>0.854006</td>\n",
       "      <td>0.804045</td>\n",
       "      <td>0.962174</td>\n",
       "      <td>0.800641</td>\n",
       "      <td>-0.018563</td>\n",
       "    </tr>\n",
       "    <tr>\n",
       "      <th>2020-04-17</th>\n",
       "      <td>0.989084</td>\n",
       "      <td>1153740.0</td>\n",
       "      <td>92800270.0</td>\n",
       "      <td>0.848838</td>\n",
       "      <td>0.769041</td>\n",
       "      <td>0.962845</td>\n",
       "      <td>0.802918</td>\n",
       "      <td>-0.012371</td>\n",
       "    </tr>\n",
       "  </tbody>\n",
       "</table>\n",
       "<p>3811 rows × 8 columns</p>\n",
       "</div>"
      ],
      "text/plain": [
       "            pnr_bac_corr_rolling_3_days  pnr_volume  bac_volume  \\\n",
       "date                                                              \n",
       "2005-02-25                    -0.978919    425379.0   8656470.0   \n",
       "2005-02-28                    -0.978919    489224.0  10653157.0   \n",
       "2005-03-01                    -0.978919    479025.0  11230182.0   \n",
       "2005-03-02                    -0.985118    458965.0  10294635.0   \n",
       "2005-03-03                    -0.998760    589176.0   9655981.0   \n",
       "...                                 ...         ...         ...   \n",
       "2020-04-13                     0.285322    806105.0  83164717.0   \n",
       "2020-04-14                     0.744225   1355716.0  88991066.0   \n",
       "2020-04-15                     0.669138   2278293.0  99082222.0   \n",
       "2020-04-16                     0.999157   1409030.0  89213331.0   \n",
       "2020-04-17                     0.989084   1153740.0  92800270.0   \n",
       "\n",
       "            pnr_bac_corr_rolling_7_days  pnr_bac_corr_rolling_30_days  \\\n",
       "date                                                                    \n",
       "2005-02-25                    -0.449730                      0.941902   \n",
       "2005-02-28                    -0.449730                      0.941902   \n",
       "2005-03-01                    -0.449730                      0.941902   \n",
       "2005-03-02                    -0.449730                      0.941902   \n",
       "2005-03-03                    -0.449730                      0.941902   \n",
       "...                                 ...                           ...   \n",
       "2020-04-13                     0.892585                      0.873234   \n",
       "2020-04-14                     0.905635                      0.855684   \n",
       "2020-04-15                     0.834242                      0.838961   \n",
       "2020-04-16                     0.854006                      0.804045   \n",
       "2020-04-17                     0.848838                      0.769041   \n",
       "\n",
       "            pnr_bac_corr_rolling_180_days  pnr_bac_corr_rolling_365_days  \\\n",
       "date                                                                       \n",
       "2005-02-25                       0.758490                      -0.298009   \n",
       "2005-02-28                       0.758490                      -0.298009   \n",
       "2005-03-01                       0.758490                      -0.298009   \n",
       "2005-03-02                       0.758490                      -0.298009   \n",
       "2005-03-03                       0.758490                      -0.298009   \n",
       "...                                   ...                            ...   \n",
       "2020-04-13                       0.960213                       0.792963   \n",
       "2020-04-14                       0.960794                       0.794806   \n",
       "2020-04-15                       0.961412                       0.797634   \n",
       "2020-04-16                       0.962174                       0.800641   \n",
       "2020-04-17                       0.962845                       0.802918   \n",
       "\n",
       "            pnr_bac_corr_rolling_720_days  \n",
       "date                                       \n",
       "2005-02-25                      -0.619574  \n",
       "2005-02-28                      -0.619574  \n",
       "2005-03-01                      -0.619574  \n",
       "2005-03-02                      -0.619574  \n",
       "2005-03-03                      -0.619574  \n",
       "...                                   ...  \n",
       "2020-04-13                      -0.039926  \n",
       "2020-04-14                      -0.033659  \n",
       "2020-04-15                      -0.026395  \n",
       "2020-04-16                      -0.018563  \n",
       "2020-04-17                      -0.012371  \n",
       "\n",
       "[3811 rows x 8 columns]"
      ]
     },
     "execution_count": 561,
     "metadata": {},
     "output_type": "execute_result"
    }
   ],
   "source": [
    "final_stock_df.loc[~pd.isna(final_stock_df.pnr_volume), :]"
   ]
  },
  {
   "cell_type": "code",
   "execution_count": 515,
   "metadata": {},
   "outputs": [
    {
     "data": {
      "text/html": [
       "<div>\n",
       "<style scoped>\n",
       "    .dataframe tbody tr th:only-of-type {\n",
       "        vertical-align: middle;\n",
       "    }\n",
       "\n",
       "    .dataframe tbody tr th {\n",
       "        vertical-align: top;\n",
       "    }\n",
       "\n",
       "    .dataframe thead th {\n",
       "        text-align: right;\n",
       "    }\n",
       "</style>\n",
       "<table border=\"1\" class=\"dataframe\">\n",
       "  <thead>\n",
       "    <tr style=\"text-align: right;\">\n",
       "      <th></th>\n",
       "      <th>pnr_bac_corr_rolling_3_days</th>\n",
       "      <th>pnr_volume</th>\n",
       "      <th>bac_volume</th>\n",
       "      <th>pnr_bac_corr_rolling_7_days</th>\n",
       "      <th>pnr_bac_corr_rolling_30_days</th>\n",
       "      <th>pnr_bac_corr_rolling_180_days</th>\n",
       "      <th>pnr_bac_corr_rolling_365_days</th>\n",
       "      <th>pnr_bac_corr_rolling_720_days</th>\n",
       "    </tr>\n",
       "    <tr>\n",
       "      <th>date</th>\n",
       "      <th></th>\n",
       "      <th></th>\n",
       "      <th></th>\n",
       "      <th></th>\n",
       "      <th></th>\n",
       "      <th></th>\n",
       "      <th></th>\n",
       "      <th></th>\n",
       "    </tr>\n",
       "  </thead>\n",
       "  <tbody>\n",
       "    <tr>\n",
       "      <th>2005-02-25</th>\n",
       "      <td>-0.978919</td>\n",
       "      <td>425379.0</td>\n",
       "      <td>8656470.0</td>\n",
       "      <td>-0.449730</td>\n",
       "      <td>0.941902</td>\n",
       "      <td>0.758490</td>\n",
       "      <td>-0.298009</td>\n",
       "      <td>-0.619574</td>\n",
       "    </tr>\n",
       "    <tr>\n",
       "      <th>2005-02-28</th>\n",
       "      <td>-0.985118</td>\n",
       "      <td>489224.0</td>\n",
       "      <td>10653157.0</td>\n",
       "      <td>-0.366235</td>\n",
       "      <td>0.944691</td>\n",
       "      <td>0.750536</td>\n",
       "      <td>-0.312585</td>\n",
       "      <td>-0.615585</td>\n",
       "    </tr>\n",
       "    <tr>\n",
       "      <th>2005-03-01</th>\n",
       "      <td>-0.998760</td>\n",
       "      <td>479025.0</td>\n",
       "      <td>11230182.0</td>\n",
       "      <td>0.067429</td>\n",
       "      <td>0.942435</td>\n",
       "      <td>0.742085</td>\n",
       "      <td>-0.326191</td>\n",
       "      <td>-0.608959</td>\n",
       "    </tr>\n",
       "    <tr>\n",
       "      <th>2005-03-02</th>\n",
       "      <td>0.704533</td>\n",
       "      <td>458965.0</td>\n",
       "      <td>10294635.0</td>\n",
       "      <td>0.706662</td>\n",
       "      <td>0.957729</td>\n",
       "      <td>0.734868</td>\n",
       "      <td>-0.338970</td>\n",
       "      <td>-0.601874</td>\n",
       "    </tr>\n",
       "    <tr>\n",
       "      <th>2005-03-03</th>\n",
       "      <td>0.538977</td>\n",
       "      <td>589176.0</td>\n",
       "      <td>9655981.0</td>\n",
       "      <td>0.896342</td>\n",
       "      <td>0.943357</td>\n",
       "      <td>0.729266</td>\n",
       "      <td>-0.350936</td>\n",
       "      <td>-0.595477</td>\n",
       "    </tr>\n",
       "    <tr>\n",
       "      <th>...</th>\n",
       "      <td>...</td>\n",
       "      <td>...</td>\n",
       "      <td>...</td>\n",
       "      <td>...</td>\n",
       "      <td>...</td>\n",
       "      <td>...</td>\n",
       "      <td>...</td>\n",
       "      <td>...</td>\n",
       "    </tr>\n",
       "    <tr>\n",
       "      <th>2020-04-13</th>\n",
       "      <td>0.669138</td>\n",
       "      <td>806105.0</td>\n",
       "      <td>83164717.0</td>\n",
       "      <td>0.871451</td>\n",
       "      <td>0.871451</td>\n",
       "      <td>0.871451</td>\n",
       "      <td>0.871451</td>\n",
       "      <td>0.871451</td>\n",
       "    </tr>\n",
       "    <tr>\n",
       "      <th>2020-04-14</th>\n",
       "      <td>0.999157</td>\n",
       "      <td>1355716.0</td>\n",
       "      <td>88991066.0</td>\n",
       "      <td>0.989073</td>\n",
       "      <td>0.989073</td>\n",
       "      <td>0.989073</td>\n",
       "      <td>0.989073</td>\n",
       "      <td>0.989073</td>\n",
       "    </tr>\n",
       "    <tr>\n",
       "      <th>2020-04-15</th>\n",
       "      <td>0.989084</td>\n",
       "      <td>2278293.0</td>\n",
       "      <td>99082222.0</td>\n",
       "      <td>0.989084</td>\n",
       "      <td>0.989084</td>\n",
       "      <td>0.989084</td>\n",
       "      <td>0.989084</td>\n",
       "      <td>0.989084</td>\n",
       "    </tr>\n",
       "    <tr>\n",
       "      <th>2020-04-16</th>\n",
       "      <td>1.000000</td>\n",
       "      <td>1409030.0</td>\n",
       "      <td>89213331.0</td>\n",
       "      <td>1.000000</td>\n",
       "      <td>1.000000</td>\n",
       "      <td>1.000000</td>\n",
       "      <td>1.000000</td>\n",
       "      <td>1.000000</td>\n",
       "    </tr>\n",
       "    <tr>\n",
       "      <th>2020-04-17</th>\n",
       "      <td>NaN</td>\n",
       "      <td>1153740.0</td>\n",
       "      <td>92800270.0</td>\n",
       "      <td>NaN</td>\n",
       "      <td>NaN</td>\n",
       "      <td>NaN</td>\n",
       "      <td>NaN</td>\n",
       "      <td>NaN</td>\n",
       "    </tr>\n",
       "  </tbody>\n",
       "</table>\n",
       "<p>3811 rows × 8 columns</p>\n",
       "</div>"
      ],
      "text/plain": [
       "            pnr_bac_corr_rolling_3_days  pnr_volume  bac_volume  \\\n",
       "date                                                              \n",
       "2005-02-25                    -0.978919    425379.0   8656470.0   \n",
       "2005-02-28                    -0.985118    489224.0  10653157.0   \n",
       "2005-03-01                    -0.998760    479025.0  11230182.0   \n",
       "2005-03-02                     0.704533    458965.0  10294635.0   \n",
       "2005-03-03                     0.538977    589176.0   9655981.0   \n",
       "...                                 ...         ...         ...   \n",
       "2020-04-13                     0.669138    806105.0  83164717.0   \n",
       "2020-04-14                     0.999157   1355716.0  88991066.0   \n",
       "2020-04-15                     0.989084   2278293.0  99082222.0   \n",
       "2020-04-16                     1.000000   1409030.0  89213331.0   \n",
       "2020-04-17                          NaN   1153740.0  92800270.0   \n",
       "\n",
       "            pnr_bac_corr_rolling_7_days  pnr_bac_corr_rolling_30_days  \\\n",
       "date                                                                    \n",
       "2005-02-25                    -0.449730                      0.941902   \n",
       "2005-02-28                    -0.366235                      0.944691   \n",
       "2005-03-01                     0.067429                      0.942435   \n",
       "2005-03-02                     0.706662                      0.957729   \n",
       "2005-03-03                     0.896342                      0.943357   \n",
       "...                                 ...                           ...   \n",
       "2020-04-13                     0.871451                      0.871451   \n",
       "2020-04-14                     0.989073                      0.989073   \n",
       "2020-04-15                     0.989084                      0.989084   \n",
       "2020-04-16                     1.000000                      1.000000   \n",
       "2020-04-17                          NaN                           NaN   \n",
       "\n",
       "            pnr_bac_corr_rolling_180_days  pnr_bac_corr_rolling_365_days  \\\n",
       "date                                                                       \n",
       "2005-02-25                       0.758490                      -0.298009   \n",
       "2005-02-28                       0.750536                      -0.312585   \n",
       "2005-03-01                       0.742085                      -0.326191   \n",
       "2005-03-02                       0.734868                      -0.338970   \n",
       "2005-03-03                       0.729266                      -0.350936   \n",
       "...                                   ...                            ...   \n",
       "2020-04-13                       0.871451                       0.871451   \n",
       "2020-04-14                       0.989073                       0.989073   \n",
       "2020-04-15                       0.989084                       0.989084   \n",
       "2020-04-16                       1.000000                       1.000000   \n",
       "2020-04-17                            NaN                            NaN   \n",
       "\n",
       "            pnr_bac_corr_rolling_720_days  \n",
       "date                                       \n",
       "2005-02-25                      -0.619574  \n",
       "2005-02-28                      -0.615585  \n",
       "2005-03-01                      -0.608959  \n",
       "2005-03-02                      -0.601874  \n",
       "2005-03-03                      -0.595477  \n",
       "...                                   ...  \n",
       "2020-04-13                       0.871451  \n",
       "2020-04-14                       0.989073  \n",
       "2020-04-15                       0.989084  \n",
       "2020-04-16                       1.000000  \n",
       "2020-04-17                            NaN  \n",
       "\n",
       "[3811 rows x 8 columns]"
      ]
     },
     "execution_count": 515,
     "metadata": {},
     "output_type": "execute_result"
    }
   ],
   "source": [
    "final_stock_df.loc[~pd.isna(final_stock_df.pnr_volume), :]"
   ]
  },
  {
   "cell_type": "code",
   "execution_count": 517,
   "metadata": {},
   "outputs": [
    {
     "data": {
      "text/plain": [
       "<matplotlib.axes._subplots.AxesSubplot at 0x13e9a4cf8>"
      ]
     },
     "execution_count": 517,
     "metadata": {},
     "output_type": "execute_result"
    },
    {
     "data": {
      "image/png": "[encoded data removed]",
      "text/plain": [
       "<Figure size 1080x360 with 1 Axes>"
      ]
     },
     "metadata": {
      "needs_background": "light"
     },
     "output_type": "display_data"
    }
   ],
   "source": [
    "final_stock_df[['pnr_bac_corr_rolling_365_days','pnr_bac_corr_rolling_180_days', \n",
    "                                                'pnr_bac_corr_rolling_30_days', 'pnr_bac_corr_rolling_720_days']].plot(figsize=(15,5))"
   ]
  },
  {
   "cell_type": "code",
   "execution_count": 455,
   "metadata": {},
   "outputs": [
    {
     "data": {
      "text/plain": [
       "Index(['pnr_bac_corr_rolling_3_days', 'pnr_volume', 'bac_volume',\n",
       "       'pnr_bac_corr_rolling_7_days', 'pnr_bac_corr_rolling_30_days',\n",
       "       'pnr_bac_corr_rolling_180_days', 'pnr_bac_corr_rolling_365_days',\n",
       "       'pnr_bac_corr_rolling_720_days'],\n",
       "      dtype='object')"
      ]
     },
     "execution_count": 455,
     "metadata": {},
     "output_type": "execute_result"
    }
   ],
   "source": [
    "final_stock_df.columns"
   ]
  },
  {
   "cell_type": "markdown",
   "metadata": {},
   "source": [
    "## Train Test Split to predict correlation over the next 7 days\n",
    "- rolling evey day make a predictions about what the correlation will be for the next 7 days stock price"
   ]
  },
  {
   "cell_type": "code",
   "execution_count": 462,
   "metadata": {},
   "outputs": [
    {
     "data": {
      "text/plain": [
       "datetime.timedelta(days=7)"
      ]
     },
     "execution_count": 462,
     "metadata": {},
     "output_type": "execute_result"
    }
   ],
   "source": [
    "datetime.timedelta(7)"
   ]
  },
  {
   "cell_type": "markdown",
   "metadata": {},
   "source": [
    "- Create time based features"
   ]
  },
  {
   "cell_type": "code",
   "execution_count": 476,
   "metadata": {},
   "outputs": [],
   "source": [
    "days = [i.day for i in final_stock_df.index]\n",
    "months = [i.month for i in final_stock_df.index]\n",
    "quarters = [i.quarter for i in final_stock_df.index]\n",
    "years = [i.year for i in final_stock_df.index]\n",
    "\n",
    "final_stock_df['day'] = days\n",
    "final_stock_df['month'] = months\n",
    "final_stock_df['quarter'] = quarters\n",
    "final_stock_df['year'] = years"
   ]
  },
  {
   "cell_type": "code",
   "execution_count": 506,
   "metadata": {},
   "outputs": [
    {
     "data": {
      "text/html": [
       "<div>\n",
       "<style scoped>\n",
       "    .dataframe tbody tr th:only-of-type {\n",
       "        vertical-align: middle;\n",
       "    }\n",
       "\n",
       "    .dataframe tbody tr th {\n",
       "        vertical-align: top;\n",
       "    }\n",
       "\n",
       "    .dataframe thead th {\n",
       "        text-align: right;\n",
       "    }\n",
       "</style>\n",
       "<table border=\"1\" class=\"dataframe\">\n",
       "  <thead>\n",
       "    <tr style=\"text-align: right;\">\n",
       "      <th></th>\n",
       "      <th>pnr_bac_corr_rolling_3_days</th>\n",
       "      <th>pnr_volume</th>\n",
       "      <th>bac_volume</th>\n",
       "      <th>pnr_bac_corr_rolling_7_days</th>\n",
       "      <th>pnr_bac_corr_rolling_30_days</th>\n",
       "      <th>pnr_bac_corr_rolling_180_days</th>\n",
       "      <th>pnr_bac_corr_rolling_365_days</th>\n",
       "      <th>pnr_bac_corr_rolling_720_days</th>\n",
       "      <th>day</th>\n",
       "      <th>month</th>\n",
       "      <th>quarter</th>\n",
       "      <th>year</th>\n",
       "    </tr>\n",
       "    <tr>\n",
       "      <th>date</th>\n",
       "      <th></th>\n",
       "      <th></th>\n",
       "      <th></th>\n",
       "      <th></th>\n",
       "      <th></th>\n",
       "      <th></th>\n",
       "      <th></th>\n",
       "      <th></th>\n",
       "      <th></th>\n",
       "      <th></th>\n",
       "      <th></th>\n",
       "      <th></th>\n",
       "    </tr>\n",
       "  </thead>\n",
       "  <tbody>\n",
       "    <tr>\n",
       "      <th>2005-02-25</th>\n",
       "      <td>-0.978919</td>\n",
       "      <td>425379.0</td>\n",
       "      <td>8656470.0</td>\n",
       "      <td>-0.449730</td>\n",
       "      <td>0.941902</td>\n",
       "      <td>0.758490</td>\n",
       "      <td>-0.298009</td>\n",
       "      <td>-0.619574</td>\n",
       "      <td>25</td>\n",
       "      <td>2</td>\n",
       "      <td>1</td>\n",
       "      <td>2005</td>\n",
       "    </tr>\n",
       "    <tr>\n",
       "      <th>2005-02-28</th>\n",
       "      <td>-0.985118</td>\n",
       "      <td>489224.0</td>\n",
       "      <td>10653157.0</td>\n",
       "      <td>-0.366235</td>\n",
       "      <td>0.944691</td>\n",
       "      <td>0.750536</td>\n",
       "      <td>-0.312585</td>\n",
       "      <td>-0.615585</td>\n",
       "      <td>28</td>\n",
       "      <td>2</td>\n",
       "      <td>1</td>\n",
       "      <td>2005</td>\n",
       "    </tr>\n",
       "    <tr>\n",
       "      <th>2005-03-01</th>\n",
       "      <td>-0.998760</td>\n",
       "      <td>479025.0</td>\n",
       "      <td>11230182.0</td>\n",
       "      <td>0.067429</td>\n",
       "      <td>0.942435</td>\n",
       "      <td>0.742085</td>\n",
       "      <td>-0.326191</td>\n",
       "      <td>-0.608959</td>\n",
       "      <td>1</td>\n",
       "      <td>3</td>\n",
       "      <td>1</td>\n",
       "      <td>2005</td>\n",
       "    </tr>\n",
       "    <tr>\n",
       "      <th>2005-03-02</th>\n",
       "      <td>0.704533</td>\n",
       "      <td>458965.0</td>\n",
       "      <td>10294635.0</td>\n",
       "      <td>0.706662</td>\n",
       "      <td>0.957729</td>\n",
       "      <td>0.734868</td>\n",
       "      <td>-0.338970</td>\n",
       "      <td>-0.601874</td>\n",
       "      <td>2</td>\n",
       "      <td>3</td>\n",
       "      <td>1</td>\n",
       "      <td>2005</td>\n",
       "    </tr>\n",
       "    <tr>\n",
       "      <th>2005-03-03</th>\n",
       "      <td>0.538977</td>\n",
       "      <td>589176.0</td>\n",
       "      <td>9655981.0</td>\n",
       "      <td>0.896342</td>\n",
       "      <td>0.943357</td>\n",
       "      <td>0.729266</td>\n",
       "      <td>-0.350936</td>\n",
       "      <td>-0.595477</td>\n",
       "      <td>3</td>\n",
       "      <td>3</td>\n",
       "      <td>1</td>\n",
       "      <td>2005</td>\n",
       "    </tr>\n",
       "  </tbody>\n",
       "</table>\n",
       "</div>"
      ],
      "text/plain": [
       "            pnr_bac_corr_rolling_3_days  pnr_volume  bac_volume  \\\n",
       "date                                                              \n",
       "2005-02-25                    -0.978919    425379.0   8656470.0   \n",
       "2005-02-28                    -0.985118    489224.0  10653157.0   \n",
       "2005-03-01                    -0.998760    479025.0  11230182.0   \n",
       "2005-03-02                     0.704533    458965.0  10294635.0   \n",
       "2005-03-03                     0.538977    589176.0   9655981.0   \n",
       "\n",
       "            pnr_bac_corr_rolling_7_days  pnr_bac_corr_rolling_30_days  \\\n",
       "date                                                                    \n",
       "2005-02-25                    -0.449730                      0.941902   \n",
       "2005-02-28                    -0.366235                      0.944691   \n",
       "2005-03-01                     0.067429                      0.942435   \n",
       "2005-03-02                     0.706662                      0.957729   \n",
       "2005-03-03                     0.896342                      0.943357   \n",
       "\n",
       "            pnr_bac_corr_rolling_180_days  pnr_bac_corr_rolling_365_days  \\\n",
       "date                                                                       \n",
       "2005-02-25                       0.758490                      -0.298009   \n",
       "2005-02-28                       0.750536                      -0.312585   \n",
       "2005-03-01                       0.742085                      -0.326191   \n",
       "2005-03-02                       0.734868                      -0.338970   \n",
       "2005-03-03                       0.729266                      -0.350936   \n",
       "\n",
       "            pnr_bac_corr_rolling_720_days  day  month  quarter  year  \n",
       "date                                                                  \n",
       "2005-02-25                      -0.619574   25      2        1  2005  \n",
       "2005-02-28                      -0.615585   28      2        1  2005  \n",
       "2005-03-01                      -0.608959    1      3        1  2005  \n",
       "2005-03-02                      -0.601874    2      3        1  2005  \n",
       "2005-03-03                      -0.595477    3      3        1  2005  "
      ]
     },
     "execution_count": 506,
     "metadata": {},
     "output_type": "execute_result"
    }
   ],
   "source": [
    "final_stock_df.head()"
   ]
  },
  {
   "cell_type": "markdown",
   "metadata": {},
   "source": [
    "- Rolling Predictions"
   ]
  },
  {
   "cell_type": "code",
   "execution_count": 498,
   "metadata": {},
   "outputs": [
    {
     "name": "stdout",
     "output_type": "stream",
     "text": [
      "Train dates =  DatetimeIndex(['2005-02-25', '2005-02-28', '2005-03-01', '2005-03-02',\n",
      "               '2005-03-03', '2005-03-04', '2005-03-07', '2005-03-08',\n",
      "               '2005-03-09', '2005-03-10',\n",
      "               ...\n",
      "               '2019-10-28', '2019-10-29', '2019-10-30', '2019-10-31',\n",
      "               '2019-11-01', '2019-11-04', '2019-11-05', '2019-11-06',\n",
      "               '2019-11-07', '2019-11-08'],\n",
      "              dtype='datetime64[ns]', name='date', length=3701, freq=None)\n",
      "Prediction date = 2019-11-20 00:00:00\n",
      "prediction =  [0.80536596]\n",
      "actual = [0.90585759]\n",
      "\n",
      "Predictions took 1.2578908999760945 minutes\n"
     ]
    }
   ],
   "source": [
    "rolling_window = 7\n",
    "predicted_corr_7_days = []\n",
    "actual = []\n",
    "rmse_corr_7_days = []\n",
    "prediction_date = []\n",
    "\n",
    "print_idx = 150\n",
    "starting_date_index= 3700 # otherwise, takes too long\n",
    "start = time.time()\n",
    "\n",
    "final_row = None\n",
    "for date_idx, date in enumerate(list(final_stock_df.index)[starting_date_index:]):\n",
    "#     print((date_id x+ starting_date_index+rolling_window+1))\n",
    "#     print(len(final_stock_df))\n",
    "    \n",
    "    if final_row:\n",
    "        break\n",
    "    if (date_idx + starting_date_index +rolling_window +1) == len(final_stock_df): # last row\n",
    "        final_row = True\n",
    "        # need to use the dates from the DF due to weekends\n",
    "        train_dates = final_stock_df.index[:starting_date_index+date_idx]\n",
    "        # The test is the rolling 7-day corr looking back the past seven days\n",
    "        # Therefore, the test_date should be seven dates ahead of the data we are training on\n",
    "\n",
    "        test_date = final_stock_df.index[starting_date_index+rolling_window+date_idx]\n",
    "        \n",
    "    else:\n",
    "        # need to use the dates from the DF due to weekends\n",
    "        train_dates = final_stock_df.index[:starting_date_index+date_idx+1]\n",
    "        # The test is the rolling 7-day corr looking back the past seven days\n",
    "        # Therefore, the test_date should be seven dates ahead of the data we are training on\n",
    "\n",
    "        test_date = final_stock_df.index[starting_date_index+rolling_window+date_idx+1]\n",
    "    \n",
    "    \n",
    "    prediction_date.append(test_date)\n",
    "    \n",
    "    if date_idx % print_idx == 0:\n",
    "        print(f\"Train dates =  {train_dates}\")\n",
    "        print(F\"Prediction date = {test_date}\")\n",
    "        \n",
    "    train_df = final_stock_df[final_stock_df.index.isin(list(train_dates))]\n",
    "    test_df = final_stock_df[final_stock_df.index == test_date]\n",
    "    \n",
    "    # TODO - search for the rolling 7-days column, don't hardcode\n",
    "    X_train, y_train = train_df.loc[:, train_df.columns != 'pnr_bac_corr_rolling_7_days'],  train_df.pnr_bac_corr_rolling_7_days\n",
    "    X_test, y_test = test_df.loc[:, test_df.columns != 'pnr_bac_corr_rolling_7_days'],  test_df.pnr_bac_corr_rolling_7_days\n",
    "\n",
    "#     gb = GradientBoostingRegressor()\n",
    "    rf = RandomForestRegressor(n_jobs=-1)\n",
    "    \n",
    "    rf.fit(X_train, y_train)\n",
    "\n",
    "    prediction = rf.predict(X_test)\n",
    "\n",
    "    predicted_corr_7_days.append(prediction[0])\n",
    "    actual.append(y_test.values[0])\n",
    "    \n",
    "    rmse_corr_7_days.append(np.sqrt(mean_squared_error(y_test, prediction)))\n",
    "    if date_idx % print_idx == 0:\n",
    "        print('prediction = ', prediction)\n",
    "        print('actual =', y_test.values)\n",
    "        print('')\n",
    "    \n",
    "\n",
    "end = time.time()\n",
    "\n",
    "print(f\"Predictions took {(end-start)/60} minutes\")"
   ]
  },
  {
   "cell_type": "code",
   "execution_count": 508,
   "metadata": {},
   "outputs": [
    {
     "data": {
      "text/plain": [
       "0.2605855955322162"
      ]
     },
     "execution_count": 508,
     "metadata": {},
     "output_type": "execute_result"
    }
   ],
   "source": [
    "np.mean(rmse_corr_7_days)"
   ]
  },
  {
   "cell_type": "code",
   "execution_count": 499,
   "metadata": {},
   "outputs": [],
   "source": [
    "prediction_df = pd.DataFrame( {'actual_corr_7_days':actual, 'predicted_corr_7_days': predicted_corr_7_days, 'prediction_date':prediction_date})"
   ]
  },
  {
   "cell_type": "code",
   "execution_count": 500,
   "metadata": {},
   "outputs": [],
   "source": [
    "prediction_df = prediction_df.set_index('prediction_date')"
   ]
  },
  {
   "cell_type": "code",
   "execution_count": 504,
   "metadata": {},
   "outputs": [
    {
     "data": {
      "text/plain": [
       "<matplotlib.axes._subplots.AxesSubplot at 0x13cd8aef0>"
      ]
     },
     "execution_count": 504,
     "metadata": {},
     "output_type": "execute_result"
    },
    {
     "data": {
      "image/png": "[encoded data removed]",
      "text/plain": [
       "<Figure size 1080x360 with 1 Axes>"
      ]
     },
     "metadata": {
      "needs_background": "light"
     },
     "output_type": "display_data"
    }
   ],
   "source": [
    "prediction_df.plot(title='predicted corr pnr_bac rolling 7-days', figsize=(15,5))"
   ]
  },
  {
   "cell_type": "code",
   "execution_count": 510,
   "metadata": {},
   "outputs": [
    {
     "data": {
      "text/plain": [
       "DatetimeIndex(['2019-11-20', '2019-11-21', '2019-11-22', '2019-11-25',\n",
       "               '2019-11-26', '2019-11-27', '2019-11-29', '2019-12-02',\n",
       "               '2019-12-03', '2019-12-04',\n",
       "               ...\n",
       "               '2020-04-03', '2020-04-06', '2020-04-07', '2020-04-08',\n",
       "               '2020-04-09', '2020-04-13', '2020-04-14', '2020-04-15',\n",
       "               '2020-04-16', '2020-04-16'],\n",
       "              dtype='datetime64[ns]', name='prediction_date', length=102, freq=None)"
      ]
     },
     "execution_count": 510,
     "metadata": {},
     "output_type": "execute_result"
    }
   ],
   "source": [
    "prediction_df.index"
   ]
  },
  {
   "cell_type": "code",
   "execution_count": null,
   "metadata": {},
   "outputs": [],
   "source": []
  }
 ],
 "metadata": {
  "file_extension": ".py",
  "kernelspec": {
   "display_name": "Python 3.7.0 64-bit ('daily-trading-nJ43NNNI-py3.7': venv)",
   "language": "python",
   "name": "python37064bitdailytradingnj43nnnipy37venvd9db9359ec934f90b15f4732101b653e"
  },
  "language_info": {
   "codemirror_mode": {
    "name": "ipython",
    "version": 3
   },
   "file_extension": ".py",
   "mimetype": "text/x-python",
   "name": "python",
   "nbconvert_exporter": "python",
   "pygments_lexer": "ipython3",
   "version": "3.7.0"
  },
  "mimetype": "text/x-python",
  "name": "python",
  "npconvert_exporter": "python",
  "pygments_lexer": "ipython3",
  "version": 3
 },
 "nbformat": 4,
 "nbformat_minor": 4
}
