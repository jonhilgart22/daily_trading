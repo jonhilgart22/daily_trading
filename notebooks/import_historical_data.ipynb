{
 "cells": [
  {
   "cell_type": "code",
   "execution_count": 1,
   "metadata": {},
   "outputs": [],
   "source": [
    "import pandas as pd\n",
    "import os\n",
    "import sys\n",
    "import glob\n",
    "sys.path.insert(0, '../')"
   ]
  },
  {
   "cell_type": "markdown",
   "metadata": {},
   "source": [
    "### Import data for one stock"
   ]
  },
  {
   "cell_type": "code",
   "execution_count": 4,
   "metadata": {},
   "outputs": [],
   "source": [
    "ph_df = pd.read_csv('../data/price-volume-data-for-all-us-stocks-etfs/Stocks/ph.us.txt')"
   ]
  },
  {
   "cell_type": "code",
   "execution_count": 8,
   "metadata": {},
   "outputs": [
    {
     "data": {
      "text/html": [
       "<div>\n",
       "<style scoped>\n",
       "    .dataframe tbody tr th:only-of-type {\n",
       "        vertical-align: middle;\n",
       "    }\n",
       "\n",
       "    .dataframe tbody tr th {\n",
       "        vertical-align: top;\n",
       "    }\n",
       "\n",
       "    .dataframe thead th {\n",
       "        text-align: right;\n",
       "    }\n",
       "</style>\n",
       "<table border=\"1\" class=\"dataframe\">\n",
       "  <thead>\n",
       "    <tr style=\"text-align: right;\">\n",
       "      <th></th>\n",
       "      <th>Date</th>\n",
       "      <th>Open</th>\n",
       "      <th>High</th>\n",
       "      <th>Low</th>\n",
       "      <th>Close</th>\n",
       "      <th>Volume</th>\n",
       "      <th>OpenInt</th>\n",
       "    </tr>\n",
       "  </thead>\n",
       "  <tbody>\n",
       "    <tr>\n",
       "      <th>7944</th>\n",
       "      <td>2017-01-05</td>\n",
       "      <td>140.04</td>\n",
       "      <td>140.35</td>\n",
       "      <td>137.65</td>\n",
       "      <td>139.07</td>\n",
       "      <td>567140</td>\n",
       "      <td>0</td>\n",
       "    </tr>\n",
       "  </tbody>\n",
       "</table>\n",
       "</div>"
      ],
      "text/plain": [
       "            Date    Open    High     Low   Close  Volume  OpenInt\n",
       "7944  2017-01-05  140.04  140.35  137.65  139.07  567140        0"
      ]
     },
     "execution_count": 8,
     "metadata": {},
     "output_type": "execute_result"
    }
   ],
   "source": [
    "ph_df[ph_df.Date == '2017-01-05']"
   ]
  },
  {
   "cell_type": "markdown",
   "metadata": {},
   "source": [
    "### Run through stocks we pulled data from IEX for. Update the .csv file with this historical data"
   ]
  },
  {
   "cell_type": "code",
   "execution_count": 35,
   "metadata": {
    "tags": [
     "outputPrepend"
    ]
   },
   "outputs": [],
   "source": [
    "def add_historic_data_to_current_csv():\n",
    "    current_data_file_path = '../data/historical_stock_data'\n",
    "    augmented_data_file_path = '../data/updated_historical_stock_data'\n",
    "    historic_data_file_path = '../data/price-volume-data-for-all-us-stocks-etfs/Stocks'\n",
    "\n",
    "    for file in glob.glob(f'{current_data_file_path}/*.csv'):\n",
    "        stock_name = file.rsplit(\"/\")[-1].split('_')[0].lower() # note: store all stock names as uppercase\n",
    "        # find the stock name in historical kaggle dataa\n",
    "        for historical_file in glob.glob(f'{historic_data_file_path}/*.txt'):\n",
    "            historical_stock_name = historical_file.split(\"/\")[-1].split(\".\")[0]\n",
    "            \n",
    "            if stock_name == historical_stock_name:\n",
    "                # read in current data\n",
    "                current_stock_data = pd.read_csv(f\"{file}\")\n",
    "                historical_stock_data = pd.read_csv(f\"{historical_file}\")\n",
    "                historical_stock_data.columns = map(str.lower, historical_stock_data.columns)\n",
    "\n",
    "                oldest_date_of_new_data = current_stock_data.date.min()\n",
    "\n",
    "                # get the new data we don't have yet\n",
    "                historical_stock_data = historical_stock_data[historical_stock_data.date < oldest_date_of_new_data]\n",
    "                historical_stock_data.drop('openint', inplace=True, axis=1)\n",
    "\n",
    "\n",
    "                # concat historical with current data\n",
    "                combined_stock_df = pd.concat([current_stock_data, historical_stock_data])\n",
    "                most_recent_date = combined_stock_df.date.max()\n",
    "                most_recent_year, most_recent_month, most_recent_day = most_recent_date.split('-')\n",
    "\n",
    "                oldest_date = combined_stock_df.date.min()\n",
    "                oldest_year, oldest_month, oldest_day = oldest_date.split('-')\n",
    "                \n",
    "                # save the file\n",
    "                combined_stock_df.to_csv(f'{augmented_data_file_path}/{stock_name.lower()}_{int(oldest_year)}-{int(oldest_month)}-{int(oldest_day)}_to_{int(most_recent_year)}-{int(most_recent_month)}-{int(most_recent_day)}.csv',\n",
    "                                         index=False)\n",
    "                # delete the old file only if we haven't  updated it\n",
    "                # os.remove(f\"{file}\")\n",
    "                break\n",
    "\n",
    "        # # if we don't have historical data , save the original data into the augmented folder\n",
    "        # if os.path.isfile(f'{augmented_data_file_path}/{stock_name.lower()}_{int(oldest_year)}-{int(oldest_month)}-{int(oldest_day)}_to_{int(most_recent_year)}-{int(most_recent_month)}-{int(most_recent_day)}.csv'):\n",
    "        #     pass\n",
    "        # else:\n",
    "        #     current_stock_data = pd.read_csv(f\"{file}\")\n",
    "        #     current_stock_data.to_csv(f\"{augmented_data_file_path}/)\n",
    "\n"
   ]
  },
  {
   "cell_type": "code",
   "execution_count": 36,
   "metadata": {
    "tags": [
     "outputPrepend",
     "outputPrepend",
     "outputPrepend",
     "outputPrepend",
     "outputPrepend",
     "outputPrepend"
    ]
   },
   "outputs": [],
   "source": [
    "add_historic_data_to_current_csv()"
   ]
  },
  {
   "cell_type": "code",
   "execution_count": null,
   "metadata": {},
   "outputs": [],
   "source": []
  },
  {
   "cell_type": "code",
   "execution_count": null,
   "metadata": {},
   "outputs": [],
   "source": []
  }
 ],
 "metadata": {
  "file_extension": ".py",
  "kernelspec": {
   "display_name": "Python 3.7.0 64-bit ('daily-trading-nJ43NNNI-py3.7': venv)",
   "language": "python",
   "name": "python37064bitdailytradingnj43nnnipy37venvd9db9359ec934f90b15f4732101b653e"
  },
  "language_info": {
   "codemirror_mode": {
    "name": "ipython",
    "version": 3
   },
   "file_extension": ".py",
   "mimetype": "text/x-python",
   "name": "python",
   "nbconvert_exporter": "python",
   "pygments_lexer": "ipython3",
   "version": "3.7.0"
  },
  "mimetype": "text/x-python",
  "name": "python",
  "npconvert_exporter": "python",
  "pygments_lexer": "ipython3",
  "version": 3
 },
 "nbformat": 4,
 "nbformat_minor": 4
}
