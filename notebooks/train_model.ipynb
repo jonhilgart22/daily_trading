{
 "cells": [
  {
   "cell_type": "code",
   "execution_count": 178,
   "metadata": {},
   "outputs": [
    {
     "name": "stdout",
     "output_type": "stream",
     "text": [
      "Populating the interactive namespace from numpy and matplotlib\n"
     ]
    }
   ],
   "source": [
    "import pandas as pd\n",
    "import glob\n",
    "import numpy as numpy\n",
    "import matplotlib.pyplot as plt\n",
    "from collections import defaultdict\n",
    "from tqdm import tqdm\n",
    "import time\n",
    "from sklearn.model_selection import train_test_split\n",
    "from sklearn.ensemble import GradientBoostingRegressor, RandomForestRegressor\n",
    "from sklearn.metrics import mean_squared_error\n",
    "from sklearn.decomposition import PCA\n",
    "import seaborn as sns\n",
    "import holidays\n",
    "from sklearn.preprocessing import StandardScaler\n",
    "from sklearn.svm import SVR\n",
    "\n",
    "# from keras.models import Sequential\n",
    "# from keras.layers import LSTM, Dense, Bidirectional\n",
    "\n",
    "%pylab inline"
   ]
  },
  {
   "cell_type": "markdown",
   "metadata": {},
   "source": [
    "## Read in data\n"
   ]
  },
  {
   "cell_type": "code",
   "execution_count": 179,
   "metadata": {},
   "outputs": [],
   "source": [
    "def read_in_data():\n",
    "    dict_of_stocks_and_dfs = {}\n",
    "    for file_ in glob.glob('../data/updated_historical_stock_and_etf_data/*.csv'):\n",
    "        stock_name = file_.rsplit(\"/\")[-1].split('_')[0].lower() \n",
    "        print(f\"Reading in {stock_name}\")\n",
    "        df_  = pd.read_csv(f\"{file_}\")\n",
    "        dict_of_stocks_and_dfs[stock_name] = df_.sort_values('date')\n",
    "    return dict_of_stocks_and_dfs"
   ]
  },
  {
   "cell_type": "code",
   "execution_count": 180,
   "metadata": {},
   "outputs": [
    {
     "name": "stdout",
     "output_type": "stream",
     "text": [
      "Reading in vti\n",
      "Reading in pbj\n",
      "Reading in qqq\n",
      "Reading in rost\n",
      "Reading in spy\n",
      "Reading in so\n",
      "Reading in eqix\n",
      "Reading in iwm\n",
      "Reading in ce\n",
      "Reading in emr\n",
      "Reading in atvi\n",
      "Reading in vfh\n",
      "Reading in peg\n",
      "Reading in adbe\n",
      "Reading in cern\n",
      "Reading in pg\n",
      "Reading in pvh\n",
      "Reading in lb\n",
      "Reading in pej\n",
      "Reading in rop\n",
      "Reading in dia\n",
      "Reading in are\n",
      "Reading in ph\n",
      "Reading in vno\n",
      "Reading in ual\n",
      "Reading in efx\n",
      "Reading in xrt\n",
      "Reading in bac\n",
      "Reading in ni\n",
      "Reading in bjk\n",
      "Reading in pnr\n"
     ]
    }
   ],
   "source": [
    "dict_of_stocks_and_dfs = read_in_data()"
   ]
  },
  {
   "cell_type": "code",
   "execution_count": 201,
   "metadata": {},
   "outputs": [
    {
     "data": {
      "text/html": [
       "<div>\n",
       "<style scoped>\n",
       "    .dataframe tbody tr th:only-of-type {\n",
       "        vertical-align: middle;\n",
       "    }\n",
       "\n",
       "    .dataframe tbody tr th {\n",
       "        vertical-align: top;\n",
       "    }\n",
       "\n",
       "    .dataframe thead th {\n",
       "        text-align: right;\n",
       "    }\n",
       "</style>\n",
       "<table border=\"1\" class=\"dataframe\">\n",
       "  <thead>\n",
       "    <tr style=\"text-align: right;\">\n",
       "      <th></th>\n",
       "      <th>date</th>\n",
       "      <th>open</th>\n",
       "      <th>high</th>\n",
       "      <th>low</th>\n",
       "      <th>close</th>\n",
       "      <th>volume</th>\n",
       "    </tr>\n",
       "  </thead>\n",
       "  <tbody>\n",
       "    <tr>\n",
       "      <th>834</th>\n",
       "      <td>1986-05-29</td>\n",
       "      <td>3.6107</td>\n",
       "      <td>3.6389</td>\n",
       "      <td>3.6107</td>\n",
       "      <td>3.6295</td>\n",
       "      <td>16691365</td>\n",
       "    </tr>\n",
       "    <tr>\n",
       "      <th>835</th>\n",
       "      <td>1986-05-30</td>\n",
       "      <td>3.6107</td>\n",
       "      <td>3.6578</td>\n",
       "      <td>3.6107</td>\n",
       "      <td>3.6578</td>\n",
       "      <td>6895475</td>\n",
       "    </tr>\n",
       "    <tr>\n",
       "      <th>836</th>\n",
       "      <td>1986-06-02</td>\n",
       "      <td>3.6578</td>\n",
       "      <td>3.6768</td>\n",
       "      <td>3.6295</td>\n",
       "      <td>3.6485</td>\n",
       "      <td>333487</td>\n",
       "    </tr>\n",
       "    <tr>\n",
       "      <th>837</th>\n",
       "      <td>1986-06-03</td>\n",
       "      <td>3.6389</td>\n",
       "      <td>3.6768</td>\n",
       "      <td>3.6295</td>\n",
       "      <td>3.6768</td>\n",
       "      <td>163776</td>\n",
       "    </tr>\n",
       "    <tr>\n",
       "      <th>838</th>\n",
       "      <td>1986-06-04</td>\n",
       "      <td>3.6485</td>\n",
       "      <td>3.6768</td>\n",
       "      <td>3.6204</td>\n",
       "      <td>3.6204</td>\n",
       "      <td>203654</td>\n",
       "    </tr>\n",
       "    <tr>\n",
       "      <th>...</th>\n",
       "      <td>...</td>\n",
       "      <td>...</td>\n",
       "      <td>...</td>\n",
       "      <td>...</td>\n",
       "      <td>...</td>\n",
       "      <td>...</td>\n",
       "    </tr>\n",
       "    <tr>\n",
       "      <th>830</th>\n",
       "      <td>2020-04-21</td>\n",
       "      <td>21.9000</td>\n",
       "      <td>22.3700</td>\n",
       "      <td>21.5000</td>\n",
       "      <td>21.6400</td>\n",
       "      <td>78871343</td>\n",
       "    </tr>\n",
       "    <tr>\n",
       "      <th>831</th>\n",
       "      <td>2020-04-22</td>\n",
       "      <td>22.1600</td>\n",
       "      <td>22.2300</td>\n",
       "      <td>21.7500</td>\n",
       "      <td>21.8000</td>\n",
       "      <td>49759122</td>\n",
       "    </tr>\n",
       "    <tr>\n",
       "      <th>832</th>\n",
       "      <td>2020-04-23</td>\n",
       "      <td>21.9600</td>\n",
       "      <td>22.3900</td>\n",
       "      <td>21.8500</td>\n",
       "      <td>21.8700</td>\n",
       "      <td>50614823</td>\n",
       "    </tr>\n",
       "    <tr>\n",
       "      <th>833</th>\n",
       "      <td>2020-04-24</td>\n",
       "      <td>22.1100</td>\n",
       "      <td>22.3000</td>\n",
       "      <td>21.6700</td>\n",
       "      <td>22.1800</td>\n",
       "      <td>47675736</td>\n",
       "    </tr>\n",
       "    <tr>\n",
       "      <th>0</th>\n",
       "      <td>2020-04-27</td>\n",
       "      <td>22.5200</td>\n",
       "      <td>23.6500</td>\n",
       "      <td>22.4500</td>\n",
       "      <td>23.4700</td>\n",
       "      <td>66916692</td>\n",
       "    </tr>\n",
       "  </tbody>\n",
       "</table>\n",
       "<p>8545 rows × 6 columns</p>\n",
       "</div>"
      ],
      "text/plain": [
       "           date     open     high      low    close    volume\n",
       "834  1986-05-29   3.6107   3.6389   3.6107   3.6295  16691365\n",
       "835  1986-05-30   3.6107   3.6578   3.6107   3.6578   6895475\n",
       "836  1986-06-02   3.6578   3.6768   3.6295   3.6485    333487\n",
       "837  1986-06-03   3.6389   3.6768   3.6295   3.6768    163776\n",
       "838  1986-06-04   3.6485   3.6768   3.6204   3.6204    203654\n",
       "..          ...      ...      ...      ...      ...       ...\n",
       "830  2020-04-21  21.9000  22.3700  21.5000  21.6400  78871343\n",
       "831  2020-04-22  22.1600  22.2300  21.7500  21.8000  49759122\n",
       "832  2020-04-23  21.9600  22.3900  21.8500  21.8700  50614823\n",
       "833  2020-04-24  22.1100  22.3000  21.6700  22.1800  47675736\n",
       "0    2020-04-27  22.5200  23.6500  22.4500  23.4700  66916692\n",
       "\n",
       "[8545 rows x 6 columns]"
      ]
     },
     "execution_count": 201,
     "metadata": {},
     "output_type": "execute_result"
    }
   ],
   "source": [
    "dict_of_stocks_and_dfs['bac']"
   ]
  },
  {
   "cell_type": "code",
   "execution_count": 200,
   "metadata": {},
   "outputs": [
    {
     "name": "stderr",
     "output_type": "stream",
     "text": [
      "/Users/jonathanhilgart/Library/Caches/pypoetry/virtualenvs/daily-trading-nJ43NNNI-py3.7/lib/python3.7/site-packages/ipykernel_launcher.py:12: UserWarning: Pandas doesn't allow columns to be created via a new attribute name - see https://pandas.pydata.org/pandas-docs/stable/indexing.html#attribute-access\n",
      "  if sys.path[0] == '':\n"
     ]
    },
    {
     "name": "stdout",
     "output_type": "stream",
     "text": [
      "\n",
      "Finished 0.0 pct of stocks\n",
      "\n"
     ]
    },
    {
     "ename": "KeyboardInterrupt",
     "evalue": "",
     "output_type": "error",
     "traceback": [
      "\u001b[0;31m---------------------------------------------------------------------------\u001b[0m",
      "\u001b[0;31mKeyboardInterrupt\u001b[0m                         Traceback (most recent call last)",
      "\u001b[0;32m<ipython-input-200-7131fb5bf871>\u001b[0m in \u001b[0;36m<module>\u001b[0;34m\u001b[0m\n\u001b[0;32m----> 1\u001b[0;31m \u001b[0mbuild_correlation_dfs\u001b[0m\u001b[0;34m(\u001b[0m\u001b[0mdict_of_stocks_and_dfs\u001b[0m\u001b[0;34m,\u001b[0m \u001b[0mverbose\u001b[0m\u001b[0;34m=\u001b[0m\u001b[0;32mFalse\u001b[0m\u001b[0;34m)\u001b[0m\u001b[0;34m[\u001b[0m\u001b[0;34m'bac'\u001b[0m\u001b[0;34m]\u001b[0m\u001b[0;34m\u001b[0m\u001b[0m\n\u001b[0m",
      "\u001b[0;32m<ipython-input-186-5ad094d24a58>\u001b[0m in \u001b[0;36mbuild_correlation_dfs\u001b[0;34m(dict_of_stocks_and_dfs, n_day_rolling_features_list, verbose)\u001b[0m\n\u001b[1;32m     56\u001b[0m                 features_df = create_correlation_and_variance_features(\n\u001b[1;32m     57\u001b[0m                     \u001b[0mfirst_stock_df\u001b[0m\u001b[0;34m,\u001b[0m \u001b[0msecond_stock_df\u001b[0m\u001b[0;34m,\u001b[0m \u001b[0mrolling_day\u001b[0m\u001b[0;34m,\u001b[0m \u001b[0mfinal_feature_df\u001b[0m\u001b[0;34m,\u001b[0m\u001b[0;34m\u001b[0m\u001b[0m\n\u001b[0;32m---> 58\u001b[0;31m                     first_stock_name=first_stock_name, second_stock_name=second_stock_name)\n\u001b[0m\u001b[1;32m     59\u001b[0m \u001b[0;34m\u001b[0m\u001b[0m\n\u001b[1;32m     60\u001b[0m                 \u001b[0mcurrent_feature_cols\u001b[0m \u001b[0;34m=\u001b[0m \u001b[0mset\u001b[0m\u001b[0;34m(\u001b[0m\u001b[0mfeatures_df\u001b[0m\u001b[0;34m.\u001b[0m\u001b[0mcolumns\u001b[0m\u001b[0;34m)\u001b[0m\u001b[0;34m\u001b[0m\u001b[0m\n",
      "\u001b[0;32m<ipython-input-189-2d09ce5d6415>\u001b[0m in \u001b[0;36mcreate_correlation_and_variance_features\u001b[0;34m(first_stock_df, second_stock_df, n_days_stride, final_stock_df, first_stock_name, second_stock_name, verbose)\u001b[0m\n\u001b[1;32m     13\u001b[0m \u001b[0;34m\u001b[0m\u001b[0m\n\u001b[1;32m     14\u001b[0m     rolling_close_df = pd.DataFrame(first_stock_df.close.rolling(\n\u001b[0;32m---> 15\u001b[0;31m         n_days_stride).corr(second_stock_df.close)).rename(\n\u001b[0m\u001b[1;32m     16\u001b[0m         {'close': f\"{first_stock_name}_{second_stock_name}_close_corr_rolling_{n_days_stride}_days\"},axis=1).fillna(method='backfill').round(6)\n\u001b[1;32m     17\u001b[0m \u001b[0;34m\u001b[0m\u001b[0m\n",
      "\u001b[0;32m~/Library/Caches/pypoetry/virtualenvs/daily-trading-nJ43NNNI-py3.7/lib/python3.7/site-packages/pandas/core/window/rolling.py\u001b[0m in \u001b[0;36mcorr\u001b[0;34m(self, other, pairwise, **kwargs)\u001b[0m\n\u001b[1;32m   2087\u001b[0m     \u001b[0;34m@\u001b[0m\u001b[0mAppender\u001b[0m\u001b[0;34m(\u001b[0m\u001b[0m_shared_docs\u001b[0m\u001b[0;34m[\u001b[0m\u001b[0;34m\"corr\"\u001b[0m\u001b[0;34m]\u001b[0m\u001b[0;34m)\u001b[0m\u001b[0;34m\u001b[0m\u001b[0m\n\u001b[1;32m   2088\u001b[0m     \u001b[0;32mdef\u001b[0m \u001b[0mcorr\u001b[0m\u001b[0;34m(\u001b[0m\u001b[0mself\u001b[0m\u001b[0;34m,\u001b[0m \u001b[0mother\u001b[0m\u001b[0;34m=\u001b[0m\u001b[0;32mNone\u001b[0m\u001b[0;34m,\u001b[0m \u001b[0mpairwise\u001b[0m\u001b[0;34m=\u001b[0m\u001b[0;32mNone\u001b[0m\u001b[0;34m,\u001b[0m \u001b[0;34m**\u001b[0m\u001b[0mkwargs\u001b[0m\u001b[0;34m)\u001b[0m\u001b[0;34m:\u001b[0m\u001b[0;34m\u001b[0m\u001b[0m\n\u001b[0;32m-> 2089\u001b[0;31m         \u001b[0;32mreturn\u001b[0m \u001b[0msuper\u001b[0m\u001b[0;34m(\u001b[0m\u001b[0;34m)\u001b[0m\u001b[0;34m.\u001b[0m\u001b[0mcorr\u001b[0m\u001b[0;34m(\u001b[0m\u001b[0mother\u001b[0m\u001b[0;34m=\u001b[0m\u001b[0mother\u001b[0m\u001b[0;34m,\u001b[0m \u001b[0mpairwise\u001b[0m\u001b[0;34m=\u001b[0m\u001b[0mpairwise\u001b[0m\u001b[0;34m,\u001b[0m \u001b[0;34m**\u001b[0m\u001b[0mkwargs\u001b[0m\u001b[0;34m)\u001b[0m\u001b[0;34m\u001b[0m\u001b[0m\n\u001b[0m\u001b[1;32m   2090\u001b[0m \u001b[0;34m\u001b[0m\u001b[0m\n\u001b[1;32m   2091\u001b[0m \u001b[0;34m\u001b[0m\u001b[0m\n",
      "\u001b[0;32m~/Library/Caches/pypoetry/virtualenvs/daily-trading-nJ43NNNI-py3.7/lib/python3.7/site-packages/pandas/core/window/rolling.py\u001b[0m in \u001b[0;36mcorr\u001b[0;34m(self, other, pairwise, **kwargs)\u001b[0m\n\u001b[1;32m   1796\u001b[0m \u001b[0;34m\u001b[0m\u001b[0m\n\u001b[1;32m   1797\u001b[0m         return _flex_binary_moment(\n\u001b[0;32m-> 1798\u001b[0;31m             \u001b[0mself\u001b[0m\u001b[0;34m.\u001b[0m\u001b[0m_selected_obj\u001b[0m\u001b[0;34m,\u001b[0m \u001b[0mother\u001b[0m\u001b[0;34m.\u001b[0m\u001b[0m_selected_obj\u001b[0m\u001b[0;34m,\u001b[0m \u001b[0m_get_corr\u001b[0m\u001b[0;34m,\u001b[0m \u001b[0mpairwise\u001b[0m\u001b[0;34m=\u001b[0m\u001b[0mbool\u001b[0m\u001b[0;34m(\u001b[0m\u001b[0mpairwise\u001b[0m\u001b[0;34m)\u001b[0m\u001b[0;34m\u001b[0m\u001b[0m\n\u001b[0m\u001b[1;32m   1799\u001b[0m         )\n\u001b[1;32m   1800\u001b[0m \u001b[0;34m\u001b[0m\u001b[0m\n",
      "\u001b[0;32m~/Library/Caches/pypoetry/virtualenvs/daily-trading-nJ43NNNI-py3.7/lib/python3.7/site-packages/pandas/core/window/common.py\u001b[0m in \u001b[0;36m_flex_binary_moment\u001b[0;34m(arg1, arg2, f, pairwise)\u001b[0m\n\u001b[1;32m    106\u001b[0m         \u001b[0marg2\u001b[0m\u001b[0;34m,\u001b[0m \u001b[0;34m(\u001b[0m\u001b[0mnp\u001b[0m\u001b[0;34m.\u001b[0m\u001b[0mndarray\u001b[0m\u001b[0;34m,\u001b[0m \u001b[0mABCSeries\u001b[0m\u001b[0;34m)\u001b[0m\u001b[0;34m\u001b[0m\u001b[0m\n\u001b[1;32m    107\u001b[0m     ):\n\u001b[0;32m--> 108\u001b[0;31m         \u001b[0mX\u001b[0m\u001b[0;34m,\u001b[0m \u001b[0mY\u001b[0m \u001b[0;34m=\u001b[0m \u001b[0mprep_binary\u001b[0m\u001b[0;34m(\u001b[0m\u001b[0marg1\u001b[0m\u001b[0;34m,\u001b[0m \u001b[0marg2\u001b[0m\u001b[0;34m)\u001b[0m\u001b[0;34m\u001b[0m\u001b[0m\n\u001b[0m\u001b[1;32m    109\u001b[0m         \u001b[0;32mreturn\u001b[0m \u001b[0mf\u001b[0m\u001b[0;34m(\u001b[0m\u001b[0mX\u001b[0m\u001b[0;34m,\u001b[0m \u001b[0mY\u001b[0m\u001b[0;34m)\u001b[0m\u001b[0;34m\u001b[0m\u001b[0m\n\u001b[1;32m    110\u001b[0m \u001b[0;34m\u001b[0m\u001b[0m\n",
      "\u001b[0;32m~/Library/Caches/pypoetry/virtualenvs/daily-trading-nJ43NNNI-py3.7/lib/python3.7/site-packages/pandas/core/window/common.py\u001b[0m in \u001b[0;36mprep_binary\u001b[0;34m(arg1, arg2)\u001b[0m\n\u001b[1;32m    312\u001b[0m \u001b[0;34m\u001b[0m\u001b[0m\n\u001b[1;32m    313\u001b[0m     \u001b[0;31m# mask out values, this also makes a common index...\u001b[0m\u001b[0;34m\u001b[0m\u001b[0;34m\u001b[0m\u001b[0m\n\u001b[0;32m--> 314\u001b[0;31m     \u001b[0mX\u001b[0m \u001b[0;34m=\u001b[0m \u001b[0marg1\u001b[0m \u001b[0;34m+\u001b[0m \u001b[0;36m0\u001b[0m \u001b[0;34m*\u001b[0m \u001b[0marg2\u001b[0m\u001b[0;34m\u001b[0m\u001b[0m\n\u001b[0m\u001b[1;32m    315\u001b[0m     \u001b[0mY\u001b[0m \u001b[0;34m=\u001b[0m \u001b[0marg2\u001b[0m \u001b[0;34m+\u001b[0m \u001b[0;36m0\u001b[0m \u001b[0;34m*\u001b[0m \u001b[0marg1\u001b[0m\u001b[0;34m\u001b[0m\u001b[0m\n\u001b[1;32m    316\u001b[0m \u001b[0;34m\u001b[0m\u001b[0m\n",
      "\u001b[0;32m~/Library/Caches/pypoetry/virtualenvs/daily-trading-nJ43NNNI-py3.7/lib/python3.7/site-packages/pandas/core/ops/common.py\u001b[0m in \u001b[0;36mnew_method\u001b[0;34m(self, other)\u001b[0m\n\u001b[1;32m     62\u001b[0m         \u001b[0mother\u001b[0m \u001b[0;34m=\u001b[0m \u001b[0mitem_from_zerodim\u001b[0m\u001b[0;34m(\u001b[0m\u001b[0mother\u001b[0m\u001b[0;34m)\u001b[0m\u001b[0;34m\u001b[0m\u001b[0m\n\u001b[1;32m     63\u001b[0m \u001b[0;34m\u001b[0m\u001b[0m\n\u001b[0;32m---> 64\u001b[0;31m         \u001b[0;32mreturn\u001b[0m \u001b[0mmethod\u001b[0m\u001b[0;34m(\u001b[0m\u001b[0mself\u001b[0m\u001b[0;34m,\u001b[0m \u001b[0mother\u001b[0m\u001b[0;34m)\u001b[0m\u001b[0;34m\u001b[0m\u001b[0m\n\u001b[0m\u001b[1;32m     65\u001b[0m \u001b[0;34m\u001b[0m\u001b[0m\n\u001b[1;32m     66\u001b[0m     \u001b[0;32mreturn\u001b[0m \u001b[0mnew_method\u001b[0m\u001b[0;34m\u001b[0m\u001b[0m\n",
      "\u001b[0;32m~/Library/Caches/pypoetry/virtualenvs/daily-trading-nJ43NNNI-py3.7/lib/python3.7/site-packages/pandas/core/ops/__init__.py\u001b[0m in \u001b[0;36mwrapper\u001b[0;34m(left, right)\u001b[0m\n\u001b[1;32m    496\u001b[0m     \u001b[0;32mdef\u001b[0m \u001b[0mwrapper\u001b[0m\u001b[0;34m(\u001b[0m\u001b[0mleft\u001b[0m\u001b[0;34m,\u001b[0m \u001b[0mright\u001b[0m\u001b[0;34m)\u001b[0m\u001b[0;34m:\u001b[0m\u001b[0;34m\u001b[0m\u001b[0m\n\u001b[1;32m    497\u001b[0m \u001b[0;34m\u001b[0m\u001b[0m\n\u001b[0;32m--> 498\u001b[0;31m         \u001b[0mleft\u001b[0m\u001b[0;34m,\u001b[0m \u001b[0mright\u001b[0m \u001b[0;34m=\u001b[0m \u001b[0m_align_method_SERIES\u001b[0m\u001b[0;34m(\u001b[0m\u001b[0mleft\u001b[0m\u001b[0;34m,\u001b[0m \u001b[0mright\u001b[0m\u001b[0;34m)\u001b[0m\u001b[0;34m\u001b[0m\u001b[0m\n\u001b[0m\u001b[1;32m    499\u001b[0m         \u001b[0mres_name\u001b[0m \u001b[0;34m=\u001b[0m \u001b[0mget_op_result_name\u001b[0m\u001b[0;34m(\u001b[0m\u001b[0mleft\u001b[0m\u001b[0;34m,\u001b[0m \u001b[0mright\u001b[0m\u001b[0;34m)\u001b[0m\u001b[0;34m\u001b[0m\u001b[0m\n\u001b[1;32m    500\u001b[0m \u001b[0;34m\u001b[0m\u001b[0m\n",
      "\u001b[0;32m~/Library/Caches/pypoetry/virtualenvs/daily-trading-nJ43NNNI-py3.7/lib/python3.7/site-packages/pandas/core/ops/__init__.py\u001b[0m in \u001b[0;36m_align_method_SERIES\u001b[0;34m(left, right, align_asobject)\u001b[0m\n\u001b[1;32m    434\u001b[0m     \u001b[0;32mif\u001b[0m \u001b[0misinstance\u001b[0m\u001b[0;34m(\u001b[0m\u001b[0mright\u001b[0m\u001b[0;34m,\u001b[0m \u001b[0mABCSeries\u001b[0m\u001b[0;34m)\u001b[0m\u001b[0;34m:\u001b[0m\u001b[0;34m\u001b[0m\u001b[0m\n\u001b[1;32m    435\u001b[0m         \u001b[0;31m# avoid repeated alignment\u001b[0m\u001b[0;34m\u001b[0m\u001b[0;34m\u001b[0m\u001b[0m\n\u001b[0;32m--> 436\u001b[0;31m         \u001b[0;32mif\u001b[0m \u001b[0;32mnot\u001b[0m \u001b[0mleft\u001b[0m\u001b[0;34m.\u001b[0m\u001b[0mindex\u001b[0m\u001b[0;34m.\u001b[0m\u001b[0mequals\u001b[0m\u001b[0;34m(\u001b[0m\u001b[0mright\u001b[0m\u001b[0;34m.\u001b[0m\u001b[0mindex\u001b[0m\u001b[0;34m)\u001b[0m\u001b[0;34m:\u001b[0m\u001b[0;34m\u001b[0m\u001b[0m\n\u001b[0m\u001b[1;32m    437\u001b[0m \u001b[0;34m\u001b[0m\u001b[0m\n\u001b[1;32m    438\u001b[0m             \u001b[0;32mif\u001b[0m \u001b[0malign_asobject\u001b[0m\u001b[0;34m:\u001b[0m\u001b[0;34m\u001b[0m\u001b[0m\n",
      "\u001b[0;32m~/Library/Caches/pypoetry/virtualenvs/daily-trading-nJ43NNNI-py3.7/lib/python3.7/site-packages/pandas/core/indexes/base.py\u001b[0m in \u001b[0;36mequals\u001b[0;34m(self, other)\u001b[0m\n\u001b[1;32m   4071\u001b[0m \u001b[0;34m\u001b[0m\u001b[0m\n\u001b[1;32m   4072\u001b[0m         return array_equivalent(\n\u001b[0;32m-> 4073\u001b[0;31m             \u001b[0mcom\u001b[0m\u001b[0;34m.\u001b[0m\u001b[0mvalues_from_object\u001b[0m\u001b[0;34m(\u001b[0m\u001b[0mself\u001b[0m\u001b[0;34m)\u001b[0m\u001b[0;34m,\u001b[0m \u001b[0mcom\u001b[0m\u001b[0;34m.\u001b[0m\u001b[0mvalues_from_object\u001b[0m\u001b[0;34m(\u001b[0m\u001b[0mother\u001b[0m\u001b[0;34m)\u001b[0m\u001b[0;34m\u001b[0m\u001b[0m\n\u001b[0m\u001b[1;32m   4074\u001b[0m         )\n\u001b[1;32m   4075\u001b[0m \u001b[0;34m\u001b[0m\u001b[0m\n",
      "\u001b[0;32m~/Library/Caches/pypoetry/virtualenvs/daily-trading-nJ43NNNI-py3.7/lib/python3.7/site-packages/pandas/core/dtypes/missing.py\u001b[0m in \u001b[0;36marray_equivalent\u001b[0;34m(left, right, strict_nan)\u001b[0m\n\u001b[1;32m    444\u001b[0m             \u001b[0;31m# isna considers NaN and None to be equivalent.\u001b[0m\u001b[0;34m\u001b[0m\u001b[0;34m\u001b[0m\u001b[0m\n\u001b[1;32m    445\u001b[0m             return lib.array_equivalent_object(\n\u001b[0;32m--> 446\u001b[0;31m                 \u001b[0mensure_object\u001b[0m\u001b[0;34m(\u001b[0m\u001b[0mleft\u001b[0m\u001b[0;34m.\u001b[0m\u001b[0mravel\u001b[0m\u001b[0;34m(\u001b[0m\u001b[0;34m)\u001b[0m\u001b[0;34m)\u001b[0m\u001b[0;34m,\u001b[0m \u001b[0mensure_object\u001b[0m\u001b[0;34m(\u001b[0m\u001b[0mright\u001b[0m\u001b[0;34m.\u001b[0m\u001b[0mravel\u001b[0m\u001b[0;34m(\u001b[0m\u001b[0;34m)\u001b[0m\u001b[0;34m)\u001b[0m\u001b[0;34m\u001b[0m\u001b[0m\n\u001b[0m\u001b[1;32m    447\u001b[0m             )\n\u001b[1;32m    448\u001b[0m \u001b[0;34m\u001b[0m\u001b[0m\n",
      "\u001b[0;31mKeyboardInterrupt\u001b[0m: "
     ]
    }
   ],
   "source": [
    " build_correlation_dfs(dict_of_stocks_and_dfs, verbose=False)['bac']"
   ]
  },
  {
   "cell_type": "code",
   "execution_count": 181,
   "metadata": {},
   "outputs": [
    {
     "data": {
      "text/plain": [
       "dict_keys(['vti', 'pbj', 'qqq', 'rost', 'spy', 'so', 'eqix', 'iwm', 'ce', 'emr', 'atvi', 'vfh', 'peg', 'adbe', 'cern', 'pg', 'pvh', 'lb', 'pej', 'rop', 'dia', 'are', 'ph', 'vno', 'ual', 'efx', 'xrt', 'bac', 'ni', 'bjk', 'pnr'])"
      ]
     },
     "execution_count": 181,
     "metadata": {},
     "output_type": "execute_result"
    }
   ],
   "source": [
    "# key is company value is df of data\n",
    "dict_of_stocks_and_dfs.keys()"
   ]
  },
  {
   "cell_type": "code",
   "execution_count": 182,
   "metadata": {},
   "outputs": [
    {
     "data": {
      "text/plain": [
       "31"
      ]
     },
     "execution_count": 182,
     "metadata": {},
     "output_type": "execute_result"
    }
   ],
   "source": [
    "len(dict_of_stocks_and_dfs)"
   ]
  },
  {
   "cell_type": "code",
   "execution_count": 183,
   "metadata": {},
   "outputs": [
    {
     "data": {
      "text/plain": [
       "'2020-04-27'"
      ]
     },
     "execution_count": 183,
     "metadata": {},
     "output_type": "execute_result"
    }
   ],
   "source": [
    "dict_of_stocks_and_dfs['pnr'].date.max()"
   ]
  },
  {
   "cell_type": "raw",
   "metadata": {},
   "source": [
    "dict_of_stocks_and_dfs"
   ]
  },
  {
   "cell_type": "code",
   "execution_count": 184,
   "metadata": {},
   "outputs": [
    {
     "data": {
      "text/plain": [
       "'1999-03-10'"
      ]
     },
     "execution_count": 184,
     "metadata": {},
     "output_type": "execute_result"
    }
   ],
   "source": [
    "dict_of_stocks_and_dfs['qqq'].date.min()"
   ]
  },
  {
   "cell_type": "code",
   "execution_count": 185,
   "metadata": {},
   "outputs": [
    {
     "data": {
      "text/plain": [
       "'2020-04-27'"
      ]
     },
     "execution_count": 185,
     "metadata": {},
     "output_type": "execute_result"
    }
   ],
   "source": [
    "dict_of_stocks_and_dfs['qqq'].date.max()"
   ]
  },
  {
   "cell_type": "markdown",
   "metadata": {},
   "source": [
    "# Create correlation & variance features\n",
    "- Daily, weekly, 30-days, 90-days, 180-days, 365-daysreturn"
   ]
  },
  {
   "cell_type": "code",
   "execution_count": 159,
   "metadata": {},
   "outputs": [],
   "source": [
    "\n",
    "# here the date is not the index, yet\n",
    "first_stock_df = dict_of_stocks_and_dfs['ph'].loc[ dict_of_stocks_and_dfs['ph'].date.isin(dict_of_stocks_and_dfs['emr'].date), :]"
   ]
  },
  {
   "cell_type": "code",
   "execution_count": 160,
   "metadata": {},
   "outputs": [
    {
     "data": {
      "text/plain": [
       "2632.50546526785"
      ]
     },
     "execution_count": 160,
     "metadata": {},
     "output_type": "execute_result"
    }
   ],
   "source": [
    "np.var(first_stock_df.close)"
   ]
  },
  {
   "cell_type": "code",
   "execution_count": 161,
   "metadata": {},
   "outputs": [
    {
     "data": {
      "text/html": [
       "<div>\n",
       "<style scoped>\n",
       "    .dataframe tbody tr th:only-of-type {\n",
       "        vertical-align: middle;\n",
       "    }\n",
       "\n",
       "    .dataframe tbody tr th {\n",
       "        vertical-align: top;\n",
       "    }\n",
       "\n",
       "    .dataframe thead th {\n",
       "        text-align: right;\n",
       "    }\n",
       "</style>\n",
       "<table border=\"1\" class=\"dataframe\">\n",
       "  <thead>\n",
       "    <tr style=\"text-align: right;\">\n",
       "      <th></th>\n",
       "      <th>date</th>\n",
       "      <th>open</th>\n",
       "      <th>high</th>\n",
       "      <th>low</th>\n",
       "      <th>close</th>\n",
       "      <th>volume</th>\n",
       "    </tr>\n",
       "  </thead>\n",
       "  <tbody>\n",
       "  </tbody>\n",
       "</table>\n",
       "</div>"
      ],
      "text/plain": [
       "Empty DataFrame\n",
       "Columns: [date, open, high, low, close, volume]\n",
       "Index: []"
      ]
     },
     "execution_count": 161,
     "metadata": {},
     "output_type": "execute_result"
    }
   ],
   "source": [
    "dict_of_stocks_and_dfs['ph'][dict_of_stocks_and_dfs['ph'].date == '2017-01-02']"
   ]
  },
  {
   "cell_type": "markdown",
   "metadata": {},
   "source": [
    "## Set the date as the index and sort"
   ]
  },
  {
   "cell_type": "code",
   "execution_count": 162,
   "metadata": {},
   "outputs": [
    {
     "ename": "NameError",
     "evalue": "name 'second_stock_df' is not defined",
     "output_type": "error",
     "traceback": [
      "\u001b[0;31m---------------------------------------------------------------------------\u001b[0m",
      "\u001b[0;31mNameError\u001b[0m                                 Traceback (most recent call last)",
      "\u001b[0;32m<ipython-input-162-02eadc1a0b2b>\u001b[0m in \u001b[0;36m<module>\u001b[0;34m\u001b[0m\n\u001b[1;32m      1\u001b[0m \u001b[0mfirst_stock_df\u001b[0m \u001b[0;34m=\u001b[0m \u001b[0mfirst_stock_df\u001b[0m\u001b[0;34m.\u001b[0m\u001b[0msort_values\u001b[0m\u001b[0;34m(\u001b[0m\u001b[0;34m'date'\u001b[0m\u001b[0;34m)\u001b[0m\u001b[0;34m\u001b[0m\u001b[0m\n\u001b[0;32m----> 2\u001b[0;31m \u001b[0msecond_stock_df\u001b[0m \u001b[0;34m=\u001b[0m \u001b[0msecond_stock_df\u001b[0m\u001b[0;34m.\u001b[0m\u001b[0msort_values\u001b[0m\u001b[0;34m(\u001b[0m\u001b[0;34m'date'\u001b[0m\u001b[0;34m)\u001b[0m\u001b[0;34m\u001b[0m\u001b[0m\n\u001b[0m\u001b[1;32m      3\u001b[0m \u001b[0;34m\u001b[0m\u001b[0m\n\u001b[1;32m      4\u001b[0m \u001b[0mfirst_stock_df\u001b[0m \u001b[0;34m=\u001b[0m \u001b[0mfirst_stock_df\u001b[0m\u001b[0;34m.\u001b[0m\u001b[0mset_index\u001b[0m\u001b[0;34m(\u001b[0m\u001b[0;34m'date'\u001b[0m\u001b[0;34m)\u001b[0m\u001b[0;34m\u001b[0m\u001b[0m\n\u001b[1;32m      5\u001b[0m \u001b[0msecond_stock_df\u001b[0m \u001b[0;34m=\u001b[0m \u001b[0msecond_stock_df\u001b[0m\u001b[0;34m.\u001b[0m\u001b[0mset_index\u001b[0m\u001b[0;34m(\u001b[0m\u001b[0;34m'date'\u001b[0m\u001b[0;34m)\u001b[0m\u001b[0;34m\u001b[0m\u001b[0m\n",
      "\u001b[0;31mNameError\u001b[0m: name 'second_stock_df' is not defined"
     ]
    }
   ],
   "source": [
    "first_stock_df = first_stock_df.sort_values('date')\n",
    "second_stock_df = second_stock_df.sort_values('date')\n",
    "\n",
    "first_stock_df = first_stock_df.set_index('date')\n",
    "second_stock_df = second_stock_df.set_index('date')"
   ]
  },
  {
   "cell_type": "code",
   "execution_count": null,
   "metadata": {},
   "outputs": [],
   "source": []
  },
  {
   "cell_type": "code",
   "execution_count": 163,
   "metadata": {},
   "outputs": [
    {
     "data": {
      "text/plain": [
       "834              NaN\n",
       "835              NaN\n",
       "836              NaN\n",
       "837              NaN\n",
       "838              NaN\n",
       "839              NaN\n",
       "840     95419.697574\n",
       "841     93678.013509\n",
       "842    217940.467100\n",
       "843    232513.207094\n",
       "Name: volume, dtype: float64"
      ]
     },
     "execution_count": 163,
     "metadata": {},
     "output_type": "execute_result"
    }
   ],
   "source": [
    "#pd.DataFrame(\n",
    "first_stock_df.volume.rolling(7).std()[:10] # .fillna(method='backfill').astype(int))"
   ]
  },
  {
   "cell_type": "code",
   "execution_count": null,
   "metadata": {},
   "outputs": [],
   "source": []
  },
  {
   "cell_type": "code",
   "execution_count": 164,
   "metadata": {},
   "outputs": [
    {
     "ename": "NameError",
     "evalue": "name 'second_stock_df' is not defined",
     "output_type": "error",
     "traceback": [
      "\u001b[0;31m---------------------------------------------------------------------------\u001b[0m",
      "\u001b[0;31mNameError\u001b[0m                                 Traceback (most recent call last)",
      "\u001b[0;32m<ipython-input-164-8d400c4456fc>\u001b[0m in \u001b[0;36m<module>\u001b[0;34m\u001b[0m\n\u001b[0;32m----> 1\u001b[0;31m \u001b[0mcorr_df\u001b[0m \u001b[0;34m=\u001b[0m \u001b[0mpd\u001b[0m\u001b[0;34m.\u001b[0m\u001b[0mDataFrame\u001b[0m\u001b[0;34m(\u001b[0m\u001b[0mfirst_stock_df\u001b[0m\u001b[0;34m.\u001b[0m\u001b[0mclose\u001b[0m\u001b[0;34m.\u001b[0m\u001b[0mrolling\u001b[0m\u001b[0;34m(\u001b[0m\u001b[0;36m7\u001b[0m\u001b[0;34m)\u001b[0m\u001b[0;34m.\u001b[0m\u001b[0mcorr\u001b[0m\u001b[0;34m(\u001b[0m\u001b[0msecond_stock_df\u001b[0m\u001b[0;34m.\u001b[0m\u001b[0mclose\u001b[0m\u001b[0;34m)\u001b[0m\u001b[0;34m)\u001b[0m\u001b[0;34m.\u001b[0m\u001b[0mfillna\u001b[0m\u001b[0;34m(\u001b[0m\u001b[0mmethod\u001b[0m\u001b[0;34m=\u001b[0m\u001b[0;34m'backfill'\u001b[0m\u001b[0;34m)\u001b[0m\u001b[0;34m.\u001b[0m\u001b[0mrename\u001b[0m\u001b[0;34m(\u001b[0m\u001b[0;34m{\u001b[0m\u001b[0;34m'close'\u001b[0m\u001b[0;34m:\u001b[0m \u001b[0;34m'rolling_corr'\u001b[0m\u001b[0;34m}\u001b[0m\u001b[0;34m,\u001b[0m\u001b[0maxis\u001b[0m\u001b[0;34m=\u001b[0m\u001b[0;36m1\u001b[0m\u001b[0;34m)\u001b[0m\u001b[0;34m\u001b[0m\u001b[0m\n\u001b[0m",
      "\u001b[0;31mNameError\u001b[0m: name 'second_stock_df' is not defined"
     ]
    }
   ],
   "source": [
    "corr_df = pd.DataFrame(first_stock_df.close.rolling(7).corr(second_stock_df.close)).fillna(method='backfill').rename({'close': 'rolling_corr'},axis=1)"
   ]
  },
  {
   "cell_type": "code",
   "execution_count": 165,
   "metadata": {},
   "outputs": [
    {
     "ename": "NameError",
     "evalue": "name 'corr_df' is not defined",
     "output_type": "error",
     "traceback": [
      "\u001b[0;31m---------------------------------------------------------------------------\u001b[0m",
      "\u001b[0;31mNameError\u001b[0m                                 Traceback (most recent call last)",
      "\u001b[0;32m<ipython-input-165-900c0bf68b21>\u001b[0m in \u001b[0;36m<module>\u001b[0;34m\u001b[0m\n\u001b[0;32m----> 1\u001b[0;31m \u001b[0mcorr_df\u001b[0m\u001b[0;34m\u001b[0m\u001b[0m\n\u001b[0m",
      "\u001b[0;31mNameError\u001b[0m: name 'corr_df' is not defined"
     ]
    }
   ],
   "source": [
    "corr_df"
   ]
  },
  {
   "cell_type": "code",
   "execution_count": 166,
   "metadata": {},
   "outputs": [
    {
     "data": {
      "text/plain": [
       "8775"
      ]
     },
     "execution_count": 166,
     "metadata": {},
     "output_type": "execute_result"
    }
   ],
   "source": [
    "first_stock_df.index.max()"
   ]
  },
  {
   "cell_type": "code",
   "execution_count": 167,
   "metadata": {},
   "outputs": [
    {
     "ename": "NameError",
     "evalue": "name 'second_stock_df' is not defined",
     "output_type": "error",
     "traceback": [
      "\u001b[0;31m---------------------------------------------------------------------------\u001b[0m",
      "\u001b[0;31mNameError\u001b[0m                                 Traceback (most recent call last)",
      "\u001b[0;32m<ipython-input-167-406befe2268d>\u001b[0m in \u001b[0;36m<module>\u001b[0;34m\u001b[0m\n\u001b[0;32m----> 1\u001b[0;31m \u001b[0msecond_stock_df\u001b[0m\u001b[0;34m.\u001b[0m\u001b[0mindex\u001b[0m\u001b[0;34m.\u001b[0m\u001b[0mmax\u001b[0m\u001b[0;34m(\u001b[0m\u001b[0;34m)\u001b[0m\u001b[0;34m\u001b[0m\u001b[0m\n\u001b[0m",
      "\u001b[0;31mNameError\u001b[0m: name 'second_stock_df' is not defined"
     ]
    }
   ],
   "source": [
    "second_stock_df.index.max()"
   ]
  },
  {
   "cell_type": "code",
   "execution_count": 168,
   "metadata": {},
   "outputs": [
    {
     "ename": "NameError",
     "evalue": "name 'second_stock_df' is not defined",
     "output_type": "error",
     "traceback": [
      "\u001b[0;31m---------------------------------------------------------------------------\u001b[0m",
      "\u001b[0;31mNameError\u001b[0m                                 Traceback (most recent call last)",
      "\u001b[0;32m<ipython-input-168-14e7fb15e2f1>\u001b[0m in \u001b[0;36m<module>\u001b[0;34m\u001b[0m\n\u001b[0;32m----> 1\u001b[0;31m \u001b[0mnp\u001b[0m\u001b[0;34m.\u001b[0m\u001b[0mcorrcoef\u001b[0m\u001b[0;34m(\u001b[0m\u001b[0mfirst_stock_df\u001b[0m\u001b[0;34m.\u001b[0m\u001b[0mclose\u001b[0m\u001b[0;34m,\u001b[0m \u001b[0msecond_stock_df\u001b[0m\u001b[0;34m.\u001b[0m\u001b[0mclose\u001b[0m\u001b[0;34m)\u001b[0m \u001b[0;31m# all time corrcoef\u001b[0m\u001b[0;34m\u001b[0m\u001b[0m\n\u001b[0m",
      "\u001b[0;31mNameError\u001b[0m: name 'second_stock_df' is not defined"
     ]
    }
   ],
   "source": [
    "np.corrcoef(first_stock_df.close, second_stock_df.close) # all time corrcoef"
   ]
  },
  {
   "cell_type": "code",
   "execution_count": 169,
   "metadata": {},
   "outputs": [
    {
     "ename": "NameError",
     "evalue": "name 'second_stock_df' is not defined",
     "output_type": "error",
     "traceback": [
      "\u001b[0;31m---------------------------------------------------------------------------\u001b[0m",
      "\u001b[0;31mNameError\u001b[0m                                 Traceback (most recent call last)",
      "\u001b[0;32m<ipython-input-169-645e01cd03bb>\u001b[0m in \u001b[0;36m<module>\u001b[0;34m\u001b[0m\n\u001b[1;32m      1\u001b[0m \u001b[0max\u001b[0m \u001b[0;34m=\u001b[0m \u001b[0mfirst_stock_df\u001b[0m\u001b[0;34m.\u001b[0m\u001b[0mplot\u001b[0m\u001b[0;34m(\u001b[0m\u001b[0my\u001b[0m\u001b[0;34m=\u001b[0m\u001b[0;34m'close'\u001b[0m\u001b[0;34m)\u001b[0m\u001b[0;34m\u001b[0m\u001b[0m\n\u001b[0;32m----> 2\u001b[0;31m \u001b[0msecond_stock_df\u001b[0m\u001b[0;34m.\u001b[0m\u001b[0mplot\u001b[0m\u001b[0;34m(\u001b[0m\u001b[0my\u001b[0m\u001b[0;34m=\u001b[0m\u001b[0;34m'close'\u001b[0m\u001b[0;34m,\u001b[0m \u001b[0mcolor\u001b[0m\u001b[0;34m=\u001b[0m\u001b[0;34m'red'\u001b[0m\u001b[0;34m,\u001b[0m \u001b[0max\u001b[0m\u001b[0;34m=\u001b[0m\u001b[0max\u001b[0m\u001b[0;34m)\u001b[0m\u001b[0;34m\u001b[0m\u001b[0m\n\u001b[0m",
      "\u001b[0;31mNameError\u001b[0m: name 'second_stock_df' is not defined"
     ]
    },
    {
     "data": {
      "image/png": "[encoded data removed]",
      "text/plain": [
       "<Figure size 432x288 with 1 Axes>"
      ]
     },
     "metadata": {
      "needs_background": "light"
     },
     "output_type": "display_data"
    }
   ],
   "source": [
    "\n",
    "ax = first_stock_df.plot(y='close')\n",
    "second_stock_df.plot(y='close', color='red', ax=ax)"
   ]
  },
  {
   "cell_type": "code",
   "execution_count": 170,
   "metadata": {},
   "outputs": [
    {
     "ename": "NameError",
     "evalue": "name 'correlation_df' is not defined",
     "output_type": "error",
     "traceback": [
      "\u001b[0;31m---------------------------------------------------------------------------\u001b[0m",
      "\u001b[0;31mNameError\u001b[0m                                 Traceback (most recent call last)",
      "\u001b[0;32m<ipython-input-170-21743bbfc4cb>\u001b[0m in \u001b[0;36m<module>\u001b[0;34m\u001b[0m\n\u001b[0;32m----> 1\u001b[0;31m \u001b[0mcorrelation_df\u001b[0m\u001b[0;34m.\u001b[0m\u001b[0minfo\u001b[0m\u001b[0;34m(\u001b[0m\u001b[0;34m)\u001b[0m\u001b[0;34m\u001b[0m\u001b[0m\n\u001b[0m",
      "\u001b[0;31mNameError\u001b[0m: name 'correlation_df' is not defined"
     ]
    }
   ],
   "source": [
    "correlation_df.info()"
   ]
  },
  {
   "cell_type": "code",
   "execution_count": 171,
   "metadata": {},
   "outputs": [
    {
     "ename": "NameError",
     "evalue": "name 'correlation_df' is not defined",
     "output_type": "error",
     "traceback": [
      "\u001b[0;31m---------------------------------------------------------------------------\u001b[0m",
      "\u001b[0;31mNameError\u001b[0m                                 Traceback (most recent call last)",
      "\u001b[0;32m<ipython-input-171-bfbf74f6c4bc>\u001b[0m in \u001b[0;36m<module>\u001b[0;34m\u001b[0m\n\u001b[0;32m----> 1\u001b[0;31m \u001b[0mcorrelation_df\u001b[0m\u001b[0;34m.\u001b[0m\u001b[0mset_index\u001b[0m\u001b[0;34m(\u001b[0m\u001b[0;34m'date'\u001b[0m\u001b[0;34m)\u001b[0m\u001b[0;34m.\u001b[0m\u001b[0mplot\u001b[0m\u001b[0;34m(\u001b[0m\u001b[0mfigsize\u001b[0m\u001b[0;34m=\u001b[0m\u001b[0;34m(\u001b[0m\u001b[0;36m30\u001b[0m\u001b[0;34m,\u001b[0m\u001b[0;36m5\u001b[0m\u001b[0;34m)\u001b[0m\u001b[0;34m,\u001b[0m \u001b[0mtitle\u001b[0m\u001b[0;34m=\u001b[0m\u001b[0;34m'Rolling 365-day correlation between ph and emr'\u001b[0m\u001b[0;34m)\u001b[0m\u001b[0;34m\u001b[0m\u001b[0m\n\u001b[0m",
      "\u001b[0;31mNameError\u001b[0m: name 'correlation_df' is not defined"
     ]
    }
   ],
   "source": [
    "correlation_df.set_index('date').plot(figsize=(30,5), title='Rolling 365-day correlation between ph and emr')"
   ]
  },
  {
   "cell_type": "code",
   "execution_count": 172,
   "metadata": {},
   "outputs": [
    {
     "data": {
      "text/html": [
       "<div>\n",
       "<style scoped>\n",
       "    .dataframe tbody tr th:only-of-type {\n",
       "        vertical-align: middle;\n",
       "    }\n",
       "\n",
       "    .dataframe tbody tr th {\n",
       "        vertical-align: top;\n",
       "    }\n",
       "\n",
       "    .dataframe thead th {\n",
       "        text-align: right;\n",
       "    }\n",
       "</style>\n",
       "<table border=\"1\" class=\"dataframe\">\n",
       "  <thead>\n",
       "    <tr style=\"text-align: right;\">\n",
       "      <th></th>\n",
       "      <th>open</th>\n",
       "      <th>high</th>\n",
       "      <th>low</th>\n",
       "      <th>close</th>\n",
       "      <th>volume</th>\n",
       "    </tr>\n",
       "    <tr>\n",
       "      <th>date</th>\n",
       "      <th></th>\n",
       "      <th></th>\n",
       "      <th></th>\n",
       "      <th></th>\n",
       "      <th></th>\n",
       "    </tr>\n",
       "  </thead>\n",
       "  <tbody>\n",
       "    <tr>\n",
       "      <th>2005-02-25</th>\n",
       "      <td>1</td>\n",
       "      <td>1</td>\n",
       "      <td>1</td>\n",
       "      <td>1</td>\n",
       "      <td>1</td>\n",
       "    </tr>\n",
       "    <tr>\n",
       "      <th>2015-03-26</th>\n",
       "      <td>1</td>\n",
       "      <td>1</td>\n",
       "      <td>1</td>\n",
       "      <td>1</td>\n",
       "      <td>1</td>\n",
       "    </tr>\n",
       "    <tr>\n",
       "      <th>2015-03-27</th>\n",
       "      <td>1</td>\n",
       "      <td>1</td>\n",
       "      <td>1</td>\n",
       "      <td>1</td>\n",
       "      <td>1</td>\n",
       "    </tr>\n",
       "    <tr>\n",
       "      <th>2015-03-30</th>\n",
       "      <td>1</td>\n",
       "      <td>1</td>\n",
       "      <td>1</td>\n",
       "      <td>1</td>\n",
       "      <td>1</td>\n",
       "    </tr>\n",
       "    <tr>\n",
       "      <th>2015-03-31</th>\n",
       "      <td>1</td>\n",
       "      <td>1</td>\n",
       "      <td>1</td>\n",
       "      <td>1</td>\n",
       "      <td>1</td>\n",
       "    </tr>\n",
       "    <tr>\n",
       "      <th>...</th>\n",
       "      <td>...</td>\n",
       "      <td>...</td>\n",
       "      <td>...</td>\n",
       "      <td>...</td>\n",
       "      <td>...</td>\n",
       "    </tr>\n",
       "    <tr>\n",
       "      <th>2010-03-24</th>\n",
       "      <td>1</td>\n",
       "      <td>1</td>\n",
       "      <td>1</td>\n",
       "      <td>1</td>\n",
       "      <td>1</td>\n",
       "    </tr>\n",
       "    <tr>\n",
       "      <th>2010-03-25</th>\n",
       "      <td>1</td>\n",
       "      <td>1</td>\n",
       "      <td>1</td>\n",
       "      <td>1</td>\n",
       "      <td>1</td>\n",
       "    </tr>\n",
       "    <tr>\n",
       "      <th>2010-03-26</th>\n",
       "      <td>1</td>\n",
       "      <td>1</td>\n",
       "      <td>1</td>\n",
       "      <td>1</td>\n",
       "      <td>1</td>\n",
       "    </tr>\n",
       "    <tr>\n",
       "      <th>2010-03-10</th>\n",
       "      <td>1</td>\n",
       "      <td>1</td>\n",
       "      <td>1</td>\n",
       "      <td>1</td>\n",
       "      <td>1</td>\n",
       "    </tr>\n",
       "    <tr>\n",
       "      <th>2020-04-24</th>\n",
       "      <td>1</td>\n",
       "      <td>1</td>\n",
       "      <td>1</td>\n",
       "      <td>1</td>\n",
       "      <td>1</td>\n",
       "    </tr>\n",
       "  </tbody>\n",
       "</table>\n",
       "<p>3816 rows × 5 columns</p>\n",
       "</div>"
      ],
      "text/plain": [
       "            open  high  low  close  volume\n",
       "date                                      \n",
       "2005-02-25     1     1    1      1       1\n",
       "2015-03-26     1     1    1      1       1\n",
       "2015-03-27     1     1    1      1       1\n",
       "2015-03-30     1     1    1      1       1\n",
       "2015-03-31     1     1    1      1       1\n",
       "...          ...   ...  ...    ...     ...\n",
       "2010-03-24     1     1    1      1       1\n",
       "2010-03-25     1     1    1      1       1\n",
       "2010-03-26     1     1    1      1       1\n",
       "2010-03-10     1     1    1      1       1\n",
       "2020-04-24     1     1    1      1       1\n",
       "\n",
       "[3816 rows x 5 columns]"
      ]
     },
     "execution_count": 172,
     "metadata": {},
     "output_type": "execute_result"
    }
   ],
   "source": [
    "dict_of_stocks_and_dfs['cern'].groupby('date').count().sort_values(by='volume', ascending=True)"
   ]
  },
  {
   "cell_type": "markdown",
   "metadata": {},
   "source": [
    "## Build a function to create correlation features for all pairs of stocks"
   ]
  },
  {
   "cell_type": "code",
   "execution_count": null,
   "metadata": {},
   "outputs": [],
   "source": []
  },
  {
   "cell_type": "code",
   "execution_count": 186,
   "metadata": {},
   "outputs": [],
   "source": [
    "def build_correlation_dfs(dict_of_stocks_and_dfs, n_day_rolling_features_list=[ 3, 5, 7, 10, 30, 180, 365], verbose=False):\n",
    "    \"\"\"\n",
    "    Create correlation + variance based  upon daily closing stock prices for given date ranges\n",
    "    \n",
    "    also include daily volume\n",
    "    \n",
    "    We are trying to  predict 7 day correaltion\n",
    "    \"\"\"\n",
    "\n",
    "    stock_features_dict = defaultdict(pd.DataFrame)\n",
    "    start_time = time.time()\n",
    "    \n",
    "    start = time.time()\n",
    "    n_stocks = len(dict_of_stocks_and_dfs.keys())\n",
    "    final_feature_df = create_date_dummy_df()\n",
    "    pairs_of_stocks = []\n",
    "    \n",
    "    for idx, first_stock_name in enumerate(dict_of_stocks_and_dfs.keys()):\n",
    "        print('')\n",
    "        print(f\"Finished {idx/n_stocks} pct of stocks\")\n",
    "        print('')\n",
    "        for second_idx, second_stock_name in enumerate(dict_of_stocks_and_dfs.keys()):\n",
    "            stock_pair = f\"{first_stock_name}_{second_stock_name}\"\n",
    "            reverse_pair = f\"{second_stock_name}_{first_stock_name}\"\n",
    "            \n",
    "            if (first_stock_name == second_stock_name) or (stock_pair in pairs_of_stocks)  or (reverse_pair in pairs_of_stocks): # pnr -> ual same as ual -> pnr\n",
    "                continue\n",
    "            else:\n",
    "                pairs_of_stocks.append(stock_pair)\n",
    "            if verbose:\n",
    "                print('-------')\n",
    "                print(f\"{first_stock_name} & {second_stock_name}\")\n",
    "                print('-------')\n",
    "            \n",
    "            # here the date is not the index, yet\n",
    "            first_stock_df = dict_of_stocks_and_dfs[f\"{first_stock_name}\"].loc[ \n",
    "                dict_of_stocks_and_dfs[f\"{first_stock_name}\"].date.isin(dict_of_stocks_and_dfs[f\"{second_stock_name}\"].date), :]\n",
    "\n",
    "            #  filter second df by the dates in first\n",
    "\n",
    "            # here the date is not the index, yet\n",
    "            second_stock_df = dict_of_stocks_and_dfs[f\"{second_stock_name}\"].loc[ \n",
    "                dict_of_stocks_and_dfs[f\"{second_stock_name}\"].date.isin(first_stock_df.date), :]\n",
    "            \n",
    "            # set the date as an index and sort by date\n",
    "            first_stock_df = first_stock_df.sort_values('date')\n",
    "            second_stock_df = second_stock_df.sort_values('date')\n",
    "\n",
    "            first_stock_df = first_stock_df.set_index('date')\n",
    "            second_stock_df = second_stock_df.set_index('date')\n",
    "            \n",
    "            all_features_df = pd.DataFrame()\n",
    "            for rolling_idx, rolling_day in enumerate(n_day_rolling_features_list):\n",
    "                if verbose:\n",
    "                    print(f\"Rolling calculations for {rolling_day}\")\n",
    "                features_df = create_correlation_and_variance_features(\n",
    "                    first_stock_df, second_stock_df, rolling_day, final_feature_df, \n",
    "                    first_stock_name=first_stock_name, second_stock_name=second_stock_name)\n",
    "                   \n",
    "                current_feature_cols = set(features_df.columns)\n",
    "                final_feature_cols = set(final_feature_df.columns)\n",
    "\n",
    "                \n",
    "                if (f\"{first_stock_name}_volume\" not in final_feature_df.columns) and (rolling_idx == 0):\n",
    "                    features_df[f\"{first_stock_name}_volume\"] = list(first_stock_df.volume)\n",
    "                \n",
    "                if (f\"{second_stock_name}_volume\" not in final_feature_df.columns) and (rolling_idx == 0):\n",
    "                    features_df[f\"{second_stock_name}_volume\"] = list(second_stock_df.volume)\n",
    "                    \n",
    "                if rolling_idx == 0: \n",
    "                    all_features_df = features_df\n",
    "                else:\n",
    "                    all_features_df = all_features_df.join(features_df, on='date', lsuffix='_left')\n",
    "            \n",
    "\n",
    "                    \n",
    "            all_features_df.index = pd.to_datetime(all_features_df.index)\n",
    "            final_feature_df = final_feature_df.join(all_features_df, on='date')\n",
    "\n",
    "            if verbose:\n",
    "                end = time.time()\n",
    "                print(f\"Building all features took {(end-start)/60} minutes\")\n",
    "                start = time.time()\n",
    "\n",
    "    end_time = time.time()\n",
    "    print(f\"Total time {(end_time-start_time) / 60} minutes for {len(pairs_of_stocks)} pairs\")\n",
    "    final_feature_df = add_time_feature(final_feature_df)\n",
    "    return final_feature_df, pairs_of_stocks\n",
    "            \n",
    "        \n",
    "\n",
    "# Note: will eventuall need to add in 0s for stocks withour correlation data with other stocks due to date range"
   ]
  },
  {
   "cell_type": "code",
   "execution_count": 187,
   "metadata": {},
   "outputs": [],
   "source": [
    "def create_date_dummy_df(start_date=datetime.datetime(1980,1,1), n_years=50):\n",
    "    \n",
    "    #  create dummy df with dates to join against\n",
    "    list_of_dates  = []\n",
    "    n_days = 365*n_years\n",
    "    start_date = start_date\n",
    "\n",
    "    for i in range(n_days):\n",
    "        list_of_dates.append(start_date + datetime.timedelta(i))\n",
    "    df_ = pd.DataFrame(list_of_dates, columns=['date'])\n",
    "    \n",
    "    df_.date_ =  pd.to_datetime(df_.date)\n",
    "    return df_.set_index('date')\n",
    "    "
   ]
  },
  {
   "cell_type": "code",
   "execution_count": 188,
   "metadata": {},
   "outputs": [],
   "source": [
    "def add_time_feature(final_stock_df):\n",
    "    \n",
    "    days = [i.day for i in final_stock_df.index]\n",
    "    months = [i.month for i in final_stock_df.index]\n",
    "    quarters = [i.quarter for i in final_stock_df.index]\n",
    "    years = [i.year for i in final_stock_df.index]\n",
    "    \n",
    "    us_holidays = holidays.UnitedStates()\n",
    "    \n",
    "    h_ = np.array([i in us_holidays for i in final_stock_df.index]).astype(int)\n",
    "\n",
    "\n",
    "    final_stock_df['day'] = days\n",
    "    final_stock_df['month'] = months\n",
    "    final_stock_df['quarter'] = quarters\n",
    "    final_stock_df['year'] = years\n",
    "    final_stock_df['is_holiday'] = h_\n",
    "    \n",
    "    return final_stock_df"
   ]
  },
  {
   "cell_type": "code",
   "execution_count": 189,
   "metadata": {},
   "outputs": [],
   "source": [
    "def create_correlation_and_variance_features(first_stock_df, second_stock_df, n_days_stride, final_stock_df, \n",
    "                                             first_stock_name=None, second_stock_name=None, verbose=False):\n",
    "    \"\"\"\n",
    "    n_days_stride: the  number of rolling days to calculate correlation for\n",
    "    \"\"\"\n",
    "    n_rows = len(first_stock_df)\n",
    "\n",
    "    previous_row = 0\n",
    "\n",
    "    features_per_time_period = defaultdict(list)\n",
    "    if verbose:\n",
    "        print(f\"Creating correlations + variance on close for {n_days_stride} days\")\n",
    "    \n",
    "    rolling_close_df = pd.DataFrame(first_stock_df.close.rolling(\n",
    "        n_days_stride).corr(second_stock_df.close)).rename(\n",
    "        {'close': f\"{first_stock_name}_{second_stock_name}_close_corr_rolling_{n_days_stride}_days\"},axis=1).fillna(method='backfill').round(6)\n",
    "\n",
    "    \n",
    "    # add cols\n",
    "    \n",
    "    current_feature_cols = list(final_stock_df.columns)\n",
    "    \n",
    "\n",
    "    # as we go through different pairs will have multiple var / corr for the first stock\n",
    "    # pnc_bar calcualtes corr for pnr\n",
    "    #pnr_bat calculates corr for pnr\n",
    "    # don't want the same cols\n",
    "    if f\"{first_stock_name}_close_std_rolling_{n_days_stride}_days\" not in current_feature_cols:\n",
    "        \n",
    "        rolling_close_std_first_stock =  first_stock_df.close.rolling(n_days_stride).std().fillna(method='backfill').round(6)\n",
    "        rolling_close_df[f\"{first_stock_name}_close_std_rolling_{n_days_stride}_days\"] = rolling_close_std_first_stock\n",
    "        \n",
    "    if f\"{second_stock_name}_close_std_rolling_{n_days_stride}_days\" not in current_feature_cols:\n",
    "        rolling_close_std_second_stock =  second_stock_df.close.rolling(n_days_stride).std().fillna(method='backfill').round( 6)\n",
    "        rolling_close_df[f\"{second_stock_name}_close_std_rolling_{n_days_stride}_days\"] = rolling_close_std_second_stock\n",
    "        \n",
    "    if f\"{first_stock_name}_volume_std_rolling_{n_days_stride}_days\" not in current_feature_cols:\n",
    "        rolling_volume_std_first_stock =  first_stock_df.volume.rolling(n_days_stride).std().fillna(method='backfill').round(6)\n",
    "        rolling_close_df[f\"{first_stock_name}_volume_std_rolling_{n_days_stride}_days\"] = rolling_volume_std_first_stock\n",
    "        \n",
    "    if f\"{second_stock_name}_volume_std_rolling_{n_days_stride}_days\" not in current_feature_cols:\n",
    "        rolling_volume_std_second_stock =  second_stock_df.volume.rolling(n_days_stride).std().fillna(method='backfill').round(6)\n",
    "        rolling_close_df[f\"{second_stock_name}_volume_std_rolling_{n_days_stride}_days\"] = rolling_volume_std_second_stock\n",
    "    \n",
    "    return rolling_close_df\n",
    "\n"
   ]
  },
  {
   "cell_type": "code",
   "execution_count": 202,
   "metadata": {},
   "outputs": [
    {
     "name": "stderr",
     "output_type": "stream",
     "text": [
      "/Users/jonathanhilgart/Library/Caches/pypoetry/virtualenvs/daily-trading-nJ43NNNI-py3.7/lib/python3.7/site-packages/ipykernel_launcher.py:12: UserWarning: Pandas doesn't allow columns to be created via a new attribute name - see https://pandas.pydata.org/pandas-docs/stable/indexing.html#attribute-access\n",
      "  if sys.path[0] == '':\n"
     ]
    },
    {
     "name": "stdout",
     "output_type": "stream",
     "text": [
      "\n",
      "Finished 0.0 pct of stocks\n",
      "\n",
      "-------\n",
      "vti & pbj\n",
      "-------\n",
      "Rolling calculations for 3\n",
      "Rolling calculations for 5\n",
      "Rolling calculations for 7\n",
      "Rolling calculations for 10\n",
      "Rolling calculations for 30\n",
      "Rolling calculations for 180\n",
      "Rolling calculations for 365\n",
      "Building all features took 0.0034358461697896322 minutes\n",
      "-------\n",
      "vti & qqq\n",
      "-------\n",
      "Rolling calculations for 3\n",
      "Rolling calculations for 5\n",
      "Rolling calculations for 7\n",
      "Rolling calculations for 10\n",
      "Rolling calculations for 30\n",
      "Rolling calculations for 180\n",
      "Rolling calculations for 365\n",
      "Building all features took 0.002283314863840739 minutes\n",
      "-------\n",
      "vti & rost\n",
      "-------\n",
      "Rolling calculations for 3\n",
      "Rolling calculations for 5\n",
      "Rolling calculations for 7\n",
      "Rolling calculations for 10\n",
      "Rolling calculations for 30\n",
      "Rolling calculations for 180\n",
      "Rolling calculations for 365\n",
      "Building all features took 0.002280302842458089 minutes\n",
      "-------\n",
      "vti & spy\n",
      "-------\n",
      "Rolling calculations for 3\n",
      "Rolling calculations for 5\n",
      "Rolling calculations for 7\n",
      "Rolling calculations for 10\n",
      "Rolling calculations for 30\n",
      "Rolling calculations for 180\n",
      "Rolling calculations for 365\n",
      "Building all features took 0.0022032499313354493 minutes\n",
      "-------\n",
      "vti & so\n",
      "-------\n",
      "Rolling calculations for 3\n",
      "Rolling calculations for 5\n",
      "Rolling calculations for 7\n",
      "Rolling calculations for 10\n",
      "Rolling calculations for 30\n",
      "Rolling calculations for 180\n",
      "Rolling calculations for 365\n",
      "Building all features took 0.0024431308110555014 minutes\n",
      "-------\n",
      "vti & eqix\n",
      "-------\n",
      "Rolling calculations for 3\n",
      "Rolling calculations for 5\n",
      "Rolling calculations for 7\n",
      "Rolling calculations for 10\n",
      "Rolling calculations for 30\n",
      "Rolling calculations for 180\n",
      "Rolling calculations for 365\n",
      "Building all features took 0.0022480328877766925 minutes\n",
      "-------\n",
      "vti & iwm\n",
      "-------\n",
      "Rolling calculations for 3\n",
      "Rolling calculations for 5\n",
      "Rolling calculations for 7\n",
      "Rolling calculations for 10\n",
      "Rolling calculations for 30\n",
      "Rolling calculations for 180\n",
      "Rolling calculations for 365\n",
      "Building all features took 0.002327434221903483 minutes\n",
      "-------\n",
      "vti & ce\n",
      "-------\n",
      "Rolling calculations for 3\n",
      "Rolling calculations for 5\n",
      "Rolling calculations for 7\n",
      "Rolling calculations for 10\n",
      "Rolling calculations for 30\n",
      "Rolling calculations for 180\n",
      "Rolling calculations for 365\n",
      "Building all features took 0.002528997262318929 minutes\n",
      "-------\n",
      "vti & emr\n",
      "-------\n",
      "Rolling calculations for 3\n",
      "Rolling calculations for 5\n",
      "Rolling calculations for 7\n",
      "Rolling calculations for 10\n",
      "Rolling calculations for 30\n",
      "Rolling calculations for 180\n",
      "Rolling calculations for 365\n",
      "Building all features took 0.002755868434906006 minutes\n",
      "-------\n",
      "vti & atvi\n",
      "-------\n",
      "Rolling calculations for 3\n",
      "Rolling calculations for 5\n",
      "Rolling calculations for 7\n",
      "Rolling calculations for 10\n",
      "Rolling calculations for 30\n",
      "Rolling calculations for 180\n",
      "Rolling calculations for 365\n",
      "Building all features took 0.00260616938273112 minutes\n",
      "-------\n",
      "vti & vfh\n",
      "-------\n",
      "Rolling calculations for 3\n",
      "Rolling calculations for 5\n",
      "Rolling calculations for 7\n",
      "Rolling calculations for 10\n",
      "Rolling calculations for 30\n",
      "Rolling calculations for 180\n",
      "Rolling calculations for 365\n",
      "Building all features took 0.00270466407140096 minutes\n",
      "-------\n",
      "vti & peg\n",
      "-------\n",
      "Rolling calculations for 3\n",
      "Rolling calculations for 5\n",
      "Rolling calculations for 7\n",
      "Rolling calculations for 10\n",
      "Rolling calculations for 30\n",
      "Rolling calculations for 180\n",
      "Rolling calculations for 365\n",
      "Building all features took 0.0027625679969787596 minutes\n",
      "-------\n",
      "vti & adbe\n",
      "-------\n",
      "Rolling calculations for 3\n",
      "Rolling calculations for 5\n",
      "Rolling calculations for 7\n",
      "Rolling calculations for 10\n",
      "Rolling calculations for 30\n",
      "Rolling calculations for 180\n",
      "Rolling calculations for 365\n",
      "Building all features took 0.0028537670771280927 minutes\n",
      "-------\n",
      "vti & cern\n",
      "-------\n",
      "Rolling calculations for 3\n",
      "Rolling calculations for 5\n",
      "Rolling calculations for 7\n",
      "Rolling calculations for 10\n",
      "Rolling calculations for 30\n",
      "Rolling calculations for 180\n",
      "Rolling calculations for 365\n",
      "Building all features took 0.0028691848119099935 minutes\n",
      "-------\n",
      "vti & pg\n",
      "-------\n",
      "Rolling calculations for 3\n",
      "Rolling calculations for 5\n",
      "Rolling calculations for 7\n",
      "Rolling calculations for 10\n",
      "Rolling calculations for 30\n",
      "Rolling calculations for 180\n",
      "Rolling calculations for 365\n",
      "Building all features took 0.0030020634333292645 minutes\n",
      "-------\n",
      "vti & pvh\n",
      "-------\n",
      "Rolling calculations for 3\n",
      "Rolling calculations for 5\n",
      "Rolling calculations for 7\n",
      "Rolling calculations for 10\n",
      "Rolling calculations for 30\n",
      "Rolling calculations for 180\n",
      "Rolling calculations for 365\n",
      "Building all features took 0.002949198087056478 minutes\n",
      "-------\n",
      "vti & lb\n",
      "-------\n",
      "Rolling calculations for 3\n",
      "Rolling calculations for 5\n",
      "Rolling calculations for 7\n",
      "Rolling calculations for 10\n",
      "Rolling calculations for 30\n",
      "Rolling calculations for 180\n",
      "Rolling calculations for 365\n",
      "Building all features took 0.0030583302179972333 minutes\n",
      "-------\n",
      "vti & pej\n",
      "-------\n",
      "Rolling calculations for 3\n",
      "Rolling calculations for 5\n",
      "Rolling calculations for 7\n",
      "Rolling calculations for 10\n",
      "Rolling calculations for 30\n",
      "Rolling calculations for 180\n",
      "Rolling calculations for 365\n",
      "Building all features took 0.003062117099761963 minutes\n",
      "-------\n",
      "vti & rop\n",
      "-------\n",
      "Rolling calculations for 3\n",
      "Rolling calculations for 5\n",
      "Rolling calculations for 7\n",
      "Rolling calculations for 10\n",
      "Rolling calculations for 30\n",
      "Rolling calculations for 180\n",
      "Rolling calculations for 365\n",
      "Building all features took 0.00299073060353597 minutes\n",
      "-------\n",
      "vti & dia\n",
      "-------\n",
      "Rolling calculations for 3\n",
      "Rolling calculations for 5\n",
      "Rolling calculations for 7\n",
      "Rolling calculations for 10\n",
      "Rolling calculations for 30\n",
      "Rolling calculations for 180\n",
      "Rolling calculations for 365\n",
      "Building all features took 0.003045201301574707 minutes\n",
      "-------\n",
      "vti & are\n",
      "-------\n",
      "Rolling calculations for 3\n",
      "Rolling calculations for 5\n",
      "Rolling calculations for 7\n",
      "Rolling calculations for 10\n",
      "Rolling calculations for 30\n",
      "Rolling calculations for 180\n",
      "Rolling calculations for 365\n",
      "Building all features took 0.003064417839050293 minutes\n",
      "-------\n",
      "vti & ph\n",
      "-------\n",
      "Rolling calculations for 3\n",
      "Rolling calculations for 5\n",
      "Rolling calculations for 7\n",
      "Rolling calculations for 10\n",
      "Rolling calculations for 30\n",
      "Rolling calculations for 180\n",
      "Rolling calculations for 365\n",
      "Building all features took 0.003129565715789795 minutes\n",
      "-------\n",
      "vti & vno\n",
      "-------\n",
      "Rolling calculations for 3\n",
      "Rolling calculations for 5\n",
      "Rolling calculations for 7\n",
      "Rolling calculations for 10\n",
      "Rolling calculations for 30\n",
      "Rolling calculations for 180\n",
      "Rolling calculations for 365\n",
      "Building all features took 0.003296816349029541 minutes\n",
      "-------\n",
      "vti & ual\n",
      "-------\n",
      "Rolling calculations for 3\n",
      "Rolling calculations for 5\n",
      "Rolling calculations for 7\n",
      "Rolling calculations for 10\n",
      "Rolling calculations for 30\n",
      "Rolling calculations for 180\n",
      "Rolling calculations for 365\n",
      "Building all features took 0.0032645503679911295 minutes\n",
      "-------\n",
      "vti & efx\n",
      "-------\n",
      "Rolling calculations for 3\n",
      "Rolling calculations for 5\n",
      "Rolling calculations for 7\n",
      "Rolling calculations for 10\n",
      "Rolling calculations for 30\n",
      "Rolling calculations for 180\n",
      "Rolling calculations for 365\n",
      "Building all features took 0.0031985839207967124 minutes\n",
      "-------\n",
      "vti & xrt\n",
      "-------\n",
      "Rolling calculations for 3\n",
      "Rolling calculations for 5\n",
      "Rolling calculations for 7\n",
      "Rolling calculations for 10\n",
      "Rolling calculations for 30\n",
      "Rolling calculations for 180\n",
      "Rolling calculations for 365\n",
      "Building all features took 0.00404653549194336 minutes\n",
      "-------\n",
      "vti & bac\n",
      "-------\n",
      "Rolling calculations for 3\n",
      "Rolling calculations for 5\n",
      "Rolling calculations for 7\n",
      "Rolling calculations for 10\n",
      "Rolling calculations for 30\n",
      "Rolling calculations for 180\n",
      "Rolling calculations for 365\n",
      "Building all features took 0.003494250774383545 minutes\n",
      "-------\n",
      "vti & ni\n",
      "-------\n",
      "Rolling calculations for 3\n",
      "Rolling calculations for 5\n",
      "Rolling calculations for 7\n",
      "Rolling calculations for 10\n",
      "Rolling calculations for 30\n",
      "Rolling calculations for 180\n",
      "Rolling calculations for 365\n",
      "Building all features took 0.0032874663670857747 minutes\n",
      "-------\n",
      "vti & bjk\n",
      "-------\n",
      "Rolling calculations for 3\n",
      "Rolling calculations for 5\n",
      "Rolling calculations for 7\n",
      "Rolling calculations for 10\n",
      "Rolling calculations for 30\n",
      "Rolling calculations for 180\n",
      "Rolling calculations for 365\n",
      "Building all features took 0.003274047374725342 minutes\n",
      "-------\n",
      "vti & pnr\n",
      "-------\n",
      "Rolling calculations for 3\n",
      "Rolling calculations for 5\n",
      "Rolling calculations for 7\n",
      "Rolling calculations for 10\n",
      "Rolling calculations for 30\n",
      "Rolling calculations for 180\n",
      "Rolling calculations for 365\n",
      "Building all features took 0.0036651174227396647 minutes\n",
      "\n",
      "Finished 0.03225806451612903 pct of stocks\n",
      "\n",
      "-------\n",
      "pbj & qqq\n",
      "-------\n",
      "Rolling calculations for 3\n",
      "Rolling calculations for 5\n",
      "Rolling calculations for 7\n",
      "Rolling calculations for 10\n",
      "Rolling calculations for 30\n",
      "Rolling calculations for 180\n",
      "Rolling calculations for 365\n",
      "Building all features took 0.003240636984507243 minutes\n",
      "-------\n",
      "pbj & rost\n",
      "-------\n",
      "Rolling calculations for 3\n",
      "Rolling calculations for 5\n",
      "Rolling calculations for 7\n",
      "Rolling calculations for 10\n",
      "Rolling calculations for 30\n",
      "Rolling calculations for 180\n",
      "Rolling calculations for 365\n",
      "Building all features took 0.003060718377431234 minutes\n",
      "-------\n",
      "pbj & spy\n",
      "-------\n",
      "Rolling calculations for 3\n",
      "Rolling calculations for 5\n",
      "Rolling calculations for 7\n",
      "Rolling calculations for 10\n",
      "Rolling calculations for 30\n",
      "Rolling calculations for 180\n",
      "Rolling calculations for 365\n",
      "Building all features took 0.003953468799591064 minutes\n",
      "-------\n",
      "pbj & so\n",
      "-------\n",
      "Rolling calculations for 3\n",
      "Rolling calculations for 5\n",
      "Rolling calculations for 7\n",
      "Rolling calculations for 10\n",
      "Rolling calculations for 30\n",
      "Rolling calculations for 180\n",
      "Rolling calculations for 365\n",
      "Building all features took 0.0030295689900716144 minutes\n",
      "-------\n",
      "pbj & eqix\n",
      "-------\n",
      "Rolling calculations for 3\n",
      "Rolling calculations for 5\n",
      "Rolling calculations for 7\n",
      "Rolling calculations for 10\n",
      "Rolling calculations for 30\n",
      "Rolling calculations for 180\n",
      "Rolling calculations for 365\n",
      "Building all features took 0.0032365997632344563 minutes\n",
      "-------\n",
      "pbj & iwm\n",
      "-------\n",
      "Rolling calculations for 3\n",
      "Rolling calculations for 5\n",
      "Rolling calculations for 7\n",
      "Rolling calculations for 10\n",
      "Rolling calculations for 30\n",
      "Rolling calculations for 180\n",
      "Rolling calculations for 365\n",
      "Building all features took 0.0031679670015970864 minutes\n",
      "-------\n",
      "pbj & ce\n",
      "-------\n",
      "Rolling calculations for 3\n",
      "Rolling calculations for 5\n",
      "Rolling calculations for 7\n",
      "Rolling calculations for 10\n",
      "Rolling calculations for 30\n",
      "Rolling calculations for 180\n",
      "Rolling calculations for 365\n",
      "Building all features took 0.002984015146891276 minutes\n",
      "-------\n",
      "pbj & emr\n",
      "-------\n",
      "Rolling calculations for 3\n",
      "Rolling calculations for 5\n",
      "Rolling calculations for 7\n",
      "Rolling calculations for 10\n",
      "Rolling calculations for 30\n",
      "Rolling calculations for 180\n",
      "Rolling calculations for 365\n",
      "Building all features took 0.0030974785486857096 minutes\n",
      "-------\n",
      "pbj & atvi\n",
      "-------\n",
      "Rolling calculations for 3\n",
      "Rolling calculations for 5\n",
      "Rolling calculations for 7\n",
      "Rolling calculations for 10\n",
      "Rolling calculations for 30\n",
      "Rolling calculations for 180\n",
      "Rolling calculations for 365\n",
      "Building all features took 0.003312420845031738 minutes\n",
      "-------\n",
      "pbj & vfh\n",
      "-------\n",
      "Rolling calculations for 3\n",
      "Rolling calculations for 5\n",
      "Rolling calculations for 7\n",
      "Rolling calculations for 10\n",
      "Rolling calculations for 30\n",
      "Rolling calculations for 180\n",
      "Rolling calculations for 365\n",
      "Building all features took 0.003051932652791341 minutes\n",
      "-------\n",
      "pbj & peg\n",
      "-------\n",
      "Rolling calculations for 3\n",
      "Rolling calculations for 5\n",
      "Rolling calculations for 7\n",
      "Rolling calculations for 10\n",
      "Rolling calculations for 30\n",
      "Rolling calculations for 180\n",
      "Rolling calculations for 365\n",
      "Building all features took 0.0032747626304626466 minutes\n",
      "-------\n",
      "pbj & adbe\n",
      "-------\n",
      "Rolling calculations for 3\n",
      "Rolling calculations for 5\n",
      "Rolling calculations for 7\n",
      "Rolling calculations for 10\n",
      "Rolling calculations for 30\n",
      "Rolling calculations for 180\n",
      "Rolling calculations for 365\n",
      "Building all features took 0.0033225337664286297 minutes\n",
      "-------\n",
      "pbj & cern\n",
      "-------\n",
      "Rolling calculations for 3\n",
      "Rolling calculations for 5\n",
      "Rolling calculations for 7\n",
      "Rolling calculations for 10\n",
      "Rolling calculations for 30\n",
      "Rolling calculations for 180\n",
      "Rolling calculations for 365\n",
      "Building all features took 0.0031974037488301595 minutes\n",
      "-------\n",
      "pbj & pg\n",
      "-------\n",
      "Rolling calculations for 3\n",
      "Rolling calculations for 5\n",
      "Rolling calculations for 7\n",
      "Rolling calculations for 10\n",
      "Rolling calculations for 30\n",
      "Rolling calculations for 180\n",
      "Rolling calculations for 365\n",
      "Building all features took 0.0031701842943827312 minutes\n",
      "-------\n",
      "pbj & pvh\n",
      "-------\n",
      "Rolling calculations for 3\n",
      "Rolling calculations for 5\n",
      "Rolling calculations for 7\n",
      "Rolling calculations for 10\n",
      "Rolling calculations for 30\n",
      "Rolling calculations for 180\n",
      "Rolling calculations for 365\n",
      "Building all features took 0.0030630310376485188 minutes\n",
      "-------\n",
      "pbj & lb\n",
      "-------\n",
      "Rolling calculations for 3\n",
      "Rolling calculations for 5\n",
      "Rolling calculations for 7\n",
      "Rolling calculations for 10\n",
      "Rolling calculations for 30\n",
      "Rolling calculations for 180\n",
      "Rolling calculations for 365\n",
      "Building all features took 0.003335384527842204 minutes\n",
      "-------\n",
      "pbj & pej\n",
      "-------\n",
      "Rolling calculations for 3\n",
      "Rolling calculations for 5\n",
      "Rolling calculations for 7\n",
      "Rolling calculations for 10\n",
      "Rolling calculations for 30\n",
      "Rolling calculations for 180\n",
      "Rolling calculations for 365\n",
      "Building all features took 0.003415234883626302 minutes\n",
      "-------\n",
      "pbj & rop\n",
      "-------\n",
      "Rolling calculations for 3\n",
      "Rolling calculations for 5\n",
      "Rolling calculations for 7\n",
      "Rolling calculations for 10\n",
      "Rolling calculations for 30\n",
      "Rolling calculations for 180\n",
      "Rolling calculations for 365\n",
      "Building all features took 0.003232900301615397 minutes\n",
      "-------\n",
      "pbj & dia\n",
      "-------\n",
      "Rolling calculations for 3\n",
      "Rolling calculations for 5\n",
      "Rolling calculations for 7\n",
      "Rolling calculations for 10\n",
      "Rolling calculations for 30\n",
      "Rolling calculations for 180\n",
      "Rolling calculations for 365\n",
      "Building all features took 0.0031725843747456867 minutes\n",
      "-------\n",
      "pbj & are\n",
      "-------\n",
      "Rolling calculations for 3\n",
      "Rolling calculations for 5\n",
      "Rolling calculations for 7\n",
      "Rolling calculations for 10\n",
      "Rolling calculations for 30\n",
      "Rolling calculations for 180\n",
      "Rolling calculations for 365\n",
      "Building all features took 0.003138415018717448 minutes\n",
      "-------\n",
      "pbj & ph\n",
      "-------\n",
      "Rolling calculations for 3\n",
      "Rolling calculations for 5\n",
      "Rolling calculations for 7\n",
      "Rolling calculations for 10\n",
      "Rolling calculations for 30\n",
      "Rolling calculations for 180\n",
      "Rolling calculations for 365\n",
      "Building all features took 0.003458531697591146 minutes\n",
      "-------\n",
      "pbj & vno\n",
      "-------\n",
      "Rolling calculations for 3\n",
      "Rolling calculations for 5\n",
      "Rolling calculations for 7\n",
      "Rolling calculations for 10\n",
      "Rolling calculations for 30\n",
      "Rolling calculations for 180\n",
      "Rolling calculations for 365\n",
      "Building all features took 0.0035373687744140623 minutes\n",
      "-------\n",
      "pbj & ual\n",
      "-------\n",
      "Rolling calculations for 3\n",
      "Rolling calculations for 5\n",
      "Rolling calculations for 7\n",
      "Rolling calculations for 10\n",
      "Rolling calculations for 30\n",
      "Rolling calculations for 180\n",
      "Rolling calculations for 365\n",
      "Building all features took 0.0032325466473897297 minutes\n",
      "-------\n",
      "pbj & efx\n",
      "-------\n",
      "Rolling calculations for 3\n",
      "Rolling calculations for 5\n",
      "Rolling calculations for 7\n",
      "Rolling calculations for 10\n",
      "Rolling calculations for 30\n",
      "Rolling calculations for 180\n",
      "Rolling calculations for 365\n",
      "Building all features took 0.004293914635976156 minutes\n",
      "-------\n",
      "pbj & xrt\n",
      "-------\n",
      "Rolling calculations for 3\n",
      "Rolling calculations for 5\n",
      "Rolling calculations for 7\n",
      "Rolling calculations for 10\n",
      "Rolling calculations for 30\n",
      "Rolling calculations for 180\n",
      "Rolling calculations for 365\n",
      "Building all features took 0.0038770357767740887 minutes\n",
      "-------\n",
      "pbj & bac\n",
      "-------\n",
      "Rolling calculations for 3\n",
      "Rolling calculations for 5\n",
      "Rolling calculations for 7\n",
      "Rolling calculations for 10\n",
      "Rolling calculations for 30\n",
      "Rolling calculations for 180\n",
      "Rolling calculations for 365\n",
      "Building all features took 0.0039206862449645994 minutes\n",
      "-------\n",
      "pbj & ni\n",
      "-------\n",
      "Rolling calculations for 3\n",
      "Rolling calculations for 5\n",
      "Rolling calculations for 7\n",
      "Rolling calculations for 10\n",
      "Rolling calculations for 30\n",
      "Rolling calculations for 180\n",
      "Rolling calculations for 365\n",
      "Building all features took 0.0034160534540812176 minutes\n",
      "-------\n",
      "pbj & bjk\n",
      "-------\n",
      "Rolling calculations for 3\n",
      "Rolling calculations for 5\n",
      "Rolling calculations for 7\n",
      "Rolling calculations for 10\n",
      "Rolling calculations for 30\n",
      "Rolling calculations for 180\n",
      "Rolling calculations for 365\n",
      "Building all features took 0.003449098269144694 minutes\n",
      "-------\n",
      "pbj & pnr\n",
      "-------\n",
      "Rolling calculations for 3\n",
      "Rolling calculations for 5\n",
      "Rolling calculations for 7\n",
      "Rolling calculations for 10\n",
      "Rolling calculations for 30\n",
      "Rolling calculations for 180\n",
      "Rolling calculations for 365\n",
      "Building all features took 0.003447747230529785 minutes\n",
      "\n",
      "Finished 0.06451612903225806 pct of stocks\n",
      "\n",
      "-------\n",
      "qqq & rost\n",
      "-------\n",
      "Rolling calculations for 3\n",
      "Rolling calculations for 5\n",
      "Rolling calculations for 7\n",
      "Rolling calculations for 10\n",
      "Rolling calculations for 30\n",
      "Rolling calculations for 180\n",
      "Rolling calculations for 365\n",
      "Building all features took 0.0036455512046813963 minutes\n",
      "-------\n",
      "qqq & spy\n",
      "-------\n",
      "Rolling calculations for 3\n",
      "Rolling calculations for 5\n",
      "Rolling calculations for 7\n",
      "Rolling calculations for 10\n",
      "Rolling calculations for 30\n",
      "Rolling calculations for 180\n",
      "Rolling calculations for 365\n",
      "Building all features took 0.003594215710957845 minutes\n",
      "-------\n",
      "qqq & so\n",
      "-------\n",
      "Rolling calculations for 3\n",
      "Rolling calculations for 5\n",
      "Rolling calculations for 7\n",
      "Rolling calculations for 10\n",
      "Rolling calculations for 30\n",
      "Rolling calculations for 180\n",
      "Rolling calculations for 365\n",
      "Building all features took 0.0037797172864278156 minutes\n",
      "-------\n",
      "qqq & eqix\n",
      "-------\n",
      "Rolling calculations for 3\n",
      "Rolling calculations for 5\n",
      "Rolling calculations for 7\n",
      "Rolling calculations for 10\n",
      "Rolling calculations for 30\n",
      "Rolling calculations for 180\n",
      "Rolling calculations for 365\n",
      "Building all features took 0.003753332297007243 minutes\n",
      "-------\n",
      "qqq & iwm\n",
      "-------\n",
      "Rolling calculations for 3\n",
      "Rolling calculations for 5\n",
      "Rolling calculations for 7\n",
      "Rolling calculations for 10\n",
      "Rolling calculations for 30\n",
      "Rolling calculations for 180\n",
      "Rolling calculations for 365\n",
      "Building all features took 0.0036256829897562664 minutes\n",
      "-------\n",
      "qqq & ce\n",
      "-------\n",
      "Rolling calculations for 3\n",
      "Rolling calculations for 5\n",
      "Rolling calculations for 7\n",
      "Rolling calculations for 10\n",
      "Rolling calculations for 30\n",
      "Rolling calculations for 180\n",
      "Rolling calculations for 365\n",
      "Building all features took 0.0035386006037394207 minutes\n",
      "-------\n",
      "qqq & emr\n",
      "-------\n",
      "Rolling calculations for 3\n",
      "Rolling calculations for 5\n",
      "Rolling calculations for 7\n",
      "Rolling calculations for 10\n",
      "Rolling calculations for 30\n",
      "Rolling calculations for 180\n",
      "Rolling calculations for 365\n",
      "Building all features took 0.0037929018338521323 minutes\n",
      "-------\n",
      "qqq & atvi\n",
      "-------\n",
      "Rolling calculations for 3\n",
      "Rolling calculations for 5\n",
      "Rolling calculations for 7\n",
      "Rolling calculations for 10\n",
      "Rolling calculations for 30\n",
      "Rolling calculations for 180\n",
      "Rolling calculations for 365\n",
      "Building all features took 0.0038174867630004885 minutes\n",
      "-------\n",
      "qqq & vfh\n",
      "-------\n",
      "Rolling calculations for 3\n",
      "Rolling calculations for 5\n",
      "Rolling calculations for 7\n",
      "Rolling calculations for 10\n",
      "Rolling calculations for 30\n",
      "Rolling calculations for 180\n",
      "Rolling calculations for 365\n",
      "Building all features took 0.0035366535186767576 minutes\n",
      "-------\n",
      "qqq & peg\n",
      "-------\n",
      "Rolling calculations for 3\n",
      "Rolling calculations for 5\n",
      "Rolling calculations for 7\n",
      "Rolling calculations for 10\n",
      "Rolling calculations for 30\n",
      "Rolling calculations for 180\n",
      "Rolling calculations for 365\n",
      "Building all features took 0.0037709991137186687 minutes\n",
      "-------\n",
      "qqq & adbe\n",
      "-------\n",
      "Rolling calculations for 3\n",
      "Rolling calculations for 5\n",
      "Rolling calculations for 7\n",
      "Rolling calculations for 10\n",
      "Rolling calculations for 30\n",
      "Rolling calculations for 180\n",
      "Rolling calculations for 365\n",
      "Building all features took 0.004216619332631429 minutes\n",
      "-------\n",
      "qqq & cern\n",
      "-------\n",
      "Rolling calculations for 3\n",
      "Rolling calculations for 5\n",
      "Rolling calculations for 7\n",
      "Rolling calculations for 10\n",
      "Rolling calculations for 30\n",
      "Rolling calculations for 180\n",
      "Rolling calculations for 365\n",
      "Building all features took 0.004366664091746012 minutes\n",
      "-------\n",
      "qqq & pg\n",
      "-------\n",
      "Rolling calculations for 3\n",
      "Rolling calculations for 5\n",
      "Rolling calculations for 7\n",
      "Rolling calculations for 10\n",
      "Rolling calculations for 30\n",
      "Rolling calculations for 180\n",
      "Rolling calculations for 365\n",
      "Building all features took 0.0037792682647705077 minutes\n",
      "-------\n",
      "qqq & pvh\n",
      "-------\n",
      "Rolling calculations for 3\n",
      "Rolling calculations for 5\n",
      "Rolling calculations for 7\n",
      "Rolling calculations for 10\n",
      "Rolling calculations for 30\n",
      "Rolling calculations for 180\n",
      "Rolling calculations for 365\n",
      "Building all features took 0.0035239179929097493 minutes\n",
      "-------\n",
      "qqq & lb\n",
      "-------\n",
      "Rolling calculations for 3\n",
      "Rolling calculations for 5\n",
      "Rolling calculations for 7\n",
      "Rolling calculations for 10\n",
      "Rolling calculations for 30\n",
      "Rolling calculations for 180\n",
      "Rolling calculations for 365\n",
      "Building all features took 0.004079349835713704 minutes\n",
      "-------\n",
      "qqq & pej\n",
      "-------\n",
      "Rolling calculations for 3\n",
      "Rolling calculations for 5\n",
      "Rolling calculations for 7\n",
      "Rolling calculations for 10\n",
      "Rolling calculations for 30\n",
      "Rolling calculations for 180\n",
      "Rolling calculations for 365\n",
      "Building all features took 0.0038510958353678384 minutes\n",
      "-------\n",
      "qqq & rop\n",
      "-------\n",
      "Rolling calculations for 3\n",
      "Rolling calculations for 5\n",
      "Rolling calculations for 7\n",
      "Rolling calculations for 10\n",
      "Rolling calculations for 30\n",
      "Rolling calculations for 180\n",
      "Rolling calculations for 365\n",
      "Building all features took 0.003645948568979899 minutes\n",
      "-------\n",
      "qqq & dia\n",
      "-------\n",
      "Rolling calculations for 3\n",
      "Rolling calculations for 5\n",
      "Rolling calculations for 7\n",
      "Rolling calculations for 10\n",
      "Rolling calculations for 30\n",
      "Rolling calculations for 180\n",
      "Rolling calculations for 365\n",
      "Building all features took 0.003504780928293864 minutes\n",
      "-------\n",
      "qqq & are\n",
      "-------\n",
      "Rolling calculations for 3\n",
      "Rolling calculations for 5\n",
      "Rolling calculations for 7\n",
      "Rolling calculations for 10\n",
      "Rolling calculations for 30\n",
      "Rolling calculations for 180\n",
      "Rolling calculations for 365\n",
      "Building all features took 0.003609732786814372 minutes\n",
      "-------\n",
      "qqq & ph\n",
      "-------\n",
      "Rolling calculations for 3\n",
      "Rolling calculations for 5\n",
      "Rolling calculations for 7\n",
      "Rolling calculations for 10\n",
      "Rolling calculations for 30\n",
      "Rolling calculations for 180\n",
      "Rolling calculations for 365\n",
      "Building all features took 0.003884398937225342 minutes\n",
      "-------\n",
      "qqq & vno\n",
      "-------\n",
      "Rolling calculations for 3\n",
      "Rolling calculations for 5\n",
      "Rolling calculations for 7\n",
      "Rolling calculations for 10\n",
      "Rolling calculations for 30\n",
      "Rolling calculations for 180\n",
      "Rolling calculations for 365\n",
      "Building all features took 0.003863203525543213 minutes\n",
      "-------\n",
      "qqq & ual\n",
      "-------\n",
      "Rolling calculations for 3\n",
      "Rolling calculations for 5\n",
      "Rolling calculations for 7\n",
      "Rolling calculations for 10\n",
      "Rolling calculations for 30\n",
      "Rolling calculations for 180\n",
      "Rolling calculations for 365\n",
      "Building all features took 0.003942382335662842 minutes\n",
      "-------\n",
      "qqq & efx\n",
      "-------\n",
      "Rolling calculations for 3\n",
      "Rolling calculations for 5\n",
      "Rolling calculations for 7\n",
      "Rolling calculations for 10\n",
      "Rolling calculations for 30\n",
      "Rolling calculations for 180\n",
      "Rolling calculations for 365\n",
      "Building all features took 0.004003111521402995 minutes\n",
      "-------\n",
      "qqq & xrt\n",
      "-------\n",
      "Rolling calculations for 3\n",
      "Rolling calculations for 5\n",
      "Rolling calculations for 7\n",
      "Rolling calculations for 10\n",
      "Rolling calculations for 30\n",
      "Rolling calculations for 180\n",
      "Rolling calculations for 365\n",
      "Building all features took 0.003764649232228597 minutes\n",
      "-------\n",
      "qqq & bac\n",
      "-------\n",
      "Rolling calculations for 3\n",
      "Rolling calculations for 5\n",
      "Rolling calculations for 7\n",
      "Rolling calculations for 10\n",
      "Rolling calculations for 30\n",
      "Rolling calculations for 180\n",
      "Rolling calculations for 365\n",
      "Building all features took 0.0040781656901041664 minutes\n",
      "-------\n",
      "qqq & ni\n",
      "-------\n",
      "Rolling calculations for 3\n",
      "Rolling calculations for 5\n",
      "Rolling calculations for 7\n",
      "Rolling calculations for 10\n",
      "Rolling calculations for 30\n",
      "Rolling calculations for 180\n",
      "Rolling calculations for 365\n",
      "Building all features took 0.004342949390411377 minutes\n",
      "-------\n",
      "qqq & bjk\n",
      "-------\n",
      "Rolling calculations for 3\n",
      "Rolling calculations for 5\n",
      "Rolling calculations for 7\n",
      "Rolling calculations for 10\n",
      "Rolling calculations for 30\n",
      "Rolling calculations for 180\n",
      "Rolling calculations for 365\n",
      "Building all features took 0.003796883424123128 minutes\n",
      "-------\n",
      "qqq & pnr\n",
      "-------\n",
      "Rolling calculations for 3\n",
      "Rolling calculations for 5\n",
      "Rolling calculations for 7\n",
      "Rolling calculations for 10\n",
      "Rolling calculations for 30\n",
      "Rolling calculations for 180\n",
      "Rolling calculations for 365\n",
      "Building all features took 0.004544095198313395 minutes\n",
      "\n",
      "Finished 0.0967741935483871 pct of stocks\n",
      "\n",
      "-------\n",
      "rost & spy\n",
      "-------\n",
      "Rolling calculations for 3\n",
      "Rolling calculations for 5\n",
      "Rolling calculations for 7\n",
      "Rolling calculations for 10\n",
      "Rolling calculations for 30\n",
      "Rolling calculations for 180\n",
      "Rolling calculations for 365\n",
      "Building all features took 0.004065183798472086 minutes\n",
      "-------\n",
      "rost & so\n",
      "-------\n",
      "Rolling calculations for 3\n",
      "Rolling calculations for 5\n",
      "Rolling calculations for 7\n",
      "Rolling calculations for 10\n",
      "Rolling calculations for 30\n",
      "Rolling calculations for 180\n",
      "Rolling calculations for 365\n",
      "Building all features took 0.004588031768798828 minutes\n",
      "-------\n",
      "rost & eqix\n",
      "-------\n",
      "Rolling calculations for 3\n",
      "Rolling calculations for 5\n",
      "Rolling calculations for 7\n",
      "Rolling calculations for 10\n",
      "Rolling calculations for 30\n",
      "Rolling calculations for 180\n",
      "Rolling calculations for 365\n",
      "Building all features took 0.0038562337557474773 minutes\n",
      "-------\n",
      "rost & iwm\n",
      "-------\n",
      "Rolling calculations for 3\n",
      "Rolling calculations for 5\n",
      "Rolling calculations for 7\n",
      "Rolling calculations for 10\n",
      "Rolling calculations for 30\n",
      "Rolling calculations for 180\n",
      "Rolling calculations for 365\n",
      "Building all features took 0.004134666919708252 minutes\n",
      "-------\n",
      "rost & ce\n",
      "-------\n",
      "Rolling calculations for 3\n",
      "Rolling calculations for 5\n",
      "Rolling calculations for 7\n",
      "Rolling calculations for 10\n",
      "Rolling calculations for 30\n",
      "Rolling calculations for 180\n",
      "Rolling calculations for 365\n",
      "Building all features took 0.004318451881408692 minutes\n",
      "-------\n",
      "rost & emr\n",
      "-------\n",
      "Rolling calculations for 3\n",
      "Rolling calculations for 5\n",
      "Rolling calculations for 7\n",
      "Rolling calculations for 10\n",
      "Rolling calculations for 30\n",
      "Rolling calculations for 180\n",
      "Rolling calculations for 365\n",
      "Building all features took 0.005052510897318522 minutes\n",
      "-------\n",
      "rost & atvi\n",
      "-------\n",
      "Rolling calculations for 3\n",
      "Rolling calculations for 5\n",
      "Rolling calculations for 7\n",
      "Rolling calculations for 10\n",
      "Rolling calculations for 30\n",
      "Rolling calculations for 180\n",
      "Rolling calculations for 365\n",
      "Building all features took 0.00427698294321696 minutes\n",
      "-------\n",
      "rost & vfh\n",
      "-------\n",
      "Rolling calculations for 3\n",
      "Rolling calculations for 5\n",
      "Rolling calculations for 7\n",
      "Rolling calculations for 10\n",
      "Rolling calculations for 30\n",
      "Rolling calculations for 180\n",
      "Rolling calculations for 365\n",
      "Building all features took 0.003917952378590901 minutes\n",
      "-------\n",
      "rost & peg\n",
      "-------\n",
      "Rolling calculations for 3\n",
      "Rolling calculations for 5\n",
      "Rolling calculations for 7\n",
      "Rolling calculations for 10\n",
      "Rolling calculations for 30\n",
      "Rolling calculations for 180\n",
      "Rolling calculations for 365\n",
      "Building all features took 0.004620854059855143 minutes\n",
      "-------\n",
      "rost & adbe\n",
      "-------\n",
      "Rolling calculations for 3\n",
      "Rolling calculations for 5\n",
      "Rolling calculations for 7\n",
      "Rolling calculations for 10\n",
      "Rolling calculations for 30\n",
      "Rolling calculations for 180\n",
      "Rolling calculations for 365\n",
      "Building all features took 0.004647966225941976 minutes\n",
      "-------\n",
      "rost & cern\n",
      "-------\n",
      "Rolling calculations for 3\n",
      "Rolling calculations for 5\n",
      "Rolling calculations for 7\n",
      "Rolling calculations for 10\n",
      "Rolling calculations for 30\n",
      "Rolling calculations for 180\n",
      "Rolling calculations for 365\n",
      "Building all features took 0.0041954358418782554 minutes\n",
      "-------\n",
      "rost & pg\n",
      "-------\n",
      "Rolling calculations for 3\n",
      "Rolling calculations for 5\n",
      "Rolling calculations for 7\n",
      "Rolling calculations for 10\n",
      "Rolling calculations for 30\n",
      "Rolling calculations for 180\n",
      "Rolling calculations for 365\n",
      "Building all features took 0.004852898915608724 minutes\n",
      "-------\n",
      "rost & pvh\n",
      "-------\n",
      "Rolling calculations for 3\n",
      "Rolling calculations for 5\n",
      "Rolling calculations for 7\n",
      "Rolling calculations for 10\n",
      "Rolling calculations for 30\n",
      "Rolling calculations for 180\n",
      "Rolling calculations for 365\n",
      "Building all features took 0.004034018516540528 minutes\n",
      "-------\n",
      "rost & lb\n",
      "-------\n",
      "Rolling calculations for 3\n",
      "Rolling calculations for 5\n",
      "Rolling calculations for 7\n",
      "Rolling calculations for 10\n",
      "Rolling calculations for 30\n",
      "Rolling calculations for 180\n",
      "Rolling calculations for 365\n",
      "Building all features took 0.005483452479044596 minutes\n",
      "-------\n",
      "rost & pej\n",
      "-------\n",
      "Rolling calculations for 3\n",
      "Rolling calculations for 5\n",
      "Rolling calculations for 7\n",
      "Rolling calculations for 10\n",
      "Rolling calculations for 30\n",
      "Rolling calculations for 180\n",
      "Rolling calculations for 365\n",
      "Building all features took 0.004296918710072835 minutes\n",
      "-------\n",
      "rost & rop\n",
      "-------\n",
      "Rolling calculations for 3\n",
      "Rolling calculations for 5\n",
      "Rolling calculations for 7\n",
      "Rolling calculations for 10\n",
      "Rolling calculations for 30\n",
      "Rolling calculations for 180\n",
      "Rolling calculations for 365\n",
      "Building all features took 0.004154431819915772 minutes\n",
      "-------\n",
      "rost & dia\n",
      "-------\n",
      "Rolling calculations for 3\n",
      "Rolling calculations for 5\n",
      "Rolling calculations for 7\n",
      "Rolling calculations for 10\n",
      "Rolling calculations for 30\n",
      "Rolling calculations for 180\n",
      "Rolling calculations for 365\n",
      "Building all features took 0.004015433788299561 minutes\n",
      "-------\n",
      "rost & are\n",
      "-------\n",
      "Rolling calculations for 3\n",
      "Rolling calculations for 5\n",
      "Rolling calculations for 7\n",
      "Rolling calculations for 10\n",
      "Rolling calculations for 30\n",
      "Rolling calculations for 180\n",
      "Rolling calculations for 365\n",
      "Building all features took 0.004146552085876465 minutes\n",
      "-------\n",
      "rost & ph\n",
      "-------\n",
      "Rolling calculations for 3\n",
      "Rolling calculations for 5\n",
      "Rolling calculations for 7\n",
      "Rolling calculations for 10\n",
      "Rolling calculations for 30\n",
      "Rolling calculations for 180\n",
      "Rolling calculations for 365\n",
      "Building all features took 0.005022486050923665 minutes\n",
      "-------\n",
      "rost & vno\n",
      "-------\n",
      "Rolling calculations for 3\n",
      "Rolling calculations for 5\n",
      "Rolling calculations for 7\n",
      "Rolling calculations for 10\n",
      "Rolling calculations for 30\n",
      "Rolling calculations for 180\n",
      "Rolling calculations for 365\n",
      "Building all features took 0.004170231024424235 minutes\n",
      "-------\n",
      "rost & ual\n",
      "-------\n",
      "Rolling calculations for 3\n",
      "Rolling calculations for 5\n",
      "Rolling calculations for 7\n",
      "Rolling calculations for 10\n",
      "Rolling calculations for 30\n",
      "Rolling calculations for 180\n",
      "Rolling calculations for 365\n",
      "Building all features took 0.004099114735921224 minutes\n",
      "-------\n",
      "rost & efx\n",
      "-------\n",
      "Rolling calculations for 3\n",
      "Rolling calculations for 5\n",
      "Rolling calculations for 7\n",
      "Rolling calculations for 10\n",
      "Rolling calculations for 30\n",
      "Rolling calculations for 180\n",
      "Rolling calculations for 365\n",
      "Building all features took 0.004743297894795735 minutes\n",
      "-------\n",
      "rost & xrt\n",
      "-------\n",
      "Rolling calculations for 3\n",
      "Rolling calculations for 5\n",
      "Rolling calculations for 7\n",
      "Rolling calculations for 10\n",
      "Rolling calculations for 30\n",
      "Rolling calculations for 180\n",
      "Rolling calculations for 365\n",
      "Building all features took 0.004110217094421387 minutes\n",
      "-------\n",
      "rost & bac\n",
      "-------\n",
      "Rolling calculations for 3\n",
      "Rolling calculations for 5\n",
      "Rolling calculations for 7\n",
      "Rolling calculations for 10\n",
      "Rolling calculations for 30\n",
      "Rolling calculations for 180\n",
      "Rolling calculations for 365\n",
      "Building all features took 0.005082829793294271 minutes\n",
      "-------\n",
      "rost & ni\n",
      "-------\n",
      "Rolling calculations for 3\n",
      "Rolling calculations for 5\n",
      "Rolling calculations for 7\n",
      "Rolling calculations for 10\n",
      "Rolling calculations for 30\n",
      "Rolling calculations for 180\n",
      "Rolling calculations for 365\n",
      "Building all features took 0.004887914657592774 minutes\n",
      "-------\n",
      "rost & bjk\n",
      "-------\n",
      "Rolling calculations for 3\n",
      "Rolling calculations for 5\n",
      "Rolling calculations for 7\n",
      "Rolling calculations for 10\n",
      "Rolling calculations for 30\n",
      "Rolling calculations for 180\n",
      "Rolling calculations for 365\n",
      "Building all features took 0.0048484206199646 minutes\n",
      "-------\n",
      "rost & pnr\n",
      "-------\n",
      "Rolling calculations for 3\n",
      "Rolling calculations for 5\n",
      "Rolling calculations for 7\n",
      "Rolling calculations for 10\n",
      "Rolling calculations for 30\n",
      "Rolling calculations for 180\n",
      "Rolling calculations for 365\n",
      "Building all features took 0.00428476333618164 minutes\n",
      "\n",
      "Finished 0.12903225806451613 pct of stocks\n",
      "\n",
      "-------\n",
      "spy & so\n",
      "-------\n",
      "Rolling calculations for 3\n",
      "Rolling calculations for 5\n",
      "Rolling calculations for 7\n",
      "Rolling calculations for 10\n",
      "Rolling calculations for 30\n",
      "Rolling calculations for 180\n",
      "Rolling calculations for 365\n",
      "Building all features took 0.004204849402109782 minutes\n",
      "-------\n",
      "spy & eqix\n",
      "-------\n",
      "Rolling calculations for 3\n",
      "Rolling calculations for 5\n",
      "Rolling calculations for 7\n",
      "Rolling calculations for 10\n",
      "Rolling calculations for 30\n",
      "Rolling calculations for 180\n",
      "Rolling calculations for 365\n",
      "Building all features took 0.00444483757019043 minutes\n",
      "-------\n",
      "spy & iwm\n",
      "-------\n",
      "Rolling calculations for 3\n",
      "Rolling calculations for 5\n",
      "Rolling calculations for 7\n",
      "Rolling calculations for 10\n",
      "Rolling calculations for 30\n",
      "Rolling calculations for 180\n",
      "Rolling calculations for 365\n",
      "Building all features took 0.004501044750213623 minutes\n",
      "-------\n",
      "spy & ce\n",
      "-------\n",
      "Rolling calculations for 3\n",
      "Rolling calculations for 5\n",
      "Rolling calculations for 7\n",
      "Rolling calculations for 10\n",
      "Rolling calculations for 30\n",
      "Rolling calculations for 180\n",
      "Rolling calculations for 365\n",
      "Building all features took 0.004253665606180827 minutes\n",
      "-------\n",
      "spy & emr\n",
      "-------\n",
      "Rolling calculations for 3\n",
      "Rolling calculations for 5\n",
      "Rolling calculations for 7\n",
      "Rolling calculations for 10\n",
      "Rolling calculations for 30\n",
      "Rolling calculations for 180\n",
      "Rolling calculations for 365\n",
      "Building all features took 0.004291637738545736 minutes\n",
      "-------\n",
      "spy & atvi\n",
      "-------\n",
      "Rolling calculations for 3\n",
      "Rolling calculations for 5\n",
      "Rolling calculations for 7\n",
      "Rolling calculations for 10\n",
      "Rolling calculations for 30\n",
      "Rolling calculations for 180\n",
      "Rolling calculations for 365\n",
      "Building all features took 0.004805898666381836 minutes\n",
      "-------\n",
      "spy & vfh\n",
      "-------\n",
      "Rolling calculations for 3\n",
      "Rolling calculations for 5\n",
      "Rolling calculations for 7\n",
      "Rolling calculations for 10\n",
      "Rolling calculations for 30\n",
      "Rolling calculations for 180\n",
      "Rolling calculations for 365\n",
      "Building all features took 0.004734452565511068 minutes\n",
      "-------\n",
      "spy & peg\n",
      "-------\n",
      "Rolling calculations for 3\n",
      "Rolling calculations for 5\n",
      "Rolling calculations for 7\n",
      "Rolling calculations for 10\n",
      "Rolling calculations for 30\n",
      "Rolling calculations for 180\n",
      "Rolling calculations for 365\n",
      "Building all features took 0.0047745148340861 minutes\n",
      "-------\n",
      "spy & adbe\n",
      "-------\n",
      "Rolling calculations for 3\n",
      "Rolling calculations for 5\n",
      "Rolling calculations for 7\n",
      "Rolling calculations for 10\n",
      "Rolling calculations for 30\n",
      "Rolling calculations for 180\n",
      "Rolling calculations for 365\n",
      "Building all features took 0.00439143180847168 minutes\n",
      "-------\n",
      "spy & cern\n",
      "-------\n",
      "Rolling calculations for 3\n",
      "Rolling calculations for 5\n",
      "Rolling calculations for 7\n",
      "Rolling calculations for 10\n",
      "Rolling calculations for 30\n",
      "Rolling calculations for 180\n",
      "Rolling calculations for 365\n",
      "Building all features took 0.004532849788665772 minutes\n",
      "-------\n",
      "spy & pg\n",
      "-------\n",
      "Rolling calculations for 3\n",
      "Rolling calculations for 5\n",
      "Rolling calculations for 7\n",
      "Rolling calculations for 10\n",
      "Rolling calculations for 30\n",
      "Rolling calculations for 180\n",
      "Rolling calculations for 365\n",
      "Building all features took 0.005198331673940023 minutes\n",
      "-------\n",
      "spy & pvh\n",
      "-------\n",
      "Rolling calculations for 3\n",
      "Rolling calculations for 5\n",
      "Rolling calculations for 7\n",
      "Rolling calculations for 10\n",
      "Rolling calculations for 30\n",
      "Rolling calculations for 180\n",
      "Rolling calculations for 365\n",
      "Building all features took 0.004346815745035807 minutes\n",
      "-------\n",
      "spy & lb\n",
      "-------\n",
      "Rolling calculations for 3\n",
      "Rolling calculations for 5\n",
      "Rolling calculations for 7\n",
      "Rolling calculations for 10\n",
      "Rolling calculations for 30\n",
      "Rolling calculations for 180\n",
      "Rolling calculations for 365\n",
      "Building all features took 0.004563069343566895 minutes\n",
      "-------\n",
      "spy & pej\n",
      "-------\n",
      "Rolling calculations for 3\n",
      "Rolling calculations for 5\n",
      "Rolling calculations for 7\n",
      "Rolling calculations for 10\n",
      "Rolling calculations for 30\n",
      "Rolling calculations for 180\n",
      "Rolling calculations for 365\n",
      "Building all features took 0.00463106632232666 minutes\n",
      "-------\n",
      "spy & rop\n",
      "-------\n",
      "Rolling calculations for 3\n",
      "Rolling calculations for 5\n",
      "Rolling calculations for 7\n",
      "Rolling calculations for 10\n",
      "Rolling calculations for 30\n",
      "Rolling calculations for 180\n",
      "Rolling calculations for 365\n",
      "Building all features took 0.004565985997517904 minutes\n",
      "-------\n",
      "spy & dia\n",
      "-------\n",
      "Rolling calculations for 3\n",
      "Rolling calculations for 5\n",
      "Rolling calculations for 7\n",
      "Rolling calculations for 10\n",
      "Rolling calculations for 30\n",
      "Rolling calculations for 180\n",
      "Rolling calculations for 365\n",
      "Building all features took 0.004422434171040853 minutes\n",
      "-------\n",
      "spy & are\n",
      "-------\n",
      "Rolling calculations for 3\n",
      "Rolling calculations for 5\n",
      "Rolling calculations for 7\n",
      "Rolling calculations for 10\n",
      "Rolling calculations for 30\n",
      "Rolling calculations for 180\n",
      "Rolling calculations for 365\n",
      "Building all features took 0.004641111691792806 minutes\n",
      "-------\n",
      "spy & ph\n",
      "-------\n",
      "Rolling calculations for 3\n",
      "Rolling calculations for 5\n",
      "Rolling calculations for 7\n",
      "Rolling calculations for 10\n",
      "Rolling calculations for 30\n",
      "Rolling calculations for 180\n",
      "Rolling calculations for 365\n",
      "Building all features took 0.004808100064595541 minutes\n",
      "-------\n",
      "spy & vno\n",
      "-------\n",
      "Rolling calculations for 3\n",
      "Rolling calculations for 5\n",
      "Rolling calculations for 7\n",
      "Rolling calculations for 10\n",
      "Rolling calculations for 30\n",
      "Rolling calculations for 180\n",
      "Rolling calculations for 365\n",
      "Building all features took 0.004481399059295654 minutes\n",
      "-------\n",
      "spy & ual\n",
      "-------\n",
      "Rolling calculations for 3\n",
      "Rolling calculations for 5\n",
      "Rolling calculations for 7\n",
      "Rolling calculations for 10\n",
      "Rolling calculations for 30\n",
      "Rolling calculations for 180\n",
      "Rolling calculations for 365\n",
      "Building all features took 0.004382952054341634 minutes\n",
      "-------\n",
      "spy & efx\n",
      "-------\n",
      "Rolling calculations for 3\n",
      "Rolling calculations for 5\n",
      "Rolling calculations for 7\n",
      "Rolling calculations for 10\n",
      "Rolling calculations for 30\n",
      "Rolling calculations for 180\n",
      "Rolling calculations for 365\n",
      "Building all features took 0.005242494742075602 minutes\n",
      "-------\n",
      "spy & xrt\n",
      "-------\n",
      "Rolling calculations for 3\n",
      "Rolling calculations for 5\n",
      "Rolling calculations for 7\n",
      "Rolling calculations for 10\n",
      "Rolling calculations for 30\n",
      "Rolling calculations for 180\n",
      "Rolling calculations for 365\n",
      "Building all features took 0.004428144296010335 minutes\n",
      "-------\n",
      "spy & bac\n",
      "-------\n",
      "Rolling calculations for 3\n",
      "Rolling calculations for 5\n",
      "Rolling calculations for 7\n",
      "Rolling calculations for 10\n",
      "Rolling calculations for 30\n",
      "Rolling calculations for 180\n",
      "Rolling calculations for 365\n",
      "Building all features took 0.004442365964253744 minutes\n",
      "-------\n",
      "spy & ni\n",
      "-------\n",
      "Rolling calculations for 3\n",
      "Rolling calculations for 5\n",
      "Rolling calculations for 7\n",
      "Rolling calculations for 10\n",
      "Rolling calculations for 30\n",
      "Rolling calculations for 180\n",
      "Rolling calculations for 365\n",
      "Building all features took 0.004791295528411866 minutes\n",
      "-------\n",
      "spy & bjk\n",
      "-------\n",
      "Rolling calculations for 3\n",
      "Rolling calculations for 5\n",
      "Rolling calculations for 7\n",
      "Rolling calculations for 10\n",
      "Rolling calculations for 30\n",
      "Rolling calculations for 180\n",
      "Rolling calculations for 365\n",
      "Building all features took 0.004799886544545492 minutes\n",
      "-------\n",
      "spy & pnr\n",
      "-------\n",
      "Rolling calculations for 3\n",
      "Rolling calculations for 5\n",
      "Rolling calculations for 7\n",
      "Rolling calculations for 10\n",
      "Rolling calculations for 30\n",
      "Rolling calculations for 180\n",
      "Rolling calculations for 365\n",
      "Building all features took 0.0045858025550842285 minutes\n",
      "\n",
      "Finished 0.16129032258064516 pct of stocks\n",
      "\n",
      "-------\n",
      "so & eqix\n",
      "-------\n",
      "Rolling calculations for 3\n",
      "Rolling calculations for 5\n",
      "Rolling calculations for 7\n",
      "Rolling calculations for 10\n",
      "Rolling calculations for 30\n",
      "Rolling calculations for 180\n",
      "Rolling calculations for 365\n",
      "Building all features took 0.004494166374206543 minutes\n",
      "-------\n",
      "so & iwm\n",
      "-------\n",
      "Rolling calculations for 3\n",
      "Rolling calculations for 5\n",
      "Rolling calculations for 7\n",
      "Rolling calculations for 10\n",
      "Rolling calculations for 30\n",
      "Rolling calculations for 180\n",
      "Rolling calculations for 365\n",
      "Building all features took 0.004571648438771566 minutes\n",
      "-------\n",
      "so & ce\n",
      "-------\n",
      "Rolling calculations for 3\n",
      "Rolling calculations for 5\n",
      "Rolling calculations for 7\n",
      "Rolling calculations for 10\n",
      "Rolling calculations for 30\n",
      "Rolling calculations for 180\n",
      "Rolling calculations for 365\n",
      "Building all features took 0.004860885938008626 minutes\n",
      "-------\n",
      "so & emr\n",
      "-------\n",
      "Rolling calculations for 3\n",
      "Rolling calculations for 5\n",
      "Rolling calculations for 7\n",
      "Rolling calculations for 10\n",
      "Rolling calculations for 30\n",
      "Rolling calculations for 180\n",
      "Rolling calculations for 365\n",
      "Building all features took 0.005623618761698405 minutes\n",
      "-------\n",
      "so & atvi\n",
      "-------\n",
      "Rolling calculations for 3\n",
      "Rolling calculations for 5\n",
      "Rolling calculations for 7\n",
      "Rolling calculations for 10\n",
      "Rolling calculations for 30\n",
      "Rolling calculations for 180\n",
      "Rolling calculations for 365\n",
      "Building all features took 0.005438069502512614 minutes\n",
      "-------\n",
      "so & vfh\n",
      "-------\n",
      "Rolling calculations for 3\n",
      "Rolling calculations for 5\n",
      "Rolling calculations for 7\n",
      "Rolling calculations for 10\n",
      "Rolling calculations for 30\n",
      "Rolling calculations for 180\n",
      "Rolling calculations for 365\n",
      "Building all features took 0.004631849129994711 minutes\n",
      "-------\n",
      "so & peg\n",
      "-------\n",
      "Rolling calculations for 3\n",
      "Rolling calculations for 5\n",
      "Rolling calculations for 7\n",
      "Rolling calculations for 10\n",
      "Rolling calculations for 30\n",
      "Rolling calculations for 180\n",
      "Rolling calculations for 365\n",
      "Building all features took 0.005372099081675212 minutes\n",
      "-------\n",
      "so & adbe\n",
      "-------\n",
      "Rolling calculations for 3\n",
      "Rolling calculations for 5\n",
      "Rolling calculations for 7\n",
      "Rolling calculations for 10\n",
      "Rolling calculations for 30\n",
      "Rolling calculations for 180\n",
      "Rolling calculations for 365\n",
      "Building all features took 0.005415018399556478 minutes\n",
      "-------\n",
      "so & cern\n",
      "-------\n",
      "Rolling calculations for 3\n",
      "Rolling calculations for 5\n",
      "Rolling calculations for 7\n",
      "Rolling calculations for 10\n",
      "Rolling calculations for 30\n",
      "Rolling calculations for 180\n",
      "Rolling calculations for 365\n",
      "Building all features took 0.0053053180376688635 minutes\n",
      "-------\n",
      "so & pg\n",
      "-------\n",
      "Rolling calculations for 3\n",
      "Rolling calculations for 5\n",
      "Rolling calculations for 7\n",
      "Rolling calculations for 10\n",
      "Rolling calculations for 30\n",
      "Rolling calculations for 180\n",
      "Rolling calculations for 365\n",
      "Building all features took 0.00562516450881958 minutes\n",
      "-------\n",
      "so & pvh\n",
      "-------\n",
      "Rolling calculations for 3\n",
      "Rolling calculations for 5\n",
      "Rolling calculations for 7\n",
      "Rolling calculations for 10\n",
      "Rolling calculations for 30\n",
      "Rolling calculations for 180\n",
      "Rolling calculations for 365\n",
      "Building all features took 0.004657463232676188 minutes\n",
      "-------\n",
      "so & lb\n",
      "-------\n",
      "Rolling calculations for 3\n",
      "Rolling calculations for 5\n",
      "Rolling calculations for 7\n",
      "Rolling calculations for 10\n",
      "Rolling calculations for 30\n",
      "Rolling calculations for 180\n",
      "Rolling calculations for 365\n",
      "Building all features took 0.005425302187601725 minutes\n",
      "-------\n",
      "so & pej\n",
      "-------\n",
      "Rolling calculations for 3\n",
      "Rolling calculations for 5\n",
      "Rolling calculations for 7\n",
      "Rolling calculations for 10\n",
      "Rolling calculations for 30\n",
      "Rolling calculations for 180\n",
      "Rolling calculations for 365\n",
      "Building all features took 0.004684746265411377 minutes\n",
      "-------\n",
      "so & rop\n",
      "-------\n",
      "Rolling calculations for 3\n",
      "Rolling calculations for 5\n",
      "Rolling calculations for 7\n",
      "Rolling calculations for 10\n",
      "Rolling calculations for 30\n",
      "Rolling calculations for 180\n",
      "Rolling calculations for 365\n",
      "Building all features took 0.004647183418273926 minutes\n",
      "-------\n",
      "so & dia\n",
      "-------\n",
      "Rolling calculations for 3\n",
      "Rolling calculations for 5\n",
      "Rolling calculations for 7\n",
      "Rolling calculations for 10\n",
      "Rolling calculations for 30\n",
      "Rolling calculations for 180\n",
      "Rolling calculations for 365\n",
      "Building all features took 0.005366583665211995 minutes\n",
      "-------\n",
      "so & are\n",
      "-------\n",
      "Rolling calculations for 3\n",
      "Rolling calculations for 5\n",
      "Rolling calculations for 7\n",
      "Rolling calculations for 10\n",
      "Rolling calculations for 30\n",
      "Rolling calculations for 180\n",
      "Rolling calculations for 365\n",
      "Building all features took 0.005181018511454264 minutes\n",
      "-------\n",
      "so & ph\n",
      "-------\n",
      "Rolling calculations for 3\n",
      "Rolling calculations for 5\n",
      "Rolling calculations for 7\n",
      "Rolling calculations for 10\n",
      "Rolling calculations for 30\n",
      "Rolling calculations for 180\n",
      "Rolling calculations for 365\n",
      "Building all features took 0.005643304189046224 minutes\n",
      "-------\n",
      "so & vno\n",
      "-------\n",
      "Rolling calculations for 3\n",
      "Rolling calculations for 5\n",
      "Rolling calculations for 7\n",
      "Rolling calculations for 10\n",
      "Rolling calculations for 30\n",
      "Rolling calculations for 180\n",
      "Rolling calculations for 365\n",
      "Building all features took 0.004958899815877279 minutes\n",
      "-------\n",
      "so & ual\n",
      "-------\n",
      "Rolling calculations for 3\n",
      "Rolling calculations for 5\n",
      "Rolling calculations for 7\n",
      "Rolling calculations for 10\n",
      "Rolling calculations for 30\n",
      "Rolling calculations for 180\n",
      "Rolling calculations for 365\n",
      "Building all features took 0.004839869340260824 minutes\n",
      "-------\n",
      "so & efx\n",
      "-------\n",
      "Rolling calculations for 3\n",
      "Rolling calculations for 5\n",
      "Rolling calculations for 7\n",
      "Rolling calculations for 10\n",
      "Rolling calculations for 30\n",
      "Rolling calculations for 180\n",
      "Rolling calculations for 365\n",
      "Building all features took 0.00556946595509847 minutes\n",
      "-------\n",
      "so & xrt\n",
      "-------\n",
      "Rolling calculations for 3\n",
      "Rolling calculations for 5\n",
      "Rolling calculations for 7\n",
      "Rolling calculations for 10\n",
      "Rolling calculations for 30\n",
      "Rolling calculations for 180\n",
      "Rolling calculations for 365\n",
      "Building all features took 0.005119999249776204 minutes\n",
      "-------\n",
      "so & bac\n",
      "-------\n",
      "Rolling calculations for 3\n",
      "Rolling calculations for 5\n",
      "Rolling calculations for 7\n",
      "Rolling calculations for 10\n",
      "Rolling calculations for 30\n",
      "Rolling calculations for 180\n",
      "Rolling calculations for 365\n",
      "Building all features took 0.005667463938395182 minutes\n",
      "-------\n",
      "so & ni\n",
      "-------\n",
      "Rolling calculations for 3\n",
      "Rolling calculations for 5\n",
      "Rolling calculations for 7\n",
      "Rolling calculations for 10\n",
      "Rolling calculations for 30\n",
      "Rolling calculations for 180\n",
      "Rolling calculations for 365\n",
      "Building all features took 0.006112416585286458 minutes\n",
      "-------\n",
      "so & bjk\n",
      "-------\n",
      "Rolling calculations for 3\n",
      "Rolling calculations for 5\n",
      "Rolling calculations for 7\n",
      "Rolling calculations for 10\n",
      "Rolling calculations for 30\n",
      "Rolling calculations for 180\n",
      "Rolling calculations for 365\n",
      "Building all features took 0.004889599482218425 minutes\n",
      "-------\n",
      "so & pnr\n",
      "-------\n",
      "Rolling calculations for 3\n",
      "Rolling calculations for 5\n",
      "Rolling calculations for 7\n",
      "Rolling calculations for 10\n",
      "Rolling calculations for 30\n",
      "Rolling calculations for 180\n",
      "Rolling calculations for 365\n",
      "Building all features took 0.005160983403523763 minutes\n",
      "\n",
      "Finished 0.1935483870967742 pct of stocks\n",
      "\n",
      "-------\n",
      "eqix & iwm\n",
      "-------\n",
      "Rolling calculations for 3\n",
      "Rolling calculations for 5\n",
      "Rolling calculations for 7\n",
      "Rolling calculations for 10\n",
      "Rolling calculations for 30\n",
      "Rolling calculations for 180\n",
      "Rolling calculations for 365\n",
      "Building all features took 0.0051061669985453285 minutes\n",
      "-------\n",
      "eqix & ce\n",
      "-------\n",
      "Rolling calculations for 3\n",
      "Rolling calculations for 5\n",
      "Rolling calculations for 7\n",
      "Rolling calculations for 10\n",
      "Rolling calculations for 30\n",
      "Rolling calculations for 180\n",
      "Rolling calculations for 365\n",
      "Building all features took 0.004946561654408773 minutes\n",
      "-------\n",
      "eqix & emr\n",
      "-------\n",
      "Rolling calculations for 3\n",
      "Rolling calculations for 5\n",
      "Rolling calculations for 7\n",
      "Rolling calculations for 10\n",
      "Rolling calculations for 30\n",
      "Rolling calculations for 180\n",
      "Rolling calculations for 365\n",
      "Building all features took 0.004939130942026774 minutes\n",
      "-------\n",
      "eqix & atvi\n",
      "-------\n",
      "Rolling calculations for 3\n",
      "Rolling calculations for 5\n",
      "Rolling calculations for 7\n",
      "Rolling calculations for 10\n",
      "Rolling calculations for 30\n",
      "Rolling calculations for 180\n",
      "Rolling calculations for 365\n",
      "Building all features took 0.004885613918304443 minutes\n",
      "-------\n",
      "eqix & vfh\n",
      "-------\n",
      "Rolling calculations for 3\n",
      "Rolling calculations for 5\n",
      "Rolling calculations for 7\n",
      "Rolling calculations for 10\n",
      "Rolling calculations for 30\n",
      "Rolling calculations for 180\n",
      "Rolling calculations for 365\n",
      "Building all features took 0.004877916971842448 minutes\n",
      "-------\n",
      "eqix & peg\n",
      "-------\n",
      "Rolling calculations for 3\n",
      "Rolling calculations for 5\n",
      "Rolling calculations for 7\n",
      "Rolling calculations for 10\n",
      "Rolling calculations for 30\n",
      "Rolling calculations for 180\n",
      "Rolling calculations for 365\n",
      "Building all features took 0.004934934775034586 minutes\n",
      "-------\n",
      "eqix & adbe\n",
      "-------\n",
      "Rolling calculations for 3\n",
      "Rolling calculations for 5\n",
      "Rolling calculations for 7\n",
      "Rolling calculations for 10\n",
      "Rolling calculations for 30\n",
      "Rolling calculations for 180\n",
      "Rolling calculations for 365\n",
      "Building all features took 0.00573418140411377 minutes\n",
      "-------\n",
      "eqix & cern\n",
      "-------\n",
      "Rolling calculations for 3\n",
      "Rolling calculations for 5\n",
      "Rolling calculations for 7\n",
      "Rolling calculations for 10\n",
      "Rolling calculations for 30\n",
      "Rolling calculations for 180\n",
      "Rolling calculations for 365\n",
      "Building all features took 0.0052141507466634115 minutes\n",
      "-------\n",
      "eqix & pg\n",
      "-------\n",
      "Rolling calculations for 3\n",
      "Rolling calculations for 5\n",
      "Rolling calculations for 7\n",
      "Rolling calculations for 10\n",
      "Rolling calculations for 30\n",
      "Rolling calculations for 180\n",
      "Rolling calculations for 365\n",
      "Building all features took 0.00540163516998291 minutes\n",
      "-------\n",
      "eqix & pvh\n",
      "-------\n",
      "Rolling calculations for 3\n",
      "Rolling calculations for 5\n",
      "Rolling calculations for 7\n",
      "Rolling calculations for 10\n",
      "Rolling calculations for 30\n",
      "Rolling calculations for 180\n",
      "Rolling calculations for 365\n",
      "Building all features took 0.005120948950449625 minutes\n",
      "-------\n",
      "eqix & lb\n",
      "-------\n",
      "Rolling calculations for 3\n",
      "Rolling calculations for 5\n",
      "Rolling calculations for 7\n",
      "Rolling calculations for 10\n",
      "Rolling calculations for 30\n",
      "Rolling calculations for 180\n",
      "Rolling calculations for 365\n",
      "Building all features took 0.005228801568349203 minutes\n",
      "-------\n",
      "eqix & pej\n",
      "-------\n",
      "Rolling calculations for 3\n",
      "Rolling calculations for 5\n",
      "Rolling calculations for 7\n",
      "Rolling calculations for 10\n",
      "Rolling calculations for 30\n",
      "Rolling calculations for 180\n",
      "Rolling calculations for 365\n",
      "Building all features took 0.005384254455566406 minutes\n",
      "-------\n",
      "eqix & rop\n",
      "-------\n",
      "Rolling calculations for 3\n",
      "Rolling calculations for 5\n",
      "Rolling calculations for 7\n",
      "Rolling calculations for 10\n",
      "Rolling calculations for 30\n",
      "Rolling calculations for 180\n",
      "Rolling calculations for 365\n",
      "Building all features took 0.005619231859842936 minutes\n",
      "-------\n",
      "eqix & dia\n",
      "-------\n",
      "Rolling calculations for 3\n",
      "Rolling calculations for 5\n",
      "Rolling calculations for 7\n",
      "Rolling calculations for 10\n",
      "Rolling calculations for 30\n",
      "Rolling calculations for 180\n",
      "Rolling calculations for 365\n",
      "Building all features took 0.005337198575337728 minutes\n",
      "-------\n",
      "eqix & are\n",
      "-------\n",
      "Rolling calculations for 3\n",
      "Rolling calculations for 5\n",
      "Rolling calculations for 7\n",
      "Rolling calculations for 10\n",
      "Rolling calculations for 30\n",
      "Rolling calculations for 180\n",
      "Rolling calculations for 365\n",
      "Building all features took 0.00577394962310791 minutes\n",
      "-------\n",
      "eqix & ph\n",
      "-------\n",
      "Rolling calculations for 3\n",
      "Rolling calculations for 5\n",
      "Rolling calculations for 7\n",
      "Rolling calculations for 10\n",
      "Rolling calculations for 30\n",
      "Rolling calculations for 180\n",
      "Rolling calculations for 365\n",
      "Building all features took 0.005045584837595622 minutes\n",
      "-------\n",
      "eqix & vno\n",
      "-------\n",
      "Rolling calculations for 3\n",
      "Rolling calculations for 5\n",
      "Rolling calculations for 7\n",
      "Rolling calculations for 10\n",
      "Rolling calculations for 30\n",
      "Rolling calculations for 180\n",
      "Rolling calculations for 365\n",
      "Building all features took 0.005252484480539958 minutes\n",
      "-------\n",
      "eqix & ual\n",
      "-------\n",
      "Rolling calculations for 3\n",
      "Rolling calculations for 5\n",
      "Rolling calculations for 7\n",
      "Rolling calculations for 10\n",
      "Rolling calculations for 30\n",
      "Rolling calculations for 180\n",
      "Rolling calculations for 365\n",
      "Building all features took 0.005369504292805989 minutes\n",
      "-------\n",
      "eqix & efx\n",
      "-------\n",
      "Rolling calculations for 3\n",
      "Rolling calculations for 5\n",
      "Rolling calculations for 7\n",
      "Rolling calculations for 10\n",
      "Rolling calculations for 30\n",
      "Rolling calculations for 180\n",
      "Rolling calculations for 365\n",
      "Building all features took 0.005369134744008382 minutes\n",
      "-------\n",
      "eqix & xrt\n",
      "-------\n",
      "Rolling calculations for 3\n",
      "Rolling calculations for 5\n",
      "Rolling calculations for 7\n",
      "Rolling calculations for 10\n",
      "Rolling calculations for 30\n",
      "Rolling calculations for 180\n",
      "Rolling calculations for 365\n",
      "Building all features took 0.005097035566965739 minutes\n",
      "-------\n",
      "eqix & bac\n",
      "-------\n",
      "Rolling calculations for 3\n",
      "Rolling calculations for 5\n",
      "Rolling calculations for 7\n",
      "Rolling calculations for 10\n",
      "Rolling calculations for 30\n",
      "Rolling calculations for 180\n",
      "Rolling calculations for 365\n",
      "Building all features took 0.005193448066711426 minutes\n",
      "-------\n",
      "eqix & ni\n",
      "-------\n",
      "Rolling calculations for 3\n",
      "Rolling calculations for 5\n",
      "Rolling calculations for 7\n",
      "Rolling calculations for 10\n",
      "Rolling calculations for 30\n",
      "Rolling calculations for 180\n",
      "Rolling calculations for 365\n",
      "Building all features took 0.005200596650441488 minutes\n",
      "-------\n",
      "eqix & bjk\n",
      "-------\n",
      "Rolling calculations for 3\n",
      "Rolling calculations for 5\n",
      "Rolling calculations for 7\n",
      "Rolling calculations for 10\n",
      "Rolling calculations for 30\n",
      "Rolling calculations for 180\n",
      "Rolling calculations for 365\n",
      "Building all features took 0.005645132064819336 minutes\n",
      "-------\n",
      "eqix & pnr\n",
      "-------\n",
      "Rolling calculations for 3\n",
      "Rolling calculations for 5\n",
      "Rolling calculations for 7\n",
      "Rolling calculations for 10\n",
      "Rolling calculations for 30\n",
      "Rolling calculations for 180\n",
      "Rolling calculations for 365\n",
      "Building all features took 0.005230931440989176 minutes\n",
      "\n",
      "Finished 0.22580645161290322 pct of stocks\n",
      "\n",
      "-------\n",
      "iwm & ce\n",
      "-------\n",
      "Rolling calculations for 3\n",
      "Rolling calculations for 5\n",
      "Rolling calculations for 7\n",
      "Rolling calculations for 10\n",
      "Rolling calculations for 30\n",
      "Rolling calculations for 180\n",
      "Rolling calculations for 365\n",
      "Building all features took 0.0058699886004130045 minutes\n",
      "-------\n",
      "iwm & emr\n",
      "-------\n",
      "Rolling calculations for 3\n",
      "Rolling calculations for 5\n",
      "Rolling calculations for 7\n",
      "Rolling calculations for 10\n",
      "Rolling calculations for 30\n",
      "Rolling calculations for 180\n",
      "Rolling calculations for 365\n",
      "Building all features took 0.005495683352152506 minutes\n",
      "-------\n",
      "iwm & atvi\n",
      "-------\n",
      "Rolling calculations for 3\n",
      "Rolling calculations for 5\n",
      "Rolling calculations for 7\n",
      "Rolling calculations for 10\n",
      "Rolling calculations for 30\n",
      "Rolling calculations for 180\n",
      "Rolling calculations for 365\n",
      "Building all features took 0.005318796634674073 minutes\n",
      "-------\n",
      "iwm & vfh\n",
      "-------\n",
      "Rolling calculations for 3\n",
      "Rolling calculations for 5\n",
      "Rolling calculations for 7\n",
      "Rolling calculations for 10\n",
      "Rolling calculations for 30\n",
      "Rolling calculations for 180\n",
      "Rolling calculations for 365\n",
      "Building all features took 0.005509412288665772 minutes\n",
      "-------\n",
      "iwm & peg\n",
      "-------\n",
      "Rolling calculations for 3\n",
      "Rolling calculations for 5\n",
      "Rolling calculations for 7\n",
      "Rolling calculations for 10\n",
      "Rolling calculations for 30\n",
      "Rolling calculations for 180\n",
      "Rolling calculations for 365\n",
      "Building all features took 0.005625967184702555 minutes\n",
      "-------\n",
      "iwm & adbe\n",
      "-------\n",
      "Rolling calculations for 3\n",
      "Rolling calculations for 5\n",
      "Rolling calculations for 7\n",
      "Rolling calculations for 10\n",
      "Rolling calculations for 30\n",
      "Rolling calculations for 180\n",
      "Rolling calculations for 365\n",
      "Building all features took 0.005453650156656901 minutes\n",
      "-------\n",
      "iwm & cern\n",
      "-------\n",
      "Rolling calculations for 3\n",
      "Rolling calculations for 5\n",
      "Rolling calculations for 7\n",
      "Rolling calculations for 10\n",
      "Rolling calculations for 30\n",
      "Rolling calculations for 180\n",
      "Rolling calculations for 365\n",
      "Building all features took 0.0061816175778706866 minutes\n",
      "-------\n",
      "iwm & pg\n",
      "-------\n",
      "Rolling calculations for 3\n",
      "Rolling calculations for 5\n",
      "Rolling calculations for 7\n",
      "Rolling calculations for 10\n",
      "Rolling calculations for 30\n",
      "Rolling calculations for 180\n",
      "Rolling calculations for 365\n",
      "Building all features took 0.005455446243286133 minutes\n",
      "-------\n",
      "iwm & pvh\n",
      "-------\n",
      "Rolling calculations for 3\n",
      "Rolling calculations for 5\n",
      "Rolling calculations for 7\n",
      "Rolling calculations for 10\n",
      "Rolling calculations for 30\n",
      "Rolling calculations for 180\n",
      "Rolling calculations for 365\n",
      "Building all features took 0.0055780172348022464 minutes\n",
      "-------\n",
      "iwm & lb\n",
      "-------\n",
      "Rolling calculations for 3\n",
      "Rolling calculations for 5\n",
      "Rolling calculations for 7\n",
      "Rolling calculations for 10\n",
      "Rolling calculations for 30\n",
      "Rolling calculations for 180\n",
      "Rolling calculations for 365\n",
      "Building all features took 0.006024599075317383 minutes\n",
      "-------\n",
      "iwm & pej\n",
      "-------\n",
      "Rolling calculations for 3\n",
      "Rolling calculations for 5\n",
      "Rolling calculations for 7\n",
      "Rolling calculations for 10\n",
      "Rolling calculations for 30\n",
      "Rolling calculations for 180\n",
      "Rolling calculations for 365\n",
      "Building all features took 0.006115635236104329 minutes\n",
      "-------\n",
      "iwm & rop\n",
      "-------\n",
      "Rolling calculations for 3\n",
      "Rolling calculations for 5\n",
      "Rolling calculations for 7\n",
      "Rolling calculations for 10\n",
      "Rolling calculations for 30\n",
      "Rolling calculations for 180\n",
      "Rolling calculations for 365\n",
      "Building all features took 0.005620551109313965 minutes\n",
      "-------\n",
      "iwm & dia\n",
      "-------\n",
      "Rolling calculations for 3\n",
      "Rolling calculations for 5\n",
      "Rolling calculations for 7\n",
      "Rolling calculations for 10\n",
      "Rolling calculations for 30\n",
      "Rolling calculations for 180\n",
      "Rolling calculations for 365\n",
      "Building all features took 0.005787646770477295 minutes\n",
      "-------\n",
      "iwm & are\n",
      "-------\n",
      "Rolling calculations for 3\n",
      "Rolling calculations for 5\n",
      "Rolling calculations for 7\n",
      "Rolling calculations for 10\n",
      "Rolling calculations for 30\n",
      "Rolling calculations for 180\n",
      "Rolling calculations for 365\n",
      "Building all features took 0.006403768062591552 minutes\n",
      "-------\n",
      "iwm & ph\n",
      "-------\n",
      "Rolling calculations for 3\n",
      "Rolling calculations for 5\n",
      "Rolling calculations for 7\n",
      "Rolling calculations for 10\n",
      "Rolling calculations for 30\n",
      "Rolling calculations for 180\n",
      "Rolling calculations for 365\n",
      "Building all features took 0.005601235230763753 minutes\n",
      "-------\n",
      "iwm & vno\n",
      "-------\n",
      "Rolling calculations for 3\n",
      "Rolling calculations for 5\n",
      "Rolling calculations for 7\n",
      "Rolling calculations for 10\n",
      "Rolling calculations for 30\n",
      "Rolling calculations for 180\n",
      "Rolling calculations for 365\n",
      "Building all features took 0.005583000183105469 minutes\n",
      "-------\n",
      "iwm & ual\n",
      "-------\n",
      "Rolling calculations for 3\n",
      "Rolling calculations for 5\n",
      "Rolling calculations for 7\n",
      "Rolling calculations for 10\n",
      "Rolling calculations for 30\n",
      "Rolling calculations for 180\n",
      "Rolling calculations for 365\n",
      "Building all features took 0.005712966124216716 minutes\n",
      "-------\n",
      "iwm & efx\n",
      "-------\n",
      "Rolling calculations for 3\n",
      "Rolling calculations for 5\n",
      "Rolling calculations for 7\n",
      "Rolling calculations for 10\n",
      "Rolling calculations for 30\n",
      "Rolling calculations for 180\n",
      "Rolling calculations for 365\n",
      "Building all features took 0.005675383408864339 minutes\n",
      "-------\n",
      "iwm & xrt\n",
      "-------\n",
      "Rolling calculations for 3\n",
      "Rolling calculations for 5\n",
      "Rolling calculations for 7\n",
      "Rolling calculations for 10\n",
      "Rolling calculations for 30\n",
      "Rolling calculations for 180\n",
      "Rolling calculations for 365\n",
      "Building all features took 0.005591332912445068 minutes\n",
      "-------\n",
      "iwm & bac\n",
      "-------\n",
      "Rolling calculations for 3\n",
      "Rolling calculations for 5\n",
      "Rolling calculations for 7\n",
      "Rolling calculations for 10\n",
      "Rolling calculations for 30\n",
      "Rolling calculations for 180\n",
      "Rolling calculations for 365\n",
      "Building all features took 0.005964148044586182 minutes\n",
      "-------\n",
      "iwm & ni\n",
      "-------\n",
      "Rolling calculations for 3\n",
      "Rolling calculations for 5\n",
      "Rolling calculations for 7\n",
      "Rolling calculations for 10\n",
      "Rolling calculations for 30\n",
      "Rolling calculations for 180\n",
      "Rolling calculations for 365\n",
      "Building all features took 0.0064779837926228845 minutes\n",
      "-------\n",
      "iwm & bjk\n",
      "-------\n",
      "Rolling calculations for 3\n",
      "Rolling calculations for 5\n",
      "Rolling calculations for 7\n",
      "Rolling calculations for 10\n",
      "Rolling calculations for 30\n",
      "Rolling calculations for 180\n",
      "Rolling calculations for 365\n",
      "Building all features took 0.005618913968404134 minutes\n",
      "-------\n",
      "iwm & pnr\n",
      "-------\n",
      "Rolling calculations for 3\n",
      "Rolling calculations for 5\n",
      "Rolling calculations for 7\n",
      "Rolling calculations for 10\n",
      "Rolling calculations for 30\n",
      "Rolling calculations for 180\n",
      "Rolling calculations for 365\n",
      "Building all features took 0.005972417195638021 minutes\n",
      "\n",
      "Finished 0.25806451612903225 pct of stocks\n",
      "\n",
      "-------\n",
      "ce & emr\n",
      "-------\n",
      "Rolling calculations for 3\n",
      "Rolling calculations for 5\n",
      "Rolling calculations for 7\n",
      "Rolling calculations for 10\n",
      "Rolling calculations for 30\n",
      "Rolling calculations for 180\n",
      "Rolling calculations for 365\n",
      "Building all features took 0.006169267495473226 minutes\n",
      "-------\n",
      "ce & atvi\n",
      "-------\n",
      "Rolling calculations for 3\n",
      "Rolling calculations for 5\n",
      "Rolling calculations for 7\n",
      "Rolling calculations for 10\n",
      "Rolling calculations for 30\n",
      "Rolling calculations for 180\n",
      "Rolling calculations for 365\n",
      "Building all features took 0.005867417653401693 minutes\n",
      "-------\n",
      "ce & vfh\n",
      "-------\n",
      "Rolling calculations for 3\n",
      "Rolling calculations for 5\n",
      "Rolling calculations for 7\n",
      "Rolling calculations for 10\n",
      "Rolling calculations for 30\n",
      "Rolling calculations for 180\n",
      "Rolling calculations for 365\n",
      "Building all features took 0.005852218468983968 minutes\n",
      "-------\n",
      "ce & peg\n",
      "-------\n",
      "Rolling calculations for 3\n",
      "Rolling calculations for 5\n",
      "Rolling calculations for 7\n",
      "Rolling calculations for 10\n",
      "Rolling calculations for 30\n",
      "Rolling calculations for 180\n",
      "Rolling calculations for 365\n",
      "Building all features took 0.005849401156107585 minutes\n",
      "-------\n",
      "ce & adbe\n",
      "-------\n",
      "Rolling calculations for 3\n",
      "Rolling calculations for 5\n",
      "Rolling calculations for 7\n",
      "Rolling calculations for 10\n",
      "Rolling calculations for 30\n",
      "Rolling calculations for 180\n",
      "Rolling calculations for 365\n",
      "Building all features took 0.006252431869506836 minutes\n",
      "-------\n",
      "ce & cern\n",
      "-------\n",
      "Rolling calculations for 3\n",
      "Rolling calculations for 5\n",
      "Rolling calculations for 7\n",
      "Rolling calculations for 10\n",
      "Rolling calculations for 30\n",
      "Rolling calculations for 180\n",
      "Rolling calculations for 365\n",
      "Building all features took 0.005687884489695231 minutes\n",
      "-------\n",
      "ce & pg\n",
      "-------\n",
      "Rolling calculations for 3\n",
      "Rolling calculations for 5\n",
      "Rolling calculations for 7\n",
      "Rolling calculations for 10\n",
      "Rolling calculations for 30\n",
      "Rolling calculations for 180\n",
      "Rolling calculations for 365\n",
      "Building all features took 0.005801530679066976 minutes\n",
      "-------\n",
      "ce & pvh\n",
      "-------\n",
      "Rolling calculations for 3\n",
      "Rolling calculations for 5\n",
      "Rolling calculations for 7\n",
      "Rolling calculations for 10\n",
      "Rolling calculations for 30\n",
      "Rolling calculations for 180\n",
      "Rolling calculations for 365\n",
      "Building all features took 0.005846687157948812 minutes\n",
      "-------\n",
      "ce & lb\n",
      "-------\n",
      "Rolling calculations for 3\n",
      "Rolling calculations for 5\n",
      "Rolling calculations for 7\n",
      "Rolling calculations for 10\n",
      "Rolling calculations for 30\n",
      "Rolling calculations for 180\n",
      "Rolling calculations for 365\n",
      "Building all features took 0.00603023370107015 minutes\n",
      "-------\n",
      "ce & pej\n",
      "-------\n",
      "Rolling calculations for 3\n",
      "Rolling calculations for 5\n",
      "Rolling calculations for 7\n",
      "Rolling calculations for 10\n",
      "Rolling calculations for 30\n",
      "Rolling calculations for 180\n",
      "Rolling calculations for 365\n",
      "Building all features took 0.005891966819763184 minutes\n",
      "-------\n",
      "ce & rop\n",
      "-------\n",
      "Rolling calculations for 3\n",
      "Rolling calculations for 5\n",
      "Rolling calculations for 7\n",
      "Rolling calculations for 10\n",
      "Rolling calculations for 30\n",
      "Rolling calculations for 180\n",
      "Rolling calculations for 365\n",
      "Building all features took 0.0056860009829203285 minutes\n",
      "-------\n",
      "ce & dia\n",
      "-------\n",
      "Rolling calculations for 3\n",
      "Rolling calculations for 5\n",
      "Rolling calculations for 7\n",
      "Rolling calculations for 10\n",
      "Rolling calculations for 30\n",
      "Rolling calculations for 180\n",
      "Rolling calculations for 365\n",
      "Building all features took 0.006395904223124186 minutes\n",
      "-------\n",
      "ce & are\n",
      "-------\n",
      "Rolling calculations for 3\n",
      "Rolling calculations for 5\n",
      "Rolling calculations for 7\n",
      "Rolling calculations for 10\n",
      "Rolling calculations for 30\n",
      "Rolling calculations for 180\n",
      "Rolling calculations for 365\n",
      "Building all features took 0.005985653400421143 minutes\n",
      "-------\n",
      "ce & ph\n",
      "-------\n",
      "Rolling calculations for 3\n",
      "Rolling calculations for 5\n",
      "Rolling calculations for 7\n",
      "Rolling calculations for 10\n",
      "Rolling calculations for 30\n",
      "Rolling calculations for 180\n",
      "Rolling calculations for 365\n",
      "Building all features took 0.005874220530192057 minutes\n",
      "-------\n",
      "ce & vno\n",
      "-------\n",
      "Rolling calculations for 3\n",
      "Rolling calculations for 5\n",
      "Rolling calculations for 7\n",
      "Rolling calculations for 10\n",
      "Rolling calculations for 30\n",
      "Rolling calculations for 180\n",
      "Rolling calculations for 365\n",
      "Building all features took 0.005991168816884359 minutes\n",
      "-------\n",
      "ce & ual\n",
      "-------\n",
      "Rolling calculations for 3\n",
      "Rolling calculations for 5\n",
      "Rolling calculations for 7\n",
      "Rolling calculations for 10\n",
      "Rolling calculations for 30\n",
      "Rolling calculations for 180\n",
      "Rolling calculations for 365\n",
      "Building all features took 0.006019409497578939 minutes\n",
      "-------\n",
      "ce & efx\n",
      "-------\n",
      "Rolling calculations for 3\n",
      "Rolling calculations for 5\n",
      "Rolling calculations for 7\n",
      "Rolling calculations for 10\n",
      "Rolling calculations for 30\n",
      "Rolling calculations for 180\n",
      "Rolling calculations for 365\n",
      "Building all features took 0.0060113310813903805 minutes\n",
      "-------\n",
      "ce & xrt\n",
      "-------\n",
      "Rolling calculations for 3\n",
      "Rolling calculations for 5\n",
      "Rolling calculations for 7\n",
      "Rolling calculations for 10\n",
      "Rolling calculations for 30\n",
      "Rolling calculations for 180\n",
      "Rolling calculations for 365\n"
     ]
    },
    {
     "ename": "KeyboardInterrupt",
     "evalue": "",
     "output_type": "error",
     "traceback": [
      "\u001b[0;31m---------------------------------------------------------------------------\u001b[0m",
      "\u001b[0;31mKeyboardInterrupt\u001b[0m                         Traceback (most recent call last)",
      "\u001b[0;32m<ipython-input-202-97343d0bd369>\u001b[0m in \u001b[0;36m<module>\u001b[0;34m\u001b[0m\n\u001b[0;32m----> 1\u001b[0;31m \u001b[0mtest_df\u001b[0m\u001b[0;34m,\u001b[0m \u001b[0mpai\u001b[0m \u001b[0;34m=\u001b[0m \u001b[0mbuild_correlation_dfs\u001b[0m\u001b[0;34m(\u001b[0m\u001b[0mdict_of_stocks_and_dfs\u001b[0m\u001b[0;34m,\u001b[0m \u001b[0mverbose\u001b[0m\u001b[0;34m=\u001b[0m\u001b[0;32mTrue\u001b[0m\u001b[0;34m)\u001b[0m\u001b[0;34m\u001b[0m\u001b[0m\n\u001b[0m",
      "\u001b[0;32m<ipython-input-186-5ad094d24a58>\u001b[0m in \u001b[0;36mbuild_correlation_dfs\u001b[0;34m(dict_of_stocks_and_dfs, n_day_rolling_features_list, verbose)\u001b[0m\n\u001b[1;32m     76\u001b[0m \u001b[0;34m\u001b[0m\u001b[0m\n\u001b[1;32m     77\u001b[0m             \u001b[0mall_features_df\u001b[0m\u001b[0;34m.\u001b[0m\u001b[0mindex\u001b[0m \u001b[0;34m=\u001b[0m \u001b[0mpd\u001b[0m\u001b[0;34m.\u001b[0m\u001b[0mto_datetime\u001b[0m\u001b[0;34m(\u001b[0m\u001b[0mall_features_df\u001b[0m\u001b[0;34m.\u001b[0m\u001b[0mindex\u001b[0m\u001b[0;34m)\u001b[0m\u001b[0;34m\u001b[0m\u001b[0m\n\u001b[0;32m---> 78\u001b[0;31m             \u001b[0mfinal_feature_df\u001b[0m \u001b[0;34m=\u001b[0m \u001b[0mfinal_feature_df\u001b[0m\u001b[0;34m.\u001b[0m\u001b[0mjoin\u001b[0m\u001b[0;34m(\u001b[0m\u001b[0mall_features_df\u001b[0m\u001b[0;34m,\u001b[0m \u001b[0mon\u001b[0m\u001b[0;34m=\u001b[0m\u001b[0;34m'date'\u001b[0m\u001b[0;34m)\u001b[0m\u001b[0;34m\u001b[0m\u001b[0m\n\u001b[0m\u001b[1;32m     79\u001b[0m \u001b[0;34m\u001b[0m\u001b[0m\n\u001b[1;32m     80\u001b[0m             \u001b[0;32mif\u001b[0m \u001b[0mverbose\u001b[0m\u001b[0;34m:\u001b[0m\u001b[0;34m\u001b[0m\u001b[0m\n",
      "\u001b[0;32m~/Library/Caches/pypoetry/virtualenvs/daily-trading-nJ43NNNI-py3.7/lib/python3.7/site-packages/pandas/core/frame.py\u001b[0m in \u001b[0;36mjoin\u001b[0;34m(self, other, on, how, lsuffix, rsuffix, sort)\u001b[0m\n\u001b[1;32m   7207\u001b[0m         \"\"\"\n\u001b[1;32m   7208\u001b[0m         return self._join_compat(\n\u001b[0;32m-> 7209\u001b[0;31m             \u001b[0mother\u001b[0m\u001b[0;34m,\u001b[0m \u001b[0mon\u001b[0m\u001b[0;34m=\u001b[0m\u001b[0mon\u001b[0m\u001b[0;34m,\u001b[0m \u001b[0mhow\u001b[0m\u001b[0;34m=\u001b[0m\u001b[0mhow\u001b[0m\u001b[0;34m,\u001b[0m \u001b[0mlsuffix\u001b[0m\u001b[0;34m=\u001b[0m\u001b[0mlsuffix\u001b[0m\u001b[0;34m,\u001b[0m \u001b[0mrsuffix\u001b[0m\u001b[0;34m=\u001b[0m\u001b[0mrsuffix\u001b[0m\u001b[0;34m,\u001b[0m \u001b[0msort\u001b[0m\u001b[0;34m=\u001b[0m\u001b[0msort\u001b[0m\u001b[0;34m\u001b[0m\u001b[0m\n\u001b[0m\u001b[1;32m   7210\u001b[0m         )\n\u001b[1;32m   7211\u001b[0m \u001b[0;34m\u001b[0m\u001b[0m\n",
      "\u001b[0;32m~/Library/Caches/pypoetry/virtualenvs/daily-trading-nJ43NNNI-py3.7/lib/python3.7/site-packages/pandas/core/frame.py\u001b[0m in \u001b[0;36m_join_compat\u001b[0;34m(self, other, on, how, lsuffix, rsuffix, sort)\u001b[0m\n\u001b[1;32m   7230\u001b[0m                 \u001b[0mright_index\u001b[0m\u001b[0;34m=\u001b[0m\u001b[0;32mTrue\u001b[0m\u001b[0;34m,\u001b[0m\u001b[0;34m\u001b[0m\u001b[0m\n\u001b[1;32m   7231\u001b[0m                 \u001b[0msuffixes\u001b[0m\u001b[0;34m=\u001b[0m\u001b[0;34m(\u001b[0m\u001b[0mlsuffix\u001b[0m\u001b[0;34m,\u001b[0m \u001b[0mrsuffix\u001b[0m\u001b[0;34m)\u001b[0m\u001b[0;34m,\u001b[0m\u001b[0;34m\u001b[0m\u001b[0m\n\u001b[0;32m-> 7232\u001b[0;31m                 \u001b[0msort\u001b[0m\u001b[0;34m=\u001b[0m\u001b[0msort\u001b[0m\u001b[0;34m,\u001b[0m\u001b[0;34m\u001b[0m\u001b[0m\n\u001b[0m\u001b[1;32m   7233\u001b[0m             )\n\u001b[1;32m   7234\u001b[0m         \u001b[0;32melse\u001b[0m\u001b[0;34m:\u001b[0m\u001b[0;34m\u001b[0m\u001b[0m\n",
      "\u001b[0;32m~/Library/Caches/pypoetry/virtualenvs/daily-trading-nJ43NNNI-py3.7/lib/python3.7/site-packages/pandas/core/reshape/merge.py\u001b[0m in \u001b[0;36mmerge\u001b[0;34m(left, right, how, on, left_on, right_on, left_index, right_index, sort, suffixes, copy, indicator, validate)\u001b[0m\n\u001b[1;32m     86\u001b[0m         \u001b[0mvalidate\u001b[0m\u001b[0;34m=\u001b[0m\u001b[0mvalidate\u001b[0m\u001b[0;34m,\u001b[0m\u001b[0;34m\u001b[0m\u001b[0m\n\u001b[1;32m     87\u001b[0m     )\n\u001b[0;32m---> 88\u001b[0;31m     \u001b[0;32mreturn\u001b[0m \u001b[0mop\u001b[0m\u001b[0;34m.\u001b[0m\u001b[0mget_result\u001b[0m\u001b[0;34m(\u001b[0m\u001b[0;34m)\u001b[0m\u001b[0;34m\u001b[0m\u001b[0m\n\u001b[0m\u001b[1;32m     89\u001b[0m \u001b[0;34m\u001b[0m\u001b[0m\n\u001b[1;32m     90\u001b[0m \u001b[0;34m\u001b[0m\u001b[0m\n",
      "\u001b[0;32m~/Library/Caches/pypoetry/virtualenvs/daily-trading-nJ43NNNI-py3.7/lib/python3.7/site-packages/pandas/core/reshape/merge.py\u001b[0m in \u001b[0;36mget_result\u001b[0;34m(self)\u001b[0m\n\u001b[1;32m    657\u001b[0m             \u001b[0maxes\u001b[0m\u001b[0;34m=\u001b[0m\u001b[0;34m[\u001b[0m\u001b[0mllabels\u001b[0m\u001b[0;34m.\u001b[0m\u001b[0mappend\u001b[0m\u001b[0;34m(\u001b[0m\u001b[0mrlabels\u001b[0m\u001b[0;34m)\u001b[0m\u001b[0;34m,\u001b[0m \u001b[0mjoin_index\u001b[0m\u001b[0;34m]\u001b[0m\u001b[0;34m,\u001b[0m\u001b[0;34m\u001b[0m\u001b[0m\n\u001b[1;32m    658\u001b[0m             \u001b[0mconcat_axis\u001b[0m\u001b[0;34m=\u001b[0m\u001b[0;36m0\u001b[0m\u001b[0;34m,\u001b[0m\u001b[0;34m\u001b[0m\u001b[0m\n\u001b[0;32m--> 659\u001b[0;31m             \u001b[0mcopy\u001b[0m\u001b[0;34m=\u001b[0m\u001b[0mself\u001b[0m\u001b[0;34m.\u001b[0m\u001b[0mcopy\u001b[0m\u001b[0;34m,\u001b[0m\u001b[0;34m\u001b[0m\u001b[0m\n\u001b[0m\u001b[1;32m    660\u001b[0m         )\n\u001b[1;32m    661\u001b[0m \u001b[0;34m\u001b[0m\u001b[0m\n",
      "\u001b[0;32m~/Library/Caches/pypoetry/virtualenvs/daily-trading-nJ43NNNI-py3.7/lib/python3.7/site-packages/pandas/core/internals/managers.py\u001b[0m in \u001b[0;36mconcatenate_block_managers\u001b[0;34m(mgrs_indexers, axes, concat_axis, copy)\u001b[0m\n\u001b[1;32m   2010\u001b[0m             \u001b[0mvalues\u001b[0m \u001b[0;34m=\u001b[0m \u001b[0mb\u001b[0m\u001b[0;34m.\u001b[0m\u001b[0mvalues\u001b[0m\u001b[0;34m\u001b[0m\u001b[0m\n\u001b[1;32m   2011\u001b[0m             \u001b[0;32mif\u001b[0m \u001b[0mcopy\u001b[0m\u001b[0;34m:\u001b[0m\u001b[0;34m\u001b[0m\u001b[0m\n\u001b[0;32m-> 2012\u001b[0;31m                 \u001b[0mvalues\u001b[0m \u001b[0;34m=\u001b[0m \u001b[0mvalues\u001b[0m\u001b[0;34m.\u001b[0m\u001b[0mcopy\u001b[0m\u001b[0;34m(\u001b[0m\u001b[0;34m)\u001b[0m\u001b[0;34m\u001b[0m\u001b[0m\n\u001b[0m\u001b[1;32m   2013\u001b[0m             \u001b[0;32melse\u001b[0m\u001b[0;34m:\u001b[0m\u001b[0;34m\u001b[0m\u001b[0m\n\u001b[1;32m   2014\u001b[0m                 \u001b[0mvalues\u001b[0m \u001b[0;34m=\u001b[0m \u001b[0mvalues\u001b[0m\u001b[0;34m.\u001b[0m\u001b[0mview\u001b[0m\u001b[0;34m(\u001b[0m\u001b[0;34m)\u001b[0m\u001b[0;34m\u001b[0m\u001b[0m\n",
      "\u001b[0;31mKeyboardInterrupt\u001b[0m: "
     ]
    }
   ],
   "source": [
    "test_df, pai = build_correlation_dfs(dict_of_stocks_and_dfs, verbose=True)"
   ]
  },
  {
   "cell_type": "code",
   "execution_count": null,
   "metadata": {},
   "outputs": [],
   "source": []
  },
  {
   "cell_type": "code",
   "execution_count": 191,
   "metadata": {},
   "outputs": [
    {
     "name": "stderr",
     "output_type": "stream",
     "text": [
      "/Users/jonathanhilgart/Library/Caches/pypoetry/virtualenvs/daily-trading-nJ43NNNI-py3.7/lib/python3.7/site-packages/ipykernel_launcher.py:12: UserWarning: Pandas doesn't allow columns to be created via a new attribute name - see https://pandas.pydata.org/pandas-docs/stable/indexing.html#attribute-access\n",
      "  if sys.path[0] == '':\n"
     ]
    },
    {
     "name": "stdout",
     "output_type": "stream",
     "text": [
      "\n",
      "Finished 0.0 pct of stocks\n",
      "\n",
      "\n",
      "Finished 0.03225806451612903 pct of stocks\n",
      "\n",
      "\n",
      "Finished 0.06451612903225806 pct of stocks\n",
      "\n",
      "\n",
      "Finished 0.0967741935483871 pct of stocks\n",
      "\n",
      "\n",
      "Finished 0.12903225806451613 pct of stocks\n",
      "\n",
      "\n",
      "Finished 0.16129032258064516 pct of stocks\n",
      "\n",
      "\n",
      "Finished 0.1935483870967742 pct of stocks\n",
      "\n",
      "\n",
      "Finished 0.22580645161290322 pct of stocks\n",
      "\n",
      "\n",
      "Finished 0.25806451612903225 pct of stocks\n",
      "\n",
      "\n",
      "Finished 0.2903225806451613 pct of stocks\n",
      "\n",
      "\n",
      "Finished 0.3225806451612903 pct of stocks\n",
      "\n",
      "\n",
      "Finished 0.3548387096774194 pct of stocks\n",
      "\n",
      "\n",
      "Finished 0.3870967741935484 pct of stocks\n",
      "\n",
      "\n",
      "Finished 0.41935483870967744 pct of stocks\n",
      "\n",
      "\n",
      "Finished 0.45161290322580644 pct of stocks\n",
      "\n",
      "\n",
      "Finished 0.4838709677419355 pct of stocks\n",
      "\n",
      "\n",
      "Finished 0.5161290322580645 pct of stocks\n",
      "\n",
      "\n",
      "Finished 0.5483870967741935 pct of stocks\n",
      "\n",
      "\n",
      "Finished 0.5806451612903226 pct of stocks\n",
      "\n",
      "\n",
      "Finished 0.6129032258064516 pct of stocks\n",
      "\n",
      "\n",
      "Finished 0.6451612903225806 pct of stocks\n",
      "\n",
      "\n",
      "Finished 0.6774193548387096 pct of stocks\n",
      "\n",
      "\n",
      "Finished 0.7096774193548387 pct of stocks\n",
      "\n",
      "\n",
      "Finished 0.7419354838709677 pct of stocks\n",
      "\n",
      "\n",
      "Finished 0.7741935483870968 pct of stocks\n",
      "\n",
      "\n",
      "Finished 0.8064516129032258 pct of stocks\n",
      "\n",
      "\n",
      "Finished 0.8387096774193549 pct of stocks\n",
      "\n",
      "\n",
      "Finished 0.8709677419354839 pct of stocks\n",
      "\n",
      "\n",
      "Finished 0.9032258064516129 pct of stocks\n",
      "\n",
      "\n",
      "Finished 0.9354838709677419 pct of stocks\n",
      "\n",
      "\n",
      "Finished 0.967741935483871 pct of stocks\n",
      "\n",
      "Total time 2.8676606853803 minutes for 465 pairs\n"
     ]
    }
   ],
   "source": [
    "# 2 minutes fo 210 pairs\n",
    "final_stock_df, pairs_of_stocks = build_correlation_dfs(dict_of_stocks_and_dfs, verbose=False)"
   ]
  },
  {
   "cell_type": "code",
   "execution_count": 192,
   "metadata": {},
   "outputs": [
    {
     "data": {
      "text/plain": [
       "3725"
      ]
     },
     "execution_count": 192,
     "metadata": {},
     "output_type": "execute_result"
    }
   ],
   "source": [
    "len(final_stock_df.columns)"
   ]
  },
  {
   "cell_type": "code",
   "execution_count": 1423,
   "metadata": {},
   "outputs": [
    {
     "data": {
      "text/html": [
       "<div>\n",
       "<style scoped>\n",
       "    .dataframe tbody tr th:only-of-type {\n",
       "        vertical-align: middle;\n",
       "    }\n",
       "\n",
       "    .dataframe tbody tr th {\n",
       "        vertical-align: top;\n",
       "    }\n",
       "\n",
       "    .dataframe thead th {\n",
       "        text-align: right;\n",
       "    }\n",
       "</style>\n",
       "<table border=\"1\" class=\"dataframe\">\n",
       "  <thead>\n",
       "    <tr style=\"text-align: right;\">\n",
       "      <th></th>\n",
       "      <th>eqix_rost_close_corr_rolling_3_days</th>\n",
       "      <th>eqix_close_std_rolling_3_days</th>\n",
       "      <th>rost_close_std_rolling_3_days</th>\n",
       "      <th>eqix_volume_std_rolling_3_days</th>\n",
       "      <th>rost_volume_std_rolling_3_days</th>\n",
       "      <th>eqix_volume</th>\n",
       "      <th>rost_volume</th>\n",
       "      <th>eqix_rost_close_corr_rolling_6_days</th>\n",
       "      <th>eqix_close_std_rolling_6_days</th>\n",
       "      <th>rost_close_std_rolling_6_days</th>\n",
       "      <th>...</th>\n",
       "      <th>bac_ni_close_corr_rolling_30_days</th>\n",
       "      <th>bac_ni_close_corr_rolling_60_days</th>\n",
       "      <th>bac_ni_close_corr_rolling_90_days</th>\n",
       "      <th>bac_ni_close_corr_rolling_180_days</th>\n",
       "      <th>bac_ni_close_corr_rolling_365_days</th>\n",
       "      <th>day</th>\n",
       "      <th>month</th>\n",
       "      <th>quarter</th>\n",
       "      <th>year</th>\n",
       "      <th>is_holiday</th>\n",
       "    </tr>\n",
       "    <tr>\n",
       "      <th>date</th>\n",
       "      <th></th>\n",
       "      <th></th>\n",
       "      <th></th>\n",
       "      <th></th>\n",
       "      <th></th>\n",
       "      <th></th>\n",
       "      <th></th>\n",
       "      <th></th>\n",
       "      <th></th>\n",
       "      <th></th>\n",
       "      <th></th>\n",
       "      <th></th>\n",
       "      <th></th>\n",
       "      <th></th>\n",
       "      <th></th>\n",
       "      <th></th>\n",
       "      <th></th>\n",
       "      <th></th>\n",
       "      <th></th>\n",
       "      <th></th>\n",
       "      <th></th>\n",
       "    </tr>\n",
       "  </thead>\n",
       "  <tbody>\n",
       "    <tr>\n",
       "      <th>2005-02-25</th>\n",
       "      <td>-0.674725</td>\n",
       "      <td>0.227786</td>\n",
       "      <td>0.034755</td>\n",
       "      <td>34417.241396</td>\n",
       "      <td>1.370540e+06</td>\n",
       "      <td>101044.0</td>\n",
       "      <td>4053375.0</td>\n",
       "      <td>0.815942</td>\n",
       "      <td>0.955232</td>\n",
       "      <td>0.247500</td>\n",
       "      <td>...</td>\n",
       "      <td>0.472253</td>\n",
       "      <td>0.208729</td>\n",
       "      <td>0.332521</td>\n",
       "      <td>0.713070</td>\n",
       "      <td>0.600343</td>\n",
       "      <td>25</td>\n",
       "      <td>2</td>\n",
       "      <td>1</td>\n",
       "      <td>2005</td>\n",
       "      <td>0</td>\n",
       "    </tr>\n",
       "    <tr>\n",
       "      <th>2005-02-28</th>\n",
       "      <td>-0.674725</td>\n",
       "      <td>0.227786</td>\n",
       "      <td>0.034755</td>\n",
       "      <td>34417.241396</td>\n",
       "      <td>1.370540e+06</td>\n",
       "      <td>157510.0</td>\n",
       "      <td>3504738.0</td>\n",
       "      <td>0.815942</td>\n",
       "      <td>0.955232</td>\n",
       "      <td>0.247500</td>\n",
       "      <td>...</td>\n",
       "      <td>0.468663</td>\n",
       "      <td>0.230703</td>\n",
       "      <td>0.317359</td>\n",
       "      <td>0.713723</td>\n",
       "      <td>0.601679</td>\n",
       "      <td>28</td>\n",
       "      <td>2</td>\n",
       "      <td>1</td>\n",
       "      <td>2005</td>\n",
       "      <td>0</td>\n",
       "    </tr>\n",
       "    <tr>\n",
       "      <th>2005-03-01</th>\n",
       "      <td>-0.674725</td>\n",
       "      <td>0.227786</td>\n",
       "      <td>0.034755</td>\n",
       "      <td>34417.241396</td>\n",
       "      <td>1.370540e+06</td>\n",
       "      <td>163370.0</td>\n",
       "      <td>6104866.0</td>\n",
       "      <td>0.815942</td>\n",
       "      <td>0.955232</td>\n",
       "      <td>0.247500</td>\n",
       "      <td>...</td>\n",
       "      <td>0.509679</td>\n",
       "      <td>0.251617</td>\n",
       "      <td>0.296525</td>\n",
       "      <td>0.714306</td>\n",
       "      <td>0.603787</td>\n",
       "      <td>1</td>\n",
       "      <td>3</td>\n",
       "      <td>1</td>\n",
       "      <td>2005</td>\n",
       "      <td>0</td>\n",
       "    </tr>\n",
       "    <tr>\n",
       "      <th>2005-03-02</th>\n",
       "      <td>0.155460</td>\n",
       "      <td>0.249492</td>\n",
       "      <td>0.092128</td>\n",
       "      <td>9822.208577</td>\n",
       "      <td>1.749734e+06</td>\n",
       "      <td>176678.0</td>\n",
       "      <td>6833154.0</td>\n",
       "      <td>0.815942</td>\n",
       "      <td>0.955232</td>\n",
       "      <td>0.247500</td>\n",
       "      <td>...</td>\n",
       "      <td>0.503664</td>\n",
       "      <td>0.264849</td>\n",
       "      <td>0.272528</td>\n",
       "      <td>0.713619</td>\n",
       "      <td>0.606069</td>\n",
       "      <td>2</td>\n",
       "      <td>3</td>\n",
       "      <td>1</td>\n",
       "      <td>2005</td>\n",
       "      <td>0</td>\n",
       "    </tr>\n",
       "    <tr>\n",
       "      <th>2005-03-03</th>\n",
       "      <td>0.944908</td>\n",
       "      <td>0.354056</td>\n",
       "      <td>0.210178</td>\n",
       "      <td>53985.128854</td>\n",
       "      <td>8.015813e+06</td>\n",
       "      <td>262816.0</td>\n",
       "      <td>20338472.0</td>\n",
       "      <td>0.815942</td>\n",
       "      <td>0.955232</td>\n",
       "      <td>0.247500</td>\n",
       "      <td>...</td>\n",
       "      <td>0.602648</td>\n",
       "      <td>0.287665</td>\n",
       "      <td>0.239791</td>\n",
       "      <td>0.712324</td>\n",
       "      <td>0.607683</td>\n",
       "      <td>3</td>\n",
       "      <td>3</td>\n",
       "      <td>1</td>\n",
       "      <td>2005</td>\n",
       "      <td>0</td>\n",
       "    </tr>\n",
       "    <tr>\n",
       "      <th>...</th>\n",
       "      <td>...</td>\n",
       "      <td>...</td>\n",
       "      <td>...</td>\n",
       "      <td>...</td>\n",
       "      <td>...</td>\n",
       "      <td>...</td>\n",
       "      <td>...</td>\n",
       "      <td>...</td>\n",
       "      <td>...</td>\n",
       "      <td>...</td>\n",
       "      <td>...</td>\n",
       "      <td>...</td>\n",
       "      <td>...</td>\n",
       "      <td>...</td>\n",
       "      <td>...</td>\n",
       "      <td>...</td>\n",
       "      <td>...</td>\n",
       "      <td>...</td>\n",
       "      <td>...</td>\n",
       "      <td>...</td>\n",
       "      <td>...</td>\n",
       "    </tr>\n",
       "    <tr>\n",
       "      <th>2020-04-20</th>\n",
       "      <td>0.921834</td>\n",
       "      <td>12.100167</td>\n",
       "      <td>2.832178</td>\n",
       "      <td>10426.116454</td>\n",
       "      <td>1.245721e+06</td>\n",
       "      <td>519465.0</td>\n",
       "      <td>3565677.0</td>\n",
       "      <td>0.806622</td>\n",
       "      <td>13.560098</td>\n",
       "      <td>2.202212</td>\n",
       "      <td>...</td>\n",
       "      <td>0.785553</td>\n",
       "      <td>0.893178</td>\n",
       "      <td>0.782362</td>\n",
       "      <td>0.478982</td>\n",
       "      <td>0.468392</td>\n",
       "      <td>20</td>\n",
       "      <td>4</td>\n",
       "      <td>2</td>\n",
       "      <td>2020</td>\n",
       "      <td>0</td>\n",
       "    </tr>\n",
       "    <tr>\n",
       "      <th>2020-04-21</th>\n",
       "      <td>0.883428</td>\n",
       "      <td>13.572675</td>\n",
       "      <td>4.528072</td>\n",
       "      <td>52815.552637</td>\n",
       "      <td>7.638944e+05</td>\n",
       "      <td>420730.0</td>\n",
       "      <td>4154852.0</td>\n",
       "      <td>0.831760</td>\n",
       "      <td>9.717596</td>\n",
       "      <td>3.283860</td>\n",
       "      <td>...</td>\n",
       "      <td>0.813368</td>\n",
       "      <td>0.892376</td>\n",
       "      <td>0.786006</td>\n",
       "      <td>0.486588</td>\n",
       "      <td>0.472182</td>\n",
       "      <td>21</td>\n",
       "      <td>4</td>\n",
       "      <td>2</td>\n",
       "      <td>2020</td>\n",
       "      <td>0</td>\n",
       "    </tr>\n",
       "    <tr>\n",
       "      <th>2020-04-22</th>\n",
       "      <td>-0.308115</td>\n",
       "      <td>7.721531</td>\n",
       "      <td>1.951692</td>\n",
       "      <td>53591.032244</td>\n",
       "      <td>4.522756e+05</td>\n",
       "      <td>433979.0</td>\n",
       "      <td>3265862.0</td>\n",
       "      <td>0.586243</td>\n",
       "      <td>9.167159</td>\n",
       "      <td>3.253450</td>\n",
       "      <td>...</td>\n",
       "      <td>0.799865</td>\n",
       "      <td>0.889803</td>\n",
       "      <td>0.788002</td>\n",
       "      <td>0.490475</td>\n",
       "      <td>0.474366</td>\n",
       "      <td>22</td>\n",
       "      <td>4</td>\n",
       "      <td>2</td>\n",
       "      <td>2020</td>\n",
       "      <td>0</td>\n",
       "    </tr>\n",
       "    <tr>\n",
       "      <th>2020-04-23</th>\n",
       "      <td>0.413704</td>\n",
       "      <td>7.479106</td>\n",
       "      <td>0.696587</td>\n",
       "      <td>26760.825678</td>\n",
       "      <td>4.445423e+05</td>\n",
       "      <td>382446.0</td>\n",
       "      <td>3721585.0</td>\n",
       "      <td>0.528859</td>\n",
       "      <td>9.062256</td>\n",
       "      <td>3.488868</td>\n",
       "      <td>...</td>\n",
       "      <td>0.797745</td>\n",
       "      <td>0.887537</td>\n",
       "      <td>0.793373</td>\n",
       "      <td>0.494664</td>\n",
       "      <td>0.477136</td>\n",
       "      <td>23</td>\n",
       "      <td>4</td>\n",
       "      <td>2</td>\n",
       "      <td>2020</td>\n",
       "      <td>0</td>\n",
       "    </tr>\n",
       "    <tr>\n",
       "      <th>2020-04-24</th>\n",
       "      <td>-0.490728</td>\n",
       "      <td>0.350761</td>\n",
       "      <td>1.434201</td>\n",
       "      <td>39397.180893</td>\n",
       "      <td>7.732119e+05</td>\n",
       "      <td>459833.0</td>\n",
       "      <td>2213955.0</td>\n",
       "      <td>0.523950</td>\n",
       "      <td>9.160853</td>\n",
       "      <td>3.418811</td>\n",
       "      <td>...</td>\n",
       "      <td>0.797765</td>\n",
       "      <td>0.884736</td>\n",
       "      <td>0.797156</td>\n",
       "      <td>0.497771</td>\n",
       "      <td>0.479796</td>\n",
       "      <td>24</td>\n",
       "      <td>4</td>\n",
       "      <td>2</td>\n",
       "      <td>2020</td>\n",
       "      <td>0</td>\n",
       "    </tr>\n",
       "  </tbody>\n",
       "</table>\n",
       "<p>3816 rows × 2294 columns</p>\n",
       "</div>"
      ],
      "text/plain": [
       "            eqix_rost_close_corr_rolling_3_days  \\\n",
       "date                                              \n",
       "2005-02-25                            -0.674725   \n",
       "2005-02-28                            -0.674725   \n",
       "2005-03-01                            -0.674725   \n",
       "2005-03-02                             0.155460   \n",
       "2005-03-03                             0.944908   \n",
       "...                                         ...   \n",
       "2020-04-20                             0.921834   \n",
       "2020-04-21                             0.883428   \n",
       "2020-04-22                            -0.308115   \n",
       "2020-04-23                             0.413704   \n",
       "2020-04-24                            -0.490728   \n",
       "\n",
       "            eqix_close_std_rolling_3_days  rost_close_std_rolling_3_days  \\\n",
       "date                                                                       \n",
       "2005-02-25                       0.227786                       0.034755   \n",
       "2005-02-28                       0.227786                       0.034755   \n",
       "2005-03-01                       0.227786                       0.034755   \n",
       "2005-03-02                       0.249492                       0.092128   \n",
       "2005-03-03                       0.354056                       0.210178   \n",
       "...                                   ...                            ...   \n",
       "2020-04-20                      12.100167                       2.832178   \n",
       "2020-04-21                      13.572675                       4.528072   \n",
       "2020-04-22                       7.721531                       1.951692   \n",
       "2020-04-23                       7.479106                       0.696587   \n",
       "2020-04-24                       0.350761                       1.434201   \n",
       "\n",
       "            eqix_volume_std_rolling_3_days  rost_volume_std_rolling_3_days  \\\n",
       "date                                                                         \n",
       "2005-02-25                    34417.241396                    1.370540e+06   \n",
       "2005-02-28                    34417.241396                    1.370540e+06   \n",
       "2005-03-01                    34417.241396                    1.370540e+06   \n",
       "2005-03-02                     9822.208577                    1.749734e+06   \n",
       "2005-03-03                    53985.128854                    8.015813e+06   \n",
       "...                                    ...                             ...   \n",
       "2020-04-20                    10426.116454                    1.245721e+06   \n",
       "2020-04-21                    52815.552637                    7.638944e+05   \n",
       "2020-04-22                    53591.032244                    4.522756e+05   \n",
       "2020-04-23                    26760.825678                    4.445423e+05   \n",
       "2020-04-24                    39397.180893                    7.732119e+05   \n",
       "\n",
       "            eqix_volume  rost_volume  eqix_rost_close_corr_rolling_6_days  \\\n",
       "date                                                                        \n",
       "2005-02-25     101044.0    4053375.0                             0.815942   \n",
       "2005-02-28     157510.0    3504738.0                             0.815942   \n",
       "2005-03-01     163370.0    6104866.0                             0.815942   \n",
       "2005-03-02     176678.0    6833154.0                             0.815942   \n",
       "2005-03-03     262816.0   20338472.0                             0.815942   \n",
       "...                 ...          ...                                  ...   \n",
       "2020-04-20     519465.0    3565677.0                             0.806622   \n",
       "2020-04-21     420730.0    4154852.0                             0.831760   \n",
       "2020-04-22     433979.0    3265862.0                             0.586243   \n",
       "2020-04-23     382446.0    3721585.0                             0.528859   \n",
       "2020-04-24     459833.0    2213955.0                             0.523950   \n",
       "\n",
       "            eqix_close_std_rolling_6_days  rost_close_std_rolling_6_days  ...  \\\n",
       "date                                                                      ...   \n",
       "2005-02-25                       0.955232                       0.247500  ...   \n",
       "2005-02-28                       0.955232                       0.247500  ...   \n",
       "2005-03-01                       0.955232                       0.247500  ...   \n",
       "2005-03-02                       0.955232                       0.247500  ...   \n",
       "2005-03-03                       0.955232                       0.247500  ...   \n",
       "...                                   ...                            ...  ...   \n",
       "2020-04-20                      13.560098                       2.202212  ...   \n",
       "2020-04-21                       9.717596                       3.283860  ...   \n",
       "2020-04-22                       9.167159                       3.253450  ...   \n",
       "2020-04-23                       9.062256                       3.488868  ...   \n",
       "2020-04-24                       9.160853                       3.418811  ...   \n",
       "\n",
       "            bac_ni_close_corr_rolling_30_days  \\\n",
       "date                                            \n",
       "2005-02-25                           0.472253   \n",
       "2005-02-28                           0.468663   \n",
       "2005-03-01                           0.509679   \n",
       "2005-03-02                           0.503664   \n",
       "2005-03-03                           0.602648   \n",
       "...                                       ...   \n",
       "2020-04-20                           0.785553   \n",
       "2020-04-21                           0.813368   \n",
       "2020-04-22                           0.799865   \n",
       "2020-04-23                           0.797745   \n",
       "2020-04-24                           0.797765   \n",
       "\n",
       "            bac_ni_close_corr_rolling_60_days  \\\n",
       "date                                            \n",
       "2005-02-25                           0.208729   \n",
       "2005-02-28                           0.230703   \n",
       "2005-03-01                           0.251617   \n",
       "2005-03-02                           0.264849   \n",
       "2005-03-03                           0.287665   \n",
       "...                                       ...   \n",
       "2020-04-20                           0.893178   \n",
       "2020-04-21                           0.892376   \n",
       "2020-04-22                           0.889803   \n",
       "2020-04-23                           0.887537   \n",
       "2020-04-24                           0.884736   \n",
       "\n",
       "            bac_ni_close_corr_rolling_90_days  \\\n",
       "date                                            \n",
       "2005-02-25                           0.332521   \n",
       "2005-02-28                           0.317359   \n",
       "2005-03-01                           0.296525   \n",
       "2005-03-02                           0.272528   \n",
       "2005-03-03                           0.239791   \n",
       "...                                       ...   \n",
       "2020-04-20                           0.782362   \n",
       "2020-04-21                           0.786006   \n",
       "2020-04-22                           0.788002   \n",
       "2020-04-23                           0.793373   \n",
       "2020-04-24                           0.797156   \n",
       "\n",
       "            bac_ni_close_corr_rolling_180_days  \\\n",
       "date                                             \n",
       "2005-02-25                            0.713070   \n",
       "2005-02-28                            0.713723   \n",
       "2005-03-01                            0.714306   \n",
       "2005-03-02                            0.713619   \n",
       "2005-03-03                            0.712324   \n",
       "...                                        ...   \n",
       "2020-04-20                            0.478982   \n",
       "2020-04-21                            0.486588   \n",
       "2020-04-22                            0.490475   \n",
       "2020-04-23                            0.494664   \n",
       "2020-04-24                            0.497771   \n",
       "\n",
       "            bac_ni_close_corr_rolling_365_days  day  month  quarter  year  \\\n",
       "date                                                                        \n",
       "2005-02-25                            0.600343   25      2        1  2005   \n",
       "2005-02-28                            0.601679   28      2        1  2005   \n",
       "2005-03-01                            0.603787    1      3        1  2005   \n",
       "2005-03-02                            0.606069    2      3        1  2005   \n",
       "2005-03-03                            0.607683    3      3        1  2005   \n",
       "...                                        ...  ...    ...      ...   ...   \n",
       "2020-04-20                            0.468392   20      4        2  2020   \n",
       "2020-04-21                            0.472182   21      4        2  2020   \n",
       "2020-04-22                            0.474366   22      4        2  2020   \n",
       "2020-04-23                            0.477136   23      4        2  2020   \n",
       "2020-04-24                            0.479796   24      4        2  2020   \n",
       "\n",
       "            is_holiday  \n",
       "date                    \n",
       "2005-02-25           0  \n",
       "2005-02-28           0  \n",
       "2005-03-01           0  \n",
       "2005-03-02           0  \n",
       "2005-03-03           0  \n",
       "...                ...  \n",
       "2020-04-20           0  \n",
       "2020-04-21           0  \n",
       "2020-04-22           0  \n",
       "2020-04-23           0  \n",
       "2020-04-24           0  \n",
       "\n",
       "[3816 rows x 2294 columns]"
      ]
     },
     "execution_count": 1423,
     "metadata": {},
     "output_type": "execute_result"
    }
   ],
   "source": [
    "final_stock_df[~pd.isna(final_stock_df.pnr_bac_close_corr_rolling_3_days)]"
   ]
  },
  {
   "cell_type": "code",
   "execution_count": 1424,
   "metadata": {},
   "outputs": [],
   "source": [
    "# drop na\n",
    "final_stock_df = final_stock_df.dropna()"
   ]
  },
  {
   "cell_type": "code",
   "execution_count": 1425,
   "metadata": {},
   "outputs": [
    {
     "data": {
      "text/plain": [
       "210"
      ]
     },
     "execution_count": 1425,
     "metadata": {},
     "output_type": "execute_result"
    }
   ],
   "source": [
    "len(pairs_of_stocks)"
   ]
  },
  {
   "cell_type": "code",
   "execution_count": null,
   "metadata": {},
   "outputs": [],
   "source": []
  },
  {
   "cell_type": "code",
   "execution_count": 1426,
   "metadata": {},
   "outputs": [],
   "source": [
    "# last date of dtaa\n",
    "last_date_of_data = '2020-04-17'"
   ]
  },
  {
   "cell_type": "code",
   "execution_count": 1427,
   "metadata": {},
   "outputs": [
    {
     "data": {
      "text/html": [
       "<div>\n",
       "<style scoped>\n",
       "    .dataframe tbody tr th:only-of-type {\n",
       "        vertical-align: middle;\n",
       "    }\n",
       "\n",
       "    .dataframe tbody tr th {\n",
       "        vertical-align: top;\n",
       "    }\n",
       "\n",
       "    .dataframe thead th {\n",
       "        text-align: right;\n",
       "    }\n",
       "</style>\n",
       "<table border=\"1\" class=\"dataframe\">\n",
       "  <thead>\n",
       "    <tr style=\"text-align: right;\">\n",
       "      <th></th>\n",
       "      <th>eqix_rost_close_corr_rolling_3_days</th>\n",
       "      <th>eqix_close_std_rolling_3_days</th>\n",
       "      <th>rost_close_std_rolling_3_days</th>\n",
       "      <th>eqix_volume_std_rolling_3_days</th>\n",
       "      <th>rost_volume_std_rolling_3_days</th>\n",
       "      <th>eqix_volume</th>\n",
       "      <th>rost_volume</th>\n",
       "      <th>eqix_rost_close_corr_rolling_6_days</th>\n",
       "      <th>eqix_close_std_rolling_6_days</th>\n",
       "      <th>rost_close_std_rolling_6_days</th>\n",
       "      <th>...</th>\n",
       "      <th>bac_ni_close_corr_rolling_30_days</th>\n",
       "      <th>bac_ni_close_corr_rolling_60_days</th>\n",
       "      <th>bac_ni_close_corr_rolling_90_days</th>\n",
       "      <th>bac_ni_close_corr_rolling_180_days</th>\n",
       "      <th>bac_ni_close_corr_rolling_365_days</th>\n",
       "      <th>day</th>\n",
       "      <th>month</th>\n",
       "      <th>quarter</th>\n",
       "      <th>year</th>\n",
       "      <th>is_holiday</th>\n",
       "    </tr>\n",
       "    <tr>\n",
       "      <th>date</th>\n",
       "      <th></th>\n",
       "      <th></th>\n",
       "      <th></th>\n",
       "      <th></th>\n",
       "      <th></th>\n",
       "      <th></th>\n",
       "      <th></th>\n",
       "      <th></th>\n",
       "      <th></th>\n",
       "      <th></th>\n",
       "      <th></th>\n",
       "      <th></th>\n",
       "      <th></th>\n",
       "      <th></th>\n",
       "      <th></th>\n",
       "      <th></th>\n",
       "      <th></th>\n",
       "      <th></th>\n",
       "      <th></th>\n",
       "      <th></th>\n",
       "      <th></th>\n",
       "    </tr>\n",
       "  </thead>\n",
       "  <tbody>\n",
       "    <tr>\n",
       "      <th>2020-04-17</th>\n",
       "      <td>0.780499</td>\n",
       "      <td>9.816692</td>\n",
       "      <td>2.323195</td>\n",
       "      <td>87720.694094</td>\n",
       "      <td>1.496140e+06</td>\n",
       "      <td>502609.0</td>\n",
       "      <td>5081026.0</td>\n",
       "      <td>0.762826</td>\n",
       "      <td>13.356595</td>\n",
       "      <td>1.939649</td>\n",
       "      <td>...</td>\n",
       "      <td>0.822318</td>\n",
       "      <td>0.893446</td>\n",
       "      <td>0.777699</td>\n",
       "      <td>0.471441</td>\n",
       "      <td>0.465007</td>\n",
       "      <td>17</td>\n",
       "      <td>4</td>\n",
       "      <td>2</td>\n",
       "      <td>2020</td>\n",
       "      <td>0</td>\n",
       "    </tr>\n",
       "  </tbody>\n",
       "</table>\n",
       "<p>1 rows × 2294 columns</p>\n",
       "</div>"
      ],
      "text/plain": [
       "            eqix_rost_close_corr_rolling_3_days  \\\n",
       "date                                              \n",
       "2020-04-17                             0.780499   \n",
       "\n",
       "            eqix_close_std_rolling_3_days  rost_close_std_rolling_3_days  \\\n",
       "date                                                                       \n",
       "2020-04-17                       9.816692                       2.323195   \n",
       "\n",
       "            eqix_volume_std_rolling_3_days  rost_volume_std_rolling_3_days  \\\n",
       "date                                                                         \n",
       "2020-04-17                    87720.694094                    1.496140e+06   \n",
       "\n",
       "            eqix_volume  rost_volume  eqix_rost_close_corr_rolling_6_days  \\\n",
       "date                                                                        \n",
       "2020-04-17     502609.0    5081026.0                             0.762826   \n",
       "\n",
       "            eqix_close_std_rolling_6_days  rost_close_std_rolling_6_days  ...  \\\n",
       "date                                                                      ...   \n",
       "2020-04-17                      13.356595                       1.939649  ...   \n",
       "\n",
       "            bac_ni_close_corr_rolling_30_days  \\\n",
       "date                                            \n",
       "2020-04-17                           0.822318   \n",
       "\n",
       "            bac_ni_close_corr_rolling_60_days  \\\n",
       "date                                            \n",
       "2020-04-17                           0.893446   \n",
       "\n",
       "            bac_ni_close_corr_rolling_90_days  \\\n",
       "date                                            \n",
       "2020-04-17                           0.777699   \n",
       "\n",
       "            bac_ni_close_corr_rolling_180_days  \\\n",
       "date                                             \n",
       "2020-04-17                            0.471441   \n",
       "\n",
       "            bac_ni_close_corr_rolling_365_days  day  month  quarter  year  \\\n",
       "date                                                                        \n",
       "2020-04-17                            0.465007   17      4        2  2020   \n",
       "\n",
       "            is_holiday  \n",
       "date                    \n",
       "2020-04-17           0  \n",
       "\n",
       "[1 rows x 2294 columns]"
      ]
     },
     "execution_count": 1427,
     "metadata": {},
     "output_type": "execute_result"
    }
   ],
   "source": [
    "final_stock_df[final_stock_df.index == last_date_of_data]"
   ]
  },
  {
   "cell_type": "code",
   "execution_count": 1428,
   "metadata": {},
   "outputs": [
    {
     "data": {
      "text/plain": [
       "['eqix_rost',\n",
       " 'eqix_so',\n",
       " 'eqix_emr',\n",
       " 'eqix_atvi',\n",
       " 'eqix_ce',\n",
       " 'eqix_cern',\n",
       " 'eqix_peg',\n",
       " 'eqix_adbe',\n",
       " 'eqix_rop',\n",
       " 'eqix_are']"
      ]
     },
     "execution_count": 1428,
     "metadata": {},
     "output_type": "execute_result"
    }
   ],
   "source": [
    "pairs_of_stocks[:10]"
   ]
  },
  {
   "cell_type": "code",
   "execution_count": 1429,
   "metadata": {},
   "outputs": [
    {
     "data": {
      "text/html": [
       "<div>\n",
       "<style scoped>\n",
       "    .dataframe tbody tr th:only-of-type {\n",
       "        vertical-align: middle;\n",
       "    }\n",
       "\n",
       "    .dataframe tbody tr th {\n",
       "        vertical-align: top;\n",
       "    }\n",
       "\n",
       "    .dataframe thead th {\n",
       "        text-align: right;\n",
       "    }\n",
       "</style>\n",
       "<table border=\"1\" class=\"dataframe\">\n",
       "  <thead>\n",
       "    <tr style=\"text-align: right;\">\n",
       "      <th></th>\n",
       "      <th>eqix_rost_close_corr_rolling_3_days</th>\n",
       "      <th>eqix_close_std_rolling_3_days</th>\n",
       "      <th>rost_close_std_rolling_3_days</th>\n",
       "      <th>eqix_volume_std_rolling_3_days</th>\n",
       "      <th>rost_volume_std_rolling_3_days</th>\n",
       "      <th>eqix_volume</th>\n",
       "      <th>rost_volume</th>\n",
       "      <th>eqix_rost_close_corr_rolling_6_days</th>\n",
       "      <th>eqix_close_std_rolling_6_days</th>\n",
       "      <th>rost_close_std_rolling_6_days</th>\n",
       "      <th>...</th>\n",
       "      <th>bac_ni_close_corr_rolling_30_days</th>\n",
       "      <th>bac_ni_close_corr_rolling_60_days</th>\n",
       "      <th>bac_ni_close_corr_rolling_90_days</th>\n",
       "      <th>bac_ni_close_corr_rolling_180_days</th>\n",
       "      <th>bac_ni_close_corr_rolling_365_days</th>\n",
       "      <th>day</th>\n",
       "      <th>month</th>\n",
       "      <th>quarter</th>\n",
       "      <th>year</th>\n",
       "      <th>is_holiday</th>\n",
       "    </tr>\n",
       "    <tr>\n",
       "      <th>date</th>\n",
       "      <th></th>\n",
       "      <th></th>\n",
       "      <th></th>\n",
       "      <th></th>\n",
       "      <th></th>\n",
       "      <th></th>\n",
       "      <th></th>\n",
       "      <th></th>\n",
       "      <th></th>\n",
       "      <th></th>\n",
       "      <th></th>\n",
       "      <th></th>\n",
       "      <th></th>\n",
       "      <th></th>\n",
       "      <th></th>\n",
       "      <th></th>\n",
       "      <th></th>\n",
       "      <th></th>\n",
       "      <th></th>\n",
       "      <th></th>\n",
       "      <th></th>\n",
       "    </tr>\n",
       "  </thead>\n",
       "  <tbody>\n",
       "    <tr>\n",
       "      <th>2006-01-25</th>\n",
       "      <td>0.697482</td>\n",
       "      <td>0.282852</td>\n",
       "      <td>0.068850</td>\n",
       "      <td>20062.106769</td>\n",
       "      <td>3.307482e+06</td>\n",
       "      <td>235169.0</td>\n",
       "      <td>4918853.0</td>\n",
       "      <td>0.709943</td>\n",
       "      <td>0.385182</td>\n",
       "      <td>0.121731</td>\n",
       "      <td>...</td>\n",
       "      <td>0.368948</td>\n",
       "      <td>-0.512014</td>\n",
       "      <td>-0.799915</td>\n",
       "      <td>-0.225630</td>\n",
       "      <td>-0.135606</td>\n",
       "      <td>25</td>\n",
       "      <td>1</td>\n",
       "      <td>1</td>\n",
       "      <td>2006</td>\n",
       "      <td>0</td>\n",
       "    </tr>\n",
       "    <tr>\n",
       "      <th>2006-01-26</th>\n",
       "      <td>-0.712630</td>\n",
       "      <td>0.131936</td>\n",
       "      <td>0.025701</td>\n",
       "      <td>175816.922796</td>\n",
       "      <td>3.364882e+06</td>\n",
       "      <td>547429.0</td>\n",
       "      <td>5432737.0</td>\n",
       "      <td>0.801974</td>\n",
       "      <td>0.384777</td>\n",
       "      <td>0.111135</td>\n",
       "      <td>...</td>\n",
       "      <td>0.379214</td>\n",
       "      <td>-0.456781</td>\n",
       "      <td>-0.807436</td>\n",
       "      <td>-0.226264</td>\n",
       "      <td>-0.140600</td>\n",
       "      <td>26</td>\n",
       "      <td>1</td>\n",
       "      <td>1</td>\n",
       "      <td>2006</td>\n",
       "      <td>0</td>\n",
       "    </tr>\n",
       "    <tr>\n",
       "      <th>2006-01-27</th>\n",
       "      <td>0.931257</td>\n",
       "      <td>0.353271</td>\n",
       "      <td>0.048220</td>\n",
       "      <td>156472.651685</td>\n",
       "      <td>5.959368e+05</td>\n",
       "      <td>373373.0</td>\n",
       "      <td>6107119.0</td>\n",
       "      <td>0.635272</td>\n",
       "      <td>0.402604</td>\n",
       "      <td>0.058964</td>\n",
       "      <td>...</td>\n",
       "      <td>0.427250</td>\n",
       "      <td>-0.344494</td>\n",
       "      <td>-0.803128</td>\n",
       "      <td>-0.226564</td>\n",
       "      <td>-0.144211</td>\n",
       "      <td>27</td>\n",
       "      <td>1</td>\n",
       "      <td>1</td>\n",
       "      <td>2006</td>\n",
       "      <td>0</td>\n",
       "    </tr>\n",
       "    <tr>\n",
       "      <th>2006-01-30</th>\n",
       "      <td>0.560951</td>\n",
       "      <td>0.349257</td>\n",
       "      <td>0.057870</td>\n",
       "      <td>109960.000183</td>\n",
       "      <td>1.163736e+06</td>\n",
       "      <td>343988.0</td>\n",
       "      <td>3840744.0</td>\n",
       "      <td>0.657181</td>\n",
       "      <td>0.371951</td>\n",
       "      <td>0.060240</td>\n",
       "      <td>...</td>\n",
       "      <td>0.473339</td>\n",
       "      <td>-0.183239</td>\n",
       "      <td>-0.787769</td>\n",
       "      <td>-0.223135</td>\n",
       "      <td>-0.144993</td>\n",
       "      <td>30</td>\n",
       "      <td>1</td>\n",
       "      <td>1</td>\n",
       "      <td>2006</td>\n",
       "      <td>0</td>\n",
       "    </tr>\n",
       "    <tr>\n",
       "      <th>2006-01-31</th>\n",
       "      <td>0.999991</td>\n",
       "      <td>0.206297</td>\n",
       "      <td>0.094188</td>\n",
       "      <td>84712.417773</td>\n",
       "      <td>3.034216e+06</td>\n",
       "      <td>214178.0</td>\n",
       "      <td>9849079.0</td>\n",
       "      <td>0.167156</td>\n",
       "      <td>0.273997</td>\n",
       "      <td>0.064078</td>\n",
       "      <td>...</td>\n",
       "      <td>0.506812</td>\n",
       "      <td>-0.019687</td>\n",
       "      <td>-0.769228</td>\n",
       "      <td>-0.218527</td>\n",
       "      <td>-0.145200</td>\n",
       "      <td>31</td>\n",
       "      <td>1</td>\n",
       "      <td>1</td>\n",
       "      <td>2006</td>\n",
       "      <td>0</td>\n",
       "    </tr>\n",
       "    <tr>\n",
       "      <th>...</th>\n",
       "      <td>...</td>\n",
       "      <td>...</td>\n",
       "      <td>...</td>\n",
       "      <td>...</td>\n",
       "      <td>...</td>\n",
       "      <td>...</td>\n",
       "      <td>...</td>\n",
       "      <td>...</td>\n",
       "      <td>...</td>\n",
       "      <td>...</td>\n",
       "      <td>...</td>\n",
       "      <td>...</td>\n",
       "      <td>...</td>\n",
       "      <td>...</td>\n",
       "      <td>...</td>\n",
       "      <td>...</td>\n",
       "      <td>...</td>\n",
       "      <td>...</td>\n",
       "      <td>...</td>\n",
       "      <td>...</td>\n",
       "      <td>...</td>\n",
       "    </tr>\n",
       "    <tr>\n",
       "      <th>2020-04-20</th>\n",
       "      <td>0.921834</td>\n",
       "      <td>12.100167</td>\n",
       "      <td>2.832178</td>\n",
       "      <td>10426.116454</td>\n",
       "      <td>1.245721e+06</td>\n",
       "      <td>519465.0</td>\n",
       "      <td>3565677.0</td>\n",
       "      <td>0.806622</td>\n",
       "      <td>13.560098</td>\n",
       "      <td>2.202212</td>\n",
       "      <td>...</td>\n",
       "      <td>0.785553</td>\n",
       "      <td>0.893178</td>\n",
       "      <td>0.782362</td>\n",
       "      <td>0.478982</td>\n",
       "      <td>0.468392</td>\n",
       "      <td>20</td>\n",
       "      <td>4</td>\n",
       "      <td>2</td>\n",
       "      <td>2020</td>\n",
       "      <td>0</td>\n",
       "    </tr>\n",
       "    <tr>\n",
       "      <th>2020-04-21</th>\n",
       "      <td>0.883428</td>\n",
       "      <td>13.572675</td>\n",
       "      <td>4.528072</td>\n",
       "      <td>52815.552637</td>\n",
       "      <td>7.638944e+05</td>\n",
       "      <td>420730.0</td>\n",
       "      <td>4154852.0</td>\n",
       "      <td>0.831760</td>\n",
       "      <td>9.717596</td>\n",
       "      <td>3.283860</td>\n",
       "      <td>...</td>\n",
       "      <td>0.813368</td>\n",
       "      <td>0.892376</td>\n",
       "      <td>0.786006</td>\n",
       "      <td>0.486588</td>\n",
       "      <td>0.472182</td>\n",
       "      <td>21</td>\n",
       "      <td>4</td>\n",
       "      <td>2</td>\n",
       "      <td>2020</td>\n",
       "      <td>0</td>\n",
       "    </tr>\n",
       "    <tr>\n",
       "      <th>2020-04-22</th>\n",
       "      <td>-0.308115</td>\n",
       "      <td>7.721531</td>\n",
       "      <td>1.951692</td>\n",
       "      <td>53591.032244</td>\n",
       "      <td>4.522756e+05</td>\n",
       "      <td>433979.0</td>\n",
       "      <td>3265862.0</td>\n",
       "      <td>0.586243</td>\n",
       "      <td>9.167159</td>\n",
       "      <td>3.253450</td>\n",
       "      <td>...</td>\n",
       "      <td>0.799865</td>\n",
       "      <td>0.889803</td>\n",
       "      <td>0.788002</td>\n",
       "      <td>0.490475</td>\n",
       "      <td>0.474366</td>\n",
       "      <td>22</td>\n",
       "      <td>4</td>\n",
       "      <td>2</td>\n",
       "      <td>2020</td>\n",
       "      <td>0</td>\n",
       "    </tr>\n",
       "    <tr>\n",
       "      <th>2020-04-23</th>\n",
       "      <td>0.413704</td>\n",
       "      <td>7.479106</td>\n",
       "      <td>0.696587</td>\n",
       "      <td>26760.825678</td>\n",
       "      <td>4.445423e+05</td>\n",
       "      <td>382446.0</td>\n",
       "      <td>3721585.0</td>\n",
       "      <td>0.528859</td>\n",
       "      <td>9.062256</td>\n",
       "      <td>3.488868</td>\n",
       "      <td>...</td>\n",
       "      <td>0.797745</td>\n",
       "      <td>0.887537</td>\n",
       "      <td>0.793373</td>\n",
       "      <td>0.494664</td>\n",
       "      <td>0.477136</td>\n",
       "      <td>23</td>\n",
       "      <td>4</td>\n",
       "      <td>2</td>\n",
       "      <td>2020</td>\n",
       "      <td>0</td>\n",
       "    </tr>\n",
       "    <tr>\n",
       "      <th>2020-04-24</th>\n",
       "      <td>-0.490728</td>\n",
       "      <td>0.350761</td>\n",
       "      <td>1.434201</td>\n",
       "      <td>39397.180893</td>\n",
       "      <td>7.732119e+05</td>\n",
       "      <td>459833.0</td>\n",
       "      <td>2213955.0</td>\n",
       "      <td>0.523950</td>\n",
       "      <td>9.160853</td>\n",
       "      <td>3.418811</td>\n",
       "      <td>...</td>\n",
       "      <td>0.797765</td>\n",
       "      <td>0.884736</td>\n",
       "      <td>0.797156</td>\n",
       "      <td>0.497771</td>\n",
       "      <td>0.479796</td>\n",
       "      <td>24</td>\n",
       "      <td>4</td>\n",
       "      <td>2</td>\n",
       "      <td>2020</td>\n",
       "      <td>0</td>\n",
       "    </tr>\n",
       "  </tbody>\n",
       "</table>\n",
       "<p>3586 rows × 2294 columns</p>\n",
       "</div>"
      ],
      "text/plain": [
       "            eqix_rost_close_corr_rolling_3_days  \\\n",
       "date                                              \n",
       "2006-01-25                             0.697482   \n",
       "2006-01-26                            -0.712630   \n",
       "2006-01-27                             0.931257   \n",
       "2006-01-30                             0.560951   \n",
       "2006-01-31                             0.999991   \n",
       "...                                         ...   \n",
       "2020-04-20                             0.921834   \n",
       "2020-04-21                             0.883428   \n",
       "2020-04-22                            -0.308115   \n",
       "2020-04-23                             0.413704   \n",
       "2020-04-24                            -0.490728   \n",
       "\n",
       "            eqix_close_std_rolling_3_days  rost_close_std_rolling_3_days  \\\n",
       "date                                                                       \n",
       "2006-01-25                       0.282852                       0.068850   \n",
       "2006-01-26                       0.131936                       0.025701   \n",
       "2006-01-27                       0.353271                       0.048220   \n",
       "2006-01-30                       0.349257                       0.057870   \n",
       "2006-01-31                       0.206297                       0.094188   \n",
       "...                                   ...                            ...   \n",
       "2020-04-20                      12.100167                       2.832178   \n",
       "2020-04-21                      13.572675                       4.528072   \n",
       "2020-04-22                       7.721531                       1.951692   \n",
       "2020-04-23                       7.479106                       0.696587   \n",
       "2020-04-24                       0.350761                       1.434201   \n",
       "\n",
       "            eqix_volume_std_rolling_3_days  rost_volume_std_rolling_3_days  \\\n",
       "date                                                                         \n",
       "2006-01-25                    20062.106769                    3.307482e+06   \n",
       "2006-01-26                   175816.922796                    3.364882e+06   \n",
       "2006-01-27                   156472.651685                    5.959368e+05   \n",
       "2006-01-30                   109960.000183                    1.163736e+06   \n",
       "2006-01-31                    84712.417773                    3.034216e+06   \n",
       "...                                    ...                             ...   \n",
       "2020-04-20                    10426.116454                    1.245721e+06   \n",
       "2020-04-21                    52815.552637                    7.638944e+05   \n",
       "2020-04-22                    53591.032244                    4.522756e+05   \n",
       "2020-04-23                    26760.825678                    4.445423e+05   \n",
       "2020-04-24                    39397.180893                    7.732119e+05   \n",
       "\n",
       "            eqix_volume  rost_volume  eqix_rost_close_corr_rolling_6_days  \\\n",
       "date                                                                        \n",
       "2006-01-25     235169.0    4918853.0                             0.709943   \n",
       "2006-01-26     547429.0    5432737.0                             0.801974   \n",
       "2006-01-27     373373.0    6107119.0                             0.635272   \n",
       "2006-01-30     343988.0    3840744.0                             0.657181   \n",
       "2006-01-31     214178.0    9849079.0                             0.167156   \n",
       "...                 ...          ...                                  ...   \n",
       "2020-04-20     519465.0    3565677.0                             0.806622   \n",
       "2020-04-21     420730.0    4154852.0                             0.831760   \n",
       "2020-04-22     433979.0    3265862.0                             0.586243   \n",
       "2020-04-23     382446.0    3721585.0                             0.528859   \n",
       "2020-04-24     459833.0    2213955.0                             0.523950   \n",
       "\n",
       "            eqix_close_std_rolling_6_days  rost_close_std_rolling_6_days  ...  \\\n",
       "date                                                                      ...   \n",
       "2006-01-25                       0.385182                       0.121731  ...   \n",
       "2006-01-26                       0.384777                       0.111135  ...   \n",
       "2006-01-27                       0.402604                       0.058964  ...   \n",
       "2006-01-30                       0.371951                       0.060240  ...   \n",
       "2006-01-31                       0.273997                       0.064078  ...   \n",
       "...                                   ...                            ...  ...   \n",
       "2020-04-20                      13.560098                       2.202212  ...   \n",
       "2020-04-21                       9.717596                       3.283860  ...   \n",
       "2020-04-22                       9.167159                       3.253450  ...   \n",
       "2020-04-23                       9.062256                       3.488868  ...   \n",
       "2020-04-24                       9.160853                       3.418811  ...   \n",
       "\n",
       "            bac_ni_close_corr_rolling_30_days  \\\n",
       "date                                            \n",
       "2006-01-25                           0.368948   \n",
       "2006-01-26                           0.379214   \n",
       "2006-01-27                           0.427250   \n",
       "2006-01-30                           0.473339   \n",
       "2006-01-31                           0.506812   \n",
       "...                                       ...   \n",
       "2020-04-20                           0.785553   \n",
       "2020-04-21                           0.813368   \n",
       "2020-04-22                           0.799865   \n",
       "2020-04-23                           0.797745   \n",
       "2020-04-24                           0.797765   \n",
       "\n",
       "            bac_ni_close_corr_rolling_60_days  \\\n",
       "date                                            \n",
       "2006-01-25                          -0.512014   \n",
       "2006-01-26                          -0.456781   \n",
       "2006-01-27                          -0.344494   \n",
       "2006-01-30                          -0.183239   \n",
       "2006-01-31                          -0.019687   \n",
       "...                                       ...   \n",
       "2020-04-20                           0.893178   \n",
       "2020-04-21                           0.892376   \n",
       "2020-04-22                           0.889803   \n",
       "2020-04-23                           0.887537   \n",
       "2020-04-24                           0.884736   \n",
       "\n",
       "            bac_ni_close_corr_rolling_90_days  \\\n",
       "date                                            \n",
       "2006-01-25                          -0.799915   \n",
       "2006-01-26                          -0.807436   \n",
       "2006-01-27                          -0.803128   \n",
       "2006-01-30                          -0.787769   \n",
       "2006-01-31                          -0.769228   \n",
       "...                                       ...   \n",
       "2020-04-20                           0.782362   \n",
       "2020-04-21                           0.786006   \n",
       "2020-04-22                           0.788002   \n",
       "2020-04-23                           0.793373   \n",
       "2020-04-24                           0.797156   \n",
       "\n",
       "            bac_ni_close_corr_rolling_180_days  \\\n",
       "date                                             \n",
       "2006-01-25                           -0.225630   \n",
       "2006-01-26                           -0.226264   \n",
       "2006-01-27                           -0.226564   \n",
       "2006-01-30                           -0.223135   \n",
       "2006-01-31                           -0.218527   \n",
       "...                                        ...   \n",
       "2020-04-20                            0.478982   \n",
       "2020-04-21                            0.486588   \n",
       "2020-04-22                            0.490475   \n",
       "2020-04-23                            0.494664   \n",
       "2020-04-24                            0.497771   \n",
       "\n",
       "            bac_ni_close_corr_rolling_365_days  day  month  quarter  year  \\\n",
       "date                                                                        \n",
       "2006-01-25                           -0.135606   25      1        1  2006   \n",
       "2006-01-26                           -0.140600   26      1        1  2006   \n",
       "2006-01-27                           -0.144211   27      1        1  2006   \n",
       "2006-01-30                           -0.144993   30      1        1  2006   \n",
       "2006-01-31                           -0.145200   31      1        1  2006   \n",
       "...                                        ...  ...    ...      ...   ...   \n",
       "2020-04-20                            0.468392   20      4        2  2020   \n",
       "2020-04-21                            0.472182   21      4        2  2020   \n",
       "2020-04-22                            0.474366   22      4        2  2020   \n",
       "2020-04-23                            0.477136   23      4        2  2020   \n",
       "2020-04-24                            0.479796   24      4        2  2020   \n",
       "\n",
       "            is_holiday  \n",
       "date                    \n",
       "2006-01-25           0  \n",
       "2006-01-26           0  \n",
       "2006-01-27           0  \n",
       "2006-01-30           0  \n",
       "2006-01-31           0  \n",
       "...                ...  \n",
       "2020-04-20           0  \n",
       "2020-04-21           0  \n",
       "2020-04-22           0  \n",
       "2020-04-23           0  \n",
       "2020-04-24           0  \n",
       "\n",
       "[3586 rows x 2294 columns]"
      ]
     },
     "execution_count": 1429,
     "metadata": {},
     "output_type": "execute_result"
    }
   ],
   "source": [
    "final_stock_df.loc[~pd.isna(final_stock_df.pnr_volume), :]"
   ]
  },
  {
   "cell_type": "code",
   "execution_count": 1430,
   "metadata": {},
   "outputs": [
    {
     "data": {
      "text/html": [
       "<div>\n",
       "<style scoped>\n",
       "    .dataframe tbody tr th:only-of-type {\n",
       "        vertical-align: middle;\n",
       "    }\n",
       "\n",
       "    .dataframe tbody tr th {\n",
       "        vertical-align: top;\n",
       "    }\n",
       "\n",
       "    .dataframe thead th {\n",
       "        text-align: right;\n",
       "    }\n",
       "</style>\n",
       "<table border=\"1\" class=\"dataframe\">\n",
       "  <thead>\n",
       "    <tr style=\"text-align: right;\">\n",
       "      <th></th>\n",
       "      <th>eqix_rost_close_corr_rolling_3_days</th>\n",
       "      <th>eqix_close_std_rolling_3_days</th>\n",
       "      <th>rost_close_std_rolling_3_days</th>\n",
       "      <th>eqix_volume_std_rolling_3_days</th>\n",
       "      <th>rost_volume_std_rolling_3_days</th>\n",
       "      <th>eqix_volume</th>\n",
       "      <th>rost_volume</th>\n",
       "      <th>eqix_rost_close_corr_rolling_6_days</th>\n",
       "      <th>eqix_close_std_rolling_6_days</th>\n",
       "      <th>rost_close_std_rolling_6_days</th>\n",
       "      <th>...</th>\n",
       "      <th>bac_ni_close_corr_rolling_30_days</th>\n",
       "      <th>bac_ni_close_corr_rolling_60_days</th>\n",
       "      <th>bac_ni_close_corr_rolling_90_days</th>\n",
       "      <th>bac_ni_close_corr_rolling_180_days</th>\n",
       "      <th>bac_ni_close_corr_rolling_365_days</th>\n",
       "      <th>day</th>\n",
       "      <th>month</th>\n",
       "      <th>quarter</th>\n",
       "      <th>year</th>\n",
       "      <th>is_holiday</th>\n",
       "    </tr>\n",
       "    <tr>\n",
       "      <th>date</th>\n",
       "      <th></th>\n",
       "      <th></th>\n",
       "      <th></th>\n",
       "      <th></th>\n",
       "      <th></th>\n",
       "      <th></th>\n",
       "      <th></th>\n",
       "      <th></th>\n",
       "      <th></th>\n",
       "      <th></th>\n",
       "      <th></th>\n",
       "      <th></th>\n",
       "      <th></th>\n",
       "      <th></th>\n",
       "      <th></th>\n",
       "      <th></th>\n",
       "      <th></th>\n",
       "      <th></th>\n",
       "      <th></th>\n",
       "      <th></th>\n",
       "      <th></th>\n",
       "    </tr>\n",
       "  </thead>\n",
       "  <tbody>\n",
       "    <tr>\n",
       "      <th>2006-01-25</th>\n",
       "      <td>0.697482</td>\n",
       "      <td>0.282852</td>\n",
       "      <td>0.068850</td>\n",
       "      <td>20062.106769</td>\n",
       "      <td>3.307482e+06</td>\n",
       "      <td>235169.0</td>\n",
       "      <td>4918853.0</td>\n",
       "      <td>0.709943</td>\n",
       "      <td>0.385182</td>\n",
       "      <td>0.121731</td>\n",
       "      <td>...</td>\n",
       "      <td>0.368948</td>\n",
       "      <td>-0.512014</td>\n",
       "      <td>-0.799915</td>\n",
       "      <td>-0.225630</td>\n",
       "      <td>-0.135606</td>\n",
       "      <td>25</td>\n",
       "      <td>1</td>\n",
       "      <td>1</td>\n",
       "      <td>2006</td>\n",
       "      <td>0</td>\n",
       "    </tr>\n",
       "    <tr>\n",
       "      <th>2006-01-26</th>\n",
       "      <td>-0.712630</td>\n",
       "      <td>0.131936</td>\n",
       "      <td>0.025701</td>\n",
       "      <td>175816.922796</td>\n",
       "      <td>3.364882e+06</td>\n",
       "      <td>547429.0</td>\n",
       "      <td>5432737.0</td>\n",
       "      <td>0.801974</td>\n",
       "      <td>0.384777</td>\n",
       "      <td>0.111135</td>\n",
       "      <td>...</td>\n",
       "      <td>0.379214</td>\n",
       "      <td>-0.456781</td>\n",
       "      <td>-0.807436</td>\n",
       "      <td>-0.226264</td>\n",
       "      <td>-0.140600</td>\n",
       "      <td>26</td>\n",
       "      <td>1</td>\n",
       "      <td>1</td>\n",
       "      <td>2006</td>\n",
       "      <td>0</td>\n",
       "    </tr>\n",
       "    <tr>\n",
       "      <th>2006-01-27</th>\n",
       "      <td>0.931257</td>\n",
       "      <td>0.353271</td>\n",
       "      <td>0.048220</td>\n",
       "      <td>156472.651685</td>\n",
       "      <td>5.959368e+05</td>\n",
       "      <td>373373.0</td>\n",
       "      <td>6107119.0</td>\n",
       "      <td>0.635272</td>\n",
       "      <td>0.402604</td>\n",
       "      <td>0.058964</td>\n",
       "      <td>...</td>\n",
       "      <td>0.427250</td>\n",
       "      <td>-0.344494</td>\n",
       "      <td>-0.803128</td>\n",
       "      <td>-0.226564</td>\n",
       "      <td>-0.144211</td>\n",
       "      <td>27</td>\n",
       "      <td>1</td>\n",
       "      <td>1</td>\n",
       "      <td>2006</td>\n",
       "      <td>0</td>\n",
       "    </tr>\n",
       "    <tr>\n",
       "      <th>2006-01-30</th>\n",
       "      <td>0.560951</td>\n",
       "      <td>0.349257</td>\n",
       "      <td>0.057870</td>\n",
       "      <td>109960.000183</td>\n",
       "      <td>1.163736e+06</td>\n",
       "      <td>343988.0</td>\n",
       "      <td>3840744.0</td>\n",
       "      <td>0.657181</td>\n",
       "      <td>0.371951</td>\n",
       "      <td>0.060240</td>\n",
       "      <td>...</td>\n",
       "      <td>0.473339</td>\n",
       "      <td>-0.183239</td>\n",
       "      <td>-0.787769</td>\n",
       "      <td>-0.223135</td>\n",
       "      <td>-0.144993</td>\n",
       "      <td>30</td>\n",
       "      <td>1</td>\n",
       "      <td>1</td>\n",
       "      <td>2006</td>\n",
       "      <td>0</td>\n",
       "    </tr>\n",
       "    <tr>\n",
       "      <th>2006-01-31</th>\n",
       "      <td>0.999991</td>\n",
       "      <td>0.206297</td>\n",
       "      <td>0.094188</td>\n",
       "      <td>84712.417773</td>\n",
       "      <td>3.034216e+06</td>\n",
       "      <td>214178.0</td>\n",
       "      <td>9849079.0</td>\n",
       "      <td>0.167156</td>\n",
       "      <td>0.273997</td>\n",
       "      <td>0.064078</td>\n",
       "      <td>...</td>\n",
       "      <td>0.506812</td>\n",
       "      <td>-0.019687</td>\n",
       "      <td>-0.769228</td>\n",
       "      <td>-0.218527</td>\n",
       "      <td>-0.145200</td>\n",
       "      <td>31</td>\n",
       "      <td>1</td>\n",
       "      <td>1</td>\n",
       "      <td>2006</td>\n",
       "      <td>0</td>\n",
       "    </tr>\n",
       "    <tr>\n",
       "      <th>...</th>\n",
       "      <td>...</td>\n",
       "      <td>...</td>\n",
       "      <td>...</td>\n",
       "      <td>...</td>\n",
       "      <td>...</td>\n",
       "      <td>...</td>\n",
       "      <td>...</td>\n",
       "      <td>...</td>\n",
       "      <td>...</td>\n",
       "      <td>...</td>\n",
       "      <td>...</td>\n",
       "      <td>...</td>\n",
       "      <td>...</td>\n",
       "      <td>...</td>\n",
       "      <td>...</td>\n",
       "      <td>...</td>\n",
       "      <td>...</td>\n",
       "      <td>...</td>\n",
       "      <td>...</td>\n",
       "      <td>...</td>\n",
       "      <td>...</td>\n",
       "    </tr>\n",
       "    <tr>\n",
       "      <th>2020-04-20</th>\n",
       "      <td>0.921834</td>\n",
       "      <td>12.100167</td>\n",
       "      <td>2.832178</td>\n",
       "      <td>10426.116454</td>\n",
       "      <td>1.245721e+06</td>\n",
       "      <td>519465.0</td>\n",
       "      <td>3565677.0</td>\n",
       "      <td>0.806622</td>\n",
       "      <td>13.560098</td>\n",
       "      <td>2.202212</td>\n",
       "      <td>...</td>\n",
       "      <td>0.785553</td>\n",
       "      <td>0.893178</td>\n",
       "      <td>0.782362</td>\n",
       "      <td>0.478982</td>\n",
       "      <td>0.468392</td>\n",
       "      <td>20</td>\n",
       "      <td>4</td>\n",
       "      <td>2</td>\n",
       "      <td>2020</td>\n",
       "      <td>0</td>\n",
       "    </tr>\n",
       "    <tr>\n",
       "      <th>2020-04-21</th>\n",
       "      <td>0.883428</td>\n",
       "      <td>13.572675</td>\n",
       "      <td>4.528072</td>\n",
       "      <td>52815.552637</td>\n",
       "      <td>7.638944e+05</td>\n",
       "      <td>420730.0</td>\n",
       "      <td>4154852.0</td>\n",
       "      <td>0.831760</td>\n",
       "      <td>9.717596</td>\n",
       "      <td>3.283860</td>\n",
       "      <td>...</td>\n",
       "      <td>0.813368</td>\n",
       "      <td>0.892376</td>\n",
       "      <td>0.786006</td>\n",
       "      <td>0.486588</td>\n",
       "      <td>0.472182</td>\n",
       "      <td>21</td>\n",
       "      <td>4</td>\n",
       "      <td>2</td>\n",
       "      <td>2020</td>\n",
       "      <td>0</td>\n",
       "    </tr>\n",
       "    <tr>\n",
       "      <th>2020-04-22</th>\n",
       "      <td>-0.308115</td>\n",
       "      <td>7.721531</td>\n",
       "      <td>1.951692</td>\n",
       "      <td>53591.032244</td>\n",
       "      <td>4.522756e+05</td>\n",
       "      <td>433979.0</td>\n",
       "      <td>3265862.0</td>\n",
       "      <td>0.586243</td>\n",
       "      <td>9.167159</td>\n",
       "      <td>3.253450</td>\n",
       "      <td>...</td>\n",
       "      <td>0.799865</td>\n",
       "      <td>0.889803</td>\n",
       "      <td>0.788002</td>\n",
       "      <td>0.490475</td>\n",
       "      <td>0.474366</td>\n",
       "      <td>22</td>\n",
       "      <td>4</td>\n",
       "      <td>2</td>\n",
       "      <td>2020</td>\n",
       "      <td>0</td>\n",
       "    </tr>\n",
       "    <tr>\n",
       "      <th>2020-04-23</th>\n",
       "      <td>0.413704</td>\n",
       "      <td>7.479106</td>\n",
       "      <td>0.696587</td>\n",
       "      <td>26760.825678</td>\n",
       "      <td>4.445423e+05</td>\n",
       "      <td>382446.0</td>\n",
       "      <td>3721585.0</td>\n",
       "      <td>0.528859</td>\n",
       "      <td>9.062256</td>\n",
       "      <td>3.488868</td>\n",
       "      <td>...</td>\n",
       "      <td>0.797745</td>\n",
       "      <td>0.887537</td>\n",
       "      <td>0.793373</td>\n",
       "      <td>0.494664</td>\n",
       "      <td>0.477136</td>\n",
       "      <td>23</td>\n",
       "      <td>4</td>\n",
       "      <td>2</td>\n",
       "      <td>2020</td>\n",
       "      <td>0</td>\n",
       "    </tr>\n",
       "    <tr>\n",
       "      <th>2020-04-24</th>\n",
       "      <td>-0.490728</td>\n",
       "      <td>0.350761</td>\n",
       "      <td>1.434201</td>\n",
       "      <td>39397.180893</td>\n",
       "      <td>7.732119e+05</td>\n",
       "      <td>459833.0</td>\n",
       "      <td>2213955.0</td>\n",
       "      <td>0.523950</td>\n",
       "      <td>9.160853</td>\n",
       "      <td>3.418811</td>\n",
       "      <td>...</td>\n",
       "      <td>0.797765</td>\n",
       "      <td>0.884736</td>\n",
       "      <td>0.797156</td>\n",
       "      <td>0.497771</td>\n",
       "      <td>0.479796</td>\n",
       "      <td>24</td>\n",
       "      <td>4</td>\n",
       "      <td>2</td>\n",
       "      <td>2020</td>\n",
       "      <td>0</td>\n",
       "    </tr>\n",
       "  </tbody>\n",
       "</table>\n",
       "<p>3586 rows × 2294 columns</p>\n",
       "</div>"
      ],
      "text/plain": [
       "            eqix_rost_close_corr_rolling_3_days  \\\n",
       "date                                              \n",
       "2006-01-25                             0.697482   \n",
       "2006-01-26                            -0.712630   \n",
       "2006-01-27                             0.931257   \n",
       "2006-01-30                             0.560951   \n",
       "2006-01-31                             0.999991   \n",
       "...                                         ...   \n",
       "2020-04-20                             0.921834   \n",
       "2020-04-21                             0.883428   \n",
       "2020-04-22                            -0.308115   \n",
       "2020-04-23                             0.413704   \n",
       "2020-04-24                            -0.490728   \n",
       "\n",
       "            eqix_close_std_rolling_3_days  rost_close_std_rolling_3_days  \\\n",
       "date                                                                       \n",
       "2006-01-25                       0.282852                       0.068850   \n",
       "2006-01-26                       0.131936                       0.025701   \n",
       "2006-01-27                       0.353271                       0.048220   \n",
       "2006-01-30                       0.349257                       0.057870   \n",
       "2006-01-31                       0.206297                       0.094188   \n",
       "...                                   ...                            ...   \n",
       "2020-04-20                      12.100167                       2.832178   \n",
       "2020-04-21                      13.572675                       4.528072   \n",
       "2020-04-22                       7.721531                       1.951692   \n",
       "2020-04-23                       7.479106                       0.696587   \n",
       "2020-04-24                       0.350761                       1.434201   \n",
       "\n",
       "            eqix_volume_std_rolling_3_days  rost_volume_std_rolling_3_days  \\\n",
       "date                                                                         \n",
       "2006-01-25                    20062.106769                    3.307482e+06   \n",
       "2006-01-26                   175816.922796                    3.364882e+06   \n",
       "2006-01-27                   156472.651685                    5.959368e+05   \n",
       "2006-01-30                   109960.000183                    1.163736e+06   \n",
       "2006-01-31                    84712.417773                    3.034216e+06   \n",
       "...                                    ...                             ...   \n",
       "2020-04-20                    10426.116454                    1.245721e+06   \n",
       "2020-04-21                    52815.552637                    7.638944e+05   \n",
       "2020-04-22                    53591.032244                    4.522756e+05   \n",
       "2020-04-23                    26760.825678                    4.445423e+05   \n",
       "2020-04-24                    39397.180893                    7.732119e+05   \n",
       "\n",
       "            eqix_volume  rost_volume  eqix_rost_close_corr_rolling_6_days  \\\n",
       "date                                                                        \n",
       "2006-01-25     235169.0    4918853.0                             0.709943   \n",
       "2006-01-26     547429.0    5432737.0                             0.801974   \n",
       "2006-01-27     373373.0    6107119.0                             0.635272   \n",
       "2006-01-30     343988.0    3840744.0                             0.657181   \n",
       "2006-01-31     214178.0    9849079.0                             0.167156   \n",
       "...                 ...          ...                                  ...   \n",
       "2020-04-20     519465.0    3565677.0                             0.806622   \n",
       "2020-04-21     420730.0    4154852.0                             0.831760   \n",
       "2020-04-22     433979.0    3265862.0                             0.586243   \n",
       "2020-04-23     382446.0    3721585.0                             0.528859   \n",
       "2020-04-24     459833.0    2213955.0                             0.523950   \n",
       "\n",
       "            eqix_close_std_rolling_6_days  rost_close_std_rolling_6_days  ...  \\\n",
       "date                                                                      ...   \n",
       "2006-01-25                       0.385182                       0.121731  ...   \n",
       "2006-01-26                       0.384777                       0.111135  ...   \n",
       "2006-01-27                       0.402604                       0.058964  ...   \n",
       "2006-01-30                       0.371951                       0.060240  ...   \n",
       "2006-01-31                       0.273997                       0.064078  ...   \n",
       "...                                   ...                            ...  ...   \n",
       "2020-04-20                      13.560098                       2.202212  ...   \n",
       "2020-04-21                       9.717596                       3.283860  ...   \n",
       "2020-04-22                       9.167159                       3.253450  ...   \n",
       "2020-04-23                       9.062256                       3.488868  ...   \n",
       "2020-04-24                       9.160853                       3.418811  ...   \n",
       "\n",
       "            bac_ni_close_corr_rolling_30_days  \\\n",
       "date                                            \n",
       "2006-01-25                           0.368948   \n",
       "2006-01-26                           0.379214   \n",
       "2006-01-27                           0.427250   \n",
       "2006-01-30                           0.473339   \n",
       "2006-01-31                           0.506812   \n",
       "...                                       ...   \n",
       "2020-04-20                           0.785553   \n",
       "2020-04-21                           0.813368   \n",
       "2020-04-22                           0.799865   \n",
       "2020-04-23                           0.797745   \n",
       "2020-04-24                           0.797765   \n",
       "\n",
       "            bac_ni_close_corr_rolling_60_days  \\\n",
       "date                                            \n",
       "2006-01-25                          -0.512014   \n",
       "2006-01-26                          -0.456781   \n",
       "2006-01-27                          -0.344494   \n",
       "2006-01-30                          -0.183239   \n",
       "2006-01-31                          -0.019687   \n",
       "...                                       ...   \n",
       "2020-04-20                           0.893178   \n",
       "2020-04-21                           0.892376   \n",
       "2020-04-22                           0.889803   \n",
       "2020-04-23                           0.887537   \n",
       "2020-04-24                           0.884736   \n",
       "\n",
       "            bac_ni_close_corr_rolling_90_days  \\\n",
       "date                                            \n",
       "2006-01-25                          -0.799915   \n",
       "2006-01-26                          -0.807436   \n",
       "2006-01-27                          -0.803128   \n",
       "2006-01-30                          -0.787769   \n",
       "2006-01-31                          -0.769228   \n",
       "...                                       ...   \n",
       "2020-04-20                           0.782362   \n",
       "2020-04-21                           0.786006   \n",
       "2020-04-22                           0.788002   \n",
       "2020-04-23                           0.793373   \n",
       "2020-04-24                           0.797156   \n",
       "\n",
       "            bac_ni_close_corr_rolling_180_days  \\\n",
       "date                                             \n",
       "2006-01-25                           -0.225630   \n",
       "2006-01-26                           -0.226264   \n",
       "2006-01-27                           -0.226564   \n",
       "2006-01-30                           -0.223135   \n",
       "2006-01-31                           -0.218527   \n",
       "...                                        ...   \n",
       "2020-04-20                            0.478982   \n",
       "2020-04-21                            0.486588   \n",
       "2020-04-22                            0.490475   \n",
       "2020-04-23                            0.494664   \n",
       "2020-04-24                            0.497771   \n",
       "\n",
       "            bac_ni_close_corr_rolling_365_days  day  month  quarter  year  \\\n",
       "date                                                                        \n",
       "2006-01-25                           -0.135606   25      1        1  2006   \n",
       "2006-01-26                           -0.140600   26      1        1  2006   \n",
       "2006-01-27                           -0.144211   27      1        1  2006   \n",
       "2006-01-30                           -0.144993   30      1        1  2006   \n",
       "2006-01-31                           -0.145200   31      1        1  2006   \n",
       "...                                        ...  ...    ...      ...   ...   \n",
       "2020-04-20                            0.468392   20      4        2  2020   \n",
       "2020-04-21                            0.472182   21      4        2  2020   \n",
       "2020-04-22                            0.474366   22      4        2  2020   \n",
       "2020-04-23                            0.477136   23      4        2  2020   \n",
       "2020-04-24                            0.479796   24      4        2  2020   \n",
       "\n",
       "            is_holiday  \n",
       "date                    \n",
       "2006-01-25           0  \n",
       "2006-01-26           0  \n",
       "2006-01-27           0  \n",
       "2006-01-30           0  \n",
       "2006-01-31           0  \n",
       "...                ...  \n",
       "2020-04-20           0  \n",
       "2020-04-21           0  \n",
       "2020-04-22           0  \n",
       "2020-04-23           0  \n",
       "2020-04-24           0  \n",
       "\n",
       "[3586 rows x 2294 columns]"
      ]
     },
     "execution_count": 1430,
     "metadata": {},
     "output_type": "execute_result"
    }
   ],
   "source": [
    "final_stock_df.loc[~pd.isna(final_stock_df.pnr_volume), :]"
   ]
  },
  {
   "cell_type": "code",
   "execution_count": 1431,
   "metadata": {},
   "outputs": [
    {
     "ename": "KeyError",
     "evalue": "\"['pnr_bac_close_corr_rolling_8_days'] not in index\"",
     "output_type": "error",
     "traceback": [
      "\u001b[0;31m---------------------------------------------------------------------------\u001b[0m",
      "\u001b[0;31mKeyError\u001b[0m                                  Traceback (most recent call last)",
      "\u001b[0;32m<ipython-input-1431-a7812afc86fd>\u001b[0m in \u001b[0;36m<module>\u001b[0;34m\u001b[0m\n\u001b[1;32m      1\u001b[0m final_stock_df.loc[((final_stock_df.index>'2020-01-01') & (final_stock_df.index<'2021-01-01')), :][['pnr_bac_close_corr_rolling_3_days','pnr_bac_close_corr_rolling_6_days', \n\u001b[0;32m----> 2\u001b[0;31m                                                 'pnr_bac_close_corr_rolling_8_days']].plot(figsize=(15,5))\n\u001b[0m",
      "\u001b[0;32m~/Library/Caches/pypoetry/virtualenvs/daily-trading-nJ43NNNI-py3.7/lib/python3.7/site-packages/pandas/core/frame.py\u001b[0m in \u001b[0;36m__getitem__\u001b[0;34m(self, key)\u001b[0m\n\u001b[1;32m   2804\u001b[0m             \u001b[0;32mif\u001b[0m \u001b[0mis_iterator\u001b[0m\u001b[0;34m(\u001b[0m\u001b[0mkey\u001b[0m\u001b[0;34m)\u001b[0m\u001b[0;34m:\u001b[0m\u001b[0;34m\u001b[0m\u001b[0m\n\u001b[1;32m   2805\u001b[0m                 \u001b[0mkey\u001b[0m \u001b[0;34m=\u001b[0m \u001b[0mlist\u001b[0m\u001b[0;34m(\u001b[0m\u001b[0mkey\u001b[0m\u001b[0;34m)\u001b[0m\u001b[0;34m\u001b[0m\u001b[0m\n\u001b[0;32m-> 2806\u001b[0;31m             \u001b[0mindexer\u001b[0m \u001b[0;34m=\u001b[0m \u001b[0mself\u001b[0m\u001b[0;34m.\u001b[0m\u001b[0mloc\u001b[0m\u001b[0;34m.\u001b[0m\u001b[0m_get_listlike_indexer\u001b[0m\u001b[0;34m(\u001b[0m\u001b[0mkey\u001b[0m\u001b[0;34m,\u001b[0m \u001b[0maxis\u001b[0m\u001b[0;34m=\u001b[0m\u001b[0;36m1\u001b[0m\u001b[0;34m,\u001b[0m \u001b[0mraise_missing\u001b[0m\u001b[0;34m=\u001b[0m\u001b[0;32mTrue\u001b[0m\u001b[0;34m)\u001b[0m\u001b[0;34m[\u001b[0m\u001b[0;36m1\u001b[0m\u001b[0;34m]\u001b[0m\u001b[0;34m\u001b[0m\u001b[0m\n\u001b[0m\u001b[1;32m   2807\u001b[0m \u001b[0;34m\u001b[0m\u001b[0m\n\u001b[1;32m   2808\u001b[0m         \u001b[0;31m# take() does not accept boolean indexers\u001b[0m\u001b[0;34m\u001b[0m\u001b[0;34m\u001b[0m\u001b[0m\n",
      "\u001b[0;32m~/Library/Caches/pypoetry/virtualenvs/daily-trading-nJ43NNNI-py3.7/lib/python3.7/site-packages/pandas/core/indexing.py\u001b[0m in \u001b[0;36m_get_listlike_indexer\u001b[0;34m(self, key, axis, raise_missing)\u001b[0m\n\u001b[1;32m   1551\u001b[0m \u001b[0;34m\u001b[0m\u001b[0m\n\u001b[1;32m   1552\u001b[0m         self._validate_read_indexer(\n\u001b[0;32m-> 1553\u001b[0;31m             \u001b[0mkeyarr\u001b[0m\u001b[0;34m,\u001b[0m \u001b[0mindexer\u001b[0m\u001b[0;34m,\u001b[0m \u001b[0mo\u001b[0m\u001b[0;34m.\u001b[0m\u001b[0m_get_axis_number\u001b[0m\u001b[0;34m(\u001b[0m\u001b[0maxis\u001b[0m\u001b[0;34m)\u001b[0m\u001b[0;34m,\u001b[0m \u001b[0mraise_missing\u001b[0m\u001b[0;34m=\u001b[0m\u001b[0mraise_missing\u001b[0m\u001b[0;34m\u001b[0m\u001b[0m\n\u001b[0m\u001b[1;32m   1554\u001b[0m         )\n\u001b[1;32m   1555\u001b[0m         \u001b[0;32mreturn\u001b[0m \u001b[0mkeyarr\u001b[0m\u001b[0;34m,\u001b[0m \u001b[0mindexer\u001b[0m\u001b[0;34m\u001b[0m\u001b[0m\n",
      "\u001b[0;32m~/Library/Caches/pypoetry/virtualenvs/daily-trading-nJ43NNNI-py3.7/lib/python3.7/site-packages/pandas/core/indexing.py\u001b[0m in \u001b[0;36m_validate_read_indexer\u001b[0;34m(self, key, indexer, axis, raise_missing)\u001b[0m\n\u001b[1;32m   1644\u001b[0m             \u001b[0;32mif\u001b[0m \u001b[0;32mnot\u001b[0m \u001b[0;34m(\u001b[0m\u001b[0mself\u001b[0m\u001b[0;34m.\u001b[0m\u001b[0mname\u001b[0m \u001b[0;34m==\u001b[0m \u001b[0;34m\"loc\"\u001b[0m \u001b[0;32mand\u001b[0m \u001b[0;32mnot\u001b[0m \u001b[0mraise_missing\u001b[0m\u001b[0;34m)\u001b[0m\u001b[0;34m:\u001b[0m\u001b[0;34m\u001b[0m\u001b[0m\n\u001b[1;32m   1645\u001b[0m                 \u001b[0mnot_found\u001b[0m \u001b[0;34m=\u001b[0m \u001b[0mlist\u001b[0m\u001b[0;34m(\u001b[0m\u001b[0mset\u001b[0m\u001b[0;34m(\u001b[0m\u001b[0mkey\u001b[0m\u001b[0;34m)\u001b[0m \u001b[0;34m-\u001b[0m \u001b[0mset\u001b[0m\u001b[0;34m(\u001b[0m\u001b[0max\u001b[0m\u001b[0;34m)\u001b[0m\u001b[0;34m)\u001b[0m\u001b[0;34m\u001b[0m\u001b[0m\n\u001b[0;32m-> 1646\u001b[0;31m                 \u001b[0;32mraise\u001b[0m \u001b[0mKeyError\u001b[0m\u001b[0;34m(\u001b[0m\u001b[0;34mf\"{not_found} not in index\"\u001b[0m\u001b[0;34m)\u001b[0m\u001b[0;34m\u001b[0m\u001b[0m\n\u001b[0m\u001b[1;32m   1647\u001b[0m \u001b[0;34m\u001b[0m\u001b[0m\n\u001b[1;32m   1648\u001b[0m             \u001b[0;31m# we skip the warning on Categorical/Interval\u001b[0m\u001b[0;34m\u001b[0m\u001b[0;34m\u001b[0m\u001b[0m\n",
      "\u001b[0;31mKeyError\u001b[0m: \"['pnr_bac_close_corr_rolling_8_days'] not in index\""
     ]
    }
   ],
   "source": [
    "final_stock_df.loc[((final_stock_df.index>'2020-01-01') & (final_stock_df.index<'2021-01-01')), :][['pnr_bac_close_corr_rolling_3_days','pnr_bac_close_corr_rolling_6_days', \n",
    "                                                'pnr_bac_close_corr_rolling_8_days']].plot(figsize=(15,5))"
   ]
  },
  {
   "cell_type": "markdown",
   "metadata": {},
   "source": [
    "## Train Test Split to predict correlation over the next 7 days\n",
    "- rolling evey day make a predictions about what the correlation will be for the next 7 days stock price"
   ]
  },
  {
   "cell_type": "code",
   "execution_count": 1442,
   "metadata": {},
   "outputs": [
    {
     "data": {
      "text/plain": [
       "datetime.timedelta(days=7)"
      ]
     },
     "execution_count": 1442,
     "metadata": {},
     "output_type": "execute_result"
    }
   ],
   "source": [
    "datetime.timedelta(7)"
   ]
  },
  {
   "cell_type": "markdown",
   "metadata": {},
   "source": [
    "- Rolling Predictions"
   ]
  },
  {
   "cell_type": "code",
   "execution_count": 196,
   "metadata": {},
   "outputs": [],
   "source": [
    "# drop na\n",
    "final_stock_df = final_stock_df.dropna()"
   ]
  },
  {
   "cell_type": "code",
   "execution_count": 203,
   "metadata": {},
   "outputs": [
    {
     "data": {
      "text/html": [
       "<div>\n",
       "<style scoped>\n",
       "    .dataframe tbody tr th:only-of-type {\n",
       "        vertical-align: middle;\n",
       "    }\n",
       "\n",
       "    .dataframe tbody tr th {\n",
       "        vertical-align: top;\n",
       "    }\n",
       "\n",
       "    .dataframe thead th {\n",
       "        text-align: right;\n",
       "    }\n",
       "</style>\n",
       "<table border=\"1\" class=\"dataframe\">\n",
       "  <thead>\n",
       "    <tr style=\"text-align: right;\">\n",
       "      <th></th>\n",
       "      <th>vti_pbj_close_corr_rolling_3_days</th>\n",
       "      <th>vti_close_std_rolling_3_days</th>\n",
       "      <th>pbj_close_std_rolling_3_days</th>\n",
       "      <th>vti_volume_std_rolling_3_days</th>\n",
       "      <th>pbj_volume_std_rolling_3_days</th>\n",
       "      <th>vti_volume</th>\n",
       "      <th>pbj_volume</th>\n",
       "      <th>vti_pbj_close_corr_rolling_5_days</th>\n",
       "      <th>vti_close_std_rolling_5_days</th>\n",
       "      <th>pbj_close_std_rolling_5_days</th>\n",
       "      <th>...</th>\n",
       "      <th>bjk_pnr_close_corr_rolling_7_days</th>\n",
       "      <th>bjk_pnr_close_corr_rolling_10_days</th>\n",
       "      <th>bjk_pnr_close_corr_rolling_30_days</th>\n",
       "      <th>bjk_pnr_close_corr_rolling_180_days</th>\n",
       "      <th>bjk_pnr_close_corr_rolling_365_days</th>\n",
       "      <th>day</th>\n",
       "      <th>month</th>\n",
       "      <th>quarter</th>\n",
       "      <th>year</th>\n",
       "      <th>is_holiday</th>\n",
       "    </tr>\n",
       "    <tr>\n",
       "      <th>date</th>\n",
       "      <th></th>\n",
       "      <th></th>\n",
       "      <th></th>\n",
       "      <th></th>\n",
       "      <th></th>\n",
       "      <th></th>\n",
       "      <th></th>\n",
       "      <th></th>\n",
       "      <th></th>\n",
       "      <th></th>\n",
       "      <th></th>\n",
       "      <th></th>\n",
       "      <th></th>\n",
       "      <th></th>\n",
       "      <th></th>\n",
       "      <th></th>\n",
       "      <th></th>\n",
       "      <th></th>\n",
       "      <th></th>\n",
       "      <th></th>\n",
       "      <th></th>\n",
       "    </tr>\n",
       "  </thead>\n",
       "  <tbody>\n",
       "    <tr>\n",
       "      <th>2008-01-24</th>\n",
       "      <td>0.999899</td>\n",
       "      <td>0.986110</td>\n",
       "      <td>0.180877</td>\n",
       "      <td>8.388648e+05</td>\n",
       "      <td>41807.466462</td>\n",
       "      <td>3222971.0</td>\n",
       "      <td>20113.0</td>\n",
       "      <td>0.868594</td>\n",
       "      <td>0.728083</td>\n",
       "      <td>0.132794</td>\n",
       "      <td>...</td>\n",
       "      <td>0.145234</td>\n",
       "      <td>0.085425</td>\n",
       "      <td>0.241353</td>\n",
       "      <td>-0.130591</td>\n",
       "      <td>0.815712</td>\n",
       "      <td>24</td>\n",
       "      <td>1</td>\n",
       "      <td>1</td>\n",
       "      <td>2008</td>\n",
       "      <td>0</td>\n",
       "    </tr>\n",
       "    <tr>\n",
       "      <th>2008-01-25</th>\n",
       "      <td>1.000000</td>\n",
       "      <td>0.428743</td>\n",
       "      <td>0.072707</td>\n",
       "      <td>4.237285e+05</td>\n",
       "      <td>43415.186709</td>\n",
       "      <td>2383496.0</td>\n",
       "      <td>35984.0</td>\n",
       "      <td>0.889604</td>\n",
       "      <td>0.727907</td>\n",
       "      <td>0.130325</td>\n",
       "      <td>...</td>\n",
       "      <td>0.145234</td>\n",
       "      <td>0.085425</td>\n",
       "      <td>0.241353</td>\n",
       "      <td>-0.130591</td>\n",
       "      <td>0.815712</td>\n",
       "      <td>25</td>\n",
       "      <td>1</td>\n",
       "      <td>1</td>\n",
       "      <td>2008</td>\n",
       "      <td>0</td>\n",
       "    </tr>\n",
       "    <tr>\n",
       "      <th>2008-01-28</th>\n",
       "      <td>0.997025</td>\n",
       "      <td>0.624921</td>\n",
       "      <td>0.115846</td>\n",
       "      <td>7.053708e+05</td>\n",
       "      <td>8604.482611</td>\n",
       "      <td>1821345.0</td>\n",
       "      <td>33810.0</td>\n",
       "      <td>0.999158</td>\n",
       "      <td>0.863593</td>\n",
       "      <td>0.161703</td>\n",
       "      <td>...</td>\n",
       "      <td>0.145234</td>\n",
       "      <td>0.085425</td>\n",
       "      <td>0.241353</td>\n",
       "      <td>-0.130591</td>\n",
       "      <td>0.815712</td>\n",
       "      <td>28</td>\n",
       "      <td>1</td>\n",
       "      <td>1</td>\n",
       "      <td>2008</td>\n",
       "      <td>0</td>\n",
       "    </tr>\n",
       "    <tr>\n",
       "      <th>2008-01-29</th>\n",
       "      <td>0.754605</td>\n",
       "      <td>0.784458</td>\n",
       "      <td>0.114561</td>\n",
       "      <td>6.584981e+05</td>\n",
       "      <td>352642.600930</td>\n",
       "      <td>1070990.0</td>\n",
       "      <td>645689.0</td>\n",
       "      <td>0.750112</td>\n",
       "      <td>0.583144</td>\n",
       "      <td>0.084016</td>\n",
       "      <td>...</td>\n",
       "      <td>0.145234</td>\n",
       "      <td>0.085425</td>\n",
       "      <td>0.241353</td>\n",
       "      <td>-0.130591</td>\n",
       "      <td>0.815712</td>\n",
       "      <td>29</td>\n",
       "      <td>1</td>\n",
       "      <td>1</td>\n",
       "      <td>2008</td>\n",
       "      <td>0</td>\n",
       "    </tr>\n",
       "    <tr>\n",
       "      <th>2008-01-30</th>\n",
       "      <td>0.741416</td>\n",
       "      <td>0.269760</td>\n",
       "      <td>0.239013</td>\n",
       "      <td>4.810668e+05</td>\n",
       "      <td>354593.069817</td>\n",
       "      <td>1967705.0</td>\n",
       "      <td>29247.0</td>\n",
       "      <td>0.310650</td>\n",
       "      <td>0.555282</td>\n",
       "      <td>0.177802</td>\n",
       "      <td>...</td>\n",
       "      <td>0.145234</td>\n",
       "      <td>0.085425</td>\n",
       "      <td>0.241353</td>\n",
       "      <td>-0.130591</td>\n",
       "      <td>0.815712</td>\n",
       "      <td>30</td>\n",
       "      <td>1</td>\n",
       "      <td>1</td>\n",
       "      <td>2008</td>\n",
       "      <td>0</td>\n",
       "    </tr>\n",
       "    <tr>\n",
       "      <th>...</th>\n",
       "      <td>...</td>\n",
       "      <td>...</td>\n",
       "      <td>...</td>\n",
       "      <td>...</td>\n",
       "      <td>...</td>\n",
       "      <td>...</td>\n",
       "      <td>...</td>\n",
       "      <td>...</td>\n",
       "      <td>...</td>\n",
       "      <td>...</td>\n",
       "      <td>...</td>\n",
       "      <td>...</td>\n",
       "      <td>...</td>\n",
       "      <td>...</td>\n",
       "      <td>...</td>\n",
       "      <td>...</td>\n",
       "      <td>...</td>\n",
       "      <td>...</td>\n",
       "      <td>...</td>\n",
       "      <td>...</td>\n",
       "      <td>...</td>\n",
       "    </tr>\n",
       "    <tr>\n",
       "      <th>2020-04-20</th>\n",
       "      <td>0.999824</td>\n",
       "      <td>1.980337</td>\n",
       "      <td>0.191398</td>\n",
       "      <td>6.108858e+05</td>\n",
       "      <td>2285.927893</td>\n",
       "      <td>5413970.0</td>\n",
       "      <td>10832.0</td>\n",
       "      <td>0.927386</td>\n",
       "      <td>1.886218</td>\n",
       "      <td>0.297741</td>\n",
       "      <td>...</td>\n",
       "      <td>0.396721</td>\n",
       "      <td>0.306035</td>\n",
       "      <td>0.888707</td>\n",
       "      <td>0.949961</td>\n",
       "      <td>0.842969</td>\n",
       "      <td>20</td>\n",
       "      <td>4</td>\n",
       "      <td>2</td>\n",
       "      <td>2020</td>\n",
       "      <td>0</td>\n",
       "    </tr>\n",
       "    <tr>\n",
       "      <th>2020-04-21</th>\n",
       "      <td>0.997594</td>\n",
       "      <td>3.396945</td>\n",
       "      <td>0.417413</td>\n",
       "      <td>5.635615e+05</td>\n",
       "      <td>1807.817561</td>\n",
       "      <td>6367548.0</td>\n",
       "      <td>8868.0</td>\n",
       "      <td>0.942344</td>\n",
       "      <td>2.509974</td>\n",
       "      <td>0.348956</td>\n",
       "      <td>...</td>\n",
       "      <td>0.739182</td>\n",
       "      <td>0.173201</td>\n",
       "      <td>0.867307</td>\n",
       "      <td>0.950832</td>\n",
       "      <td>0.845414</td>\n",
       "      <td>21</td>\n",
       "      <td>4</td>\n",
       "      <td>2</td>\n",
       "      <td>2020</td>\n",
       "      <td>0</td>\n",
       "    </tr>\n",
       "    <tr>\n",
       "      <th>2020-04-22</th>\n",
       "      <td>0.925049</td>\n",
       "      <td>2.245269</td>\n",
       "      <td>0.356791</td>\n",
       "      <td>5.435611e+05</td>\n",
       "      <td>1091.420633</td>\n",
       "      <td>6342857.0</td>\n",
       "      <td>10675.0</td>\n",
       "      <td>0.928595</td>\n",
       "      <td>2.441694</td>\n",
       "      <td>0.308107</td>\n",
       "      <td>...</td>\n",
       "      <td>0.822660</td>\n",
       "      <td>0.257951</td>\n",
       "      <td>0.830176</td>\n",
       "      <td>0.951545</td>\n",
       "      <td>0.847824</td>\n",
       "      <td>22</td>\n",
       "      <td>4</td>\n",
       "      <td>2</td>\n",
       "      <td>2020</td>\n",
       "      <td>0</td>\n",
       "    </tr>\n",
       "    <tr>\n",
       "      <th>2020-04-23</th>\n",
       "      <td>0.892874</td>\n",
       "      <td>1.784040</td>\n",
       "      <td>0.325628</td>\n",
       "      <td>9.141019e+04</td>\n",
       "      <td>5629.681370</td>\n",
       "      <td>6198326.0</td>\n",
       "      <td>19396.0</td>\n",
       "      <td>0.920493</td>\n",
       "      <td>2.424143</td>\n",
       "      <td>0.313289</td>\n",
       "      <td>...</td>\n",
       "      <td>0.838394</td>\n",
       "      <td>0.606710</td>\n",
       "      <td>0.794869</td>\n",
       "      <td>0.952096</td>\n",
       "      <td>0.849893</td>\n",
       "      <td>23</td>\n",
       "      <td>4</td>\n",
       "      <td>2</td>\n",
       "      <td>2020</td>\n",
       "      <td>0</td>\n",
       "    </tr>\n",
       "    <tr>\n",
       "      <th>2020-04-24</th>\n",
       "      <td>0.706629</td>\n",
       "      <td>1.206703</td>\n",
       "      <td>0.206640</td>\n",
       "      <td>1.078081e+06</td>\n",
       "      <td>4865.465480</td>\n",
       "      <td>4407501.0</td>\n",
       "      <td>11297.0</td>\n",
       "      <td>0.926540</td>\n",
       "      <td>1.970985</td>\n",
       "      <td>0.300666</td>\n",
       "      <td>...</td>\n",
       "      <td>0.896423</td>\n",
       "      <td>0.722808</td>\n",
       "      <td>0.796974</td>\n",
       "      <td>0.952564</td>\n",
       "      <td>0.852454</td>\n",
       "      <td>24</td>\n",
       "      <td>4</td>\n",
       "      <td>2</td>\n",
       "      <td>2020</td>\n",
       "      <td>0</td>\n",
       "    </tr>\n",
       "  </tbody>\n",
       "</table>\n",
       "<p>3063 rows × 3725 columns</p>\n",
       "</div>"
      ],
      "text/plain": [
       "            vti_pbj_close_corr_rolling_3_days  vti_close_std_rolling_3_days  \\\n",
       "date                                                                          \n",
       "2008-01-24                           0.999899                      0.986110   \n",
       "2008-01-25                           1.000000                      0.428743   \n",
       "2008-01-28                           0.997025                      0.624921   \n",
       "2008-01-29                           0.754605                      0.784458   \n",
       "2008-01-30                           0.741416                      0.269760   \n",
       "...                                       ...                           ...   \n",
       "2020-04-20                           0.999824                      1.980337   \n",
       "2020-04-21                           0.997594                      3.396945   \n",
       "2020-04-22                           0.925049                      2.245269   \n",
       "2020-04-23                           0.892874                      1.784040   \n",
       "2020-04-24                           0.706629                      1.206703   \n",
       "\n",
       "            pbj_close_std_rolling_3_days  vti_volume_std_rolling_3_days  \\\n",
       "date                                                                      \n",
       "2008-01-24                      0.180877                   8.388648e+05   \n",
       "2008-01-25                      0.072707                   4.237285e+05   \n",
       "2008-01-28                      0.115846                   7.053708e+05   \n",
       "2008-01-29                      0.114561                   6.584981e+05   \n",
       "2008-01-30                      0.239013                   4.810668e+05   \n",
       "...                                  ...                            ...   \n",
       "2020-04-20                      0.191398                   6.108858e+05   \n",
       "2020-04-21                      0.417413                   5.635615e+05   \n",
       "2020-04-22                      0.356791                   5.435611e+05   \n",
       "2020-04-23                      0.325628                   9.141019e+04   \n",
       "2020-04-24                      0.206640                   1.078081e+06   \n",
       "\n",
       "            pbj_volume_std_rolling_3_days  vti_volume  pbj_volume  \\\n",
       "date                                                                \n",
       "2008-01-24                   41807.466462   3222971.0     20113.0   \n",
       "2008-01-25                   43415.186709   2383496.0     35984.0   \n",
       "2008-01-28                    8604.482611   1821345.0     33810.0   \n",
       "2008-01-29                  352642.600930   1070990.0    645689.0   \n",
       "2008-01-30                  354593.069817   1967705.0     29247.0   \n",
       "...                                   ...         ...         ...   \n",
       "2020-04-20                    2285.927893   5413970.0     10832.0   \n",
       "2020-04-21                    1807.817561   6367548.0      8868.0   \n",
       "2020-04-22                    1091.420633   6342857.0     10675.0   \n",
       "2020-04-23                    5629.681370   6198326.0     19396.0   \n",
       "2020-04-24                    4865.465480   4407501.0     11297.0   \n",
       "\n",
       "            vti_pbj_close_corr_rolling_5_days  vti_close_std_rolling_5_days  \\\n",
       "date                                                                          \n",
       "2008-01-24                           0.868594                      0.728083   \n",
       "2008-01-25                           0.889604                      0.727907   \n",
       "2008-01-28                           0.999158                      0.863593   \n",
       "2008-01-29                           0.750112                      0.583144   \n",
       "2008-01-30                           0.310650                      0.555282   \n",
       "...                                       ...                           ...   \n",
       "2020-04-20                           0.927386                      1.886218   \n",
       "2020-04-21                           0.942344                      2.509974   \n",
       "2020-04-22                           0.928595                      2.441694   \n",
       "2020-04-23                           0.920493                      2.424143   \n",
       "2020-04-24                           0.926540                      1.970985   \n",
       "\n",
       "            pbj_close_std_rolling_5_days  ...  \\\n",
       "date                                      ...   \n",
       "2008-01-24                      0.132794  ...   \n",
       "2008-01-25                      0.130325  ...   \n",
       "2008-01-28                      0.161703  ...   \n",
       "2008-01-29                      0.084016  ...   \n",
       "2008-01-30                      0.177802  ...   \n",
       "...                                  ...  ...   \n",
       "2020-04-20                      0.297741  ...   \n",
       "2020-04-21                      0.348956  ...   \n",
       "2020-04-22                      0.308107  ...   \n",
       "2020-04-23                      0.313289  ...   \n",
       "2020-04-24                      0.300666  ...   \n",
       "\n",
       "            bjk_pnr_close_corr_rolling_7_days  \\\n",
       "date                                            \n",
       "2008-01-24                           0.145234   \n",
       "2008-01-25                           0.145234   \n",
       "2008-01-28                           0.145234   \n",
       "2008-01-29                           0.145234   \n",
       "2008-01-30                           0.145234   \n",
       "...                                       ...   \n",
       "2020-04-20                           0.396721   \n",
       "2020-04-21                           0.739182   \n",
       "2020-04-22                           0.822660   \n",
       "2020-04-23                           0.838394   \n",
       "2020-04-24                           0.896423   \n",
       "\n",
       "            bjk_pnr_close_corr_rolling_10_days  \\\n",
       "date                                             \n",
       "2008-01-24                            0.085425   \n",
       "2008-01-25                            0.085425   \n",
       "2008-01-28                            0.085425   \n",
       "2008-01-29                            0.085425   \n",
       "2008-01-30                            0.085425   \n",
       "...                                        ...   \n",
       "2020-04-20                            0.306035   \n",
       "2020-04-21                            0.173201   \n",
       "2020-04-22                            0.257951   \n",
       "2020-04-23                            0.606710   \n",
       "2020-04-24                            0.722808   \n",
       "\n",
       "            bjk_pnr_close_corr_rolling_30_days  \\\n",
       "date                                             \n",
       "2008-01-24                            0.241353   \n",
       "2008-01-25                            0.241353   \n",
       "2008-01-28                            0.241353   \n",
       "2008-01-29                            0.241353   \n",
       "2008-01-30                            0.241353   \n",
       "...                                        ...   \n",
       "2020-04-20                            0.888707   \n",
       "2020-04-21                            0.867307   \n",
       "2020-04-22                            0.830176   \n",
       "2020-04-23                            0.794869   \n",
       "2020-04-24                            0.796974   \n",
       "\n",
       "            bjk_pnr_close_corr_rolling_180_days  \\\n",
       "date                                              \n",
       "2008-01-24                            -0.130591   \n",
       "2008-01-25                            -0.130591   \n",
       "2008-01-28                            -0.130591   \n",
       "2008-01-29                            -0.130591   \n",
       "2008-01-30                            -0.130591   \n",
       "...                                         ...   \n",
       "2020-04-20                             0.949961   \n",
       "2020-04-21                             0.950832   \n",
       "2020-04-22                             0.951545   \n",
       "2020-04-23                             0.952096   \n",
       "2020-04-24                             0.952564   \n",
       "\n",
       "            bjk_pnr_close_corr_rolling_365_days  day  month  quarter  year  \\\n",
       "date                                                                         \n",
       "2008-01-24                             0.815712   24      1        1  2008   \n",
       "2008-01-25                             0.815712   25      1        1  2008   \n",
       "2008-01-28                             0.815712   28      1        1  2008   \n",
       "2008-01-29                             0.815712   29      1        1  2008   \n",
       "2008-01-30                             0.815712   30      1        1  2008   \n",
       "...                                         ...  ...    ...      ...   ...   \n",
       "2020-04-20                             0.842969   20      4        2  2020   \n",
       "2020-04-21                             0.845414   21      4        2  2020   \n",
       "2020-04-22                             0.847824   22      4        2  2020   \n",
       "2020-04-23                             0.849893   23      4        2  2020   \n",
       "2020-04-24                             0.852454   24      4        2  2020   \n",
       "\n",
       "            is_holiday  \n",
       "date                    \n",
       "2008-01-24           0  \n",
       "2008-01-25           0  \n",
       "2008-01-28           0  \n",
       "2008-01-29           0  \n",
       "2008-01-30           0  \n",
       "...                ...  \n",
       "2020-04-20           0  \n",
       "2020-04-21           0  \n",
       "2020-04-22           0  \n",
       "2020-04-23           0  \n",
       "2020-04-24           0  \n",
       "\n",
       "[3063 rows x 3725 columns]"
      ]
     },
     "execution_count": 203,
     "metadata": {},
     "output_type": "execute_result"
    }
   ],
   "source": [
    "final_stock_df"
   ]
  },
  {
   "cell_type": "code",
   "execution_count": 198,
   "metadata": {},
   "outputs": [
    {
     "ename": "AttributeError",
     "evalue": "'DataFrame' object has no attribute 'pnr_bac_close_corr_rolling_7_days'",
     "output_type": "error",
     "traceback": [
      "\u001b[0;31m---------------------------------------------------------------------------\u001b[0m",
      "\u001b[0;31mAttributeError\u001b[0m                            Traceback (most recent call last)",
      "\u001b[0;32m<ipython-input-198-4b0a5060f98e>\u001b[0m in \u001b[0;36m<module>\u001b[0;34m\u001b[0m\n\u001b[0;32m----> 1\u001b[0;31m \u001b[0mfinal_stock_df\u001b[0m\u001b[0;34m.\u001b[0m\u001b[0mpnr_bac_close_corr_rolling_7_days\u001b[0m\u001b[0;34m\u001b[0m\u001b[0m\n\u001b[0m",
      "\u001b[0;32m~/Library/Caches/pypoetry/virtualenvs/daily-trading-nJ43NNNI-py3.7/lib/python3.7/site-packages/pandas/core/generic.py\u001b[0m in \u001b[0;36m__getattr__\u001b[0;34m(self, name)\u001b[0m\n\u001b[1;32m   5272\u001b[0m             \u001b[0;32mif\u001b[0m \u001b[0mself\u001b[0m\u001b[0;34m.\u001b[0m\u001b[0m_info_axis\u001b[0m\u001b[0;34m.\u001b[0m\u001b[0m_can_hold_identifiers_and_holds_name\u001b[0m\u001b[0;34m(\u001b[0m\u001b[0mname\u001b[0m\u001b[0;34m)\u001b[0m\u001b[0;34m:\u001b[0m\u001b[0;34m\u001b[0m\u001b[0m\n\u001b[1;32m   5273\u001b[0m                 \u001b[0;32mreturn\u001b[0m \u001b[0mself\u001b[0m\u001b[0;34m[\u001b[0m\u001b[0mname\u001b[0m\u001b[0;34m]\u001b[0m\u001b[0;34m\u001b[0m\u001b[0m\n\u001b[0;32m-> 5274\u001b[0;31m             \u001b[0;32mreturn\u001b[0m \u001b[0mobject\u001b[0m\u001b[0;34m.\u001b[0m\u001b[0m__getattribute__\u001b[0m\u001b[0;34m(\u001b[0m\u001b[0mself\u001b[0m\u001b[0;34m,\u001b[0m \u001b[0mname\u001b[0m\u001b[0;34m)\u001b[0m\u001b[0;34m\u001b[0m\u001b[0m\n\u001b[0m\u001b[1;32m   5275\u001b[0m \u001b[0;34m\u001b[0m\u001b[0m\n\u001b[1;32m   5276\u001b[0m     \u001b[0;32mdef\u001b[0m \u001b[0m__setattr__\u001b[0m\u001b[0;34m(\u001b[0m\u001b[0mself\u001b[0m\u001b[0;34m,\u001b[0m \u001b[0mname\u001b[0m\u001b[0;34m:\u001b[0m \u001b[0mstr\u001b[0m\u001b[0;34m,\u001b[0m \u001b[0mvalue\u001b[0m\u001b[0;34m)\u001b[0m \u001b[0;34m->\u001b[0m \u001b[0;32mNone\u001b[0m\u001b[0;34m:\u001b[0m\u001b[0;34m\u001b[0m\u001b[0m\n",
      "\u001b[0;31mAttributeError\u001b[0m: 'DataFrame' object has no attribute 'pnr_bac_close_corr_rolling_7_days'"
     ]
    }
   ],
   "source": [
    "final_stock_df.pnr_bac_close_corr_rolling_7_days"
   ]
  },
  {
   "cell_type": "markdown",
   "metadata": {},
   "source": []
  },
  {
   "cell_type": "markdown",
   "metadata": {},
   "source": [
    "- Add Keras LSTM "
   ]
  },
  {
   "cell_type": "code",
   "execution_count": null,
   "metadata": {},
   "outputs": [],
   "source": [
    "# prepare data for Keras\n",
    "# (n_samples, n_timesteps (rows), n_features)\n",
    "#The first dimension is the number of samples, in this case 7. \n",
    "# The second dimension is the number of time steps per sample, in this case 3, the value specified to the function. \n",
    "#Finally, the last dimension specifies the number of parallel time series or the number of variables, in this case 2 for the two parallel series.\n",
    "\n",
    "# Let's say we use two years of data for n_timesteps (720 days)"
   ]
  },
  {
   "cell_type": "code",
   "execution_count": null,
   "metadata": {},
   "outputs": [],
   "source": [
    "N_DAY_TIMESTEPS = 720 #n days"
   ]
  },
  {
   "cell_type": "code",
   "execution_count": 1452,
   "metadata": {},
   "outputs": [],
   "source": [
    "# prepare the data for LSTM model\n",
    "def split_sequences(sequences, n_steps):\n",
    "    X, y = list(), list()\n",
    "    for i in range(len(sequences)):\n",
    "        # find the end of this pattern\n",
    "        end_ix = i + n_steps\n",
    "        # check if we are beyond the dataset\n",
    "        if end_ix > len(sequences):\n",
    "            break\n",
    "        # gather input and output parts of the pattern\n",
    "        seq_x, seq_y = sequences[i:end_ix, :-1], sequences[end_ix-1, -1]\n",
    "        X.append(seq_x)\n",
    "        y.append(seq_y)\n",
    "    return array(X), array(y)"
   ]
  },
  {
   "cell_type": "code",
   "execution_count": 1453,
   "metadata": {},
   "outputs": [],
   "source": [
    "def build_keras_model(n_steps, n_features):\n",
    "    model = Sequential()\n",
    "    model.add(Bidirectional(LSTM(50, activation='relu'), input_shape=(n_steps, n_features)))\n",
    "    model.add(Dense(1))\n",
    "    model.compile(optimizer='adam', loss='mse')\n",
    "    return model"
   ]
  },
  {
   "cell_type": "code",
   "execution_count": 1463,
   "metadata": {},
   "outputs": [],
   "source": [
    "# final_stock_df[:, ['close_corr_rolling_7_days' in i  for i in final_stock_df.columns]]"
   ]
  },
  {
   "cell_type": "code",
   "execution_count": 242,
   "metadata": {},
   "outputs": [],
   "source": [
    "def evaluate_predictions_on_rolling_historical_data(final_stock_df, rolling_window = 7, starting_date_index= 3000,\n",
    "                                                   y_col='vti_pbj_close_corr_rolling_7_days'):\n",
    "    \"\"\"\n",
    "    Backtesting\n",
    "    \n",
    "    For now, assumes the final_stock only has pairs the one start stock and all others, pnc_bac, pnc_bar ...etc\n",
    "    \"\"\"\n",
    "    \n",
    "    predicted_corr_7_days = []\n",
    "    actual = []\n",
    "    rmse_corr_7_days = []\n",
    "    prediction_date = []\n",
    "\n",
    "    print_idx = 5\n",
    "     # otherwise, takes too long\n",
    "    start = time.time()\n",
    "\n",
    "    final_row = None\n",
    "    print(len(final_stock_df))\n",
    "    for date_idx, date in enumerate(list(final_stock_df.index)[starting_date_index:]):\n",
    "#         print((date_id + starting_date_index+rolling_window+1))\n",
    "#         print(len(final_stock_df))\n",
    "\n",
    "        if final_row:\n",
    "            break\n",
    "        if (date_idx + starting_date_index +rolling_window +1) == len(final_stock_df): # last row\n",
    "            final_row = True\n",
    "            # need to use the dates from the DF due to weekends\n",
    "            train_dates = final_stock_df.index[:starting_date_index+date_idx]\n",
    "            # The test is the rolling 7-day corr looking back the past seven days\n",
    "            # Therefore, the test_date should be seven dates ahead of the data we are training on\n",
    "\n",
    "            test_date = final_stock_df.index[starting_date_index+rolling_window+date_idx]\n",
    "\n",
    "        else:\n",
    "            # need to use the dates from the DF due to weekends\n",
    "            train_dates = final_stock_df.index[:starting_date_index+date_idx+1]\n",
    "            # The test is the rolling 7-day corr looking back the past seven days\n",
    "            # Therefore, the test_date should be seven dates ahead of the data we are training on\n",
    "\n",
    "            test_date = final_stock_df.index[starting_date_index+rolling_window+date_idx+1]\n",
    "\n",
    "\n",
    "        prediction_date.append(test_date)\n",
    "\n",
    "        if date_idx % print_idx == 0:\n",
    "            print(f\"Train dates =  {train_dates}\")\n",
    "            print(F\"Prediction date = {test_date}\")\n",
    "\n",
    "        train_df = final_stock_df[final_stock_df.index.isin(list(train_dates))]\n",
    "        test_df = final_stock_df[final_stock_df.index == test_date]\n",
    "        \n",
    "        # put data in the past for prediction X\n",
    "        test_X_df = final_stock_df.shift(-7).fillna(method='ffill') \n",
    "        test_X_df= test_X_df[test_X_df.index == test_date]\n",
    "\n",
    "\n",
    "        # TODO - search for the rolling 7-days column, don't hardcode\n",
    "        X_train, y_train = train_df.loc[:, train_df.columns != f\"{y_col}\"],  train_df[f\"{y_col}\"].shift(-7).fillna(method='ffill') \n",
    "        X_test, y_test = test_X_df.loc[:, test_X_df.columns != f\"{y_col}\"],  test_df[f\"{y_col}\"]\n",
    "        \n",
    "        # inf\n",
    "        X_train = np.nan_to_num(X_train.astype(np.float32)) # converting to float 32 throws some infinity errors\n",
    "        X_test = np.nan_to_num(X_test.astype(np.float32)) # converting to float 32 throws some infinity errors        \n",
    "        \n",
    "        \n",
    "        # standard scaler for cols\n",
    "        scaler=StandardScaler()\n",
    "        scaler.fit(X_train)\n",
    "        X_train = scaler.transform(X_train)\n",
    "        X_test = scaler.transform(X_test)\n",
    "\n",
    "\n",
    "        # Make an instance of the Model\n",
    "        # only train on train_x and transform both train an test\n",
    "\n",
    "        pca = PCA(n_components=15, whiten=True)\n",
    "        pca.fit(X_train)\n",
    "        X_train = pca.transform(X_train)\n",
    "        X_test = pca.transform(X_test)\n",
    "\n",
    "\n",
    "\n",
    "        #estimator = GradientBoostingRegressor()\n",
    "        #estimator = RandomForestRegressor(n_jobs=-1)\n",
    "        estimator = SVR(C=1.0)\n",
    "\n",
    "        estimator.fit(X_train, y_train)\n",
    "\n",
    "        prediction = estimator.predict(X_test)\n",
    "\n",
    "        predicted_corr_7_days.append(prediction[0])\n",
    "        actual.append(y_test.values[0])\n",
    "\n",
    "        rmse_corr_7_days.append(np.sqrt(mean_squared_error(y_test, prediction)))\n",
    "        if date_idx % print_idx == 0:\n",
    "            print('prediction = ', prediction)\n",
    "            print('actual =', y_test.values)\n",
    "            print('')\n",
    "\n",
    "\n",
    "    end = time.time()\n",
    "\n",
    "    print(f\"Predictions took {(end-start)/60} minutes\")\n",
    "    \n",
    "    prediction_df = pd.DataFrame( {'actual_corr_7_days':actual, 'predicted_corr_7_days': predicted_corr_7_days, \n",
    "                                   'prediction_date':prediction_date, 'rmse_corr_7_days':rmse_corr_7_days})\n",
    "    print('here')\n",
    "    return prediction_df"
   ]
  },
  {
   "cell_type": "code",
   "execution_count": null,
   "metadata": {},
   "outputs": [
    {
     "name": "stdout",
     "output_type": "stream",
     "text": [
      "3063\n",
      "Train dates =  DatetimeIndex(['2008-01-24', '2008-01-25', '2008-01-28', '2008-01-29',\n",
      "               '2008-01-30', '2008-01-31', '2008-02-01', '2008-02-04',\n",
      "               '2008-02-05', '2008-02-06',\n",
      "               ...\n",
      "               '2020-01-13', '2020-01-14', '2020-01-15', '2020-01-16',\n",
      "               '2020-01-17', '2020-01-21', '2020-01-22', '2020-01-23',\n",
      "               '2020-01-24', '2020-01-27'],\n",
      "              dtype='datetime64[ns]', name='date', length=3001, freq=None)\n",
      "Prediction date = 2020-02-06 00:00:00\n"
     ]
    },
    {
     "name": "stderr",
     "output_type": "stream",
     "text": [
      "/Users/jonathanhilgart/Library/Caches/pypoetry/virtualenvs/daily-trading-nJ43NNNI-py3.7/lib/python3.7/site-packages/numpy/lib/nanfunctions.py:1546: RuntimeWarning: overflow encountered in multiply\n",
      "  sqr = np.multiply(arr, arr, out=arr)\n"
     ]
    },
    {
     "name": "stdout",
     "output_type": "stream",
     "text": [
      "prediction =  [0.49045661]\n",
      "actual = [0.297631]\n",
      "\n"
     ]
    },
    {
     "name": "stderr",
     "output_type": "stream",
     "text": [
      "/Users/jonathanhilgart/Library/Caches/pypoetry/virtualenvs/daily-trading-nJ43NNNI-py3.7/lib/python3.7/site-packages/numpy/lib/nanfunctions.py:1546: RuntimeWarning: overflow encountered in multiply\n",
      "  sqr = np.multiply(arr, arr, out=arr)\n",
      "/Users/jonathanhilgart/Library/Caches/pypoetry/virtualenvs/daily-trading-nJ43NNNI-py3.7/lib/python3.7/site-packages/numpy/lib/nanfunctions.py:1546: RuntimeWarning: overflow encountered in multiply\n",
      "  sqr = np.multiply(arr, arr, out=arr)\n",
      "/Users/jonathanhilgart/Library/Caches/pypoetry/virtualenvs/daily-trading-nJ43NNNI-py3.7/lib/python3.7/site-packages/numpy/lib/nanfunctions.py:1546: RuntimeWarning: overflow encountered in multiply\n",
      "  sqr = np.multiply(arr, arr, out=arr)\n",
      "/Users/jonathanhilgart/Library/Caches/pypoetry/virtualenvs/daily-trading-nJ43NNNI-py3.7/lib/python3.7/site-packages/numpy/lib/nanfunctions.py:1546: RuntimeWarning: overflow encountered in multiply\n",
      "  sqr = np.multiply(arr, arr, out=arr)\n"
     ]
    },
    {
     "name": "stdout",
     "output_type": "stream",
     "text": [
      "Train dates =  DatetimeIndex(['2008-01-24', '2008-01-25', '2008-01-28', '2008-01-29',\n",
      "               '2008-01-30', '2008-01-31', '2008-02-01', '2008-02-04',\n",
      "               '2008-02-05', '2008-02-06',\n",
      "               ...\n",
      "               '2020-01-21', '2020-01-22', '2020-01-23', '2020-01-24',\n",
      "               '2020-01-27', '2020-01-28', '2020-01-29', '2020-01-30',\n",
      "               '2020-01-31', '2020-02-03'],\n",
      "              dtype='datetime64[ns]', name='date', length=3006, freq=None)\n",
      "Prediction date = 2020-02-13 00:00:00\n"
     ]
    },
    {
     "name": "stderr",
     "output_type": "stream",
     "text": [
      "/Users/jonathanhilgart/Library/Caches/pypoetry/virtualenvs/daily-trading-nJ43NNNI-py3.7/lib/python3.7/site-packages/numpy/lib/nanfunctions.py:1546: RuntimeWarning: overflow encountered in multiply\n",
      "  sqr = np.multiply(arr, arr, out=arr)\n"
     ]
    },
    {
     "name": "stdout",
     "output_type": "stream",
     "text": [
      "prediction =  [0.68990227]\n",
      "actual = [0.934321]\n",
      "\n"
     ]
    },
    {
     "name": "stderr",
     "output_type": "stream",
     "text": [
      "/Users/jonathanhilgart/Library/Caches/pypoetry/virtualenvs/daily-trading-nJ43NNNI-py3.7/lib/python3.7/site-packages/numpy/lib/nanfunctions.py:1546: RuntimeWarning: overflow encountered in multiply\n",
      "  sqr = np.multiply(arr, arr, out=arr)\n",
      "/Users/jonathanhilgart/Library/Caches/pypoetry/virtualenvs/daily-trading-nJ43NNNI-py3.7/lib/python3.7/site-packages/numpy/lib/nanfunctions.py:1546: RuntimeWarning: overflow encountered in multiply\n",
      "  sqr = np.multiply(arr, arr, out=arr)\n",
      "/Users/jonathanhilgart/Library/Caches/pypoetry/virtualenvs/daily-trading-nJ43NNNI-py3.7/lib/python3.7/site-packages/numpy/lib/nanfunctions.py:1546: RuntimeWarning: overflow encountered in multiply\n",
      "  sqr = np.multiply(arr, arr, out=arr)\n",
      "/Users/jonathanhilgart/Library/Caches/pypoetry/virtualenvs/daily-trading-nJ43NNNI-py3.7/lib/python3.7/site-packages/numpy/lib/nanfunctions.py:1546: RuntimeWarning: overflow encountered in multiply\n",
      "  sqr = np.multiply(arr, arr, out=arr)\n"
     ]
    },
    {
     "name": "stdout",
     "output_type": "stream",
     "text": [
      "Train dates =  DatetimeIndex(['2008-01-24', '2008-01-25', '2008-01-28', '2008-01-29',\n",
      "               '2008-01-30', '2008-01-31', '2008-02-01', '2008-02-04',\n",
      "               '2008-02-05', '2008-02-06',\n",
      "               ...\n",
      "               '2020-01-28', '2020-01-29', '2020-01-30', '2020-01-31',\n",
      "               '2020-02-03', '2020-02-04', '2020-02-05', '2020-02-06',\n",
      "               '2020-02-07', '2020-02-10'],\n",
      "              dtype='datetime64[ns]', name='date', length=3011, freq=None)\n",
      "Prediction date = 2020-02-21 00:00:00\n"
     ]
    },
    {
     "name": "stderr",
     "output_type": "stream",
     "text": [
      "/Users/jonathanhilgart/Library/Caches/pypoetry/virtualenvs/daily-trading-nJ43NNNI-py3.7/lib/python3.7/site-packages/numpy/lib/nanfunctions.py:1546: RuntimeWarning: overflow encountered in multiply\n",
      "  sqr = np.multiply(arr, arr, out=arr)\n"
     ]
    },
    {
     "name": "stdout",
     "output_type": "stream",
     "text": [
      "prediction =  [0.51316178]\n",
      "actual = [0.026679]\n",
      "\n"
     ]
    },
    {
     "name": "stderr",
     "output_type": "stream",
     "text": [
      "/Users/jonathanhilgart/Library/Caches/pypoetry/virtualenvs/daily-trading-nJ43NNNI-py3.7/lib/python3.7/site-packages/numpy/lib/nanfunctions.py:1546: RuntimeWarning: overflow encountered in multiply\n",
      "  sqr = np.multiply(arr, arr, out=arr)\n",
      "/Users/jonathanhilgart/Library/Caches/pypoetry/virtualenvs/daily-trading-nJ43NNNI-py3.7/lib/python3.7/site-packages/numpy/lib/nanfunctions.py:1546: RuntimeWarning: overflow encountered in multiply\n",
      "  sqr = np.multiply(arr, arr, out=arr)\n",
      "/Users/jonathanhilgart/Library/Caches/pypoetry/virtualenvs/daily-trading-nJ43NNNI-py3.7/lib/python3.7/site-packages/numpy/lib/nanfunctions.py:1546: RuntimeWarning: overflow encountered in multiply\n",
      "  sqr = np.multiply(arr, arr, out=arr)\n",
      "/Users/jonathanhilgart/Library/Caches/pypoetry/virtualenvs/daily-trading-nJ43NNNI-py3.7/lib/python3.7/site-packages/numpy/lib/nanfunctions.py:1546: RuntimeWarning: overflow encountered in multiply\n",
      "  sqr = np.multiply(arr, arr, out=arr)\n"
     ]
    },
    {
     "name": "stdout",
     "output_type": "stream",
     "text": [
      "Train dates =  DatetimeIndex(['2008-01-24', '2008-01-25', '2008-01-28', '2008-01-29',\n",
      "               '2008-01-30', '2008-01-31', '2008-02-01', '2008-02-04',\n",
      "               '2008-02-05', '2008-02-06',\n",
      "               ...\n",
      "               '2020-02-04', '2020-02-05', '2020-02-06', '2020-02-07',\n",
      "               '2020-02-10', '2020-02-11', '2020-02-12', '2020-02-13',\n",
      "               '2020-02-14', '2020-02-18'],\n",
      "              dtype='datetime64[ns]', name='date', length=3016, freq=None)\n",
      "Prediction date = 2020-02-28 00:00:00\n"
     ]
    },
    {
     "name": "stderr",
     "output_type": "stream",
     "text": [
      "/Users/jonathanhilgart/Library/Caches/pypoetry/virtualenvs/daily-trading-nJ43NNNI-py3.7/lib/python3.7/site-packages/numpy/lib/nanfunctions.py:1546: RuntimeWarning: overflow encountered in multiply\n",
      "  sqr = np.multiply(arr, arr, out=arr)\n"
     ]
    },
    {
     "name": "stdout",
     "output_type": "stream",
     "text": [
      "prediction =  [0.63919036]\n",
      "actual = [0.967311]\n",
      "\n"
     ]
    },
    {
     "name": "stderr",
     "output_type": "stream",
     "text": [
      "/Users/jonathanhilgart/Library/Caches/pypoetry/virtualenvs/daily-trading-nJ43NNNI-py3.7/lib/python3.7/site-packages/numpy/lib/nanfunctions.py:1546: RuntimeWarning: overflow encountered in multiply\n",
      "  sqr = np.multiply(arr, arr, out=arr)\n",
      "/Users/jonathanhilgart/Library/Caches/pypoetry/virtualenvs/daily-trading-nJ43NNNI-py3.7/lib/python3.7/site-packages/numpy/lib/nanfunctions.py:1546: RuntimeWarning: overflow encountered in multiply\n",
      "  sqr = np.multiply(arr, arr, out=arr)\n",
      "/Users/jonathanhilgart/Library/Caches/pypoetry/virtualenvs/daily-trading-nJ43NNNI-py3.7/lib/python3.7/site-packages/numpy/lib/nanfunctions.py:1546: RuntimeWarning: overflow encountered in multiply\n",
      "  sqr = np.multiply(arr, arr, out=arr)\n",
      "/Users/jonathanhilgart/Library/Caches/pypoetry/virtualenvs/daily-trading-nJ43NNNI-py3.7/lib/python3.7/site-packages/numpy/lib/nanfunctions.py:1546: RuntimeWarning: overflow encountered in multiply\n",
      "  sqr = np.multiply(arr, arr, out=arr)\n"
     ]
    },
    {
     "name": "stdout",
     "output_type": "stream",
     "text": [
      "Train dates =  DatetimeIndex(['2008-01-24', '2008-01-25', '2008-01-28', '2008-01-29',\n",
      "               '2008-01-30', '2008-01-31', '2008-02-01', '2008-02-04',\n",
      "               '2008-02-05', '2008-02-06',\n",
      "               ...\n",
      "               '2020-02-11', '2020-02-12', '2020-02-13', '2020-02-14',\n",
      "               '2020-02-18', '2020-02-19', '2020-02-20', '2020-02-21',\n",
      "               '2020-02-24', '2020-02-25'],\n",
      "              dtype='datetime64[ns]', name='date', length=3021, freq=None)\n",
      "Prediction date = 2020-03-06 00:00:00\n"
     ]
    },
    {
     "name": "stderr",
     "output_type": "stream",
     "text": [
      "/Users/jonathanhilgart/Library/Caches/pypoetry/virtualenvs/daily-trading-nJ43NNNI-py3.7/lib/python3.7/site-packages/numpy/lib/nanfunctions.py:1546: RuntimeWarning: overflow encountered in multiply\n",
      "  sqr = np.multiply(arr, arr, out=arr)\n"
     ]
    },
    {
     "name": "stdout",
     "output_type": "stream",
     "text": [
      "prediction =  [0.65957281]\n",
      "actual = [0.780008]\n",
      "\n"
     ]
    },
    {
     "name": "stderr",
     "output_type": "stream",
     "text": [
      "/Users/jonathanhilgart/Library/Caches/pypoetry/virtualenvs/daily-trading-nJ43NNNI-py3.7/lib/python3.7/site-packages/numpy/lib/nanfunctions.py:1546: RuntimeWarning: overflow encountered in multiply\n",
      "  sqr = np.multiply(arr, arr, out=arr)\n",
      "/Users/jonathanhilgart/Library/Caches/pypoetry/virtualenvs/daily-trading-nJ43NNNI-py3.7/lib/python3.7/site-packages/numpy/lib/nanfunctions.py:1546: RuntimeWarning: overflow encountered in multiply\n",
      "  sqr = np.multiply(arr, arr, out=arr)\n"
     ]
    }
   ],
   "source": [
    "hist_predictions_df = evaluate_predictions_on_rolling_historical_data(final_stock_df)"
   ]
  },
  {
   "cell_type": "code",
   "execution_count": 240,
   "metadata": {},
   "outputs": [
    {
     "data": {
      "text/plain": [
       "0.19990349593607562"
      ]
     },
     "execution_count": 240,
     "metadata": {},
     "output_type": "execute_result"
    }
   ],
   "source": [
    "np.sqrt(mean_squared_error(hist_predictions_df.actual_corr_7_days, hist_predictions_df.predicted_corr_7_days)) # SVM"
   ]
  },
  {
   "cell_type": "code",
   "execution_count": 757,
   "metadata": {},
   "outputs": [],
   "source": [
    "prediction_df = pd.DataFrame( {'actual_corr_7_days':actual, 'predicted_corr_7_days': predicted_corr_7_days, 'prediction_date':prediction_date})"
   ]
  },
  {
   "cell_type": "code",
   "execution_count": 758,
   "metadata": {},
   "outputs": [],
   "source": [
    "prediction_df = prediction_df.set_index('prediction_date')"
   ]
  },
  {
   "cell_type": "code",
   "execution_count": 241,
   "metadata": {},
   "outputs": [
    {
     "data": {
      "text/plain": [
       "<matplotlib.axes._subplots.AxesSubplot at 0x122d26d30>"
      ]
     },
     "execution_count": 241,
     "metadata": {},
     "output_type": "execute_result"
    },
    {
     "data": {
      "image/png": "[encoded data removed]",
      "text/plain": [
       "<Figure size 1080x360 with 1 Axes>"
      ]
     },
     "metadata": {
      "needs_background": "light"
     },
     "output_type": "display_data"
    }
   ],
   "source": [
    "hist_predictions_df.set_index('prediction_date')[['actual_corr_7_days', 'predicted_corr_7_days']].plot(title='predicted corr pnr_bac rolling 7-days', figsize=(15,5))"
   ]
  },
  {
   "cell_type": "code",
   "execution_count": 1374,
   "metadata": {},
   "outputs": [
    {
     "data": {
      "text/plain": [
       "<matplotlib.axes._subplots.AxesSubplot at 0x15f715e80>"
      ]
     },
     "execution_count": 1374,
     "metadata": {},
     "output_type": "execute_result"
    },
    {
     "data": {
      "image/png": "[encoded data removed]",
      "text/plain": [
       "<Figure size 1080x360 with 1 Axes>"
      ]
     },
     "metadata": {
      "needs_background": "light"
     },
     "output_type": "display_data"
    }
   ],
   "source": [
    "hist_predictions_df.set_index('prediction_date')[['actual_corr_7_days', 'predicted_corr_7_days']].plot(title='predicted corr pnr_bac rolling 7-days', figsize=(15,5))"
   ]
  },
  {
   "cell_type": "code",
   "execution_count": 510,
   "metadata": {},
   "outputs": [
    {
     "data": {
      "text/plain": [
       "DatetimeIndex(['2019-11-20', '2019-11-21', '2019-11-22', '2019-11-25',\n",
       "               '2019-11-26', '2019-11-27', '2019-11-29', '2019-12-02',\n",
       "               '2019-12-03', '2019-12-04',\n",
       "               ...\n",
       "               '2020-04-03', '2020-04-06', '2020-04-07', '2020-04-08',\n",
       "               '2020-04-09', '2020-04-13', '2020-04-14', '2020-04-15',\n",
       "               '2020-04-16', '2020-04-16'],\n",
       "              dtype='datetime64[ns]', name='prediction_date', length=102, freq=None)"
      ]
     },
     "execution_count": 510,
     "metadata": {},
     "output_type": "execute_result"
    }
   ],
   "source": [
    "prediction_df.index"
   ]
  },
  {
   "cell_type": "markdown",
   "metadata": {},
   "source": [
    "## Feature Importances\n",
    "- nit: only based on last tree fit"
   ]
  },
  {
   "cell_type": "code",
   "execution_count": 1301,
   "metadata": {},
   "outputs": [
    {
     "data": {
      "text/plain": [
       "(array([ 0,  1,  2,  3,  4,  5,  6,  7,  8,  9, 10, 11, 12, 13, 14]),\n",
       " <a list of 15 Text major ticklabel objects>)"
      ]
     },
     "execution_count": 1301,
     "metadata": {},
     "output_type": "execute_result"
    },
    {
     "data": {
      "image/png": "[encoded data removed]",
      "text/plain": [
       "<Figure size 1080x360 with 1 Axes>"
      ]
     },
     "metadata": {
      "needs_background": "light"
     },
     "output_type": "display_data"
    }
   ],
   "source": [
    "cols = list(final_stock_df.columns)\n",
    "cols.remove('pnr_bac_close_corr_rolling_7_days')\n",
    "\n",
    "plt.figure(figsize=(15,5))\n",
    "sns.barplot(x=np.array(cols)[np.argsort(rf.feature_importances_)][-15:], y=rf.feature_importances_[np.argsort(rf.feature_importances_)][-15:])\n",
    "plt.xticks(rotation=90)"
   ]
  },
  {
   "cell_type": "markdown",
   "metadata": {},
   "source": [
    "# given all feature, predict next 7-days for each stock pair"
   ]
  },
  {
   "cell_type": "code",
   "execution_count": 1182,
   "metadata": {},
   "outputs": [
    {
     "data": {
      "text/plain": [
       "date\n",
       "2006-01-25    0.151438\n",
       "2006-01-26    0.263368\n",
       "2006-01-27   -0.675648\n",
       "2006-01-30   -0.245173\n",
       "2006-01-31    0.848353\n",
       "                ...   \n",
       "2020-04-20    0.928298\n",
       "2020-04-21    0.979311\n",
       "2020-04-22    0.992304\n",
       "2020-04-23    0.985425\n",
       "2020-04-24    0.985425\n",
       "Name: pnr_bac_close_corr_rolling_3_days, Length: 3586, dtype: float64"
      ]
     },
     "execution_count": 1182,
     "metadata": {},
     "output_type": "execute_result"
    }
   ],
   "source": [
    "final_stock_df.pnr_bac_close_corr_rolling_3_days.shift(-1).fillna(method='ffill')"
   ]
  },
  {
   "cell_type": "code",
   "execution_count": 1013,
   "metadata": {},
   "outputs": [
    {
     "data": {
      "text/plain": [
       "array([[1.609430e-01, 8.503500e-02, 3.168980e-01, ..., 1.000000e+00,\n",
       "        1.000000e+00, 2.006000e+03],\n",
       "       [1.514380e-01, 8.503500e-02, 3.126760e-01, ..., 1.000000e+00,\n",
       "        1.000000e+00, 2.006000e+03],\n",
       "       [2.633680e-01, 6.827510e-01, 1.288730e-01, ..., 1.000000e+00,\n",
       "        1.000000e+00, 2.006000e+03],\n",
       "       ...,\n",
       "       [6.691380e-01, 5.577040e-01, 9.487360e-01, ..., 4.000000e+00,\n",
       "        2.000000e+00, 2.020000e+03],\n",
       "       [9.991570e-01, 8.747000e-01, 1.176194e+00, ..., 4.000000e+00,\n",
       "        2.000000e+00, 2.020000e+03],\n",
       "       [9.890840e-01, 5.907060e-01, 9.345770e-01, ..., 4.000000e+00,\n",
       "        2.000000e+00, 2.020000e+03]], dtype=float32)"
      ]
     },
     "execution_count": 1013,
     "metadata": {},
     "output_type": "execute_result"
    }
   ],
   "source": [
    "np.nan_to_num(final_stock_df.astype(np.float32)"
   ]
  },
  {
   "cell_type": "markdown",
   "metadata": {},
   "source": [
    "- build predicted 7 day corr for each pair"
   ]
  },
  {
   "cell_type": "code",
   "execution_count": 1170,
   "metadata": {},
   "outputs": [],
   "source": [
    "# remove all 7_days_corr columns ex: so_rost_close_corr_rolling_7_days\n",
    "### format: f\"{first_stock_name}_{second_stock_name}_close_corr_rolling_{n_days_stride}_days\"\n",
    "# using all data up until the last day, predict 7-day corr for each stock pair"
   ]
  },
  {
   "cell_type": "code",
   "execution_count": null,
   "metadata": {},
   "outputs": [],
   "source": [
    "# undefined\n",
    "find_pct_change_pred_vs_last_corr"
   ]
  },
  {
   "cell_type": "code",
   "execution_count": 1193,
   "metadata": {},
   "outputs": [],
   "source": [
    "def most_recent_week_historical_prediction(final_stock_df):\n",
    "    \"\"\"\n",
    "    Take the most recent week of data and use that to predict against \n",
    "    \"\"\"\n",
    "\n",
    "    test_date = final_stock_df.index.max() - datetime.timedelta(7)\n",
    "    train_dates = final_stock_df.index[final_stock_df.index < test_date - datetime.timedelta(14)] # 14 days before\n",
    "\n",
    "    train_df = final_stock_df[final_stock_df.index.isin(train_dates)]\n",
    "    test_df = final_stock_df[final_stock_df.index == test_date]\n",
    "\n",
    "\n",
    "    final_stock_df = final_stock_df.dropna()\n",
    "\n",
    "    n_days_corr_predictions = 7\n",
    "\n",
    "\n",
    "    pct_change_corr = []\n",
    "    actual_corr = []\n",
    "    predicted_corr = []\n",
    "    last_corr_for_prediction_day = []\n",
    "    pred_dates = []\n",
    "    start = time.time()\n",
    "\n",
    "    for stock_pairing in pairs_of_stocks:\n",
    "        pred_col_name = f\"{stock_pairing}_close_corr_rolling_{n_days_corr_predictions}_days\"\n",
    "\n",
    "        # remove the current 7-day corr for this stock\n",
    "        # we can't use  test_X data because we will not have access to it\n",
    "        train_X, train_y = train_df.loc[:, train_df.columns != f\"{pred_col_name}\"],  train_df[f\"{pred_col_name}\"].shift(-7).fillna(method='ffill')# shift back 7 days to get rolling corr\n",
    "        \n",
    "        test_X, test_y = test_df.loc[:, test_df.columns != f\"{pred_col_name}\"],  test_df[f\"{pred_col_name}\"].shift(-7).fillna(method='ffill') # test has the date we want to predict against\n",
    "\n",
    "\n",
    "        train_X = np.nan_to_num(train_X.astype(np.float32)) \n",
    "\n",
    "        # standard scaler for cols\n",
    "        scaler=StandardScaler()\n",
    "        scaler.fit(train_X)\n",
    "        train_X = scaler.transform(train_X)\n",
    "        test_X = scaler.transform(test_X)\n",
    "\n",
    "\n",
    "        # Make an instance of the Model\n",
    "        # only train on train_x\n",
    "\n",
    "        pca = PCA(n_components=5, whiten=True)\n",
    "        pca.fit(train_X)\n",
    "\n",
    "        train_X = pca.transform(train_X)\n",
    "        test_X = pca.transform(test_X)\n",
    "        # standaard scaler\n",
    "\n",
    "        rf = RandomForestRegressor(n_estimators=100, n_jobs=-1)\n",
    "        rf.fit(train_X, train_y)\n",
    "\n",
    "\n",
    "        prediction = np.array(rf.predict(test_X))[0]\n",
    "        print(f\"Stocks {stock_pairing}\")\n",
    "        print(f\"Prediction = {prediction}\")\n",
    "        print(f\"Actual = {test_y.values[0]}\")\n",
    "\n",
    "        pred_corr_pct_change, last_date = find_pct_change_pred_vs_last_corr(train_y, prediction)\n",
    "\n",
    "        last_corr_date = train_y.index.max()\n",
    "        last_corr = train_y[train_y.index.max()]    \n",
    "\n",
    "        pct_change_corr.append(pred_corr_pct_change)\n",
    "        pred_dates.append(last_date)\n",
    "        actual_corr.append(test_y.values[0])\n",
    "        predicted_corr.append(prediction)\n",
    "        last_corr_for_prediction_day.append(last_corr)\n",
    "\n",
    "        print(f\"{stock_pairing} pct change 7-day corr of close from {last_date} to {test_date} is =  {pred_corr_pct_change}\")\n",
    "\n",
    "\n",
    "    end = time.time()\n",
    "\n",
    "    print(f\"Predictions took {(end-start)/60} mins\")\n",
    "    \n",
    "    pd.DataFrame({ 'pred_date_start':pred_dates,'stock_pair':pairs_of_stocks,   'pct_change_for_7_daycorr': pct_change_corr,\n",
    "    'actual_corr': actual_corr,\n",
    "    'predicted_corr': predicted_corr, 'last_7_day_corr_for_pred_date_start': last_corr_for_prediction_day}).to_csv(\n",
    "    '../data/predictions/test_predictions_2020_04_17.csv', index=False)\n",
    "    \n"
   ]
  },
  {
   "cell_type": "code",
   "execution_count": 1194,
   "metadata": {},
   "outputs": [
    {
     "name": "stderr",
     "output_type": "stream",
     "text": [
      "/Users/jonathanhilgart/Library/Caches/pypoetry/virtualenvs/daily-trading-nJ43NNNI-py3.7/lib/python3.7/site-packages/numpy/lib/nanfunctions.py:1546: RuntimeWarning: overflow encountered in multiply\n",
      "  sqr = np.multiply(arr, arr, out=arr)\n"
     ]
    },
    {
     "ename": "ValueError",
     "evalue": "Number of labels=3586 does not match number of samples=3580",
     "output_type": "error",
     "traceback": [
      "\u001b[0;31m---------------------------------------------------------------------------\u001b[0m",
      "\u001b[0;31mValueError\u001b[0m                                Traceback (most recent call last)",
      "\u001b[0;32m<ipython-input-1194-637b3a128f14>\u001b[0m in \u001b[0;36m<module>\u001b[0;34m\u001b[0m\n\u001b[0;32m----> 1\u001b[0;31m \u001b[0mmost_recent_week_historical_prediction\u001b[0m\u001b[0;34m(\u001b[0m\u001b[0mfinal_stock_df\u001b[0m\u001b[0;34m)\u001b[0m\u001b[0;34m\u001b[0m\u001b[0m\n\u001b[0m",
      "\u001b[0;32m<ipython-input-1193-7c0f95af49b9>\u001b[0m in \u001b[0;36mmost_recent_week_historical_prediction\u001b[0;34m(final_stock_df)\u001b[0m\n\u001b[1;32m     60\u001b[0m \u001b[0;34m\u001b[0m\u001b[0m\n\u001b[1;32m     61\u001b[0m         \u001b[0mrf\u001b[0m \u001b[0;34m=\u001b[0m \u001b[0mRandomForestRegressor\u001b[0m\u001b[0;34m(\u001b[0m\u001b[0mn_estimators\u001b[0m\u001b[0;34m=\u001b[0m\u001b[0;36m100\u001b[0m\u001b[0;34m,\u001b[0m \u001b[0mn_jobs\u001b[0m\u001b[0;34m=\u001b[0m\u001b[0;34m-\u001b[0m\u001b[0;36m1\u001b[0m\u001b[0;34m)\u001b[0m\u001b[0;34m\u001b[0m\u001b[0m\n\u001b[0;32m---> 62\u001b[0;31m         \u001b[0mrf\u001b[0m\u001b[0;34m.\u001b[0m\u001b[0mfit\u001b[0m\u001b[0;34m(\u001b[0m\u001b[0mtrain_X\u001b[0m\u001b[0;34m,\u001b[0m \u001b[0mtrain_y\u001b[0m\u001b[0;34m)\u001b[0m\u001b[0;34m\u001b[0m\u001b[0m\n\u001b[0m\u001b[1;32m     63\u001b[0m \u001b[0;34m\u001b[0m\u001b[0m\n\u001b[1;32m     64\u001b[0m \u001b[0;34m\u001b[0m\u001b[0m\n",
      "\u001b[0;32m~/Library/Caches/pypoetry/virtualenvs/daily-trading-nJ43NNNI-py3.7/lib/python3.7/site-packages/sklearn/ensemble/_forest.py\u001b[0m in \u001b[0;36mfit\u001b[0;34m(self, X, y, sample_weight)\u001b[0m\n\u001b[1;32m    381\u001b[0m                     \u001b[0mverbose\u001b[0m\u001b[0;34m=\u001b[0m\u001b[0mself\u001b[0m\u001b[0;34m.\u001b[0m\u001b[0mverbose\u001b[0m\u001b[0;34m,\u001b[0m \u001b[0mclass_weight\u001b[0m\u001b[0;34m=\u001b[0m\u001b[0mself\u001b[0m\u001b[0;34m.\u001b[0m\u001b[0mclass_weight\u001b[0m\u001b[0;34m,\u001b[0m\u001b[0;34m\u001b[0m\u001b[0m\n\u001b[1;32m    382\u001b[0m                     n_samples_bootstrap=n_samples_bootstrap)\n\u001b[0;32m--> 383\u001b[0;31m                 for i, t in enumerate(trees))\n\u001b[0m\u001b[1;32m    384\u001b[0m \u001b[0;34m\u001b[0m\u001b[0m\n\u001b[1;32m    385\u001b[0m             \u001b[0;31m# Collect newly grown trees\u001b[0m\u001b[0;34m\u001b[0m\u001b[0;34m\u001b[0m\u001b[0m\n",
      "\u001b[0;32m~/Library/Caches/pypoetry/virtualenvs/daily-trading-nJ43NNNI-py3.7/lib/python3.7/site-packages/joblib/parallel.py\u001b[0m in \u001b[0;36m__call__\u001b[0;34m(self, iterable)\u001b[0m\n\u001b[1;32m   1015\u001b[0m \u001b[0;34m\u001b[0m\u001b[0m\n\u001b[1;32m   1016\u001b[0m             \u001b[0;32mwith\u001b[0m \u001b[0mself\u001b[0m\u001b[0;34m.\u001b[0m\u001b[0m_backend\u001b[0m\u001b[0;34m.\u001b[0m\u001b[0mretrieval_context\u001b[0m\u001b[0;34m(\u001b[0m\u001b[0;34m)\u001b[0m\u001b[0;34m:\u001b[0m\u001b[0;34m\u001b[0m\u001b[0m\n\u001b[0;32m-> 1017\u001b[0;31m                 \u001b[0mself\u001b[0m\u001b[0;34m.\u001b[0m\u001b[0mretrieve\u001b[0m\u001b[0;34m(\u001b[0m\u001b[0;34m)\u001b[0m\u001b[0;34m\u001b[0m\u001b[0m\n\u001b[0m\u001b[1;32m   1018\u001b[0m             \u001b[0;31m# Make sure that we get a last message telling us we are done\u001b[0m\u001b[0;34m\u001b[0m\u001b[0;34m\u001b[0m\u001b[0m\n\u001b[1;32m   1019\u001b[0m             \u001b[0melapsed_time\u001b[0m \u001b[0;34m=\u001b[0m \u001b[0mtime\u001b[0m\u001b[0;34m.\u001b[0m\u001b[0mtime\u001b[0m\u001b[0;34m(\u001b[0m\u001b[0;34m)\u001b[0m \u001b[0;34m-\u001b[0m \u001b[0mself\u001b[0m\u001b[0;34m.\u001b[0m\u001b[0m_start_time\u001b[0m\u001b[0;34m\u001b[0m\u001b[0m\n",
      "\u001b[0;32m~/Library/Caches/pypoetry/virtualenvs/daily-trading-nJ43NNNI-py3.7/lib/python3.7/site-packages/joblib/parallel.py\u001b[0m in \u001b[0;36mretrieve\u001b[0;34m(self)\u001b[0m\n\u001b[1;32m    907\u001b[0m             \u001b[0;32mtry\u001b[0m\u001b[0;34m:\u001b[0m\u001b[0;34m\u001b[0m\u001b[0m\n\u001b[1;32m    908\u001b[0m                 \u001b[0;32mif\u001b[0m \u001b[0mgetattr\u001b[0m\u001b[0;34m(\u001b[0m\u001b[0mself\u001b[0m\u001b[0;34m.\u001b[0m\u001b[0m_backend\u001b[0m\u001b[0;34m,\u001b[0m \u001b[0;34m'supports_timeout'\u001b[0m\u001b[0;34m,\u001b[0m \u001b[0;32mFalse\u001b[0m\u001b[0;34m)\u001b[0m\u001b[0;34m:\u001b[0m\u001b[0;34m\u001b[0m\u001b[0m\n\u001b[0;32m--> 909\u001b[0;31m                     \u001b[0mself\u001b[0m\u001b[0;34m.\u001b[0m\u001b[0m_output\u001b[0m\u001b[0;34m.\u001b[0m\u001b[0mextend\u001b[0m\u001b[0;34m(\u001b[0m\u001b[0mjob\u001b[0m\u001b[0;34m.\u001b[0m\u001b[0mget\u001b[0m\u001b[0;34m(\u001b[0m\u001b[0mtimeout\u001b[0m\u001b[0;34m=\u001b[0m\u001b[0mself\u001b[0m\u001b[0;34m.\u001b[0m\u001b[0mtimeout\u001b[0m\u001b[0;34m)\u001b[0m\u001b[0;34m)\u001b[0m\u001b[0;34m\u001b[0m\u001b[0m\n\u001b[0m\u001b[1;32m    910\u001b[0m                 \u001b[0;32melse\u001b[0m\u001b[0;34m:\u001b[0m\u001b[0;34m\u001b[0m\u001b[0m\n\u001b[1;32m    911\u001b[0m                     \u001b[0mself\u001b[0m\u001b[0;34m.\u001b[0m\u001b[0m_output\u001b[0m\u001b[0;34m.\u001b[0m\u001b[0mextend\u001b[0m\u001b[0;34m(\u001b[0m\u001b[0mjob\u001b[0m\u001b[0;34m.\u001b[0m\u001b[0mget\u001b[0m\u001b[0;34m(\u001b[0m\u001b[0;34m)\u001b[0m\u001b[0;34m)\u001b[0m\u001b[0;34m\u001b[0m\u001b[0m\n",
      "\u001b[0;32m~/.pyenv/versions/3.7.0/lib/python3.7/multiprocessing/pool.py\u001b[0m in \u001b[0;36mget\u001b[0;34m(self, timeout)\u001b[0m\n\u001b[1;32m    655\u001b[0m             \u001b[0;32mreturn\u001b[0m \u001b[0mself\u001b[0m\u001b[0;34m.\u001b[0m\u001b[0m_value\u001b[0m\u001b[0;34m\u001b[0m\u001b[0m\n\u001b[1;32m    656\u001b[0m         \u001b[0;32melse\u001b[0m\u001b[0;34m:\u001b[0m\u001b[0;34m\u001b[0m\u001b[0m\n\u001b[0;32m--> 657\u001b[0;31m             \u001b[0;32mraise\u001b[0m \u001b[0mself\u001b[0m\u001b[0;34m.\u001b[0m\u001b[0m_value\u001b[0m\u001b[0;34m\u001b[0m\u001b[0m\n\u001b[0m\u001b[1;32m    658\u001b[0m \u001b[0;34m\u001b[0m\u001b[0m\n\u001b[1;32m    659\u001b[0m     \u001b[0;32mdef\u001b[0m \u001b[0m_set\u001b[0m\u001b[0;34m(\u001b[0m\u001b[0mself\u001b[0m\u001b[0;34m,\u001b[0m \u001b[0mi\u001b[0m\u001b[0;34m,\u001b[0m \u001b[0mobj\u001b[0m\u001b[0;34m)\u001b[0m\u001b[0;34m:\u001b[0m\u001b[0;34m\u001b[0m\u001b[0m\n",
      "\u001b[0;32m~/.pyenv/versions/3.7.0/lib/python3.7/multiprocessing/pool.py\u001b[0m in \u001b[0;36mworker\u001b[0;34m(inqueue, outqueue, initializer, initargs, maxtasks, wrap_exception)\u001b[0m\n\u001b[1;32m    119\u001b[0m         \u001b[0mjob\u001b[0m\u001b[0;34m,\u001b[0m \u001b[0mi\u001b[0m\u001b[0;34m,\u001b[0m \u001b[0mfunc\u001b[0m\u001b[0;34m,\u001b[0m \u001b[0margs\u001b[0m\u001b[0;34m,\u001b[0m \u001b[0mkwds\u001b[0m \u001b[0;34m=\u001b[0m \u001b[0mtask\u001b[0m\u001b[0;34m\u001b[0m\u001b[0m\n\u001b[1;32m    120\u001b[0m         \u001b[0;32mtry\u001b[0m\u001b[0;34m:\u001b[0m\u001b[0;34m\u001b[0m\u001b[0m\n\u001b[0;32m--> 121\u001b[0;31m             \u001b[0mresult\u001b[0m \u001b[0;34m=\u001b[0m \u001b[0;34m(\u001b[0m\u001b[0;32mTrue\u001b[0m\u001b[0;34m,\u001b[0m \u001b[0mfunc\u001b[0m\u001b[0;34m(\u001b[0m\u001b[0;34m*\u001b[0m\u001b[0margs\u001b[0m\u001b[0;34m,\u001b[0m \u001b[0;34m**\u001b[0m\u001b[0mkwds\u001b[0m\u001b[0;34m)\u001b[0m\u001b[0;34m)\u001b[0m\u001b[0;34m\u001b[0m\u001b[0m\n\u001b[0m\u001b[1;32m    122\u001b[0m         \u001b[0;32mexcept\u001b[0m \u001b[0mException\u001b[0m \u001b[0;32mas\u001b[0m \u001b[0me\u001b[0m\u001b[0;34m:\u001b[0m\u001b[0;34m\u001b[0m\u001b[0m\n\u001b[1;32m    123\u001b[0m             \u001b[0;32mif\u001b[0m \u001b[0mwrap_exception\u001b[0m \u001b[0;32mand\u001b[0m \u001b[0mfunc\u001b[0m \u001b[0;32mis\u001b[0m \u001b[0;32mnot\u001b[0m \u001b[0m_helper_reraises_exception\u001b[0m\u001b[0;34m:\u001b[0m\u001b[0;34m\u001b[0m\u001b[0m\n",
      "\u001b[0;32m~/Library/Caches/pypoetry/virtualenvs/daily-trading-nJ43NNNI-py3.7/lib/python3.7/site-packages/joblib/_parallel_backends.py\u001b[0m in \u001b[0;36m__call__\u001b[0;34m(self, *args, **kwargs)\u001b[0m\n\u001b[1;32m    606\u001b[0m     \u001b[0;32mdef\u001b[0m \u001b[0m__call__\u001b[0m\u001b[0;34m(\u001b[0m\u001b[0mself\u001b[0m\u001b[0;34m,\u001b[0m \u001b[0;34m*\u001b[0m\u001b[0margs\u001b[0m\u001b[0;34m,\u001b[0m \u001b[0;34m**\u001b[0m\u001b[0mkwargs\u001b[0m\u001b[0;34m)\u001b[0m\u001b[0;34m:\u001b[0m\u001b[0;34m\u001b[0m\u001b[0m\n\u001b[1;32m    607\u001b[0m         \u001b[0;32mtry\u001b[0m\u001b[0;34m:\u001b[0m\u001b[0;34m\u001b[0m\u001b[0m\n\u001b[0;32m--> 608\u001b[0;31m             \u001b[0;32mreturn\u001b[0m \u001b[0mself\u001b[0m\u001b[0;34m.\u001b[0m\u001b[0mfunc\u001b[0m\u001b[0;34m(\u001b[0m\u001b[0;34m*\u001b[0m\u001b[0margs\u001b[0m\u001b[0;34m,\u001b[0m \u001b[0;34m**\u001b[0m\u001b[0mkwargs\u001b[0m\u001b[0;34m)\u001b[0m\u001b[0;34m\u001b[0m\u001b[0m\n\u001b[0m\u001b[1;32m    609\u001b[0m         \u001b[0;32mexcept\u001b[0m \u001b[0mKeyboardInterrupt\u001b[0m\u001b[0;34m:\u001b[0m\u001b[0;34m\u001b[0m\u001b[0m\n\u001b[1;32m    610\u001b[0m             \u001b[0;31m# We capture the KeyboardInterrupt and reraise it as\u001b[0m\u001b[0;34m\u001b[0m\u001b[0;34m\u001b[0m\u001b[0m\n",
      "\u001b[0;32m~/Library/Caches/pypoetry/virtualenvs/daily-trading-nJ43NNNI-py3.7/lib/python3.7/site-packages/joblib/parallel.py\u001b[0m in \u001b[0;36m__call__\u001b[0;34m(self)\u001b[0m\n\u001b[1;32m    254\u001b[0m         \u001b[0;32mwith\u001b[0m \u001b[0mparallel_backend\u001b[0m\u001b[0;34m(\u001b[0m\u001b[0mself\u001b[0m\u001b[0;34m.\u001b[0m\u001b[0m_backend\u001b[0m\u001b[0;34m,\u001b[0m \u001b[0mn_jobs\u001b[0m\u001b[0;34m=\u001b[0m\u001b[0mself\u001b[0m\u001b[0;34m.\u001b[0m\u001b[0m_n_jobs\u001b[0m\u001b[0;34m)\u001b[0m\u001b[0;34m:\u001b[0m\u001b[0;34m\u001b[0m\u001b[0m\n\u001b[1;32m    255\u001b[0m             return [func(*args, **kwargs)\n\u001b[0;32m--> 256\u001b[0;31m                     for func, args, kwargs in self.items]\n\u001b[0m\u001b[1;32m    257\u001b[0m \u001b[0;34m\u001b[0m\u001b[0m\n\u001b[1;32m    258\u001b[0m     \u001b[0;32mdef\u001b[0m \u001b[0m__len__\u001b[0m\u001b[0;34m(\u001b[0m\u001b[0mself\u001b[0m\u001b[0;34m)\u001b[0m\u001b[0;34m:\u001b[0m\u001b[0;34m\u001b[0m\u001b[0m\n",
      "\u001b[0;32m~/Library/Caches/pypoetry/virtualenvs/daily-trading-nJ43NNNI-py3.7/lib/python3.7/site-packages/joblib/parallel.py\u001b[0m in \u001b[0;36m<listcomp>\u001b[0;34m(.0)\u001b[0m\n\u001b[1;32m    254\u001b[0m         \u001b[0;32mwith\u001b[0m \u001b[0mparallel_backend\u001b[0m\u001b[0;34m(\u001b[0m\u001b[0mself\u001b[0m\u001b[0;34m.\u001b[0m\u001b[0m_backend\u001b[0m\u001b[0;34m,\u001b[0m \u001b[0mn_jobs\u001b[0m\u001b[0;34m=\u001b[0m\u001b[0mself\u001b[0m\u001b[0;34m.\u001b[0m\u001b[0m_n_jobs\u001b[0m\u001b[0;34m)\u001b[0m\u001b[0;34m:\u001b[0m\u001b[0;34m\u001b[0m\u001b[0m\n\u001b[1;32m    255\u001b[0m             return [func(*args, **kwargs)\n\u001b[0;32m--> 256\u001b[0;31m                     for func, args, kwargs in self.items]\n\u001b[0m\u001b[1;32m    257\u001b[0m \u001b[0;34m\u001b[0m\u001b[0m\n\u001b[1;32m    258\u001b[0m     \u001b[0;32mdef\u001b[0m \u001b[0m__len__\u001b[0m\u001b[0;34m(\u001b[0m\u001b[0mself\u001b[0m\u001b[0;34m)\u001b[0m\u001b[0;34m:\u001b[0m\u001b[0;34m\u001b[0m\u001b[0m\n",
      "\u001b[0;32m~/Library/Caches/pypoetry/virtualenvs/daily-trading-nJ43NNNI-py3.7/lib/python3.7/site-packages/sklearn/ensemble/_forest.py\u001b[0m in \u001b[0;36m_parallel_build_trees\u001b[0;34m(tree, forest, X, y, sample_weight, tree_idx, n_trees, verbose, class_weight, n_samples_bootstrap)\u001b[0m\n\u001b[1;32m    163\u001b[0m             \u001b[0mcurr_sample_weight\u001b[0m \u001b[0;34m*=\u001b[0m \u001b[0mcompute_sample_weight\u001b[0m\u001b[0;34m(\u001b[0m\u001b[0;34m'balanced'\u001b[0m\u001b[0;34m,\u001b[0m \u001b[0my\u001b[0m\u001b[0;34m,\u001b[0m \u001b[0mindices\u001b[0m\u001b[0;34m)\u001b[0m\u001b[0;34m\u001b[0m\u001b[0m\n\u001b[1;32m    164\u001b[0m \u001b[0;34m\u001b[0m\u001b[0m\n\u001b[0;32m--> 165\u001b[0;31m         \u001b[0mtree\u001b[0m\u001b[0;34m.\u001b[0m\u001b[0mfit\u001b[0m\u001b[0;34m(\u001b[0m\u001b[0mX\u001b[0m\u001b[0;34m,\u001b[0m \u001b[0my\u001b[0m\u001b[0;34m,\u001b[0m \u001b[0msample_weight\u001b[0m\u001b[0;34m=\u001b[0m\u001b[0mcurr_sample_weight\u001b[0m\u001b[0;34m,\u001b[0m \u001b[0mcheck_input\u001b[0m\u001b[0;34m=\u001b[0m\u001b[0;32mFalse\u001b[0m\u001b[0;34m)\u001b[0m\u001b[0;34m\u001b[0m\u001b[0m\n\u001b[0m\u001b[1;32m    166\u001b[0m     \u001b[0;32melse\u001b[0m\u001b[0;34m:\u001b[0m\u001b[0;34m\u001b[0m\u001b[0m\n\u001b[1;32m    167\u001b[0m         \u001b[0mtree\u001b[0m\u001b[0;34m.\u001b[0m\u001b[0mfit\u001b[0m\u001b[0;34m(\u001b[0m\u001b[0mX\u001b[0m\u001b[0;34m,\u001b[0m \u001b[0my\u001b[0m\u001b[0;34m,\u001b[0m \u001b[0msample_weight\u001b[0m\u001b[0;34m=\u001b[0m\u001b[0msample_weight\u001b[0m\u001b[0;34m,\u001b[0m \u001b[0mcheck_input\u001b[0m\u001b[0;34m=\u001b[0m\u001b[0;32mFalse\u001b[0m\u001b[0;34m)\u001b[0m\u001b[0;34m\u001b[0m\u001b[0m\n",
      "\u001b[0;32m~/Library/Caches/pypoetry/virtualenvs/daily-trading-nJ43NNNI-py3.7/lib/python3.7/site-packages/sklearn/tree/_classes.py\u001b[0m in \u001b[0;36mfit\u001b[0;34m(self, X, y, sample_weight, check_input, X_idx_sorted)\u001b[0m\n\u001b[1;32m   1223\u001b[0m             \u001b[0msample_weight\u001b[0m\u001b[0;34m=\u001b[0m\u001b[0msample_weight\u001b[0m\u001b[0;34m,\u001b[0m\u001b[0;34m\u001b[0m\u001b[0m\n\u001b[1;32m   1224\u001b[0m             \u001b[0mcheck_input\u001b[0m\u001b[0;34m=\u001b[0m\u001b[0mcheck_input\u001b[0m\u001b[0;34m,\u001b[0m\u001b[0;34m\u001b[0m\u001b[0m\n\u001b[0;32m-> 1225\u001b[0;31m             X_idx_sorted=X_idx_sorted)\n\u001b[0m\u001b[1;32m   1226\u001b[0m         \u001b[0;32mreturn\u001b[0m \u001b[0mself\u001b[0m\u001b[0;34m\u001b[0m\u001b[0m\n\u001b[1;32m   1227\u001b[0m \u001b[0;34m\u001b[0m\u001b[0m\n",
      "\u001b[0;32m~/Library/Caches/pypoetry/virtualenvs/daily-trading-nJ43NNNI-py3.7/lib/python3.7/site-packages/sklearn/tree/_classes.py\u001b[0m in \u001b[0;36mfit\u001b[0;34m(self, X, y, sample_weight, check_input, X_idx_sorted)\u001b[0m\n\u001b[1;32m    263\u001b[0m         \u001b[0;32mif\u001b[0m \u001b[0mlen\u001b[0m\u001b[0;34m(\u001b[0m\u001b[0my\u001b[0m\u001b[0;34m)\u001b[0m \u001b[0;34m!=\u001b[0m \u001b[0mn_samples\u001b[0m\u001b[0;34m:\u001b[0m\u001b[0;34m\u001b[0m\u001b[0m\n\u001b[1;32m    264\u001b[0m             raise ValueError(\"Number of labels=%d does not match \"\n\u001b[0;32m--> 265\u001b[0;31m                              \"number of samples=%d\" % (len(y), n_samples))\n\u001b[0m\u001b[1;32m    266\u001b[0m         \u001b[0;32mif\u001b[0m \u001b[0;32mnot\u001b[0m \u001b[0;36m0\u001b[0m \u001b[0;34m<=\u001b[0m \u001b[0mself\u001b[0m\u001b[0;34m.\u001b[0m\u001b[0mmin_weight_fraction_leaf\u001b[0m \u001b[0;34m<=\u001b[0m \u001b[0;36m0.5\u001b[0m\u001b[0;34m:\u001b[0m\u001b[0;34m\u001b[0m\u001b[0m\n\u001b[1;32m    267\u001b[0m             \u001b[0;32mraise\u001b[0m \u001b[0mValueError\u001b[0m\u001b[0;34m(\u001b[0m\u001b[0;34m\"min_weight_fraction_leaf must in [0, 0.5]\"\u001b[0m\u001b[0;34m)\u001b[0m\u001b[0;34m\u001b[0m\u001b[0m\n",
      "\u001b[0;31mValueError\u001b[0m: Number of labels=3586 does not match number of samples=3580"
     ]
    }
   ],
   "source": [
    "most_recent_week_historical_prediction(final_stock_df)"
   ]
  },
  {
   "cell_type": "markdown",
   "metadata": {},
   "source": [
    "most_recent_week_historical_prediction"
   ]
  },
  {
   "cell_type": "markdown",
   "metadata": {},
   "source": [
    "# Final Predictions"
   ]
  },
  {
   "cell_type": "code",
   "execution_count": 1199,
   "metadata": {
    "collapsed": true,
    "jupyter": {
     "outputs_hidden": true
    }
   },
   "outputs": [
    {
     "name": "stderr",
     "output_type": "stream",
     "text": [
      "/Users/jonathanhilgart/Library/Caches/pypoetry/virtualenvs/daily-trading-nJ43NNNI-py3.7/lib/python3.7/site-packages/numpy/lib/nanfunctions.py:1546: RuntimeWarning: overflow encountered in multiply\n",
      "  sqr = np.multiply(arr, arr, out=arr)\n"
     ]
    },
    {
     "name": "stdout",
     "output_type": "stream",
     "text": [
      "Stocks eqix_rost\n",
      "Prediction = 0.4904762900000012\n",
      "eqix_rost pct change 7-day corr of close from 2020-04-24 00:00:00 to 2020-05-01 00:00:00 is =  -0.052783483453324065\n"
     ]
    },
    {
     "name": "stderr",
     "output_type": "stream",
     "text": [
      "/Users/jonathanhilgart/Library/Caches/pypoetry/virtualenvs/daily-trading-nJ43NNNI-py3.7/lib/python3.7/site-packages/numpy/lib/nanfunctions.py:1546: RuntimeWarning: overflow encountered in multiply\n",
      "  sqr = np.multiply(arr, arr, out=arr)\n"
     ]
    },
    {
     "name": "stdout",
     "output_type": "stream",
     "text": [
      "Stocks eqix_so\n",
      "Prediction = 0.733176166361472\n",
      "eqix_so pct change 7-day corr of close from 2020-04-24 00:00:00 to 2020-05-01 00:00:00 is =  -0.038210259474603325\n"
     ]
    },
    {
     "name": "stderr",
     "output_type": "stream",
     "text": [
      "/Users/jonathanhilgart/Library/Caches/pypoetry/virtualenvs/daily-trading-nJ43NNNI-py3.7/lib/python3.7/site-packages/numpy/lib/nanfunctions.py:1546: RuntimeWarning: overflow encountered in multiply\n",
      "  sqr = np.multiply(arr, arr, out=arr)\n"
     ]
    },
    {
     "name": "stdout",
     "output_type": "stream",
     "text": [
      "Stocks eqix_emr\n",
      "Prediction = 0.1659966600000001\n",
      "eqix_emr pct change 7-day corr of close from 2020-04-24 00:00:00 to 2020-05-01 00:00:00 is =  0.37602403945786955\n"
     ]
    },
    {
     "name": "stderr",
     "output_type": "stream",
     "text": [
      "/Users/jonathanhilgart/Library/Caches/pypoetry/virtualenvs/daily-trading-nJ43NNNI-py3.7/lib/python3.7/site-packages/numpy/lib/nanfunctions.py:1546: RuntimeWarning: overflow encountered in multiply\n",
      "  sqr = np.multiply(arr, arr, out=arr)\n"
     ]
    },
    {
     "name": "stdout",
     "output_type": "stream",
     "text": [
      "Stocks eqix_atvi\n",
      "Prediction = 0.32267243000000007\n",
      "eqix_atvi pct change 7-day corr of close from 2020-04-24 00:00:00 to 2020-05-01 00:00:00 is =  -0.03628953208112917\n"
     ]
    },
    {
     "name": "stderr",
     "output_type": "stream",
     "text": [
      "/Users/jonathanhilgart/Library/Caches/pypoetry/virtualenvs/daily-trading-nJ43NNNI-py3.7/lib/python3.7/site-packages/numpy/lib/nanfunctions.py:1546: RuntimeWarning: overflow encountered in multiply\n",
      "  sqr = np.multiply(arr, arr, out=arr)\n"
     ]
    },
    {
     "name": "stdout",
     "output_type": "stream",
     "text": [
      "Stocks eqix_ce\n",
      "Prediction = 0.469236265\n",
      "eqix_ce pct change 7-day corr of close from 2020-04-24 00:00:00 to 2020-05-01 00:00:00 is =  -0.08519529726905495\n"
     ]
    },
    {
     "name": "stderr",
     "output_type": "stream",
     "text": [
      "/Users/jonathanhilgart/Library/Caches/pypoetry/virtualenvs/daily-trading-nJ43NNNI-py3.7/lib/python3.7/site-packages/numpy/lib/nanfunctions.py:1546: RuntimeWarning: overflow encountered in multiply\n",
      "  sqr = np.multiply(arr, arr, out=arr)\n"
     ]
    },
    {
     "name": "stdout",
     "output_type": "stream",
     "text": [
      "Stocks eqix_cern\n",
      "Prediction = 0.3486951899999996\n",
      "eqix_cern pct change 7-day corr of close from 2020-04-24 00:00:00 to 2020-05-01 00:00:00 is =  0.052273993354919224\n"
     ]
    },
    {
     "name": "stderr",
     "output_type": "stream",
     "text": [
      "/Users/jonathanhilgart/Library/Caches/pypoetry/virtualenvs/daily-trading-nJ43NNNI-py3.7/lib/python3.7/site-packages/numpy/lib/nanfunctions.py:1546: RuntimeWarning: overflow encountered in multiply\n",
      "  sqr = np.multiply(arr, arr, out=arr)\n"
     ]
    },
    {
     "name": "stdout",
     "output_type": "stream",
     "text": [
      "Stocks eqix_peg\n",
      "Prediction = 0.6321054790476177\n",
      "eqix_peg pct change 7-day corr of close from 2020-04-24 00:00:00 to 2020-05-01 00:00:00 is =  0.04887485302043415\n"
     ]
    },
    {
     "name": "stderr",
     "output_type": "stream",
     "text": [
      "/Users/jonathanhilgart/Library/Caches/pypoetry/virtualenvs/daily-trading-nJ43NNNI-py3.7/lib/python3.7/site-packages/numpy/lib/nanfunctions.py:1546: RuntimeWarning: overflow encountered in multiply\n",
      "  sqr = np.multiply(arr, arr, out=arr)\n"
     ]
    },
    {
     "name": "stdout",
     "output_type": "stream",
     "text": [
      "Stocks eqix_adbe\n",
      "Prediction = 0.34310693500000033\n",
      "eqix_adbe pct change 7-day corr of close from 2020-04-24 00:00:00 to 2020-05-01 00:00:00 is =  0.07040286703687637\n"
     ]
    },
    {
     "name": "stderr",
     "output_type": "stream",
     "text": [
      "/Users/jonathanhilgart/Library/Caches/pypoetry/virtualenvs/daily-trading-nJ43NNNI-py3.7/lib/python3.7/site-packages/numpy/lib/nanfunctions.py:1546: RuntimeWarning: overflow encountered in multiply\n",
      "  sqr = np.multiply(arr, arr, out=arr)\n"
     ]
    },
    {
     "name": "stdout",
     "output_type": "stream",
     "text": [
      "Stocks eqix_rop\n",
      "Prediction = 0.19616649785714255\n",
      "eqix_rop pct change 7-day corr of close from 2020-04-24 00:00:00 to 2020-05-01 00:00:00 is =  0.4305356882412239\n"
     ]
    },
    {
     "name": "stderr",
     "output_type": "stream",
     "text": [
      "/Users/jonathanhilgart/Library/Caches/pypoetry/virtualenvs/daily-trading-nJ43NNNI-py3.7/lib/python3.7/site-packages/numpy/lib/nanfunctions.py:1546: RuntimeWarning: overflow encountered in multiply\n",
      "  sqr = np.multiply(arr, arr, out=arr)\n"
     ]
    },
    {
     "name": "stdout",
     "output_type": "stream",
     "text": [
      "Stocks eqix_are\n",
      "Prediction = 0.5941640399999989\n",
      "eqix_are pct change 7-day corr of close from 2020-04-24 00:00:00 to 2020-05-01 00:00:00 is =  0.032617605961805296\n"
     ]
    },
    {
     "name": "stderr",
     "output_type": "stream",
     "text": [
      "/Users/jonathanhilgart/Library/Caches/pypoetry/virtualenvs/daily-trading-nJ43NNNI-py3.7/lib/python3.7/site-packages/numpy/lib/nanfunctions.py:1546: RuntimeWarning: overflow encountered in multiply\n",
      "  sqr = np.multiply(arr, arr, out=arr)\n"
     ]
    },
    {
     "name": "stdout",
     "output_type": "stream",
     "text": [
      "Stocks eqix_pg\n",
      "Prediction = 0.46575068583333395\n",
      "eqix_pg pct change 7-day corr of close from 2020-04-24 00:00:00 to 2020-05-01 00:00:00 is =  -0.044533620605355595\n"
     ]
    },
    {
     "name": "stderr",
     "output_type": "stream",
     "text": [
      "/Users/jonathanhilgart/Library/Caches/pypoetry/virtualenvs/daily-trading-nJ43NNNI-py3.7/lib/python3.7/site-packages/numpy/lib/nanfunctions.py:1546: RuntimeWarning: overflow encountered in multiply\n",
      "  sqr = np.multiply(arr, arr, out=arr)\n"
     ]
    },
    {
     "name": "stdout",
     "output_type": "stream",
     "text": [
      "Stocks eqix_pvh\n",
      "Prediction = 0.5548192649999986\n",
      "eqix_pvh pct change 7-day corr of close from 2020-04-24 00:00:00 to 2020-05-01 00:00:00 is =  -0.06984587103361461\n"
     ]
    },
    {
     "name": "stderr",
     "output_type": "stream",
     "text": [
      "/Users/jonathanhilgart/Library/Caches/pypoetry/virtualenvs/daily-trading-nJ43NNNI-py3.7/lib/python3.7/site-packages/numpy/lib/nanfunctions.py:1546: RuntimeWarning: overflow encountered in multiply\n",
      "  sqr = np.multiply(arr, arr, out=arr)\n"
     ]
    },
    {
     "name": "stdout",
     "output_type": "stream",
     "text": [
      "Stocks eqix_lb\n",
      "Prediction = 0.12162476500000013\n",
      "eqix_lb pct change 7-day corr of close from 2020-04-24 00:00:00 to 2020-05-01 00:00:00 is =  2.8199932472753586\n"
     ]
    },
    {
     "name": "stderr",
     "output_type": "stream",
     "text": [
      "/Users/jonathanhilgart/Library/Caches/pypoetry/virtualenvs/daily-trading-nJ43NNNI-py3.7/lib/python3.7/site-packages/numpy/lib/nanfunctions.py:1546: RuntimeWarning: overflow encountered in multiply\n",
      "  sqr = np.multiply(arr, arr, out=arr)\n"
     ]
    },
    {
     "name": "stdout",
     "output_type": "stream",
     "text": [
      "Stocks eqix_vno\n",
      "Prediction = 0.6034189300000008\n",
      "eqix_vno pct change 7-day corr of close from 2020-04-24 00:00:00 to 2020-05-01 00:00:00 is =  -0.05862293992474088\n"
     ]
    },
    {
     "name": "stderr",
     "output_type": "stream",
     "text": [
      "/Users/jonathanhilgart/Library/Caches/pypoetry/virtualenvs/daily-trading-nJ43NNNI-py3.7/lib/python3.7/site-packages/numpy/lib/nanfunctions.py:1546: RuntimeWarning: overflow encountered in multiply\n",
      "  sqr = np.multiply(arr, arr, out=arr)\n"
     ]
    },
    {
     "name": "stdout",
     "output_type": "stream",
     "text": [
      "Stocks eqix_ual\n",
      "Prediction = 0.06448574500000015\n",
      "eqix_ual pct change 7-day corr of close from 2020-04-24 00:00:00 to 2020-05-01 00:00:00 is =  -3.2205070417685393\n"
     ]
    },
    {
     "name": "stderr",
     "output_type": "stream",
     "text": [
      "/Users/jonathanhilgart/Library/Caches/pypoetry/virtualenvs/daily-trading-nJ43NNNI-py3.7/lib/python3.7/site-packages/numpy/lib/nanfunctions.py:1546: RuntimeWarning: overflow encountered in multiply\n",
      "  sqr = np.multiply(arr, arr, out=arr)\n"
     ]
    },
    {
     "name": "stdout",
     "output_type": "stream",
     "text": [
      "Stocks eqix_efx\n",
      "Prediction = 0.20207063658333316\n",
      "eqix_efx pct change 7-day corr of close from 2020-04-24 00:00:00 to 2020-05-01 00:00:00 is =  0.14863114307585223\n"
     ]
    },
    {
     "name": "stderr",
     "output_type": "stream",
     "text": [
      "/Users/jonathanhilgart/Library/Caches/pypoetry/virtualenvs/daily-trading-nJ43NNNI-py3.7/lib/python3.7/site-packages/numpy/lib/nanfunctions.py:1546: RuntimeWarning: overflow encountered in multiply\n",
      "  sqr = np.multiply(arr, arr, out=arr)\n"
     ]
    },
    {
     "name": "stdout",
     "output_type": "stream",
     "text": [
      "Stocks eqix_ph\n",
      "Prediction = 0.4323118199999994\n",
      "eqix_ph pct change 7-day corr of close from 2020-04-24 00:00:00 to 2020-05-01 00:00:00 is =  0.05752458438927821\n"
     ]
    },
    {
     "name": "stderr",
     "output_type": "stream",
     "text": [
      "/Users/jonathanhilgart/Library/Caches/pypoetry/virtualenvs/daily-trading-nJ43NNNI-py3.7/lib/python3.7/site-packages/numpy/lib/nanfunctions.py:1546: RuntimeWarning: overflow encountered in multiply\n",
      "  sqr = np.multiply(arr, arr, out=arr)\n"
     ]
    },
    {
     "name": "stdout",
     "output_type": "stream",
     "text": [
      "Stocks eqix_pnr\n",
      "Prediction = 0.4227229000000003\n",
      "eqix_pnr pct change 7-day corr of close from 2020-04-24 00:00:00 to 2020-05-01 00:00:00 is =  -0.03374751706907797\n"
     ]
    },
    {
     "name": "stderr",
     "output_type": "stream",
     "text": [
      "/Users/jonathanhilgart/Library/Caches/pypoetry/virtualenvs/daily-trading-nJ43NNNI-py3.7/lib/python3.7/site-packages/numpy/lib/nanfunctions.py:1546: RuntimeWarning: overflow encountered in multiply\n",
      "  sqr = np.multiply(arr, arr, out=arr)\n"
     ]
    },
    {
     "name": "stdout",
     "output_type": "stream",
     "text": [
      "Stocks eqix_bac\n",
      "Prediction = 0.4247395647500001\n",
      "eqix_bac pct change 7-day corr of close from 2020-04-24 00:00:00 to 2020-05-01 00:00:00 is =  0.0012766791686902312\n"
     ]
    },
    {
     "name": "stderr",
     "output_type": "stream",
     "text": [
      "/Users/jonathanhilgart/Library/Caches/pypoetry/virtualenvs/daily-trading-nJ43NNNI-py3.7/lib/python3.7/site-packages/numpy/lib/nanfunctions.py:1546: RuntimeWarning: overflow encountered in multiply\n",
      "  sqr = np.multiply(arr, arr, out=arr)\n"
     ]
    },
    {
     "name": "stdout",
     "output_type": "stream",
     "text": [
      "Stocks eqix_ni\n",
      "Prediction = 0.8941638652222257\n",
      "eqix_ni pct change 7-day corr of close from 2020-04-24 00:00:00 to 2020-05-01 00:00:00 is =  -0.0792124845562332\n"
     ]
    },
    {
     "name": "stderr",
     "output_type": "stream",
     "text": [
      "/Users/jonathanhilgart/Library/Caches/pypoetry/virtualenvs/daily-trading-nJ43NNNI-py3.7/lib/python3.7/site-packages/numpy/lib/nanfunctions.py:1546: RuntimeWarning: overflow encountered in multiply\n",
      "  sqr = np.multiply(arr, arr, out=arr)\n"
     ]
    },
    {
     "name": "stdout",
     "output_type": "stream",
     "text": [
      "Stocks rost_so\n",
      "Prediction = 0.21990010499999954\n",
      "rost_so pct change 7-day corr of close from 2020-04-24 00:00:00 to 2020-05-01 00:00:00 is =  0.03737719186515309\n"
     ]
    },
    {
     "name": "stderr",
     "output_type": "stream",
     "text": [
      "/Users/jonathanhilgart/Library/Caches/pypoetry/virtualenvs/daily-trading-nJ43NNNI-py3.7/lib/python3.7/site-packages/numpy/lib/nanfunctions.py:1546: RuntimeWarning: overflow encountered in multiply\n",
      "  sqr = np.multiply(arr, arr, out=arr)\n"
     ]
    },
    {
     "name": "stdout",
     "output_type": "stream",
     "text": [
      "Stocks rost_emr\n",
      "Prediction = -0.23724889750000064\n",
      "rost_emr pct change 7-day corr of close from 2020-04-24 00:00:00 to 2020-05-01 00:00:00 is =  -0.41305389662278513\n"
     ]
    },
    {
     "name": "stderr",
     "output_type": "stream",
     "text": [
      "/Users/jonathanhilgart/Library/Caches/pypoetry/virtualenvs/daily-trading-nJ43NNNI-py3.7/lib/python3.7/site-packages/numpy/lib/nanfunctions.py:1546: RuntimeWarning: overflow encountered in multiply\n",
      "  sqr = np.multiply(arr, arr, out=arr)\n"
     ]
    },
    {
     "name": "stdout",
     "output_type": "stream",
     "text": [
      "Stocks rost_atvi\n",
      "Prediction = 0.4583372699999997\n",
      "rost_atvi pct change 7-day corr of close from 2020-04-24 00:00:00 to 2020-05-01 00:00:00 is =  -0.1402511508030303\n"
     ]
    },
    {
     "name": "stderr",
     "output_type": "stream",
     "text": [
      "/Users/jonathanhilgart/Library/Caches/pypoetry/virtualenvs/daily-trading-nJ43NNNI-py3.7/lib/python3.7/site-packages/numpy/lib/nanfunctions.py:1546: RuntimeWarning: overflow encountered in multiply\n",
      "  sqr = np.multiply(arr, arr, out=arr)\n"
     ]
    },
    {
     "name": "stdout",
     "output_type": "stream",
     "text": [
      "Stocks rost_ce\n",
      "Prediction = 0.1948732000000006\n",
      "rost_ce pct change 7-day corr of close from 2020-04-24 00:00:00 to 2020-05-01 00:00:00 is =  0.009904540790417915\n"
     ]
    },
    {
     "name": "stderr",
     "output_type": "stream",
     "text": [
      "/Users/jonathanhilgart/Library/Caches/pypoetry/virtualenvs/daily-trading-nJ43NNNI-py3.7/lib/python3.7/site-packages/numpy/lib/nanfunctions.py:1546: RuntimeWarning: overflow encountered in multiply\n",
      "  sqr = np.multiply(arr, arr, out=arr)\n"
     ]
    },
    {
     "name": "stdout",
     "output_type": "stream",
     "text": [
      "Stocks rost_cern\n",
      "Prediction = 0.011006559999999886\n",
      "rost_cern pct change 7-day corr of close from 2020-04-24 00:00:00 to 2020-05-01 00:00:00 is =  -1.0977674344238257\n"
     ]
    },
    {
     "name": "stderr",
     "output_type": "stream",
     "text": [
      "/Users/jonathanhilgart/Library/Caches/pypoetry/virtualenvs/daily-trading-nJ43NNNI-py3.7/lib/python3.7/site-packages/numpy/lib/nanfunctions.py:1546: RuntimeWarning: overflow encountered in multiply\n",
      "  sqr = np.multiply(arr, arr, out=arr)\n"
     ]
    },
    {
     "name": "stdout",
     "output_type": "stream",
     "text": [
      "Stocks rost_peg\n",
      "Prediction = 0.8518622250000005\n",
      "rost_peg pct change 7-day corr of close from 2020-04-24 00:00:00 to 2020-05-01 00:00:00 is =  -0.13897474422807465\n"
     ]
    },
    {
     "name": "stderr",
     "output_type": "stream",
     "text": [
      "/Users/jonathanhilgart/Library/Caches/pypoetry/virtualenvs/daily-trading-nJ43NNNI-py3.7/lib/python3.7/site-packages/numpy/lib/nanfunctions.py:1546: RuntimeWarning: overflow encountered in multiply\n",
      "  sqr = np.multiply(arr, arr, out=arr)\n"
     ]
    },
    {
     "name": "stdout",
     "output_type": "stream",
     "text": [
      "Stocks rost_adbe\n",
      "Prediction = 0.6891971224999998\n",
      "rost_adbe pct change 7-day corr of close from 2020-04-24 00:00:00 to 2020-05-01 00:00:00 is =  -0.06981150175052198\n"
     ]
    },
    {
     "name": "stderr",
     "output_type": "stream",
     "text": [
      "/Users/jonathanhilgart/Library/Caches/pypoetry/virtualenvs/daily-trading-nJ43NNNI-py3.7/lib/python3.7/site-packages/numpy/lib/nanfunctions.py:1546: RuntimeWarning: overflow encountered in multiply\n",
      "  sqr = np.multiply(arr, arr, out=arr)\n"
     ]
    },
    {
     "name": "stdout",
     "output_type": "stream",
     "text": [
      "Stocks rost_rop\n",
      "Prediction = 0.5672406608750014\n",
      "rost_rop pct change 7-day corr of close from 2020-04-24 00:00:00 to 2020-05-01 00:00:00 is =  0.015155843304605954\n"
     ]
    },
    {
     "name": "stderr",
     "output_type": "stream",
     "text": [
      "/Users/jonathanhilgart/Library/Caches/pypoetry/virtualenvs/daily-trading-nJ43NNNI-py3.7/lib/python3.7/site-packages/numpy/lib/nanfunctions.py:1546: RuntimeWarning: overflow encountered in multiply\n",
      "  sqr = np.multiply(arr, arr, out=arr)\n"
     ]
    },
    {
     "name": "stdout",
     "output_type": "stream",
     "text": [
      "Stocks rost_are\n",
      "Prediction = 0.8032846697500001\n",
      "rost_are pct change 7-day corr of close from 2020-04-24 00:00:00 to 2020-05-01 00:00:00 is =  -0.14602781097013207\n"
     ]
    },
    {
     "name": "stderr",
     "output_type": "stream",
     "text": [
      "/Users/jonathanhilgart/Library/Caches/pypoetry/virtualenvs/daily-trading-nJ43NNNI-py3.7/lib/python3.7/site-packages/numpy/lib/nanfunctions.py:1546: RuntimeWarning: overflow encountered in multiply\n",
      "  sqr = np.multiply(arr, arr, out=arr)\n"
     ]
    },
    {
     "name": "stdout",
     "output_type": "stream",
     "text": [
      "Stocks rost_pg\n",
      "Prediction = 0.8257134524999973\n",
      "rost_pg pct change 7-day corr of close from 2020-04-24 00:00:00 to 2020-05-01 00:00:00 is =  -0.08686279112202544\n"
     ]
    },
    {
     "name": "stderr",
     "output_type": "stream",
     "text": [
      "/Users/jonathanhilgart/Library/Caches/pypoetry/virtualenvs/daily-trading-nJ43NNNI-py3.7/lib/python3.7/site-packages/numpy/lib/nanfunctions.py:1546: RuntimeWarning: overflow encountered in multiply\n",
      "  sqr = np.multiply(arr, arr, out=arr)\n"
     ]
    },
    {
     "name": "stdout",
     "output_type": "stream",
     "text": [
      "Stocks rost_pvh\n",
      "Prediction = 0.8545875191666663\n",
      "rost_pvh pct change 7-day corr of close from 2020-04-24 00:00:00 to 2020-05-01 00:00:00 is =  -0.052152852104774605\n"
     ]
    },
    {
     "name": "stderr",
     "output_type": "stream",
     "text": [
      "/Users/jonathanhilgart/Library/Caches/pypoetry/virtualenvs/daily-trading-nJ43NNNI-py3.7/lib/python3.7/site-packages/numpy/lib/nanfunctions.py:1546: RuntimeWarning: overflow encountered in multiply\n",
      "  sqr = np.multiply(arr, arr, out=arr)\n"
     ]
    },
    {
     "name": "stdout",
     "output_type": "stream",
     "text": [
      "Stocks rost_lb\n",
      "Prediction = 0.6600268449999994\n",
      "rost_lb pct change 7-day corr of close from 2020-04-24 00:00:00 to 2020-05-01 00:00:00 is =  -0.1211465574979802\n"
     ]
    },
    {
     "name": "stderr",
     "output_type": "stream",
     "text": [
      "/Users/jonathanhilgart/Library/Caches/pypoetry/virtualenvs/daily-trading-nJ43NNNI-py3.7/lib/python3.7/site-packages/numpy/lib/nanfunctions.py:1546: RuntimeWarning: overflow encountered in multiply\n",
      "  sqr = np.multiply(arr, arr, out=arr)\n"
     ]
    },
    {
     "name": "stdout",
     "output_type": "stream",
     "text": [
      "Stocks rost_vno\n",
      "Prediction = 0.790420263025975\n",
      "rost_vno pct change 7-day corr of close from 2020-04-24 00:00:00 to 2020-05-01 00:00:00 is =  -0.15859837086298412\n"
     ]
    },
    {
     "name": "stderr",
     "output_type": "stream",
     "text": [
      "/Users/jonathanhilgart/Library/Caches/pypoetry/virtualenvs/daily-trading-nJ43NNNI-py3.7/lib/python3.7/site-packages/numpy/lib/nanfunctions.py:1546: RuntimeWarning: overflow encountered in multiply\n",
      "  sqr = np.multiply(arr, arr, out=arr)\n"
     ]
    },
    {
     "name": "stdout",
     "output_type": "stream",
     "text": [
      "Stocks rost_ual\n",
      "Prediction = 0.6563855932797601\n",
      "rost_ual pct change 7-day corr of close from 2020-04-24 00:00:00 to 2020-05-01 00:00:00 is =  -0.045315641401165174\n"
     ]
    },
    {
     "name": "stderr",
     "output_type": "stream",
     "text": [
      "/Users/jonathanhilgart/Library/Caches/pypoetry/virtualenvs/daily-trading-nJ43NNNI-py3.7/lib/python3.7/site-packages/numpy/lib/nanfunctions.py:1546: RuntimeWarning: overflow encountered in multiply\n",
      "  sqr = np.multiply(arr, arr, out=arr)\n"
     ]
    },
    {
     "name": "stdout",
     "output_type": "stream",
     "text": [
      "Stocks rost_efx\n",
      "Prediction = -0.30160936499999996\n",
      "rost_efx pct change 7-day corr of close from 2020-04-24 00:00:00 to 2020-05-01 00:00:00 is =  -0.40479158485107425\n"
     ]
    },
    {
     "name": "stderr",
     "output_type": "stream",
     "text": [
      "/Users/jonathanhilgart/Library/Caches/pypoetry/virtualenvs/daily-trading-nJ43NNNI-py3.7/lib/python3.7/site-packages/numpy/lib/nanfunctions.py:1546: RuntimeWarning: overflow encountered in multiply\n",
      "  sqr = np.multiply(arr, arr, out=arr)\n"
     ]
    },
    {
     "name": "stdout",
     "output_type": "stream",
     "text": [
      "Stocks rost_ph\n",
      "Prediction = 0.4430279300000005\n",
      "rost_ph pct change 7-day corr of close from 2020-04-24 00:00:00 to 2020-05-01 00:00:00 is =  -0.025740533455895\n"
     ]
    },
    {
     "name": "stderr",
     "output_type": "stream",
     "text": [
      "/Users/jonathanhilgart/Library/Caches/pypoetry/virtualenvs/daily-trading-nJ43NNNI-py3.7/lib/python3.7/site-packages/numpy/lib/nanfunctions.py:1546: RuntimeWarning: overflow encountered in multiply\n",
      "  sqr = np.multiply(arr, arr, out=arr)\n"
     ]
    },
    {
     "name": "stdout",
     "output_type": "stream",
     "text": [
      "Stocks rost_pnr\n",
      "Prediction = 0.5262136550000007\n",
      "rost_pnr pct change 7-day corr of close from 2020-04-24 00:00:00 to 2020-05-01 00:00:00 is =  -0.21975840865686758\n"
     ]
    },
    {
     "name": "stderr",
     "output_type": "stream",
     "text": [
      "/Users/jonathanhilgart/Library/Caches/pypoetry/virtualenvs/daily-trading-nJ43NNNI-py3.7/lib/python3.7/site-packages/numpy/lib/nanfunctions.py:1546: RuntimeWarning: overflow encountered in multiply\n",
      "  sqr = np.multiply(arr, arr, out=arr)\n"
     ]
    },
    {
     "name": "stdout",
     "output_type": "stream",
     "text": [
      "Stocks rost_bac\n",
      "Prediction = 0.7000987174999991\n",
      "rost_bac pct change 7-day corr of close from 2020-04-24 00:00:00 to 2020-05-01 00:00:00 is =  -0.06753837204501412\n"
     ]
    },
    {
     "name": "stderr",
     "output_type": "stream",
     "text": [
      "/Users/jonathanhilgart/Library/Caches/pypoetry/virtualenvs/daily-trading-nJ43NNNI-py3.7/lib/python3.7/site-packages/numpy/lib/nanfunctions.py:1546: RuntimeWarning: overflow encountered in multiply\n",
      "  sqr = np.multiply(arr, arr, out=arr)\n"
     ]
    },
    {
     "name": "stdout",
     "output_type": "stream",
     "text": [
      "Stocks rost_ni\n",
      "Prediction = 0.550845014999999\n",
      "rost_ni pct change 7-day corr of close from 2020-04-24 00:00:00 to 2020-05-01 00:00:00 is =  -0.11876218442090059\n"
     ]
    },
    {
     "name": "stderr",
     "output_type": "stream",
     "text": [
      "/Users/jonathanhilgart/Library/Caches/pypoetry/virtualenvs/daily-trading-nJ43NNNI-py3.7/lib/python3.7/site-packages/numpy/lib/nanfunctions.py:1546: RuntimeWarning: overflow encountered in multiply\n",
      "  sqr = np.multiply(arr, arr, out=arr)\n"
     ]
    },
    {
     "name": "stdout",
     "output_type": "stream",
     "text": [
      "Stocks so_emr\n",
      "Prediction = 0.644107554999999\n",
      "so_emr pct change 7-day corr of close from 2020-04-24 00:00:00 to 2020-05-01 00:00:00 is =  -0.0744530557347759\n"
     ]
    },
    {
     "name": "stderr",
     "output_type": "stream",
     "text": [
      "/Users/jonathanhilgart/Library/Caches/pypoetry/virtualenvs/daily-trading-nJ43NNNI-py3.7/lib/python3.7/site-packages/numpy/lib/nanfunctions.py:1546: RuntimeWarning: overflow encountered in multiply\n",
      "  sqr = np.multiply(arr, arr, out=arr)\n"
     ]
    },
    {
     "name": "stdout",
     "output_type": "stream",
     "text": [
      "Stocks so_atvi\n",
      "Prediction = -0.0019361949999999928\n",
      "so_atvi pct change 7-day corr of close from 2020-04-24 00:00:00 to 2020-05-01 00:00:00 is =  -0.9772463981009237\n"
     ]
    },
    {
     "name": "stderr",
     "output_type": "stream",
     "text": [
      "/Users/jonathanhilgart/Library/Caches/pypoetry/virtualenvs/daily-trading-nJ43NNNI-py3.7/lib/python3.7/site-packages/numpy/lib/nanfunctions.py:1546: RuntimeWarning: overflow encountered in multiply\n",
      "  sqr = np.multiply(arr, arr, out=arr)\n"
     ]
    },
    {
     "name": "stdout",
     "output_type": "stream",
     "text": [
      "Stocks so_ce\n",
      "Prediction = 0.5631804408333345\n",
      "so_ce pct change 7-day corr of close from 2020-04-24 00:00:00 to 2020-05-01 00:00:00 is =  -0.33258304683892137\n"
     ]
    },
    {
     "name": "stderr",
     "output_type": "stream",
     "text": [
      "/Users/jonathanhilgart/Library/Caches/pypoetry/virtualenvs/daily-trading-nJ43NNNI-py3.7/lib/python3.7/site-packages/numpy/lib/nanfunctions.py:1546: RuntimeWarning: overflow encountered in multiply\n",
      "  sqr = np.multiply(arr, arr, out=arr)\n"
     ]
    },
    {
     "name": "stdout",
     "output_type": "stream",
     "text": [
      "Stocks so_cern\n",
      "Prediction = 0.6650118799999986\n",
      "so_cern pct change 7-day corr of close from 2020-04-24 00:00:00 to 2020-05-01 00:00:00 is =  -0.15410109901292535\n"
     ]
    },
    {
     "name": "stderr",
     "output_type": "stream",
     "text": [
      "/Users/jonathanhilgart/Library/Caches/pypoetry/virtualenvs/daily-trading-nJ43NNNI-py3.7/lib/python3.7/site-packages/numpy/lib/nanfunctions.py:1546: RuntimeWarning: overflow encountered in multiply\n",
      "  sqr = np.multiply(arr, arr, out=arr)\n"
     ]
    },
    {
     "name": "stdout",
     "output_type": "stream",
     "text": [
      "Stocks so_peg\n",
      "Prediction = 0.3301729466666666\n",
      "so_peg pct change 7-day corr of close from 2020-04-24 00:00:00 to 2020-05-01 00:00:00 is =  0.1343342769715623\n"
     ]
    },
    {
     "name": "stderr",
     "output_type": "stream",
     "text": [
      "/Users/jonathanhilgart/Library/Caches/pypoetry/virtualenvs/daily-trading-nJ43NNNI-py3.7/lib/python3.7/site-packages/numpy/lib/nanfunctions.py:1546: RuntimeWarning: overflow encountered in multiply\n",
      "  sqr = np.multiply(arr, arr, out=arr)\n"
     ]
    },
    {
     "name": "stdout",
     "output_type": "stream",
     "text": [
      "Stocks so_adbe\n",
      "Prediction = 0.2485024400000002\n",
      "so_adbe pct change 7-day corr of close from 2020-04-24 00:00:00 to 2020-05-01 00:00:00 is =  0.02005377293046129\n"
     ]
    },
    {
     "name": "stderr",
     "output_type": "stream",
     "text": [
      "/Users/jonathanhilgart/Library/Caches/pypoetry/virtualenvs/daily-trading-nJ43NNNI-py3.7/lib/python3.7/site-packages/numpy/lib/nanfunctions.py:1546: RuntimeWarning: overflow encountered in multiply\n",
      "  sqr = np.multiply(arr, arr, out=arr)\n"
     ]
    },
    {
     "name": "stdout",
     "output_type": "stream",
     "text": [
      "Stocks so_rop\n",
      "Prediction = 0.05655679000000038\n",
      "so_rop pct change 7-day corr of close from 2020-04-24 00:00:00 to 2020-05-01 00:00:00 is =  23.729685177088054\n"
     ]
    },
    {
     "name": "stderr",
     "output_type": "stream",
     "text": [
      "/Users/jonathanhilgart/Library/Caches/pypoetry/virtualenvs/daily-trading-nJ43NNNI-py3.7/lib/python3.7/site-packages/numpy/lib/nanfunctions.py:1546: RuntimeWarning: overflow encountered in multiply\n",
      "  sqr = np.multiply(arr, arr, out=arr)\n"
     ]
    },
    {
     "name": "stdout",
     "output_type": "stream",
     "text": [
      "Stocks so_are\n",
      "Prediction = 0.25948353666666574\n",
      "so_are pct change 7-day corr of close from 2020-04-24 00:00:00 to 2020-05-01 00:00:00 is =  0.14846722640476284\n"
     ]
    },
    {
     "name": "stderr",
     "output_type": "stream",
     "text": [
      "/Users/jonathanhilgart/Library/Caches/pypoetry/virtualenvs/daily-trading-nJ43NNNI-py3.7/lib/python3.7/site-packages/numpy/lib/nanfunctions.py:1546: RuntimeWarning: overflow encountered in multiply\n",
      "  sqr = np.multiply(arr, arr, out=arr)\n"
     ]
    },
    {
     "name": "stdout",
     "output_type": "stream",
     "text": [
      "Stocks so_pg\n",
      "Prediction = 0.15343280000000042\n",
      "so_pg pct change 7-day corr of close from 2020-04-24 00:00:00 to 2020-05-01 00:00:00 is =  2.3486719483183927\n"
     ]
    },
    {
     "name": "stderr",
     "output_type": "stream",
     "text": [
      "/Users/jonathanhilgart/Library/Caches/pypoetry/virtualenvs/daily-trading-nJ43NNNI-py3.7/lib/python3.7/site-packages/numpy/lib/nanfunctions.py:1546: RuntimeWarning: overflow encountered in multiply\n",
      "  sqr = np.multiply(arr, arr, out=arr)\n"
     ]
    },
    {
     "name": "stdout",
     "output_type": "stream",
     "text": [
      "Stocks so_pvh\n",
      "Prediction = 0.4888235350000012\n",
      "so_pvh pct change 7-day corr of close from 2020-04-24 00:00:00 to 2020-05-01 00:00:00 is =  0.030271265709934436\n"
     ]
    },
    {
     "name": "stderr",
     "output_type": "stream",
     "text": [
      "/Users/jonathanhilgart/Library/Caches/pypoetry/virtualenvs/daily-trading-nJ43NNNI-py3.7/lib/python3.7/site-packages/numpy/lib/nanfunctions.py:1546: RuntimeWarning: overflow encountered in multiply\n",
      "  sqr = np.multiply(arr, arr, out=arr)\n"
     ]
    },
    {
     "name": "stdout",
     "output_type": "stream",
     "text": [
      "Stocks so_lb\n",
      "Prediction = -0.1102610250000001\n",
      "so_lb pct change 7-day corr of close from 2020-04-24 00:00:00 to 2020-05-01 00:00:00 is =  -0.661005460263974\n"
     ]
    },
    {
     "name": "stderr",
     "output_type": "stream",
     "text": [
      "/Users/jonathanhilgart/Library/Caches/pypoetry/virtualenvs/daily-trading-nJ43NNNI-py3.7/lib/python3.7/site-packages/numpy/lib/nanfunctions.py:1546: RuntimeWarning: overflow encountered in multiply\n",
      "  sqr = np.multiply(arr, arr, out=arr)\n"
     ]
    },
    {
     "name": "stdout",
     "output_type": "stream",
     "text": [
      "Stocks so_vno\n",
      "Prediction = 0.21748938333333345\n",
      "so_vno pct change 7-day corr of close from 2020-04-24 00:00:00 to 2020-05-01 00:00:00 is =  0.24812418341912879\n"
     ]
    },
    {
     "name": "stderr",
     "output_type": "stream",
     "text": [
      "/Users/jonathanhilgart/Library/Caches/pypoetry/virtualenvs/daily-trading-nJ43NNNI-py3.7/lib/python3.7/site-packages/numpy/lib/nanfunctions.py:1546: RuntimeWarning: overflow encountered in multiply\n",
      "  sqr = np.multiply(arr, arr, out=arr)\n"
     ]
    },
    {
     "name": "stdout",
     "output_type": "stream",
     "text": [
      "Stocks so_ual\n",
      "Prediction = -0.29028128333333403\n",
      "so_ual pct change 7-day corr of close from 2020-04-24 00:00:00 to 2020-05-01 00:00:00 is =  -0.3449267856390613\n"
     ]
    },
    {
     "name": "stderr",
     "output_type": "stream",
     "text": [
      "/Users/jonathanhilgart/Library/Caches/pypoetry/virtualenvs/daily-trading-nJ43NNNI-py3.7/lib/python3.7/site-packages/numpy/lib/nanfunctions.py:1546: RuntimeWarning: overflow encountered in multiply\n",
      "  sqr = np.multiply(arr, arr, out=arr)\n"
     ]
    },
    {
     "name": "stdout",
     "output_type": "stream",
     "text": [
      "Stocks so_efx\n",
      "Prediction = 0.49598298944444363\n",
      "so_efx pct change 7-day corr of close from 2020-04-24 00:00:00 to 2020-05-01 00:00:00 is =  -0.23975863126654484\n"
     ]
    },
    {
     "name": "stderr",
     "output_type": "stream",
     "text": [
      "/Users/jonathanhilgart/Library/Caches/pypoetry/virtualenvs/daily-trading-nJ43NNNI-py3.7/lib/python3.7/site-packages/numpy/lib/nanfunctions.py:1546: RuntimeWarning: overflow encountered in multiply\n",
      "  sqr = np.multiply(arr, arr, out=arr)\n"
     ]
    },
    {
     "name": "stdout",
     "output_type": "stream",
     "text": [
      "Stocks so_ph\n",
      "Prediction = 0.6811356925000002\n",
      "so_ph pct change 7-day corr of close from 2020-04-24 00:00:00 to 2020-05-01 00:00:00 is =  -0.03692509095073715\n"
     ]
    },
    {
     "name": "stderr",
     "output_type": "stream",
     "text": [
      "/Users/jonathanhilgart/Library/Caches/pypoetry/virtualenvs/daily-trading-nJ43NNNI-py3.7/lib/python3.7/site-packages/numpy/lib/nanfunctions.py:1546: RuntimeWarning: overflow encountered in multiply\n",
      "  sqr = np.multiply(arr, arr, out=arr)\n"
     ]
    },
    {
     "name": "stdout",
     "output_type": "stream",
     "text": [
      "Stocks so_pnr\n",
      "Prediction = 0.4932221602373746\n",
      "so_pnr pct change 7-day corr of close from 2020-04-24 00:00:00 to 2020-05-01 00:00:00 is =  -0.03272892673942196\n"
     ]
    },
    {
     "name": "stderr",
     "output_type": "stream",
     "text": [
      "/Users/jonathanhilgart/Library/Caches/pypoetry/virtualenvs/daily-trading-nJ43NNNI-py3.7/lib/python3.7/site-packages/numpy/lib/nanfunctions.py:1546: RuntimeWarning: overflow encountered in multiply\n",
      "  sqr = np.multiply(arr, arr, out=arr)\n"
     ]
    },
    {
     "name": "stdout",
     "output_type": "stream",
     "text": [
      "Stocks so_bac\n",
      "Prediction = 0.5145850299999998\n",
      "so_bac pct change 7-day corr of close from 2020-04-24 00:00:00 to 2020-05-01 00:00:00 is =  0.046819435685659716\n"
     ]
    },
    {
     "name": "stderr",
     "output_type": "stream",
     "text": [
      "/Users/jonathanhilgart/Library/Caches/pypoetry/virtualenvs/daily-trading-nJ43NNNI-py3.7/lib/python3.7/site-packages/numpy/lib/nanfunctions.py:1546: RuntimeWarning: overflow encountered in multiply\n",
      "  sqr = np.multiply(arr, arr, out=arr)\n"
     ]
    },
    {
     "name": "stdout",
     "output_type": "stream",
     "text": [
      "Stocks so_ni\n",
      "Prediction = 0.66379865\n",
      "so_ni pct change 7-day corr of close from 2020-04-24 00:00:00 to 2020-05-01 00:00:00 is =  -0.11399715165121471\n"
     ]
    },
    {
     "name": "stderr",
     "output_type": "stream",
     "text": [
      "/Users/jonathanhilgart/Library/Caches/pypoetry/virtualenvs/daily-trading-nJ43NNNI-py3.7/lib/python3.7/site-packages/numpy/lib/nanfunctions.py:1546: RuntimeWarning: overflow encountered in multiply\n",
      "  sqr = np.multiply(arr, arr, out=arr)\n"
     ]
    },
    {
     "name": "stdout",
     "output_type": "stream",
     "text": [
      "Stocks emr_atvi\n",
      "Prediction = -0.4217586050000005\n",
      "emr_atvi pct change 7-day corr of close from 2020-04-24 00:00:00 to 2020-05-01 00:00:00 is =  -0.330036765815495\n"
     ]
    },
    {
     "name": "stderr",
     "output_type": "stream",
     "text": [
      "/Users/jonathanhilgart/Library/Caches/pypoetry/virtualenvs/daily-trading-nJ43NNNI-py3.7/lib/python3.7/site-packages/numpy/lib/nanfunctions.py:1546: RuntimeWarning: overflow encountered in multiply\n",
      "  sqr = np.multiply(arr, arr, out=arr)\n"
     ]
    },
    {
     "name": "stdout",
     "output_type": "stream",
     "text": [
      "Stocks emr_ce\n",
      "Prediction = 0.7603664370000003\n",
      "emr_ce pct change 7-day corr of close from 2020-04-24 00:00:00 to 2020-05-01 00:00:00 is =  -0.026702306755910565\n"
     ]
    },
    {
     "name": "stderr",
     "output_type": "stream",
     "text": [
      "/Users/jonathanhilgart/Library/Caches/pypoetry/virtualenvs/daily-trading-nJ43NNNI-py3.7/lib/python3.7/site-packages/numpy/lib/nanfunctions.py:1546: RuntimeWarning: overflow encountered in multiply\n",
      "  sqr = np.multiply(arr, arr, out=arr)\n"
     ]
    },
    {
     "name": "stdout",
     "output_type": "stream",
     "text": [
      "Stocks emr_cern\n",
      "Prediction = 0.6217694373333345\n",
      "emr_cern pct change 7-day corr of close from 2020-04-24 00:00:00 to 2020-05-01 00:00:00 is =  -0.2757077138551478\n"
     ]
    },
    {
     "name": "stderr",
     "output_type": "stream",
     "text": [
      "/Users/jonathanhilgart/Library/Caches/pypoetry/virtualenvs/daily-trading-nJ43NNNI-py3.7/lib/python3.7/site-packages/numpy/lib/nanfunctions.py:1546: RuntimeWarning: overflow encountered in multiply\n",
      "  sqr = np.multiply(arr, arr, out=arr)\n"
     ]
    },
    {
     "name": "stdout",
     "output_type": "stream",
     "text": [
      "Stocks emr_peg\n",
      "Prediction = -0.16651055500000012\n",
      "emr_peg pct change 7-day corr of close from 2020-04-24 00:00:00 to 2020-05-01 00:00:00 is =  -0.5303462947658788\n"
     ]
    },
    {
     "name": "stderr",
     "output_type": "stream",
     "text": [
      "/Users/jonathanhilgart/Library/Caches/pypoetry/virtualenvs/daily-trading-nJ43NNNI-py3.7/lib/python3.7/site-packages/numpy/lib/nanfunctions.py:1546: RuntimeWarning: overflow encountered in multiply\n",
      "  sqr = np.multiply(arr, arr, out=arr)\n"
     ]
    },
    {
     "name": "stdout",
     "output_type": "stream",
     "text": [
      "Stocks emr_adbe\n",
      "Prediction = -0.03371865499999987\n",
      "emr_adbe pct change 7-day corr of close from 2020-04-24 00:00:00 to 2020-05-01 00:00:00 is =  -0.741455063373641\n"
     ]
    },
    {
     "name": "stderr",
     "output_type": "stream",
     "text": [
      "/Users/jonathanhilgart/Library/Caches/pypoetry/virtualenvs/daily-trading-nJ43NNNI-py3.7/lib/python3.7/site-packages/numpy/lib/nanfunctions.py:1546: RuntimeWarning: overflow encountered in multiply\n",
      "  sqr = np.multiply(arr, arr, out=arr)\n"
     ]
    },
    {
     "name": "stdout",
     "output_type": "stream",
     "text": [
      "Stocks emr_rop\n",
      "Prediction = 0.08401767166666668\n",
      "emr_rop pct change 7-day corr of close from 2020-04-24 00:00:00 to 2020-05-01 00:00:00 is =  -1.5430374724768074\n"
     ]
    },
    {
     "name": "stderr",
     "output_type": "stream",
     "text": [
      "/Users/jonathanhilgart/Library/Caches/pypoetry/virtualenvs/daily-trading-nJ43NNNI-py3.7/lib/python3.7/site-packages/numpy/lib/nanfunctions.py:1546: RuntimeWarning: overflow encountered in multiply\n",
      "  sqr = np.multiply(arr, arr, out=arr)\n"
     ]
    },
    {
     "name": "stdout",
     "output_type": "stream",
     "text": [
      "Stocks emr_are\n",
      "Prediction = -0.2697536449999993\n",
      "emr_are pct change 7-day corr of close from 2020-04-24 00:00:00 to 2020-05-01 00:00:00 is =  -0.381375597976399\n"
     ]
    },
    {
     "name": "stderr",
     "output_type": "stream",
     "text": [
      "/Users/jonathanhilgart/Library/Caches/pypoetry/virtualenvs/daily-trading-nJ43NNNI-py3.7/lib/python3.7/site-packages/numpy/lib/nanfunctions.py:1546: RuntimeWarning: overflow encountered in multiply\n",
      "  sqr = np.multiply(arr, arr, out=arr)\n"
     ]
    },
    {
     "name": "stdout",
     "output_type": "stream",
     "text": [
      "Stocks emr_pg\n",
      "Prediction = -0.39718859500000003\n",
      "emr_pg pct change 7-day corr of close from 2020-04-24 00:00:00 to 2020-05-01 00:00:00 is =  -0.2653824763165974\n"
     ]
    },
    {
     "name": "stderr",
     "output_type": "stream",
     "text": [
      "/Users/jonathanhilgart/Library/Caches/pypoetry/virtualenvs/daily-trading-nJ43NNNI-py3.7/lib/python3.7/site-packages/numpy/lib/nanfunctions.py:1546: RuntimeWarning: overflow encountered in multiply\n",
      "  sqr = np.multiply(arr, arr, out=arr)\n"
     ]
    },
    {
     "name": "stdout",
     "output_type": "stream",
     "text": [
      "Stocks emr_pvh\n",
      "Prediction = 0.01661339500000004\n",
      "emr_pvh pct change 7-day corr of close from 2020-04-24 00:00:00 to 2020-05-01 00:00:00 is =  -1.391004612958649\n"
     ]
    },
    {
     "name": "stderr",
     "output_type": "stream",
     "text": [
      "/Users/jonathanhilgart/Library/Caches/pypoetry/virtualenvs/daily-trading-nJ43NNNI-py3.7/lib/python3.7/site-packages/numpy/lib/nanfunctions.py:1546: RuntimeWarning: overflow encountered in multiply\n",
      "  sqr = np.multiply(arr, arr, out=arr)\n"
     ]
    },
    {
     "name": "stdout",
     "output_type": "stream",
     "text": [
      "Stocks emr_lb\n",
      "Prediction = -0.3919355958531752\n",
      "emr_lb pct change 7-day corr of close from 2020-04-24 00:00:00 to 2020-05-01 00:00:00 is =  -0.38478699324382726\n"
     ]
    },
    {
     "name": "stderr",
     "output_type": "stream",
     "text": [
      "/Users/jonathanhilgart/Library/Caches/pypoetry/virtualenvs/daily-trading-nJ43NNNI-py3.7/lib/python3.7/site-packages/numpy/lib/nanfunctions.py:1546: RuntimeWarning: overflow encountered in multiply\n",
      "  sqr = np.multiply(arr, arr, out=arr)\n"
     ]
    },
    {
     "name": "stdout",
     "output_type": "stream",
     "text": [
      "Stocks emr_vno\n",
      "Prediction = -0.29158698916666553\n",
      "emr_vno pct change 7-day corr of close from 2020-04-24 00:00:00 to 2020-05-01 00:00:00 is =  -0.42400863400068045\n"
     ]
    },
    {
     "name": "stderr",
     "output_type": "stream",
     "text": [
      "/Users/jonathanhilgart/Library/Caches/pypoetry/virtualenvs/daily-trading-nJ43NNNI-py3.7/lib/python3.7/site-packages/numpy/lib/nanfunctions.py:1546: RuntimeWarning: overflow encountered in multiply\n",
      "  sqr = np.multiply(arr, arr, out=arr)\n"
     ]
    },
    {
     "name": "stdout",
     "output_type": "stream",
     "text": [
      "Stocks emr_ual\n",
      "Prediction = -0.47188976384004744\n",
      "emr_ual pct change 7-day corr of close from 2020-04-24 00:00:00 to 2020-05-01 00:00:00 is =  -0.3876349090191209\n"
     ]
    },
    {
     "name": "stderr",
     "output_type": "stream",
     "text": [
      "/Users/jonathanhilgart/Library/Caches/pypoetry/virtualenvs/daily-trading-nJ43NNNI-py3.7/lib/python3.7/site-packages/numpy/lib/nanfunctions.py:1546: RuntimeWarning: overflow encountered in multiply\n",
      "  sqr = np.multiply(arr, arr, out=arr)\n"
     ]
    },
    {
     "name": "stdout",
     "output_type": "stream",
     "text": [
      "Stocks emr_efx\n",
      "Prediction = 0.7917727200000012\n",
      "emr_efx pct change 7-day corr of close from 2020-04-24 00:00:00 to 2020-05-01 00:00:00 is =  -0.10612534094398451\n"
     ]
    },
    {
     "name": "stderr",
     "output_type": "stream",
     "text": [
      "/Users/jonathanhilgart/Library/Caches/pypoetry/virtualenvs/daily-trading-nJ43NNNI-py3.7/lib/python3.7/site-packages/numpy/lib/nanfunctions.py:1546: RuntimeWarning: overflow encountered in multiply\n",
      "  sqr = np.multiply(arr, arr, out=arr)\n"
     ]
    },
    {
     "name": "stdout",
     "output_type": "stream",
     "text": [
      "Stocks emr_ph\n",
      "Prediction = 0.5867001965873004\n",
      "emr_ph pct change 7-day corr of close from 2020-04-24 00:00:00 to 2020-05-01 00:00:00 is =  0.04175764642629565\n"
     ]
    },
    {
     "name": "stderr",
     "output_type": "stream",
     "text": [
      "/Users/jonathanhilgart/Library/Caches/pypoetry/virtualenvs/daily-trading-nJ43NNNI-py3.7/lib/python3.7/site-packages/numpy/lib/nanfunctions.py:1546: RuntimeWarning: overflow encountered in multiply\n",
      "  sqr = np.multiply(arr, arr, out=arr)\n"
     ]
    },
    {
     "name": "stdout",
     "output_type": "stream",
     "text": [
      "Stocks emr_pnr\n",
      "Prediction = 0.28334921500000115\n",
      "emr_pnr pct change 7-day corr of close from 2020-04-24 00:00:00 to 2020-05-01 00:00:00 is =  0.321813434158726\n"
     ]
    },
    {
     "name": "stderr",
     "output_type": "stream",
     "text": [
      "/Users/jonathanhilgart/Library/Caches/pypoetry/virtualenvs/daily-trading-nJ43NNNI-py3.7/lib/python3.7/site-packages/numpy/lib/nanfunctions.py:1546: RuntimeWarning: overflow encountered in multiply\n",
      "  sqr = np.multiply(arr, arr, out=arr)\n"
     ]
    },
    {
     "name": "stdout",
     "output_type": "stream",
     "text": [
      "Stocks emr_bac\n",
      "Prediction = 0.2610585750000008\n",
      "emr_bac pct change 7-day corr of close from 2020-04-24 00:00:00 to 2020-05-01 00:00:00 is =  0.4099232817377634\n"
     ]
    },
    {
     "name": "stderr",
     "output_type": "stream",
     "text": [
      "/Users/jonathanhilgart/Library/Caches/pypoetry/virtualenvs/daily-trading-nJ43NNNI-py3.7/lib/python3.7/site-packages/numpy/lib/nanfunctions.py:1546: RuntimeWarning: overflow encountered in multiply\n",
      "  sqr = np.multiply(arr, arr, out=arr)\n"
     ]
    },
    {
     "name": "stdout",
     "output_type": "stream",
     "text": [
      "Stocks emr_ni\n",
      "Prediction = 0.15953573999999945\n",
      "emr_ni pct change 7-day corr of close from 2020-04-24 00:00:00 to 2020-05-01 00:00:00 is =  1.559698039341518\n"
     ]
    },
    {
     "name": "stderr",
     "output_type": "stream",
     "text": [
      "/Users/jonathanhilgart/Library/Caches/pypoetry/virtualenvs/daily-trading-nJ43NNNI-py3.7/lib/python3.7/site-packages/numpy/lib/nanfunctions.py:1546: RuntimeWarning: overflow encountered in multiply\n",
      "  sqr = np.multiply(arr, arr, out=arr)\n"
     ]
    },
    {
     "name": "stdout",
     "output_type": "stream",
     "text": [
      "Stocks atvi_ce\n",
      "Prediction = -0.28123215499999965\n",
      "atvi_ce pct change 7-day corr of close from 2020-04-24 00:00:00 to 2020-05-01 00:00:00 is =  -0.2067442860809704\n"
     ]
    },
    {
     "name": "stderr",
     "output_type": "stream",
     "text": [
      "/Users/jonathanhilgart/Library/Caches/pypoetry/virtualenvs/daily-trading-nJ43NNNI-py3.7/lib/python3.7/site-packages/numpy/lib/nanfunctions.py:1546: RuntimeWarning: overflow encountered in multiply\n",
      "  sqr = np.multiply(arr, arr, out=arr)\n"
     ]
    },
    {
     "name": "stdout",
     "output_type": "stream",
     "text": [
      "Stocks atvi_cern\n",
      "Prediction = -0.08491582499999999\n",
      "atvi_cern pct change 7-day corr of close from 2020-04-24 00:00:00 to 2020-05-01 00:00:00 is =  -0.5545492815888454\n"
     ]
    },
    {
     "name": "stderr",
     "output_type": "stream",
     "text": [
      "/Users/jonathanhilgart/Library/Caches/pypoetry/virtualenvs/daily-trading-nJ43NNNI-py3.7/lib/python3.7/site-packages/numpy/lib/nanfunctions.py:1546: RuntimeWarning: overflow encountered in multiply\n",
      "  sqr = np.multiply(arr, arr, out=arr)\n"
     ]
    },
    {
     "name": "stdout",
     "output_type": "stream",
     "text": [
      "Stocks atvi_peg\n",
      "Prediction = 0.48754738000000086\n",
      "atvi_peg pct change 7-day corr of close from 2020-04-24 00:00:00 to 2020-05-01 00:00:00 is =  -0.07324655328741991\n"
     ]
    },
    {
     "name": "stderr",
     "output_type": "stream",
     "text": [
      "/Users/jonathanhilgart/Library/Caches/pypoetry/virtualenvs/daily-trading-nJ43NNNI-py3.7/lib/python3.7/site-packages/numpy/lib/nanfunctions.py:1546: RuntimeWarning: overflow encountered in multiply\n",
      "  sqr = np.multiply(arr, arr, out=arr)\n"
     ]
    },
    {
     "name": "stdout",
     "output_type": "stream",
     "text": [
      "Stocks atvi_adbe\n",
      "Prediction = 0.5857067250000009\n",
      "atvi_adbe pct change 7-day corr of close from 2020-04-24 00:00:00 to 2020-05-01 00:00:00 is =  -0.025399353712573736\n"
     ]
    },
    {
     "name": "stderr",
     "output_type": "stream",
     "text": [
      "/Users/jonathanhilgart/Library/Caches/pypoetry/virtualenvs/daily-trading-nJ43NNNI-py3.7/lib/python3.7/site-packages/numpy/lib/nanfunctions.py:1546: RuntimeWarning: overflow encountered in multiply\n",
      "  sqr = np.multiply(arr, arr, out=arr)\n"
     ]
    },
    {
     "name": "stdout",
     "output_type": "stream",
     "text": [
      "Stocks atvi_rop\n",
      "Prediction = -0.05931718500000031\n",
      "atvi_rop pct change 7-day corr of close from 2020-04-24 00:00:00 to 2020-05-01 00:00:00 is =  0.02495438287284757\n"
     ]
    },
    {
     "name": "stderr",
     "output_type": "stream",
     "text": [
      "/Users/jonathanhilgart/Library/Caches/pypoetry/virtualenvs/daily-trading-nJ43NNNI-py3.7/lib/python3.7/site-packages/numpy/lib/nanfunctions.py:1546: RuntimeWarning: overflow encountered in multiply\n",
      "  sqr = np.multiply(arr, arr, out=arr)\n"
     ]
    },
    {
     "name": "stdout",
     "output_type": "stream",
     "text": [
      "Stocks atvi_are\n",
      "Prediction = 0.5434620400000015\n",
      "atvi_are pct change 7-day corr of close from 2020-04-24 00:00:00 to 2020-05-01 00:00:00 is =  -0.17528811542827083\n"
     ]
    },
    {
     "name": "stderr",
     "output_type": "stream",
     "text": [
      "/Users/jonathanhilgart/Library/Caches/pypoetry/virtualenvs/daily-trading-nJ43NNNI-py3.7/lib/python3.7/site-packages/numpy/lib/nanfunctions.py:1546: RuntimeWarning: overflow encountered in multiply\n",
      "  sqr = np.multiply(arr, arr, out=arr)\n"
     ]
    },
    {
     "name": "stdout",
     "output_type": "stream",
     "text": [
      "Stocks atvi_pg\n",
      "Prediction = 0.4368212125000008\n",
      "atvi_pg pct change 7-day corr of close from 2020-04-24 00:00:00 to 2020-05-01 00:00:00 is =  0.14557125642189161\n"
     ]
    },
    {
     "name": "stderr",
     "output_type": "stream",
     "text": [
      "/Users/jonathanhilgart/Library/Caches/pypoetry/virtualenvs/daily-trading-nJ43NNNI-py3.7/lib/python3.7/site-packages/numpy/lib/nanfunctions.py:1546: RuntimeWarning: overflow encountered in multiply\n",
      "  sqr = np.multiply(arr, arr, out=arr)\n"
     ]
    },
    {
     "name": "stdout",
     "output_type": "stream",
     "text": [
      "Stocks atvi_pvh\n",
      "Prediction = 0.13358572499999977\n",
      "atvi_pvh pct change 7-day corr of close from 2020-04-24 00:00:00 to 2020-05-01 00:00:00 is =  -0.20656126940004782\n"
     ]
    },
    {
     "name": "stderr",
     "output_type": "stream",
     "text": [
      "/Users/jonathanhilgart/Library/Caches/pypoetry/virtualenvs/daily-trading-nJ43NNNI-py3.7/lib/python3.7/site-packages/numpy/lib/nanfunctions.py:1546: RuntimeWarning: overflow encountered in multiply\n",
      "  sqr = np.multiply(arr, arr, out=arr)\n"
     ]
    },
    {
     "name": "stdout",
     "output_type": "stream",
     "text": [
      "Stocks atvi_lb\n",
      "Prediction = 0.12019904875000004\n",
      "atvi_lb pct change 7-day corr of close from 2020-04-24 00:00:00 to 2020-05-01 00:00:00 is =  -0.31935191398397444\n"
     ]
    },
    {
     "name": "stderr",
     "output_type": "stream",
     "text": [
      "/Users/jonathanhilgart/Library/Caches/pypoetry/virtualenvs/daily-trading-nJ43NNNI-py3.7/lib/python3.7/site-packages/numpy/lib/nanfunctions.py:1546: RuntimeWarning: overflow encountered in multiply\n",
      "  sqr = np.multiply(arr, arr, out=arr)\n"
     ]
    },
    {
     "name": "stdout",
     "output_type": "stream",
     "text": [
      "Stocks atvi_vno\n",
      "Prediction = 0.48386468000000143\n",
      "atvi_vno pct change 7-day corr of close from 2020-04-24 00:00:00 to 2020-05-01 00:00:00 is =  -0.23578070880629765\n"
     ]
    },
    {
     "name": "stderr",
     "output_type": "stream",
     "text": [
      "/Users/jonathanhilgart/Library/Caches/pypoetry/virtualenvs/daily-trading-nJ43NNNI-py3.7/lib/python3.7/site-packages/numpy/lib/nanfunctions.py:1546: RuntimeWarning: overflow encountered in multiply\n",
      "  sqr = np.multiply(arr, arr, out=arr)\n"
     ]
    },
    {
     "name": "stdout",
     "output_type": "stream",
     "text": [
      "Stocks atvi_ual\n",
      "Prediction = 0.23048484\n",
      "atvi_ual pct change 7-day corr of close from 2020-04-24 00:00:00 to 2020-05-01 00:00:00 is =  -0.17472361269254721\n"
     ]
    },
    {
     "name": "stderr",
     "output_type": "stream",
     "text": [
      "/Users/jonathanhilgart/Library/Caches/pypoetry/virtualenvs/daily-trading-nJ43NNNI-py3.7/lib/python3.7/site-packages/numpy/lib/nanfunctions.py:1546: RuntimeWarning: overflow encountered in multiply\n",
      "  sqr = np.multiply(arr, arr, out=arr)\n"
     ]
    },
    {
     "name": "stdout",
     "output_type": "stream",
     "text": [
      "Stocks atvi_efx\n",
      "Prediction = -0.4406528350000006\n",
      "atvi_efx pct change 7-day corr of close from 2020-04-24 00:00:00 to 2020-05-01 00:00:00 is =  -0.3106656691341638\n"
     ]
    },
    {
     "name": "stderr",
     "output_type": "stream",
     "text": [
      "/Users/jonathanhilgart/Library/Caches/pypoetry/virtualenvs/daily-trading-nJ43NNNI-py3.7/lib/python3.7/site-packages/numpy/lib/nanfunctions.py:1546: RuntimeWarning: overflow encountered in multiply\n",
      "  sqr = np.multiply(arr, arr, out=arr)\n"
     ]
    },
    {
     "name": "stdout",
     "output_type": "stream",
     "text": [
      "Stocks atvi_ph\n",
      "Prediction = -0.3113201362500008\n",
      "atvi_ph pct change 7-day corr of close from 2020-04-24 00:00:00 to 2020-05-01 00:00:00 is =  -0.0518389837090073\n"
     ]
    },
    {
     "name": "stderr",
     "output_type": "stream",
     "text": [
      "/Users/jonathanhilgart/Library/Caches/pypoetry/virtualenvs/daily-trading-nJ43NNNI-py3.7/lib/python3.7/site-packages/numpy/lib/nanfunctions.py:1546: RuntimeWarning: overflow encountered in multiply\n",
      "  sqr = np.multiply(arr, arr, out=arr)\n"
     ]
    },
    {
     "name": "stdout",
     "output_type": "stream",
     "text": [
      "Stocks atvi_pnr\n",
      "Prediction = 0.17588120499999993\n",
      "atvi_pnr pct change 7-day corr of close from 2020-04-24 00:00:00 to 2020-05-01 00:00:00 is =  -0.27569635709226314\n"
     ]
    },
    {
     "name": "stderr",
     "output_type": "stream",
     "text": [
      "/Users/jonathanhilgart/Library/Caches/pypoetry/virtualenvs/daily-trading-nJ43NNNI-py3.7/lib/python3.7/site-packages/numpy/lib/nanfunctions.py:1546: RuntimeWarning: overflow encountered in multiply\n",
      "  sqr = np.multiply(arr, arr, out=arr)\n"
     ]
    },
    {
     "name": "stdout",
     "output_type": "stream",
     "text": [
      "Stocks atvi_bac\n",
      "Prediction = -0.05644316000000019\n",
      "atvi_bac pct change 7-day corr of close from 2020-04-24 00:00:00 to 2020-05-01 00:00:00 is =  -0.2961848471245425\n"
     ]
    },
    {
     "name": "stderr",
     "output_type": "stream",
     "text": [
      "/Users/jonathanhilgart/Library/Caches/pypoetry/virtualenvs/daily-trading-nJ43NNNI-py3.7/lib/python3.7/site-packages/numpy/lib/nanfunctions.py:1546: RuntimeWarning: overflow encountered in multiply\n",
      "  sqr = np.multiply(arr, arr, out=arr)\n"
     ]
    },
    {
     "name": "stdout",
     "output_type": "stream",
     "text": [
      "Stocks atvi_ni\n",
      "Prediction = 0.46114384571428707\n",
      "atvi_ni pct change 7-day corr of close from 2020-04-24 00:00:00 to 2020-05-01 00:00:00 is =  -0.05758226576823533\n"
     ]
    },
    {
     "name": "stderr",
     "output_type": "stream",
     "text": [
      "/Users/jonathanhilgart/Library/Caches/pypoetry/virtualenvs/daily-trading-nJ43NNNI-py3.7/lib/python3.7/site-packages/numpy/lib/nanfunctions.py:1546: RuntimeWarning: overflow encountered in multiply\n",
      "  sqr = np.multiply(arr, arr, out=arr)\n"
     ]
    },
    {
     "name": "stdout",
     "output_type": "stream",
     "text": [
      "Stocks ce_cern\n",
      "Prediction = 0.6279378199999981\n",
      "ce_cern pct change 7-day corr of close from 2020-04-24 00:00:00 to 2020-05-01 00:00:00 is =  -0.2507513274230714\n"
     ]
    },
    {
     "name": "stderr",
     "output_type": "stream",
     "text": [
      "/Users/jonathanhilgart/Library/Caches/pypoetry/virtualenvs/daily-trading-nJ43NNNI-py3.7/lib/python3.7/site-packages/numpy/lib/nanfunctions.py:1546: RuntimeWarning: overflow encountered in multiply\n",
      "  sqr = np.multiply(arr, arr, out=arr)\n"
     ]
    },
    {
     "name": "stdout",
     "output_type": "stream",
     "text": [
      "Stocks ce_peg\n",
      "Prediction = 0.2376172716666675\n",
      "ce_peg pct change 7-day corr of close from 2020-04-24 00:00:00 to 2020-05-01 00:00:00 is =  -0.028539596944098133\n"
     ]
    },
    {
     "name": "stderr",
     "output_type": "stream",
     "text": [
      "/Users/jonathanhilgart/Library/Caches/pypoetry/virtualenvs/daily-trading-nJ43NNNI-py3.7/lib/python3.7/site-packages/numpy/lib/nanfunctions.py:1546: RuntimeWarning: overflow encountered in multiply\n",
      "  sqr = np.multiply(arr, arr, out=arr)\n"
     ]
    },
    {
     "name": "stdout",
     "output_type": "stream",
     "text": [
      "Stocks ce_adbe\n",
      "Prediction = 0.3315532103781215\n",
      "ce_adbe pct change 7-day corr of close from 2020-04-24 00:00:00 to 2020-05-01 00:00:00 is =  -0.028515140196253785\n"
     ]
    },
    {
     "name": "stderr",
     "output_type": "stream",
     "text": [
      "/Users/jonathanhilgart/Library/Caches/pypoetry/virtualenvs/daily-trading-nJ43NNNI-py3.7/lib/python3.7/site-packages/numpy/lib/nanfunctions.py:1546: RuntimeWarning: overflow encountered in multiply\n",
      "  sqr = np.multiply(arr, arr, out=arr)\n"
     ]
    },
    {
     "name": "stdout",
     "output_type": "stream",
     "text": [
      "Stocks ce_rop\n",
      "Prediction = 0.2994361424999995\n",
      "ce_rop pct change 7-day corr of close from 2020-04-24 00:00:00 to 2020-05-01 00:00:00 is =  0.273356477642404\n"
     ]
    },
    {
     "name": "stderr",
     "output_type": "stream",
     "text": [
      "/Users/jonathanhilgart/Library/Caches/pypoetry/virtualenvs/daily-trading-nJ43NNNI-py3.7/lib/python3.7/site-packages/numpy/lib/nanfunctions.py:1546: RuntimeWarning: overflow encountered in multiply\n",
      "  sqr = np.multiply(arr, arr, out=arr)\n"
     ]
    },
    {
     "name": "stdout",
     "output_type": "stream",
     "text": [
      "Stocks ce_are\n",
      "Prediction = 0.13863538999999975\n",
      "ce_are pct change 7-day corr of close from 2020-04-24 00:00:00 to 2020-05-01 00:00:00 is =  0.3171382832169469\n"
     ]
    },
    {
     "name": "stderr",
     "output_type": "stream",
     "text": [
      "/Users/jonathanhilgart/Library/Caches/pypoetry/virtualenvs/daily-trading-nJ43NNNI-py3.7/lib/python3.7/site-packages/numpy/lib/nanfunctions.py:1546: RuntimeWarning: overflow encountered in multiply\n",
      "  sqr = np.multiply(arr, arr, out=arr)\n"
     ]
    },
    {
     "name": "stdout",
     "output_type": "stream",
     "text": [
      "Stocks ce_pg\n",
      "Prediction = 0.04973675499999994\n",
      "ce_pg pct change 7-day corr of close from 2020-04-24 00:00:00 to 2020-05-01 00:00:00 is =  0.6566217566532304\n"
     ]
    },
    {
     "name": "stderr",
     "output_type": "stream",
     "text": [
      "/Users/jonathanhilgart/Library/Caches/pypoetry/virtualenvs/daily-trading-nJ43NNNI-py3.7/lib/python3.7/site-packages/numpy/lib/nanfunctions.py:1546: RuntimeWarning: overflow encountered in multiply\n",
      "  sqr = np.multiply(arr, arr, out=arr)\n"
     ]
    },
    {
     "name": "stdout",
     "output_type": "stream",
     "text": [
      "Stocks ce_pvh\n",
      "Prediction = 0.5107535070000012\n",
      "ce_pvh pct change 7-day corr of close from 2020-04-24 00:00:00 to 2020-05-01 00:00:00 is =  -0.02821162294679369\n"
     ]
    },
    {
     "name": "stderr",
     "output_type": "stream",
     "text": [
      "/Users/jonathanhilgart/Library/Caches/pypoetry/virtualenvs/daily-trading-nJ43NNNI-py3.7/lib/python3.7/site-packages/numpy/lib/nanfunctions.py:1546: RuntimeWarning: overflow encountered in multiply\n",
      "  sqr = np.multiply(arr, arr, out=arr)\n"
     ]
    },
    {
     "name": "stdout",
     "output_type": "stream",
     "text": [
      "Stocks ce_lb\n",
      "Prediction = -0.14027576999999977\n",
      "ce_lb pct change 7-day corr of close from 2020-04-24 00:00:00 to 2020-05-01 00:00:00 is =  -0.2406032373321797\n"
     ]
    },
    {
     "name": "stderr",
     "output_type": "stream",
     "text": [
      "/Users/jonathanhilgart/Library/Caches/pypoetry/virtualenvs/daily-trading-nJ43NNNI-py3.7/lib/python3.7/site-packages/numpy/lib/nanfunctions.py:1546: RuntimeWarning: overflow encountered in multiply\n",
      "  sqr = np.multiply(arr, arr, out=arr)\n"
     ]
    },
    {
     "name": "stdout",
     "output_type": "stream",
     "text": [
      "Stocks ce_vno\n",
      "Prediction = 0.16427665583333284\n",
      "ce_vno pct change 7-day corr of close from 2020-04-24 00:00:00 to 2020-05-01 00:00:00 is =  0.3699082359056425\n"
     ]
    },
    {
     "name": "stderr",
     "output_type": "stream",
     "text": [
      "/Users/jonathanhilgart/Library/Caches/pypoetry/virtualenvs/daily-trading-nJ43NNNI-py3.7/lib/python3.7/site-packages/numpy/lib/nanfunctions.py:1546: RuntimeWarning: overflow encountered in multiply\n",
      "  sqr = np.multiply(arr, arr, out=arr)\n"
     ]
    },
    {
     "name": "stdout",
     "output_type": "stream",
     "text": [
      "Stocks ce_ual\n",
      "Prediction = -0.2233633999999994\n",
      "ce_ual pct change 7-day corr of close from 2020-04-24 00:00:00 to 2020-05-01 00:00:00 is =  -0.43384078028206285\n"
     ]
    },
    {
     "name": "stderr",
     "output_type": "stream",
     "text": [
      "/Users/jonathanhilgart/Library/Caches/pypoetry/virtualenvs/daily-trading-nJ43NNNI-py3.7/lib/python3.7/site-packages/numpy/lib/nanfunctions.py:1546: RuntimeWarning: overflow encountered in multiply\n",
      "  sqr = np.multiply(arr, arr, out=arr)\n"
     ]
    },
    {
     "name": "stdout",
     "output_type": "stream",
     "text": [
      "Stocks ce_efx\n",
      "Prediction = 0.47156907499999984\n",
      "ce_efx pct change 7-day corr of close from 2020-04-24 00:00:00 to 2020-05-01 00:00:00 is =  -0.1485602122600207\n"
     ]
    },
    {
     "name": "stderr",
     "output_type": "stream",
     "text": [
      "/Users/jonathanhilgart/Library/Caches/pypoetry/virtualenvs/daily-trading-nJ43NNNI-py3.7/lib/python3.7/site-packages/numpy/lib/nanfunctions.py:1546: RuntimeWarning: overflow encountered in multiply\n",
      "  sqr = np.multiply(arr, arr, out=arr)\n"
     ]
    },
    {
     "name": "stdout",
     "output_type": "stream",
     "text": [
      "Stocks ce_ph\n",
      "Prediction = 0.7577104962499994\n",
      "ce_ph pct change 7-day corr of close from 2020-04-24 00:00:00 to 2020-05-01 00:00:00 is =  -0.09932221726277224\n"
     ]
    },
    {
     "name": "stderr",
     "output_type": "stream",
     "text": [
      "/Users/jonathanhilgart/Library/Caches/pypoetry/virtualenvs/daily-trading-nJ43NNNI-py3.7/lib/python3.7/site-packages/numpy/lib/nanfunctions.py:1546: RuntimeWarning: overflow encountered in multiply\n",
      "  sqr = np.multiply(arr, arr, out=arr)\n"
     ]
    },
    {
     "name": "stdout",
     "output_type": "stream",
     "text": [
      "Stocks ce_pnr\n",
      "Prediction = 0.6394122950000013\n",
      "ce_pnr pct change 7-day corr of close from 2020-04-24 00:00:00 to 2020-05-01 00:00:00 is =  -0.08445596051523596\n"
     ]
    },
    {
     "name": "stderr",
     "output_type": "stream",
     "text": [
      "/Users/jonathanhilgart/Library/Caches/pypoetry/virtualenvs/daily-trading-nJ43NNNI-py3.7/lib/python3.7/site-packages/numpy/lib/nanfunctions.py:1546: RuntimeWarning: overflow encountered in multiply\n",
      "  sqr = np.multiply(arr, arr, out=arr)\n"
     ]
    },
    {
     "name": "stdout",
     "output_type": "stream",
     "text": [
      "Stocks ce_bac\n",
      "Prediction = 0.666860249999998\n",
      "ce_bac pct change 7-day corr of close from 2020-04-24 00:00:00 to 2020-05-01 00:00:00 is =  0.01503271008121665\n"
     ]
    },
    {
     "name": "stderr",
     "output_type": "stream",
     "text": [
      "/Users/jonathanhilgart/Library/Caches/pypoetry/virtualenvs/daily-trading-nJ43NNNI-py3.7/lib/python3.7/site-packages/numpy/lib/nanfunctions.py:1546: RuntimeWarning: overflow encountered in multiply\n",
      "  sqr = np.multiply(arr, arr, out=arr)\n"
     ]
    },
    {
     "name": "stdout",
     "output_type": "stream",
     "text": [
      "Stocks ce_ni\n",
      "Prediction = 0.4711204891666677\n",
      "ce_ni pct change 7-day corr of close from 2020-04-24 00:00:00 to 2020-05-01 00:00:00 is =  -0.017958858274826794\n"
     ]
    },
    {
     "name": "stderr",
     "output_type": "stream",
     "text": [
      "/Users/jonathanhilgart/Library/Caches/pypoetry/virtualenvs/daily-trading-nJ43NNNI-py3.7/lib/python3.7/site-packages/numpy/lib/nanfunctions.py:1546: RuntimeWarning: overflow encountered in multiply\n",
      "  sqr = np.multiply(arr, arr, out=arr)\n"
     ]
    },
    {
     "name": "stdout",
     "output_type": "stream",
     "text": [
      "Stocks cern_peg\n",
      "Prediction = 0.05569212500000007\n",
      "cern_peg pct change 7-day corr of close from 2020-04-24 00:00:00 to 2020-05-01 00:00:00 is =  -1.7641410087538771\n"
     ]
    },
    {
     "name": "stderr",
     "output_type": "stream",
     "text": [
      "/Users/jonathanhilgart/Library/Caches/pypoetry/virtualenvs/daily-trading-nJ43NNNI-py3.7/lib/python3.7/site-packages/numpy/lib/nanfunctions.py:1546: RuntimeWarning: overflow encountered in multiply\n",
      "  sqr = np.multiply(arr, arr, out=arr)\n"
     ]
    },
    {
     "name": "stdout",
     "output_type": "stream",
     "text": [
      "Stocks cern_adbe\n",
      "Prediction = 0.3742160050000008\n",
      "cern_adbe pct change 7-day corr of close from 2020-04-24 00:00:00 to 2020-05-01 00:00:00 is =  0.12237303360676877\n"
     ]
    },
    {
     "name": "stderr",
     "output_type": "stream",
     "text": [
      "/Users/jonathanhilgart/Library/Caches/pypoetry/virtualenvs/daily-trading-nJ43NNNI-py3.7/lib/python3.7/site-packages/numpy/lib/nanfunctions.py:1546: RuntimeWarning: overflow encountered in multiply\n",
      "  sqr = np.multiply(arr, arr, out=arr)\n"
     ]
    },
    {
     "name": "stdout",
     "output_type": "stream",
     "text": [
      "Stocks cern_rop\n",
      "Prediction = -0.09543519750000012\n",
      "cern_rop pct change 7-day corr of close from 2020-04-24 00:00:00 to 2020-05-01 00:00:00 is =  -0.48462993714156044\n"
     ]
    },
    {
     "name": "stderr",
     "output_type": "stream",
     "text": [
      "/Users/jonathanhilgart/Library/Caches/pypoetry/virtualenvs/daily-trading-nJ43NNNI-py3.7/lib/python3.7/site-packages/numpy/lib/nanfunctions.py:1546: RuntimeWarning: overflow encountered in multiply\n",
      "  sqr = np.multiply(arr, arr, out=arr)\n"
     ]
    },
    {
     "name": "stdout",
     "output_type": "stream",
     "text": [
      "Stocks cern_are\n",
      "Prediction = -0.0011285850000000409\n",
      "cern_are pct change 7-day corr of close from 2020-04-24 00:00:00 to 2020-05-01 00:00:00 is =  -0.9916245389576172\n"
     ]
    },
    {
     "name": "stderr",
     "output_type": "stream",
     "text": [
      "/Users/jonathanhilgart/Library/Caches/pypoetry/virtualenvs/daily-trading-nJ43NNNI-py3.7/lib/python3.7/site-packages/numpy/lib/nanfunctions.py:1546: RuntimeWarning: overflow encountered in multiply\n",
      "  sqr = np.multiply(arr, arr, out=arr)\n"
     ]
    },
    {
     "name": "stdout",
     "output_type": "stream",
     "text": [
      "Stocks cern_pg\n",
      "Prediction = -0.20800461999999936\n",
      "cern_pg pct change 7-day corr of close from 2020-04-24 00:00:00 to 2020-05-01 00:00:00 is =  -0.48639185949178776\n"
     ]
    },
    {
     "name": "stderr",
     "output_type": "stream",
     "text": [
      "/Users/jonathanhilgart/Library/Caches/pypoetry/virtualenvs/daily-trading-nJ43NNNI-py3.7/lib/python3.7/site-packages/numpy/lib/nanfunctions.py:1546: RuntimeWarning: overflow encountered in multiply\n",
      "  sqr = np.multiply(arr, arr, out=arr)\n"
     ]
    },
    {
     "name": "stdout",
     "output_type": "stream",
     "text": [
      "Stocks cern_pvh\n",
      "Prediction = 0.17856621000000028\n",
      "cern_pvh pct change 7-day corr of close from 2020-04-24 00:00:00 to 2020-05-01 00:00:00 is =  0.3694462892946728\n"
     ]
    },
    {
     "name": "stderr",
     "output_type": "stream",
     "text": [
      "/Users/jonathanhilgart/Library/Caches/pypoetry/virtualenvs/daily-trading-nJ43NNNI-py3.7/lib/python3.7/site-packages/numpy/lib/nanfunctions.py:1546: RuntimeWarning: overflow encountered in multiply\n",
      "  sqr = np.multiply(arr, arr, out=arr)\n"
     ]
    },
    {
     "name": "stdout",
     "output_type": "stream",
     "text": [
      "Stocks cern_lb\n",
      "Prediction = -0.46241055000000075\n",
      "cern_lb pct change 7-day corr of close from 2020-04-24 00:00:00 to 2020-05-01 00:00:00 is =  -0.2465030162004661\n"
     ]
    },
    {
     "name": "stderr",
     "output_type": "stream",
     "text": [
      "/Users/jonathanhilgart/Library/Caches/pypoetry/virtualenvs/daily-trading-nJ43NNNI-py3.7/lib/python3.7/site-packages/numpy/lib/nanfunctions.py:1546: RuntimeWarning: overflow encountered in multiply\n",
      "  sqr = np.multiply(arr, arr, out=arr)\n"
     ]
    },
    {
     "name": "stdout",
     "output_type": "stream",
     "text": [
      "Stocks cern_vno\n",
      "Prediction = -0.08716199499999976\n",
      "cern_vno pct change 7-day corr of close from 2020-04-24 00:00:00 to 2020-05-01 00:00:00 is =  -0.5001978577121802\n"
     ]
    },
    {
     "name": "stderr",
     "output_type": "stream",
     "text": [
      "/Users/jonathanhilgart/Library/Caches/pypoetry/virtualenvs/daily-trading-nJ43NNNI-py3.7/lib/python3.7/site-packages/numpy/lib/nanfunctions.py:1546: RuntimeWarning: overflow encountered in multiply\n",
      "  sqr = np.multiply(arr, arr, out=arr)\n"
     ]
    },
    {
     "name": "stdout",
     "output_type": "stream",
     "text": [
      "Stocks cern_ual\n",
      "Prediction = -0.3813038275000001\n",
      "cern_ual pct change 7-day corr of close from 2020-04-24 00:00:00 to 2020-05-01 00:00:00 is =  -0.49506748587712757\n"
     ]
    },
    {
     "name": "stderr",
     "output_type": "stream",
     "text": [
      "/Users/jonathanhilgart/Library/Caches/pypoetry/virtualenvs/daily-trading-nJ43NNNI-py3.7/lib/python3.7/site-packages/numpy/lib/nanfunctions.py:1546: RuntimeWarning: overflow encountered in multiply\n",
      "  sqr = np.multiply(arr, arr, out=arr)\n"
     ]
    },
    {
     "name": "stdout",
     "output_type": "stream",
     "text": [
      "Stocks cern_efx\n",
      "Prediction = 0.5715341449999991\n",
      "cern_efx pct change 7-day corr of close from 2020-04-24 00:00:00 to 2020-05-01 00:00:00 is =  -0.05986694992343011\n"
     ]
    },
    {
     "name": "stderr",
     "output_type": "stream",
     "text": [
      "/Users/jonathanhilgart/Library/Caches/pypoetry/virtualenvs/daily-trading-nJ43NNNI-py3.7/lib/python3.7/site-packages/numpy/lib/nanfunctions.py:1546: RuntimeWarning: overflow encountered in multiply\n",
      "  sqr = np.multiply(arr, arr, out=arr)\n"
     ]
    },
    {
     "name": "stdout",
     "output_type": "stream",
     "text": [
      "Stocks cern_ph\n",
      "Prediction = 0.4274620833333339\n",
      "cern_ph pct change 7-day corr of close from 2020-04-24 00:00:00 to 2020-05-01 00:00:00 is =  -0.2050175128634295\n"
     ]
    },
    {
     "name": "stderr",
     "output_type": "stream",
     "text": [
      "/Users/jonathanhilgart/Library/Caches/pypoetry/virtualenvs/daily-trading-nJ43NNNI-py3.7/lib/python3.7/site-packages/numpy/lib/nanfunctions.py:1546: RuntimeWarning: overflow encountered in multiply\n",
      "  sqr = np.multiply(arr, arr, out=arr)\n"
     ]
    },
    {
     "name": "stdout",
     "output_type": "stream",
     "text": [
      "Stocks cern_pnr\n",
      "Prediction = 0.45950357499999916\n",
      "cern_pnr pct change 7-day corr of close from 2020-04-24 00:00:00 to 2020-05-01 00:00:00 is =  -0.19570325969568392\n"
     ]
    },
    {
     "name": "stderr",
     "output_type": "stream",
     "text": [
      "/Users/jonathanhilgart/Library/Caches/pypoetry/virtualenvs/daily-trading-nJ43NNNI-py3.7/lib/python3.7/site-packages/numpy/lib/nanfunctions.py:1546: RuntimeWarning: overflow encountered in multiply\n",
      "  sqr = np.multiply(arr, arr, out=arr)\n"
     ]
    },
    {
     "name": "stdout",
     "output_type": "stream",
     "text": [
      "Stocks cern_bac\n",
      "Prediction = 0.26165834500000046\n",
      "cern_bac pct change 7-day corr of close from 2020-04-24 00:00:00 to 2020-05-01 00:00:00 is =  0.020309397543382568\n"
     ]
    },
    {
     "name": "stderr",
     "output_type": "stream",
     "text": [
      "/Users/jonathanhilgart/Library/Caches/pypoetry/virtualenvs/daily-trading-nJ43NNNI-py3.7/lib/python3.7/site-packages/numpy/lib/nanfunctions.py:1546: RuntimeWarning: overflow encountered in multiply\n",
      "  sqr = np.multiply(arr, arr, out=arr)\n"
     ]
    },
    {
     "name": "stdout",
     "output_type": "stream",
     "text": [
      "Stocks cern_ni\n",
      "Prediction = 0.4041631950000012\n",
      "cern_ni pct change 7-day corr of close from 2020-04-24 00:00:00 to 2020-05-01 00:00:00 is =  0.14712524160794138\n"
     ]
    },
    {
     "name": "stderr",
     "output_type": "stream",
     "text": [
      "/Users/jonathanhilgart/Library/Caches/pypoetry/virtualenvs/daily-trading-nJ43NNNI-py3.7/lib/python3.7/site-packages/numpy/lib/nanfunctions.py:1546: RuntimeWarning: overflow encountered in multiply\n",
      "  sqr = np.multiply(arr, arr, out=arr)\n"
     ]
    },
    {
     "name": "stdout",
     "output_type": "stream",
     "text": [
      "Stocks peg_adbe\n",
      "Prediction = 0.6401821650000009\n",
      "peg_adbe pct change 7-day corr of close from 2020-04-24 00:00:00 to 2020-05-01 00:00:00 is =  -0.10423942883528159\n"
     ]
    },
    {
     "name": "stderr",
     "output_type": "stream",
     "text": [
      "/Users/jonathanhilgart/Library/Caches/pypoetry/virtualenvs/daily-trading-nJ43NNNI-py3.7/lib/python3.7/site-packages/numpy/lib/nanfunctions.py:1546: RuntimeWarning: overflow encountered in multiply\n",
      "  sqr = np.multiply(arr, arr, out=arr)\n"
     ]
    },
    {
     "name": "stdout",
     "output_type": "stream",
     "text": [
      "Stocks peg_rop\n",
      "Prediction = 0.5739525850000017\n",
      "peg_rop pct change 7-day corr of close from 2020-04-24 00:00:00 to 2020-05-01 00:00:00 is =  -0.04822832301885516\n"
     ]
    },
    {
     "name": "stderr",
     "output_type": "stream",
     "text": [
      "/Users/jonathanhilgart/Library/Caches/pypoetry/virtualenvs/daily-trading-nJ43NNNI-py3.7/lib/python3.7/site-packages/numpy/lib/nanfunctions.py:1546: RuntimeWarning: overflow encountered in multiply\n",
      "  sqr = np.multiply(arr, arr, out=arr)\n"
     ]
    },
    {
     "name": "stdout",
     "output_type": "stream",
     "text": [
      "Stocks peg_are\n",
      "Prediction = 0.8003766286250013\n",
      "peg_are pct change 7-day corr of close from 2020-04-24 00:00:00 to 2020-05-01 00:00:00 is =  -0.17148964525906063\n"
     ]
    },
    {
     "name": "stderr",
     "output_type": "stream",
     "text": [
      "/Users/jonathanhilgart/Library/Caches/pypoetry/virtualenvs/daily-trading-nJ43NNNI-py3.7/lib/python3.7/site-packages/numpy/lib/nanfunctions.py:1546: RuntimeWarning: overflow encountered in multiply\n",
      "  sqr = np.multiply(arr, arr, out=arr)\n"
     ]
    },
    {
     "name": "stdout",
     "output_type": "stream",
     "text": [
      "Stocks peg_pg\n",
      "Prediction = 0.7980078349999995\n",
      "peg_pg pct change 7-day corr of close from 2020-04-24 00:00:00 to 2020-05-01 00:00:00 is =  -0.1256126841893046\n"
     ]
    },
    {
     "name": "stderr",
     "output_type": "stream",
     "text": [
      "/Users/jonathanhilgart/Library/Caches/pypoetry/virtualenvs/daily-trading-nJ43NNNI-py3.7/lib/python3.7/site-packages/numpy/lib/nanfunctions.py:1546: RuntimeWarning: overflow encountered in multiply\n",
      "  sqr = np.multiply(arr, arr, out=arr)\n"
     ]
    },
    {
     "name": "stdout",
     "output_type": "stream",
     "text": [
      "Stocks peg_pvh\n",
      "Prediction = 0.7551129499999982\n",
      "peg_pvh pct change 7-day corr of close from 2020-04-24 00:00:00 to 2020-05-01 00:00:00 is =  -0.163792481016501\n"
     ]
    },
    {
     "name": "stderr",
     "output_type": "stream",
     "text": [
      "/Users/jonathanhilgart/Library/Caches/pypoetry/virtualenvs/daily-trading-nJ43NNNI-py3.7/lib/python3.7/site-packages/numpy/lib/nanfunctions.py:1546: RuntimeWarning: overflow encountered in multiply\n",
      "  sqr = np.multiply(arr, arr, out=arr)\n"
     ]
    },
    {
     "name": "stdout",
     "output_type": "stream",
     "text": [
      "Stocks peg_lb\n",
      "Prediction = 0.6519355649999988\n",
      "peg_lb pct change 7-day corr of close from 2020-04-24 00:00:00 to 2020-05-01 00:00:00 is =  -0.07470039754913471\n"
     ]
    },
    {
     "name": "stderr",
     "output_type": "stream",
     "text": [
      "/Users/jonathanhilgart/Library/Caches/pypoetry/virtualenvs/daily-trading-nJ43NNNI-py3.7/lib/python3.7/site-packages/numpy/lib/nanfunctions.py:1546: RuntimeWarning: overflow encountered in multiply\n",
      "  sqr = np.multiply(arr, arr, out=arr)\n"
     ]
    },
    {
     "name": "stdout",
     "output_type": "stream",
     "text": [
      "Stocks peg_vno\n",
      "Prediction = 0.8122599100000015\n",
      "peg_vno pct change 7-day corr of close from 2020-04-24 00:00:00 to 2020-05-01 00:00:00 is =  -0.14101109348561602\n"
     ]
    },
    {
     "name": "stderr",
     "output_type": "stream",
     "text": [
      "/Users/jonathanhilgart/Library/Caches/pypoetry/virtualenvs/daily-trading-nJ43NNNI-py3.7/lib/python3.7/site-packages/numpy/lib/nanfunctions.py:1546: RuntimeWarning: overflow encountered in multiply\n",
      "  sqr = np.multiply(arr, arr, out=arr)\n"
     ]
    },
    {
     "name": "stdout",
     "output_type": "stream",
     "text": [
      "Stocks peg_ual\n",
      "Prediction = 0.6056308012500016\n",
      "peg_ual pct change 7-day corr of close from 2020-04-24 00:00:00 to 2020-05-01 00:00:00 is =  -0.04724697127727606\n"
     ]
    },
    {
     "name": "stderr",
     "output_type": "stream",
     "text": [
      "/Users/jonathanhilgart/Library/Caches/pypoetry/virtualenvs/daily-trading-nJ43NNNI-py3.7/lib/python3.7/site-packages/numpy/lib/nanfunctions.py:1546: RuntimeWarning: overflow encountered in multiply\n",
      "  sqr = np.multiply(arr, arr, out=arr)\n"
     ]
    },
    {
     "name": "stdout",
     "output_type": "stream",
     "text": [
      "Stocks peg_efx\n",
      "Prediction = -0.30721160499999955\n",
      "peg_efx pct change 7-day corr of close from 2020-04-24 00:00:00 to 2020-05-01 00:00:00 is =  -0.281685531841267\n"
     ]
    },
    {
     "name": "stderr",
     "output_type": "stream",
     "text": [
      "/Users/jonathanhilgart/Library/Caches/pypoetry/virtualenvs/daily-trading-nJ43NNNI-py3.7/lib/python3.7/site-packages/numpy/lib/nanfunctions.py:1546: RuntimeWarning: overflow encountered in multiply\n",
      "  sqr = np.multiply(arr, arr, out=arr)\n"
     ]
    },
    {
     "name": "stdout",
     "output_type": "stream",
     "text": [
      "Stocks peg_ph\n",
      "Prediction = 0.5019119161553024\n",
      "peg_ph pct change 7-day corr of close from 2020-04-24 00:00:00 to 2020-05-01 00:00:00 is =  0.007733839608284887\n"
     ]
    },
    {
     "name": "stderr",
     "output_type": "stream",
     "text": [
      "/Users/jonathanhilgart/Library/Caches/pypoetry/virtualenvs/daily-trading-nJ43NNNI-py3.7/lib/python3.7/site-packages/numpy/lib/nanfunctions.py:1546: RuntimeWarning: overflow encountered in multiply\n",
      "  sqr = np.multiply(arr, arr, out=arr)\n"
     ]
    },
    {
     "name": "stdout",
     "output_type": "stream",
     "text": [
      "Stocks peg_pnr\n",
      "Prediction = 0.5732924149999981\n",
      "peg_pnr pct change 7-day corr of close from 2020-04-24 00:00:00 to 2020-05-01 00:00:00 is =  -0.13645824954623453\n"
     ]
    },
    {
     "name": "stderr",
     "output_type": "stream",
     "text": [
      "/Users/jonathanhilgart/Library/Caches/pypoetry/virtualenvs/daily-trading-nJ43NNNI-py3.7/lib/python3.7/site-packages/numpy/lib/nanfunctions.py:1546: RuntimeWarning: overflow encountered in multiply\n",
      "  sqr = np.multiply(arr, arr, out=arr)\n"
     ]
    },
    {
     "name": "stdout",
     "output_type": "stream",
     "text": [
      "Stocks peg_bac\n",
      "Prediction = 0.7545537524999985\n",
      "peg_bac pct change 7-day corr of close from 2020-04-24 00:00:00 to 2020-05-01 00:00:00 is =  -0.020896749920199964\n"
     ]
    },
    {
     "name": "stderr",
     "output_type": "stream",
     "text": [
      "/Users/jonathanhilgart/Library/Caches/pypoetry/virtualenvs/daily-trading-nJ43NNNI-py3.7/lib/python3.7/site-packages/numpy/lib/nanfunctions.py:1546: RuntimeWarning: overflow encountered in multiply\n",
      "  sqr = np.multiply(arr, arr, out=arr)\n"
     ]
    },
    {
     "name": "stdout",
     "output_type": "stream",
     "text": [
      "Stocks peg_ni\n",
      "Prediction = 0.6790470217261896\n",
      "peg_ni pct change 7-day corr of close from 2020-04-24 00:00:00 to 2020-05-01 00:00:00 is =  -0.029186686730387712\n"
     ]
    },
    {
     "name": "stderr",
     "output_type": "stream",
     "text": [
      "/Users/jonathanhilgart/Library/Caches/pypoetry/virtualenvs/daily-trading-nJ43NNNI-py3.7/lib/python3.7/site-packages/numpy/lib/nanfunctions.py:1546: RuntimeWarning: overflow encountered in multiply\n",
      "  sqr = np.multiply(arr, arr, out=arr)\n"
     ]
    },
    {
     "name": "stdout",
     "output_type": "stream",
     "text": [
      "Stocks adbe_rop\n",
      "Prediction = 0.348883475\n",
      "adbe_rop pct change 7-day corr of close from 2020-04-24 00:00:00 to 2020-05-01 00:00:00 is =  0.1674278395706179\n"
     ]
    },
    {
     "name": "stderr",
     "output_type": "stream",
     "text": [
      "/Users/jonathanhilgart/Library/Caches/pypoetry/virtualenvs/daily-trading-nJ43NNNI-py3.7/lib/python3.7/site-packages/numpy/lib/nanfunctions.py:1546: RuntimeWarning: overflow encountered in multiply\n",
      "  sqr = np.multiply(arr, arr, out=arr)\n"
     ]
    },
    {
     "name": "stdout",
     "output_type": "stream",
     "text": [
      "Stocks adbe_are\n",
      "Prediction = 0.6212923612500022\n",
      "adbe_are pct change 7-day corr of close from 2020-04-24 00:00:00 to 2020-05-01 00:00:00 is =  -0.10488729012208398\n"
     ]
    },
    {
     "name": "stderr",
     "output_type": "stream",
     "text": [
      "/Users/jonathanhilgart/Library/Caches/pypoetry/virtualenvs/daily-trading-nJ43NNNI-py3.7/lib/python3.7/site-packages/numpy/lib/nanfunctions.py:1546: RuntimeWarning: overflow encountered in multiply\n",
      "  sqr = np.multiply(arr, arr, out=arr)\n"
     ]
    },
    {
     "name": "stdout",
     "output_type": "stream",
     "text": [
      "Stocks adbe_pg\n",
      "Prediction = 0.43785611750000053\n",
      "adbe_pg pct change 7-day corr of close from 2020-04-24 00:00:00 to 2020-05-01 00:00:00 is =  0.021329278163430443\n"
     ]
    },
    {
     "name": "stderr",
     "output_type": "stream",
     "text": [
      "/Users/jonathanhilgart/Library/Caches/pypoetry/virtualenvs/daily-trading-nJ43NNNI-py3.7/lib/python3.7/site-packages/numpy/lib/nanfunctions.py:1546: RuntimeWarning: overflow encountered in multiply\n",
      "  sqr = np.multiply(arr, arr, out=arr)\n"
     ]
    },
    {
     "name": "stdout",
     "output_type": "stream",
     "text": [
      "Stocks adbe_pvh\n",
      "Prediction = 0.5964366400000003\n",
      "adbe_pvh pct change 7-day corr of close from 2020-04-24 00:00:00 to 2020-05-01 00:00:00 is =  -0.028259805598730092\n"
     ]
    },
    {
     "name": "stderr",
     "output_type": "stream",
     "text": [
      "/Users/jonathanhilgart/Library/Caches/pypoetry/virtualenvs/daily-trading-nJ43NNNI-py3.7/lib/python3.7/site-packages/numpy/lib/nanfunctions.py:1546: RuntimeWarning: overflow encountered in multiply\n",
      "  sqr = np.multiply(arr, arr, out=arr)\n"
     ]
    },
    {
     "name": "stdout",
     "output_type": "stream",
     "text": [
      "Stocks adbe_lb\n",
      "Prediction = 0.2696027133333336\n",
      "adbe_lb pct change 7-day corr of close from 2020-04-24 00:00:00 to 2020-05-01 00:00:00 is =  -0.08210978709882344\n"
     ]
    },
    {
     "name": "stderr",
     "output_type": "stream",
     "text": [
      "/Users/jonathanhilgart/Library/Caches/pypoetry/virtualenvs/daily-trading-nJ43NNNI-py3.7/lib/python3.7/site-packages/numpy/lib/nanfunctions.py:1546: RuntimeWarning: overflow encountered in multiply\n",
      "  sqr = np.multiply(arr, arr, out=arr)\n"
     ]
    },
    {
     "name": "stdout",
     "output_type": "stream",
     "text": [
      "Stocks adbe_vno\n",
      "Prediction = 0.6148896812500021\n",
      "adbe_vno pct change 7-day corr of close from 2020-04-24 00:00:00 to 2020-05-01 00:00:00 is =  -0.09716314289112027\n"
     ]
    },
    {
     "name": "stderr",
     "output_type": "stream",
     "text": [
      "/Users/jonathanhilgart/Library/Caches/pypoetry/virtualenvs/daily-trading-nJ43NNNI-py3.7/lib/python3.7/site-packages/numpy/lib/nanfunctions.py:1546: RuntimeWarning: overflow encountered in multiply\n",
      "  sqr = np.multiply(arr, arr, out=arr)\n"
     ]
    },
    {
     "name": "stdout",
     "output_type": "stream",
     "text": [
      "Stocks adbe_ual\n",
      "Prediction = 0.24561088904545425\n",
      "adbe_ual pct change 7-day corr of close from 2020-04-24 00:00:00 to 2020-05-01 00:00:00 is =  0.2365495405709941\n"
     ]
    },
    {
     "name": "stderr",
     "output_type": "stream",
     "text": [
      "/Users/jonathanhilgart/Library/Caches/pypoetry/virtualenvs/daily-trading-nJ43NNNI-py3.7/lib/python3.7/site-packages/numpy/lib/nanfunctions.py:1546: RuntimeWarning: overflow encountered in multiply\n",
      "  sqr = np.multiply(arr, arr, out=arr)\n"
     ]
    },
    {
     "name": "stdout",
     "output_type": "stream",
     "text": [
      "Stocks adbe_efx\n",
      "Prediction = -0.2340051966666659\n",
      "adbe_efx pct change 7-day corr of close from 2020-04-24 00:00:00 to 2020-05-01 00:00:00 is =  -0.4992752562591003\n"
     ]
    },
    {
     "name": "stderr",
     "output_type": "stream",
     "text": [
      "/Users/jonathanhilgart/Library/Caches/pypoetry/virtualenvs/daily-trading-nJ43NNNI-py3.7/lib/python3.7/site-packages/numpy/lib/nanfunctions.py:1546: RuntimeWarning: overflow encountered in multiply\n",
      "  sqr = np.multiply(arr, arr, out=arr)\n"
     ]
    },
    {
     "name": "stdout",
     "output_type": "stream",
     "text": [
      "Stocks adbe_ph\n",
      "Prediction = 0.37644949823412793\n",
      "adbe_ph pct change 7-day corr of close from 2020-04-24 00:00:00 to 2020-05-01 00:00:00 is =  0.06016727891667606\n"
     ]
    },
    {
     "name": "stderr",
     "output_type": "stream",
     "text": [
      "/Users/jonathanhilgart/Library/Caches/pypoetry/virtualenvs/daily-trading-nJ43NNNI-py3.7/lib/python3.7/site-packages/numpy/lib/nanfunctions.py:1546: RuntimeWarning: overflow encountered in multiply\n",
      "  sqr = np.multiply(arr, arr, out=arr)\n"
     ]
    },
    {
     "name": "stdout",
     "output_type": "stream",
     "text": [
      "Stocks adbe_pnr\n",
      "Prediction = 0.7804523994444443\n",
      "adbe_pnr pct change 7-day corr of close from 2020-04-24 00:00:00 to 2020-05-01 00:00:00 is =  -0.12955586300855848\n"
     ]
    },
    {
     "name": "stderr",
     "output_type": "stream",
     "text": [
      "/Users/jonathanhilgart/Library/Caches/pypoetry/virtualenvs/daily-trading-nJ43NNNI-py3.7/lib/python3.7/site-packages/numpy/lib/nanfunctions.py:1546: RuntimeWarning: overflow encountered in multiply\n",
      "  sqr = np.multiply(arr, arr, out=arr)\n"
     ]
    },
    {
     "name": "stdout",
     "output_type": "stream",
     "text": [
      "Stocks adbe_bac\n",
      "Prediction = 0.46163156000000144\n",
      "adbe_bac pct change 7-day corr of close from 2020-04-24 00:00:00 to 2020-05-01 00:00:00 is =  -0.15479339992969032\n"
     ]
    },
    {
     "name": "stderr",
     "output_type": "stream",
     "text": [
      "/Users/jonathanhilgart/Library/Caches/pypoetry/virtualenvs/daily-trading-nJ43NNNI-py3.7/lib/python3.7/site-packages/numpy/lib/nanfunctions.py:1546: RuntimeWarning: overflow encountered in multiply\n",
      "  sqr = np.multiply(arr, arr, out=arr)\n"
     ]
    },
    {
     "name": "stdout",
     "output_type": "stream",
     "text": [
      "Stocks adbe_ni\n",
      "Prediction = 0.49007275500000136\n",
      "adbe_ni pct change 7-day corr of close from 2020-04-24 00:00:00 to 2020-05-01 00:00:00 is =  0.0010862317967266222\n"
     ]
    },
    {
     "name": "stderr",
     "output_type": "stream",
     "text": [
      "/Users/jonathanhilgart/Library/Caches/pypoetry/virtualenvs/daily-trading-nJ43NNNI-py3.7/lib/python3.7/site-packages/numpy/lib/nanfunctions.py:1546: RuntimeWarning: overflow encountered in multiply\n",
      "  sqr = np.multiply(arr, arr, out=arr)\n"
     ]
    },
    {
     "name": "stdout",
     "output_type": "stream",
     "text": [
      "Stocks rop_are\n",
      "Prediction = 0.6014681549999992\n",
      "rop_are pct change 7-day corr of close from 2020-04-24 00:00:00 to 2020-05-01 00:00:00 is =  0.01166317653826221\n"
     ]
    },
    {
     "name": "stderr",
     "output_type": "stream",
     "text": [
      "/Users/jonathanhilgart/Library/Caches/pypoetry/virtualenvs/daily-trading-nJ43NNNI-py3.7/lib/python3.7/site-packages/numpy/lib/nanfunctions.py:1546: RuntimeWarning: overflow encountered in multiply\n",
      "  sqr = np.multiply(arr, arr, out=arr)\n"
     ]
    },
    {
     "name": "stdout",
     "output_type": "stream",
     "text": [
      "Stocks rop_pg\n",
      "Prediction = 0.6421209300000014\n",
      "rop_pg pct change 7-day corr of close from 2020-04-24 00:00:00 to 2020-05-01 00:00:00 is =  -0.06039562771164353\n"
     ]
    },
    {
     "name": "stderr",
     "output_type": "stream",
     "text": [
      "/Users/jonathanhilgart/Library/Caches/pypoetry/virtualenvs/daily-trading-nJ43NNNI-py3.7/lib/python3.7/site-packages/numpy/lib/nanfunctions.py:1546: RuntimeWarning: overflow encountered in multiply\n",
      "  sqr = np.multiply(arr, arr, out=arr)\n"
     ]
    },
    {
     "name": "stdout",
     "output_type": "stream",
     "text": [
      "Stocks rop_pvh\n",
      "Prediction = 0.5651692137499985\n",
      "rop_pvh pct change 7-day corr of close from 2020-04-24 00:00:00 to 2020-05-01 00:00:00 is =  0.006990185676153615\n"
     ]
    },
    {
     "name": "stderr",
     "output_type": "stream",
     "text": [
      "/Users/jonathanhilgart/Library/Caches/pypoetry/virtualenvs/daily-trading-nJ43NNNI-py3.7/lib/python3.7/site-packages/numpy/lib/nanfunctions.py:1546: RuntimeWarning: overflow encountered in multiply\n",
      "  sqr = np.multiply(arr, arr, out=arr)\n"
     ]
    },
    {
     "name": "stdout",
     "output_type": "stream",
     "text": [
      "Stocks rop_lb\n",
      "Prediction = 0.6220564400000004\n",
      "rop_lb pct change 7-day corr of close from 2020-04-24 00:00:00 to 2020-05-01 00:00:00 is =  -0.05316781001754922\n"
     ]
    },
    {
     "name": "stderr",
     "output_type": "stream",
     "text": [
      "/Users/jonathanhilgart/Library/Caches/pypoetry/virtualenvs/daily-trading-nJ43NNNI-py3.7/lib/python3.7/site-packages/numpy/lib/nanfunctions.py:1546: RuntimeWarning: overflow encountered in multiply\n",
      "  sqr = np.multiply(arr, arr, out=arr)\n"
     ]
    },
    {
     "name": "stdout",
     "output_type": "stream",
     "text": [
      "Stocks rop_vno\n",
      "Prediction = 0.527347594999999\n",
      "rop_vno pct change 7-day corr of close from 2020-04-24 00:00:00 to 2020-05-01 00:00:00 is =  0.08718461503572561\n"
     ]
    },
    {
     "name": "stderr",
     "output_type": "stream",
     "text": [
      "/Users/jonathanhilgart/Library/Caches/pypoetry/virtualenvs/daily-trading-nJ43NNNI-py3.7/lib/python3.7/site-packages/numpy/lib/nanfunctions.py:1546: RuntimeWarning: overflow encountered in multiply\n",
      "  sqr = np.multiply(arr, arr, out=arr)\n"
     ]
    },
    {
     "name": "stdout",
     "output_type": "stream",
     "text": [
      "Stocks rop_ual\n",
      "Prediction = 0.5244090399999984\n",
      "rop_ual pct change 7-day corr of close from 2020-04-24 00:00:00 to 2020-05-01 00:00:00 is =  -0.017200494015037093\n"
     ]
    },
    {
     "name": "stderr",
     "output_type": "stream",
     "text": [
      "/Users/jonathanhilgart/Library/Caches/pypoetry/virtualenvs/daily-trading-nJ43NNNI-py3.7/lib/python3.7/site-packages/numpy/lib/nanfunctions.py:1546: RuntimeWarning: overflow encountered in multiply\n",
      "  sqr = np.multiply(arr, arr, out=arr)\n"
     ]
    },
    {
     "name": "stdout",
     "output_type": "stream",
     "text": [
      "Stocks rop_efx\n",
      "Prediction = -0.1214704399999997\n",
      "rop_efx pct change 7-day corr of close from 2020-04-24 00:00:00 to 2020-05-01 00:00:00 is =  -0.3762205686760862\n"
     ]
    },
    {
     "name": "stderr",
     "output_type": "stream",
     "text": [
      "/Users/jonathanhilgart/Library/Caches/pypoetry/virtualenvs/daily-trading-nJ43NNNI-py3.7/lib/python3.7/site-packages/numpy/lib/nanfunctions.py:1546: RuntimeWarning: overflow encountered in multiply\n",
      "  sqr = np.multiply(arr, arr, out=arr)\n"
     ]
    },
    {
     "name": "stdout",
     "output_type": "stream",
     "text": [
      "Stocks rop_ph\n",
      "Prediction = 0.5533406500000013\n",
      "rop_ph pct change 7-day corr of close from 2020-04-24 00:00:00 to 2020-05-01 00:00:00 is =  -0.019468056640916886\n"
     ]
    },
    {
     "name": "stderr",
     "output_type": "stream",
     "text": [
      "/Users/jonathanhilgart/Library/Caches/pypoetry/virtualenvs/daily-trading-nJ43NNNI-py3.7/lib/python3.7/site-packages/numpy/lib/nanfunctions.py:1546: RuntimeWarning: overflow encountered in multiply\n",
      "  sqr = np.multiply(arr, arr, out=arr)\n"
     ]
    },
    {
     "name": "stdout",
     "output_type": "stream",
     "text": [
      "Stocks rop_pnr\n",
      "Prediction = 0.3851276099999994\n",
      "rop_pnr pct change 7-day corr of close from 2020-04-24 00:00:00 to 2020-05-01 00:00:00 is =  0.10835425078494243\n"
     ]
    },
    {
     "name": "stderr",
     "output_type": "stream",
     "text": [
      "/Users/jonathanhilgart/Library/Caches/pypoetry/virtualenvs/daily-trading-nJ43NNNI-py3.7/lib/python3.7/site-packages/numpy/lib/nanfunctions.py:1546: RuntimeWarning: overflow encountered in multiply\n",
      "  sqr = np.multiply(arr, arr, out=arr)\n"
     ]
    },
    {
     "name": "stdout",
     "output_type": "stream",
     "text": [
      "Stocks rop_bac\n",
      "Prediction = 0.6907107236666683\n",
      "rop_bac pct change 7-day corr of close from 2020-04-24 00:00:00 to 2020-05-01 00:00:00 is =  -0.06763147559955307\n"
     ]
    },
    {
     "name": "stderr",
     "output_type": "stream",
     "text": [
      "/Users/jonathanhilgart/Library/Caches/pypoetry/virtualenvs/daily-trading-nJ43NNNI-py3.7/lib/python3.7/site-packages/numpy/lib/nanfunctions.py:1546: RuntimeWarning: overflow encountered in multiply\n",
      "  sqr = np.multiply(arr, arr, out=arr)\n"
     ]
    },
    {
     "name": "stdout",
     "output_type": "stream",
     "text": [
      "Stocks rop_ni\n",
      "Prediction = 0.21800259499999963\n",
      "rop_ni pct change 7-day corr of close from 2020-04-24 00:00:00 to 2020-05-01 00:00:00 is =  0.41217170637542333\n"
     ]
    },
    {
     "name": "stderr",
     "output_type": "stream",
     "text": [
      "/Users/jonathanhilgart/Library/Caches/pypoetry/virtualenvs/daily-trading-nJ43NNNI-py3.7/lib/python3.7/site-packages/numpy/lib/nanfunctions.py:1546: RuntimeWarning: overflow encountered in multiply\n",
      "  sqr = np.multiply(arr, arr, out=arr)\n"
     ]
    },
    {
     "name": "stdout",
     "output_type": "stream",
     "text": [
      "Stocks are_pg\n",
      "Prediction = 0.7091248699404747\n",
      "are_pg pct change 7-day corr of close from 2020-04-24 00:00:00 to 2020-05-01 00:00:00 is =  -0.18525482448668062\n"
     ]
    },
    {
     "name": "stderr",
     "output_type": "stream",
     "text": [
      "/Users/jonathanhilgart/Library/Caches/pypoetry/virtualenvs/daily-trading-nJ43NNNI-py3.7/lib/python3.7/site-packages/numpy/lib/nanfunctions.py:1546: RuntimeWarning: overflow encountered in multiply\n",
      "  sqr = np.multiply(arr, arr, out=arr)\n"
     ]
    },
    {
     "name": "stdout",
     "output_type": "stream",
     "text": [
      "Stocks are_pvh\n",
      "Prediction = 0.6861528496428566\n",
      "are_pvh pct change 7-day corr of close from 2020-04-24 00:00:00 to 2020-05-01 00:00:00 is =  -0.11165090007152267\n"
     ]
    },
    {
     "name": "stderr",
     "output_type": "stream",
     "text": [
      "/Users/jonathanhilgart/Library/Caches/pypoetry/virtualenvs/daily-trading-nJ43NNNI-py3.7/lib/python3.7/site-packages/numpy/lib/nanfunctions.py:1546: RuntimeWarning: overflow encountered in multiply\n",
      "  sqr = np.multiply(arr, arr, out=arr)\n"
     ]
    },
    {
     "name": "stdout",
     "output_type": "stream",
     "text": [
      "Stocks are_lb\n",
      "Prediction = 0.610098925000001\n",
      "are_lb pct change 7-day corr of close from 2020-04-24 00:00:00 to 2020-05-01 00:00:00 is =  -0.033734730336917096\n"
     ]
    },
    {
     "name": "stderr",
     "output_type": "stream",
     "text": [
      "/Users/jonathanhilgart/Library/Caches/pypoetry/virtualenvs/daily-trading-nJ43NNNI-py3.7/lib/python3.7/site-packages/numpy/lib/nanfunctions.py:1546: RuntimeWarning: overflow encountered in multiply\n",
      "  sqr = np.multiply(arr, arr, out=arr)\n"
     ]
    },
    {
     "name": "stdout",
     "output_type": "stream",
     "text": [
      "Stocks are_vno\n",
      "Prediction = 0.8729070408333347\n",
      "are_vno pct change 7-day corr of close from 2020-04-24 00:00:00 to 2020-05-01 00:00:00 is =  -0.046104357425131304\n"
     ]
    },
    {
     "name": "stderr",
     "output_type": "stream",
     "text": [
      "/Users/jonathanhilgart/Library/Caches/pypoetry/virtualenvs/daily-trading-nJ43NNNI-py3.7/lib/python3.7/site-packages/numpy/lib/nanfunctions.py:1546: RuntimeWarning: overflow encountered in multiply\n",
      "  sqr = np.multiply(arr, arr, out=arr)\n"
     ]
    },
    {
     "name": "stdout",
     "output_type": "stream",
     "text": [
      "Stocks are_ual\n",
      "Prediction = 0.5770915229166653\n",
      "are_ual pct change 7-day corr of close from 2020-04-24 00:00:00 to 2020-05-01 00:00:00 is =  -0.04144308384354356\n"
     ]
    },
    {
     "name": "stderr",
     "output_type": "stream",
     "text": [
      "/Users/jonathanhilgart/Library/Caches/pypoetry/virtualenvs/daily-trading-nJ43NNNI-py3.7/lib/python3.7/site-packages/numpy/lib/nanfunctions.py:1546: RuntimeWarning: overflow encountered in multiply\n",
      "  sqr = np.multiply(arr, arr, out=arr)\n"
     ]
    },
    {
     "name": "stdout",
     "output_type": "stream",
     "text": [
      "Stocks are_efx\n",
      "Prediction = -0.375408381904762\n",
      "are_efx pct change 7-day corr of close from 2020-04-24 00:00:00 to 2020-05-01 00:00:00 is =  -0.17355891859547345\n"
     ]
    },
    {
     "name": "stderr",
     "output_type": "stream",
     "text": [
      "/Users/jonathanhilgart/Library/Caches/pypoetry/virtualenvs/daily-trading-nJ43NNNI-py3.7/lib/python3.7/site-packages/numpy/lib/nanfunctions.py:1546: RuntimeWarning: overflow encountered in multiply\n",
      "  sqr = np.multiply(arr, arr, out=arr)\n"
     ]
    },
    {
     "name": "stdout",
     "output_type": "stream",
     "text": [
      "Stocks are_ph\n",
      "Prediction = 0.3671087086666672\n",
      "are_ph pct change 7-day corr of close from 2020-04-24 00:00:00 to 2020-05-01 00:00:00 is =  -0.03394733107198189\n"
     ]
    },
    {
     "name": "stderr",
     "output_type": "stream",
     "text": [
      "/Users/jonathanhilgart/Library/Caches/pypoetry/virtualenvs/daily-trading-nJ43NNNI-py3.7/lib/python3.7/site-packages/numpy/lib/nanfunctions.py:1546: RuntimeWarning: overflow encountered in multiply\n",
      "  sqr = np.multiply(arr, arr, out=arr)\n"
     ]
    },
    {
     "name": "stdout",
     "output_type": "stream",
     "text": [
      "Stocks are_pnr\n",
      "Prediction = 0.5175726349999988\n",
      "are_pnr pct change 7-day corr of close from 2020-04-24 00:00:00 to 2020-05-01 00:00:00 is =  -0.06809490413978081\n"
     ]
    },
    {
     "name": "stderr",
     "output_type": "stream",
     "text": [
      "/Users/jonathanhilgart/Library/Caches/pypoetry/virtualenvs/daily-trading-nJ43NNNI-py3.7/lib/python3.7/site-packages/numpy/lib/nanfunctions.py:1546: RuntimeWarning: overflow encountered in multiply\n",
      "  sqr = np.multiply(arr, arr, out=arr)\n"
     ]
    },
    {
     "name": "stdout",
     "output_type": "stream",
     "text": [
      "Stocks are_bac\n",
      "Prediction = 0.6280003050000014\n",
      "are_bac pct change 7-day corr of close from 2020-04-24 00:00:00 to 2020-05-01 00:00:00 is =  -0.038054565868719914\n"
     ]
    },
    {
     "name": "stderr",
     "output_type": "stream",
     "text": [
      "/Users/jonathanhilgart/Library/Caches/pypoetry/virtualenvs/daily-trading-nJ43NNNI-py3.7/lib/python3.7/site-packages/numpy/lib/nanfunctions.py:1546: RuntimeWarning: overflow encountered in multiply\n",
      "  sqr = np.multiply(arr, arr, out=arr)\n"
     ]
    },
    {
     "name": "stdout",
     "output_type": "stream",
     "text": [
      "Stocks are_ni\n",
      "Prediction = 0.6800545300000028\n",
      "are_ni pct change 7-day corr of close from 2020-04-24 00:00:00 to 2020-05-01 00:00:00 is =  -0.023978733053750312\n"
     ]
    },
    {
     "name": "stderr",
     "output_type": "stream",
     "text": [
      "/Users/jonathanhilgart/Library/Caches/pypoetry/virtualenvs/daily-trading-nJ43NNNI-py3.7/lib/python3.7/site-packages/numpy/lib/nanfunctions.py:1546: RuntimeWarning: overflow encountered in multiply\n",
      "  sqr = np.multiply(arr, arr, out=arr)\n"
     ]
    },
    {
     "name": "stdout",
     "output_type": "stream",
     "text": [
      "Stocks pg_pvh\n",
      "Prediction = 0.7597436100000007\n",
      "pg_pvh pct change 7-day corr of close from 2020-04-24 00:00:00 to 2020-05-01 00:00:00 is =  -0.06772833025334368\n"
     ]
    },
    {
     "name": "stderr",
     "output_type": "stream",
     "text": [
      "/Users/jonathanhilgart/Library/Caches/pypoetry/virtualenvs/daily-trading-nJ43NNNI-py3.7/lib/python3.7/site-packages/numpy/lib/nanfunctions.py:1546: RuntimeWarning: overflow encountered in multiply\n",
      "  sqr = np.multiply(arr, arr, out=arr)\n"
     ]
    },
    {
     "name": "stdout",
     "output_type": "stream",
     "text": [
      "Stocks pg_lb\n",
      "Prediction = 0.696864615000001\n",
      "pg_lb pct change 7-day corr of close from 2020-04-24 00:00:00 to 2020-05-01 00:00:00 is =  -0.20499431865500328\n"
     ]
    },
    {
     "name": "stderr",
     "output_type": "stream",
     "text": [
      "/Users/jonathanhilgart/Library/Caches/pypoetry/virtualenvs/daily-trading-nJ43NNNI-py3.7/lib/python3.7/site-packages/numpy/lib/nanfunctions.py:1546: RuntimeWarning: overflow encountered in multiply\n",
      "  sqr = np.multiply(arr, arr, out=arr)\n"
     ]
    },
    {
     "name": "stdout",
     "output_type": "stream",
     "text": [
      "Stocks pg_vno\n",
      "Prediction = 0.7628703433333321\n",
      "pg_vno pct change 7-day corr of close from 2020-04-24 00:00:00 to 2020-05-01 00:00:00 is =  -0.15706517851782653\n"
     ]
    },
    {
     "name": "stderr",
     "output_type": "stream",
     "text": [
      "/Users/jonathanhilgart/Library/Caches/pypoetry/virtualenvs/daily-trading-nJ43NNNI-py3.7/lib/python3.7/site-packages/numpy/lib/nanfunctions.py:1546: RuntimeWarning: overflow encountered in multiply\n",
      "  sqr = np.multiply(arr, arr, out=arr)\n"
     ]
    },
    {
     "name": "stdout",
     "output_type": "stream",
     "text": [
      "Stocks pg_ual\n",
      "Prediction = 0.7218033840476192\n",
      "pg_ual pct change 7-day corr of close from 2020-04-24 00:00:00 to 2020-05-01 00:00:00 is =  -0.13477004140615478\n"
     ]
    },
    {
     "name": "stderr",
     "output_type": "stream",
     "text": [
      "/Users/jonathanhilgart/Library/Caches/pypoetry/virtualenvs/daily-trading-nJ43NNNI-py3.7/lib/python3.7/site-packages/numpy/lib/nanfunctions.py:1546: RuntimeWarning: overflow encountered in multiply\n",
      "  sqr = np.multiply(arr, arr, out=arr)\n"
     ]
    },
    {
     "name": "stdout",
     "output_type": "stream",
     "text": [
      "Stocks pg_efx\n",
      "Prediction = -0.30985306500000076\n",
      "pg_efx pct change 7-day corr of close from 2020-04-24 00:00:00 to 2020-05-01 00:00:00 is =  -0.384212740121863\n"
     ]
    },
    {
     "name": "stderr",
     "output_type": "stream",
     "text": [
      "/Users/jonathanhilgart/Library/Caches/pypoetry/virtualenvs/daily-trading-nJ43NNNI-py3.7/lib/python3.7/site-packages/numpy/lib/nanfunctions.py:1546: RuntimeWarning: overflow encountered in multiply\n",
      "  sqr = np.multiply(arr, arr, out=arr)\n"
     ]
    },
    {
     "name": "stdout",
     "output_type": "stream",
     "text": [
      "Stocks pg_ph\n",
      "Prediction = 0.3533637949999999\n",
      "pg_ph pct change 7-day corr of close from 2020-04-24 00:00:00 to 2020-05-01 00:00:00 is =  0.020521677477487676\n"
     ]
    },
    {
     "name": "stderr",
     "output_type": "stream",
     "text": [
      "/Users/jonathanhilgart/Library/Caches/pypoetry/virtualenvs/daily-trading-nJ43NNNI-py3.7/lib/python3.7/site-packages/numpy/lib/nanfunctions.py:1546: RuntimeWarning: overflow encountered in multiply\n",
      "  sqr = np.multiply(arr, arr, out=arr)\n"
     ]
    },
    {
     "name": "stdout",
     "output_type": "stream",
     "text": [
      "Stocks pg_pnr\n",
      "Prediction = 0.3743957699999996\n",
      "pg_pnr pct change 7-day corr of close from 2020-04-24 00:00:00 to 2020-05-01 00:00:00 is =  -0.025617467253455373\n"
     ]
    },
    {
     "name": "stderr",
     "output_type": "stream",
     "text": [
      "/Users/jonathanhilgart/Library/Caches/pypoetry/virtualenvs/daily-trading-nJ43NNNI-py3.7/lib/python3.7/site-packages/numpy/lib/nanfunctions.py:1546: RuntimeWarning: overflow encountered in multiply\n",
      "  sqr = np.multiply(arr, arr, out=arr)\n"
     ]
    },
    {
     "name": "stdout",
     "output_type": "stream",
     "text": [
      "Stocks pg_bac\n",
      "Prediction = 0.6834434889999988\n",
      "pg_bac pct change 7-day corr of close from 2020-04-24 00:00:00 to 2020-05-01 00:00:00 is =  0.018402025647672238\n"
     ]
    },
    {
     "name": "stderr",
     "output_type": "stream",
     "text": [
      "/Users/jonathanhilgart/Library/Caches/pypoetry/virtualenvs/daily-trading-nJ43NNNI-py3.7/lib/python3.7/site-packages/numpy/lib/nanfunctions.py:1546: RuntimeWarning: overflow encountered in multiply\n",
      "  sqr = np.multiply(arr, arr, out=arr)\n"
     ]
    },
    {
     "name": "stdout",
     "output_type": "stream",
     "text": [
      "Stocks pg_ni\n",
      "Prediction = 0.519617044999999\n",
      "pg_ni pct change 7-day corr of close from 2020-04-24 00:00:00 to 2020-05-01 00:00:00 is =  0.001092467007030029\n"
     ]
    },
    {
     "name": "stderr",
     "output_type": "stream",
     "text": [
      "/Users/jonathanhilgart/Library/Caches/pypoetry/virtualenvs/daily-trading-nJ43NNNI-py3.7/lib/python3.7/site-packages/numpy/lib/nanfunctions.py:1546: RuntimeWarning: overflow encountered in multiply\n",
      "  sqr = np.multiply(arr, arr, out=arr)\n"
     ]
    },
    {
     "name": "stdout",
     "output_type": "stream",
     "text": [
      "Stocks pvh_lb\n",
      "Prediction = 0.6340399149999986\n",
      "pvh_lb pct change 7-day corr of close from 2020-04-24 00:00:00 to 2020-05-01 00:00:00 is =  -0.032062196011861\n"
     ]
    },
    {
     "name": "stderr",
     "output_type": "stream",
     "text": [
      "/Users/jonathanhilgart/Library/Caches/pypoetry/virtualenvs/daily-trading-nJ43NNNI-py3.7/lib/python3.7/site-packages/numpy/lib/nanfunctions.py:1546: RuntimeWarning: overflow encountered in multiply\n",
      "  sqr = np.multiply(arr, arr, out=arr)\n"
     ]
    },
    {
     "name": "stdout",
     "output_type": "stream",
     "text": [
      "Stocks pvh_vno\n",
      "Prediction = 0.7152591599999998\n",
      "pvh_vno pct change 7-day corr of close from 2020-04-24 00:00:00 to 2020-05-01 00:00:00 is =  -0.10663069503928801\n"
     ]
    },
    {
     "name": "stderr",
     "output_type": "stream",
     "text": [
      "/Users/jonathanhilgart/Library/Caches/pypoetry/virtualenvs/daily-trading-nJ43NNNI-py3.7/lib/python3.7/site-packages/numpy/lib/nanfunctions.py:1546: RuntimeWarning: overflow encountered in multiply\n",
      "  sqr = np.multiply(arr, arr, out=arr)\n"
     ]
    },
    {
     "name": "stdout",
     "output_type": "stream",
     "text": [
      "Stocks pvh_ual\n",
      "Prediction = 0.5536566199999996\n",
      "pvh_ual pct change 7-day corr of close from 2020-04-24 00:00:00 to 2020-05-01 00:00:00 is =  0.05832344761012642\n"
     ]
    },
    {
     "name": "stderr",
     "output_type": "stream",
     "text": [
      "/Users/jonathanhilgart/Library/Caches/pypoetry/virtualenvs/daily-trading-nJ43NNNI-py3.7/lib/python3.7/site-packages/numpy/lib/nanfunctions.py:1546: RuntimeWarning: overflow encountered in multiply\n",
      "  sqr = np.multiply(arr, arr, out=arr)\n"
     ]
    },
    {
     "name": "stdout",
     "output_type": "stream",
     "text": [
      "Stocks pvh_efx\n",
      "Prediction = 0.05193920666666636\n",
      "pvh_efx pct change 7-day corr of close from 2020-04-24 00:00:00 to 2020-05-01 00:00:00 is =  -1.306270604098607\n"
     ]
    },
    {
     "name": "stderr",
     "output_type": "stream",
     "text": [
      "/Users/jonathanhilgart/Library/Caches/pypoetry/virtualenvs/daily-trading-nJ43NNNI-py3.7/lib/python3.7/site-packages/numpy/lib/nanfunctions.py:1546: RuntimeWarning: overflow encountered in multiply\n",
      "  sqr = np.multiply(arr, arr, out=arr)\n"
     ]
    },
    {
     "name": "stdout",
     "output_type": "stream",
     "text": [
      "Stocks pvh_ph\n",
      "Prediction = 0.6687546869999987\n",
      "pvh_ph pct change 7-day corr of close from 2020-04-24 00:00:00 to 2020-05-01 00:00:00 is =  -0.09116093167752681\n"
     ]
    },
    {
     "name": "stderr",
     "output_type": "stream",
     "text": [
      "/Users/jonathanhilgart/Library/Caches/pypoetry/virtualenvs/daily-trading-nJ43NNNI-py3.7/lib/python3.7/site-packages/numpy/lib/nanfunctions.py:1546: RuntimeWarning: overflow encountered in multiply\n",
      "  sqr = np.multiply(arr, arr, out=arr)\n"
     ]
    },
    {
     "name": "stdout",
     "output_type": "stream",
     "text": [
      "Stocks pvh_pnr\n",
      "Prediction = 0.6724725421428586\n",
      "pvh_pnr pct change 7-day corr of close from 2020-04-24 00:00:00 to 2020-05-01 00:00:00 is =  -0.09758486115946141\n"
     ]
    },
    {
     "name": "stderr",
     "output_type": "stream",
     "text": [
      "/Users/jonathanhilgart/Library/Caches/pypoetry/virtualenvs/daily-trading-nJ43NNNI-py3.7/lib/python3.7/site-packages/numpy/lib/nanfunctions.py:1546: RuntimeWarning: overflow encountered in multiply\n",
      "  sqr = np.multiply(arr, arr, out=arr)\n"
     ]
    },
    {
     "name": "stdout",
     "output_type": "stream",
     "text": [
      "Stocks pvh_bac\n",
      "Prediction = 0.8257734036363641\n",
      "pvh_bac pct change 7-day corr of close from 2020-04-24 00:00:00 to 2020-05-01 00:00:00 is =  -0.09528278129376755\n"
     ]
    },
    {
     "name": "stderr",
     "output_type": "stream",
     "text": [
      "/Users/jonathanhilgart/Library/Caches/pypoetry/virtualenvs/daily-trading-nJ43NNNI-py3.7/lib/python3.7/site-packages/numpy/lib/nanfunctions.py:1546: RuntimeWarning: overflow encountered in multiply\n",
      "  sqr = np.multiply(arr, arr, out=arr)\n"
     ]
    },
    {
     "name": "stdout",
     "output_type": "stream",
     "text": [
      "Stocks pvh_ni\n",
      "Prediction = 0.593851546666668\n",
      "pvh_ni pct change 7-day corr of close from 2020-04-24 00:00:00 to 2020-05-01 00:00:00 is =  -0.07611143782003005\n"
     ]
    },
    {
     "name": "stderr",
     "output_type": "stream",
     "text": [
      "/Users/jonathanhilgart/Library/Caches/pypoetry/virtualenvs/daily-trading-nJ43NNNI-py3.7/lib/python3.7/site-packages/numpy/lib/nanfunctions.py:1546: RuntimeWarning: overflow encountered in multiply\n",
      "  sqr = np.multiply(arr, arr, out=arr)\n"
     ]
    },
    {
     "name": "stdout",
     "output_type": "stream",
     "text": [
      "Stocks lb_vno\n",
      "Prediction = 0.6600585050000002\n",
      "lb_vno pct change 7-day corr of close from 2020-04-24 00:00:00 to 2020-05-01 00:00:00 is =  -0.03252408948065777\n"
     ]
    },
    {
     "name": "stderr",
     "output_type": "stream",
     "text": [
      "/Users/jonathanhilgart/Library/Caches/pypoetry/virtualenvs/daily-trading-nJ43NNNI-py3.7/lib/python3.7/site-packages/numpy/lib/nanfunctions.py:1546: RuntimeWarning: overflow encountered in multiply\n",
      "  sqr = np.multiply(arr, arr, out=arr)\n"
     ]
    },
    {
     "name": "stdout",
     "output_type": "stream",
     "text": [
      "Stocks lb_ual\n",
      "Prediction = 0.9210698381363639\n",
      "lb_ual pct change 7-day corr of close from 2020-04-24 00:00:00 to 2020-05-01 00:00:00 is =  -0.051411612749499125\n"
     ]
    },
    {
     "name": "stderr",
     "output_type": "stream",
     "text": [
      "/Users/jonathanhilgart/Library/Caches/pypoetry/virtualenvs/daily-trading-nJ43NNNI-py3.7/lib/python3.7/site-packages/numpy/lib/nanfunctions.py:1546: RuntimeWarning: overflow encountered in multiply\n",
      "  sqr = np.multiply(arr, arr, out=arr)\n"
     ]
    },
    {
     "name": "stdout",
     "output_type": "stream",
     "text": [
      "Stocks lb_efx\n",
      "Prediction = -0.40730023500000073\n",
      "lb_efx pct change 7-day corr of close from 2020-04-24 00:00:00 to 2020-05-01 00:00:00 is =  -0.36622749976659397\n"
     ]
    },
    {
     "name": "stderr",
     "output_type": "stream",
     "text": [
      "/Users/jonathanhilgart/Library/Caches/pypoetry/virtualenvs/daily-trading-nJ43NNNI-py3.7/lib/python3.7/site-packages/numpy/lib/nanfunctions.py:1546: RuntimeWarning: overflow encountered in multiply\n",
      "  sqr = np.multiply(arr, arr, out=arr)\n"
     ]
    },
    {
     "name": "stdout",
     "output_type": "stream",
     "text": [
      "Stocks lb_ph\n",
      "Prediction = 0.2286953900000009\n",
      "lb_ph pct change 7-day corr of close from 2020-04-24 00:00:00 to 2020-05-01 00:00:00 is =  0.10776268115942456\n"
     ]
    },
    {
     "name": "stderr",
     "output_type": "stream",
     "text": [
      "/Users/jonathanhilgart/Library/Caches/pypoetry/virtualenvs/daily-trading-nJ43NNNI-py3.7/lib/python3.7/site-packages/numpy/lib/nanfunctions.py:1546: RuntimeWarning: overflow encountered in multiply\n",
      "  sqr = np.multiply(arr, arr, out=arr)\n"
     ]
    },
    {
     "name": "stdout",
     "output_type": "stream",
     "text": [
      "Stocks lb_pnr\n",
      "Prediction = 0.22474820178571442\n",
      "lb_pnr pct change 7-day corr of close from 2020-04-24 00:00:00 to 2020-05-01 00:00:00 is =  -0.0210590427613786\n"
     ]
    },
    {
     "name": "stderr",
     "output_type": "stream",
     "text": [
      "/Users/jonathanhilgart/Library/Caches/pypoetry/virtualenvs/daily-trading-nJ43NNNI-py3.7/lib/python3.7/site-packages/numpy/lib/nanfunctions.py:1546: RuntimeWarning: overflow encountered in multiply\n",
      "  sqr = np.multiply(arr, arr, out=arr)\n"
     ]
    },
    {
     "name": "stdout",
     "output_type": "stream",
     "text": [
      "Stocks lb_bac\n",
      "Prediction = 0.541351450000002\n",
      "lb_bac pct change 7-day corr of close from 2020-04-24 00:00:00 to 2020-05-01 00:00:00 is =  -0.035943529788878825\n"
     ]
    },
    {
     "name": "stderr",
     "output_type": "stream",
     "text": [
      "/Users/jonathanhilgart/Library/Caches/pypoetry/virtualenvs/daily-trading-nJ43NNNI-py3.7/lib/python3.7/site-packages/numpy/lib/nanfunctions.py:1546: RuntimeWarning: overflow encountered in multiply\n",
      "  sqr = np.multiply(arr, arr, out=arr)\n"
     ]
    },
    {
     "name": "stdout",
     "output_type": "stream",
     "text": [
      "Stocks lb_ni\n",
      "Prediction = 0.14354808000000024\n",
      "lb_ni pct change 7-day corr of close from 2020-04-24 00:00:00 to 2020-05-01 00:00:00 is =  1.2434996249062302\n"
     ]
    },
    {
     "name": "stderr",
     "output_type": "stream",
     "text": [
      "/Users/jonathanhilgart/Library/Caches/pypoetry/virtualenvs/daily-trading-nJ43NNNI-py3.7/lib/python3.7/site-packages/numpy/lib/nanfunctions.py:1546: RuntimeWarning: overflow encountered in multiply\n",
      "  sqr = np.multiply(arr, arr, out=arr)\n"
     ]
    },
    {
     "name": "stdout",
     "output_type": "stream",
     "text": [
      "Stocks vno_ual\n",
      "Prediction = 0.5731713349999992\n",
      "vno_ual pct change 7-day corr of close from 2020-04-24 00:00:00 to 2020-05-01 00:00:00 is =  -0.0989770472887801\n"
     ]
    },
    {
     "name": "stderr",
     "output_type": "stream",
     "text": [
      "/Users/jonathanhilgart/Library/Caches/pypoetry/virtualenvs/daily-trading-nJ43NNNI-py3.7/lib/python3.7/site-packages/numpy/lib/nanfunctions.py:1546: RuntimeWarning: overflow encountered in multiply\n",
      "  sqr = np.multiply(arr, arr, out=arr)\n"
     ]
    },
    {
     "name": "stdout",
     "output_type": "stream",
     "text": [
      "Stocks vno_efx\n",
      "Prediction = -0.35416522000000084\n",
      "vno_efx pct change 7-day corr of close from 2020-04-24 00:00:00 to 2020-05-01 00:00:00 is =  -0.38436455733168173\n"
     ]
    },
    {
     "name": "stderr",
     "output_type": "stream",
     "text": [
      "/Users/jonathanhilgart/Library/Caches/pypoetry/virtualenvs/daily-trading-nJ43NNNI-py3.7/lib/python3.7/site-packages/numpy/lib/nanfunctions.py:1546: RuntimeWarning: overflow encountered in multiply\n",
      "  sqr = np.multiply(arr, arr, out=arr)\n"
     ]
    },
    {
     "name": "stdout",
     "output_type": "stream",
     "text": [
      "Stocks vno_ph\n",
      "Prediction = 0.25165096500000056\n",
      "vno_ph pct change 7-day corr of close from 2020-04-24 00:00:00 to 2020-05-01 00:00:00 is =  -0.03778136136304322\n"
     ]
    },
    {
     "name": "stderr",
     "output_type": "stream",
     "text": [
      "/Users/jonathanhilgart/Library/Caches/pypoetry/virtualenvs/daily-trading-nJ43NNNI-py3.7/lib/python3.7/site-packages/numpy/lib/nanfunctions.py:1546: RuntimeWarning: overflow encountered in multiply\n",
      "  sqr = np.multiply(arr, arr, out=arr)\n"
     ]
    },
    {
     "name": "stdout",
     "output_type": "stream",
     "text": [
      "Stocks vno_pnr\n",
      "Prediction = 0.5317167300000019\n",
      "vno_pnr pct change 7-day corr of close from 2020-04-24 00:00:00 to 2020-05-01 00:00:00 is =  -0.10243934017778156\n"
     ]
    },
    {
     "name": "stderr",
     "output_type": "stream",
     "text": [
      "/Users/jonathanhilgart/Library/Caches/pypoetry/virtualenvs/daily-trading-nJ43NNNI-py3.7/lib/python3.7/site-packages/numpy/lib/nanfunctions.py:1546: RuntimeWarning: overflow encountered in multiply\n",
      "  sqr = np.multiply(arr, arr, out=arr)\n"
     ]
    },
    {
     "name": "stdout",
     "output_type": "stream",
     "text": [
      "Stocks vno_bac\n",
      "Prediction = 0.5592700799999984\n",
      "vno_bac pct change 7-day corr of close from 2020-04-24 00:00:00 to 2020-05-01 00:00:00 is =  -0.04188802527235036\n"
     ]
    },
    {
     "name": "stderr",
     "output_type": "stream",
     "text": [
      "/Users/jonathanhilgart/Library/Caches/pypoetry/virtualenvs/daily-trading-nJ43NNNI-py3.7/lib/python3.7/site-packages/numpy/lib/nanfunctions.py:1546: RuntimeWarning: overflow encountered in multiply\n",
      "  sqr = np.multiply(arr, arr, out=arr)\n"
     ]
    },
    {
     "name": "stdout",
     "output_type": "stream",
     "text": [
      "Stocks vno_ni\n",
      "Prediction = 0.70423066\n",
      "vno_ni pct change 7-day corr of close from 2020-04-24 00:00:00 to 2020-05-01 00:00:00 is =  -0.004492931246280363\n"
     ]
    },
    {
     "name": "stderr",
     "output_type": "stream",
     "text": [
      "/Users/jonathanhilgart/Library/Caches/pypoetry/virtualenvs/daily-trading-nJ43NNNI-py3.7/lib/python3.7/site-packages/numpy/lib/nanfunctions.py:1546: RuntimeWarning: overflow encountered in multiply\n",
      "  sqr = np.multiply(arr, arr, out=arr)\n"
     ]
    },
    {
     "name": "stdout",
     "output_type": "stream",
     "text": [
      "Stocks ual_efx\n",
      "Prediction = -0.41203327000000073\n",
      "ual_efx pct change 7-day corr of close from 2020-04-24 00:00:00 to 2020-05-01 00:00:00 is =  -0.41245373446764233\n"
     ]
    },
    {
     "name": "stderr",
     "output_type": "stream",
     "text": [
      "/Users/jonathanhilgart/Library/Caches/pypoetry/virtualenvs/daily-trading-nJ43NNNI-py3.7/lib/python3.7/site-packages/numpy/lib/nanfunctions.py:1546: RuntimeWarning: overflow encountered in multiply\n",
      "  sqr = np.multiply(arr, arr, out=arr)\n"
     ]
    },
    {
     "name": "stdout",
     "output_type": "stream",
     "text": [
      "Stocks ual_ph\n",
      "Prediction = 0.11565809500000032\n",
      "ual_ph pct change 7-day corr of close from 2020-04-24 00:00:00 to 2020-05-01 00:00:00 is =  5.518152333183066\n"
     ]
    },
    {
     "name": "stderr",
     "output_type": "stream",
     "text": [
      "/Users/jonathanhilgart/Library/Caches/pypoetry/virtualenvs/daily-trading-nJ43NNNI-py3.7/lib/python3.7/site-packages/numpy/lib/nanfunctions.py:1546: RuntimeWarning: overflow encountered in multiply\n",
      "  sqr = np.multiply(arr, arr, out=arr)\n"
     ]
    },
    {
     "name": "stdout",
     "output_type": "stream",
     "text": [
      "Stocks ual_pnr\n",
      "Prediction = 0.10783189500000007\n",
      "ual_pnr pct change 7-day corr of close from 2020-04-24 00:00:00 to 2020-05-01 00:00:00 is =  0.961221763486233\n"
     ]
    },
    {
     "name": "stderr",
     "output_type": "stream",
     "text": [
      "/Users/jonathanhilgart/Library/Caches/pypoetry/virtualenvs/daily-trading-nJ43NNNI-py3.7/lib/python3.7/site-packages/numpy/lib/nanfunctions.py:1546: RuntimeWarning: overflow encountered in multiply\n",
      "  sqr = np.multiply(arr, arr, out=arr)\n"
     ]
    },
    {
     "name": "stdout",
     "output_type": "stream",
     "text": [
      "Stocks ual_bac\n",
      "Prediction = 0.4217696766666669\n",
      "ual_bac pct change 7-day corr of close from 2020-04-24 00:00:00 to 2020-05-01 00:00:00 is =  0.09231099865501657\n"
     ]
    },
    {
     "name": "stderr",
     "output_type": "stream",
     "text": [
      "/Users/jonathanhilgart/Library/Caches/pypoetry/virtualenvs/daily-trading-nJ43NNNI-py3.7/lib/python3.7/site-packages/numpy/lib/nanfunctions.py:1546: RuntimeWarning: overflow encountered in multiply\n",
      "  sqr = np.multiply(arr, arr, out=arr)\n"
     ]
    },
    {
     "name": "stdout",
     "output_type": "stream",
     "text": [
      "Stocks ual_ni\n",
      "Prediction = 0.1545651649999997\n",
      "ual_ni pct change 7-day corr of close from 2020-04-24 00:00:00 to 2020-05-01 00:00:00 is =  11.009725330225308\n"
     ]
    },
    {
     "name": "stderr",
     "output_type": "stream",
     "text": [
      "/Users/jonathanhilgart/Library/Caches/pypoetry/virtualenvs/daily-trading-nJ43NNNI-py3.7/lib/python3.7/site-packages/numpy/lib/nanfunctions.py:1546: RuntimeWarning: overflow encountered in multiply\n",
      "  sqr = np.multiply(arr, arr, out=arr)\n"
     ]
    },
    {
     "name": "stdout",
     "output_type": "stream",
     "text": [
      "Stocks efx_ph\n",
      "Prediction = 0.4128700850000006\n",
      "efx_ph pct change 7-day corr of close from 2020-04-24 00:00:00 to 2020-05-01 00:00:00 is =  -0.03400961848921025\n"
     ]
    },
    {
     "name": "stderr",
     "output_type": "stream",
     "text": [
      "/Users/jonathanhilgart/Library/Caches/pypoetry/virtualenvs/daily-trading-nJ43NNNI-py3.7/lib/python3.7/site-packages/numpy/lib/nanfunctions.py:1546: RuntimeWarning: overflow encountered in multiply\n",
      "  sqr = np.multiply(arr, arr, out=arr)\n"
     ]
    },
    {
     "name": "stdout",
     "output_type": "stream",
     "text": [
      "Stocks efx_pnr\n",
      "Prediction = 0.014629165000000008\n",
      "efx_pnr pct change 7-day corr of close from 2020-04-24 00:00:00 to 2020-05-01 00:00:00 is =  -1.092607235551054\n"
     ]
    },
    {
     "name": "stderr",
     "output_type": "stream",
     "text": [
      "/Users/jonathanhilgart/Library/Caches/pypoetry/virtualenvs/daily-trading-nJ43NNNI-py3.7/lib/python3.7/site-packages/numpy/lib/nanfunctions.py:1546: RuntimeWarning: overflow encountered in multiply\n",
      "  sqr = np.multiply(arr, arr, out=arr)\n"
     ]
    },
    {
     "name": "stdout",
     "output_type": "stream",
     "text": [
      "Stocks efx_bac\n",
      "Prediction = 0.1267292399999998\n",
      "efx_bac pct change 7-day corr of close from 2020-04-24 00:00:00 to 2020-05-01 00:00:00 is =  3.476166996326639\n"
     ]
    },
    {
     "name": "stderr",
     "output_type": "stream",
     "text": [
      "/Users/jonathanhilgart/Library/Caches/pypoetry/virtualenvs/daily-trading-nJ43NNNI-py3.7/lib/python3.7/site-packages/numpy/lib/nanfunctions.py:1546: RuntimeWarning: overflow encountered in multiply\n",
      "  sqr = np.multiply(arr, arr, out=arr)\n"
     ]
    },
    {
     "name": "stdout",
     "output_type": "stream",
     "text": [
      "Stocks efx_ni\n",
      "Prediction = 0.17331556000000023\n",
      "efx_ni pct change 7-day corr of close from 2020-04-24 00:00:00 to 2020-05-01 00:00:00 is =  1.1824857704125349\n"
     ]
    },
    {
     "name": "stderr",
     "output_type": "stream",
     "text": [
      "/Users/jonathanhilgart/Library/Caches/pypoetry/virtualenvs/daily-trading-nJ43NNNI-py3.7/lib/python3.7/site-packages/numpy/lib/nanfunctions.py:1546: RuntimeWarning: overflow encountered in multiply\n",
      "  sqr = np.multiply(arr, arr, out=arr)\n"
     ]
    },
    {
     "name": "stdout",
     "output_type": "stream",
     "text": [
      "Stocks ph_pnr\n",
      "Prediction = 0.626711879000002\n",
      "ph_pnr pct change 7-day corr of close from 2020-04-24 00:00:00 to 2020-05-01 00:00:00 is =  -0.033140007682893824\n"
     ]
    },
    {
     "name": "stderr",
     "output_type": "stream",
     "text": [
      "/Users/jonathanhilgart/Library/Caches/pypoetry/virtualenvs/daily-trading-nJ43NNNI-py3.7/lib/python3.7/site-packages/numpy/lib/nanfunctions.py:1546: RuntimeWarning: overflow encountered in multiply\n",
      "  sqr = np.multiply(arr, arr, out=arr)\n"
     ]
    },
    {
     "name": "stdout",
     "output_type": "stream",
     "text": [
      "Stocks ph_bac\n",
      "Prediction = 0.8677373774999991\n",
      "ph_bac pct change 7-day corr of close from 2020-04-24 00:00:00 to 2020-05-01 00:00:00 is =  -0.04588989722619674\n"
     ]
    },
    {
     "name": "stderr",
     "output_type": "stream",
     "text": [
      "/Users/jonathanhilgart/Library/Caches/pypoetry/virtualenvs/daily-trading-nJ43NNNI-py3.7/lib/python3.7/site-packages/numpy/lib/nanfunctions.py:1546: RuntimeWarning: overflow encountered in multiply\n",
      "  sqr = np.multiply(arr, arr, out=arr)\n"
     ]
    },
    {
     "name": "stdout",
     "output_type": "stream",
     "text": [
      "Stocks ph_ni\n",
      "Prediction = 0.46223204999999845\n",
      "ph_ni pct change 7-day corr of close from 2020-04-24 00:00:00 to 2020-05-01 00:00:00 is =  0.08841152854468248\n"
     ]
    },
    {
     "name": "stderr",
     "output_type": "stream",
     "text": [
      "/Users/jonathanhilgart/Library/Caches/pypoetry/virtualenvs/daily-trading-nJ43NNNI-py3.7/lib/python3.7/site-packages/numpy/lib/nanfunctions.py:1546: RuntimeWarning: overflow encountered in multiply\n",
      "  sqr = np.multiply(arr, arr, out=arr)\n"
     ]
    },
    {
     "name": "stdout",
     "output_type": "stream",
     "text": [
      "Stocks pnr_bac\n",
      "Prediction = 0.6704556962500017\n",
      "pnr_bac pct change 7-day corr of close from 2020-04-24 00:00:00 to 2020-05-01 00:00:00 is =  -0.09029201283308752\n"
     ]
    },
    {
     "name": "stderr",
     "output_type": "stream",
     "text": [
      "/Users/jonathanhilgart/Library/Caches/pypoetry/virtualenvs/daily-trading-nJ43NNNI-py3.7/lib/python3.7/site-packages/numpy/lib/nanfunctions.py:1546: RuntimeWarning: overflow encountered in multiply\n",
      "  sqr = np.multiply(arr, arr, out=arr)\n"
     ]
    },
    {
     "name": "stdout",
     "output_type": "stream",
     "text": [
      "Stocks pnr_ni\n",
      "Prediction = 0.5435271799999987\n",
      "pnr_ni pct change 7-day corr of close from 2020-04-24 00:00:00 to 2020-05-01 00:00:00 is =  0.011753587496949214\n"
     ]
    },
    {
     "name": "stderr",
     "output_type": "stream",
     "text": [
      "/Users/jonathanhilgart/Library/Caches/pypoetry/virtualenvs/daily-trading-nJ43NNNI-py3.7/lib/python3.7/site-packages/numpy/lib/nanfunctions.py:1546: RuntimeWarning: overflow encountered in multiply\n",
      "  sqr = np.multiply(arr, arr, out=arr)\n"
     ]
    },
    {
     "name": "stdout",
     "output_type": "stream",
     "text": [
      "Stocks bac_ni\n",
      "Prediction = 0.49263338750000135\n",
      "bac_ni pct change 7-day corr of close from 2020-04-24 00:00:00 to 2020-05-01 00:00:00 is =  0.04976876712737743\n",
      "Predictions took 4.341181615988414 mins\n"
     ]
    }
   ],
   "source": [
    "# train on all data\n",
    "# predict for the upcoming week\n",
    "most_recent_date = final_stock_df.index.max()\n",
    "prediction_end = most_recent_date + datetime.timedelta(7)\n",
    "                                                       \n",
    "                                                       \n",
    "# train_dates = final_stock_df.index[final_stock_df.index < test_date - datetime.timedelta(7)] # seven days before\n",
    "\n",
    "# train_df = final_stock_df[final_stock_df.index.isin(train_dates)]\n",
    "test_df = final_stock_df[final_stock_df.index == most_recent_date]\n",
    "\n",
    "final_stock_df = final_stock_df.dropna()\n",
    "\n",
    "n_days_corr_predictions = 7\n",
    "\n",
    "\n",
    "pct_change_corr = []\n",
    "predicted_corr = []\n",
    "last_corr_for_prediction_day = []\n",
    "pred_dates = []\n",
    "start = time.time()\n",
    "\n",
    "for stock_pairing in tqdm(pairs_of_stocks):\n",
    "    pred_col_name = f\"{stock_pairing}_close_corr_rolling_{n_days_corr_predictions}_days\"\n",
    "\n",
    "    # remove the current 7-day corr for this stock\n",
    "    # for 7 take rolling 7 days corr to the present day to predict off of\n",
    "    train_X, train_y = final_stock_df.loc[:, final_stock_df.columns != f\"{pred_col_name}\"],  final_stock_df[f\"{pred_col_name}\"].shift(-7).fillna(method='ffill') \n",
    "                                                       # get corr from 7 days in the future\n",
    "                                                       \n",
    "    test_X, test_y = test_df.loc[:, test_df.columns != f\"{pred_col_name}\"],  test_df[f\"{pred_col_name}\"]\n",
    "\n",
    "    train_X = np.nan_to_num(train_X.astype(np.float32)) \n",
    "\n",
    "    # standard scaler for cols\n",
    "    scaler=StandardScaler()\n",
    "    scaler.fit(train_X)\n",
    "    train_X = scaler.transform(train_X)\n",
    "    test_X = scaler.transform(test_X)\n",
    "\n",
    "\n",
    "    # Make an instance of the Model\n",
    "    # only train on train_x\n",
    "\n",
    "    pca = PCA(n_components=5, whiten=True)\n",
    "    pca.fit(train_X)\n",
    "\n",
    "    train_X = pca.transform(train_X)\n",
    "    test_X = pca.transform(test_X)\n",
    "\n",
    "    # standaard scaler\n",
    "\n",
    "    rf = RandomForestRegressor(n_estimators=200, n_jobs=-1)\n",
    "    rf.fit(train_X, train_y)\n",
    "\n",
    "\n",
    "    prediction = np.array(scaler.inverse_transform(rf.predict(test_X)))[0]\n",
    "    print(f\"Stocks {stock_pairing}\")\n",
    "    print(f\"Prediction = {prediction}\")\n",
    "\n",
    "    pred_corr_pct_change, last_date = find_pct_change_pred_vs_last_corr(train_y, prediction)\n",
    "\n",
    "    last_corr_date = train_y.index.max()\n",
    "    last_corr = train_y[train_y.index.max()]  \n",
    "    print(f\"Last corr = {last_corr})\n",
    "\n",
    "    pct_change_corr.append(pred_corr_pct_change)\n",
    "    pred_dates.append(most_recent_date)\n",
    "    predicted_corr.append(prediction)\n",
    "    last_corr_for_prediction_day.append(last_corr)\n",
    "\n",
    "    print(f\"{stock_pairing} pct change 7-day corr of close from {most_recent_date} to {prediction_end} is =  {pred_corr_pct_change}\")\n",
    "\n",
    "\n",
    "end = time.time()\n",
    "\n",
    "print(f\"Predictions took {(end-start)/60} mins\")\n",
    "          \n",
    "squarred_difference = (np.array(last_corr_for_prediction_day)-np.array(predicted_corr))**2\n",
    "\n",
    "pd.DataFrame({ 'pred_date_start':pred_dates,'stock_pair':pairs_of_stocks,   \n",
    "'predicted_corr': predicted_corr, 'last_7_day_corr_for_pred_date_start': last_corr_for_prediction_day, \n",
    "              'pct_change_for_7_day_corr': pct_change_corr, 'squarred_diff_7_day_cor': (last_corr_for_prediction_day-predicted_corr)**2\n",
    "             }).to_csv(\n",
    "f'../data/predictions/test_predictions_{most_recent_date}-{prediction_end}.csv', index=False)\n"
   ]
  },
  {
   "cell_type": "code",
   "execution_count": 1203,
   "metadata": {},
   "outputs": [
    {
     "data": {
      "text/plain": [
       "array([12.25,  9.  ,  9.  ])"
      ]
     },
     "execution_count": 1203,
     "metadata": {},
     "output_type": "execute_result"
    }
   ],
   "source": [
    "(np.array([.5,2,3]) - np.array([4,5,6]))**2"
   ]
  },
  {
   "cell_type": "code",
   "execution_count": null,
   "metadata": {},
   "outputs": [],
   "source": []
  }
 ],
 "metadata": {
  "file_extension": ".py",
  "kernelspec": {
   "display_name": "Python 3.7.0 64-bit ('daily-trading-nJ43NNNI-py3.7': venv)",
   "language": "python",
   "name": "python37064bitdailytradingnj43nnnipy37venvd9db9359ec934f90b15f4732101b653e"
  },
  "language_info": {
   "codemirror_mode": {
    "name": "ipython",
    "version": 3
   },
   "file_extension": ".py",
   "mimetype": "text/x-python",
   "name": "python",
   "nbconvert_exporter": "python",
   "pygments_lexer": "ipython3",
   "version": "3.7.0"
  },
  "mimetype": "text/x-python",
  "name": "python",
  "npconvert_exporter": "python",
  "pygments_lexer": "ipython3",
  "version": 3
 },
 "nbformat": 4,
 "nbformat_minor": 4
}
