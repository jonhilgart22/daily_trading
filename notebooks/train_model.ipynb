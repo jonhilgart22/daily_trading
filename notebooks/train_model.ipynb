{
 "cells": [
  {
   "cell_type": "code",
   "execution_count": 1,
   "metadata": {},
   "outputs": [
    {
     "name": "stdout",
     "output_type": "stream",
     "text": [
      "Populating the interactive namespace from numpy and matplotlib\n"
     ]
    }
   ],
   "source": [
    "import pandas as pd\n",
    "import glob\n",
    "import numpy as numpy\n",
    "import matplotlib.pyplot as plt\n",
    "from collections import defaultdict\n",
    "from tqdm import tqdm\n",
    "import time\n",
    "%pylab inline"
   ]
  },
  {
   "cell_type": "markdown",
   "metadata": {},
   "source": [
    "## Read in data\n"
   ]
  },
  {
   "cell_type": "code",
   "execution_count": 2,
   "metadata": {},
   "outputs": [
    {
     "name": "stdout",
     "output_type": "stream",
     "text": [
      "Reading in pnr\n",
      "Reading in bac\n",
      "Reading in ni\n",
      "Reading in vno\n",
      "Reading in ual\n",
      "Reading in efx\n",
      "Reading in ph\n",
      "Reading in rop\n",
      "Reading in are\n",
      "Reading in pg\n",
      "Reading in pvh\n",
      "Reading in lb\n",
      "Reading in cern\n",
      "Reading in peg\n",
      "Reading in adbe\n",
      "Reading in emr\n",
      "Reading in ce\n",
      "Reading in eqix\n",
      "Reading in rost\n",
      "Reading in so\n"
     ]
    }
   ],
   "source": [
    "dict_of_stocks_and_dfs = {}\n",
    "for file_ in glob.glob('../data/updated_historical_stock_data/*.csv'):\n",
    "    stock_name = file_.rsplit(\"/\")[-1].split('_')[0].lower() \n",
    "    print(f\"Reading in {stock_name}\")\n",
    "    dict_of_stocks_and_dfs[stock_name] = pd.read_csv(f\"{file_}\")\n"
   ]
  },
  {
   "cell_type": "code",
   "execution_count": 3,
   "metadata": {},
   "outputs": [
    {
     "data": {
      "text/plain": [
       "dict_keys(['pnr', 'bac', 'ni', 'vno', 'ual', 'efx', 'ph', 'rop', 'are', 'pg', 'pvh', 'lb', 'cern', 'peg', 'adbe', 'emr', 'ce', 'eqix', 'rost', 'so'])"
      ]
     },
     "execution_count": 3,
     "metadata": {},
     "output_type": "execute_result"
    }
   ],
   "source": [
    "# key is company value is df of data\n",
    "dict_of_stocks_and_dfs.keys()"
   ]
  },
  {
   "cell_type": "markdown",
   "metadata": {},
   "source": [
    "# Create correlation & variance features\n",
    "- Daily, weekly, 30-days, 90-days, 180-days, 365-days"
   ]
  },
  {
   "cell_type": "code",
   "execution_count": 4,
   "metadata": {},
   "outputs": [],
   "source": [
    "\n",
    "# here the date is not the index, yet\n",
    "first_stock_df = dict_of_stocks_and_dfs['ph'].loc[ dict_of_stocks_and_dfs['ph'].date.isin(dict_of_stocks_and_dfs['emr'].date), :]"
   ]
  },
  {
   "cell_type": "code",
   "execution_count": 5,
   "metadata": {},
   "outputs": [
    {
     "data": {
      "text/plain": [
       "2858.765436116092"
      ]
     },
     "execution_count": 5,
     "metadata": {},
     "output_type": "execute_result"
    }
   ],
   "source": [
    "np.var(first_stock_df.close)"
   ]
  },
  {
   "cell_type": "code",
   "execution_count": 6,
   "metadata": {},
   "outputs": [],
   "source": [
    "\n",
    "# here the date is not the index, yet\n",
    "first_stock_df = dict_of_stocks_and_dfs['ph'].loc[ dict_of_stocks_and_dfs['ph'].date.isin(dict_of_stocks_and_dfs['emr'].date), :]\n",
    "#  filter second df by the dates in first\n",
    "\n",
    "# here the date is not the index, yet\n",
    "second_stock_df = dict_of_stocks_and_dfs['emr'].loc[ dict_of_stocks_and_dfs['emr'].date.isin(dict_of_stocks_and_dfs['ph'].date), :]"
   ]
  },
  {
   "cell_type": "markdown",
   "metadata": {},
   "source": [
    "## Set the date as the index and sort"
   ]
  },
  {
   "cell_type": "code",
   "execution_count": 7,
   "metadata": {},
   "outputs": [],
   "source": [
    "first_stock_df = first_stock_df.sort_values('date')\n",
    "second_stock_df = second_stock_df.sort_values('date')\n",
    "\n",
    "first_stock_df = first_stock_df.set_index('date')\n",
    "second_stock_df = second_stock_df.set_index('date')"
   ]
  },
  {
   "cell_type": "code",
   "execution_count": 8,
   "metadata": {},
   "outputs": [
    {
     "data": {
      "text/plain": [
       "'2020-04-17'"
      ]
     },
     "execution_count": 8,
     "metadata": {},
     "output_type": "execute_result"
    }
   ],
   "source": [
    "first_stock_df.index.max()"
   ]
  },
  {
   "cell_type": "code",
   "execution_count": 9,
   "metadata": {},
   "outputs": [
    {
     "data": {
      "text/plain": [
       "'2020-04-17'"
      ]
     },
     "execution_count": 9,
     "metadata": {},
     "output_type": "execute_result"
    }
   ],
   "source": [
    "second_stock_df.index.max()"
   ]
  },
  {
   "cell_type": "code",
   "execution_count": 10,
   "metadata": {},
   "outputs": [
    {
     "data": {
      "text/plain": [
       "array([[1.        , 0.95353675],\n",
       "       [0.95353675, 1.        ]])"
      ]
     },
     "execution_count": 10,
     "metadata": {},
     "output_type": "execute_result"
    }
   ],
   "source": [
    "np.corrcoef(first_stock_df.close, second_stock_df.close) # all time corrcoef"
   ]
  },
  {
   "cell_type": "code",
   "execution_count": 11,
   "metadata": {},
   "outputs": [
    {
     "data": {
      "text/plain": [
       "<matplotlib.axes._subplots.AxesSubplot at 0x111ecfe48>"
      ]
     },
     "execution_count": 11,
     "metadata": {},
     "output_type": "execute_result"
    },
    {
     "data": {
      "image/png": "[encoded data removed]",
      "text/plain": [
       "<Figure size 432x288 with 1 Axes>"
      ]
     },
     "metadata": {
      "needs_background": "light"
     },
     "output_type": "display_data"
    }
   ],
   "source": [
    "\n",
    "ax = first_stock_df.plot(y='close')\n",
    "second_stock_df.plot(y='close', color='red', ax=ax)"
   ]
  },
  {
   "cell_type": "code",
   "execution_count": 12,
   "metadata": {},
   "outputs": [
    {
     "name": "stdout",
     "output_type": "stream",
     "text": [
      "Idx 0 out of 8988\n",
      "Idx 100 out of 8988\n",
      "Idx 200 out of 8988\n",
      "Idx 300 out of 8988\n",
      "Idx 400 out of 8988\n",
      "Idx 500 out of 8988\n",
      "Idx 600 out of 8988\n",
      "Idx 700 out of 8988\n",
      "Idx 800 out of 8988\n",
      "Idx 900 out of 8988\n",
      "Idx 1000 out of 8988\n",
      "Idx 1100 out of 8988\n",
      "Idx 1200 out of 8988\n",
      "Idx 1300 out of 8988\n",
      "Idx 1400 out of 8988\n",
      "Idx 1500 out of 8988\n",
      "Idx 1600 out of 8988\n",
      "Idx 1700 out of 8988\n",
      "Idx 1800 out of 8988\n",
      "Idx 1900 out of 8988\n",
      "Idx 2000 out of 8988\n",
      "Idx 2100 out of 8988\n",
      "Idx 2200 out of 8988\n",
      "Idx 2300 out of 8988\n",
      "Idx 2400 out of 8988\n",
      "Idx 2500 out of 8988\n",
      "Idx 2600 out of 8988\n",
      "Idx 2700 out of 8988\n",
      "Idx 2800 out of 8988\n",
      "Idx 2900 out of 8988\n",
      "Idx 3000 out of 8988\n",
      "Idx 3100 out of 8988\n",
      "Idx 3200 out of 8988\n",
      "Idx 3300 out of 8988\n",
      "Idx 3400 out of 8988\n",
      "Idx 3500 out of 8988\n",
      "Idx 3600 out of 8988\n",
      "Idx 3700 out of 8988\n",
      "Idx 3800 out of 8988\n",
      "Idx 3900 out of 8988\n",
      "Idx 4000 out of 8988\n",
      "Idx 4100 out of 8988\n",
      "Idx 4200 out of 8988\n",
      "Idx 4300 out of 8988\n",
      "Idx 4400 out of 8988\n",
      "Idx 4500 out of 8988\n",
      "Idx 4600 out of 8988\n",
      "Idx 4700 out of 8988\n",
      "Idx 4800 out of 8988\n",
      "Idx 4900 out of 8988\n",
      "Idx 5000 out of 8988\n",
      "Idx 5100 out of 8988\n",
      "Idx 5200 out of 8988\n",
      "Idx 5300 out of 8988\n",
      "Idx 5400 out of 8988\n",
      "Idx 5500 out of 8988\n",
      "Idx 5600 out of 8988\n",
      "Idx 5700 out of 8988\n",
      "Idx 5800 out of 8988\n",
      "Idx 5900 out of 8988\n",
      "Idx 6000 out of 8988\n",
      "Idx 6100 out of 8988\n",
      "Idx 6200 out of 8988\n",
      "Idx 6300 out of 8988\n",
      "Idx 6400 out of 8988\n",
      "Idx 6500 out of 8988\n",
      "Idx 6600 out of 8988\n",
      "Idx 6700 out of 8988\n",
      "Idx 6800 out of 8988\n",
      "Idx 6900 out of 8988\n",
      "Idx 7000 out of 8988\n",
      "Idx 7100 out of 8988\n",
      "Idx 7200 out of 8988\n",
      "Idx 7300 out of 8988\n",
      "Idx 7400 out of 8988\n",
      "Idx 7500 out of 8988\n",
      "Idx 7600 out of 8988\n",
      "Idx 7700 out of 8988\n",
      "Idx 7800 out of 8988\n",
      "Idx 7900 out of 8988\n",
      "Idx 8000 out of 8988\n",
      "Idx 8100 out of 8988\n",
      "Idx 8200 out of 8988\n",
      "Idx 8300 out of 8988\n",
      "Idx 8400 out of 8988\n",
      "Idx 8500 out of 8988\n",
      "Idx 8600 out of 8988\n",
      "Idx 8700 out of 8988\n",
      "Idx 8800 out of 8988\n",
      "Idx 8900 out of 8988\n"
     ]
    },
    {
     "name": "stderr",
     "output_type": "stream",
     "text": [
      "/Users/jonathanhilgart/Library/Caches/pypoetry/virtualenvs/daily-trading-nJ43NNNI-py3.7/lib/python3.7/site-packages/numpy/lib/function_base.py:2526: RuntimeWarning: Degrees of freedom <= 0 for slice\n",
      "  c = cov(x, y, rowvar)\n",
      "/Users/jonathanhilgart/Library/Caches/pypoetry/virtualenvs/daily-trading-nJ43NNNI-py3.7/lib/python3.7/site-packages/numpy/lib/function_base.py:2455: RuntimeWarning: divide by zero encountered in true_divide\n",
      "  c *= np.true_divide(1, fact)\n",
      "/Users/jonathanhilgart/Library/Caches/pypoetry/virtualenvs/daily-trading-nJ43NNNI-py3.7/lib/python3.7/site-packages/numpy/lib/function_base.py:2455: RuntimeWarning: invalid value encountered in multiply\n",
      "  c *= np.true_divide(1, fact)\n"
     ]
    }
   ],
   "source": [
    "n_rows = len(first_stock_df)\n",
    "n_days_stride = 365\n",
    "\n",
    "previous_row = 0\n",
    "c = 0\n",
    "\n",
    "correlation_per_time_period = defaultdict(list)\n",
    "for day_window in range(n_rows):\n",
    "    \n",
    "    if day_window % 100 == 0:\n",
    "        print(f\"Idx {day_window} out of {n_rows}\")\n",
    "    first_stock= first_stock_df.iloc[previous_row:day_window + n_days_stride, :]\n",
    "    second_stock = second_stock_df.iloc[previous_row:day_window + n_days_stride, :]\n",
    "#     print(f\"Correcoef for {first_stock.index.min()} to {second_stock.index.max()}\")\n",
    "    correlation = np.corrcoef(first_stock.close, second_stock.close)[0,1]\n",
    "\n",
    "#     print(correlation) \n",
    "    \n",
    "    correlation_per_time_period['date'].append(first_stock.index.min())\n",
    "    correlation_per_time_period['correlation'].append(correlation)\n",
    "    \n",
    "    previous_row+= 1\n",
    "\n",
    "    \n",
    "    "
   ]
  },
  {
   "cell_type": "code",
   "execution_count": 15,
   "metadata": {},
   "outputs": [
    {
     "data": {
      "text/html": [
       "<div>\n",
       "<style scoped>\n",
       "    .dataframe tbody tr th:only-of-type {\n",
       "        vertical-align: middle;\n",
       "    }\n",
       "\n",
       "    .dataframe tbody tr th {\n",
       "        vertical-align: top;\n",
       "    }\n",
       "\n",
       "    .dataframe thead th {\n",
       "        text-align: right;\n",
       "    }\n",
       "</style>\n",
       "<table border=\"1\" class=\"dataframe\">\n",
       "  <thead>\n",
       "    <tr style=\"text-align: right;\">\n",
       "      <th></th>\n",
       "      <th>correlation</th>\n",
       "    </tr>\n",
       "    <tr>\n",
       "      <th>date</th>\n",
       "      <th></th>\n",
       "    </tr>\n",
       "  </thead>\n",
       "  <tbody>\n",
       "    <tr>\n",
       "      <th>1985-07-01</th>\n",
       "      <td>0.908957</td>\n",
       "    </tr>\n",
       "    <tr>\n",
       "      <th>1985-07-02</th>\n",
       "      <td>0.908344</td>\n",
       "    </tr>\n",
       "    <tr>\n",
       "      <th>1985-07-03</th>\n",
       "      <td>0.908069</td>\n",
       "    </tr>\n",
       "    <tr>\n",
       "      <th>1985-07-05</th>\n",
       "      <td>0.907743</td>\n",
       "    </tr>\n",
       "    <tr>\n",
       "      <th>1985-07-08</th>\n",
       "      <td>0.907586</td>\n",
       "    </tr>\n",
       "    <tr>\n",
       "      <th>...</th>\n",
       "      <td>...</td>\n",
       "    </tr>\n",
       "    <tr>\n",
       "      <th>2020-04-13</th>\n",
       "      <td>0.936544</td>\n",
       "    </tr>\n",
       "    <tr>\n",
       "      <th>2020-04-14</th>\n",
       "      <td>0.965812</td>\n",
       "    </tr>\n",
       "    <tr>\n",
       "      <th>2020-04-15</th>\n",
       "      <td>0.970104</td>\n",
       "    </tr>\n",
       "    <tr>\n",
       "      <th>2020-04-16</th>\n",
       "      <td>1.000000</td>\n",
       "    </tr>\n",
       "    <tr>\n",
       "      <th>2020-04-17</th>\n",
       "      <td>NaN</td>\n",
       "    </tr>\n",
       "  </tbody>\n",
       "</table>\n",
       "<p>8988 rows × 1 columns</p>\n",
       "</div>"
      ],
      "text/plain": [
       "            correlation\n",
       "date                   \n",
       "1985-07-01     0.908957\n",
       "1985-07-02     0.908344\n",
       "1985-07-03     0.908069\n",
       "1985-07-05     0.907743\n",
       "1985-07-08     0.907586\n",
       "...                 ...\n",
       "2020-04-13     0.936544\n",
       "2020-04-14     0.965812\n",
       "2020-04-15     0.970104\n",
       "2020-04-16     1.000000\n",
       "2020-04-17          NaN\n",
       "\n",
       "[8988 rows x 1 columns]"
      ]
     },
     "execution_count": 15,
     "metadata": {},
     "output_type": "execute_result"
    }
   ],
   "source": [
    "correlation_df = pd.DataFrame(correlation_per_time_period)\n",
    "correlation_df.set_index('date')"
   ]
  },
  {
   "cell_type": "code",
   "execution_count": 16,
   "metadata": {},
   "outputs": [
    {
     "name": "stdout",
     "output_type": "stream",
     "text": [
      "<class 'pandas.core.frame.DataFrame'>\n",
      "RangeIndex: 8988 entries, 0 to 8987\n",
      "Data columns (total 2 columns):\n",
      " #   Column       Non-Null Count  Dtype  \n",
      "---  ------       --------------  -----  \n",
      " 0   date         8988 non-null   object \n",
      " 1   correlation  8987 non-null   float64\n",
      "dtypes: float64(1), object(1)\n",
      "memory usage: 140.6+ KB\n"
     ]
    }
   ],
   "source": [
    "correlation_df.info()"
   ]
  },
  {
   "cell_type": "code",
   "execution_count": 17,
   "metadata": {},
   "outputs": [
    {
     "data": {
      "text/plain": [
       "<matplotlib.axes._subplots.AxesSubplot at 0x1127612e8>"
      ]
     },
     "execution_count": 17,
     "metadata": {},
     "output_type": "execute_result"
    },
    {
     "data": {
      "image/png": "[encoded data removed]",
      "text/plain": [
       "<Figure size 2160x360 with 1 Axes>"
      ]
     },
     "metadata": {
      "needs_background": "light"
     },
     "output_type": "display_data"
    }
   ],
   "source": [
    "correlation_df.set_index('date').plot(figsize=(30,5), title='Rolling 365-day correlation between ph and emr')"
   ]
  },
  {
   "cell_type": "code",
   "execution_count": 19,
   "metadata": {},
   "outputs": [
    {
     "data": {
      "text/plain": [
       "'2020-04-17'"
      ]
     },
     "execution_count": 19,
     "metadata": {},
     "output_type": "execute_result"
    }
   ],
   "source": [
    "correlation_df.date.max()"
   ]
  },
  {
   "cell_type": "code",
   "execution_count": 60,
   "metadata": {},
   "outputs": [
    {
     "data": {
      "text/html": [
       "<div>\n",
       "<style scoped>\n",
       "    .dataframe tbody tr th:only-of-type {\n",
       "        vertical-align: middle;\n",
       "    }\n",
       "\n",
       "    .dataframe tbody tr th {\n",
       "        vertical-align: top;\n",
       "    }\n",
       "\n",
       "    .dataframe thead th {\n",
       "        text-align: right;\n",
       "    }\n",
       "</style>\n",
       "<table border=\"1\" class=\"dataframe\">\n",
       "  <thead>\n",
       "    <tr style=\"text-align: right;\">\n",
       "      <th></th>\n",
       "      <th>correlation</th>\n",
       "    </tr>\n",
       "  </thead>\n",
       "  <tbody>\n",
       "    <tr>\n",
       "      <th>0</th>\n",
       "      <td>NaN</td>\n",
       "    </tr>\n",
       "    <tr>\n",
       "      <th>1</th>\n",
       "      <td>NaN</td>\n",
       "    </tr>\n",
       "    <tr>\n",
       "      <th>2</th>\n",
       "      <td>NaN</td>\n",
       "    </tr>\n",
       "    <tr>\n",
       "      <th>3</th>\n",
       "      <td>NaN</td>\n",
       "    </tr>\n",
       "    <tr>\n",
       "      <th>4</th>\n",
       "      <td>NaN</td>\n",
       "    </tr>\n",
       "    <tr>\n",
       "      <th>...</th>\n",
       "      <td>...</td>\n",
       "    </tr>\n",
       "    <tr>\n",
       "      <th>8983</th>\n",
       "      <td>6.469109</td>\n",
       "    </tr>\n",
       "    <tr>\n",
       "      <th>8984</th>\n",
       "      <td>6.508580</td>\n",
       "    </tr>\n",
       "    <tr>\n",
       "      <th>8985</th>\n",
       "      <td>6.539512</td>\n",
       "    </tr>\n",
       "    <tr>\n",
       "      <th>8986</th>\n",
       "      <td>6.653166</td>\n",
       "    </tr>\n",
       "    <tr>\n",
       "      <th>8987</th>\n",
       "      <td>NaN</td>\n",
       "    </tr>\n",
       "  </tbody>\n",
       "</table>\n",
       "<p>8988 rows × 1 columns</p>\n",
       "</div>"
      ],
      "text/plain": [
       "      correlation\n",
       "0             NaN\n",
       "1             NaN\n",
       "2             NaN\n",
       "3             NaN\n",
       "4             NaN\n",
       "...           ...\n",
       "8983     6.469109\n",
       "8984     6.508580\n",
       "8985     6.539512\n",
       "8986     6.653166\n",
       "8987          NaN\n",
       "\n",
       "[8988 rows x 1 columns]"
      ]
     },
     "execution_count": 60,
     "metadata": {},
     "output_type": "execute_result"
    }
   ],
   "source": [
    "correlation_df.rolling(7).sum()"
   ]
  },
  {
   "cell_type": "code",
   "execution_count": 21,
   "metadata": {},
   "outputs": [
    {
     "data": {
      "text/html": [
       "<div>\n",
       "<style scoped>\n",
       "    .dataframe tbody tr th:only-of-type {\n",
       "        vertical-align: middle;\n",
       "    }\n",
       "\n",
       "    .dataframe tbody tr th {\n",
       "        vertical-align: top;\n",
       "    }\n",
       "\n",
       "    .dataframe thead th {\n",
       "        text-align: right;\n",
       "    }\n",
       "</style>\n",
       "<table border=\"1\" class=\"dataframe\">\n",
       "  <thead>\n",
       "    <tr style=\"text-align: right;\">\n",
       "      <th></th>\n",
       "      <th>date</th>\n",
       "      <th>correlation</th>\n",
       "    </tr>\n",
       "  </thead>\n",
       "  <tbody>\n",
       "    <tr>\n",
       "      <th>0</th>\n",
       "      <td>1985-07-01</td>\n",
       "      <td>0.908957</td>\n",
       "    </tr>\n",
       "    <tr>\n",
       "      <th>1</th>\n",
       "      <td>1985-07-02</td>\n",
       "      <td>0.908344</td>\n",
       "    </tr>\n",
       "    <tr>\n",
       "      <th>2</th>\n",
       "      <td>1985-07-03</td>\n",
       "      <td>0.908069</td>\n",
       "    </tr>\n",
       "    <tr>\n",
       "      <th>3</th>\n",
       "      <td>1985-07-05</td>\n",
       "      <td>0.907743</td>\n",
       "    </tr>\n",
       "    <tr>\n",
       "      <th>4</th>\n",
       "      <td>1985-07-08</td>\n",
       "      <td>0.907586</td>\n",
       "    </tr>\n",
       "    <tr>\n",
       "      <th>...</th>\n",
       "      <td>...</td>\n",
       "      <td>...</td>\n",
       "    </tr>\n",
       "    <tr>\n",
       "      <th>8983</th>\n",
       "      <td>2020-04-13</td>\n",
       "      <td>0.936544</td>\n",
       "    </tr>\n",
       "    <tr>\n",
       "      <th>8984</th>\n",
       "      <td>2020-04-14</td>\n",
       "      <td>0.965812</td>\n",
       "    </tr>\n",
       "    <tr>\n",
       "      <th>8985</th>\n",
       "      <td>2020-04-15</td>\n",
       "      <td>0.970104</td>\n",
       "    </tr>\n",
       "    <tr>\n",
       "      <th>8986</th>\n",
       "      <td>2020-04-16</td>\n",
       "      <td>1.000000</td>\n",
       "    </tr>\n",
       "    <tr>\n",
       "      <th>8987</th>\n",
       "      <td>2020-04-17</td>\n",
       "      <td>NaN</td>\n",
       "    </tr>\n",
       "  </tbody>\n",
       "</table>\n",
       "<p>8988 rows × 2 columns</p>\n",
       "</div>"
      ],
      "text/plain": [
       "            date  correlation\n",
       "0     1985-07-01     0.908957\n",
       "1     1985-07-02     0.908344\n",
       "2     1985-07-03     0.908069\n",
       "3     1985-07-05     0.907743\n",
       "4     1985-07-08     0.907586\n",
       "...          ...          ...\n",
       "8983  2020-04-13     0.936544\n",
       "8984  2020-04-14     0.965812\n",
       "8985  2020-04-15     0.970104\n",
       "8986  2020-04-16     1.000000\n",
       "8987  2020-04-17          NaN\n",
       "\n",
       "[8988 rows x 2 columns]"
      ]
     },
     "execution_count": 21,
     "metadata": {},
     "output_type": "execute_result"
    }
   ],
   "source": [
    "correlation_df"
   ]
  },
  {
   "cell_type": "markdown",
   "metadata": {},
   "source": [
    "## Build a function to create correlation features for all pairs of stocks"
   ]
  },
  {
   "cell_type": "code",
   "execution_count": 294,
   "metadata": {},
   "outputs": [],
   "source": [
    "def build_correlation_dfs(dict_of_stocks_and_dfs, n_day_rolling_features_list=[ 3, 7, 30, 180, 365, 720]):\n",
    "    \"\"\"\n",
    "    Create correlation + variance based  upon daily closing stock prices for given date ranges 3, 7, 30, 180, 365 days\n",
    "    \n",
    "    also include daily volume\n",
    "    \n",
    "    We are trying to  predict 7 day correaltion\n",
    "    \"\"\"\n",
    "\n",
    "    stock_features_dict = defaultdict(pd.DataFrame)\n",
    "    start_time = time.time()\n",
    "    \n",
    "    start = time.time()\n",
    "    n_stocks = len(dict_of_stocks_and_dfs.keys())\n",
    "    final_feature_df = create_date_dummy_df()\n",
    "    \n",
    "    for idx, first_stock_name in enumerate(dict_of_stocks_and_dfs.keys()):\n",
    "        print('')\n",
    "        print(f\"Finished {idx/n_stocks} pct of stocks\")\n",
    "        print('')\n",
    "        for second_idx, second_stock_name in enumerate(dict_of_stocks_and_dfs.keys()):\n",
    "            if first_stock_name == second_stock_name:\n",
    "                continue\n",
    "            print('-------')\n",
    "            print(f\"{first_stock_name} & {second_stock_name}\")\n",
    "            print('-------')\n",
    "            \n",
    "            # here the date is not the index, yet\n",
    "            first_stock_df = dict_of_stocks_and_dfs[f\"{first_stock_name}\"].loc[ \n",
    "                dict_of_stocks_and_dfs[f\"{first_stock_name}\"].date.isin(dict_of_stocks_and_dfs[f\"{second_stock_name}\"].date), :]\n",
    "#             first_stock_df.date = pd.to_datetime(first_stock_df)\n",
    "            #  filter second df by the dates in first\n",
    "\n",
    "            # here the date is not the index, yet\n",
    "            second_stock_df = dict_of_stocks_and_dfs[f\"{second_stock_name}\"].loc[ \n",
    "                dict_of_stocks_and_dfs[f\"{second_stock_name}\"].date.isin(dict_of_stocks_and_dfs[f\"{first_stock_name}\"].date), :]\n",
    "#             second_stock_df.date = pd.to_datetime(second_stock_df)\n",
    "\n",
    "            # set the date as an index and sort by date\n",
    "            first_stock_df = first_stock_df.sort_values('date')\n",
    "            second_stock_df = second_stock_df.sort_values('date')\n",
    "\n",
    "            first_stock_df = first_stock_df.set_index('date')\n",
    "            second_stock_df = second_stock_df.set_index('date')\n",
    "            \n",
    "            all_features_df = pd.DataFrame()\n",
    "            for rolling_idx, rolling_day in enumerate(n_day_rolling_features_list):\n",
    "                print('rolling_idx', rolling_idx)\n",
    "                features_df = create_correlation_and_variance_features(\n",
    "                    first_stock_df, second_stock_df, rolling_day, first_stock_name=first_stock_name, second_stock_name=second_stock_name)\n",
    "                 \n",
    "#                 if rolling_idx == 0: # only add in volume features once\n",
    "#                 if f\"{first_stock_name}_volume\" in\n",
    "                features_df[f\"{second_stock_name}_volume\"] = list(second_stock_df.volume)\n",
    "    \n",
    "\n",
    "                if (f\"{first_stock_name}_volume\" not in features_df.columns) and (rolling_idx == 0):\n",
    "                    print('adding first stock volume')\n",
    "                    features_df[f\"{first_stock_name}_volume\"] = list(first_stock_df.volume)\n",
    "                \n",
    "                if (f\"{second_stock_name}_volume\" not in features_df.columns) and (rolling_idx == 0):\n",
    "                    print('adding second stock volume')\n",
    "                    features_df[f\"{second_stock_name}_volume\"] = list(second_stock_df.volume)\n",
    "                    \n",
    "                if rolling_idx == 0: \n",
    "                    print('features_df', features_df.head())\n",
    "                    print('rolling idx == 0')\n",
    "                    all_features_df = features_df\n",
    "                else:\n",
    "                    print(all_features_df.info(), 'alal features')\n",
    "                    print(features_df.info(), 'features_df df')\n",
    "                    all_features_df = all_features_df.join(features_df.set_index('date'), on='date', lsuffix='_left')\n",
    "                    \n",
    "            all_features_df = final_feature_df.join(all_features_df.set_index('date'), on='date')\n",
    "            print('all_features_df', all_features_df.head())\n",
    "\n",
    "#                     final_df.join(all_features_df)\n",
    "        \n",
    "            stock_features_dict[f\"{first_stock_name}_and_{second_stock_name}\"] = all_features_df\n",
    "            \n",
    "            end = time.time()\n",
    "            print(f\"Building all correlations took {(end-start)/60} minutes\")\n",
    "            start = time.time()\n",
    "            break\n",
    "        \n",
    "        break\n",
    "\n",
    "    end_time = time.time()\n",
    "    print(f\"Total time {(end_time-start_time) / 60} minutes\")\n",
    "    return stock_features_dict\n",
    "            \n",
    "        \n",
    "\n",
    "# Note: will eventuall need to add in 0s for stocks withour correlation data with other stocks due to date range"
   ]
  },
  {
   "cell_type": "code",
   "execution_count": 300,
   "metadata": {},
   "outputs": [],
   "source": [
    "def create_date_dummy_df(start_date=datetime.datetime(1980,1,1), n_years=60):\n",
    "    \n",
    "    #  create dummy df with dates to join against\n",
    "    list_of_dates  = []\n",
    "    n_days = 365*n_years\n",
    "    start_date = datetime.datetime(1970,1,1)\n",
    "\n",
    "    for i in range(n_days):\n",
    "        list_of_dates.append(start_date + datetime.timedelta(i))\n",
    "    df_ = pd.DataFrame(list_of_dates, columns=['date'])\n",
    "    \n",
    "    df_.date_ =  pd.to_datetime(df_.date)\n",
    "    return df_.set_index('date')\n",
    "    "
   ]
  },
  {
   "cell_type": "code",
   "execution_count": 301,
   "metadata": {},
   "outputs": [],
   "source": [
    "def create_correlation_and_variance_features(first_stock_df, second_stock_df, n_days_stride, \n",
    "                                             first_stock_name=None, second_stock_name=None):\n",
    "    \"\"\"\n",
    "    n_days_stride: the  number of rolling days to calculate correlation for\n",
    "    \"\"\"\n",
    "    n_rows = len(first_stock_df)\n",
    "\n",
    "    previous_row = 0\n",
    "\n",
    "    features_per_time_period = defaultdict(list)\n",
    "    print(f\"Creating correlations + variance on close for {n_days_stride} days\")\n",
    "    \n",
    "    for day_window in tqdm(range(n_rows)):\n",
    "\n",
    "\n",
    "        first_stock= first_stock_df.iloc[previous_row:day_window + n_days_stride, :]\n",
    "\n",
    "        second_stock = second_stock_df.iloc[previous_row:day_window + n_days_stride, :]\n",
    "        \n",
    "        try:\n",
    "            correlation = np.corrcoef(first_stock.close, second_stock.close)[0,1]\n",
    "        except Exception as e:\n",
    "            print(f\" ERROR: {e}\")\n",
    "\n",
    "        features_per_time_period['date'].append(first_stock.index.min())\n",
    "\n",
    "        features_per_time_period[f\"{first_stock_name}_{second_stock_name}_corr_rolling_{n_days_stride}_days\"].append(correlation)\n",
    "        # CODE TO ADD IN VARIANCE\n",
    "#         first_stock_var = np.var(first_stock.close)\n",
    "#         second_stock_var = np.var(second_stock.close)\n",
    "        \n",
    "#         features_per_time_period[f\"{first_stock_name}_close_var_rolling_{n_days_stride}_days\"].append(first_stock_var)\n",
    "#         features_per_time_period[f\"{second_stock_name}_close_var_rolling_{n_days_stride}_days\"].append(second_stock_var)\n",
    "    \n",
    "        \n",
    "        previous_row+= 1 # calculate snapshots every day...7/1-7/7, 7/2-7/8, ...etc\n",
    "    \n",
    "    print('Finished feature calculation')\n",
    "    features_per_time_period_df = pd.DataFrame(features_per_time_period)\n",
    "    features_per_time_period_df.set_index('date')\n",
    "    \n",
    "    return features_per_time_period_df\n"
   ]
  },
  {
   "cell_type": "code",
   "execution_count": 302,
   "metadata": {},
   "outputs": [
    {
     "name": "stderr",
     "output_type": "stream",
     "text": [
      "/Users/jonathanhilgart/Library/Caches/pypoetry/virtualenvs/daily-trading-nJ43NNNI-py3.7/lib/python3.7/site-packages/ipykernel_launcher.py:12: UserWarning: Pandas doesn't allow columns to be created via a new attribute name - see https://pandas.pydata.org/pandas-docs/stable/indexing.html#attribute-access\n",
      "  if sys.path[0] == '':\n",
      "  4%|▎         | 143/4029 [00:00<00:02, 1423.18it/s]"
     ]
    },
    {
     "name": "stdout",
     "output_type": "stream",
     "text": [
      "\n",
      "Finished 0.0 pct of stocks\n",
      "\n",
      "-------\n",
      "pnr & bac\n",
      "-------\n",
      "rolling_idx 0\n",
      "Creating correlations + variance on close for 3 days\n"
     ]
    },
    {
     "name": "stderr",
     "output_type": "stream",
     "text": [
      "100%|██████████| 4029/4029 [00:02<00:00, 1469.49it/s]\n",
      "  4%|▎         | 150/4029 [00:00<00:02, 1496.36it/s]"
     ]
    },
    {
     "name": "stdout",
     "output_type": "stream",
     "text": [
      "Finished feature calculation\n",
      "adding first stock volume\n",
      "features_df          date  pnr_bac_corr_rolling_3_days  bac_volume  pnr_volume\n",
      "0  2005-02-25                    -0.978919     8656470      425379\n",
      "1  2005-02-28                    -0.985118    10653157      489224\n",
      "2  2005-03-01                    -0.998760    11230182      479025\n",
      "3  2005-03-02                     0.704533    10294635      458965\n",
      "4  2005-03-03                     0.538977     9655981      589176\n",
      "rolling idx == 0\n",
      "rolling_idx 1\n",
      "Creating correlations + variance on close for 7 days\n"
     ]
    },
    {
     "name": "stderr",
     "output_type": "stream",
     "text": [
      " 98%|█████████▊| 3952/4029 [00:02<00:00, 1511.94it/s]/Users/jonathanhilgart/Library/Caches/pypoetry/virtualenvs/daily-trading-nJ43NNNI-py3.7/lib/python3.7/site-packages/numpy/lib/function_base.py:2526: RuntimeWarning: Degrees of freedom <= 0 for slice\n",
      "  c = cov(x, y, rowvar)\n",
      "/Users/jonathanhilgart/Library/Caches/pypoetry/virtualenvs/daily-trading-nJ43NNNI-py3.7/lib/python3.7/site-packages/numpy/lib/function_base.py:2455: RuntimeWarning: divide by zero encountered in true_divide\n",
      "  c *= np.true_divide(1, fact)\n",
      "100%|██████████| 4029/4029 [00:02<00:00, 1490.19it/s]\n",
      "  4%|▍         | 158/4029 [00:00<00:02, 1572.47it/s]"
     ]
    },
    {
     "name": "stdout",
     "output_type": "stream",
     "text": [
      "Finished feature calculation\n",
      "<class 'pandas.core.frame.DataFrame'>\n",
      "RangeIndex: 4029 entries, 0 to 4028\n",
      "Data columns (total 4 columns):\n",
      " #   Column                       Non-Null Count  Dtype  \n",
      "---  ------                       --------------  -----  \n",
      " 0   date                         4029 non-null   object \n",
      " 1   pnr_bac_corr_rolling_3_days  4027 non-null   float64\n",
      " 2   bac_volume                   4029 non-null   int64  \n",
      " 3   pnr_volume                   4029 non-null   int64  \n",
      "dtypes: float64(1), int64(2), object(1)\n",
      "memory usage: 126.0+ KB\n",
      "None alal features\n",
      "<class 'pandas.core.frame.DataFrame'>\n",
      "RangeIndex: 4029 entries, 0 to 4028\n",
      "Data columns (total 3 columns):\n",
      " #   Column                       Non-Null Count  Dtype  \n",
      "---  ------                       --------------  -----  \n",
      " 0   date                         4029 non-null   object \n",
      " 1   pnr_bac_corr_rolling_7_days  4028 non-null   float64\n",
      " 2   bac_volume                   4029 non-null   int64  \n",
      "dtypes: float64(1), int64(1), object(1)\n",
      "memory usage: 94.6+ KB\n",
      "None features_df df\n",
      "rolling_idx 2\n",
      "Creating correlations + variance on close for 30 days\n"
     ]
    },
    {
     "name": "stderr",
     "output_type": "stream",
     "text": [
      "100%|██████████| 4029/4029 [00:02<00:00, 1487.06it/s]\n",
      "  3%|▎         | 129/4029 [00:00<00:03, 1282.34it/s]"
     ]
    },
    {
     "name": "stdout",
     "output_type": "stream",
     "text": [
      "Finished feature calculation\n",
      "<class 'pandas.core.frame.DataFrame'>\n",
      "Int64Index: 4465 entries, 0 to 4028\n",
      "Data columns (total 6 columns):\n",
      " #   Column                       Non-Null Count  Dtype  \n",
      "---  ------                       --------------  -----  \n",
      " 0   date                         4465 non-null   object \n",
      " 1   pnr_bac_corr_rolling_3_days  4463 non-null   float64\n",
      " 2   bac_volume_left              4465 non-null   int64  \n",
      " 3   pnr_volume                   4465 non-null   int64  \n",
      " 4   pnr_bac_corr_rolling_7_days  4464 non-null   float64\n",
      " 5   bac_volume                   4465 non-null   int64  \n",
      "dtypes: float64(2), int64(3), object(1)\n",
      "memory usage: 244.2+ KB\n",
      "None alal features\n",
      "<class 'pandas.core.frame.DataFrame'>\n",
      "RangeIndex: 4029 entries, 0 to 4028\n",
      "Data columns (total 3 columns):\n",
      " #   Column                        Non-Null Count  Dtype  \n",
      "---  ------                        --------------  -----  \n",
      " 0   date                          4029 non-null   object \n",
      " 1   pnr_bac_corr_rolling_30_days  4028 non-null   float64\n",
      " 2   bac_volume                    4029 non-null   int64  \n",
      "dtypes: float64(1), int64(1), object(1)\n",
      "memory usage: 94.6+ KB\n",
      "None features_df df\n",
      "rolling_idx 3\n",
      "Creating correlations + variance on close for 180 days\n"
     ]
    },
    {
     "name": "stderr",
     "output_type": "stream",
     "text": [
      "100%|██████████| 4029/4029 [00:02<00:00, 1492.35it/s]\n",
      "  4%|▎         | 151/4029 [00:00<00:02, 1503.81it/s]"
     ]
    },
    {
     "name": "stdout",
     "output_type": "stream",
     "text": [
      "Finished feature calculation\n",
      "<class 'pandas.core.frame.DataFrame'>\n",
      "Int64Index: 5337 entries, 0 to 4028\n",
      "Data columns (total 8 columns):\n",
      " #   Column                        Non-Null Count  Dtype  \n",
      "---  ------                        --------------  -----  \n",
      " 0   date                          5337 non-null   object \n",
      " 1   pnr_bac_corr_rolling_3_days   5335 non-null   float64\n",
      " 2   bac_volume_left               5337 non-null   int64  \n",
      " 3   pnr_volume                    5337 non-null   int64  \n",
      " 4   pnr_bac_corr_rolling_7_days   5336 non-null   float64\n",
      " 5   bac_volume_left               5337 non-null   int64  \n",
      " 6   pnr_bac_corr_rolling_30_days  5336 non-null   float64\n",
      " 7   bac_volume                    5337 non-null   int64  \n",
      "dtypes: float64(3), int64(4), object(1)\n",
      "memory usage: 375.3+ KB\n",
      "None alal features\n",
      "<class 'pandas.core.frame.DataFrame'>\n",
      "RangeIndex: 4029 entries, 0 to 4028\n",
      "Data columns (total 3 columns):\n",
      " #   Column                         Non-Null Count  Dtype  \n",
      "---  ------                         --------------  -----  \n",
      " 0   date                           4029 non-null   object \n",
      " 1   pnr_bac_corr_rolling_180_days  4028 non-null   float64\n",
      " 2   bac_volume                     4029 non-null   int64  \n",
      "dtypes: float64(1), int64(1), object(1)\n",
      "memory usage: 94.6+ KB\n",
      "None features_df df\n",
      "rolling_idx 4\n",
      "Creating correlations + variance on close for 365 days\n"
     ]
    },
    {
     "name": "stderr",
     "output_type": "stream",
     "text": [
      "100%|██████████| 4029/4029 [00:02<00:00, 1441.08it/s]\n",
      "  3%|▎         | 132/4029 [00:00<00:02, 1311.47it/s]"
     ]
    },
    {
     "name": "stdout",
     "output_type": "stream",
     "text": [
      "Finished feature calculation\n",
      "<class 'pandas.core.frame.DataFrame'>\n",
      "Int64Index: 7081 entries, 0 to 4028\n",
      "Data columns (total 10 columns):\n",
      " #   Column                         Non-Null Count  Dtype  \n",
      "---  ------                         --------------  -----  \n",
      " 0   date                           7081 non-null   object \n",
      " 1   pnr_bac_corr_rolling_3_days    7079 non-null   float64\n",
      " 2   bac_volume_left                7081 non-null   int64  \n",
      " 3   pnr_volume                     7081 non-null   int64  \n",
      " 4   pnr_bac_corr_rolling_7_days    7080 non-null   float64\n",
      " 5   bac_volume_left                7081 non-null   int64  \n",
      " 6   pnr_bac_corr_rolling_30_days   7080 non-null   float64\n",
      " 7   bac_volume_left                7081 non-null   int64  \n",
      " 8   pnr_bac_corr_rolling_180_days  7080 non-null   float64\n",
      " 9   bac_volume                     7081 non-null   int64  \n",
      "dtypes: float64(4), int64(5), object(1)\n",
      "memory usage: 608.5+ KB\n",
      "None alal features\n",
      "<class 'pandas.core.frame.DataFrame'>\n",
      "RangeIndex: 4029 entries, 0 to 4028\n",
      "Data columns (total 3 columns):\n",
      " #   Column                         Non-Null Count  Dtype  \n",
      "---  ------                         --------------  -----  \n",
      " 0   date                           4029 non-null   object \n",
      " 1   pnr_bac_corr_rolling_365_days  4028 non-null   float64\n",
      " 2   bac_volume                     4029 non-null   int64  \n",
      "dtypes: float64(1), int64(1), object(1)\n",
      "memory usage: 94.6+ KB\n",
      "None features_df df\n",
      "rolling_idx 5\n",
      "Creating correlations + variance on close for 720 days\n"
     ]
    },
    {
     "name": "stderr",
     "output_type": "stream",
     "text": [
      "100%|██████████| 4029/4029 [00:02<00:00, 1398.49it/s]"
     ]
    },
    {
     "name": "stdout",
     "output_type": "stream",
     "text": [
      "Finished feature calculation\n",
      "<class 'pandas.core.frame.DataFrame'>\n",
      "Int64Index: 10569 entries, 0 to 4028\n",
      "Data columns (total 12 columns):\n",
      " #   Column                         Non-Null Count  Dtype  \n",
      "---  ------                         --------------  -----  \n",
      " 0   date                           10569 non-null  object \n",
      " 1   pnr_bac_corr_rolling_3_days    10567 non-null  float64\n",
      " 2   bac_volume_left                10569 non-null  int64  \n",
      " 3   pnr_volume                     10569 non-null  int64  \n",
      " 4   pnr_bac_corr_rolling_7_days    10568 non-null  float64\n",
      " 5   bac_volume_left                10569 non-null  int64  \n",
      " 6   pnr_bac_corr_rolling_30_days   10568 non-null  float64\n",
      " 7   bac_volume_left                10569 non-null  int64  \n",
      " 8   pnr_bac_corr_rolling_180_days  10568 non-null  float64\n",
      " 9   bac_volume_left                10569 non-null  int64  \n",
      " 10  pnr_bac_corr_rolling_365_days  10568 non-null  float64\n",
      " 11  bac_volume                     10569 non-null  int64  \n",
      "dtypes: float64(5), int64(6), object(1)\n",
      "memory usage: 1.0+ MB\n",
      "None alal features\n",
      "<class 'pandas.core.frame.DataFrame'>\n",
      "RangeIndex: 4029 entries, 0 to 4028\n",
      "Data columns (total 3 columns):\n",
      " #   Column                         Non-Null Count  Dtype  \n",
      "---  ------                         --------------  -----  \n",
      " 0   date                           4029 non-null   object \n",
      " 1   pnr_bac_corr_rolling_720_days  4028 non-null   float64\n",
      " 2   bac_volume                     4029 non-null   int64  \n",
      "dtypes: float64(1), int64(1), object(1)\n",
      "memory usage: 94.6+ KB\n",
      "None features_df df\n"
     ]
    },
    {
     "name": "stderr",
     "output_type": "stream",
     "text": [
      "\n"
     ]
    },
    {
     "ename": "ValueError",
     "evalue": "You are trying to merge on datetime64[ns] and object columns. If you wish to proceed you should use pd.concat",
     "output_type": "error",
     "traceback": [
      "\u001b[0;31m---------------------------------------------------------------------------\u001b[0m",
      "\u001b[0;31mValueError\u001b[0m                                Traceback (most recent call last)",
      "\u001b[0;32m<ipython-input-302-c9d654cb5bd9>\u001b[0m in \u001b[0;36m<module>\u001b[0;34m\u001b[0m\n\u001b[1;32m      1\u001b[0m \u001b[0;31m# 100 minutes for 20 stocks (20*20 = 400 pairs each pair takes .25 minutes)\u001b[0m\u001b[0;34m\u001b[0m\u001b[0;34m\u001b[0m\u001b[0m\n\u001b[0;32m----> 2\u001b[0;31m \u001b[0mfinal_stock_df\u001b[0m \u001b[0;34m=\u001b[0m \u001b[0mbuild_correlation_dfs\u001b[0m\u001b[0;34m(\u001b[0m\u001b[0mdict_of_stocks_and_dfs\u001b[0m\u001b[0;34m)\u001b[0m\u001b[0;34m\u001b[0m\u001b[0m\n\u001b[0m",
      "\u001b[0;32m<ipython-input-294-c26ac2606448>\u001b[0m in \u001b[0;36mbuild_correlation_dfs\u001b[0;34m(dict_of_stocks_and_dfs, n_day_rolling_features_list)\u001b[0m\n\u001b[1;32m     72\u001b[0m                     \u001b[0mall_features_df\u001b[0m \u001b[0;34m=\u001b[0m \u001b[0mall_features_df\u001b[0m\u001b[0;34m.\u001b[0m\u001b[0mjoin\u001b[0m\u001b[0;34m(\u001b[0m\u001b[0mfeatures_df\u001b[0m\u001b[0;34m.\u001b[0m\u001b[0mset_index\u001b[0m\u001b[0;34m(\u001b[0m\u001b[0;34m'date'\u001b[0m\u001b[0;34m)\u001b[0m\u001b[0;34m,\u001b[0m \u001b[0mon\u001b[0m\u001b[0;34m=\u001b[0m\u001b[0;34m'date'\u001b[0m\u001b[0;34m,\u001b[0m \u001b[0mlsuffix\u001b[0m\u001b[0;34m=\u001b[0m\u001b[0;34m'_left'\u001b[0m\u001b[0;34m)\u001b[0m\u001b[0;34m\u001b[0m\u001b[0m\n\u001b[1;32m     73\u001b[0m \u001b[0;34m\u001b[0m\u001b[0m\n\u001b[0;32m---> 74\u001b[0;31m             \u001b[0mall_features_df\u001b[0m \u001b[0;34m=\u001b[0m \u001b[0mfinal_feature_df\u001b[0m\u001b[0;34m.\u001b[0m\u001b[0mjoin\u001b[0m\u001b[0;34m(\u001b[0m\u001b[0mall_features_df\u001b[0m\u001b[0;34m.\u001b[0m\u001b[0mset_index\u001b[0m\u001b[0;34m(\u001b[0m\u001b[0;34m'date'\u001b[0m\u001b[0;34m)\u001b[0m\u001b[0;34m,\u001b[0m \u001b[0mon\u001b[0m\u001b[0;34m=\u001b[0m\u001b[0;34m'date'\u001b[0m\u001b[0;34m)\u001b[0m\u001b[0;34m\u001b[0m\u001b[0m\n\u001b[0m\u001b[1;32m     75\u001b[0m             \u001b[0mprint\u001b[0m\u001b[0;34m(\u001b[0m\u001b[0;34m'all_features_df'\u001b[0m\u001b[0;34m,\u001b[0m \u001b[0mall_features_df\u001b[0m\u001b[0;34m.\u001b[0m\u001b[0mhead\u001b[0m\u001b[0;34m(\u001b[0m\u001b[0;34m)\u001b[0m\u001b[0;34m)\u001b[0m\u001b[0;34m\u001b[0m\u001b[0m\n\u001b[1;32m     76\u001b[0m \u001b[0;34m\u001b[0m\u001b[0m\n",
      "\u001b[0;32m~/Library/Caches/pypoetry/virtualenvs/daily-trading-nJ43NNNI-py3.7/lib/python3.7/site-packages/pandas/core/frame.py\u001b[0m in \u001b[0;36mjoin\u001b[0;34m(self, other, on, how, lsuffix, rsuffix, sort)\u001b[0m\n\u001b[1;32m   7207\u001b[0m         \"\"\"\n\u001b[1;32m   7208\u001b[0m         return self._join_compat(\n\u001b[0;32m-> 7209\u001b[0;31m             \u001b[0mother\u001b[0m\u001b[0;34m,\u001b[0m \u001b[0mon\u001b[0m\u001b[0;34m=\u001b[0m\u001b[0mon\u001b[0m\u001b[0;34m,\u001b[0m \u001b[0mhow\u001b[0m\u001b[0;34m=\u001b[0m\u001b[0mhow\u001b[0m\u001b[0;34m,\u001b[0m \u001b[0mlsuffix\u001b[0m\u001b[0;34m=\u001b[0m\u001b[0mlsuffix\u001b[0m\u001b[0;34m,\u001b[0m \u001b[0mrsuffix\u001b[0m\u001b[0;34m=\u001b[0m\u001b[0mrsuffix\u001b[0m\u001b[0;34m,\u001b[0m \u001b[0msort\u001b[0m\u001b[0;34m=\u001b[0m\u001b[0msort\u001b[0m\u001b[0;34m\u001b[0m\u001b[0m\n\u001b[0m\u001b[1;32m   7210\u001b[0m         )\n\u001b[1;32m   7211\u001b[0m \u001b[0;34m\u001b[0m\u001b[0m\n",
      "\u001b[0;32m~/Library/Caches/pypoetry/virtualenvs/daily-trading-nJ43NNNI-py3.7/lib/python3.7/site-packages/pandas/core/frame.py\u001b[0m in \u001b[0;36m_join_compat\u001b[0;34m(self, other, on, how, lsuffix, rsuffix, sort)\u001b[0m\n\u001b[1;32m   7230\u001b[0m                 \u001b[0mright_index\u001b[0m\u001b[0;34m=\u001b[0m\u001b[0;32mTrue\u001b[0m\u001b[0;34m,\u001b[0m\u001b[0;34m\u001b[0m\u001b[0m\n\u001b[1;32m   7231\u001b[0m                 \u001b[0msuffixes\u001b[0m\u001b[0;34m=\u001b[0m\u001b[0;34m(\u001b[0m\u001b[0mlsuffix\u001b[0m\u001b[0;34m,\u001b[0m \u001b[0mrsuffix\u001b[0m\u001b[0;34m)\u001b[0m\u001b[0;34m,\u001b[0m\u001b[0;34m\u001b[0m\u001b[0m\n\u001b[0;32m-> 7232\u001b[0;31m                 \u001b[0msort\u001b[0m\u001b[0;34m=\u001b[0m\u001b[0msort\u001b[0m\u001b[0;34m,\u001b[0m\u001b[0;34m\u001b[0m\u001b[0m\n\u001b[0m\u001b[1;32m   7233\u001b[0m             )\n\u001b[1;32m   7234\u001b[0m         \u001b[0;32melse\u001b[0m\u001b[0;34m:\u001b[0m\u001b[0;34m\u001b[0m\u001b[0m\n",
      "\u001b[0;32m~/Library/Caches/pypoetry/virtualenvs/daily-trading-nJ43NNNI-py3.7/lib/python3.7/site-packages/pandas/core/reshape/merge.py\u001b[0m in \u001b[0;36mmerge\u001b[0;34m(left, right, how, on, left_on, right_on, left_index, right_index, sort, suffixes, copy, indicator, validate)\u001b[0m\n\u001b[1;32m     84\u001b[0m         \u001b[0mcopy\u001b[0m\u001b[0;34m=\u001b[0m\u001b[0mcopy\u001b[0m\u001b[0;34m,\u001b[0m\u001b[0;34m\u001b[0m\u001b[0m\n\u001b[1;32m     85\u001b[0m         \u001b[0mindicator\u001b[0m\u001b[0;34m=\u001b[0m\u001b[0mindicator\u001b[0m\u001b[0;34m,\u001b[0m\u001b[0;34m\u001b[0m\u001b[0m\n\u001b[0;32m---> 86\u001b[0;31m         \u001b[0mvalidate\u001b[0m\u001b[0;34m=\u001b[0m\u001b[0mvalidate\u001b[0m\u001b[0;34m,\u001b[0m\u001b[0;34m\u001b[0m\u001b[0m\n\u001b[0m\u001b[1;32m     87\u001b[0m     )\n\u001b[1;32m     88\u001b[0m     \u001b[0;32mreturn\u001b[0m \u001b[0mop\u001b[0m\u001b[0;34m.\u001b[0m\u001b[0mget_result\u001b[0m\u001b[0;34m(\u001b[0m\u001b[0;34m)\u001b[0m\u001b[0;34m\u001b[0m\u001b[0m\n",
      "\u001b[0;32m~/Library/Caches/pypoetry/virtualenvs/daily-trading-nJ43NNNI-py3.7/lib/python3.7/site-packages/pandas/core/reshape/merge.py\u001b[0m in \u001b[0;36m__init__\u001b[0;34m(self, left, right, how, on, left_on, right_on, axis, left_index, right_index, sort, suffixes, copy, indicator, validate)\u001b[0m\n\u001b[1;32m    629\u001b[0m         \u001b[0;31m# validate the merge keys dtypes. We may need to coerce\u001b[0m\u001b[0;34m\u001b[0m\u001b[0;34m\u001b[0m\u001b[0m\n\u001b[1;32m    630\u001b[0m         \u001b[0;31m# to avoid incompat dtypes\u001b[0m\u001b[0;34m\u001b[0m\u001b[0;34m\u001b[0m\u001b[0m\n\u001b[0;32m--> 631\u001b[0;31m         \u001b[0mself\u001b[0m\u001b[0;34m.\u001b[0m\u001b[0m_maybe_coerce_merge_keys\u001b[0m\u001b[0;34m(\u001b[0m\u001b[0;34m)\u001b[0m\u001b[0;34m\u001b[0m\u001b[0m\n\u001b[0m\u001b[1;32m    632\u001b[0m \u001b[0;34m\u001b[0m\u001b[0m\n\u001b[1;32m    633\u001b[0m         \u001b[0;31m# If argument passed to validate,\u001b[0m\u001b[0;34m\u001b[0m\u001b[0;34m\u001b[0m\u001b[0m\n",
      "\u001b[0;32m~/Library/Caches/pypoetry/virtualenvs/daily-trading-nJ43NNNI-py3.7/lib/python3.7/site-packages/pandas/core/reshape/merge.py\u001b[0m in \u001b[0;36m_maybe_coerce_merge_keys\u001b[0;34m(self)\u001b[0m\n\u001b[1;32m   1148\u001b[0m             \u001b[0;31m# datetimelikes must match exactly\u001b[0m\u001b[0;34m\u001b[0m\u001b[0;34m\u001b[0m\u001b[0m\n\u001b[1;32m   1149\u001b[0m             \u001b[0;32melif\u001b[0m \u001b[0mneeds_i8_conversion\u001b[0m\u001b[0;34m(\u001b[0m\u001b[0mlk\u001b[0m\u001b[0;34m)\u001b[0m \u001b[0;32mand\u001b[0m \u001b[0;32mnot\u001b[0m \u001b[0mneeds_i8_conversion\u001b[0m\u001b[0;34m(\u001b[0m\u001b[0mrk\u001b[0m\u001b[0;34m)\u001b[0m\u001b[0;34m:\u001b[0m\u001b[0;34m\u001b[0m\u001b[0m\n\u001b[0;32m-> 1150\u001b[0;31m                 \u001b[0;32mraise\u001b[0m \u001b[0mValueError\u001b[0m\u001b[0;34m(\u001b[0m\u001b[0mmsg\u001b[0m\u001b[0;34m)\u001b[0m\u001b[0;34m\u001b[0m\u001b[0m\n\u001b[0m\u001b[1;32m   1151\u001b[0m             \u001b[0;32melif\u001b[0m \u001b[0;32mnot\u001b[0m \u001b[0mneeds_i8_conversion\u001b[0m\u001b[0;34m(\u001b[0m\u001b[0mlk\u001b[0m\u001b[0;34m)\u001b[0m \u001b[0;32mand\u001b[0m \u001b[0mneeds_i8_conversion\u001b[0m\u001b[0;34m(\u001b[0m\u001b[0mrk\u001b[0m\u001b[0;34m)\u001b[0m\u001b[0;34m:\u001b[0m\u001b[0;34m\u001b[0m\u001b[0m\n\u001b[1;32m   1152\u001b[0m                 \u001b[0;32mraise\u001b[0m \u001b[0mValueError\u001b[0m\u001b[0;34m(\u001b[0m\u001b[0mmsg\u001b[0m\u001b[0;34m)\u001b[0m\u001b[0;34m\u001b[0m\u001b[0m\n",
      "\u001b[0;31mValueError\u001b[0m: You are trying to merge on datetime64[ns] and object columns. If you wish to proceed you should use pd.concat"
     ]
    }
   ],
   "source": [
    "# 100 minutes for 20 stocks (20*20 = 400 pairs each pair takes .25 minutes)\n",
    "final_stock_df = build_correlation_dfs(dict_of_stocks_and_dfs)"
   ]
  },
  {
   "cell_type": "code",
   "execution_count": null,
   "metadata": {},
   "outputs": [],
   "source": [
    "final_stock_df['pnr_and_bac'].date"
   ]
  },
  {
   "cell_type": "code",
   "execution_count": 44,
   "metadata": {},
   "outputs": [
    {
     "data": {
      "text/plain": [
       "<matplotlib.axes._subplots.AxesSubplot at 0x11ec64f98>"
      ]
     },
     "execution_count": 44,
     "metadata": {},
     "output_type": "execute_result"
    },
    {
     "data": {
      "image/png": "[encoded data removed]",
      "text/plain": [
       "<Figure size 1080x360 with 1 Axes>"
      ]
     },
     "metadata": {
      "needs_background": "light"
     },
     "output_type": "display_data"
    }
   ],
   "source": [
    "final_stock_df['pnr_and_bac'].set_index('date')[['pnr_bac_corr_rolling_365_days','pnr_bac_corr_rolling_180_days', \n",
    "                                                'pnr_bac_corr_rolling_30_days', 'pnr_bac_corr_rolling_720_days']].plot(figsize=(15,5))"
   ]
  },
  {
   "cell_type": "code",
   "execution_count": null,
   "metadata": {},
   "outputs": [],
   "source": [
    "# combine all of the DFs"
   ]
  },
  {
   "cell_type": "code",
   "execution_count": 48,
   "metadata": {},
   "outputs": [
    {
     "data": {
      "text/plain": [
       "['pnr_and_bac', 'pnr_and_ni']"
      ]
     },
     "execution_count": 48,
     "metadata": {},
     "output_type": "execute_result"
    }
   ],
   "source": [
    "list(final_stock_df.keys())[:2]"
   ]
  },
  {
   "cell_type": "code",
   "execution_count": 50,
   "metadata": {},
   "outputs": [
    {
     "data": {
      "text/html": [
       "<div>\n",
       "<style scoped>\n",
       "    .dataframe tbody tr th:only-of-type {\n",
       "        vertical-align: middle;\n",
       "    }\n",
       "\n",
       "    .dataframe tbody tr th {\n",
       "        vertical-align: top;\n",
       "    }\n",
       "\n",
       "    .dataframe thead th {\n",
       "        text-align: right;\n",
       "    }\n",
       "</style>\n",
       "<table border=\"1\" class=\"dataframe\">\n",
       "  <thead>\n",
       "    <tr style=\"text-align: right;\">\n",
       "      <th></th>\n",
       "      <th>date</th>\n",
       "      <th>pnr_bac_corr_rolling_3_days</th>\n",
       "      <th>pnr_volume</th>\n",
       "      <th>bac_volume</th>\n",
       "      <th>pnr_bac_corr_rolling_7_days</th>\n",
       "      <th>pnr_bac_corr_rolling_30_days</th>\n",
       "      <th>pnr_bac_corr_rolling_180_days</th>\n",
       "      <th>pnr_bac_corr_rolling_365_days</th>\n",
       "      <th>pnr_bac_corr_rolling_720_days</th>\n",
       "    </tr>\n",
       "  </thead>\n",
       "  <tbody>\n",
       "    <tr>\n",
       "      <th>0</th>\n",
       "      <td>2005-02-25</td>\n",
       "      <td>-0.978919</td>\n",
       "      <td>425379</td>\n",
       "      <td>8656470</td>\n",
       "      <td>-0.449730</td>\n",
       "      <td>0.941902</td>\n",
       "      <td>0.758490</td>\n",
       "      <td>-0.298009</td>\n",
       "      <td>-0.619574</td>\n",
       "    </tr>\n",
       "    <tr>\n",
       "      <th>1</th>\n",
       "      <td>2005-02-28</td>\n",
       "      <td>-0.985118</td>\n",
       "      <td>489224</td>\n",
       "      <td>10653157</td>\n",
       "      <td>-0.366235</td>\n",
       "      <td>0.944691</td>\n",
       "      <td>0.750536</td>\n",
       "      <td>-0.312585</td>\n",
       "      <td>-0.615585</td>\n",
       "    </tr>\n",
       "    <tr>\n",
       "      <th>2</th>\n",
       "      <td>2005-03-01</td>\n",
       "      <td>-0.998760</td>\n",
       "      <td>479025</td>\n",
       "      <td>11230182</td>\n",
       "      <td>0.067429</td>\n",
       "      <td>0.942435</td>\n",
       "      <td>0.742085</td>\n",
       "      <td>-0.326191</td>\n",
       "      <td>-0.608959</td>\n",
       "    </tr>\n",
       "    <tr>\n",
       "      <th>3</th>\n",
       "      <td>2005-03-02</td>\n",
       "      <td>0.704533</td>\n",
       "      <td>458965</td>\n",
       "      <td>10294635</td>\n",
       "      <td>0.706662</td>\n",
       "      <td>0.957729</td>\n",
       "      <td>0.734868</td>\n",
       "      <td>-0.338970</td>\n",
       "      <td>-0.601874</td>\n",
       "    </tr>\n",
       "    <tr>\n",
       "      <th>4</th>\n",
       "      <td>2005-03-03</td>\n",
       "      <td>0.538977</td>\n",
       "      <td>589176</td>\n",
       "      <td>9655981</td>\n",
       "      <td>0.896342</td>\n",
       "      <td>0.943357</td>\n",
       "      <td>0.729266</td>\n",
       "      <td>-0.350936</td>\n",
       "      <td>-0.595477</td>\n",
       "    </tr>\n",
       "    <tr>\n",
       "      <th>...</th>\n",
       "      <td>...</td>\n",
       "      <td>...</td>\n",
       "      <td>...</td>\n",
       "      <td>...</td>\n",
       "      <td>...</td>\n",
       "      <td>...</td>\n",
       "      <td>...</td>\n",
       "      <td>...</td>\n",
       "      <td>...</td>\n",
       "    </tr>\n",
       "    <tr>\n",
       "      <th>17540</th>\n",
       "      <td>2020-04-13</td>\n",
       "      <td>0.669138</td>\n",
       "      <td>806105</td>\n",
       "      <td>83164717</td>\n",
       "      <td>0.871451</td>\n",
       "      <td>0.871451</td>\n",
       "      <td>0.871451</td>\n",
       "      <td>0.871451</td>\n",
       "      <td>0.871451</td>\n",
       "    </tr>\n",
       "    <tr>\n",
       "      <th>17541</th>\n",
       "      <td>2020-04-14</td>\n",
       "      <td>0.999157</td>\n",
       "      <td>1355716</td>\n",
       "      <td>88991066</td>\n",
       "      <td>0.989073</td>\n",
       "      <td>0.989073</td>\n",
       "      <td>0.989073</td>\n",
       "      <td>0.989073</td>\n",
       "      <td>0.989073</td>\n",
       "    </tr>\n",
       "    <tr>\n",
       "      <th>17542</th>\n",
       "      <td>2020-04-15</td>\n",
       "      <td>0.989084</td>\n",
       "      <td>2278293</td>\n",
       "      <td>99082222</td>\n",
       "      <td>0.989084</td>\n",
       "      <td>0.989084</td>\n",
       "      <td>0.989084</td>\n",
       "      <td>0.989084</td>\n",
       "      <td>0.989084</td>\n",
       "    </tr>\n",
       "    <tr>\n",
       "      <th>17543</th>\n",
       "      <td>2020-04-16</td>\n",
       "      <td>1.000000</td>\n",
       "      <td>1409030</td>\n",
       "      <td>89213331</td>\n",
       "      <td>1.000000</td>\n",
       "      <td>1.000000</td>\n",
       "      <td>1.000000</td>\n",
       "      <td>1.000000</td>\n",
       "      <td>1.000000</td>\n",
       "    </tr>\n",
       "    <tr>\n",
       "      <th>17544</th>\n",
       "      <td>2020-04-17</td>\n",
       "      <td>NaN</td>\n",
       "      <td>1153740</td>\n",
       "      <td>92800270</td>\n",
       "      <td>NaN</td>\n",
       "      <td>NaN</td>\n",
       "      <td>NaN</td>\n",
       "      <td>NaN</td>\n",
       "      <td>NaN</td>\n",
       "    </tr>\n",
       "  </tbody>\n",
       "</table>\n",
       "<p>17545 rows × 9 columns</p>\n",
       "</div>"
      ],
      "text/plain": [
       "             date  pnr_bac_corr_rolling_3_days  pnr_volume  bac_volume  \\\n",
       "0      2005-02-25                    -0.978919      425379     8656470   \n",
       "1      2005-02-28                    -0.985118      489224    10653157   \n",
       "2      2005-03-01                    -0.998760      479025    11230182   \n",
       "3      2005-03-02                     0.704533      458965    10294635   \n",
       "4      2005-03-03                     0.538977      589176     9655981   \n",
       "...           ...                          ...         ...         ...   \n",
       "17540  2020-04-13                     0.669138      806105    83164717   \n",
       "17541  2020-04-14                     0.999157     1355716    88991066   \n",
       "17542  2020-04-15                     0.989084     2278293    99082222   \n",
       "17543  2020-04-16                     1.000000     1409030    89213331   \n",
       "17544  2020-04-17                          NaN     1153740    92800270   \n",
       "\n",
       "       pnr_bac_corr_rolling_7_days  pnr_bac_corr_rolling_30_days  \\\n",
       "0                        -0.449730                      0.941902   \n",
       "1                        -0.366235                      0.944691   \n",
       "2                         0.067429                      0.942435   \n",
       "3                         0.706662                      0.957729   \n",
       "4                         0.896342                      0.943357   \n",
       "...                            ...                           ...   \n",
       "17540                     0.871451                      0.871451   \n",
       "17541                     0.989073                      0.989073   \n",
       "17542                     0.989084                      0.989084   \n",
       "17543                     1.000000                      1.000000   \n",
       "17544                          NaN                           NaN   \n",
       "\n",
       "       pnr_bac_corr_rolling_180_days  pnr_bac_corr_rolling_365_days  \\\n",
       "0                           0.758490                      -0.298009   \n",
       "1                           0.750536                      -0.312585   \n",
       "2                           0.742085                      -0.326191   \n",
       "3                           0.734868                      -0.338970   \n",
       "4                           0.729266                      -0.350936   \n",
       "...                              ...                            ...   \n",
       "17540                       0.871451                       0.871451   \n",
       "17541                       0.989073                       0.989073   \n",
       "17542                       0.989084                       0.989084   \n",
       "17543                       1.000000                       1.000000   \n",
       "17544                            NaN                            NaN   \n",
       "\n",
       "       pnr_bac_corr_rolling_720_days  \n",
       "0                          -0.619574  \n",
       "1                          -0.615585  \n",
       "2                          -0.608959  \n",
       "3                          -0.601874  \n",
       "4                          -0.595477  \n",
       "...                              ...  \n",
       "17540                       0.871451  \n",
       "17541                       0.989073  \n",
       "17542                       0.989084  \n",
       "17543                       1.000000  \n",
       "17544                            NaN  \n",
       "\n",
       "[17545 rows x 9 columns]"
      ]
     },
     "execution_count": 50,
     "metadata": {},
     "output_type": "execute_result"
    }
   ],
   "source": [
    "final_stock_df['pnr_and_bac']"
   ]
  },
  {
   "cell_type": "code",
   "execution_count": 218,
   "metadata": {},
   "outputs": [],
   "source": [
    "#  create dummy df with dates to join against\n",
    "list_of_dates  = []\n",
    "n_days = 365*80\n",
    "start_date = datetime.datetime(1970,1,1)\n",
    "\n",
    "for i in range(n_days):\n",
    "    list_of_dates.append(start_date + datetime.timedelta(i))"
   ]
  },
  {
   "cell_type": "code",
   "execution_count": 219,
   "metadata": {},
   "outputs": [],
   "source": [
    "date_df = pd.DataFrame(list_of_dates, columns=['date']).set_index('date')"
   ]
  },
  {
   "cell_type": "code",
   "execution_count": 220,
   "metadata": {},
   "outputs": [
    {
     "ename": "TypeError",
     "evalue": "'NoneType' object is not subscriptable",
     "output_type": "error",
     "traceback": [
      "\u001b[0;31m---------------------------------------------------------------------------\u001b[0m",
      "\u001b[0;31mTypeError\u001b[0m                                 Traceback (most recent call last)",
      "\u001b[0;32m<ipython-input-220-3c9840813df4>\u001b[0m in \u001b[0;36m<module>\u001b[0;34m\u001b[0m\n\u001b[0;32m----> 1\u001b[0;31m \u001b[0mpd\u001b[0m\u001b[0;34m.\u001b[0m\u001b[0mto_datetime\u001b[0m\u001b[0;34m(\u001b[0m\u001b[0mfinal_stock_df\u001b[0m\u001b[0;34m[\u001b[0m\u001b[0;34m'pnr_and_ni'\u001b[0m\u001b[0;34m]\u001b[0m\u001b[0;34m.\u001b[0m\u001b[0mdate\u001b[0m\u001b[0;34m)\u001b[0m\u001b[0;34m[\u001b[0m\u001b[0;36m0\u001b[0m\u001b[0;34m]\u001b[0m\u001b[0;34m\u001b[0m\u001b[0m\n\u001b[0m",
      "\u001b[0;31mTypeError\u001b[0m: 'NoneType' object is not subscriptable"
     ]
    }
   ],
   "source": [
    "pd.to_datetime(final_stock_df['pnr_and_ni'].date)[0]"
   ]
  },
  {
   "cell_type": "code",
   "execution_count": 217,
   "metadata": {},
   "outputs": [
    {
     "ename": "TypeError",
     "evalue": "'NoneType' object is not subscriptable",
     "output_type": "error",
     "traceback": [
      "\u001b[0;31m---------------------------------------------------------------------------\u001b[0m",
      "\u001b[0;31mTypeError\u001b[0m                                 Traceback (most recent call last)",
      "\u001b[0;32m<ipython-input-217-ede39eb06bfa>\u001b[0m in \u001b[0;36m<module>\u001b[0;34m\u001b[0m\n\u001b[0;32m----> 1\u001b[0;31m \u001b[0mdate_df\u001b[0m\u001b[0;34m.\u001b[0m\u001b[0mjoin\u001b[0m\u001b[0;34m(\u001b[0m\u001b[0mfinal_stock_df\u001b[0m\u001b[0;34m[\u001b[0m\u001b[0;34m'pnr_and_ni'\u001b[0m\u001b[0;34m]\u001b[0m\u001b[0;34m)\u001b[0m\u001b[0;34m\u001b[0m\u001b[0m\n\u001b[0m",
      "\u001b[0;31mTypeError\u001b[0m: 'NoneType' object is not subscriptable"
     ]
    }
   ],
   "source": [
    "date_df.join(final_stock_df['pnr_and_ni'])"
   ]
  },
  {
   "cell_type": "code",
   "execution_count": 52,
   "metadata": {},
   "outputs": [
    {
     "data": {
      "text/html": [
       "<div>\n",
       "<style scoped>\n",
       "    .dataframe tbody tr th:only-of-type {\n",
       "        vertical-align: middle;\n",
       "    }\n",
       "\n",
       "    .dataframe tbody tr th {\n",
       "        vertical-align: top;\n",
       "    }\n",
       "\n",
       "    .dataframe thead th {\n",
       "        text-align: right;\n",
       "    }\n",
       "</style>\n",
       "<table border=\"1\" class=\"dataframe\">\n",
       "  <thead>\n",
       "    <tr style=\"text-align: right;\">\n",
       "      <th></th>\n",
       "      <th>pnr_ni_corr_rolling_3_days</th>\n",
       "      <th>pnr_volume_left</th>\n",
       "      <th>ni_volume</th>\n",
       "      <th>pnr_ni_corr_rolling_7_days</th>\n",
       "      <th>pnr_ni_corr_rolling_30_days</th>\n",
       "      <th>pnr_ni_corr_rolling_180_days</th>\n",
       "      <th>pnr_ni_corr_rolling_365_days</th>\n",
       "      <th>pnr_ni_corr_rolling_720_days</th>\n",
       "      <th>pnr_bac_corr_rolling_3_days</th>\n",
       "      <th>pnr_volume</th>\n",
       "      <th>bac_volume</th>\n",
       "      <th>pnr_bac_corr_rolling_7_days</th>\n",
       "      <th>pnr_bac_corr_rolling_30_days</th>\n",
       "      <th>pnr_bac_corr_rolling_180_days</th>\n",
       "      <th>pnr_bac_corr_rolling_365_days</th>\n",
       "      <th>pnr_bac_corr_rolling_720_days</th>\n",
       "    </tr>\n",
       "    <tr>\n",
       "      <th>date</th>\n",
       "      <th></th>\n",
       "      <th></th>\n",
       "      <th></th>\n",
       "      <th></th>\n",
       "      <th></th>\n",
       "      <th></th>\n",
       "      <th></th>\n",
       "      <th></th>\n",
       "      <th></th>\n",
       "      <th></th>\n",
       "      <th></th>\n",
       "      <th></th>\n",
       "      <th></th>\n",
       "      <th></th>\n",
       "      <th></th>\n",
       "      <th></th>\n",
       "    </tr>\n",
       "  </thead>\n",
       "  <tbody>\n",
       "    <tr>\n",
       "      <th>2005-02-25</th>\n",
       "      <td>-0.365214</td>\n",
       "      <td>425379</td>\n",
       "      <td>3411458</td>\n",
       "      <td>0.788773</td>\n",
       "      <td>0.229117</td>\n",
       "      <td>0.544434</td>\n",
       "      <td>0.315069</td>\n",
       "      <td>0.027209</td>\n",
       "      <td>-0.978919</td>\n",
       "      <td>425379</td>\n",
       "      <td>8656470</td>\n",
       "      <td>-0.449730</td>\n",
       "      <td>0.941902</td>\n",
       "      <td>0.758490</td>\n",
       "      <td>-0.298009</td>\n",
       "      <td>-0.619574</td>\n",
       "    </tr>\n",
       "    <tr>\n",
       "      <th>2005-02-28</th>\n",
       "      <td>-0.952763</td>\n",
       "      <td>489224</td>\n",
       "      <td>3144593</td>\n",
       "      <td>0.887341</td>\n",
       "      <td>0.191981</td>\n",
       "      <td>0.554551</td>\n",
       "      <td>0.315565</td>\n",
       "      <td>0.027749</td>\n",
       "      <td>-0.985118</td>\n",
       "      <td>489224</td>\n",
       "      <td>10653157</td>\n",
       "      <td>-0.366235</td>\n",
       "      <td>0.944691</td>\n",
       "      <td>0.750536</td>\n",
       "      <td>-0.312585</td>\n",
       "      <td>-0.615585</td>\n",
       "    </tr>\n",
       "    <tr>\n",
       "      <th>2005-03-01</th>\n",
       "      <td>-0.033210</td>\n",
       "      <td>479025</td>\n",
       "      <td>2870467</td>\n",
       "      <td>0.868310</td>\n",
       "      <td>0.208642</td>\n",
       "      <td>0.565890</td>\n",
       "      <td>0.316596</td>\n",
       "      <td>0.029385</td>\n",
       "      <td>-0.998760</td>\n",
       "      <td>479025</td>\n",
       "      <td>11230182</td>\n",
       "      <td>0.067429</td>\n",
       "      <td>0.942435</td>\n",
       "      <td>0.742085</td>\n",
       "      <td>-0.326191</td>\n",
       "      <td>-0.608959</td>\n",
       "    </tr>\n",
       "    <tr>\n",
       "      <th>2005-03-02</th>\n",
       "      <td>0.986073</td>\n",
       "      <td>458965</td>\n",
       "      <td>4311860</td>\n",
       "      <td>0.964241</td>\n",
       "      <td>0.177637</td>\n",
       "      <td>0.575027</td>\n",
       "      <td>0.317909</td>\n",
       "      <td>0.031230</td>\n",
       "      <td>0.704533</td>\n",
       "      <td>458965</td>\n",
       "      <td>10294635</td>\n",
       "      <td>0.706662</td>\n",
       "      <td>0.957729</td>\n",
       "      <td>0.734868</td>\n",
       "      <td>-0.338970</td>\n",
       "      <td>-0.601874</td>\n",
       "    </tr>\n",
       "    <tr>\n",
       "      <th>2005-03-03</th>\n",
       "      <td>0.990569</td>\n",
       "      <td>589176</td>\n",
       "      <td>2461794</td>\n",
       "      <td>0.966342</td>\n",
       "      <td>0.177343</td>\n",
       "      <td>0.583853</td>\n",
       "      <td>0.319924</td>\n",
       "      <td>0.033097</td>\n",
       "      <td>0.538977</td>\n",
       "      <td>589176</td>\n",
       "      <td>9655981</td>\n",
       "      <td>0.896342</td>\n",
       "      <td>0.943357</td>\n",
       "      <td>0.729266</td>\n",
       "      <td>-0.350936</td>\n",
       "      <td>-0.595477</td>\n",
       "    </tr>\n",
       "    <tr>\n",
       "      <th>...</th>\n",
       "      <td>...</td>\n",
       "      <td>...</td>\n",
       "      <td>...</td>\n",
       "      <td>...</td>\n",
       "      <td>...</td>\n",
       "      <td>...</td>\n",
       "      <td>...</td>\n",
       "      <td>...</td>\n",
       "      <td>...</td>\n",
       "      <td>...</td>\n",
       "      <td>...</td>\n",
       "      <td>...</td>\n",
       "      <td>...</td>\n",
       "      <td>...</td>\n",
       "      <td>...</td>\n",
       "      <td>...</td>\n",
       "    </tr>\n",
       "    <tr>\n",
       "      <th>2020-04-13</th>\n",
       "      <td>0.995344</td>\n",
       "      <td>806105</td>\n",
       "      <td>1527698</td>\n",
       "      <td>0.652206</td>\n",
       "      <td>0.652206</td>\n",
       "      <td>0.652206</td>\n",
       "      <td>0.652206</td>\n",
       "      <td>0.652206</td>\n",
       "      <td>0.669138</td>\n",
       "      <td>806105</td>\n",
       "      <td>83164717</td>\n",
       "      <td>0.871451</td>\n",
       "      <td>0.871451</td>\n",
       "      <td>0.871451</td>\n",
       "      <td>0.871451</td>\n",
       "      <td>0.871451</td>\n",
       "    </tr>\n",
       "    <tr>\n",
       "      <th>2020-04-14</th>\n",
       "      <td>0.700374</td>\n",
       "      <td>1355716</td>\n",
       "      <td>2106761</td>\n",
       "      <td>0.725159</td>\n",
       "      <td>0.725159</td>\n",
       "      <td>0.725159</td>\n",
       "      <td>0.725159</td>\n",
       "      <td>0.725159</td>\n",
       "      <td>0.999157</td>\n",
       "      <td>1355716</td>\n",
       "      <td>88991066</td>\n",
       "      <td>0.989073</td>\n",
       "      <td>0.989073</td>\n",
       "      <td>0.989073</td>\n",
       "      <td>0.989073</td>\n",
       "      <td>0.989073</td>\n",
       "    </tr>\n",
       "    <tr>\n",
       "      <th>2020-04-15</th>\n",
       "      <td>0.440439</td>\n",
       "      <td>2278293</td>\n",
       "      <td>2286696</td>\n",
       "      <td>0.440439</td>\n",
       "      <td>0.440439</td>\n",
       "      <td>0.440439</td>\n",
       "      <td>0.440439</td>\n",
       "      <td>0.440439</td>\n",
       "      <td>0.989084</td>\n",
       "      <td>2278293</td>\n",
       "      <td>99082222</td>\n",
       "      <td>0.989084</td>\n",
       "      <td>0.989084</td>\n",
       "      <td>0.989084</td>\n",
       "      <td>0.989084</td>\n",
       "      <td>0.989084</td>\n",
       "    </tr>\n",
       "    <tr>\n",
       "      <th>2020-04-16</th>\n",
       "      <td>1.000000</td>\n",
       "      <td>1409030</td>\n",
       "      <td>4369550</td>\n",
       "      <td>1.000000</td>\n",
       "      <td>1.000000</td>\n",
       "      <td>1.000000</td>\n",
       "      <td>1.000000</td>\n",
       "      <td>1.000000</td>\n",
       "      <td>1.000000</td>\n",
       "      <td>1409030</td>\n",
       "      <td>89213331</td>\n",
       "      <td>1.000000</td>\n",
       "      <td>1.000000</td>\n",
       "      <td>1.000000</td>\n",
       "      <td>1.000000</td>\n",
       "      <td>1.000000</td>\n",
       "    </tr>\n",
       "    <tr>\n",
       "      <th>2020-04-17</th>\n",
       "      <td>NaN</td>\n",
       "      <td>1153740</td>\n",
       "      <td>2435448</td>\n",
       "      <td>NaN</td>\n",
       "      <td>NaN</td>\n",
       "      <td>NaN</td>\n",
       "      <td>NaN</td>\n",
       "      <td>NaN</td>\n",
       "      <td>NaN</td>\n",
       "      <td>1153740</td>\n",
       "      <td>92800270</td>\n",
       "      <td>NaN</td>\n",
       "      <td>NaN</td>\n",
       "      <td>NaN</td>\n",
       "      <td>NaN</td>\n",
       "      <td>NaN</td>\n",
       "    </tr>\n",
       "  </tbody>\n",
       "</table>\n",
       "<p>896521 rows × 16 columns</p>\n",
       "</div>"
      ],
      "text/plain": [
       "            pnr_ni_corr_rolling_3_days  pnr_volume_left  ni_volume  \\\n",
       "date                                                                 \n",
       "2005-02-25                   -0.365214           425379    3411458   \n",
       "2005-02-28                   -0.952763           489224    3144593   \n",
       "2005-03-01                   -0.033210           479025    2870467   \n",
       "2005-03-02                    0.986073           458965    4311860   \n",
       "2005-03-03                    0.990569           589176    2461794   \n",
       "...                                ...              ...        ...   \n",
       "2020-04-13                    0.995344           806105    1527698   \n",
       "2020-04-14                    0.700374          1355716    2106761   \n",
       "2020-04-15                    0.440439          2278293    2286696   \n",
       "2020-04-16                    1.000000          1409030    4369550   \n",
       "2020-04-17                         NaN          1153740    2435448   \n",
       "\n",
       "            pnr_ni_corr_rolling_7_days  pnr_ni_corr_rolling_30_days  \\\n",
       "date                                                                  \n",
       "2005-02-25                    0.788773                     0.229117   \n",
       "2005-02-28                    0.887341                     0.191981   \n",
       "2005-03-01                    0.868310                     0.208642   \n",
       "2005-03-02                    0.964241                     0.177637   \n",
       "2005-03-03                    0.966342                     0.177343   \n",
       "...                                ...                          ...   \n",
       "2020-04-13                    0.652206                     0.652206   \n",
       "2020-04-14                    0.725159                     0.725159   \n",
       "2020-04-15                    0.440439                     0.440439   \n",
       "2020-04-16                    1.000000                     1.000000   \n",
       "2020-04-17                         NaN                          NaN   \n",
       "\n",
       "            pnr_ni_corr_rolling_180_days  pnr_ni_corr_rolling_365_days  \\\n",
       "date                                                                     \n",
       "2005-02-25                      0.544434                      0.315069   \n",
       "2005-02-28                      0.554551                      0.315565   \n",
       "2005-03-01                      0.565890                      0.316596   \n",
       "2005-03-02                      0.575027                      0.317909   \n",
       "2005-03-03                      0.583853                      0.319924   \n",
       "...                                  ...                           ...   \n",
       "2020-04-13                      0.652206                      0.652206   \n",
       "2020-04-14                      0.725159                      0.725159   \n",
       "2020-04-15                      0.440439                      0.440439   \n",
       "2020-04-16                      1.000000                      1.000000   \n",
       "2020-04-17                           NaN                           NaN   \n",
       "\n",
       "            pnr_ni_corr_rolling_720_days  pnr_bac_corr_rolling_3_days  \\\n",
       "date                                                                    \n",
       "2005-02-25                      0.027209                    -0.978919   \n",
       "2005-02-28                      0.027749                    -0.985118   \n",
       "2005-03-01                      0.029385                    -0.998760   \n",
       "2005-03-02                      0.031230                     0.704533   \n",
       "2005-03-03                      0.033097                     0.538977   \n",
       "...                                  ...                          ...   \n",
       "2020-04-13                      0.652206                     0.669138   \n",
       "2020-04-14                      0.725159                     0.999157   \n",
       "2020-04-15                      0.440439                     0.989084   \n",
       "2020-04-16                      1.000000                     1.000000   \n",
       "2020-04-17                           NaN                          NaN   \n",
       "\n",
       "            pnr_volume  bac_volume  pnr_bac_corr_rolling_7_days  \\\n",
       "date                                                              \n",
       "2005-02-25      425379     8656470                    -0.449730   \n",
       "2005-02-28      489224    10653157                    -0.366235   \n",
       "2005-03-01      479025    11230182                     0.067429   \n",
       "2005-03-02      458965    10294635                     0.706662   \n",
       "2005-03-03      589176     9655981                     0.896342   \n",
       "...                ...         ...                          ...   \n",
       "2020-04-13      806105    83164717                     0.871451   \n",
       "2020-04-14     1355716    88991066                     0.989073   \n",
       "2020-04-15     2278293    99082222                     0.989084   \n",
       "2020-04-16     1409030    89213331                     1.000000   \n",
       "2020-04-17     1153740    92800270                          NaN   \n",
       "\n",
       "            pnr_bac_corr_rolling_30_days  pnr_bac_corr_rolling_180_days  \\\n",
       "date                                                                      \n",
       "2005-02-25                      0.941902                       0.758490   \n",
       "2005-02-28                      0.944691                       0.750536   \n",
       "2005-03-01                      0.942435                       0.742085   \n",
       "2005-03-02                      0.957729                       0.734868   \n",
       "2005-03-03                      0.943357                       0.729266   \n",
       "...                                  ...                            ...   \n",
       "2020-04-13                      0.871451                       0.871451   \n",
       "2020-04-14                      0.989073                       0.989073   \n",
       "2020-04-15                      0.989084                       0.989084   \n",
       "2020-04-16                      1.000000                       1.000000   \n",
       "2020-04-17                           NaN                            NaN   \n",
       "\n",
       "            pnr_bac_corr_rolling_365_days  pnr_bac_corr_rolling_720_days  \n",
       "date                                                                      \n",
       "2005-02-25                      -0.298009                      -0.619574  \n",
       "2005-02-28                      -0.312585                      -0.615585  \n",
       "2005-03-01                      -0.326191                      -0.608959  \n",
       "2005-03-02                      -0.338970                      -0.601874  \n",
       "2005-03-03                      -0.350936                      -0.595477  \n",
       "...                                   ...                            ...  \n",
       "2020-04-13                       0.871451                       0.871451  \n",
       "2020-04-14                       0.989073                       0.989073  \n",
       "2020-04-15                       0.989084                       0.989084  \n",
       "2020-04-16                       1.000000                       1.000000  \n",
       "2020-04-17                            NaN                            NaN  \n",
       "\n",
       "[896521 rows x 16 columns]"
      ]
     },
     "execution_count": 52,
     "metadata": {},
     "output_type": "execute_result"
    }
   ],
   "source": [
    "final_stock_df['pnr_and_ni'].set_index('date').join(final_stock_df['pnr_and_bac'].set_index('date'), lsuffix='_left')"
   ]
  },
  {
   "cell_type": "code",
   "execution_count": null,
   "metadata": {},
   "outputs": [],
   "source": []
  },
  {
   "cell_type": "markdown",
   "metadata": {},
   "source": [
    "## Train Test Split to predict correaltion over the next 7 days"
   ]
  },
  {
   "cell_type": "code",
   "execution_count": null,
   "metadata": {},
   "outputs": [],
   "source": []
  }
 ],
 "metadata": {
  "file_extension": ".py",
  "kernelspec": {
   "display_name": "Python 3.7.0 64-bit ('daily-trading-nJ43NNNI-py3.7': venv)",
   "language": "python",
   "name": "python37064bitdailytradingnj43nnnipy37venvd9db9359ec934f90b15f4732101b653e"
  },
  "language_info": {
   "codemirror_mode": {
    "name": "ipython",
    "version": 3
   },
   "file_extension": ".py",
   "mimetype": "text/x-python",
   "name": "python",
   "nbconvert_exporter": "python",
   "pygments_lexer": "ipython3",
   "version": "3.7.0"
  },
  "mimetype": "text/x-python",
  "name": "python",
  "npconvert_exporter": "python",
  "pygments_lexer": "ipython3",
  "version": 3
 },
 "nbformat": 4,
 "nbformat_minor": 4
}
