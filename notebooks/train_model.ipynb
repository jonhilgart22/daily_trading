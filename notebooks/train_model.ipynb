{
 "cells": [
  {
   "cell_type": "code",
   "execution_count": 1117,
   "metadata": {},
   "outputs": [
    {
     "name": "stdout",
     "output_type": "stream",
     "text": [
      "Populating the interactive namespace from numpy and matplotlib\n"
     ]
    }
   ],
   "source": [
    "import pandas as pd\n",
    "import glob\n",
    "import numpy as numpy\n",
    "import matplotlib.pyplot as plt\n",
    "from collections import defaultdict\n",
    "from tqdm import tqdm\n",
    "import time\n",
    "from sklearn.model_selection import train_test_split\n",
    "from sklearn.ensemble import GradientBoostingRegressor, RandomForestRegressor\n",
    "from sklearn.metrics import mean_squared_error\n",
    "from sklearn.decomposition import PCA\n",
    "import seaborn as sns\n",
    "\n",
    "from sklearn.preprocessing import StandardScaler\n",
    "\n",
    "%pylab inline"
   ]
  },
  {
   "cell_type": "markdown",
   "metadata": {},
   "source": [
    "## Read in data\n"
   ]
  },
  {
   "cell_type": "code",
   "execution_count": 1118,
   "metadata": {},
   "outputs": [
    {
     "name": "stdout",
     "output_type": "stream",
     "text": [
      "Reading in eqix\n",
      "Reading in rost\n",
      "Reading in so\n",
      "Reading in emr\n",
      "Reading in atvi\n",
      "Reading in ce\n",
      "Reading in cern\n",
      "Reading in peg\n",
      "Reading in adbe\n",
      "Reading in rop\n",
      "Reading in are\n",
      "Reading in pg\n",
      "Reading in pvh\n",
      "Reading in lb\n",
      "Reading in vno\n",
      "Reading in ual\n",
      "Reading in efx\n",
      "Reading in ph\n",
      "Reading in pnr\n",
      "Reading in bac\n",
      "Reading in ni\n"
     ]
    }
   ],
   "source": [
    "def read_in_data():\n",
    "    dict_of_stocks_and_dfs = {}\n",
    "    for file_ in glob.glob('../data/updated_historical_stock_data/*.csv'):\n",
    "        stock_name = file_.rsplit(\"/\")[-1].split('_')[0].lower() \n",
    "        print(f\"Reading in {stock_name}\")\n",
    "        dict_of_stocks_and_dfs[stock_name] = pd.read_csv(f\"{file_}\")\n",
    "    return dict_of_stocks_and_dfs"
   ]
  },
  {
   "cell_type": "code",
   "execution_count": null,
   "metadata": {},
   "outputs": [],
   "source": [
    "dict_of_stocks_and_dfs = read_in_data()"
   ]
  },
  {
   "cell_type": "code",
   "execution_count": 1119,
   "metadata": {},
   "outputs": [
    {
     "data": {
      "text/plain": [
       "dict_keys(['eqix', 'rost', 'so', 'emr', 'atvi', 'ce', 'cern', 'peg', 'adbe', 'rop', 'are', 'pg', 'pvh', 'lb', 'vno', 'ual', 'efx', 'ph', 'pnr', 'bac', 'ni'])"
      ]
     },
     "execution_count": 1119,
     "metadata": {},
     "output_type": "execute_result"
    }
   ],
   "source": [
    "# key is company value is df of data\n",
    "dict_of_stocks_and_dfs.keys()"
   ]
  },
  {
   "cell_type": "code",
   "execution_count": 1120,
   "metadata": {},
   "outputs": [
    {
     "data": {
      "text/plain": [
       "21"
      ]
     },
     "execution_count": 1120,
     "metadata": {},
     "output_type": "execute_result"
    }
   ],
   "source": [
    "len(dict_of_stocks_and_dfs)"
   ]
  },
  {
   "cell_type": "code",
   "execution_count": 1134,
   "metadata": {},
   "outputs": [
    {
     "data": {
      "text/plain": [
       "'2020-04-24'"
      ]
     },
     "execution_count": 1134,
     "metadata": {},
     "output_type": "execute_result"
    }
   ],
   "source": [
    "dict_of_stocks_and_dfs['pnr'].date.max()"
   ]
  },
  {
   "cell_type": "raw",
   "metadata": {},
   "source": [
    "dict_of_stocks_and_dfs"
   ]
  },
  {
   "cell_type": "markdown",
   "metadata": {},
   "source": [
    "# Create correlation & variance features\n",
    "- Daily, weekly, 30-days, 90-days, 180-days, 365-daysreturn"
   ]
  },
  {
   "cell_type": "code",
   "execution_count": 1121,
   "metadata": {},
   "outputs": [],
   "source": [
    "\n",
    "# here the date is not the index, yet\n",
    "first_stock_df = dict_of_stocks_and_dfs['ph'].loc[ dict_of_stocks_and_dfs['ph'].date.isin(dict_of_stocks_and_dfs['emr'].date), :]"
   ]
  },
  {
   "cell_type": "code",
   "execution_count": 1122,
   "metadata": {},
   "outputs": [
    {
     "data": {
      "text/plain": [
       "2631.833219846466"
      ]
     },
     "execution_count": 1122,
     "metadata": {},
     "output_type": "execute_result"
    }
   ],
   "source": [
    "np.var(first_stock_df.close)"
   ]
  },
  {
   "cell_type": "code",
   "execution_count": 1123,
   "metadata": {},
   "outputs": [
    {
     "data": {
      "text/html": [
       "<div>\n",
       "<style scoped>\n",
       "    .dataframe tbody tr th:only-of-type {\n",
       "        vertical-align: middle;\n",
       "    }\n",
       "\n",
       "    .dataframe tbody tr th {\n",
       "        vertical-align: top;\n",
       "    }\n",
       "\n",
       "    .dataframe thead th {\n",
       "        text-align: right;\n",
       "    }\n",
       "</style>\n",
       "<table border=\"1\" class=\"dataframe\">\n",
       "  <thead>\n",
       "    <tr style=\"text-align: right;\">\n",
       "      <th></th>\n",
       "      <th>date</th>\n",
       "      <th>open</th>\n",
       "      <th>high</th>\n",
       "      <th>low</th>\n",
       "      <th>close</th>\n",
       "      <th>volume</th>\n",
       "    </tr>\n",
       "  </thead>\n",
       "  <tbody>\n",
       "  </tbody>\n",
       "</table>\n",
       "</div>"
      ],
      "text/plain": [
       "Empty DataFrame\n",
       "Columns: [date, open, high, low, close, volume]\n",
       "Index: []"
      ]
     },
     "execution_count": 1123,
     "metadata": {},
     "output_type": "execute_result"
    }
   ],
   "source": [
    "dict_of_stocks_and_dfs['ph'][dict_of_stocks_and_dfs['ph'].date == '2017-01-02']"
   ]
  },
  {
   "cell_type": "markdown",
   "metadata": {},
   "source": [
    "## Set the date as the index and sort"
   ]
  },
  {
   "cell_type": "code",
   "execution_count": 435,
   "metadata": {},
   "outputs": [],
   "source": [
    "first_stock_df = first_stock_df.sort_values('date')\n",
    "second_stock_df = second_stock_df.sort_values('date')\n",
    "\n",
    "first_stock_df = first_stock_df.set_index('date')\n",
    "second_stock_df = second_stock_df.set_index('date')"
   ]
  },
  {
   "cell_type": "code",
   "execution_count": null,
   "metadata": {},
   "outputs": [],
   "source": []
  },
  {
   "cell_type": "code",
   "execution_count": 762,
   "metadata": {},
   "outputs": [
    {
     "data": {
      "text/plain": [
       "date\n",
       "1985-07-01              NaN\n",
       "1985-07-02              NaN\n",
       "1985-07-03              NaN\n",
       "1985-07-05              NaN\n",
       "1985-07-08              NaN\n",
       "1985-07-09              NaN\n",
       "1985-07-10     95419.697574\n",
       "1985-07-11     93678.013509\n",
       "1985-07-12    217940.467100\n",
       "1985-07-15    232513.207094\n",
       "Name: volume, dtype: float64"
      ]
     },
     "execution_count": 762,
     "metadata": {},
     "output_type": "execute_result"
    }
   ],
   "source": [
    "#pd.DataFrame(\n",
    "first_stock_df.volume.rolling(7).std()[:10] # .fillna(method='backfill').astype(int))"
   ]
  },
  {
   "cell_type": "code",
   "execution_count": null,
   "metadata": {},
   "outputs": [],
   "source": []
  },
  {
   "cell_type": "code",
   "execution_count": 541,
   "metadata": {},
   "outputs": [],
   "source": [
    "corr_df = pd.DataFrame(first_stock_df.close.rolling(7).corr(second_stock_df.close)).fillna(method='backfill').rename({'close': 'rolling_corr'},axis=1)"
   ]
  },
  {
   "cell_type": "code",
   "execution_count": 551,
   "metadata": {},
   "outputs": [
    {
     "data": {
      "text/html": [
       "<div>\n",
       "<style scoped>\n",
       "    .dataframe tbody tr th:only-of-type {\n",
       "        vertical-align: middle;\n",
       "    }\n",
       "\n",
       "    .dataframe tbody tr th {\n",
       "        vertical-align: top;\n",
       "    }\n",
       "\n",
       "    .dataframe thead th {\n",
       "        text-align: right;\n",
       "    }\n",
       "</style>\n",
       "<table border=\"1\" class=\"dataframe\">\n",
       "  <thead>\n",
       "    <tr style=\"text-align: right;\">\n",
       "      <th></th>\n",
       "      <th>rolling_corr</th>\n",
       "    </tr>\n",
       "    <tr>\n",
       "      <th>date</th>\n",
       "      <th></th>\n",
       "    </tr>\n",
       "  </thead>\n",
       "  <tbody>\n",
       "    <tr>\n",
       "      <th>1985-07-01</th>\n",
       "      <td>0.770455</td>\n",
       "    </tr>\n",
       "    <tr>\n",
       "      <th>1985-07-02</th>\n",
       "      <td>0.770455</td>\n",
       "    </tr>\n",
       "    <tr>\n",
       "      <th>1985-07-03</th>\n",
       "      <td>0.770455</td>\n",
       "    </tr>\n",
       "    <tr>\n",
       "      <th>1985-07-05</th>\n",
       "      <td>0.770455</td>\n",
       "    </tr>\n",
       "    <tr>\n",
       "      <th>1985-07-08</th>\n",
       "      <td>0.770455</td>\n",
       "    </tr>\n",
       "    <tr>\n",
       "      <th>...</th>\n",
       "      <td>...</td>\n",
       "    </tr>\n",
       "    <tr>\n",
       "      <th>2020-04-13</th>\n",
       "      <td>0.971589</td>\n",
       "    </tr>\n",
       "    <tr>\n",
       "      <th>2020-04-14</th>\n",
       "      <td>0.951834</td>\n",
       "    </tr>\n",
       "    <tr>\n",
       "      <th>2020-04-15</th>\n",
       "      <td>0.819152</td>\n",
       "    </tr>\n",
       "    <tr>\n",
       "      <th>2020-04-16</th>\n",
       "      <td>0.890888</td>\n",
       "    </tr>\n",
       "    <tr>\n",
       "      <th>2020-04-17</th>\n",
       "      <td>0.935726</td>\n",
       "    </tr>\n",
       "  </tbody>\n",
       "</table>\n",
       "<p>8770 rows × 1 columns</p>\n",
       "</div>"
      ],
      "text/plain": [
       "            rolling_corr\n",
       "date                    \n",
       "1985-07-01      0.770455\n",
       "1985-07-02      0.770455\n",
       "1985-07-03      0.770455\n",
       "1985-07-05      0.770455\n",
       "1985-07-08      0.770455\n",
       "...                  ...\n",
       "2020-04-13      0.971589\n",
       "2020-04-14      0.951834\n",
       "2020-04-15      0.819152\n",
       "2020-04-16      0.890888\n",
       "2020-04-17      0.935726\n",
       "\n",
       "[8770 rows x 1 columns]"
      ]
     },
     "execution_count": 551,
     "metadata": {},
     "output_type": "execute_result"
    }
   ],
   "source": [
    "corr_df"
   ]
  },
  {
   "cell_type": "code",
   "execution_count": 436,
   "metadata": {},
   "outputs": [
    {
     "data": {
      "text/plain": [
       "'2020-04-17'"
      ]
     },
     "execution_count": 436,
     "metadata": {},
     "output_type": "execute_result"
    }
   ],
   "source": [
    "first_stock_df.index.max()"
   ]
  },
  {
   "cell_type": "code",
   "execution_count": 437,
   "metadata": {},
   "outputs": [
    {
     "data": {
      "text/plain": [
       "'2020-04-17'"
      ]
     },
     "execution_count": 437,
     "metadata": {},
     "output_type": "execute_result"
    }
   ],
   "source": [
    "second_stock_df.index.max()"
   ]
  },
  {
   "cell_type": "code",
   "execution_count": 438,
   "metadata": {},
   "outputs": [
    {
     "data": {
      "text/plain": [
       "array([[1.        , 0.95325325],\n",
       "       [0.95325325, 1.        ]])"
      ]
     },
     "execution_count": 438,
     "metadata": {},
     "output_type": "execute_result"
    }
   ],
   "source": [
    "np.corrcoef(first_stock_df.close, second_stock_df.close) # all time corrcoef"
   ]
  },
  {
   "cell_type": "code",
   "execution_count": 439,
   "metadata": {},
   "outputs": [
    {
     "data": {
      "text/plain": [
       "<matplotlib.axes._subplots.AxesSubplot at 0x13937b908>"
      ]
     },
     "execution_count": 439,
     "metadata": {},
     "output_type": "execute_result"
    },
    {
     "data": {
      "image/png": "[encoded data removed]",
      "text/plain": [
       "<Figure size 432x288 with 1 Axes>"
      ]
     },
     "metadata": {
      "needs_background": "light"
     },
     "output_type": "display_data"
    }
   ],
   "source": [
    "\n",
    "ax = first_stock_df.plot(y='close')\n",
    "second_stock_df.plot(y='close', color='red', ax=ax)"
   ]
  },
  {
   "cell_type": "code",
   "execution_count": 444,
   "metadata": {},
   "outputs": [
    {
     "name": "stdout",
     "output_type": "stream",
     "text": [
      "<class 'pandas.core.frame.DataFrame'>\n",
      "RangeIndex: 8770 entries, 0 to 8769\n",
      "Data columns (total 2 columns):\n",
      " #   Column       Non-Null Count  Dtype  \n",
      "---  ------       --------------  -----  \n",
      " 0   date         8770 non-null   object \n",
      " 1   correlation  8769 non-null   float64\n",
      "dtypes: float64(1), object(1)\n",
      "memory usage: 137.2+ KB\n"
     ]
    }
   ],
   "source": [
    "correlation_df.info()"
   ]
  },
  {
   "cell_type": "code",
   "execution_count": 445,
   "metadata": {},
   "outputs": [
    {
     "data": {
      "text/plain": [
       "<matplotlib.axes._subplots.AxesSubplot at 0x13938fda0>"
      ]
     },
     "execution_count": 445,
     "metadata": {},
     "output_type": "execute_result"
    },
    {
     "data": {
      "image/png": "[encoded data removed]",
      "text/plain": [
       "<Figure size 2160x360 with 1 Axes>"
      ]
     },
     "metadata": {
      "needs_background": "light"
     },
     "output_type": "display_data"
    }
   ],
   "source": [
    "correlation_df.set_index('date').plot(figsize=(30,5), title='Rolling 365-day correlation between ph and emr')"
   ]
  },
  {
   "cell_type": "markdown",
   "metadata": {},
   "source": [
    "## Build a function to create correlation features for all pairs of stocks"
   ]
  },
  {
   "cell_type": "code",
   "execution_count": 1151,
   "metadata": {},
   "outputs": [],
   "source": [
    "def build_correlation_dfs(dict_of_stocks_and_dfs, n_day_rolling_features_list=[ 3, 6, 7, 8, 10], verbose=False):\n",
    "    \"\"\"\n",
    "    Create correlation + variance based  upon daily closing stock prices for given date ranges\n",
    "    \n",
    "    also include daily volume\n",
    "    \n",
    "    We are trying to  predict 7 day correaltion\n",
    "    \"\"\"\n",
    "\n",
    "    stock_features_dict = defaultdict(pd.DataFrame)\n",
    "    start_time = time.time()\n",
    "    \n",
    "    start = time.time()\n",
    "    n_stocks = len(dict_of_stocks_and_dfs.keys())\n",
    "    final_feature_df = create_date_dummy_df()\n",
    "    pairs_of_stocks = []\n",
    "    \n",
    "    for idx, first_stock_name in enumerate(dict_of_stocks_and_dfs.keys()):\n",
    "        print('')\n",
    "        print(f\"Finished {idx/n_stocks} pct of stocks\")\n",
    "        print('')\n",
    "        for second_idx, second_stock_name in enumerate(dict_of_stocks_and_dfs.keys()):\n",
    "            stock_pair = f\"{first_stock_name}_{second_stock_name}\"\n",
    "            reverse_pair = f\"{second_stock_name}_{first_stock_name}\"\n",
    "            \n",
    "            if (first_stock_name == second_stock_name) or (stock_pair in pairs_of_stocks)  or (reverse_pair in pairs_of_stocks): # pnr -> ual same as ual -> pnr\n",
    "                continue\n",
    "            else:\n",
    "                pairs_of_stocks.append(stock_pair)\n",
    "            if verbose:\n",
    "                print('-------')\n",
    "                print(f\"{first_stock_name} & {second_stock_name}\")\n",
    "                print('-------')\n",
    "            \n",
    "            # here the date is not the index, yet\n",
    "            first_stock_df = dict_of_stocks_and_dfs[f\"{first_stock_name}\"].loc[ \n",
    "                dict_of_stocks_and_dfs[f\"{first_stock_name}\"].date.isin(dict_of_stocks_and_dfs[f\"{second_stock_name}\"].date), :]\n",
    "\n",
    "            #  filter second df by the dates in first\n",
    "\n",
    "            # here the date is not the index, yet\n",
    "            second_stock_df = dict_of_stocks_and_dfs[f\"{second_stock_name}\"].loc[ \n",
    "                dict_of_stocks_and_dfs[f\"{second_stock_name}\"].date.isin(dict_of_stocks_and_dfs[f\"{first_stock_name}\"].date), :]\n",
    "\n",
    "            # set the date as an index and sort by date\n",
    "            first_stock_df = first_stock_df.sort_values('date')\n",
    "            second_stock_df = second_stock_df.sort_values('date')\n",
    "\n",
    "            first_stock_df = first_stock_df.set_index('date')\n",
    "            second_stock_df = second_stock_df.set_index('date')\n",
    "            \n",
    "            all_features_df = pd.DataFrame()\n",
    "            for rolling_idx, rolling_day in enumerate(n_day_rolling_features_list):\n",
    "                features_df = create_correlation_and_variance_features(\n",
    "                    first_stock_df, second_stock_df, rolling_day, final_feature_df, \n",
    "                    first_stock_name=first_stock_name, second_stock_name=second_stock_name)\n",
    "                   \n",
    "                current_feature_cols = set(features_df.columns)\n",
    "                final_feature_cols = set(final_feature_df.columns)\n",
    "\n",
    "                \n",
    "                if (f\"{first_stock_name}_volume\" not in final_feature_df.columns) and (rolling_idx == 0):\n",
    "                    features_df[f\"{first_stock_name}_volume\"] = list(first_stock_df.volume)\n",
    "                \n",
    "                if (f\"{second_stock_name}_volume\" not in final_feature_df.columns) and (rolling_idx == 0):\n",
    "                    features_df[f\"{second_stock_name}_volume\"] = list(second_stock_df.volume)\n",
    "                    \n",
    "                if rolling_idx == 0: \n",
    "                    all_features_df = features_df\n",
    "                else:\n",
    "                    all_features_df = all_features_df.join(features_df, on='date', lsuffix='_left')\n",
    "                    \n",
    "            all_features_df.index = pd.to_datetime(all_features_df.index)\n",
    "            final_feature_df = final_feature_df.join(all_features_df, on='date')\n",
    "            if verbose:\n",
    "                end = time.time()\n",
    "                print(f\"Building all features took {(end-start)/60} minutes\")\n",
    "                start = time.time()\n",
    "\n",
    "    end_time = time.time()\n",
    "    print(f\"Total time {(end_time-start_time) / 60} minutes for {len(pairs_of_stocks)} pairs\")\n",
    "    final_feature_df = add_time_feature(final_feature_df)\n",
    "    return final_feature_df, pairs_of_stocks\n",
    "            \n",
    "        \n",
    "\n",
    "# Note: will eventuall need to add in 0s for stocks withour correlation data with other stocks due to date range"
   ]
  },
  {
   "cell_type": "code",
   "execution_count": 1152,
   "metadata": {},
   "outputs": [],
   "source": [
    "def create_date_dummy_df(start_date=datetime.datetime(1980,1,1), n_years=55):\n",
    "    \n",
    "    #  create dummy df with dates to join against\n",
    "    list_of_dates  = []\n",
    "    n_days = 365*n_years\n",
    "    start_date = datetime.datetime(1970,1,1)\n",
    "\n",
    "    for i in range(n_days):\n",
    "        list_of_dates.append(start_date + datetime.timedelta(i))\n",
    "    df_ = pd.DataFrame(list_of_dates, columns=['date'])\n",
    "    \n",
    "    df_.date_ =  pd.to_datetime(df_.date)\n",
    "    return df_.set_index('date')\n",
    "    "
   ]
  },
  {
   "cell_type": "code",
   "execution_count": 1153,
   "metadata": {},
   "outputs": [],
   "source": [
    "def add_time_feature(final_stock_df):\n",
    "    \n",
    "    days = [i.day for i in final_stock_df.index]\n",
    "    months = [i.month for i in final_stock_df.index]\n",
    "    quarters = [i.quarter for i in final_stock_df.index]\n",
    "    years = [i.year for i in final_stock_df.index]\n",
    "\n",
    "    final_stock_df['day'] = days\n",
    "    final_stock_df['month'] = months\n",
    "    final_stock_df['quarter'] = quarters\n",
    "    final_stock_df['year'] = years\n",
    "    \n",
    "    return final_stock_df"
   ]
  },
  {
   "cell_type": "code",
   "execution_count": 1154,
   "metadata": {},
   "outputs": [],
   "source": [
    "def create_correlation_and_variance_features(first_stock_df, second_stock_df, n_days_stride, final_stock_df, \n",
    "                                             first_stock_name=None, second_stock_name=None, verbose=False):\n",
    "    \"\"\"\n",
    "    n_days_stride: the  number of rolling days to calculate correlation for\n",
    "    \"\"\"\n",
    "    n_rows = len(first_stock_df)\n",
    "\n",
    "    previous_row = 0\n",
    "\n",
    "    features_per_time_period = defaultdict(list)\n",
    "    if verbose:\n",
    "        print(f\"Creating correlations + variance on close for {n_days_stride} days\")\n",
    "    \n",
    "    rolling_close_df = pd.DataFrame(first_stock_df.close.rolling(\n",
    "        n_days_stride).corr(second_stock_df.close)).rename(\n",
    "        {'close': f\"{first_stock_name}_{second_stock_name}_close_corr_rolling_{n_days_stride}_days\"},axis=1).fillna(method='backfill').round(6)\n",
    "\n",
    "    \n",
    "    # add cols\n",
    "    \n",
    "    current_feature_cols = list(final_stock_df.columns)\n",
    "    \n",
    "\n",
    "    # as we go through different pairs will have multiple var / corr for the first stock\n",
    "    # pnc_bar calcualtes corr for pnr\n",
    "    #pnr_bat calculates corr for pnr\n",
    "    # don't want the same cols\n",
    "    if f\"{first_stock_name}_close_std_rolling_{n_days_stride}_days\" not in current_feature_cols:\n",
    "        \n",
    "        rolling_close_std_first_stock =  first_stock_df.close.rolling(n_days_stride).std().fillna(method='backfill').round(6)\n",
    "        rolling_close_df[f\"{first_stock_name}_close_std_rolling_{n_days_stride}_days\"] = rolling_close_std_first_stock\n",
    "        \n",
    "    if f\"{second_stock_name}_close_std_rolling_{n_days_stride}_days\" not in current_feature_cols:\n",
    "        rolling_close_std_second_stock =  second_stock_df.close.rolling(n_days_stride).std().fillna(method='backfill').round( 6)\n",
    "        rolling_close_df[f\"{second_stock_name}_close_std_rolling_{n_days_stride}_days\"] = rolling_close_std_second_stock\n",
    "        \n",
    "    if f\"{first_stock_name}_volume_std_rolling_{n_days_stride}_days\" not in current_feature_cols:\n",
    "        rolling_volume_std_first_stock =  first_stock_df.volume.rolling(n_days_stride).std().fillna(method='backfill').round(6)\n",
    "        rolling_close_df[f\"{first_stock_name}_volume_std_rolling_{n_days_stride}_days\"] = rolling_volume_std_first_stock\n",
    "        \n",
    "    if f\"{second_stock_name}_volume_std_rolling_{n_days_stride}_days\" not in current_feature_cols:\n",
    "        rolling_volume_std_second_stock =  second_stock_df.volume.rolling(n_days_stride).std().fillna(method='backfill').round(6)\n",
    "        rolling_close_df[f\"{second_stock_name}_volume_std_rolling_{n_days_stride}_days\"] = rolling_volume_std_second_stock\n",
    "    \n",
    "    return rolling_close_df\n",
    "\n"
   ]
  },
  {
   "cell_type": "code",
   "execution_count": 1155,
   "metadata": {},
   "outputs": [
    {
     "name": "stderr",
     "output_type": "stream",
     "text": [
      "/Users/jonathanhilgart/Library/Caches/pypoetry/virtualenvs/daily-trading-nJ43NNNI-py3.7/lib/python3.7/site-packages/ipykernel_launcher.py:12: UserWarning: Pandas doesn't allow columns to be created via a new attribute name - see https://pandas.pydata.org/pandas-docs/stable/indexing.html#attribute-access\n",
      "  if sys.path[0] == '':\n"
     ]
    },
    {
     "name": "stdout",
     "output_type": "stream",
     "text": [
      "\n",
      "Finished 0.0 pct of stocks\n",
      "\n",
      "two stocks matche!\n",
      "eqix\n",
      "eqix\n",
      "\n",
      "Finished 0.047619047619047616 pct of stocks\n",
      "\n",
      "two stocks matche!\n",
      "rost\n",
      "eqix\n",
      "two stocks matche!\n",
      "rost\n",
      "rost\n",
      "\n",
      "Finished 0.09523809523809523 pct of stocks\n",
      "\n",
      "two stocks matche!\n",
      "so\n",
      "eqix\n",
      "two stocks matche!\n",
      "so\n",
      "rost\n",
      "two stocks matche!\n",
      "so\n",
      "so\n",
      "\n",
      "Finished 0.14285714285714285 pct of stocks\n",
      "\n",
      "two stocks matche!\n",
      "emr\n",
      "eqix\n",
      "two stocks matche!\n",
      "emr\n",
      "rost\n",
      "two stocks matche!\n",
      "emr\n",
      "so\n",
      "two stocks matche!\n",
      "emr\n",
      "emr\n",
      "\n",
      "Finished 0.19047619047619047 pct of stocks\n",
      "\n",
      "two stocks matche!\n",
      "atvi\n",
      "eqix\n",
      "two stocks matche!\n",
      "atvi\n",
      "rost\n",
      "two stocks matche!\n",
      "atvi\n",
      "so\n",
      "two stocks matche!\n",
      "atvi\n",
      "emr\n",
      "two stocks matche!\n",
      "atvi\n",
      "atvi\n",
      "\n",
      "Finished 0.23809523809523808 pct of stocks\n",
      "\n",
      "two stocks matche!\n",
      "ce\n",
      "eqix\n",
      "two stocks matche!\n",
      "ce\n",
      "rost\n",
      "two stocks matche!\n",
      "ce\n",
      "so\n",
      "two stocks matche!\n",
      "ce\n",
      "emr\n",
      "two stocks matche!\n",
      "ce\n",
      "atvi\n",
      "two stocks matche!\n",
      "ce\n",
      "ce\n",
      "\n",
      "Finished 0.2857142857142857 pct of stocks\n",
      "\n",
      "two stocks matche!\n",
      "cern\n",
      "eqix\n",
      "two stocks matche!\n",
      "cern\n",
      "rost\n",
      "two stocks matche!\n",
      "cern\n",
      "so\n",
      "two stocks matche!\n",
      "cern\n",
      "emr\n",
      "two stocks matche!\n",
      "cern\n",
      "atvi\n",
      "two stocks matche!\n",
      "cern\n",
      "ce\n",
      "two stocks matche!\n",
      "cern\n",
      "cern\n",
      "\n",
      "Finished 0.3333333333333333 pct of stocks\n",
      "\n",
      "two stocks matche!\n",
      "peg\n",
      "eqix\n",
      "two stocks matche!\n",
      "peg\n",
      "rost\n",
      "two stocks matche!\n",
      "peg\n",
      "so\n",
      "two stocks matche!\n",
      "peg\n",
      "emr\n",
      "two stocks matche!\n",
      "peg\n",
      "atvi\n",
      "two stocks matche!\n",
      "peg\n",
      "ce\n",
      "two stocks matche!\n",
      "peg\n",
      "cern\n",
      "two stocks matche!\n",
      "peg\n",
      "peg\n",
      "\n",
      "Finished 0.38095238095238093 pct of stocks\n",
      "\n",
      "two stocks matche!\n",
      "adbe\n",
      "eqix\n",
      "two stocks matche!\n",
      "adbe\n",
      "rost\n",
      "two stocks matche!\n",
      "adbe\n",
      "so\n",
      "two stocks matche!\n",
      "adbe\n",
      "emr\n",
      "two stocks matche!\n",
      "adbe\n",
      "atvi\n",
      "two stocks matche!\n",
      "adbe\n",
      "ce\n",
      "two stocks matche!\n",
      "adbe\n",
      "cern\n",
      "two stocks matche!\n",
      "adbe\n",
      "peg\n",
      "two stocks matche!\n",
      "adbe\n",
      "adbe\n",
      "\n",
      "Finished 0.42857142857142855 pct of stocks\n",
      "\n",
      "two stocks matche!\n",
      "rop\n",
      "eqix\n",
      "two stocks matche!\n",
      "rop\n",
      "rost\n",
      "two stocks matche!\n",
      "rop\n",
      "so\n",
      "two stocks matche!\n",
      "rop\n",
      "emr\n",
      "two stocks matche!\n",
      "rop\n",
      "atvi\n",
      "two stocks matche!\n",
      "rop\n",
      "ce\n",
      "two stocks matche!\n",
      "rop\n",
      "cern\n",
      "two stocks matche!\n",
      "rop\n",
      "peg\n",
      "two stocks matche!\n",
      "rop\n",
      "adbe\n",
      "two stocks matche!\n",
      "rop\n",
      "rop\n",
      "\n",
      "Finished 0.47619047619047616 pct of stocks\n",
      "\n",
      "two stocks matche!\n",
      "are\n",
      "eqix\n",
      "two stocks matche!\n",
      "are\n",
      "rost\n",
      "two stocks matche!\n",
      "are\n",
      "so\n",
      "two stocks matche!\n",
      "are\n",
      "emr\n",
      "two stocks matche!\n",
      "are\n",
      "atvi\n",
      "two stocks matche!\n",
      "are\n",
      "ce\n",
      "two stocks matche!\n",
      "are\n",
      "cern\n",
      "two stocks matche!\n",
      "are\n",
      "peg\n",
      "two stocks matche!\n",
      "are\n",
      "adbe\n",
      "two stocks matche!\n",
      "are\n",
      "rop\n",
      "two stocks matche!\n",
      "are\n",
      "are\n",
      "\n",
      "Finished 0.5238095238095238 pct of stocks\n",
      "\n",
      "two stocks matche!\n",
      "pg\n",
      "eqix\n",
      "two stocks matche!\n",
      "pg\n",
      "rost\n",
      "two stocks matche!\n",
      "pg\n",
      "so\n",
      "two stocks matche!\n",
      "pg\n",
      "emr\n",
      "two stocks matche!\n",
      "pg\n",
      "atvi\n",
      "two stocks matche!\n",
      "pg\n",
      "ce\n",
      "two stocks matche!\n",
      "pg\n",
      "cern\n",
      "two stocks matche!\n",
      "pg\n",
      "peg\n",
      "two stocks matche!\n",
      "pg\n",
      "adbe\n",
      "two stocks matche!\n",
      "pg\n",
      "rop\n",
      "two stocks matche!\n",
      "pg\n",
      "are\n",
      "two stocks matche!\n",
      "pg\n",
      "pg\n",
      "\n",
      "Finished 0.5714285714285714 pct of stocks\n",
      "\n",
      "two stocks matche!\n",
      "pvh\n",
      "eqix\n",
      "two stocks matche!\n",
      "pvh\n",
      "rost\n",
      "two stocks matche!\n",
      "pvh\n",
      "so\n",
      "two stocks matche!\n",
      "pvh\n",
      "emr\n",
      "two stocks matche!\n",
      "pvh\n",
      "atvi\n",
      "two stocks matche!\n",
      "pvh\n",
      "ce\n",
      "two stocks matche!\n",
      "pvh\n",
      "cern\n",
      "two stocks matche!\n",
      "pvh\n",
      "peg\n",
      "two stocks matche!\n",
      "pvh\n",
      "adbe\n",
      "two stocks matche!\n",
      "pvh\n",
      "rop\n",
      "two stocks matche!\n",
      "pvh\n",
      "are\n",
      "two stocks matche!\n",
      "pvh\n",
      "pg\n",
      "two stocks matche!\n",
      "pvh\n",
      "pvh\n",
      "\n",
      "Finished 0.6190476190476191 pct of stocks\n",
      "\n",
      "two stocks matche!\n",
      "lb\n",
      "eqix\n",
      "two stocks matche!\n",
      "lb\n",
      "rost\n",
      "two stocks matche!\n",
      "lb\n",
      "so\n",
      "two stocks matche!\n",
      "lb\n",
      "emr\n",
      "two stocks matche!\n",
      "lb\n",
      "atvi\n",
      "two stocks matche!\n",
      "lb\n",
      "ce\n",
      "two stocks matche!\n",
      "lb\n",
      "cern\n",
      "two stocks matche!\n",
      "lb\n",
      "peg\n",
      "two stocks matche!\n",
      "lb\n",
      "adbe\n",
      "two stocks matche!\n",
      "lb\n",
      "rop\n",
      "two stocks matche!\n",
      "lb\n",
      "are\n",
      "two stocks matche!\n",
      "lb\n",
      "pg\n",
      "two stocks matche!\n",
      "lb\n",
      "pvh\n",
      "two stocks matche!\n",
      "lb\n",
      "lb\n",
      "\n",
      "Finished 0.6666666666666666 pct of stocks\n",
      "\n",
      "two stocks matche!\n",
      "vno\n",
      "eqix\n",
      "two stocks matche!\n",
      "vno\n",
      "rost\n",
      "two stocks matche!\n",
      "vno\n",
      "so\n",
      "two stocks matche!\n",
      "vno\n",
      "emr\n",
      "two stocks matche!\n",
      "vno\n",
      "atvi\n",
      "two stocks matche!\n",
      "vno\n",
      "ce\n",
      "two stocks matche!\n",
      "vno\n",
      "cern\n",
      "two stocks matche!\n",
      "vno\n",
      "peg\n",
      "two stocks matche!\n",
      "vno\n",
      "adbe\n",
      "two stocks matche!\n",
      "vno\n",
      "rop\n",
      "two stocks matche!\n",
      "vno\n",
      "are\n",
      "two stocks matche!\n",
      "vno\n",
      "pg\n",
      "two stocks matche!\n",
      "vno\n",
      "pvh\n",
      "two stocks matche!\n",
      "vno\n",
      "lb\n",
      "two stocks matche!\n",
      "vno\n",
      "vno\n",
      "\n",
      "Finished 0.7142857142857143 pct of stocks\n",
      "\n",
      "two stocks matche!\n",
      "ual\n",
      "eqix\n",
      "two stocks matche!\n",
      "ual\n",
      "rost\n",
      "two stocks matche!\n",
      "ual\n",
      "so\n",
      "two stocks matche!\n",
      "ual\n",
      "emr\n",
      "two stocks matche!\n",
      "ual\n",
      "atvi\n",
      "two stocks matche!\n",
      "ual\n",
      "ce\n",
      "two stocks matche!\n",
      "ual\n",
      "cern\n",
      "two stocks matche!\n",
      "ual\n",
      "peg\n",
      "two stocks matche!\n",
      "ual\n",
      "adbe\n",
      "two stocks matche!\n",
      "ual\n",
      "rop\n",
      "two stocks matche!\n",
      "ual\n",
      "are\n",
      "two stocks matche!\n",
      "ual\n",
      "pg\n",
      "two stocks matche!\n",
      "ual\n",
      "pvh\n",
      "two stocks matche!\n",
      "ual\n",
      "lb\n",
      "two stocks matche!\n",
      "ual\n",
      "vno\n",
      "two stocks matche!\n",
      "ual\n",
      "ual\n",
      "\n",
      "Finished 0.7619047619047619 pct of stocks\n",
      "\n",
      "two stocks matche!\n",
      "efx\n",
      "eqix\n",
      "two stocks matche!\n",
      "efx\n",
      "rost\n",
      "two stocks matche!\n",
      "efx\n",
      "so\n",
      "two stocks matche!\n",
      "efx\n",
      "emr\n",
      "two stocks matche!\n",
      "efx\n",
      "atvi\n",
      "two stocks matche!\n",
      "efx\n",
      "ce\n",
      "two stocks matche!\n",
      "efx\n",
      "cern\n",
      "two stocks matche!\n",
      "efx\n",
      "peg\n",
      "two stocks matche!\n",
      "efx\n",
      "adbe\n",
      "two stocks matche!\n",
      "efx\n",
      "rop\n",
      "two stocks matche!\n",
      "efx\n",
      "are\n",
      "two stocks matche!\n",
      "efx\n",
      "pg\n",
      "two stocks matche!\n",
      "efx\n",
      "pvh\n",
      "two stocks matche!\n",
      "efx\n",
      "lb\n",
      "two stocks matche!\n",
      "efx\n",
      "vno\n",
      "two stocks matche!\n",
      "efx\n",
      "ual\n",
      "two stocks matche!\n",
      "efx\n",
      "efx\n",
      "\n",
      "Finished 0.8095238095238095 pct of stocks\n",
      "\n",
      "two stocks matche!\n",
      "ph\n",
      "eqix\n",
      "two stocks matche!\n",
      "ph\n",
      "rost\n",
      "two stocks matche!\n",
      "ph\n",
      "so\n",
      "two stocks matche!\n",
      "ph\n",
      "emr\n",
      "two stocks matche!\n",
      "ph\n",
      "atvi\n",
      "two stocks matche!\n",
      "ph\n",
      "ce\n",
      "two stocks matche!\n",
      "ph\n",
      "cern\n",
      "two stocks matche!\n",
      "ph\n",
      "peg\n",
      "two stocks matche!\n",
      "ph\n",
      "adbe\n",
      "two stocks matche!\n",
      "ph\n",
      "rop\n",
      "two stocks matche!\n",
      "ph\n",
      "are\n",
      "two stocks matche!\n",
      "ph\n",
      "pg\n",
      "two stocks matche!\n",
      "ph\n",
      "pvh\n",
      "two stocks matche!\n",
      "ph\n",
      "lb\n",
      "two stocks matche!\n",
      "ph\n",
      "vno\n",
      "two stocks matche!\n",
      "ph\n",
      "ual\n",
      "two stocks matche!\n",
      "ph\n",
      "efx\n",
      "two stocks matche!\n",
      "ph\n",
      "ph\n",
      "\n",
      "Finished 0.8571428571428571 pct of stocks\n",
      "\n",
      "two stocks matche!\n",
      "pnr\n",
      "eqix\n",
      "two stocks matche!\n",
      "pnr\n",
      "rost\n",
      "two stocks matche!\n",
      "pnr\n",
      "so\n",
      "two stocks matche!\n",
      "pnr\n",
      "emr\n",
      "two stocks matche!\n",
      "pnr\n",
      "atvi\n",
      "two stocks matche!\n",
      "pnr\n",
      "ce\n",
      "two stocks matche!\n",
      "pnr\n",
      "cern\n",
      "two stocks matche!\n",
      "pnr\n",
      "peg\n",
      "two stocks matche!\n",
      "pnr\n",
      "adbe\n",
      "two stocks matche!\n",
      "pnr\n",
      "rop\n",
      "two stocks matche!\n",
      "pnr\n",
      "are\n",
      "two stocks matche!\n",
      "pnr\n",
      "pg\n",
      "two stocks matche!\n",
      "pnr\n",
      "pvh\n",
      "two stocks matche!\n",
      "pnr\n",
      "lb\n",
      "two stocks matche!\n",
      "pnr\n",
      "vno\n",
      "two stocks matche!\n",
      "pnr\n",
      "ual\n",
      "two stocks matche!\n",
      "pnr\n",
      "efx\n",
      "two stocks matche!\n",
      "pnr\n",
      "ph\n",
      "two stocks matche!\n",
      "pnr\n",
      "pnr\n",
      "\n",
      "Finished 0.9047619047619048 pct of stocks\n",
      "\n",
      "two stocks matche!\n",
      "bac\n",
      "eqix\n",
      "two stocks matche!\n",
      "bac\n",
      "rost\n",
      "two stocks matche!\n",
      "bac\n",
      "so\n",
      "two stocks matche!\n",
      "bac\n",
      "emr\n",
      "two stocks matche!\n",
      "bac\n",
      "atvi\n",
      "two stocks matche!\n",
      "bac\n",
      "ce\n",
      "two stocks matche!\n",
      "bac\n",
      "cern\n",
      "two stocks matche!\n",
      "bac\n",
      "peg\n",
      "two stocks matche!\n",
      "bac\n",
      "adbe\n",
      "two stocks matche!\n",
      "bac\n",
      "rop\n",
      "two stocks matche!\n",
      "bac\n",
      "are\n",
      "two stocks matche!\n",
      "bac\n",
      "pg\n",
      "two stocks matche!\n",
      "bac\n",
      "pvh\n",
      "two stocks matche!\n",
      "bac\n",
      "lb\n",
      "two stocks matche!\n",
      "bac\n",
      "vno\n",
      "two stocks matche!\n",
      "bac\n",
      "ual\n",
      "two stocks matche!\n",
      "bac\n",
      "efx\n",
      "two stocks matche!\n",
      "bac\n",
      "ph\n",
      "two stocks matche!\n",
      "bac\n",
      "pnr\n",
      "two stocks matche!\n",
      "bac\n",
      "bac\n",
      "\n",
      "Finished 0.9523809523809523 pct of stocks\n",
      "\n",
      "two stocks matche!\n",
      "ni\n",
      "eqix\n",
      "two stocks matche!\n",
      "ni\n",
      "rost\n",
      "two stocks matche!\n",
      "ni\n",
      "so\n",
      "two stocks matche!\n",
      "ni\n",
      "emr\n",
      "two stocks matche!\n",
      "ni\n",
      "atvi\n",
      "two stocks matche!\n",
      "ni\n",
      "ce\n",
      "two stocks matche!\n",
      "ni\n",
      "cern\n",
      "two stocks matche!\n",
      "ni\n",
      "peg\n",
      "two stocks matche!\n",
      "ni\n",
      "adbe\n",
      "two stocks matche!\n",
      "ni\n",
      "rop\n",
      "two stocks matche!\n",
      "ni\n",
      "are\n",
      "two stocks matche!\n",
      "ni\n",
      "pg\n",
      "two stocks matche!\n",
      "ni\n",
      "pvh\n",
      "two stocks matche!\n",
      "ni\n",
      "lb\n",
      "two stocks matche!\n",
      "ni\n",
      "vno\n",
      "two stocks matche!\n",
      "ni\n",
      "ual\n",
      "two stocks matche!\n",
      "ni\n",
      "efx\n",
      "two stocks matche!\n",
      "ni\n",
      "ph\n",
      "two stocks matche!\n",
      "ni\n",
      "pnr\n",
      "two stocks matche!\n",
      "ni\n",
      "bac\n",
      "two stocks matche!\n",
      "ni\n",
      "ni\n",
      "Total time 0.6602422634760539 minutes for 210 pairs\n"
     ]
    }
   ],
   "source": [
    "# 100 minutes for 20 stocks (20*20 = 400 pairs each pair takes .25 minutes)\n",
    "final_stock_df, pairs_of_stocks = build_correlation_dfs(dict_of_stocks_and_dfs)"
   ]
  },
  {
   "cell_type": "code",
   "execution_count": 1156,
   "metadata": {},
   "outputs": [
    {
     "data": {
      "text/html": [
       "<div>\n",
       "<style scoped>\n",
       "    .dataframe tbody tr th:only-of-type {\n",
       "        vertical-align: middle;\n",
       "    }\n",
       "\n",
       "    .dataframe tbody tr th {\n",
       "        vertical-align: top;\n",
       "    }\n",
       "\n",
       "    .dataframe thead th {\n",
       "        text-align: right;\n",
       "    }\n",
       "</style>\n",
       "<table border=\"1\" class=\"dataframe\">\n",
       "  <thead>\n",
       "    <tr style=\"text-align: right;\">\n",
       "      <th></th>\n",
       "      <th>eqix_rost_close_corr_rolling_3_days</th>\n",
       "      <th>eqix_close_std_rolling_3_days</th>\n",
       "      <th>rost_close_std_rolling_3_days</th>\n",
       "      <th>eqix_volume_std_rolling_3_days</th>\n",
       "      <th>rost_volume_std_rolling_3_days</th>\n",
       "      <th>eqix_volume</th>\n",
       "      <th>rost_volume</th>\n",
       "      <th>eqix_rost_close_corr_rolling_6_days</th>\n",
       "      <th>eqix_close_std_rolling_6_days</th>\n",
       "      <th>rost_close_std_rolling_6_days</th>\n",
       "      <th>...</th>\n",
       "      <th>pnr_ni_close_corr_rolling_10_days</th>\n",
       "      <th>bac_ni_close_corr_rolling_3_days</th>\n",
       "      <th>bac_ni_close_corr_rolling_6_days</th>\n",
       "      <th>bac_ni_close_corr_rolling_7_days</th>\n",
       "      <th>bac_ni_close_corr_rolling_8_days</th>\n",
       "      <th>bac_ni_close_corr_rolling_10_days</th>\n",
       "      <th>day</th>\n",
       "      <th>month</th>\n",
       "      <th>quarter</th>\n",
       "      <th>year</th>\n",
       "    </tr>\n",
       "    <tr>\n",
       "      <th>date</th>\n",
       "      <th></th>\n",
       "      <th></th>\n",
       "      <th></th>\n",
       "      <th></th>\n",
       "      <th></th>\n",
       "      <th></th>\n",
       "      <th></th>\n",
       "      <th></th>\n",
       "      <th></th>\n",
       "      <th></th>\n",
       "      <th></th>\n",
       "      <th></th>\n",
       "      <th></th>\n",
       "      <th></th>\n",
       "      <th></th>\n",
       "      <th></th>\n",
       "      <th></th>\n",
       "      <th></th>\n",
       "      <th></th>\n",
       "      <th></th>\n",
       "      <th></th>\n",
       "    </tr>\n",
       "  </thead>\n",
       "  <tbody>\n",
       "    <tr>\n",
       "      <th>2005-02-25</th>\n",
       "      <td>-0.674725</td>\n",
       "      <td>0.227786</td>\n",
       "      <td>0.034755</td>\n",
       "      <td>34417.241396</td>\n",
       "      <td>1.370540e+06</td>\n",
       "      <td>101044.0</td>\n",
       "      <td>4053375.0</td>\n",
       "      <td>0.815942</td>\n",
       "      <td>0.955232</td>\n",
       "      <td>0.247500</td>\n",
       "      <td>...</td>\n",
       "      <td>0.793995</td>\n",
       "      <td>0.963097</td>\n",
       "      <td>0.864588</td>\n",
       "      <td>0.897127</td>\n",
       "      <td>0.912661</td>\n",
       "      <td>0.920168</td>\n",
       "      <td>25</td>\n",
       "      <td>2</td>\n",
       "      <td>1</td>\n",
       "      <td>2005</td>\n",
       "    </tr>\n",
       "    <tr>\n",
       "      <th>2005-02-28</th>\n",
       "      <td>-0.674725</td>\n",
       "      <td>0.227786</td>\n",
       "      <td>0.034755</td>\n",
       "      <td>34417.241396</td>\n",
       "      <td>1.370540e+06</td>\n",
       "      <td>157510.0</td>\n",
       "      <td>3504738.0</td>\n",
       "      <td>0.815942</td>\n",
       "      <td>0.955232</td>\n",
       "      <td>0.247500</td>\n",
       "      <td>...</td>\n",
       "      <td>0.793995</td>\n",
       "      <td>0.894991</td>\n",
       "      <td>0.830166</td>\n",
       "      <td>0.809257</td>\n",
       "      <td>0.837131</td>\n",
       "      <td>0.883299</td>\n",
       "      <td>28</td>\n",
       "      <td>2</td>\n",
       "      <td>1</td>\n",
       "      <td>2005</td>\n",
       "    </tr>\n",
       "    <tr>\n",
       "      <th>2005-03-01</th>\n",
       "      <td>-0.674725</td>\n",
       "      <td>0.227786</td>\n",
       "      <td>0.034755</td>\n",
       "      <td>34417.241396</td>\n",
       "      <td>1.370540e+06</td>\n",
       "      <td>163370.0</td>\n",
       "      <td>6104866.0</td>\n",
       "      <td>0.815942</td>\n",
       "      <td>0.955232</td>\n",
       "      <td>0.247500</td>\n",
       "      <td>...</td>\n",
       "      <td>0.793995</td>\n",
       "      <td>0.167376</td>\n",
       "      <td>0.925655</td>\n",
       "      <td>0.823809</td>\n",
       "      <td>0.775643</td>\n",
       "      <td>0.811336</td>\n",
       "      <td>1</td>\n",
       "      <td>3</td>\n",
       "      <td>1</td>\n",
       "      <td>2005</td>\n",
       "    </tr>\n",
       "    <tr>\n",
       "      <th>2005-03-02</th>\n",
       "      <td>0.155460</td>\n",
       "      <td>0.249492</td>\n",
       "      <td>0.092128</td>\n",
       "      <td>9822.208577</td>\n",
       "      <td>1.749734e+06</td>\n",
       "      <td>176678.0</td>\n",
       "      <td>6833154.0</td>\n",
       "      <td>0.815942</td>\n",
       "      <td>0.955232</td>\n",
       "      <td>0.247500</td>\n",
       "      <td>...</td>\n",
       "      <td>0.793995</td>\n",
       "      <td>0.990787</td>\n",
       "      <td>0.851040</td>\n",
       "      <td>0.920439</td>\n",
       "      <td>0.812846</td>\n",
       "      <td>0.749725</td>\n",
       "      <td>2</td>\n",
       "      <td>3</td>\n",
       "      <td>1</td>\n",
       "      <td>2005</td>\n",
       "    </tr>\n",
       "    <tr>\n",
       "      <th>2005-03-03</th>\n",
       "      <td>0.944908</td>\n",
       "      <td>0.354056</td>\n",
       "      <td>0.210178</td>\n",
       "      <td>53985.128854</td>\n",
       "      <td>8.015813e+06</td>\n",
       "      <td>262816.0</td>\n",
       "      <td>20338472.0</td>\n",
       "      <td>0.815942</td>\n",
       "      <td>0.955232</td>\n",
       "      <td>0.247500</td>\n",
       "      <td>...</td>\n",
       "      <td>0.793995</td>\n",
       "      <td>0.082931</td>\n",
       "      <td>0.545931</td>\n",
       "      <td>0.764196</td>\n",
       "      <td>0.878973</td>\n",
       "      <td>0.746123</td>\n",
       "      <td>3</td>\n",
       "      <td>3</td>\n",
       "      <td>1</td>\n",
       "      <td>2005</td>\n",
       "    </tr>\n",
       "    <tr>\n",
       "      <th>...</th>\n",
       "      <td>...</td>\n",
       "      <td>...</td>\n",
       "      <td>...</td>\n",
       "      <td>...</td>\n",
       "      <td>...</td>\n",
       "      <td>...</td>\n",
       "      <td>...</td>\n",
       "      <td>...</td>\n",
       "      <td>...</td>\n",
       "      <td>...</td>\n",
       "      <td>...</td>\n",
       "      <td>...</td>\n",
       "      <td>...</td>\n",
       "      <td>...</td>\n",
       "      <td>...</td>\n",
       "      <td>...</td>\n",
       "      <td>...</td>\n",
       "      <td>...</td>\n",
       "      <td>...</td>\n",
       "      <td>...</td>\n",
       "      <td>...</td>\n",
       "    </tr>\n",
       "    <tr>\n",
       "      <th>2020-04-20</th>\n",
       "      <td>0.921834</td>\n",
       "      <td>12.100167</td>\n",
       "      <td>2.832178</td>\n",
       "      <td>10426.116454</td>\n",
       "      <td>1.245721e+06</td>\n",
       "      <td>519465.0</td>\n",
       "      <td>3565677.0</td>\n",
       "      <td>0.806622</td>\n",
       "      <td>13.560098</td>\n",
       "      <td>2.202212</td>\n",
       "      <td>...</td>\n",
       "      <td>0.474303</td>\n",
       "      <td>0.417548</td>\n",
       "      <td>0.444901</td>\n",
       "      <td>0.613099</td>\n",
       "      <td>0.522359</td>\n",
       "      <td>0.649346</td>\n",
       "      <td>20</td>\n",
       "      <td>4</td>\n",
       "      <td>2</td>\n",
       "      <td>2020</td>\n",
       "    </tr>\n",
       "    <tr>\n",
       "      <th>2020-04-21</th>\n",
       "      <td>0.883428</td>\n",
       "      <td>13.572675</td>\n",
       "      <td>4.528072</td>\n",
       "      <td>52815.552637</td>\n",
       "      <td>7.638944e+05</td>\n",
       "      <td>420730.0</td>\n",
       "      <td>4154852.0</td>\n",
       "      <td>0.831760</td>\n",
       "      <td>9.717596</td>\n",
       "      <td>3.283860</td>\n",
       "      <td>...</td>\n",
       "      <td>0.370594</td>\n",
       "      <td>0.895677</td>\n",
       "      <td>0.754757</td>\n",
       "      <td>0.552544</td>\n",
       "      <td>0.687045</td>\n",
       "      <td>0.564808</td>\n",
       "      <td>21</td>\n",
       "      <td>4</td>\n",
       "      <td>2</td>\n",
       "      <td>2020</td>\n",
       "    </tr>\n",
       "    <tr>\n",
       "      <th>2020-04-22</th>\n",
       "      <td>-0.308115</td>\n",
       "      <td>7.721531</td>\n",
       "      <td>1.951692</td>\n",
       "      <td>53591.032244</td>\n",
       "      <td>4.522756e+05</td>\n",
       "      <td>433979.0</td>\n",
       "      <td>3265862.0</td>\n",
       "      <td>0.586243</td>\n",
       "      <td>9.167159</td>\n",
       "      <td>3.253450</td>\n",
       "      <td>...</td>\n",
       "      <td>0.443950</td>\n",
       "      <td>-0.198245</td>\n",
       "      <td>0.422767</td>\n",
       "      <td>0.687833</td>\n",
       "      <td>0.480654</td>\n",
       "      <td>0.538137</td>\n",
       "      <td>22</td>\n",
       "      <td>4</td>\n",
       "      <td>2</td>\n",
       "      <td>2020</td>\n",
       "    </tr>\n",
       "    <tr>\n",
       "      <th>2020-04-23</th>\n",
       "      <td>0.413704</td>\n",
       "      <td>7.479106</td>\n",
       "      <td>0.696587</td>\n",
       "      <td>26760.825678</td>\n",
       "      <td>4.445423e+05</td>\n",
       "      <td>382446.0</td>\n",
       "      <td>3721585.0</td>\n",
       "      <td>0.528859</td>\n",
       "      <td>9.062256</td>\n",
       "      <td>3.488868</td>\n",
       "      <td>...</td>\n",
       "      <td>0.671071</td>\n",
       "      <td>0.853460</td>\n",
       "      <td>0.468572</td>\n",
       "      <td>0.402797</td>\n",
       "      <td>0.678754</td>\n",
       "      <td>0.629662</td>\n",
       "      <td>23</td>\n",
       "      <td>4</td>\n",
       "      <td>2</td>\n",
       "      <td>2020</td>\n",
       "    </tr>\n",
       "    <tr>\n",
       "      <th>2020-04-24</th>\n",
       "      <td>-0.490728</td>\n",
       "      <td>0.350761</td>\n",
       "      <td>1.434201</td>\n",
       "      <td>39397.180893</td>\n",
       "      <td>7.732119e+05</td>\n",
       "      <td>459833.0</td>\n",
       "      <td>2213955.0</td>\n",
       "      <td>0.523950</td>\n",
       "      <td>9.160853</td>\n",
       "      <td>3.418811</td>\n",
       "      <td>...</td>\n",
       "      <td>0.554215</td>\n",
       "      <td>0.436040</td>\n",
       "      <td>0.580267</td>\n",
       "      <td>0.469278</td>\n",
       "      <td>0.401647</td>\n",
       "      <td>0.449482</td>\n",
       "      <td>24</td>\n",
       "      <td>4</td>\n",
       "      <td>2</td>\n",
       "      <td>2020</td>\n",
       "    </tr>\n",
       "  </tbody>\n",
       "</table>\n",
       "<p>3816 rows × 1285 columns</p>\n",
       "</div>"
      ],
      "text/plain": [
       "            eqix_rost_close_corr_rolling_3_days  \\\n",
       "date                                              \n",
       "2005-02-25                            -0.674725   \n",
       "2005-02-28                            -0.674725   \n",
       "2005-03-01                            -0.674725   \n",
       "2005-03-02                             0.155460   \n",
       "2005-03-03                             0.944908   \n",
       "...                                         ...   \n",
       "2020-04-20                             0.921834   \n",
       "2020-04-21                             0.883428   \n",
       "2020-04-22                            -0.308115   \n",
       "2020-04-23                             0.413704   \n",
       "2020-04-24                            -0.490728   \n",
       "\n",
       "            eqix_close_std_rolling_3_days  rost_close_std_rolling_3_days  \\\n",
       "date                                                                       \n",
       "2005-02-25                       0.227786                       0.034755   \n",
       "2005-02-28                       0.227786                       0.034755   \n",
       "2005-03-01                       0.227786                       0.034755   \n",
       "2005-03-02                       0.249492                       0.092128   \n",
       "2005-03-03                       0.354056                       0.210178   \n",
       "...                                   ...                            ...   \n",
       "2020-04-20                      12.100167                       2.832178   \n",
       "2020-04-21                      13.572675                       4.528072   \n",
       "2020-04-22                       7.721531                       1.951692   \n",
       "2020-04-23                       7.479106                       0.696587   \n",
       "2020-04-24                       0.350761                       1.434201   \n",
       "\n",
       "            eqix_volume_std_rolling_3_days  rost_volume_std_rolling_3_days  \\\n",
       "date                                                                         \n",
       "2005-02-25                    34417.241396                    1.370540e+06   \n",
       "2005-02-28                    34417.241396                    1.370540e+06   \n",
       "2005-03-01                    34417.241396                    1.370540e+06   \n",
       "2005-03-02                     9822.208577                    1.749734e+06   \n",
       "2005-03-03                    53985.128854                    8.015813e+06   \n",
       "...                                    ...                             ...   \n",
       "2020-04-20                    10426.116454                    1.245721e+06   \n",
       "2020-04-21                    52815.552637                    7.638944e+05   \n",
       "2020-04-22                    53591.032244                    4.522756e+05   \n",
       "2020-04-23                    26760.825678                    4.445423e+05   \n",
       "2020-04-24                    39397.180893                    7.732119e+05   \n",
       "\n",
       "            eqix_volume  rost_volume  eqix_rost_close_corr_rolling_6_days  \\\n",
       "date                                                                        \n",
       "2005-02-25     101044.0    4053375.0                             0.815942   \n",
       "2005-02-28     157510.0    3504738.0                             0.815942   \n",
       "2005-03-01     163370.0    6104866.0                             0.815942   \n",
       "2005-03-02     176678.0    6833154.0                             0.815942   \n",
       "2005-03-03     262816.0   20338472.0                             0.815942   \n",
       "...                 ...          ...                                  ...   \n",
       "2020-04-20     519465.0    3565677.0                             0.806622   \n",
       "2020-04-21     420730.0    4154852.0                             0.831760   \n",
       "2020-04-22     433979.0    3265862.0                             0.586243   \n",
       "2020-04-23     382446.0    3721585.0                             0.528859   \n",
       "2020-04-24     459833.0    2213955.0                             0.523950   \n",
       "\n",
       "            eqix_close_std_rolling_6_days  rost_close_std_rolling_6_days  ...  \\\n",
       "date                                                                      ...   \n",
       "2005-02-25                       0.955232                       0.247500  ...   \n",
       "2005-02-28                       0.955232                       0.247500  ...   \n",
       "2005-03-01                       0.955232                       0.247500  ...   \n",
       "2005-03-02                       0.955232                       0.247500  ...   \n",
       "2005-03-03                       0.955232                       0.247500  ...   \n",
       "...                                   ...                            ...  ...   \n",
       "2020-04-20                      13.560098                       2.202212  ...   \n",
       "2020-04-21                       9.717596                       3.283860  ...   \n",
       "2020-04-22                       9.167159                       3.253450  ...   \n",
       "2020-04-23                       9.062256                       3.488868  ...   \n",
       "2020-04-24                       9.160853                       3.418811  ...   \n",
       "\n",
       "            pnr_ni_close_corr_rolling_10_days  \\\n",
       "date                                            \n",
       "2005-02-25                           0.793995   \n",
       "2005-02-28                           0.793995   \n",
       "2005-03-01                           0.793995   \n",
       "2005-03-02                           0.793995   \n",
       "2005-03-03                           0.793995   \n",
       "...                                       ...   \n",
       "2020-04-20                           0.474303   \n",
       "2020-04-21                           0.370594   \n",
       "2020-04-22                           0.443950   \n",
       "2020-04-23                           0.671071   \n",
       "2020-04-24                           0.554215   \n",
       "\n",
       "            bac_ni_close_corr_rolling_3_days  \\\n",
       "date                                           \n",
       "2005-02-25                          0.963097   \n",
       "2005-02-28                          0.894991   \n",
       "2005-03-01                          0.167376   \n",
       "2005-03-02                          0.990787   \n",
       "2005-03-03                          0.082931   \n",
       "...                                      ...   \n",
       "2020-04-20                          0.417548   \n",
       "2020-04-21                          0.895677   \n",
       "2020-04-22                         -0.198245   \n",
       "2020-04-23                          0.853460   \n",
       "2020-04-24                          0.436040   \n",
       "\n",
       "            bac_ni_close_corr_rolling_6_days  \\\n",
       "date                                           \n",
       "2005-02-25                          0.864588   \n",
       "2005-02-28                          0.830166   \n",
       "2005-03-01                          0.925655   \n",
       "2005-03-02                          0.851040   \n",
       "2005-03-03                          0.545931   \n",
       "...                                      ...   \n",
       "2020-04-20                          0.444901   \n",
       "2020-04-21                          0.754757   \n",
       "2020-04-22                          0.422767   \n",
       "2020-04-23                          0.468572   \n",
       "2020-04-24                          0.580267   \n",
       "\n",
       "            bac_ni_close_corr_rolling_7_days  \\\n",
       "date                                           \n",
       "2005-02-25                          0.897127   \n",
       "2005-02-28                          0.809257   \n",
       "2005-03-01                          0.823809   \n",
       "2005-03-02                          0.920439   \n",
       "2005-03-03                          0.764196   \n",
       "...                                      ...   \n",
       "2020-04-20                          0.613099   \n",
       "2020-04-21                          0.552544   \n",
       "2020-04-22                          0.687833   \n",
       "2020-04-23                          0.402797   \n",
       "2020-04-24                          0.469278   \n",
       "\n",
       "            bac_ni_close_corr_rolling_8_days  \\\n",
       "date                                           \n",
       "2005-02-25                          0.912661   \n",
       "2005-02-28                          0.837131   \n",
       "2005-03-01                          0.775643   \n",
       "2005-03-02                          0.812846   \n",
       "2005-03-03                          0.878973   \n",
       "...                                      ...   \n",
       "2020-04-20                          0.522359   \n",
       "2020-04-21                          0.687045   \n",
       "2020-04-22                          0.480654   \n",
       "2020-04-23                          0.678754   \n",
       "2020-04-24                          0.401647   \n",
       "\n",
       "            bac_ni_close_corr_rolling_10_days  day  month  quarter  year  \n",
       "date                                                                      \n",
       "2005-02-25                           0.920168   25      2        1  2005  \n",
       "2005-02-28                           0.883299   28      2        1  2005  \n",
       "2005-03-01                           0.811336    1      3        1  2005  \n",
       "2005-03-02                           0.749725    2      3        1  2005  \n",
       "2005-03-03                           0.746123    3      3        1  2005  \n",
       "...                                       ...  ...    ...      ...   ...  \n",
       "2020-04-20                           0.649346   20      4        2  2020  \n",
       "2020-04-21                           0.564808   21      4        2  2020  \n",
       "2020-04-22                           0.538137   22      4        2  2020  \n",
       "2020-04-23                           0.629662   23      4        2  2020  \n",
       "2020-04-24                           0.449482   24      4        2  2020  \n",
       "\n",
       "[3816 rows x 1285 columns]"
      ]
     },
     "execution_count": 1156,
     "metadata": {},
     "output_type": "execute_result"
    }
   ],
   "source": [
    "final_stock_df[~pd.isna(final_stock_df.pnr_bac_close_corr_rolling_3_days)]"
   ]
  },
  {
   "cell_type": "code",
   "execution_count": 1157,
   "metadata": {},
   "outputs": [],
   "source": [
    "# drop na\n",
    "final_stock_df = final_stock_df.dropna()"
   ]
  },
  {
   "cell_type": "code",
   "execution_count": 1158,
   "metadata": {},
   "outputs": [
    {
     "data": {
      "text/plain": [
       "210"
      ]
     },
     "execution_count": 1158,
     "metadata": {},
     "output_type": "execute_result"
    }
   ],
   "source": [
    "len(pairs_of_stocks)"
   ]
  },
  {
   "cell_type": "code",
   "execution_count": null,
   "metadata": {},
   "outputs": [],
   "source": []
  },
  {
   "cell_type": "code",
   "execution_count": 1159,
   "metadata": {},
   "outputs": [],
   "source": [
    "# last date of dtaa\n",
    "last_date_of_data = '2020-04-17'"
   ]
  },
  {
   "cell_type": "code",
   "execution_count": 1160,
   "metadata": {},
   "outputs": [
    {
     "data": {
      "text/html": [
       "<div>\n",
       "<style scoped>\n",
       "    .dataframe tbody tr th:only-of-type {\n",
       "        vertical-align: middle;\n",
       "    }\n",
       "\n",
       "    .dataframe tbody tr th {\n",
       "        vertical-align: top;\n",
       "    }\n",
       "\n",
       "    .dataframe thead th {\n",
       "        text-align: right;\n",
       "    }\n",
       "</style>\n",
       "<table border=\"1\" class=\"dataframe\">\n",
       "  <thead>\n",
       "    <tr style=\"text-align: right;\">\n",
       "      <th></th>\n",
       "      <th>eqix_rost_close_corr_rolling_3_days</th>\n",
       "      <th>eqix_close_std_rolling_3_days</th>\n",
       "      <th>rost_close_std_rolling_3_days</th>\n",
       "      <th>eqix_volume_std_rolling_3_days</th>\n",
       "      <th>rost_volume_std_rolling_3_days</th>\n",
       "      <th>eqix_volume</th>\n",
       "      <th>rost_volume</th>\n",
       "      <th>eqix_rost_close_corr_rolling_6_days</th>\n",
       "      <th>eqix_close_std_rolling_6_days</th>\n",
       "      <th>rost_close_std_rolling_6_days</th>\n",
       "      <th>...</th>\n",
       "      <th>pnr_ni_close_corr_rolling_10_days</th>\n",
       "      <th>bac_ni_close_corr_rolling_3_days</th>\n",
       "      <th>bac_ni_close_corr_rolling_6_days</th>\n",
       "      <th>bac_ni_close_corr_rolling_7_days</th>\n",
       "      <th>bac_ni_close_corr_rolling_8_days</th>\n",
       "      <th>bac_ni_close_corr_rolling_10_days</th>\n",
       "      <th>day</th>\n",
       "      <th>month</th>\n",
       "      <th>quarter</th>\n",
       "      <th>year</th>\n",
       "    </tr>\n",
       "    <tr>\n",
       "      <th>date</th>\n",
       "      <th></th>\n",
       "      <th></th>\n",
       "      <th></th>\n",
       "      <th></th>\n",
       "      <th></th>\n",
       "      <th></th>\n",
       "      <th></th>\n",
       "      <th></th>\n",
       "      <th></th>\n",
       "      <th></th>\n",
       "      <th></th>\n",
       "      <th></th>\n",
       "      <th></th>\n",
       "      <th></th>\n",
       "      <th></th>\n",
       "      <th></th>\n",
       "      <th></th>\n",
       "      <th></th>\n",
       "      <th></th>\n",
       "      <th></th>\n",
       "      <th></th>\n",
       "    </tr>\n",
       "  </thead>\n",
       "  <tbody>\n",
       "    <tr>\n",
       "      <th>2020-04-17</th>\n",
       "      <td>0.780499</td>\n",
       "      <td>9.816692</td>\n",
       "      <td>2.323195</td>\n",
       "      <td>87720.694094</td>\n",
       "      <td>1.496140e+06</td>\n",
       "      <td>502609.0</td>\n",
       "      <td>5081026.0</td>\n",
       "      <td>0.762826</td>\n",
       "      <td>13.356595</td>\n",
       "      <td>1.939649</td>\n",
       "      <td>...</td>\n",
       "      <td>0.79811</td>\n",
       "      <td>0.567924</td>\n",
       "      <td>0.58535</td>\n",
       "      <td>0.477854</td>\n",
       "      <td>0.544654</td>\n",
       "      <td>0.805718</td>\n",
       "      <td>17</td>\n",
       "      <td>4</td>\n",
       "      <td>2</td>\n",
       "      <td>2020</td>\n",
       "    </tr>\n",
       "  </tbody>\n",
       "</table>\n",
       "<p>1 rows × 1285 columns</p>\n",
       "</div>"
      ],
      "text/plain": [
       "            eqix_rost_close_corr_rolling_3_days  \\\n",
       "date                                              \n",
       "2020-04-17                             0.780499   \n",
       "\n",
       "            eqix_close_std_rolling_3_days  rost_close_std_rolling_3_days  \\\n",
       "date                                                                       \n",
       "2020-04-17                       9.816692                       2.323195   \n",
       "\n",
       "            eqix_volume_std_rolling_3_days  rost_volume_std_rolling_3_days  \\\n",
       "date                                                                         \n",
       "2020-04-17                    87720.694094                    1.496140e+06   \n",
       "\n",
       "            eqix_volume  rost_volume  eqix_rost_close_corr_rolling_6_days  \\\n",
       "date                                                                        \n",
       "2020-04-17     502609.0    5081026.0                             0.762826   \n",
       "\n",
       "            eqix_close_std_rolling_6_days  rost_close_std_rolling_6_days  ...  \\\n",
       "date                                                                      ...   \n",
       "2020-04-17                      13.356595                       1.939649  ...   \n",
       "\n",
       "            pnr_ni_close_corr_rolling_10_days  \\\n",
       "date                                            \n",
       "2020-04-17                            0.79811   \n",
       "\n",
       "            bac_ni_close_corr_rolling_3_days  \\\n",
       "date                                           \n",
       "2020-04-17                          0.567924   \n",
       "\n",
       "            bac_ni_close_corr_rolling_6_days  \\\n",
       "date                                           \n",
       "2020-04-17                           0.58535   \n",
       "\n",
       "            bac_ni_close_corr_rolling_7_days  \\\n",
       "date                                           \n",
       "2020-04-17                          0.477854   \n",
       "\n",
       "            bac_ni_close_corr_rolling_8_days  \\\n",
       "date                                           \n",
       "2020-04-17                          0.544654   \n",
       "\n",
       "            bac_ni_close_corr_rolling_10_days  day  month  quarter  year  \n",
       "date                                                                      \n",
       "2020-04-17                           0.805718   17      4        2  2020  \n",
       "\n",
       "[1 rows x 1285 columns]"
      ]
     },
     "execution_count": 1160,
     "metadata": {},
     "output_type": "execute_result"
    }
   ],
   "source": [
    "final_stock_df[final_stock_df.index == last_date_of_data]"
   ]
  },
  {
   "cell_type": "code",
   "execution_count": 1162,
   "metadata": {},
   "outputs": [
    {
     "data": {
      "text/plain": [
       "['eqix_rost',\n",
       " 'eqix_so',\n",
       " 'eqix_emr',\n",
       " 'eqix_atvi',\n",
       " 'eqix_ce',\n",
       " 'eqix_cern',\n",
       " 'eqix_peg',\n",
       " 'eqix_adbe',\n",
       " 'eqix_rop',\n",
       " 'eqix_are']"
      ]
     },
     "execution_count": 1162,
     "metadata": {},
     "output_type": "execute_result"
    }
   ],
   "source": [
    "pairs_of_stocks[:10]"
   ]
  },
  {
   "cell_type": "code",
   "execution_count": 1163,
   "metadata": {},
   "outputs": [
    {
     "data": {
      "text/html": [
       "<div>\n",
       "<style scoped>\n",
       "    .dataframe tbody tr th:only-of-type {\n",
       "        vertical-align: middle;\n",
       "    }\n",
       "\n",
       "    .dataframe tbody tr th {\n",
       "        vertical-align: top;\n",
       "    }\n",
       "\n",
       "    .dataframe thead th {\n",
       "        text-align: right;\n",
       "    }\n",
       "</style>\n",
       "<table border=\"1\" class=\"dataframe\">\n",
       "  <thead>\n",
       "    <tr style=\"text-align: right;\">\n",
       "      <th></th>\n",
       "      <th>eqix_rost_close_corr_rolling_3_days</th>\n",
       "      <th>eqix_close_std_rolling_3_days</th>\n",
       "      <th>rost_close_std_rolling_3_days</th>\n",
       "      <th>eqix_volume_std_rolling_3_days</th>\n",
       "      <th>rost_volume_std_rolling_3_days</th>\n",
       "      <th>eqix_volume</th>\n",
       "      <th>rost_volume</th>\n",
       "      <th>eqix_rost_close_corr_rolling_6_days</th>\n",
       "      <th>eqix_close_std_rolling_6_days</th>\n",
       "      <th>rost_close_std_rolling_6_days</th>\n",
       "      <th>...</th>\n",
       "      <th>pnr_ni_close_corr_rolling_10_days</th>\n",
       "      <th>bac_ni_close_corr_rolling_3_days</th>\n",
       "      <th>bac_ni_close_corr_rolling_6_days</th>\n",
       "      <th>bac_ni_close_corr_rolling_7_days</th>\n",
       "      <th>bac_ni_close_corr_rolling_8_days</th>\n",
       "      <th>bac_ni_close_corr_rolling_10_days</th>\n",
       "      <th>day</th>\n",
       "      <th>month</th>\n",
       "      <th>quarter</th>\n",
       "      <th>year</th>\n",
       "    </tr>\n",
       "    <tr>\n",
       "      <th>date</th>\n",
       "      <th></th>\n",
       "      <th></th>\n",
       "      <th></th>\n",
       "      <th></th>\n",
       "      <th></th>\n",
       "      <th></th>\n",
       "      <th></th>\n",
       "      <th></th>\n",
       "      <th></th>\n",
       "      <th></th>\n",
       "      <th></th>\n",
       "      <th></th>\n",
       "      <th></th>\n",
       "      <th></th>\n",
       "      <th></th>\n",
       "      <th></th>\n",
       "      <th></th>\n",
       "      <th></th>\n",
       "      <th></th>\n",
       "      <th></th>\n",
       "      <th></th>\n",
       "    </tr>\n",
       "  </thead>\n",
       "  <tbody>\n",
       "    <tr>\n",
       "      <th>2006-01-25</th>\n",
       "      <td>0.697482</td>\n",
       "      <td>0.282852</td>\n",
       "      <td>0.068850</td>\n",
       "      <td>20062.106769</td>\n",
       "      <td>3.307482e+06</td>\n",
       "      <td>235169.0</td>\n",
       "      <td>4918853.0</td>\n",
       "      <td>0.709943</td>\n",
       "      <td>0.385182</td>\n",
       "      <td>0.121731</td>\n",
       "      <td>...</td>\n",
       "      <td>-0.219709</td>\n",
       "      <td>0.359580</td>\n",
       "      <td>0.782241</td>\n",
       "      <td>0.685565</td>\n",
       "      <td>0.352599</td>\n",
       "      <td>0.118572</td>\n",
       "      <td>25</td>\n",
       "      <td>1</td>\n",
       "      <td>1</td>\n",
       "      <td>2006</td>\n",
       "    </tr>\n",
       "    <tr>\n",
       "      <th>2006-01-26</th>\n",
       "      <td>-0.712630</td>\n",
       "      <td>0.131936</td>\n",
       "      <td>0.025701</td>\n",
       "      <td>175816.922796</td>\n",
       "      <td>3.364882e+06</td>\n",
       "      <td>547429.0</td>\n",
       "      <td>5432737.0</td>\n",
       "      <td>0.801974</td>\n",
       "      <td>0.384777</td>\n",
       "      <td>0.111135</td>\n",
       "      <td>...</td>\n",
       "      <td>-0.188994</td>\n",
       "      <td>-0.103403</td>\n",
       "      <td>0.645159</td>\n",
       "      <td>0.738144</td>\n",
       "      <td>0.664665</td>\n",
       "      <td>0.200468</td>\n",
       "      <td>26</td>\n",
       "      <td>1</td>\n",
       "      <td>1</td>\n",
       "      <td>2006</td>\n",
       "    </tr>\n",
       "    <tr>\n",
       "      <th>2006-01-27</th>\n",
       "      <td>0.931257</td>\n",
       "      <td>0.353271</td>\n",
       "      <td>0.048220</td>\n",
       "      <td>156472.651685</td>\n",
       "      <td>5.959368e+05</td>\n",
       "      <td>373373.0</td>\n",
       "      <td>6107119.0</td>\n",
       "      <td>0.635272</td>\n",
       "      <td>0.402604</td>\n",
       "      <td>0.058964</td>\n",
       "      <td>...</td>\n",
       "      <td>-0.803803</td>\n",
       "      <td>0.025116</td>\n",
       "      <td>-0.321346</td>\n",
       "      <td>0.094006</td>\n",
       "      <td>0.272734</td>\n",
       "      <td>0.203900</td>\n",
       "      <td>27</td>\n",
       "      <td>1</td>\n",
       "      <td>1</td>\n",
       "      <td>2006</td>\n",
       "    </tr>\n",
       "    <tr>\n",
       "      <th>2006-01-30</th>\n",
       "      <td>0.560951</td>\n",
       "      <td>0.349257</td>\n",
       "      <td>0.057870</td>\n",
       "      <td>109960.000183</td>\n",
       "      <td>1.163736e+06</td>\n",
       "      <td>343988.0</td>\n",
       "      <td>3840744.0</td>\n",
       "      <td>0.657181</td>\n",
       "      <td>0.371951</td>\n",
       "      <td>0.060240</td>\n",
       "      <td>...</td>\n",
       "      <td>-0.903130</td>\n",
       "      <td>0.889823</td>\n",
       "      <td>-0.101178</td>\n",
       "      <td>-0.218618</td>\n",
       "      <td>0.108505</td>\n",
       "      <td>0.308339</td>\n",
       "      <td>30</td>\n",
       "      <td>1</td>\n",
       "      <td>1</td>\n",
       "      <td>2006</td>\n",
       "    </tr>\n",
       "    <tr>\n",
       "      <th>2006-01-31</th>\n",
       "      <td>0.999991</td>\n",
       "      <td>0.206297</td>\n",
       "      <td>0.094188</td>\n",
       "      <td>84712.417773</td>\n",
       "      <td>3.034216e+06</td>\n",
       "      <td>214178.0</td>\n",
       "      <td>9849079.0</td>\n",
       "      <td>0.167156</td>\n",
       "      <td>0.273997</td>\n",
       "      <td>0.064078</td>\n",
       "      <td>...</td>\n",
       "      <td>-0.917838</td>\n",
       "      <td>0.070913</td>\n",
       "      <td>0.166059</td>\n",
       "      <td>0.003603</td>\n",
       "      <td>-0.115543</td>\n",
       "      <td>0.343741</td>\n",
       "      <td>31</td>\n",
       "      <td>1</td>\n",
       "      <td>1</td>\n",
       "      <td>2006</td>\n",
       "    </tr>\n",
       "    <tr>\n",
       "      <th>...</th>\n",
       "      <td>...</td>\n",
       "      <td>...</td>\n",
       "      <td>...</td>\n",
       "      <td>...</td>\n",
       "      <td>...</td>\n",
       "      <td>...</td>\n",
       "      <td>...</td>\n",
       "      <td>...</td>\n",
       "      <td>...</td>\n",
       "      <td>...</td>\n",
       "      <td>...</td>\n",
       "      <td>...</td>\n",
       "      <td>...</td>\n",
       "      <td>...</td>\n",
       "      <td>...</td>\n",
       "      <td>...</td>\n",
       "      <td>...</td>\n",
       "      <td>...</td>\n",
       "      <td>...</td>\n",
       "      <td>...</td>\n",
       "      <td>...</td>\n",
       "    </tr>\n",
       "    <tr>\n",
       "      <th>2020-04-20</th>\n",
       "      <td>0.921834</td>\n",
       "      <td>12.100167</td>\n",
       "      <td>2.832178</td>\n",
       "      <td>10426.116454</td>\n",
       "      <td>1.245721e+06</td>\n",
       "      <td>519465.0</td>\n",
       "      <td>3565677.0</td>\n",
       "      <td>0.806622</td>\n",
       "      <td>13.560098</td>\n",
       "      <td>2.202212</td>\n",
       "      <td>...</td>\n",
       "      <td>0.474303</td>\n",
       "      <td>0.417548</td>\n",
       "      <td>0.444901</td>\n",
       "      <td>0.613099</td>\n",
       "      <td>0.522359</td>\n",
       "      <td>0.649346</td>\n",
       "      <td>20</td>\n",
       "      <td>4</td>\n",
       "      <td>2</td>\n",
       "      <td>2020</td>\n",
       "    </tr>\n",
       "    <tr>\n",
       "      <th>2020-04-21</th>\n",
       "      <td>0.883428</td>\n",
       "      <td>13.572675</td>\n",
       "      <td>4.528072</td>\n",
       "      <td>52815.552637</td>\n",
       "      <td>7.638944e+05</td>\n",
       "      <td>420730.0</td>\n",
       "      <td>4154852.0</td>\n",
       "      <td>0.831760</td>\n",
       "      <td>9.717596</td>\n",
       "      <td>3.283860</td>\n",
       "      <td>...</td>\n",
       "      <td>0.370594</td>\n",
       "      <td>0.895677</td>\n",
       "      <td>0.754757</td>\n",
       "      <td>0.552544</td>\n",
       "      <td>0.687045</td>\n",
       "      <td>0.564808</td>\n",
       "      <td>21</td>\n",
       "      <td>4</td>\n",
       "      <td>2</td>\n",
       "      <td>2020</td>\n",
       "    </tr>\n",
       "    <tr>\n",
       "      <th>2020-04-22</th>\n",
       "      <td>-0.308115</td>\n",
       "      <td>7.721531</td>\n",
       "      <td>1.951692</td>\n",
       "      <td>53591.032244</td>\n",
       "      <td>4.522756e+05</td>\n",
       "      <td>433979.0</td>\n",
       "      <td>3265862.0</td>\n",
       "      <td>0.586243</td>\n",
       "      <td>9.167159</td>\n",
       "      <td>3.253450</td>\n",
       "      <td>...</td>\n",
       "      <td>0.443950</td>\n",
       "      <td>-0.198245</td>\n",
       "      <td>0.422767</td>\n",
       "      <td>0.687833</td>\n",
       "      <td>0.480654</td>\n",
       "      <td>0.538137</td>\n",
       "      <td>22</td>\n",
       "      <td>4</td>\n",
       "      <td>2</td>\n",
       "      <td>2020</td>\n",
       "    </tr>\n",
       "    <tr>\n",
       "      <th>2020-04-23</th>\n",
       "      <td>0.413704</td>\n",
       "      <td>7.479106</td>\n",
       "      <td>0.696587</td>\n",
       "      <td>26760.825678</td>\n",
       "      <td>4.445423e+05</td>\n",
       "      <td>382446.0</td>\n",
       "      <td>3721585.0</td>\n",
       "      <td>0.528859</td>\n",
       "      <td>9.062256</td>\n",
       "      <td>3.488868</td>\n",
       "      <td>...</td>\n",
       "      <td>0.671071</td>\n",
       "      <td>0.853460</td>\n",
       "      <td>0.468572</td>\n",
       "      <td>0.402797</td>\n",
       "      <td>0.678754</td>\n",
       "      <td>0.629662</td>\n",
       "      <td>23</td>\n",
       "      <td>4</td>\n",
       "      <td>2</td>\n",
       "      <td>2020</td>\n",
       "    </tr>\n",
       "    <tr>\n",
       "      <th>2020-04-24</th>\n",
       "      <td>-0.490728</td>\n",
       "      <td>0.350761</td>\n",
       "      <td>1.434201</td>\n",
       "      <td>39397.180893</td>\n",
       "      <td>7.732119e+05</td>\n",
       "      <td>459833.0</td>\n",
       "      <td>2213955.0</td>\n",
       "      <td>0.523950</td>\n",
       "      <td>9.160853</td>\n",
       "      <td>3.418811</td>\n",
       "      <td>...</td>\n",
       "      <td>0.554215</td>\n",
       "      <td>0.436040</td>\n",
       "      <td>0.580267</td>\n",
       "      <td>0.469278</td>\n",
       "      <td>0.401647</td>\n",
       "      <td>0.449482</td>\n",
       "      <td>24</td>\n",
       "      <td>4</td>\n",
       "      <td>2</td>\n",
       "      <td>2020</td>\n",
       "    </tr>\n",
       "  </tbody>\n",
       "</table>\n",
       "<p>3586 rows × 1285 columns</p>\n",
       "</div>"
      ],
      "text/plain": [
       "            eqix_rost_close_corr_rolling_3_days  \\\n",
       "date                                              \n",
       "2006-01-25                             0.697482   \n",
       "2006-01-26                            -0.712630   \n",
       "2006-01-27                             0.931257   \n",
       "2006-01-30                             0.560951   \n",
       "2006-01-31                             0.999991   \n",
       "...                                         ...   \n",
       "2020-04-20                             0.921834   \n",
       "2020-04-21                             0.883428   \n",
       "2020-04-22                            -0.308115   \n",
       "2020-04-23                             0.413704   \n",
       "2020-04-24                            -0.490728   \n",
       "\n",
       "            eqix_close_std_rolling_3_days  rost_close_std_rolling_3_days  \\\n",
       "date                                                                       \n",
       "2006-01-25                       0.282852                       0.068850   \n",
       "2006-01-26                       0.131936                       0.025701   \n",
       "2006-01-27                       0.353271                       0.048220   \n",
       "2006-01-30                       0.349257                       0.057870   \n",
       "2006-01-31                       0.206297                       0.094188   \n",
       "...                                   ...                            ...   \n",
       "2020-04-20                      12.100167                       2.832178   \n",
       "2020-04-21                      13.572675                       4.528072   \n",
       "2020-04-22                       7.721531                       1.951692   \n",
       "2020-04-23                       7.479106                       0.696587   \n",
       "2020-04-24                       0.350761                       1.434201   \n",
       "\n",
       "            eqix_volume_std_rolling_3_days  rost_volume_std_rolling_3_days  \\\n",
       "date                                                                         \n",
       "2006-01-25                    20062.106769                    3.307482e+06   \n",
       "2006-01-26                   175816.922796                    3.364882e+06   \n",
       "2006-01-27                   156472.651685                    5.959368e+05   \n",
       "2006-01-30                   109960.000183                    1.163736e+06   \n",
       "2006-01-31                    84712.417773                    3.034216e+06   \n",
       "...                                    ...                             ...   \n",
       "2020-04-20                    10426.116454                    1.245721e+06   \n",
       "2020-04-21                    52815.552637                    7.638944e+05   \n",
       "2020-04-22                    53591.032244                    4.522756e+05   \n",
       "2020-04-23                    26760.825678                    4.445423e+05   \n",
       "2020-04-24                    39397.180893                    7.732119e+05   \n",
       "\n",
       "            eqix_volume  rost_volume  eqix_rost_close_corr_rolling_6_days  \\\n",
       "date                                                                        \n",
       "2006-01-25     235169.0    4918853.0                             0.709943   \n",
       "2006-01-26     547429.0    5432737.0                             0.801974   \n",
       "2006-01-27     373373.0    6107119.0                             0.635272   \n",
       "2006-01-30     343988.0    3840744.0                             0.657181   \n",
       "2006-01-31     214178.0    9849079.0                             0.167156   \n",
       "...                 ...          ...                                  ...   \n",
       "2020-04-20     519465.0    3565677.0                             0.806622   \n",
       "2020-04-21     420730.0    4154852.0                             0.831760   \n",
       "2020-04-22     433979.0    3265862.0                             0.586243   \n",
       "2020-04-23     382446.0    3721585.0                             0.528859   \n",
       "2020-04-24     459833.0    2213955.0                             0.523950   \n",
       "\n",
       "            eqix_close_std_rolling_6_days  rost_close_std_rolling_6_days  ...  \\\n",
       "date                                                                      ...   \n",
       "2006-01-25                       0.385182                       0.121731  ...   \n",
       "2006-01-26                       0.384777                       0.111135  ...   \n",
       "2006-01-27                       0.402604                       0.058964  ...   \n",
       "2006-01-30                       0.371951                       0.060240  ...   \n",
       "2006-01-31                       0.273997                       0.064078  ...   \n",
       "...                                   ...                            ...  ...   \n",
       "2020-04-20                      13.560098                       2.202212  ...   \n",
       "2020-04-21                       9.717596                       3.283860  ...   \n",
       "2020-04-22                       9.167159                       3.253450  ...   \n",
       "2020-04-23                       9.062256                       3.488868  ...   \n",
       "2020-04-24                       9.160853                       3.418811  ...   \n",
       "\n",
       "            pnr_ni_close_corr_rolling_10_days  \\\n",
       "date                                            \n",
       "2006-01-25                          -0.219709   \n",
       "2006-01-26                          -0.188994   \n",
       "2006-01-27                          -0.803803   \n",
       "2006-01-30                          -0.903130   \n",
       "2006-01-31                          -0.917838   \n",
       "...                                       ...   \n",
       "2020-04-20                           0.474303   \n",
       "2020-04-21                           0.370594   \n",
       "2020-04-22                           0.443950   \n",
       "2020-04-23                           0.671071   \n",
       "2020-04-24                           0.554215   \n",
       "\n",
       "            bac_ni_close_corr_rolling_3_days  \\\n",
       "date                                           \n",
       "2006-01-25                          0.359580   \n",
       "2006-01-26                         -0.103403   \n",
       "2006-01-27                          0.025116   \n",
       "2006-01-30                          0.889823   \n",
       "2006-01-31                          0.070913   \n",
       "...                                      ...   \n",
       "2020-04-20                          0.417548   \n",
       "2020-04-21                          0.895677   \n",
       "2020-04-22                         -0.198245   \n",
       "2020-04-23                          0.853460   \n",
       "2020-04-24                          0.436040   \n",
       "\n",
       "            bac_ni_close_corr_rolling_6_days  \\\n",
       "date                                           \n",
       "2006-01-25                          0.782241   \n",
       "2006-01-26                          0.645159   \n",
       "2006-01-27                         -0.321346   \n",
       "2006-01-30                         -0.101178   \n",
       "2006-01-31                          0.166059   \n",
       "...                                      ...   \n",
       "2020-04-20                          0.444901   \n",
       "2020-04-21                          0.754757   \n",
       "2020-04-22                          0.422767   \n",
       "2020-04-23                          0.468572   \n",
       "2020-04-24                          0.580267   \n",
       "\n",
       "            bac_ni_close_corr_rolling_7_days  \\\n",
       "date                                           \n",
       "2006-01-25                          0.685565   \n",
       "2006-01-26                          0.738144   \n",
       "2006-01-27                          0.094006   \n",
       "2006-01-30                         -0.218618   \n",
       "2006-01-31                          0.003603   \n",
       "...                                      ...   \n",
       "2020-04-20                          0.613099   \n",
       "2020-04-21                          0.552544   \n",
       "2020-04-22                          0.687833   \n",
       "2020-04-23                          0.402797   \n",
       "2020-04-24                          0.469278   \n",
       "\n",
       "            bac_ni_close_corr_rolling_8_days  \\\n",
       "date                                           \n",
       "2006-01-25                          0.352599   \n",
       "2006-01-26                          0.664665   \n",
       "2006-01-27                          0.272734   \n",
       "2006-01-30                          0.108505   \n",
       "2006-01-31                         -0.115543   \n",
       "...                                      ...   \n",
       "2020-04-20                          0.522359   \n",
       "2020-04-21                          0.687045   \n",
       "2020-04-22                          0.480654   \n",
       "2020-04-23                          0.678754   \n",
       "2020-04-24                          0.401647   \n",
       "\n",
       "            bac_ni_close_corr_rolling_10_days  day  month  quarter  year  \n",
       "date                                                                      \n",
       "2006-01-25                           0.118572   25      1        1  2006  \n",
       "2006-01-26                           0.200468   26      1        1  2006  \n",
       "2006-01-27                           0.203900   27      1        1  2006  \n",
       "2006-01-30                           0.308339   30      1        1  2006  \n",
       "2006-01-31                           0.343741   31      1        1  2006  \n",
       "...                                       ...  ...    ...      ...   ...  \n",
       "2020-04-20                           0.649346   20      4        2  2020  \n",
       "2020-04-21                           0.564808   21      4        2  2020  \n",
       "2020-04-22                           0.538137   22      4        2  2020  \n",
       "2020-04-23                           0.629662   23      4        2  2020  \n",
       "2020-04-24                           0.449482   24      4        2  2020  \n",
       "\n",
       "[3586 rows x 1285 columns]"
      ]
     },
     "execution_count": 1163,
     "metadata": {},
     "output_type": "execute_result"
    }
   ],
   "source": [
    "final_stock_df.loc[~pd.isna(final_stock_df.pnr_volume), :]"
   ]
  },
  {
   "cell_type": "code",
   "execution_count": 1164,
   "metadata": {},
   "outputs": [
    {
     "data": {
      "text/html": [
       "<div>\n",
       "<style scoped>\n",
       "    .dataframe tbody tr th:only-of-type {\n",
       "        vertical-align: middle;\n",
       "    }\n",
       "\n",
       "    .dataframe tbody tr th {\n",
       "        vertical-align: top;\n",
       "    }\n",
       "\n",
       "    .dataframe thead th {\n",
       "        text-align: right;\n",
       "    }\n",
       "</style>\n",
       "<table border=\"1\" class=\"dataframe\">\n",
       "  <thead>\n",
       "    <tr style=\"text-align: right;\">\n",
       "      <th></th>\n",
       "      <th>eqix_rost_close_corr_rolling_3_days</th>\n",
       "      <th>eqix_close_std_rolling_3_days</th>\n",
       "      <th>rost_close_std_rolling_3_days</th>\n",
       "      <th>eqix_volume_std_rolling_3_days</th>\n",
       "      <th>rost_volume_std_rolling_3_days</th>\n",
       "      <th>eqix_volume</th>\n",
       "      <th>rost_volume</th>\n",
       "      <th>eqix_rost_close_corr_rolling_6_days</th>\n",
       "      <th>eqix_close_std_rolling_6_days</th>\n",
       "      <th>rost_close_std_rolling_6_days</th>\n",
       "      <th>...</th>\n",
       "      <th>pnr_ni_close_corr_rolling_10_days</th>\n",
       "      <th>bac_ni_close_corr_rolling_3_days</th>\n",
       "      <th>bac_ni_close_corr_rolling_6_days</th>\n",
       "      <th>bac_ni_close_corr_rolling_7_days</th>\n",
       "      <th>bac_ni_close_corr_rolling_8_days</th>\n",
       "      <th>bac_ni_close_corr_rolling_10_days</th>\n",
       "      <th>day</th>\n",
       "      <th>month</th>\n",
       "      <th>quarter</th>\n",
       "      <th>year</th>\n",
       "    </tr>\n",
       "    <tr>\n",
       "      <th>date</th>\n",
       "      <th></th>\n",
       "      <th></th>\n",
       "      <th></th>\n",
       "      <th></th>\n",
       "      <th></th>\n",
       "      <th></th>\n",
       "      <th></th>\n",
       "      <th></th>\n",
       "      <th></th>\n",
       "      <th></th>\n",
       "      <th></th>\n",
       "      <th></th>\n",
       "      <th></th>\n",
       "      <th></th>\n",
       "      <th></th>\n",
       "      <th></th>\n",
       "      <th></th>\n",
       "      <th></th>\n",
       "      <th></th>\n",
       "      <th></th>\n",
       "      <th></th>\n",
       "    </tr>\n",
       "  </thead>\n",
       "  <tbody>\n",
       "    <tr>\n",
       "      <th>2006-01-25</th>\n",
       "      <td>0.697482</td>\n",
       "      <td>0.282852</td>\n",
       "      <td>0.068850</td>\n",
       "      <td>20062.106769</td>\n",
       "      <td>3.307482e+06</td>\n",
       "      <td>235169.0</td>\n",
       "      <td>4918853.0</td>\n",
       "      <td>0.709943</td>\n",
       "      <td>0.385182</td>\n",
       "      <td>0.121731</td>\n",
       "      <td>...</td>\n",
       "      <td>-0.219709</td>\n",
       "      <td>0.359580</td>\n",
       "      <td>0.782241</td>\n",
       "      <td>0.685565</td>\n",
       "      <td>0.352599</td>\n",
       "      <td>0.118572</td>\n",
       "      <td>25</td>\n",
       "      <td>1</td>\n",
       "      <td>1</td>\n",
       "      <td>2006</td>\n",
       "    </tr>\n",
       "    <tr>\n",
       "      <th>2006-01-26</th>\n",
       "      <td>-0.712630</td>\n",
       "      <td>0.131936</td>\n",
       "      <td>0.025701</td>\n",
       "      <td>175816.922796</td>\n",
       "      <td>3.364882e+06</td>\n",
       "      <td>547429.0</td>\n",
       "      <td>5432737.0</td>\n",
       "      <td>0.801974</td>\n",
       "      <td>0.384777</td>\n",
       "      <td>0.111135</td>\n",
       "      <td>...</td>\n",
       "      <td>-0.188994</td>\n",
       "      <td>-0.103403</td>\n",
       "      <td>0.645159</td>\n",
       "      <td>0.738144</td>\n",
       "      <td>0.664665</td>\n",
       "      <td>0.200468</td>\n",
       "      <td>26</td>\n",
       "      <td>1</td>\n",
       "      <td>1</td>\n",
       "      <td>2006</td>\n",
       "    </tr>\n",
       "    <tr>\n",
       "      <th>2006-01-27</th>\n",
       "      <td>0.931257</td>\n",
       "      <td>0.353271</td>\n",
       "      <td>0.048220</td>\n",
       "      <td>156472.651685</td>\n",
       "      <td>5.959368e+05</td>\n",
       "      <td>373373.0</td>\n",
       "      <td>6107119.0</td>\n",
       "      <td>0.635272</td>\n",
       "      <td>0.402604</td>\n",
       "      <td>0.058964</td>\n",
       "      <td>...</td>\n",
       "      <td>-0.803803</td>\n",
       "      <td>0.025116</td>\n",
       "      <td>-0.321346</td>\n",
       "      <td>0.094006</td>\n",
       "      <td>0.272734</td>\n",
       "      <td>0.203900</td>\n",
       "      <td>27</td>\n",
       "      <td>1</td>\n",
       "      <td>1</td>\n",
       "      <td>2006</td>\n",
       "    </tr>\n",
       "    <tr>\n",
       "      <th>2006-01-30</th>\n",
       "      <td>0.560951</td>\n",
       "      <td>0.349257</td>\n",
       "      <td>0.057870</td>\n",
       "      <td>109960.000183</td>\n",
       "      <td>1.163736e+06</td>\n",
       "      <td>343988.0</td>\n",
       "      <td>3840744.0</td>\n",
       "      <td>0.657181</td>\n",
       "      <td>0.371951</td>\n",
       "      <td>0.060240</td>\n",
       "      <td>...</td>\n",
       "      <td>-0.903130</td>\n",
       "      <td>0.889823</td>\n",
       "      <td>-0.101178</td>\n",
       "      <td>-0.218618</td>\n",
       "      <td>0.108505</td>\n",
       "      <td>0.308339</td>\n",
       "      <td>30</td>\n",
       "      <td>1</td>\n",
       "      <td>1</td>\n",
       "      <td>2006</td>\n",
       "    </tr>\n",
       "    <tr>\n",
       "      <th>2006-01-31</th>\n",
       "      <td>0.999991</td>\n",
       "      <td>0.206297</td>\n",
       "      <td>0.094188</td>\n",
       "      <td>84712.417773</td>\n",
       "      <td>3.034216e+06</td>\n",
       "      <td>214178.0</td>\n",
       "      <td>9849079.0</td>\n",
       "      <td>0.167156</td>\n",
       "      <td>0.273997</td>\n",
       "      <td>0.064078</td>\n",
       "      <td>...</td>\n",
       "      <td>-0.917838</td>\n",
       "      <td>0.070913</td>\n",
       "      <td>0.166059</td>\n",
       "      <td>0.003603</td>\n",
       "      <td>-0.115543</td>\n",
       "      <td>0.343741</td>\n",
       "      <td>31</td>\n",
       "      <td>1</td>\n",
       "      <td>1</td>\n",
       "      <td>2006</td>\n",
       "    </tr>\n",
       "    <tr>\n",
       "      <th>...</th>\n",
       "      <td>...</td>\n",
       "      <td>...</td>\n",
       "      <td>...</td>\n",
       "      <td>...</td>\n",
       "      <td>...</td>\n",
       "      <td>...</td>\n",
       "      <td>...</td>\n",
       "      <td>...</td>\n",
       "      <td>...</td>\n",
       "      <td>...</td>\n",
       "      <td>...</td>\n",
       "      <td>...</td>\n",
       "      <td>...</td>\n",
       "      <td>...</td>\n",
       "      <td>...</td>\n",
       "      <td>...</td>\n",
       "      <td>...</td>\n",
       "      <td>...</td>\n",
       "      <td>...</td>\n",
       "      <td>...</td>\n",
       "      <td>...</td>\n",
       "    </tr>\n",
       "    <tr>\n",
       "      <th>2020-04-20</th>\n",
       "      <td>0.921834</td>\n",
       "      <td>12.100167</td>\n",
       "      <td>2.832178</td>\n",
       "      <td>10426.116454</td>\n",
       "      <td>1.245721e+06</td>\n",
       "      <td>519465.0</td>\n",
       "      <td>3565677.0</td>\n",
       "      <td>0.806622</td>\n",
       "      <td>13.560098</td>\n",
       "      <td>2.202212</td>\n",
       "      <td>...</td>\n",
       "      <td>0.474303</td>\n",
       "      <td>0.417548</td>\n",
       "      <td>0.444901</td>\n",
       "      <td>0.613099</td>\n",
       "      <td>0.522359</td>\n",
       "      <td>0.649346</td>\n",
       "      <td>20</td>\n",
       "      <td>4</td>\n",
       "      <td>2</td>\n",
       "      <td>2020</td>\n",
       "    </tr>\n",
       "    <tr>\n",
       "      <th>2020-04-21</th>\n",
       "      <td>0.883428</td>\n",
       "      <td>13.572675</td>\n",
       "      <td>4.528072</td>\n",
       "      <td>52815.552637</td>\n",
       "      <td>7.638944e+05</td>\n",
       "      <td>420730.0</td>\n",
       "      <td>4154852.0</td>\n",
       "      <td>0.831760</td>\n",
       "      <td>9.717596</td>\n",
       "      <td>3.283860</td>\n",
       "      <td>...</td>\n",
       "      <td>0.370594</td>\n",
       "      <td>0.895677</td>\n",
       "      <td>0.754757</td>\n",
       "      <td>0.552544</td>\n",
       "      <td>0.687045</td>\n",
       "      <td>0.564808</td>\n",
       "      <td>21</td>\n",
       "      <td>4</td>\n",
       "      <td>2</td>\n",
       "      <td>2020</td>\n",
       "    </tr>\n",
       "    <tr>\n",
       "      <th>2020-04-22</th>\n",
       "      <td>-0.308115</td>\n",
       "      <td>7.721531</td>\n",
       "      <td>1.951692</td>\n",
       "      <td>53591.032244</td>\n",
       "      <td>4.522756e+05</td>\n",
       "      <td>433979.0</td>\n",
       "      <td>3265862.0</td>\n",
       "      <td>0.586243</td>\n",
       "      <td>9.167159</td>\n",
       "      <td>3.253450</td>\n",
       "      <td>...</td>\n",
       "      <td>0.443950</td>\n",
       "      <td>-0.198245</td>\n",
       "      <td>0.422767</td>\n",
       "      <td>0.687833</td>\n",
       "      <td>0.480654</td>\n",
       "      <td>0.538137</td>\n",
       "      <td>22</td>\n",
       "      <td>4</td>\n",
       "      <td>2</td>\n",
       "      <td>2020</td>\n",
       "    </tr>\n",
       "    <tr>\n",
       "      <th>2020-04-23</th>\n",
       "      <td>0.413704</td>\n",
       "      <td>7.479106</td>\n",
       "      <td>0.696587</td>\n",
       "      <td>26760.825678</td>\n",
       "      <td>4.445423e+05</td>\n",
       "      <td>382446.0</td>\n",
       "      <td>3721585.0</td>\n",
       "      <td>0.528859</td>\n",
       "      <td>9.062256</td>\n",
       "      <td>3.488868</td>\n",
       "      <td>...</td>\n",
       "      <td>0.671071</td>\n",
       "      <td>0.853460</td>\n",
       "      <td>0.468572</td>\n",
       "      <td>0.402797</td>\n",
       "      <td>0.678754</td>\n",
       "      <td>0.629662</td>\n",
       "      <td>23</td>\n",
       "      <td>4</td>\n",
       "      <td>2</td>\n",
       "      <td>2020</td>\n",
       "    </tr>\n",
       "    <tr>\n",
       "      <th>2020-04-24</th>\n",
       "      <td>-0.490728</td>\n",
       "      <td>0.350761</td>\n",
       "      <td>1.434201</td>\n",
       "      <td>39397.180893</td>\n",
       "      <td>7.732119e+05</td>\n",
       "      <td>459833.0</td>\n",
       "      <td>2213955.0</td>\n",
       "      <td>0.523950</td>\n",
       "      <td>9.160853</td>\n",
       "      <td>3.418811</td>\n",
       "      <td>...</td>\n",
       "      <td>0.554215</td>\n",
       "      <td>0.436040</td>\n",
       "      <td>0.580267</td>\n",
       "      <td>0.469278</td>\n",
       "      <td>0.401647</td>\n",
       "      <td>0.449482</td>\n",
       "      <td>24</td>\n",
       "      <td>4</td>\n",
       "      <td>2</td>\n",
       "      <td>2020</td>\n",
       "    </tr>\n",
       "  </tbody>\n",
       "</table>\n",
       "<p>3586 rows × 1285 columns</p>\n",
       "</div>"
      ],
      "text/plain": [
       "            eqix_rost_close_corr_rolling_3_days  \\\n",
       "date                                              \n",
       "2006-01-25                             0.697482   \n",
       "2006-01-26                            -0.712630   \n",
       "2006-01-27                             0.931257   \n",
       "2006-01-30                             0.560951   \n",
       "2006-01-31                             0.999991   \n",
       "...                                         ...   \n",
       "2020-04-20                             0.921834   \n",
       "2020-04-21                             0.883428   \n",
       "2020-04-22                            -0.308115   \n",
       "2020-04-23                             0.413704   \n",
       "2020-04-24                            -0.490728   \n",
       "\n",
       "            eqix_close_std_rolling_3_days  rost_close_std_rolling_3_days  \\\n",
       "date                                                                       \n",
       "2006-01-25                       0.282852                       0.068850   \n",
       "2006-01-26                       0.131936                       0.025701   \n",
       "2006-01-27                       0.353271                       0.048220   \n",
       "2006-01-30                       0.349257                       0.057870   \n",
       "2006-01-31                       0.206297                       0.094188   \n",
       "...                                   ...                            ...   \n",
       "2020-04-20                      12.100167                       2.832178   \n",
       "2020-04-21                      13.572675                       4.528072   \n",
       "2020-04-22                       7.721531                       1.951692   \n",
       "2020-04-23                       7.479106                       0.696587   \n",
       "2020-04-24                       0.350761                       1.434201   \n",
       "\n",
       "            eqix_volume_std_rolling_3_days  rost_volume_std_rolling_3_days  \\\n",
       "date                                                                         \n",
       "2006-01-25                    20062.106769                    3.307482e+06   \n",
       "2006-01-26                   175816.922796                    3.364882e+06   \n",
       "2006-01-27                   156472.651685                    5.959368e+05   \n",
       "2006-01-30                   109960.000183                    1.163736e+06   \n",
       "2006-01-31                    84712.417773                    3.034216e+06   \n",
       "...                                    ...                             ...   \n",
       "2020-04-20                    10426.116454                    1.245721e+06   \n",
       "2020-04-21                    52815.552637                    7.638944e+05   \n",
       "2020-04-22                    53591.032244                    4.522756e+05   \n",
       "2020-04-23                    26760.825678                    4.445423e+05   \n",
       "2020-04-24                    39397.180893                    7.732119e+05   \n",
       "\n",
       "            eqix_volume  rost_volume  eqix_rost_close_corr_rolling_6_days  \\\n",
       "date                                                                        \n",
       "2006-01-25     235169.0    4918853.0                             0.709943   \n",
       "2006-01-26     547429.0    5432737.0                             0.801974   \n",
       "2006-01-27     373373.0    6107119.0                             0.635272   \n",
       "2006-01-30     343988.0    3840744.0                             0.657181   \n",
       "2006-01-31     214178.0    9849079.0                             0.167156   \n",
       "...                 ...          ...                                  ...   \n",
       "2020-04-20     519465.0    3565677.0                             0.806622   \n",
       "2020-04-21     420730.0    4154852.0                             0.831760   \n",
       "2020-04-22     433979.0    3265862.0                             0.586243   \n",
       "2020-04-23     382446.0    3721585.0                             0.528859   \n",
       "2020-04-24     459833.0    2213955.0                             0.523950   \n",
       "\n",
       "            eqix_close_std_rolling_6_days  rost_close_std_rolling_6_days  ...  \\\n",
       "date                                                                      ...   \n",
       "2006-01-25                       0.385182                       0.121731  ...   \n",
       "2006-01-26                       0.384777                       0.111135  ...   \n",
       "2006-01-27                       0.402604                       0.058964  ...   \n",
       "2006-01-30                       0.371951                       0.060240  ...   \n",
       "2006-01-31                       0.273997                       0.064078  ...   \n",
       "...                                   ...                            ...  ...   \n",
       "2020-04-20                      13.560098                       2.202212  ...   \n",
       "2020-04-21                       9.717596                       3.283860  ...   \n",
       "2020-04-22                       9.167159                       3.253450  ...   \n",
       "2020-04-23                       9.062256                       3.488868  ...   \n",
       "2020-04-24                       9.160853                       3.418811  ...   \n",
       "\n",
       "            pnr_ni_close_corr_rolling_10_days  \\\n",
       "date                                            \n",
       "2006-01-25                          -0.219709   \n",
       "2006-01-26                          -0.188994   \n",
       "2006-01-27                          -0.803803   \n",
       "2006-01-30                          -0.903130   \n",
       "2006-01-31                          -0.917838   \n",
       "...                                       ...   \n",
       "2020-04-20                           0.474303   \n",
       "2020-04-21                           0.370594   \n",
       "2020-04-22                           0.443950   \n",
       "2020-04-23                           0.671071   \n",
       "2020-04-24                           0.554215   \n",
       "\n",
       "            bac_ni_close_corr_rolling_3_days  \\\n",
       "date                                           \n",
       "2006-01-25                          0.359580   \n",
       "2006-01-26                         -0.103403   \n",
       "2006-01-27                          0.025116   \n",
       "2006-01-30                          0.889823   \n",
       "2006-01-31                          0.070913   \n",
       "...                                      ...   \n",
       "2020-04-20                          0.417548   \n",
       "2020-04-21                          0.895677   \n",
       "2020-04-22                         -0.198245   \n",
       "2020-04-23                          0.853460   \n",
       "2020-04-24                          0.436040   \n",
       "\n",
       "            bac_ni_close_corr_rolling_6_days  \\\n",
       "date                                           \n",
       "2006-01-25                          0.782241   \n",
       "2006-01-26                          0.645159   \n",
       "2006-01-27                         -0.321346   \n",
       "2006-01-30                         -0.101178   \n",
       "2006-01-31                          0.166059   \n",
       "...                                      ...   \n",
       "2020-04-20                          0.444901   \n",
       "2020-04-21                          0.754757   \n",
       "2020-04-22                          0.422767   \n",
       "2020-04-23                          0.468572   \n",
       "2020-04-24                          0.580267   \n",
       "\n",
       "            bac_ni_close_corr_rolling_7_days  \\\n",
       "date                                           \n",
       "2006-01-25                          0.685565   \n",
       "2006-01-26                          0.738144   \n",
       "2006-01-27                          0.094006   \n",
       "2006-01-30                         -0.218618   \n",
       "2006-01-31                          0.003603   \n",
       "...                                      ...   \n",
       "2020-04-20                          0.613099   \n",
       "2020-04-21                          0.552544   \n",
       "2020-04-22                          0.687833   \n",
       "2020-04-23                          0.402797   \n",
       "2020-04-24                          0.469278   \n",
       "\n",
       "            bac_ni_close_corr_rolling_8_days  \\\n",
       "date                                           \n",
       "2006-01-25                          0.352599   \n",
       "2006-01-26                          0.664665   \n",
       "2006-01-27                          0.272734   \n",
       "2006-01-30                          0.108505   \n",
       "2006-01-31                         -0.115543   \n",
       "...                                      ...   \n",
       "2020-04-20                          0.522359   \n",
       "2020-04-21                          0.687045   \n",
       "2020-04-22                          0.480654   \n",
       "2020-04-23                          0.678754   \n",
       "2020-04-24                          0.401647   \n",
       "\n",
       "            bac_ni_close_corr_rolling_10_days  day  month  quarter  year  \n",
       "date                                                                      \n",
       "2006-01-25                           0.118572   25      1        1  2006  \n",
       "2006-01-26                           0.200468   26      1        1  2006  \n",
       "2006-01-27                           0.203900   27      1        1  2006  \n",
       "2006-01-30                           0.308339   30      1        1  2006  \n",
       "2006-01-31                           0.343741   31      1        1  2006  \n",
       "...                                       ...  ...    ...      ...   ...  \n",
       "2020-04-20                           0.649346   20      4        2  2020  \n",
       "2020-04-21                           0.564808   21      4        2  2020  \n",
       "2020-04-22                           0.538137   22      4        2  2020  \n",
       "2020-04-23                           0.629662   23      4        2  2020  \n",
       "2020-04-24                           0.449482   24      4        2  2020  \n",
       "\n",
       "[3586 rows x 1285 columns]"
      ]
     },
     "execution_count": 1164,
     "metadata": {},
     "output_type": "execute_result"
    }
   ],
   "source": [
    "final_stock_df.loc[~pd.isna(final_stock_df.pnr_volume), :]"
   ]
  },
  {
   "cell_type": "code",
   "execution_count": 1165,
   "metadata": {},
   "outputs": [
    {
     "data": {
      "text/plain": [
       "<matplotlib.axes._subplots.AxesSubplot at 0x177d096d8>"
      ]
     },
     "execution_count": 1165,
     "metadata": {},
     "output_type": "execute_result"
    },
    {
     "data": {
      "image/png": "[encoded data removed]",
      "text/plain": [
       "<Figure size 1080x360 with 1 Axes>"
      ]
     },
     "metadata": {
      "needs_background": "light"
     },
     "output_type": "display_data"
    }
   ],
   "source": [
    "final_stock_df.loc[((final_stock_df.index>'2020-01-01') & (final_stock_df.index<'2021-01-01')), :][['pnr_bac_close_corr_rolling_3_days','pnr_bac_close_corr_rolling_6_days', \n",
    "                                                'pnr_bac_close_corr_rolling_8_days']].plot(figsize=(15,5))"
   ]
  },
  {
   "cell_type": "code",
   "execution_count": 1166,
   "metadata": {},
   "outputs": [
    {
     "data": {
      "text/plain": [
       "Index(['eqix_rost_close_corr_rolling_3_days', 'eqix_close_std_rolling_3_days',\n",
       "       'rost_close_std_rolling_3_days', 'eqix_volume_std_rolling_3_days',\n",
       "       'rost_volume_std_rolling_3_days', 'eqix_volume', 'rost_volume',\n",
       "       'eqix_rost_close_corr_rolling_6_days', 'eqix_close_std_rolling_6_days',\n",
       "       'rost_close_std_rolling_6_days',\n",
       "       ...\n",
       "       'pnr_ni_close_corr_rolling_10_days', 'bac_ni_close_corr_rolling_3_days',\n",
       "       'bac_ni_close_corr_rolling_6_days', 'bac_ni_close_corr_rolling_7_days',\n",
       "       'bac_ni_close_corr_rolling_8_days', 'bac_ni_close_corr_rolling_10_days',\n",
       "       'day', 'month', 'quarter', 'year'],\n",
       "      dtype='object', length=1285)"
      ]
     },
     "execution_count": 1166,
     "metadata": {},
     "output_type": "execute_result"
    }
   ],
   "source": [
    "final_stock_df.columns"
   ]
  },
  {
   "cell_type": "markdown",
   "metadata": {},
   "source": [
    "## Train Test Split to predict correlation over the next 7 days\n",
    "- rolling evey day make a predictions about what the correlation will be for the next 7 days stock price"
   ]
  },
  {
   "cell_type": "code",
   "execution_count": 1167,
   "metadata": {},
   "outputs": [
    {
     "data": {
      "text/plain": [
       "datetime.timedelta(days=7)"
      ]
     },
     "execution_count": 1167,
     "metadata": {},
     "output_type": "execute_result"
    }
   ],
   "source": [
    "datetime.timedelta(7)"
   ]
  },
  {
   "cell_type": "markdown",
   "metadata": {},
   "source": [
    "- Rolling Predictions"
   ]
  },
  {
   "cell_type": "code",
   "execution_count": 1168,
   "metadata": {},
   "outputs": [],
   "source": [
    "# drop na\n",
    "final_stock_df = final_stock_df.dropna()"
   ]
  },
  {
   "cell_type": "code",
   "execution_count": 1169,
   "metadata": {},
   "outputs": [
    {
     "name": "stdout",
     "output_type": "stream",
     "text": [
      "<class 'pandas.core.frame.DataFrame'>\n",
      "DatetimeIndex: 3586 entries, 2006-01-25 to 2020-04-24\n",
      "Columns: 1285 entries, eqix_rost_close_corr_rolling_3_days to year\n",
      "dtypes: float64(1281), int64(4)\n",
      "memory usage: 35.2 MB\n"
     ]
    }
   ],
   "source": [
    "final_stock_df.info()"
   ]
  },
  {
   "cell_type": "markdown",
   "metadata": {},
   "source": []
  },
  {
   "cell_type": "code",
   "execution_count": 807,
   "metadata": {},
   "outputs": [],
   "source": [
    "def evaluate_predictios_on_rolling_historical_data(final_stock_df, rolling_window = 7, starting_date_index= 3500,\n",
    "                                                   y_col='pnr_bac_close_corr_rolling_7_days'):\n",
    "    \"\"\"\n",
    "    Backtesting\n",
    "    \n",
    "    For now, assumes the final_stock only has pairs the one start stock and all others, pnc_bac, pnc_bar ...etc\n",
    "    \"\"\"\n",
    "    \n",
    "    predicted_corr_7_days = []\n",
    "    actual = []\n",
    "    rmse_corr_7_days = []\n",
    "    prediction_date = []\n",
    "\n",
    "    print_idx = 100\n",
    "     # otherwise, takes too long\n",
    "    start = time.time()\n",
    "\n",
    "    final_row = None\n",
    "    for date_idx, date in enumerate(list(final_stock_df.index)[starting_date_index:]):\n",
    "    #     print((date_id x+ starting_date_index+rolling_window+1))\n",
    "    #     print(len(final_stock_df))\n",
    "\n",
    "        if final_row:\n",
    "            break\n",
    "        if (date_idx + starting_date_index +rolling_window +1) == len(final_stock_df): # last row\n",
    "            final_row = True\n",
    "            # need to use the dates from the DF due to weekends\n",
    "            train_dates = final_stock_df.index[:starting_date_index+date_idx]\n",
    "            # The test is the rolling 7-day corr looking back the past seven days\n",
    "            # Therefore, the test_date should be seven dates ahead of the data we are training on\n",
    "\n",
    "            test_date = final_stock_df.index[starting_date_index+rolling_window+date_idx]\n",
    "\n",
    "        else:\n",
    "            # need to use the dates from the DF due to weekends\n",
    "            train_dates = final_stock_df.index[:starting_date_index+date_idx+1]\n",
    "            # The test is the rolling 7-day corr looking back the past seven days\n",
    "            # Therefore, the test_date should be seven dates ahead of the data we are training on\n",
    "\n",
    "            test_date = final_stock_df.index[starting_date_index+rolling_window+date_idx+1]\n",
    "\n",
    "\n",
    "        prediction_date.append(test_date)\n",
    "\n",
    "        if date_idx % print_idx == 0:\n",
    "            print(f\"Train dates =  {train_dates}\")\n",
    "            print(F\"Prediction date = {test_date}\")\n",
    "\n",
    "        train_df = final_stock_df[final_stock_df.index.isin(list(train_dates))]\n",
    "        test_df = final_stock_df[final_stock_df.index == test_date]\n",
    "\n",
    "        # TODO - search for the rolling 7-days column, don't hardcode\n",
    "        X_train, y_train = train_df.loc[:, train_df.columns != f\"{y_col}\"],  train_df.pnr_bac_close_corr_rolling_7_days\n",
    "        X_test, y_test = test_df.loc[:, test_df.columns != f\"{y_col}\"],  test_df.pnr_bac_close_corr_rolling_7_days\n",
    "\n",
    "    #     gb = GradientBoostingRegressor()\n",
    "        rf = RandomForestRegressor(n_jobs=-1)\n",
    "\n",
    "        X_train = np.nan_to_num(X_train.astype(np.float32)) # converting to float 32 throws some infinity errors\n",
    "        rf.fit(X_train, y_train)\n",
    "\n",
    "        prediction = rf.predict(X_test)\n",
    "\n",
    "        predicted_corr_7_days.append(prediction[0])\n",
    "        actual.append(y_test.values[0])\n",
    "\n",
    "        rmse_corr_7_days.append(np.sqrt(mean_squared_error(y_test, prediction)))\n",
    "        if date_idx % print_idx == 0:\n",
    "            print('prediction = ', prediction)\n",
    "            print('actual =', y_test.values)\n",
    "            print('')\n",
    "\n",
    "\n",
    "    end = time.time()\n",
    "\n",
    "    print(f\"Predictions took {(end-start)/60} minutes\")\n",
    "    \n",
    "    prediction_df = pd.DataFrame( {'actual_corr_7_days':actual, 'predicted_corr_7_days': predicted_corr_7_days, 'prediction_date':prediction_date})\n",
    "    \n",
    "    return prediction_df"
   ]
  },
  {
   "cell_type": "code",
   "execution_count": 810,
   "metadata": {},
   "outputs": [
    {
     "name": "stdout",
     "output_type": "stream",
     "text": [
      "Train dates =  DatetimeIndex(['2005-02-25', '2005-02-28', '2005-03-01', '2005-03-02',\n",
      "               '2005-03-03', '2005-03-04', '2005-03-07', '2005-03-08',\n",
      "               '2005-03-09', '2005-03-10',\n",
      "               ...\n",
      "               '2019-01-10', '2019-01-11', '2019-01-14', '2019-01-15',\n",
      "               '2019-01-16', '2019-01-17', '2019-01-18', '2019-01-22',\n",
      "               '2019-01-23', '2019-01-24'],\n",
      "              dtype='datetime64[ns]', name='date', length=3501, freq=None)\n",
      "Prediction date = 2019-02-05 00:00:00\n",
      "prediction =  [-0.39793788]\n",
      "actual = [-0.606127]\n",
      "\n"
     ]
    },
    {
     "ename": "KeyboardInterrupt",
     "evalue": "",
     "output_type": "error",
     "traceback": [
      "\u001b[0;31m---------------------------------------------------------------------------\u001b[0m",
      "\u001b[0;31mKeyboardInterrupt\u001b[0m                         Traceback (most recent call last)",
      "\u001b[0;32m<ipython-input-810-2595702fe915>\u001b[0m in \u001b[0;36m<module>\u001b[0;34m\u001b[0m\n\u001b[0;32m----> 1\u001b[0;31m \u001b[0mevaluate_predictios_on_rolling_historical_data\u001b[0m\u001b[0;34m(\u001b[0m\u001b[0mfinal_stock_df\u001b[0m\u001b[0;34m)\u001b[0m\u001b[0;34m\u001b[0m\u001b[0m\n\u001b[0m",
      "\u001b[0;32m<ipython-input-807-8aa6e0f53b35>\u001b[0m in \u001b[0;36mevaluate_predictios_on_rolling_historical_data\u001b[0;34m(final_stock_df, rolling_window, starting_date_index, y_col)\u001b[0m\n\u001b[1;32m     56\u001b[0m \u001b[0;34m\u001b[0m\u001b[0m\n\u001b[1;32m     57\u001b[0m         \u001b[0mX_train\u001b[0m \u001b[0;34m=\u001b[0m \u001b[0mnp\u001b[0m\u001b[0;34m.\u001b[0m\u001b[0mnan_to_num\u001b[0m\u001b[0;34m(\u001b[0m\u001b[0mX_train\u001b[0m\u001b[0;34m.\u001b[0m\u001b[0mastype\u001b[0m\u001b[0;34m(\u001b[0m\u001b[0mnp\u001b[0m\u001b[0;34m.\u001b[0m\u001b[0mfloat32\u001b[0m\u001b[0;34m)\u001b[0m\u001b[0;34m)\u001b[0m \u001b[0;31m# converting to float 32 throws some infinity errors\u001b[0m\u001b[0;34m\u001b[0m\u001b[0m\n\u001b[0;32m---> 58\u001b[0;31m         \u001b[0mrf\u001b[0m\u001b[0;34m.\u001b[0m\u001b[0mfit\u001b[0m\u001b[0;34m(\u001b[0m\u001b[0mX_train\u001b[0m\u001b[0;34m,\u001b[0m \u001b[0my_train\u001b[0m\u001b[0;34m)\u001b[0m\u001b[0;34m\u001b[0m\u001b[0m\n\u001b[0m\u001b[1;32m     59\u001b[0m \u001b[0;34m\u001b[0m\u001b[0m\n\u001b[1;32m     60\u001b[0m         \u001b[0mprediction\u001b[0m \u001b[0;34m=\u001b[0m \u001b[0mrf\u001b[0m\u001b[0;34m.\u001b[0m\u001b[0mpredict\u001b[0m\u001b[0;34m(\u001b[0m\u001b[0mX_test\u001b[0m\u001b[0;34m)\u001b[0m\u001b[0;34m\u001b[0m\u001b[0m\n",
      "\u001b[0;32m~/Library/Caches/pypoetry/virtualenvs/daily-trading-nJ43NNNI-py3.7/lib/python3.7/site-packages/sklearn/ensemble/_forest.py\u001b[0m in \u001b[0;36mfit\u001b[0;34m(self, X, y, sample_weight)\u001b[0m\n\u001b[1;32m    381\u001b[0m                     \u001b[0mverbose\u001b[0m\u001b[0;34m=\u001b[0m\u001b[0mself\u001b[0m\u001b[0;34m.\u001b[0m\u001b[0mverbose\u001b[0m\u001b[0;34m,\u001b[0m \u001b[0mclass_weight\u001b[0m\u001b[0;34m=\u001b[0m\u001b[0mself\u001b[0m\u001b[0;34m.\u001b[0m\u001b[0mclass_weight\u001b[0m\u001b[0;34m,\u001b[0m\u001b[0;34m\u001b[0m\u001b[0m\n\u001b[1;32m    382\u001b[0m                     n_samples_bootstrap=n_samples_bootstrap)\n\u001b[0;32m--> 383\u001b[0;31m                 for i, t in enumerate(trees))\n\u001b[0m\u001b[1;32m    384\u001b[0m \u001b[0;34m\u001b[0m\u001b[0m\n\u001b[1;32m    385\u001b[0m             \u001b[0;31m# Collect newly grown trees\u001b[0m\u001b[0;34m\u001b[0m\u001b[0;34m\u001b[0m\u001b[0m\n",
      "\u001b[0;32m~/Library/Caches/pypoetry/virtualenvs/daily-trading-nJ43NNNI-py3.7/lib/python3.7/site-packages/joblib/parallel.py\u001b[0m in \u001b[0;36m__call__\u001b[0;34m(self, iterable)\u001b[0m\n\u001b[1;32m   1015\u001b[0m \u001b[0;34m\u001b[0m\u001b[0m\n\u001b[1;32m   1016\u001b[0m             \u001b[0;32mwith\u001b[0m \u001b[0mself\u001b[0m\u001b[0;34m.\u001b[0m\u001b[0m_backend\u001b[0m\u001b[0;34m.\u001b[0m\u001b[0mretrieval_context\u001b[0m\u001b[0;34m(\u001b[0m\u001b[0;34m)\u001b[0m\u001b[0;34m:\u001b[0m\u001b[0;34m\u001b[0m\u001b[0m\n\u001b[0;32m-> 1017\u001b[0;31m                 \u001b[0mself\u001b[0m\u001b[0;34m.\u001b[0m\u001b[0mretrieve\u001b[0m\u001b[0;34m(\u001b[0m\u001b[0;34m)\u001b[0m\u001b[0;34m\u001b[0m\u001b[0m\n\u001b[0m\u001b[1;32m   1018\u001b[0m             \u001b[0;31m# Make sure that we get a last message telling us we are done\u001b[0m\u001b[0;34m\u001b[0m\u001b[0;34m\u001b[0m\u001b[0m\n\u001b[1;32m   1019\u001b[0m             \u001b[0melapsed_time\u001b[0m \u001b[0;34m=\u001b[0m \u001b[0mtime\u001b[0m\u001b[0;34m.\u001b[0m\u001b[0mtime\u001b[0m\u001b[0;34m(\u001b[0m\u001b[0;34m)\u001b[0m \u001b[0;34m-\u001b[0m \u001b[0mself\u001b[0m\u001b[0;34m.\u001b[0m\u001b[0m_start_time\u001b[0m\u001b[0;34m\u001b[0m\u001b[0m\n",
      "\u001b[0;32m~/Library/Caches/pypoetry/virtualenvs/daily-trading-nJ43NNNI-py3.7/lib/python3.7/site-packages/joblib/parallel.py\u001b[0m in \u001b[0;36mretrieve\u001b[0;34m(self)\u001b[0m\n\u001b[1;32m    907\u001b[0m             \u001b[0;32mtry\u001b[0m\u001b[0;34m:\u001b[0m\u001b[0;34m\u001b[0m\u001b[0m\n\u001b[1;32m    908\u001b[0m                 \u001b[0;32mif\u001b[0m \u001b[0mgetattr\u001b[0m\u001b[0;34m(\u001b[0m\u001b[0mself\u001b[0m\u001b[0;34m.\u001b[0m\u001b[0m_backend\u001b[0m\u001b[0;34m,\u001b[0m \u001b[0;34m'supports_timeout'\u001b[0m\u001b[0;34m,\u001b[0m \u001b[0;32mFalse\u001b[0m\u001b[0;34m)\u001b[0m\u001b[0;34m:\u001b[0m\u001b[0;34m\u001b[0m\u001b[0m\n\u001b[0;32m--> 909\u001b[0;31m                     \u001b[0mself\u001b[0m\u001b[0;34m.\u001b[0m\u001b[0m_output\u001b[0m\u001b[0;34m.\u001b[0m\u001b[0mextend\u001b[0m\u001b[0;34m(\u001b[0m\u001b[0mjob\u001b[0m\u001b[0;34m.\u001b[0m\u001b[0mget\u001b[0m\u001b[0;34m(\u001b[0m\u001b[0mtimeout\u001b[0m\u001b[0;34m=\u001b[0m\u001b[0mself\u001b[0m\u001b[0;34m.\u001b[0m\u001b[0mtimeout\u001b[0m\u001b[0;34m)\u001b[0m\u001b[0;34m)\u001b[0m\u001b[0;34m\u001b[0m\u001b[0m\n\u001b[0m\u001b[1;32m    910\u001b[0m                 \u001b[0;32melse\u001b[0m\u001b[0;34m:\u001b[0m\u001b[0;34m\u001b[0m\u001b[0m\n\u001b[1;32m    911\u001b[0m                     \u001b[0mself\u001b[0m\u001b[0;34m.\u001b[0m\u001b[0m_output\u001b[0m\u001b[0;34m.\u001b[0m\u001b[0mextend\u001b[0m\u001b[0;34m(\u001b[0m\u001b[0mjob\u001b[0m\u001b[0;34m.\u001b[0m\u001b[0mget\u001b[0m\u001b[0;34m(\u001b[0m\u001b[0;34m)\u001b[0m\u001b[0;34m)\u001b[0m\u001b[0;34m\u001b[0m\u001b[0m\n",
      "\u001b[0;32m~/.pyenv/versions/3.7.0/lib/python3.7/multiprocessing/pool.py\u001b[0m in \u001b[0;36mget\u001b[0;34m(self, timeout)\u001b[0m\n\u001b[1;32m    649\u001b[0m \u001b[0;34m\u001b[0m\u001b[0m\n\u001b[1;32m    650\u001b[0m     \u001b[0;32mdef\u001b[0m \u001b[0mget\u001b[0m\u001b[0;34m(\u001b[0m\u001b[0mself\u001b[0m\u001b[0;34m,\u001b[0m \u001b[0mtimeout\u001b[0m\u001b[0;34m=\u001b[0m\u001b[0;32mNone\u001b[0m\u001b[0;34m)\u001b[0m\u001b[0;34m:\u001b[0m\u001b[0;34m\u001b[0m\u001b[0m\n\u001b[0;32m--> 651\u001b[0;31m         \u001b[0mself\u001b[0m\u001b[0;34m.\u001b[0m\u001b[0mwait\u001b[0m\u001b[0;34m(\u001b[0m\u001b[0mtimeout\u001b[0m\u001b[0;34m)\u001b[0m\u001b[0;34m\u001b[0m\u001b[0m\n\u001b[0m\u001b[1;32m    652\u001b[0m         \u001b[0;32mif\u001b[0m \u001b[0;32mnot\u001b[0m \u001b[0mself\u001b[0m\u001b[0;34m.\u001b[0m\u001b[0mready\u001b[0m\u001b[0;34m(\u001b[0m\u001b[0;34m)\u001b[0m\u001b[0;34m:\u001b[0m\u001b[0;34m\u001b[0m\u001b[0m\n\u001b[1;32m    653\u001b[0m             \u001b[0;32mraise\u001b[0m \u001b[0mTimeoutError\u001b[0m\u001b[0;34m\u001b[0m\u001b[0m\n",
      "\u001b[0;32m~/.pyenv/versions/3.7.0/lib/python3.7/multiprocessing/pool.py\u001b[0m in \u001b[0;36mwait\u001b[0;34m(self, timeout)\u001b[0m\n\u001b[1;32m    646\u001b[0m \u001b[0;34m\u001b[0m\u001b[0m\n\u001b[1;32m    647\u001b[0m     \u001b[0;32mdef\u001b[0m \u001b[0mwait\u001b[0m\u001b[0;34m(\u001b[0m\u001b[0mself\u001b[0m\u001b[0;34m,\u001b[0m \u001b[0mtimeout\u001b[0m\u001b[0;34m=\u001b[0m\u001b[0;32mNone\u001b[0m\u001b[0;34m)\u001b[0m\u001b[0;34m:\u001b[0m\u001b[0;34m\u001b[0m\u001b[0m\n\u001b[0;32m--> 648\u001b[0;31m         \u001b[0mself\u001b[0m\u001b[0;34m.\u001b[0m\u001b[0m_event\u001b[0m\u001b[0;34m.\u001b[0m\u001b[0mwait\u001b[0m\u001b[0;34m(\u001b[0m\u001b[0mtimeout\u001b[0m\u001b[0;34m)\u001b[0m\u001b[0;34m\u001b[0m\u001b[0m\n\u001b[0m\u001b[1;32m    649\u001b[0m \u001b[0;34m\u001b[0m\u001b[0m\n\u001b[1;32m    650\u001b[0m     \u001b[0;32mdef\u001b[0m \u001b[0mget\u001b[0m\u001b[0;34m(\u001b[0m\u001b[0mself\u001b[0m\u001b[0;34m,\u001b[0m \u001b[0mtimeout\u001b[0m\u001b[0;34m=\u001b[0m\u001b[0;32mNone\u001b[0m\u001b[0;34m)\u001b[0m\u001b[0;34m:\u001b[0m\u001b[0;34m\u001b[0m\u001b[0m\n",
      "\u001b[0;32m~/.pyenv/versions/3.7.0/lib/python3.7/threading.py\u001b[0m in \u001b[0;36mwait\u001b[0;34m(self, timeout)\u001b[0m\n\u001b[1;32m    550\u001b[0m             \u001b[0msignaled\u001b[0m \u001b[0;34m=\u001b[0m \u001b[0mself\u001b[0m\u001b[0;34m.\u001b[0m\u001b[0m_flag\u001b[0m\u001b[0;34m\u001b[0m\u001b[0m\n\u001b[1;32m    551\u001b[0m             \u001b[0;32mif\u001b[0m \u001b[0;32mnot\u001b[0m \u001b[0msignaled\u001b[0m\u001b[0;34m:\u001b[0m\u001b[0;34m\u001b[0m\u001b[0m\n\u001b[0;32m--> 552\u001b[0;31m                 \u001b[0msignaled\u001b[0m \u001b[0;34m=\u001b[0m \u001b[0mself\u001b[0m\u001b[0;34m.\u001b[0m\u001b[0m_cond\u001b[0m\u001b[0;34m.\u001b[0m\u001b[0mwait\u001b[0m\u001b[0;34m(\u001b[0m\u001b[0mtimeout\u001b[0m\u001b[0;34m)\u001b[0m\u001b[0;34m\u001b[0m\u001b[0m\n\u001b[0m\u001b[1;32m    553\u001b[0m             \u001b[0;32mreturn\u001b[0m \u001b[0msignaled\u001b[0m\u001b[0;34m\u001b[0m\u001b[0m\n\u001b[1;32m    554\u001b[0m \u001b[0;34m\u001b[0m\u001b[0m\n",
      "\u001b[0;32m~/.pyenv/versions/3.7.0/lib/python3.7/threading.py\u001b[0m in \u001b[0;36mwait\u001b[0;34m(self, timeout)\u001b[0m\n\u001b[1;32m    294\u001b[0m         \u001b[0;32mtry\u001b[0m\u001b[0;34m:\u001b[0m    \u001b[0;31m# restore state no matter what (e.g., KeyboardInterrupt)\u001b[0m\u001b[0;34m\u001b[0m\u001b[0m\n\u001b[1;32m    295\u001b[0m             \u001b[0;32mif\u001b[0m \u001b[0mtimeout\u001b[0m \u001b[0;32mis\u001b[0m \u001b[0;32mNone\u001b[0m\u001b[0;34m:\u001b[0m\u001b[0;34m\u001b[0m\u001b[0m\n\u001b[0;32m--> 296\u001b[0;31m                 \u001b[0mwaiter\u001b[0m\u001b[0;34m.\u001b[0m\u001b[0macquire\u001b[0m\u001b[0;34m(\u001b[0m\u001b[0;34m)\u001b[0m\u001b[0;34m\u001b[0m\u001b[0m\n\u001b[0m\u001b[1;32m    297\u001b[0m                 \u001b[0mgotit\u001b[0m \u001b[0;34m=\u001b[0m \u001b[0;32mTrue\u001b[0m\u001b[0;34m\u001b[0m\u001b[0m\n\u001b[1;32m    298\u001b[0m             \u001b[0;32melse\u001b[0m\u001b[0;34m:\u001b[0m\u001b[0;34m\u001b[0m\u001b[0m\n",
      "\u001b[0;31mKeyboardInterrupt\u001b[0m: "
     ]
    }
   ],
   "source": [
    "evaluate_predictios_on_rolling_historical_data(final_stock_df)"
   ]
  },
  {
   "cell_type": "code",
   "execution_count": 803,
   "metadata": {},
   "outputs": [
    {
     "data": {
      "text/plain": [
       "0.07047565705321027"
      ]
     },
     "execution_count": 803,
     "metadata": {},
     "output_type": "execute_result"
    }
   ],
   "source": [
    "np.mean(rmse_corr_7_days) # rolling 6 + 8 day corr added"
   ]
  },
  {
   "cell_type": "code",
   "execution_count": 786,
   "metadata": {},
   "outputs": [
    {
     "data": {
      "text/plain": [
       "0.1364248274131171"
      ]
     },
     "execution_count": 786,
     "metadata": {},
     "output_type": "execute_result"
    }
   ],
   "source": [
    "np.mean(rmse_corr_7_days) # rolling 6 day corr added"
   ]
  },
  {
   "cell_type": "code",
   "execution_count": null,
   "metadata": {},
   "outputs": [],
   "source": []
  },
  {
   "cell_type": "code",
   "execution_count": 756,
   "metadata": {},
   "outputs": [
    {
     "data": {
      "text/plain": [
       "0.21447151296988917"
      ]
     },
     "execution_count": 756,
     "metadata": {},
     "output_type": "execute_result"
    }
   ],
   "source": [
    "np.mean(rmse_corr_7_days)"
   ]
  },
  {
   "cell_type": "code",
   "execution_count": 707,
   "metadata": {},
   "outputs": [
    {
     "data": {
      "text/plain": [
       "0.27645221273913956"
      ]
     },
     "execution_count": 707,
     "metadata": {},
     "output_type": "execute_result"
    }
   ],
   "source": [
    "np.mean(rmse_corr_7_days)"
   ]
  },
  {
   "cell_type": "code",
   "execution_count": 689,
   "metadata": {},
   "outputs": [
    {
     "data": {
      "text/plain": [
       "0.299352551057616"
      ]
     },
     "execution_count": 689,
     "metadata": {},
     "output_type": "execute_result"
    }
   ],
   "source": [
    "np.mean(rmse_corr_7_days)"
   ]
  },
  {
   "cell_type": "code",
   "execution_count": 757,
   "metadata": {},
   "outputs": [],
   "source": [
    "prediction_df = pd.DataFrame( {'actual_corr_7_days':actual, 'predicted_corr_7_days': predicted_corr_7_days, 'prediction_date':prediction_date})"
   ]
  },
  {
   "cell_type": "code",
   "execution_count": 758,
   "metadata": {},
   "outputs": [],
   "source": [
    "prediction_df = prediction_df.set_index('prediction_date')"
   ]
  },
  {
   "cell_type": "code",
   "execution_count": 787,
   "metadata": {},
   "outputs": [
    {
     "data": {
      "text/plain": [
       "<matplotlib.axes._subplots.AxesSubplot at 0x152307c88>"
      ]
     },
     "execution_count": 787,
     "metadata": {},
     "output_type": "execute_result"
    },
    {
     "data": {
      "image/png": "[encoded data removed]",
      "text/plain": [
       "<Figure size 1080x360 with 1 Axes>"
      ]
     },
     "metadata": {
      "needs_background": "light"
     },
     "output_type": "display_data"
    }
   ],
   "source": [
    "prediction_df.plot(title='predicted corr pnr_bac rolling 7-days', figsize=(15,5))"
   ]
  },
  {
   "cell_type": "code",
   "execution_count": 510,
   "metadata": {},
   "outputs": [
    {
     "data": {
      "text/plain": [
       "DatetimeIndex(['2019-11-20', '2019-11-21', '2019-11-22', '2019-11-25',\n",
       "               '2019-11-26', '2019-11-27', '2019-11-29', '2019-12-02',\n",
       "               '2019-12-03', '2019-12-04',\n",
       "               ...\n",
       "               '2020-04-03', '2020-04-06', '2020-04-07', '2020-04-08',\n",
       "               '2020-04-09', '2020-04-13', '2020-04-14', '2020-04-15',\n",
       "               '2020-04-16', '2020-04-16'],\n",
       "              dtype='datetime64[ns]', name='prediction_date', length=102, freq=None)"
      ]
     },
     "execution_count": 510,
     "metadata": {},
     "output_type": "execute_result"
    }
   ],
   "source": [
    "prediction_df.index"
   ]
  },
  {
   "cell_type": "markdown",
   "metadata": {},
   "source": [
    "## Feature Importances\n",
    "- nit: only based on last tree fit"
   ]
  },
  {
   "cell_type": "code",
   "execution_count": 804,
   "metadata": {},
   "outputs": [
    {
     "data": {
      "text/plain": [
       "(array([ 0,  1,  2,  3,  4,  5,  6,  7,  8,  9, 10, 11, 12, 13, 14, 15, 16,\n",
       "        17, 18, 19, 20, 21, 22, 23, 24, 25, 26, 27, 28, 29, 30, 31, 32, 33,\n",
       "        34]),\n",
       " <a list of 35 Text major ticklabel objects>)"
      ]
     },
     "execution_count": 804,
     "metadata": {},
     "output_type": "execute_result"
    },
    {
     "data": {
      "image/png": "[encoded data removed]",
      "text/plain": [
       "<Figure size 1080x360 with 1 Axes>"
      ]
     },
     "metadata": {
      "needs_background": "light"
     },
     "output_type": "display_data"
    }
   ],
   "source": [
    "cols = list(final_stock_df.columns)\n",
    "cols.remove('pnr_bac_close_corr_rolling_7_days')\n",
    "\n",
    "plt.figure(figsize=(15,5))\n",
    "sns.barplot(x=np.array(cols)[np.argsort(rf.feature_importances_)], y=rf.feature_importances_[np.argsort(rf.feature_importances_)])\n",
    "plt.xticks(rotation=90)"
   ]
  },
  {
   "cell_type": "markdown",
   "metadata": {},
   "source": [
    "# given all feature, predict next 7-days for each stock pair"
   ]
  },
  {
   "cell_type": "code",
   "execution_count": 1182,
   "metadata": {},
   "outputs": [
    {
     "data": {
      "text/plain": [
       "date\n",
       "2006-01-25    0.151438\n",
       "2006-01-26    0.263368\n",
       "2006-01-27   -0.675648\n",
       "2006-01-30   -0.245173\n",
       "2006-01-31    0.848353\n",
       "                ...   \n",
       "2020-04-20    0.928298\n",
       "2020-04-21    0.979311\n",
       "2020-04-22    0.992304\n",
       "2020-04-23    0.985425\n",
       "2020-04-24    0.985425\n",
       "Name: pnr_bac_close_corr_rolling_3_days, Length: 3586, dtype: float64"
      ]
     },
     "execution_count": 1182,
     "metadata": {},
     "output_type": "execute_result"
    }
   ],
   "source": [
    "final_stock_df.pnr_bac_close_corr_rolling_3_days.shift(-1).fillna(method='ffill')"
   ]
  },
  {
   "cell_type": "code",
   "execution_count": 1013,
   "metadata": {},
   "outputs": [
    {
     "data": {
      "text/plain": [
       "array([[1.609430e-01, 8.503500e-02, 3.168980e-01, ..., 1.000000e+00,\n",
       "        1.000000e+00, 2.006000e+03],\n",
       "       [1.514380e-01, 8.503500e-02, 3.126760e-01, ..., 1.000000e+00,\n",
       "        1.000000e+00, 2.006000e+03],\n",
       "       [2.633680e-01, 6.827510e-01, 1.288730e-01, ..., 1.000000e+00,\n",
       "        1.000000e+00, 2.006000e+03],\n",
       "       ...,\n",
       "       [6.691380e-01, 5.577040e-01, 9.487360e-01, ..., 4.000000e+00,\n",
       "        2.000000e+00, 2.020000e+03],\n",
       "       [9.991570e-01, 8.747000e-01, 1.176194e+00, ..., 4.000000e+00,\n",
       "        2.000000e+00, 2.020000e+03],\n",
       "       [9.890840e-01, 5.907060e-01, 9.345770e-01, ..., 4.000000e+00,\n",
       "        2.000000e+00, 2.020000e+03]], dtype=float32)"
      ]
     },
     "execution_count": 1013,
     "metadata": {},
     "output_type": "execute_result"
    }
   ],
   "source": [
    "np.nan_to_num(final_stock_df.astype(np.float32)"
   ]
  },
  {
   "cell_type": "markdown",
   "metadata": {},
   "source": [
    "- build predicted 7 day corr for each pair"
   ]
  },
  {
   "cell_type": "code",
   "execution_count": 1170,
   "metadata": {},
   "outputs": [],
   "source": [
    "# remove all 7_days_corr columns ex: so_rost_close_corr_rolling_7_days\n",
    "### format: f\"{first_stock_name}_{second_stock_name}_close_corr_rolling_{n_days_stride}_days\"\n",
    "# using all data up until the last day, predict 7-day corr for each stock pair"
   ]
  },
  {
   "cell_type": "code",
   "execution_count": 1193,
   "metadata": {},
   "outputs": [],
   "source": [
    "def most_recent_week_historical_prediction(final_stock_df):\n",
    "    \"\"\"\n",
    "    Take the most recent week of data and use that to predict against \n",
    "    \"\"\"\n",
    "\n",
    "    test_date = final_stock_df.index.max()\n",
    "    train_dates = final_stock_df.index[final_stock_df.index < test_date - datetime.timedelta(7)] # seven days before\n",
    "\n",
    "    train_df = final_stock_df[final_stock_df.index.isin(train_dates)]\n",
    "    test_df = final_stock_df[final_stock_df.index == test_date]\n",
    "\n",
    "\n",
    "    final_stock_df = final_stock_df.dropna()\n",
    "\n",
    "    n_days_corr_predictions = 7\n",
    "\n",
    "\n",
    "    pct_change_corr = []\n",
    "    actual_corr = []\n",
    "    predicted_corr = []\n",
    "    last_corr_for_prediction_day = []\n",
    "    pred_dates = []\n",
    "    start = time.time()\n",
    "\n",
    "    for stock_pairing in pairs_of_stocks:\n",
    "        pred_col_name = f\"{stock_pairing}_close_corr_rolling_{n_days_corr_predictions}_days\"\n",
    "\n",
    "        # remove the current 7-day corr for this stock\n",
    "        # we can't use  test_X data because we will not have access to it\n",
    "        train_X, train_y = train_df.loc[:, train_df.columns != f\"{pred_col_name}\"],  train_df[f\"{pred_col_name}\"].shift(-7).fillna(method='ffill')# shift back 7 days to get rolling corr\n",
    "        \n",
    "        test_X, test_y = test_df.loc[:, test_df.columns != f\"{pred_col_name}\"],  test_df[f\"{pred_col_name}\"] # test has the date we want to predict against\n",
    "\n",
    "\n",
    "        train_X = np.nan_to_num(train_X.astype(np.float32)) \n",
    "\n",
    "        # standard scaler for cols\n",
    "        scaler=StandardScaler()\n",
    "        scaler.fit(train_X)\n",
    "        train_X = scaler.transform(train_X)\n",
    "        test_X = scaler.transform(test_X)\n",
    "\n",
    "\n",
    "        # Make an instance of the Model\n",
    "        # only train on train_x\n",
    "\n",
    "        pca = PCA(n_components=5, whiten=True)\n",
    "        pca.fit(train_X)\n",
    "\n",
    "        train_X = pca.transform(train_X)\n",
    "        test_X = pca.transform(test_X)\n",
    "    #     train_X = np.nan_to_num(train_X.astype(np.float32)) \n",
    "\n",
    "    #     print(train_X.shape)\n",
    "\n",
    "\n",
    "        # standaard scaler\n",
    "\n",
    "\n",
    "\n",
    "        rf = RandomForestRegressor(n_estimators=100, n_jobs=-1)\n",
    "        rf.fit(train_X, train_y)\n",
    "\n",
    "\n",
    "        prediction = np.array(rf.predict(test_X))[0]\n",
    "        print(f\"Stocks {stock_pairing}\")\n",
    "        print(f\"Prediction = {prediction}\")\n",
    "        print(f\"Actual = {test_y.values[0]}\")\n",
    "\n",
    "        pred_corr_pct_change, last_date = find_pct_change_pred_vs_last_corr(train_y, prediction)\n",
    "\n",
    "        last_corr_date = train_y.index.max()\n",
    "        last_corr = train_y[train_y.index.max()]    \n",
    "\n",
    "        pct_change_corr.append(pred_corr_pct_change)\n",
    "        pred_dates.append(last_date)\n",
    "        actual_corr.append(test_y.values[0])\n",
    "        predicted_corr.append(prediction)\n",
    "        last_corr_for_prediction_day.append(last_corr)\n",
    "\n",
    "        print(f\"{stock_pairing} pct change 7-day corr of close from {last_date} to {test_date} is =  {pred_corr_pct_change}\")\n",
    "\n",
    "\n",
    "    end = time.time()\n",
    "\n",
    "    print(f\"Predictions took {(end-start)/60} mins\")\n",
    "    \n",
    "    pd.DataFrame({ 'pred_date_start':pred_dates,'stock_pair':pairs_of_stocks,   'pct_change_for_7_daycorr': pct_change_corr,\n",
    "    'actual_corr': actual_corr,\n",
    "    'predicted_corr': predicted_corr, 'last_7_day_corr_for_pred_date_start': last_corr_for_prediction_day}).to_csv(\n",
    "    '../data/predictions/test_predictions_2020_04_17.csv', index=False)\n",
    "    \n"
   ]
  },
  {
   "cell_type": "code",
   "execution_count": 1194,
   "metadata": {},
   "outputs": [
    {
     "name": "stderr",
     "output_type": "stream",
     "text": [
      "/Users/jonathanhilgart/Library/Caches/pypoetry/virtualenvs/daily-trading-nJ43NNNI-py3.7/lib/python3.7/site-packages/numpy/lib/nanfunctions.py:1546: RuntimeWarning: overflow encountered in multiply\n",
      "  sqr = np.multiply(arr, arr, out=arr)\n"
     ]
    },
    {
     "ename": "ValueError",
     "evalue": "Number of labels=3586 does not match number of samples=3580",
     "output_type": "error",
     "traceback": [
      "\u001b[0;31m---------------------------------------------------------------------------\u001b[0m",
      "\u001b[0;31mValueError\u001b[0m                                Traceback (most recent call last)",
      "\u001b[0;32m<ipython-input-1194-637b3a128f14>\u001b[0m in \u001b[0;36m<module>\u001b[0;34m\u001b[0m\n\u001b[0;32m----> 1\u001b[0;31m \u001b[0mmost_recent_week_historical_prediction\u001b[0m\u001b[0;34m(\u001b[0m\u001b[0mfinal_stock_df\u001b[0m\u001b[0;34m)\u001b[0m\u001b[0;34m\u001b[0m\u001b[0m\n\u001b[0m",
      "\u001b[0;32m<ipython-input-1193-7c0f95af49b9>\u001b[0m in \u001b[0;36mmost_recent_week_historical_prediction\u001b[0;34m(final_stock_df)\u001b[0m\n\u001b[1;32m     60\u001b[0m \u001b[0;34m\u001b[0m\u001b[0m\n\u001b[1;32m     61\u001b[0m         \u001b[0mrf\u001b[0m \u001b[0;34m=\u001b[0m \u001b[0mRandomForestRegressor\u001b[0m\u001b[0;34m(\u001b[0m\u001b[0mn_estimators\u001b[0m\u001b[0;34m=\u001b[0m\u001b[0;36m100\u001b[0m\u001b[0;34m,\u001b[0m \u001b[0mn_jobs\u001b[0m\u001b[0;34m=\u001b[0m\u001b[0;34m-\u001b[0m\u001b[0;36m1\u001b[0m\u001b[0;34m)\u001b[0m\u001b[0;34m\u001b[0m\u001b[0m\n\u001b[0;32m---> 62\u001b[0;31m         \u001b[0mrf\u001b[0m\u001b[0;34m.\u001b[0m\u001b[0mfit\u001b[0m\u001b[0;34m(\u001b[0m\u001b[0mtrain_X\u001b[0m\u001b[0;34m,\u001b[0m \u001b[0mtrain_y\u001b[0m\u001b[0;34m)\u001b[0m\u001b[0;34m\u001b[0m\u001b[0m\n\u001b[0m\u001b[1;32m     63\u001b[0m \u001b[0;34m\u001b[0m\u001b[0m\n\u001b[1;32m     64\u001b[0m \u001b[0;34m\u001b[0m\u001b[0m\n",
      "\u001b[0;32m~/Library/Caches/pypoetry/virtualenvs/daily-trading-nJ43NNNI-py3.7/lib/python3.7/site-packages/sklearn/ensemble/_forest.py\u001b[0m in \u001b[0;36mfit\u001b[0;34m(self, X, y, sample_weight)\u001b[0m\n\u001b[1;32m    381\u001b[0m                     \u001b[0mverbose\u001b[0m\u001b[0;34m=\u001b[0m\u001b[0mself\u001b[0m\u001b[0;34m.\u001b[0m\u001b[0mverbose\u001b[0m\u001b[0;34m,\u001b[0m \u001b[0mclass_weight\u001b[0m\u001b[0;34m=\u001b[0m\u001b[0mself\u001b[0m\u001b[0;34m.\u001b[0m\u001b[0mclass_weight\u001b[0m\u001b[0;34m,\u001b[0m\u001b[0;34m\u001b[0m\u001b[0m\n\u001b[1;32m    382\u001b[0m                     n_samples_bootstrap=n_samples_bootstrap)\n\u001b[0;32m--> 383\u001b[0;31m                 for i, t in enumerate(trees))\n\u001b[0m\u001b[1;32m    384\u001b[0m \u001b[0;34m\u001b[0m\u001b[0m\n\u001b[1;32m    385\u001b[0m             \u001b[0;31m# Collect newly grown trees\u001b[0m\u001b[0;34m\u001b[0m\u001b[0;34m\u001b[0m\u001b[0m\n",
      "\u001b[0;32m~/Library/Caches/pypoetry/virtualenvs/daily-trading-nJ43NNNI-py3.7/lib/python3.7/site-packages/joblib/parallel.py\u001b[0m in \u001b[0;36m__call__\u001b[0;34m(self, iterable)\u001b[0m\n\u001b[1;32m   1015\u001b[0m \u001b[0;34m\u001b[0m\u001b[0m\n\u001b[1;32m   1016\u001b[0m             \u001b[0;32mwith\u001b[0m \u001b[0mself\u001b[0m\u001b[0;34m.\u001b[0m\u001b[0m_backend\u001b[0m\u001b[0;34m.\u001b[0m\u001b[0mretrieval_context\u001b[0m\u001b[0;34m(\u001b[0m\u001b[0;34m)\u001b[0m\u001b[0;34m:\u001b[0m\u001b[0;34m\u001b[0m\u001b[0m\n\u001b[0;32m-> 1017\u001b[0;31m                 \u001b[0mself\u001b[0m\u001b[0;34m.\u001b[0m\u001b[0mretrieve\u001b[0m\u001b[0;34m(\u001b[0m\u001b[0;34m)\u001b[0m\u001b[0;34m\u001b[0m\u001b[0m\n\u001b[0m\u001b[1;32m   1018\u001b[0m             \u001b[0;31m# Make sure that we get a last message telling us we are done\u001b[0m\u001b[0;34m\u001b[0m\u001b[0;34m\u001b[0m\u001b[0m\n\u001b[1;32m   1019\u001b[0m             \u001b[0melapsed_time\u001b[0m \u001b[0;34m=\u001b[0m \u001b[0mtime\u001b[0m\u001b[0;34m.\u001b[0m\u001b[0mtime\u001b[0m\u001b[0;34m(\u001b[0m\u001b[0;34m)\u001b[0m \u001b[0;34m-\u001b[0m \u001b[0mself\u001b[0m\u001b[0;34m.\u001b[0m\u001b[0m_start_time\u001b[0m\u001b[0;34m\u001b[0m\u001b[0m\n",
      "\u001b[0;32m~/Library/Caches/pypoetry/virtualenvs/daily-trading-nJ43NNNI-py3.7/lib/python3.7/site-packages/joblib/parallel.py\u001b[0m in \u001b[0;36mretrieve\u001b[0;34m(self)\u001b[0m\n\u001b[1;32m    907\u001b[0m             \u001b[0;32mtry\u001b[0m\u001b[0;34m:\u001b[0m\u001b[0;34m\u001b[0m\u001b[0m\n\u001b[1;32m    908\u001b[0m                 \u001b[0;32mif\u001b[0m \u001b[0mgetattr\u001b[0m\u001b[0;34m(\u001b[0m\u001b[0mself\u001b[0m\u001b[0;34m.\u001b[0m\u001b[0m_backend\u001b[0m\u001b[0;34m,\u001b[0m \u001b[0;34m'supports_timeout'\u001b[0m\u001b[0;34m,\u001b[0m \u001b[0;32mFalse\u001b[0m\u001b[0;34m)\u001b[0m\u001b[0;34m:\u001b[0m\u001b[0;34m\u001b[0m\u001b[0m\n\u001b[0;32m--> 909\u001b[0;31m                     \u001b[0mself\u001b[0m\u001b[0;34m.\u001b[0m\u001b[0m_output\u001b[0m\u001b[0;34m.\u001b[0m\u001b[0mextend\u001b[0m\u001b[0;34m(\u001b[0m\u001b[0mjob\u001b[0m\u001b[0;34m.\u001b[0m\u001b[0mget\u001b[0m\u001b[0;34m(\u001b[0m\u001b[0mtimeout\u001b[0m\u001b[0;34m=\u001b[0m\u001b[0mself\u001b[0m\u001b[0;34m.\u001b[0m\u001b[0mtimeout\u001b[0m\u001b[0;34m)\u001b[0m\u001b[0;34m)\u001b[0m\u001b[0;34m\u001b[0m\u001b[0m\n\u001b[0m\u001b[1;32m    910\u001b[0m                 \u001b[0;32melse\u001b[0m\u001b[0;34m:\u001b[0m\u001b[0;34m\u001b[0m\u001b[0m\n\u001b[1;32m    911\u001b[0m                     \u001b[0mself\u001b[0m\u001b[0;34m.\u001b[0m\u001b[0m_output\u001b[0m\u001b[0;34m.\u001b[0m\u001b[0mextend\u001b[0m\u001b[0;34m(\u001b[0m\u001b[0mjob\u001b[0m\u001b[0;34m.\u001b[0m\u001b[0mget\u001b[0m\u001b[0;34m(\u001b[0m\u001b[0;34m)\u001b[0m\u001b[0;34m)\u001b[0m\u001b[0;34m\u001b[0m\u001b[0m\n",
      "\u001b[0;32m~/.pyenv/versions/3.7.0/lib/python3.7/multiprocessing/pool.py\u001b[0m in \u001b[0;36mget\u001b[0;34m(self, timeout)\u001b[0m\n\u001b[1;32m    655\u001b[0m             \u001b[0;32mreturn\u001b[0m \u001b[0mself\u001b[0m\u001b[0;34m.\u001b[0m\u001b[0m_value\u001b[0m\u001b[0;34m\u001b[0m\u001b[0m\n\u001b[1;32m    656\u001b[0m         \u001b[0;32melse\u001b[0m\u001b[0;34m:\u001b[0m\u001b[0;34m\u001b[0m\u001b[0m\n\u001b[0;32m--> 657\u001b[0;31m             \u001b[0;32mraise\u001b[0m \u001b[0mself\u001b[0m\u001b[0;34m.\u001b[0m\u001b[0m_value\u001b[0m\u001b[0;34m\u001b[0m\u001b[0m\n\u001b[0m\u001b[1;32m    658\u001b[0m \u001b[0;34m\u001b[0m\u001b[0m\n\u001b[1;32m    659\u001b[0m     \u001b[0;32mdef\u001b[0m \u001b[0m_set\u001b[0m\u001b[0;34m(\u001b[0m\u001b[0mself\u001b[0m\u001b[0;34m,\u001b[0m \u001b[0mi\u001b[0m\u001b[0;34m,\u001b[0m \u001b[0mobj\u001b[0m\u001b[0;34m)\u001b[0m\u001b[0;34m:\u001b[0m\u001b[0;34m\u001b[0m\u001b[0m\n",
      "\u001b[0;32m~/.pyenv/versions/3.7.0/lib/python3.7/multiprocessing/pool.py\u001b[0m in \u001b[0;36mworker\u001b[0;34m(inqueue, outqueue, initializer, initargs, maxtasks, wrap_exception)\u001b[0m\n\u001b[1;32m    119\u001b[0m         \u001b[0mjob\u001b[0m\u001b[0;34m,\u001b[0m \u001b[0mi\u001b[0m\u001b[0;34m,\u001b[0m \u001b[0mfunc\u001b[0m\u001b[0;34m,\u001b[0m \u001b[0margs\u001b[0m\u001b[0;34m,\u001b[0m \u001b[0mkwds\u001b[0m \u001b[0;34m=\u001b[0m \u001b[0mtask\u001b[0m\u001b[0;34m\u001b[0m\u001b[0m\n\u001b[1;32m    120\u001b[0m         \u001b[0;32mtry\u001b[0m\u001b[0;34m:\u001b[0m\u001b[0;34m\u001b[0m\u001b[0m\n\u001b[0;32m--> 121\u001b[0;31m             \u001b[0mresult\u001b[0m \u001b[0;34m=\u001b[0m \u001b[0;34m(\u001b[0m\u001b[0;32mTrue\u001b[0m\u001b[0;34m,\u001b[0m \u001b[0mfunc\u001b[0m\u001b[0;34m(\u001b[0m\u001b[0;34m*\u001b[0m\u001b[0margs\u001b[0m\u001b[0;34m,\u001b[0m \u001b[0;34m**\u001b[0m\u001b[0mkwds\u001b[0m\u001b[0;34m)\u001b[0m\u001b[0;34m)\u001b[0m\u001b[0;34m\u001b[0m\u001b[0m\n\u001b[0m\u001b[1;32m    122\u001b[0m         \u001b[0;32mexcept\u001b[0m \u001b[0mException\u001b[0m \u001b[0;32mas\u001b[0m \u001b[0me\u001b[0m\u001b[0;34m:\u001b[0m\u001b[0;34m\u001b[0m\u001b[0m\n\u001b[1;32m    123\u001b[0m             \u001b[0;32mif\u001b[0m \u001b[0mwrap_exception\u001b[0m \u001b[0;32mand\u001b[0m \u001b[0mfunc\u001b[0m \u001b[0;32mis\u001b[0m \u001b[0;32mnot\u001b[0m \u001b[0m_helper_reraises_exception\u001b[0m\u001b[0;34m:\u001b[0m\u001b[0;34m\u001b[0m\u001b[0m\n",
      "\u001b[0;32m~/Library/Caches/pypoetry/virtualenvs/daily-trading-nJ43NNNI-py3.7/lib/python3.7/site-packages/joblib/_parallel_backends.py\u001b[0m in \u001b[0;36m__call__\u001b[0;34m(self, *args, **kwargs)\u001b[0m\n\u001b[1;32m    606\u001b[0m     \u001b[0;32mdef\u001b[0m \u001b[0m__call__\u001b[0m\u001b[0;34m(\u001b[0m\u001b[0mself\u001b[0m\u001b[0;34m,\u001b[0m \u001b[0;34m*\u001b[0m\u001b[0margs\u001b[0m\u001b[0;34m,\u001b[0m \u001b[0;34m**\u001b[0m\u001b[0mkwargs\u001b[0m\u001b[0;34m)\u001b[0m\u001b[0;34m:\u001b[0m\u001b[0;34m\u001b[0m\u001b[0m\n\u001b[1;32m    607\u001b[0m         \u001b[0;32mtry\u001b[0m\u001b[0;34m:\u001b[0m\u001b[0;34m\u001b[0m\u001b[0m\n\u001b[0;32m--> 608\u001b[0;31m             \u001b[0;32mreturn\u001b[0m \u001b[0mself\u001b[0m\u001b[0;34m.\u001b[0m\u001b[0mfunc\u001b[0m\u001b[0;34m(\u001b[0m\u001b[0;34m*\u001b[0m\u001b[0margs\u001b[0m\u001b[0;34m,\u001b[0m \u001b[0;34m**\u001b[0m\u001b[0mkwargs\u001b[0m\u001b[0;34m)\u001b[0m\u001b[0;34m\u001b[0m\u001b[0m\n\u001b[0m\u001b[1;32m    609\u001b[0m         \u001b[0;32mexcept\u001b[0m \u001b[0mKeyboardInterrupt\u001b[0m\u001b[0;34m:\u001b[0m\u001b[0;34m\u001b[0m\u001b[0m\n\u001b[1;32m    610\u001b[0m             \u001b[0;31m# We capture the KeyboardInterrupt and reraise it as\u001b[0m\u001b[0;34m\u001b[0m\u001b[0;34m\u001b[0m\u001b[0m\n",
      "\u001b[0;32m~/Library/Caches/pypoetry/virtualenvs/daily-trading-nJ43NNNI-py3.7/lib/python3.7/site-packages/joblib/parallel.py\u001b[0m in \u001b[0;36m__call__\u001b[0;34m(self)\u001b[0m\n\u001b[1;32m    254\u001b[0m         \u001b[0;32mwith\u001b[0m \u001b[0mparallel_backend\u001b[0m\u001b[0;34m(\u001b[0m\u001b[0mself\u001b[0m\u001b[0;34m.\u001b[0m\u001b[0m_backend\u001b[0m\u001b[0;34m,\u001b[0m \u001b[0mn_jobs\u001b[0m\u001b[0;34m=\u001b[0m\u001b[0mself\u001b[0m\u001b[0;34m.\u001b[0m\u001b[0m_n_jobs\u001b[0m\u001b[0;34m)\u001b[0m\u001b[0;34m:\u001b[0m\u001b[0;34m\u001b[0m\u001b[0m\n\u001b[1;32m    255\u001b[0m             return [func(*args, **kwargs)\n\u001b[0;32m--> 256\u001b[0;31m                     for func, args, kwargs in self.items]\n\u001b[0m\u001b[1;32m    257\u001b[0m \u001b[0;34m\u001b[0m\u001b[0m\n\u001b[1;32m    258\u001b[0m     \u001b[0;32mdef\u001b[0m \u001b[0m__len__\u001b[0m\u001b[0;34m(\u001b[0m\u001b[0mself\u001b[0m\u001b[0;34m)\u001b[0m\u001b[0;34m:\u001b[0m\u001b[0;34m\u001b[0m\u001b[0m\n",
      "\u001b[0;32m~/Library/Caches/pypoetry/virtualenvs/daily-trading-nJ43NNNI-py3.7/lib/python3.7/site-packages/joblib/parallel.py\u001b[0m in \u001b[0;36m<listcomp>\u001b[0;34m(.0)\u001b[0m\n\u001b[1;32m    254\u001b[0m         \u001b[0;32mwith\u001b[0m \u001b[0mparallel_backend\u001b[0m\u001b[0;34m(\u001b[0m\u001b[0mself\u001b[0m\u001b[0;34m.\u001b[0m\u001b[0m_backend\u001b[0m\u001b[0;34m,\u001b[0m \u001b[0mn_jobs\u001b[0m\u001b[0;34m=\u001b[0m\u001b[0mself\u001b[0m\u001b[0;34m.\u001b[0m\u001b[0m_n_jobs\u001b[0m\u001b[0;34m)\u001b[0m\u001b[0;34m:\u001b[0m\u001b[0;34m\u001b[0m\u001b[0m\n\u001b[1;32m    255\u001b[0m             return [func(*args, **kwargs)\n\u001b[0;32m--> 256\u001b[0;31m                     for func, args, kwargs in self.items]\n\u001b[0m\u001b[1;32m    257\u001b[0m \u001b[0;34m\u001b[0m\u001b[0m\n\u001b[1;32m    258\u001b[0m     \u001b[0;32mdef\u001b[0m \u001b[0m__len__\u001b[0m\u001b[0;34m(\u001b[0m\u001b[0mself\u001b[0m\u001b[0;34m)\u001b[0m\u001b[0;34m:\u001b[0m\u001b[0;34m\u001b[0m\u001b[0m\n",
      "\u001b[0;32m~/Library/Caches/pypoetry/virtualenvs/daily-trading-nJ43NNNI-py3.7/lib/python3.7/site-packages/sklearn/ensemble/_forest.py\u001b[0m in \u001b[0;36m_parallel_build_trees\u001b[0;34m(tree, forest, X, y, sample_weight, tree_idx, n_trees, verbose, class_weight, n_samples_bootstrap)\u001b[0m\n\u001b[1;32m    163\u001b[0m             \u001b[0mcurr_sample_weight\u001b[0m \u001b[0;34m*=\u001b[0m \u001b[0mcompute_sample_weight\u001b[0m\u001b[0;34m(\u001b[0m\u001b[0;34m'balanced'\u001b[0m\u001b[0;34m,\u001b[0m \u001b[0my\u001b[0m\u001b[0;34m,\u001b[0m \u001b[0mindices\u001b[0m\u001b[0;34m)\u001b[0m\u001b[0;34m\u001b[0m\u001b[0m\n\u001b[1;32m    164\u001b[0m \u001b[0;34m\u001b[0m\u001b[0m\n\u001b[0;32m--> 165\u001b[0;31m         \u001b[0mtree\u001b[0m\u001b[0;34m.\u001b[0m\u001b[0mfit\u001b[0m\u001b[0;34m(\u001b[0m\u001b[0mX\u001b[0m\u001b[0;34m,\u001b[0m \u001b[0my\u001b[0m\u001b[0;34m,\u001b[0m \u001b[0msample_weight\u001b[0m\u001b[0;34m=\u001b[0m\u001b[0mcurr_sample_weight\u001b[0m\u001b[0;34m,\u001b[0m \u001b[0mcheck_input\u001b[0m\u001b[0;34m=\u001b[0m\u001b[0;32mFalse\u001b[0m\u001b[0;34m)\u001b[0m\u001b[0;34m\u001b[0m\u001b[0m\n\u001b[0m\u001b[1;32m    166\u001b[0m     \u001b[0;32melse\u001b[0m\u001b[0;34m:\u001b[0m\u001b[0;34m\u001b[0m\u001b[0m\n\u001b[1;32m    167\u001b[0m         \u001b[0mtree\u001b[0m\u001b[0;34m.\u001b[0m\u001b[0mfit\u001b[0m\u001b[0;34m(\u001b[0m\u001b[0mX\u001b[0m\u001b[0;34m,\u001b[0m \u001b[0my\u001b[0m\u001b[0;34m,\u001b[0m \u001b[0msample_weight\u001b[0m\u001b[0;34m=\u001b[0m\u001b[0msample_weight\u001b[0m\u001b[0;34m,\u001b[0m \u001b[0mcheck_input\u001b[0m\u001b[0;34m=\u001b[0m\u001b[0;32mFalse\u001b[0m\u001b[0;34m)\u001b[0m\u001b[0;34m\u001b[0m\u001b[0m\n",
      "\u001b[0;32m~/Library/Caches/pypoetry/virtualenvs/daily-trading-nJ43NNNI-py3.7/lib/python3.7/site-packages/sklearn/tree/_classes.py\u001b[0m in \u001b[0;36mfit\u001b[0;34m(self, X, y, sample_weight, check_input, X_idx_sorted)\u001b[0m\n\u001b[1;32m   1223\u001b[0m             \u001b[0msample_weight\u001b[0m\u001b[0;34m=\u001b[0m\u001b[0msample_weight\u001b[0m\u001b[0;34m,\u001b[0m\u001b[0;34m\u001b[0m\u001b[0m\n\u001b[1;32m   1224\u001b[0m             \u001b[0mcheck_input\u001b[0m\u001b[0;34m=\u001b[0m\u001b[0mcheck_input\u001b[0m\u001b[0;34m,\u001b[0m\u001b[0;34m\u001b[0m\u001b[0m\n\u001b[0;32m-> 1225\u001b[0;31m             X_idx_sorted=X_idx_sorted)\n\u001b[0m\u001b[1;32m   1226\u001b[0m         \u001b[0;32mreturn\u001b[0m \u001b[0mself\u001b[0m\u001b[0;34m\u001b[0m\u001b[0m\n\u001b[1;32m   1227\u001b[0m \u001b[0;34m\u001b[0m\u001b[0m\n",
      "\u001b[0;32m~/Library/Caches/pypoetry/virtualenvs/daily-trading-nJ43NNNI-py3.7/lib/python3.7/site-packages/sklearn/tree/_classes.py\u001b[0m in \u001b[0;36mfit\u001b[0;34m(self, X, y, sample_weight, check_input, X_idx_sorted)\u001b[0m\n\u001b[1;32m    263\u001b[0m         \u001b[0;32mif\u001b[0m \u001b[0mlen\u001b[0m\u001b[0;34m(\u001b[0m\u001b[0my\u001b[0m\u001b[0;34m)\u001b[0m \u001b[0;34m!=\u001b[0m \u001b[0mn_samples\u001b[0m\u001b[0;34m:\u001b[0m\u001b[0;34m\u001b[0m\u001b[0m\n\u001b[1;32m    264\u001b[0m             raise ValueError(\"Number of labels=%d does not match \"\n\u001b[0;32m--> 265\u001b[0;31m                              \"number of samples=%d\" % (len(y), n_samples))\n\u001b[0m\u001b[1;32m    266\u001b[0m         \u001b[0;32mif\u001b[0m \u001b[0;32mnot\u001b[0m \u001b[0;36m0\u001b[0m \u001b[0;34m<=\u001b[0m \u001b[0mself\u001b[0m\u001b[0;34m.\u001b[0m\u001b[0mmin_weight_fraction_leaf\u001b[0m \u001b[0;34m<=\u001b[0m \u001b[0;36m0.5\u001b[0m\u001b[0;34m:\u001b[0m\u001b[0;34m\u001b[0m\u001b[0m\n\u001b[1;32m    267\u001b[0m             \u001b[0;32mraise\u001b[0m \u001b[0mValueError\u001b[0m\u001b[0;34m(\u001b[0m\u001b[0;34m\"min_weight_fraction_leaf must in [0, 0.5]\"\u001b[0m\u001b[0;34m)\u001b[0m\u001b[0;34m\u001b[0m\u001b[0m\n",
      "\u001b[0;31mValueError\u001b[0m: Number of labels=3586 does not match number of samples=3580"
     ]
    }
   ],
   "source": [
    "most_recent_week_historical_prediction(final_stock_df)"
   ]
  },
  {
   "cell_type": "markdown",
   "metadata": {},
   "source": [
    "most_recent_week_historical_prediction"
   ]
  },
  {
   "cell_type": "markdown",
   "metadata": {},
   "source": [
    "# Final Predictions"
   ]
  },
  {
   "cell_type": "code",
   "execution_count": null,
   "metadata": {},
   "outputs": [
    {
     "name": "stderr",
     "output_type": "stream",
     "text": [
      "/Users/jonathanhilgart/Library/Caches/pypoetry/virtualenvs/daily-trading-nJ43NNNI-py3.7/lib/python3.7/site-packages/numpy/lib/nanfunctions.py:1546: RuntimeWarning: overflow encountered in multiply\n",
      "  sqr = np.multiply(arr, arr, out=arr)\n"
     ]
    },
    {
     "name": "stdout",
     "output_type": "stream",
     "text": [
      "Stocks eqix_rost\n",
      "Prediction = 0.4904762900000012\n",
      "eqix_rost pct change 7-day corr of close from 2020-04-24 00:00:00 to 2020-05-01 00:00:00 is =  -0.052783483453324065\n"
     ]
    },
    {
     "name": "stderr",
     "output_type": "stream",
     "text": [
      "/Users/jonathanhilgart/Library/Caches/pypoetry/virtualenvs/daily-trading-nJ43NNNI-py3.7/lib/python3.7/site-packages/numpy/lib/nanfunctions.py:1546: RuntimeWarning: overflow encountered in multiply\n",
      "  sqr = np.multiply(arr, arr, out=arr)\n"
     ]
    },
    {
     "name": "stdout",
     "output_type": "stream",
     "text": [
      "Stocks eqix_so\n",
      "Prediction = 0.733176166361472\n",
      "eqix_so pct change 7-day corr of close from 2020-04-24 00:00:00 to 2020-05-01 00:00:00 is =  -0.038210259474603325\n"
     ]
    },
    {
     "name": "stderr",
     "output_type": "stream",
     "text": [
      "/Users/jonathanhilgart/Library/Caches/pypoetry/virtualenvs/daily-trading-nJ43NNNI-py3.7/lib/python3.7/site-packages/numpy/lib/nanfunctions.py:1546: RuntimeWarning: overflow encountered in multiply\n",
      "  sqr = np.multiply(arr, arr, out=arr)\n"
     ]
    },
    {
     "name": "stdout",
     "output_type": "stream",
     "text": [
      "Stocks eqix_emr\n",
      "Prediction = 0.1659966600000001\n",
      "eqix_emr pct change 7-day corr of close from 2020-04-24 00:00:00 to 2020-05-01 00:00:00 is =  0.37602403945786955\n"
     ]
    },
    {
     "name": "stderr",
     "output_type": "stream",
     "text": [
      "/Users/jonathanhilgart/Library/Caches/pypoetry/virtualenvs/daily-trading-nJ43NNNI-py3.7/lib/python3.7/site-packages/numpy/lib/nanfunctions.py:1546: RuntimeWarning: overflow encountered in multiply\n",
      "  sqr = np.multiply(arr, arr, out=arr)\n"
     ]
    },
    {
     "name": "stdout",
     "output_type": "stream",
     "text": [
      "Stocks eqix_atvi\n",
      "Prediction = 0.32267243000000007\n",
      "eqix_atvi pct change 7-day corr of close from 2020-04-24 00:00:00 to 2020-05-01 00:00:00 is =  -0.03628953208112917\n"
     ]
    },
    {
     "name": "stderr",
     "output_type": "stream",
     "text": [
      "/Users/jonathanhilgart/Library/Caches/pypoetry/virtualenvs/daily-trading-nJ43NNNI-py3.7/lib/python3.7/site-packages/numpy/lib/nanfunctions.py:1546: RuntimeWarning: overflow encountered in multiply\n",
      "  sqr = np.multiply(arr, arr, out=arr)\n"
     ]
    },
    {
     "name": "stdout",
     "output_type": "stream",
     "text": [
      "Stocks eqix_ce\n",
      "Prediction = 0.469236265\n",
      "eqix_ce pct change 7-day corr of close from 2020-04-24 00:00:00 to 2020-05-01 00:00:00 is =  -0.08519529726905495\n"
     ]
    },
    {
     "name": "stderr",
     "output_type": "stream",
     "text": [
      "/Users/jonathanhilgart/Library/Caches/pypoetry/virtualenvs/daily-trading-nJ43NNNI-py3.7/lib/python3.7/site-packages/numpy/lib/nanfunctions.py:1546: RuntimeWarning: overflow encountered in multiply\n",
      "  sqr = np.multiply(arr, arr, out=arr)\n"
     ]
    },
    {
     "name": "stdout",
     "output_type": "stream",
     "text": [
      "Stocks eqix_cern\n",
      "Prediction = 0.3486951899999996\n",
      "eqix_cern pct change 7-day corr of close from 2020-04-24 00:00:00 to 2020-05-01 00:00:00 is =  0.052273993354919224\n"
     ]
    },
    {
     "name": "stderr",
     "output_type": "stream",
     "text": [
      "/Users/jonathanhilgart/Library/Caches/pypoetry/virtualenvs/daily-trading-nJ43NNNI-py3.7/lib/python3.7/site-packages/numpy/lib/nanfunctions.py:1546: RuntimeWarning: overflow encountered in multiply\n",
      "  sqr = np.multiply(arr, arr, out=arr)\n"
     ]
    },
    {
     "name": "stdout",
     "output_type": "stream",
     "text": [
      "Stocks eqix_peg\n",
      "Prediction = 0.6321054790476177\n",
      "eqix_peg pct change 7-day corr of close from 2020-04-24 00:00:00 to 2020-05-01 00:00:00 is =  0.04887485302043415\n"
     ]
    },
    {
     "name": "stderr",
     "output_type": "stream",
     "text": [
      "/Users/jonathanhilgart/Library/Caches/pypoetry/virtualenvs/daily-trading-nJ43NNNI-py3.7/lib/python3.7/site-packages/numpy/lib/nanfunctions.py:1546: RuntimeWarning: overflow encountered in multiply\n",
      "  sqr = np.multiply(arr, arr, out=arr)\n"
     ]
    },
    {
     "name": "stdout",
     "output_type": "stream",
     "text": [
      "Stocks eqix_adbe\n",
      "Prediction = 0.34310693500000033\n",
      "eqix_adbe pct change 7-day corr of close from 2020-04-24 00:00:00 to 2020-05-01 00:00:00 is =  0.07040286703687637\n"
     ]
    },
    {
     "name": "stderr",
     "output_type": "stream",
     "text": [
      "/Users/jonathanhilgart/Library/Caches/pypoetry/virtualenvs/daily-trading-nJ43NNNI-py3.7/lib/python3.7/site-packages/numpy/lib/nanfunctions.py:1546: RuntimeWarning: overflow encountered in multiply\n",
      "  sqr = np.multiply(arr, arr, out=arr)\n"
     ]
    },
    {
     "name": "stdout",
     "output_type": "stream",
     "text": [
      "Stocks eqix_rop\n",
      "Prediction = 0.19616649785714255\n",
      "eqix_rop pct change 7-day corr of close from 2020-04-24 00:00:00 to 2020-05-01 00:00:00 is =  0.4305356882412239\n"
     ]
    },
    {
     "name": "stderr",
     "output_type": "stream",
     "text": [
      "/Users/jonathanhilgart/Library/Caches/pypoetry/virtualenvs/daily-trading-nJ43NNNI-py3.7/lib/python3.7/site-packages/numpy/lib/nanfunctions.py:1546: RuntimeWarning: overflow encountered in multiply\n",
      "  sqr = np.multiply(arr, arr, out=arr)\n"
     ]
    },
    {
     "name": "stdout",
     "output_type": "stream",
     "text": [
      "Stocks eqix_are\n",
      "Prediction = 0.5941640399999989\n",
      "eqix_are pct change 7-day corr of close from 2020-04-24 00:00:00 to 2020-05-01 00:00:00 is =  0.032617605961805296\n"
     ]
    },
    {
     "name": "stderr",
     "output_type": "stream",
     "text": [
      "/Users/jonathanhilgart/Library/Caches/pypoetry/virtualenvs/daily-trading-nJ43NNNI-py3.7/lib/python3.7/site-packages/numpy/lib/nanfunctions.py:1546: RuntimeWarning: overflow encountered in multiply\n",
      "  sqr = np.multiply(arr, arr, out=arr)\n"
     ]
    },
    {
     "name": "stdout",
     "output_type": "stream",
     "text": [
      "Stocks eqix_pg\n",
      "Prediction = 0.46575068583333395\n",
      "eqix_pg pct change 7-day corr of close from 2020-04-24 00:00:00 to 2020-05-01 00:00:00 is =  -0.044533620605355595\n"
     ]
    },
    {
     "name": "stderr",
     "output_type": "stream",
     "text": [
      "/Users/jonathanhilgart/Library/Caches/pypoetry/virtualenvs/daily-trading-nJ43NNNI-py3.7/lib/python3.7/site-packages/numpy/lib/nanfunctions.py:1546: RuntimeWarning: overflow encountered in multiply\n",
      "  sqr = np.multiply(arr, arr, out=arr)\n"
     ]
    },
    {
     "name": "stdout",
     "output_type": "stream",
     "text": [
      "Stocks eqix_pvh\n",
      "Prediction = 0.5548192649999986\n",
      "eqix_pvh pct change 7-day corr of close from 2020-04-24 00:00:00 to 2020-05-01 00:00:00 is =  -0.06984587103361461\n"
     ]
    },
    {
     "name": "stderr",
     "output_type": "stream",
     "text": [
      "/Users/jonathanhilgart/Library/Caches/pypoetry/virtualenvs/daily-trading-nJ43NNNI-py3.7/lib/python3.7/site-packages/numpy/lib/nanfunctions.py:1546: RuntimeWarning: overflow encountered in multiply\n",
      "  sqr = np.multiply(arr, arr, out=arr)\n"
     ]
    },
    {
     "name": "stdout",
     "output_type": "stream",
     "text": [
      "Stocks eqix_lb\n",
      "Prediction = 0.12162476500000013\n",
      "eqix_lb pct change 7-day corr of close from 2020-04-24 00:00:00 to 2020-05-01 00:00:00 is =  2.8199932472753586\n"
     ]
    },
    {
     "name": "stderr",
     "output_type": "stream",
     "text": [
      "/Users/jonathanhilgart/Library/Caches/pypoetry/virtualenvs/daily-trading-nJ43NNNI-py3.7/lib/python3.7/site-packages/numpy/lib/nanfunctions.py:1546: RuntimeWarning: overflow encountered in multiply\n",
      "  sqr = np.multiply(arr, arr, out=arr)\n"
     ]
    },
    {
     "name": "stdout",
     "output_type": "stream",
     "text": [
      "Stocks eqix_vno\n",
      "Prediction = 0.6034189300000008\n",
      "eqix_vno pct change 7-day corr of close from 2020-04-24 00:00:00 to 2020-05-01 00:00:00 is =  -0.05862293992474088\n"
     ]
    },
    {
     "name": "stderr",
     "output_type": "stream",
     "text": [
      "/Users/jonathanhilgart/Library/Caches/pypoetry/virtualenvs/daily-trading-nJ43NNNI-py3.7/lib/python3.7/site-packages/numpy/lib/nanfunctions.py:1546: RuntimeWarning: overflow encountered in multiply\n",
      "  sqr = np.multiply(arr, arr, out=arr)\n"
     ]
    },
    {
     "name": "stdout",
     "output_type": "stream",
     "text": [
      "Stocks eqix_ual\n",
      "Prediction = 0.06448574500000015\n",
      "eqix_ual pct change 7-day corr of close from 2020-04-24 00:00:00 to 2020-05-01 00:00:00 is =  -3.2205070417685393\n"
     ]
    },
    {
     "name": "stderr",
     "output_type": "stream",
     "text": [
      "/Users/jonathanhilgart/Library/Caches/pypoetry/virtualenvs/daily-trading-nJ43NNNI-py3.7/lib/python3.7/site-packages/numpy/lib/nanfunctions.py:1546: RuntimeWarning: overflow encountered in multiply\n",
      "  sqr = np.multiply(arr, arr, out=arr)\n"
     ]
    },
    {
     "name": "stdout",
     "output_type": "stream",
     "text": [
      "Stocks eqix_efx\n",
      "Prediction = 0.20207063658333316\n",
      "eqix_efx pct change 7-day corr of close from 2020-04-24 00:00:00 to 2020-05-01 00:00:00 is =  0.14863114307585223\n"
     ]
    },
    {
     "name": "stderr",
     "output_type": "stream",
     "text": [
      "/Users/jonathanhilgart/Library/Caches/pypoetry/virtualenvs/daily-trading-nJ43NNNI-py3.7/lib/python3.7/site-packages/numpy/lib/nanfunctions.py:1546: RuntimeWarning: overflow encountered in multiply\n",
      "  sqr = np.multiply(arr, arr, out=arr)\n"
     ]
    },
    {
     "name": "stdout",
     "output_type": "stream",
     "text": [
      "Stocks eqix_ph\n",
      "Prediction = 0.4323118199999994\n",
      "eqix_ph pct change 7-day corr of close from 2020-04-24 00:00:00 to 2020-05-01 00:00:00 is =  0.05752458438927821\n"
     ]
    },
    {
     "name": "stderr",
     "output_type": "stream",
     "text": [
      "/Users/jonathanhilgart/Library/Caches/pypoetry/virtualenvs/daily-trading-nJ43NNNI-py3.7/lib/python3.7/site-packages/numpy/lib/nanfunctions.py:1546: RuntimeWarning: overflow encountered in multiply\n",
      "  sqr = np.multiply(arr, arr, out=arr)\n"
     ]
    },
    {
     "name": "stdout",
     "output_type": "stream",
     "text": [
      "Stocks eqix_pnr\n",
      "Prediction = 0.4227229000000003\n",
      "eqix_pnr pct change 7-day corr of close from 2020-04-24 00:00:00 to 2020-05-01 00:00:00 is =  -0.03374751706907797\n"
     ]
    },
    {
     "name": "stderr",
     "output_type": "stream",
     "text": [
      "/Users/jonathanhilgart/Library/Caches/pypoetry/virtualenvs/daily-trading-nJ43NNNI-py3.7/lib/python3.7/site-packages/numpy/lib/nanfunctions.py:1546: RuntimeWarning: overflow encountered in multiply\n",
      "  sqr = np.multiply(arr, arr, out=arr)\n"
     ]
    },
    {
     "name": "stdout",
     "output_type": "stream",
     "text": [
      "Stocks eqix_bac\n",
      "Prediction = 0.4247395647500001\n",
      "eqix_bac pct change 7-day corr of close from 2020-04-24 00:00:00 to 2020-05-01 00:00:00 is =  0.0012766791686902312\n"
     ]
    },
    {
     "name": "stderr",
     "output_type": "stream",
     "text": [
      "/Users/jonathanhilgart/Library/Caches/pypoetry/virtualenvs/daily-trading-nJ43NNNI-py3.7/lib/python3.7/site-packages/numpy/lib/nanfunctions.py:1546: RuntimeWarning: overflow encountered in multiply\n",
      "  sqr = np.multiply(arr, arr, out=arr)\n"
     ]
    },
    {
     "name": "stdout",
     "output_type": "stream",
     "text": [
      "Stocks eqix_ni\n",
      "Prediction = 0.8941638652222257\n",
      "eqix_ni pct change 7-day corr of close from 2020-04-24 00:00:00 to 2020-05-01 00:00:00 is =  -0.0792124845562332\n"
     ]
    },
    {
     "name": "stderr",
     "output_type": "stream",
     "text": [
      "/Users/jonathanhilgart/Library/Caches/pypoetry/virtualenvs/daily-trading-nJ43NNNI-py3.7/lib/python3.7/site-packages/numpy/lib/nanfunctions.py:1546: RuntimeWarning: overflow encountered in multiply\n",
      "  sqr = np.multiply(arr, arr, out=arr)\n"
     ]
    },
    {
     "name": "stdout",
     "output_type": "stream",
     "text": [
      "Stocks rost_so\n",
      "Prediction = 0.21990010499999954\n",
      "rost_so pct change 7-day corr of close from 2020-04-24 00:00:00 to 2020-05-01 00:00:00 is =  0.03737719186515309\n"
     ]
    },
    {
     "name": "stderr",
     "output_type": "stream",
     "text": [
      "/Users/jonathanhilgart/Library/Caches/pypoetry/virtualenvs/daily-trading-nJ43NNNI-py3.7/lib/python3.7/site-packages/numpy/lib/nanfunctions.py:1546: RuntimeWarning: overflow encountered in multiply\n",
      "  sqr = np.multiply(arr, arr, out=arr)\n"
     ]
    },
    {
     "name": "stdout",
     "output_type": "stream",
     "text": [
      "Stocks rost_emr\n",
      "Prediction = -0.23724889750000064\n",
      "rost_emr pct change 7-day corr of close from 2020-04-24 00:00:00 to 2020-05-01 00:00:00 is =  -0.41305389662278513\n"
     ]
    },
    {
     "name": "stderr",
     "output_type": "stream",
     "text": [
      "/Users/jonathanhilgart/Library/Caches/pypoetry/virtualenvs/daily-trading-nJ43NNNI-py3.7/lib/python3.7/site-packages/numpy/lib/nanfunctions.py:1546: RuntimeWarning: overflow encountered in multiply\n",
      "  sqr = np.multiply(arr, arr, out=arr)\n"
     ]
    },
    {
     "name": "stdout",
     "output_type": "stream",
     "text": [
      "Stocks rost_atvi\n",
      "Prediction = 0.4583372699999997\n",
      "rost_atvi pct change 7-day corr of close from 2020-04-24 00:00:00 to 2020-05-01 00:00:00 is =  -0.1402511508030303\n"
     ]
    },
    {
     "name": "stderr",
     "output_type": "stream",
     "text": [
      "/Users/jonathanhilgart/Library/Caches/pypoetry/virtualenvs/daily-trading-nJ43NNNI-py3.7/lib/python3.7/site-packages/numpy/lib/nanfunctions.py:1546: RuntimeWarning: overflow encountered in multiply\n",
      "  sqr = np.multiply(arr, arr, out=arr)\n"
     ]
    },
    {
     "name": "stdout",
     "output_type": "stream",
     "text": [
      "Stocks rost_ce\n",
      "Prediction = 0.1948732000000006\n",
      "rost_ce pct change 7-day corr of close from 2020-04-24 00:00:00 to 2020-05-01 00:00:00 is =  0.009904540790417915\n"
     ]
    },
    {
     "name": "stderr",
     "output_type": "stream",
     "text": [
      "/Users/jonathanhilgart/Library/Caches/pypoetry/virtualenvs/daily-trading-nJ43NNNI-py3.7/lib/python3.7/site-packages/numpy/lib/nanfunctions.py:1546: RuntimeWarning: overflow encountered in multiply\n",
      "  sqr = np.multiply(arr, arr, out=arr)\n"
     ]
    },
    {
     "name": "stdout",
     "output_type": "stream",
     "text": [
      "Stocks rost_cern\n",
      "Prediction = 0.011006559999999886\n",
      "rost_cern pct change 7-day corr of close from 2020-04-24 00:00:00 to 2020-05-01 00:00:00 is =  -1.0977674344238257\n"
     ]
    },
    {
     "name": "stderr",
     "output_type": "stream",
     "text": [
      "/Users/jonathanhilgart/Library/Caches/pypoetry/virtualenvs/daily-trading-nJ43NNNI-py3.7/lib/python3.7/site-packages/numpy/lib/nanfunctions.py:1546: RuntimeWarning: overflow encountered in multiply\n",
      "  sqr = np.multiply(arr, arr, out=arr)\n"
     ]
    },
    {
     "name": "stdout",
     "output_type": "stream",
     "text": [
      "Stocks rost_peg\n",
      "Prediction = 0.8518622250000005\n",
      "rost_peg pct change 7-day corr of close from 2020-04-24 00:00:00 to 2020-05-01 00:00:00 is =  -0.13897474422807465\n"
     ]
    },
    {
     "name": "stderr",
     "output_type": "stream",
     "text": [
      "/Users/jonathanhilgart/Library/Caches/pypoetry/virtualenvs/daily-trading-nJ43NNNI-py3.7/lib/python3.7/site-packages/numpy/lib/nanfunctions.py:1546: RuntimeWarning: overflow encountered in multiply\n",
      "  sqr = np.multiply(arr, arr, out=arr)\n"
     ]
    },
    {
     "name": "stdout",
     "output_type": "stream",
     "text": [
      "Stocks rost_adbe\n",
      "Prediction = 0.6891971224999998\n",
      "rost_adbe pct change 7-day corr of close from 2020-04-24 00:00:00 to 2020-05-01 00:00:00 is =  -0.06981150175052198\n"
     ]
    },
    {
     "name": "stderr",
     "output_type": "stream",
     "text": [
      "/Users/jonathanhilgart/Library/Caches/pypoetry/virtualenvs/daily-trading-nJ43NNNI-py3.7/lib/python3.7/site-packages/numpy/lib/nanfunctions.py:1546: RuntimeWarning: overflow encountered in multiply\n",
      "  sqr = np.multiply(arr, arr, out=arr)\n"
     ]
    },
    {
     "name": "stdout",
     "output_type": "stream",
     "text": [
      "Stocks rost_rop\n",
      "Prediction = 0.5672406608750014\n",
      "rost_rop pct change 7-day corr of close from 2020-04-24 00:00:00 to 2020-05-01 00:00:00 is =  0.015155843304605954\n"
     ]
    },
    {
     "name": "stderr",
     "output_type": "stream",
     "text": [
      "/Users/jonathanhilgart/Library/Caches/pypoetry/virtualenvs/daily-trading-nJ43NNNI-py3.7/lib/python3.7/site-packages/numpy/lib/nanfunctions.py:1546: RuntimeWarning: overflow encountered in multiply\n",
      "  sqr = np.multiply(arr, arr, out=arr)\n"
     ]
    },
    {
     "name": "stdout",
     "output_type": "stream",
     "text": [
      "Stocks rost_are\n",
      "Prediction = 0.8032846697500001\n",
      "rost_are pct change 7-day corr of close from 2020-04-24 00:00:00 to 2020-05-01 00:00:00 is =  -0.14602781097013207\n"
     ]
    },
    {
     "name": "stderr",
     "output_type": "stream",
     "text": [
      "/Users/jonathanhilgart/Library/Caches/pypoetry/virtualenvs/daily-trading-nJ43NNNI-py3.7/lib/python3.7/site-packages/numpy/lib/nanfunctions.py:1546: RuntimeWarning: overflow encountered in multiply\n",
      "  sqr = np.multiply(arr, arr, out=arr)\n"
     ]
    },
    {
     "name": "stdout",
     "output_type": "stream",
     "text": [
      "Stocks rost_pg\n",
      "Prediction = 0.8257134524999973\n",
      "rost_pg pct change 7-day corr of close from 2020-04-24 00:00:00 to 2020-05-01 00:00:00 is =  -0.08686279112202544\n"
     ]
    },
    {
     "name": "stderr",
     "output_type": "stream",
     "text": [
      "/Users/jonathanhilgart/Library/Caches/pypoetry/virtualenvs/daily-trading-nJ43NNNI-py3.7/lib/python3.7/site-packages/numpy/lib/nanfunctions.py:1546: RuntimeWarning: overflow encountered in multiply\n",
      "  sqr = np.multiply(arr, arr, out=arr)\n"
     ]
    },
    {
     "name": "stdout",
     "output_type": "stream",
     "text": [
      "Stocks rost_pvh\n",
      "Prediction = 0.8545875191666663\n",
      "rost_pvh pct change 7-day corr of close from 2020-04-24 00:00:00 to 2020-05-01 00:00:00 is =  -0.052152852104774605\n"
     ]
    },
    {
     "name": "stderr",
     "output_type": "stream",
     "text": [
      "/Users/jonathanhilgart/Library/Caches/pypoetry/virtualenvs/daily-trading-nJ43NNNI-py3.7/lib/python3.7/site-packages/numpy/lib/nanfunctions.py:1546: RuntimeWarning: overflow encountered in multiply\n",
      "  sqr = np.multiply(arr, arr, out=arr)\n"
     ]
    },
    {
     "name": "stdout",
     "output_type": "stream",
     "text": [
      "Stocks rost_lb\n",
      "Prediction = 0.6600268449999994\n",
      "rost_lb pct change 7-day corr of close from 2020-04-24 00:00:00 to 2020-05-01 00:00:00 is =  -0.1211465574979802\n"
     ]
    },
    {
     "name": "stderr",
     "output_type": "stream",
     "text": [
      "/Users/jonathanhilgart/Library/Caches/pypoetry/virtualenvs/daily-trading-nJ43NNNI-py3.7/lib/python3.7/site-packages/numpy/lib/nanfunctions.py:1546: RuntimeWarning: overflow encountered in multiply\n",
      "  sqr = np.multiply(arr, arr, out=arr)\n"
     ]
    },
    {
     "name": "stdout",
     "output_type": "stream",
     "text": [
      "Stocks rost_vno\n",
      "Prediction = 0.790420263025975\n",
      "rost_vno pct change 7-day corr of close from 2020-04-24 00:00:00 to 2020-05-01 00:00:00 is =  -0.15859837086298412\n"
     ]
    },
    {
     "name": "stderr",
     "output_type": "stream",
     "text": [
      "/Users/jonathanhilgart/Library/Caches/pypoetry/virtualenvs/daily-trading-nJ43NNNI-py3.7/lib/python3.7/site-packages/numpy/lib/nanfunctions.py:1546: RuntimeWarning: overflow encountered in multiply\n",
      "  sqr = np.multiply(arr, arr, out=arr)\n"
     ]
    },
    {
     "name": "stdout",
     "output_type": "stream",
     "text": [
      "Stocks rost_ual\n",
      "Prediction = 0.6563855932797601\n",
      "rost_ual pct change 7-day corr of close from 2020-04-24 00:00:00 to 2020-05-01 00:00:00 is =  -0.045315641401165174\n"
     ]
    },
    {
     "name": "stderr",
     "output_type": "stream",
     "text": [
      "/Users/jonathanhilgart/Library/Caches/pypoetry/virtualenvs/daily-trading-nJ43NNNI-py3.7/lib/python3.7/site-packages/numpy/lib/nanfunctions.py:1546: RuntimeWarning: overflow encountered in multiply\n",
      "  sqr = np.multiply(arr, arr, out=arr)\n"
     ]
    },
    {
     "name": "stdout",
     "output_type": "stream",
     "text": [
      "Stocks rost_efx\n",
      "Prediction = -0.30160936499999996\n",
      "rost_efx pct change 7-day corr of close from 2020-04-24 00:00:00 to 2020-05-01 00:00:00 is =  -0.40479158485107425\n"
     ]
    },
    {
     "name": "stderr",
     "output_type": "stream",
     "text": [
      "/Users/jonathanhilgart/Library/Caches/pypoetry/virtualenvs/daily-trading-nJ43NNNI-py3.7/lib/python3.7/site-packages/numpy/lib/nanfunctions.py:1546: RuntimeWarning: overflow encountered in multiply\n",
      "  sqr = np.multiply(arr, arr, out=arr)\n"
     ]
    },
    {
     "name": "stdout",
     "output_type": "stream",
     "text": [
      "Stocks rost_ph\n",
      "Prediction = 0.4430279300000005\n",
      "rost_ph pct change 7-day corr of close from 2020-04-24 00:00:00 to 2020-05-01 00:00:00 is =  -0.025740533455895\n"
     ]
    },
    {
     "name": "stderr",
     "output_type": "stream",
     "text": [
      "/Users/jonathanhilgart/Library/Caches/pypoetry/virtualenvs/daily-trading-nJ43NNNI-py3.7/lib/python3.7/site-packages/numpy/lib/nanfunctions.py:1546: RuntimeWarning: overflow encountered in multiply\n",
      "  sqr = np.multiply(arr, arr, out=arr)\n"
     ]
    },
    {
     "name": "stdout",
     "output_type": "stream",
     "text": [
      "Stocks rost_pnr\n",
      "Prediction = 0.5262136550000007\n",
      "rost_pnr pct change 7-day corr of close from 2020-04-24 00:00:00 to 2020-05-01 00:00:00 is =  -0.21975840865686758\n"
     ]
    },
    {
     "name": "stderr",
     "output_type": "stream",
     "text": [
      "/Users/jonathanhilgart/Library/Caches/pypoetry/virtualenvs/daily-trading-nJ43NNNI-py3.7/lib/python3.7/site-packages/numpy/lib/nanfunctions.py:1546: RuntimeWarning: overflow encountered in multiply\n",
      "  sqr = np.multiply(arr, arr, out=arr)\n"
     ]
    },
    {
     "name": "stdout",
     "output_type": "stream",
     "text": [
      "Stocks rost_bac\n",
      "Prediction = 0.7000987174999991\n",
      "rost_bac pct change 7-day corr of close from 2020-04-24 00:00:00 to 2020-05-01 00:00:00 is =  -0.06753837204501412\n"
     ]
    },
    {
     "name": "stderr",
     "output_type": "stream",
     "text": [
      "/Users/jonathanhilgart/Library/Caches/pypoetry/virtualenvs/daily-trading-nJ43NNNI-py3.7/lib/python3.7/site-packages/numpy/lib/nanfunctions.py:1546: RuntimeWarning: overflow encountered in multiply\n",
      "  sqr = np.multiply(arr, arr, out=arr)\n"
     ]
    },
    {
     "name": "stdout",
     "output_type": "stream",
     "text": [
      "Stocks rost_ni\n",
      "Prediction = 0.550845014999999\n",
      "rost_ni pct change 7-day corr of close from 2020-04-24 00:00:00 to 2020-05-01 00:00:00 is =  -0.11876218442090059\n"
     ]
    },
    {
     "name": "stderr",
     "output_type": "stream",
     "text": [
      "/Users/jonathanhilgart/Library/Caches/pypoetry/virtualenvs/daily-trading-nJ43NNNI-py3.7/lib/python3.7/site-packages/numpy/lib/nanfunctions.py:1546: RuntimeWarning: overflow encountered in multiply\n",
      "  sqr = np.multiply(arr, arr, out=arr)\n"
     ]
    },
    {
     "name": "stdout",
     "output_type": "stream",
     "text": [
      "Stocks so_emr\n",
      "Prediction = 0.644107554999999\n",
      "so_emr pct change 7-day corr of close from 2020-04-24 00:00:00 to 2020-05-01 00:00:00 is =  -0.0744530557347759\n"
     ]
    },
    {
     "name": "stderr",
     "output_type": "stream",
     "text": [
      "/Users/jonathanhilgart/Library/Caches/pypoetry/virtualenvs/daily-trading-nJ43NNNI-py3.7/lib/python3.7/site-packages/numpy/lib/nanfunctions.py:1546: RuntimeWarning: overflow encountered in multiply\n",
      "  sqr = np.multiply(arr, arr, out=arr)\n"
     ]
    },
    {
     "name": "stdout",
     "output_type": "stream",
     "text": [
      "Stocks so_atvi\n",
      "Prediction = -0.0019361949999999928\n",
      "so_atvi pct change 7-day corr of close from 2020-04-24 00:00:00 to 2020-05-01 00:00:00 is =  -0.9772463981009237\n"
     ]
    },
    {
     "name": "stderr",
     "output_type": "stream",
     "text": [
      "/Users/jonathanhilgart/Library/Caches/pypoetry/virtualenvs/daily-trading-nJ43NNNI-py3.7/lib/python3.7/site-packages/numpy/lib/nanfunctions.py:1546: RuntimeWarning: overflow encountered in multiply\n",
      "  sqr = np.multiply(arr, arr, out=arr)\n"
     ]
    },
    {
     "name": "stdout",
     "output_type": "stream",
     "text": [
      "Stocks so_ce\n",
      "Prediction = 0.5631804408333345\n",
      "so_ce pct change 7-day corr of close from 2020-04-24 00:00:00 to 2020-05-01 00:00:00 is =  -0.33258304683892137\n"
     ]
    },
    {
     "name": "stderr",
     "output_type": "stream",
     "text": [
      "/Users/jonathanhilgart/Library/Caches/pypoetry/virtualenvs/daily-trading-nJ43NNNI-py3.7/lib/python3.7/site-packages/numpy/lib/nanfunctions.py:1546: RuntimeWarning: overflow encountered in multiply\n",
      "  sqr = np.multiply(arr, arr, out=arr)\n"
     ]
    },
    {
     "name": "stdout",
     "output_type": "stream",
     "text": [
      "Stocks so_cern\n",
      "Prediction = 0.6650118799999986\n",
      "so_cern pct change 7-day corr of close from 2020-04-24 00:00:00 to 2020-05-01 00:00:00 is =  -0.15410109901292535\n"
     ]
    },
    {
     "name": "stderr",
     "output_type": "stream",
     "text": [
      "/Users/jonathanhilgart/Library/Caches/pypoetry/virtualenvs/daily-trading-nJ43NNNI-py3.7/lib/python3.7/site-packages/numpy/lib/nanfunctions.py:1546: RuntimeWarning: overflow encountered in multiply\n",
      "  sqr = np.multiply(arr, arr, out=arr)\n"
     ]
    },
    {
     "name": "stdout",
     "output_type": "stream",
     "text": [
      "Stocks so_peg\n",
      "Prediction = 0.3301729466666666\n",
      "so_peg pct change 7-day corr of close from 2020-04-24 00:00:00 to 2020-05-01 00:00:00 is =  0.1343342769715623\n"
     ]
    },
    {
     "name": "stderr",
     "output_type": "stream",
     "text": [
      "/Users/jonathanhilgart/Library/Caches/pypoetry/virtualenvs/daily-trading-nJ43NNNI-py3.7/lib/python3.7/site-packages/numpy/lib/nanfunctions.py:1546: RuntimeWarning: overflow encountered in multiply\n",
      "  sqr = np.multiply(arr, arr, out=arr)\n"
     ]
    },
    {
     "name": "stdout",
     "output_type": "stream",
     "text": [
      "Stocks so_adbe\n",
      "Prediction = 0.2485024400000002\n",
      "so_adbe pct change 7-day corr of close from 2020-04-24 00:00:00 to 2020-05-01 00:00:00 is =  0.02005377293046129\n"
     ]
    },
    {
     "name": "stderr",
     "output_type": "stream",
     "text": [
      "/Users/jonathanhilgart/Library/Caches/pypoetry/virtualenvs/daily-trading-nJ43NNNI-py3.7/lib/python3.7/site-packages/numpy/lib/nanfunctions.py:1546: RuntimeWarning: overflow encountered in multiply\n",
      "  sqr = np.multiply(arr, arr, out=arr)\n"
     ]
    },
    {
     "name": "stdout",
     "output_type": "stream",
     "text": [
      "Stocks so_rop\n",
      "Prediction = 0.05655679000000038\n",
      "so_rop pct change 7-day corr of close from 2020-04-24 00:00:00 to 2020-05-01 00:00:00 is =  23.729685177088054\n"
     ]
    },
    {
     "name": "stderr",
     "output_type": "stream",
     "text": [
      "/Users/jonathanhilgart/Library/Caches/pypoetry/virtualenvs/daily-trading-nJ43NNNI-py3.7/lib/python3.7/site-packages/numpy/lib/nanfunctions.py:1546: RuntimeWarning: overflow encountered in multiply\n",
      "  sqr = np.multiply(arr, arr, out=arr)\n"
     ]
    },
    {
     "name": "stdout",
     "output_type": "stream",
     "text": [
      "Stocks so_are\n",
      "Prediction = 0.25948353666666574\n",
      "so_are pct change 7-day corr of close from 2020-04-24 00:00:00 to 2020-05-01 00:00:00 is =  0.14846722640476284\n"
     ]
    },
    {
     "name": "stderr",
     "output_type": "stream",
     "text": [
      "/Users/jonathanhilgart/Library/Caches/pypoetry/virtualenvs/daily-trading-nJ43NNNI-py3.7/lib/python3.7/site-packages/numpy/lib/nanfunctions.py:1546: RuntimeWarning: overflow encountered in multiply\n",
      "  sqr = np.multiply(arr, arr, out=arr)\n"
     ]
    },
    {
     "name": "stdout",
     "output_type": "stream",
     "text": [
      "Stocks so_pg\n",
      "Prediction = 0.15343280000000042\n",
      "so_pg pct change 7-day corr of close from 2020-04-24 00:00:00 to 2020-05-01 00:00:00 is =  2.3486719483183927\n"
     ]
    },
    {
     "name": "stderr",
     "output_type": "stream",
     "text": [
      "/Users/jonathanhilgart/Library/Caches/pypoetry/virtualenvs/daily-trading-nJ43NNNI-py3.7/lib/python3.7/site-packages/numpy/lib/nanfunctions.py:1546: RuntimeWarning: overflow encountered in multiply\n",
      "  sqr = np.multiply(arr, arr, out=arr)\n"
     ]
    },
    {
     "name": "stdout",
     "output_type": "stream",
     "text": [
      "Stocks so_pvh\n",
      "Prediction = 0.4888235350000012\n",
      "so_pvh pct change 7-day corr of close from 2020-04-24 00:00:00 to 2020-05-01 00:00:00 is =  0.030271265709934436\n"
     ]
    },
    {
     "name": "stderr",
     "output_type": "stream",
     "text": [
      "/Users/jonathanhilgart/Library/Caches/pypoetry/virtualenvs/daily-trading-nJ43NNNI-py3.7/lib/python3.7/site-packages/numpy/lib/nanfunctions.py:1546: RuntimeWarning: overflow encountered in multiply\n",
      "  sqr = np.multiply(arr, arr, out=arr)\n"
     ]
    },
    {
     "name": "stdout",
     "output_type": "stream",
     "text": [
      "Stocks so_lb\n",
      "Prediction = -0.1102610250000001\n",
      "so_lb pct change 7-day corr of close from 2020-04-24 00:00:00 to 2020-05-01 00:00:00 is =  -0.661005460263974\n"
     ]
    },
    {
     "name": "stderr",
     "output_type": "stream",
     "text": [
      "/Users/jonathanhilgart/Library/Caches/pypoetry/virtualenvs/daily-trading-nJ43NNNI-py3.7/lib/python3.7/site-packages/numpy/lib/nanfunctions.py:1546: RuntimeWarning: overflow encountered in multiply\n",
      "  sqr = np.multiply(arr, arr, out=arr)\n"
     ]
    },
    {
     "name": "stdout",
     "output_type": "stream",
     "text": [
      "Stocks so_vno\n",
      "Prediction = 0.21748938333333345\n",
      "so_vno pct change 7-day corr of close from 2020-04-24 00:00:00 to 2020-05-01 00:00:00 is =  0.24812418341912879\n"
     ]
    },
    {
     "name": "stderr",
     "output_type": "stream",
     "text": [
      "/Users/jonathanhilgart/Library/Caches/pypoetry/virtualenvs/daily-trading-nJ43NNNI-py3.7/lib/python3.7/site-packages/numpy/lib/nanfunctions.py:1546: RuntimeWarning: overflow encountered in multiply\n",
      "  sqr = np.multiply(arr, arr, out=arr)\n"
     ]
    },
    {
     "name": "stdout",
     "output_type": "stream",
     "text": [
      "Stocks so_ual\n",
      "Prediction = -0.29028128333333403\n",
      "so_ual pct change 7-day corr of close from 2020-04-24 00:00:00 to 2020-05-01 00:00:00 is =  -0.3449267856390613\n"
     ]
    },
    {
     "name": "stderr",
     "output_type": "stream",
     "text": [
      "/Users/jonathanhilgart/Library/Caches/pypoetry/virtualenvs/daily-trading-nJ43NNNI-py3.7/lib/python3.7/site-packages/numpy/lib/nanfunctions.py:1546: RuntimeWarning: overflow encountered in multiply\n",
      "  sqr = np.multiply(arr, arr, out=arr)\n"
     ]
    },
    {
     "name": "stdout",
     "output_type": "stream",
     "text": [
      "Stocks so_efx\n",
      "Prediction = 0.49598298944444363\n",
      "so_efx pct change 7-day corr of close from 2020-04-24 00:00:00 to 2020-05-01 00:00:00 is =  -0.23975863126654484\n"
     ]
    },
    {
     "name": "stderr",
     "output_type": "stream",
     "text": [
      "/Users/jonathanhilgart/Library/Caches/pypoetry/virtualenvs/daily-trading-nJ43NNNI-py3.7/lib/python3.7/site-packages/numpy/lib/nanfunctions.py:1546: RuntimeWarning: overflow encountered in multiply\n",
      "  sqr = np.multiply(arr, arr, out=arr)\n"
     ]
    },
    {
     "name": "stdout",
     "output_type": "stream",
     "text": [
      "Stocks so_ph\n",
      "Prediction = 0.6811356925000002\n",
      "so_ph pct change 7-day corr of close from 2020-04-24 00:00:00 to 2020-05-01 00:00:00 is =  -0.03692509095073715\n"
     ]
    },
    {
     "name": "stderr",
     "output_type": "stream",
     "text": [
      "/Users/jonathanhilgart/Library/Caches/pypoetry/virtualenvs/daily-trading-nJ43NNNI-py3.7/lib/python3.7/site-packages/numpy/lib/nanfunctions.py:1546: RuntimeWarning: overflow encountered in multiply\n",
      "  sqr = np.multiply(arr, arr, out=arr)\n"
     ]
    },
    {
     "name": "stdout",
     "output_type": "stream",
     "text": [
      "Stocks so_pnr\n",
      "Prediction = 0.4932221602373746\n",
      "so_pnr pct change 7-day corr of close from 2020-04-24 00:00:00 to 2020-05-01 00:00:00 is =  -0.03272892673942196\n"
     ]
    },
    {
     "name": "stderr",
     "output_type": "stream",
     "text": [
      "/Users/jonathanhilgart/Library/Caches/pypoetry/virtualenvs/daily-trading-nJ43NNNI-py3.7/lib/python3.7/site-packages/numpy/lib/nanfunctions.py:1546: RuntimeWarning: overflow encountered in multiply\n",
      "  sqr = np.multiply(arr, arr, out=arr)\n"
     ]
    },
    {
     "name": "stdout",
     "output_type": "stream",
     "text": [
      "Stocks so_bac\n",
      "Prediction = 0.5145850299999998\n",
      "so_bac pct change 7-day corr of close from 2020-04-24 00:00:00 to 2020-05-01 00:00:00 is =  0.046819435685659716\n"
     ]
    },
    {
     "name": "stderr",
     "output_type": "stream",
     "text": [
      "/Users/jonathanhilgart/Library/Caches/pypoetry/virtualenvs/daily-trading-nJ43NNNI-py3.7/lib/python3.7/site-packages/numpy/lib/nanfunctions.py:1546: RuntimeWarning: overflow encountered in multiply\n",
      "  sqr = np.multiply(arr, arr, out=arr)\n"
     ]
    },
    {
     "name": "stdout",
     "output_type": "stream",
     "text": [
      "Stocks so_ni\n",
      "Prediction = 0.66379865\n",
      "so_ni pct change 7-day corr of close from 2020-04-24 00:00:00 to 2020-05-01 00:00:00 is =  -0.11399715165121471\n"
     ]
    },
    {
     "name": "stderr",
     "output_type": "stream",
     "text": [
      "/Users/jonathanhilgart/Library/Caches/pypoetry/virtualenvs/daily-trading-nJ43NNNI-py3.7/lib/python3.7/site-packages/numpy/lib/nanfunctions.py:1546: RuntimeWarning: overflow encountered in multiply\n",
      "  sqr = np.multiply(arr, arr, out=arr)\n"
     ]
    },
    {
     "name": "stdout",
     "output_type": "stream",
     "text": [
      "Stocks emr_atvi\n",
      "Prediction = -0.4217586050000005\n",
      "emr_atvi pct change 7-day corr of close from 2020-04-24 00:00:00 to 2020-05-01 00:00:00 is =  -0.330036765815495\n"
     ]
    },
    {
     "name": "stderr",
     "output_type": "stream",
     "text": [
      "/Users/jonathanhilgart/Library/Caches/pypoetry/virtualenvs/daily-trading-nJ43NNNI-py3.7/lib/python3.7/site-packages/numpy/lib/nanfunctions.py:1546: RuntimeWarning: overflow encountered in multiply\n",
      "  sqr = np.multiply(arr, arr, out=arr)\n"
     ]
    },
    {
     "name": "stdout",
     "output_type": "stream",
     "text": [
      "Stocks emr_ce\n",
      "Prediction = 0.7603664370000003\n",
      "emr_ce pct change 7-day corr of close from 2020-04-24 00:00:00 to 2020-05-01 00:00:00 is =  -0.026702306755910565\n"
     ]
    },
    {
     "name": "stderr",
     "output_type": "stream",
     "text": [
      "/Users/jonathanhilgart/Library/Caches/pypoetry/virtualenvs/daily-trading-nJ43NNNI-py3.7/lib/python3.7/site-packages/numpy/lib/nanfunctions.py:1546: RuntimeWarning: overflow encountered in multiply\n",
      "  sqr = np.multiply(arr, arr, out=arr)\n"
     ]
    },
    {
     "name": "stdout",
     "output_type": "stream",
     "text": [
      "Stocks emr_cern\n",
      "Prediction = 0.6217694373333345\n",
      "emr_cern pct change 7-day corr of close from 2020-04-24 00:00:00 to 2020-05-01 00:00:00 is =  -0.2757077138551478\n"
     ]
    },
    {
     "name": "stderr",
     "output_type": "stream",
     "text": [
      "/Users/jonathanhilgart/Library/Caches/pypoetry/virtualenvs/daily-trading-nJ43NNNI-py3.7/lib/python3.7/site-packages/numpy/lib/nanfunctions.py:1546: RuntimeWarning: overflow encountered in multiply\n",
      "  sqr = np.multiply(arr, arr, out=arr)\n"
     ]
    },
    {
     "name": "stdout",
     "output_type": "stream",
     "text": [
      "Stocks emr_peg\n",
      "Prediction = -0.16651055500000012\n",
      "emr_peg pct change 7-day corr of close from 2020-04-24 00:00:00 to 2020-05-01 00:00:00 is =  -0.5303462947658788\n"
     ]
    },
    {
     "name": "stderr",
     "output_type": "stream",
     "text": [
      "/Users/jonathanhilgart/Library/Caches/pypoetry/virtualenvs/daily-trading-nJ43NNNI-py3.7/lib/python3.7/site-packages/numpy/lib/nanfunctions.py:1546: RuntimeWarning: overflow encountered in multiply\n",
      "  sqr = np.multiply(arr, arr, out=arr)\n"
     ]
    },
    {
     "name": "stdout",
     "output_type": "stream",
     "text": [
      "Stocks emr_adbe\n",
      "Prediction = -0.03371865499999987\n",
      "emr_adbe pct change 7-day corr of close from 2020-04-24 00:00:00 to 2020-05-01 00:00:00 is =  -0.741455063373641\n"
     ]
    },
    {
     "name": "stderr",
     "output_type": "stream",
     "text": [
      "/Users/jonathanhilgart/Library/Caches/pypoetry/virtualenvs/daily-trading-nJ43NNNI-py3.7/lib/python3.7/site-packages/numpy/lib/nanfunctions.py:1546: RuntimeWarning: overflow encountered in multiply\n",
      "  sqr = np.multiply(arr, arr, out=arr)\n"
     ]
    },
    {
     "name": "stdout",
     "output_type": "stream",
     "text": [
      "Stocks emr_rop\n",
      "Prediction = 0.08401767166666668\n",
      "emr_rop pct change 7-day corr of close from 2020-04-24 00:00:00 to 2020-05-01 00:00:00 is =  -1.5430374724768074\n"
     ]
    },
    {
     "name": "stderr",
     "output_type": "stream",
     "text": [
      "/Users/jonathanhilgart/Library/Caches/pypoetry/virtualenvs/daily-trading-nJ43NNNI-py3.7/lib/python3.7/site-packages/numpy/lib/nanfunctions.py:1546: RuntimeWarning: overflow encountered in multiply\n",
      "  sqr = np.multiply(arr, arr, out=arr)\n"
     ]
    },
    {
     "name": "stdout",
     "output_type": "stream",
     "text": [
      "Stocks emr_are\n",
      "Prediction = -0.2697536449999993\n",
      "emr_are pct change 7-day corr of close from 2020-04-24 00:00:00 to 2020-05-01 00:00:00 is =  -0.381375597976399\n"
     ]
    },
    {
     "name": "stderr",
     "output_type": "stream",
     "text": [
      "/Users/jonathanhilgart/Library/Caches/pypoetry/virtualenvs/daily-trading-nJ43NNNI-py3.7/lib/python3.7/site-packages/numpy/lib/nanfunctions.py:1546: RuntimeWarning: overflow encountered in multiply\n",
      "  sqr = np.multiply(arr, arr, out=arr)\n"
     ]
    },
    {
     "name": "stdout",
     "output_type": "stream",
     "text": [
      "Stocks emr_pg\n",
      "Prediction = -0.39718859500000003\n",
      "emr_pg pct change 7-day corr of close from 2020-04-24 00:00:00 to 2020-05-01 00:00:00 is =  -0.2653824763165974\n"
     ]
    },
    {
     "name": "stderr",
     "output_type": "stream",
     "text": [
      "/Users/jonathanhilgart/Library/Caches/pypoetry/virtualenvs/daily-trading-nJ43NNNI-py3.7/lib/python3.7/site-packages/numpy/lib/nanfunctions.py:1546: RuntimeWarning: overflow encountered in multiply\n",
      "  sqr = np.multiply(arr, arr, out=arr)\n"
     ]
    },
    {
     "name": "stdout",
     "output_type": "stream",
     "text": [
      "Stocks emr_pvh\n",
      "Prediction = 0.01661339500000004\n",
      "emr_pvh pct change 7-day corr of close from 2020-04-24 00:00:00 to 2020-05-01 00:00:00 is =  -1.391004612958649\n"
     ]
    },
    {
     "name": "stderr",
     "output_type": "stream",
     "text": [
      "/Users/jonathanhilgart/Library/Caches/pypoetry/virtualenvs/daily-trading-nJ43NNNI-py3.7/lib/python3.7/site-packages/numpy/lib/nanfunctions.py:1546: RuntimeWarning: overflow encountered in multiply\n",
      "  sqr = np.multiply(arr, arr, out=arr)\n"
     ]
    },
    {
     "name": "stdout",
     "output_type": "stream",
     "text": [
      "Stocks emr_lb\n",
      "Prediction = -0.3919355958531752\n",
      "emr_lb pct change 7-day corr of close from 2020-04-24 00:00:00 to 2020-05-01 00:00:00 is =  -0.38478699324382726\n"
     ]
    },
    {
     "name": "stderr",
     "output_type": "stream",
     "text": [
      "/Users/jonathanhilgart/Library/Caches/pypoetry/virtualenvs/daily-trading-nJ43NNNI-py3.7/lib/python3.7/site-packages/numpy/lib/nanfunctions.py:1546: RuntimeWarning: overflow encountered in multiply\n",
      "  sqr = np.multiply(arr, arr, out=arr)\n"
     ]
    },
    {
     "name": "stdout",
     "output_type": "stream",
     "text": [
      "Stocks emr_vno\n",
      "Prediction = -0.29158698916666553\n",
      "emr_vno pct change 7-day corr of close from 2020-04-24 00:00:00 to 2020-05-01 00:00:00 is =  -0.42400863400068045\n"
     ]
    },
    {
     "name": "stderr",
     "output_type": "stream",
     "text": [
      "/Users/jonathanhilgart/Library/Caches/pypoetry/virtualenvs/daily-trading-nJ43NNNI-py3.7/lib/python3.7/site-packages/numpy/lib/nanfunctions.py:1546: RuntimeWarning: overflow encountered in multiply\n",
      "  sqr = np.multiply(arr, arr, out=arr)\n"
     ]
    },
    {
     "name": "stdout",
     "output_type": "stream",
     "text": [
      "Stocks emr_ual\n",
      "Prediction = -0.47188976384004744\n",
      "emr_ual pct change 7-day corr of close from 2020-04-24 00:00:00 to 2020-05-01 00:00:00 is =  -0.3876349090191209\n"
     ]
    },
    {
     "name": "stderr",
     "output_type": "stream",
     "text": [
      "/Users/jonathanhilgart/Library/Caches/pypoetry/virtualenvs/daily-trading-nJ43NNNI-py3.7/lib/python3.7/site-packages/numpy/lib/nanfunctions.py:1546: RuntimeWarning: overflow encountered in multiply\n",
      "  sqr = np.multiply(arr, arr, out=arr)\n"
     ]
    },
    {
     "name": "stdout",
     "output_type": "stream",
     "text": [
      "Stocks emr_efx\n",
      "Prediction = 0.7917727200000012\n",
      "emr_efx pct change 7-day corr of close from 2020-04-24 00:00:00 to 2020-05-01 00:00:00 is =  -0.10612534094398451\n"
     ]
    },
    {
     "name": "stderr",
     "output_type": "stream",
     "text": [
      "/Users/jonathanhilgart/Library/Caches/pypoetry/virtualenvs/daily-trading-nJ43NNNI-py3.7/lib/python3.7/site-packages/numpy/lib/nanfunctions.py:1546: RuntimeWarning: overflow encountered in multiply\n",
      "  sqr = np.multiply(arr, arr, out=arr)\n"
     ]
    },
    {
     "name": "stdout",
     "output_type": "stream",
     "text": [
      "Stocks emr_ph\n",
      "Prediction = 0.5867001965873004\n",
      "emr_ph pct change 7-day corr of close from 2020-04-24 00:00:00 to 2020-05-01 00:00:00 is =  0.04175764642629565\n"
     ]
    },
    {
     "name": "stderr",
     "output_type": "stream",
     "text": [
      "/Users/jonathanhilgart/Library/Caches/pypoetry/virtualenvs/daily-trading-nJ43NNNI-py3.7/lib/python3.7/site-packages/numpy/lib/nanfunctions.py:1546: RuntimeWarning: overflow encountered in multiply\n",
      "  sqr = np.multiply(arr, arr, out=arr)\n"
     ]
    },
    {
     "name": "stdout",
     "output_type": "stream",
     "text": [
      "Stocks emr_pnr\n",
      "Prediction = 0.28334921500000115\n",
      "emr_pnr pct change 7-day corr of close from 2020-04-24 00:00:00 to 2020-05-01 00:00:00 is =  0.321813434158726\n"
     ]
    },
    {
     "name": "stderr",
     "output_type": "stream",
     "text": [
      "/Users/jonathanhilgart/Library/Caches/pypoetry/virtualenvs/daily-trading-nJ43NNNI-py3.7/lib/python3.7/site-packages/numpy/lib/nanfunctions.py:1546: RuntimeWarning: overflow encountered in multiply\n",
      "  sqr = np.multiply(arr, arr, out=arr)\n"
     ]
    },
    {
     "name": "stdout",
     "output_type": "stream",
     "text": [
      "Stocks emr_bac\n",
      "Prediction = 0.2610585750000008\n",
      "emr_bac pct change 7-day corr of close from 2020-04-24 00:00:00 to 2020-05-01 00:00:00 is =  0.4099232817377634\n"
     ]
    },
    {
     "name": "stderr",
     "output_type": "stream",
     "text": [
      "/Users/jonathanhilgart/Library/Caches/pypoetry/virtualenvs/daily-trading-nJ43NNNI-py3.7/lib/python3.7/site-packages/numpy/lib/nanfunctions.py:1546: RuntimeWarning: overflow encountered in multiply\n",
      "  sqr = np.multiply(arr, arr, out=arr)\n"
     ]
    },
    {
     "name": "stdout",
     "output_type": "stream",
     "text": [
      "Stocks emr_ni\n",
      "Prediction = 0.15953573999999945\n",
      "emr_ni pct change 7-day corr of close from 2020-04-24 00:00:00 to 2020-05-01 00:00:00 is =  1.559698039341518\n"
     ]
    },
    {
     "name": "stderr",
     "output_type": "stream",
     "text": [
      "/Users/jonathanhilgart/Library/Caches/pypoetry/virtualenvs/daily-trading-nJ43NNNI-py3.7/lib/python3.7/site-packages/numpy/lib/nanfunctions.py:1546: RuntimeWarning: overflow encountered in multiply\n",
      "  sqr = np.multiply(arr, arr, out=arr)\n"
     ]
    },
    {
     "name": "stdout",
     "output_type": "stream",
     "text": [
      "Stocks atvi_ce\n",
      "Prediction = -0.28123215499999965\n",
      "atvi_ce pct change 7-day corr of close from 2020-04-24 00:00:00 to 2020-05-01 00:00:00 is =  -0.2067442860809704\n"
     ]
    },
    {
     "name": "stderr",
     "output_type": "stream",
     "text": [
      "/Users/jonathanhilgart/Library/Caches/pypoetry/virtualenvs/daily-trading-nJ43NNNI-py3.7/lib/python3.7/site-packages/numpy/lib/nanfunctions.py:1546: RuntimeWarning: overflow encountered in multiply\n",
      "  sqr = np.multiply(arr, arr, out=arr)\n"
     ]
    },
    {
     "name": "stdout",
     "output_type": "stream",
     "text": [
      "Stocks atvi_cern\n",
      "Prediction = -0.08491582499999999\n",
      "atvi_cern pct change 7-day corr of close from 2020-04-24 00:00:00 to 2020-05-01 00:00:00 is =  -0.5545492815888454\n"
     ]
    },
    {
     "name": "stderr",
     "output_type": "stream",
     "text": [
      "/Users/jonathanhilgart/Library/Caches/pypoetry/virtualenvs/daily-trading-nJ43NNNI-py3.7/lib/python3.7/site-packages/numpy/lib/nanfunctions.py:1546: RuntimeWarning: overflow encountered in multiply\n",
      "  sqr = np.multiply(arr, arr, out=arr)\n"
     ]
    },
    {
     "name": "stdout",
     "output_type": "stream",
     "text": [
      "Stocks atvi_peg\n",
      "Prediction = 0.48754738000000086\n",
      "atvi_peg pct change 7-day corr of close from 2020-04-24 00:00:00 to 2020-05-01 00:00:00 is =  -0.07324655328741991\n"
     ]
    },
    {
     "name": "stderr",
     "output_type": "stream",
     "text": [
      "/Users/jonathanhilgart/Library/Caches/pypoetry/virtualenvs/daily-trading-nJ43NNNI-py3.7/lib/python3.7/site-packages/numpy/lib/nanfunctions.py:1546: RuntimeWarning: overflow encountered in multiply\n",
      "  sqr = np.multiply(arr, arr, out=arr)\n"
     ]
    },
    {
     "name": "stdout",
     "output_type": "stream",
     "text": [
      "Stocks atvi_adbe\n",
      "Prediction = 0.5857067250000009\n",
      "atvi_adbe pct change 7-day corr of close from 2020-04-24 00:00:00 to 2020-05-01 00:00:00 is =  -0.025399353712573736\n"
     ]
    },
    {
     "name": "stderr",
     "output_type": "stream",
     "text": [
      "/Users/jonathanhilgart/Library/Caches/pypoetry/virtualenvs/daily-trading-nJ43NNNI-py3.7/lib/python3.7/site-packages/numpy/lib/nanfunctions.py:1546: RuntimeWarning: overflow encountered in multiply\n",
      "  sqr = np.multiply(arr, arr, out=arr)\n"
     ]
    },
    {
     "name": "stdout",
     "output_type": "stream",
     "text": [
      "Stocks atvi_rop\n",
      "Prediction = -0.05931718500000031\n",
      "atvi_rop pct change 7-day corr of close from 2020-04-24 00:00:00 to 2020-05-01 00:00:00 is =  0.02495438287284757\n"
     ]
    },
    {
     "name": "stderr",
     "output_type": "stream",
     "text": [
      "/Users/jonathanhilgart/Library/Caches/pypoetry/virtualenvs/daily-trading-nJ43NNNI-py3.7/lib/python3.7/site-packages/numpy/lib/nanfunctions.py:1546: RuntimeWarning: overflow encountered in multiply\n",
      "  sqr = np.multiply(arr, arr, out=arr)\n"
     ]
    },
    {
     "name": "stdout",
     "output_type": "stream",
     "text": [
      "Stocks atvi_are\n",
      "Prediction = 0.5434620400000015\n",
      "atvi_are pct change 7-day corr of close from 2020-04-24 00:00:00 to 2020-05-01 00:00:00 is =  -0.17528811542827083\n"
     ]
    },
    {
     "name": "stderr",
     "output_type": "stream",
     "text": [
      "/Users/jonathanhilgart/Library/Caches/pypoetry/virtualenvs/daily-trading-nJ43NNNI-py3.7/lib/python3.7/site-packages/numpy/lib/nanfunctions.py:1546: RuntimeWarning: overflow encountered in multiply\n",
      "  sqr = np.multiply(arr, arr, out=arr)\n"
     ]
    },
    {
     "name": "stdout",
     "output_type": "stream",
     "text": [
      "Stocks atvi_pg\n",
      "Prediction = 0.4368212125000008\n",
      "atvi_pg pct change 7-day corr of close from 2020-04-24 00:00:00 to 2020-05-01 00:00:00 is =  0.14557125642189161\n"
     ]
    },
    {
     "name": "stderr",
     "output_type": "stream",
     "text": [
      "/Users/jonathanhilgart/Library/Caches/pypoetry/virtualenvs/daily-trading-nJ43NNNI-py3.7/lib/python3.7/site-packages/numpy/lib/nanfunctions.py:1546: RuntimeWarning: overflow encountered in multiply\n",
      "  sqr = np.multiply(arr, arr, out=arr)\n"
     ]
    },
    {
     "name": "stdout",
     "output_type": "stream",
     "text": [
      "Stocks atvi_pvh\n",
      "Prediction = 0.13358572499999977\n",
      "atvi_pvh pct change 7-day corr of close from 2020-04-24 00:00:00 to 2020-05-01 00:00:00 is =  -0.20656126940004782\n"
     ]
    },
    {
     "name": "stderr",
     "output_type": "stream",
     "text": [
      "/Users/jonathanhilgart/Library/Caches/pypoetry/virtualenvs/daily-trading-nJ43NNNI-py3.7/lib/python3.7/site-packages/numpy/lib/nanfunctions.py:1546: RuntimeWarning: overflow encountered in multiply\n",
      "  sqr = np.multiply(arr, arr, out=arr)\n"
     ]
    },
    {
     "name": "stdout",
     "output_type": "stream",
     "text": [
      "Stocks atvi_lb\n",
      "Prediction = 0.12019904875000004\n",
      "atvi_lb pct change 7-day corr of close from 2020-04-24 00:00:00 to 2020-05-01 00:00:00 is =  -0.31935191398397444\n"
     ]
    },
    {
     "name": "stderr",
     "output_type": "stream",
     "text": [
      "/Users/jonathanhilgart/Library/Caches/pypoetry/virtualenvs/daily-trading-nJ43NNNI-py3.7/lib/python3.7/site-packages/numpy/lib/nanfunctions.py:1546: RuntimeWarning: overflow encountered in multiply\n",
      "  sqr = np.multiply(arr, arr, out=arr)\n"
     ]
    },
    {
     "name": "stdout",
     "output_type": "stream",
     "text": [
      "Stocks atvi_vno\n",
      "Prediction = 0.48386468000000143\n",
      "atvi_vno pct change 7-day corr of close from 2020-04-24 00:00:00 to 2020-05-01 00:00:00 is =  -0.23578070880629765\n"
     ]
    },
    {
     "name": "stderr",
     "output_type": "stream",
     "text": [
      "/Users/jonathanhilgart/Library/Caches/pypoetry/virtualenvs/daily-trading-nJ43NNNI-py3.7/lib/python3.7/site-packages/numpy/lib/nanfunctions.py:1546: RuntimeWarning: overflow encountered in multiply\n",
      "  sqr = np.multiply(arr, arr, out=arr)\n"
     ]
    },
    {
     "name": "stdout",
     "output_type": "stream",
     "text": [
      "Stocks atvi_ual\n",
      "Prediction = 0.23048484\n",
      "atvi_ual pct change 7-day corr of close from 2020-04-24 00:00:00 to 2020-05-01 00:00:00 is =  -0.17472361269254721\n"
     ]
    },
    {
     "name": "stderr",
     "output_type": "stream",
     "text": [
      "/Users/jonathanhilgart/Library/Caches/pypoetry/virtualenvs/daily-trading-nJ43NNNI-py3.7/lib/python3.7/site-packages/numpy/lib/nanfunctions.py:1546: RuntimeWarning: overflow encountered in multiply\n",
      "  sqr = np.multiply(arr, arr, out=arr)\n"
     ]
    },
    {
     "name": "stdout",
     "output_type": "stream",
     "text": [
      "Stocks atvi_efx\n",
      "Prediction = -0.4406528350000006\n",
      "atvi_efx pct change 7-day corr of close from 2020-04-24 00:00:00 to 2020-05-01 00:00:00 is =  -0.3106656691341638\n"
     ]
    },
    {
     "name": "stderr",
     "output_type": "stream",
     "text": [
      "/Users/jonathanhilgart/Library/Caches/pypoetry/virtualenvs/daily-trading-nJ43NNNI-py3.7/lib/python3.7/site-packages/numpy/lib/nanfunctions.py:1546: RuntimeWarning: overflow encountered in multiply\n",
      "  sqr = np.multiply(arr, arr, out=arr)\n"
     ]
    },
    {
     "name": "stdout",
     "output_type": "stream",
     "text": [
      "Stocks atvi_ph\n",
      "Prediction = -0.3113201362500008\n",
      "atvi_ph pct change 7-day corr of close from 2020-04-24 00:00:00 to 2020-05-01 00:00:00 is =  -0.0518389837090073\n"
     ]
    },
    {
     "name": "stderr",
     "output_type": "stream",
     "text": [
      "/Users/jonathanhilgart/Library/Caches/pypoetry/virtualenvs/daily-trading-nJ43NNNI-py3.7/lib/python3.7/site-packages/numpy/lib/nanfunctions.py:1546: RuntimeWarning: overflow encountered in multiply\n",
      "  sqr = np.multiply(arr, arr, out=arr)\n"
     ]
    },
    {
     "name": "stdout",
     "output_type": "stream",
     "text": [
      "Stocks atvi_pnr\n",
      "Prediction = 0.17588120499999993\n",
      "atvi_pnr pct change 7-day corr of close from 2020-04-24 00:00:00 to 2020-05-01 00:00:00 is =  -0.27569635709226314\n"
     ]
    },
    {
     "name": "stderr",
     "output_type": "stream",
     "text": [
      "/Users/jonathanhilgart/Library/Caches/pypoetry/virtualenvs/daily-trading-nJ43NNNI-py3.7/lib/python3.7/site-packages/numpy/lib/nanfunctions.py:1546: RuntimeWarning: overflow encountered in multiply\n",
      "  sqr = np.multiply(arr, arr, out=arr)\n"
     ]
    },
    {
     "name": "stdout",
     "output_type": "stream",
     "text": [
      "Stocks atvi_bac\n",
      "Prediction = -0.05644316000000019\n",
      "atvi_bac pct change 7-day corr of close from 2020-04-24 00:00:00 to 2020-05-01 00:00:00 is =  -0.2961848471245425\n"
     ]
    },
    {
     "name": "stderr",
     "output_type": "stream",
     "text": [
      "/Users/jonathanhilgart/Library/Caches/pypoetry/virtualenvs/daily-trading-nJ43NNNI-py3.7/lib/python3.7/site-packages/numpy/lib/nanfunctions.py:1546: RuntimeWarning: overflow encountered in multiply\n",
      "  sqr = np.multiply(arr, arr, out=arr)\n"
     ]
    },
    {
     "name": "stdout",
     "output_type": "stream",
     "text": [
      "Stocks atvi_ni\n",
      "Prediction = 0.46114384571428707\n",
      "atvi_ni pct change 7-day corr of close from 2020-04-24 00:00:00 to 2020-05-01 00:00:00 is =  -0.05758226576823533\n"
     ]
    },
    {
     "name": "stderr",
     "output_type": "stream",
     "text": [
      "/Users/jonathanhilgart/Library/Caches/pypoetry/virtualenvs/daily-trading-nJ43NNNI-py3.7/lib/python3.7/site-packages/numpy/lib/nanfunctions.py:1546: RuntimeWarning: overflow encountered in multiply\n",
      "  sqr = np.multiply(arr, arr, out=arr)\n"
     ]
    },
    {
     "name": "stdout",
     "output_type": "stream",
     "text": [
      "Stocks ce_cern\n",
      "Prediction = 0.6279378199999981\n",
      "ce_cern pct change 7-day corr of close from 2020-04-24 00:00:00 to 2020-05-01 00:00:00 is =  -0.2507513274230714\n"
     ]
    },
    {
     "name": "stderr",
     "output_type": "stream",
     "text": [
      "/Users/jonathanhilgart/Library/Caches/pypoetry/virtualenvs/daily-trading-nJ43NNNI-py3.7/lib/python3.7/site-packages/numpy/lib/nanfunctions.py:1546: RuntimeWarning: overflow encountered in multiply\n",
      "  sqr = np.multiply(arr, arr, out=arr)\n"
     ]
    },
    {
     "name": "stdout",
     "output_type": "stream",
     "text": [
      "Stocks ce_peg\n",
      "Prediction = 0.2376172716666675\n",
      "ce_peg pct change 7-day corr of close from 2020-04-24 00:00:00 to 2020-05-01 00:00:00 is =  -0.028539596944098133\n"
     ]
    },
    {
     "name": "stderr",
     "output_type": "stream",
     "text": [
      "/Users/jonathanhilgart/Library/Caches/pypoetry/virtualenvs/daily-trading-nJ43NNNI-py3.7/lib/python3.7/site-packages/numpy/lib/nanfunctions.py:1546: RuntimeWarning: overflow encountered in multiply\n",
      "  sqr = np.multiply(arr, arr, out=arr)\n"
     ]
    },
    {
     "name": "stdout",
     "output_type": "stream",
     "text": [
      "Stocks ce_adbe\n",
      "Prediction = 0.3315532103781215\n",
      "ce_adbe pct change 7-day corr of close from 2020-04-24 00:00:00 to 2020-05-01 00:00:00 is =  -0.028515140196253785\n"
     ]
    },
    {
     "name": "stderr",
     "output_type": "stream",
     "text": [
      "/Users/jonathanhilgart/Library/Caches/pypoetry/virtualenvs/daily-trading-nJ43NNNI-py3.7/lib/python3.7/site-packages/numpy/lib/nanfunctions.py:1546: RuntimeWarning: overflow encountered in multiply\n",
      "  sqr = np.multiply(arr, arr, out=arr)\n"
     ]
    },
    {
     "name": "stdout",
     "output_type": "stream",
     "text": [
      "Stocks ce_rop\n",
      "Prediction = 0.2994361424999995\n",
      "ce_rop pct change 7-day corr of close from 2020-04-24 00:00:00 to 2020-05-01 00:00:00 is =  0.273356477642404\n"
     ]
    },
    {
     "name": "stderr",
     "output_type": "stream",
     "text": [
      "/Users/jonathanhilgart/Library/Caches/pypoetry/virtualenvs/daily-trading-nJ43NNNI-py3.7/lib/python3.7/site-packages/numpy/lib/nanfunctions.py:1546: RuntimeWarning: overflow encountered in multiply\n",
      "  sqr = np.multiply(arr, arr, out=arr)\n"
     ]
    },
    {
     "name": "stdout",
     "output_type": "stream",
     "text": [
      "Stocks ce_are\n",
      "Prediction = 0.13863538999999975\n",
      "ce_are pct change 7-day corr of close from 2020-04-24 00:00:00 to 2020-05-01 00:00:00 is =  0.3171382832169469\n"
     ]
    },
    {
     "name": "stderr",
     "output_type": "stream",
     "text": [
      "/Users/jonathanhilgart/Library/Caches/pypoetry/virtualenvs/daily-trading-nJ43NNNI-py3.7/lib/python3.7/site-packages/numpy/lib/nanfunctions.py:1546: RuntimeWarning: overflow encountered in multiply\n",
      "  sqr = np.multiply(arr, arr, out=arr)\n"
     ]
    },
    {
     "name": "stdout",
     "output_type": "stream",
     "text": [
      "Stocks ce_pg\n",
      "Prediction = 0.04973675499999994\n",
      "ce_pg pct change 7-day corr of close from 2020-04-24 00:00:00 to 2020-05-01 00:00:00 is =  0.6566217566532304\n"
     ]
    },
    {
     "name": "stderr",
     "output_type": "stream",
     "text": [
      "/Users/jonathanhilgart/Library/Caches/pypoetry/virtualenvs/daily-trading-nJ43NNNI-py3.7/lib/python3.7/site-packages/numpy/lib/nanfunctions.py:1546: RuntimeWarning: overflow encountered in multiply\n",
      "  sqr = np.multiply(arr, arr, out=arr)\n"
     ]
    },
    {
     "name": "stdout",
     "output_type": "stream",
     "text": [
      "Stocks ce_pvh\n",
      "Prediction = 0.5107535070000012\n",
      "ce_pvh pct change 7-day corr of close from 2020-04-24 00:00:00 to 2020-05-01 00:00:00 is =  -0.02821162294679369\n"
     ]
    },
    {
     "name": "stderr",
     "output_type": "stream",
     "text": [
      "/Users/jonathanhilgart/Library/Caches/pypoetry/virtualenvs/daily-trading-nJ43NNNI-py3.7/lib/python3.7/site-packages/numpy/lib/nanfunctions.py:1546: RuntimeWarning: overflow encountered in multiply\n",
      "  sqr = np.multiply(arr, arr, out=arr)\n"
     ]
    },
    {
     "name": "stdout",
     "output_type": "stream",
     "text": [
      "Stocks ce_lb\n",
      "Prediction = -0.14027576999999977\n",
      "ce_lb pct change 7-day corr of close from 2020-04-24 00:00:00 to 2020-05-01 00:00:00 is =  -0.2406032373321797\n"
     ]
    },
    {
     "name": "stderr",
     "output_type": "stream",
     "text": [
      "/Users/jonathanhilgart/Library/Caches/pypoetry/virtualenvs/daily-trading-nJ43NNNI-py3.7/lib/python3.7/site-packages/numpy/lib/nanfunctions.py:1546: RuntimeWarning: overflow encountered in multiply\n",
      "  sqr = np.multiply(arr, arr, out=arr)\n"
     ]
    },
    {
     "name": "stdout",
     "output_type": "stream",
     "text": [
      "Stocks ce_vno\n",
      "Prediction = 0.16427665583333284\n",
      "ce_vno pct change 7-day corr of close from 2020-04-24 00:00:00 to 2020-05-01 00:00:00 is =  0.3699082359056425\n"
     ]
    },
    {
     "name": "stderr",
     "output_type": "stream",
     "text": [
      "/Users/jonathanhilgart/Library/Caches/pypoetry/virtualenvs/daily-trading-nJ43NNNI-py3.7/lib/python3.7/site-packages/numpy/lib/nanfunctions.py:1546: RuntimeWarning: overflow encountered in multiply\n",
      "  sqr = np.multiply(arr, arr, out=arr)\n"
     ]
    },
    {
     "name": "stdout",
     "output_type": "stream",
     "text": [
      "Stocks ce_ual\n",
      "Prediction = -0.2233633999999994\n",
      "ce_ual pct change 7-day corr of close from 2020-04-24 00:00:00 to 2020-05-01 00:00:00 is =  -0.43384078028206285\n"
     ]
    },
    {
     "name": "stderr",
     "output_type": "stream",
     "text": [
      "/Users/jonathanhilgart/Library/Caches/pypoetry/virtualenvs/daily-trading-nJ43NNNI-py3.7/lib/python3.7/site-packages/numpy/lib/nanfunctions.py:1546: RuntimeWarning: overflow encountered in multiply\n",
      "  sqr = np.multiply(arr, arr, out=arr)\n"
     ]
    },
    {
     "name": "stdout",
     "output_type": "stream",
     "text": [
      "Stocks ce_efx\n",
      "Prediction = 0.47156907499999984\n",
      "ce_efx pct change 7-day corr of close from 2020-04-24 00:00:00 to 2020-05-01 00:00:00 is =  -0.1485602122600207\n"
     ]
    },
    {
     "name": "stderr",
     "output_type": "stream",
     "text": [
      "/Users/jonathanhilgart/Library/Caches/pypoetry/virtualenvs/daily-trading-nJ43NNNI-py3.7/lib/python3.7/site-packages/numpy/lib/nanfunctions.py:1546: RuntimeWarning: overflow encountered in multiply\n",
      "  sqr = np.multiply(arr, arr, out=arr)\n"
     ]
    },
    {
     "name": "stdout",
     "output_type": "stream",
     "text": [
      "Stocks ce_ph\n",
      "Prediction = 0.7577104962499994\n",
      "ce_ph pct change 7-day corr of close from 2020-04-24 00:00:00 to 2020-05-01 00:00:00 is =  -0.09932221726277224\n"
     ]
    },
    {
     "name": "stderr",
     "output_type": "stream",
     "text": [
      "/Users/jonathanhilgart/Library/Caches/pypoetry/virtualenvs/daily-trading-nJ43NNNI-py3.7/lib/python3.7/site-packages/numpy/lib/nanfunctions.py:1546: RuntimeWarning: overflow encountered in multiply\n",
      "  sqr = np.multiply(arr, arr, out=arr)\n"
     ]
    },
    {
     "name": "stdout",
     "output_type": "stream",
     "text": [
      "Stocks ce_pnr\n",
      "Prediction = 0.6394122950000013\n",
      "ce_pnr pct change 7-day corr of close from 2020-04-24 00:00:00 to 2020-05-01 00:00:00 is =  -0.08445596051523596\n"
     ]
    },
    {
     "name": "stderr",
     "output_type": "stream",
     "text": [
      "/Users/jonathanhilgart/Library/Caches/pypoetry/virtualenvs/daily-trading-nJ43NNNI-py3.7/lib/python3.7/site-packages/numpy/lib/nanfunctions.py:1546: RuntimeWarning: overflow encountered in multiply\n",
      "  sqr = np.multiply(arr, arr, out=arr)\n"
     ]
    },
    {
     "name": "stdout",
     "output_type": "stream",
     "text": [
      "Stocks ce_bac\n",
      "Prediction = 0.666860249999998\n",
      "ce_bac pct change 7-day corr of close from 2020-04-24 00:00:00 to 2020-05-01 00:00:00 is =  0.01503271008121665\n"
     ]
    },
    {
     "name": "stderr",
     "output_type": "stream",
     "text": [
      "/Users/jonathanhilgart/Library/Caches/pypoetry/virtualenvs/daily-trading-nJ43NNNI-py3.7/lib/python3.7/site-packages/numpy/lib/nanfunctions.py:1546: RuntimeWarning: overflow encountered in multiply\n",
      "  sqr = np.multiply(arr, arr, out=arr)\n"
     ]
    },
    {
     "name": "stdout",
     "output_type": "stream",
     "text": [
      "Stocks ce_ni\n",
      "Prediction = 0.4711204891666677\n",
      "ce_ni pct change 7-day corr of close from 2020-04-24 00:00:00 to 2020-05-01 00:00:00 is =  -0.017958858274826794\n"
     ]
    },
    {
     "name": "stderr",
     "output_type": "stream",
     "text": [
      "/Users/jonathanhilgart/Library/Caches/pypoetry/virtualenvs/daily-trading-nJ43NNNI-py3.7/lib/python3.7/site-packages/numpy/lib/nanfunctions.py:1546: RuntimeWarning: overflow encountered in multiply\n",
      "  sqr = np.multiply(arr, arr, out=arr)\n"
     ]
    },
    {
     "name": "stdout",
     "output_type": "stream",
     "text": [
      "Stocks cern_peg\n",
      "Prediction = 0.05569212500000007\n",
      "cern_peg pct change 7-day corr of close from 2020-04-24 00:00:00 to 2020-05-01 00:00:00 is =  -1.7641410087538771\n"
     ]
    },
    {
     "name": "stderr",
     "output_type": "stream",
     "text": [
      "/Users/jonathanhilgart/Library/Caches/pypoetry/virtualenvs/daily-trading-nJ43NNNI-py3.7/lib/python3.7/site-packages/numpy/lib/nanfunctions.py:1546: RuntimeWarning: overflow encountered in multiply\n",
      "  sqr = np.multiply(arr, arr, out=arr)\n"
     ]
    },
    {
     "name": "stdout",
     "output_type": "stream",
     "text": [
      "Stocks cern_adbe\n",
      "Prediction = 0.3742160050000008\n",
      "cern_adbe pct change 7-day corr of close from 2020-04-24 00:00:00 to 2020-05-01 00:00:00 is =  0.12237303360676877\n"
     ]
    },
    {
     "name": "stderr",
     "output_type": "stream",
     "text": [
      "/Users/jonathanhilgart/Library/Caches/pypoetry/virtualenvs/daily-trading-nJ43NNNI-py3.7/lib/python3.7/site-packages/numpy/lib/nanfunctions.py:1546: RuntimeWarning: overflow encountered in multiply\n",
      "  sqr = np.multiply(arr, arr, out=arr)\n"
     ]
    },
    {
     "name": "stdout",
     "output_type": "stream",
     "text": [
      "Stocks cern_rop\n",
      "Prediction = -0.09543519750000012\n",
      "cern_rop pct change 7-day corr of close from 2020-04-24 00:00:00 to 2020-05-01 00:00:00 is =  -0.48462993714156044\n"
     ]
    },
    {
     "name": "stderr",
     "output_type": "stream",
     "text": [
      "/Users/jonathanhilgart/Library/Caches/pypoetry/virtualenvs/daily-trading-nJ43NNNI-py3.7/lib/python3.7/site-packages/numpy/lib/nanfunctions.py:1546: RuntimeWarning: overflow encountered in multiply\n",
      "  sqr = np.multiply(arr, arr, out=arr)\n"
     ]
    },
    {
     "name": "stdout",
     "output_type": "stream",
     "text": [
      "Stocks cern_are\n",
      "Prediction = -0.0011285850000000409\n",
      "cern_are pct change 7-day corr of close from 2020-04-24 00:00:00 to 2020-05-01 00:00:00 is =  -0.9916245389576172\n"
     ]
    },
    {
     "name": "stderr",
     "output_type": "stream",
     "text": [
      "/Users/jonathanhilgart/Library/Caches/pypoetry/virtualenvs/daily-trading-nJ43NNNI-py3.7/lib/python3.7/site-packages/numpy/lib/nanfunctions.py:1546: RuntimeWarning: overflow encountered in multiply\n",
      "  sqr = np.multiply(arr, arr, out=arr)\n"
     ]
    },
    {
     "name": "stdout",
     "output_type": "stream",
     "text": [
      "Stocks cern_pg\n",
      "Prediction = -0.20800461999999936\n",
      "cern_pg pct change 7-day corr of close from 2020-04-24 00:00:00 to 2020-05-01 00:00:00 is =  -0.48639185949178776\n"
     ]
    },
    {
     "name": "stderr",
     "output_type": "stream",
     "text": [
      "/Users/jonathanhilgart/Library/Caches/pypoetry/virtualenvs/daily-trading-nJ43NNNI-py3.7/lib/python3.7/site-packages/numpy/lib/nanfunctions.py:1546: RuntimeWarning: overflow encountered in multiply\n",
      "  sqr = np.multiply(arr, arr, out=arr)\n"
     ]
    },
    {
     "name": "stdout",
     "output_type": "stream",
     "text": [
      "Stocks cern_pvh\n",
      "Prediction = 0.17856621000000028\n",
      "cern_pvh pct change 7-day corr of close from 2020-04-24 00:00:00 to 2020-05-01 00:00:00 is =  0.3694462892946728\n"
     ]
    },
    {
     "name": "stderr",
     "output_type": "stream",
     "text": [
      "/Users/jonathanhilgart/Library/Caches/pypoetry/virtualenvs/daily-trading-nJ43NNNI-py3.7/lib/python3.7/site-packages/numpy/lib/nanfunctions.py:1546: RuntimeWarning: overflow encountered in multiply\n",
      "  sqr = np.multiply(arr, arr, out=arr)\n"
     ]
    },
    {
     "name": "stdout",
     "output_type": "stream",
     "text": [
      "Stocks cern_lb\n",
      "Prediction = -0.46241055000000075\n",
      "cern_lb pct change 7-day corr of close from 2020-04-24 00:00:00 to 2020-05-01 00:00:00 is =  -0.2465030162004661\n"
     ]
    },
    {
     "name": "stderr",
     "output_type": "stream",
     "text": [
      "/Users/jonathanhilgart/Library/Caches/pypoetry/virtualenvs/daily-trading-nJ43NNNI-py3.7/lib/python3.7/site-packages/numpy/lib/nanfunctions.py:1546: RuntimeWarning: overflow encountered in multiply\n",
      "  sqr = np.multiply(arr, arr, out=arr)\n"
     ]
    },
    {
     "name": "stdout",
     "output_type": "stream",
     "text": [
      "Stocks cern_vno\n",
      "Prediction = -0.08716199499999976\n",
      "cern_vno pct change 7-day corr of close from 2020-04-24 00:00:00 to 2020-05-01 00:00:00 is =  -0.5001978577121802\n"
     ]
    },
    {
     "name": "stderr",
     "output_type": "stream",
     "text": [
      "/Users/jonathanhilgart/Library/Caches/pypoetry/virtualenvs/daily-trading-nJ43NNNI-py3.7/lib/python3.7/site-packages/numpy/lib/nanfunctions.py:1546: RuntimeWarning: overflow encountered in multiply\n",
      "  sqr = np.multiply(arr, arr, out=arr)\n"
     ]
    },
    {
     "name": "stdout",
     "output_type": "stream",
     "text": [
      "Stocks cern_ual\n",
      "Prediction = -0.3813038275000001\n",
      "cern_ual pct change 7-day corr of close from 2020-04-24 00:00:00 to 2020-05-01 00:00:00 is =  -0.49506748587712757\n"
     ]
    },
    {
     "name": "stderr",
     "output_type": "stream",
     "text": [
      "/Users/jonathanhilgart/Library/Caches/pypoetry/virtualenvs/daily-trading-nJ43NNNI-py3.7/lib/python3.7/site-packages/numpy/lib/nanfunctions.py:1546: RuntimeWarning: overflow encountered in multiply\n",
      "  sqr = np.multiply(arr, arr, out=arr)\n"
     ]
    },
    {
     "name": "stdout",
     "output_type": "stream",
     "text": [
      "Stocks cern_efx\n",
      "Prediction = 0.5715341449999991\n",
      "cern_efx pct change 7-day corr of close from 2020-04-24 00:00:00 to 2020-05-01 00:00:00 is =  -0.05986694992343011\n"
     ]
    },
    {
     "name": "stderr",
     "output_type": "stream",
     "text": [
      "/Users/jonathanhilgart/Library/Caches/pypoetry/virtualenvs/daily-trading-nJ43NNNI-py3.7/lib/python3.7/site-packages/numpy/lib/nanfunctions.py:1546: RuntimeWarning: overflow encountered in multiply\n",
      "  sqr = np.multiply(arr, arr, out=arr)\n"
     ]
    },
    {
     "name": "stdout",
     "output_type": "stream",
     "text": [
      "Stocks cern_ph\n",
      "Prediction = 0.4274620833333339\n",
      "cern_ph pct change 7-day corr of close from 2020-04-24 00:00:00 to 2020-05-01 00:00:00 is =  -0.2050175128634295\n"
     ]
    },
    {
     "name": "stderr",
     "output_type": "stream",
     "text": [
      "/Users/jonathanhilgart/Library/Caches/pypoetry/virtualenvs/daily-trading-nJ43NNNI-py3.7/lib/python3.7/site-packages/numpy/lib/nanfunctions.py:1546: RuntimeWarning: overflow encountered in multiply\n",
      "  sqr = np.multiply(arr, arr, out=arr)\n"
     ]
    },
    {
     "name": "stdout",
     "output_type": "stream",
     "text": [
      "Stocks cern_pnr\n",
      "Prediction = 0.45950357499999916\n",
      "cern_pnr pct change 7-day corr of close from 2020-04-24 00:00:00 to 2020-05-01 00:00:00 is =  -0.19570325969568392\n"
     ]
    },
    {
     "name": "stderr",
     "output_type": "stream",
     "text": [
      "/Users/jonathanhilgart/Library/Caches/pypoetry/virtualenvs/daily-trading-nJ43NNNI-py3.7/lib/python3.7/site-packages/numpy/lib/nanfunctions.py:1546: RuntimeWarning: overflow encountered in multiply\n",
      "  sqr = np.multiply(arr, arr, out=arr)\n"
     ]
    },
    {
     "name": "stdout",
     "output_type": "stream",
     "text": [
      "Stocks cern_bac\n",
      "Prediction = 0.26165834500000046\n",
      "cern_bac pct change 7-day corr of close from 2020-04-24 00:00:00 to 2020-05-01 00:00:00 is =  0.020309397543382568\n"
     ]
    },
    {
     "name": "stderr",
     "output_type": "stream",
     "text": [
      "/Users/jonathanhilgart/Library/Caches/pypoetry/virtualenvs/daily-trading-nJ43NNNI-py3.7/lib/python3.7/site-packages/numpy/lib/nanfunctions.py:1546: RuntimeWarning: overflow encountered in multiply\n",
      "  sqr = np.multiply(arr, arr, out=arr)\n"
     ]
    },
    {
     "name": "stdout",
     "output_type": "stream",
     "text": [
      "Stocks cern_ni\n",
      "Prediction = 0.4041631950000012\n",
      "cern_ni pct change 7-day corr of close from 2020-04-24 00:00:00 to 2020-05-01 00:00:00 is =  0.14712524160794138\n"
     ]
    },
    {
     "name": "stderr",
     "output_type": "stream",
     "text": [
      "/Users/jonathanhilgart/Library/Caches/pypoetry/virtualenvs/daily-trading-nJ43NNNI-py3.7/lib/python3.7/site-packages/numpy/lib/nanfunctions.py:1546: RuntimeWarning: overflow encountered in multiply\n",
      "  sqr = np.multiply(arr, arr, out=arr)\n"
     ]
    },
    {
     "name": "stdout",
     "output_type": "stream",
     "text": [
      "Stocks peg_adbe\n",
      "Prediction = 0.6401821650000009\n",
      "peg_adbe pct change 7-day corr of close from 2020-04-24 00:00:00 to 2020-05-01 00:00:00 is =  -0.10423942883528159\n"
     ]
    },
    {
     "name": "stderr",
     "output_type": "stream",
     "text": [
      "/Users/jonathanhilgart/Library/Caches/pypoetry/virtualenvs/daily-trading-nJ43NNNI-py3.7/lib/python3.7/site-packages/numpy/lib/nanfunctions.py:1546: RuntimeWarning: overflow encountered in multiply\n",
      "  sqr = np.multiply(arr, arr, out=arr)\n"
     ]
    },
    {
     "name": "stdout",
     "output_type": "stream",
     "text": [
      "Stocks peg_rop\n",
      "Prediction = 0.5739525850000017\n",
      "peg_rop pct change 7-day corr of close from 2020-04-24 00:00:00 to 2020-05-01 00:00:00 is =  -0.04822832301885516\n"
     ]
    },
    {
     "name": "stderr",
     "output_type": "stream",
     "text": [
      "/Users/jonathanhilgart/Library/Caches/pypoetry/virtualenvs/daily-trading-nJ43NNNI-py3.7/lib/python3.7/site-packages/numpy/lib/nanfunctions.py:1546: RuntimeWarning: overflow encountered in multiply\n",
      "  sqr = np.multiply(arr, arr, out=arr)\n"
     ]
    },
    {
     "name": "stdout",
     "output_type": "stream",
     "text": [
      "Stocks peg_are\n",
      "Prediction = 0.8003766286250013\n",
      "peg_are pct change 7-day corr of close from 2020-04-24 00:00:00 to 2020-05-01 00:00:00 is =  -0.17148964525906063\n"
     ]
    },
    {
     "name": "stderr",
     "output_type": "stream",
     "text": [
      "/Users/jonathanhilgart/Library/Caches/pypoetry/virtualenvs/daily-trading-nJ43NNNI-py3.7/lib/python3.7/site-packages/numpy/lib/nanfunctions.py:1546: RuntimeWarning: overflow encountered in multiply\n",
      "  sqr = np.multiply(arr, arr, out=arr)\n"
     ]
    },
    {
     "name": "stdout",
     "output_type": "stream",
     "text": [
      "Stocks peg_pg\n",
      "Prediction = 0.7980078349999995\n",
      "peg_pg pct change 7-day corr of close from 2020-04-24 00:00:00 to 2020-05-01 00:00:00 is =  -0.1256126841893046\n"
     ]
    },
    {
     "name": "stderr",
     "output_type": "stream",
     "text": [
      "/Users/jonathanhilgart/Library/Caches/pypoetry/virtualenvs/daily-trading-nJ43NNNI-py3.7/lib/python3.7/site-packages/numpy/lib/nanfunctions.py:1546: RuntimeWarning: overflow encountered in multiply\n",
      "  sqr = np.multiply(arr, arr, out=arr)\n"
     ]
    }
   ],
   "source": [
    "# train on all data\n",
    "# predict for the upcoming week\n",
    "most_recent_date = final_stock_df.index.max()\n",
    "prediction_end = most_recent_date + datetime.timedelta(7)\n",
    "                                                       \n",
    "                                                       \n",
    "# train_dates = final_stock_df.index[final_stock_df.index < test_date - datetime.timedelta(7)] # seven days before\n",
    "\n",
    "# train_df = final_stock_df[final_stock_df.index.isin(train_dates)]\n",
    "test_df = final_stock_df[final_stock_df.index == most_recent_date]\n",
    "\n",
    "final_stock_df = final_stock_df.dropna()\n",
    "\n",
    "n_days_corr_predictions = 7\n",
    "\n",
    "\n",
    "pct_change_corr = []\n",
    "predicted_corr = []\n",
    "last_corr_for_prediction_day = []\n",
    "pred_dates = []\n",
    "start = time.time()\n",
    "\n",
    "for stock_pairing in pairs_of_stocks:\n",
    "    pred_col_name = f\"{stock_pairing}_close_corr_rolling_{n_days_corr_predictions}_days\"\n",
    "\n",
    "    # remove the current 7-day corr for this stock\n",
    "    # for 7 take rolling 7 days corr to the present day to predict off of\n",
    "    train_X, train_y = final_stock_df.loc[:, final_stock_df.columns != f\"{pred_col_name}\"],  final_stock_df[f\"{pred_col_name}\"].shift(-7).fillna(method='ffill') \n",
    "                                                       # get corr from 7 days in the future\n",
    "                                                       \n",
    "    test_X, test_y = test_df.loc[:, test_df.columns != f\"{pred_col_name}\"],  test_df[f\"{pred_col_name}\"]\n",
    "\n",
    "    train_X = np.nan_to_num(train_X.astype(np.float32)) \n",
    "\n",
    "    # standard scaler for cols\n",
    "    scaler=StandardScaler()\n",
    "    scaler.fit(train_X)\n",
    "    train_X = scaler.transform(train_X)\n",
    "    test_X = scaler.transform(test_X)\n",
    "\n",
    "\n",
    "    # Make an instance of the Model\n",
    "    # only train on train_x\n",
    "\n",
    "    pca = PCA(n_components=5, whiten=True)\n",
    "    pca.fit(train_X)\n",
    "\n",
    "    train_X = pca.transform(train_X)\n",
    "    test_X = pca.transform(test_X)\n",
    "\n",
    "    # standaard scaler\n",
    "\n",
    "    rf = RandomForestRegressor(n_estimators=200, n_jobs=-1)\n",
    "    rf.fit(train_X, train_y)\n",
    "\n",
    "\n",
    "    prediction = np.array(rf.predict(test_X))[0]\n",
    "    print(f\"Stocks {stock_pairing}\")\n",
    "    print(f\"Prediction = {prediction}\")\n",
    "\n",
    "    pred_corr_pct_change, last_date = find_pct_change_pred_vs_last_corr(train_y, prediction)\n",
    "\n",
    "    last_corr_date = train_y.index.max()\n",
    "    last_corr = train_y[train_y.index.max()]  \n",
    "    print(f\"Last corr = {last_corr})\n",
    "\n",
    "    pct_change_corr.append(pred_corr_pct_change)\n",
    "    pred_dates.append(most_recent_date)\n",
    "    predicted_corr.append(prediction)\n",
    "    last_corr_for_prediction_day.append(last_corr)\n",
    "\n",
    "    print(f\"{stock_pairing} pct change 7-day corr of close from {most_recent_date} to {prediction_end} is =  {pred_corr_pct_change}\")\n",
    "\n",
    "\n",
    "end = time.time()\n",
    "\n",
    "print(f\"Predictions took {(end-start)/60} mins\")\n",
    "\n",
    "pd.DataFrame({ 'pred_date_start':pred_dates,'stock_pair':pairs_of_stocks,   'pct_change_for_7_day_corr': pct_change_corr,\n",
    "'predicted_corr': predicted_corr, 'last_7_day_corr_for_pred_date_start': last_corr_for_prediction_day}).to_csv(\n",
    "f'../data/predictions/test_predictions_{most_recent_date}-{prediction_end}.csv', index=False)\n"
   ]
  },
  {
   "cell_type": "code",
   "execution_count": null,
   "metadata": {},
   "outputs": [],
   "source": []
  },
  {
   "cell_type": "code",
   "execution_count": null,
   "metadata": {},
   "outputs": [],
   "source": []
  }
 ],
 "metadata": {
  "file_extension": ".py",
  "kernelspec": {
   "display_name": "Python 3.7.0 64-bit ('daily-trading-nJ43NNNI-py3.7': venv)",
   "language": "python",
   "name": "python37064bitdailytradingnj43nnnipy37venvd9db9359ec934f90b15f4732101b653e"
  },
  "language_info": {
   "codemirror_mode": {
    "name": "ipython",
    "version": 3
   },
   "file_extension": ".py",
   "mimetype": "text/x-python",
   "name": "python",
   "nbconvert_exporter": "python",
   "pygments_lexer": "ipython3",
   "version": "3.7.0"
  },
  "mimetype": "text/x-python",
  "name": "python",
  "npconvert_exporter": "python",
  "pygments_lexer": "ipython3",
  "version": 3
 },
 "nbformat": 4,
 "nbformat_minor": 4
}
