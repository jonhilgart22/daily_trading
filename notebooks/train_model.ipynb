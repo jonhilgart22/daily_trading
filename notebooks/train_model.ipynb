{
 "cells": [
  {
   "cell_type": "code",
   "execution_count": 975,
   "metadata": {},
   "outputs": [
    {
     "name": "stdout",
     "output_type": "stream",
     "text": [
      "Populating the interactive namespace from numpy and matplotlib\n"
     ]
    }
   ],
   "source": [
    "import pandas as pd\n",
    "import glob\n",
    "import numpy as numpy\n",
    "import matplotlib.pyplot as plt\n",
    "from collections import defaultdict\n",
    "from tqdm import tqdm\n",
    "import time\n",
    "from sklearn.model_selection import train_test_split\n",
    "from sklearn.ensemble import GradientBoostingRegressor, RandomForestRegressor\n",
    "from sklearn.metrics import mean_squared_error\n",
    "from sklearn.decomposition import PCA\n",
    "import seaborn as sns\n",
    "\n",
    "from sklearn.preprocessing import StandardScaler\n",
    "\n",
    "%pylab inline"
   ]
  },
  {
   "cell_type": "markdown",
   "metadata": {},
   "source": [
    "## Read in data\n"
   ]
  },
  {
   "cell_type": "code",
   "execution_count": 423,
   "metadata": {},
   "outputs": [
    {
     "name": "stdout",
     "output_type": "stream",
     "text": [
      "Reading in pnr\n",
      "Reading in bac\n",
      "Reading in ni\n",
      "Reading in vno\n",
      "Reading in ual\n",
      "Reading in efx\n",
      "Reading in ph\n",
      "Reading in rop\n",
      "Reading in are\n",
      "Reading in pg\n",
      "Reading in pvh\n",
      "Reading in lb\n",
      "Reading in cern\n",
      "Reading in peg\n",
      "Reading in adbe\n",
      "Reading in emr\n",
      "Reading in ce\n",
      "Reading in eqix\n",
      "Reading in rost\n",
      "Reading in so\n"
     ]
    }
   ],
   "source": [
    "dict_of_stocks_and_dfs = {}\n",
    "for file_ in glob.glob('../data/updated_historical_stock_data/*.csv'):\n",
    "    stock_name = file_.rsplit(\"/\")[-1].split('_')[0].lower() \n",
    "    print(f\"Reading in {stock_name}\")\n",
    "    dict_of_stocks_and_dfs[stock_name] = pd.read_csv(f\"{file_}\")\n"
   ]
  },
  {
   "cell_type": "code",
   "execution_count": 424,
   "metadata": {},
   "outputs": [
    {
     "data": {
      "text/plain": [
       "dict_keys(['pnr', 'bac', 'ni', 'vno', 'ual', 'efx', 'ph', 'rop', 'are', 'pg', 'pvh', 'lb', 'cern', 'peg', 'adbe', 'emr', 'ce', 'eqix', 'rost', 'so'])"
      ]
     },
     "execution_count": 424,
     "metadata": {},
     "output_type": "execute_result"
    }
   ],
   "source": [
    "# key is company value is df of data\n",
    "dict_of_stocks_and_dfs.keys()"
   ]
  },
  {
   "cell_type": "markdown",
   "metadata": {},
   "source": [
    "# Create correlation & variance features\n",
    "- Daily, weekly, 30-days, 90-days, 180-days, 365-days"
   ]
  },
  {
   "cell_type": "code",
   "execution_count": 425,
   "metadata": {},
   "outputs": [],
   "source": [
    "\n",
    "# here the date is not the index, yet\n",
    "first_stock_df = dict_of_stocks_and_dfs['ph'].loc[ dict_of_stocks_and_dfs['ph'].date.isin(dict_of_stocks_and_dfs['emr'].date), :]"
   ]
  },
  {
   "cell_type": "code",
   "execution_count": 426,
   "metadata": {},
   "outputs": [
    {
     "data": {
      "text/plain": [
       "2629.342599254268"
      ]
     },
     "execution_count": 426,
     "metadata": {},
     "output_type": "execute_result"
    }
   ],
   "source": [
    "np.var(first_stock_df.close)"
   ]
  },
  {
   "cell_type": "code",
   "execution_count": 427,
   "metadata": {},
   "outputs": [
    {
     "data": {
      "text/html": [
       "<div>\n",
       "<style scoped>\n",
       "    .dataframe tbody tr th:only-of-type {\n",
       "        vertical-align: middle;\n",
       "    }\n",
       "\n",
       "    .dataframe tbody tr th {\n",
       "        vertical-align: top;\n",
       "    }\n",
       "\n",
       "    .dataframe thead th {\n",
       "        text-align: right;\n",
       "    }\n",
       "</style>\n",
       "<table border=\"1\" class=\"dataframe\">\n",
       "  <thead>\n",
       "    <tr style=\"text-align: right;\">\n",
       "      <th></th>\n",
       "      <th>date</th>\n",
       "      <th>open</th>\n",
       "      <th>high</th>\n",
       "      <th>low</th>\n",
       "      <th>close</th>\n",
       "      <th>volume</th>\n",
       "    </tr>\n",
       "  </thead>\n",
       "  <tbody>\n",
       "  </tbody>\n",
       "</table>\n",
       "</div>"
      ],
      "text/plain": [
       "Empty DataFrame\n",
       "Columns: [date, open, high, low, close, volume]\n",
       "Index: []"
      ]
     },
     "execution_count": 427,
     "metadata": {},
     "output_type": "execute_result"
    }
   ],
   "source": [
    "dict_of_stocks_and_dfs['ph'][dict_of_stocks_and_dfs['ph'].date == '2017-01-02']"
   ]
  },
  {
   "cell_type": "code",
   "execution_count": 428,
   "metadata": {},
   "outputs": [
    {
     "data": {
      "text/html": [
       "<div>\n",
       "<style scoped>\n",
       "    .dataframe tbody tr th:only-of-type {\n",
       "        vertical-align: middle;\n",
       "    }\n",
       "\n",
       "    .dataframe tbody tr th {\n",
       "        vertical-align: top;\n",
       "    }\n",
       "\n",
       "    .dataframe thead th {\n",
       "        text-align: right;\n",
       "    }\n",
       "</style>\n",
       "<table border=\"1\" class=\"dataframe\">\n",
       "  <thead>\n",
       "    <tr style=\"text-align: right;\">\n",
       "      <th></th>\n",
       "      <th>date</th>\n",
       "      <th>open</th>\n",
       "      <th>high</th>\n",
       "      <th>low</th>\n",
       "      <th>close</th>\n",
       "      <th>volume</th>\n",
       "    </tr>\n",
       "  </thead>\n",
       "  <tbody>\n",
       "    <tr>\n",
       "      <th>0</th>\n",
       "      <td>2017-01-03</td>\n",
       "      <td>142.2</td>\n",
       "      <td>144.25</td>\n",
       "      <td>140.83</td>\n",
       "      <td>142.55</td>\n",
       "      <td>1115090</td>\n",
       "    </tr>\n",
       "  </tbody>\n",
       "</table>\n",
       "</div>"
      ],
      "text/plain": [
       "         date   open    high     low   close   volume\n",
       "0  2017-01-03  142.2  144.25  140.83  142.55  1115090"
      ]
     },
     "execution_count": 428,
     "metadata": {},
     "output_type": "execute_result"
    }
   ],
   "source": [
    "dict_of_stocks_and_dfs['ph'][dict_of_stocks_and_dfs['ph'].date == '2017-01-03']"
   ]
  },
  {
   "cell_type": "code",
   "execution_count": 429,
   "metadata": {},
   "outputs": [
    {
     "data": {
      "text/html": [
       "<div>\n",
       "<style scoped>\n",
       "    .dataframe tbody tr th:only-of-type {\n",
       "        vertical-align: middle;\n",
       "    }\n",
       "\n",
       "    .dataframe tbody tr th {\n",
       "        vertical-align: top;\n",
       "    }\n",
       "\n",
       "    .dataframe thead th {\n",
       "        text-align: right;\n",
       "    }\n",
       "</style>\n",
       "<table border=\"1\" class=\"dataframe\">\n",
       "  <thead>\n",
       "    <tr style=\"text-align: right;\">\n",
       "      <th></th>\n",
       "      <th>date</th>\n",
       "      <th>open</th>\n",
       "      <th>high</th>\n",
       "      <th>low</th>\n",
       "      <th>close</th>\n",
       "      <th>volume</th>\n",
       "    </tr>\n",
       "  </thead>\n",
       "  <tbody>\n",
       "    <tr>\n",
       "      <th>1</th>\n",
       "      <td>2017-01-04</td>\n",
       "      <td>142.5</td>\n",
       "      <td>143.2</td>\n",
       "      <td>141.9</td>\n",
       "      <td>142.64</td>\n",
       "      <td>637928</td>\n",
       "    </tr>\n",
       "  </tbody>\n",
       "</table>\n",
       "</div>"
      ],
      "text/plain": [
       "         date   open   high    low   close  volume\n",
       "1  2017-01-04  142.5  143.2  141.9  142.64  637928"
      ]
     },
     "execution_count": 429,
     "metadata": {},
     "output_type": "execute_result"
    }
   ],
   "source": [
    "dict_of_stocks_and_dfs['ph'][dict_of_stocks_and_dfs['ph'].date == '2017-01-04']"
   ]
  },
  {
   "cell_type": "code",
   "execution_count": 430,
   "metadata": {},
   "outputs": [
    {
     "data": {
      "text/html": [
       "<div>\n",
       "<style scoped>\n",
       "    .dataframe tbody tr th:only-of-type {\n",
       "        vertical-align: middle;\n",
       "    }\n",
       "\n",
       "    .dataframe tbody tr th {\n",
       "        vertical-align: top;\n",
       "    }\n",
       "\n",
       "    .dataframe thead th {\n",
       "        text-align: right;\n",
       "    }\n",
       "</style>\n",
       "<table border=\"1\" class=\"dataframe\">\n",
       "  <thead>\n",
       "    <tr style=\"text-align: right;\">\n",
       "      <th></th>\n",
       "      <th>date</th>\n",
       "      <th>open</th>\n",
       "      <th>high</th>\n",
       "      <th>low</th>\n",
       "      <th>close</th>\n",
       "      <th>volume</th>\n",
       "    </tr>\n",
       "  </thead>\n",
       "  <tbody>\n",
       "    <tr>\n",
       "      <th>2</th>\n",
       "      <td>2017-01-05</td>\n",
       "      <td>142.35</td>\n",
       "      <td>142.67</td>\n",
       "      <td>139.92</td>\n",
       "      <td>141.37</td>\n",
       "      <td>557915</td>\n",
       "    </tr>\n",
       "  </tbody>\n",
       "</table>\n",
       "</div>"
      ],
      "text/plain": [
       "         date    open    high     low   close  volume\n",
       "2  2017-01-05  142.35  142.67  139.92  141.37  557915"
      ]
     },
     "execution_count": 430,
     "metadata": {},
     "output_type": "execute_result"
    }
   ],
   "source": [
    "dict_of_stocks_and_dfs['ph'][dict_of_stocks_and_dfs['ph'].date == '2017-01-05']"
   ]
  },
  {
   "cell_type": "code",
   "execution_count": 431,
   "metadata": {},
   "outputs": [
    {
     "data": {
      "text/html": [
       "<div>\n",
       "<style scoped>\n",
       "    .dataframe tbody tr th:only-of-type {\n",
       "        vertical-align: middle;\n",
       "    }\n",
       "\n",
       "    .dataframe tbody tr th {\n",
       "        vertical-align: top;\n",
       "    }\n",
       "\n",
       "    .dataframe thead th {\n",
       "        text-align: right;\n",
       "    }\n",
       "</style>\n",
       "<table border=\"1\" class=\"dataframe\">\n",
       "  <thead>\n",
       "    <tr style=\"text-align: right;\">\n",
       "      <th></th>\n",
       "      <th>date</th>\n",
       "      <th>open</th>\n",
       "      <th>high</th>\n",
       "      <th>low</th>\n",
       "      <th>close</th>\n",
       "      <th>volume</th>\n",
       "    </tr>\n",
       "  </thead>\n",
       "  <tbody>\n",
       "    <tr>\n",
       "      <th>3</th>\n",
       "      <td>2017-01-06</td>\n",
       "      <td>141.91</td>\n",
       "      <td>142.4</td>\n",
       "      <td>141.06</td>\n",
       "      <td>141.49</td>\n",
       "      <td>727481</td>\n",
       "    </tr>\n",
       "  </tbody>\n",
       "</table>\n",
       "</div>"
      ],
      "text/plain": [
       "         date    open   high     low   close  volume\n",
       "3  2017-01-06  141.91  142.4  141.06  141.49  727481"
      ]
     },
     "execution_count": 431,
     "metadata": {},
     "output_type": "execute_result"
    }
   ],
   "source": [
    "dict_of_stocks_and_dfs['ph'][dict_of_stocks_and_dfs['ph'].date == '2017-01-06']"
   ]
  },
  {
   "cell_type": "code",
   "execution_count": 432,
   "metadata": {},
   "outputs": [
    {
     "data": {
      "text/html": [
       "<div>\n",
       "<style scoped>\n",
       "    .dataframe tbody tr th:only-of-type {\n",
       "        vertical-align: middle;\n",
       "    }\n",
       "\n",
       "    .dataframe tbody tr th {\n",
       "        vertical-align: top;\n",
       "    }\n",
       "\n",
       "    .dataframe thead th {\n",
       "        text-align: right;\n",
       "    }\n",
       "</style>\n",
       "<table border=\"1\" class=\"dataframe\">\n",
       "  <thead>\n",
       "    <tr style=\"text-align: right;\">\n",
       "      <th></th>\n",
       "      <th>date</th>\n",
       "      <th>open</th>\n",
       "      <th>high</th>\n",
       "      <th>low</th>\n",
       "      <th>close</th>\n",
       "      <th>volume</th>\n",
       "    </tr>\n",
       "  </thead>\n",
       "  <tbody>\n",
       "    <tr>\n",
       "      <th>255</th>\n",
       "      <td>2018-01-08</td>\n",
       "      <td>203.81</td>\n",
       "      <td>206.41</td>\n",
       "      <td>203.67</td>\n",
       "      <td>205.55</td>\n",
       "      <td>974719</td>\n",
       "    </tr>\n",
       "  </tbody>\n",
       "</table>\n",
       "</div>"
      ],
      "text/plain": [
       "           date    open    high     low   close  volume\n",
       "255  2018-01-08  203.81  206.41  203.67  205.55  974719"
      ]
     },
     "execution_count": 432,
     "metadata": {},
     "output_type": "execute_result"
    }
   ],
   "source": [
    "dict_of_stocks_and_dfs['ph'][dict_of_stocks_and_dfs['ph'].date == '2018-01-08']"
   ]
  },
  {
   "cell_type": "code",
   "execution_count": 433,
   "metadata": {},
   "outputs": [
    {
     "ename": "SyntaxError",
     "evalue": "invalid token (<ipython-input-433-4d9b7842368f>, line 1)",
     "output_type": "error",
     "traceback": [
      "\u001b[0;36m  File \u001b[0;32m\"<ipython-input-433-4d9b7842368f>\"\u001b[0;36m, line \u001b[0;32m1\u001b[0m\n\u001b[0;31m    2017-01-04\u001b[0m\n\u001b[0m          ^\u001b[0m\n\u001b[0;31mSyntaxError\u001b[0m\u001b[0;31m:\u001b[0m invalid token\n"
     ]
    }
   ],
   "source": [
    "2017-01-04"
   ]
  },
  {
   "cell_type": "code",
   "execution_count": 434,
   "metadata": {},
   "outputs": [],
   "source": [
    "\n",
    "# here the date is not the index, yet\n",
    "first_stock_df = dict_of_stocks_and_dfs['ph'].loc[ dict_of_stocks_and_dfs['ph'].date.isin(dict_of_stocks_and_dfs['emr'].date), :]\n",
    "#  filter second df by the dates in first\n",
    "\n",
    "# here the date is not the index, yet\n",
    "second_stock_df = dict_of_stocks_and_dfs['emr'].loc[ dict_of_stocks_and_dfs['emr'].date.isin(dict_of_stocks_and_dfs['ph'].date), :]"
   ]
  },
  {
   "cell_type": "markdown",
   "metadata": {},
   "source": [
    "## Set the date as the index and sort"
   ]
  },
  {
   "cell_type": "code",
   "execution_count": 435,
   "metadata": {},
   "outputs": [],
   "source": [
    "first_stock_df = first_stock_df.sort_values('date')\n",
    "second_stock_df = second_stock_df.sort_values('date')\n",
    "\n",
    "first_stock_df = first_stock_df.set_index('date')\n",
    "second_stock_df = second_stock_df.set_index('date')"
   ]
  },
  {
   "cell_type": "code",
   "execution_count": null,
   "metadata": {},
   "outputs": [],
   "source": []
  },
  {
   "cell_type": "code",
   "execution_count": 762,
   "metadata": {},
   "outputs": [
    {
     "data": {
      "text/plain": [
       "date\n",
       "1985-07-01              NaN\n",
       "1985-07-02              NaN\n",
       "1985-07-03              NaN\n",
       "1985-07-05              NaN\n",
       "1985-07-08              NaN\n",
       "1985-07-09              NaN\n",
       "1985-07-10     95419.697574\n",
       "1985-07-11     93678.013509\n",
       "1985-07-12    217940.467100\n",
       "1985-07-15    232513.207094\n",
       "Name: volume, dtype: float64"
      ]
     },
     "execution_count": 762,
     "metadata": {},
     "output_type": "execute_result"
    }
   ],
   "source": [
    "#pd.DataFrame(\n",
    "first_stock_df.volume.rolling(7).std()[:10] # .fillna(method='backfill').astype(int))"
   ]
  },
  {
   "cell_type": "code",
   "execution_count": null,
   "metadata": {},
   "outputs": [],
   "source": []
  },
  {
   "cell_type": "code",
   "execution_count": 541,
   "metadata": {},
   "outputs": [],
   "source": [
    "corr_df = pd.DataFrame(first_stock_df.close.rolling(7).corr(second_stock_df.close)).fillna(method='backfill').rename({'close': 'rolling_corr'},axis=1)"
   ]
  },
  {
   "cell_type": "code",
   "execution_count": 551,
   "metadata": {},
   "outputs": [
    {
     "data": {
      "text/html": [
       "<div>\n",
       "<style scoped>\n",
       "    .dataframe tbody tr th:only-of-type {\n",
       "        vertical-align: middle;\n",
       "    }\n",
       "\n",
       "    .dataframe tbody tr th {\n",
       "        vertical-align: top;\n",
       "    }\n",
       "\n",
       "    .dataframe thead th {\n",
       "        text-align: right;\n",
       "    }\n",
       "</style>\n",
       "<table border=\"1\" class=\"dataframe\">\n",
       "  <thead>\n",
       "    <tr style=\"text-align: right;\">\n",
       "      <th></th>\n",
       "      <th>rolling_corr</th>\n",
       "    </tr>\n",
       "    <tr>\n",
       "      <th>date</th>\n",
       "      <th></th>\n",
       "    </tr>\n",
       "  </thead>\n",
       "  <tbody>\n",
       "    <tr>\n",
       "      <th>1985-07-01</th>\n",
       "      <td>0.770455</td>\n",
       "    </tr>\n",
       "    <tr>\n",
       "      <th>1985-07-02</th>\n",
       "      <td>0.770455</td>\n",
       "    </tr>\n",
       "    <tr>\n",
       "      <th>1985-07-03</th>\n",
       "      <td>0.770455</td>\n",
       "    </tr>\n",
       "    <tr>\n",
       "      <th>1985-07-05</th>\n",
       "      <td>0.770455</td>\n",
       "    </tr>\n",
       "    <tr>\n",
       "      <th>1985-07-08</th>\n",
       "      <td>0.770455</td>\n",
       "    </tr>\n",
       "    <tr>\n",
       "      <th>...</th>\n",
       "      <td>...</td>\n",
       "    </tr>\n",
       "    <tr>\n",
       "      <th>2020-04-13</th>\n",
       "      <td>0.971589</td>\n",
       "    </tr>\n",
       "    <tr>\n",
       "      <th>2020-04-14</th>\n",
       "      <td>0.951834</td>\n",
       "    </tr>\n",
       "    <tr>\n",
       "      <th>2020-04-15</th>\n",
       "      <td>0.819152</td>\n",
       "    </tr>\n",
       "    <tr>\n",
       "      <th>2020-04-16</th>\n",
       "      <td>0.890888</td>\n",
       "    </tr>\n",
       "    <tr>\n",
       "      <th>2020-04-17</th>\n",
       "      <td>0.935726</td>\n",
       "    </tr>\n",
       "  </tbody>\n",
       "</table>\n",
       "<p>8770 rows × 1 columns</p>\n",
       "</div>"
      ],
      "text/plain": [
       "            rolling_corr\n",
       "date                    \n",
       "1985-07-01      0.770455\n",
       "1985-07-02      0.770455\n",
       "1985-07-03      0.770455\n",
       "1985-07-05      0.770455\n",
       "1985-07-08      0.770455\n",
       "...                  ...\n",
       "2020-04-13      0.971589\n",
       "2020-04-14      0.951834\n",
       "2020-04-15      0.819152\n",
       "2020-04-16      0.890888\n",
       "2020-04-17      0.935726\n",
       "\n",
       "[8770 rows x 1 columns]"
      ]
     },
     "execution_count": 551,
     "metadata": {},
     "output_type": "execute_result"
    }
   ],
   "source": [
    "corr_df"
   ]
  },
  {
   "cell_type": "code",
   "execution_count": 436,
   "metadata": {},
   "outputs": [
    {
     "data": {
      "text/plain": [
       "'2020-04-17'"
      ]
     },
     "execution_count": 436,
     "metadata": {},
     "output_type": "execute_result"
    }
   ],
   "source": [
    "first_stock_df.index.max()"
   ]
  },
  {
   "cell_type": "code",
   "execution_count": 437,
   "metadata": {},
   "outputs": [
    {
     "data": {
      "text/plain": [
       "'2020-04-17'"
      ]
     },
     "execution_count": 437,
     "metadata": {},
     "output_type": "execute_result"
    }
   ],
   "source": [
    "second_stock_df.index.max()"
   ]
  },
  {
   "cell_type": "code",
   "execution_count": 438,
   "metadata": {},
   "outputs": [
    {
     "data": {
      "text/plain": [
       "array([[1.        , 0.95325325],\n",
       "       [0.95325325, 1.        ]])"
      ]
     },
     "execution_count": 438,
     "metadata": {},
     "output_type": "execute_result"
    }
   ],
   "source": [
    "np.corrcoef(first_stock_df.close, second_stock_df.close) # all time corrcoef"
   ]
  },
  {
   "cell_type": "code",
   "execution_count": 439,
   "metadata": {},
   "outputs": [
    {
     "data": {
      "text/plain": [
       "<matplotlib.axes._subplots.AxesSubplot at 0x13937b908>"
      ]
     },
     "execution_count": 439,
     "metadata": {},
     "output_type": "execute_result"
    },
    {
     "data": {
      "image/png": "[encoded data removed]",
      "text/plain": [
       "<Figure size 432x288 with 1 Axes>"
      ]
     },
     "metadata": {
      "needs_background": "light"
     },
     "output_type": "display_data"
    }
   ],
   "source": [
    "\n",
    "ax = first_stock_df.plot(y='close')\n",
    "second_stock_df.plot(y='close', color='red', ax=ax)"
   ]
  },
  {
   "cell_type": "code",
   "execution_count": 440,
   "metadata": {},
   "outputs": [
    {
     "name": "stdout",
     "output_type": "stream",
     "text": [
      "Idx 0 out of 8770\n",
      "Idx 100 out of 8770\n",
      "Idx 200 out of 8770\n",
      "Idx 300 out of 8770\n",
      "Idx 400 out of 8770\n",
      "Idx 500 out of 8770\n",
      "Idx 600 out of 8770\n",
      "Idx 700 out of 8770\n",
      "Idx 800 out of 8770\n",
      "Idx 900 out of 8770\n",
      "Idx 1000 out of 8770\n",
      "Idx 1100 out of 8770\n",
      "Idx 1200 out of 8770\n",
      "Idx 1300 out of 8770\n",
      "Idx 1400 out of 8770\n",
      "Idx 1500 out of 8770\n",
      "Idx 1600 out of 8770\n",
      "Idx 1700 out of 8770\n",
      "Idx 1800 out of 8770\n",
      "Idx 1900 out of 8770\n",
      "Idx 2000 out of 8770\n",
      "Idx 2100 out of 8770\n",
      "Idx 2200 out of 8770\n",
      "Idx 2300 out of 8770\n",
      "Idx 2400 out of 8770\n",
      "Idx 2500 out of 8770\n",
      "Idx 2600 out of 8770\n",
      "Idx 2700 out of 8770\n",
      "Idx 2800 out of 8770\n",
      "Idx 2900 out of 8770\n",
      "Idx 3000 out of 8770\n",
      "Idx 3100 out of 8770\n",
      "Idx 3200 out of 8770\n",
      "Idx 3300 out of 8770\n",
      "Idx 3400 out of 8770\n",
      "Idx 3500 out of 8770\n",
      "Idx 3600 out of 8770\n",
      "Idx 3700 out of 8770\n",
      "Idx 3800 out of 8770\n",
      "Idx 3900 out of 8770\n",
      "Idx 4000 out of 8770\n",
      "Idx 4100 out of 8770\n",
      "Idx 4200 out of 8770\n",
      "Idx 4300 out of 8770\n",
      "Idx 4400 out of 8770\n",
      "Idx 4500 out of 8770\n",
      "Idx 4600 out of 8770\n",
      "Idx 4700 out of 8770\n",
      "Idx 4800 out of 8770\n",
      "Idx 4900 out of 8770\n",
      "Idx 5000 out of 8770\n",
      "Idx 5100 out of 8770\n",
      "Idx 5200 out of 8770\n",
      "Idx 5300 out of 8770\n",
      "Idx 5400 out of 8770\n",
      "Idx 5500 out of 8770\n",
      "Idx 5600 out of 8770\n",
      "Idx 5700 out of 8770\n",
      "Idx 5800 out of 8770\n",
      "Idx 5900 out of 8770\n",
      "Idx 6000 out of 8770\n",
      "Idx 6100 out of 8770\n",
      "Idx 6200 out of 8770\n",
      "Idx 6300 out of 8770\n",
      "Idx 6400 out of 8770\n",
      "Idx 6500 out of 8770\n",
      "Idx 6600 out of 8770\n",
      "Idx 6700 out of 8770\n",
      "Idx 6800 out of 8770\n",
      "Idx 6900 out of 8770\n",
      "Idx 7000 out of 8770\n",
      "Idx 7100 out of 8770\n",
      "Idx 7200 out of 8770\n",
      "Idx 7300 out of 8770\n",
      "Idx 7400 out of 8770\n",
      "Idx 7500 out of 8770\n",
      "Idx 7600 out of 8770\n",
      "Idx 7700 out of 8770\n",
      "Idx 7800 out of 8770\n",
      "Idx 7900 out of 8770\n",
      "Idx 8000 out of 8770\n",
      "Idx 8100 out of 8770\n",
      "Idx 8200 out of 8770\n",
      "Idx 8300 out of 8770\n",
      "Idx 8400 out of 8770\n",
      "Idx 8500 out of 8770\n",
      "Idx 8600 out of 8770\n",
      "Idx 8700 out of 8770\n"
     ]
    },
    {
     "name": "stderr",
     "output_type": "stream",
     "text": [
      "/Users/jonathanhilgart/Library/Caches/pypoetry/virtualenvs/daily-trading-nJ43NNNI-py3.7/lib/python3.7/site-packages/numpy/lib/function_base.py:2526: RuntimeWarning: Degrees of freedom <= 0 for slice\n",
      "  c = cov(x, y, rowvar)\n",
      "/Users/jonathanhilgart/Library/Caches/pypoetry/virtualenvs/daily-trading-nJ43NNNI-py3.7/lib/python3.7/site-packages/numpy/lib/function_base.py:2455: RuntimeWarning: divide by zero encountered in true_divide\n",
      "  c *= np.true_divide(1, fact)\n"
     ]
    }
   ],
   "source": [
    "n_rows = len(first_stock_df)\n",
    "n_days_stride = 365\n",
    "\n",
    "previous_row = 0\n",
    "c = 0\n",
    "\n",
    "correlation_per_time_period = defaultdict(list)\n",
    "for day_window in range(n_rows):\n",
    "    \n",
    "    if day_window % 100 == 0:\n",
    "        print(f\"Idx {day_window} out of {n_rows}\")\n",
    "    first_stock= first_stock_df.iloc[previous_row:day_window + n_days_stride, :]\n",
    "    second_stock = second_stock_df.iloc[previous_row:day_window + n_days_stride, :]\n",
    "#     print(f\"Correcoef for {first_stock.index.min()} to {second_stock.index.max()}\")\n",
    "    correlation = np.corrcoef(first_stock.close, second_stock.close)[0,1]\n",
    "\n",
    "#     print(correlation) \n",
    "    \n",
    "    correlation_per_time_period['date'].append(first_stock.index.min())\n",
    "    correlation_per_time_period['correlation'].append(correlation)\n",
    "    \n",
    "    previous_row+= 1\n",
    "\n",
    "    \n",
    "    "
   ]
  },
  {
   "cell_type": "code",
   "execution_count": 443,
   "metadata": {},
   "outputs": [
    {
     "data": {
      "text/html": [
       "<div>\n",
       "<style scoped>\n",
       "    .dataframe tbody tr th:only-of-type {\n",
       "        vertical-align: middle;\n",
       "    }\n",
       "\n",
       "    .dataframe tbody tr th {\n",
       "        vertical-align: top;\n",
       "    }\n",
       "\n",
       "    .dataframe thead th {\n",
       "        text-align: right;\n",
       "    }\n",
       "</style>\n",
       "<table border=\"1\" class=\"dataframe\">\n",
       "  <thead>\n",
       "    <tr style=\"text-align: right;\">\n",
       "      <th></th>\n",
       "      <th>correlation</th>\n",
       "    </tr>\n",
       "    <tr>\n",
       "      <th>date</th>\n",
       "      <th></th>\n",
       "    </tr>\n",
       "  </thead>\n",
       "  <tbody>\n",
       "    <tr>\n",
       "      <th>1985-07-01</th>\n",
       "      <td>0.908957</td>\n",
       "    </tr>\n",
       "    <tr>\n",
       "      <th>1985-07-02</th>\n",
       "      <td>0.908344</td>\n",
       "    </tr>\n",
       "    <tr>\n",
       "      <th>1985-07-03</th>\n",
       "      <td>0.908069</td>\n",
       "    </tr>\n",
       "    <tr>\n",
       "      <th>1985-07-05</th>\n",
       "      <td>0.907743</td>\n",
       "    </tr>\n",
       "    <tr>\n",
       "      <th>1985-07-08</th>\n",
       "      <td>0.907586</td>\n",
       "    </tr>\n",
       "    <tr>\n",
       "      <th>...</th>\n",
       "      <td>...</td>\n",
       "    </tr>\n",
       "    <tr>\n",
       "      <th>2020-04-13</th>\n",
       "      <td>0.936544</td>\n",
       "    </tr>\n",
       "    <tr>\n",
       "      <th>2020-04-14</th>\n",
       "      <td>0.965812</td>\n",
       "    </tr>\n",
       "    <tr>\n",
       "      <th>2020-04-15</th>\n",
       "      <td>0.970104</td>\n",
       "    </tr>\n",
       "    <tr>\n",
       "      <th>2020-04-16</th>\n",
       "      <td>1.000000</td>\n",
       "    </tr>\n",
       "    <tr>\n",
       "      <th>2020-04-17</th>\n",
       "      <td>NaN</td>\n",
       "    </tr>\n",
       "  </tbody>\n",
       "</table>\n",
       "<p>8770 rows × 1 columns</p>\n",
       "</div>"
      ],
      "text/plain": [
       "            correlation\n",
       "date                   \n",
       "1985-07-01     0.908957\n",
       "1985-07-02     0.908344\n",
       "1985-07-03     0.908069\n",
       "1985-07-05     0.907743\n",
       "1985-07-08     0.907586\n",
       "...                 ...\n",
       "2020-04-13     0.936544\n",
       "2020-04-14     0.965812\n",
       "2020-04-15     0.970104\n",
       "2020-04-16     1.000000\n",
       "2020-04-17          NaN\n",
       "\n",
       "[8770 rows x 1 columns]"
      ]
     },
     "execution_count": 443,
     "metadata": {},
     "output_type": "execute_result"
    }
   ],
   "source": [
    "correlation_df = pd.DataFrame(correlation_per_time_period)\n",
    "correlation_df.set_index('date')"
   ]
  },
  {
   "cell_type": "code",
   "execution_count": 444,
   "metadata": {},
   "outputs": [
    {
     "name": "stdout",
     "output_type": "stream",
     "text": [
      "<class 'pandas.core.frame.DataFrame'>\n",
      "RangeIndex: 8770 entries, 0 to 8769\n",
      "Data columns (total 2 columns):\n",
      " #   Column       Non-Null Count  Dtype  \n",
      "---  ------       --------------  -----  \n",
      " 0   date         8770 non-null   object \n",
      " 1   correlation  8769 non-null   float64\n",
      "dtypes: float64(1), object(1)\n",
      "memory usage: 137.2+ KB\n"
     ]
    }
   ],
   "source": [
    "correlation_df.info()"
   ]
  },
  {
   "cell_type": "code",
   "execution_count": 445,
   "metadata": {},
   "outputs": [
    {
     "data": {
      "text/plain": [
       "<matplotlib.axes._subplots.AxesSubplot at 0x13938fda0>"
      ]
     },
     "execution_count": 445,
     "metadata": {},
     "output_type": "execute_result"
    },
    {
     "data": {
      "image/png": "[encoded data removed]",
      "text/plain": [
       "<Figure size 2160x360 with 1 Axes>"
      ]
     },
     "metadata": {
      "needs_background": "light"
     },
     "output_type": "display_data"
    }
   ],
   "source": [
    "correlation_df.set_index('date').plot(figsize=(30,5), title='Rolling 365-day correlation between ph and emr')"
   ]
  },
  {
   "cell_type": "code",
   "execution_count": 446,
   "metadata": {},
   "outputs": [
    {
     "data": {
      "text/plain": [
       "'2020-04-17'"
      ]
     },
     "execution_count": 446,
     "metadata": {},
     "output_type": "execute_result"
    }
   ],
   "source": [
    "correlation_df.date.max()"
   ]
  },
  {
   "cell_type": "code",
   "execution_count": 447,
   "metadata": {},
   "outputs": [
    {
     "data": {
      "text/html": [
       "<div>\n",
       "<style scoped>\n",
       "    .dataframe tbody tr th:only-of-type {\n",
       "        vertical-align: middle;\n",
       "    }\n",
       "\n",
       "    .dataframe tbody tr th {\n",
       "        vertical-align: top;\n",
       "    }\n",
       "\n",
       "    .dataframe thead th {\n",
       "        text-align: right;\n",
       "    }\n",
       "</style>\n",
       "<table border=\"1\" class=\"dataframe\">\n",
       "  <thead>\n",
       "    <tr style=\"text-align: right;\">\n",
       "      <th></th>\n",
       "      <th>correlation</th>\n",
       "    </tr>\n",
       "  </thead>\n",
       "  <tbody>\n",
       "    <tr>\n",
       "      <th>0</th>\n",
       "      <td>NaN</td>\n",
       "    </tr>\n",
       "    <tr>\n",
       "      <th>1</th>\n",
       "      <td>NaN</td>\n",
       "    </tr>\n",
       "    <tr>\n",
       "      <th>2</th>\n",
       "      <td>NaN</td>\n",
       "    </tr>\n",
       "    <tr>\n",
       "      <th>3</th>\n",
       "      <td>NaN</td>\n",
       "    </tr>\n",
       "    <tr>\n",
       "      <th>4</th>\n",
       "      <td>NaN</td>\n",
       "    </tr>\n",
       "    <tr>\n",
       "      <th>...</th>\n",
       "      <td>...</td>\n",
       "    </tr>\n",
       "    <tr>\n",
       "      <th>8765</th>\n",
       "      <td>6.469109</td>\n",
       "    </tr>\n",
       "    <tr>\n",
       "      <th>8766</th>\n",
       "      <td>6.508580</td>\n",
       "    </tr>\n",
       "    <tr>\n",
       "      <th>8767</th>\n",
       "      <td>6.539512</td>\n",
       "    </tr>\n",
       "    <tr>\n",
       "      <th>8768</th>\n",
       "      <td>6.653166</td>\n",
       "    </tr>\n",
       "    <tr>\n",
       "      <th>8769</th>\n",
       "      <td>NaN</td>\n",
       "    </tr>\n",
       "  </tbody>\n",
       "</table>\n",
       "<p>8770 rows × 1 columns</p>\n",
       "</div>"
      ],
      "text/plain": [
       "      correlation\n",
       "0             NaN\n",
       "1             NaN\n",
       "2             NaN\n",
       "3             NaN\n",
       "4             NaN\n",
       "...           ...\n",
       "8765     6.469109\n",
       "8766     6.508580\n",
       "8767     6.539512\n",
       "8768     6.653166\n",
       "8769          NaN\n",
       "\n",
       "[8770 rows x 1 columns]"
      ]
     },
     "execution_count": 447,
     "metadata": {},
     "output_type": "execute_result"
    }
   ],
   "source": [
    "correlation_df.rolling(7).sum()"
   ]
  },
  {
   "cell_type": "code",
   "execution_count": 448,
   "metadata": {},
   "outputs": [
    {
     "data": {
      "text/html": [
       "<div>\n",
       "<style scoped>\n",
       "    .dataframe tbody tr th:only-of-type {\n",
       "        vertical-align: middle;\n",
       "    }\n",
       "\n",
       "    .dataframe tbody tr th {\n",
       "        vertical-align: top;\n",
       "    }\n",
       "\n",
       "    .dataframe thead th {\n",
       "        text-align: right;\n",
       "    }\n",
       "</style>\n",
       "<table border=\"1\" class=\"dataframe\">\n",
       "  <thead>\n",
       "    <tr style=\"text-align: right;\">\n",
       "      <th></th>\n",
       "      <th>date</th>\n",
       "      <th>correlation</th>\n",
       "    </tr>\n",
       "  </thead>\n",
       "  <tbody>\n",
       "    <tr>\n",
       "      <th>0</th>\n",
       "      <td>1985-07-01</td>\n",
       "      <td>0.908957</td>\n",
       "    </tr>\n",
       "    <tr>\n",
       "      <th>1</th>\n",
       "      <td>1985-07-02</td>\n",
       "      <td>0.908344</td>\n",
       "    </tr>\n",
       "    <tr>\n",
       "      <th>2</th>\n",
       "      <td>1985-07-03</td>\n",
       "      <td>0.908069</td>\n",
       "    </tr>\n",
       "    <tr>\n",
       "      <th>3</th>\n",
       "      <td>1985-07-05</td>\n",
       "      <td>0.907743</td>\n",
       "    </tr>\n",
       "    <tr>\n",
       "      <th>4</th>\n",
       "      <td>1985-07-08</td>\n",
       "      <td>0.907586</td>\n",
       "    </tr>\n",
       "    <tr>\n",
       "      <th>...</th>\n",
       "      <td>...</td>\n",
       "      <td>...</td>\n",
       "    </tr>\n",
       "    <tr>\n",
       "      <th>8765</th>\n",
       "      <td>2020-04-13</td>\n",
       "      <td>0.936544</td>\n",
       "    </tr>\n",
       "    <tr>\n",
       "      <th>8766</th>\n",
       "      <td>2020-04-14</td>\n",
       "      <td>0.965812</td>\n",
       "    </tr>\n",
       "    <tr>\n",
       "      <th>8767</th>\n",
       "      <td>2020-04-15</td>\n",
       "      <td>0.970104</td>\n",
       "    </tr>\n",
       "    <tr>\n",
       "      <th>8768</th>\n",
       "      <td>2020-04-16</td>\n",
       "      <td>1.000000</td>\n",
       "    </tr>\n",
       "    <tr>\n",
       "      <th>8769</th>\n",
       "      <td>2020-04-17</td>\n",
       "      <td>NaN</td>\n",
       "    </tr>\n",
       "  </tbody>\n",
       "</table>\n",
       "<p>8770 rows × 2 columns</p>\n",
       "</div>"
      ],
      "text/plain": [
       "            date  correlation\n",
       "0     1985-07-01     0.908957\n",
       "1     1985-07-02     0.908344\n",
       "2     1985-07-03     0.908069\n",
       "3     1985-07-05     0.907743\n",
       "4     1985-07-08     0.907586\n",
       "...          ...          ...\n",
       "8765  2020-04-13     0.936544\n",
       "8766  2020-04-14     0.965812\n",
       "8767  2020-04-15     0.970104\n",
       "8768  2020-04-16     1.000000\n",
       "8769  2020-04-17          NaN\n",
       "\n",
       "[8770 rows x 2 columns]"
      ]
     },
     "execution_count": 448,
     "metadata": {},
     "output_type": "execute_result"
    }
   ],
   "source": [
    "correlation_df"
   ]
  },
  {
   "cell_type": "markdown",
   "metadata": {},
   "source": [
    "## Build a function to create correlation features for all pairs of stocks"
   ]
  },
  {
   "cell_type": "code",
   "execution_count": 1108,
   "metadata": {},
   "outputs": [],
   "source": [
    "def build_correlation_dfs(dict_of_stocks_and_dfs, n_day_rolling_features_list=[ 3, 6, 7, 8, 10], verbose=False):\n",
    "    \"\"\"\n",
    "    Create correlation + variance based  upon daily closing stock prices for given date ranges\n",
    "    \n",
    "    also include daily volume\n",
    "    \n",
    "    We are trying to  predict 7 day correaltion\n",
    "    \"\"\"\n",
    "\n",
    "    stock_features_dict = defaultdict(pd.DataFrame)\n",
    "    start_time = time.time()\n",
    "    \n",
    "    start = time.time()\n",
    "    n_stocks = len(dict_of_stocks_and_dfs.keys())\n",
    "    final_feature_df = create_date_dummy_df()\n",
    "    pairs_of_stocks = []\n",
    "    \n",
    "    for idx, first_stock_name in enumerate(dict_of_stocks_and_dfs.keys()):\n",
    "        print('')\n",
    "        print(f\"Finished {idx/n_stocks} pct of stocks\")\n",
    "        print('')\n",
    "        for second_idx, second_stock_name in enumerate(dict_of_stocks_and_dfs.keys()):\n",
    "            stock_pair = f\"{first_stock_name}_{second_stock_name}\"\n",
    "            \n",
    "            if (first_stock_name == second_stock_name) or ( stock_pair in pairs_of_stocks) :\n",
    "                continue\n",
    "            else:\n",
    "                pairs_of_stocks.append(stock_pair)\n",
    "            if verbose:\n",
    "                print('-------')\n",
    "                print(f\"{first_stock_name} & {second_stock_name}\")\n",
    "                print('-------')\n",
    "            \n",
    "            # here the date is not the index, yet\n",
    "            first_stock_df = dict_of_stocks_and_dfs[f\"{first_stock_name}\"].loc[ \n",
    "                dict_of_stocks_and_dfs[f\"{first_stock_name}\"].date.isin(dict_of_stocks_and_dfs[f\"{second_stock_name}\"].date), :]\n",
    "\n",
    "            #  filter second df by the dates in first\n",
    "\n",
    "            # here the date is not the index, yet\n",
    "            second_stock_df = dict_of_stocks_and_dfs[f\"{second_stock_name}\"].loc[ \n",
    "                dict_of_stocks_and_dfs[f\"{second_stock_name}\"].date.isin(dict_of_stocks_and_dfs[f\"{first_stock_name}\"].date), :]\n",
    "\n",
    "            # set the date as an index and sort by date\n",
    "            first_stock_df = first_stock_df.sort_values('date')\n",
    "            second_stock_df = second_stock_df.sort_values('date')\n",
    "\n",
    "            first_stock_df = first_stock_df.set_index('date')\n",
    "            second_stock_df = second_stock_df.set_index('date')\n",
    "            \n",
    "            all_features_df = pd.DataFrame()\n",
    "            for rolling_idx, rolling_day in enumerate(n_day_rolling_features_list):\n",
    "                features_df = create_correlation_and_variance_features(\n",
    "                    first_stock_df, second_stock_df, rolling_day, final_feature_df, \n",
    "                    first_stock_name=first_stock_name, second_stock_name=second_stock_name)\n",
    "                   \n",
    "                current_feature_cols = set(features_df.columns)\n",
    "                final_feature_cols = set(final_feature_df.columns)\n",
    "                \n",
    "                # as we go through different pairs will have multiple var / corr for the first stock\n",
    "                # pnc_bar calcualtes corr for pnr\n",
    "                #pnr_bat calculates corr for pnr\n",
    "                # don't want the same cols\n",
    "#                 if len(current_feature_cols.intersection(final_feature_cols)) > 0:\n",
    "#                     for overlapping_col in current_feature_cols.intersection(final_feature_cols):\n",
    "#                         features_df = features_df.drop(f\"{overlapping_col}\", axis=1)\n",
    "                \n",
    "                if (f\"{first_stock_name}_volume\" not in final_feature_df.columns) and (rolling_idx == 0):\n",
    "                    features_df[f\"{first_stock_name}_volume\"] = list(first_stock_df.volume)\n",
    "                \n",
    "                if (f\"{second_stock_name}_volume\" not in final_feature_df.columns) and (rolling_idx == 0):\n",
    "                    features_df[f\"{second_stock_name}_volume\"] = list(second_stock_df.volume)\n",
    "                    \n",
    "                if rolling_idx == 0: \n",
    "                    all_features_df = features_df\n",
    "                else:\n",
    "                    all_features_df = all_features_df.join(features_df, on='date', lsuffix='_left')\n",
    "                    \n",
    "            all_features_df.index = pd.to_datetime(all_features_df.index)\n",
    "            final_feature_df = final_feature_df.join(all_features_df, on='date')\n",
    "            if verbose:\n",
    "                end = time.time()\n",
    "                print(f\"Building all features took {(end-start)/60} minutes\")\n",
    "                start = time.time()\n",
    "\n",
    "    end_time = time.time()\n",
    "    print(f\"Total time {(end_time-start_time) / 60} minutes for {len(pairs_of_stocks)} pairs\")\n",
    "    final_feature_df = add_time_feature(final_feature_df)\n",
    "    return final_feature_df, pairs_of_stocks\n",
    "            \n",
    "        \n",
    "\n",
    "# Note: will eventuall need to add in 0s for stocks withour correlation data with other stocks due to date range"
   ]
  },
  {
   "cell_type": "code",
   "execution_count": 1109,
   "metadata": {},
   "outputs": [
    {
     "data": {
      "text/plain": [
       "{2, 3}"
      ]
     },
     "execution_count": 1109,
     "metadata": {},
     "output_type": "execute_result"
    }
   ],
   "source": [
    "set([1,2,3]).intersection(set([2,3,4]))"
   ]
  },
  {
   "cell_type": "code",
   "execution_count": 1110,
   "metadata": {},
   "outputs": [],
   "source": [
    "def create_date_dummy_df(start_date=datetime.datetime(1980,1,1), n_years=55):\n",
    "    \n",
    "    #  create dummy df with dates to join against\n",
    "    list_of_dates  = []\n",
    "    n_days = 365*n_years\n",
    "    start_date = datetime.datetime(1970,1,1)\n",
    "\n",
    "    for i in range(n_days):\n",
    "        list_of_dates.append(start_date + datetime.timedelta(i))\n",
    "    df_ = pd.DataFrame(list_of_dates, columns=['date'])\n",
    "    \n",
    "    df_.date_ =  pd.to_datetime(df_.date)\n",
    "    return df_.set_index('date')\n",
    "    "
   ]
  },
  {
   "cell_type": "code",
   "execution_count": 1111,
   "metadata": {},
   "outputs": [],
   "source": [
    "def add_time_feature(final_stock_df):\n",
    "    \n",
    "    days = [i.day for i in final_stock_df.index]\n",
    "    months = [i.month for i in final_stock_df.index]\n",
    "    quarters = [i.quarter for i in final_stock_df.index]\n",
    "    years = [i.year for i in final_stock_df.index]\n",
    "\n",
    "    final_stock_df['day'] = days\n",
    "    final_stock_df['month'] = months\n",
    "    final_stock_df['quarter'] = quarters\n",
    "    final_stock_df['year'] = years\n",
    "    \n",
    "    return final_stock_df"
   ]
  },
  {
   "cell_type": "code",
   "execution_count": 1112,
   "metadata": {},
   "outputs": [],
   "source": [
    "def create_correlation_and_variance_features(first_stock_df, second_stock_df, n_days_stride, final_stock_df, \n",
    "                                             first_stock_name=None, second_stock_name=None, verbose=False):\n",
    "    \"\"\"\n",
    "    n_days_stride: the  number of rolling days to calculate correlation for\n",
    "    \"\"\"\n",
    "    n_rows = len(first_stock_df)\n",
    "\n",
    "    previous_row = 0\n",
    "\n",
    "    features_per_time_period = defaultdict(list)\n",
    "    if verbose:\n",
    "        print(f\"Creating correlations + variance on close for {n_days_stride} days\")\n",
    "    \n",
    "    rolling_close_df = pd.DataFrame(first_stock_df.close.rolling(\n",
    "        n_days_stride).corr(second_stock_df.close)).rename(\n",
    "        {'close': f\"{first_stock_name}_{second_stock_name}_close_corr_rolling_{n_days_stride}_days\"},axis=1).fillna(method='backfill').round(6)\n",
    "\n",
    "    \n",
    "    # add cols\n",
    "    \n",
    "    current_feature_cols = list(final_stock_df.columns)\n",
    "    \n",
    "\n",
    "    # as we go through different pairs will have multiple var / corr for the first stock\n",
    "    # pnc_bar calcualtes corr for pnr\n",
    "    #pnr_bat calculates corr for pnr\n",
    "    # don't want the same cols\n",
    "    if f\"{first_stock_name}_close_std_rolling_{n_days_stride}_days\" not in current_feature_cols:\n",
    "        \n",
    "        rolling_close_std_first_stock =  first_stock_df.close.rolling(n_days_stride).std().fillna(method='backfill').round(6)\n",
    "        rolling_close_df[f\"{first_stock_name}_close_std_rolling_{n_days_stride}_days\"] = rolling_close_std_first_stock\n",
    "        \n",
    "    if f\"{second_stock_name}_close_std_rolling_{n_days_stride}_days\" not in current_feature_cols:\n",
    "        rolling_close_std_second_stock =  second_stock_df.close.rolling(n_days_stride).std().fillna(method='backfill').round( 6)\n",
    "        rolling_close_df[f\"{second_stock_name}_close_std_rolling_{n_days_stride}_days\"] = rolling_close_std_second_stock\n",
    "        \n",
    "    if f\"{first_stock_name}_volume_std_rolling_{n_days_stride}_days\" not in current_feature_cols:\n",
    "        rolling_volume_std_first_stock =  first_stock_df.volume.rolling(n_days_stride).std().fillna(method='backfill').round(6)\n",
    "        rolling_close_df[f\"{first_stock_name}_volume_std_rolling_{n_days_stride}_days\"] = rolling_volume_std_first_stock\n",
    "        \n",
    "    if f\"{second_stock_name}_volume_std_rolling_{n_days_stride}_days\" not in current_feature_cols:\n",
    "        rolling_volume_std_second_stock =  second_stock_df.volume.rolling(n_days_stride).std().fillna(method='backfill').round(6)\n",
    "        rolling_close_df[f\"{second_stock_name}_volume_std_rolling_{n_days_stride}_days\"] = rolling_volume_std_second_stock\n",
    "    \n",
    "    return rolling_close_df\n",
    "\n"
   ]
  },
  {
   "cell_type": "code",
   "execution_count": 1113,
   "metadata": {},
   "outputs": [
    {
     "name": "stderr",
     "output_type": "stream",
     "text": [
      "/Users/jonathanhilgart/Library/Caches/pypoetry/virtualenvs/daily-trading-nJ43NNNI-py3.7/lib/python3.7/site-packages/ipykernel_launcher.py:12: UserWarning: Pandas doesn't allow columns to be created via a new attribute name - see https://pandas.pydata.org/pandas-docs/stable/indexing.html#attribute-access\n",
      "  if sys.path[0] == '':\n"
     ]
    },
    {
     "name": "stdout",
     "output_type": "stream",
     "text": [
      "\n",
      "Finished 0.0 pct of stocks\n",
      "\n",
      "\n",
      "Finished 0.05 pct of stocks\n",
      "\n",
      "\n",
      "Finished 0.1 pct of stocks\n",
      "\n",
      "\n",
      "Finished 0.15 pct of stocks\n",
      "\n",
      "\n",
      "Finished 0.2 pct of stocks\n",
      "\n",
      "\n",
      "Finished 0.25 pct of stocks\n",
      "\n",
      "\n",
      "Finished 0.3 pct of stocks\n",
      "\n",
      "\n",
      "Finished 0.35 pct of stocks\n",
      "\n",
      "\n",
      "Finished 0.4 pct of stocks\n",
      "\n",
      "\n",
      "Finished 0.45 pct of stocks\n",
      "\n",
      "\n",
      "Finished 0.5 pct of stocks\n",
      "\n",
      "\n",
      "Finished 0.55 pct of stocks\n",
      "\n",
      "\n",
      "Finished 0.6 pct of stocks\n",
      "\n",
      "\n",
      "Finished 0.65 pct of stocks\n",
      "\n",
      "\n",
      "Finished 0.7 pct of stocks\n",
      "\n",
      "\n",
      "Finished 0.75 pct of stocks\n",
      "\n",
      "\n",
      "Finished 0.8 pct of stocks\n",
      "\n",
      "\n",
      "Finished 0.85 pct of stocks\n",
      "\n",
      "\n",
      "Finished 0.9 pct of stocks\n",
      "\n",
      "\n",
      "Finished 0.95 pct of stocks\n",
      "\n",
      "Total time 1.6907136162122092 minutes for 380 pairs\n"
     ]
    }
   ],
   "source": [
    "# 100 minutes for 20 stocks (20*20 = 400 pairs each pair takes .25 minutes)\n",
    "final_stock_df, pairs_of_stocks = build_correlation_dfs(dict_of_stocks_and_dfs)"
   ]
  },
  {
   "cell_type": "code",
   "execution_count": 1114,
   "metadata": {},
   "outputs": [
    {
     "data": {
      "text/html": [
       "<div>\n",
       "<style scoped>\n",
       "    .dataframe tbody tr th:only-of-type {\n",
       "        vertical-align: middle;\n",
       "    }\n",
       "\n",
       "    .dataframe tbody tr th {\n",
       "        vertical-align: top;\n",
       "    }\n",
       "\n",
       "    .dataframe thead th {\n",
       "        text-align: right;\n",
       "    }\n",
       "</style>\n",
       "<table border=\"1\" class=\"dataframe\">\n",
       "  <thead>\n",
       "    <tr style=\"text-align: right;\">\n",
       "      <th></th>\n",
       "      <th>pnr_bac_close_corr_rolling_3_days</th>\n",
       "      <th>pnr_close_std_rolling_3_days</th>\n",
       "      <th>bac_close_std_rolling_3_days</th>\n",
       "      <th>pnr_volume_std_rolling_3_days</th>\n",
       "      <th>bac_volume_std_rolling_3_days</th>\n",
       "      <th>pnr_volume</th>\n",
       "      <th>bac_volume</th>\n",
       "      <th>pnr_bac_close_corr_rolling_6_days</th>\n",
       "      <th>pnr_close_std_rolling_6_days</th>\n",
       "      <th>bac_close_std_rolling_6_days</th>\n",
       "      <th>...</th>\n",
       "      <th>so_eqix_close_corr_rolling_10_days</th>\n",
       "      <th>so_rost_close_corr_rolling_3_days</th>\n",
       "      <th>so_rost_close_corr_rolling_6_days</th>\n",
       "      <th>so_rost_close_corr_rolling_7_days</th>\n",
       "      <th>so_rost_close_corr_rolling_8_days</th>\n",
       "      <th>so_rost_close_corr_rolling_10_days</th>\n",
       "      <th>day</th>\n",
       "      <th>month</th>\n",
       "      <th>quarter</th>\n",
       "      <th>year</th>\n",
       "    </tr>\n",
       "    <tr>\n",
       "      <th>date</th>\n",
       "      <th></th>\n",
       "      <th></th>\n",
       "      <th></th>\n",
       "      <th></th>\n",
       "      <th></th>\n",
       "      <th></th>\n",
       "      <th></th>\n",
       "      <th></th>\n",
       "      <th></th>\n",
       "      <th></th>\n",
       "      <th></th>\n",
       "      <th></th>\n",
       "      <th></th>\n",
       "      <th></th>\n",
       "      <th></th>\n",
       "      <th></th>\n",
       "      <th></th>\n",
       "      <th></th>\n",
       "      <th></th>\n",
       "      <th></th>\n",
       "      <th></th>\n",
       "    </tr>\n",
       "  </thead>\n",
       "  <tbody>\n",
       "    <tr>\n",
       "      <th>2005-02-25</th>\n",
       "      <td>-0.978919</td>\n",
       "      <td>0.141000</td>\n",
       "      <td>0.206350</td>\n",
       "      <td>34297.951693</td>\n",
       "      <td>1.350538e+06</td>\n",
       "      <td>425379.0</td>\n",
       "      <td>8656470.0</td>\n",
       "      <td>-0.299410</td>\n",
       "      <td>0.324757</td>\n",
       "      <td>0.235476</td>\n",
       "      <td>...</td>\n",
       "      <td>0.622068</td>\n",
       "      <td>0.756800</td>\n",
       "      <td>0.695732</td>\n",
       "      <td>0.653203</td>\n",
       "      <td>0.612758</td>\n",
       "      <td>0.638917</td>\n",
       "      <td>25</td>\n",
       "      <td>2</td>\n",
       "      <td>1</td>\n",
       "      <td>2005</td>\n",
       "    </tr>\n",
       "    <tr>\n",
       "      <th>2005-02-28</th>\n",
       "      <td>-0.978919</td>\n",
       "      <td>0.141000</td>\n",
       "      <td>0.206350</td>\n",
       "      <td>34297.951693</td>\n",
       "      <td>1.350538e+06</td>\n",
       "      <td>489224.0</td>\n",
       "      <td>10653157.0</td>\n",
       "      <td>-0.299410</td>\n",
       "      <td>0.324757</td>\n",
       "      <td>0.235476</td>\n",
       "      <td>...</td>\n",
       "      <td>0.622068</td>\n",
       "      <td>0.747056</td>\n",
       "      <td>0.616683</td>\n",
       "      <td>0.582613</td>\n",
       "      <td>0.516252</td>\n",
       "      <td>0.461771</td>\n",
       "      <td>28</td>\n",
       "      <td>2</td>\n",
       "      <td>1</td>\n",
       "      <td>2005</td>\n",
       "    </tr>\n",
       "    <tr>\n",
       "      <th>2005-03-01</th>\n",
       "      <td>-0.978919</td>\n",
       "      <td>0.141000</td>\n",
       "      <td>0.206350</td>\n",
       "      <td>34297.951693</td>\n",
       "      <td>1.350538e+06</td>\n",
       "      <td>479025.0</td>\n",
       "      <td>11230182.0</td>\n",
       "      <td>-0.299410</td>\n",
       "      <td>0.324757</td>\n",
       "      <td>0.235476</td>\n",
       "      <td>...</td>\n",
       "      <td>0.622068</td>\n",
       "      <td>0.212150</td>\n",
       "      <td>0.873937</td>\n",
       "      <td>0.675900</td>\n",
       "      <td>0.566409</td>\n",
       "      <td>0.376416</td>\n",
       "      <td>1</td>\n",
       "      <td>3</td>\n",
       "      <td>1</td>\n",
       "      <td>2005</td>\n",
       "    </tr>\n",
       "    <tr>\n",
       "      <th>2005-03-02</th>\n",
       "      <td>-0.985118</td>\n",
       "      <td>0.160553</td>\n",
       "      <td>0.258003</td>\n",
       "      <td>15394.968236</td>\n",
       "      <td>4.720071e+05</td>\n",
       "      <td>458965.0</td>\n",
       "      <td>10294635.0</td>\n",
       "      <td>-0.299410</td>\n",
       "      <td>0.324757</td>\n",
       "      <td>0.235476</td>\n",
       "      <td>...</td>\n",
       "      <td>0.622068</td>\n",
       "      <td>0.742616</td>\n",
       "      <td>0.766851</td>\n",
       "      <td>0.848152</td>\n",
       "      <td>0.667500</td>\n",
       "      <td>0.359682</td>\n",
       "      <td>2</td>\n",
       "      <td>3</td>\n",
       "      <td>1</td>\n",
       "      <td>2005</td>\n",
       "    </tr>\n",
       "    <tr>\n",
       "      <th>2005-03-03</th>\n",
       "      <td>-0.998760</td>\n",
       "      <td>0.217682</td>\n",
       "      <td>0.359674</td>\n",
       "      <td>70107.715840</td>\n",
       "      <td>7.917529e+05</td>\n",
       "      <td>589176.0</td>\n",
       "      <td>9655981.0</td>\n",
       "      <td>-0.299410</td>\n",
       "      <td>0.324757</td>\n",
       "      <td>0.235476</td>\n",
       "      <td>...</td>\n",
       "      <td>0.622068</td>\n",
       "      <td>-0.955941</td>\n",
       "      <td>0.062286</td>\n",
       "      <td>0.353190</td>\n",
       "      <td>0.527597</td>\n",
       "      <td>0.222706</td>\n",
       "      <td>3</td>\n",
       "      <td>3</td>\n",
       "      <td>1</td>\n",
       "      <td>2005</td>\n",
       "    </tr>\n",
       "    <tr>\n",
       "      <th>...</th>\n",
       "      <td>...</td>\n",
       "      <td>...</td>\n",
       "      <td>...</td>\n",
       "      <td>...</td>\n",
       "      <td>...</td>\n",
       "      <td>...</td>\n",
       "      <td>...</td>\n",
       "      <td>...</td>\n",
       "      <td>...</td>\n",
       "      <td>...</td>\n",
       "      <td>...</td>\n",
       "      <td>...</td>\n",
       "      <td>...</td>\n",
       "      <td>...</td>\n",
       "      <td>...</td>\n",
       "      <td>...</td>\n",
       "      <td>...</td>\n",
       "      <td>...</td>\n",
       "      <td>...</td>\n",
       "      <td>...</td>\n",
       "      <td>...</td>\n",
       "    </tr>\n",
       "    <tr>\n",
       "      <th>2020-04-13</th>\n",
       "      <td>0.285322</td>\n",
       "      <td>0.757166</td>\n",
       "      <td>0.717937</td>\n",
       "      <td>302410.058942</td>\n",
       "      <td>2.497579e+07</td>\n",
       "      <td>806105.0</td>\n",
       "      <td>83164717.0</td>\n",
       "      <td>0.899761</td>\n",
       "      <td>1.619308</td>\n",
       "      <td>1.780286</td>\n",
       "      <td>...</td>\n",
       "      <td>0.892463</td>\n",
       "      <td>0.521586</td>\n",
       "      <td>0.921538</td>\n",
       "      <td>0.934788</td>\n",
       "      <td>0.897778</td>\n",
       "      <td>0.835256</td>\n",
       "      <td>13</td>\n",
       "      <td>4</td>\n",
       "      <td>2</td>\n",
       "      <td>2020</td>\n",
       "    </tr>\n",
       "    <tr>\n",
       "      <th>2020-04-14</th>\n",
       "      <td>0.744225</td>\n",
       "      <td>0.690869</td>\n",
       "      <td>0.605062</td>\n",
       "      <td>328987.136047</td>\n",
       "      <td>2.289724e+07</td>\n",
       "      <td>1355716.0</td>\n",
       "      <td>88991066.0</td>\n",
       "      <td>0.812464</td>\n",
       "      <td>0.809988</td>\n",
       "      <td>1.265155</td>\n",
       "      <td>...</td>\n",
       "      <td>0.917852</td>\n",
       "      <td>0.427205</td>\n",
       "      <td>0.761710</td>\n",
       "      <td>0.927941</td>\n",
       "      <td>0.941267</td>\n",
       "      <td>0.881149</td>\n",
       "      <td>14</td>\n",
       "      <td>4</td>\n",
       "      <td>2</td>\n",
       "      <td>2020</td>\n",
       "    </tr>\n",
       "    <tr>\n",
       "      <th>2020-04-15</th>\n",
       "      <td>0.669138</td>\n",
       "      <td>0.557704</td>\n",
       "      <td>0.948736</td>\n",
       "      <td>743926.304548</td>\n",
       "      <td>8.053413e+06</td>\n",
       "      <td>2278293.0</td>\n",
       "      <td>99082222.0</td>\n",
       "      <td>0.763178</td>\n",
       "      <td>0.742662</td>\n",
       "      <td>1.054806</td>\n",
       "      <td>...</td>\n",
       "      <td>0.893572</td>\n",
       "      <td>0.518279</td>\n",
       "      <td>0.668194</td>\n",
       "      <td>0.674462</td>\n",
       "      <td>0.897253</td>\n",
       "      <td>0.895042</td>\n",
       "      <td>15</td>\n",
       "      <td>4</td>\n",
       "      <td>2</td>\n",
       "      <td>2020</td>\n",
       "    </tr>\n",
       "    <tr>\n",
       "      <th>2020-04-16</th>\n",
       "      <td>0.999157</td>\n",
       "      <td>0.874700</td>\n",
       "      <td>1.176194</td>\n",
       "      <td>517946.082569</td>\n",
       "      <td>5.763041e+06</td>\n",
       "      <td>1409030.0</td>\n",
       "      <td>89213331.0</td>\n",
       "      <td>0.850864</td>\n",
       "      <td>0.934045</td>\n",
       "      <td>1.247644</td>\n",
       "      <td>...</td>\n",
       "      <td>0.775465</td>\n",
       "      <td>0.975530</td>\n",
       "      <td>0.520036</td>\n",
       "      <td>0.672218</td>\n",
       "      <td>0.679234</td>\n",
       "      <td>0.901730</td>\n",
       "      <td>16</td>\n",
       "      <td>4</td>\n",
       "      <td>2</td>\n",
       "      <td>2020</td>\n",
       "    </tr>\n",
       "    <tr>\n",
       "      <th>2020-04-17</th>\n",
       "      <td>0.989084</td>\n",
       "      <td>0.590706</td>\n",
       "      <td>0.934577</td>\n",
       "      <td>589549.347253</td>\n",
       "      <td>4.995399e+06</td>\n",
       "      <td>1153740.0</td>\n",
       "      <td>92800270.0</td>\n",
       "      <td>0.925646</td>\n",
       "      <td>0.826182</td>\n",
       "      <td>1.244438</td>\n",
       "      <td>...</td>\n",
       "      <td>0.709667</td>\n",
       "      <td>0.999178</td>\n",
       "      <td>0.348240</td>\n",
       "      <td>0.346140</td>\n",
       "      <td>0.556408</td>\n",
       "      <td>0.862189</td>\n",
       "      <td>17</td>\n",
       "      <td>4</td>\n",
       "      <td>2</td>\n",
       "      <td>2020</td>\n",
       "    </tr>\n",
       "  </tbody>\n",
       "</table>\n",
       "<p>3811 rows × 2124 columns</p>\n",
       "</div>"
      ],
      "text/plain": [
       "            pnr_bac_close_corr_rolling_3_days  pnr_close_std_rolling_3_days  \\\n",
       "date                                                                          \n",
       "2005-02-25                          -0.978919                      0.141000   \n",
       "2005-02-28                          -0.978919                      0.141000   \n",
       "2005-03-01                          -0.978919                      0.141000   \n",
       "2005-03-02                          -0.985118                      0.160553   \n",
       "2005-03-03                          -0.998760                      0.217682   \n",
       "...                                       ...                           ...   \n",
       "2020-04-13                           0.285322                      0.757166   \n",
       "2020-04-14                           0.744225                      0.690869   \n",
       "2020-04-15                           0.669138                      0.557704   \n",
       "2020-04-16                           0.999157                      0.874700   \n",
       "2020-04-17                           0.989084                      0.590706   \n",
       "\n",
       "            bac_close_std_rolling_3_days  pnr_volume_std_rolling_3_days  \\\n",
       "date                                                                      \n",
       "2005-02-25                      0.206350                   34297.951693   \n",
       "2005-02-28                      0.206350                   34297.951693   \n",
       "2005-03-01                      0.206350                   34297.951693   \n",
       "2005-03-02                      0.258003                   15394.968236   \n",
       "2005-03-03                      0.359674                   70107.715840   \n",
       "...                                  ...                            ...   \n",
       "2020-04-13                      0.717937                  302410.058942   \n",
       "2020-04-14                      0.605062                  328987.136047   \n",
       "2020-04-15                      0.948736                  743926.304548   \n",
       "2020-04-16                      1.176194                  517946.082569   \n",
       "2020-04-17                      0.934577                  589549.347253   \n",
       "\n",
       "            bac_volume_std_rolling_3_days  pnr_volume  bac_volume  \\\n",
       "date                                                                \n",
       "2005-02-25                   1.350538e+06    425379.0   8656470.0   \n",
       "2005-02-28                   1.350538e+06    489224.0  10653157.0   \n",
       "2005-03-01                   1.350538e+06    479025.0  11230182.0   \n",
       "2005-03-02                   4.720071e+05    458965.0  10294635.0   \n",
       "2005-03-03                   7.917529e+05    589176.0   9655981.0   \n",
       "...                                   ...         ...         ...   \n",
       "2020-04-13                   2.497579e+07    806105.0  83164717.0   \n",
       "2020-04-14                   2.289724e+07   1355716.0  88991066.0   \n",
       "2020-04-15                   8.053413e+06   2278293.0  99082222.0   \n",
       "2020-04-16                   5.763041e+06   1409030.0  89213331.0   \n",
       "2020-04-17                   4.995399e+06   1153740.0  92800270.0   \n",
       "\n",
       "            pnr_bac_close_corr_rolling_6_days  pnr_close_std_rolling_6_days  \\\n",
       "date                                                                          \n",
       "2005-02-25                          -0.299410                      0.324757   \n",
       "2005-02-28                          -0.299410                      0.324757   \n",
       "2005-03-01                          -0.299410                      0.324757   \n",
       "2005-03-02                          -0.299410                      0.324757   \n",
       "2005-03-03                          -0.299410                      0.324757   \n",
       "...                                       ...                           ...   \n",
       "2020-04-13                           0.899761                      1.619308   \n",
       "2020-04-14                           0.812464                      0.809988   \n",
       "2020-04-15                           0.763178                      0.742662   \n",
       "2020-04-16                           0.850864                      0.934045   \n",
       "2020-04-17                           0.925646                      0.826182   \n",
       "\n",
       "            bac_close_std_rolling_6_days  ...  \\\n",
       "date                                      ...   \n",
       "2005-02-25                      0.235476  ...   \n",
       "2005-02-28                      0.235476  ...   \n",
       "2005-03-01                      0.235476  ...   \n",
       "2005-03-02                      0.235476  ...   \n",
       "2005-03-03                      0.235476  ...   \n",
       "...                                  ...  ...   \n",
       "2020-04-13                      1.780286  ...   \n",
       "2020-04-14                      1.265155  ...   \n",
       "2020-04-15                      1.054806  ...   \n",
       "2020-04-16                      1.247644  ...   \n",
       "2020-04-17                      1.244438  ...   \n",
       "\n",
       "            so_eqix_close_corr_rolling_10_days  \\\n",
       "date                                             \n",
       "2005-02-25                            0.622068   \n",
       "2005-02-28                            0.622068   \n",
       "2005-03-01                            0.622068   \n",
       "2005-03-02                            0.622068   \n",
       "2005-03-03                            0.622068   \n",
       "...                                        ...   \n",
       "2020-04-13                            0.892463   \n",
       "2020-04-14                            0.917852   \n",
       "2020-04-15                            0.893572   \n",
       "2020-04-16                            0.775465   \n",
       "2020-04-17                            0.709667   \n",
       "\n",
       "            so_rost_close_corr_rolling_3_days  \\\n",
       "date                                            \n",
       "2005-02-25                           0.756800   \n",
       "2005-02-28                           0.747056   \n",
       "2005-03-01                           0.212150   \n",
       "2005-03-02                           0.742616   \n",
       "2005-03-03                          -0.955941   \n",
       "...                                       ...   \n",
       "2020-04-13                           0.521586   \n",
       "2020-04-14                           0.427205   \n",
       "2020-04-15                           0.518279   \n",
       "2020-04-16                           0.975530   \n",
       "2020-04-17                           0.999178   \n",
       "\n",
       "            so_rost_close_corr_rolling_6_days  \\\n",
       "date                                            \n",
       "2005-02-25                           0.695732   \n",
       "2005-02-28                           0.616683   \n",
       "2005-03-01                           0.873937   \n",
       "2005-03-02                           0.766851   \n",
       "2005-03-03                           0.062286   \n",
       "...                                       ...   \n",
       "2020-04-13                           0.921538   \n",
       "2020-04-14                           0.761710   \n",
       "2020-04-15                           0.668194   \n",
       "2020-04-16                           0.520036   \n",
       "2020-04-17                           0.348240   \n",
       "\n",
       "            so_rost_close_corr_rolling_7_days  \\\n",
       "date                                            \n",
       "2005-02-25                           0.653203   \n",
       "2005-02-28                           0.582613   \n",
       "2005-03-01                           0.675900   \n",
       "2005-03-02                           0.848152   \n",
       "2005-03-03                           0.353190   \n",
       "...                                       ...   \n",
       "2020-04-13                           0.934788   \n",
       "2020-04-14                           0.927941   \n",
       "2020-04-15                           0.674462   \n",
       "2020-04-16                           0.672218   \n",
       "2020-04-17                           0.346140   \n",
       "\n",
       "            so_rost_close_corr_rolling_8_days  \\\n",
       "date                                            \n",
       "2005-02-25                           0.612758   \n",
       "2005-02-28                           0.516252   \n",
       "2005-03-01                           0.566409   \n",
       "2005-03-02                           0.667500   \n",
       "2005-03-03                           0.527597   \n",
       "...                                       ...   \n",
       "2020-04-13                           0.897778   \n",
       "2020-04-14                           0.941267   \n",
       "2020-04-15                           0.897253   \n",
       "2020-04-16                           0.679234   \n",
       "2020-04-17                           0.556408   \n",
       "\n",
       "            so_rost_close_corr_rolling_10_days  day  month  quarter  year  \n",
       "date                                                                       \n",
       "2005-02-25                            0.638917   25      2        1  2005  \n",
       "2005-02-28                            0.461771   28      2        1  2005  \n",
       "2005-03-01                            0.376416    1      3        1  2005  \n",
       "2005-03-02                            0.359682    2      3        1  2005  \n",
       "2005-03-03                            0.222706    3      3        1  2005  \n",
       "...                                        ...  ...    ...      ...   ...  \n",
       "2020-04-13                            0.835256   13      4        2  2020  \n",
       "2020-04-14                            0.881149   14      4        2  2020  \n",
       "2020-04-15                            0.895042   15      4        2  2020  \n",
       "2020-04-16                            0.901730   16      4        2  2020  \n",
       "2020-04-17                            0.862189   17      4        2  2020  \n",
       "\n",
       "[3811 rows x 2124 columns]"
      ]
     },
     "execution_count": 1114,
     "metadata": {},
     "output_type": "execute_result"
    }
   ],
   "source": [
    "final_stock_df[~pd.isna(final_stock_df.pnr_bac_close_corr_rolling_3_days)]"
   ]
  },
  {
   "cell_type": "code",
   "execution_count": 1001,
   "metadata": {},
   "outputs": [],
   "source": [
    "# drop na\n",
    "final_stock_df = final_stock_df.dropna()"
   ]
  },
  {
   "cell_type": "code",
   "execution_count": 1002,
   "metadata": {},
   "outputs": [
    {
     "data": {
      "text/plain": [
       "380"
      ]
     },
     "execution_count": 1002,
     "metadata": {},
     "output_type": "execute_result"
    }
   ],
   "source": [
    "len(pairs_of_stocks)"
   ]
  },
  {
   "cell_type": "code",
   "execution_count": null,
   "metadata": {},
   "outputs": [],
   "source": []
  },
  {
   "cell_type": "code",
   "execution_count": 1003,
   "metadata": {},
   "outputs": [],
   "source": [
    "# last date of dtaa\n",
    "last_date_of_data = '2020-04-17'"
   ]
  },
  {
   "cell_type": "code",
   "execution_count": 1004,
   "metadata": {},
   "outputs": [
    {
     "data": {
      "text/html": [
       "<div>\n",
       "<style scoped>\n",
       "    .dataframe tbody tr th:only-of-type {\n",
       "        vertical-align: middle;\n",
       "    }\n",
       "\n",
       "    .dataframe tbody tr th {\n",
       "        vertical-align: top;\n",
       "    }\n",
       "\n",
       "    .dataframe thead th {\n",
       "        text-align: right;\n",
       "    }\n",
       "</style>\n",
       "<table border=\"1\" class=\"dataframe\">\n",
       "  <thead>\n",
       "    <tr style=\"text-align: right;\">\n",
       "      <th></th>\n",
       "      <th>pnr_bac_close_corr_rolling_3_days</th>\n",
       "      <th>pnr_close_std_rolling_3_days</th>\n",
       "      <th>bac_close_std_rolling_3_days</th>\n",
       "      <th>pnr_volume_std_rolling_3_days</th>\n",
       "      <th>bac_volume_std_rolling_3_days</th>\n",
       "      <th>pnr_volume</th>\n",
       "      <th>bac_volume</th>\n",
       "      <th>pnr_bac_close_corr_rolling_6_days</th>\n",
       "      <th>pnr_close_std_rolling_6_days</th>\n",
       "      <th>bac_close_std_rolling_6_days</th>\n",
       "      <th>...</th>\n",
       "      <th>so_rost_close_corr_rolling_3_days</th>\n",
       "      <th>so_rost_close_corr_rolling_6_days</th>\n",
       "      <th>so_rost_close_corr_rolling_7_days</th>\n",
       "      <th>so_rost_close_corr_rolling_8_days</th>\n",
       "      <th>so_rost_close_corr_rolling_10_days</th>\n",
       "      <th>so_rost_close_corr_rolling_15_days</th>\n",
       "      <th>day</th>\n",
       "      <th>month</th>\n",
       "      <th>quarter</th>\n",
       "      <th>year</th>\n",
       "    </tr>\n",
       "    <tr>\n",
       "      <th>date</th>\n",
       "      <th></th>\n",
       "      <th></th>\n",
       "      <th></th>\n",
       "      <th></th>\n",
       "      <th></th>\n",
       "      <th></th>\n",
       "      <th></th>\n",
       "      <th></th>\n",
       "      <th></th>\n",
       "      <th></th>\n",
       "      <th></th>\n",
       "      <th></th>\n",
       "      <th></th>\n",
       "      <th></th>\n",
       "      <th></th>\n",
       "      <th></th>\n",
       "      <th></th>\n",
       "      <th></th>\n",
       "      <th></th>\n",
       "      <th></th>\n",
       "      <th></th>\n",
       "    </tr>\n",
       "  </thead>\n",
       "  <tbody>\n",
       "    <tr>\n",
       "      <th>2020-04-17</th>\n",
       "      <td>0.989084</td>\n",
       "      <td>0.590706</td>\n",
       "      <td>0.934577</td>\n",
       "      <td>589549.347253</td>\n",
       "      <td>4.995399e+06</td>\n",
       "      <td>1153740.0</td>\n",
       "      <td>92800270.0</td>\n",
       "      <td>0.925646</td>\n",
       "      <td>0.826182</td>\n",
       "      <td>1.244438</td>\n",
       "      <td>...</td>\n",
       "      <td>0.999178</td>\n",
       "      <td>0.34824</td>\n",
       "      <td>0.34614</td>\n",
       "      <td>0.556408</td>\n",
       "      <td>0.862189</td>\n",
       "      <td>0.80474</td>\n",
       "      <td>17</td>\n",
       "      <td>4</td>\n",
       "      <td>2</td>\n",
       "      <td>2020</td>\n",
       "    </tr>\n",
       "  </tbody>\n",
       "</table>\n",
       "<p>1 rows × 2544 columns</p>\n",
       "</div>"
      ],
      "text/plain": [
       "            pnr_bac_close_corr_rolling_3_days  pnr_close_std_rolling_3_days  \\\n",
       "date                                                                          \n",
       "2020-04-17                           0.989084                      0.590706   \n",
       "\n",
       "            bac_close_std_rolling_3_days  pnr_volume_std_rolling_3_days  \\\n",
       "date                                                                      \n",
       "2020-04-17                      0.934577                  589549.347253   \n",
       "\n",
       "            bac_volume_std_rolling_3_days  pnr_volume  bac_volume  \\\n",
       "date                                                                \n",
       "2020-04-17                   4.995399e+06   1153740.0  92800270.0   \n",
       "\n",
       "            pnr_bac_close_corr_rolling_6_days  pnr_close_std_rolling_6_days  \\\n",
       "date                                                                          \n",
       "2020-04-17                           0.925646                      0.826182   \n",
       "\n",
       "            bac_close_std_rolling_6_days  ...  \\\n",
       "date                                      ...   \n",
       "2020-04-17                      1.244438  ...   \n",
       "\n",
       "            so_rost_close_corr_rolling_3_days  \\\n",
       "date                                            \n",
       "2020-04-17                           0.999178   \n",
       "\n",
       "            so_rost_close_corr_rolling_6_days  \\\n",
       "date                                            \n",
       "2020-04-17                            0.34824   \n",
       "\n",
       "            so_rost_close_corr_rolling_7_days  \\\n",
       "date                                            \n",
       "2020-04-17                            0.34614   \n",
       "\n",
       "            so_rost_close_corr_rolling_8_days  \\\n",
       "date                                            \n",
       "2020-04-17                           0.556408   \n",
       "\n",
       "            so_rost_close_corr_rolling_10_days  \\\n",
       "date                                             \n",
       "2020-04-17                            0.862189   \n",
       "\n",
       "            so_rost_close_corr_rolling_15_days  day  month  quarter  year  \n",
       "date                                                                       \n",
       "2020-04-17                             0.80474   17      4        2  2020  \n",
       "\n",
       "[1 rows x 2544 columns]"
      ]
     },
     "execution_count": 1004,
     "metadata": {},
     "output_type": "execute_result"
    }
   ],
   "source": [
    "final_stock_df[final_stock_df.index == last_date_of_data]"
   ]
  },
  {
   "cell_type": "code",
   "execution_count": 792,
   "metadata": {},
   "outputs": [
    {
     "data": {
      "text/plain": [
       "['pnr_bac']"
      ]
     },
     "execution_count": 792,
     "metadata": {},
     "output_type": "execute_result"
    }
   ],
   "source": [
    "pairs_of_stocks"
   ]
  },
  {
   "cell_type": "code",
   "execution_count": 793,
   "metadata": {},
   "outputs": [
    {
     "data": {
      "text/html": [
       "<div>\n",
       "<style scoped>\n",
       "    .dataframe tbody tr th:only-of-type {\n",
       "        vertical-align: middle;\n",
       "    }\n",
       "\n",
       "    .dataframe tbody tr th {\n",
       "        vertical-align: top;\n",
       "    }\n",
       "\n",
       "    .dataframe thead th {\n",
       "        text-align: right;\n",
       "    }\n",
       "</style>\n",
       "<table border=\"1\" class=\"dataframe\">\n",
       "  <thead>\n",
       "    <tr style=\"text-align: right;\">\n",
       "      <th></th>\n",
       "      <th>pnr_bac_close_corr_rolling_3_days</th>\n",
       "      <th>pnr_close_std_rolling_3_days</th>\n",
       "      <th>bac_close_std_rolling_3_days</th>\n",
       "      <th>pnr_volume_std_rolling_3_days</th>\n",
       "      <th>bac_volume_std_rolling_3_days</th>\n",
       "      <th>pnr_volume</th>\n",
       "      <th>bac_volume</th>\n",
       "      <th>pnr_bac_close_corr_rolling_6_days</th>\n",
       "      <th>pnr_close_std_rolling_6_days</th>\n",
       "      <th>bac_close_std_rolling_6_days</th>\n",
       "      <th>...</th>\n",
       "      <th>pnr_bac_close_corr_rolling_30_days</th>\n",
       "      <th>pnr_close_std_rolling_30_days</th>\n",
       "      <th>bac_close_std_rolling_30_days</th>\n",
       "      <th>pnr_volume_std_rolling_30_days</th>\n",
       "      <th>bac_volume_std_rolling_30_days</th>\n",
       "      <th>pnr_bac_close_corr_rolling_60_days</th>\n",
       "      <th>pnr_close_std_rolling_60_days</th>\n",
       "      <th>bac_close_std_rolling_60_days</th>\n",
       "      <th>pnr_volume_std_rolling_60_days</th>\n",
       "      <th>bac_volume_std_rolling_60_days</th>\n",
       "    </tr>\n",
       "    <tr>\n",
       "      <th>date</th>\n",
       "      <th></th>\n",
       "      <th></th>\n",
       "      <th></th>\n",
       "      <th></th>\n",
       "      <th></th>\n",
       "      <th></th>\n",
       "      <th></th>\n",
       "      <th></th>\n",
       "      <th></th>\n",
       "      <th></th>\n",
       "      <th></th>\n",
       "      <th></th>\n",
       "      <th></th>\n",
       "      <th></th>\n",
       "      <th></th>\n",
       "      <th></th>\n",
       "      <th></th>\n",
       "      <th></th>\n",
       "      <th></th>\n",
       "      <th></th>\n",
       "      <th></th>\n",
       "    </tr>\n",
       "  </thead>\n",
       "  <tbody>\n",
       "    <tr>\n",
       "      <th>2005-02-25</th>\n",
       "      <td>-0.978919</td>\n",
       "      <td>0.141000</td>\n",
       "      <td>0.206350</td>\n",
       "      <td>34297.951693</td>\n",
       "      <td>1.350538e+06</td>\n",
       "      <td>425379.0</td>\n",
       "      <td>8656470.0</td>\n",
       "      <td>-0.299410</td>\n",
       "      <td>0.324757</td>\n",
       "      <td>0.235476</td>\n",
       "      <td>...</td>\n",
       "      <td>0.941902</td>\n",
       "      <td>1.048560</td>\n",
       "      <td>1.025981</td>\n",
       "      <td>196053.072443</td>\n",
       "      <td>3.173304e+06</td>\n",
       "      <td>0.783557</td>\n",
       "      <td>1.577593</td>\n",
       "      <td>0.847369</td>\n",
       "      <td>415542.833243</td>\n",
       "      <td>2.889315e+06</td>\n",
       "    </tr>\n",
       "    <tr>\n",
       "      <th>2005-02-28</th>\n",
       "      <td>-0.978919</td>\n",
       "      <td>0.141000</td>\n",
       "      <td>0.206350</td>\n",
       "      <td>34297.951693</td>\n",
       "      <td>1.350538e+06</td>\n",
       "      <td>489224.0</td>\n",
       "      <td>10653157.0</td>\n",
       "      <td>-0.299410</td>\n",
       "      <td>0.324757</td>\n",
       "      <td>0.235476</td>\n",
       "      <td>...</td>\n",
       "      <td>0.941902</td>\n",
       "      <td>1.048560</td>\n",
       "      <td>1.025981</td>\n",
       "      <td>196053.072443</td>\n",
       "      <td>3.173304e+06</td>\n",
       "      <td>0.783557</td>\n",
       "      <td>1.577593</td>\n",
       "      <td>0.847369</td>\n",
       "      <td>415542.833243</td>\n",
       "      <td>2.889315e+06</td>\n",
       "    </tr>\n",
       "    <tr>\n",
       "      <th>2005-03-01</th>\n",
       "      <td>-0.978919</td>\n",
       "      <td>0.141000</td>\n",
       "      <td>0.206350</td>\n",
       "      <td>34297.951693</td>\n",
       "      <td>1.350538e+06</td>\n",
       "      <td>479025.0</td>\n",
       "      <td>11230182.0</td>\n",
       "      <td>-0.299410</td>\n",
       "      <td>0.324757</td>\n",
       "      <td>0.235476</td>\n",
       "      <td>...</td>\n",
       "      <td>0.941902</td>\n",
       "      <td>1.048560</td>\n",
       "      <td>1.025981</td>\n",
       "      <td>196053.072443</td>\n",
       "      <td>3.173304e+06</td>\n",
       "      <td>0.783557</td>\n",
       "      <td>1.577593</td>\n",
       "      <td>0.847369</td>\n",
       "      <td>415542.833243</td>\n",
       "      <td>2.889315e+06</td>\n",
       "    </tr>\n",
       "    <tr>\n",
       "      <th>2005-03-02</th>\n",
       "      <td>-0.985118</td>\n",
       "      <td>0.160553</td>\n",
       "      <td>0.258003</td>\n",
       "      <td>15394.968236</td>\n",
       "      <td>4.720071e+05</td>\n",
       "      <td>458965.0</td>\n",
       "      <td>10294635.0</td>\n",
       "      <td>-0.299410</td>\n",
       "      <td>0.324757</td>\n",
       "      <td>0.235476</td>\n",
       "      <td>...</td>\n",
       "      <td>0.941902</td>\n",
       "      <td>1.048560</td>\n",
       "      <td>1.025981</td>\n",
       "      <td>196053.072443</td>\n",
       "      <td>3.173304e+06</td>\n",
       "      <td>0.783557</td>\n",
       "      <td>1.577593</td>\n",
       "      <td>0.847369</td>\n",
       "      <td>415542.833243</td>\n",
       "      <td>2.889315e+06</td>\n",
       "    </tr>\n",
       "    <tr>\n",
       "      <th>2005-03-03</th>\n",
       "      <td>-0.998760</td>\n",
       "      <td>0.217682</td>\n",
       "      <td>0.359674</td>\n",
       "      <td>70107.715840</td>\n",
       "      <td>7.917529e+05</td>\n",
       "      <td>589176.0</td>\n",
       "      <td>9655981.0</td>\n",
       "      <td>-0.299410</td>\n",
       "      <td>0.324757</td>\n",
       "      <td>0.235476</td>\n",
       "      <td>...</td>\n",
       "      <td>0.941902</td>\n",
       "      <td>1.048560</td>\n",
       "      <td>1.025981</td>\n",
       "      <td>196053.072443</td>\n",
       "      <td>3.173304e+06</td>\n",
       "      <td>0.783557</td>\n",
       "      <td>1.577593</td>\n",
       "      <td>0.847369</td>\n",
       "      <td>415542.833243</td>\n",
       "      <td>2.889315e+06</td>\n",
       "    </tr>\n",
       "    <tr>\n",
       "      <th>...</th>\n",
       "      <td>...</td>\n",
       "      <td>...</td>\n",
       "      <td>...</td>\n",
       "      <td>...</td>\n",
       "      <td>...</td>\n",
       "      <td>...</td>\n",
       "      <td>...</td>\n",
       "      <td>...</td>\n",
       "      <td>...</td>\n",
       "      <td>...</td>\n",
       "      <td>...</td>\n",
       "      <td>...</td>\n",
       "      <td>...</td>\n",
       "      <td>...</td>\n",
       "      <td>...</td>\n",
       "      <td>...</td>\n",
       "      <td>...</td>\n",
       "      <td>...</td>\n",
       "      <td>...</td>\n",
       "      <td>...</td>\n",
       "      <td>...</td>\n",
       "    </tr>\n",
       "    <tr>\n",
       "      <th>2020-04-13</th>\n",
       "      <td>0.285322</td>\n",
       "      <td>0.757166</td>\n",
       "      <td>0.717937</td>\n",
       "      <td>302410.058942</td>\n",
       "      <td>2.497579e+07</td>\n",
       "      <td>806105.0</td>\n",
       "      <td>83164717.0</td>\n",
       "      <td>0.899761</td>\n",
       "      <td>1.619308</td>\n",
       "      <td>1.780286</td>\n",
       "      <td>...</td>\n",
       "      <td>0.873234</td>\n",
       "      <td>5.061855</td>\n",
       "      <td>2.732167</td>\n",
       "      <td>394350.015547</td>\n",
       "      <td>2.822167e+07</td>\n",
       "      <td>0.956415</td>\n",
       "      <td>7.296587</td>\n",
       "      <td>5.942469</td>\n",
       "      <td>501447.278455</td>\n",
       "      <td>4.353774e+07</td>\n",
       "    </tr>\n",
       "    <tr>\n",
       "      <th>2020-04-14</th>\n",
       "      <td>0.744225</td>\n",
       "      <td>0.690869</td>\n",
       "      <td>0.605062</td>\n",
       "      <td>328987.136047</td>\n",
       "      <td>2.289724e+07</td>\n",
       "      <td>1355716.0</td>\n",
       "      <td>88991066.0</td>\n",
       "      <td>0.812464</td>\n",
       "      <td>0.809988</td>\n",
       "      <td>1.265155</td>\n",
       "      <td>...</td>\n",
       "      <td>0.855684</td>\n",
       "      <td>4.749327</td>\n",
       "      <td>2.429670</td>\n",
       "      <td>398047.422672</td>\n",
       "      <td>2.810251e+07</td>\n",
       "      <td>0.955830</td>\n",
       "      <td>7.242258</td>\n",
       "      <td>5.903685</td>\n",
       "      <td>499324.009940</td>\n",
       "      <td>4.329414e+07</td>\n",
       "    </tr>\n",
       "    <tr>\n",
       "      <th>2020-04-15</th>\n",
       "      <td>0.669138</td>\n",
       "      <td>0.557704</td>\n",
       "      <td>0.948736</td>\n",
       "      <td>743926.304548</td>\n",
       "      <td>8.053413e+06</td>\n",
       "      <td>2278293.0</td>\n",
       "      <td>99082222.0</td>\n",
       "      <td>0.763178</td>\n",
       "      <td>0.742662</td>\n",
       "      <td>1.054806</td>\n",
       "      <td>...</td>\n",
       "      <td>0.838961</td>\n",
       "      <td>4.503525</td>\n",
       "      <td>2.213206</td>\n",
       "      <td>413290.376634</td>\n",
       "      <td>2.791707e+07</td>\n",
       "      <td>0.955499</td>\n",
       "      <td>7.181165</td>\n",
       "      <td>5.880124</td>\n",
       "      <td>508435.387384</td>\n",
       "      <td>4.311943e+07</td>\n",
       "    </tr>\n",
       "    <tr>\n",
       "      <th>2020-04-16</th>\n",
       "      <td>0.999157</td>\n",
       "      <td>0.874700</td>\n",
       "      <td>1.176194</td>\n",
       "      <td>517946.082569</td>\n",
       "      <td>5.763041e+06</td>\n",
       "      <td>1409030.0</td>\n",
       "      <td>89213331.0</td>\n",
       "      <td>0.850864</td>\n",
       "      <td>0.934045</td>\n",
       "      <td>1.247644</td>\n",
       "      <td>...</td>\n",
       "      <td>0.804045</td>\n",
       "      <td>4.116882</td>\n",
       "      <td>1.889247</td>\n",
       "      <td>415401.921947</td>\n",
       "      <td>2.829094e+07</td>\n",
       "      <td>0.955313</td>\n",
       "      <td>7.132217</td>\n",
       "      <td>5.870661</td>\n",
       "      <td>505842.593475</td>\n",
       "      <td>4.285879e+07</td>\n",
       "    </tr>\n",
       "    <tr>\n",
       "      <th>2020-04-17</th>\n",
       "      <td>0.989084</td>\n",
       "      <td>0.590706</td>\n",
       "      <td>0.934577</td>\n",
       "      <td>589549.347253</td>\n",
       "      <td>4.995399e+06</td>\n",
       "      <td>1153740.0</td>\n",
       "      <td>92800270.0</td>\n",
       "      <td>0.925646</td>\n",
       "      <td>0.826182</td>\n",
       "      <td>1.244438</td>\n",
       "      <td>...</td>\n",
       "      <td>0.769041</td>\n",
       "      <td>3.847763</td>\n",
       "      <td>1.682137</td>\n",
       "      <td>423790.061719</td>\n",
       "      <td>2.854438e+07</td>\n",
       "      <td>0.954626</td>\n",
       "      <td>7.061832</td>\n",
       "      <td>5.824581</td>\n",
       "      <td>501822.152481</td>\n",
       "      <td>4.238371e+07</td>\n",
       "    </tr>\n",
       "  </tbody>\n",
       "</table>\n",
       "<p>3811 rows × 32 columns</p>\n",
       "</div>"
      ],
      "text/plain": [
       "            pnr_bac_close_corr_rolling_3_days  pnr_close_std_rolling_3_days  \\\n",
       "date                                                                          \n",
       "2005-02-25                          -0.978919                      0.141000   \n",
       "2005-02-28                          -0.978919                      0.141000   \n",
       "2005-03-01                          -0.978919                      0.141000   \n",
       "2005-03-02                          -0.985118                      0.160553   \n",
       "2005-03-03                          -0.998760                      0.217682   \n",
       "...                                       ...                           ...   \n",
       "2020-04-13                           0.285322                      0.757166   \n",
       "2020-04-14                           0.744225                      0.690869   \n",
       "2020-04-15                           0.669138                      0.557704   \n",
       "2020-04-16                           0.999157                      0.874700   \n",
       "2020-04-17                           0.989084                      0.590706   \n",
       "\n",
       "            bac_close_std_rolling_3_days  pnr_volume_std_rolling_3_days  \\\n",
       "date                                                                      \n",
       "2005-02-25                      0.206350                   34297.951693   \n",
       "2005-02-28                      0.206350                   34297.951693   \n",
       "2005-03-01                      0.206350                   34297.951693   \n",
       "2005-03-02                      0.258003                   15394.968236   \n",
       "2005-03-03                      0.359674                   70107.715840   \n",
       "...                                  ...                            ...   \n",
       "2020-04-13                      0.717937                  302410.058942   \n",
       "2020-04-14                      0.605062                  328987.136047   \n",
       "2020-04-15                      0.948736                  743926.304548   \n",
       "2020-04-16                      1.176194                  517946.082569   \n",
       "2020-04-17                      0.934577                  589549.347253   \n",
       "\n",
       "            bac_volume_std_rolling_3_days  pnr_volume  bac_volume  \\\n",
       "date                                                                \n",
       "2005-02-25                   1.350538e+06    425379.0   8656470.0   \n",
       "2005-02-28                   1.350538e+06    489224.0  10653157.0   \n",
       "2005-03-01                   1.350538e+06    479025.0  11230182.0   \n",
       "2005-03-02                   4.720071e+05    458965.0  10294635.0   \n",
       "2005-03-03                   7.917529e+05    589176.0   9655981.0   \n",
       "...                                   ...         ...         ...   \n",
       "2020-04-13                   2.497579e+07    806105.0  83164717.0   \n",
       "2020-04-14                   2.289724e+07   1355716.0  88991066.0   \n",
       "2020-04-15                   8.053413e+06   2278293.0  99082222.0   \n",
       "2020-04-16                   5.763041e+06   1409030.0  89213331.0   \n",
       "2020-04-17                   4.995399e+06   1153740.0  92800270.0   \n",
       "\n",
       "            pnr_bac_close_corr_rolling_6_days  pnr_close_std_rolling_6_days  \\\n",
       "date                                                                          \n",
       "2005-02-25                          -0.299410                      0.324757   \n",
       "2005-02-28                          -0.299410                      0.324757   \n",
       "2005-03-01                          -0.299410                      0.324757   \n",
       "2005-03-02                          -0.299410                      0.324757   \n",
       "2005-03-03                          -0.299410                      0.324757   \n",
       "...                                       ...                           ...   \n",
       "2020-04-13                           0.899761                      1.619308   \n",
       "2020-04-14                           0.812464                      0.809988   \n",
       "2020-04-15                           0.763178                      0.742662   \n",
       "2020-04-16                           0.850864                      0.934045   \n",
       "2020-04-17                           0.925646                      0.826182   \n",
       "\n",
       "            bac_close_std_rolling_6_days  ...  \\\n",
       "date                                      ...   \n",
       "2005-02-25                      0.235476  ...   \n",
       "2005-02-28                      0.235476  ...   \n",
       "2005-03-01                      0.235476  ...   \n",
       "2005-03-02                      0.235476  ...   \n",
       "2005-03-03                      0.235476  ...   \n",
       "...                                  ...  ...   \n",
       "2020-04-13                      1.780286  ...   \n",
       "2020-04-14                      1.265155  ...   \n",
       "2020-04-15                      1.054806  ...   \n",
       "2020-04-16                      1.247644  ...   \n",
       "2020-04-17                      1.244438  ...   \n",
       "\n",
       "            pnr_bac_close_corr_rolling_30_days  pnr_close_std_rolling_30_days  \\\n",
       "date                                                                            \n",
       "2005-02-25                            0.941902                       1.048560   \n",
       "2005-02-28                            0.941902                       1.048560   \n",
       "2005-03-01                            0.941902                       1.048560   \n",
       "2005-03-02                            0.941902                       1.048560   \n",
       "2005-03-03                            0.941902                       1.048560   \n",
       "...                                        ...                            ...   \n",
       "2020-04-13                            0.873234                       5.061855   \n",
       "2020-04-14                            0.855684                       4.749327   \n",
       "2020-04-15                            0.838961                       4.503525   \n",
       "2020-04-16                            0.804045                       4.116882   \n",
       "2020-04-17                            0.769041                       3.847763   \n",
       "\n",
       "            bac_close_std_rolling_30_days  pnr_volume_std_rolling_30_days  \\\n",
       "date                                                                        \n",
       "2005-02-25                       1.025981                   196053.072443   \n",
       "2005-02-28                       1.025981                   196053.072443   \n",
       "2005-03-01                       1.025981                   196053.072443   \n",
       "2005-03-02                       1.025981                   196053.072443   \n",
       "2005-03-03                       1.025981                   196053.072443   \n",
       "...                                   ...                             ...   \n",
       "2020-04-13                       2.732167                   394350.015547   \n",
       "2020-04-14                       2.429670                   398047.422672   \n",
       "2020-04-15                       2.213206                   413290.376634   \n",
       "2020-04-16                       1.889247                   415401.921947   \n",
       "2020-04-17                       1.682137                   423790.061719   \n",
       "\n",
       "            bac_volume_std_rolling_30_days  \\\n",
       "date                                         \n",
       "2005-02-25                    3.173304e+06   \n",
       "2005-02-28                    3.173304e+06   \n",
       "2005-03-01                    3.173304e+06   \n",
       "2005-03-02                    3.173304e+06   \n",
       "2005-03-03                    3.173304e+06   \n",
       "...                                    ...   \n",
       "2020-04-13                    2.822167e+07   \n",
       "2020-04-14                    2.810251e+07   \n",
       "2020-04-15                    2.791707e+07   \n",
       "2020-04-16                    2.829094e+07   \n",
       "2020-04-17                    2.854438e+07   \n",
       "\n",
       "            pnr_bac_close_corr_rolling_60_days  pnr_close_std_rolling_60_days  \\\n",
       "date                                                                            \n",
       "2005-02-25                            0.783557                       1.577593   \n",
       "2005-02-28                            0.783557                       1.577593   \n",
       "2005-03-01                            0.783557                       1.577593   \n",
       "2005-03-02                            0.783557                       1.577593   \n",
       "2005-03-03                            0.783557                       1.577593   \n",
       "...                                        ...                            ...   \n",
       "2020-04-13                            0.956415                       7.296587   \n",
       "2020-04-14                            0.955830                       7.242258   \n",
       "2020-04-15                            0.955499                       7.181165   \n",
       "2020-04-16                            0.955313                       7.132217   \n",
       "2020-04-17                            0.954626                       7.061832   \n",
       "\n",
       "            bac_close_std_rolling_60_days  pnr_volume_std_rolling_60_days  \\\n",
       "date                                                                        \n",
       "2005-02-25                       0.847369                   415542.833243   \n",
       "2005-02-28                       0.847369                   415542.833243   \n",
       "2005-03-01                       0.847369                   415542.833243   \n",
       "2005-03-02                       0.847369                   415542.833243   \n",
       "2005-03-03                       0.847369                   415542.833243   \n",
       "...                                   ...                             ...   \n",
       "2020-04-13                       5.942469                   501447.278455   \n",
       "2020-04-14                       5.903685                   499324.009940   \n",
       "2020-04-15                       5.880124                   508435.387384   \n",
       "2020-04-16                       5.870661                   505842.593475   \n",
       "2020-04-17                       5.824581                   501822.152481   \n",
       "\n",
       "            bac_volume_std_rolling_60_days  \n",
       "date                                        \n",
       "2005-02-25                    2.889315e+06  \n",
       "2005-02-28                    2.889315e+06  \n",
       "2005-03-01                    2.889315e+06  \n",
       "2005-03-02                    2.889315e+06  \n",
       "2005-03-03                    2.889315e+06  \n",
       "...                                    ...  \n",
       "2020-04-13                    4.353774e+07  \n",
       "2020-04-14                    4.329414e+07  \n",
       "2020-04-15                    4.311943e+07  \n",
       "2020-04-16                    4.285879e+07  \n",
       "2020-04-17                    4.238371e+07  \n",
       "\n",
       "[3811 rows x 32 columns]"
      ]
     },
     "execution_count": 793,
     "metadata": {},
     "output_type": "execute_result"
    }
   ],
   "source": [
    "final_stock_df.loc[~pd.isna(final_stock_df.pnr_volume), :]"
   ]
  },
  {
   "cell_type": "code",
   "execution_count": 794,
   "metadata": {},
   "outputs": [
    {
     "data": {
      "text/html": [
       "<div>\n",
       "<style scoped>\n",
       "    .dataframe tbody tr th:only-of-type {\n",
       "        vertical-align: middle;\n",
       "    }\n",
       "\n",
       "    .dataframe tbody tr th {\n",
       "        vertical-align: top;\n",
       "    }\n",
       "\n",
       "    .dataframe thead th {\n",
       "        text-align: right;\n",
       "    }\n",
       "</style>\n",
       "<table border=\"1\" class=\"dataframe\">\n",
       "  <thead>\n",
       "    <tr style=\"text-align: right;\">\n",
       "      <th></th>\n",
       "      <th>pnr_bac_close_corr_rolling_3_days</th>\n",
       "      <th>pnr_close_std_rolling_3_days</th>\n",
       "      <th>bac_close_std_rolling_3_days</th>\n",
       "      <th>pnr_volume_std_rolling_3_days</th>\n",
       "      <th>bac_volume_std_rolling_3_days</th>\n",
       "      <th>pnr_volume</th>\n",
       "      <th>bac_volume</th>\n",
       "      <th>pnr_bac_close_corr_rolling_6_days</th>\n",
       "      <th>pnr_close_std_rolling_6_days</th>\n",
       "      <th>bac_close_std_rolling_6_days</th>\n",
       "      <th>...</th>\n",
       "      <th>pnr_bac_close_corr_rolling_30_days</th>\n",
       "      <th>pnr_close_std_rolling_30_days</th>\n",
       "      <th>bac_close_std_rolling_30_days</th>\n",
       "      <th>pnr_volume_std_rolling_30_days</th>\n",
       "      <th>bac_volume_std_rolling_30_days</th>\n",
       "      <th>pnr_bac_close_corr_rolling_60_days</th>\n",
       "      <th>pnr_close_std_rolling_60_days</th>\n",
       "      <th>bac_close_std_rolling_60_days</th>\n",
       "      <th>pnr_volume_std_rolling_60_days</th>\n",
       "      <th>bac_volume_std_rolling_60_days</th>\n",
       "    </tr>\n",
       "    <tr>\n",
       "      <th>date</th>\n",
       "      <th></th>\n",
       "      <th></th>\n",
       "      <th></th>\n",
       "      <th></th>\n",
       "      <th></th>\n",
       "      <th></th>\n",
       "      <th></th>\n",
       "      <th></th>\n",
       "      <th></th>\n",
       "      <th></th>\n",
       "      <th></th>\n",
       "      <th></th>\n",
       "      <th></th>\n",
       "      <th></th>\n",
       "      <th></th>\n",
       "      <th></th>\n",
       "      <th></th>\n",
       "      <th></th>\n",
       "      <th></th>\n",
       "      <th></th>\n",
       "      <th></th>\n",
       "    </tr>\n",
       "  </thead>\n",
       "  <tbody>\n",
       "    <tr>\n",
       "      <th>2005-02-25</th>\n",
       "      <td>-0.978919</td>\n",
       "      <td>0.141000</td>\n",
       "      <td>0.206350</td>\n",
       "      <td>34297.951693</td>\n",
       "      <td>1.350538e+06</td>\n",
       "      <td>425379.0</td>\n",
       "      <td>8656470.0</td>\n",
       "      <td>-0.299410</td>\n",
       "      <td>0.324757</td>\n",
       "      <td>0.235476</td>\n",
       "      <td>...</td>\n",
       "      <td>0.941902</td>\n",
       "      <td>1.048560</td>\n",
       "      <td>1.025981</td>\n",
       "      <td>196053.072443</td>\n",
       "      <td>3.173304e+06</td>\n",
       "      <td>0.783557</td>\n",
       "      <td>1.577593</td>\n",
       "      <td>0.847369</td>\n",
       "      <td>415542.833243</td>\n",
       "      <td>2.889315e+06</td>\n",
       "    </tr>\n",
       "    <tr>\n",
       "      <th>2005-02-28</th>\n",
       "      <td>-0.978919</td>\n",
       "      <td>0.141000</td>\n",
       "      <td>0.206350</td>\n",
       "      <td>34297.951693</td>\n",
       "      <td>1.350538e+06</td>\n",
       "      <td>489224.0</td>\n",
       "      <td>10653157.0</td>\n",
       "      <td>-0.299410</td>\n",
       "      <td>0.324757</td>\n",
       "      <td>0.235476</td>\n",
       "      <td>...</td>\n",
       "      <td>0.941902</td>\n",
       "      <td>1.048560</td>\n",
       "      <td>1.025981</td>\n",
       "      <td>196053.072443</td>\n",
       "      <td>3.173304e+06</td>\n",
       "      <td>0.783557</td>\n",
       "      <td>1.577593</td>\n",
       "      <td>0.847369</td>\n",
       "      <td>415542.833243</td>\n",
       "      <td>2.889315e+06</td>\n",
       "    </tr>\n",
       "    <tr>\n",
       "      <th>2005-03-01</th>\n",
       "      <td>-0.978919</td>\n",
       "      <td>0.141000</td>\n",
       "      <td>0.206350</td>\n",
       "      <td>34297.951693</td>\n",
       "      <td>1.350538e+06</td>\n",
       "      <td>479025.0</td>\n",
       "      <td>11230182.0</td>\n",
       "      <td>-0.299410</td>\n",
       "      <td>0.324757</td>\n",
       "      <td>0.235476</td>\n",
       "      <td>...</td>\n",
       "      <td>0.941902</td>\n",
       "      <td>1.048560</td>\n",
       "      <td>1.025981</td>\n",
       "      <td>196053.072443</td>\n",
       "      <td>3.173304e+06</td>\n",
       "      <td>0.783557</td>\n",
       "      <td>1.577593</td>\n",
       "      <td>0.847369</td>\n",
       "      <td>415542.833243</td>\n",
       "      <td>2.889315e+06</td>\n",
       "    </tr>\n",
       "    <tr>\n",
       "      <th>2005-03-02</th>\n",
       "      <td>-0.985118</td>\n",
       "      <td>0.160553</td>\n",
       "      <td>0.258003</td>\n",
       "      <td>15394.968236</td>\n",
       "      <td>4.720071e+05</td>\n",
       "      <td>458965.0</td>\n",
       "      <td>10294635.0</td>\n",
       "      <td>-0.299410</td>\n",
       "      <td>0.324757</td>\n",
       "      <td>0.235476</td>\n",
       "      <td>...</td>\n",
       "      <td>0.941902</td>\n",
       "      <td>1.048560</td>\n",
       "      <td>1.025981</td>\n",
       "      <td>196053.072443</td>\n",
       "      <td>3.173304e+06</td>\n",
       "      <td>0.783557</td>\n",
       "      <td>1.577593</td>\n",
       "      <td>0.847369</td>\n",
       "      <td>415542.833243</td>\n",
       "      <td>2.889315e+06</td>\n",
       "    </tr>\n",
       "    <tr>\n",
       "      <th>2005-03-03</th>\n",
       "      <td>-0.998760</td>\n",
       "      <td>0.217682</td>\n",
       "      <td>0.359674</td>\n",
       "      <td>70107.715840</td>\n",
       "      <td>7.917529e+05</td>\n",
       "      <td>589176.0</td>\n",
       "      <td>9655981.0</td>\n",
       "      <td>-0.299410</td>\n",
       "      <td>0.324757</td>\n",
       "      <td>0.235476</td>\n",
       "      <td>...</td>\n",
       "      <td>0.941902</td>\n",
       "      <td>1.048560</td>\n",
       "      <td>1.025981</td>\n",
       "      <td>196053.072443</td>\n",
       "      <td>3.173304e+06</td>\n",
       "      <td>0.783557</td>\n",
       "      <td>1.577593</td>\n",
       "      <td>0.847369</td>\n",
       "      <td>415542.833243</td>\n",
       "      <td>2.889315e+06</td>\n",
       "    </tr>\n",
       "    <tr>\n",
       "      <th>...</th>\n",
       "      <td>...</td>\n",
       "      <td>...</td>\n",
       "      <td>...</td>\n",
       "      <td>...</td>\n",
       "      <td>...</td>\n",
       "      <td>...</td>\n",
       "      <td>...</td>\n",
       "      <td>...</td>\n",
       "      <td>...</td>\n",
       "      <td>...</td>\n",
       "      <td>...</td>\n",
       "      <td>...</td>\n",
       "      <td>...</td>\n",
       "      <td>...</td>\n",
       "      <td>...</td>\n",
       "      <td>...</td>\n",
       "      <td>...</td>\n",
       "      <td>...</td>\n",
       "      <td>...</td>\n",
       "      <td>...</td>\n",
       "      <td>...</td>\n",
       "    </tr>\n",
       "    <tr>\n",
       "      <th>2020-04-13</th>\n",
       "      <td>0.285322</td>\n",
       "      <td>0.757166</td>\n",
       "      <td>0.717937</td>\n",
       "      <td>302410.058942</td>\n",
       "      <td>2.497579e+07</td>\n",
       "      <td>806105.0</td>\n",
       "      <td>83164717.0</td>\n",
       "      <td>0.899761</td>\n",
       "      <td>1.619308</td>\n",
       "      <td>1.780286</td>\n",
       "      <td>...</td>\n",
       "      <td>0.873234</td>\n",
       "      <td>5.061855</td>\n",
       "      <td>2.732167</td>\n",
       "      <td>394350.015547</td>\n",
       "      <td>2.822167e+07</td>\n",
       "      <td>0.956415</td>\n",
       "      <td>7.296587</td>\n",
       "      <td>5.942469</td>\n",
       "      <td>501447.278455</td>\n",
       "      <td>4.353774e+07</td>\n",
       "    </tr>\n",
       "    <tr>\n",
       "      <th>2020-04-14</th>\n",
       "      <td>0.744225</td>\n",
       "      <td>0.690869</td>\n",
       "      <td>0.605062</td>\n",
       "      <td>328987.136047</td>\n",
       "      <td>2.289724e+07</td>\n",
       "      <td>1355716.0</td>\n",
       "      <td>88991066.0</td>\n",
       "      <td>0.812464</td>\n",
       "      <td>0.809988</td>\n",
       "      <td>1.265155</td>\n",
       "      <td>...</td>\n",
       "      <td>0.855684</td>\n",
       "      <td>4.749327</td>\n",
       "      <td>2.429670</td>\n",
       "      <td>398047.422672</td>\n",
       "      <td>2.810251e+07</td>\n",
       "      <td>0.955830</td>\n",
       "      <td>7.242258</td>\n",
       "      <td>5.903685</td>\n",
       "      <td>499324.009940</td>\n",
       "      <td>4.329414e+07</td>\n",
       "    </tr>\n",
       "    <tr>\n",
       "      <th>2020-04-15</th>\n",
       "      <td>0.669138</td>\n",
       "      <td>0.557704</td>\n",
       "      <td>0.948736</td>\n",
       "      <td>743926.304548</td>\n",
       "      <td>8.053413e+06</td>\n",
       "      <td>2278293.0</td>\n",
       "      <td>99082222.0</td>\n",
       "      <td>0.763178</td>\n",
       "      <td>0.742662</td>\n",
       "      <td>1.054806</td>\n",
       "      <td>...</td>\n",
       "      <td>0.838961</td>\n",
       "      <td>4.503525</td>\n",
       "      <td>2.213206</td>\n",
       "      <td>413290.376634</td>\n",
       "      <td>2.791707e+07</td>\n",
       "      <td>0.955499</td>\n",
       "      <td>7.181165</td>\n",
       "      <td>5.880124</td>\n",
       "      <td>508435.387384</td>\n",
       "      <td>4.311943e+07</td>\n",
       "    </tr>\n",
       "    <tr>\n",
       "      <th>2020-04-16</th>\n",
       "      <td>0.999157</td>\n",
       "      <td>0.874700</td>\n",
       "      <td>1.176194</td>\n",
       "      <td>517946.082569</td>\n",
       "      <td>5.763041e+06</td>\n",
       "      <td>1409030.0</td>\n",
       "      <td>89213331.0</td>\n",
       "      <td>0.850864</td>\n",
       "      <td>0.934045</td>\n",
       "      <td>1.247644</td>\n",
       "      <td>...</td>\n",
       "      <td>0.804045</td>\n",
       "      <td>4.116882</td>\n",
       "      <td>1.889247</td>\n",
       "      <td>415401.921947</td>\n",
       "      <td>2.829094e+07</td>\n",
       "      <td>0.955313</td>\n",
       "      <td>7.132217</td>\n",
       "      <td>5.870661</td>\n",
       "      <td>505842.593475</td>\n",
       "      <td>4.285879e+07</td>\n",
       "    </tr>\n",
       "    <tr>\n",
       "      <th>2020-04-17</th>\n",
       "      <td>0.989084</td>\n",
       "      <td>0.590706</td>\n",
       "      <td>0.934577</td>\n",
       "      <td>589549.347253</td>\n",
       "      <td>4.995399e+06</td>\n",
       "      <td>1153740.0</td>\n",
       "      <td>92800270.0</td>\n",
       "      <td>0.925646</td>\n",
       "      <td>0.826182</td>\n",
       "      <td>1.244438</td>\n",
       "      <td>...</td>\n",
       "      <td>0.769041</td>\n",
       "      <td>3.847763</td>\n",
       "      <td>1.682137</td>\n",
       "      <td>423790.061719</td>\n",
       "      <td>2.854438e+07</td>\n",
       "      <td>0.954626</td>\n",
       "      <td>7.061832</td>\n",
       "      <td>5.824581</td>\n",
       "      <td>501822.152481</td>\n",
       "      <td>4.238371e+07</td>\n",
       "    </tr>\n",
       "  </tbody>\n",
       "</table>\n",
       "<p>3811 rows × 32 columns</p>\n",
       "</div>"
      ],
      "text/plain": [
       "            pnr_bac_close_corr_rolling_3_days  pnr_close_std_rolling_3_days  \\\n",
       "date                                                                          \n",
       "2005-02-25                          -0.978919                      0.141000   \n",
       "2005-02-28                          -0.978919                      0.141000   \n",
       "2005-03-01                          -0.978919                      0.141000   \n",
       "2005-03-02                          -0.985118                      0.160553   \n",
       "2005-03-03                          -0.998760                      0.217682   \n",
       "...                                       ...                           ...   \n",
       "2020-04-13                           0.285322                      0.757166   \n",
       "2020-04-14                           0.744225                      0.690869   \n",
       "2020-04-15                           0.669138                      0.557704   \n",
       "2020-04-16                           0.999157                      0.874700   \n",
       "2020-04-17                           0.989084                      0.590706   \n",
       "\n",
       "            bac_close_std_rolling_3_days  pnr_volume_std_rolling_3_days  \\\n",
       "date                                                                      \n",
       "2005-02-25                      0.206350                   34297.951693   \n",
       "2005-02-28                      0.206350                   34297.951693   \n",
       "2005-03-01                      0.206350                   34297.951693   \n",
       "2005-03-02                      0.258003                   15394.968236   \n",
       "2005-03-03                      0.359674                   70107.715840   \n",
       "...                                  ...                            ...   \n",
       "2020-04-13                      0.717937                  302410.058942   \n",
       "2020-04-14                      0.605062                  328987.136047   \n",
       "2020-04-15                      0.948736                  743926.304548   \n",
       "2020-04-16                      1.176194                  517946.082569   \n",
       "2020-04-17                      0.934577                  589549.347253   \n",
       "\n",
       "            bac_volume_std_rolling_3_days  pnr_volume  bac_volume  \\\n",
       "date                                                                \n",
       "2005-02-25                   1.350538e+06    425379.0   8656470.0   \n",
       "2005-02-28                   1.350538e+06    489224.0  10653157.0   \n",
       "2005-03-01                   1.350538e+06    479025.0  11230182.0   \n",
       "2005-03-02                   4.720071e+05    458965.0  10294635.0   \n",
       "2005-03-03                   7.917529e+05    589176.0   9655981.0   \n",
       "...                                   ...         ...         ...   \n",
       "2020-04-13                   2.497579e+07    806105.0  83164717.0   \n",
       "2020-04-14                   2.289724e+07   1355716.0  88991066.0   \n",
       "2020-04-15                   8.053413e+06   2278293.0  99082222.0   \n",
       "2020-04-16                   5.763041e+06   1409030.0  89213331.0   \n",
       "2020-04-17                   4.995399e+06   1153740.0  92800270.0   \n",
       "\n",
       "            pnr_bac_close_corr_rolling_6_days  pnr_close_std_rolling_6_days  \\\n",
       "date                                                                          \n",
       "2005-02-25                          -0.299410                      0.324757   \n",
       "2005-02-28                          -0.299410                      0.324757   \n",
       "2005-03-01                          -0.299410                      0.324757   \n",
       "2005-03-02                          -0.299410                      0.324757   \n",
       "2005-03-03                          -0.299410                      0.324757   \n",
       "...                                       ...                           ...   \n",
       "2020-04-13                           0.899761                      1.619308   \n",
       "2020-04-14                           0.812464                      0.809988   \n",
       "2020-04-15                           0.763178                      0.742662   \n",
       "2020-04-16                           0.850864                      0.934045   \n",
       "2020-04-17                           0.925646                      0.826182   \n",
       "\n",
       "            bac_close_std_rolling_6_days  ...  \\\n",
       "date                                      ...   \n",
       "2005-02-25                      0.235476  ...   \n",
       "2005-02-28                      0.235476  ...   \n",
       "2005-03-01                      0.235476  ...   \n",
       "2005-03-02                      0.235476  ...   \n",
       "2005-03-03                      0.235476  ...   \n",
       "...                                  ...  ...   \n",
       "2020-04-13                      1.780286  ...   \n",
       "2020-04-14                      1.265155  ...   \n",
       "2020-04-15                      1.054806  ...   \n",
       "2020-04-16                      1.247644  ...   \n",
       "2020-04-17                      1.244438  ...   \n",
       "\n",
       "            pnr_bac_close_corr_rolling_30_days  pnr_close_std_rolling_30_days  \\\n",
       "date                                                                            \n",
       "2005-02-25                            0.941902                       1.048560   \n",
       "2005-02-28                            0.941902                       1.048560   \n",
       "2005-03-01                            0.941902                       1.048560   \n",
       "2005-03-02                            0.941902                       1.048560   \n",
       "2005-03-03                            0.941902                       1.048560   \n",
       "...                                        ...                            ...   \n",
       "2020-04-13                            0.873234                       5.061855   \n",
       "2020-04-14                            0.855684                       4.749327   \n",
       "2020-04-15                            0.838961                       4.503525   \n",
       "2020-04-16                            0.804045                       4.116882   \n",
       "2020-04-17                            0.769041                       3.847763   \n",
       "\n",
       "            bac_close_std_rolling_30_days  pnr_volume_std_rolling_30_days  \\\n",
       "date                                                                        \n",
       "2005-02-25                       1.025981                   196053.072443   \n",
       "2005-02-28                       1.025981                   196053.072443   \n",
       "2005-03-01                       1.025981                   196053.072443   \n",
       "2005-03-02                       1.025981                   196053.072443   \n",
       "2005-03-03                       1.025981                   196053.072443   \n",
       "...                                   ...                             ...   \n",
       "2020-04-13                       2.732167                   394350.015547   \n",
       "2020-04-14                       2.429670                   398047.422672   \n",
       "2020-04-15                       2.213206                   413290.376634   \n",
       "2020-04-16                       1.889247                   415401.921947   \n",
       "2020-04-17                       1.682137                   423790.061719   \n",
       "\n",
       "            bac_volume_std_rolling_30_days  \\\n",
       "date                                         \n",
       "2005-02-25                    3.173304e+06   \n",
       "2005-02-28                    3.173304e+06   \n",
       "2005-03-01                    3.173304e+06   \n",
       "2005-03-02                    3.173304e+06   \n",
       "2005-03-03                    3.173304e+06   \n",
       "...                                    ...   \n",
       "2020-04-13                    2.822167e+07   \n",
       "2020-04-14                    2.810251e+07   \n",
       "2020-04-15                    2.791707e+07   \n",
       "2020-04-16                    2.829094e+07   \n",
       "2020-04-17                    2.854438e+07   \n",
       "\n",
       "            pnr_bac_close_corr_rolling_60_days  pnr_close_std_rolling_60_days  \\\n",
       "date                                                                            \n",
       "2005-02-25                            0.783557                       1.577593   \n",
       "2005-02-28                            0.783557                       1.577593   \n",
       "2005-03-01                            0.783557                       1.577593   \n",
       "2005-03-02                            0.783557                       1.577593   \n",
       "2005-03-03                            0.783557                       1.577593   \n",
       "...                                        ...                            ...   \n",
       "2020-04-13                            0.956415                       7.296587   \n",
       "2020-04-14                            0.955830                       7.242258   \n",
       "2020-04-15                            0.955499                       7.181165   \n",
       "2020-04-16                            0.955313                       7.132217   \n",
       "2020-04-17                            0.954626                       7.061832   \n",
       "\n",
       "            bac_close_std_rolling_60_days  pnr_volume_std_rolling_60_days  \\\n",
       "date                                                                        \n",
       "2005-02-25                       0.847369                   415542.833243   \n",
       "2005-02-28                       0.847369                   415542.833243   \n",
       "2005-03-01                       0.847369                   415542.833243   \n",
       "2005-03-02                       0.847369                   415542.833243   \n",
       "2005-03-03                       0.847369                   415542.833243   \n",
       "...                                   ...                             ...   \n",
       "2020-04-13                       5.942469                   501447.278455   \n",
       "2020-04-14                       5.903685                   499324.009940   \n",
       "2020-04-15                       5.880124                   508435.387384   \n",
       "2020-04-16                       5.870661                   505842.593475   \n",
       "2020-04-17                       5.824581                   501822.152481   \n",
       "\n",
       "            bac_volume_std_rolling_60_days  \n",
       "date                                        \n",
       "2005-02-25                    2.889315e+06  \n",
       "2005-02-28                    2.889315e+06  \n",
       "2005-03-01                    2.889315e+06  \n",
       "2005-03-02                    2.889315e+06  \n",
       "2005-03-03                    2.889315e+06  \n",
       "...                                    ...  \n",
       "2020-04-13                    4.353774e+07  \n",
       "2020-04-14                    4.329414e+07  \n",
       "2020-04-15                    4.311943e+07  \n",
       "2020-04-16                    4.285879e+07  \n",
       "2020-04-17                    4.238371e+07  \n",
       "\n",
       "[3811 rows x 32 columns]"
      ]
     },
     "execution_count": 794,
     "metadata": {},
     "output_type": "execute_result"
    }
   ],
   "source": [
    "final_stock_df.loc[~pd.isna(final_stock_df.pnr_volume), :]"
   ]
  },
  {
   "cell_type": "code",
   "execution_count": 930,
   "metadata": {},
   "outputs": [
    {
     "data": {
      "text/plain": [
       "<matplotlib.axes._subplots.AxesSubplot at 0x14c8c2198>"
      ]
     },
     "execution_count": 930,
     "metadata": {},
     "output_type": "execute_result"
    },
    {
     "data": {
      "image/png": "[encoded data removed]",
      "text/plain": [
       "<Figure size 1080x360 with 1 Axes>"
      ]
     },
     "metadata": {
      "needs_background": "light"
     },
     "output_type": "display_data"
    }
   ],
   "source": [
    "final_stock_df.loc[((final_stock_df.index>'2020-01-01') & (final_stock_df.index<'2021-01-01')), :][['pnr_bac_close_corr_rolling_3_days','pnr_bac_close_corr_rolling_6_days', \n",
    "                                                'pnr_bac_close_corr_rolling_8_days']].plot(figsize=(15,5))"
   ]
  },
  {
   "cell_type": "code",
   "execution_count": 931,
   "metadata": {},
   "outputs": [
    {
     "data": {
      "text/plain": [
       "Index(['pnr_bac_close_corr_rolling_3_days', 'pnr_close_std_rolling_3_days',\n",
       "       'bac_close_std_rolling_3_days', 'pnr_volume_std_rolling_3_days',\n",
       "       'bac_volume_std_rolling_3_days', 'pnr_volume', 'bac_volume',\n",
       "       'pnr_bac_close_corr_rolling_6_days', 'pnr_close_std_rolling_6_days',\n",
       "       'bac_close_std_rolling_6_days',\n",
       "       ...\n",
       "       'so_eqix_close_corr_rolling_7_days',\n",
       "       'so_eqix_close_corr_rolling_8_days',\n",
       "       'so_eqix_close_corr_rolling_10_days',\n",
       "       'so_eqix_close_corr_rolling_15_days',\n",
       "       'so_rost_close_corr_rolling_3_days',\n",
       "       'so_rost_close_corr_rolling_6_days',\n",
       "       'so_rost_close_corr_rolling_7_days',\n",
       "       'so_rost_close_corr_rolling_8_days',\n",
       "       'so_rost_close_corr_rolling_10_days',\n",
       "       'so_rost_close_corr_rolling_15_days'],\n",
       "      dtype='object', length=2540)"
      ]
     },
     "execution_count": 931,
     "metadata": {},
     "output_type": "execute_result"
    }
   ],
   "source": [
    "final_stock_df.columns"
   ]
  },
  {
   "cell_type": "markdown",
   "metadata": {},
   "source": [
    "## Train Test Split to predict correlation over the next 7 days\n",
    "- rolling evey day make a predictions about what the correlation will be for the next 7 days stock price"
   ]
  },
  {
   "cell_type": "code",
   "execution_count": 932,
   "metadata": {},
   "outputs": [
    {
     "data": {
      "text/plain": [
       "datetime.timedelta(days=7)"
      ]
     },
     "execution_count": 932,
     "metadata": {},
     "output_type": "execute_result"
    }
   ],
   "source": [
    "datetime.timedelta(7)"
   ]
  },
  {
   "cell_type": "markdown",
   "metadata": {},
   "source": [
    "- Rolling Predictions"
   ]
  },
  {
   "cell_type": "code",
   "execution_count": 800,
   "metadata": {},
   "outputs": [],
   "source": [
    "# drop na\n",
    "final_stock_df = final_stock_df.dropna()"
   ]
  },
  {
   "cell_type": "code",
   "execution_count": 801,
   "metadata": {},
   "outputs": [
    {
     "name": "stdout",
     "output_type": "stream",
     "text": [
      "<class 'pandas.core.frame.DataFrame'>\n",
      "DatetimeIndex: 3811 entries, 2005-02-25 to 2020-04-17\n",
      "Data columns (total 36 columns):\n",
      " #   Column                              Non-Null Count  Dtype  \n",
      "---  ------                              --------------  -----  \n",
      " 0   pnr_bac_close_corr_rolling_3_days   3811 non-null   float64\n",
      " 1   pnr_close_std_rolling_3_days        3811 non-null   float64\n",
      " 2   bac_close_std_rolling_3_days        3811 non-null   float64\n",
      " 3   pnr_volume_std_rolling_3_days       3811 non-null   float64\n",
      " 4   bac_volume_std_rolling_3_days       3811 non-null   float64\n",
      " 5   pnr_volume                          3811 non-null   float64\n",
      " 6   bac_volume                          3811 non-null   float64\n",
      " 7   pnr_bac_close_corr_rolling_6_days   3811 non-null   float64\n",
      " 8   pnr_close_std_rolling_6_days        3811 non-null   float64\n",
      " 9   bac_close_std_rolling_6_days        3811 non-null   float64\n",
      " 10  pnr_volume_std_rolling_6_days       3811 non-null   float64\n",
      " 11  bac_volume_std_rolling_6_days       3811 non-null   float64\n",
      " 12  pnr_bac_close_corr_rolling_7_days   3811 non-null   float64\n",
      " 13  pnr_close_std_rolling_7_days        3811 non-null   float64\n",
      " 14  bac_close_std_rolling_7_days        3811 non-null   float64\n",
      " 15  pnr_volume_std_rolling_7_days       3811 non-null   float64\n",
      " 16  bac_volume_std_rolling_7_days       3811 non-null   float64\n",
      " 17  pnr_bac_close_corr_rolling_8_days   3811 non-null   float64\n",
      " 18  pnr_close_std_rolling_8_days        3811 non-null   float64\n",
      " 19  bac_close_std_rolling_8_days        3811 non-null   float64\n",
      " 20  pnr_volume_std_rolling_8_days       3811 non-null   float64\n",
      " 21  bac_volume_std_rolling_8_days       3811 non-null   float64\n",
      " 22  pnr_bac_close_corr_rolling_30_days  3811 non-null   float64\n",
      " 23  pnr_close_std_rolling_30_days       3811 non-null   float64\n",
      " 24  bac_close_std_rolling_30_days       3811 non-null   float64\n",
      " 25  pnr_volume_std_rolling_30_days      3811 non-null   float64\n",
      " 26  bac_volume_std_rolling_30_days      3811 non-null   float64\n",
      " 27  pnr_bac_close_corr_rolling_60_days  3811 non-null   float64\n",
      " 28  pnr_close_std_rolling_60_days       3811 non-null   float64\n",
      " 29  bac_close_std_rolling_60_days       3811 non-null   float64\n",
      " 30  pnr_volume_std_rolling_60_days      3811 non-null   float64\n",
      " 31  bac_volume_std_rolling_60_days      3811 non-null   float64\n",
      " 32  day                                 3811 non-null   int64  \n",
      " 33  month                               3811 non-null   int64  \n",
      " 34  quarter                             3811 non-null   int64  \n",
      " 35  year                                3811 non-null   int64  \n",
      "dtypes: float64(32), int64(4)\n",
      "memory usage: 1.1 MB\n"
     ]
    }
   ],
   "source": [
    "final_stock_df.info()"
   ]
  },
  {
   "cell_type": "markdown",
   "metadata": {},
   "source": []
  },
  {
   "cell_type": "code",
   "execution_count": 807,
   "metadata": {},
   "outputs": [],
   "source": [
    "def evaluate_predictios_on_rolling_historical_data(final_stock_df, rolling_window = 7, starting_date_index= 3500,\n",
    "                                                   y_col='pnr_bac_close_corr_rolling_7_days'):\n",
    "    \"\"\"\n",
    "    Backtesting\n",
    "    \n",
    "    For now, assumes the final_stock only has pairs the one start stock and all others, pnc_bac, pnc_bar ...etc\n",
    "    \"\"\"\n",
    "    \n",
    "    predicted_corr_7_days = []\n",
    "    actual = []\n",
    "    rmse_corr_7_days = []\n",
    "    prediction_date = []\n",
    "\n",
    "    print_idx = 100\n",
    "     # otherwise, takes too long\n",
    "    start = time.time()\n",
    "\n",
    "    final_row = None\n",
    "    for date_idx, date in enumerate(list(final_stock_df.index)[starting_date_index:]):\n",
    "    #     print((date_id x+ starting_date_index+rolling_window+1))\n",
    "    #     print(len(final_stock_df))\n",
    "\n",
    "        if final_row:\n",
    "            break\n",
    "        if (date_idx + starting_date_index +rolling_window +1) == len(final_stock_df): # last row\n",
    "            final_row = True\n",
    "            # need to use the dates from the DF due to weekends\n",
    "            train_dates = final_stock_df.index[:starting_date_index+date_idx]\n",
    "            # The test is the rolling 7-day corr looking back the past seven days\n",
    "            # Therefore, the test_date should be seven dates ahead of the data we are training on\n",
    "\n",
    "            test_date = final_stock_df.index[starting_date_index+rolling_window+date_idx]\n",
    "\n",
    "        else:\n",
    "            # need to use the dates from the DF due to weekends\n",
    "            train_dates = final_stock_df.index[:starting_date_index+date_idx+1]\n",
    "            # The test is the rolling 7-day corr looking back the past seven days\n",
    "            # Therefore, the test_date should be seven dates ahead of the data we are training on\n",
    "\n",
    "            test_date = final_stock_df.index[starting_date_index+rolling_window+date_idx+1]\n",
    "\n",
    "\n",
    "        prediction_date.append(test_date)\n",
    "\n",
    "        if date_idx % print_idx == 0:\n",
    "            print(f\"Train dates =  {train_dates}\")\n",
    "            print(F\"Prediction date = {test_date}\")\n",
    "\n",
    "        train_df = final_stock_df[final_stock_df.index.isin(list(train_dates))]\n",
    "        test_df = final_stock_df[final_stock_df.index == test_date]\n",
    "\n",
    "        # TODO - search for the rolling 7-days column, don't hardcode\n",
    "        X_train, y_train = train_df.loc[:, train_df.columns != f\"{y_col}\"],  train_df.pnr_bac_close_corr_rolling_7_days\n",
    "        X_test, y_test = test_df.loc[:, test_df.columns != f\"{y_col}\"],  test_df.pnr_bac_close_corr_rolling_7_days\n",
    "\n",
    "    #     gb = GradientBoostingRegressor()\n",
    "        rf = RandomForestRegressor(n_jobs=-1)\n",
    "\n",
    "        X_train = np.nan_to_num(X_train.astype(np.float32)) # converting to float 32 throws some infinity errors\n",
    "        rf.fit(X_train, y_train)\n",
    "\n",
    "        prediction = rf.predict(X_test)\n",
    "\n",
    "        predicted_corr_7_days.append(prediction[0])\n",
    "        actual.append(y_test.values[0])\n",
    "\n",
    "        rmse_corr_7_days.append(np.sqrt(mean_squared_error(y_test, prediction)))\n",
    "        if date_idx % print_idx == 0:\n",
    "            print('prediction = ', prediction)\n",
    "            print('actual =', y_test.values)\n",
    "            print('')\n",
    "\n",
    "\n",
    "    end = time.time()\n",
    "\n",
    "    print(f\"Predictions took {(end-start)/60} minutes\")\n",
    "    \n",
    "    prediction_df = pd.DataFrame( {'actual_corr_7_days':actual, 'predicted_corr_7_days': predicted_corr_7_days, 'prediction_date':prediction_date})\n",
    "    \n",
    "    return prediction_df"
   ]
  },
  {
   "cell_type": "code",
   "execution_count": 810,
   "metadata": {},
   "outputs": [
    {
     "name": "stdout",
     "output_type": "stream",
     "text": [
      "Train dates =  DatetimeIndex(['2005-02-25', '2005-02-28', '2005-03-01', '2005-03-02',\n",
      "               '2005-03-03', '2005-03-04', '2005-03-07', '2005-03-08',\n",
      "               '2005-03-09', '2005-03-10',\n",
      "               ...\n",
      "               '2019-01-10', '2019-01-11', '2019-01-14', '2019-01-15',\n",
      "               '2019-01-16', '2019-01-17', '2019-01-18', '2019-01-22',\n",
      "               '2019-01-23', '2019-01-24'],\n",
      "              dtype='datetime64[ns]', name='date', length=3501, freq=None)\n",
      "Prediction date = 2019-02-05 00:00:00\n",
      "prediction =  [-0.39793788]\n",
      "actual = [-0.606127]\n",
      "\n"
     ]
    },
    {
     "ename": "KeyboardInterrupt",
     "evalue": "",
     "output_type": "error",
     "traceback": [
      "\u001b[0;31m---------------------------------------------------------------------------\u001b[0m",
      "\u001b[0;31mKeyboardInterrupt\u001b[0m                         Traceback (most recent call last)",
      "\u001b[0;32m<ipython-input-810-2595702fe915>\u001b[0m in \u001b[0;36m<module>\u001b[0;34m\u001b[0m\n\u001b[0;32m----> 1\u001b[0;31m \u001b[0mevaluate_predictios_on_rolling_historical_data\u001b[0m\u001b[0;34m(\u001b[0m\u001b[0mfinal_stock_df\u001b[0m\u001b[0;34m)\u001b[0m\u001b[0;34m\u001b[0m\u001b[0m\n\u001b[0m",
      "\u001b[0;32m<ipython-input-807-8aa6e0f53b35>\u001b[0m in \u001b[0;36mevaluate_predictios_on_rolling_historical_data\u001b[0;34m(final_stock_df, rolling_window, starting_date_index, y_col)\u001b[0m\n\u001b[1;32m     56\u001b[0m \u001b[0;34m\u001b[0m\u001b[0m\n\u001b[1;32m     57\u001b[0m         \u001b[0mX_train\u001b[0m \u001b[0;34m=\u001b[0m \u001b[0mnp\u001b[0m\u001b[0;34m.\u001b[0m\u001b[0mnan_to_num\u001b[0m\u001b[0;34m(\u001b[0m\u001b[0mX_train\u001b[0m\u001b[0;34m.\u001b[0m\u001b[0mastype\u001b[0m\u001b[0;34m(\u001b[0m\u001b[0mnp\u001b[0m\u001b[0;34m.\u001b[0m\u001b[0mfloat32\u001b[0m\u001b[0;34m)\u001b[0m\u001b[0;34m)\u001b[0m \u001b[0;31m# converting to float 32 throws some infinity errors\u001b[0m\u001b[0;34m\u001b[0m\u001b[0m\n\u001b[0;32m---> 58\u001b[0;31m         \u001b[0mrf\u001b[0m\u001b[0;34m.\u001b[0m\u001b[0mfit\u001b[0m\u001b[0;34m(\u001b[0m\u001b[0mX_train\u001b[0m\u001b[0;34m,\u001b[0m \u001b[0my_train\u001b[0m\u001b[0;34m)\u001b[0m\u001b[0;34m\u001b[0m\u001b[0m\n\u001b[0m\u001b[1;32m     59\u001b[0m \u001b[0;34m\u001b[0m\u001b[0m\n\u001b[1;32m     60\u001b[0m         \u001b[0mprediction\u001b[0m \u001b[0;34m=\u001b[0m \u001b[0mrf\u001b[0m\u001b[0;34m.\u001b[0m\u001b[0mpredict\u001b[0m\u001b[0;34m(\u001b[0m\u001b[0mX_test\u001b[0m\u001b[0;34m)\u001b[0m\u001b[0;34m\u001b[0m\u001b[0m\n",
      "\u001b[0;32m~/Library/Caches/pypoetry/virtualenvs/daily-trading-nJ43NNNI-py3.7/lib/python3.7/site-packages/sklearn/ensemble/_forest.py\u001b[0m in \u001b[0;36mfit\u001b[0;34m(self, X, y, sample_weight)\u001b[0m\n\u001b[1;32m    381\u001b[0m                     \u001b[0mverbose\u001b[0m\u001b[0;34m=\u001b[0m\u001b[0mself\u001b[0m\u001b[0;34m.\u001b[0m\u001b[0mverbose\u001b[0m\u001b[0;34m,\u001b[0m \u001b[0mclass_weight\u001b[0m\u001b[0;34m=\u001b[0m\u001b[0mself\u001b[0m\u001b[0;34m.\u001b[0m\u001b[0mclass_weight\u001b[0m\u001b[0;34m,\u001b[0m\u001b[0;34m\u001b[0m\u001b[0m\n\u001b[1;32m    382\u001b[0m                     n_samples_bootstrap=n_samples_bootstrap)\n\u001b[0;32m--> 383\u001b[0;31m                 for i, t in enumerate(trees))\n\u001b[0m\u001b[1;32m    384\u001b[0m \u001b[0;34m\u001b[0m\u001b[0m\n\u001b[1;32m    385\u001b[0m             \u001b[0;31m# Collect newly grown trees\u001b[0m\u001b[0;34m\u001b[0m\u001b[0;34m\u001b[0m\u001b[0m\n",
      "\u001b[0;32m~/Library/Caches/pypoetry/virtualenvs/daily-trading-nJ43NNNI-py3.7/lib/python3.7/site-packages/joblib/parallel.py\u001b[0m in \u001b[0;36m__call__\u001b[0;34m(self, iterable)\u001b[0m\n\u001b[1;32m   1015\u001b[0m \u001b[0;34m\u001b[0m\u001b[0m\n\u001b[1;32m   1016\u001b[0m             \u001b[0;32mwith\u001b[0m \u001b[0mself\u001b[0m\u001b[0;34m.\u001b[0m\u001b[0m_backend\u001b[0m\u001b[0;34m.\u001b[0m\u001b[0mretrieval_context\u001b[0m\u001b[0;34m(\u001b[0m\u001b[0;34m)\u001b[0m\u001b[0;34m:\u001b[0m\u001b[0;34m\u001b[0m\u001b[0m\n\u001b[0;32m-> 1017\u001b[0;31m                 \u001b[0mself\u001b[0m\u001b[0;34m.\u001b[0m\u001b[0mretrieve\u001b[0m\u001b[0;34m(\u001b[0m\u001b[0;34m)\u001b[0m\u001b[0;34m\u001b[0m\u001b[0m\n\u001b[0m\u001b[1;32m   1018\u001b[0m             \u001b[0;31m# Make sure that we get a last message telling us we are done\u001b[0m\u001b[0;34m\u001b[0m\u001b[0;34m\u001b[0m\u001b[0m\n\u001b[1;32m   1019\u001b[0m             \u001b[0melapsed_time\u001b[0m \u001b[0;34m=\u001b[0m \u001b[0mtime\u001b[0m\u001b[0;34m.\u001b[0m\u001b[0mtime\u001b[0m\u001b[0;34m(\u001b[0m\u001b[0;34m)\u001b[0m \u001b[0;34m-\u001b[0m \u001b[0mself\u001b[0m\u001b[0;34m.\u001b[0m\u001b[0m_start_time\u001b[0m\u001b[0;34m\u001b[0m\u001b[0m\n",
      "\u001b[0;32m~/Library/Caches/pypoetry/virtualenvs/daily-trading-nJ43NNNI-py3.7/lib/python3.7/site-packages/joblib/parallel.py\u001b[0m in \u001b[0;36mretrieve\u001b[0;34m(self)\u001b[0m\n\u001b[1;32m    907\u001b[0m             \u001b[0;32mtry\u001b[0m\u001b[0;34m:\u001b[0m\u001b[0;34m\u001b[0m\u001b[0m\n\u001b[1;32m    908\u001b[0m                 \u001b[0;32mif\u001b[0m \u001b[0mgetattr\u001b[0m\u001b[0;34m(\u001b[0m\u001b[0mself\u001b[0m\u001b[0;34m.\u001b[0m\u001b[0m_backend\u001b[0m\u001b[0;34m,\u001b[0m \u001b[0;34m'supports_timeout'\u001b[0m\u001b[0;34m,\u001b[0m \u001b[0;32mFalse\u001b[0m\u001b[0;34m)\u001b[0m\u001b[0;34m:\u001b[0m\u001b[0;34m\u001b[0m\u001b[0m\n\u001b[0;32m--> 909\u001b[0;31m                     \u001b[0mself\u001b[0m\u001b[0;34m.\u001b[0m\u001b[0m_output\u001b[0m\u001b[0;34m.\u001b[0m\u001b[0mextend\u001b[0m\u001b[0;34m(\u001b[0m\u001b[0mjob\u001b[0m\u001b[0;34m.\u001b[0m\u001b[0mget\u001b[0m\u001b[0;34m(\u001b[0m\u001b[0mtimeout\u001b[0m\u001b[0;34m=\u001b[0m\u001b[0mself\u001b[0m\u001b[0;34m.\u001b[0m\u001b[0mtimeout\u001b[0m\u001b[0;34m)\u001b[0m\u001b[0;34m)\u001b[0m\u001b[0;34m\u001b[0m\u001b[0m\n\u001b[0m\u001b[1;32m    910\u001b[0m                 \u001b[0;32melse\u001b[0m\u001b[0;34m:\u001b[0m\u001b[0;34m\u001b[0m\u001b[0m\n\u001b[1;32m    911\u001b[0m                     \u001b[0mself\u001b[0m\u001b[0;34m.\u001b[0m\u001b[0m_output\u001b[0m\u001b[0;34m.\u001b[0m\u001b[0mextend\u001b[0m\u001b[0;34m(\u001b[0m\u001b[0mjob\u001b[0m\u001b[0;34m.\u001b[0m\u001b[0mget\u001b[0m\u001b[0;34m(\u001b[0m\u001b[0;34m)\u001b[0m\u001b[0;34m)\u001b[0m\u001b[0;34m\u001b[0m\u001b[0m\n",
      "\u001b[0;32m~/.pyenv/versions/3.7.0/lib/python3.7/multiprocessing/pool.py\u001b[0m in \u001b[0;36mget\u001b[0;34m(self, timeout)\u001b[0m\n\u001b[1;32m    649\u001b[0m \u001b[0;34m\u001b[0m\u001b[0m\n\u001b[1;32m    650\u001b[0m     \u001b[0;32mdef\u001b[0m \u001b[0mget\u001b[0m\u001b[0;34m(\u001b[0m\u001b[0mself\u001b[0m\u001b[0;34m,\u001b[0m \u001b[0mtimeout\u001b[0m\u001b[0;34m=\u001b[0m\u001b[0;32mNone\u001b[0m\u001b[0;34m)\u001b[0m\u001b[0;34m:\u001b[0m\u001b[0;34m\u001b[0m\u001b[0m\n\u001b[0;32m--> 651\u001b[0;31m         \u001b[0mself\u001b[0m\u001b[0;34m.\u001b[0m\u001b[0mwait\u001b[0m\u001b[0;34m(\u001b[0m\u001b[0mtimeout\u001b[0m\u001b[0;34m)\u001b[0m\u001b[0;34m\u001b[0m\u001b[0m\n\u001b[0m\u001b[1;32m    652\u001b[0m         \u001b[0;32mif\u001b[0m \u001b[0;32mnot\u001b[0m \u001b[0mself\u001b[0m\u001b[0;34m.\u001b[0m\u001b[0mready\u001b[0m\u001b[0;34m(\u001b[0m\u001b[0;34m)\u001b[0m\u001b[0;34m:\u001b[0m\u001b[0;34m\u001b[0m\u001b[0m\n\u001b[1;32m    653\u001b[0m             \u001b[0;32mraise\u001b[0m \u001b[0mTimeoutError\u001b[0m\u001b[0;34m\u001b[0m\u001b[0m\n",
      "\u001b[0;32m~/.pyenv/versions/3.7.0/lib/python3.7/multiprocessing/pool.py\u001b[0m in \u001b[0;36mwait\u001b[0;34m(self, timeout)\u001b[0m\n\u001b[1;32m    646\u001b[0m \u001b[0;34m\u001b[0m\u001b[0m\n\u001b[1;32m    647\u001b[0m     \u001b[0;32mdef\u001b[0m \u001b[0mwait\u001b[0m\u001b[0;34m(\u001b[0m\u001b[0mself\u001b[0m\u001b[0;34m,\u001b[0m \u001b[0mtimeout\u001b[0m\u001b[0;34m=\u001b[0m\u001b[0;32mNone\u001b[0m\u001b[0;34m)\u001b[0m\u001b[0;34m:\u001b[0m\u001b[0;34m\u001b[0m\u001b[0m\n\u001b[0;32m--> 648\u001b[0;31m         \u001b[0mself\u001b[0m\u001b[0;34m.\u001b[0m\u001b[0m_event\u001b[0m\u001b[0;34m.\u001b[0m\u001b[0mwait\u001b[0m\u001b[0;34m(\u001b[0m\u001b[0mtimeout\u001b[0m\u001b[0;34m)\u001b[0m\u001b[0;34m\u001b[0m\u001b[0m\n\u001b[0m\u001b[1;32m    649\u001b[0m \u001b[0;34m\u001b[0m\u001b[0m\n\u001b[1;32m    650\u001b[0m     \u001b[0;32mdef\u001b[0m \u001b[0mget\u001b[0m\u001b[0;34m(\u001b[0m\u001b[0mself\u001b[0m\u001b[0;34m,\u001b[0m \u001b[0mtimeout\u001b[0m\u001b[0;34m=\u001b[0m\u001b[0;32mNone\u001b[0m\u001b[0;34m)\u001b[0m\u001b[0;34m:\u001b[0m\u001b[0;34m\u001b[0m\u001b[0m\n",
      "\u001b[0;32m~/.pyenv/versions/3.7.0/lib/python3.7/threading.py\u001b[0m in \u001b[0;36mwait\u001b[0;34m(self, timeout)\u001b[0m\n\u001b[1;32m    550\u001b[0m             \u001b[0msignaled\u001b[0m \u001b[0;34m=\u001b[0m \u001b[0mself\u001b[0m\u001b[0;34m.\u001b[0m\u001b[0m_flag\u001b[0m\u001b[0;34m\u001b[0m\u001b[0m\n\u001b[1;32m    551\u001b[0m             \u001b[0;32mif\u001b[0m \u001b[0;32mnot\u001b[0m \u001b[0msignaled\u001b[0m\u001b[0;34m:\u001b[0m\u001b[0;34m\u001b[0m\u001b[0m\n\u001b[0;32m--> 552\u001b[0;31m                 \u001b[0msignaled\u001b[0m \u001b[0;34m=\u001b[0m \u001b[0mself\u001b[0m\u001b[0;34m.\u001b[0m\u001b[0m_cond\u001b[0m\u001b[0;34m.\u001b[0m\u001b[0mwait\u001b[0m\u001b[0;34m(\u001b[0m\u001b[0mtimeout\u001b[0m\u001b[0;34m)\u001b[0m\u001b[0;34m\u001b[0m\u001b[0m\n\u001b[0m\u001b[1;32m    553\u001b[0m             \u001b[0;32mreturn\u001b[0m \u001b[0msignaled\u001b[0m\u001b[0;34m\u001b[0m\u001b[0m\n\u001b[1;32m    554\u001b[0m \u001b[0;34m\u001b[0m\u001b[0m\n",
      "\u001b[0;32m~/.pyenv/versions/3.7.0/lib/python3.7/threading.py\u001b[0m in \u001b[0;36mwait\u001b[0;34m(self, timeout)\u001b[0m\n\u001b[1;32m    294\u001b[0m         \u001b[0;32mtry\u001b[0m\u001b[0;34m:\u001b[0m    \u001b[0;31m# restore state no matter what (e.g., KeyboardInterrupt)\u001b[0m\u001b[0;34m\u001b[0m\u001b[0m\n\u001b[1;32m    295\u001b[0m             \u001b[0;32mif\u001b[0m \u001b[0mtimeout\u001b[0m \u001b[0;32mis\u001b[0m \u001b[0;32mNone\u001b[0m\u001b[0;34m:\u001b[0m\u001b[0;34m\u001b[0m\u001b[0m\n\u001b[0;32m--> 296\u001b[0;31m                 \u001b[0mwaiter\u001b[0m\u001b[0;34m.\u001b[0m\u001b[0macquire\u001b[0m\u001b[0;34m(\u001b[0m\u001b[0;34m)\u001b[0m\u001b[0;34m\u001b[0m\u001b[0m\n\u001b[0m\u001b[1;32m    297\u001b[0m                 \u001b[0mgotit\u001b[0m \u001b[0;34m=\u001b[0m \u001b[0;32mTrue\u001b[0m\u001b[0;34m\u001b[0m\u001b[0m\n\u001b[1;32m    298\u001b[0m             \u001b[0;32melse\u001b[0m\u001b[0;34m:\u001b[0m\u001b[0;34m\u001b[0m\u001b[0m\n",
      "\u001b[0;31mKeyboardInterrupt\u001b[0m: "
     ]
    }
   ],
   "source": [
    "evaluate_predictios_on_rolling_historical_data(final_stock_df)"
   ]
  },
  {
   "cell_type": "code",
   "execution_count": 803,
   "metadata": {},
   "outputs": [
    {
     "data": {
      "text/plain": [
       "0.07047565705321027"
      ]
     },
     "execution_count": 803,
     "metadata": {},
     "output_type": "execute_result"
    }
   ],
   "source": [
    "np.mean(rmse_corr_7_days) # rolling 6 + 8 day corr added"
   ]
  },
  {
   "cell_type": "code",
   "execution_count": 786,
   "metadata": {},
   "outputs": [
    {
     "data": {
      "text/plain": [
       "0.1364248274131171"
      ]
     },
     "execution_count": 786,
     "metadata": {},
     "output_type": "execute_result"
    }
   ],
   "source": [
    "np.mean(rmse_corr_7_days) # rolling 6 day corr added"
   ]
  },
  {
   "cell_type": "code",
   "execution_count": null,
   "metadata": {},
   "outputs": [],
   "source": []
  },
  {
   "cell_type": "code",
   "execution_count": 756,
   "metadata": {},
   "outputs": [
    {
     "data": {
      "text/plain": [
       "0.21447151296988917"
      ]
     },
     "execution_count": 756,
     "metadata": {},
     "output_type": "execute_result"
    }
   ],
   "source": [
    "np.mean(rmse_corr_7_days)"
   ]
  },
  {
   "cell_type": "code",
   "execution_count": 707,
   "metadata": {},
   "outputs": [
    {
     "data": {
      "text/plain": [
       "0.27645221273913956"
      ]
     },
     "execution_count": 707,
     "metadata": {},
     "output_type": "execute_result"
    }
   ],
   "source": [
    "np.mean(rmse_corr_7_days)"
   ]
  },
  {
   "cell_type": "code",
   "execution_count": 689,
   "metadata": {},
   "outputs": [
    {
     "data": {
      "text/plain": [
       "0.299352551057616"
      ]
     },
     "execution_count": 689,
     "metadata": {},
     "output_type": "execute_result"
    }
   ],
   "source": [
    "np.mean(rmse_corr_7_days)"
   ]
  },
  {
   "cell_type": "code",
   "execution_count": 757,
   "metadata": {},
   "outputs": [],
   "source": [
    "prediction_df = pd.DataFrame( {'actual_corr_7_days':actual, 'predicted_corr_7_days': predicted_corr_7_days, 'prediction_date':prediction_date})"
   ]
  },
  {
   "cell_type": "code",
   "execution_count": 758,
   "metadata": {},
   "outputs": [],
   "source": [
    "prediction_df = prediction_df.set_index('prediction_date')"
   ]
  },
  {
   "cell_type": "code",
   "execution_count": 787,
   "metadata": {},
   "outputs": [
    {
     "data": {
      "text/plain": [
       "<matplotlib.axes._subplots.AxesSubplot at 0x152307c88>"
      ]
     },
     "execution_count": 787,
     "metadata": {},
     "output_type": "execute_result"
    },
    {
     "data": {
      "image/png": "[encoded data removed]",
      "text/plain": [
       "<Figure size 1080x360 with 1 Axes>"
      ]
     },
     "metadata": {
      "needs_background": "light"
     },
     "output_type": "display_data"
    }
   ],
   "source": [
    "prediction_df.plot(title='predicted corr pnr_bac rolling 7-days', figsize=(15,5))"
   ]
  },
  {
   "cell_type": "code",
   "execution_count": 510,
   "metadata": {},
   "outputs": [
    {
     "data": {
      "text/plain": [
       "DatetimeIndex(['2019-11-20', '2019-11-21', '2019-11-22', '2019-11-25',\n",
       "               '2019-11-26', '2019-11-27', '2019-11-29', '2019-12-02',\n",
       "               '2019-12-03', '2019-12-04',\n",
       "               ...\n",
       "               '2020-04-03', '2020-04-06', '2020-04-07', '2020-04-08',\n",
       "               '2020-04-09', '2020-04-13', '2020-04-14', '2020-04-15',\n",
       "               '2020-04-16', '2020-04-16'],\n",
       "              dtype='datetime64[ns]', name='prediction_date', length=102, freq=None)"
      ]
     },
     "execution_count": 510,
     "metadata": {},
     "output_type": "execute_result"
    }
   ],
   "source": [
    "prediction_df.index"
   ]
  },
  {
   "cell_type": "markdown",
   "metadata": {},
   "source": [
    "## Feature Importances\n",
    "- nit: only based on last tree fit"
   ]
  },
  {
   "cell_type": "code",
   "execution_count": 804,
   "metadata": {},
   "outputs": [
    {
     "data": {
      "text/plain": [
       "(array([ 0,  1,  2,  3,  4,  5,  6,  7,  8,  9, 10, 11, 12, 13, 14, 15, 16,\n",
       "        17, 18, 19, 20, 21, 22, 23, 24, 25, 26, 27, 28, 29, 30, 31, 32, 33,\n",
       "        34]),\n",
       " <a list of 35 Text major ticklabel objects>)"
      ]
     },
     "execution_count": 804,
     "metadata": {},
     "output_type": "execute_result"
    },
    {
     "data": {
      "image/png": "[encoded data removed]",
      "text/plain": [
       "<Figure size 1080x360 with 1 Axes>"
      ]
     },
     "metadata": {
      "needs_background": "light"
     },
     "output_type": "display_data"
    }
   ],
   "source": [
    "cols = list(final_stock_df.columns)\n",
    "cols.remove('pnr_bac_close_corr_rolling_7_days')\n",
    "\n",
    "plt.figure(figsize=(15,5))\n",
    "sns.barplot(x=np.array(cols)[np.argsort(rf.feature_importances_)], y=rf.feature_importances_[np.argsort(rf.feature_importances_)])\n",
    "plt.xticks(rotation=90)"
   ]
  },
  {
   "cell_type": "markdown",
   "metadata": {},
   "source": [
    "# given all feature, predict next 7-days for each stock pair"
   ]
  },
  {
   "cell_type": "code",
   "execution_count": 946,
   "metadata": {},
   "outputs": [
    {
     "data": {
      "text/html": [
       "<div>\n",
       "<style scoped>\n",
       "    .dataframe tbody tr th:only-of-type {\n",
       "        vertical-align: middle;\n",
       "    }\n",
       "\n",
       "    .dataframe tbody tr th {\n",
       "        vertical-align: top;\n",
       "    }\n",
       "\n",
       "    .dataframe thead th {\n",
       "        text-align: right;\n",
       "    }\n",
       "</style>\n",
       "<table border=\"1\" class=\"dataframe\">\n",
       "  <thead>\n",
       "    <tr style=\"text-align: right;\">\n",
       "      <th></th>\n",
       "      <th>pnr_bac_close_corr_rolling_3_days</th>\n",
       "      <th>pnr_close_std_rolling_3_days</th>\n",
       "      <th>bac_close_std_rolling_3_days</th>\n",
       "      <th>pnr_volume_std_rolling_3_days</th>\n",
       "      <th>bac_volume_std_rolling_3_days</th>\n",
       "      <th>pnr_volume</th>\n",
       "      <th>bac_volume</th>\n",
       "      <th>pnr_bac_close_corr_rolling_6_days</th>\n",
       "      <th>pnr_close_std_rolling_6_days</th>\n",
       "      <th>bac_close_std_rolling_6_days</th>\n",
       "      <th>...</th>\n",
       "      <th>so_rost_close_corr_rolling_3_days</th>\n",
       "      <th>so_rost_close_corr_rolling_6_days</th>\n",
       "      <th>so_rost_close_corr_rolling_7_days</th>\n",
       "      <th>so_rost_close_corr_rolling_8_days</th>\n",
       "      <th>so_rost_close_corr_rolling_10_days</th>\n",
       "      <th>so_rost_close_corr_rolling_15_days</th>\n",
       "      <th>day</th>\n",
       "      <th>month</th>\n",
       "      <th>quarter</th>\n",
       "      <th>year</th>\n",
       "    </tr>\n",
       "    <tr>\n",
       "      <th>date</th>\n",
       "      <th></th>\n",
       "      <th></th>\n",
       "      <th></th>\n",
       "      <th></th>\n",
       "      <th></th>\n",
       "      <th></th>\n",
       "      <th></th>\n",
       "      <th></th>\n",
       "      <th></th>\n",
       "      <th></th>\n",
       "      <th></th>\n",
       "      <th></th>\n",
       "      <th></th>\n",
       "      <th></th>\n",
       "      <th></th>\n",
       "      <th></th>\n",
       "      <th></th>\n",
       "      <th></th>\n",
       "      <th></th>\n",
       "      <th></th>\n",
       "      <th></th>\n",
       "    </tr>\n",
       "  </thead>\n",
       "  <tbody>\n",
       "    <tr>\n",
       "      <th>2006-01-25</th>\n",
       "      <td>0.160943</td>\n",
       "      <td>0.085035</td>\n",
       "      <td>0.316898</td>\n",
       "      <td>38247.048047</td>\n",
       "      <td>5.665887e+06</td>\n",
       "      <td>536451.0</td>\n",
       "      <td>16050693.0</td>\n",
       "      <td>-0.200975</td>\n",
       "      <td>0.135596</td>\n",
       "      <td>0.503417</td>\n",
       "      <td>...</td>\n",
       "      <td>0.941534</td>\n",
       "      <td>0.388549</td>\n",
       "      <td>0.085605</td>\n",
       "      <td>-0.271269</td>\n",
       "      <td>-0.535700</td>\n",
       "      <td>-0.490134</td>\n",
       "      <td>25</td>\n",
       "      <td>1</td>\n",
       "      <td>1</td>\n",
       "      <td>2006</td>\n",
       "    </tr>\n",
       "    <tr>\n",
       "      <th>2006-01-26</th>\n",
       "      <td>0.151438</td>\n",
       "      <td>0.085035</td>\n",
       "      <td>0.312676</td>\n",
       "      <td>38258.452299</td>\n",
       "      <td>2.674882e+06</td>\n",
       "      <td>495644.0</td>\n",
       "      <td>19569182.0</td>\n",
       "      <td>0.495316</td>\n",
       "      <td>0.127010</td>\n",
       "      <td>0.429717</td>\n",
       "      <td>...</td>\n",
       "      <td>0.795121</td>\n",
       "      <td>0.644368</td>\n",
       "      <td>0.427572</td>\n",
       "      <td>0.146116</td>\n",
       "      <td>-0.398869</td>\n",
       "      <td>-0.480760</td>\n",
       "      <td>26</td>\n",
       "      <td>1</td>\n",
       "      <td>1</td>\n",
       "      <td>2006</td>\n",
       "    </tr>\n",
       "    <tr>\n",
       "      <th>2006-01-27</th>\n",
       "      <td>0.263368</td>\n",
       "      <td>0.682751</td>\n",
       "      <td>0.128873</td>\n",
       "      <td>95321.163769</td>\n",
       "      <td>3.290067e+06</td>\n",
       "      <td>677322.0</td>\n",
       "      <td>12994462.0</td>\n",
       "      <td>0.561520</td>\n",
       "      <td>0.524121</td>\n",
       "      <td>0.354740</td>\n",
       "      <td>...</td>\n",
       "      <td>0.090228</td>\n",
       "      <td>0.198678</td>\n",
       "      <td>0.615420</td>\n",
       "      <td>0.420237</td>\n",
       "      <td>-0.214416</td>\n",
       "      <td>-0.570385</td>\n",
       "      <td>27</td>\n",
       "      <td>1</td>\n",
       "      <td>1</td>\n",
       "      <td>2006</td>\n",
       "    </tr>\n",
       "    <tr>\n",
       "      <th>2006-01-30</th>\n",
       "      <td>-0.675648</td>\n",
       "      <td>0.625617</td>\n",
       "      <td>0.206737</td>\n",
       "      <td>90878.492804</td>\n",
       "      <td>3.303817e+06</td>\n",
       "      <td>581843.0</td>\n",
       "      <td>15711371.0</td>\n",
       "      <td>0.370031</td>\n",
       "      <td>0.617659</td>\n",
       "      <td>0.333465</td>\n",
       "      <td>...</td>\n",
       "      <td>0.996725</td>\n",
       "      <td>0.413728</td>\n",
       "      <td>0.277061</td>\n",
       "      <td>0.648599</td>\n",
       "      <td>0.219410</td>\n",
       "      <td>-0.532873</td>\n",
       "      <td>30</td>\n",
       "      <td>1</td>\n",
       "      <td>1</td>\n",
       "      <td>2006</td>\n",
       "    </tr>\n",
       "    <tr>\n",
       "      <th>2006-01-31</th>\n",
       "      <td>-0.245173</td>\n",
       "      <td>0.012767</td>\n",
       "      <td>0.268676</td>\n",
       "      <td>188503.415569</td>\n",
       "      <td>2.754969e+06</td>\n",
       "      <td>945436.0</td>\n",
       "      <td>18504226.0</td>\n",
       "      <td>-0.160903</td>\n",
       "      <td>0.636590</td>\n",
       "      <td>0.264541</td>\n",
       "      <td>...</td>\n",
       "      <td>0.969496</td>\n",
       "      <td>0.787401</td>\n",
       "      <td>0.659167</td>\n",
       "      <td>0.568100</td>\n",
       "      <td>0.609912</td>\n",
       "      <td>-0.312471</td>\n",
       "      <td>31</td>\n",
       "      <td>1</td>\n",
       "      <td>1</td>\n",
       "      <td>2006</td>\n",
       "    </tr>\n",
       "    <tr>\n",
       "      <th>...</th>\n",
       "      <td>...</td>\n",
       "      <td>...</td>\n",
       "      <td>...</td>\n",
       "      <td>...</td>\n",
       "      <td>...</td>\n",
       "      <td>...</td>\n",
       "      <td>...</td>\n",
       "      <td>...</td>\n",
       "      <td>...</td>\n",
       "      <td>...</td>\n",
       "      <td>...</td>\n",
       "      <td>...</td>\n",
       "      <td>...</td>\n",
       "      <td>...</td>\n",
       "      <td>...</td>\n",
       "      <td>...</td>\n",
       "      <td>...</td>\n",
       "      <td>...</td>\n",
       "      <td>...</td>\n",
       "      <td>...</td>\n",
       "      <td>...</td>\n",
       "    </tr>\n",
       "    <tr>\n",
       "      <th>2020-04-13</th>\n",
       "      <td>0.285322</td>\n",
       "      <td>0.757166</td>\n",
       "      <td>0.717937</td>\n",
       "      <td>302410.058942</td>\n",
       "      <td>2.497579e+07</td>\n",
       "      <td>806105.0</td>\n",
       "      <td>83164717.0</td>\n",
       "      <td>0.899761</td>\n",
       "      <td>1.619308</td>\n",
       "      <td>1.780286</td>\n",
       "      <td>...</td>\n",
       "      <td>0.521586</td>\n",
       "      <td>0.921538</td>\n",
       "      <td>0.934788</td>\n",
       "      <td>0.897778</td>\n",
       "      <td>0.835256</td>\n",
       "      <td>0.907727</td>\n",
       "      <td>13</td>\n",
       "      <td>4</td>\n",
       "      <td>2</td>\n",
       "      <td>2020</td>\n",
       "    </tr>\n",
       "    <tr>\n",
       "      <th>2020-04-14</th>\n",
       "      <td>0.744225</td>\n",
       "      <td>0.690869</td>\n",
       "      <td>0.605062</td>\n",
       "      <td>328987.136047</td>\n",
       "      <td>2.289724e+07</td>\n",
       "      <td>1355716.0</td>\n",
       "      <td>88991066.0</td>\n",
       "      <td>0.812464</td>\n",
       "      <td>0.809988</td>\n",
       "      <td>1.265155</td>\n",
       "      <td>...</td>\n",
       "      <td>0.427205</td>\n",
       "      <td>0.761710</td>\n",
       "      <td>0.927941</td>\n",
       "      <td>0.941267</td>\n",
       "      <td>0.881149</td>\n",
       "      <td>0.854858</td>\n",
       "      <td>14</td>\n",
       "      <td>4</td>\n",
       "      <td>2</td>\n",
       "      <td>2020</td>\n",
       "    </tr>\n",
       "    <tr>\n",
       "      <th>2020-04-15</th>\n",
       "      <td>0.669138</td>\n",
       "      <td>0.557704</td>\n",
       "      <td>0.948736</td>\n",
       "      <td>743926.304548</td>\n",
       "      <td>8.053413e+06</td>\n",
       "      <td>2278293.0</td>\n",
       "      <td>99082222.0</td>\n",
       "      <td>0.763178</td>\n",
       "      <td>0.742662</td>\n",
       "      <td>1.054806</td>\n",
       "      <td>...</td>\n",
       "      <td>0.518279</td>\n",
       "      <td>0.668194</td>\n",
       "      <td>0.674462</td>\n",
       "      <td>0.897253</td>\n",
       "      <td>0.895042</td>\n",
       "      <td>0.818167</td>\n",
       "      <td>15</td>\n",
       "      <td>4</td>\n",
       "      <td>2</td>\n",
       "      <td>2020</td>\n",
       "    </tr>\n",
       "    <tr>\n",
       "      <th>2020-04-16</th>\n",
       "      <td>0.999157</td>\n",
       "      <td>0.874700</td>\n",
       "      <td>1.176194</td>\n",
       "      <td>517946.082569</td>\n",
       "      <td>5.763041e+06</td>\n",
       "      <td>1409030.0</td>\n",
       "      <td>89213331.0</td>\n",
       "      <td>0.850864</td>\n",
       "      <td>0.934045</td>\n",
       "      <td>1.247644</td>\n",
       "      <td>...</td>\n",
       "      <td>0.975530</td>\n",
       "      <td>0.520036</td>\n",
       "      <td>0.672218</td>\n",
       "      <td>0.679234</td>\n",
       "      <td>0.901730</td>\n",
       "      <td>0.809656</td>\n",
       "      <td>16</td>\n",
       "      <td>4</td>\n",
       "      <td>2</td>\n",
       "      <td>2020</td>\n",
       "    </tr>\n",
       "    <tr>\n",
       "      <th>2020-04-17</th>\n",
       "      <td>0.989084</td>\n",
       "      <td>0.590706</td>\n",
       "      <td>0.934577</td>\n",
       "      <td>589549.347253</td>\n",
       "      <td>4.995399e+06</td>\n",
       "      <td>1153740.0</td>\n",
       "      <td>92800270.0</td>\n",
       "      <td>0.925646</td>\n",
       "      <td>0.826182</td>\n",
       "      <td>1.244438</td>\n",
       "      <td>...</td>\n",
       "      <td>0.999178</td>\n",
       "      <td>0.348240</td>\n",
       "      <td>0.346140</td>\n",
       "      <td>0.556408</td>\n",
       "      <td>0.862189</td>\n",
       "      <td>0.804740</td>\n",
       "      <td>17</td>\n",
       "      <td>4</td>\n",
       "      <td>2</td>\n",
       "      <td>2020</td>\n",
       "    </tr>\n",
       "  </tbody>\n",
       "</table>\n",
       "<p>3581 rows × 2544 columns</p>\n",
       "</div>"
      ],
      "text/plain": [
       "            pnr_bac_close_corr_rolling_3_days  pnr_close_std_rolling_3_days  \\\n",
       "date                                                                          \n",
       "2006-01-25                           0.160943                      0.085035   \n",
       "2006-01-26                           0.151438                      0.085035   \n",
       "2006-01-27                           0.263368                      0.682751   \n",
       "2006-01-30                          -0.675648                      0.625617   \n",
       "2006-01-31                          -0.245173                      0.012767   \n",
       "...                                       ...                           ...   \n",
       "2020-04-13                           0.285322                      0.757166   \n",
       "2020-04-14                           0.744225                      0.690869   \n",
       "2020-04-15                           0.669138                      0.557704   \n",
       "2020-04-16                           0.999157                      0.874700   \n",
       "2020-04-17                           0.989084                      0.590706   \n",
       "\n",
       "            bac_close_std_rolling_3_days  pnr_volume_std_rolling_3_days  \\\n",
       "date                                                                      \n",
       "2006-01-25                      0.316898                   38247.048047   \n",
       "2006-01-26                      0.312676                   38258.452299   \n",
       "2006-01-27                      0.128873                   95321.163769   \n",
       "2006-01-30                      0.206737                   90878.492804   \n",
       "2006-01-31                      0.268676                  188503.415569   \n",
       "...                                  ...                            ...   \n",
       "2020-04-13                      0.717937                  302410.058942   \n",
       "2020-04-14                      0.605062                  328987.136047   \n",
       "2020-04-15                      0.948736                  743926.304548   \n",
       "2020-04-16                      1.176194                  517946.082569   \n",
       "2020-04-17                      0.934577                  589549.347253   \n",
       "\n",
       "            bac_volume_std_rolling_3_days  pnr_volume  bac_volume  \\\n",
       "date                                                                \n",
       "2006-01-25                   5.665887e+06    536451.0  16050693.0   \n",
       "2006-01-26                   2.674882e+06    495644.0  19569182.0   \n",
       "2006-01-27                   3.290067e+06    677322.0  12994462.0   \n",
       "2006-01-30                   3.303817e+06    581843.0  15711371.0   \n",
       "2006-01-31                   2.754969e+06    945436.0  18504226.0   \n",
       "...                                   ...         ...         ...   \n",
       "2020-04-13                   2.497579e+07    806105.0  83164717.0   \n",
       "2020-04-14                   2.289724e+07   1355716.0  88991066.0   \n",
       "2020-04-15                   8.053413e+06   2278293.0  99082222.0   \n",
       "2020-04-16                   5.763041e+06   1409030.0  89213331.0   \n",
       "2020-04-17                   4.995399e+06   1153740.0  92800270.0   \n",
       "\n",
       "            pnr_bac_close_corr_rolling_6_days  pnr_close_std_rolling_6_days  \\\n",
       "date                                                                          \n",
       "2006-01-25                          -0.200975                      0.135596   \n",
       "2006-01-26                           0.495316                      0.127010   \n",
       "2006-01-27                           0.561520                      0.524121   \n",
       "2006-01-30                           0.370031                      0.617659   \n",
       "2006-01-31                          -0.160903                      0.636590   \n",
       "...                                       ...                           ...   \n",
       "2020-04-13                           0.899761                      1.619308   \n",
       "2020-04-14                           0.812464                      0.809988   \n",
       "2020-04-15                           0.763178                      0.742662   \n",
       "2020-04-16                           0.850864                      0.934045   \n",
       "2020-04-17                           0.925646                      0.826182   \n",
       "\n",
       "            bac_close_std_rolling_6_days  ...  \\\n",
       "date                                      ...   \n",
       "2006-01-25                      0.503417  ...   \n",
       "2006-01-26                      0.429717  ...   \n",
       "2006-01-27                      0.354740  ...   \n",
       "2006-01-30                      0.333465  ...   \n",
       "2006-01-31                      0.264541  ...   \n",
       "...                                  ...  ...   \n",
       "2020-04-13                      1.780286  ...   \n",
       "2020-04-14                      1.265155  ...   \n",
       "2020-04-15                      1.054806  ...   \n",
       "2020-04-16                      1.247644  ...   \n",
       "2020-04-17                      1.244438  ...   \n",
       "\n",
       "            so_rost_close_corr_rolling_3_days  \\\n",
       "date                                            \n",
       "2006-01-25                           0.941534   \n",
       "2006-01-26                           0.795121   \n",
       "2006-01-27                           0.090228   \n",
       "2006-01-30                           0.996725   \n",
       "2006-01-31                           0.969496   \n",
       "...                                       ...   \n",
       "2020-04-13                           0.521586   \n",
       "2020-04-14                           0.427205   \n",
       "2020-04-15                           0.518279   \n",
       "2020-04-16                           0.975530   \n",
       "2020-04-17                           0.999178   \n",
       "\n",
       "            so_rost_close_corr_rolling_6_days  \\\n",
       "date                                            \n",
       "2006-01-25                           0.388549   \n",
       "2006-01-26                           0.644368   \n",
       "2006-01-27                           0.198678   \n",
       "2006-01-30                           0.413728   \n",
       "2006-01-31                           0.787401   \n",
       "...                                       ...   \n",
       "2020-04-13                           0.921538   \n",
       "2020-04-14                           0.761710   \n",
       "2020-04-15                           0.668194   \n",
       "2020-04-16                           0.520036   \n",
       "2020-04-17                           0.348240   \n",
       "\n",
       "            so_rost_close_corr_rolling_7_days  \\\n",
       "date                                            \n",
       "2006-01-25                           0.085605   \n",
       "2006-01-26                           0.427572   \n",
       "2006-01-27                           0.615420   \n",
       "2006-01-30                           0.277061   \n",
       "2006-01-31                           0.659167   \n",
       "...                                       ...   \n",
       "2020-04-13                           0.934788   \n",
       "2020-04-14                           0.927941   \n",
       "2020-04-15                           0.674462   \n",
       "2020-04-16                           0.672218   \n",
       "2020-04-17                           0.346140   \n",
       "\n",
       "            so_rost_close_corr_rolling_8_days  \\\n",
       "date                                            \n",
       "2006-01-25                          -0.271269   \n",
       "2006-01-26                           0.146116   \n",
       "2006-01-27                           0.420237   \n",
       "2006-01-30                           0.648599   \n",
       "2006-01-31                           0.568100   \n",
       "...                                       ...   \n",
       "2020-04-13                           0.897778   \n",
       "2020-04-14                           0.941267   \n",
       "2020-04-15                           0.897253   \n",
       "2020-04-16                           0.679234   \n",
       "2020-04-17                           0.556408   \n",
       "\n",
       "            so_rost_close_corr_rolling_10_days  \\\n",
       "date                                             \n",
       "2006-01-25                           -0.535700   \n",
       "2006-01-26                           -0.398869   \n",
       "2006-01-27                           -0.214416   \n",
       "2006-01-30                            0.219410   \n",
       "2006-01-31                            0.609912   \n",
       "...                                        ...   \n",
       "2020-04-13                            0.835256   \n",
       "2020-04-14                            0.881149   \n",
       "2020-04-15                            0.895042   \n",
       "2020-04-16                            0.901730   \n",
       "2020-04-17                            0.862189   \n",
       "\n",
       "            so_rost_close_corr_rolling_15_days  day  month  quarter  year  \n",
       "date                                                                       \n",
       "2006-01-25                           -0.490134   25      1        1  2006  \n",
       "2006-01-26                           -0.480760   26      1        1  2006  \n",
       "2006-01-27                           -0.570385   27      1        1  2006  \n",
       "2006-01-30                           -0.532873   30      1        1  2006  \n",
       "2006-01-31                           -0.312471   31      1        1  2006  \n",
       "...                                        ...  ...    ...      ...   ...  \n",
       "2020-04-13                            0.907727   13      4        2  2020  \n",
       "2020-04-14                            0.854858   14      4        2  2020  \n",
       "2020-04-15                            0.818167   15      4        2  2020  \n",
       "2020-04-16                            0.809656   16      4        2  2020  \n",
       "2020-04-17                            0.804740   17      4        2  2020  \n",
       "\n",
       "[3581 rows x 2544 columns]"
      ]
     },
     "execution_count": 946,
     "metadata": {},
     "output_type": "execute_result"
    }
   ],
   "source": [
    "final_stock_df"
   ]
  },
  {
   "cell_type": "code",
   "execution_count": 1013,
   "metadata": {},
   "outputs": [
    {
     "data": {
      "text/plain": [
       "array([[1.609430e-01, 8.503500e-02, 3.168980e-01, ..., 1.000000e+00,\n",
       "        1.000000e+00, 2.006000e+03],\n",
       "       [1.514380e-01, 8.503500e-02, 3.126760e-01, ..., 1.000000e+00,\n",
       "        1.000000e+00, 2.006000e+03],\n",
       "       [2.633680e-01, 6.827510e-01, 1.288730e-01, ..., 1.000000e+00,\n",
       "        1.000000e+00, 2.006000e+03],\n",
       "       ...,\n",
       "       [6.691380e-01, 5.577040e-01, 9.487360e-01, ..., 4.000000e+00,\n",
       "        2.000000e+00, 2.020000e+03],\n",
       "       [9.991570e-01, 8.747000e-01, 1.176194e+00, ..., 4.000000e+00,\n",
       "        2.000000e+00, 2.020000e+03],\n",
       "       [9.890840e-01, 5.907060e-01, 9.345770e-01, ..., 4.000000e+00,\n",
       "        2.000000e+00, 2.020000e+03]], dtype=float32)"
      ]
     },
     "execution_count": 1013,
     "metadata": {},
     "output_type": "execute_result"
    }
   ],
   "source": [
    "np.nan_to_num(final_stock_df.astype(np.float32))"
   ]
  },
  {
   "cell_type": "markdown",
   "metadata": {},
   "source": [
    "- build predicted 7 day corr for each pair"
   ]
  },
  {
   "cell_type": "code",
   "execution_count": 1005,
   "metadata": {},
   "outputs": [],
   "source": [
    "# remove all 7_days_corr columns ex: so_rost_close_corr_rolling_7_days\n",
    "### format: f\"{first_stock_name}_{second_stock_name}_close_corr_rolling_{n_days_stride}_days\"\n",
    "# using all data up until the last day, predict 7-day corr for each stock pair"
   ]
  },
  {
   "cell_type": "code",
   "execution_count": 1116,
   "metadata": {
    "collapsed": true,
    "jupyter": {
     "outputs_hidden": true
    }
   },
   "outputs": [
    {
     "name": "stderr",
     "output_type": "stream",
     "text": [
      "/Users/jonathanhilgart/Library/Caches/pypoetry/virtualenvs/daily-trading-nJ43NNNI-py3.7/lib/python3.7/site-packages/numpy/lib/nanfunctions.py:1546: RuntimeWarning: overflow encountered in multiply\n",
      "  sqr = np.multiply(arr, arr, out=arr)\n"
     ]
    },
    {
     "name": "stdout",
     "output_type": "stream",
     "text": [
      "Stocks pnr_bac\n",
      "Prediction = 0.5111545700000001\n",
      "Actual = 0.848838\n",
      "pnr_bac pct change 7-day corr of close from 2020-04-09 00:00:00 to 2020-04-17 00:00:00 is =  -0.451441414273664\n"
     ]
    },
    {
     "name": "stderr",
     "output_type": "stream",
     "text": [
      "/Users/jonathanhilgart/Library/Caches/pypoetry/virtualenvs/daily-trading-nJ43NNNI-py3.7/lib/python3.7/site-packages/numpy/lib/nanfunctions.py:1546: RuntimeWarning: overflow encountered in multiply\n",
      "  sqr = np.multiply(arr, arr, out=arr)\n"
     ]
    },
    {
     "name": "stdout",
     "output_type": "stream",
     "text": [
      "Stocks pnr_ni\n",
      "Prediction = 0.5240090900000004\n",
      "Actual = 0.347275\n",
      "pnr_ni pct change 7-day corr of close from 2020-04-09 00:00:00 to 2020-04-17 00:00:00 is =  -0.4146784808712646\n"
     ]
    },
    {
     "name": "stderr",
     "output_type": "stream",
     "text": [
      "/Users/jonathanhilgart/Library/Caches/pypoetry/virtualenvs/daily-trading-nJ43NNNI-py3.7/lib/python3.7/site-packages/numpy/lib/nanfunctions.py:1546: RuntimeWarning: overflow encountered in multiply\n",
      "  sqr = np.multiply(arr, arr, out=arr)\n"
     ]
    },
    {
     "name": "stdout",
     "output_type": "stream",
     "text": [
      "Stocks pnr_vno\n",
      "Prediction = 0.750667234\n",
      "Actual = 0.411232\n",
      "pnr_vno pct change 7-day corr of close from 2020-04-09 00:00:00 to 2020-04-17 00:00:00 is =  -0.1465859857549695\n"
     ]
    },
    {
     "name": "stderr",
     "output_type": "stream",
     "text": [
      "/Users/jonathanhilgart/Library/Caches/pypoetry/virtualenvs/daily-trading-nJ43NNNI-py3.7/lib/python3.7/site-packages/numpy/lib/nanfunctions.py:1546: RuntimeWarning: overflow encountered in multiply\n",
      "  sqr = np.multiply(arr, arr, out=arr)\n"
     ]
    },
    {
     "name": "stdout",
     "output_type": "stream",
     "text": [
      "Stocks pnr_ual\n",
      "Prediction = 0.5962784233333333\n",
      "Actual = 0.145586\n",
      "pnr_ual pct change 7-day corr of close from 2020-04-09 00:00:00 to 2020-04-17 00:00:00 is =  -0.11770553213568957\n"
     ]
    },
    {
     "name": "stderr",
     "output_type": "stream",
     "text": [
      "/Users/jonathanhilgart/Library/Caches/pypoetry/virtualenvs/daily-trading-nJ43NNNI-py3.7/lib/python3.7/site-packages/numpy/lib/nanfunctions.py:1546: RuntimeWarning: overflow encountered in multiply\n",
      "  sqr = np.multiply(arr, arr, out=arr)\n"
     ]
    },
    {
     "name": "stdout",
     "output_type": "stream",
     "text": [
      "Stocks pnr_efx\n",
      "Prediction = 0.4415641425000002\n",
      "Actual = 0.267229\n",
      "pnr_efx pct change 7-day corr of close from 2020-04-09 00:00:00 to 2020-04-17 00:00:00 is =  -0.489009641444498\n"
     ]
    },
    {
     "name": "stderr",
     "output_type": "stream",
     "text": [
      "/Users/jonathanhilgart/Library/Caches/pypoetry/virtualenvs/daily-trading-nJ43NNNI-py3.7/lib/python3.7/site-packages/numpy/lib/nanfunctions.py:1546: RuntimeWarning: overflow encountered in multiply\n",
      "  sqr = np.multiply(arr, arr, out=arr)\n"
     ]
    },
    {
     "name": "stdout",
     "output_type": "stream",
     "text": [
      "Stocks pnr_ph\n",
      "Prediction = 0.8439641459999995\n",
      "Actual = 0.934718\n",
      "pnr_ph pct change 7-day corr of close from 2020-04-09 00:00:00 to 2020-04-17 00:00:00 is =  -0.1372715093278819\n"
     ]
    },
    {
     "name": "stderr",
     "output_type": "stream",
     "text": [
      "/Users/jonathanhilgart/Library/Caches/pypoetry/virtualenvs/daily-trading-nJ43NNNI-py3.7/lib/python3.7/site-packages/numpy/lib/nanfunctions.py:1546: RuntimeWarning: overflow encountered in multiply\n",
      "  sqr = np.multiply(arr, arr, out=arr)\n"
     ]
    },
    {
     "name": "stdout",
     "output_type": "stream",
     "text": [
      "Stocks pnr_rop\n",
      "Prediction = 0.4341173433333333\n",
      "Actual = 0.569769\n",
      "pnr_rop pct change 7-day corr of close from 2020-04-09 00:00:00 to 2020-04-17 00:00:00 is =  -0.5229972471708051\n"
     ]
    },
    {
     "name": "stderr",
     "output_type": "stream",
     "text": [
      "/Users/jonathanhilgart/Library/Caches/pypoetry/virtualenvs/daily-trading-nJ43NNNI-py3.7/lib/python3.7/site-packages/numpy/lib/nanfunctions.py:1546: RuntimeWarning: overflow encountered in multiply\n",
      "  sqr = np.multiply(arr, arr, out=arr)\n"
     ]
    },
    {
     "name": "stdout",
     "output_type": "stream",
     "text": [
      "Stocks pnr_are\n",
      "Prediction = 0.6483437099999998\n",
      "Actual = 0.215576\n",
      "pnr_are pct change 7-day corr of close from 2020-04-09 00:00:00 to 2020-04-17 00:00:00 is =  -0.2704903126789757\n"
     ]
    },
    {
     "name": "stderr",
     "output_type": "stream",
     "text": [
      "/Users/jonathanhilgart/Library/Caches/pypoetry/virtualenvs/daily-trading-nJ43NNNI-py3.7/lib/python3.7/site-packages/numpy/lib/nanfunctions.py:1546: RuntimeWarning: overflow encountered in multiply\n",
      "  sqr = np.multiply(arr, arr, out=arr)\n"
     ]
    },
    {
     "name": "stdout",
     "output_type": "stream",
     "text": [
      "Stocks pnr_pg\n",
      "Prediction = 0.04297287499999999\n",
      "Actual = -0.588909\n",
      "pnr_pg pct change 7-day corr of close from 2020-04-09 00:00:00 to 2020-04-17 00:00:00 is =  -0.9022575138631742\n"
     ]
    },
    {
     "name": "stderr",
     "output_type": "stream",
     "text": [
      "/Users/jonathanhilgart/Library/Caches/pypoetry/virtualenvs/daily-trading-nJ43NNNI-py3.7/lib/python3.7/site-packages/numpy/lib/nanfunctions.py:1546: RuntimeWarning: overflow encountered in multiply\n",
      "  sqr = np.multiply(arr, arr, out=arr)\n"
     ]
    },
    {
     "name": "stdout",
     "output_type": "stream",
     "text": [
      "Stocks pnr_pvh\n",
      "Prediction = 0.5025915899999999\n",
      "Actual = 0.957368\n",
      "pnr_pvh pct change 7-day corr of close from 2020-04-09 00:00:00 to 2020-04-17 00:00:00 is =  -0.4783374712748667\n"
     ]
    },
    {
     "name": "stderr",
     "output_type": "stream",
     "text": [
      "/Users/jonathanhilgart/Library/Caches/pypoetry/virtualenvs/daily-trading-nJ43NNNI-py3.7/lib/python3.7/site-packages/numpy/lib/nanfunctions.py:1546: RuntimeWarning: overflow encountered in multiply\n",
      "  sqr = np.multiply(arr, arr, out=arr)\n"
     ]
    },
    {
     "name": "stdout",
     "output_type": "stream",
     "text": [
      "Stocks pnr_lb\n",
      "Prediction = 0.6228687960000002\n",
      "Actual = 0.970683\n",
      "pnr_lb pct change 7-day corr of close from 2020-04-09 00:00:00 to 2020-04-17 00:00:00 is =  -0.36960938315986325\n"
     ]
    },
    {
     "name": "stderr",
     "output_type": "stream",
     "text": [
      "/Users/jonathanhilgart/Library/Caches/pypoetry/virtualenvs/daily-trading-nJ43NNNI-py3.7/lib/python3.7/site-packages/numpy/lib/nanfunctions.py:1546: RuntimeWarning: overflow encountered in multiply\n",
      "  sqr = np.multiply(arr, arr, out=arr)\n"
     ]
    },
    {
     "name": "stdout",
     "output_type": "stream",
     "text": [
      "Stocks pnr_cern\n",
      "Prediction = 0.2713706600000002\n",
      "Actual = -0.146733\n",
      "pnr_cern pct change 7-day corr of close from 2020-04-09 00:00:00 to 2020-04-17 00:00:00 is =  -0.7140179448376447\n"
     ]
    },
    {
     "name": "stderr",
     "output_type": "stream",
     "text": [
      "/Users/jonathanhilgart/Library/Caches/pypoetry/virtualenvs/daily-trading-nJ43NNNI-py3.7/lib/python3.7/site-packages/numpy/lib/nanfunctions.py:1546: RuntimeWarning: overflow encountered in multiply\n",
      "  sqr = np.multiply(arr, arr, out=arr)\n"
     ]
    },
    {
     "name": "stdout",
     "output_type": "stream",
     "text": [
      "Stocks pnr_peg\n",
      "Prediction = 0.4903196100000001\n",
      "Actual = 0.026944\n",
      "pnr_peg pct change 7-day corr of close from 2020-04-09 00:00:00 to 2020-04-17 00:00:00 is =  -0.47591909831334567\n"
     ]
    },
    {
     "name": "stderr",
     "output_type": "stream",
     "text": [
      "/Users/jonathanhilgart/Library/Caches/pypoetry/virtualenvs/daily-trading-nJ43NNNI-py3.7/lib/python3.7/site-packages/numpy/lib/nanfunctions.py:1546: RuntimeWarning: overflow encountered in multiply\n",
      "  sqr = np.multiply(arr, arr, out=arr)\n"
     ]
    },
    {
     "name": "stdout",
     "output_type": "stream",
     "text": [
      "Stocks pnr_adbe\n",
      "Prediction = 0.6019022599999997\n",
      "Actual = -0.586485\n",
      "pnr_adbe pct change 7-day corr of close from 2020-04-09 00:00:00 to 2020-04-17 00:00:00 is =  -0.28055220011068427\n"
     ]
    },
    {
     "name": "stderr",
     "output_type": "stream",
     "text": [
      "/Users/jonathanhilgart/Library/Caches/pypoetry/virtualenvs/daily-trading-nJ43NNNI-py3.7/lib/python3.7/site-packages/numpy/lib/nanfunctions.py:1546: RuntimeWarning: overflow encountered in multiply\n",
      "  sqr = np.multiply(arr, arr, out=arr)\n"
     ]
    },
    {
     "name": "stdout",
     "output_type": "stream",
     "text": [
      "Stocks pnr_emr\n",
      "Prediction = 0.5775717740000001\n",
      "Actual = 0.881648\n",
      "pnr_emr pct change 7-day corr of close from 2020-04-09 00:00:00 to 2020-04-17 00:00:00 is =  -0.3935127325497755\n"
     ]
    },
    {
     "name": "stderr",
     "output_type": "stream",
     "text": [
      "/Users/jonathanhilgart/Library/Caches/pypoetry/virtualenvs/daily-trading-nJ43NNNI-py3.7/lib/python3.7/site-packages/numpy/lib/nanfunctions.py:1546: RuntimeWarning: overflow encountered in multiply\n",
      "  sqr = np.multiply(arr, arr, out=arr)\n"
     ]
    },
    {
     "name": "stdout",
     "output_type": "stream",
     "text": [
      "Stocks pnr_ce\n",
      "Prediction = 0.6544369599999998\n",
      "Actual = 0.886964\n",
      "pnr_ce pct change 7-day corr of close from 2020-04-09 00:00:00 to 2020-04-17 00:00:00 is =  -0.30843498926887836\n"
     ]
    },
    {
     "name": "stderr",
     "output_type": "stream",
     "text": [
      "/Users/jonathanhilgart/Library/Caches/pypoetry/virtualenvs/daily-trading-nJ43NNNI-py3.7/lib/python3.7/site-packages/numpy/lib/nanfunctions.py:1546: RuntimeWarning: overflow encountered in multiply\n",
      "  sqr = np.multiply(arr, arr, out=arr)\n"
     ]
    },
    {
     "name": "stdout",
     "output_type": "stream",
     "text": [
      "Stocks pnr_eqix\n",
      "Prediction = 0.23562998000000018\n",
      "Actual = 0.024828\n",
      "pnr_eqix pct change 7-day corr of close from 2020-04-09 00:00:00 to 2020-04-17 00:00:00 is =  -0.723429576828319\n"
     ]
    },
    {
     "name": "stderr",
     "output_type": "stream",
     "text": [
      "/Users/jonathanhilgart/Library/Caches/pypoetry/virtualenvs/daily-trading-nJ43NNNI-py3.7/lib/python3.7/site-packages/numpy/lib/nanfunctions.py:1546: RuntimeWarning: overflow encountered in multiply\n",
      "  sqr = np.multiply(arr, arr, out=arr)\n"
     ]
    },
    {
     "name": "stdout",
     "output_type": "stream",
     "text": [
      "Stocks pnr_rost\n",
      "Prediction = 0.6565188399999994\n",
      "Actual = 0.393781\n",
      "pnr_rost pct change 7-day corr of close from 2020-04-09 00:00:00 to 2020-04-17 00:00:00 is =  -0.2394694858196703\n"
     ]
    },
    {
     "name": "stderr",
     "output_type": "stream",
     "text": [
      "/Users/jonathanhilgart/Library/Caches/pypoetry/virtualenvs/daily-trading-nJ43NNNI-py3.7/lib/python3.7/site-packages/numpy/lib/nanfunctions.py:1546: RuntimeWarning: overflow encountered in multiply\n",
      "  sqr = np.multiply(arr, arr, out=arr)\n"
     ]
    },
    {
     "name": "stdout",
     "output_type": "stream",
     "text": [
      "Stocks pnr_so\n",
      "Prediction = 0.6532113350000006\n",
      "Actual = 0.915914\n",
      "pnr_so pct change 7-day corr of close from 2020-04-09 00:00:00 to 2020-04-17 00:00:00 is =  -0.311473449709025\n"
     ]
    },
    {
     "name": "stderr",
     "output_type": "stream",
     "text": [
      "/Users/jonathanhilgart/Library/Caches/pypoetry/virtualenvs/daily-trading-nJ43NNNI-py3.7/lib/python3.7/site-packages/numpy/lib/nanfunctions.py:1546: RuntimeWarning: overflow encountered in multiply\n",
      "  sqr = np.multiply(arr, arr, out=arr)\n"
     ]
    },
    {
     "name": "stdout",
     "output_type": "stream",
     "text": [
      "Stocks bac_pnr\n",
      "Prediction = 0.54922351\n",
      "Actual = 0.848838\n",
      "bac_pnr pct change 7-day corr of close from 2020-04-09 00:00:00 to 2020-04-17 00:00:00 is =  -0.4105867587308196\n"
     ]
    },
    {
     "name": "stderr",
     "output_type": "stream",
     "text": [
      "/Users/jonathanhilgart/Library/Caches/pypoetry/virtualenvs/daily-trading-nJ43NNNI-py3.7/lib/python3.7/site-packages/numpy/lib/nanfunctions.py:1546: RuntimeWarning: overflow encountered in multiply\n",
      "  sqr = np.multiply(arr, arr, out=arr)\n"
     ]
    },
    {
     "name": "stdout",
     "output_type": "stream",
     "text": [
      "Stocks bac_ni\n",
      "Prediction = 0.30738392000000003\n",
      "Actual = 0.477854\n",
      "bac_ni pct change 7-day corr of close from 2020-04-09 00:00:00 to 2020-04-17 00:00:00 is =  -0.6815030856650239\n"
     ]
    },
    {
     "name": "stderr",
     "output_type": "stream",
     "text": [
      "/Users/jonathanhilgart/Library/Caches/pypoetry/virtualenvs/daily-trading-nJ43NNNI-py3.7/lib/python3.7/site-packages/numpy/lib/nanfunctions.py:1546: RuntimeWarning: overflow encountered in multiply\n",
      "  sqr = np.multiply(arr, arr, out=arr)\n"
     ]
    },
    {
     "name": "stdout",
     "output_type": "stream",
     "text": [
      "Stocks bac_vno\n",
      "Prediction = 0.6534253549999997\n",
      "Actual = 0.595423\n",
      "bac_vno pct change 7-day corr of close from 2020-04-09 00:00:00 to 2020-04-17 00:00:00 is =  -0.3144324982478527\n"
     ]
    },
    {
     "name": "stderr",
     "output_type": "stream",
     "text": [
      "/Users/jonathanhilgart/Library/Caches/pypoetry/virtualenvs/daily-trading-nJ43NNNI-py3.7/lib/python3.7/site-packages/numpy/lib/nanfunctions.py:1546: RuntimeWarning: overflow encountered in multiply\n",
      "  sqr = np.multiply(arr, arr, out=arr)\n"
     ]
    },
    {
     "name": "stdout",
     "output_type": "stream",
     "text": [
      "Stocks bac_ual\n",
      "Prediction = 0.5393028475\n",
      "Actual = 0.251494\n",
      "bac_ual pct change 7-day corr of close from 2020-04-09 00:00:00 to 2020-04-17 00:00:00 is =  -0.36735923142705307\n"
     ]
    },
    {
     "name": "stderr",
     "output_type": "stream",
     "text": [
      "/Users/jonathanhilgart/Library/Caches/pypoetry/virtualenvs/daily-trading-nJ43NNNI-py3.7/lib/python3.7/site-packages/numpy/lib/nanfunctions.py:1546: RuntimeWarning: overflow encountered in multiply\n",
      "  sqr = np.multiply(arr, arr, out=arr)\n"
     ]
    },
    {
     "name": "stdout",
     "output_type": "stream",
     "text": [
      "Stocks bac_efx\n",
      "Prediction = 0.16486943499999998\n",
      "Actual = 0.213635\n",
      "bac_efx pct change 7-day corr of close from 2020-04-09 00:00:00 to 2020-04-17 00:00:00 is =  -0.8201187556325596\n"
     ]
    },
    {
     "name": "stderr",
     "output_type": "stream",
     "text": [
      "/Users/jonathanhilgart/Library/Caches/pypoetry/virtualenvs/daily-trading-nJ43NNNI-py3.7/lib/python3.7/site-packages/numpy/lib/nanfunctions.py:1546: RuntimeWarning: overflow encountered in multiply\n",
      "  sqr = np.multiply(arr, arr, out=arr)\n"
     ]
    },
    {
     "name": "stdout",
     "output_type": "stream",
     "text": [
      "Stocks bac_ph\n",
      "Prediction = 0.7094291899999999\n",
      "Actual = 0.960058\n",
      "bac_ph pct change 7-day corr of close from 2020-04-09 00:00:00 to 2020-04-17 00:00:00 is =  -0.2719606686110354\n"
     ]
    },
    {
     "name": "stderr",
     "output_type": "stream",
     "text": [
      "/Users/jonathanhilgart/Library/Caches/pypoetry/virtualenvs/daily-trading-nJ43NNNI-py3.7/lib/python3.7/site-packages/numpy/lib/nanfunctions.py:1546: RuntimeWarning: overflow encountered in multiply\n",
      "  sqr = np.multiply(arr, arr, out=arr)\n"
     ]
    },
    {
     "name": "stdout",
     "output_type": "stream",
     "text": [
      "Stocks bac_rop\n",
      "Prediction = 0.5487892299999999\n",
      "Actual = 0.497688\n",
      "bac_rop pct change 7-day corr of close from 2020-04-09 00:00:00 to 2020-04-17 00:00:00 is =  -0.36218373838792506\n"
     ]
    },
    {
     "name": "stderr",
     "output_type": "stream",
     "text": [
      "/Users/jonathanhilgart/Library/Caches/pypoetry/virtualenvs/daily-trading-nJ43NNNI-py3.7/lib/python3.7/site-packages/numpy/lib/nanfunctions.py:1546: RuntimeWarning: overflow encountered in multiply\n",
      "  sqr = np.multiply(arr, arr, out=arr)\n"
     ]
    },
    {
     "name": "stdout",
     "output_type": "stream",
     "text": [
      "Stocks bac_are\n",
      "Prediction = 0.4612979466666669\n",
      "Actual = 0.249165\n",
      "bac_are pct change 7-day corr of close from 2020-04-09 00:00:00 to 2020-04-17 00:00:00 is =  -0.5299818057758932\n"
     ]
    },
    {
     "name": "stderr",
     "output_type": "stream",
     "text": [
      "/Users/jonathanhilgart/Library/Caches/pypoetry/virtualenvs/daily-trading-nJ43NNNI-py3.7/lib/python3.7/site-packages/numpy/lib/nanfunctions.py:1546: RuntimeWarning: overflow encountered in multiply\n",
      "  sqr = np.multiply(arr, arr, out=arr)\n"
     ]
    },
    {
     "name": "stdout",
     "output_type": "stream",
     "text": [
      "Stocks bac_pg\n",
      "Prediction = -0.15843273999999993\n",
      "Actual = -0.589151\n",
      "bac_pg pct change 7-day corr of close from 2020-04-09 00:00:00 to 2020-04-17 00:00:00 is =  -1.5158440805774696\n"
     ]
    },
    {
     "name": "stderr",
     "output_type": "stream",
     "text": [
      "/Users/jonathanhilgart/Library/Caches/pypoetry/virtualenvs/daily-trading-nJ43NNNI-py3.7/lib/python3.7/site-packages/numpy/lib/nanfunctions.py:1546: RuntimeWarning: overflow encountered in multiply\n",
      "  sqr = np.multiply(arr, arr, out=arr)\n"
     ]
    },
    {
     "name": "stdout",
     "output_type": "stream",
     "text": [
      "Stocks bac_pvh\n",
      "Prediction = 0.8174844349999997\n",
      "Actual = 0.945736\n",
      "bac_pvh pct change 7-day corr of close from 2020-04-09 00:00:00 to 2020-04-17 00:00:00 is =  -0.12069515883720916\n"
     ]
    },
    {
     "name": "stderr",
     "output_type": "stream",
     "text": [
      "/Users/jonathanhilgart/Library/Caches/pypoetry/virtualenvs/daily-trading-nJ43NNNI-py3.7/lib/python3.7/site-packages/numpy/lib/nanfunctions.py:1546: RuntimeWarning: overflow encountered in multiply\n",
      "  sqr = np.multiply(arr, arr, out=arr)\n"
     ]
    },
    {
     "name": "stdout",
     "output_type": "stream",
     "text": [
      "Stocks bac_lb\n",
      "Prediction = 0.3598500400000001\n",
      "Actual = 0.922391\n",
      "bac_lb pct change 7-day corr of close from 2020-04-09 00:00:00 to 2020-04-17 00:00:00 is =  -0.6174225648898461\n"
     ]
    },
    {
     "name": "stderr",
     "output_type": "stream",
     "text": [
      "/Users/jonathanhilgart/Library/Caches/pypoetry/virtualenvs/daily-trading-nJ43NNNI-py3.7/lib/python3.7/site-packages/numpy/lib/nanfunctions.py:1546: RuntimeWarning: overflow encountered in multiply\n",
      "  sqr = np.multiply(arr, arr, out=arr)\n"
     ]
    },
    {
     "name": "stdout",
     "output_type": "stream",
     "text": [
      "Stocks bac_cern\n",
      "Prediction = 0.08445326\n",
      "Actual = -0.208332\n",
      "bac_cern pct change 7-day corr of close from 2020-04-09 00:00:00 to 2020-04-17 00:00:00 is =  -0.9143689708247232\n"
     ]
    },
    {
     "name": "stderr",
     "output_type": "stream",
     "text": [
      "/Users/jonathanhilgart/Library/Caches/pypoetry/virtualenvs/daily-trading-nJ43NNNI-py3.7/lib/python3.7/site-packages/numpy/lib/nanfunctions.py:1546: RuntimeWarning: overflow encountered in multiply\n",
      "  sqr = np.multiply(arr, arr, out=arr)\n"
     ]
    },
    {
     "name": "stdout",
     "output_type": "stream",
     "text": [
      "Stocks bac_peg\n",
      "Prediction = 0.4282284433333334\n",
      "Actual = 0.173964\n",
      "bac_peg pct change 7-day corr of close from 2020-04-09 00:00:00 to 2020-04-17 00:00:00 is =  -0.5684786169929397\n"
     ]
    },
    {
     "name": "stderr",
     "output_type": "stream",
     "text": [
      "/Users/jonathanhilgart/Library/Caches/pypoetry/virtualenvs/daily-trading-nJ43NNNI-py3.7/lib/python3.7/site-packages/numpy/lib/nanfunctions.py:1546: RuntimeWarning: overflow encountered in multiply\n",
      "  sqr = np.multiply(arr, arr, out=arr)\n"
     ]
    },
    {
     "name": "stdout",
     "output_type": "stream",
     "text": [
      "Stocks bac_adbe\n",
      "Prediction = 0.28501385\n",
      "Actual = -0.581536\n",
      "bac_adbe pct change 7-day corr of close from 2020-04-09 00:00:00 to 2020-04-17 00:00:00 is =  -0.6405411421660063\n"
     ]
    },
    {
     "name": "stderr",
     "output_type": "stream",
     "text": [
      "/Users/jonathanhilgart/Library/Caches/pypoetry/virtualenvs/daily-trading-nJ43NNNI-py3.7/lib/python3.7/site-packages/numpy/lib/nanfunctions.py:1546: RuntimeWarning: overflow encountered in multiply\n",
      "  sqr = np.multiply(arr, arr, out=arr)\n"
     ]
    },
    {
     "name": "stdout",
     "output_type": "stream",
     "text": [
      "Stocks bac_emr\n",
      "Prediction = 0.6461787700000002\n",
      "Actual = 0.897132\n",
      "bac_emr pct change 7-day corr of close from 2020-04-09 00:00:00 to 2020-04-17 00:00:00 is =  -0.3082479105981142\n"
     ]
    },
    {
     "name": "stderr",
     "output_type": "stream",
     "text": [
      "/Users/jonathanhilgart/Library/Caches/pypoetry/virtualenvs/daily-trading-nJ43NNNI-py3.7/lib/python3.7/site-packages/numpy/lib/nanfunctions.py:1546: RuntimeWarning: overflow encountered in multiply\n",
      "  sqr = np.multiply(arr, arr, out=arr)\n"
     ]
    },
    {
     "name": "stdout",
     "output_type": "stream",
     "text": [
      "Stocks bac_ce\n",
      "Prediction = 0.3677878999999998\n",
      "Actual = 0.965718\n",
      "bac_ce pct change 7-day corr of close from 2020-04-09 00:00:00 to 2020-04-17 00:00:00 is =  -0.6264481956590189\n"
     ]
    },
    {
     "name": "stderr",
     "output_type": "stream",
     "text": [
      "/Users/jonathanhilgart/Library/Caches/pypoetry/virtualenvs/daily-trading-nJ43NNNI-py3.7/lib/python3.7/site-packages/numpy/lib/nanfunctions.py:1546: RuntimeWarning: overflow encountered in multiply\n",
      "  sqr = np.multiply(arr, arr, out=arr)\n"
     ]
    },
    {
     "name": "stdout",
     "output_type": "stream",
     "text": [
      "Stocks bac_eqix\n",
      "Prediction = 0.12475513000000006\n",
      "Actual = -0.028555\n",
      "bac_eqix pct change 7-day corr of close from 2020-04-09 00:00:00 to 2020-04-17 00:00:00 is =  -0.860220064514611\n"
     ]
    },
    {
     "name": "stderr",
     "output_type": "stream",
     "text": [
      "/Users/jonathanhilgart/Library/Caches/pypoetry/virtualenvs/daily-trading-nJ43NNNI-py3.7/lib/python3.7/site-packages/numpy/lib/nanfunctions.py:1546: RuntimeWarning: overflow encountered in multiply\n",
      "  sqr = np.multiply(arr, arr, out=arr)\n"
     ]
    },
    {
     "name": "stdout",
     "output_type": "stream",
     "text": [
      "Stocks bac_rost\n",
      "Prediction = 0.4282124508333334\n",
      "Actual = 0.252392\n",
      "bac_rost pct change 7-day corr of close from 2020-04-09 00:00:00 to 2020-04-17 00:00:00 is =  -0.4785172261706431\n"
     ]
    },
    {
     "name": "stderr",
     "output_type": "stream",
     "text": [
      "/Users/jonathanhilgart/Library/Caches/pypoetry/virtualenvs/daily-trading-nJ43NNNI-py3.7/lib/python3.7/site-packages/numpy/lib/nanfunctions.py:1546: RuntimeWarning: overflow encountered in multiply\n",
      "  sqr = np.multiply(arr, arr, out=arr)\n"
     ]
    },
    {
     "name": "stdout",
     "output_type": "stream",
     "text": [
      "Stocks bac_so\n",
      "Prediction = 0.4176765400000001\n",
      "Actual = 0.953646\n",
      "bac_so pct change 7-day corr of close from 2020-04-09 00:00:00 to 2020-04-17 00:00:00 is =  -0.5734738964025603\n"
     ]
    },
    {
     "name": "stderr",
     "output_type": "stream",
     "text": [
      "/Users/jonathanhilgart/Library/Caches/pypoetry/virtualenvs/daily-trading-nJ43NNNI-py3.7/lib/python3.7/site-packages/numpy/lib/nanfunctions.py:1546: RuntimeWarning: overflow encountered in multiply\n",
      "  sqr = np.multiply(arr, arr, out=arr)\n"
     ]
    },
    {
     "name": "stdout",
     "output_type": "stream",
     "text": [
      "Stocks ni_pnr\n",
      "Prediction = 0.5177666449999999\n",
      "Actual = 0.347275\n",
      "ni_pnr pct change 7-day corr of close from 2020-04-09 00:00:00 to 2020-04-17 00:00:00 is =  -0.42165133203015925\n"
     ]
    },
    {
     "name": "stderr",
     "output_type": "stream",
     "text": [
      "/Users/jonathanhilgart/Library/Caches/pypoetry/virtualenvs/daily-trading-nJ43NNNI-py3.7/lib/python3.7/site-packages/numpy/lib/nanfunctions.py:1546: RuntimeWarning: overflow encountered in multiply\n",
      "  sqr = np.multiply(arr, arr, out=arr)\n"
     ]
    },
    {
     "name": "stdout",
     "output_type": "stream",
     "text": [
      "Stocks ni_bac\n",
      "Prediction = 0.39643590999999967\n",
      "Actual = 0.477854\n",
      "ni_bac pct change 7-day corr of close from 2020-04-09 00:00:00 to 2020-04-17 00:00:00 is =  -0.5892315575044454\n"
     ]
    },
    {
     "name": "stderr",
     "output_type": "stream",
     "text": [
      "/Users/jonathanhilgart/Library/Caches/pypoetry/virtualenvs/daily-trading-nJ43NNNI-py3.7/lib/python3.7/site-packages/numpy/lib/nanfunctions.py:1546: RuntimeWarning: overflow encountered in multiply\n",
      "  sqr = np.multiply(arr, arr, out=arr)\n"
     ]
    },
    {
     "name": "stdout",
     "output_type": "stream",
     "text": [
      "Stocks ni_vno\n",
      "Prediction = 0.5841880099999998\n",
      "Actual = 0.66298\n",
      "ni_vno pct change 7-day corr of close from 2020-04-09 00:00:00 to 2020-04-17 00:00:00 is =  -0.3541772500342709\n"
     ]
    },
    {
     "name": "stderr",
     "output_type": "stream",
     "text": [
      "/Users/jonathanhilgart/Library/Caches/pypoetry/virtualenvs/daily-trading-nJ43NNNI-py3.7/lib/python3.7/site-packages/numpy/lib/nanfunctions.py:1546: RuntimeWarning: overflow encountered in multiply\n",
      "  sqr = np.multiply(arr, arr, out=arr)\n"
     ]
    },
    {
     "name": "stdout",
     "output_type": "stream",
     "text": [
      "Stocks ni_ual\n",
      "Prediction = 0.3575305000000001\n",
      "Actual = 0.359679\n",
      "ni_ual pct change 7-day corr of close from 2020-04-09 00:00:00 to 2020-04-17 00:00:00 is =  -0.5855218617117471\n"
     ]
    },
    {
     "name": "stderr",
     "output_type": "stream",
     "text": [
      "/Users/jonathanhilgart/Library/Caches/pypoetry/virtualenvs/daily-trading-nJ43NNNI-py3.7/lib/python3.7/site-packages/numpy/lib/nanfunctions.py:1546: RuntimeWarning: overflow encountered in multiply\n",
      "  sqr = np.multiply(arr, arr, out=arr)\n"
     ]
    },
    {
     "name": "stdout",
     "output_type": "stream",
     "text": [
      "Stocks ni_efx\n",
      "Prediction = 0.27438674999999985\n",
      "Actual = 0.691253\n",
      "ni_efx pct change 7-day corr of close from 2020-04-09 00:00:00 to 2020-04-17 00:00:00 is =  -0.7042927578402847\n"
     ]
    },
    {
     "name": "stderr",
     "output_type": "stream",
     "text": [
      "/Users/jonathanhilgart/Library/Caches/pypoetry/virtualenvs/daily-trading-nJ43NNNI-py3.7/lib/python3.7/site-packages/numpy/lib/nanfunctions.py:1546: RuntimeWarning: overflow encountered in multiply\n",
      "  sqr = np.multiply(arr, arr, out=arr)\n"
     ]
    },
    {
     "name": "stdout",
     "output_type": "stream",
     "text": [
      "Stocks ni_ph\n",
      "Prediction = 0.4004901700000001\n",
      "Actual = 0.47013\n",
      "ni_ph pct change 7-day corr of close from 2020-04-09 00:00:00 to 2020-04-17 00:00:00 is =  -0.5847092841788499\n"
     ]
    },
    {
     "name": "stderr",
     "output_type": "stream",
     "text": [
      "/Users/jonathanhilgart/Library/Caches/pypoetry/virtualenvs/daily-trading-nJ43NNNI-py3.7/lib/python3.7/site-packages/numpy/lib/nanfunctions.py:1546: RuntimeWarning: overflow encountered in multiply\n",
      "  sqr = np.multiply(arr, arr, out=arr)\n"
     ]
    },
    {
     "name": "stdout",
     "output_type": "stream",
     "text": [
      "Stocks ni_rop\n",
      "Prediction = 0.5667342700000002\n",
      "Actual = 0.410618\n",
      "ni_rop pct change 7-day corr of close from 2020-04-09 00:00:00 to 2020-04-17 00:00:00 is =  -0.3484082900172343\n"
     ]
    },
    {
     "name": "stderr",
     "output_type": "stream",
     "text": [
      "/Users/jonathanhilgart/Library/Caches/pypoetry/virtualenvs/daily-trading-nJ43NNNI-py3.7/lib/python3.7/site-packages/numpy/lib/nanfunctions.py:1546: RuntimeWarning: overflow encountered in multiply\n",
      "  sqr = np.multiply(arr, arr, out=arr)\n"
     ]
    },
    {
     "name": "stdout",
     "output_type": "stream",
     "text": [
      "Stocks ni_are\n",
      "Prediction = 0.6493836900000004\n",
      "Actual = 0.853054\n",
      "ni_are pct change 7-day corr of close from 2020-04-09 00:00:00 to 2020-04-17 00:00:00 is =  -0.3319867566700129\n"
     ]
    },
    {
     "name": "stderr",
     "output_type": "stream",
     "text": [
      "/Users/jonathanhilgart/Library/Caches/pypoetry/virtualenvs/daily-trading-nJ43NNNI-py3.7/lib/python3.7/site-packages/numpy/lib/nanfunctions.py:1546: RuntimeWarning: overflow encountered in multiply\n",
      "  sqr = np.multiply(arr, arr, out=arr)\n"
     ]
    },
    {
     "name": "stdout",
     "output_type": "stream",
     "text": [
      "Stocks ni_pg\n",
      "Prediction = 0.3488071700000001\n",
      "Actual = 0.203051\n",
      "ni_pg pct change 7-day corr of close from 2020-04-09 00:00:00 to 2020-04-17 00:00:00 is =  0.025360603210065724\n"
     ]
    },
    {
     "name": "stderr",
     "output_type": "stream",
     "text": [
      "/Users/jonathanhilgart/Library/Caches/pypoetry/virtualenvs/daily-trading-nJ43NNNI-py3.7/lib/python3.7/site-packages/numpy/lib/nanfunctions.py:1546: RuntimeWarning: overflow encountered in multiply\n",
      "  sqr = np.multiply(arr, arr, out=arr)\n"
     ]
    },
    {
     "name": "stdout",
     "output_type": "stream",
     "text": [
      "Stocks ni_pvh\n",
      "Prediction = 0.3264937533333334\n",
      "Actual = 0.420521\n",
      "ni_pvh pct change 7-day corr of close from 2020-04-09 00:00:00 to 2020-04-17 00:00:00 is =  -0.6309408043345974\n"
     ]
    },
    {
     "name": "stderr",
     "output_type": "stream",
     "text": [
      "/Users/jonathanhilgart/Library/Caches/pypoetry/virtualenvs/daily-trading-nJ43NNNI-py3.7/lib/python3.7/site-packages/numpy/lib/nanfunctions.py:1546: RuntimeWarning: overflow encountered in multiply\n",
      "  sqr = np.multiply(arr, arr, out=arr)\n"
     ]
    },
    {
     "name": "stdout",
     "output_type": "stream",
     "text": [
      "Stocks ni_lb\n",
      "Prediction = 0.4042896816666666\n",
      "Actual = 0.40453\n",
      "ni_lb pct change 7-day corr of close from 2020-04-09 00:00:00 to 2020-04-17 00:00:00 is =  -0.5412742511713331\n"
     ]
    },
    {
     "name": "stderr",
     "output_type": "stream",
     "text": [
      "/Users/jonathanhilgart/Library/Caches/pypoetry/virtualenvs/daily-trading-nJ43NNNI-py3.7/lib/python3.7/site-packages/numpy/lib/nanfunctions.py:1546: RuntimeWarning: overflow encountered in multiply\n",
      "  sqr = np.multiply(arr, arr, out=arr)\n"
     ]
    },
    {
     "name": "stdout",
     "output_type": "stream",
     "text": [
      "Stocks ni_cern\n",
      "Prediction = 0.5999687700000003\n",
      "Actual = 0.645322\n",
      "ni_cern pct change 7-day corr of close from 2020-04-09 00:00:00 to 2020-04-17 00:00:00 is =  -0.3658686730216977\n"
     ]
    },
    {
     "name": "stderr",
     "output_type": "stream",
     "text": [
      "/Users/jonathanhilgart/Library/Caches/pypoetry/virtualenvs/daily-trading-nJ43NNNI-py3.7/lib/python3.7/site-packages/numpy/lib/nanfunctions.py:1546: RuntimeWarning: overflow encountered in multiply\n",
      "  sqr = np.multiply(arr, arr, out=arr)\n"
     ]
    },
    {
     "name": "stdout",
     "output_type": "stream",
     "text": [
      "Stocks ni_peg\n",
      "Prediction = 0.6149810499999999\n",
      "Actual = 0.809786\n",
      "ni_peg pct change 7-day corr of close from 2020-04-09 00:00:00 to 2020-04-17 00:00:00 is =  -0.3577516542320771\n"
     ]
    },
    {
     "name": "stderr",
     "output_type": "stream",
     "text": [
      "/Users/jonathanhilgart/Library/Caches/pypoetry/virtualenvs/daily-trading-nJ43NNNI-py3.7/lib/python3.7/site-packages/numpy/lib/nanfunctions.py:1546: RuntimeWarning: overflow encountered in multiply\n",
      "  sqr = np.multiply(arr, arr, out=arr)\n"
     ]
    },
    {
     "name": "stdout",
     "output_type": "stream",
     "text": [
      "Stocks ni_adbe\n",
      "Prediction = 0.52270203\n",
      "Actual = 0.3467\n",
      "ni_adbe pct change 7-day corr of close from 2020-04-09 00:00:00 to 2020-04-17 00:00:00 is =  -0.4187491534809863\n"
     ]
    },
    {
     "name": "stderr",
     "output_type": "stream",
     "text": [
      "/Users/jonathanhilgart/Library/Caches/pypoetry/virtualenvs/daily-trading-nJ43NNNI-py3.7/lib/python3.7/site-packages/numpy/lib/nanfunctions.py:1546: RuntimeWarning: overflow encountered in multiply\n",
      "  sqr = np.multiply(arr, arr, out=arr)\n"
     ]
    },
    {
     "name": "stdout",
     "output_type": "stream",
     "text": [
      "Stocks ni_emr\n",
      "Prediction = 0.39767436999999994\n",
      "Actual = 0.247445\n",
      "ni_emr pct change 7-day corr of close from 2020-04-09 00:00:00 to 2020-04-17 00:00:00 is =  -0.5678659657030591\n"
     ]
    },
    {
     "name": "stderr",
     "output_type": "stream",
     "text": [
      "/Users/jonathanhilgart/Library/Caches/pypoetry/virtualenvs/daily-trading-nJ43NNNI-py3.7/lib/python3.7/site-packages/numpy/lib/nanfunctions.py:1546: RuntimeWarning: overflow encountered in multiply\n",
      "  sqr = np.multiply(arr, arr, out=arr)\n"
     ]
    },
    {
     "name": "stdout",
     "output_type": "stream",
     "text": [
      "Stocks ni_ce\n",
      "Prediction = 0.5310472814285715\n",
      "Actual = 0.311814\n",
      "ni_ce pct change 7-day corr of close from 2020-04-09 00:00:00 to 2020-04-17 00:00:00 is =  -0.4422235114643097\n"
     ]
    },
    {
     "name": "stderr",
     "output_type": "stream",
     "text": [
      "/Users/jonathanhilgart/Library/Caches/pypoetry/virtualenvs/daily-trading-nJ43NNNI-py3.7/lib/python3.7/site-packages/numpy/lib/nanfunctions.py:1546: RuntimeWarning: overflow encountered in multiply\n",
      "  sqr = np.multiply(arr, arr, out=arr)\n"
     ]
    },
    {
     "name": "stdout",
     "output_type": "stream",
     "text": [
      "Stocks ni_eqix\n",
      "Prediction = 0.5200814799999999\n",
      "Actual = 0.782412\n",
      "ni_eqix pct change 7-day corr of close from 2020-04-09 00:00:00 to 2020-04-17 00:00:00 is =  -0.42377904058729887\n"
     ]
    },
    {
     "name": "stderr",
     "output_type": "stream",
     "text": [
      "/Users/jonathanhilgart/Library/Caches/pypoetry/virtualenvs/daily-trading-nJ43NNNI-py3.7/lib/python3.7/site-packages/numpy/lib/nanfunctions.py:1546: RuntimeWarning: overflow encountered in multiply\n",
      "  sqr = np.multiply(arr, arr, out=arr)\n"
     ]
    },
    {
     "name": "stdout",
     "output_type": "stream",
     "text": [
      "Stocks ni_rost\n",
      "Prediction = 0.43291716250000006\n",
      "Actual = 0.562377\n",
      "ni_rost pct change 7-day corr of close from 2020-04-09 00:00:00 to 2020-04-17 00:00:00 is =  -0.5203426245491964\n"
     ]
    },
    {
     "name": "stderr",
     "output_type": "stream",
     "text": [
      "/Users/jonathanhilgart/Library/Caches/pypoetry/virtualenvs/daily-trading-nJ43NNNI-py3.7/lib/python3.7/site-packages/numpy/lib/nanfunctions.py:1546: RuntimeWarning: overflow encountered in multiply\n",
      "  sqr = np.multiply(arr, arr, out=arr)\n"
     ]
    },
    {
     "name": "stdout",
     "output_type": "stream",
     "text": [
      "Stocks ni_so\n",
      "Prediction = 0.7424943775000002\n",
      "Actual = 0.601316\n",
      "ni_so pct change 7-day corr of close from 2020-04-09 00:00:00 to 2020-04-17 00:00:00 is =  -0.2450972865998413\n"
     ]
    },
    {
     "name": "stderr",
     "output_type": "stream",
     "text": [
      "/Users/jonathanhilgart/Library/Caches/pypoetry/virtualenvs/daily-trading-nJ43NNNI-py3.7/lib/python3.7/site-packages/numpy/lib/nanfunctions.py:1546: RuntimeWarning: overflow encountered in multiply\n",
      "  sqr = np.multiply(arr, arr, out=arr)\n"
     ]
    },
    {
     "name": "stdout",
     "output_type": "stream",
     "text": [
      "Stocks vno_pnr\n",
      "Prediction = 0.7987365166666669\n",
      "Actual = 0.411232\n",
      "vno_pnr pct change 7-day corr of close from 2020-04-09 00:00:00 to 2020-04-17 00:00:00 is =  -0.09193727108569538\n"
     ]
    },
    {
     "name": "stderr",
     "output_type": "stream",
     "text": [
      "/Users/jonathanhilgart/Library/Caches/pypoetry/virtualenvs/daily-trading-nJ43NNNI-py3.7/lib/python3.7/site-packages/numpy/lib/nanfunctions.py:1546: RuntimeWarning: overflow encountered in multiply\n",
      "  sqr = np.multiply(arr, arr, out=arr)\n"
     ]
    },
    {
     "name": "stdout",
     "output_type": "stream",
     "text": [
      "Stocks vno_bac\n",
      "Prediction = 0.6683639957142857\n",
      "Actual = 0.595423\n",
      "vno_bac pct change 7-day corr of close from 2020-04-09 00:00:00 to 2020-04-17 00:00:00 is =  -0.2987590222865991\n"
     ]
    },
    {
     "name": "stderr",
     "output_type": "stream",
     "text": [
      "/Users/jonathanhilgart/Library/Caches/pypoetry/virtualenvs/daily-trading-nJ43NNNI-py3.7/lib/python3.7/site-packages/numpy/lib/nanfunctions.py:1546: RuntimeWarning: overflow encountered in multiply\n",
      "  sqr = np.multiply(arr, arr, out=arr)\n"
     ]
    },
    {
     "name": "stdout",
     "output_type": "stream",
     "text": [
      "Stocks vno_ni\n",
      "Prediction = 0.5925760833333334\n",
      "Actual = 0.66298\n",
      "vno_ni pct change 7-day corr of close from 2020-04-09 00:00:00 to 2020-04-17 00:00:00 is =  -0.3449041932540612\n"
     ]
    },
    {
     "name": "stderr",
     "output_type": "stream",
     "text": [
      "/Users/jonathanhilgart/Library/Caches/pypoetry/virtualenvs/daily-trading-nJ43NNNI-py3.7/lib/python3.7/site-packages/numpy/lib/nanfunctions.py:1546: RuntimeWarning: overflow encountered in multiply\n",
      "  sqr = np.multiply(arr, arr, out=arr)\n"
     ]
    },
    {
     "name": "stdout",
     "output_type": "stream",
     "text": [
      "Stocks vno_ual\n",
      "Prediction = 0.7191311500000002\n",
      "Actual = 0.821329\n",
      "vno_ual pct change 7-day corr of close from 2020-04-09 00:00:00 to 2020-04-17 00:00:00 is =  -0.21488804096248726\n"
     ]
    },
    {
     "name": "stderr",
     "output_type": "stream",
     "text": [
      "/Users/jonathanhilgart/Library/Caches/pypoetry/virtualenvs/daily-trading-nJ43NNNI-py3.7/lib/python3.7/site-packages/numpy/lib/nanfunctions.py:1546: RuntimeWarning: overflow encountered in multiply\n",
      "  sqr = np.multiply(arr, arr, out=arr)\n"
     ]
    },
    {
     "name": "stdout",
     "output_type": "stream",
     "text": [
      "Stocks vno_efx\n",
      "Prediction = 0.5234347199999998\n",
      "Actual = 0.665408\n",
      "vno_efx pct change 7-day corr of close from 2020-04-09 00:00:00 to 2020-04-17 00:00:00 is =  -0.4560032924479477\n"
     ]
    },
    {
     "name": "stderr",
     "output_type": "stream",
     "text": [
      "/Users/jonathanhilgart/Library/Caches/pypoetry/virtualenvs/daily-trading-nJ43NNNI-py3.7/lib/python3.7/site-packages/numpy/lib/nanfunctions.py:1546: RuntimeWarning: overflow encountered in multiply\n",
      "  sqr = np.multiply(arr, arr, out=arr)\n"
     ]
    },
    {
     "name": "stdout",
     "output_type": "stream",
     "text": [
      "Stocks vno_ph\n",
      "Prediction = 0.7985865200000003\n",
      "Actual = 0.558741\n",
      "vno_ph pct change 7-day corr of close from 2020-04-09 00:00:00 to 2020-04-17 00:00:00 is =  -0.1359308646463594\n"
     ]
    },
    {
     "name": "stderr",
     "output_type": "stream",
     "text": [
      "/Users/jonathanhilgart/Library/Caches/pypoetry/virtualenvs/daily-trading-nJ43NNNI-py3.7/lib/python3.7/site-packages/numpy/lib/nanfunctions.py:1546: RuntimeWarning: overflow encountered in multiply\n",
      "  sqr = np.multiply(arr, arr, out=arr)\n"
     ]
    },
    {
     "name": "stdout",
     "output_type": "stream",
     "text": [
      "Stocks vno_rop\n",
      "Prediction = 0.3219344900000001\n",
      "Actual = 0.388901\n",
      "vno_rop pct change 7-day corr of close from 2020-04-09 00:00:00 to 2020-04-17 00:00:00 is =  -0.5446200622950725\n"
     ]
    },
    {
     "name": "stderr",
     "output_type": "stream",
     "text": [
      "/Users/jonathanhilgart/Library/Caches/pypoetry/virtualenvs/daily-trading-nJ43NNNI-py3.7/lib/python3.7/site-packages/numpy/lib/nanfunctions.py:1546: RuntimeWarning: overflow encountered in multiply\n",
      "  sqr = np.multiply(arr, arr, out=arr)\n"
     ]
    },
    {
     "name": "stdout",
     "output_type": "stream",
     "text": [
      "Stocks vno_are\n",
      "Prediction = 0.7677914325000005\n",
      "Actual = 0.639395\n",
      "vno_are pct change 7-day corr of close from 2020-04-09 00:00:00 to 2020-04-17 00:00:00 is =  -0.20048626087264343\n"
     ]
    },
    {
     "name": "stderr",
     "output_type": "stream",
     "text": [
      "/Users/jonathanhilgart/Library/Caches/pypoetry/virtualenvs/daily-trading-nJ43NNNI-py3.7/lib/python3.7/site-packages/numpy/lib/nanfunctions.py:1546: RuntimeWarning: overflow encountered in multiply\n",
      "  sqr = np.multiply(arr, arr, out=arr)\n"
     ]
    },
    {
     "name": "stdout",
     "output_type": "stream",
     "text": [
      "Stocks vno_pg\n",
      "Prediction = -0.08608551999999997\n",
      "Actual = 0.012309\n",
      "vno_pg pct change 7-day corr of close from 2020-04-09 00:00:00 to 2020-04-17 00:00:00 is =  -2.6326338947049\n"
     ]
    },
    {
     "name": "stderr",
     "output_type": "stream",
     "text": [
      "/Users/jonathanhilgart/Library/Caches/pypoetry/virtualenvs/daily-trading-nJ43NNNI-py3.7/lib/python3.7/site-packages/numpy/lib/nanfunctions.py:1546: RuntimeWarning: overflow encountered in multiply\n",
      "  sqr = np.multiply(arr, arr, out=arr)\n"
     ]
    },
    {
     "name": "stdout",
     "output_type": "stream",
     "text": [
      "Stocks vno_pvh\n",
      "Prediction = 0.8582028783333329\n",
      "Actual = 0.538043\n",
      "vno_pvh pct change 7-day corr of close from 2020-04-09 00:00:00 to 2020-04-17 00:00:00 is =  -0.06877512293132715\n"
     ]
    },
    {
     "name": "stderr",
     "output_type": "stream",
     "text": [
      "/Users/jonathanhilgart/Library/Caches/pypoetry/virtualenvs/daily-trading-nJ43NNNI-py3.7/lib/python3.7/site-packages/numpy/lib/nanfunctions.py:1546: RuntimeWarning: overflow encountered in multiply\n",
      "  sqr = np.multiply(arr, arr, out=arr)\n"
     ]
    },
    {
     "name": "stdout",
     "output_type": "stream",
     "text": [
      "Stocks vno_lb\n",
      "Prediction = 0.58542296\n",
      "Actual = 0.393704\n",
      "vno_lb pct change 7-day corr of close from 2020-04-09 00:00:00 to 2020-04-17 00:00:00 is =  -0.3605925045681875\n"
     ]
    },
    {
     "name": "stderr",
     "output_type": "stream",
     "text": [
      "/Users/jonathanhilgart/Library/Caches/pypoetry/virtualenvs/daily-trading-nJ43NNNI-py3.7/lib/python3.7/site-packages/numpy/lib/nanfunctions.py:1546: RuntimeWarning: overflow encountered in multiply\n",
      "  sqr = np.multiply(arr, arr, out=arr)\n"
     ]
    },
    {
     "name": "stdout",
     "output_type": "stream",
     "text": [
      "Stocks vno_cern\n",
      "Prediction = 0.06952625999999996\n",
      "Actual = 0.307576\n",
      "vno_cern pct change 7-day corr of close from 2020-04-09 00:00:00 to 2020-04-17 00:00:00 is =  -0.9245955073727501\n"
     ]
    },
    {
     "name": "stderr",
     "output_type": "stream",
     "text": [
      "/Users/jonathanhilgart/Library/Caches/pypoetry/virtualenvs/daily-trading-nJ43NNNI-py3.7/lib/python3.7/site-packages/numpy/lib/nanfunctions.py:1546: RuntimeWarning: overflow encountered in multiply\n",
      "  sqr = np.multiply(arr, arr, out=arr)\n"
     ]
    },
    {
     "name": "stdout",
     "output_type": "stream",
     "text": [
      "Stocks vno_peg\n",
      "Prediction = 0.5732840066666665\n",
      "Actual = 0.526397\n",
      "vno_peg pct change 7-day corr of close from 2020-04-09 00:00:00 to 2020-04-17 00:00:00 is =  -0.37656704655849926\n"
     ]
    },
    {
     "name": "stderr",
     "output_type": "stream",
     "text": [
      "/Users/jonathanhilgart/Library/Caches/pypoetry/virtualenvs/daily-trading-nJ43NNNI-py3.7/lib/python3.7/site-packages/numpy/lib/nanfunctions.py:1546: RuntimeWarning: overflow encountered in multiply\n",
      "  sqr = np.multiply(arr, arr, out=arr)\n"
     ]
    },
    {
     "name": "stdout",
     "output_type": "stream",
     "text": [
      "Stocks vno_adbe\n",
      "Prediction = 0.5358345100000004\n",
      "Actual = 0.048307\n",
      "vno_adbe pct change 7-day corr of close from 2020-04-09 00:00:00 to 2020-04-17 00:00:00 is =  -0.2277973466070229\n"
     ]
    },
    {
     "name": "stderr",
     "output_type": "stream",
     "text": [
      "/Users/jonathanhilgart/Library/Caches/pypoetry/virtualenvs/daily-trading-nJ43NNNI-py3.7/lib/python3.7/site-packages/numpy/lib/nanfunctions.py:1546: RuntimeWarning: overflow encountered in multiply\n",
      "  sqr = np.multiply(arr, arr, out=arr)\n"
     ]
    },
    {
     "name": "stdout",
     "output_type": "stream",
     "text": [
      "Stocks vno_emr\n",
      "Prediction = 0.3560804180000001\n",
      "Actual = 0.251679\n",
      "vno_emr pct change 7-day corr of close from 2020-04-09 00:00:00 to 2020-04-17 00:00:00 is =  -0.5813773595109333\n"
     ]
    },
    {
     "name": "stderr",
     "output_type": "stream",
     "text": [
      "/Users/jonathanhilgart/Library/Caches/pypoetry/virtualenvs/daily-trading-nJ43NNNI-py3.7/lib/python3.7/site-packages/numpy/lib/nanfunctions.py:1546: RuntimeWarning: overflow encountered in multiply\n",
      "  sqr = np.multiply(arr, arr, out=arr)\n"
     ]
    },
    {
     "name": "stdout",
     "output_type": "stream",
     "text": [
      "Stocks vno_ce\n",
      "Prediction = 0.7212534799999999\n",
      "Actual = 0.481363\n",
      "vno_ce pct change 7-day corr of close from 2020-04-09 00:00:00 to 2020-04-17 00:00:00 is =  -0.25713509415928193\n"
     ]
    },
    {
     "name": "stderr",
     "output_type": "stream",
     "text": [
      "/Users/jonathanhilgart/Library/Caches/pypoetry/virtualenvs/daily-trading-nJ43NNNI-py3.7/lib/python3.7/site-packages/numpy/lib/nanfunctions.py:1546: RuntimeWarning: overflow encountered in multiply\n",
      "  sqr = np.multiply(arr, arr, out=arr)\n"
     ]
    },
    {
     "name": "stdout",
     "output_type": "stream",
     "text": [
      "Stocks vno_eqix\n",
      "Prediction = 0.48998401\n",
      "Actual = 0.400584\n",
      "vno_eqix pct change 7-day corr of close from 2020-04-09 00:00:00 to 2020-04-17 00:00:00 is =  -0.35304026861588356\n"
     ]
    },
    {
     "name": "stderr",
     "output_type": "stream",
     "text": [
      "/Users/jonathanhilgart/Library/Caches/pypoetry/virtualenvs/daily-trading-nJ43NNNI-py3.7/lib/python3.7/site-packages/numpy/lib/nanfunctions.py:1546: RuntimeWarning: overflow encountered in multiply\n",
      "  sqr = np.multiply(arr, arr, out=arr)\n"
     ]
    },
    {
     "name": "stdout",
     "output_type": "stream",
     "text": [
      "Stocks vno_rost\n",
      "Prediction = 0.59939489\n",
      "Actual = 0.439933\n",
      "vno_rost pct change 7-day corr of close from 2020-04-09 00:00:00 to 2020-04-17 00:00:00 is =  -0.2440053553230347\n"
     ]
    },
    {
     "name": "stderr",
     "output_type": "stream",
     "text": [
      "/Users/jonathanhilgart/Library/Caches/pypoetry/virtualenvs/daily-trading-nJ43NNNI-py3.7/lib/python3.7/site-packages/numpy/lib/nanfunctions.py:1546: RuntimeWarning: overflow encountered in multiply\n",
      "  sqr = np.multiply(arr, arr, out=arr)\n"
     ]
    },
    {
     "name": "stdout",
     "output_type": "stream",
     "text": [
      "Stocks vno_so\n",
      "Prediction = 0.5857152600000005\n",
      "Actual = 0.625683\n",
      "vno_so pct change 7-day corr of close from 2020-04-09 00:00:00 to 2020-04-17 00:00:00 is =  -0.34727828712097775\n"
     ]
    },
    {
     "name": "stderr",
     "output_type": "stream",
     "text": [
      "/Users/jonathanhilgart/Library/Caches/pypoetry/virtualenvs/daily-trading-nJ43NNNI-py3.7/lib/python3.7/site-packages/numpy/lib/nanfunctions.py:1546: RuntimeWarning: overflow encountered in multiply\n",
      "  sqr = np.multiply(arr, arr, out=arr)\n"
     ]
    },
    {
     "name": "stdout",
     "output_type": "stream",
     "text": [
      "Stocks ual_pnr\n",
      "Prediction = 0.6329957499999996\n",
      "Actual = 0.145586\n",
      "ual_pnr pct change 7-day corr of close from 2020-04-09 00:00:00 to 2020-04-17 00:00:00 is =  -0.0633760562984319\n"
     ]
    },
    {
     "name": "stderr",
     "output_type": "stream",
     "text": [
      "/Users/jonathanhilgart/Library/Caches/pypoetry/virtualenvs/daily-trading-nJ43NNNI-py3.7/lib/python3.7/site-packages/numpy/lib/nanfunctions.py:1546: RuntimeWarning: overflow encountered in multiply\n",
      "  sqr = np.multiply(arr, arr, out=arr)\n"
     ]
    },
    {
     "name": "stdout",
     "output_type": "stream",
     "text": [
      "Stocks ual_bac\n",
      "Prediction = 0.5431550799999999\n",
      "Actual = 0.251494\n",
      "ual_bac pct change 7-day corr of close from 2020-04-09 00:00:00 to 2020-04-17 00:00:00 is =  -0.3628402874963489\n"
     ]
    },
    {
     "name": "stderr",
     "output_type": "stream",
     "text": [
      "/Users/jonathanhilgart/Library/Caches/pypoetry/virtualenvs/daily-trading-nJ43NNNI-py3.7/lib/python3.7/site-packages/numpy/lib/nanfunctions.py:1546: RuntimeWarning: overflow encountered in multiply\n",
      "  sqr = np.multiply(arr, arr, out=arr)\n"
     ]
    },
    {
     "name": "stdout",
     "output_type": "stream",
     "text": [
      "Stocks ual_ni\n",
      "Prediction = 0.42280291\n",
      "Actual = 0.359679\n",
      "ual_ni pct change 7-day corr of close from 2020-04-09 00:00:00 to 2020-04-17 00:00:00 is =  -0.5098528293399984\n"
     ]
    },
    {
     "name": "stderr",
     "output_type": "stream",
     "text": [
      "/Users/jonathanhilgart/Library/Caches/pypoetry/virtualenvs/daily-trading-nJ43NNNI-py3.7/lib/python3.7/site-packages/numpy/lib/nanfunctions.py:1546: RuntimeWarning: overflow encountered in multiply\n",
      "  sqr = np.multiply(arr, arr, out=arr)\n"
     ]
    },
    {
     "name": "stdout",
     "output_type": "stream",
     "text": [
      "Stocks ual_vno\n",
      "Prediction = 0.7015166766666671\n",
      "Actual = 0.821329\n",
      "ual_vno pct change 7-day corr of close from 2020-04-09 00:00:00 to 2020-04-17 00:00:00 is =  -0.23411865510866514\n"
     ]
    },
    {
     "name": "stderr",
     "output_type": "stream",
     "text": [
      "/Users/jonathanhilgart/Library/Caches/pypoetry/virtualenvs/daily-trading-nJ43NNNI-py3.7/lib/python3.7/site-packages/numpy/lib/nanfunctions.py:1546: RuntimeWarning: overflow encountered in multiply\n",
      "  sqr = np.multiply(arr, arr, out=arr)\n"
     ]
    },
    {
     "name": "stdout",
     "output_type": "stream",
     "text": [
      "Stocks ual_efx\n",
      "Prediction = 0.3471747200000004\n",
      "Actual = 0.415384\n",
      "ual_efx pct change 7-day corr of close from 2020-04-09 00:00:00 to 2020-04-17 00:00:00 is =  -0.6116774585391875\n"
     ]
    },
    {
     "name": "stderr",
     "output_type": "stream",
     "text": [
      "/Users/jonathanhilgart/Library/Caches/pypoetry/virtualenvs/daily-trading-nJ43NNNI-py3.7/lib/python3.7/site-packages/numpy/lib/nanfunctions.py:1546: RuntimeWarning: overflow encountered in multiply\n",
      "  sqr = np.multiply(arr, arr, out=arr)\n"
     ]
    },
    {
     "name": "stdout",
     "output_type": "stream",
     "text": [
      "Stocks ual_ph\n",
      "Prediction = 0.6388385599999998\n",
      "Actual = 0.175928\n",
      "ual_ph pct change 7-day corr of close from 2020-04-09 00:00:00 to 2020-04-17 00:00:00 is =  -0.18145578808313612\n"
     ]
    },
    {
     "name": "stderr",
     "output_type": "stream",
     "text": [
      "/Users/jonathanhilgart/Library/Caches/pypoetry/virtualenvs/daily-trading-nJ43NNNI-py3.7/lib/python3.7/site-packages/numpy/lib/nanfunctions.py:1546: RuntimeWarning: overflow encountered in multiply\n",
      "  sqr = np.multiply(arr, arr, out=arr)\n"
     ]
    },
    {
     "name": "stdout",
     "output_type": "stream",
     "text": [
      "Stocks ual_rop\n",
      "Prediction = 0.42189535999999994\n",
      "Actual = 0.019921\n",
      "ual_rop pct change 7-day corr of close from 2020-04-09 00:00:00 to 2020-04-17 00:00:00 is =  -0.20718863630811568\n"
     ]
    },
    {
     "name": "stderr",
     "output_type": "stream",
     "text": [
      "/Users/jonathanhilgart/Library/Caches/pypoetry/virtualenvs/daily-trading-nJ43NNNI-py3.7/lib/python3.7/site-packages/numpy/lib/nanfunctions.py:1546: RuntimeWarning: overflow encountered in multiply\n",
      "  sqr = np.multiply(arr, arr, out=arr)\n"
     ]
    },
    {
     "name": "stdout",
     "output_type": "stream",
     "text": [
      "Stocks ual_are\n",
      "Prediction = 0.5700950800000004\n",
      "Actual = 0.633472\n",
      "ual_are pct change 7-day corr of close from 2020-04-09 00:00:00 to 2020-04-17 00:00:00 is =  -0.3835830342767982\n"
     ]
    },
    {
     "name": "stderr",
     "output_type": "stream",
     "text": [
      "/Users/jonathanhilgart/Library/Caches/pypoetry/virtualenvs/daily-trading-nJ43NNNI-py3.7/lib/python3.7/site-packages/numpy/lib/nanfunctions.py:1546: RuntimeWarning: overflow encountered in multiply\n",
      "  sqr = np.multiply(arr, arr, out=arr)\n"
     ]
    },
    {
     "name": "stdout",
     "output_type": "stream",
     "text": [
      "Stocks ual_pg\n",
      "Prediction = -0.48403188000000014\n",
      "Actual = 0.076191\n",
      "ual_pg pct change 7-day corr of close from 2020-04-09 00:00:00 to 2020-04-17 00:00:00 is =  7.345521129674651\n"
     ]
    },
    {
     "name": "stderr",
     "output_type": "stream",
     "text": [
      "/Users/jonathanhilgart/Library/Caches/pypoetry/virtualenvs/daily-trading-nJ43NNNI-py3.7/lib/python3.7/site-packages/numpy/lib/nanfunctions.py:1546: RuntimeWarning: overflow encountered in multiply\n",
      "  sqr = np.multiply(arr, arr, out=arr)\n"
     ]
    },
    {
     "name": "stdout",
     "output_type": "stream",
     "text": [
      "Stocks ual_pvh\n",
      "Prediction = 0.5467671499999994\n",
      "Actual = 0.178844\n",
      "ual_pvh pct change 7-day corr of close from 2020-04-09 00:00:00 to 2020-04-17 00:00:00 is =  -0.23946460265619252\n"
     ]
    },
    {
     "name": "stderr",
     "output_type": "stream",
     "text": [
      "/Users/jonathanhilgart/Library/Caches/pypoetry/virtualenvs/daily-trading-nJ43NNNI-py3.7/lib/python3.7/site-packages/numpy/lib/nanfunctions.py:1546: RuntimeWarning: overflow encountered in multiply\n",
      "  sqr = np.multiply(arr, arr, out=arr)\n"
     ]
    },
    {
     "name": "stdout",
     "output_type": "stream",
     "text": [
      "Stocks ual_lb\n",
      "Prediction = 0.5442400957142854\n",
      "Actual = 0.051689\n",
      "ual_lb pct change 7-day corr of close from 2020-04-09 00:00:00 to 2020-04-17 00:00:00 is =  -0.2517185066899227\n"
     ]
    },
    {
     "name": "stderr",
     "output_type": "stream",
     "text": [
      "/Users/jonathanhilgart/Library/Caches/pypoetry/virtualenvs/daily-trading-nJ43NNNI-py3.7/lib/python3.7/site-packages/numpy/lib/nanfunctions.py:1546: RuntimeWarning: overflow encountered in multiply\n",
      "  sqr = np.multiply(arr, arr, out=arr)\n"
     ]
    },
    {
     "name": "stdout",
     "output_type": "stream",
     "text": [
      "Stocks ual_cern\n",
      "Prediction = -0.06352623333333332\n",
      "Actual = 0.353142\n",
      "ual_cern pct change 7-day corr of close from 2020-04-09 00:00:00 to 2020-04-17 00:00:00 is =  -1.0783615667979554\n"
     ]
    },
    {
     "name": "stderr",
     "output_type": "stream",
     "text": [
      "/Users/jonathanhilgart/Library/Caches/pypoetry/virtualenvs/daily-trading-nJ43NNNI-py3.7/lib/python3.7/site-packages/numpy/lib/nanfunctions.py:1546: RuntimeWarning: overflow encountered in multiply\n",
      "  sqr = np.multiply(arr, arr, out=arr)\n"
     ]
    },
    {
     "name": "stdout",
     "output_type": "stream",
     "text": [
      "Stocks ual_peg\n",
      "Prediction = 0.0048063399999999975\n",
      "Actual = 0.341162\n",
      "ual_peg pct change 7-day corr of close from 2020-04-09 00:00:00 to 2020-04-17 00:00:00 is =  -0.994075031958787\n"
     ]
    },
    {
     "name": "stderr",
     "output_type": "stream",
     "text": [
      "/Users/jonathanhilgart/Library/Caches/pypoetry/virtualenvs/daily-trading-nJ43NNNI-py3.7/lib/python3.7/site-packages/numpy/lib/nanfunctions.py:1546: RuntimeWarning: overflow encountered in multiply\n",
      "  sqr = np.multiply(arr, arr, out=arr)\n"
     ]
    },
    {
     "name": "stdout",
     "output_type": "stream",
     "text": [
      "Stocks ual_adbe\n",
      "Prediction = 0.5558553199999999\n",
      "Actual = 0.047701\n",
      "ual_adbe pct change 7-day corr of close from 2020-04-09 00:00:00 to 2020-04-17 00:00:00 is =  -0.09194146398839487\n"
     ]
    },
    {
     "name": "stderr",
     "output_type": "stream",
     "text": [
      "/Users/jonathanhilgart/Library/Caches/pypoetry/virtualenvs/daily-trading-nJ43NNNI-py3.7/lib/python3.7/site-packages/numpy/lib/nanfunctions.py:1546: RuntimeWarning: overflow encountered in multiply\n",
      "  sqr = np.multiply(arr, arr, out=arr)\n"
     ]
    },
    {
     "name": "stdout",
     "output_type": "stream",
     "text": [
      "Stocks ual_emr\n",
      "Prediction = 0.2630060339999999\n",
      "Actual = -0.142493\n",
      "ual_emr pct change 7-day corr of close from 2020-04-09 00:00:00 to 2020-04-17 00:00:00 is =  -0.6027153195802475\n"
     ]
    },
    {
     "name": "stderr",
     "output_type": "stream",
     "text": [
      "/Users/jonathanhilgart/Library/Caches/pypoetry/virtualenvs/daily-trading-nJ43NNNI-py3.7/lib/python3.7/site-packages/numpy/lib/nanfunctions.py:1546: RuntimeWarning: overflow encountered in multiply\n",
      "  sqr = np.multiply(arr, arr, out=arr)\n"
     ]
    },
    {
     "name": "stdout",
     "output_type": "stream",
     "text": [
      "Stocks ual_ce\n",
      "Prediction = 0.4983852233333332\n",
      "Actual = 0.113703\n",
      "ual_ce pct change 7-day corr of close from 2020-04-09 00:00:00 to 2020-04-17 00:00:00 is =  -0.41071873005963555\n"
     ]
    },
    {
     "name": "stderr",
     "output_type": "stream",
     "text": [
      "/Users/jonathanhilgart/Library/Caches/pypoetry/virtualenvs/daily-trading-nJ43NNNI-py3.7/lib/python3.7/site-packages/numpy/lib/nanfunctions.py:1546: RuntimeWarning: overflow encountered in multiply\n",
      "  sqr = np.multiply(arr, arr, out=arr)\n"
     ]
    },
    {
     "name": "stdout",
     "output_type": "stream",
     "text": [
      "Stocks ual_eqix\n",
      "Prediction = 0.08520396999999993\n",
      "Actual = 0.375885\n",
      "ual_eqix pct change 7-day corr of close from 2020-04-09 00:00:00 to 2020-04-17 00:00:00 is =  -0.880013335924474\n"
     ]
    },
    {
     "name": "stderr",
     "output_type": "stream",
     "text": [
      "/Users/jonathanhilgart/Library/Caches/pypoetry/virtualenvs/daily-trading-nJ43NNNI-py3.7/lib/python3.7/site-packages/numpy/lib/nanfunctions.py:1546: RuntimeWarning: overflow encountered in multiply\n",
      "  sqr = np.multiply(arr, arr, out=arr)\n"
     ]
    },
    {
     "name": "stdout",
     "output_type": "stream",
     "text": [
      "Stocks ual_rost\n",
      "Prediction = 0.6562109775000002\n",
      "Actual = 0.189437\n",
      "ual_rost pct change 7-day corr of close from 2020-04-09 00:00:00 to 2020-04-17 00:00:00 is =  -0.04805352179488631\n"
     ]
    },
    {
     "name": "stderr",
     "output_type": "stream",
     "text": [
      "/Users/jonathanhilgart/Library/Caches/pypoetry/virtualenvs/daily-trading-nJ43NNNI-py3.7/lib/python3.7/site-packages/numpy/lib/nanfunctions.py:1546: RuntimeWarning: overflow encountered in multiply\n",
      "  sqr = np.multiply(arr, arr, out=arr)\n"
     ]
    },
    {
     "name": "stdout",
     "output_type": "stream",
     "text": [
      "Stocks ual_so\n",
      "Prediction = 0.4803882899999997\n",
      "Actual = 0.284456\n",
      "ual_so pct change 7-day corr of close from 2020-04-09 00:00:00 to 2020-04-17 00:00:00 is =  -0.39067408005905724\n"
     ]
    },
    {
     "name": "stderr",
     "output_type": "stream",
     "text": [
      "/Users/jonathanhilgart/Library/Caches/pypoetry/virtualenvs/daily-trading-nJ43NNNI-py3.7/lib/python3.7/site-packages/numpy/lib/nanfunctions.py:1546: RuntimeWarning: overflow encountered in multiply\n",
      "  sqr = np.multiply(arr, arr, out=arr)\n"
     ]
    },
    {
     "name": "stdout",
     "output_type": "stream",
     "text": [
      "Stocks efx_pnr\n",
      "Prediction = 0.500450575\n",
      "Actual = 0.267229\n",
      "efx_pnr pct change 7-day corr of close from 2020-04-09 00:00:00 to 2020-04-17 00:00:00 is =  -0.42086461706170564\n"
     ]
    },
    {
     "name": "stderr",
     "output_type": "stream",
     "text": [
      "/Users/jonathanhilgart/Library/Caches/pypoetry/virtualenvs/daily-trading-nJ43NNNI-py3.7/lib/python3.7/site-packages/numpy/lib/nanfunctions.py:1546: RuntimeWarning: overflow encountered in multiply\n",
      "  sqr = np.multiply(arr, arr, out=arr)\n"
     ]
    },
    {
     "name": "stdout",
     "output_type": "stream",
     "text": [
      "Stocks efx_bac\n",
      "Prediction = 0.32865887000000027\n",
      "Actual = 0.213635\n",
      "efx_bac pct change 7-day corr of close from 2020-04-09 00:00:00 to 2020-04-17 00:00:00 is =  -0.6414158481952894\n"
     ]
    },
    {
     "name": "stderr",
     "output_type": "stream",
     "text": [
      "/Users/jonathanhilgart/Library/Caches/pypoetry/virtualenvs/daily-trading-nJ43NNNI-py3.7/lib/python3.7/site-packages/numpy/lib/nanfunctions.py:1546: RuntimeWarning: overflow encountered in multiply\n",
      "  sqr = np.multiply(arr, arr, out=arr)\n"
     ]
    },
    {
     "name": "stdout",
     "output_type": "stream",
     "text": [
      "Stocks efx_ni\n",
      "Prediction = 0.27570290000000014\n",
      "Actual = 0.691253\n",
      "efx_ni pct change 7-day corr of close from 2020-04-09 00:00:00 to 2020-04-17 00:00:00 is =  -0.7028743399073174\n"
     ]
    },
    {
     "name": "stderr",
     "output_type": "stream",
     "text": [
      "/Users/jonathanhilgart/Library/Caches/pypoetry/virtualenvs/daily-trading-nJ43NNNI-py3.7/lib/python3.7/site-packages/numpy/lib/nanfunctions.py:1546: RuntimeWarning: overflow encountered in multiply\n",
      "  sqr = np.multiply(arr, arr, out=arr)\n"
     ]
    },
    {
     "name": "stdout",
     "output_type": "stream",
     "text": [
      "Stocks efx_vno\n",
      "Prediction = 0.5975641024999999\n",
      "Actual = 0.665408\n",
      "efx_vno pct change 7-day corr of close from 2020-04-09 00:00:00 to 2020-04-17 00:00:00 is =  -0.37896189937248115\n"
     ]
    },
    {
     "name": "stderr",
     "output_type": "stream",
     "text": [
      "/Users/jonathanhilgart/Library/Caches/pypoetry/virtualenvs/daily-trading-nJ43NNNI-py3.7/lib/python3.7/site-packages/numpy/lib/nanfunctions.py:1546: RuntimeWarning: overflow encountered in multiply\n",
      "  sqr = np.multiply(arr, arr, out=arr)\n"
     ]
    },
    {
     "name": "stdout",
     "output_type": "stream",
     "text": [
      "Stocks efx_ual\n",
      "Prediction = 0.3432668800000001\n",
      "Actual = 0.415384\n",
      "efx_ual pct change 7-day corr of close from 2020-04-09 00:00:00 to 2020-04-17 00:00:00 is =  -0.6160484633186321\n"
     ]
    },
    {
     "name": "stderr",
     "output_type": "stream",
     "text": [
      "/Users/jonathanhilgart/Library/Caches/pypoetry/virtualenvs/daily-trading-nJ43NNNI-py3.7/lib/python3.7/site-packages/numpy/lib/nanfunctions.py:1546: RuntimeWarning: overflow encountered in multiply\n",
      "  sqr = np.multiply(arr, arr, out=arr)\n"
     ]
    },
    {
     "name": "stdout",
     "output_type": "stream",
     "text": [
      "Stocks efx_ph\n",
      "Prediction = 0.41033673\n",
      "Actual = 0.35326\n",
      "efx_ph pct change 7-day corr of close from 2020-04-09 00:00:00 to 2020-04-17 00:00:00 is =  -0.558128681482694\n"
     ]
    },
    {
     "name": "stderr",
     "output_type": "stream",
     "text": [
      "/Users/jonathanhilgart/Library/Caches/pypoetry/virtualenvs/daily-trading-nJ43NNNI-py3.7/lib/python3.7/site-packages/numpy/lib/nanfunctions.py:1546: RuntimeWarning: overflow encountered in multiply\n",
      "  sqr = np.multiply(arr, arr, out=arr)\n"
     ]
    },
    {
     "name": "stdout",
     "output_type": "stream",
     "text": [
      "Stocks efx_rop\n",
      "Prediction = 0.44678134\n",
      "Actual = 0.745908\n",
      "efx_rop pct change 7-day corr of close from 2020-04-09 00:00:00 to 2020-04-17 00:00:00 is =  -0.39171629486926385\n"
     ]
    },
    {
     "name": "stderr",
     "output_type": "stream",
     "text": [
      "/Users/jonathanhilgart/Library/Caches/pypoetry/virtualenvs/daily-trading-nJ43NNNI-py3.7/lib/python3.7/site-packages/numpy/lib/nanfunctions.py:1546: RuntimeWarning: overflow encountered in multiply\n",
      "  sqr = np.multiply(arr, arr, out=arr)\n"
     ]
    },
    {
     "name": "stdout",
     "output_type": "stream",
     "text": [
      "Stocks efx_are\n",
      "Prediction = 0.6955215566666666\n",
      "Actual = 0.657059\n",
      "efx_are pct change 7-day corr of close from 2020-04-09 00:00:00 to 2020-04-17 00:00:00 is =  -0.25258625438933024\n"
     ]
    },
    {
     "name": "stderr",
     "output_type": "stream",
     "text": [
      "/Users/jonathanhilgart/Library/Caches/pypoetry/virtualenvs/daily-trading-nJ43NNNI-py3.7/lib/python3.7/site-packages/numpy/lib/nanfunctions.py:1546: RuntimeWarning: overflow encountered in multiply\n",
      "  sqr = np.multiply(arr, arr, out=arr)\n"
     ]
    },
    {
     "name": "stdout",
     "output_type": "stream",
     "text": [
      "Stocks efx_pg\n",
      "Prediction = -0.3648677700000001\n",
      "Actual = 0.559069\n",
      "efx_pg pct change 7-day corr of close from 2020-04-09 00:00:00 to 2020-04-17 00:00:00 is =  -9.74584170282126\n"
     ]
    },
    {
     "name": "stderr",
     "output_type": "stream",
     "text": [
      "/Users/jonathanhilgart/Library/Caches/pypoetry/virtualenvs/daily-trading-nJ43NNNI-py3.7/lib/python3.7/site-packages/numpy/lib/nanfunctions.py:1546: RuntimeWarning: overflow encountered in multiply\n",
      "  sqr = np.multiply(arr, arr, out=arr)\n"
     ]
    },
    {
     "name": "stdout",
     "output_type": "stream",
     "text": [
      "Stocks efx_pvh\n",
      "Prediction = 0.3378367399999999\n",
      "Actual = 0.283954\n",
      "efx_pvh pct change 7-day corr of close from 2020-04-09 00:00:00 to 2020-04-17 00:00:00 is =  -0.6308428608424566\n"
     ]
    },
    {
     "name": "stderr",
     "output_type": "stream",
     "text": [
      "/Users/jonathanhilgart/Library/Caches/pypoetry/virtualenvs/daily-trading-nJ43NNNI-py3.7/lib/python3.7/site-packages/numpy/lib/nanfunctions.py:1546: RuntimeWarning: overflow encountered in multiply\n",
      "  sqr = np.multiply(arr, arr, out=arr)\n"
     ]
    },
    {
     "name": "stdout",
     "output_type": "stream",
     "text": [
      "Stocks efx_lb\n",
      "Prediction = 0.40566129000000023\n",
      "Actual = 0.226271\n",
      "efx_lb pct change 7-day corr of close from 2020-04-09 00:00:00 to 2020-04-17 00:00:00 is =  -0.5341574415602905\n"
     ]
    },
    {
     "name": "stderr",
     "output_type": "stream",
     "text": [
      "/Users/jonathanhilgart/Library/Caches/pypoetry/virtualenvs/daily-trading-nJ43NNNI-py3.7/lib/python3.7/site-packages/numpy/lib/nanfunctions.py:1546: RuntimeWarning: overflow encountered in multiply\n",
      "  sqr = np.multiply(arr, arr, out=arr)\n"
     ]
    },
    {
     "name": "stdout",
     "output_type": "stream",
     "text": [
      "Stocks efx_cern\n",
      "Prediction = 0.17641408928571414\n",
      "Actual = 0.718914\n",
      "efx_cern pct change 7-day corr of close from 2020-04-09 00:00:00 to 2020-04-17 00:00:00 is =  -0.7969801607851843\n"
     ]
    },
    {
     "name": "stderr",
     "output_type": "stream",
     "text": [
      "/Users/jonathanhilgart/Library/Caches/pypoetry/virtualenvs/daily-trading-nJ43NNNI-py3.7/lib/python3.7/site-packages/numpy/lib/nanfunctions.py:1546: RuntimeWarning: overflow encountered in multiply\n",
      "  sqr = np.multiply(arr, arr, out=arr)\n"
     ]
    },
    {
     "name": "stdout",
     "output_type": "stream",
     "text": [
      "Stocks efx_peg\n",
      "Prediction = 0.21900608999999988\n",
      "Actual = 0.802092\n",
      "efx_peg pct change 7-day corr of close from 2020-04-09 00:00:00 to 2020-04-17 00:00:00 is =  -0.7515298189962085\n"
     ]
    },
    {
     "name": "stderr",
     "output_type": "stream",
     "text": [
      "/Users/jonathanhilgart/Library/Caches/pypoetry/virtualenvs/daily-trading-nJ43NNNI-py3.7/lib/python3.7/site-packages/numpy/lib/nanfunctions.py:1546: RuntimeWarning: overflow encountered in multiply\n",
      "  sqr = np.multiply(arr, arr, out=arr)\n"
     ]
    },
    {
     "name": "stdout",
     "output_type": "stream",
     "text": [
      "Stocks efx_adbe\n",
      "Prediction = 0.4739351399999996\n",
      "Actual = 0.569346\n",
      "efx_adbe pct change 7-day corr of close from 2020-04-09 00:00:00 to 2020-04-17 00:00:00 is =  -0.4130557970529888\n"
     ]
    },
    {
     "name": "stderr",
     "output_type": "stream",
     "text": [
      "/Users/jonathanhilgart/Library/Caches/pypoetry/virtualenvs/daily-trading-nJ43NNNI-py3.7/lib/python3.7/site-packages/numpy/lib/nanfunctions.py:1546: RuntimeWarning: overflow encountered in multiply\n",
      "  sqr = np.multiply(arr, arr, out=arr)\n"
     ]
    },
    {
     "name": "stdout",
     "output_type": "stream",
     "text": [
      "Stocks efx_emr\n",
      "Prediction = 0.3546571550000004\n",
      "Actual = 0.09733\n",
      "efx_emr pct change 7-day corr of close from 2020-04-09 00:00:00 to 2020-04-17 00:00:00 is =  -0.5948849560453615\n"
     ]
    },
    {
     "name": "stderr",
     "output_type": "stream",
     "text": [
      "/Users/jonathanhilgart/Library/Caches/pypoetry/virtualenvs/daily-trading-nJ43NNNI-py3.7/lib/python3.7/site-packages/numpy/lib/nanfunctions.py:1546: RuntimeWarning: overflow encountered in multiply\n",
      "  sqr = np.multiply(arr, arr, out=arr)\n"
     ]
    },
    {
     "name": "stdout",
     "output_type": "stream",
     "text": [
      "Stocks efx_ce\n",
      "Prediction = 0.6688417299999999\n",
      "Actual = 0.131298\n",
      "efx_ce pct change 7-day corr of close from 2020-04-09 00:00:00 to 2020-04-17 00:00:00 is =  -0.3024535354367581\n"
     ]
    },
    {
     "name": "stderr",
     "output_type": "stream",
     "text": [
      "/Users/jonathanhilgart/Library/Caches/pypoetry/virtualenvs/daily-trading-nJ43NNNI-py3.7/lib/python3.7/site-packages/numpy/lib/nanfunctions.py:1546: RuntimeWarning: overflow encountered in multiply\n",
      "  sqr = np.multiply(arr, arr, out=arr)\n"
     ]
    },
    {
     "name": "stdout",
     "output_type": "stream",
     "text": [
      "Stocks efx_eqix\n",
      "Prediction = 0.3401172249999999\n",
      "Actual = 0.738822\n",
      "efx_eqix pct change 7-day corr of close from 2020-04-09 00:00:00 to 2020-04-17 00:00:00 is =  -0.5308003098409686\n"
     ]
    },
    {
     "name": "stderr",
     "output_type": "stream",
     "text": [
      "/Users/jonathanhilgart/Library/Caches/pypoetry/virtualenvs/daily-trading-nJ43NNNI-py3.7/lib/python3.7/site-packages/numpy/lib/nanfunctions.py:1546: RuntimeWarning: overflow encountered in multiply\n",
      "  sqr = np.multiply(arr, arr, out=arr)\n"
     ]
    },
    {
     "name": "stdout",
     "output_type": "stream",
     "text": [
      "Stocks efx_rost\n",
      "Prediction = 0.3532764000000002\n",
      "Actual = 0.917796\n",
      "efx_rost pct change 7-day corr of close from 2020-04-09 00:00:00 to 2020-04-17 00:00:00 is =  -0.6095836865144311\n"
     ]
    },
    {
     "name": "stderr",
     "output_type": "stream",
     "text": [
      "/Users/jonathanhilgart/Library/Caches/pypoetry/virtualenvs/daily-trading-nJ43NNNI-py3.7/lib/python3.7/site-packages/numpy/lib/nanfunctions.py:1546: RuntimeWarning: overflow encountered in multiply\n",
      "  sqr = np.multiply(arr, arr, out=arr)\n"
     ]
    },
    {
     "name": "stdout",
     "output_type": "stream",
     "text": [
      "Stocks efx_so\n",
      "Prediction = 0.5312179449999999\n",
      "Actual = 0.332373\n",
      "efx_so pct change 7-day corr of close from 2020-04-09 00:00:00 to 2020-04-17 00:00:00 is =  -0.4111638487655588\n"
     ]
    },
    {
     "name": "stderr",
     "output_type": "stream",
     "text": [
      "/Users/jonathanhilgart/Library/Caches/pypoetry/virtualenvs/daily-trading-nJ43NNNI-py3.7/lib/python3.7/site-packages/numpy/lib/nanfunctions.py:1546: RuntimeWarning: overflow encountered in multiply\n",
      "  sqr = np.multiply(arr, arr, out=arr)\n"
     ]
    },
    {
     "name": "stdout",
     "output_type": "stream",
     "text": [
      "Stocks ph_pnr\n",
      "Prediction = 0.8366297799999998\n",
      "Actual = 0.934718\n",
      "ph_pnr pct change 7-day corr of close from 2020-04-09 00:00:00 to 2020-04-17 00:00:00 is =  -0.1447689445438285\n"
     ]
    },
    {
     "name": "stderr",
     "output_type": "stream",
     "text": [
      "/Users/jonathanhilgart/Library/Caches/pypoetry/virtualenvs/daily-trading-nJ43NNNI-py3.7/lib/python3.7/site-packages/numpy/lib/nanfunctions.py:1546: RuntimeWarning: overflow encountered in multiply\n",
      "  sqr = np.multiply(arr, arr, out=arr)\n"
     ]
    },
    {
     "name": "stdout",
     "output_type": "stream",
     "text": [
      "Stocks ph_bac\n",
      "Prediction = 0.6915641666666664\n",
      "Actual = 0.960058\n",
      "ph_bac pct change 7-day corr of close from 2020-04-09 00:00:00 to 2020-04-17 00:00:00 is =  -0.29029433718033737\n"
     ]
    },
    {
     "name": "stderr",
     "output_type": "stream",
     "text": [
      "/Users/jonathanhilgart/Library/Caches/pypoetry/virtualenvs/daily-trading-nJ43NNNI-py3.7/lib/python3.7/site-packages/numpy/lib/nanfunctions.py:1546: RuntimeWarning: overflow encountered in multiply\n",
      "  sqr = np.multiply(arr, arr, out=arr)\n"
     ]
    },
    {
     "name": "stdout",
     "output_type": "stream",
     "text": [
      "Stocks ph_ni\n",
      "Prediction = 0.4620152766666666\n",
      "Actual = 0.47013\n",
      "ph_ni pct change 7-day corr of close from 2020-04-09 00:00:00 to 2020-04-17 00:00:00 is =  -0.5209104508926983\n"
     ]
    },
    {
     "name": "stderr",
     "output_type": "stream",
     "text": [
      "/Users/jonathanhilgart/Library/Caches/pypoetry/virtualenvs/daily-trading-nJ43NNNI-py3.7/lib/python3.7/site-packages/numpy/lib/nanfunctions.py:1546: RuntimeWarning: overflow encountered in multiply\n",
      "  sqr = np.multiply(arr, arr, out=arr)\n"
     ]
    },
    {
     "name": "stdout",
     "output_type": "stream",
     "text": [
      "Stocks ph_vno\n",
      "Prediction = 0.783053725\n",
      "Actual = 0.558741\n",
      "ph_vno pct change 7-day corr of close from 2020-04-09 00:00:00 to 2020-04-17 00:00:00 is =  -0.1527373200637081\n"
     ]
    },
    {
     "name": "stderr",
     "output_type": "stream",
     "text": [
      "/Users/jonathanhilgart/Library/Caches/pypoetry/virtualenvs/daily-trading-nJ43NNNI-py3.7/lib/python3.7/site-packages/numpy/lib/nanfunctions.py:1546: RuntimeWarning: overflow encountered in multiply\n",
      "  sqr = np.multiply(arr, arr, out=arr)\n"
     ]
    },
    {
     "name": "stdout",
     "output_type": "stream",
     "text": [
      "Stocks ph_ual\n",
      "Prediction = 0.5986488349999999\n",
      "Actual = 0.175928\n",
      "ph_ual pct change 7-day corr of close from 2020-04-09 00:00:00 to 2020-04-17 00:00:00 is =  -0.23295090568730892\n"
     ]
    },
    {
     "name": "stderr",
     "output_type": "stream",
     "text": [
      "/Users/jonathanhilgart/Library/Caches/pypoetry/virtualenvs/daily-trading-nJ43NNNI-py3.7/lib/python3.7/site-packages/numpy/lib/nanfunctions.py:1546: RuntimeWarning: overflow encountered in multiply\n",
      "  sqr = np.multiply(arr, arr, out=arr)\n"
     ]
    },
    {
     "name": "stdout",
     "output_type": "stream",
     "text": [
      "Stocks ph_efx\n",
      "Prediction = 0.37943302000000023\n",
      "Actual = 0.35326\n",
      "ph_efx pct change 7-day corr of close from 2020-04-09 00:00:00 to 2020-04-17 00:00:00 is =  -0.59140735747345\n"
     ]
    },
    {
     "name": "stderr",
     "output_type": "stream",
     "text": [
      "/Users/jonathanhilgart/Library/Caches/pypoetry/virtualenvs/daily-trading-nJ43NNNI-py3.7/lib/python3.7/site-packages/numpy/lib/nanfunctions.py:1546: RuntimeWarning: overflow encountered in multiply\n",
      "  sqr = np.multiply(arr, arr, out=arr)\n"
     ]
    },
    {
     "name": "stdout",
     "output_type": "stream",
     "text": [
      "Stocks ph_rop\n",
      "Prediction = 0.6724478800000004\n",
      "Actual = 0.662212\n",
      "ph_rop pct change 7-day corr of close from 2020-04-09 00:00:00 to 2020-04-17 00:00:00 is =  -0.2619028029012481\n"
     ]
    },
    {
     "name": "stderr",
     "output_type": "stream",
     "text": [
      "/Users/jonathanhilgart/Library/Caches/pypoetry/virtualenvs/daily-trading-nJ43NNNI-py3.7/lib/python3.7/site-packages/numpy/lib/nanfunctions.py:1546: RuntimeWarning: overflow encountered in multiply\n",
      "  sqr = np.multiply(arr, arr, out=arr)\n"
     ]
    },
    {
     "name": "stdout",
     "output_type": "stream",
     "text": [
      "Stocks ph_are\n",
      "Prediction = 0.629604385\n",
      "Actual = 0.234712\n",
      "ph_are pct change 7-day corr of close from 2020-04-09 00:00:00 to 2020-04-17 00:00:00 is =  -0.335662734062242\n"
     ]
    },
    {
     "name": "stderr",
     "output_type": "stream",
     "text": [
      "/Users/jonathanhilgart/Library/Caches/pypoetry/virtualenvs/daily-trading-nJ43NNNI-py3.7/lib/python3.7/site-packages/numpy/lib/nanfunctions.py:1546: RuntimeWarning: overflow encountered in multiply\n",
      "  sqr = np.multiply(arr, arr, out=arr)\n"
     ]
    },
    {
     "name": "stdout",
     "output_type": "stream",
     "text": [
      "Stocks ph_pg\n",
      "Prediction = -0.10810199000000006\n",
      "Actual = -0.513656\n",
      "ph_pg pct change 7-day corr of close from 2020-04-09 00:00:00 to 2020-04-17 00:00:00 is =  -1.2935775060221661\n"
     ]
    },
    {
     "name": "stderr",
     "output_type": "stream",
     "text": [
      "/Users/jonathanhilgart/Library/Caches/pypoetry/virtualenvs/daily-trading-nJ43NNNI-py3.7/lib/python3.7/site-packages/numpy/lib/nanfunctions.py:1546: RuntimeWarning: overflow encountered in multiply\n",
      "  sqr = np.multiply(arr, arr, out=arr)\n"
     ]
    },
    {
     "name": "stdout",
     "output_type": "stream",
     "text": [
      "Stocks ph_pvh\n",
      "Prediction = 0.7971539290476188\n",
      "Actual = 0.987345\n",
      "ph_pvh pct change 7-day corr of close from 2020-04-09 00:00:00 to 2020-04-17 00:00:00 is =  -0.17427088934919954\n"
     ]
    },
    {
     "name": "stderr",
     "output_type": "stream",
     "text": [
      "/Users/jonathanhilgart/Library/Caches/pypoetry/virtualenvs/daily-trading-nJ43NNNI-py3.7/lib/python3.7/site-packages/numpy/lib/nanfunctions.py:1546: RuntimeWarning: overflow encountered in multiply\n",
      "  sqr = np.multiply(arr, arr, out=arr)\n"
     ]
    },
    {
     "name": "stdout",
     "output_type": "stream",
     "text": [
      "Stocks ph_lb\n",
      "Prediction = 0.5341564974999997\n",
      "Actual = 0.973118\n",
      "ph_lb pct change 7-day corr of close from 2020-04-09 00:00:00 to 2020-04-17 00:00:00 is =  -0.446239264958045\n"
     ]
    },
    {
     "name": "stderr",
     "output_type": "stream",
     "text": [
      "/Users/jonathanhilgart/Library/Caches/pypoetry/virtualenvs/daily-trading-nJ43NNNI-py3.7/lib/python3.7/site-packages/numpy/lib/nanfunctions.py:1546: RuntimeWarning: overflow encountered in multiply\n",
      "  sqr = np.multiply(arr, arr, out=arr)\n"
     ]
    },
    {
     "name": "stdout",
     "output_type": "stream",
     "text": [
      "Stocks ph_cern\n",
      "Prediction = 0.37357614999999983\n",
      "Actual = -0.143864\n",
      "ph_cern pct change 7-day corr of close from 2020-04-09 00:00:00 to 2020-04-17 00:00:00 is =  -0.6139158828569157\n"
     ]
    },
    {
     "name": "stderr",
     "output_type": "stream",
     "text": [
      "/Users/jonathanhilgart/Library/Caches/pypoetry/virtualenvs/daily-trading-nJ43NNNI-py3.7/lib/python3.7/site-packages/numpy/lib/nanfunctions.py:1546: RuntimeWarning: overflow encountered in multiply\n",
      "  sqr = np.multiply(arr, arr, out=arr)\n"
     ]
    },
    {
     "name": "stdout",
     "output_type": "stream",
     "text": [
      "Stocks ph_peg\n",
      "Prediction = 0.43218446599999993\n",
      "Actual = 0.191473\n",
      "ph_peg pct change 7-day corr of close from 2020-04-09 00:00:00 to 2020-04-17 00:00:00 is =  -0.5543828506499935\n"
     ]
    },
    {
     "name": "stderr",
     "output_type": "stream",
     "text": [
      "/Users/jonathanhilgart/Library/Caches/pypoetry/virtualenvs/daily-trading-nJ43NNNI-py3.7/lib/python3.7/site-packages/numpy/lib/nanfunctions.py:1546: RuntimeWarning: overflow encountered in multiply\n",
      "  sqr = np.multiply(arr, arr, out=arr)\n"
     ]
    },
    {
     "name": "stdout",
     "output_type": "stream",
     "text": [
      "Stocks ph_adbe\n",
      "Prediction = 0.5393806999999998\n",
      "Actual = -0.512802\n",
      "ph_adbe pct change 7-day corr of close from 2020-04-09 00:00:00 to 2020-04-17 00:00:00 is =  -0.38812634497341547\n"
     ]
    },
    {
     "name": "stderr",
     "output_type": "stream",
     "text": [
      "/Users/jonathanhilgart/Library/Caches/pypoetry/virtualenvs/daily-trading-nJ43NNNI-py3.7/lib/python3.7/site-packages/numpy/lib/nanfunctions.py:1546: RuntimeWarning: overflow encountered in multiply\n",
      "  sqr = np.multiply(arr, arr, out=arr)\n"
     ]
    },
    {
     "name": "stdout",
     "output_type": "stream",
     "text": [
      "Stocks ph_emr\n",
      "Prediction = 0.6765622400000001\n",
      "Actual = 0.935726\n",
      "ph_emr pct change 7-day corr of close from 2020-04-09 00:00:00 to 2020-04-17 00:00:00 is =  -0.3043433770122316\n"
     ]
    },
    {
     "name": "stderr",
     "output_type": "stream",
     "text": [
      "/Users/jonathanhilgart/Library/Caches/pypoetry/virtualenvs/daily-trading-nJ43NNNI-py3.7/lib/python3.7/site-packages/numpy/lib/nanfunctions.py:1546: RuntimeWarning: overflow encountered in multiply\n",
      "  sqr = np.multiply(arr, arr, out=arr)\n"
     ]
    },
    {
     "name": "stdout",
     "output_type": "stream",
     "text": [
      "Stocks ph_ce\n",
      "Prediction = 0.5328685566666667\n",
      "Actual = 0.963489\n",
      "ph_ce pct change 7-day corr of close from 2020-04-09 00:00:00 to 2020-04-17 00:00:00 is =  -0.45750265801035916\n"
     ]
    },
    {
     "name": "stderr",
     "output_type": "stream",
     "text": [
      "/Users/jonathanhilgart/Library/Caches/pypoetry/virtualenvs/daily-trading-nJ43NNNI-py3.7/lib/python3.7/site-packages/numpy/lib/nanfunctions.py:1546: RuntimeWarning: overflow encountered in multiply\n",
      "  sqr = np.multiply(arr, arr, out=arr)\n"
     ]
    },
    {
     "name": "stdout",
     "output_type": "stream",
     "text": [
      "Stocks ph_eqix\n",
      "Prediction = 0.30642562000000007\n",
      "Actual = 0.028296\n",
      "ph_eqix pct change 7-day corr of close from 2020-04-09 00:00:00 to 2020-04-17 00:00:00 is =  -0.6507361169525854\n"
     ]
    },
    {
     "name": "stderr",
     "output_type": "stream",
     "text": [
      "/Users/jonathanhilgart/Library/Caches/pypoetry/virtualenvs/daily-trading-nJ43NNNI-py3.7/lib/python3.7/site-packages/numpy/lib/nanfunctions.py:1546: RuntimeWarning: overflow encountered in multiply\n",
      "  sqr = np.multiply(arr, arr, out=arr)\n"
     ]
    },
    {
     "name": "stdout",
     "output_type": "stream",
     "text": [
      "Stocks ph_rost\n",
      "Prediction = 0.5685293679999996\n",
      "Actual = 0.434193\n",
      "ph_rost pct change 7-day corr of close from 2020-04-09 00:00:00 to 2020-04-17 00:00:00 is =  -0.37456478338067434\n"
     ]
    },
    {
     "name": "stderr",
     "output_type": "stream",
     "text": [
      "/Users/jonathanhilgart/Library/Caches/pypoetry/virtualenvs/daily-trading-nJ43NNNI-py3.7/lib/python3.7/site-packages/numpy/lib/nanfunctions.py:1546: RuntimeWarning: overflow encountered in multiply\n",
      "  sqr = np.multiply(arr, arr, out=arr)\n"
     ]
    },
    {
     "name": "stdout",
     "output_type": "stream",
     "text": [
      "Stocks ph_so\n",
      "Prediction = 0.4262397400000002\n",
      "Actual = 0.959729\n",
      "ph_so pct change 7-day corr of close from 2020-04-09 00:00:00 to 2020-04-17 00:00:00 is =  -0.5689222746888325\n"
     ]
    },
    {
     "name": "stderr",
     "output_type": "stream",
     "text": [
      "/Users/jonathanhilgart/Library/Caches/pypoetry/virtualenvs/daily-trading-nJ43NNNI-py3.7/lib/python3.7/site-packages/numpy/lib/nanfunctions.py:1546: RuntimeWarning: overflow encountered in multiply\n",
      "  sqr = np.multiply(arr, arr, out=arr)\n"
     ]
    },
    {
     "name": "stdout",
     "output_type": "stream",
     "text": [
      "Stocks rop_pnr\n",
      "Prediction = 0.3966884899999999\n",
      "Actual = 0.569769\n",
      "rop_pnr pct change 7-day corr of close from 2020-04-09 00:00:00 to 2020-04-17 00:00:00 is =  -0.564123607012023\n"
     ]
    },
    {
     "name": "stderr",
     "output_type": "stream",
     "text": [
      "/Users/jonathanhilgart/Library/Caches/pypoetry/virtualenvs/daily-trading-nJ43NNNI-py3.7/lib/python3.7/site-packages/numpy/lib/nanfunctions.py:1546: RuntimeWarning: overflow encountered in multiply\n",
      "  sqr = np.multiply(arr, arr, out=arr)\n"
     ]
    },
    {
     "name": "stdout",
     "output_type": "stream",
     "text": [
      "Stocks rop_bac\n",
      "Prediction = 0.5045103499999998\n",
      "Actual = 0.497688\n",
      "rop_bac pct change 7-day corr of close from 2020-04-09 00:00:00 to 2020-04-17 00:00:00 is =  -0.41364573539171057\n"
     ]
    },
    {
     "name": "stderr",
     "output_type": "stream",
     "text": [
      "/Users/jonathanhilgart/Library/Caches/pypoetry/virtualenvs/daily-trading-nJ43NNNI-py3.7/lib/python3.7/site-packages/numpy/lib/nanfunctions.py:1546: RuntimeWarning: overflow encountered in multiply\n",
      "  sqr = np.multiply(arr, arr, out=arr)\n"
     ]
    },
    {
     "name": "stdout",
     "output_type": "stream",
     "text": [
      "Stocks rop_ni\n",
      "Prediction = 0.4857046600000001\n",
      "Actual = 0.410618\n",
      "rop_ni pct change 7-day corr of close from 2020-04-09 00:00:00 to 2020-04-17 00:00:00 is =  -0.4415705089512272\n"
     ]
    },
    {
     "name": "stderr",
     "output_type": "stream",
     "text": [
      "/Users/jonathanhilgart/Library/Caches/pypoetry/virtualenvs/daily-trading-nJ43NNNI-py3.7/lib/python3.7/site-packages/numpy/lib/nanfunctions.py:1546: RuntimeWarning: overflow encountered in multiply\n",
      "  sqr = np.multiply(arr, arr, out=arr)\n"
     ]
    },
    {
     "name": "stdout",
     "output_type": "stream",
     "text": [
      "Stocks rop_vno\n",
      "Prediction = 0.3846781639999999\n",
      "Actual = 0.388901\n",
      "rop_vno pct change 7-day corr of close from 2020-04-09 00:00:00 to 2020-04-17 00:00:00 is =  -0.4558684334854406\n"
     ]
    },
    {
     "name": "stderr",
     "output_type": "stream",
     "text": [
      "/Users/jonathanhilgart/Library/Caches/pypoetry/virtualenvs/daily-trading-nJ43NNNI-py3.7/lib/python3.7/site-packages/numpy/lib/nanfunctions.py:1546: RuntimeWarning: overflow encountered in multiply\n",
      "  sqr = np.multiply(arr, arr, out=arr)\n"
     ]
    },
    {
     "name": "stdout",
     "output_type": "stream",
     "text": [
      "Stocks rop_ual\n",
      "Prediction = 0.4149280800000002\n",
      "Actual = 0.019921\n",
      "rop_ual pct change 7-day corr of close from 2020-04-09 00:00:00 to 2020-04-17 00:00:00 is =  -0.22028131113161453\n"
     ]
    },
    {
     "name": "stderr",
     "output_type": "stream",
     "text": [
      "/Users/jonathanhilgart/Library/Caches/pypoetry/virtualenvs/daily-trading-nJ43NNNI-py3.7/lib/python3.7/site-packages/numpy/lib/nanfunctions.py:1546: RuntimeWarning: overflow encountered in multiply\n",
      "  sqr = np.multiply(arr, arr, out=arr)\n"
     ]
    },
    {
     "name": "stdout",
     "output_type": "stream",
     "text": [
      "Stocks rop_efx\n",
      "Prediction = 0.4202260999999997\n",
      "Actual = 0.745908\n",
      "rop_efx pct change 7-day corr of close from 2020-04-09 00:00:00 to 2020-04-17 00:00:00 is =  -0.42787071389185805\n"
     ]
    },
    {
     "name": "stderr",
     "output_type": "stream",
     "text": [
      "/Users/jonathanhilgart/Library/Caches/pypoetry/virtualenvs/daily-trading-nJ43NNNI-py3.7/lib/python3.7/site-packages/numpy/lib/nanfunctions.py:1546: RuntimeWarning: overflow encountered in multiply\n",
      "  sqr = np.multiply(arr, arr, out=arr)\n"
     ]
    },
    {
     "name": "stdout",
     "output_type": "stream",
     "text": [
      "Stocks rop_ph\n",
      "Prediction = 0.6235282100000004\n",
      "Actual = 0.662212\n",
      "rop_ph pct change 7-day corr of close from 2020-04-09 00:00:00 to 2020-04-17 00:00:00 is =  -0.31559837156003545\n"
     ]
    },
    {
     "name": "stderr",
     "output_type": "stream",
     "text": [
      "/Users/jonathanhilgart/Library/Caches/pypoetry/virtualenvs/daily-trading-nJ43NNNI-py3.7/lib/python3.7/site-packages/numpy/lib/nanfunctions.py:1546: RuntimeWarning: overflow encountered in multiply\n",
      "  sqr = np.multiply(arr, arr, out=arr)\n"
     ]
    },
    {
     "name": "stdout",
     "output_type": "stream",
     "text": [
      "Stocks rop_are\n",
      "Prediction = 0.4735574199999996\n",
      "Actual = 0.251971\n",
      "rop_are pct change 7-day corr of close from 2020-04-09 00:00:00 to 2020-04-17 00:00:00 is =  -0.4057698958247069\n"
     ]
    },
    {
     "name": "stderr",
     "output_type": "stream",
     "text": [
      "/Users/jonathanhilgart/Library/Caches/pypoetry/virtualenvs/daily-trading-nJ43NNNI-py3.7/lib/python3.7/site-packages/numpy/lib/nanfunctions.py:1546: RuntimeWarning: overflow encountered in multiply\n",
      "  sqr = np.multiply(arr, arr, out=arr)\n"
     ]
    },
    {
     "name": "stdout",
     "output_type": "stream",
     "text": [
      "Stocks rop_pg\n",
      "Prediction = 0.26037866000000004\n",
      "Actual = 0.217869\n",
      "rop_pg pct change 7-day corr of close from 2020-04-09 00:00:00 to 2020-04-17 00:00:00 is =  -0.6079992472486939\n"
     ]
    },
    {
     "name": "stderr",
     "output_type": "stream",
     "text": [
      "/Users/jonathanhilgart/Library/Caches/pypoetry/virtualenvs/daily-trading-nJ43NNNI-py3.7/lib/python3.7/site-packages/numpy/lib/nanfunctions.py:1546: RuntimeWarning: overflow encountered in multiply\n",
      "  sqr = np.multiply(arr, arr, out=arr)\n"
     ]
    },
    {
     "name": "stdout",
     "output_type": "stream",
     "text": [
      "Stocks rop_pvh\n",
      "Prediction = 0.35614205499999996\n",
      "Actual = 0.570902\n",
      "rop_pvh pct change 7-day corr of close from 2020-04-09 00:00:00 to 2020-04-17 00:00:00 is =  -0.5684340221901235\n"
     ]
    },
    {
     "name": "stderr",
     "output_type": "stream",
     "text": [
      "/Users/jonathanhilgart/Library/Caches/pypoetry/virtualenvs/daily-trading-nJ43NNNI-py3.7/lib/python3.7/site-packages/numpy/lib/nanfunctions.py:1546: RuntimeWarning: overflow encountered in multiply\n",
      "  sqr = np.multiply(arr, arr, out=arr)\n"
     ]
    },
    {
     "name": "stdout",
     "output_type": "stream",
     "text": [
      "Stocks rop_lb\n",
      "Prediction = 0.12450760999999996\n",
      "Actual = 0.590509\n",
      "rop_lb pct change 7-day corr of close from 2020-04-09 00:00:00 to 2020-04-17 00:00:00 is =  -0.8555468811635365\n"
     ]
    },
    {
     "name": "stderr",
     "output_type": "stream",
     "text": [
      "/Users/jonathanhilgart/Library/Caches/pypoetry/virtualenvs/daily-trading-nJ43NNNI-py3.7/lib/python3.7/site-packages/numpy/lib/nanfunctions.py:1546: RuntimeWarning: overflow encountered in multiply\n",
      "  sqr = np.multiply(arr, arr, out=arr)\n"
     ]
    },
    {
     "name": "stdout",
     "output_type": "stream",
     "text": [
      "Stocks rop_cern\n",
      "Prediction = 0.5553805699999996\n",
      "Actual = 0.301897\n",
      "rop_cern pct change 7-day corr of close from 2020-04-09 00:00:00 to 2020-04-17 00:00:00 is =  -0.37105771092783035\n"
     ]
    },
    {
     "name": "stderr",
     "output_type": "stream",
     "text": [
      "/Users/jonathanhilgart/Library/Caches/pypoetry/virtualenvs/daily-trading-nJ43NNNI-py3.7/lib/python3.7/site-packages/numpy/lib/nanfunctions.py:1546: RuntimeWarning: overflow encountered in multiply\n",
      "  sqr = np.multiply(arr, arr, out=arr)\n"
     ]
    },
    {
     "name": "stdout",
     "output_type": "stream",
     "text": [
      "Stocks rop_peg\n",
      "Prediction = 0.5243149599999998\n",
      "Actual = 0.556769\n",
      "rop_peg pct change 7-day corr of close from 2020-04-09 00:00:00 to 2020-04-17 00:00:00 is =  -0.41858161470681543\n"
     ]
    },
    {
     "name": "stderr",
     "output_type": "stream",
     "text": [
      "/Users/jonathanhilgart/Library/Caches/pypoetry/virtualenvs/daily-trading-nJ43NNNI-py3.7/lib/python3.7/site-packages/numpy/lib/nanfunctions.py:1546: RuntimeWarning: overflow encountered in multiply\n",
      "  sqr = np.multiply(arr, arr, out=arr)\n"
     ]
    },
    {
     "name": "stdout",
     "output_type": "stream",
     "text": [
      "Stocks rop_adbe\n",
      "Prediction = 0.40181032999999994\n",
      "Actual = 0.11829\n",
      "rop_adbe pct change 7-day corr of close from 2020-04-09 00:00:00 to 2020-04-17 00:00:00 is =  -0.5420307303384875\n"
     ]
    },
    {
     "name": "stderr",
     "output_type": "stream",
     "text": [
      "/Users/jonathanhilgart/Library/Caches/pypoetry/virtualenvs/daily-trading-nJ43NNNI-py3.7/lib/python3.7/site-packages/numpy/lib/nanfunctions.py:1546: RuntimeWarning: overflow encountered in multiply\n",
      "  sqr = np.multiply(arr, arr, out=arr)\n"
     ]
    },
    {
     "name": "stdout",
     "output_type": "stream",
     "text": [
      "Stocks rop_emr\n",
      "Prediction = 0.36561437999999996\n",
      "Actual = 0.594047\n",
      "rop_emr pct change 7-day corr of close from 2020-04-09 00:00:00 to 2020-04-17 00:00:00 is =  -0.6133094375861982\n"
     ]
    },
    {
     "name": "stderr",
     "output_type": "stream",
     "text": [
      "/Users/jonathanhilgart/Library/Caches/pypoetry/virtualenvs/daily-trading-nJ43NNNI-py3.7/lib/python3.7/site-packages/numpy/lib/nanfunctions.py:1546: RuntimeWarning: overflow encountered in multiply\n",
      "  sqr = np.multiply(arr, arr, out=arr)\n"
     ]
    },
    {
     "name": "stdout",
     "output_type": "stream",
     "text": [
      "Stocks rop_ce\n",
      "Prediction = 0.6540140400000002\n",
      "Actual = 0.492889\n",
      "rop_ce pct change 7-day corr of close from 2020-04-09 00:00:00 to 2020-04-17 00:00:00 is =  -0.23279840744568392\n"
     ]
    },
    {
     "name": "stderr",
     "output_type": "stream",
     "text": [
      "/Users/jonathanhilgart/Library/Caches/pypoetry/virtualenvs/daily-trading-nJ43NNNI-py3.7/lib/python3.7/site-packages/numpy/lib/nanfunctions.py:1546: RuntimeWarning: overflow encountered in multiply\n",
      "  sqr = np.multiply(arr, arr, out=arr)\n"
     ]
    },
    {
     "name": "stdout",
     "output_type": "stream",
     "text": [
      "Stocks rop_eqix\n",
      "Prediction = 0.5336843099999998\n",
      "Actual = 0.337351\n",
      "rop_eqix pct change 7-day corr of close from 2020-04-09 00:00:00 to 2020-04-17 00:00:00 is =  -0.4093380783942202\n"
     ]
    },
    {
     "name": "stderr",
     "output_type": "stream",
     "text": [
      "/Users/jonathanhilgart/Library/Caches/pypoetry/virtualenvs/daily-trading-nJ43NNNI-py3.7/lib/python3.7/site-packages/numpy/lib/nanfunctions.py:1546: RuntimeWarning: overflow encountered in multiply\n",
      "  sqr = np.multiply(arr, arr, out=arr)\n"
     ]
    },
    {
     "name": "stdout",
     "output_type": "stream",
     "text": [
      "Stocks rop_rost\n",
      "Prediction = 0.39820201000000016\n",
      "Actual = 0.90078\n",
      "rop_rost pct change 7-day corr of close from 2020-04-09 00:00:00 to 2020-04-17 00:00:00 is =  -0.5155858316261731\n"
     ]
    },
    {
     "name": "stderr",
     "output_type": "stream",
     "text": [
      "/Users/jonathanhilgart/Library/Caches/pypoetry/virtualenvs/daily-trading-nJ43NNNI-py3.7/lib/python3.7/site-packages/numpy/lib/nanfunctions.py:1546: RuntimeWarning: overflow encountered in multiply\n",
      "  sqr = np.multiply(arr, arr, out=arr)\n"
     ]
    },
    {
     "name": "stdout",
     "output_type": "stream",
     "text": [
      "Stocks rop_so\n",
      "Prediction = 0.5393488500000001\n",
      "Actual = 0.500734\n",
      "rop_so pct change 7-day corr of close from 2020-04-09 00:00:00 to 2020-04-17 00:00:00 is =  -0.41842157759211884\n"
     ]
    },
    {
     "name": "stderr",
     "output_type": "stream",
     "text": [
      "/Users/jonathanhilgart/Library/Caches/pypoetry/virtualenvs/daily-trading-nJ43NNNI-py3.7/lib/python3.7/site-packages/numpy/lib/nanfunctions.py:1546: RuntimeWarning: overflow encountered in multiply\n",
      "  sqr = np.multiply(arr, arr, out=arr)\n"
     ]
    },
    {
     "name": "stdout",
     "output_type": "stream",
     "text": [
      "Stocks are_pnr\n",
      "Prediction = 0.7260333099999999\n",
      "Actual = 0.215576\n",
      "are_pnr pct change 7-day corr of close from 2020-04-09 00:00:00 to 2020-04-17 00:00:00 is =  -0.1830747722334679\n"
     ]
    },
    {
     "name": "stderr",
     "output_type": "stream",
     "text": [
      "/Users/jonathanhilgart/Library/Caches/pypoetry/virtualenvs/daily-trading-nJ43NNNI-py3.7/lib/python3.7/site-packages/numpy/lib/nanfunctions.py:1546: RuntimeWarning: overflow encountered in multiply\n",
      "  sqr = np.multiply(arr, arr, out=arr)\n"
     ]
    },
    {
     "name": "stdout",
     "output_type": "stream",
     "text": [
      "Stocks are_bac\n",
      "Prediction = 0.5448131993333333\n",
      "Actual = 0.249165\n",
      "are_bac pct change 7-day corr of close from 2020-04-09 00:00:00 to 2020-04-17 00:00:00 is =  -0.4448878040960609\n"
     ]
    },
    {
     "name": "stderr",
     "output_type": "stream",
     "text": [
      "/Users/jonathanhilgart/Library/Caches/pypoetry/virtualenvs/daily-trading-nJ43NNNI-py3.7/lib/python3.7/site-packages/numpy/lib/nanfunctions.py:1546: RuntimeWarning: overflow encountered in multiply\n",
      "  sqr = np.multiply(arr, arr, out=arr)\n"
     ]
    },
    {
     "name": "stdout",
     "output_type": "stream",
     "text": [
      "Stocks are_ni\n",
      "Prediction = 0.6457211100000005\n",
      "Actual = 0.853054\n",
      "are_ni pct change 7-day corr of close from 2020-04-09 00:00:00 to 2020-04-17 00:00:00 is =  -0.33575440895699205\n"
     ]
    },
    {
     "name": "stderr",
     "output_type": "stream",
     "text": [
      "/Users/jonathanhilgart/Library/Caches/pypoetry/virtualenvs/daily-trading-nJ43NNNI-py3.7/lib/python3.7/site-packages/numpy/lib/nanfunctions.py:1546: RuntimeWarning: overflow encountered in multiply\n",
      "  sqr = np.multiply(arr, arr, out=arr)\n"
     ]
    },
    {
     "name": "stdout",
     "output_type": "stream",
     "text": [
      "Stocks are_vno\n",
      "Prediction = 0.6907452966666666\n",
      "Actual = 0.639395\n",
      "are_vno pct change 7-day corr of close from 2020-04-09 00:00:00 to 2020-04-17 00:00:00 is =  -0.280715658516284\n"
     ]
    },
    {
     "name": "stderr",
     "output_type": "stream",
     "text": [
      "/Users/jonathanhilgart/Library/Caches/pypoetry/virtualenvs/daily-trading-nJ43NNNI-py3.7/lib/python3.7/site-packages/numpy/lib/nanfunctions.py:1546: RuntimeWarning: overflow encountered in multiply\n",
      "  sqr = np.multiply(arr, arr, out=arr)\n"
     ]
    },
    {
     "name": "stdout",
     "output_type": "stream",
     "text": [
      "Stocks are_ual\n",
      "Prediction = 0.5037109816666665\n",
      "Actual = 0.633472\n",
      "are_ual pct change 7-day corr of close from 2020-04-09 00:00:00 to 2020-04-17 00:00:00 is =  -0.455361033951702\n"
     ]
    },
    {
     "name": "stderr",
     "output_type": "stream",
     "text": [
      "/Users/jonathanhilgart/Library/Caches/pypoetry/virtualenvs/daily-trading-nJ43NNNI-py3.7/lib/python3.7/site-packages/numpy/lib/nanfunctions.py:1546: RuntimeWarning: overflow encountered in multiply\n",
      "  sqr = np.multiply(arr, arr, out=arr)\n"
     ]
    },
    {
     "name": "stdout",
     "output_type": "stream",
     "text": [
      "Stocks are_efx\n",
      "Prediction = 0.6702475480952381\n",
      "Actual = 0.657059\n",
      "are_efx pct change 7-day corr of close from 2020-04-09 00:00:00 to 2020-04-17 00:00:00 is =  -0.27974593223382405\n"
     ]
    },
    {
     "name": "stderr",
     "output_type": "stream",
     "text": [
      "/Users/jonathanhilgart/Library/Caches/pypoetry/virtualenvs/daily-trading-nJ43NNNI-py3.7/lib/python3.7/site-packages/numpy/lib/nanfunctions.py:1546: RuntimeWarning: overflow encountered in multiply\n",
      "  sqr = np.multiply(arr, arr, out=arr)\n"
     ]
    },
    {
     "name": "stdout",
     "output_type": "stream",
     "text": [
      "Stocks are_ph\n",
      "Prediction = 0.6353984599999998\n",
      "Actual = 0.234712\n",
      "are_ph pct change 7-day corr of close from 2020-04-09 00:00:00 to 2020-04-17 00:00:00 is =  -0.3295490219664501\n"
     ]
    },
    {
     "name": "stderr",
     "output_type": "stream",
     "text": [
      "/Users/jonathanhilgart/Library/Caches/pypoetry/virtualenvs/daily-trading-nJ43NNNI-py3.7/lib/python3.7/site-packages/numpy/lib/nanfunctions.py:1546: RuntimeWarning: overflow encountered in multiply\n",
      "  sqr = np.multiply(arr, arr, out=arr)\n"
     ]
    },
    {
     "name": "stdout",
     "output_type": "stream",
     "text": [
      "Stocks are_rop\n",
      "Prediction = 0.4951453799999995\n",
      "Actual = 0.251971\n",
      "are_rop pct change 7-day corr of close from 2020-04-09 00:00:00 to 2020-04-17 00:00:00 is =  -0.3786808561899103\n"
     ]
    },
    {
     "name": "stderr",
     "output_type": "stream",
     "text": [
      "/Users/jonathanhilgart/Library/Caches/pypoetry/virtualenvs/daily-trading-nJ43NNNI-py3.7/lib/python3.7/site-packages/numpy/lib/nanfunctions.py:1546: RuntimeWarning: overflow encountered in multiply\n",
      "  sqr = np.multiply(arr, arr, out=arr)\n"
     ]
    },
    {
     "name": "stdout",
     "output_type": "stream",
     "text": [
      "Stocks are_pg\n",
      "Prediction = 0.07457975\n",
      "Actual = 0.340786\n",
      "are_pg pct change 7-day corr of close from 2020-04-09 00:00:00 to 2020-04-17 00:00:00 is =  -0.7090751460870515\n"
     ]
    },
    {
     "name": "stderr",
     "output_type": "stream",
     "text": [
      "/Users/jonathanhilgart/Library/Caches/pypoetry/virtualenvs/daily-trading-nJ43NNNI-py3.7/lib/python3.7/site-packages/numpy/lib/nanfunctions.py:1546: RuntimeWarning: overflow encountered in multiply\n",
      "  sqr = np.multiply(arr, arr, out=arr)\n"
     ]
    },
    {
     "name": "stdout",
     "output_type": "stream",
     "text": [
      "Stocks are_pvh\n",
      "Prediction = 0.5259518349999999\n",
      "Actual = 0.190255\n",
      "are_pvh pct change 7-day corr of close from 2020-04-09 00:00:00 to 2020-04-17 00:00:00 is =  -0.4036881354817645\n"
     ]
    },
    {
     "name": "stderr",
     "output_type": "stream",
     "text": [
      "/Users/jonathanhilgart/Library/Caches/pypoetry/virtualenvs/daily-trading-nJ43NNNI-py3.7/lib/python3.7/site-packages/numpy/lib/nanfunctions.py:1546: RuntimeWarning: overflow encountered in multiply\n",
      "  sqr = np.multiply(arr, arr, out=arr)\n"
     ]
    },
    {
     "name": "stdout",
     "output_type": "stream",
     "text": [
      "Stocks are_lb\n",
      "Prediction = 0.6437321699999998\n",
      "Actual = 0.189286\n",
      "are_lb pct change 7-day corr of close from 2020-04-09 00:00:00 to 2020-04-17 00:00:00 is =  -0.2925374841881184\n"
     ]
    },
    {
     "name": "stderr",
     "output_type": "stream",
     "text": [
      "/Users/jonathanhilgart/Library/Caches/pypoetry/virtualenvs/daily-trading-nJ43NNNI-py3.7/lib/python3.7/site-packages/numpy/lib/nanfunctions.py:1546: RuntimeWarning: overflow encountered in multiply\n",
      "  sqr = np.multiply(arr, arr, out=arr)\n"
     ]
    },
    {
     "name": "stdout",
     "output_type": "stream",
     "text": [
      "Stocks are_cern\n",
      "Prediction = 0.30931612\n",
      "Actual = 0.832264\n",
      "are_cern pct change 7-day corr of close from 2020-04-09 00:00:00 to 2020-04-17 00:00:00 is =  -0.6810292740674744\n"
     ]
    },
    {
     "name": "stderr",
     "output_type": "stream",
     "text": [
      "/Users/jonathanhilgart/Library/Caches/pypoetry/virtualenvs/daily-trading-nJ43NNNI-py3.7/lib/python3.7/site-packages/numpy/lib/nanfunctions.py:1546: RuntimeWarning: overflow encountered in multiply\n",
      "  sqr = np.multiply(arr, arr, out=arr)\n"
     ]
    },
    {
     "name": "stdout",
     "output_type": "stream",
     "text": [
      "Stocks are_peg\n",
      "Prediction = 0.4129016479999999\n",
      "Actual = 0.801512\n",
      "are_peg pct change 7-day corr of close from 2020-04-09 00:00:00 to 2020-04-17 00:00:00 is =  -0.5731166413542768\n"
     ]
    },
    {
     "name": "stderr",
     "output_type": "stream",
     "text": [
      "/Users/jonathanhilgart/Library/Caches/pypoetry/virtualenvs/daily-trading-nJ43NNNI-py3.7/lib/python3.7/site-packages/numpy/lib/nanfunctions.py:1546: RuntimeWarning: overflow encountered in multiply\n",
      "  sqr = np.multiply(arr, arr, out=arr)\n"
     ]
    },
    {
     "name": "stdout",
     "output_type": "stream",
     "text": [
      "Stocks are_adbe\n",
      "Prediction = 0.4654754199999997\n",
      "Actual = 0.406721\n",
      "are_adbe pct change 7-day corr of close from 2020-04-09 00:00:00 to 2020-04-17 00:00:00 is =  -0.40683063897462335\n"
     ]
    },
    {
     "name": "stderr",
     "output_type": "stream",
     "text": [
      "/Users/jonathanhilgart/Library/Caches/pypoetry/virtualenvs/daily-trading-nJ43NNNI-py3.7/lib/python3.7/site-packages/numpy/lib/nanfunctions.py:1546: RuntimeWarning: overflow encountered in multiply\n",
      "  sqr = np.multiply(arr, arr, out=arr)\n"
     ]
    },
    {
     "name": "stdout",
     "output_type": "stream",
     "text": [
      "Stocks are_emr\n",
      "Prediction = 0.3218735999999999\n",
      "Actual = -0.049702\n",
      "are_emr pct change 7-day corr of close from 2020-04-09 00:00:00 to 2020-04-17 00:00:00 is =  -0.6301897457992245\n"
     ]
    },
    {
     "name": "stderr",
     "output_type": "stream",
     "text": [
      "/Users/jonathanhilgart/Library/Caches/pypoetry/virtualenvs/daily-trading-nJ43NNNI-py3.7/lib/python3.7/site-packages/numpy/lib/nanfunctions.py:1546: RuntimeWarning: overflow encountered in multiply\n",
      "  sqr = np.multiply(arr, arr, out=arr)\n"
     ]
    },
    {
     "name": "stdout",
     "output_type": "stream",
     "text": [
      "Stocks are_ce\n",
      "Prediction = 0.6673076349999999\n",
      "Actual = 0.039492\n",
      "are_ce pct change 7-day corr of close from 2020-04-09 00:00:00 to 2020-04-17 00:00:00 is =  -0.30826584864743845\n"
     ]
    },
    {
     "name": "stderr",
     "output_type": "stream",
     "text": [
      "/Users/jonathanhilgart/Library/Caches/pypoetry/virtualenvs/daily-trading-nJ43NNNI-py3.7/lib/python3.7/site-packages/numpy/lib/nanfunctions.py:1546: RuntimeWarning: overflow encountered in multiply\n",
      "  sqr = np.multiply(arr, arr, out=arr)\n"
     ]
    },
    {
     "name": "stdout",
     "output_type": "stream",
     "text": [
      "Stocks are_eqix\n",
      "Prediction = 0.5311580124999999\n",
      "Actual = 0.912574\n",
      "are_eqix pct change 7-day corr of close from 2020-04-09 00:00:00 to 2020-04-17 00:00:00 is =  -0.40467820436663615\n"
     ]
    },
    {
     "name": "stderr",
     "output_type": "stream",
     "text": [
      "/Users/jonathanhilgart/Library/Caches/pypoetry/virtualenvs/daily-trading-nJ43NNNI-py3.7/lib/python3.7/site-packages/numpy/lib/nanfunctions.py:1546: RuntimeWarning: overflow encountered in multiply\n",
      "  sqr = np.multiply(arr, arr, out=arr)\n"
     ]
    },
    {
     "name": "stdout",
     "output_type": "stream",
     "text": [
      "Stocks are_rost\n",
      "Prediction = 0.41346290999999996\n",
      "Actual = 0.537952\n",
      "are_rost pct change 7-day corr of close from 2020-04-09 00:00:00 to 2020-04-17 00:00:00 is =  -0.49315804958057674\n"
     ]
    },
    {
     "name": "stderr",
     "output_type": "stream",
     "text": [
      "/Users/jonathanhilgart/Library/Caches/pypoetry/virtualenvs/daily-trading-nJ43NNNI-py3.7/lib/python3.7/site-packages/numpy/lib/nanfunctions.py:1546: RuntimeWarning: overflow encountered in multiply\n",
      "  sqr = np.multiply(arr, arr, out=arr)\n"
     ]
    },
    {
     "name": "stdout",
     "output_type": "stream",
     "text": [
      "Stocks are_so\n",
      "Prediction = 0.8154145666666666\n",
      "Actual = 0.394668\n",
      "are_so pct change 7-day corr of close from 2020-04-09 00:00:00 to 2020-04-17 00:00:00 is =  -0.1467917193329037\n"
     ]
    },
    {
     "name": "stderr",
     "output_type": "stream",
     "text": [
      "/Users/jonathanhilgart/Library/Caches/pypoetry/virtualenvs/daily-trading-nJ43NNNI-py3.7/lib/python3.7/site-packages/numpy/lib/nanfunctions.py:1546: RuntimeWarning: overflow encountered in multiply\n",
      "  sqr = np.multiply(arr, arr, out=arr)\n"
     ]
    },
    {
     "name": "stdout",
     "output_type": "stream",
     "text": [
      "Stocks pg_pnr\n",
      "Prediction = 0.03408957999999998\n",
      "Actual = -0.588909\n",
      "pg_pnr pct change 7-day corr of close from 2020-04-09 00:00:00 to 2020-04-17 00:00:00 is =  -0.9224627093123229\n"
     ]
    },
    {
     "name": "stderr",
     "output_type": "stream",
     "text": [
      "/Users/jonathanhilgart/Library/Caches/pypoetry/virtualenvs/daily-trading-nJ43NNNI-py3.7/lib/python3.7/site-packages/numpy/lib/nanfunctions.py:1546: RuntimeWarning: overflow encountered in multiply\n",
      "  sqr = np.multiply(arr, arr, out=arr)\n"
     ]
    },
    {
     "name": "stdout",
     "output_type": "stream",
     "text": [
      "Stocks pg_bac\n",
      "Prediction = -0.11032230999999999\n",
      "Actual = -0.589151\n",
      "pg_bac pct change 7-day corr of close from 2020-04-09 00:00:00 to 2020-04-17 00:00:00 is =  -1.359200444107276\n"
     ]
    },
    {
     "name": "stderr",
     "output_type": "stream",
     "text": [
      "/Users/jonathanhilgart/Library/Caches/pypoetry/virtualenvs/daily-trading-nJ43NNNI-py3.7/lib/python3.7/site-packages/numpy/lib/nanfunctions.py:1546: RuntimeWarning: overflow encountered in multiply\n",
      "  sqr = np.multiply(arr, arr, out=arr)\n"
     ]
    },
    {
     "name": "stdout",
     "output_type": "stream",
     "text": [
      "Stocks pg_ni\n",
      "Prediction = 0.4042917066666666\n",
      "Actual = 0.203051\n",
      "pg_ni pct change 7-day corr of close from 2020-04-09 00:00:00 to 2020-04-17 00:00:00 is =  0.18846406804240878\n"
     ]
    },
    {
     "name": "stderr",
     "output_type": "stream",
     "text": [
      "/Users/jonathanhilgart/Library/Caches/pypoetry/virtualenvs/daily-trading-nJ43NNNI-py3.7/lib/python3.7/site-packages/numpy/lib/nanfunctions.py:1546: RuntimeWarning: overflow encountered in multiply\n",
      "  sqr = np.multiply(arr, arr, out=arr)\n"
     ]
    },
    {
     "name": "stdout",
     "output_type": "stream",
     "text": [
      "Stocks pg_vno\n",
      "Prediction = -0.06454318999999999\n",
      "Actual = 0.012309\n",
      "pg_vno pct change 7-day corr of close from 2020-04-09 00:00:00 to 2020-04-17 00:00:00 is =  -2.2240780989227735\n"
     ]
    },
    {
     "name": "stderr",
     "output_type": "stream",
     "text": [
      "/Users/jonathanhilgart/Library/Caches/pypoetry/virtualenvs/daily-trading-nJ43NNNI-py3.7/lib/python3.7/site-packages/numpy/lib/nanfunctions.py:1546: RuntimeWarning: overflow encountered in multiply\n",
      "  sqr = np.multiply(arr, arr, out=arr)\n"
     ]
    },
    {
     "name": "stdout",
     "output_type": "stream",
     "text": [
      "Stocks pg_ual\n",
      "Prediction = -0.41980650000000014\n",
      "Actual = 0.076191\n",
      "pg_ual pct change 7-day corr of close from 2020-04-09 00:00:00 to 2020-04-17 00:00:00 is =  6.238167899446545\n"
     ]
    },
    {
     "name": "stderr",
     "output_type": "stream",
     "text": [
      "/Users/jonathanhilgart/Library/Caches/pypoetry/virtualenvs/daily-trading-nJ43NNNI-py3.7/lib/python3.7/site-packages/numpy/lib/nanfunctions.py:1546: RuntimeWarning: overflow encountered in multiply\n",
      "  sqr = np.multiply(arr, arr, out=arr)\n"
     ]
    },
    {
     "name": "stdout",
     "output_type": "stream",
     "text": [
      "Stocks pg_efx\n",
      "Prediction = -0.2826234100000003\n",
      "Actual = 0.559069\n",
      "pg_efx pct change 7-day corr of close from 2020-04-09 00:00:00 to 2020-04-17 00:00:00 is =  -7.774453126872655\n"
     ]
    },
    {
     "name": "stderr",
     "output_type": "stream",
     "text": [
      "/Users/jonathanhilgart/Library/Caches/pypoetry/virtualenvs/daily-trading-nJ43NNNI-py3.7/lib/python3.7/site-packages/numpy/lib/nanfunctions.py:1546: RuntimeWarning: overflow encountered in multiply\n",
      "  sqr = np.multiply(arr, arr, out=arr)\n"
     ]
    },
    {
     "name": "stdout",
     "output_type": "stream",
     "text": [
      "Stocks pg_ph\n",
      "Prediction = -0.05686615\n",
      "Actual = -0.513656\n",
      "pg_ph pct change 7-day corr of close from 2020-04-09 00:00:00 to 2020-04-17 00:00:00 is =  -1.154433997876287\n"
     ]
    },
    {
     "name": "stderr",
     "output_type": "stream",
     "text": [
      "/Users/jonathanhilgart/Library/Caches/pypoetry/virtualenvs/daily-trading-nJ43NNNI-py3.7/lib/python3.7/site-packages/numpy/lib/nanfunctions.py:1546: RuntimeWarning: overflow encountered in multiply\n",
      "  sqr = np.multiply(arr, arr, out=arr)\n"
     ]
    },
    {
     "name": "stdout",
     "output_type": "stream",
     "text": [
      "Stocks pg_rop\n",
      "Prediction = 0.31214850000000016\n",
      "Actual = 0.217869\n",
      "pg_rop pct change 7-day corr of close from 2020-04-09 00:00:00 to 2020-04-17 00:00:00 is =  -0.5300596179034368\n"
     ]
    },
    {
     "name": "stderr",
     "output_type": "stream",
     "text": [
      "/Users/jonathanhilgart/Library/Caches/pypoetry/virtualenvs/daily-trading-nJ43NNNI-py3.7/lib/python3.7/site-packages/numpy/lib/nanfunctions.py:1546: RuntimeWarning: overflow encountered in multiply\n",
      "  sqr = np.multiply(arr, arr, out=arr)\n"
     ]
    },
    {
     "name": "stdout",
     "output_type": "stream",
     "text": [
      "Stocks pg_are\n",
      "Prediction = 0.11978466000000018\n",
      "Actual = 0.340786\n",
      "pg_are pct change 7-day corr of close from 2020-04-09 00:00:00 to 2020-04-17 00:00:00 is =  -0.5327373085654986\n"
     ]
    },
    {
     "name": "stderr",
     "output_type": "stream",
     "text": [
      "/Users/jonathanhilgart/Library/Caches/pypoetry/virtualenvs/daily-trading-nJ43NNNI-py3.7/lib/python3.7/site-packages/numpy/lib/nanfunctions.py:1546: RuntimeWarning: overflow encountered in multiply\n",
      "  sqr = np.multiply(arr, arr, out=arr)\n"
     ]
    },
    {
     "name": "stdout",
     "output_type": "stream",
     "text": [
      "Stocks pg_pvh\n",
      "Prediction = -0.23769247\n",
      "Actual = -0.607952\n",
      "pg_pvh pct change 7-day corr of close from 2020-04-09 00:00:00 to 2020-04-17 00:00:00 is =  -2.116724000225513\n"
     ]
    },
    {
     "name": "stderr",
     "output_type": "stream",
     "text": [
      "/Users/jonathanhilgart/Library/Caches/pypoetry/virtualenvs/daily-trading-nJ43NNNI-py3.7/lib/python3.7/site-packages/numpy/lib/nanfunctions.py:1546: RuntimeWarning: overflow encountered in multiply\n",
      "  sqr = np.multiply(arr, arr, out=arr)\n"
     ]
    },
    {
     "name": "stdout",
     "output_type": "stream",
     "text": [
      "Stocks pg_lb\n",
      "Prediction = -0.08978398000000005\n",
      "Actual = -0.600227\n",
      "pg_lb pct change 7-day corr of close from 2020-04-09 00:00:00 to 2020-04-17 00:00:00 is =  -1.234200342233491\n"
     ]
    },
    {
     "name": "stderr",
     "output_type": "stream",
     "text": [
      "/Users/jonathanhilgart/Library/Caches/pypoetry/virtualenvs/daily-trading-nJ43NNNI-py3.7/lib/python3.7/site-packages/numpy/lib/nanfunctions.py:1546: RuntimeWarning: overflow encountered in multiply\n",
      "  sqr = np.multiply(arr, arr, out=arr)\n"
     ]
    },
    {
     "name": "stdout",
     "output_type": "stream",
     "text": [
      "Stocks pg_cern\n",
      "Prediction = 0.5950923199999998\n",
      "Actual = 0.774146\n",
      "pg_cern pct change 7-day corr of close from 2020-04-09 00:00:00 to 2020-04-17 00:00:00 is =  0.4012261063259659\n"
     ]
    },
    {
     "name": "stderr",
     "output_type": "stream",
     "text": [
      "/Users/jonathanhilgart/Library/Caches/pypoetry/virtualenvs/daily-trading-nJ43NNNI-py3.7/lib/python3.7/site-packages/numpy/lib/nanfunctions.py:1546: RuntimeWarning: overflow encountered in multiply\n",
      "  sqr = np.multiply(arr, arr, out=arr)\n"
     ]
    },
    {
     "name": "stdout",
     "output_type": "stream",
     "text": [
      "Stocks pg_peg\n",
      "Prediction = 0.60069059\n",
      "Actual = 0.652681\n",
      "pg_peg pct change 7-day corr of close from 2020-04-09 00:00:00 to 2020-04-17 00:00:00 is =  0.4815514481547527\n"
     ]
    },
    {
     "name": "stderr",
     "output_type": "stream",
     "text": [
      "/Users/jonathanhilgart/Library/Caches/pypoetry/virtualenvs/daily-trading-nJ43NNNI-py3.7/lib/python3.7/site-packages/numpy/lib/nanfunctions.py:1546: RuntimeWarning: overflow encountered in multiply\n",
      "  sqr = np.multiply(arr, arr, out=arr)\n"
     ]
    },
    {
     "name": "stdout",
     "output_type": "stream",
     "text": [
      "Stocks pg_adbe\n",
      "Prediction = 0.19451478000000022\n",
      "Actual = 0.952901\n",
      "pg_adbe pct change 7-day corr of close from 2020-04-09 00:00:00 to 2020-04-17 00:00:00 is =  -0.5822312952637859\n"
     ]
    },
    {
     "name": "stderr",
     "output_type": "stream",
     "text": [
      "/Users/jonathanhilgart/Library/Caches/pypoetry/virtualenvs/daily-trading-nJ43NNNI-py3.7/lib/python3.7/site-packages/numpy/lib/nanfunctions.py:1546: RuntimeWarning: overflow encountered in multiply\n",
      "  sqr = np.multiply(arr, arr, out=arr)\n"
     ]
    },
    {
     "name": "stdout",
     "output_type": "stream",
     "text": [
      "Stocks pg_emr\n",
      "Prediction = 0.021659362499999998\n",
      "Actual = -0.624578\n",
      "pg_emr pct change 7-day corr of close from 2020-04-09 00:00:00 to 2020-04-17 00:00:00 is =  -0.9456916556759657\n"
     ]
    },
    {
     "name": "stderr",
     "output_type": "stream",
     "text": [
      "/Users/jonathanhilgart/Library/Caches/pypoetry/virtualenvs/daily-trading-nJ43NNNI-py3.7/lib/python3.7/site-packages/numpy/lib/nanfunctions.py:1546: RuntimeWarning: overflow encountered in multiply\n",
      "  sqr = np.multiply(arr, arr, out=arr)\n"
     ]
    },
    {
     "name": "stdout",
     "output_type": "stream",
     "text": [
      "Stocks pg_ce\n",
      "Prediction = -0.028156329999999986\n",
      "Actual = -0.689709\n",
      "pg_ce pct change 7-day corr of close from 2020-04-09 00:00:00 to 2020-04-17 00:00:00 is =  -1.118135638733065\n"
     ]
    },
    {
     "name": "stderr",
     "output_type": "stream",
     "text": [
      "/Users/jonathanhilgart/Library/Caches/pypoetry/virtualenvs/daily-trading-nJ43NNNI-py3.7/lib/python3.7/site-packages/numpy/lib/nanfunctions.py:1546: RuntimeWarning: overflow encountered in multiply\n",
      "  sqr = np.multiply(arr, arr, out=arr)\n"
     ]
    },
    {
     "name": "stdout",
     "output_type": "stream",
     "text": [
      "Stocks pg_eqix\n",
      "Prediction = 0.5678658100000002\n",
      "Actual = 0.629589\n",
      "pg_eqix pct change 7-day corr of close from 2020-04-09 00:00:00 to 2020-04-17 00:00:00 is =  -0.12919910323115835\n"
     ]
    },
    {
     "name": "stderr",
     "output_type": "stream",
     "text": [
      "/Users/jonathanhilgart/Library/Caches/pypoetry/virtualenvs/daily-trading-nJ43NNNI-py3.7/lib/python3.7/site-packages/numpy/lib/nanfunctions.py:1546: RuntimeWarning: overflow encountered in multiply\n",
      "  sqr = np.multiply(arr, arr, out=arr)\n"
     ]
    },
    {
     "name": "stdout",
     "output_type": "stream",
     "text": [
      "Stocks pg_rost\n",
      "Prediction = -0.07747782999999997\n",
      "Actual = 0.504722\n",
      "pg_rost pct change 7-day corr of close from 2020-04-09 00:00:00 to 2020-04-17 00:00:00 is =  -1.2942378577911793\n"
     ]
    },
    {
     "name": "stderr",
     "output_type": "stream",
     "text": [
      "/Users/jonathanhilgart/Library/Caches/pypoetry/virtualenvs/daily-trading-nJ43NNNI-py3.7/lib/python3.7/site-packages/numpy/lib/nanfunctions.py:1546: RuntimeWarning: overflow encountered in multiply\n",
      "  sqr = np.multiply(arr, arr, out=arr)\n"
     ]
    },
    {
     "name": "stdout",
     "output_type": "stream",
     "text": [
      "Stocks pg_so\n",
      "Prediction = 0.39086306666666665\n",
      "Actual = -0.549355\n",
      "pg_so pct change 7-day corr of close from 2020-04-09 00:00:00 to 2020-04-17 00:00:00 is =  -0.07161283222449988\n"
     ]
    },
    {
     "name": "stderr",
     "output_type": "stream",
     "text": [
      "/Users/jonathanhilgart/Library/Caches/pypoetry/virtualenvs/daily-trading-nJ43NNNI-py3.7/lib/python3.7/site-packages/numpy/lib/nanfunctions.py:1546: RuntimeWarning: overflow encountered in multiply\n",
      "  sqr = np.multiply(arr, arr, out=arr)\n"
     ]
    },
    {
     "name": "stdout",
     "output_type": "stream",
     "text": [
      "Stocks pvh_pnr\n",
      "Prediction = 0.5986174166666663\n",
      "Actual = 0.957368\n",
      "pvh_pnr pct change 7-day corr of close from 2020-04-09 00:00:00 to 2020-04-17 00:00:00 is =  -0.3786679253482137\n"
     ]
    },
    {
     "name": "stderr",
     "output_type": "stream",
     "text": [
      "/Users/jonathanhilgart/Library/Caches/pypoetry/virtualenvs/daily-trading-nJ43NNNI-py3.7/lib/python3.7/site-packages/numpy/lib/nanfunctions.py:1546: RuntimeWarning: overflow encountered in multiply\n",
      "  sqr = np.multiply(arr, arr, out=arr)\n"
     ]
    },
    {
     "name": "stdout",
     "output_type": "stream",
     "text": [
      "Stocks pvh_bac\n",
      "Prediction = 0.7944730799999994\n",
      "Actual = 0.945736\n",
      "pvh_bac pct change 7-day corr of close from 2020-04-09 00:00:00 to 2020-04-17 00:00:00 is =  -0.1454466953642818\n"
     ]
    },
    {
     "name": "stderr",
     "output_type": "stream",
     "text": [
      "/Users/jonathanhilgart/Library/Caches/pypoetry/virtualenvs/daily-trading-nJ43NNNI-py3.7/lib/python3.7/site-packages/numpy/lib/nanfunctions.py:1546: RuntimeWarning: overflow encountered in multiply\n",
      "  sqr = np.multiply(arr, arr, out=arr)\n"
     ]
    },
    {
     "name": "stdout",
     "output_type": "stream",
     "text": [
      "Stocks pvh_ni\n",
      "Prediction = 0.31832232\n",
      "Actual = 0.420521\n",
      "pvh_ni pct change 7-day corr of close from 2020-04-09 00:00:00 to 2020-04-17 00:00:00 is =  -0.6401775587369231\n"
     ]
    },
    {
     "name": "stderr",
     "output_type": "stream",
     "text": [
      "/Users/jonathanhilgart/Library/Caches/pypoetry/virtualenvs/daily-trading-nJ43NNNI-py3.7/lib/python3.7/site-packages/numpy/lib/nanfunctions.py:1546: RuntimeWarning: overflow encountered in multiply\n",
      "  sqr = np.multiply(arr, arr, out=arr)\n"
     ]
    },
    {
     "name": "stdout",
     "output_type": "stream",
     "text": [
      "Stocks pvh_vno\n",
      "Prediction = 0.8304534099999994\n",
      "Actual = 0.538043\n",
      "pvh_vno pct change 7-day corr of close from 2020-04-09 00:00:00 to 2020-04-17 00:00:00 is =  -0.09888571320062778\n"
     ]
    },
    {
     "name": "stderr",
     "output_type": "stream",
     "text": [
      "/Users/jonathanhilgart/Library/Caches/pypoetry/virtualenvs/daily-trading-nJ43NNNI-py3.7/lib/python3.7/site-packages/numpy/lib/nanfunctions.py:1546: RuntimeWarning: overflow encountered in multiply\n",
      "  sqr = np.multiply(arr, arr, out=arr)\n"
     ]
    },
    {
     "name": "stdout",
     "output_type": "stream",
     "text": [
      "Stocks pvh_ual\n",
      "Prediction = 0.5244165399999997\n",
      "Actual = 0.178844\n",
      "pvh_ual pct change 7-day corr of close from 2020-04-09 00:00:00 to 2020-04-17 00:00:00 is =  -0.2705535772905068\n"
     ]
    },
    {
     "name": "stderr",
     "output_type": "stream",
     "text": [
      "/Users/jonathanhilgart/Library/Caches/pypoetry/virtualenvs/daily-trading-nJ43NNNI-py3.7/lib/python3.7/site-packages/numpy/lib/nanfunctions.py:1546: RuntimeWarning: overflow encountered in multiply\n",
      "  sqr = np.multiply(arr, arr, out=arr)\n"
     ]
    },
    {
     "name": "stdout",
     "output_type": "stream",
     "text": [
      "Stocks pvh_efx\n",
      "Prediction = 0.3768790379999999\n",
      "Actual = 0.283954\n",
      "pvh_efx pct change 7-day corr of close from 2020-04-09 00:00:00 to 2020-04-17 00:00:00 is =  -0.5881810028224667\n"
     ]
    },
    {
     "name": "stderr",
     "output_type": "stream",
     "text": [
      "/Users/jonathanhilgart/Library/Caches/pypoetry/virtualenvs/daily-trading-nJ43NNNI-py3.7/lib/python3.7/site-packages/numpy/lib/nanfunctions.py:1546: RuntimeWarning: overflow encountered in multiply\n",
      "  sqr = np.multiply(arr, arr, out=arr)\n"
     ]
    },
    {
     "name": "stdout",
     "output_type": "stream",
     "text": [
      "Stocks pvh_ph\n",
      "Prediction = 0.7919832013333332\n",
      "Actual = 0.987345\n",
      "pvh_ph pct change 7-day corr of close from 2020-04-09 00:00:00 to 2020-04-17 00:00:00 is =  -0.17962696957580715\n"
     ]
    },
    {
     "name": "stderr",
     "output_type": "stream",
     "text": [
      "/Users/jonathanhilgart/Library/Caches/pypoetry/virtualenvs/daily-trading-nJ43NNNI-py3.7/lib/python3.7/site-packages/numpy/lib/nanfunctions.py:1546: RuntimeWarning: overflow encountered in multiply\n",
      "  sqr = np.multiply(arr, arr, out=arr)\n"
     ]
    },
    {
     "name": "stdout",
     "output_type": "stream",
     "text": [
      "Stocks pvh_rop\n",
      "Prediction = 0.4219123999999999\n",
      "Actual = 0.570902\n",
      "pvh_rop pct change 7-day corr of close from 2020-04-09 00:00:00 to 2020-04-17 00:00:00 is =  -0.4887348042732227\n"
     ]
    },
    {
     "name": "stderr",
     "output_type": "stream",
     "text": [
      "/Users/jonathanhilgart/Library/Caches/pypoetry/virtualenvs/daily-trading-nJ43NNNI-py3.7/lib/python3.7/site-packages/numpy/lib/nanfunctions.py:1546: RuntimeWarning: overflow encountered in multiply\n",
      "  sqr = np.multiply(arr, arr, out=arr)\n"
     ]
    },
    {
     "name": "stdout",
     "output_type": "stream",
     "text": [
      "Stocks pvh_are\n",
      "Prediction = 0.6268291299999998\n",
      "Actual = 0.190255\n",
      "pvh_are pct change 7-day corr of close from 2020-04-09 00:00:00 to 2020-04-17 00:00:00 is =  -0.2893158225322221\n"
     ]
    },
    {
     "name": "stderr",
     "output_type": "stream",
     "text": [
      "/Users/jonathanhilgart/Library/Caches/pypoetry/virtualenvs/daily-trading-nJ43NNNI-py3.7/lib/python3.7/site-packages/numpy/lib/nanfunctions.py:1546: RuntimeWarning: overflow encountered in multiply\n",
      "  sqr = np.multiply(arr, arr, out=arr)\n"
     ]
    },
    {
     "name": "stdout",
     "output_type": "stream",
     "text": [
      "Stocks pvh_pg\n",
      "Prediction = -0.19866635000000016\n",
      "Actual = -0.607952\n",
      "pvh_pg pct change 7-day corr of close from 2020-04-09 00:00:00 to 2020-04-17 00:00:00 is =  -1.933371936781178\n"
     ]
    },
    {
     "name": "stderr",
     "output_type": "stream",
     "text": [
      "/Users/jonathanhilgart/Library/Caches/pypoetry/virtualenvs/daily-trading-nJ43NNNI-py3.7/lib/python3.7/site-packages/numpy/lib/nanfunctions.py:1546: RuntimeWarning: overflow encountered in multiply\n",
      "  sqr = np.multiply(arr, arr, out=arr)\n"
     ]
    },
    {
     "name": "stdout",
     "output_type": "stream",
     "text": [
      "Stocks pvh_lb\n",
      "Prediction = 0.6266876000000001\n",
      "Actual = 0.974823\n",
      "pvh_lb pct change 7-day corr of close from 2020-04-09 00:00:00 to 2020-04-17 00:00:00 is =  -0.3411264259054827\n"
     ]
    },
    {
     "name": "stderr",
     "output_type": "stream",
     "text": [
      "/Users/jonathanhilgart/Library/Caches/pypoetry/virtualenvs/daily-trading-nJ43NNNI-py3.7/lib/python3.7/site-packages/numpy/lib/nanfunctions.py:1546: RuntimeWarning: overflow encountered in multiply\n",
      "  sqr = np.multiply(arr, arr, out=arr)\n"
     ]
    },
    {
     "name": "stdout",
     "output_type": "stream",
     "text": [
      "Stocks pvh_cern\n",
      "Prediction = 0.01973458999999997\n",
      "Actual = -0.220218\n",
      "pvh_cern pct change 7-day corr of close from 2020-04-09 00:00:00 to 2020-04-17 00:00:00 is =  -0.9782231557713974\n"
     ]
    },
    {
     "name": "stderr",
     "output_type": "stream",
     "text": [
      "/Users/jonathanhilgart/Library/Caches/pypoetry/virtualenvs/daily-trading-nJ43NNNI-py3.7/lib/python3.7/site-packages/numpy/lib/nanfunctions.py:1546: RuntimeWarning: overflow encountered in multiply\n",
      "  sqr = np.multiply(arr, arr, out=arr)\n"
     ]
    },
    {
     "name": "stdout",
     "output_type": "stream",
     "text": [
      "Stocks pvh_peg\n",
      "Prediction = 0.2550705233333335\n",
      "Actual = 0.073381\n",
      "pvh_peg pct change 7-day corr of close from 2020-04-09 00:00:00 to 2020-04-17 00:00:00 is =  -0.7180631503940127\n"
     ]
    },
    {
     "name": "stderr",
     "output_type": "stream",
     "text": [
      "/Users/jonathanhilgart/Library/Caches/pypoetry/virtualenvs/daily-trading-nJ43NNNI-py3.7/lib/python3.7/site-packages/numpy/lib/nanfunctions.py:1546: RuntimeWarning: overflow encountered in multiply\n",
      "  sqr = np.multiply(arr, arr, out=arr)\n"
     ]
    },
    {
     "name": "stdout",
     "output_type": "stream",
     "text": [
      "Stocks pvh_adbe\n",
      "Prediction = 0.47142950999999966\n",
      "Actual = -0.582842\n",
      "pvh_adbe pct change 7-day corr of close from 2020-04-09 00:00:00 to 2020-04-17 00:00:00 is =  -0.4153870926939126\n"
     ]
    },
    {
     "name": "stderr",
     "output_type": "stream",
     "text": [
      "/Users/jonathanhilgart/Library/Caches/pypoetry/virtualenvs/daily-trading-nJ43NNNI-py3.7/lib/python3.7/site-packages/numpy/lib/nanfunctions.py:1546: RuntimeWarning: overflow encountered in multiply\n",
      "  sqr = np.multiply(arr, arr, out=arr)\n"
     ]
    },
    {
     "name": "stdout",
     "output_type": "stream",
     "text": [
      "Stocks pvh_emr\n",
      "Prediction = 0.48675513000000054\n",
      "Actual = 0.924341\n",
      "pvh_emr pct change 7-day corr of close from 2020-04-09 00:00:00 to 2020-04-17 00:00:00 is =  -0.48751774849204876\n"
     ]
    },
    {
     "name": "stderr",
     "output_type": "stream",
     "text": [
      "/Users/jonathanhilgart/Library/Caches/pypoetry/virtualenvs/daily-trading-nJ43NNNI-py3.7/lib/python3.7/site-packages/numpy/lib/nanfunctions.py:1546: RuntimeWarning: overflow encountered in multiply\n",
      "  sqr = np.multiply(arr, arr, out=arr)\n"
     ]
    },
    {
     "name": "stdout",
     "output_type": "stream",
     "text": [
      "Stocks pvh_ce\n",
      "Prediction = 0.4670753099999996\n",
      "Actual = 0.972202\n",
      "pvh_ce pct change 7-day corr of close from 2020-04-09 00:00:00 to 2020-04-17 00:00:00 is =  -0.5118768184098323\n"
     ]
    },
    {
     "name": "stderr",
     "output_type": "stream",
     "text": [
      "/Users/jonathanhilgart/Library/Caches/pypoetry/virtualenvs/daily-trading-nJ43NNNI-py3.7/lib/python3.7/site-packages/numpy/lib/nanfunctions.py:1546: RuntimeWarning: overflow encountered in multiply\n",
      "  sqr = np.multiply(arr, arr, out=arr)\n"
     ]
    },
    {
     "name": "stdout",
     "output_type": "stream",
     "text": [
      "Stocks pvh_eqix\n",
      "Prediction = 0.021437096666666666\n",
      "Actual = -0.037792\n",
      "pvh_eqix pct change 7-day corr of close from 2020-04-09 00:00:00 to 2020-04-17 00:00:00 is =  -0.9708709770052468\n"
     ]
    },
    {
     "name": "stderr",
     "output_type": "stream",
     "text": [
      "/Users/jonathanhilgart/Library/Caches/pypoetry/virtualenvs/daily-trading-nJ43NNNI-py3.7/lib/python3.7/site-packages/numpy/lib/nanfunctions.py:1546: RuntimeWarning: overflow encountered in multiply\n",
      "  sqr = np.multiply(arr, arr, out=arr)\n"
     ]
    },
    {
     "name": "stdout",
     "output_type": "stream",
     "text": [
      "Stocks pvh_rost\n",
      "Prediction = 0.44747864500000006\n",
      "Actual = 0.34537\n",
      "pvh_rost pct change 7-day corr of close from 2020-04-09 00:00:00 to 2020-04-17 00:00:00 is =  -0.49195070153886666\n"
     ]
    },
    {
     "name": "stderr",
     "output_type": "stream",
     "text": [
      "/Users/jonathanhilgart/Library/Caches/pypoetry/virtualenvs/daily-trading-nJ43NNNI-py3.7/lib/python3.7/site-packages/numpy/lib/nanfunctions.py:1546: RuntimeWarning: overflow encountered in multiply\n",
      "  sqr = np.multiply(arr, arr, out=arr)\n"
     ]
    },
    {
     "name": "stdout",
     "output_type": "stream",
     "text": [
      "Stocks pvh_so\n",
      "Prediction = 0.33123812999999996\n",
      "Actual = 0.967202\n",
      "pvh_so pct change 7-day corr of close from 2020-04-09 00:00:00 to 2020-04-17 00:00:00 is =  -0.6425192048262987\n"
     ]
    },
    {
     "name": "stderr",
     "output_type": "stream",
     "text": [
      "/Users/jonathanhilgart/Library/Caches/pypoetry/virtualenvs/daily-trading-nJ43NNNI-py3.7/lib/python3.7/site-packages/numpy/lib/nanfunctions.py:1546: RuntimeWarning: overflow encountered in multiply\n",
      "  sqr = np.multiply(arr, arr, out=arr)\n"
     ]
    },
    {
     "name": "stdout",
     "output_type": "stream",
     "text": [
      "Stocks lb_pnr\n",
      "Prediction = 0.6198367899999999\n",
      "Actual = 0.970683\n",
      "lb_pnr pct change 7-day corr of close from 2020-04-09 00:00:00 to 2020-04-17 00:00:00 is =  -0.3726780039430485\n"
     ]
    },
    {
     "name": "stderr",
     "output_type": "stream",
     "text": [
      "/Users/jonathanhilgart/Library/Caches/pypoetry/virtualenvs/daily-trading-nJ43NNNI-py3.7/lib/python3.7/site-packages/numpy/lib/nanfunctions.py:1546: RuntimeWarning: overflow encountered in multiply\n",
      "  sqr = np.multiply(arr, arr, out=arr)\n"
     ]
    },
    {
     "name": "stdout",
     "output_type": "stream",
     "text": [
      "Stocks lb_bac\n",
      "Prediction = 0.2628282800000001\n",
      "Actual = 0.922391\n",
      "lb_bac pct change 7-day corr of close from 2020-04-09 00:00:00 to 2020-04-17 00:00:00 is =  -0.7205720215098118\n"
     ]
    },
    {
     "name": "stderr",
     "output_type": "stream",
     "text": [
      "/Users/jonathanhilgart/Library/Caches/pypoetry/virtualenvs/daily-trading-nJ43NNNI-py3.7/lib/python3.7/site-packages/numpy/lib/nanfunctions.py:1546: RuntimeWarning: overflow encountered in multiply\n",
      "  sqr = np.multiply(arr, arr, out=arr)\n"
     ]
    },
    {
     "name": "stdout",
     "output_type": "stream",
     "text": [
      "Stocks lb_ni\n",
      "Prediction = 0.36318997\n",
      "Actual = 0.40453\n",
      "lb_ni pct change 7-day corr of close from 2020-04-09 00:00:00 to 2020-04-17 00:00:00 is =  -0.5879078826140434\n"
     ]
    },
    {
     "name": "stderr",
     "output_type": "stream",
     "text": [
      "/Users/jonathanhilgart/Library/Caches/pypoetry/virtualenvs/daily-trading-nJ43NNNI-py3.7/lib/python3.7/site-packages/numpy/lib/nanfunctions.py:1546: RuntimeWarning: overflow encountered in multiply\n",
      "  sqr = np.multiply(arr, arr, out=arr)\n"
     ]
    },
    {
     "name": "stdout",
     "output_type": "stream",
     "text": [
      "Stocks lb_vno\n",
      "Prediction = 0.5670623300000003\n",
      "Actual = 0.393704\n",
      "lb_vno pct change 7-day corr of close from 2020-04-09 00:00:00 to 2020-04-17 00:00:00 is =  -0.3806462524479256\n"
     ]
    },
    {
     "name": "stderr",
     "output_type": "stream",
     "text": [
      "/Users/jonathanhilgart/Library/Caches/pypoetry/virtualenvs/daily-trading-nJ43NNNI-py3.7/lib/python3.7/site-packages/numpy/lib/nanfunctions.py:1546: RuntimeWarning: overflow encountered in multiply\n",
      "  sqr = np.multiply(arr, arr, out=arr)\n"
     ]
    },
    {
     "name": "stdout",
     "output_type": "stream",
     "text": [
      "Stocks lb_ual\n",
      "Prediction = 0.4667690399999998\n",
      "Actual = 0.051689\n",
      "lb_ual pct change 7-day corr of close from 2020-04-09 00:00:00 to 2020-04-17 00:00:00 is =  -0.3582342847714901\n"
     ]
    },
    {
     "name": "stderr",
     "output_type": "stream",
     "text": [
      "/Users/jonathanhilgart/Library/Caches/pypoetry/virtualenvs/daily-trading-nJ43NNNI-py3.7/lib/python3.7/site-packages/numpy/lib/nanfunctions.py:1546: RuntimeWarning: overflow encountered in multiply\n",
      "  sqr = np.multiply(arr, arr, out=arr)\n"
     ]
    },
    {
     "name": "stdout",
     "output_type": "stream",
     "text": [
      "Stocks lb_efx\n",
      "Prediction = 0.4129699500000001\n",
      "Actual = 0.226271\n",
      "lb_efx pct change 7-day corr of close from 2020-04-09 00:00:00 to 2020-04-17 00:00:00 is =  -0.5257645163364767\n"
     ]
    },
    {
     "name": "stderr",
     "output_type": "stream",
     "text": [
      "/Users/jonathanhilgart/Library/Caches/pypoetry/virtualenvs/daily-trading-nJ43NNNI-py3.7/lib/python3.7/site-packages/numpy/lib/nanfunctions.py:1546: RuntimeWarning: overflow encountered in multiply\n",
      "  sqr = np.multiply(arr, arr, out=arr)\n"
     ]
    },
    {
     "name": "stdout",
     "output_type": "stream",
     "text": [
      "Stocks lb_ph\n",
      "Prediction = 0.5472708849999998\n",
      "Actual = 0.973118\n",
      "lb_ph pct change 7-day corr of close from 2020-04-09 00:00:00 to 2020-04-17 00:00:00 is =  -0.4326435623959414\n"
     ]
    },
    {
     "name": "stderr",
     "output_type": "stream",
     "text": [
      "/Users/jonathanhilgart/Library/Caches/pypoetry/virtualenvs/daily-trading-nJ43NNNI-py3.7/lib/python3.7/site-packages/numpy/lib/nanfunctions.py:1546: RuntimeWarning: overflow encountered in multiply\n",
      "  sqr = np.multiply(arr, arr, out=arr)\n"
     ]
    },
    {
     "name": "stdout",
     "output_type": "stream",
     "text": [
      "Stocks lb_rop\n",
      "Prediction = 0.1384304999999999\n",
      "Actual = 0.590509\n",
      "lb_rop pct change 7-day corr of close from 2020-04-09 00:00:00 to 2020-04-17 00:00:00 is =  -0.8393936124298663\n"
     ]
    },
    {
     "name": "stderr",
     "output_type": "stream",
     "text": [
      "/Users/jonathanhilgart/Library/Caches/pypoetry/virtualenvs/daily-trading-nJ43NNNI-py3.7/lib/python3.7/site-packages/numpy/lib/nanfunctions.py:1546: RuntimeWarning: overflow encountered in multiply\n",
      "  sqr = np.multiply(arr, arr, out=arr)\n"
     ]
    },
    {
     "name": "stdout",
     "output_type": "stream",
     "text": [
      "Stocks lb_are\n",
      "Prediction = 0.6538759375\n",
      "Actual = 0.189286\n",
      "lb_are pct change 7-day corr of close from 2020-04-09 00:00:00 to 2020-04-17 00:00:00 is =  -0.28138947013848514\n"
     ]
    },
    {
     "name": "stderr",
     "output_type": "stream",
     "text": [
      "/Users/jonathanhilgart/Library/Caches/pypoetry/virtualenvs/daily-trading-nJ43NNNI-py3.7/lib/python3.7/site-packages/numpy/lib/nanfunctions.py:1546: RuntimeWarning: overflow encountered in multiply\n",
      "  sqr = np.multiply(arr, arr, out=arr)\n"
     ]
    },
    {
     "name": "stdout",
     "output_type": "stream",
     "text": [
      "Stocks lb_pg\n",
      "Prediction = -0.12756146000000004\n",
      "Actual = -0.600227\n",
      "lb_pg pct change 7-day corr of close from 2020-04-09 00:00:00 to 2020-04-17 00:00:00 is =  -1.3327424066944211\n"
     ]
    },
    {
     "name": "stderr",
     "output_type": "stream",
     "text": [
      "/Users/jonathanhilgart/Library/Caches/pypoetry/virtualenvs/daily-trading-nJ43NNNI-py3.7/lib/python3.7/site-packages/numpy/lib/nanfunctions.py:1546: RuntimeWarning: overflow encountered in multiply\n",
      "  sqr = np.multiply(arr, arr, out=arr)\n"
     ]
    },
    {
     "name": "stdout",
     "output_type": "stream",
     "text": [
      "Stocks lb_pvh\n",
      "Prediction = 0.6107365000000005\n",
      "Actual = 0.974823\n",
      "lb_pvh pct change 7-day corr of close from 2020-04-09 00:00:00 to 2020-04-17 00:00:00 is =  -0.3578967565578506\n"
     ]
    },
    {
     "name": "stderr",
     "output_type": "stream",
     "text": [
      "/Users/jonathanhilgart/Library/Caches/pypoetry/virtualenvs/daily-trading-nJ43NNNI-py3.7/lib/python3.7/site-packages/numpy/lib/nanfunctions.py:1546: RuntimeWarning: overflow encountered in multiply\n",
      "  sqr = np.multiply(arr, arr, out=arr)\n"
     ]
    },
    {
     "name": "stdout",
     "output_type": "stream",
     "text": [
      "Stocks lb_cern\n",
      "Prediction = -0.11397585999999997\n",
      "Actual = -0.18419\n",
      "lb_cern pct change 7-day corr of close from 2020-04-09 00:00:00 to 2020-04-17 00:00:00 is =  -1.1184899724816328\n"
     ]
    },
    {
     "name": "stderr",
     "output_type": "stream",
     "text": [
      "/Users/jonathanhilgart/Library/Caches/pypoetry/virtualenvs/daily-trading-nJ43NNNI-py3.7/lib/python3.7/site-packages/numpy/lib/nanfunctions.py:1546: RuntimeWarning: overflow encountered in multiply\n",
      "  sqr = np.multiply(arr, arr, out=arr)\n"
     ]
    },
    {
     "name": "stdout",
     "output_type": "stream",
     "text": [
      "Stocks lb_peg\n",
      "Prediction = 0.19014416833333336\n",
      "Actual = 0.087799\n",
      "lb_peg pct change 7-day corr of close from 2020-04-09 00:00:00 to 2020-04-17 00:00:00 is =  -0.7980236533257985\n"
     ]
    },
    {
     "name": "stderr",
     "output_type": "stream",
     "text": [
      "/Users/jonathanhilgart/Library/Caches/pypoetry/virtualenvs/daily-trading-nJ43NNNI-py3.7/lib/python3.7/site-packages/numpy/lib/nanfunctions.py:1546: RuntimeWarning: overflow encountered in multiply\n",
      "  sqr = np.multiply(arr, arr, out=arr)\n"
     ]
    },
    {
     "name": "stdout",
     "output_type": "stream",
     "text": [
      "Stocks lb_adbe\n",
      "Prediction = 0.4299330600000001\n",
      "Actual = -0.592419\n",
      "lb_adbe pct change 7-day corr of close from 2020-04-09 00:00:00 to 2020-04-17 00:00:00 is =  -0.437949713505818\n"
     ]
    },
    {
     "name": "stderr",
     "output_type": "stream",
     "text": [
      "/Users/jonathanhilgart/Library/Caches/pypoetry/virtualenvs/daily-trading-nJ43NNNI-py3.7/lib/python3.7/site-packages/numpy/lib/nanfunctions.py:1546: RuntimeWarning: overflow encountered in multiply\n",
      "  sqr = np.multiply(arr, arr, out=arr)\n"
     ]
    },
    {
     "name": "stdout",
     "output_type": "stream",
     "text": [
      "Stocks lb_emr\n",
      "Prediction = 0.5106558800000002\n",
      "Actual = 0.955543\n",
      "lb_emr pct change 7-day corr of close from 2020-04-09 00:00:00 to 2020-04-17 00:00:00 is =  -0.4420311514906494\n"
     ]
    },
    {
     "name": "stderr",
     "output_type": "stream",
     "text": [
      "/Users/jonathanhilgart/Library/Caches/pypoetry/virtualenvs/daily-trading-nJ43NNNI-py3.7/lib/python3.7/site-packages/numpy/lib/nanfunctions.py:1546: RuntimeWarning: overflow encountered in multiply\n",
      "  sqr = np.multiply(arr, arr, out=arr)\n"
     ]
    },
    {
     "name": "stdout",
     "output_type": "stream",
     "text": [
      "Stocks lb_ce\n",
      "Prediction = 0.41057747\n",
      "Actual = 0.941665\n",
      "lb_ce pct change 7-day corr of close from 2020-04-09 00:00:00 to 2020-04-17 00:00:00 is =  -0.5697231656950148\n"
     ]
    },
    {
     "name": "stderr",
     "output_type": "stream",
     "text": [
      "/Users/jonathanhilgart/Library/Caches/pypoetry/virtualenvs/daily-trading-nJ43NNNI-py3.7/lib/python3.7/site-packages/numpy/lib/nanfunctions.py:1546: RuntimeWarning: overflow encountered in multiply\n",
      "  sqr = np.multiply(arr, arr, out=arr)\n"
     ]
    },
    {
     "name": "stdout",
     "output_type": "stream",
     "text": [
      "Stocks lb_eqix\n",
      "Prediction = 0.03741951\n",
      "Actual = -0.002357\n",
      "lb_eqix pct change 7-day corr of close from 2020-04-09 00:00:00 to 2020-04-17 00:00:00 is =  -0.9559901982231191\n"
     ]
    },
    {
     "name": "stderr",
     "output_type": "stream",
     "text": [
      "/Users/jonathanhilgart/Library/Caches/pypoetry/virtualenvs/daily-trading-nJ43NNNI-py3.7/lib/python3.7/site-packages/numpy/lib/nanfunctions.py:1546: RuntimeWarning: overflow encountered in multiply\n",
      "  sqr = np.multiply(arr, arr, out=arr)\n"
     ]
    },
    {
     "name": "stdout",
     "output_type": "stream",
     "text": [
      "Stocks lb_rost\n",
      "Prediction = 0.22191619000000004\n",
      "Actual = 0.362927\n",
      "lb_rost pct change 7-day corr of close from 2020-04-09 00:00:00 to 2020-04-17 00:00:00 is =  -0.7256744652340311\n"
     ]
    },
    {
     "name": "stderr",
     "output_type": "stream",
     "text": [
      "/Users/jonathanhilgart/Library/Caches/pypoetry/virtualenvs/daily-trading-nJ43NNNI-py3.7/lib/python3.7/site-packages/numpy/lib/nanfunctions.py:1546: RuntimeWarning: overflow encountered in multiply\n",
      "  sqr = np.multiply(arr, arr, out=arr)\n"
     ]
    },
    {
     "name": "stdout",
     "output_type": "stream",
     "text": [
      "Stocks lb_so\n",
      "Prediction = 0.41544282000000005\n",
      "Actual = 0.944878\n",
      "lb_so pct change 7-day corr of close from 2020-04-09 00:00:00 to 2020-04-17 00:00:00 is =  -0.5531013228085235\n"
     ]
    },
    {
     "name": "stderr",
     "output_type": "stream",
     "text": [
      "/Users/jonathanhilgart/Library/Caches/pypoetry/virtualenvs/daily-trading-nJ43NNNI-py3.7/lib/python3.7/site-packages/numpy/lib/nanfunctions.py:1546: RuntimeWarning: overflow encountered in multiply\n",
      "  sqr = np.multiply(arr, arr, out=arr)\n"
     ]
    },
    {
     "name": "stdout",
     "output_type": "stream",
     "text": [
      "Stocks cern_pnr\n",
      "Prediction = 0.33599693000000014\n",
      "Actual = -0.146733\n",
      "cern_pnr pct change 7-day corr of close from 2020-04-09 00:00:00 to 2020-04-17 00:00:00 is =  -0.6459120062218886\n"
     ]
    },
    {
     "name": "stderr",
     "output_type": "stream",
     "text": [
      "/Users/jonathanhilgart/Library/Caches/pypoetry/virtualenvs/daily-trading-nJ43NNNI-py3.7/lib/python3.7/site-packages/numpy/lib/nanfunctions.py:1546: RuntimeWarning: overflow encountered in multiply\n",
      "  sqr = np.multiply(arr, arr, out=arr)\n"
     ]
    },
    {
     "name": "stdout",
     "output_type": "stream",
     "text": [
      "Stocks cern_bac\n",
      "Prediction = 0.09283035\n",
      "Actual = -0.208332\n",
      "cern_bac pct change 7-day corr of close from 2020-04-09 00:00:00 to 2020-04-17 00:00:00 is =  -0.9058750555135331\n"
     ]
    },
    {
     "name": "stderr",
     "output_type": "stream",
     "text": [
      "/Users/jonathanhilgart/Library/Caches/pypoetry/virtualenvs/daily-trading-nJ43NNNI-py3.7/lib/python3.7/site-packages/numpy/lib/nanfunctions.py:1546: RuntimeWarning: overflow encountered in multiply\n",
      "  sqr = np.multiply(arr, arr, out=arr)\n"
     ]
    },
    {
     "name": "stdout",
     "output_type": "stream",
     "text": [
      "Stocks cern_ni\n",
      "Prediction = 0.5532834800000006\n",
      "Actual = 0.645322\n",
      "cern_ni pct change 7-day corr of close from 2020-04-09 00:00:00 to 2020-04-17 00:00:00 is =  -0.4152122495182987\n"
     ]
    },
    {
     "name": "stderr",
     "output_type": "stream",
     "text": [
      "/Users/jonathanhilgart/Library/Caches/pypoetry/virtualenvs/daily-trading-nJ43NNNI-py3.7/lib/python3.7/site-packages/numpy/lib/nanfunctions.py:1546: RuntimeWarning: overflow encountered in multiply\n",
      "  sqr = np.multiply(arr, arr, out=arr)\n"
     ]
    },
    {
     "name": "stdout",
     "output_type": "stream",
     "text": [
      "Stocks cern_vno\n",
      "Prediction = 0.17096939999999997\n",
      "Actual = 0.307576\n",
      "cern_vno pct change 7-day corr of close from 2020-04-09 00:00:00 to 2020-04-17 00:00:00 is =  -0.8145756601637233\n"
     ]
    },
    {
     "name": "stderr",
     "output_type": "stream",
     "text": [
      "/Users/jonathanhilgart/Library/Caches/pypoetry/virtualenvs/daily-trading-nJ43NNNI-py3.7/lib/python3.7/site-packages/numpy/lib/nanfunctions.py:1546: RuntimeWarning: overflow encountered in multiply\n",
      "  sqr = np.multiply(arr, arr, out=arr)\n"
     ]
    },
    {
     "name": "stdout",
     "output_type": "stream",
     "text": [
      "Stocks cern_ual\n",
      "Prediction = -0.08208978000000004\n",
      "Actual = 0.353142\n",
      "cern_ual pct change 7-day corr of close from 2020-04-09 00:00:00 to 2020-04-17 00:00:00 is =  -1.1012602737698307\n"
     ]
    },
    {
     "name": "stderr",
     "output_type": "stream",
     "text": [
      "/Users/jonathanhilgart/Library/Caches/pypoetry/virtualenvs/daily-trading-nJ43NNNI-py3.7/lib/python3.7/site-packages/numpy/lib/nanfunctions.py:1546: RuntimeWarning: overflow encountered in multiply\n",
      "  sqr = np.multiply(arr, arr, out=arr)\n"
     ]
    },
    {
     "name": "stdout",
     "output_type": "stream",
     "text": [
      "Stocks cern_efx\n",
      "Prediction = 0.08633774399999995\n",
      "Actual = 0.718914\n",
      "cern_efx pct change 7-day corr of close from 2020-04-09 00:00:00 to 2020-04-17 00:00:00 is =  -0.9006412981184189\n"
     ]
    },
    {
     "name": "stderr",
     "output_type": "stream",
     "text": [
      "/Users/jonathanhilgart/Library/Caches/pypoetry/virtualenvs/daily-trading-nJ43NNNI-py3.7/lib/python3.7/site-packages/numpy/lib/nanfunctions.py:1546: RuntimeWarning: overflow encountered in multiply\n",
      "  sqr = np.multiply(arr, arr, out=arr)\n"
     ]
    },
    {
     "name": "stdout",
     "output_type": "stream",
     "text": [
      "Stocks cern_ph\n",
      "Prediction = 0.29188331999999995\n",
      "Actual = -0.143864\n",
      "cern_ph pct change 7-day corr of close from 2020-04-09 00:00:00 to 2020-04-17 00:00:00 is =  -0.6983439282432982\n"
     ]
    },
    {
     "name": "stderr",
     "output_type": "stream",
     "text": [
      "/Users/jonathanhilgart/Library/Caches/pypoetry/virtualenvs/daily-trading-nJ43NNNI-py3.7/lib/python3.7/site-packages/numpy/lib/nanfunctions.py:1546: RuntimeWarning: overflow encountered in multiply\n",
      "  sqr = np.multiply(arr, arr, out=arr)\n"
     ]
    },
    {
     "name": "stdout",
     "output_type": "stream",
     "text": [
      "Stocks cern_rop\n",
      "Prediction = 0.6136882433333326\n",
      "Actual = 0.301897\n",
      "cern_rop pct change 7-day corr of close from 2020-04-09 00:00:00 to 2020-04-17 00:00:00 is =  -0.30502702221155287\n"
     ]
    },
    {
     "name": "stderr",
     "output_type": "stream",
     "text": [
      "/Users/jonathanhilgart/Library/Caches/pypoetry/virtualenvs/daily-trading-nJ43NNNI-py3.7/lib/python3.7/site-packages/numpy/lib/nanfunctions.py:1546: RuntimeWarning: overflow encountered in multiply\n",
      "  sqr = np.multiply(arr, arr, out=arr)\n"
     ]
    },
    {
     "name": "stdout",
     "output_type": "stream",
     "text": [
      "Stocks cern_are\n",
      "Prediction = 0.26060394000000014\n",
      "Actual = 0.832264\n",
      "cern_are pct change 7-day corr of close from 2020-04-09 00:00:00 to 2020-04-17 00:00:00 is =  -0.7312618950390416\n"
     ]
    },
    {
     "name": "stderr",
     "output_type": "stream",
     "text": [
      "/Users/jonathanhilgart/Library/Caches/pypoetry/virtualenvs/daily-trading-nJ43NNNI-py3.7/lib/python3.7/site-packages/numpy/lib/nanfunctions.py:1546: RuntimeWarning: overflow encountered in multiply\n",
      "  sqr = np.multiply(arr, arr, out=arr)\n"
     ]
    },
    {
     "name": "stdout",
     "output_type": "stream",
     "text": [
      "Stocks cern_pg\n",
      "Prediction = 0.5930981099999998\n",
      "Actual = 0.774146\n",
      "cern_pg pct change 7-day corr of close from 2020-04-09 00:00:00 to 2020-04-17 00:00:00 is =  0.39653046664186387\n"
     ]
    },
    {
     "name": "stderr",
     "output_type": "stream",
     "text": [
      "/Users/jonathanhilgart/Library/Caches/pypoetry/virtualenvs/daily-trading-nJ43NNNI-py3.7/lib/python3.7/site-packages/numpy/lib/nanfunctions.py:1546: RuntimeWarning: overflow encountered in multiply\n",
      "  sqr = np.multiply(arr, arr, out=arr)\n"
     ]
    },
    {
     "name": "stdout",
     "output_type": "stream",
     "text": [
      "Stocks cern_pvh\n",
      "Prediction = -0.0020908600000000195\n",
      "Actual = -0.220218\n",
      "cern_pvh pct change 7-day corr of close from 2020-04-09 00:00:00 to 2020-04-17 00:00:00 is =  -1.0023072347854105\n"
     ]
    },
    {
     "name": "stderr",
     "output_type": "stream",
     "text": [
      "/Users/jonathanhilgart/Library/Caches/pypoetry/virtualenvs/daily-trading-nJ43NNNI-py3.7/lib/python3.7/site-packages/numpy/lib/nanfunctions.py:1546: RuntimeWarning: overflow encountered in multiply\n",
      "  sqr = np.multiply(arr, arr, out=arr)\n"
     ]
    },
    {
     "name": "stdout",
     "output_type": "stream",
     "text": [
      "Stocks cern_lb\n",
      "Prediction = 0.0014626600000000245\n",
      "Actual = -0.18419\n",
      "cern_lb pct change 7-day corr of close from 2020-04-09 00:00:00 to 2020-04-17 00:00:00 is =  -0.9984794100860481\n"
     ]
    },
    {
     "name": "stderr",
     "output_type": "stream",
     "text": [
      "/Users/jonathanhilgart/Library/Caches/pypoetry/virtualenvs/daily-trading-nJ43NNNI-py3.7/lib/python3.7/site-packages/numpy/lib/nanfunctions.py:1546: RuntimeWarning: overflow encountered in multiply\n",
      "  sqr = np.multiply(arr, arr, out=arr)\n"
     ]
    },
    {
     "name": "stdout",
     "output_type": "stream",
     "text": [
      "Stocks cern_peg\n",
      "Prediction = 0.46625487\n",
      "Actual = 0.856913\n",
      "cern_peg pct change 7-day corr of close from 2020-04-09 00:00:00 to 2020-04-17 00:00:00 is =  -0.5300835409510909\n"
     ]
    },
    {
     "name": "stderr",
     "output_type": "stream",
     "text": [
      "/Users/jonathanhilgart/Library/Caches/pypoetry/virtualenvs/daily-trading-nJ43NNNI-py3.7/lib/python3.7/site-packages/numpy/lib/nanfunctions.py:1546: RuntimeWarning: overflow encountered in multiply\n",
      "  sqr = np.multiply(arr, arr, out=arr)\n"
     ]
    },
    {
     "name": "stdout",
     "output_type": "stream",
     "text": [
      "Stocks cern_adbe\n",
      "Prediction = 0.3717905599999998\n",
      "Actual = 0.792037\n",
      "cern_adbe pct change 7-day corr of close from 2020-04-09 00:00:00 to 2020-04-17 00:00:00 is =  -0.5247942043360116\n"
     ]
    },
    {
     "name": "stderr",
     "output_type": "stream",
     "text": [
      "/Users/jonathanhilgart/Library/Caches/pypoetry/virtualenvs/daily-trading-nJ43NNNI-py3.7/lib/python3.7/site-packages/numpy/lib/nanfunctions.py:1546: RuntimeWarning: overflow encountered in multiply\n",
      "  sqr = np.multiply(arr, arr, out=arr)\n"
     ]
    },
    {
     "name": "stdout",
     "output_type": "stream",
     "text": [
      "Stocks cern_emr\n",
      "Prediction = 0.19288489000000003\n",
      "Actual = -0.364283\n",
      "cern_emr pct change 7-day corr of close from 2020-04-09 00:00:00 to 2020-04-17 00:00:00 is =  -0.7891853216022733\n"
     ]
    },
    {
     "name": "stderr",
     "output_type": "stream",
     "text": [
      "/Users/jonathanhilgart/Library/Caches/pypoetry/virtualenvs/daily-trading-nJ43NNNI-py3.7/lib/python3.7/site-packages/numpy/lib/nanfunctions.py:1546: RuntimeWarning: overflow encountered in multiply\n",
      "  sqr = np.multiply(arr, arr, out=arr)\n"
     ]
    },
    {
     "name": "stdout",
     "output_type": "stream",
     "text": [
      "Stocks cern_ce\n",
      "Prediction = 0.2738452900000002\n",
      "Actual = -0.386633\n",
      "cern_ce pct change 7-day corr of close from 2020-04-09 00:00:00 to 2020-04-17 00:00:00 is =  -0.7157122524572599\n"
     ]
    },
    {
     "name": "stderr",
     "output_type": "stream",
     "text": [
      "/Users/jonathanhilgart/Library/Caches/pypoetry/virtualenvs/daily-trading-nJ43NNNI-py3.7/lib/python3.7/site-packages/numpy/lib/nanfunctions.py:1546: RuntimeWarning: overflow encountered in multiply\n",
      "  sqr = np.multiply(arr, arr, out=arr)\n"
     ]
    },
    {
     "name": "stdout",
     "output_type": "stream",
     "text": [
      "Stocks cern_eqix\n",
      "Prediction = 0.7610669599999998\n",
      "Actual = 0.97438\n",
      "cern_eqix pct change 7-day corr of close from 2020-04-09 00:00:00 to 2020-04-17 00:00:00 is =  -0.18774384484604256\n"
     ]
    },
    {
     "name": "stderr",
     "output_type": "stream",
     "text": [
      "/Users/jonathanhilgart/Library/Caches/pypoetry/virtualenvs/daily-trading-nJ43NNNI-py3.7/lib/python3.7/site-packages/numpy/lib/nanfunctions.py:1546: RuntimeWarning: overflow encountered in multiply\n",
      "  sqr = np.multiply(arr, arr, out=arr)\n"
     ]
    },
    {
     "name": "stdout",
     "output_type": "stream",
     "text": [
      "Stocks cern_rost\n",
      "Prediction = 0.5135654200000005\n",
      "Actual = 0.662417\n",
      "cern_rost pct change 7-day corr of close from 2020-04-09 00:00:00 to 2020-04-17 00:00:00 is =  -0.3485036902849975\n"
     ]
    },
    {
     "name": "stderr",
     "output_type": "stream",
     "text": [
      "/Users/jonathanhilgart/Library/Caches/pypoetry/virtualenvs/daily-trading-nJ43NNNI-py3.7/lib/python3.7/site-packages/numpy/lib/nanfunctions.py:1546: RuntimeWarning: overflow encountered in multiply\n",
      "  sqr = np.multiply(arr, arr, out=arr)\n"
     ]
    },
    {
     "name": "stdout",
     "output_type": "stream",
     "text": [
      "Stocks cern_so\n",
      "Prediction = 0.4916000849999999\n",
      "Actual = -0.061179\n",
      "cern_so pct change 7-day corr of close from 2020-04-09 00:00:00 to 2020-04-17 00:00:00 is =  -0.49403194000018535\n"
     ]
    },
    {
     "name": "stderr",
     "output_type": "stream",
     "text": [
      "/Users/jonathanhilgart/Library/Caches/pypoetry/virtualenvs/daily-trading-nJ43NNNI-py3.7/lib/python3.7/site-packages/numpy/lib/nanfunctions.py:1546: RuntimeWarning: overflow encountered in multiply\n",
      "  sqr = np.multiply(arr, arr, out=arr)\n"
     ]
    },
    {
     "name": "stdout",
     "output_type": "stream",
     "text": [
      "Stocks peg_pnr\n",
      "Prediction = 0.4708831000000002\n",
      "Actual = 0.026944\n",
      "peg_pnr pct change 7-day corr of close from 2020-04-09 00:00:00 to 2020-04-17 00:00:00 is =  -0.4966939224865856\n"
     ]
    },
    {
     "name": "stderr",
     "output_type": "stream",
     "text": [
      "/Users/jonathanhilgart/Library/Caches/pypoetry/virtualenvs/daily-trading-nJ43NNNI-py3.7/lib/python3.7/site-packages/numpy/lib/nanfunctions.py:1546: RuntimeWarning: overflow encountered in multiply\n",
      "  sqr = np.multiply(arr, arr, out=arr)\n"
     ]
    },
    {
     "name": "stdout",
     "output_type": "stream",
     "text": [
      "Stocks peg_bac\n",
      "Prediction = 0.41643352199999994\n",
      "Actual = 0.173964\n",
      "peg_bac pct change 7-day corr of close from 2020-04-09 00:00:00 to 2020-04-17 00:00:00 is =  -0.5803642374963345\n"
     ]
    },
    {
     "name": "stderr",
     "output_type": "stream",
     "text": [
      "/Users/jonathanhilgart/Library/Caches/pypoetry/virtualenvs/daily-trading-nJ43NNNI-py3.7/lib/python3.7/site-packages/numpy/lib/nanfunctions.py:1546: RuntimeWarning: overflow encountered in multiply\n",
      "  sqr = np.multiply(arr, arr, out=arr)\n"
     ]
    },
    {
     "name": "stdout",
     "output_type": "stream",
     "text": [
      "Stocks peg_ni\n",
      "Prediction = 0.5549237133333335\n",
      "Actual = 0.809786\n",
      "peg_ni pct change 7-day corr of close from 2020-04-09 00:00:00 to 2020-04-17 00:00:00 is =  -0.4204718390660549\n"
     ]
    },
    {
     "name": "stderr",
     "output_type": "stream",
     "text": [
      "/Users/jonathanhilgart/Library/Caches/pypoetry/virtualenvs/daily-trading-nJ43NNNI-py3.7/lib/python3.7/site-packages/numpy/lib/nanfunctions.py:1546: RuntimeWarning: overflow encountered in multiply\n",
      "  sqr = np.multiply(arr, arr, out=arr)\n"
     ]
    },
    {
     "name": "stdout",
     "output_type": "stream",
     "text": [
      "Stocks peg_vno\n",
      "Prediction = 0.6340110733333333\n",
      "Actual = 0.526397\n",
      "peg_vno pct change 7-day corr of close from 2020-04-09 00:00:00 to 2020-04-17 00:00:00 is =  -0.3105277814026999\n"
     ]
    },
    {
     "name": "stderr",
     "output_type": "stream",
     "text": [
      "/Users/jonathanhilgart/Library/Caches/pypoetry/virtualenvs/daily-trading-nJ43NNNI-py3.7/lib/python3.7/site-packages/numpy/lib/nanfunctions.py:1546: RuntimeWarning: overflow encountered in multiply\n",
      "  sqr = np.multiply(arr, arr, out=arr)\n"
     ]
    },
    {
     "name": "stdout",
     "output_type": "stream",
     "text": [
      "Stocks peg_ual\n",
      "Prediction = 0.05059313499999998\n",
      "Actual = 0.341162\n",
      "peg_ual pct change 7-day corr of close from 2020-04-09 00:00:00 to 2020-04-17 00:00:00 is =  -0.9376318138167976\n"
     ]
    },
    {
     "name": "stderr",
     "output_type": "stream",
     "text": [
      "/Users/jonathanhilgart/Library/Caches/pypoetry/virtualenvs/daily-trading-nJ43NNNI-py3.7/lib/python3.7/site-packages/numpy/lib/nanfunctions.py:1546: RuntimeWarning: overflow encountered in multiply\n",
      "  sqr = np.multiply(arr, arr, out=arr)\n"
     ]
    },
    {
     "name": "stdout",
     "output_type": "stream",
     "text": [
      "Stocks peg_efx\n",
      "Prediction = 0.3252331219999997\n",
      "Actual = 0.802092\n",
      "peg_efx pct change 7-day corr of close from 2020-04-09 00:00:00 to 2020-04-17 00:00:00 is =  -0.6310114814991301\n"
     ]
    },
    {
     "name": "stderr",
     "output_type": "stream",
     "text": [
      "/Users/jonathanhilgart/Library/Caches/pypoetry/virtualenvs/daily-trading-nJ43NNNI-py3.7/lib/python3.7/site-packages/numpy/lib/nanfunctions.py:1546: RuntimeWarning: overflow encountered in multiply\n",
      "  sqr = np.multiply(arr, arr, out=arr)\n"
     ]
    },
    {
     "name": "stdout",
     "output_type": "stream",
     "text": [
      "Stocks peg_ph\n",
      "Prediction = 0.4011157199999998\n",
      "Actual = 0.191473\n",
      "peg_ph pct change 7-day corr of close from 2020-04-09 00:00:00 to 2020-04-17 00:00:00 is =  -0.5864172413224233\n"
     ]
    },
    {
     "name": "stderr",
     "output_type": "stream",
     "text": [
      "/Users/jonathanhilgart/Library/Caches/pypoetry/virtualenvs/daily-trading-nJ43NNNI-py3.7/lib/python3.7/site-packages/numpy/lib/nanfunctions.py:1546: RuntimeWarning: overflow encountered in multiply\n",
      "  sqr = np.multiply(arr, arr, out=arr)\n"
     ]
    },
    {
     "name": "stdout",
     "output_type": "stream",
     "text": [
      "Stocks peg_rop\n",
      "Prediction = 0.5205641999999998\n",
      "Actual = 0.556769\n",
      "peg_rop pct change 7-day corr of close from 2020-04-09 00:00:00 to 2020-04-17 00:00:00 is =  -0.42274087200289223\n"
     ]
    },
    {
     "name": "stderr",
     "output_type": "stream",
     "text": [
      "/Users/jonathanhilgart/Library/Caches/pypoetry/virtualenvs/daily-trading-nJ43NNNI-py3.7/lib/python3.7/site-packages/numpy/lib/nanfunctions.py:1546: RuntimeWarning: overflow encountered in multiply\n",
      "  sqr = np.multiply(arr, arr, out=arr)\n"
     ]
    },
    {
     "name": "stdout",
     "output_type": "stream",
     "text": [
      "Stocks peg_are\n",
      "Prediction = 0.3969185225000001\n",
      "Actual = 0.801512\n",
      "peg_are pct change 7-day corr of close from 2020-04-09 00:00:00 to 2020-04-17 00:00:00 is =  -0.5896409888063752\n"
     ]
    },
    {
     "name": "stderr",
     "output_type": "stream",
     "text": [
      "/Users/jonathanhilgart/Library/Caches/pypoetry/virtualenvs/daily-trading-nJ43NNNI-py3.7/lib/python3.7/site-packages/numpy/lib/nanfunctions.py:1546: RuntimeWarning: overflow encountered in multiply\n",
      "  sqr = np.multiply(arr, arr, out=arr)\n"
     ]
    },
    {
     "name": "stdout",
     "output_type": "stream",
     "text": [
      "Stocks peg_pg\n",
      "Prediction = 0.59934523\n",
      "Actual = 0.652681\n",
      "peg_pg pct change 7-day corr of close from 2020-04-09 00:00:00 to 2020-04-17 00:00:00 is =  0.4782332339368647\n"
     ]
    },
    {
     "name": "stderr",
     "output_type": "stream",
     "text": [
      "/Users/jonathanhilgart/Library/Caches/pypoetry/virtualenvs/daily-trading-nJ43NNNI-py3.7/lib/python3.7/site-packages/numpy/lib/nanfunctions.py:1546: RuntimeWarning: overflow encountered in multiply\n",
      "  sqr = np.multiply(arr, arr, out=arr)\n"
     ]
    },
    {
     "name": "stdout",
     "output_type": "stream",
     "text": [
      "Stocks peg_pvh\n",
      "Prediction = 0.24783206000000013\n",
      "Actual = 0.073381\n",
      "peg_pvh pct change 7-day corr of close from 2020-04-09 00:00:00 to 2020-04-17 00:00:00 is =  -0.7260640339203366\n"
     ]
    },
    {
     "name": "stderr",
     "output_type": "stream",
     "text": [
      "/Users/jonathanhilgart/Library/Caches/pypoetry/virtualenvs/daily-trading-nJ43NNNI-py3.7/lib/python3.7/site-packages/numpy/lib/nanfunctions.py:1546: RuntimeWarning: overflow encountered in multiply\n",
      "  sqr = np.multiply(arr, arr, out=arr)\n"
     ]
    },
    {
     "name": "stdout",
     "output_type": "stream",
     "text": [
      "Stocks peg_lb\n",
      "Prediction = 0.11354766000000005\n",
      "Actual = 0.087799\n",
      "peg_lb pct change 7-day corr of close from 2020-04-09 00:00:00 to 2020-04-17 00:00:00 is =  -0.8793865636730973\n"
     ]
    },
    {
     "name": "stderr",
     "output_type": "stream",
     "text": [
      "/Users/jonathanhilgart/Library/Caches/pypoetry/virtualenvs/daily-trading-nJ43NNNI-py3.7/lib/python3.7/site-packages/numpy/lib/nanfunctions.py:1546: RuntimeWarning: overflow encountered in multiply\n",
      "  sqr = np.multiply(arr, arr, out=arr)\n"
     ]
    },
    {
     "name": "stdout",
     "output_type": "stream",
     "text": [
      "Stocks peg_cern\n",
      "Prediction = 0.50713347\n",
      "Actual = 0.856913\n",
      "peg_cern pct change 7-day corr of close from 2020-04-09 00:00:00 to 2020-04-17 00:00:00 is =  -0.4888839134536307\n"
     ]
    },
    {
     "name": "stderr",
     "output_type": "stream",
     "text": [
      "/Users/jonathanhilgart/Library/Caches/pypoetry/virtualenvs/daily-trading-nJ43NNNI-py3.7/lib/python3.7/site-packages/numpy/lib/nanfunctions.py:1546: RuntimeWarning: overflow encountered in multiply\n",
      "  sqr = np.multiply(arr, arr, out=arr)\n"
     ]
    },
    {
     "name": "stdout",
     "output_type": "stream",
     "text": [
      "Stocks peg_adbe\n",
      "Prediction = 0.3686969133333335\n",
      "Actual = 0.653345\n",
      "peg_adbe pct change 7-day corr of close from 2020-04-09 00:00:00 to 2020-04-17 00:00:00 is =  -0.5361591170804407\n"
     ]
    },
    {
     "name": "stderr",
     "output_type": "stream",
     "text": [
      "/Users/jonathanhilgart/Library/Caches/pypoetry/virtualenvs/daily-trading-nJ43NNNI-py3.7/lib/python3.7/site-packages/numpy/lib/nanfunctions.py:1546: RuntimeWarning: overflow encountered in multiply\n",
      "  sqr = np.multiply(arr, arr, out=arr)\n"
     ]
    },
    {
     "name": "stdout",
     "output_type": "stream",
     "text": [
      "Stocks peg_emr\n",
      "Prediction = 0.44286274\n",
      "Actual = -0.012591\n",
      "peg_emr pct change 7-day corr of close from 2020-04-09 00:00:00 to 2020-04-17 00:00:00 is =  -0.5281385422526808\n"
     ]
    },
    {
     "name": "stderr",
     "output_type": "stream",
     "text": [
      "/Users/jonathanhilgart/Library/Caches/pypoetry/virtualenvs/daily-trading-nJ43NNNI-py3.7/lib/python3.7/site-packages/numpy/lib/nanfunctions.py:1546: RuntimeWarning: overflow encountered in multiply\n",
      "  sqr = np.multiply(arr, arr, out=arr)\n"
     ]
    },
    {
     "name": "stdout",
     "output_type": "stream",
     "text": [
      "Stocks peg_ce\n",
      "Prediction = 0.4601068500000002\n",
      "Actual = -0.024177\n",
      "peg_ce pct change 7-day corr of close from 2020-04-09 00:00:00 to 2020-04-17 00:00:00 is =  -0.5268172169738553\n"
     ]
    },
    {
     "name": "stderr",
     "output_type": "stream",
     "text": [
      "/Users/jonathanhilgart/Library/Caches/pypoetry/virtualenvs/daily-trading-nJ43NNNI-py3.7/lib/python3.7/site-packages/numpy/lib/nanfunctions.py:1546: RuntimeWarning: overflow encountered in multiply\n",
      "  sqr = np.multiply(arr, arr, out=arr)\n"
     ]
    },
    {
     "name": "stdout",
     "output_type": "stream",
     "text": [
      "Stocks peg_eqix\n",
      "Prediction = 0.7484048400000006\n",
      "Actual = 0.873556\n",
      "peg_eqix pct change 7-day corr of close from 2020-04-09 00:00:00 to 2020-04-17 00:00:00 is =  -0.1963213576969659\n"
     ]
    },
    {
     "name": "stderr",
     "output_type": "stream",
     "text": [
      "/Users/jonathanhilgart/Library/Caches/pypoetry/virtualenvs/daily-trading-nJ43NNNI-py3.7/lib/python3.7/site-packages/numpy/lib/nanfunctions.py:1546: RuntimeWarning: overflow encountered in multiply\n",
      "  sqr = np.multiply(arr, arr, out=arr)\n"
     ]
    },
    {
     "name": "stdout",
     "output_type": "stream",
     "text": [
      "Stocks peg_rost\n",
      "Prediction = 0.292211215\n",
      "Actual = 0.751005\n",
      "peg_rost pct change 7-day corr of close from 2020-04-09 00:00:00 to 2020-04-17 00:00:00 is =  -0.6353303927098828\n"
     ]
    },
    {
     "name": "stderr",
     "output_type": "stream",
     "text": [
      "/Users/jonathanhilgart/Library/Caches/pypoetry/virtualenvs/daily-trading-nJ43NNNI-py3.7/lib/python3.7/site-packages/numpy/lib/nanfunctions.py:1546: RuntimeWarning: overflow encountered in multiply\n",
      "  sqr = np.multiply(arr, arr, out=arr)\n"
     ]
    },
    {
     "name": "stdout",
     "output_type": "stream",
     "text": [
      "Stocks peg_so\n",
      "Prediction = 0.6785701766666663\n",
      "Actual = 0.219284\n",
      "peg_so pct change 7-day corr of close from 2020-04-09 00:00:00 to 2020-04-17 00:00:00 is =  -0.30829926834431387\n"
     ]
    },
    {
     "name": "stderr",
     "output_type": "stream",
     "text": [
      "/Users/jonathanhilgart/Library/Caches/pypoetry/virtualenvs/daily-trading-nJ43NNNI-py3.7/lib/python3.7/site-packages/numpy/lib/nanfunctions.py:1546: RuntimeWarning: overflow encountered in multiply\n",
      "  sqr = np.multiply(arr, arr, out=arr)\n"
     ]
    },
    {
     "name": "stdout",
     "output_type": "stream",
     "text": [
      "Stocks adbe_pnr\n",
      "Prediction = 0.5866346600000001\n",
      "Actual = -0.586485\n",
      "adbe_pnr pct change 7-day corr of close from 2020-04-09 00:00:00 to 2020-04-17 00:00:00 is =  -0.2988014109204091\n"
     ]
    },
    {
     "name": "stderr",
     "output_type": "stream",
     "text": [
      "/Users/jonathanhilgart/Library/Caches/pypoetry/virtualenvs/daily-trading-nJ43NNNI-py3.7/lib/python3.7/site-packages/numpy/lib/nanfunctions.py:1546: RuntimeWarning: overflow encountered in multiply\n",
      "  sqr = np.multiply(arr, arr, out=arr)\n"
     ]
    },
    {
     "name": "stdout",
     "output_type": "stream",
     "text": [
      "Stocks adbe_bac\n",
      "Prediction = 0.3119906899999999\n",
      "Actual = -0.581536\n",
      "adbe_bac pct change 7-day corr of close from 2020-04-09 00:00:00 to 2020-04-17 00:00:00 is =  -0.6065180092748492\n"
     ]
    },
    {
     "name": "stderr",
     "output_type": "stream",
     "text": [
      "/Users/jonathanhilgart/Library/Caches/pypoetry/virtualenvs/daily-trading-nJ43NNNI-py3.7/lib/python3.7/site-packages/numpy/lib/nanfunctions.py:1546: RuntimeWarning: overflow encountered in multiply\n",
      "  sqr = np.multiply(arr, arr, out=arr)\n"
     ]
    },
    {
     "name": "stdout",
     "output_type": "stream",
     "text": [
      "Stocks adbe_ni\n",
      "Prediction = 0.4566274800000001\n",
      "Actual = 0.3467\n",
      "adbe_ni pct change 7-day corr of close from 2020-04-09 00:00:00 to 2020-04-17 00:00:00 is =  -0.4922248354500478\n"
     ]
    },
    {
     "name": "stderr",
     "output_type": "stream",
     "text": [
      "/Users/jonathanhilgart/Library/Caches/pypoetry/virtualenvs/daily-trading-nJ43NNNI-py3.7/lib/python3.7/site-packages/numpy/lib/nanfunctions.py:1546: RuntimeWarning: overflow encountered in multiply\n",
      "  sqr = np.multiply(arr, arr, out=arr)\n"
     ]
    },
    {
     "name": "stdout",
     "output_type": "stream",
     "text": [
      "Stocks adbe_vno\n",
      "Prediction = 0.6363327700000002\n",
      "Actual = 0.048307\n",
      "adbe_vno pct change 7-day corr of close from 2020-04-09 00:00:00 to 2020-04-17 00:00:00 is =  -0.08296713954668045\n"
     ]
    },
    {
     "name": "stderr",
     "output_type": "stream",
     "text": [
      "/Users/jonathanhilgart/Library/Caches/pypoetry/virtualenvs/daily-trading-nJ43NNNI-py3.7/lib/python3.7/site-packages/numpy/lib/nanfunctions.py:1546: RuntimeWarning: overflow encountered in multiply\n",
      "  sqr = np.multiply(arr, arr, out=arr)\n"
     ]
    },
    {
     "name": "stdout",
     "output_type": "stream",
     "text": [
      "Stocks adbe_ual\n",
      "Prediction = 0.5709869300000002\n",
      "Actual = 0.047701\n",
      "adbe_ual pct change 7-day corr of close from 2020-04-09 00:00:00 to 2020-04-17 00:00:00 is =  -0.06722210423827346\n"
     ]
    },
    {
     "name": "stderr",
     "output_type": "stream",
     "text": [
      "/Users/jonathanhilgart/Library/Caches/pypoetry/virtualenvs/daily-trading-nJ43NNNI-py3.7/lib/python3.7/site-packages/numpy/lib/nanfunctions.py:1546: RuntimeWarning: overflow encountered in multiply\n",
      "  sqr = np.multiply(arr, arr, out=arr)\n"
     ]
    },
    {
     "name": "stdout",
     "output_type": "stream",
     "text": [
      "Stocks adbe_efx\n",
      "Prediction = 0.4237057399999998\n",
      "Actual = 0.569346\n",
      "adbe_efx pct change 7-day corr of close from 2020-04-09 00:00:00 to 2020-04-17 00:00:00 is =  -0.4752623157498437\n"
     ]
    },
    {
     "name": "stderr",
     "output_type": "stream",
     "text": [
      "/Users/jonathanhilgart/Library/Caches/pypoetry/virtualenvs/daily-trading-nJ43NNNI-py3.7/lib/python3.7/site-packages/numpy/lib/nanfunctions.py:1546: RuntimeWarning: overflow encountered in multiply\n",
      "  sqr = np.multiply(arr, arr, out=arr)\n"
     ]
    },
    {
     "name": "stdout",
     "output_type": "stream",
     "text": [
      "Stocks adbe_ph\n",
      "Prediction = 0.4626138200000001\n",
      "Actual = -0.512802\n",
      "adbe_ph pct change 7-day corr of close from 2020-04-09 00:00:00 to 2020-04-17 00:00:00 is =  -0.47521072053707036\n"
     ]
    },
    {
     "name": "stderr",
     "output_type": "stream",
     "text": [
      "/Users/jonathanhilgart/Library/Caches/pypoetry/virtualenvs/daily-trading-nJ43NNNI-py3.7/lib/python3.7/site-packages/numpy/lib/nanfunctions.py:1546: RuntimeWarning: overflow encountered in multiply\n",
      "  sqr = np.multiply(arr, arr, out=arr)\n"
     ]
    },
    {
     "name": "stdout",
     "output_type": "stream",
     "text": [
      "Stocks adbe_rop\n",
      "Prediction = 0.38968009142857146\n",
      "Actual = 0.11829\n",
      "adbe_rop pct change 7-day corr of close from 2020-04-09 00:00:00 to 2020-04-17 00:00:00 is =  -0.5558563492551962\n"
     ]
    },
    {
     "name": "stderr",
     "output_type": "stream",
     "text": [
      "/Users/jonathanhilgart/Library/Caches/pypoetry/virtualenvs/daily-trading-nJ43NNNI-py3.7/lib/python3.7/site-packages/numpy/lib/nanfunctions.py:1546: RuntimeWarning: overflow encountered in multiply\n",
      "  sqr = np.multiply(arr, arr, out=arr)\n"
     ]
    },
    {
     "name": "stdout",
     "output_type": "stream",
     "text": [
      "Stocks adbe_are\n",
      "Prediction = 0.4621396749999998\n",
      "Actual = 0.406721\n",
      "adbe_are pct change 7-day corr of close from 2020-04-09 00:00:00 to 2020-04-17 00:00:00 is =  -0.4110814793953561\n"
     ]
    },
    {
     "name": "stderr",
     "output_type": "stream",
     "text": [
      "/Users/jonathanhilgart/Library/Caches/pypoetry/virtualenvs/daily-trading-nJ43NNNI-py3.7/lib/python3.7/site-packages/numpy/lib/nanfunctions.py:1546: RuntimeWarning: overflow encountered in multiply\n",
      "  sqr = np.multiply(arr, arr, out=arr)\n"
     ]
    },
    {
     "name": "stdout",
     "output_type": "stream",
     "text": [
      "Stocks adbe_pg\n",
      "Prediction = 0.1906035300000001\n",
      "Actual = 0.952901\n",
      "adbe_pg pct change 7-day corr of close from 2020-04-09 00:00:00 to 2020-04-17 00:00:00 is =  -0.5906316741265107\n"
     ]
    },
    {
     "name": "stderr",
     "output_type": "stream",
     "text": [
      "/Users/jonathanhilgart/Library/Caches/pypoetry/virtualenvs/daily-trading-nJ43NNNI-py3.7/lib/python3.7/site-packages/numpy/lib/nanfunctions.py:1546: RuntimeWarning: overflow encountered in multiply\n",
      "  sqr = np.multiply(arr, arr, out=arr)\n"
     ]
    },
    {
     "name": "stdout",
     "output_type": "stream",
     "text": [
      "Stocks adbe_pvh\n",
      "Prediction = 0.42300836999999974\n",
      "Actual = -0.582842\n",
      "adbe_pvh pct change 7-day corr of close from 2020-04-09 00:00:00 to 2020-04-17 00:00:00 is =  -0.4754334470905117\n"
     ]
    },
    {
     "name": "stderr",
     "output_type": "stream",
     "text": [
      "/Users/jonathanhilgart/Library/Caches/pypoetry/virtualenvs/daily-trading-nJ43NNNI-py3.7/lib/python3.7/site-packages/numpy/lib/nanfunctions.py:1546: RuntimeWarning: overflow encountered in multiply\n",
      "  sqr = np.multiply(arr, arr, out=arr)\n"
     ]
    },
    {
     "name": "stdout",
     "output_type": "stream",
     "text": [
      "Stocks adbe_lb\n",
      "Prediction = 0.43687556\n",
      "Actual = -0.592419\n",
      "adbe_lb pct change 7-day corr of close from 2020-04-09 00:00:00 to 2020-04-17 00:00:00 is =  -0.42887380267917485\n"
     ]
    },
    {
     "name": "stderr",
     "output_type": "stream",
     "text": [
      "/Users/jonathanhilgart/Library/Caches/pypoetry/virtualenvs/daily-trading-nJ43NNNI-py3.7/lib/python3.7/site-packages/numpy/lib/nanfunctions.py:1546: RuntimeWarning: overflow encountered in multiply\n",
      "  sqr = np.multiply(arr, arr, out=arr)\n"
     ]
    },
    {
     "name": "stdout",
     "output_type": "stream",
     "text": [
      "Stocks adbe_cern\n",
      "Prediction = 0.4301686799999996\n",
      "Actual = 0.792037\n",
      "adbe_cern pct change 7-day corr of close from 2020-04-09 00:00:00 to 2020-04-17 00:00:00 is =  -0.4501779446763591\n"
     ]
    },
    {
     "name": "stderr",
     "output_type": "stream",
     "text": [
      "/Users/jonathanhilgart/Library/Caches/pypoetry/virtualenvs/daily-trading-nJ43NNNI-py3.7/lib/python3.7/site-packages/numpy/lib/nanfunctions.py:1546: RuntimeWarning: overflow encountered in multiply\n",
      "  sqr = np.multiply(arr, arr, out=arr)\n"
     ]
    },
    {
     "name": "stdout",
     "output_type": "stream",
     "text": [
      "Stocks adbe_peg\n",
      "Prediction = 0.36648524000000016\n",
      "Actual = 0.653345\n",
      "adbe_peg pct change 7-day corr of close from 2020-04-09 00:00:00 to 2020-04-17 00:00:00 is =  -0.5389415231016581\n"
     ]
    },
    {
     "name": "stderr",
     "output_type": "stream",
     "text": [
      "/Users/jonathanhilgart/Library/Caches/pypoetry/virtualenvs/daily-trading-nJ43NNNI-py3.7/lib/python3.7/site-packages/numpy/lib/nanfunctions.py:1546: RuntimeWarning: overflow encountered in multiply\n",
      "  sqr = np.multiply(arr, arr, out=arr)\n"
     ]
    },
    {
     "name": "stdout",
     "output_type": "stream",
     "text": [
      "Stocks adbe_emr\n",
      "Prediction = 0.40262264800000014\n",
      "Actual = -0.643379\n",
      "adbe_emr pct change 7-day corr of close from 2020-04-09 00:00:00 to 2020-04-17 00:00:00 is =  -0.5423957429058848\n"
     ]
    },
    {
     "name": "stderr",
     "output_type": "stream",
     "text": [
      "/Users/jonathanhilgart/Library/Caches/pypoetry/virtualenvs/daily-trading-nJ43NNNI-py3.7/lib/python3.7/site-packages/numpy/lib/nanfunctions.py:1546: RuntimeWarning: overflow encountered in multiply\n",
      "  sqr = np.multiply(arr, arr, out=arr)\n"
     ]
    },
    {
     "name": "stdout",
     "output_type": "stream",
     "text": [
      "Stocks adbe_ce\n",
      "Prediction = 0.556766795\n",
      "Actual = -0.679662\n",
      "adbe_ce pct change 7-day corr of close from 2020-04-09 00:00:00 to 2020-04-17 00:00:00 is =  -0.3071368722731198\n"
     ]
    },
    {
     "name": "stderr",
     "output_type": "stream",
     "text": [
      "/Users/jonathanhilgart/Library/Caches/pypoetry/virtualenvs/daily-trading-nJ43NNNI-py3.7/lib/python3.7/site-packages/numpy/lib/nanfunctions.py:1546: RuntimeWarning: overflow encountered in multiply\n",
      "  sqr = np.multiply(arr, arr, out=arr)\n"
     ]
    },
    {
     "name": "stdout",
     "output_type": "stream",
     "text": [
      "Stocks adbe_eqix\n",
      "Prediction = 0.5222577100000003\n",
      "Actual = 0.686086\n",
      "adbe_eqix pct change 7-day corr of close from 2020-04-09 00:00:00 to 2020-04-17 00:00:00 is =  -0.33769531517501794\n"
     ]
    },
    {
     "name": "stderr",
     "output_type": "stream",
     "text": [
      "/Users/jonathanhilgart/Library/Caches/pypoetry/virtualenvs/daily-trading-nJ43NNNI-py3.7/lib/python3.7/site-packages/numpy/lib/nanfunctions.py:1546: RuntimeWarning: overflow encountered in multiply\n",
      "  sqr = np.multiply(arr, arr, out=arr)\n"
     ]
    },
    {
     "name": "stdout",
     "output_type": "stream",
     "text": [
      "Stocks adbe_rost\n",
      "Prediction = 0.4421558000000003\n",
      "Actual = 0.443394\n",
      "adbe_rost pct change 7-day corr of close from 2020-04-09 00:00:00 to 2020-04-17 00:00:00 is =  -0.5424584503085245\n"
     ]
    },
    {
     "name": "stderr",
     "output_type": "stream",
     "text": [
      "/Users/jonathanhilgart/Library/Caches/pypoetry/virtualenvs/daily-trading-nJ43NNNI-py3.7/lib/python3.7/site-packages/numpy/lib/nanfunctions.py:1546: RuntimeWarning: overflow encountered in multiply\n",
      "  sqr = np.multiply(arr, arr, out=arr)\n"
     ]
    },
    {
     "name": "stdout",
     "output_type": "stream",
     "text": [
      "Stocks adbe_so\n",
      "Prediction = 0.6540912099999994\n",
      "Actual = -0.486905\n",
      "adbe_so pct change 7-day corr of close from 2020-04-09 00:00:00 to 2020-04-17 00:00:00 is =  -0.26820701036002836\n"
     ]
    },
    {
     "name": "stderr",
     "output_type": "stream",
     "text": [
      "/Users/jonathanhilgart/Library/Caches/pypoetry/virtualenvs/daily-trading-nJ43NNNI-py3.7/lib/python3.7/site-packages/numpy/lib/nanfunctions.py:1546: RuntimeWarning: overflow encountered in multiply\n",
      "  sqr = np.multiply(arr, arr, out=arr)\n"
     ]
    },
    {
     "name": "stdout",
     "output_type": "stream",
     "text": [
      "Stocks emr_pnr\n",
      "Prediction = 0.5940765166666668\n",
      "Actual = 0.881648\n",
      "emr_pnr pct change 7-day corr of close from 2020-04-09 00:00:00 to 2020-04-17 00:00:00 is =  -0.3761816981563326\n"
     ]
    },
    {
     "name": "stderr",
     "output_type": "stream",
     "text": [
      "/Users/jonathanhilgart/Library/Caches/pypoetry/virtualenvs/daily-trading-nJ43NNNI-py3.7/lib/python3.7/site-packages/numpy/lib/nanfunctions.py:1546: RuntimeWarning: overflow encountered in multiply\n",
      "  sqr = np.multiply(arr, arr, out=arr)\n"
     ]
    },
    {
     "name": "stdout",
     "output_type": "stream",
     "text": [
      "Stocks emr_bac\n",
      "Prediction = 0.5802972240000003\n",
      "Actual = 0.897132\n",
      "emr_bac pct change 7-day corr of close from 2020-04-09 00:00:00 to 2020-04-17 00:00:00 is =  -0.37877591184849013\n"
     ]
    },
    {
     "name": "stderr",
     "output_type": "stream",
     "text": [
      "/Users/jonathanhilgart/Library/Caches/pypoetry/virtualenvs/daily-trading-nJ43NNNI-py3.7/lib/python3.7/site-packages/numpy/lib/nanfunctions.py:1546: RuntimeWarning: overflow encountered in multiply\n",
      "  sqr = np.multiply(arr, arr, out=arr)\n"
     ]
    },
    {
     "name": "stdout",
     "output_type": "stream",
     "text": [
      "Stocks emr_ni\n",
      "Prediction = 0.3079748100000002\n",
      "Actual = 0.247445\n",
      "emr_ni pct change 7-day corr of close from 2020-04-09 00:00:00 to 2020-04-17 00:00:00 is =  -0.6653382587690175\n"
     ]
    },
    {
     "name": "stderr",
     "output_type": "stream",
     "text": [
      "/Users/jonathanhilgart/Library/Caches/pypoetry/virtualenvs/daily-trading-nJ43NNNI-py3.7/lib/python3.7/site-packages/numpy/lib/nanfunctions.py:1546: RuntimeWarning: overflow encountered in multiply\n",
      "  sqr = np.multiply(arr, arr, out=arr)\n"
     ]
    },
    {
     "name": "stdout",
     "output_type": "stream",
     "text": [
      "Stocks emr_vno\n",
      "Prediction = 0.52129678\n",
      "Actual = 0.251679\n",
      "emr_vno pct change 7-day corr of close from 2020-04-09 00:00:00 to 2020-04-17 00:00:00 is =  -0.38714227604044205\n"
     ]
    },
    {
     "name": "stderr",
     "output_type": "stream",
     "text": [
      "/Users/jonathanhilgart/Library/Caches/pypoetry/virtualenvs/daily-trading-nJ43NNNI-py3.7/lib/python3.7/site-packages/numpy/lib/nanfunctions.py:1546: RuntimeWarning: overflow encountered in multiply\n",
      "  sqr = np.multiply(arr, arr, out=arr)\n"
     ]
    },
    {
     "name": "stdout",
     "output_type": "stream",
     "text": [
      "Stocks emr_ual\n",
      "Prediction = 0.29127696999999997\n",
      "Actual = -0.142493\n",
      "emr_ual pct change 7-day corr of close from 2020-04-09 00:00:00 to 2020-04-17 00:00:00 is =  -0.5600105587688384\n"
     ]
    },
    {
     "name": "stderr",
     "output_type": "stream",
     "text": [
      "/Users/jonathanhilgart/Library/Caches/pypoetry/virtualenvs/daily-trading-nJ43NNNI-py3.7/lib/python3.7/site-packages/numpy/lib/nanfunctions.py:1546: RuntimeWarning: overflow encountered in multiply\n",
      "  sqr = np.multiply(arr, arr, out=arr)\n"
     ]
    },
    {
     "name": "stdout",
     "output_type": "stream",
     "text": [
      "Stocks emr_efx\n",
      "Prediction = 0.38282055000000015\n",
      "Actual = 0.09733\n",
      "emr_efx pct change 7-day corr of close from 2020-04-09 00:00:00 to 2020-04-17 00:00:00 is =  -0.5627146900786795\n"
     ]
    },
    {
     "name": "stderr",
     "output_type": "stream",
     "text": [
      "/Users/jonathanhilgart/Library/Caches/pypoetry/virtualenvs/daily-trading-nJ43NNNI-py3.7/lib/python3.7/site-packages/numpy/lib/nanfunctions.py:1546: RuntimeWarning: overflow encountered in multiply\n",
      "  sqr = np.multiply(arr, arr, out=arr)\n"
     ]
    },
    {
     "name": "stdout",
     "output_type": "stream",
     "text": [
      "Stocks emr_ph\n",
      "Prediction = 0.6849678899999999\n",
      "Actual = 0.935726\n",
      "emr_ph pct change 7-day corr of close from 2020-04-09 00:00:00 to 2020-04-17 00:00:00 is =  -0.29570049724847625\n"
     ]
    },
    {
     "name": "stderr",
     "output_type": "stream",
     "text": [
      "/Users/jonathanhilgart/Library/Caches/pypoetry/virtualenvs/daily-trading-nJ43NNNI-py3.7/lib/python3.7/site-packages/numpy/lib/nanfunctions.py:1546: RuntimeWarning: overflow encountered in multiply\n",
      "  sqr = np.multiply(arr, arr, out=arr)\n"
     ]
    },
    {
     "name": "stdout",
     "output_type": "stream",
     "text": [
      "Stocks emr_rop\n",
      "Prediction = 0.4099558960000001\n",
      "Actual = 0.594047\n",
      "emr_rop pct change 7-day corr of close from 2020-04-09 00:00:00 to 2020-04-17 00:00:00 is =  -0.5664118134820242\n"
     ]
    },
    {
     "name": "stderr",
     "output_type": "stream",
     "text": [
      "/Users/jonathanhilgart/Library/Caches/pypoetry/virtualenvs/daily-trading-nJ43NNNI-py3.7/lib/python3.7/site-packages/numpy/lib/nanfunctions.py:1546: RuntimeWarning: overflow encountered in multiply\n",
      "  sqr = np.multiply(arr, arr, out=arr)\n"
     ]
    },
    {
     "name": "stdout",
     "output_type": "stream",
     "text": [
      "Stocks emr_are\n",
      "Prediction = 0.3992530774999999\n",
      "Actual = -0.049702\n",
      "emr_are pct change 7-day corr of close from 2020-04-09 00:00:00 to 2020-04-17 00:00:00 is =  -0.5412861381588396\n"
     ]
    },
    {
     "name": "stderr",
     "output_type": "stream",
     "text": [
      "/Users/jonathanhilgart/Library/Caches/pypoetry/virtualenvs/daily-trading-nJ43NNNI-py3.7/lib/python3.7/site-packages/numpy/lib/nanfunctions.py:1546: RuntimeWarning: overflow encountered in multiply\n",
      "  sqr = np.multiply(arr, arr, out=arr)\n"
     ]
    },
    {
     "name": "stdout",
     "output_type": "stream",
     "text": [
      "Stocks emr_pg\n",
      "Prediction = 0.04347784\n",
      "Actual = -0.624578\n",
      "emr_pg pct change 7-day corr of close from 2020-04-09 00:00:00 to 2020-04-17 00:00:00 is =  -0.8909843489075326\n"
     ]
    },
    {
     "name": "stderr",
     "output_type": "stream",
     "text": [
      "/Users/jonathanhilgart/Library/Caches/pypoetry/virtualenvs/daily-trading-nJ43NNNI-py3.7/lib/python3.7/site-packages/numpy/lib/nanfunctions.py:1546: RuntimeWarning: overflow encountered in multiply\n",
      "  sqr = np.multiply(arr, arr, out=arr)\n"
     ]
    },
    {
     "name": "stdout",
     "output_type": "stream",
     "text": [
      "Stocks emr_pvh\n",
      "Prediction = 0.5538206083333338\n",
      "Actual = 0.924341\n",
      "emr_pvh pct change 7-day corr of close from 2020-04-09 00:00:00 to 2020-04-17 00:00:00 is =  -0.4169075685136183\n"
     ]
    },
    {
     "name": "stderr",
     "output_type": "stream",
     "text": [
      "/Users/jonathanhilgart/Library/Caches/pypoetry/virtualenvs/daily-trading-nJ43NNNI-py3.7/lib/python3.7/site-packages/numpy/lib/nanfunctions.py:1546: RuntimeWarning: overflow encountered in multiply\n",
      "  sqr = np.multiply(arr, arr, out=arr)\n"
     ]
    },
    {
     "name": "stdout",
     "output_type": "stream",
     "text": [
      "Stocks emr_lb\n",
      "Prediction = 0.45605074266666656\n",
      "Actual = 0.955543\n",
      "emr_lb pct change 7-day corr of close from 2020-04-09 00:00:00 to 2020-04-17 00:00:00 is =  -0.5016955297811239\n"
     ]
    },
    {
     "name": "stderr",
     "output_type": "stream",
     "text": [
      "/Users/jonathanhilgart/Library/Caches/pypoetry/virtualenvs/daily-trading-nJ43NNNI-py3.7/lib/python3.7/site-packages/numpy/lib/nanfunctions.py:1546: RuntimeWarning: overflow encountered in multiply\n",
      "  sqr = np.multiply(arr, arr, out=arr)\n"
     ]
    },
    {
     "name": "stdout",
     "output_type": "stream",
     "text": [
      "Stocks emr_cern\n",
      "Prediction = 0.15890997000000004\n",
      "Actual = -0.364283\n",
      "emr_cern pct change 7-day corr of close from 2020-04-09 00:00:00 to 2020-04-17 00:00:00 is =  -0.8263184108421224\n"
     ]
    },
    {
     "name": "stderr",
     "output_type": "stream",
     "text": [
      "/Users/jonathanhilgart/Library/Caches/pypoetry/virtualenvs/daily-trading-nJ43NNNI-py3.7/lib/python3.7/site-packages/numpy/lib/nanfunctions.py:1546: RuntimeWarning: overflow encountered in multiply\n",
      "  sqr = np.multiply(arr, arr, out=arr)\n"
     ]
    },
    {
     "name": "stdout",
     "output_type": "stream",
     "text": [
      "Stocks emr_peg\n",
      "Prediction = 0.4805949799999999\n",
      "Actual = -0.012591\n",
      "emr_peg pct change 7-day corr of close from 2020-04-09 00:00:00 to 2020-04-17 00:00:00 is =  -0.4879355895940948\n"
     ]
    },
    {
     "name": "stderr",
     "output_type": "stream",
     "text": [
      "/Users/jonathanhilgart/Library/Caches/pypoetry/virtualenvs/daily-trading-nJ43NNNI-py3.7/lib/python3.7/site-packages/numpy/lib/nanfunctions.py:1546: RuntimeWarning: overflow encountered in multiply\n",
      "  sqr = np.multiply(arr, arr, out=arr)\n"
     ]
    },
    {
     "name": "stdout",
     "output_type": "stream",
     "text": [
      "Stocks emr_adbe\n",
      "Prediction = 0.37674522999999993\n",
      "Actual = -0.643379\n",
      "emr_adbe pct change 7-day corr of close from 2020-04-09 00:00:00 to 2020-04-17 00:00:00 is =  -0.5718069464192153\n"
     ]
    },
    {
     "name": "stderr",
     "output_type": "stream",
     "text": [
      "/Users/jonathanhilgart/Library/Caches/pypoetry/virtualenvs/daily-trading-nJ43NNNI-py3.7/lib/python3.7/site-packages/numpy/lib/nanfunctions.py:1546: RuntimeWarning: overflow encountered in multiply\n",
      "  sqr = np.multiply(arr, arr, out=arr)\n"
     ]
    },
    {
     "name": "stdout",
     "output_type": "stream",
     "text": [
      "Stocks emr_ce\n",
      "Prediction = 0.5286316899999999\n",
      "Actual = 0.948461\n",
      "emr_ce pct change 7-day corr of close from 2020-04-09 00:00:00 to 2020-04-17 00:00:00 is =  -0.44198962158693045\n"
     ]
    },
    {
     "name": "stderr",
     "output_type": "stream",
     "text": [
      "/Users/jonathanhilgart/Library/Caches/pypoetry/virtualenvs/daily-trading-nJ43NNNI-py3.7/lib/python3.7/site-packages/numpy/lib/nanfunctions.py:1546: RuntimeWarning: overflow encountered in multiply\n",
      "  sqr = np.multiply(arr, arr, out=arr)\n"
     ]
    },
    {
     "name": "stdout",
     "output_type": "stream",
     "text": [
      "Stocks emr_eqix\n",
      "Prediction = 0.17776397000000002\n",
      "Actual = -0.20585\n",
      "emr_eqix pct change 7-day corr of close from 2020-04-09 00:00:00 to 2020-04-17 00:00:00 is =  -0.7852485243414201\n"
     ]
    },
    {
     "name": "stderr",
     "output_type": "stream",
     "text": [
      "/Users/jonathanhilgart/Library/Caches/pypoetry/virtualenvs/daily-trading-nJ43NNNI-py3.7/lib/python3.7/site-packages/numpy/lib/nanfunctions.py:1546: RuntimeWarning: overflow encountered in multiply\n",
      "  sqr = np.multiply(arr, arr, out=arr)\n"
     ]
    },
    {
     "name": "stdout",
     "output_type": "stream",
     "text": [
      "Stocks emr_rost\n",
      "Prediction = 0.4423783250000002\n",
      "Actual = 0.271202\n",
      "emr_rost pct change 7-day corr of close from 2020-04-09 00:00:00 to 2020-04-17 00:00:00 is =  -0.5069944411568366\n"
     ]
    },
    {
     "name": "stderr",
     "output_type": "stream",
     "text": [
      "/Users/jonathanhilgart/Library/Caches/pypoetry/virtualenvs/daily-trading-nJ43NNNI-py3.7/lib/python3.7/site-packages/numpy/lib/nanfunctions.py:1546: RuntimeWarning: overflow encountered in multiply\n",
      "  sqr = np.multiply(arr, arr, out=arr)\n"
     ]
    },
    {
     "name": "stdout",
     "output_type": "stream",
     "text": [
      "Stocks emr_so\n",
      "Prediction = 0.47214035000000004\n",
      "Actual = 0.849982\n",
      "emr_so pct change 7-day corr of close from 2020-04-09 00:00:00 to 2020-04-17 00:00:00 is =  -0.511457317994342\n"
     ]
    },
    {
     "name": "stderr",
     "output_type": "stream",
     "text": [
      "/Users/jonathanhilgart/Library/Caches/pypoetry/virtualenvs/daily-trading-nJ43NNNI-py3.7/lib/python3.7/site-packages/numpy/lib/nanfunctions.py:1546: RuntimeWarning: overflow encountered in multiply\n",
      "  sqr = np.multiply(arr, arr, out=arr)\n"
     ]
    },
    {
     "name": "stdout",
     "output_type": "stream",
     "text": [
      "Stocks ce_pnr\n",
      "Prediction = 0.6704057396666662\n",
      "Actual = 0.886964\n",
      "ce_pnr pct change 7-day corr of close from 2020-04-09 00:00:00 to 2020-04-17 00:00:00 is =  -0.2915602557857008\n"
     ]
    },
    {
     "name": "stderr",
     "output_type": "stream",
     "text": [
      "/Users/jonathanhilgart/Library/Caches/pypoetry/virtualenvs/daily-trading-nJ43NNNI-py3.7/lib/python3.7/site-packages/numpy/lib/nanfunctions.py:1546: RuntimeWarning: overflow encountered in multiply\n",
      "  sqr = np.multiply(arr, arr, out=arr)\n"
     ]
    },
    {
     "name": "stdout",
     "output_type": "stream",
     "text": [
      "Stocks ce_bac\n",
      "Prediction = 0.4583154899999999\n",
      "Actual = 0.965718\n",
      "ce_bac pct change 7-day corr of close from 2020-04-09 00:00:00 to 2020-04-17 00:00:00 is =  -0.5345018739145009\n"
     ]
    },
    {
     "name": "stderr",
     "output_type": "stream",
     "text": [
      "/Users/jonathanhilgart/Library/Caches/pypoetry/virtualenvs/daily-trading-nJ43NNNI-py3.7/lib/python3.7/site-packages/numpy/lib/nanfunctions.py:1546: RuntimeWarning: overflow encountered in multiply\n",
      "  sqr = np.multiply(arr, arr, out=arr)\n"
     ]
    },
    {
     "name": "stdout",
     "output_type": "stream",
     "text": [
      "Stocks ce_ni\n",
      "Prediction = 0.45559930333333326\n",
      "Actual = 0.311814\n",
      "ce_ni pct change 7-day corr of close from 2020-04-09 00:00:00 to 2020-04-17 00:00:00 is =  -0.5214690132506512\n"
     ]
    },
    {
     "name": "stderr",
     "output_type": "stream",
     "text": [
      "/Users/jonathanhilgart/Library/Caches/pypoetry/virtualenvs/daily-trading-nJ43NNNI-py3.7/lib/python3.7/site-packages/numpy/lib/nanfunctions.py:1546: RuntimeWarning: overflow encountered in multiply\n",
      "  sqr = np.multiply(arr, arr, out=arr)\n"
     ]
    },
    {
     "name": "stdout",
     "output_type": "stream",
     "text": [
      "Stocks ce_vno\n",
      "Prediction = 0.74713893\n",
      "Actual = 0.481363\n",
      "ce_vno pct change 7-day corr of close from 2020-04-09 00:00:00 to 2020-04-17 00:00:00 is =  -0.23047402019552832\n"
     ]
    },
    {
     "name": "stderr",
     "output_type": "stream",
     "text": [
      "/Users/jonathanhilgart/Library/Caches/pypoetry/virtualenvs/daily-trading-nJ43NNNI-py3.7/lib/python3.7/site-packages/numpy/lib/nanfunctions.py:1546: RuntimeWarning: overflow encountered in multiply\n",
      "  sqr = np.multiply(arr, arr, out=arr)\n"
     ]
    },
    {
     "name": "stdout",
     "output_type": "stream",
     "text": [
      "Stocks ce_ual\n",
      "Prediction = 0.5413288039999997\n",
      "Actual = 0.113703\n",
      "ce_ual pct change 7-day corr of close from 2020-04-09 00:00:00 to 2020-04-17 00:00:00 is =  -0.35994305179656927\n"
     ]
    },
    {
     "name": "stderr",
     "output_type": "stream",
     "text": [
      "/Users/jonathanhilgart/Library/Caches/pypoetry/virtualenvs/daily-trading-nJ43NNNI-py3.7/lib/python3.7/site-packages/numpy/lib/nanfunctions.py:1546: RuntimeWarning: overflow encountered in multiply\n",
      "  sqr = np.multiply(arr, arr, out=arr)\n"
     ]
    },
    {
     "name": "stdout",
     "output_type": "stream",
     "text": [
      "Stocks ce_efx\n",
      "Prediction = 0.6766747399999999\n",
      "Actual = 0.131298\n",
      "ce_efx pct change 7-day corr of close from 2020-04-09 00:00:00 to 2020-04-17 00:00:00 is =  -0.2942843555137462\n"
     ]
    },
    {
     "name": "stderr",
     "output_type": "stream",
     "text": [
      "/Users/jonathanhilgart/Library/Caches/pypoetry/virtualenvs/daily-trading-nJ43NNNI-py3.7/lib/python3.7/site-packages/numpy/lib/nanfunctions.py:1546: RuntimeWarning: overflow encountered in multiply\n",
      "  sqr = np.multiply(arr, arr, out=arr)\n"
     ]
    },
    {
     "name": "stdout",
     "output_type": "stream",
     "text": [
      "Stocks ce_ph\n",
      "Prediction = 0.5192392749999999\n",
      "Actual = 0.963489\n",
      "ce_ph pct change 7-day corr of close from 2020-04-09 00:00:00 to 2020-04-17 00:00:00 is =  -0.4713782169730548\n"
     ]
    },
    {
     "name": "stderr",
     "output_type": "stream",
     "text": [
      "/Users/jonathanhilgart/Library/Caches/pypoetry/virtualenvs/daily-trading-nJ43NNNI-py3.7/lib/python3.7/site-packages/numpy/lib/nanfunctions.py:1546: RuntimeWarning: overflow encountered in multiply\n",
      "  sqr = np.multiply(arr, arr, out=arr)\n"
     ]
    },
    {
     "name": "stdout",
     "output_type": "stream",
     "text": [
      "Stocks ce_rop\n",
      "Prediction = 0.5703150200000002\n",
      "Actual = 0.492889\n",
      "ce_rop pct change 7-day corr of close from 2020-04-09 00:00:00 to 2020-04-17 00:00:00 is =  -0.3309828767565193\n"
     ]
    },
    {
     "name": "stderr",
     "output_type": "stream",
     "text": [
      "/Users/jonathanhilgart/Library/Caches/pypoetry/virtualenvs/daily-trading-nJ43NNNI-py3.7/lib/python3.7/site-packages/numpy/lib/nanfunctions.py:1546: RuntimeWarning: overflow encountered in multiply\n",
      "  sqr = np.multiply(arr, arr, out=arr)\n"
     ]
    },
    {
     "name": "stdout",
     "output_type": "stream",
     "text": [
      "Stocks ce_are\n",
      "Prediction = 0.6140882533333333\n",
      "Actual = 0.039492\n",
      "ce_are pct change 7-day corr of close from 2020-04-09 00:00:00 to 2020-04-17 00:00:00 is =  -0.3634333034791215\n"
     ]
    },
    {
     "name": "stderr",
     "output_type": "stream",
     "text": [
      "/Users/jonathanhilgart/Library/Caches/pypoetry/virtualenvs/daily-trading-nJ43NNNI-py3.7/lib/python3.7/site-packages/numpy/lib/nanfunctions.py:1546: RuntimeWarning: overflow encountered in multiply\n",
      "  sqr = np.multiply(arr, arr, out=arr)\n"
     ]
    },
    {
     "name": "stdout",
     "output_type": "stream",
     "text": [
      "Stocks ce_pg\n",
      "Prediction = 0.03120115\n",
      "Actual = -0.689709\n",
      "ce_pg pct change 7-day corr of close from 2020-04-09 00:00:00 to 2020-04-17 00:00:00 is =  -0.8690891964806431\n"
     ]
    },
    {
     "name": "stderr",
     "output_type": "stream",
     "text": [
      "/Users/jonathanhilgart/Library/Caches/pypoetry/virtualenvs/daily-trading-nJ43NNNI-py3.7/lib/python3.7/site-packages/numpy/lib/nanfunctions.py:1546: RuntimeWarning: overflow encountered in multiply\n",
      "  sqr = np.multiply(arr, arr, out=arr)\n"
     ]
    },
    {
     "name": "stdout",
     "output_type": "stream",
     "text": [
      "Stocks ce_pvh\n",
      "Prediction = 0.49541356999999986\n",
      "Actual = 0.972202\n",
      "ce_pvh pct change 7-day corr of close from 2020-04-09 00:00:00 to 2020-04-17 00:00:00 is =  -0.4822615479474962\n"
     ]
    },
    {
     "name": "stderr",
     "output_type": "stream",
     "text": [
      "/Users/jonathanhilgart/Library/Caches/pypoetry/virtualenvs/daily-trading-nJ43NNNI-py3.7/lib/python3.7/site-packages/numpy/lib/nanfunctions.py:1546: RuntimeWarning: overflow encountered in multiply\n",
      "  sqr = np.multiply(arr, arr, out=arr)\n"
     ]
    },
    {
     "name": "stdout",
     "output_type": "stream",
     "text": [
      "Stocks ce_lb\n",
      "Prediction = 0.2812985800000001\n",
      "Actual = 0.941665\n",
      "ce_lb pct change 7-day corr of close from 2020-04-09 00:00:00 to 2020-04-17 00:00:00 is =  -0.705204811903372\n"
     ]
    },
    {
     "name": "stderr",
     "output_type": "stream",
     "text": [
      "/Users/jonathanhilgart/Library/Caches/pypoetry/virtualenvs/daily-trading-nJ43NNNI-py3.7/lib/python3.7/site-packages/numpy/lib/nanfunctions.py:1546: RuntimeWarning: overflow encountered in multiply\n",
      "  sqr = np.multiply(arr, arr, out=arr)\n"
     ]
    },
    {
     "name": "stdout",
     "output_type": "stream",
     "text": [
      "Stocks ce_cern\n",
      "Prediction = 0.2858354550000001\n",
      "Actual = -0.386633\n",
      "ce_cern pct change 7-day corr of close from 2020-04-09 00:00:00 to 2020-04-17 00:00:00 is =  -0.7032648702126509\n"
     ]
    },
    {
     "name": "stderr",
     "output_type": "stream",
     "text": [
      "/Users/jonathanhilgart/Library/Caches/pypoetry/virtualenvs/daily-trading-nJ43NNNI-py3.7/lib/python3.7/site-packages/numpy/lib/nanfunctions.py:1546: RuntimeWarning: overflow encountered in multiply\n",
      "  sqr = np.multiply(arr, arr, out=arr)\n"
     ]
    },
    {
     "name": "stdout",
     "output_type": "stream",
     "text": [
      "Stocks ce_peg\n",
      "Prediction = 0.42727866000000003\n",
      "Actual = -0.024177\n",
      "ce_peg pct change 7-day corr of close from 2020-04-09 00:00:00 to 2020-04-17 00:00:00 is =  -0.5605783624684532\n"
     ]
    },
    {
     "name": "stderr",
     "output_type": "stream",
     "text": [
      "/Users/jonathanhilgart/Library/Caches/pypoetry/virtualenvs/daily-trading-nJ43NNNI-py3.7/lib/python3.7/site-packages/numpy/lib/nanfunctions.py:1546: RuntimeWarning: overflow encountered in multiply\n",
      "  sqr = np.multiply(arr, arr, out=arr)\n"
     ]
    },
    {
     "name": "stdout",
     "output_type": "stream",
     "text": [
      "Stocks ce_adbe\n",
      "Prediction = 0.5359963800000002\n",
      "Actual = -0.679662\n",
      "ce_adbe pct change 7-day corr of close from 2020-04-09 00:00:00 to 2020-04-17 00:00:00 is =  -0.3329844171165317\n"
     ]
    },
    {
     "name": "stderr",
     "output_type": "stream",
     "text": [
      "/Users/jonathanhilgart/Library/Caches/pypoetry/virtualenvs/daily-trading-nJ43NNNI-py3.7/lib/python3.7/site-packages/numpy/lib/nanfunctions.py:1546: RuntimeWarning: overflow encountered in multiply\n",
      "  sqr = np.multiply(arr, arr, out=arr)\n"
     ]
    },
    {
     "name": "stdout",
     "output_type": "stream",
     "text": [
      "Stocks ce_emr\n",
      "Prediction = 0.5735555274999998\n",
      "Actual = 0.948461\n",
      "ce_emr pct change 7-day corr of close from 2020-04-09 00:00:00 to 2020-04-17 00:00:00 is =  -0.39456914332702475\n"
     ]
    },
    {
     "name": "stderr",
     "output_type": "stream",
     "text": [
      "/Users/jonathanhilgart/Library/Caches/pypoetry/virtualenvs/daily-trading-nJ43NNNI-py3.7/lib/python3.7/site-packages/numpy/lib/nanfunctions.py:1546: RuntimeWarning: overflow encountered in multiply\n",
      "  sqr = np.multiply(arr, arr, out=arr)\n"
     ]
    },
    {
     "name": "stdout",
     "output_type": "stream",
     "text": [
      "Stocks ce_eqix\n",
      "Prediction = 0.3791232500000002\n",
      "Actual = -0.212449\n",
      "ce_eqix pct change 7-day corr of close from 2020-04-09 00:00:00 to 2020-04-17 00:00:00 is =  -0.5497920691788571\n"
     ]
    },
    {
     "name": "stderr",
     "output_type": "stream",
     "text": [
      "/Users/jonathanhilgart/Library/Caches/pypoetry/virtualenvs/daily-trading-nJ43NNNI-py3.7/lib/python3.7/site-packages/numpy/lib/nanfunctions.py:1546: RuntimeWarning: overflow encountered in multiply\n",
      "  sqr = np.multiply(arr, arr, out=arr)\n"
     ]
    },
    {
     "name": "stdout",
     "output_type": "stream",
     "text": [
      "Stocks ce_rost\n",
      "Prediction = 0.602228725\n",
      "Actual = 0.194131\n",
      "ce_rost pct change 7-day corr of close from 2020-04-09 00:00:00 to 2020-04-17 00:00:00 is =  -0.30281462722852515\n"
     ]
    },
    {
     "name": "stderr",
     "output_type": "stream",
     "text": [
      "/Users/jonathanhilgart/Library/Caches/pypoetry/virtualenvs/daily-trading-nJ43NNNI-py3.7/lib/python3.7/site-packages/numpy/lib/nanfunctions.py:1546: RuntimeWarning: overflow encountered in multiply\n",
      "  sqr = np.multiply(arr, arr, out=arr)\n"
     ]
    },
    {
     "name": "stdout",
     "output_type": "stream",
     "text": [
      "Stocks ce_so\n",
      "Prediction = 0.5395100500000002\n",
      "Actual = 0.923525\n",
      "ce_so pct change 7-day corr of close from 2020-04-09 00:00:00 to 2020-04-17 00:00:00 is =  -0.44175236823997455\n"
     ]
    },
    {
     "name": "stderr",
     "output_type": "stream",
     "text": [
      "/Users/jonathanhilgart/Library/Caches/pypoetry/virtualenvs/daily-trading-nJ43NNNI-py3.7/lib/python3.7/site-packages/numpy/lib/nanfunctions.py:1546: RuntimeWarning: overflow encountered in multiply\n",
      "  sqr = np.multiply(arr, arr, out=arr)\n"
     ]
    },
    {
     "name": "stdout",
     "output_type": "stream",
     "text": [
      "Stocks eqix_pnr\n",
      "Prediction = 0.20193099000000006\n",
      "Actual = 0.024828\n",
      "eqix_pnr pct change 7-day corr of close from 2020-04-09 00:00:00 to 2020-04-17 00:00:00 is =  -0.7629837283193911\n"
     ]
    },
    {
     "name": "stderr",
     "output_type": "stream",
     "text": [
      "/Users/jonathanhilgart/Library/Caches/pypoetry/virtualenvs/daily-trading-nJ43NNNI-py3.7/lib/python3.7/site-packages/numpy/lib/nanfunctions.py:1546: RuntimeWarning: overflow encountered in multiply\n",
      "  sqr = np.multiply(arr, arr, out=arr)\n"
     ]
    },
    {
     "name": "stdout",
     "output_type": "stream",
     "text": [
      "Stocks eqix_bac\n",
      "Prediction = 0.13681700666666674\n",
      "Actual = -0.028555\n",
      "eqix_bac pct change 7-day corr of close from 2020-04-09 00:00:00 to 2020-04-17 00:00:00 is =  -0.8467055233306181\n"
     ]
    },
    {
     "name": "stderr",
     "output_type": "stream",
     "text": [
      "/Users/jonathanhilgart/Library/Caches/pypoetry/virtualenvs/daily-trading-nJ43NNNI-py3.7/lib/python3.7/site-packages/numpy/lib/nanfunctions.py:1546: RuntimeWarning: overflow encountered in multiply\n",
      "  sqr = np.multiply(arr, arr, out=arr)\n"
     ]
    },
    {
     "name": "stdout",
     "output_type": "stream",
     "text": [
      "Stocks eqix_ni\n",
      "Prediction = 0.5250350999999998\n",
      "Actual = 0.782412\n",
      "eqix_ni pct change 7-day corr of close from 2020-04-09 00:00:00 to 2020-04-17 00:00:00 is =  -0.41829070889556885\n"
     ]
    },
    {
     "name": "stderr",
     "output_type": "stream",
     "text": [
      "/Users/jonathanhilgart/Library/Caches/pypoetry/virtualenvs/daily-trading-nJ43NNNI-py3.7/lib/python3.7/site-packages/numpy/lib/nanfunctions.py:1546: RuntimeWarning: overflow encountered in multiply\n",
      "  sqr = np.multiply(arr, arr, out=arr)\n"
     ]
    },
    {
     "name": "stdout",
     "output_type": "stream",
     "text": [
      "Stocks eqix_vno\n",
      "Prediction = 0.4119316100000002\n",
      "Actual = 0.400584\n",
      "eqix_vno pct change 7-day corr of close from 2020-04-09 00:00:00 to 2020-04-17 00:00:00 is =  -0.4560982433809896\n"
     ]
    },
    {
     "name": "stderr",
     "output_type": "stream",
     "text": [
      "/Users/jonathanhilgart/Library/Caches/pypoetry/virtualenvs/daily-trading-nJ43NNNI-py3.7/lib/python3.7/site-packages/numpy/lib/nanfunctions.py:1546: RuntimeWarning: overflow encountered in multiply\n",
      "  sqr = np.multiply(arr, arr, out=arr)\n"
     ]
    },
    {
     "name": "stdout",
     "output_type": "stream",
     "text": [
      "Stocks eqix_ual\n",
      "Prediction = 0.013463400000000009\n",
      "Actual = 0.375885\n",
      "eqix_ual pct change 7-day corr of close from 2020-04-09 00:00:00 to 2020-04-17 00:00:00 is =  -0.9810404555901041\n"
     ]
    },
    {
     "name": "stderr",
     "output_type": "stream",
     "text": [
      "/Users/jonathanhilgart/Library/Caches/pypoetry/virtualenvs/daily-trading-nJ43NNNI-py3.7/lib/python3.7/site-packages/numpy/lib/nanfunctions.py:1546: RuntimeWarning: overflow encountered in multiply\n",
      "  sqr = np.multiply(arr, arr, out=arr)\n"
     ]
    },
    {
     "name": "stdout",
     "output_type": "stream",
     "text": [
      "Stocks eqix_efx\n",
      "Prediction = 0.43919896750000015\n",
      "Actual = 0.738822\n",
      "eqix_efx pct change 7-day corr of close from 2020-04-09 00:00:00 to 2020-04-17 00:00:00 is =  -0.39411472186048024\n"
     ]
    },
    {
     "name": "stderr",
     "output_type": "stream",
     "text": [
      "/Users/jonathanhilgart/Library/Caches/pypoetry/virtualenvs/daily-trading-nJ43NNNI-py3.7/lib/python3.7/site-packages/numpy/lib/nanfunctions.py:1546: RuntimeWarning: overflow encountered in multiply\n",
      "  sqr = np.multiply(arr, arr, out=arr)\n"
     ]
    },
    {
     "name": "stdout",
     "output_type": "stream",
     "text": [
      "Stocks eqix_ph\n",
      "Prediction = 0.3040946100000001\n",
      "Actual = 0.028296\n",
      "eqix_ph pct change 7-day corr of close from 2020-04-09 00:00:00 to 2020-04-17 00:00:00 is =  -0.6533930018567339\n"
     ]
    },
    {
     "name": "stderr",
     "output_type": "stream",
     "text": [
      "/Users/jonathanhilgart/Library/Caches/pypoetry/virtualenvs/daily-trading-nJ43NNNI-py3.7/lib/python3.7/site-packages/numpy/lib/nanfunctions.py:1546: RuntimeWarning: overflow encountered in multiply\n",
      "  sqr = np.multiply(arr, arr, out=arr)\n"
     ]
    },
    {
     "name": "stdout",
     "output_type": "stream",
     "text": [
      "Stocks eqix_rop\n",
      "Prediction = 0.56095381\n",
      "Actual = 0.337351\n",
      "eqix_rop pct change 7-day corr of close from 2020-04-09 00:00:00 to 2020-04-17 00:00:00 is =  -0.3791572112234598\n"
     ]
    },
    {
     "name": "stderr",
     "output_type": "stream",
     "text": [
      "/Users/jonathanhilgart/Library/Caches/pypoetry/virtualenvs/daily-trading-nJ43NNNI-py3.7/lib/python3.7/site-packages/numpy/lib/nanfunctions.py:1546: RuntimeWarning: overflow encountered in multiply\n",
      "  sqr = np.multiply(arr, arr, out=arr)\n"
     ]
    },
    {
     "name": "stdout",
     "output_type": "stream",
     "text": [
      "Stocks eqix_are\n",
      "Prediction = 0.5442425000000001\n",
      "Actual = 0.912574\n",
      "eqix_are pct change 7-day corr of close from 2020-04-09 00:00:00 to 2020-04-17 00:00:00 is =  -0.39001311335769195\n"
     ]
    },
    {
     "name": "stderr",
     "output_type": "stream",
     "text": [
      "/Users/jonathanhilgart/Library/Caches/pypoetry/virtualenvs/daily-trading-nJ43NNNI-py3.7/lib/python3.7/site-packages/numpy/lib/nanfunctions.py:1546: RuntimeWarning: overflow encountered in multiply\n",
      "  sqr = np.multiply(arr, arr, out=arr)\n"
     ]
    },
    {
     "name": "stdout",
     "output_type": "stream",
     "text": [
      "Stocks eqix_pg\n",
      "Prediction = 0.5628015300000001\n",
      "Actual = 0.629589\n",
      "eqix_pg pct change 7-day corr of close from 2020-04-09 00:00:00 to 2020-04-17 00:00:00 is =  -0.13696498645185906\n"
     ]
    },
    {
     "name": "stderr",
     "output_type": "stream",
     "text": [
      "/Users/jonathanhilgart/Library/Caches/pypoetry/virtualenvs/daily-trading-nJ43NNNI-py3.7/lib/python3.7/site-packages/numpy/lib/nanfunctions.py:1546: RuntimeWarning: overflow encountered in multiply\n",
      "  sqr = np.multiply(arr, arr, out=arr)\n"
     ]
    },
    {
     "name": "stdout",
     "output_type": "stream",
     "text": [
      "Stocks eqix_pvh\n",
      "Prediction = -0.03752824999999998\n",
      "Actual = -0.037792\n",
      "eqix_pvh pct change 7-day corr of close from 2020-04-09 00:00:00 to 2020-04-17 00:00:00 is =  -1.0509939043612488\n"
     ]
    },
    {
     "name": "stderr",
     "output_type": "stream",
     "text": [
      "/Users/jonathanhilgart/Library/Caches/pypoetry/virtualenvs/daily-trading-nJ43NNNI-py3.7/lib/python3.7/site-packages/numpy/lib/nanfunctions.py:1546: RuntimeWarning: overflow encountered in multiply\n",
      "  sqr = np.multiply(arr, arr, out=arr)\n"
     ]
    },
    {
     "name": "stdout",
     "output_type": "stream",
     "text": [
      "Stocks eqix_lb\n",
      "Prediction = -0.10820543999999994\n",
      "Actual = -0.002357\n",
      "eqix_lb pct change 7-day corr of close from 2020-04-09 00:00:00 to 2020-04-17 00:00:00 is =  -1.1272624886210474\n"
     ]
    },
    {
     "name": "stderr",
     "output_type": "stream",
     "text": [
      "/Users/jonathanhilgart/Library/Caches/pypoetry/virtualenvs/daily-trading-nJ43NNNI-py3.7/lib/python3.7/site-packages/numpy/lib/nanfunctions.py:1546: RuntimeWarning: overflow encountered in multiply\n",
      "  sqr = np.multiply(arr, arr, out=arr)\n"
     ]
    },
    {
     "name": "stdout",
     "output_type": "stream",
     "text": [
      "Stocks eqix_cern\n",
      "Prediction = 0.7645837300000001\n",
      "Actual = 0.97438\n",
      "eqix_cern pct change 7-day corr of close from 2020-04-09 00:00:00 to 2020-04-17 00:00:00 is =  -0.18399053767480367\n"
     ]
    },
    {
     "name": "stderr",
     "output_type": "stream",
     "text": [
      "/Users/jonathanhilgart/Library/Caches/pypoetry/virtualenvs/daily-trading-nJ43NNNI-py3.7/lib/python3.7/site-packages/numpy/lib/nanfunctions.py:1546: RuntimeWarning: overflow encountered in multiply\n",
      "  sqr = np.multiply(arr, arr, out=arr)\n"
     ]
    },
    {
     "name": "stdout",
     "output_type": "stream",
     "text": [
      "Stocks eqix_peg\n",
      "Prediction = 0.7218197660000004\n",
      "Actual = 0.873556\n",
      "eqix_peg pct change 7-day corr of close from 2020-04-09 00:00:00 to 2020-04-17 00:00:00 is =  -0.22486988522632534\n"
     ]
    },
    {
     "name": "stderr",
     "output_type": "stream",
     "text": [
      "/Users/jonathanhilgart/Library/Caches/pypoetry/virtualenvs/daily-trading-nJ43NNNI-py3.7/lib/python3.7/site-packages/numpy/lib/nanfunctions.py:1546: RuntimeWarning: overflow encountered in multiply\n",
      "  sqr = np.multiply(arr, arr, out=arr)\n"
     ]
    },
    {
     "name": "stdout",
     "output_type": "stream",
     "text": [
      "Stocks eqix_adbe\n",
      "Prediction = 0.5195035100000002\n",
      "Actual = 0.686086\n",
      "eqix_adbe pct change 7-day corr of close from 2020-04-09 00:00:00 to 2020-04-17 00:00:00 is =  -0.34118807273133056\n"
     ]
    },
    {
     "name": "stderr",
     "output_type": "stream",
     "text": [
      "/Users/jonathanhilgart/Library/Caches/pypoetry/virtualenvs/daily-trading-nJ43NNNI-py3.7/lib/python3.7/site-packages/numpy/lib/nanfunctions.py:1546: RuntimeWarning: overflow encountered in multiply\n",
      "  sqr = np.multiply(arr, arr, out=arr)\n"
     ]
    },
    {
     "name": "stdout",
     "output_type": "stream",
     "text": [
      "Stocks eqix_emr\n",
      "Prediction = 0.17012297000000004\n",
      "Actual = -0.20585\n",
      "eqix_emr pct change 7-day corr of close from 2020-04-09 00:00:00 to 2020-04-17 00:00:00 is =  -0.7944793939350009\n"
     ]
    },
    {
     "name": "stderr",
     "output_type": "stream",
     "text": [
      "/Users/jonathanhilgart/Library/Caches/pypoetry/virtualenvs/daily-trading-nJ43NNNI-py3.7/lib/python3.7/site-packages/numpy/lib/nanfunctions.py:1546: RuntimeWarning: overflow encountered in multiply\n",
      "  sqr = np.multiply(arr, arr, out=arr)\n"
     ]
    },
    {
     "name": "stdout",
     "output_type": "stream",
     "text": [
      "Stocks eqix_ce\n",
      "Prediction = 0.4123331433333336\n",
      "Actual = -0.212449\n",
      "eqix_ce pct change 7-day corr of close from 2020-04-09 00:00:00 to 2020-04-17 00:00:00 is =  -0.5103554021836494\n"
     ]
    },
    {
     "name": "stderr",
     "output_type": "stream",
     "text": [
      "/Users/jonathanhilgart/Library/Caches/pypoetry/virtualenvs/daily-trading-nJ43NNNI-py3.7/lib/python3.7/site-packages/numpy/lib/nanfunctions.py:1546: RuntimeWarning: overflow encountered in multiply\n",
      "  sqr = np.multiply(arr, arr, out=arr)\n"
     ]
    },
    {
     "name": "stdout",
     "output_type": "stream",
     "text": [
      "Stocks eqix_rost\n",
      "Prediction = 0.384392402\n",
      "Actual = 0.674771\n",
      "eqix_rost pct change 7-day corr of close from 2020-04-09 00:00:00 to 2020-04-17 00:00:00 is =  -0.4614753932540193\n"
     ]
    },
    {
     "name": "stderr",
     "output_type": "stream",
     "text": [
      "/Users/jonathanhilgart/Library/Caches/pypoetry/virtualenvs/daily-trading-nJ43NNNI-py3.7/lib/python3.7/site-packages/numpy/lib/nanfunctions.py:1546: RuntimeWarning: overflow encountered in multiply\n",
      "  sqr = np.multiply(arr, arr, out=arr)\n"
     ]
    },
    {
     "name": "stdout",
     "output_type": "stream",
     "text": [
      "Stocks eqix_so\n",
      "Prediction = 0.6518573595238092\n",
      "Actual = 0.140284\n",
      "eqix_so pct change 7-day corr of close from 2020-04-09 00:00:00 to 2020-04-17 00:00:00 is =  -0.28945829011508595\n"
     ]
    },
    {
     "name": "stderr",
     "output_type": "stream",
     "text": [
      "/Users/jonathanhilgart/Library/Caches/pypoetry/virtualenvs/daily-trading-nJ43NNNI-py3.7/lib/python3.7/site-packages/numpy/lib/nanfunctions.py:1546: RuntimeWarning: overflow encountered in multiply\n",
      "  sqr = np.multiply(arr, arr, out=arr)\n"
     ]
    },
    {
     "name": "stdout",
     "output_type": "stream",
     "text": [
      "Stocks rost_pnr\n",
      "Prediction = 0.6508711099999993\n",
      "Actual = 0.393781\n",
      "rost_pnr pct change 7-day corr of close from 2020-04-09 00:00:00 to 2020-04-17 00:00:00 is =  -0.24601198047352024\n"
     ]
    },
    {
     "name": "stderr",
     "output_type": "stream",
     "text": [
      "/Users/jonathanhilgart/Library/Caches/pypoetry/virtualenvs/daily-trading-nJ43NNNI-py3.7/lib/python3.7/site-packages/numpy/lib/nanfunctions.py:1546: RuntimeWarning: overflow encountered in multiply\n",
      "  sqr = np.multiply(arr, arr, out=arr)\n"
     ]
    },
    {
     "name": "stdout",
     "output_type": "stream",
     "text": [
      "Stocks rost_bac\n",
      "Prediction = 0.4035941100000002\n",
      "Actual = 0.252392\n",
      "rost_bac pct change 7-day corr of close from 2020-04-09 00:00:00 to 2020-04-17 00:00:00 is =  -0.5084977665305961\n"
     ]
    },
    {
     "name": "stderr",
     "output_type": "stream",
     "text": [
      "/Users/jonathanhilgart/Library/Caches/pypoetry/virtualenvs/daily-trading-nJ43NNNI-py3.7/lib/python3.7/site-packages/numpy/lib/nanfunctions.py:1546: RuntimeWarning: overflow encountered in multiply\n",
      "  sqr = np.multiply(arr, arr, out=arr)\n"
     ]
    },
    {
     "name": "stdout",
     "output_type": "stream",
     "text": [
      "Stocks rost_ni\n",
      "Prediction = 0.44503293500000024\n",
      "Actual = 0.562377\n",
      "rost_ni pct change 7-day corr of close from 2020-04-09 00:00:00 to 2020-04-17 00:00:00 is =  -0.5069187639534429\n"
     ]
    },
    {
     "name": "stderr",
     "output_type": "stream",
     "text": [
      "/Users/jonathanhilgart/Library/Caches/pypoetry/virtualenvs/daily-trading-nJ43NNNI-py3.7/lib/python3.7/site-packages/numpy/lib/nanfunctions.py:1546: RuntimeWarning: overflow encountered in multiply\n",
      "  sqr = np.multiply(arr, arr, out=arr)\n"
     ]
    },
    {
     "name": "stdout",
     "output_type": "stream",
     "text": [
      "Stocks rost_vno\n",
      "Prediction = 0.5383444900000001\n",
      "Actual = 0.439933\n",
      "rost_vno pct change 7-day corr of close from 2020-04-09 00:00:00 to 2020-04-17 00:00:00 is =  -0.3210059708194173\n"
     ]
    },
    {
     "name": "stderr",
     "output_type": "stream",
     "text": [
      "/Users/jonathanhilgart/Library/Caches/pypoetry/virtualenvs/daily-trading-nJ43NNNI-py3.7/lib/python3.7/site-packages/numpy/lib/nanfunctions.py:1546: RuntimeWarning: overflow encountered in multiply\n",
      "  sqr = np.multiply(arr, arr, out=arr)\n"
     ]
    },
    {
     "name": "stdout",
     "output_type": "stream",
     "text": [
      "Stocks rost_ual\n",
      "Prediction = 0.6635132200000001\n",
      "Actual = 0.189437\n",
      "rost_ual pct change 7-day corr of close from 2020-04-09 00:00:00 to 2020-04-17 00:00:00 is =  -0.03746036765815197\n"
     ]
    },
    {
     "name": "stderr",
     "output_type": "stream",
     "text": [
      "/Users/jonathanhilgart/Library/Caches/pypoetry/virtualenvs/daily-trading-nJ43NNNI-py3.7/lib/python3.7/site-packages/numpy/lib/nanfunctions.py:1546: RuntimeWarning: overflow encountered in multiply\n",
      "  sqr = np.multiply(arr, arr, out=arr)\n"
     ]
    },
    {
     "name": "stdout",
     "output_type": "stream",
     "text": [
      "Stocks rost_efx\n",
      "Prediction = 0.3104812766666667\n",
      "Actual = 0.917796\n",
      "rost_efx pct change 7-day corr of close from 2020-04-09 00:00:00 to 2020-04-17 00:00:00 is =  -0.6568778569910333\n"
     ]
    },
    {
     "name": "stderr",
     "output_type": "stream",
     "text": [
      "/Users/jonathanhilgart/Library/Caches/pypoetry/virtualenvs/daily-trading-nJ43NNNI-py3.7/lib/python3.7/site-packages/numpy/lib/nanfunctions.py:1546: RuntimeWarning: overflow encountered in multiply\n",
      "  sqr = np.multiply(arr, arr, out=arr)\n"
     ]
    },
    {
     "name": "stdout",
     "output_type": "stream",
     "text": [
      "Stocks rost_ph\n",
      "Prediction = 0.6424619399999999\n",
      "Actual = 0.434193\n",
      "rost_ph pct change 7-day corr of close from 2020-04-09 00:00:00 to 2020-04-17 00:00:00 is =  -0.2932320734334126\n"
     ]
    },
    {
     "name": "stderr",
     "output_type": "stream",
     "text": [
      "/Users/jonathanhilgart/Library/Caches/pypoetry/virtualenvs/daily-trading-nJ43NNNI-py3.7/lib/python3.7/site-packages/numpy/lib/nanfunctions.py:1546: RuntimeWarning: overflow encountered in multiply\n",
      "  sqr = np.multiply(arr, arr, out=arr)\n"
     ]
    },
    {
     "name": "stdout",
     "output_type": "stream",
     "text": [
      "Stocks rost_rop\n",
      "Prediction = 0.4263111\n",
      "Actual = 0.90078\n",
      "rost_rop pct change 7-day corr of close from 2020-04-09 00:00:00 to 2020-04-17 00:00:00 is =  -0.48139102317682614\n"
     ]
    },
    {
     "name": "stderr",
     "output_type": "stream",
     "text": [
      "/Users/jonathanhilgart/Library/Caches/pypoetry/virtualenvs/daily-trading-nJ43NNNI-py3.7/lib/python3.7/site-packages/numpy/lib/nanfunctions.py:1546: RuntimeWarning: overflow encountered in multiply\n",
      "  sqr = np.multiply(arr, arr, out=arr)\n"
     ]
    },
    {
     "name": "stdout",
     "output_type": "stream",
     "text": [
      "Stocks rost_are\n",
      "Prediction = 0.39548229666666673\n",
      "Actual = 0.537952\n",
      "rost_are pct change 7-day corr of close from 2020-04-09 00:00:00 to 2020-04-17 00:00:00 is =  -0.5151995166896921\n"
     ]
    },
    {
     "name": "stderr",
     "output_type": "stream",
     "text": [
      "/Users/jonathanhilgart/Library/Caches/pypoetry/virtualenvs/daily-trading-nJ43NNNI-py3.7/lib/python3.7/site-packages/numpy/lib/nanfunctions.py:1546: RuntimeWarning: overflow encountered in multiply\n",
      "  sqr = np.multiply(arr, arr, out=arr)\n"
     ]
    },
    {
     "name": "stdout",
     "output_type": "stream",
     "text": [
      "Stocks rost_pg\n",
      "Prediction = -0.05011747999999999\n",
      "Actual = 0.504722\n",
      "rost_pg pct change 7-day corr of close from 2020-04-09 00:00:00 to 2020-04-17 00:00:00 is =  -1.190331349665992\n"
     ]
    },
    {
     "name": "stderr",
     "output_type": "stream",
     "text": [
      "/Users/jonathanhilgart/Library/Caches/pypoetry/virtualenvs/daily-trading-nJ43NNNI-py3.7/lib/python3.7/site-packages/numpy/lib/nanfunctions.py:1546: RuntimeWarning: overflow encountered in multiply\n",
      "  sqr = np.multiply(arr, arr, out=arr)\n"
     ]
    },
    {
     "name": "stdout",
     "output_type": "stream",
     "text": [
      "Stocks rost_pvh\n",
      "Prediction = 0.46816731499999975\n",
      "Actual = 0.34537\n",
      "rost_pvh pct change 7-day corr of close from 2020-04-09 00:00:00 to 2020-04-17 00:00:00 is =  -0.46846161575334555\n"
     ]
    },
    {
     "name": "stderr",
     "output_type": "stream",
     "text": [
      "/Users/jonathanhilgart/Library/Caches/pypoetry/virtualenvs/daily-trading-nJ43NNNI-py3.7/lib/python3.7/site-packages/numpy/lib/nanfunctions.py:1546: RuntimeWarning: overflow encountered in multiply\n",
      "  sqr = np.multiply(arr, arr, out=arr)\n"
     ]
    },
    {
     "name": "stdout",
     "output_type": "stream",
     "text": [
      "Stocks rost_lb\n",
      "Prediction = 0.22586946000000005\n",
      "Actual = 0.362927\n",
      "rost_lb pct change 7-day corr of close from 2020-04-09 00:00:00 to 2020-04-17 00:00:00 is =  -0.7207875621792146\n"
     ]
    },
    {
     "name": "stderr",
     "output_type": "stream",
     "text": [
      "/Users/jonathanhilgart/Library/Caches/pypoetry/virtualenvs/daily-trading-nJ43NNNI-py3.7/lib/python3.7/site-packages/numpy/lib/nanfunctions.py:1546: RuntimeWarning: overflow encountered in multiply\n",
      "  sqr = np.multiply(arr, arr, out=arr)\n"
     ]
    },
    {
     "name": "stdout",
     "output_type": "stream",
     "text": [
      "Stocks rost_cern\n",
      "Prediction = 0.5038607200000004\n",
      "Actual = 0.662417\n",
      "rost_cern pct change 7-day corr of close from 2020-04-09 00:00:00 to 2020-04-17 00:00:00 is =  -0.3608148311653381\n"
     ]
    },
    {
     "name": "stderr",
     "output_type": "stream",
     "text": [
      "/Users/jonathanhilgart/Library/Caches/pypoetry/virtualenvs/daily-trading-nJ43NNNI-py3.7/lib/python3.7/site-packages/numpy/lib/nanfunctions.py:1546: RuntimeWarning: overflow encountered in multiply\n",
      "  sqr = np.multiply(arr, arr, out=arr)\n"
     ]
    },
    {
     "name": "stdout",
     "output_type": "stream",
     "text": [
      "Stocks rost_peg\n",
      "Prediction = 0.2811205400000001\n",
      "Actual = 0.751005\n",
      "rost_peg pct change 7-day corr of close from 2020-04-09 00:00:00 to 2020-04-17 00:00:00 is =  -0.6491711759831473\n"
     ]
    },
    {
     "name": "stderr",
     "output_type": "stream",
     "text": [
      "/Users/jonathanhilgart/Library/Caches/pypoetry/virtualenvs/daily-trading-nJ43NNNI-py3.7/lib/python3.7/site-packages/numpy/lib/nanfunctions.py:1546: RuntimeWarning: overflow encountered in multiply\n",
      "  sqr = np.multiply(arr, arr, out=arr)\n"
     ]
    },
    {
     "name": "stdout",
     "output_type": "stream",
     "text": [
      "Stocks rost_adbe\n",
      "Prediction = 0.42820326999999986\n",
      "Actual = 0.443394\n",
      "rost_adbe pct change 7-day corr of close from 2020-04-09 00:00:00 to 2020-04-17 00:00:00 is =  -0.5568964882090044\n"
     ]
    },
    {
     "name": "stderr",
     "output_type": "stream",
     "text": [
      "/Users/jonathanhilgart/Library/Caches/pypoetry/virtualenvs/daily-trading-nJ43NNNI-py3.7/lib/python3.7/site-packages/numpy/lib/nanfunctions.py:1546: RuntimeWarning: overflow encountered in multiply\n",
      "  sqr = np.multiply(arr, arr, out=arr)\n"
     ]
    },
    {
     "name": "stdout",
     "output_type": "stream",
     "text": [
      "Stocks rost_emr\n",
      "Prediction = 0.4038264313333334\n",
      "Actual = 0.271202\n",
      "rost_emr pct change 7-day corr of close from 2020-04-09 00:00:00 to 2020-04-17 00:00:00 is =  -0.5499583406236499\n"
     ]
    },
    {
     "name": "stderr",
     "output_type": "stream",
     "text": [
      "/Users/jonathanhilgart/Library/Caches/pypoetry/virtualenvs/daily-trading-nJ43NNNI-py3.7/lib/python3.7/site-packages/numpy/lib/nanfunctions.py:1546: RuntimeWarning: overflow encountered in multiply\n",
      "  sqr = np.multiply(arr, arr, out=arr)\n"
     ]
    },
    {
     "name": "stdout",
     "output_type": "stream",
     "text": [
      "Stocks rost_ce\n",
      "Prediction = 0.5467646983333335\n",
      "Actual = 0.194131\n",
      "rost_ce pct change 7-day corr of close from 2020-04-09 00:00:00 to 2020-04-17 00:00:00 is =  -0.36702396580998664\n"
     ]
    },
    {
     "name": "stderr",
     "output_type": "stream",
     "text": [
      "/Users/jonathanhilgart/Library/Caches/pypoetry/virtualenvs/daily-trading-nJ43NNNI-py3.7/lib/python3.7/site-packages/numpy/lib/nanfunctions.py:1546: RuntimeWarning: overflow encountered in multiply\n",
      "  sqr = np.multiply(arr, arr, out=arr)\n"
     ]
    },
    {
     "name": "stdout",
     "output_type": "stream",
     "text": [
      "Stocks rost_eqix\n",
      "Prediction = 0.4166991999999999\n",
      "Actual = 0.674771\n",
      "rost_eqix pct change 7-day corr of close from 2020-04-09 00:00:00 to 2020-04-17 00:00:00 is =  -0.41621433815082365\n"
     ]
    },
    {
     "name": "stderr",
     "output_type": "stream",
     "text": [
      "/Users/jonathanhilgart/Library/Caches/pypoetry/virtualenvs/daily-trading-nJ43NNNI-py3.7/lib/python3.7/site-packages/numpy/lib/nanfunctions.py:1546: RuntimeWarning: overflow encountered in multiply\n",
      "  sqr = np.multiply(arr, arr, out=arr)\n"
     ]
    },
    {
     "name": "stdout",
     "output_type": "stream",
     "text": [
      "Stocks rost_so\n",
      "Prediction = 0.636675485\n",
      "Actual = 0.34614\n",
      "rost_so pct change 7-day corr of close from 2020-04-09 00:00:00 to 2020-04-17 00:00:00 is =  -0.2862030357999721\n"
     ]
    },
    {
     "name": "stderr",
     "output_type": "stream",
     "text": [
      "/Users/jonathanhilgart/Library/Caches/pypoetry/virtualenvs/daily-trading-nJ43NNNI-py3.7/lib/python3.7/site-packages/numpy/lib/nanfunctions.py:1546: RuntimeWarning: overflow encountered in multiply\n",
      "  sqr = np.multiply(arr, arr, out=arr)\n"
     ]
    },
    {
     "name": "stdout",
     "output_type": "stream",
     "text": [
      "Stocks so_pnr\n",
      "Prediction = 0.6582810233333336\n",
      "Actual = 0.915914\n",
      "so_pnr pct change 7-day corr of close from 2020-04-09 00:00:00 to 2020-04-17 00:00:00 is =  -0.3061296737636793\n"
     ]
    },
    {
     "name": "stderr",
     "output_type": "stream",
     "text": [
      "/Users/jonathanhilgart/Library/Caches/pypoetry/virtualenvs/daily-trading-nJ43NNNI-py3.7/lib/python3.7/site-packages/numpy/lib/nanfunctions.py:1546: RuntimeWarning: overflow encountered in multiply\n",
      "  sqr = np.multiply(arr, arr, out=arr)\n"
     ]
    },
    {
     "name": "stdout",
     "output_type": "stream",
     "text": [
      "Stocks so_bac\n",
      "Prediction = 0.4268126750000001\n",
      "Actual = 0.953646\n",
      "so_bac pct change 7-day corr of close from 2020-04-09 00:00:00 to 2020-04-17 00:00:00 is =  -0.564144188625604\n"
     ]
    },
    {
     "name": "stderr",
     "output_type": "stream",
     "text": [
      "/Users/jonathanhilgart/Library/Caches/pypoetry/virtualenvs/daily-trading-nJ43NNNI-py3.7/lib/python3.7/site-packages/numpy/lib/nanfunctions.py:1546: RuntimeWarning: overflow encountered in multiply\n",
      "  sqr = np.multiply(arr, arr, out=arr)\n"
     ]
    },
    {
     "name": "stdout",
     "output_type": "stream",
     "text": [
      "Stocks so_ni\n",
      "Prediction = 0.7514698000000004\n",
      "Actual = 0.601316\n",
      "so_ni pct change 7-day corr of close from 2020-04-09 00:00:00 to 2020-04-17 00:00:00 is =  -0.23597186962095928\n"
     ]
    },
    {
     "name": "stderr",
     "output_type": "stream",
     "text": [
      "/Users/jonathanhilgart/Library/Caches/pypoetry/virtualenvs/daily-trading-nJ43NNNI-py3.7/lib/python3.7/site-packages/numpy/lib/nanfunctions.py:1546: RuntimeWarning: overflow encountered in multiply\n",
      "  sqr = np.multiply(arr, arr, out=arr)\n"
     ]
    },
    {
     "name": "stdout",
     "output_type": "stream",
     "text": [
      "Stocks so_vno\n",
      "Prediction = 0.6063655800000004\n",
      "Actual = 0.625683\n",
      "so_vno pct change 7-day corr of close from 2020-04-09 00:00:00 to 2020-04-17 00:00:00 is =  -0.32426554840233845\n"
     ]
    },
    {
     "name": "stderr",
     "output_type": "stream",
     "text": [
      "/Users/jonathanhilgart/Library/Caches/pypoetry/virtualenvs/daily-trading-nJ43NNNI-py3.7/lib/python3.7/site-packages/numpy/lib/nanfunctions.py:1546: RuntimeWarning: overflow encountered in multiply\n",
      "  sqr = np.multiply(arr, arr, out=arr)\n"
     ]
    },
    {
     "name": "stdout",
     "output_type": "stream",
     "text": [
      "Stocks so_ual\n",
      "Prediction = 0.4155928699999998\n",
      "Actual = 0.284456\n",
      "so_ual pct change 7-day corr of close from 2020-04-09 00:00:00 to 2020-04-17 00:00:00 is =  -0.47286078136158005\n"
     ]
    },
    {
     "name": "stderr",
     "output_type": "stream",
     "text": [
      "/Users/jonathanhilgart/Library/Caches/pypoetry/virtualenvs/daily-trading-nJ43NNNI-py3.7/lib/python3.7/site-packages/numpy/lib/nanfunctions.py:1546: RuntimeWarning: overflow encountered in multiply\n",
      "  sqr = np.multiply(arr, arr, out=arr)\n"
     ]
    },
    {
     "name": "stdout",
     "output_type": "stream",
     "text": [
      "Stocks so_efx\n",
      "Prediction = 0.69064549\n",
      "Actual = 0.332373\n",
      "so_efx pct change 7-day corr of close from 2020-04-09 00:00:00 to 2020-04-17 00:00:00 is =  -0.23444409958887058\n"
     ]
    },
    {
     "name": "stderr",
     "output_type": "stream",
     "text": [
      "/Users/jonathanhilgart/Library/Caches/pypoetry/virtualenvs/daily-trading-nJ43NNNI-py3.7/lib/python3.7/site-packages/numpy/lib/nanfunctions.py:1546: RuntimeWarning: overflow encountered in multiply\n",
      "  sqr = np.multiply(arr, arr, out=arr)\n"
     ]
    },
    {
     "name": "stdout",
     "output_type": "stream",
     "text": [
      "Stocks so_ph\n",
      "Prediction = 0.4399104100000002\n",
      "Actual = 0.959729\n",
      "so_ph pct change 7-day corr of close from 2020-04-09 00:00:00 to 2020-04-17 00:00:00 is =  -0.5550964373159972\n"
     ]
    },
    {
     "name": "stderr",
     "output_type": "stream",
     "text": [
      "/Users/jonathanhilgart/Library/Caches/pypoetry/virtualenvs/daily-trading-nJ43NNNI-py3.7/lib/python3.7/site-packages/numpy/lib/nanfunctions.py:1546: RuntimeWarning: overflow encountered in multiply\n",
      "  sqr = np.multiply(arr, arr, out=arr)\n"
     ]
    },
    {
     "name": "stdout",
     "output_type": "stream",
     "text": [
      "Stocks so_rop\n",
      "Prediction = 0.5711183999999999\n",
      "Actual = 0.500734\n",
      "so_rop pct change 7-day corr of close from 2020-04-09 00:00:00 to 2020-04-17 00:00:00 is =  -0.38416455679823336\n"
     ]
    },
    {
     "name": "stderr",
     "output_type": "stream",
     "text": [
      "/Users/jonathanhilgart/Library/Caches/pypoetry/virtualenvs/daily-trading-nJ43NNNI-py3.7/lib/python3.7/site-packages/numpy/lib/nanfunctions.py:1546: RuntimeWarning: overflow encountered in multiply\n",
      "  sqr = np.multiply(arr, arr, out=arr)\n"
     ]
    },
    {
     "name": "stdout",
     "output_type": "stream",
     "text": [
      "Stocks so_are\n",
      "Prediction = 0.8347058266666667\n",
      "Actual = 0.394668\n",
      "so_are pct change 7-day corr of close from 2020-04-09 00:00:00 to 2020-04-17 00:00:00 is =  -0.12660632720312281\n"
     ]
    },
    {
     "name": "stderr",
     "output_type": "stream",
     "text": [
      "/Users/jonathanhilgart/Library/Caches/pypoetry/virtualenvs/daily-trading-nJ43NNNI-py3.7/lib/python3.7/site-packages/numpy/lib/nanfunctions.py:1546: RuntimeWarning: overflow encountered in multiply\n",
      "  sqr = np.multiply(arr, arr, out=arr)\n"
     ]
    },
    {
     "name": "stdout",
     "output_type": "stream",
     "text": [
      "Stocks so_pg\n",
      "Prediction = 0.39400627\n",
      "Actual = -0.549355\n",
      "so_pg pct change 7-day corr of close from 2020-04-09 00:00:00 to 2020-04-17 00:00:00 is =  -0.06414702158840713\n"
     ]
    },
    {
     "name": "stderr",
     "output_type": "stream",
     "text": [
      "/Users/jonathanhilgart/Library/Caches/pypoetry/virtualenvs/daily-trading-nJ43NNNI-py3.7/lib/python3.7/site-packages/numpy/lib/nanfunctions.py:1546: RuntimeWarning: overflow encountered in multiply\n",
      "  sqr = np.multiply(arr, arr, out=arr)\n"
     ]
    },
    {
     "name": "stdout",
     "output_type": "stream",
     "text": [
      "Stocks so_pvh\n",
      "Prediction = 0.33179921000000007\n",
      "Actual = 0.967202\n",
      "so_pvh pct change 7-day corr of close from 2020-04-09 00:00:00 to 2020-04-17 00:00:00 is =  -0.6419136727139295\n"
     ]
    },
    {
     "name": "stderr",
     "output_type": "stream",
     "text": [
      "/Users/jonathanhilgart/Library/Caches/pypoetry/virtualenvs/daily-trading-nJ43NNNI-py3.7/lib/python3.7/site-packages/numpy/lib/nanfunctions.py:1546: RuntimeWarning: overflow encountered in multiply\n",
      "  sqr = np.multiply(arr, arr, out=arr)\n"
     ]
    },
    {
     "name": "stdout",
     "output_type": "stream",
     "text": [
      "Stocks so_lb\n",
      "Prediction = 0.5068502299999998\n",
      "Actual = 0.944878\n",
      "so_lb pct change 7-day corr of close from 2020-04-09 00:00:00 to 2020-04-17 00:00:00 is =  -0.4547728678493095\n"
     ]
    },
    {
     "name": "stderr",
     "output_type": "stream",
     "text": [
      "/Users/jonathanhilgart/Library/Caches/pypoetry/virtualenvs/daily-trading-nJ43NNNI-py3.7/lib/python3.7/site-packages/numpy/lib/nanfunctions.py:1546: RuntimeWarning: overflow encountered in multiply\n",
      "  sqr = np.multiply(arr, arr, out=arr)\n"
     ]
    },
    {
     "name": "stdout",
     "output_type": "stream",
     "text": [
      "Stocks so_cern\n",
      "Prediction = 0.5154627100000002\n",
      "Actual = -0.061179\n",
      "so_cern pct change 7-day corr of close from 2020-04-09 00:00:00 to 2020-04-17 00:00:00 is =  -0.46947188306334975\n"
     ]
    },
    {
     "name": "stderr",
     "output_type": "stream",
     "text": [
      "/Users/jonathanhilgart/Library/Caches/pypoetry/virtualenvs/daily-trading-nJ43NNNI-py3.7/lib/python3.7/site-packages/numpy/lib/nanfunctions.py:1546: RuntimeWarning: overflow encountered in multiply\n",
      "  sqr = np.multiply(arr, arr, out=arr)\n"
     ]
    },
    {
     "name": "stdout",
     "output_type": "stream",
     "text": [
      "Stocks so_peg\n",
      "Prediction = 0.7622253859999994\n",
      "Actual = 0.219284\n",
      "so_peg pct change 7-day corr of close from 2020-04-09 00:00:00 to 2020-04-17 00:00:00 is =  -0.22302530333317416\n"
     ]
    },
    {
     "name": "stderr",
     "output_type": "stream",
     "text": [
      "/Users/jonathanhilgart/Library/Caches/pypoetry/virtualenvs/daily-trading-nJ43NNNI-py3.7/lib/python3.7/site-packages/numpy/lib/nanfunctions.py:1546: RuntimeWarning: overflow encountered in multiply\n",
      "  sqr = np.multiply(arr, arr, out=arr)\n"
     ]
    },
    {
     "name": "stdout",
     "output_type": "stream",
     "text": [
      "Stocks so_adbe\n",
      "Prediction = 0.6206402299999996\n",
      "Actual = -0.486905\n",
      "so_adbe pct change 7-day corr of close from 2020-04-09 00:00:00 to 2020-04-17 00:00:00 is =  -0.3056317491217475\n"
     ]
    },
    {
     "name": "stderr",
     "output_type": "stream",
     "text": [
      "/Users/jonathanhilgart/Library/Caches/pypoetry/virtualenvs/daily-trading-nJ43NNNI-py3.7/lib/python3.7/site-packages/numpy/lib/nanfunctions.py:1546: RuntimeWarning: overflow encountered in multiply\n",
      "  sqr = np.multiply(arr, arr, out=arr)\n"
     ]
    },
    {
     "name": "stdout",
     "output_type": "stream",
     "text": [
      "Stocks so_emr\n",
      "Prediction = 0.5188596299999998\n",
      "Actual = 0.849982\n",
      "so_emr pct change 7-day corr of close from 2020-04-09 00:00:00 to 2020-04-17 00:00:00 is =  -0.46311499276716506\n"
     ]
    },
    {
     "name": "stderr",
     "output_type": "stream",
     "text": [
      "/Users/jonathanhilgart/Library/Caches/pypoetry/virtualenvs/daily-trading-nJ43NNNI-py3.7/lib/python3.7/site-packages/numpy/lib/nanfunctions.py:1546: RuntimeWarning: overflow encountered in multiply\n",
      "  sqr = np.multiply(arr, arr, out=arr)\n"
     ]
    },
    {
     "name": "stdout",
     "output_type": "stream",
     "text": [
      "Stocks so_ce\n",
      "Prediction = 0.5202693300000002\n",
      "Actual = 0.923525\n",
      "so_ce pct change 7-day corr of close from 2020-04-09 00:00:00 to 2020-04-17 00:00:00 is =  -0.4616613326297162\n"
     ]
    },
    {
     "name": "stderr",
     "output_type": "stream",
     "text": [
      "/Users/jonathanhilgart/Library/Caches/pypoetry/virtualenvs/daily-trading-nJ43NNNI-py3.7/lib/python3.7/site-packages/numpy/lib/nanfunctions.py:1546: RuntimeWarning: overflow encountered in multiply\n",
      "  sqr = np.multiply(arr, arr, out=arr)\n"
     ]
    },
    {
     "name": "stdout",
     "output_type": "stream",
     "text": [
      "Stocks so_eqix\n",
      "Prediction = 0.6932047600000001\n",
      "Actual = 0.140284\n",
      "so_eqix pct change 7-day corr of close from 2020-04-09 00:00:00 to 2020-04-17 00:00:00 is =  -0.24438853335862187\n"
     ]
    },
    {
     "name": "stderr",
     "output_type": "stream",
     "text": [
      "/Users/jonathanhilgart/Library/Caches/pypoetry/virtualenvs/daily-trading-nJ43NNNI-py3.7/lib/python3.7/site-packages/numpy/lib/nanfunctions.py:1546: RuntimeWarning: overflow encountered in multiply\n",
      "  sqr = np.multiply(arr, arr, out=arr)\n"
     ]
    },
    {
     "name": "stdout",
     "output_type": "stream",
     "text": [
      "Stocks so_rost\n",
      "Prediction = 0.6445456999999997\n",
      "Actual = 0.34614\n",
      "so_rost pct change 7-day corr of close from 2020-04-09 00:00:00 to 2020-04-17 00:00:00 is =  -0.2773794895712348\n",
      "Predictions took 6.163809903462728 mins\n"
     ]
    }
   ],
   "source": [
    "test_date = final_stock_df.index.max()\n",
    "train_dates = final_stock_df.index[final_stock_df.index < test_date - datetime.timedelta(7)] # seven days before\n",
    "\n",
    "train_df = final_stock_df[final_stock_df.index.isin(train_dates)]\n",
    "test_df = final_stock_df[final_stock_df.index == test_date]\n",
    "\n",
    "final_stock_df = final_stock_df.dropna()\n",
    "\n",
    "n_days_corr_predictions = 7\n",
    "\n",
    "\n",
    "pct_change_corr = []\n",
    "actual_corr = []\n",
    "predicted_corr = []\n",
    "last_corr_for_prediction_day = []\n",
    "pred_dates = []\n",
    "start = time.time()\n",
    "\n",
    "for stock_pairing in pairs_of_stocks:\n",
    "    pred_col_name = f\"{stock_pairing}_close_corr_rolling_{n_days_corr_predictions}_days\"\n",
    "    \n",
    "    # remove the current 7-day corr for this stock\n",
    "    train_X, train_y = train_df.loc[:, train_df.columns != f\"{pred_col_name}\"],  train_df[f\"{pred_col_name}\"]\n",
    "    test_X, test_y = test_df.loc[:, test_df.columns != f\"{pred_col_name}\"],  test_df[f\"{pred_col_name}\"]\n",
    "\n",
    "    \n",
    "    train_X = np.nan_to_num(train_X.astype(np.float32)) \n",
    "    \n",
    "    # standard scaler for cols\n",
    "    scaler=StandardScaler()\n",
    "    scaler.fit(train_X)\n",
    "    train_X = scaler.transform(train_X)\n",
    "    test_X = scaler.transform(test_X)\n",
    "    \n",
    "    \n",
    "    # Make an instance of the Model\n",
    "    # only train on train_x\n",
    "    \n",
    "    pca = PCA(n_components=5, whiten=True)\n",
    "    pca.fit(train_X)\n",
    "    \n",
    "    train_X = pca.transform(train_X)\n",
    "    test_X = pca.transform(test_X)\n",
    "#     train_X = np.nan_to_num(train_X.astype(np.float32)) \n",
    "    \n",
    "#     print(train_X.shape)\n",
    "\n",
    "    \n",
    "    # standaard scaler\n",
    "\n",
    "\n",
    "    \n",
    "    rf = RandomForestRegressor(n_estimators=100, n_jobs=-1)\n",
    "    rf.fit(train_X, train_y)\n",
    "    \n",
    "\n",
    "    prediction = np.array(rf.predict(test_X))[0]\n",
    "    print(f\"Stocks {stock_pairing}\")\n",
    "    print(f\"Prediction = {prediction}\")\n",
    "    print(f\"Actual = {test_y.values[0]}\")\n",
    "    \n",
    "    pred_corr_pct_change, last_date = find_pct_change_pred_vs_last_corr(train_y, prediction)\n",
    "    \n",
    "    last_corr_date = train_y.index.max()\n",
    "    last_corr = train_y[train_y.index.max()]    \n",
    "    \n",
    "    pct_change_corr.append(pred_corr_pct_change)\n",
    "    pred_dates.append(last_date)\n",
    "    actual_corr.append(test_y.values[0])\n",
    "    predicted_corr.append(prediction)\n",
    "    last_corr_for_prediction_day.append(last_corr)\n",
    "    \n",
    "    print(f\"{stock_pairing} pct change 7-day corr of close from {last_date} to {test_date} is =  {pred_corr_pct_change}\")\n",
    "\n",
    "\n",
    "end = time.time()\n",
    "\n",
    "print(f\"Predictions took {(end-start)/60} mins\")"
   ]
  },
  {
   "cell_type": "code",
   "execution_count": 1067,
   "metadata": {},
   "outputs": [],
   "source": [
    "pd.DataFrame({ 'pred_date_start':pred_dates,'stock_pair':pairs_of_stocks,   'pct_change_for_7_daycorr': pct_change_corr,\n",
    "    'actual_corr': actual_corr,\n",
    "    'predicted_corr': predicted_corr, 'last_7_day_corr_for_pred_date_start': last_corr_for_prediction_day}).to_csv(\n",
    "    '../data/predictions/test_predictions_2020_04_17.csv', index=False)"
   ]
  },
  {
   "cell_type": "markdown",
   "metadata": {},
   "source": [
    "## TODO: Dimensionality reduction"
   ]
  },
  {
   "cell_type": "markdown",
   "metadata": {},
   "source": []
  },
  {
   "cell_type": "code",
   "execution_count": null,
   "metadata": {},
   "outputs": [],
   "source": []
  }
 ],
 "metadata": {
  "file_extension": ".py",
  "kernelspec": {
   "display_name": "Python 3.7.0 64-bit ('daily-trading-nJ43NNNI-py3.7': venv)",
   "language": "python",
   "name": "python37064bitdailytradingnj43nnnipy37venvd9db9359ec934f90b15f4732101b653e"
  },
  "language_info": {
   "codemirror_mode": {
    "name": "ipython",
    "version": 3
   },
   "file_extension": ".py",
   "mimetype": "text/x-python",
   "name": "python",
   "nbconvert_exporter": "python",
   "pygments_lexer": "ipython3",
   "version": "3.7.0"
  },
  "mimetype": "text/x-python",
  "name": "python",
  "npconvert_exporter": "python",
  "pygments_lexer": "ipython3",
  "version": 3
 },
 "nbformat": 4,
 "nbformat_minor": 4
}
