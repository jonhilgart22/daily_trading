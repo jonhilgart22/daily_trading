{
 "cells": [
  {
   "cell_type": "code",
   "execution_count": 1,
   "metadata": {},
   "outputs": [
    {
     "name": "stdout",
     "output_type": "stream",
     "text": [
      "Populating the interactive namespace from numpy and matplotlib\n"
     ]
    }
   ],
   "source": [
    "import pandas as pd\n",
    "import glob\n",
    "import numpy as numpy\n",
    "import matplotlib.pyplot as plt\n",
    "from collections import defaultdict\n",
    "from tqdm import tqdm\n",
    "import time\n",
    "%pylab inline"
   ]
  },
  {
   "cell_type": "markdown",
   "metadata": {},
   "source": [
    "## Read in data\n"
   ]
  },
  {
   "cell_type": "code",
   "execution_count": 2,
   "metadata": {},
   "outputs": [
    {
     "name": "stdout",
     "output_type": "stream",
     "text": [
      "Reading in pnr\n",
      "Reading in bac\n",
      "Reading in ni\n",
      "Reading in vno\n",
      "Reading in ual\n",
      "Reading in efx\n",
      "Reading in ph\n",
      "Reading in rop\n",
      "Reading in are\n",
      "Reading in pg\n",
      "Reading in pvh\n",
      "Reading in lb\n",
      "Reading in cern\n",
      "Reading in peg\n",
      "Reading in adbe\n",
      "Reading in emr\n",
      "Reading in ce\n",
      "Reading in eqix\n",
      "Reading in rost\n",
      "Reading in so\n"
     ]
    }
   ],
   "source": [
    "dict_of_stocks_and_dfs = {}\n",
    "for file_ in glob.glob('../data/updated_historical_stock_data/*.csv'):\n",
    "    stock_name = file_.rsplit(\"/\")[-1].split('_')[0].lower() \n",
    "    print(f\"Reading in {stock_name}\")\n",
    "    dict_of_stocks_and_dfs[stock_name] = pd.read_csv(f\"{file_}\")\n"
   ]
  },
  {
   "cell_type": "code",
   "execution_count": 3,
   "metadata": {},
   "outputs": [
    {
     "data": {
      "text/plain": [
       "dict_keys(['pnr', 'bac', 'ni', 'vno', 'ual', 'efx', 'ph', 'rop', 'are', 'pg', 'pvh', 'lb', 'cern', 'peg', 'adbe', 'emr', 'ce', 'eqix', 'rost', 'so'])"
      ]
     },
     "execution_count": 3,
     "metadata": {},
     "output_type": "execute_result"
    }
   ],
   "source": [
    "# key is company value is df of data\n",
    "dict_of_stocks_and_dfs.keys()"
   ]
  },
  {
   "cell_type": "markdown",
   "metadata": {},
   "source": [
    "# Create correlation & variance features\n",
    "- Daily, weekly, 30-days, 90-days, 180-days, 365-days"
   ]
  },
  {
   "cell_type": "code",
   "execution_count": 4,
   "metadata": {},
   "outputs": [],
   "source": [
    "\n",
    "# here the date is not the index, yet\n",
    "first_stock_df = dict_of_stocks_and_dfs['ph'].loc[ dict_of_stocks_and_dfs['ph'].date.isin(dict_of_stocks_and_dfs['emr'].date), :]"
   ]
  },
  {
   "cell_type": "code",
   "execution_count": 5,
   "metadata": {},
   "outputs": [
    {
     "data": {
      "text/plain": [
       "2858.765436116092"
      ]
     },
     "execution_count": 5,
     "metadata": {},
     "output_type": "execute_result"
    }
   ],
   "source": [
    "np.var(first_stock_df.close)"
   ]
  },
  {
   "cell_type": "code",
   "execution_count": 6,
   "metadata": {},
   "outputs": [],
   "source": [
    "\n",
    "# here the date is not the index, yet\n",
    "first_stock_df = dict_of_stocks_and_dfs['ph'].loc[ dict_of_stocks_and_dfs['ph'].date.isin(dict_of_stocks_and_dfs['emr'].date), :]\n",
    "#  filter second df by the dates in first\n",
    "\n",
    "# here the date is not the index, yet\n",
    "second_stock_df = dict_of_stocks_and_dfs['emr'].loc[ dict_of_stocks_and_dfs['emr'].date.isin(dict_of_stocks_and_dfs['ph'].date), :]"
   ]
  },
  {
   "cell_type": "markdown",
   "metadata": {},
   "source": [
    "## Set the date as the index and sort"
   ]
  },
  {
   "cell_type": "code",
   "execution_count": 7,
   "metadata": {},
   "outputs": [],
   "source": [
    "first_stock_df = first_stock_df.sort_values('date')\n",
    "second_stock_df = second_stock_df.sort_values('date')\n",
    "\n",
    "first_stock_df = first_stock_df.set_index('date')\n",
    "second_stock_df = second_stock_df.set_index('date')"
   ]
  },
  {
   "cell_type": "code",
   "execution_count": 8,
   "metadata": {},
   "outputs": [
    {
     "data": {
      "text/plain": [
       "'2020-04-17'"
      ]
     },
     "execution_count": 8,
     "metadata": {},
     "output_type": "execute_result"
    }
   ],
   "source": [
    "first_stock_df.index.max()"
   ]
  },
  {
   "cell_type": "code",
   "execution_count": 9,
   "metadata": {},
   "outputs": [
    {
     "data": {
      "text/plain": [
       "'2020-04-17'"
      ]
     },
     "execution_count": 9,
     "metadata": {},
     "output_type": "execute_result"
    }
   ],
   "source": [
    "second_stock_df.index.max()"
   ]
  },
  {
   "cell_type": "code",
   "execution_count": 10,
   "metadata": {},
   "outputs": [
    {
     "data": {
      "text/plain": [
       "array([[1.        , 0.95353675],\n",
       "       [0.95353675, 1.        ]])"
      ]
     },
     "execution_count": 10,
     "metadata": {},
     "output_type": "execute_result"
    }
   ],
   "source": [
    "np.corrcoef(first_stock_df.close, second_stock_df.close) # all time corrcoef"
   ]
  },
  {
   "cell_type": "code",
   "execution_count": 11,
   "metadata": {},
   "outputs": [
    {
     "data": {
      "text/plain": [
       "<matplotlib.axes._subplots.AxesSubplot at 0x111ecfe48>"
      ]
     },
     "execution_count": 11,
     "metadata": {},
     "output_type": "execute_result"
    },
    {
     "data": {
      "image/png": "[encoded data removed]",
      "text/plain": [
       "<Figure size 432x288 with 1 Axes>"
      ]
     },
     "metadata": {
      "needs_background": "light"
     },
     "output_type": "display_data"
    }
   ],
   "source": [
    "\n",
    "ax = first_stock_df.plot(y='close')\n",
    "second_stock_df.plot(y='close', color='red', ax=ax)"
   ]
  },
  {
   "cell_type": "code",
   "execution_count": 12,
   "metadata": {},
   "outputs": [
    {
     "name": "stdout",
     "output_type": "stream",
     "text": [
      "Idx 0 out of 8988\n",
      "Idx 100 out of 8988\n",
      "Idx 200 out of 8988\n",
      "Idx 300 out of 8988\n",
      "Idx 400 out of 8988\n",
      "Idx 500 out of 8988\n",
      "Idx 600 out of 8988\n",
      "Idx 700 out of 8988\n",
      "Idx 800 out of 8988\n",
      "Idx 900 out of 8988\n",
      "Idx 1000 out of 8988\n",
      "Idx 1100 out of 8988\n",
      "Idx 1200 out of 8988\n",
      "Idx 1300 out of 8988\n",
      "Idx 1400 out of 8988\n",
      "Idx 1500 out of 8988\n",
      "Idx 1600 out of 8988\n",
      "Idx 1700 out of 8988\n",
      "Idx 1800 out of 8988\n",
      "Idx 1900 out of 8988\n",
      "Idx 2000 out of 8988\n",
      "Idx 2100 out of 8988\n",
      "Idx 2200 out of 8988\n",
      "Idx 2300 out of 8988\n",
      "Idx 2400 out of 8988\n",
      "Idx 2500 out of 8988\n",
      "Idx 2600 out of 8988\n",
      "Idx 2700 out of 8988\n",
      "Idx 2800 out of 8988\n",
      "Idx 2900 out of 8988\n",
      "Idx 3000 out of 8988\n",
      "Idx 3100 out of 8988\n",
      "Idx 3200 out of 8988\n",
      "Idx 3300 out of 8988\n",
      "Idx 3400 out of 8988\n",
      "Idx 3500 out of 8988\n",
      "Idx 3600 out of 8988\n",
      "Idx 3700 out of 8988\n",
      "Idx 3800 out of 8988\n",
      "Idx 3900 out of 8988\n",
      "Idx 4000 out of 8988\n",
      "Idx 4100 out of 8988\n",
      "Idx 4200 out of 8988\n",
      "Idx 4300 out of 8988\n",
      "Idx 4400 out of 8988\n",
      "Idx 4500 out of 8988\n",
      "Idx 4600 out of 8988\n",
      "Idx 4700 out of 8988\n",
      "Idx 4800 out of 8988\n",
      "Idx 4900 out of 8988\n",
      "Idx 5000 out of 8988\n",
      "Idx 5100 out of 8988\n",
      "Idx 5200 out of 8988\n",
      "Idx 5300 out of 8988\n",
      "Idx 5400 out of 8988\n",
      "Idx 5500 out of 8988\n",
      "Idx 5600 out of 8988\n",
      "Idx 5700 out of 8988\n",
      "Idx 5800 out of 8988\n",
      "Idx 5900 out of 8988\n",
      "Idx 6000 out of 8988\n",
      "Idx 6100 out of 8988\n",
      "Idx 6200 out of 8988\n",
      "Idx 6300 out of 8988\n",
      "Idx 6400 out of 8988\n",
      "Idx 6500 out of 8988\n",
      "Idx 6600 out of 8988\n",
      "Idx 6700 out of 8988\n",
      "Idx 6800 out of 8988\n",
      "Idx 6900 out of 8988\n",
      "Idx 7000 out of 8988\n",
      "Idx 7100 out of 8988\n",
      "Idx 7200 out of 8988\n",
      "Idx 7300 out of 8988\n",
      "Idx 7400 out of 8988\n",
      "Idx 7500 out of 8988\n",
      "Idx 7600 out of 8988\n",
      "Idx 7700 out of 8988\n",
      "Idx 7800 out of 8988\n",
      "Idx 7900 out of 8988\n",
      "Idx 8000 out of 8988\n",
      "Idx 8100 out of 8988\n",
      "Idx 8200 out of 8988\n",
      "Idx 8300 out of 8988\n",
      "Idx 8400 out of 8988\n",
      "Idx 8500 out of 8988\n",
      "Idx 8600 out of 8988\n",
      "Idx 8700 out of 8988\n",
      "Idx 8800 out of 8988\n",
      "Idx 8900 out of 8988\n"
     ]
    },
    {
     "name": "stderr",
     "output_type": "stream",
     "text": [
      "/Users/jonathanhilgart/Library/Caches/pypoetry/virtualenvs/daily-trading-nJ43NNNI-py3.7/lib/python3.7/site-packages/numpy/lib/function_base.py:2526: RuntimeWarning: Degrees of freedom <= 0 for slice\n",
      "  c = cov(x, y, rowvar)\n",
      "/Users/jonathanhilgart/Library/Caches/pypoetry/virtualenvs/daily-trading-nJ43NNNI-py3.7/lib/python3.7/site-packages/numpy/lib/function_base.py:2455: RuntimeWarning: divide by zero encountered in true_divide\n",
      "  c *= np.true_divide(1, fact)\n",
      "/Users/jonathanhilgart/Library/Caches/pypoetry/virtualenvs/daily-trading-nJ43NNNI-py3.7/lib/python3.7/site-packages/numpy/lib/function_base.py:2455: RuntimeWarning: invalid value encountered in multiply\n",
      "  c *= np.true_divide(1, fact)\n"
     ]
    }
   ],
   "source": [
    "n_rows = len(first_stock_df)\n",
    "n_days_stride = 365\n",
    "\n",
    "previous_row = 0\n",
    "c = 0\n",
    "\n",
    "correlation_per_time_period = defaultdict(list)\n",
    "for day_window in range(n_rows):\n",
    "    \n",
    "    if day_window % 100 == 0:\n",
    "        print(f\"Idx {day_window} out of {n_rows}\")\n",
    "    first_stock= first_stock_df.iloc[previous_row:day_window + n_days_stride, :]\n",
    "    second_stock = second_stock_df.iloc[previous_row:day_window + n_days_stride, :]\n",
    "#     print(f\"Correcoef for {first_stock.index.min()} to {second_stock.index.max()}\")\n",
    "    correlation = np.corrcoef(first_stock.close, second_stock.close)[0,1]\n",
    "\n",
    "#     print(correlation) \n",
    "    \n",
    "    correlation_per_time_period['date'].append(first_stock.index.min())\n",
    "    correlation_per_time_period['correlation'].append(correlation)\n",
    "    \n",
    "    previous_row+= 1\n",
    "\n",
    "    \n",
    "    "
   ]
  },
  {
   "cell_type": "code",
   "execution_count": 15,
   "metadata": {},
   "outputs": [
    {
     "data": {
      "text/html": [
       "<div>\n",
       "<style scoped>\n",
       "    .dataframe tbody tr th:only-of-type {\n",
       "        vertical-align: middle;\n",
       "    }\n",
       "\n",
       "    .dataframe tbody tr th {\n",
       "        vertical-align: top;\n",
       "    }\n",
       "\n",
       "    .dataframe thead th {\n",
       "        text-align: right;\n",
       "    }\n",
       "</style>\n",
       "<table border=\"1\" class=\"dataframe\">\n",
       "  <thead>\n",
       "    <tr style=\"text-align: right;\">\n",
       "      <th></th>\n",
       "      <th>correlation</th>\n",
       "    </tr>\n",
       "    <tr>\n",
       "      <th>date</th>\n",
       "      <th></th>\n",
       "    </tr>\n",
       "  </thead>\n",
       "  <tbody>\n",
       "    <tr>\n",
       "      <th>1985-07-01</th>\n",
       "      <td>0.908957</td>\n",
       "    </tr>\n",
       "    <tr>\n",
       "      <th>1985-07-02</th>\n",
       "      <td>0.908344</td>\n",
       "    </tr>\n",
       "    <tr>\n",
       "      <th>1985-07-03</th>\n",
       "      <td>0.908069</td>\n",
       "    </tr>\n",
       "    <tr>\n",
       "      <th>1985-07-05</th>\n",
       "      <td>0.907743</td>\n",
       "    </tr>\n",
       "    <tr>\n",
       "      <th>1985-07-08</th>\n",
       "      <td>0.907586</td>\n",
       "    </tr>\n",
       "    <tr>\n",
       "      <th>...</th>\n",
       "      <td>...</td>\n",
       "    </tr>\n",
       "    <tr>\n",
       "      <th>2020-04-13</th>\n",
       "      <td>0.936544</td>\n",
       "    </tr>\n",
       "    <tr>\n",
       "      <th>2020-04-14</th>\n",
       "      <td>0.965812</td>\n",
       "    </tr>\n",
       "    <tr>\n",
       "      <th>2020-04-15</th>\n",
       "      <td>0.970104</td>\n",
       "    </tr>\n",
       "    <tr>\n",
       "      <th>2020-04-16</th>\n",
       "      <td>1.000000</td>\n",
       "    </tr>\n",
       "    <tr>\n",
       "      <th>2020-04-17</th>\n",
       "      <td>NaN</td>\n",
       "    </tr>\n",
       "  </tbody>\n",
       "</table>\n",
       "<p>8988 rows × 1 columns</p>\n",
       "</div>"
      ],
      "text/plain": [
       "            correlation\n",
       "date                   \n",
       "1985-07-01     0.908957\n",
       "1985-07-02     0.908344\n",
       "1985-07-03     0.908069\n",
       "1985-07-05     0.907743\n",
       "1985-07-08     0.907586\n",
       "...                 ...\n",
       "2020-04-13     0.936544\n",
       "2020-04-14     0.965812\n",
       "2020-04-15     0.970104\n",
       "2020-04-16     1.000000\n",
       "2020-04-17          NaN\n",
       "\n",
       "[8988 rows x 1 columns]"
      ]
     },
     "execution_count": 15,
     "metadata": {},
     "output_type": "execute_result"
    }
   ],
   "source": [
    "correlation_df = pd.DataFrame(correlation_per_time_period)\n",
    "correlation_df.set_index('date')"
   ]
  },
  {
   "cell_type": "code",
   "execution_count": 16,
   "metadata": {},
   "outputs": [
    {
     "name": "stdout",
     "output_type": "stream",
     "text": [
      "<class 'pandas.core.frame.DataFrame'>\n",
      "RangeIndex: 8988 entries, 0 to 8987\n",
      "Data columns (total 2 columns):\n",
      " #   Column       Non-Null Count  Dtype  \n",
      "---  ------       --------------  -----  \n",
      " 0   date         8988 non-null   object \n",
      " 1   correlation  8987 non-null   float64\n",
      "dtypes: float64(1), object(1)\n",
      "memory usage: 140.6+ KB\n"
     ]
    }
   ],
   "source": [
    "correlation_df.info()"
   ]
  },
  {
   "cell_type": "code",
   "execution_count": 17,
   "metadata": {},
   "outputs": [
    {
     "data": {
      "text/plain": [
       "<matplotlib.axes._subplots.AxesSubplot at 0x1127612e8>"
      ]
     },
     "execution_count": 17,
     "metadata": {},
     "output_type": "execute_result"
    },
    {
     "data": {
      "image/png": "[encoded data removed]",
      "text/plain": [
       "<Figure size 2160x360 with 1 Axes>"
      ]
     },
     "metadata": {
      "needs_background": "light"
     },
     "output_type": "display_data"
    }
   ],
   "source": [
    "correlation_df.set_index('date').plot(figsize=(30,5), title='Rolling 365-day correlation between ph and emr')"
   ]
  },
  {
   "cell_type": "code",
   "execution_count": 19,
   "metadata": {},
   "outputs": [
    {
     "data": {
      "text/plain": [
       "'2020-04-17'"
      ]
     },
     "execution_count": 19,
     "metadata": {},
     "output_type": "execute_result"
    }
   ],
   "source": [
    "correlation_df.date.max()"
   ]
  },
  {
   "cell_type": "code",
   "execution_count": 20,
   "metadata": {},
   "outputs": [
    {
     "data": {
      "text/html": [
       "<div>\n",
       "<style scoped>\n",
       "    .dataframe tbody tr th:only-of-type {\n",
       "        vertical-align: middle;\n",
       "    }\n",
       "\n",
       "    .dataframe tbody tr th {\n",
       "        vertical-align: top;\n",
       "    }\n",
       "\n",
       "    .dataframe thead th {\n",
       "        text-align: right;\n",
       "    }\n",
       "</style>\n",
       "<table border=\"1\" class=\"dataframe\">\n",
       "  <thead>\n",
       "    <tr style=\"text-align: right;\">\n",
       "      <th></th>\n",
       "      <th>date</th>\n",
       "      <th>correlation</th>\n",
       "    </tr>\n",
       "  </thead>\n",
       "  <tbody>\n",
       "    <tr>\n",
       "      <th>0</th>\n",
       "      <td>1985-07-01</td>\n",
       "      <td>0.908957</td>\n",
       "    </tr>\n",
       "    <tr>\n",
       "      <th>1</th>\n",
       "      <td>1985-07-02</td>\n",
       "      <td>0.908344</td>\n",
       "    </tr>\n",
       "    <tr>\n",
       "      <th>2</th>\n",
       "      <td>1985-07-03</td>\n",
       "      <td>0.908069</td>\n",
       "    </tr>\n",
       "    <tr>\n",
       "      <th>3</th>\n",
       "      <td>1985-07-05</td>\n",
       "      <td>0.907743</td>\n",
       "    </tr>\n",
       "    <tr>\n",
       "      <th>4</th>\n",
       "      <td>1985-07-08</td>\n",
       "      <td>0.907586</td>\n",
       "    </tr>\n",
       "    <tr>\n",
       "      <th>...</th>\n",
       "      <td>...</td>\n",
       "      <td>...</td>\n",
       "    </tr>\n",
       "    <tr>\n",
       "      <th>8983</th>\n",
       "      <td>2020-04-13</td>\n",
       "      <td>0.936544</td>\n",
       "    </tr>\n",
       "    <tr>\n",
       "      <th>8984</th>\n",
       "      <td>2020-04-14</td>\n",
       "      <td>0.965812</td>\n",
       "    </tr>\n",
       "    <tr>\n",
       "      <th>8985</th>\n",
       "      <td>2020-04-15</td>\n",
       "      <td>0.970104</td>\n",
       "    </tr>\n",
       "    <tr>\n",
       "      <th>8986</th>\n",
       "      <td>2020-04-16</td>\n",
       "      <td>1.000000</td>\n",
       "    </tr>\n",
       "    <tr>\n",
       "      <th>8987</th>\n",
       "      <td>2020-04-17</td>\n",
       "      <td>NaN</td>\n",
       "    </tr>\n",
       "  </tbody>\n",
       "</table>\n",
       "<p>8988 rows × 2 columns</p>\n",
       "</div>"
      ],
      "text/plain": [
       "            date  correlation\n",
       "0     1985-07-01     0.908957\n",
       "1     1985-07-02     0.908344\n",
       "2     1985-07-03     0.908069\n",
       "3     1985-07-05     0.907743\n",
       "4     1985-07-08     0.907586\n",
       "...          ...          ...\n",
       "8983  2020-04-13     0.936544\n",
       "8984  2020-04-14     0.965812\n",
       "8985  2020-04-15     0.970104\n",
       "8986  2020-04-16     1.000000\n",
       "8987  2020-04-17          NaN\n",
       "\n",
       "[8988 rows x 2 columns]"
      ]
     },
     "execution_count": 20,
     "metadata": {},
     "output_type": "execute_result"
    }
   ],
   "source": [
    "correlation_df"
   ]
  },
  {
   "cell_type": "code",
   "execution_count": 21,
   "metadata": {},
   "outputs": [
    {
     "data": {
      "text/html": [
       "<div>\n",
       "<style scoped>\n",
       "    .dataframe tbody tr th:only-of-type {\n",
       "        vertical-align: middle;\n",
       "    }\n",
       "\n",
       "    .dataframe tbody tr th {\n",
       "        vertical-align: top;\n",
       "    }\n",
       "\n",
       "    .dataframe thead th {\n",
       "        text-align: right;\n",
       "    }\n",
       "</style>\n",
       "<table border=\"1\" class=\"dataframe\">\n",
       "  <thead>\n",
       "    <tr style=\"text-align: right;\">\n",
       "      <th></th>\n",
       "      <th>date</th>\n",
       "      <th>correlation</th>\n",
       "    </tr>\n",
       "  </thead>\n",
       "  <tbody>\n",
       "    <tr>\n",
       "      <th>0</th>\n",
       "      <td>1985-07-01</td>\n",
       "      <td>0.908957</td>\n",
       "    </tr>\n",
       "    <tr>\n",
       "      <th>1</th>\n",
       "      <td>1985-07-02</td>\n",
       "      <td>0.908344</td>\n",
       "    </tr>\n",
       "    <tr>\n",
       "      <th>2</th>\n",
       "      <td>1985-07-03</td>\n",
       "      <td>0.908069</td>\n",
       "    </tr>\n",
       "    <tr>\n",
       "      <th>3</th>\n",
       "      <td>1985-07-05</td>\n",
       "      <td>0.907743</td>\n",
       "    </tr>\n",
       "    <tr>\n",
       "      <th>4</th>\n",
       "      <td>1985-07-08</td>\n",
       "      <td>0.907586</td>\n",
       "    </tr>\n",
       "    <tr>\n",
       "      <th>...</th>\n",
       "      <td>...</td>\n",
       "      <td>...</td>\n",
       "    </tr>\n",
       "    <tr>\n",
       "      <th>8983</th>\n",
       "      <td>2020-04-13</td>\n",
       "      <td>0.936544</td>\n",
       "    </tr>\n",
       "    <tr>\n",
       "      <th>8984</th>\n",
       "      <td>2020-04-14</td>\n",
       "      <td>0.965812</td>\n",
       "    </tr>\n",
       "    <tr>\n",
       "      <th>8985</th>\n",
       "      <td>2020-04-15</td>\n",
       "      <td>0.970104</td>\n",
       "    </tr>\n",
       "    <tr>\n",
       "      <th>8986</th>\n",
       "      <td>2020-04-16</td>\n",
       "      <td>1.000000</td>\n",
       "    </tr>\n",
       "    <tr>\n",
       "      <th>8987</th>\n",
       "      <td>2020-04-17</td>\n",
       "      <td>NaN</td>\n",
       "    </tr>\n",
       "  </tbody>\n",
       "</table>\n",
       "<p>8988 rows × 2 columns</p>\n",
       "</div>"
      ],
      "text/plain": [
       "            date  correlation\n",
       "0     1985-07-01     0.908957\n",
       "1     1985-07-02     0.908344\n",
       "2     1985-07-03     0.908069\n",
       "3     1985-07-05     0.907743\n",
       "4     1985-07-08     0.907586\n",
       "...          ...          ...\n",
       "8983  2020-04-13     0.936544\n",
       "8984  2020-04-14     0.965812\n",
       "8985  2020-04-15     0.970104\n",
       "8986  2020-04-16     1.000000\n",
       "8987  2020-04-17          NaN\n",
       "\n",
       "[8988 rows x 2 columns]"
      ]
     },
     "execution_count": 21,
     "metadata": {},
     "output_type": "execute_result"
    }
   ],
   "source": [
    "correlation_df"
   ]
  },
  {
   "cell_type": "markdown",
   "metadata": {},
   "source": [
    "## Build a function to create correlation features for all pairs of stocks"
   ]
  },
  {
   "cell_type": "code",
   "execution_count": 32,
   "metadata": {},
   "outputs": [],
   "source": [
    "def build_correlation_dfs(dict_of_stocks_and_dfs, n_day_rolling_features_list=[ 3, 7, 30, 180, 365, 720]):\n",
    "    \"\"\"\n",
    "    Create correlation + variance based  upon daily closing stock prices for given date ranges 3, 7, 30, 180, 365 days\n",
    "    \n",
    "    also include daily volume\n",
    "    \n",
    "    We are trying to  predict 7 day correaltion\n",
    "    \"\"\"\n",
    "\n",
    "    stock_features_dict = defaultdict(pd.DataFrame)\n",
    "    start_time = time.time()\n",
    "    \n",
    "    start = time.time()\n",
    "    n_stocks = len(dict_of_stocks_and_dfs.keys())\n",
    "    \n",
    "    for idx, first_stock_name in enumerate(dict_of_stocks_and_dfs.keys()):\n",
    "        print('')\n",
    "        print(f\"Finished {idx/n_stocks} pct of stocks\")\n",
    "        print('')\n",
    "        for second_stock_name in dict_of_stocks_and_dfs.keys():\n",
    "            if first_stock_name == second_stock_name:\n",
    "                continue\n",
    "            print('-------')\n",
    "            print(f\"{first_stock_name} & {second_stock_name}\")\n",
    "            print('-------')\n",
    "            \n",
    "            # here the date is not the index, yet\n",
    "            first_stock_df = dict_of_stocks_and_dfs[f\"{first_stock_name}\"].loc[ \n",
    "                dict_of_stocks_and_dfs[f\"{first_stock_name}\"].date.isin(dict_of_stocks_and_dfs[f\"{second_stock_name}\"].date), :]\n",
    "            #  filter second df by the dates in first\n",
    "\n",
    "            # here the date is not the index, yet\n",
    "            second_stock_df = dict_of_stocks_and_dfs[f\"{second_stock_name}\"].loc[ \n",
    "                dict_of_stocks_and_dfs[f\"{second_stock_name}\"].date.isin(dict_of_stocks_and_dfs[f\"{first_stock_name}\"].date), :]\n",
    "\n",
    "            # set the date as an index and sort by date\n",
    "            first_stock_df = first_stock_df.sort_values('date')\n",
    "            second_stock_df = second_stock_df.sort_values('date')\n",
    "\n",
    "            first_stock_df = first_stock_df.set_index('date')\n",
    "            second_stock_df = second_stock_df.set_index('date')\n",
    "            \n",
    "            all_features_df = None\n",
    "            for rolling_idx, rolling_day in enumerate(n_day_rolling_features_list):\n",
    "                features_df = create_correlation_and_variance_features(\n",
    "                    first_stock_df, second_stock_df, rolling_day, first_stock_name=first_stock_name, second_stock_name=second_stock_name)\n",
    "                 \n",
    "                if rolling_idx == 0: # only add in volume features once\n",
    "                    features_df[f\"{first_stock_name}_volume\"] = list(first_stock_df.volume)\n",
    "                    features_df[f\"{second_stock_name}_volume\"] = list(second_stock_df.volume)\n",
    "                    all_features_df = features_df\n",
    "                else:\n",
    "                    all_features_df = all_features_df.set_index('date').merge(features_df, on='date')\n",
    "            print(all_features_df.info())\n",
    "        \n",
    "            stock_features_dict[f\"{first_stock_name}_and_{second_stock_name}\"] = all_features_df\n",
    "            \n",
    "            end = time.time()\n",
    "            print(f\"Building all correlations took {(end-start)/60} minutes\")\n",
    "            start = time.time()\n",
    "            \n",
    "        if idx == 2:\n",
    "            break\n",
    "\n",
    "    end_time = time.time()\n",
    "    print(f\"Total time {(end_time-start_time) / 60} minutes\")\n",
    "    return stock_features_dict\n",
    "            \n",
    "        \n",
    "\n",
    "# Note: will eventuall need to add in 0s for stocks withour correlation data with other stocks due to date range"
   ]
  },
  {
   "cell_type": "code",
   "execution_count": 33,
   "metadata": {},
   "outputs": [],
   "source": [
    "def create_correlation_and_variance_features(first_stock_df, second_stock_df, n_days_stride, \n",
    "                                             first_stock_name=None, second_stock_name=None):\n",
    "    \"\"\"\n",
    "    n_days_stride: the  number of rolling days to calculate correlation for\n",
    "    \"\"\"\n",
    "    n_rows = len(first_stock_df)\n",
    "\n",
    "    previous_row = 0\n",
    "\n",
    "    features_per_time_period = defaultdict(list)\n",
    "    print(f\"Creating correlations + variance on close for {n_days_stride} days\")\n",
    "    \n",
    "    for day_window in tqdm(range(n_rows)):\n",
    "\n",
    "\n",
    "        first_stock= first_stock_df.iloc[previous_row:day_window + n_days_stride, :]\n",
    "        second_stock = second_stock_df.iloc[previous_row:day_window + n_days_stride, :]\n",
    "        \n",
    "        try:\n",
    "            correlation = np.corrcoef(first_stock.close, second_stock.close)[0,1]\n",
    "        except Exception as e:\n",
    "            print(f\" ERROR: {e}\")\n",
    "\n",
    "        features_per_time_period['date'].append(first_stock.index.min())\n",
    "\n",
    "        features_per_time_period[f\"{first_stock_name}_{second_stock_name}_corr_rolling_{n_days_stride}_days\"].append(correlation)\n",
    "        # CODE TO ADD IN VARIANCE\n",
    "#         first_stock_var = np.var(first_stock.close)\n",
    "#         second_stock_var = np.var(second_stock.close)\n",
    "        \n",
    "#         features_per_time_period[f\"{first_stock_name}_close_var_rolling_{n_days_stride}_days\"].append(first_stock_var)\n",
    "#         features_per_time_period[f\"{second_stock_name}_close_var_rolling_{n_days_stride}_days\"].append(second_stock_var)\n",
    "    \n",
    "        \n",
    "        previous_row+= 1 # calculate snapshots every day...7/1-7/7, 7/2-7/8, ...etc\n",
    "    \n",
    "    print('Finished feature calculation')\n",
    "    features_per_time_period_df = pd.DataFrame(features_per_time_period)\n",
    "    features_per_time_period_df.set_index('date')\n",
    "    \n",
    "    return features_per_time_period_df\n"
   ]
  },
  {
   "cell_type": "code",
   "execution_count": null,
   "metadata": {},
   "outputs": [
    {
     "name": "stderr",
     "output_type": "stream",
     "text": [
      "  2%|▏         | 88/4029 [00:00<00:04, 871.23it/s]"
     ]
    },
    {
     "name": "stdout",
     "output_type": "stream",
     "text": [
      "\n",
      "Finished 0.0 pct of stocks\n",
      "\n",
      "-------\n",
      "pnr & bac\n",
      "-------\n",
      "Creating correlations + variance on close for 3 days\n"
     ]
    },
    {
     "name": "stderr",
     "output_type": "stream",
     "text": [
      " 98%|█████████▊| 3959/4029 [00:04<00:00, 1254.41it/s]/Users/jonathanhilgart/Library/Caches/pypoetry/virtualenvs/daily-trading-nJ43NNNI-py3.7/lib/python3.7/site-packages/numpy/lib/function_base.py:2526: RuntimeWarning: Degrees of freedom <= 0 for slice\n",
      "  c = cov(x, y, rowvar)\n",
      "/Users/jonathanhilgart/Library/Caches/pypoetry/virtualenvs/daily-trading-nJ43NNNI-py3.7/lib/python3.7/site-packages/numpy/lib/function_base.py:2455: RuntimeWarning: divide by zero encountered in true_divide\n",
      "  c *= np.true_divide(1, fact)\n",
      "100%|██████████| 4029/4029 [00:04<00:00, 940.79it/s] \n",
      "  3%|▎         | 128/4029 [00:00<00:03, 1276.35it/s]"
     ]
    },
    {
     "name": "stdout",
     "output_type": "stream",
     "text": [
      "Finished feature calculation\n",
      "Creating correlations + variance on close for 7 days\n"
     ]
    },
    {
     "name": "stderr",
     "output_type": "stream",
     "text": [
      "100%|██████████| 4029/4029 [00:03<00:00, 1305.01it/s]\n",
      "  2%|▏         | 91/4029 [00:00<00:04, 904.64it/s]"
     ]
    },
    {
     "name": "stdout",
     "output_type": "stream",
     "text": [
      "Finished feature calculation\n",
      "Creating correlations + variance on close for 30 days\n"
     ]
    },
    {
     "name": "stderr",
     "output_type": "stream",
     "text": [
      "100%|██████████| 4029/4029 [00:04<00:00, 1006.98it/s]\n",
      "  3%|▎         | 104/4029 [00:00<00:03, 1031.52it/s]"
     ]
    },
    {
     "name": "stdout",
     "output_type": "stream",
     "text": [
      "Finished feature calculation\n",
      "Creating correlations + variance on close for 180 days\n"
     ]
    },
    {
     "name": "stderr",
     "output_type": "stream",
     "text": [
      "100%|██████████| 4029/4029 [00:03<00:00, 1129.51it/s]\n",
      "  2%|▏         | 70/4029 [00:00<00:05, 691.13it/s]"
     ]
    },
    {
     "name": "stdout",
     "output_type": "stream",
     "text": [
      "Finished feature calculation\n",
      "Creating correlations + variance on close for 365 days\n"
     ]
    },
    {
     "name": "stderr",
     "output_type": "stream",
     "text": [
      "100%|██████████| 4029/4029 [00:03<00:00, 1061.10it/s]\n",
      "  2%|▏         | 83/4029 [00:00<00:04, 829.99it/s]"
     ]
    },
    {
     "name": "stdout",
     "output_type": "stream",
     "text": [
      "Finished feature calculation\n",
      "Creating correlations + variance on close for 720 days\n"
     ]
    },
    {
     "name": "stderr",
     "output_type": "stream",
     "text": [
      "100%|██████████| 4029/4029 [00:03<00:00, 1220.70it/s]\n",
      "  3%|▎         | 129/4029 [00:00<00:03, 1284.10it/s]"
     ]
    },
    {
     "name": "stdout",
     "output_type": "stream",
     "text": [
      "Finished feature calculation\n",
      "<class 'pandas.core.frame.DataFrame'>\n",
      "Int64Index: 17545 entries, 0 to 17544\n",
      "Data columns (total 9 columns):\n",
      " #   Column                         Non-Null Count  Dtype  \n",
      "---  ------                         --------------  -----  \n",
      " 0   date                           17545 non-null  object \n",
      " 1   pnr_bac_corr_rolling_3_days    17543 non-null  float64\n",
      " 2   pnr_volume                     17545 non-null  int64  \n",
      " 3   bac_volume                     17545 non-null  int64  \n",
      " 4   pnr_bac_corr_rolling_7_days    17544 non-null  float64\n",
      " 5   pnr_bac_corr_rolling_30_days   17544 non-null  float64\n",
      " 6   pnr_bac_corr_rolling_180_days  17544 non-null  float64\n",
      " 7   pnr_bac_corr_rolling_365_days  17544 non-null  float64\n",
      " 8   pnr_bac_corr_rolling_720_days  17544 non-null  float64\n",
      "dtypes: float64(6), int64(2), object(1)\n",
      "memory usage: 1.3+ MB\n",
      "None\n",
      "Building all correlations took 0.3690439860026042 minutes\n",
      "-------\n",
      "pnr & ni\n",
      "-------\n",
      "Creating correlations + variance on close for 3 days\n"
     ]
    },
    {
     "name": "stderr",
     "output_type": "stream",
     "text": [
      "100%|██████████| 4029/4029 [00:03<00:00, 1223.12it/s]\n",
      "  4%|▎         | 147/4029 [00:00<00:02, 1464.35it/s]"
     ]
    },
    {
     "name": "stdout",
     "output_type": "stream",
     "text": [
      "Finished feature calculation\n",
      "Creating correlations + variance on close for 7 days\n"
     ]
    },
    {
     "name": "stderr",
     "output_type": "stream",
     "text": [
      "100%|██████████| 4029/4029 [00:03<00:00, 1109.18it/s]\n",
      "  3%|▎         | 128/4029 [00:00<00:03, 1276.27it/s]"
     ]
    },
    {
     "name": "stdout",
     "output_type": "stream",
     "text": [
      "Finished feature calculation\n",
      "Creating correlations + variance on close for 30 days\n"
     ]
    },
    {
     "name": "stderr",
     "output_type": "stream",
     "text": [
      "100%|██████████| 4029/4029 [00:02<00:00, 1475.00it/s]\n",
      "  4%|▍         | 161/4029 [00:00<00:02, 1609.76it/s]"
     ]
    },
    {
     "name": "stdout",
     "output_type": "stream",
     "text": [
      "Finished feature calculation\n",
      "Creating correlations + variance on close for 180 days\n"
     ]
    },
    {
     "name": "stderr",
     "output_type": "stream",
     "text": [
      "100%|██████████| 4029/4029 [00:02<00:00, 1529.57it/s]\n",
      "  4%|▍         | 152/4029 [00:00<00:02, 1511.34it/s]"
     ]
    },
    {
     "name": "stdout",
     "output_type": "stream",
     "text": [
      "Finished feature calculation\n",
      "Creating correlations + variance on close for 365 days\n"
     ]
    },
    {
     "name": "stderr",
     "output_type": "stream",
     "text": [
      "100%|██████████| 4029/4029 [00:02<00:00, 1470.97it/s]\n",
      "  4%|▎         | 148/4029 [00:00<00:02, 1475.25it/s]"
     ]
    },
    {
     "name": "stdout",
     "output_type": "stream",
     "text": [
      "Finished feature calculation\n",
      "Creating correlations + variance on close for 720 days\n"
     ]
    },
    {
     "name": "stderr",
     "output_type": "stream",
     "text": [
      "100%|██████████| 4029/4029 [00:02<00:00, 1395.70it/s]\n",
      "  4%|▍         | 158/4029 [00:00<00:02, 1579.70it/s]"
     ]
    },
    {
     "name": "stdout",
     "output_type": "stream",
     "text": [
      "Finished feature calculation\n",
      "<class 'pandas.core.frame.DataFrame'>\n",
      "Int64Index: 17545 entries, 0 to 17544\n",
      "Data columns (total 9 columns):\n",
      " #   Column                        Non-Null Count  Dtype  \n",
      "---  ------                        --------------  -----  \n",
      " 0   date                          17545 non-null  object \n",
      " 1   pnr_ni_corr_rolling_3_days    17480 non-null  float64\n",
      " 2   pnr_volume                    17545 non-null  int64  \n",
      " 3   ni_volume                     17545 non-null  int64  \n",
      " 4   pnr_ni_corr_rolling_7_days    17544 non-null  float64\n",
      " 5   pnr_ni_corr_rolling_30_days   17544 non-null  float64\n",
      " 6   pnr_ni_corr_rolling_180_days  17544 non-null  float64\n",
      " 7   pnr_ni_corr_rolling_365_days  17544 non-null  float64\n",
      " 8   pnr_ni_corr_rolling_720_days  17544 non-null  float64\n",
      "dtypes: float64(6), int64(2), object(1)\n",
      "memory usage: 1.3+ MB\n",
      "None\n",
      "Building all correlations took 0.30011768341064454 minutes\n",
      "-------\n",
      "pnr & vno\n",
      "-------\n",
      "Creating correlations + variance on close for 3 days\n"
     ]
    },
    {
     "name": "stderr",
     "output_type": "stream",
     "text": [
      "100%|██████████| 4029/4029 [00:02<00:00, 1541.74it/s]\n",
      "  4%|▍         | 156/4029 [00:00<00:02, 1554.63it/s]"
     ]
    },
    {
     "name": "stdout",
     "output_type": "stream",
     "text": [
      "Finished feature calculation\n",
      "Creating correlations + variance on close for 7 days\n"
     ]
    },
    {
     "name": "stderr",
     "output_type": "stream",
     "text": [
      "100%|██████████| 4029/4029 [00:02<00:00, 1501.90it/s]\n",
      "  4%|▍         | 155/4029 [00:00<00:02, 1548.44it/s]"
     ]
    },
    {
     "name": "stdout",
     "output_type": "stream",
     "text": [
      "Finished feature calculation\n",
      "Creating correlations + variance on close for 30 days\n"
     ]
    },
    {
     "name": "stderr",
     "output_type": "stream",
     "text": [
      "100%|██████████| 4029/4029 [00:02<00:00, 1465.75it/s]\n",
      "  4%|▍         | 152/4029 [00:00<00:02, 1516.69it/s]"
     ]
    },
    {
     "name": "stdout",
     "output_type": "stream",
     "text": [
      "Finished feature calculation\n",
      "Creating correlations + variance on close for 180 days\n"
     ]
    },
    {
     "name": "stderr",
     "output_type": "stream",
     "text": [
      "100%|██████████| 4029/4029 [00:02<00:00, 1521.68it/s]\n",
      "  4%|▎         | 148/4029 [00:00<00:02, 1471.04it/s]"
     ]
    },
    {
     "name": "stdout",
     "output_type": "stream",
     "text": [
      "Finished feature calculation\n",
      "Creating correlations + variance on close for 365 days\n"
     ]
    },
    {
     "name": "stderr",
     "output_type": "stream",
     "text": [
      "100%|██████████| 4029/4029 [00:02<00:00, 1419.62it/s]\n",
      "  3%|▎         | 140/4029 [00:00<00:02, 1398.64it/s]"
     ]
    },
    {
     "name": "stdout",
     "output_type": "stream",
     "text": [
      "Finished feature calculation\n",
      "Creating correlations + variance on close for 720 days\n"
     ]
    },
    {
     "name": "stderr",
     "output_type": "stream",
     "text": [
      "100%|██████████| 4029/4029 [00:02<00:00, 1435.57it/s]\n",
      "  4%|▍         | 152/3799 [00:00<00:02, 1512.72it/s]"
     ]
    },
    {
     "name": "stdout",
     "output_type": "stream",
     "text": [
      "Finished feature calculation\n",
      "<class 'pandas.core.frame.DataFrame'>\n",
      "Int64Index: 17545 entries, 0 to 17544\n",
      "Data columns (total 9 columns):\n",
      " #   Column                         Non-Null Count  Dtype  \n",
      "---  ------                         --------------  -----  \n",
      " 0   date                           17545 non-null  object \n",
      " 1   pnr_vno_corr_rolling_3_days    17544 non-null  float64\n",
      " 2   pnr_volume                     17545 non-null  int64  \n",
      " 3   vno_volume                     17545 non-null  int64  \n",
      " 4   pnr_vno_corr_rolling_7_days    17544 non-null  float64\n",
      " 5   pnr_vno_corr_rolling_30_days   17544 non-null  float64\n",
      " 6   pnr_vno_corr_rolling_180_days  17544 non-null  float64\n",
      " 7   pnr_vno_corr_rolling_365_days  17544 non-null  float64\n",
      " 8   pnr_vno_corr_rolling_720_days  17544 non-null  float64\n",
      "dtypes: float64(6), int64(2), object(1)\n",
      "memory usage: 1.3+ MB\n",
      "None\n",
      "Building all correlations took 0.2736776312192281 minutes\n",
      "-------\n",
      "pnr & ual\n",
      "-------\n",
      "Creating correlations + variance on close for 3 days\n"
     ]
    },
    {
     "name": "stderr",
     "output_type": "stream",
     "text": [
      "100%|██████████| 3799/3799 [00:02<00:00, 1570.18it/s]\n",
      "  4%|▍         | 158/3799 [00:00<00:02, 1573.42it/s]"
     ]
    },
    {
     "name": "stdout",
     "output_type": "stream",
     "text": [
      "Finished feature calculation\n",
      "Creating correlations + variance on close for 7 days\n"
     ]
    },
    {
     "name": "stderr",
     "output_type": "stream",
     "text": [
      "100%|██████████| 3799/3799 [00:02<00:00, 1511.98it/s]\n",
      "  4%|▍         | 151/3799 [00:00<00:02, 1502.94it/s]"
     ]
    },
    {
     "name": "stdout",
     "output_type": "stream",
     "text": [
      "Finished feature calculation\n",
      "Creating correlations + variance on close for 30 days\n"
     ]
    },
    {
     "name": "stderr",
     "output_type": "stream",
     "text": [
      "100%|██████████| 3799/3799 [00:02<00:00, 1563.64it/s]\n",
      "  4%|▍         | 156/3799 [00:00<00:02, 1554.90it/s]"
     ]
    },
    {
     "name": "stdout",
     "output_type": "stream",
     "text": [
      "Finished feature calculation\n",
      "Creating correlations + variance on close for 180 days\n"
     ]
    },
    {
     "name": "stderr",
     "output_type": "stream",
     "text": [
      "100%|██████████| 3799/3799 [00:02<00:00, 1530.54it/s]\n",
      "  4%|▍         | 145/3799 [00:00<00:02, 1446.28it/s]"
     ]
    },
    {
     "name": "stdout",
     "output_type": "stream",
     "text": [
      "Finished feature calculation\n",
      "Creating correlations + variance on close for 365 days\n"
     ]
    },
    {
     "name": "stderr",
     "output_type": "stream",
     "text": [
      "100%|██████████| 3799/3799 [00:02<00:00, 1456.13it/s]\n",
      "  4%|▍         | 145/3799 [00:00<00:02, 1446.69it/s]"
     ]
    },
    {
     "name": "stdout",
     "output_type": "stream",
     "text": [
      "Finished feature calculation\n",
      "Creating correlations + variance on close for 720 days\n"
     ]
    },
    {
     "name": "stderr",
     "output_type": "stream",
     "text": [
      "100%|██████████| 3799/3799 [00:02<00:00, 1394.87it/s]\n",
      "  4%|▍         | 164/4029 [00:00<00:02, 1637.69it/s]"
     ]
    },
    {
     "name": "stdout",
     "output_type": "stream",
     "text": [
      "Finished feature calculation\n",
      "<class 'pandas.core.frame.DataFrame'>\n",
      "Int64Index: 17315 entries, 0 to 17314\n",
      "Data columns (total 9 columns):\n",
      " #   Column                         Non-Null Count  Dtype  \n",
      "---  ------                         --------------  -----  \n",
      " 0   date                           17315 non-null  object \n",
      " 1   pnr_ual_corr_rolling_3_days    17250 non-null  float64\n",
      " 2   pnr_volume                     17315 non-null  int64  \n",
      " 3   ual_volume                     17315 non-null  int64  \n",
      " 4   pnr_ual_corr_rolling_7_days    17314 non-null  float64\n",
      " 5   pnr_ual_corr_rolling_30_days   17314 non-null  float64\n",
      " 6   pnr_ual_corr_rolling_180_days  17314 non-null  float64\n",
      " 7   pnr_ual_corr_rolling_365_days  17314 non-null  float64\n",
      " 8   pnr_ual_corr_rolling_720_days  17314 non-null  float64\n",
      "dtypes: float64(6), int64(2), object(1)\n",
      "memory usage: 1.3+ MB\n",
      "None\n",
      "Building all correlations took 0.25429689486821494 minutes\n",
      "-------\n",
      "pnr & efx\n",
      "-------\n",
      "Creating correlations + variance on close for 3 days\n"
     ]
    },
    {
     "name": "stderr",
     "output_type": "stream",
     "text": [
      "100%|██████████| 4029/4029 [00:02<00:00, 1588.75it/s]\n",
      "  4%|▍         | 161/4029 [00:00<00:02, 1601.46it/s]"
     ]
    },
    {
     "name": "stdout",
     "output_type": "stream",
     "text": [
      "Finished feature calculation\n",
      "Creating correlations + variance on close for 7 days\n"
     ]
    },
    {
     "name": "stderr",
     "output_type": "stream",
     "text": [
      "100%|██████████| 4029/4029 [00:02<00:00, 1604.17it/s]\n",
      "  4%|▍         | 159/4029 [00:00<00:02, 1580.51it/s]"
     ]
    },
    {
     "name": "stdout",
     "output_type": "stream",
     "text": [
      "Finished feature calculation\n",
      "Creating correlations + variance on close for 30 days\n"
     ]
    },
    {
     "name": "stderr",
     "output_type": "stream",
     "text": [
      "100%|██████████| 4029/4029 [00:02<00:00, 1518.26it/s]\n",
      "  4%|▍         | 154/4029 [00:00<00:02, 1537.51it/s]"
     ]
    },
    {
     "name": "stdout",
     "output_type": "stream",
     "text": [
      "Finished feature calculation\n",
      "Creating correlations + variance on close for 180 days\n"
     ]
    },
    {
     "name": "stderr",
     "output_type": "stream",
     "text": [
      "100%|██████████| 4029/4029 [00:02<00:00, 1531.15it/s]\n",
      "  4%|▍         | 156/4029 [00:00<00:02, 1552.44it/s]"
     ]
    },
    {
     "name": "stdout",
     "output_type": "stream",
     "text": [
      "Finished feature calculation\n",
      "Creating correlations + variance on close for 365 days\n"
     ]
    },
    {
     "name": "stderr",
     "output_type": "stream",
     "text": [
      "100%|██████████| 4029/4029 [00:02<00:00, 1498.20it/s]\n",
      "  3%|▎         | 134/4029 [00:00<00:02, 1335.49it/s]"
     ]
    },
    {
     "name": "stdout",
     "output_type": "stream",
     "text": [
      "Finished feature calculation\n",
      "Creating correlations + variance on close for 720 days\n"
     ]
    },
    {
     "name": "stderr",
     "output_type": "stream",
     "text": [
      "100%|██████████| 4029/4029 [00:02<00:00, 1420.24it/s]\n",
      "  4%|▍         | 155/4029 [00:00<00:02, 1538.25it/s]"
     ]
    },
    {
     "name": "stdout",
     "output_type": "stream",
     "text": [
      "Finished feature calculation\n",
      "<class 'pandas.core.frame.DataFrame'>\n",
      "Int64Index: 17545 entries, 0 to 17544\n",
      "Data columns (total 9 columns):\n",
      " #   Column                         Non-Null Count  Dtype  \n",
      "---  ------                         --------------  -----  \n",
      " 0   date                           17545 non-null  object \n",
      " 1   pnr_efx_corr_rolling_3_days    17544 non-null  float64\n",
      " 2   pnr_volume                     17545 non-null  int64  \n",
      " 3   efx_volume                     17545 non-null  int64  \n",
      " 4   pnr_efx_corr_rolling_7_days    17544 non-null  float64\n",
      " 5   pnr_efx_corr_rolling_30_days   17544 non-null  float64\n",
      " 6   pnr_efx_corr_rolling_180_days  17544 non-null  float64\n",
      " 7   pnr_efx_corr_rolling_365_days  17544 non-null  float64\n",
      " 8   pnr_efx_corr_rolling_720_days  17544 non-null  float64\n",
      "dtypes: float64(6), int64(2), object(1)\n",
      "memory usage: 1.3+ MB\n",
      "None\n",
      "Building all correlations took 0.26570406357447307 minutes\n",
      "-------\n",
      "pnr & ph\n",
      "-------\n",
      "Creating correlations + variance on close for 3 days\n"
     ]
    },
    {
     "name": "stderr",
     "output_type": "stream",
     "text": [
      "100%|██████████| 4029/4029 [00:02<00:00, 1532.37it/s]\n",
      "  4%|▍         | 160/4029 [00:00<00:02, 1597.41it/s]"
     ]
    },
    {
     "name": "stdout",
     "output_type": "stream",
     "text": [
      "Finished feature calculation\n",
      "Creating correlations + variance on close for 7 days\n"
     ]
    },
    {
     "name": "stderr",
     "output_type": "stream",
     "text": [
      "100%|██████████| 4029/4029 [00:02<00:00, 1552.16it/s]\n",
      "  4%|▍         | 154/4029 [00:00<00:02, 1538.91it/s]"
     ]
    },
    {
     "name": "stdout",
     "output_type": "stream",
     "text": [
      "Finished feature calculation\n",
      "Creating correlations + variance on close for 30 days\n"
     ]
    },
    {
     "name": "stderr",
     "output_type": "stream",
     "text": [
      "100%|██████████| 4029/4029 [00:02<00:00, 1558.79it/s]\n",
      "  4%|▍         | 162/4029 [00:00<00:02, 1615.95it/s]"
     ]
    },
    {
     "name": "stdout",
     "output_type": "stream",
     "text": [
      "Finished feature calculation\n",
      "Creating correlations + variance on close for 180 days\n"
     ]
    },
    {
     "name": "stderr",
     "output_type": "stream",
     "text": [
      "100%|██████████| 4029/4029 [00:02<00:00, 1523.55it/s]\n",
      "  4%|▎         | 148/4029 [00:00<00:02, 1475.26it/s]"
     ]
    },
    {
     "name": "stdout",
     "output_type": "stream",
     "text": [
      "Finished feature calculation\n",
      "Creating correlations + variance on close for 365 days\n"
     ]
    },
    {
     "name": "stderr",
     "output_type": "stream",
     "text": [
      "100%|██████████| 4029/4029 [00:02<00:00, 1474.29it/s]\n",
      "  4%|▎         | 142/4029 [00:00<00:02, 1409.04it/s]"
     ]
    },
    {
     "name": "stdout",
     "output_type": "stream",
     "text": [
      "Finished feature calculation\n",
      "Creating correlations + variance on close for 720 days\n"
     ]
    },
    {
     "name": "stderr",
     "output_type": "stream",
     "text": [
      "100%|██████████| 4029/4029 [00:02<00:00, 1415.88it/s]\n",
      "  4%|▍         | 152/4029 [00:00<00:02, 1512.25it/s]"
     ]
    },
    {
     "name": "stdout",
     "output_type": "stream",
     "text": [
      "Finished feature calculation\n",
      "<class 'pandas.core.frame.DataFrame'>\n",
      "Int64Index: 17545 entries, 0 to 17544\n",
      "Data columns (total 9 columns):\n",
      " #   Column                        Non-Null Count  Dtype  \n",
      "---  ------                        --------------  -----  \n",
      " 0   date                          17545 non-null  object \n",
      " 1   pnr_ph_corr_rolling_3_days    17543 non-null  float64\n",
      " 2   pnr_volume                    17545 non-null  int64  \n",
      " 3   ph_volume                     17545 non-null  int64  \n",
      " 4   pnr_ph_corr_rolling_7_days    17544 non-null  float64\n",
      " 5   pnr_ph_corr_rolling_30_days   17544 non-null  float64\n",
      " 6   pnr_ph_corr_rolling_180_days  17544 non-null  float64\n",
      " 7   pnr_ph_corr_rolling_365_days  17544 non-null  float64\n",
      " 8   pnr_ph_corr_rolling_720_days  17544 non-null  float64\n",
      "dtypes: float64(6), int64(2), object(1)\n",
      "memory usage: 1.3+ MB\n",
      "None\n",
      "Building all correlations took 0.2685550014177958 minutes\n",
      "-------\n",
      "pnr & rop\n",
      "-------\n",
      "Creating correlations + variance on close for 3 days\n"
     ]
    },
    {
     "name": "stderr",
     "output_type": "stream",
     "text": [
      "100%|██████████| 4029/4029 [00:02<00:00, 1566.81it/s]\n",
      "  4%|▍         | 158/4029 [00:00<00:02, 1577.71it/s]"
     ]
    },
    {
     "name": "stdout",
     "output_type": "stream",
     "text": [
      "Finished feature calculation\n",
      "Creating correlations + variance on close for 7 days\n"
     ]
    },
    {
     "name": "stderr",
     "output_type": "stream",
     "text": [
      " 39%|███▉      | 1576/4029 [00:01<00:01, 1570.24it/s]"
     ]
    }
   ],
   "source": [
    "# 100 minutes for 20 stocks (20*20 = 400 pairs each pair takes .25 minutes)\n",
    "final_stock_df = build_correlation_dfs(dict_of_stocks_and_dfs)"
   ]
  },
  {
   "cell_type": "code",
   "execution_count": null,
   "metadata": {},
   "outputs": [],
   "source": [
    "final_stock_df.values()"
   ]
  },
  {
   "cell_type": "code",
   "execution_count": null,
   "metadata": {},
   "outputs": [],
   "source": [
    "final_stock_df['pnr_and_bac'].set_index('date')[['corr_rolling_365_days','corr_rolling_180_days', \n",
    "                                                 'corr_rolling_30_days', 'corr_rolling_720_days']].plot(figsize=(15,5))"
   ]
  },
  {
   "cell_type": "markdown",
   "metadata": {},
   "source": [
    "## Train Test Split to predict correaltion over the next 7 days"
   ]
  },
  {
   "cell_type": "code",
   "execution_count": null,
   "metadata": {},
   "outputs": [],
   "source": []
  }
 ],
 "metadata": {
  "file_extension": ".py",
  "kernelspec": {
   "display_name": "Python 3.7.0 64-bit ('daily-trading-nJ43NNNI-py3.7': venv)",
   "language": "python",
   "name": "python37064bitdailytradingnj43nnnipy37venvd9db9359ec934f90b15f4732101b653e"
  },
  "language_info": {
   "codemirror_mode": {
    "name": "ipython",
    "version": 3
   },
   "file_extension": ".py",
   "mimetype": "text/x-python",
   "name": "python",
   "nbconvert_exporter": "python",
   "pygments_lexer": "ipython3",
   "version": "3.7.0"
  },
  "mimetype": "text/x-python",
  "name": "python",
  "npconvert_exporter": "python",
  "pygments_lexer": "ipython3",
  "version": 3
 },
 "nbformat": 4,
 "nbformat_minor": 4
}
