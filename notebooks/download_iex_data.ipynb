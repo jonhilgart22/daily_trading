{
 "cells": [
  {
   "cell_type": "code",
   "execution_count": 2,
   "metadata": {},
   "outputs": [],
   "source": [
    "import pandas as pd\n",
    "from iexfinance.stocks import Stock\n",
    "from datetime import datetime\n",
    "import matplotlib.pyplot as plt\n",
    "from iexfinance.stocks import get_historical_data\n",
    "import os\n",
    "import yaml\n",
    "import sys\n",
    "import datetime\n",
    "import glob\n",
    "\n",
    "# used to access data directory\n",
    "sys.path.insert(0,'../')"
   ]
  },
  {
   "cell_type": "code",
   "execution_count": 3,
   "metadata": {},
   "outputs": [],
   "source": [
    "import pandas as pd\n",
    "table=pd.read_html('https://en.wikipedia.org/wiki/List_of_S%26P_500_companies')\n",
    "df = table[0]\n",
    "df.to_csv('S&P500-Info.csv')\n",
    "df.to_csv(\"S&P500-Symbols.csv\", columns=['Symbol'])"
   ]
  },
  {
   "cell_type": "code",
   "execution_count": 4,
   "metadata": {},
   "outputs": [
    {
     "name": "stderr",
     "output_type": "stream",
     "text": [
      "/Users/jonathanhilgart/Library/Caches/pypoetry/virtualenvs/daily-trading-nJ43NNNI-py3.7/lib/python3.7/site-packages/ipykernel_launcher.py:4: YAMLLoadWarning: calling yaml.load() without Loader=... is deprecated, as the default Loader is unsafe. Please read https://msg.pyyaml.org/load for full details.\n",
      "  after removing the cwd from sys.path.\n"
     ]
    }
   ],
   "source": [
    "#  source ~/.ssh/iex_key.sh\n",
    "# ENV var IEX_KEY\n",
    "API_TOKEN=    credentials = yaml.load(open(os.path.expanduser(\n",
    "        '~/.ssh/api_credentials.yml')))['iex']['api_key']"
   ]
  },
  {
   "cell_type": "code",
   "execution_count": 5,
   "metadata": {},
   "outputs": [
    {
     "data": {
      "text/plain": [
       "'pk_291949b3b45c490fa2a95869d87121c5'"
      ]
     },
     "execution_count": 5,
     "metadata": {},
     "output_type": "execute_result"
    }
   ],
   "source": [
    "API_TOKEN"
   ]
  },
  {
   "cell_type": "code",
   "execution_count": 6,
   "metadata": {},
   "outputs": [],
   "source": [
    "sp = pd.read_csv('../data/S&P500-Symbols.csv', index_col=[0])\n"
   ]
  },
  {
   "cell_type": "code",
   "execution_count": 7,
   "metadata": {},
   "outputs": [
    {
     "data": {
      "text/html": [
       "<div>\n",
       "<style scoped>\n",
       "    .dataframe tbody tr th:only-of-type {\n",
       "        vertical-align: middle;\n",
       "    }\n",
       "\n",
       "    .dataframe tbody tr th {\n",
       "        vertical-align: top;\n",
       "    }\n",
       "\n",
       "    .dataframe thead th {\n",
       "        text-align: right;\n",
       "    }\n",
       "</style>\n",
       "<table border=\"1\" class=\"dataframe\">\n",
       "  <thead>\n",
       "    <tr style=\"text-align: right;\">\n",
       "      <th></th>\n",
       "      <th>Symbol</th>\n",
       "    </tr>\n",
       "  </thead>\n",
       "  <tbody>\n",
       "    <tr>\n",
       "      <th>0</th>\n",
       "      <td>MMM</td>\n",
       "    </tr>\n",
       "    <tr>\n",
       "      <th>1</th>\n",
       "      <td>ABT</td>\n",
       "    </tr>\n",
       "    <tr>\n",
       "      <th>2</th>\n",
       "      <td>ABBV</td>\n",
       "    </tr>\n",
       "    <tr>\n",
       "      <th>3</th>\n",
       "      <td>ABMD</td>\n",
       "    </tr>\n",
       "    <tr>\n",
       "      <th>4</th>\n",
       "      <td>ACN</td>\n",
       "    </tr>\n",
       "    <tr>\n",
       "      <th>...</th>\n",
       "      <td>...</td>\n",
       "    </tr>\n",
       "    <tr>\n",
       "      <th>500</th>\n",
       "      <td>YUM</td>\n",
       "    </tr>\n",
       "    <tr>\n",
       "      <th>501</th>\n",
       "      <td>ZBRA</td>\n",
       "    </tr>\n",
       "    <tr>\n",
       "      <th>502</th>\n",
       "      <td>ZBH</td>\n",
       "    </tr>\n",
       "    <tr>\n",
       "      <th>503</th>\n",
       "      <td>ZION</td>\n",
       "    </tr>\n",
       "    <tr>\n",
       "      <th>504</th>\n",
       "      <td>ZTS</td>\n",
       "    </tr>\n",
       "  </tbody>\n",
       "</table>\n",
       "<p>505 rows × 1 columns</p>\n",
       "</div>"
      ],
      "text/plain": [
       "    Symbol\n",
       "0      MMM\n",
       "1      ABT\n",
       "2     ABBV\n",
       "3     ABMD\n",
       "4      ACN\n",
       "..     ...\n",
       "500    YUM\n",
       "501   ZBRA\n",
       "502    ZBH\n",
       "503   ZION\n",
       "504    ZTS\n",
       "\n",
       "[505 rows x 1 columns]"
      ]
     },
     "execution_count": 7,
     "metadata": {},
     "output_type": "execute_result"
    }
   ],
   "source": [
    "sp"
   ]
  },
  {
   "cell_type": "markdown",
   "metadata": {},
   "source": [
    "## test calls to IEX"
   ]
  },
  {
   "cell_type": "code",
   "execution_count": 8,
   "metadata": {},
   "outputs": [],
   "source": [
    "# getCompanyInfo returns a dictionary with the company symbol as a key and the info as the value \n",
    "# call to iex finance api to return company info for a list of symbols\n",
    "def getCompanyInfo(symbols):\n",
    "    stock_batch = Stock(symbols, token=API_TOKEN)\n",
    "    company_info = stock_batch.get_company()\n",
    "    return company_info"
   ]
  },
  {
   "cell_type": "code",
   "execution_count": 9,
   "metadata": {},
   "outputs": [],
   "source": [
    "sp_company_info = getCompanyInfo(sp[\"Symbol\"][:5].tolist())\n"
   ]
  },
  {
   "cell_type": "code",
   "execution_count": 10,
   "metadata": {},
   "outputs": [],
   "source": [
    "company_info_to_df = []\n",
    "for company in sp_company_info:\n",
    "    company_info_to_df.append(sp_company_info[company])"
   ]
  },
  {
   "cell_type": "code",
   "execution_count": 11,
   "metadata": {},
   "outputs": [
    {
     "data": {
      "text/html": [
       "<div>\n",
       "<style scoped>\n",
       "    .dataframe tbody tr th:only-of-type {\n",
       "        vertical-align: middle;\n",
       "    }\n",
       "\n",
       "    .dataframe tbody tr th {\n",
       "        vertical-align: top;\n",
       "    }\n",
       "\n",
       "    .dataframe thead th {\n",
       "        text-align: right;\n",
       "    }\n",
       "</style>\n",
       "<table border=\"1\" class=\"dataframe\">\n",
       "  <thead>\n",
       "    <tr style=\"text-align: right;\">\n",
       "      <th></th>\n",
       "      <th>symbol</th>\n",
       "      <th>companyName</th>\n",
       "      <th>exchange</th>\n",
       "      <th>industry</th>\n",
       "      <th>website</th>\n",
       "      <th>CEO</th>\n",
       "      <th>sector</th>\n",
       "    </tr>\n",
       "  </thead>\n",
       "  <tbody>\n",
       "    <tr>\n",
       "      <th>0</th>\n",
       "      <td>MMM</td>\n",
       "      <td>3M Co.</td>\n",
       "      <td>New York Stock Exchange</td>\n",
       "      <td>Industrial Conglomerates</td>\n",
       "      <td>http://www.3m.com</td>\n",
       "      <td>Michael F. Roman</td>\n",
       "      <td>Producer Manufacturing</td>\n",
       "    </tr>\n",
       "    <tr>\n",
       "      <th>1</th>\n",
       "      <td>ABT</td>\n",
       "      <td>Abbott Laboratories</td>\n",
       "      <td>New York Stock Exchange</td>\n",
       "      <td>Medical Specialties</td>\n",
       "      <td>http://www.abbott.com</td>\n",
       "      <td>Robert B. Ford</td>\n",
       "      <td>Health Technology</td>\n",
       "    </tr>\n",
       "    <tr>\n",
       "      <th>2</th>\n",
       "      <td>ABBV</td>\n",
       "      <td>AbbVie, Inc.</td>\n",
       "      <td>New York Stock Exchange</td>\n",
       "      <td>Pharmaceuticals: Major</td>\n",
       "      <td>http://www.abbvie.com</td>\n",
       "      <td>Richard A. Gonzalez</td>\n",
       "      <td>Health Technology</td>\n",
       "    </tr>\n",
       "    <tr>\n",
       "      <th>3</th>\n",
       "      <td>ABMD</td>\n",
       "      <td>ABIOMED, Inc.</td>\n",
       "      <td>NASDAQ</td>\n",
       "      <td>Medical Specialties</td>\n",
       "      <td>http://www.abiomed.com</td>\n",
       "      <td>Michael R. Minogue</td>\n",
       "      <td>Health Technology</td>\n",
       "    </tr>\n",
       "    <tr>\n",
       "      <th>4</th>\n",
       "      <td>ACN</td>\n",
       "      <td>Accenture Plc</td>\n",
       "      <td>New York Stock Exchange</td>\n",
       "      <td>Information Technology Services</td>\n",
       "      <td>http://www.accenture.com</td>\n",
       "      <td>Julie Spellman Sweet</td>\n",
       "      <td>Technology Services</td>\n",
       "    </tr>\n",
       "  </tbody>\n",
       "</table>\n",
       "</div>"
      ],
      "text/plain": [
       "  symbol          companyName                 exchange  \\\n",
       "0    MMM               3M Co.  New York Stock Exchange   \n",
       "1    ABT  Abbott Laboratories  New York Stock Exchange   \n",
       "2   ABBV         AbbVie, Inc.  New York Stock Exchange   \n",
       "3   ABMD        ABIOMED, Inc.                   NASDAQ   \n",
       "4    ACN        Accenture Plc  New York Stock Exchange   \n",
       "\n",
       "                          industry                   website  \\\n",
       "0         Industrial Conglomerates         http://www.3m.com   \n",
       "1              Medical Specialties     http://www.abbott.com   \n",
       "2           Pharmaceuticals: Major     http://www.abbvie.com   \n",
       "3              Medical Specialties    http://www.abiomed.com   \n",
       "4  Information Technology Services  http://www.accenture.com   \n",
       "\n",
       "                    CEO                  sector  \n",
       "0      Michael F. Roman  Producer Manufacturing  \n",
       "1        Robert B. Ford       Health Technology  \n",
       "2   Richard A. Gonzalez       Health Technology  \n",
       "3    Michael R. Minogue       Health Technology  \n",
       "4  Julie Spellman Sweet     Technology Services  "
      ]
     },
     "execution_count": 11,
     "metadata": {},
     "output_type": "execute_result"
    }
   ],
   "source": [
    "columns = ['symbol', 'companyName', 'exchange',\n",
    "           'industry', 'website', 'CEO', 'sector']\n",
    "company_info_to_df = pd.DataFrame(company_info_to_df, columns=columns )\n",
    "company_info_to_df.head()"
   ]
  },
  {
   "cell_type": "markdown",
   "metadata": {},
   "source": [
    "# Company Earnings"
   ]
  },
  {
   "cell_type": "code",
   "execution_count": 12,
   "metadata": {},
   "outputs": [],
   "source": [
    "def getEarnings(symbol):\n",
    "    stock_batch = Stock(symbol,\n",
    "                        token=API_TOKEN)\n",
    "    earnings = stock_batch.get_earnings(last=4)\n",
    "    return earnings\n",
    "\n",
    "single_stock_earnings = getEarnings(sp[\"Symbol\"][0])"
   ]
  },
  {
   "cell_type": "code",
   "execution_count": 13,
   "metadata": {},
   "outputs": [
    {
     "data": {
      "text/plain": [
       "[{'actualEPS': 2.16,\n",
       "  'consensusEPS': 2.03,\n",
       "  'announceTime': 'BTO',\n",
       "  'numberOfEstimates': 17,\n",
       "  'EPSSurpriseDollar': 0.13,\n",
       "  'EPSReportDate': '2020-04-28',\n",
       "  'fiscalPeriod': 'Q1 2020',\n",
       "  'fiscalEndDate': '2020-03-31',\n",
       "  'yearAgo': 2.23,\n",
       "  'yearAgoChangePercent': -0.0314,\n",
       "  'currency': 'USD'},\n",
       " {'actualEPS': 1.95,\n",
       "  'consensusEPS': 2.11,\n",
       "  'announceTime': 'BTO',\n",
       "  'numberOfEstimates': 17,\n",
       "  'EPSSurpriseDollar': -0.16,\n",
       "  'EPSReportDate': '2020-01-28',\n",
       "  'fiscalPeriod': 'Q4 2019',\n",
       "  'fiscalEndDate': '2019-12-31',\n",
       "  'yearAgo': 2.31,\n",
       "  'yearAgoChangePercent': -0.1558,\n",
       "  'currency': 'USD'},\n",
       " {'actualEPS': 2.58,\n",
       "  'consensusEPS': 2.49,\n",
       "  'announceTime': 'BTO',\n",
       "  'numberOfEstimates': 16,\n",
       "  'EPSSurpriseDollar': 0.09,\n",
       "  'EPSReportDate': '2019-10-24',\n",
       "  'fiscalPeriod': 'Q3 2019',\n",
       "  'fiscalEndDate': '2019-09-30',\n",
       "  'yearAgo': 2.58,\n",
       "  'yearAgoChangePercent': 0,\n",
       "  'currency': 'USD'},\n",
       " {'actualEPS': 2.2,\n",
       "  'consensusEPS': 2.05,\n",
       "  'announceTime': 'BTO',\n",
       "  'numberOfEstimates': 16,\n",
       "  'EPSSurpriseDollar': 0.15,\n",
       "  'EPSReportDate': '2019-07-25',\n",
       "  'fiscalPeriod': 'Q2 2019',\n",
       "  'fiscalEndDate': '2019-06-30',\n",
       "  'yearAgo': 2.59,\n",
       "  'yearAgoChangePercent': -0.1506,\n",
       "  'currency': 'USD'}]"
      ]
     },
     "execution_count": 13,
     "metadata": {},
     "output_type": "execute_result"
    }
   ],
   "source": [
    "single_stock_earnings"
   ]
  },
  {
   "cell_type": "markdown",
   "metadata": {},
   "source": [
    "## Historical Prices"
   ]
  },
  {
   "cell_type": "code",
   "execution_count": 14,
   "metadata": {},
   "outputs": [],
   "source": [
    "def getHistoricalPrices(stock,start_date, end_date):\n",
    "    return get_historical_data(stock, start_date, end_date, \n",
    "                               output_format='pandas', \n",
    "                               token=API_TOKEN)\n",
    " \n",
    "# start = datetime.datetime(2020, 4, 17)\n",
    "# end = datetime.datetime.now() \n",
    "# single_stock_history = getHistoricalPrices('rost', start, end)"
   ]
  },
  {
   "cell_type": "code",
   "execution_count": 15,
   "metadata": {},
   "outputs": [
    {
     "ename": "NameError",
     "evalue": "name 'single_stock_history' is not defined",
     "output_type": "error",
     "traceback": [
      "\u001b[0;31m---------------------------------------------------------------------------\u001b[0m",
      "\u001b[0;31mNameError\u001b[0m                                 Traceback (most recent call last)",
      "\u001b[0;32m<ipython-input-15-74ce10e6ed28>\u001b[0m in \u001b[0;36m<module>\u001b[0;34m\u001b[0m\n\u001b[0;32m----> 1\u001b[0;31m \u001b[0msingle_stock_history\u001b[0m\u001b[0;34m\u001b[0m\u001b[0m\n\u001b[0m",
      "\u001b[0;31mNameError\u001b[0m: name 'single_stock_history' is not defined"
     ]
    }
   ],
   "source": [
    "single_stock_history"
   ]
  },
  {
   "cell_type": "code",
   "execution_count": 16,
   "metadata": {},
   "outputs": [
    {
     "data": {
      "text/plain": [
       "'MMM'"
      ]
     },
     "execution_count": 16,
     "metadata": {},
     "output_type": "execute_result"
    }
   ],
   "source": [
    "sp[\"Symbol\"][0]"
   ]
  },
  {
   "cell_type": "code",
   "execution_count": 17,
   "metadata": {},
   "outputs": [
    {
     "ename": "NameError",
     "evalue": "name 'start' is not defined",
     "output_type": "error",
     "traceback": [
      "\u001b[0;31m---------------------------------------------------------------------------\u001b[0m",
      "\u001b[0;31mNameError\u001b[0m                                 Traceback (most recent call last)",
      "\u001b[0;32m<ipython-input-17-90a0202dfc5d>\u001b[0m in \u001b[0;36m<module>\u001b[0;34m\u001b[0m\n\u001b[0;32m----> 1\u001b[0;31m \u001b[0mgetHistoricalPrices\u001b[0m\u001b[0;34m(\u001b[0m\u001b[0;34m'dia'\u001b[0m\u001b[0;34m,\u001b[0m \u001b[0mstart\u001b[0m\u001b[0;34m,\u001b[0m \u001b[0mend\u001b[0m\u001b[0;34m)\u001b[0m\u001b[0;34m\u001b[0m\u001b[0m\n\u001b[0m",
      "\u001b[0;31mNameError\u001b[0m: name 'start' is not defined"
     ]
    }
   ],
   "source": [
    "getHistoricalPrices('dia', start, end)"
   ]
  },
  {
   "cell_type": "code",
   "execution_count": 18,
   "metadata": {},
   "outputs": [
    {
     "ename": "NameError",
     "evalue": "name 'single_stock_history' is not defined",
     "output_type": "error",
     "traceback": [
      "\u001b[0;31m---------------------------------------------------------------------------\u001b[0m",
      "\u001b[0;31mNameError\u001b[0m                                 Traceback (most recent call last)",
      "\u001b[0;32m<ipython-input-18-74ce10e6ed28>\u001b[0m in \u001b[0;36m<module>\u001b[0;34m\u001b[0m\n\u001b[0;32m----> 1\u001b[0;31m \u001b[0msingle_stock_history\u001b[0m\u001b[0;34m\u001b[0m\u001b[0m\n\u001b[0m",
      "\u001b[0;31mNameError\u001b[0m: name 'single_stock_history' is not defined"
     ]
    }
   ],
   "source": [
    "single_stock_history"
   ]
  },
  {
   "cell_type": "code",
   "execution_count": 19,
   "metadata": {},
   "outputs": [
    {
     "ename": "NameError",
     "evalue": "name 'single_stock_history' is not defined",
     "output_type": "error",
     "traceback": [
      "\u001b[0;31m---------------------------------------------------------------------------\u001b[0m",
      "\u001b[0;31mNameError\u001b[0m                                 Traceback (most recent call last)",
      "\u001b[0;32m<ipython-input-19-b9ad6712dfb6>\u001b[0m in \u001b[0;36m<module>\u001b[0;34m\u001b[0m\n\u001b[0;32m----> 1\u001b[0;31m \u001b[0msingle_stock_history\u001b[0m\u001b[0;34m[\u001b[0m\u001b[0;34m'close'\u001b[0m\u001b[0;34m]\u001b[0m\u001b[0;34m.\u001b[0m\u001b[0mplot\u001b[0m\u001b[0;34m(\u001b[0m\u001b[0mlabel\u001b[0m\u001b[0;34m=\u001b[0m\u001b[0;34m\"3M Close\"\u001b[0m\u001b[0;34m)\u001b[0m\u001b[0;34m\u001b[0m\u001b[0m\n\u001b[0m",
      "\u001b[0;31mNameError\u001b[0m: name 'single_stock_history' is not defined"
     ]
    }
   ],
   "source": [
    "single_stock_history['close'].plot(label=\"3M Close\")"
   ]
  },
  {
   "cell_type": "markdown",
   "metadata": {},
   "source": [
    "# Get list of historical prices for the first 100 stocks\n"
   ]
  },
  {
   "cell_type": "code",
   "execution_count": 20,
   "metadata": {},
   "outputs": [
    {
     "data": {
      "text/html": [
       "<div>\n",
       "<style scoped>\n",
       "    .dataframe tbody tr th:only-of-type {\n",
       "        vertical-align: middle;\n",
       "    }\n",
       "\n",
       "    .dataframe tbody tr th {\n",
       "        vertical-align: top;\n",
       "    }\n",
       "\n",
       "    .dataframe thead th {\n",
       "        text-align: right;\n",
       "    }\n",
       "</style>\n",
       "<table border=\"1\" class=\"dataframe\">\n",
       "  <thead>\n",
       "    <tr style=\"text-align: right;\">\n",
       "      <th></th>\n",
       "      <th>Symbol</th>\n",
       "    </tr>\n",
       "  </thead>\n",
       "  <tbody>\n",
       "    <tr>\n",
       "      <th>0</th>\n",
       "      <td>MMM</td>\n",
       "    </tr>\n",
       "    <tr>\n",
       "      <th>1</th>\n",
       "      <td>ABT</td>\n",
       "    </tr>\n",
       "    <tr>\n",
       "      <th>2</th>\n",
       "      <td>ABBV</td>\n",
       "    </tr>\n",
       "    <tr>\n",
       "      <th>3</th>\n",
       "      <td>ABMD</td>\n",
       "    </tr>\n",
       "    <tr>\n",
       "      <th>4</th>\n",
       "      <td>ACN</td>\n",
       "    </tr>\n",
       "    <tr>\n",
       "      <th>...</th>\n",
       "      <td>...</td>\n",
       "    </tr>\n",
       "    <tr>\n",
       "      <th>95</th>\n",
       "      <td>CE</td>\n",
       "    </tr>\n",
       "    <tr>\n",
       "      <th>96</th>\n",
       "      <td>CNC</td>\n",
       "    </tr>\n",
       "    <tr>\n",
       "      <th>97</th>\n",
       "      <td>CNP</td>\n",
       "    </tr>\n",
       "    <tr>\n",
       "      <th>98</th>\n",
       "      <td>CTL</td>\n",
       "    </tr>\n",
       "    <tr>\n",
       "      <th>99</th>\n",
       "      <td>CERN</td>\n",
       "    </tr>\n",
       "  </tbody>\n",
       "</table>\n",
       "<p>100 rows × 1 columns</p>\n",
       "</div>"
      ],
      "text/plain": [
       "   Symbol\n",
       "0     MMM\n",
       "1     ABT\n",
       "2    ABBV\n",
       "3    ABMD\n",
       "4     ACN\n",
       "..    ...\n",
       "95     CE\n",
       "96    CNC\n",
       "97    CNP\n",
       "98    CTL\n",
       "99   CERN\n",
       "\n",
       "[100 rows x 1 columns]"
      ]
     },
     "execution_count": 20,
     "metadata": {},
     "output_type": "execute_result"
    }
   ],
   "source": [
    "sp[:100]"
   ]
  },
  {
   "cell_type": "code",
   "execution_count": 21,
   "metadata": {},
   "outputs": [
    {
     "ename": "TypeError",
     "evalue": "'module' object is not callable",
     "output_type": "error",
     "traceback": [
      "\u001b[0;31m---------------------------------------------------------------------------\u001b[0m",
      "\u001b[0;31mTypeError\u001b[0m                                 Traceback (most recent call last)",
      "\u001b[0;32m<ipython-input-21-58a0d7c02d93>\u001b[0m in \u001b[0;36m<module>\u001b[0;34m\u001b[0m\n\u001b[0;32m----> 1\u001b[0;31m \u001b[0mstart\u001b[0m \u001b[0;34m=\u001b[0m \u001b[0mdatetime\u001b[0m\u001b[0;34m(\u001b[0m\u001b[0;36m2016\u001b[0m\u001b[0;34m,\u001b[0m \u001b[0;36m1\u001b[0m\u001b[0;34m,\u001b[0m \u001b[0;36m1\u001b[0m\u001b[0;34m)\u001b[0m\u001b[0;34m\u001b[0m\u001b[0m\n\u001b[0m\u001b[1;32m      2\u001b[0m \u001b[0mend\u001b[0m \u001b[0;34m=\u001b[0m \u001b[0mdatetime\u001b[0m\u001b[0;34m(\u001b[0m\u001b[0;36m2020\u001b[0m\u001b[0;34m,\u001b[0m \u001b[0;36m7\u001b[0m\u001b[0;34m,\u001b[0m \u001b[0;36m30\u001b[0m\u001b[0;34m)\u001b[0m\u001b[0;34m\u001b[0m\u001b[0m\n",
      "\u001b[0;31mTypeError\u001b[0m: 'module' object is not callable"
     ]
    }
   ],
   "source": [
    "start = datetime(2016, 1, 1)\n",
    "end = datetime(2020, 7, 30)"
   ]
  },
  {
   "cell_type": "code",
   "execution_count": 22,
   "metadata": {},
   "outputs": [],
   "source": [
    "dict_of_stock_to_historical_price_df = {}"
   ]
  },
  {
   "cell_type": "code",
   "execution_count": 23,
   "metadata": {},
   "outputs": [
    {
     "ename": "NameError",
     "evalue": "name 'start' is not defined",
     "output_type": "error",
     "traceback": [
      "\u001b[0;31m---------------------------------------------------------------------------\u001b[0m",
      "\u001b[0;31mNameError\u001b[0m                                 Traceback (most recent call last)",
      "\u001b[0;32m<ipython-input-23-de9f74e3bd56>\u001b[0m in \u001b[0;36m<module>\u001b[0;34m\u001b[0m\n\u001b[0;32m----> 1\u001b[0;31m \u001b[0mstart\u001b[0m\u001b[0;34m.\u001b[0m\u001b[0myear\u001b[0m\u001b[0;34m,\u001b[0m \u001b[0mstart\u001b[0m\u001b[0;34m.\u001b[0m\u001b[0mmonth\u001b[0m\u001b[0;34m,\u001b[0m \u001b[0mstart\u001b[0m\u001b[0;34m.\u001b[0m\u001b[0mday\u001b[0m\u001b[0;34m\u001b[0m\u001b[0m\n\u001b[0m",
      "\u001b[0;31mNameError\u001b[0m: name 'start' is not defined"
     ]
    }
   ],
   "source": [
    "\n",
    "start.year, start.month, start.day"
   ]
  },
  {
   "cell_type": "code",
   "execution_count": 24,
   "metadata": {},
   "outputs": [
    {
     "name": "stdout",
     "output_type": "stream",
     "text": [
      "Downloading data for MMM\n"
     ]
    },
    {
     "ename": "NameError",
     "evalue": "name 'start' is not defined",
     "output_type": "error",
     "traceback": [
      "\u001b[0;31m---------------------------------------------------------------------------\u001b[0m",
      "\u001b[0;31mNameError\u001b[0m                                 Traceback (most recent call last)",
      "\u001b[0;32m<ipython-input-24-106595dad8cc>\u001b[0m in \u001b[0;36m<module>\u001b[0;34m\u001b[0m\n\u001b[1;32m      1\u001b[0m \u001b[0;32mfor\u001b[0m \u001b[0mstock\u001b[0m \u001b[0;32min\u001b[0m \u001b[0msp\u001b[0m\u001b[0;34m.\u001b[0m\u001b[0mSymbol\u001b[0m\u001b[0;34m[\u001b[0m\u001b[0;34m:\u001b[0m\u001b[0;36m5\u001b[0m\u001b[0;34m]\u001b[0m\u001b[0;34m:\u001b[0m\u001b[0;34m\u001b[0m\u001b[0m\n\u001b[1;32m      2\u001b[0m     \u001b[0mprint\u001b[0m\u001b[0;34m(\u001b[0m\u001b[0;34mf\"Downloading data for {stock}\"\u001b[0m\u001b[0;34m)\u001b[0m\u001b[0;34m\u001b[0m\u001b[0m\n\u001b[0;32m----> 3\u001b[0;31m     \u001b[0mstock_history\u001b[0m \u001b[0;34m=\u001b[0m \u001b[0mgetHistoricalPrices\u001b[0m\u001b[0;34m(\u001b[0m\u001b[0;34mf\"{stock}\"\u001b[0m\u001b[0;34m,\u001b[0m \u001b[0mstart\u001b[0m\u001b[0;34m,\u001b[0m \u001b[0mend\u001b[0m\u001b[0;34m)\u001b[0m\u001b[0;34m\u001b[0m\u001b[0m\n\u001b[0m\u001b[1;32m      4\u001b[0m     \u001b[0mdict_of_stock_to_historical_price_df\u001b[0m\u001b[0;34m[\u001b[0m\u001b[0mstock\u001b[0m\u001b[0;34m]\u001b[0m \u001b[0;34m=\u001b[0m \u001b[0mstock_history\u001b[0m\u001b[0;34m\u001b[0m\u001b[0m\n",
      "\u001b[0;31mNameError\u001b[0m: name 'start' is not defined"
     ]
    }
   ],
   "source": [
    "for stock in sp.Symbol[:5]:\n",
    "    print(f\"Downloading data for {stock}\")\n",
    "    stock_history = getHistoricalPrices(f\"{stock}\", start, end)\n",
    "    dict_of_stock_to_historical_price_df[stock] = stock_history"
   ]
  },
  {
   "cell_type": "code",
   "execution_count": 25,
   "metadata": {},
   "outputs": [
    {
     "ename": "NameError",
     "evalue": "name 'update_s_and_p_dataset' is not defined",
     "output_type": "error",
     "traceback": [
      "\u001b[0;31m---------------------------------------------------------------------------\u001b[0m",
      "\u001b[0;31mNameError\u001b[0m                                 Traceback (most recent call last)",
      "\u001b[0;32m<ipython-input-25-d3fbc235b79e>\u001b[0m in \u001b[0;36m<module>\u001b[0;34m\u001b[0m\n\u001b[0;32m----> 1\u001b[0;31m \u001b[0mupdate_s_and_p_dataset\u001b[0m\u001b[0;34m(\u001b[0m\u001b[0;36m20\u001b[0m\u001b[0;34m)\u001b[0m\u001b[0;34m\u001b[0m\u001b[0m\n\u001b[0m",
      "\u001b[0;31mNameError\u001b[0m: name 'update_s_and_p_dataset' is not defined"
     ]
    }
   ],
   "source": [
    "update_s_and_p_dataset(20)"
   ]
  },
  {
   "cell_type": "code",
   "execution_count": 58,
   "metadata": {},
   "outputs": [],
   "source": [
    "\n",
    "\n",
    "\n",
    "def update_s_and_p_dataset(stock_list=None, file_path=None, n_stock_to_download=100, default_start =datetime.datetime(2017, 1, 1), end = datetime.datetime.now() ):\n",
    "    \"\"\"\n",
    "    Run through the S and P data and update\n",
    "\n",
    "    Minimize API calls by only pulling new data\n",
    "    \"\"\"\n",
    "\n",
    "    for stock in stock_list[:n_stock_to_download]:\n",
    "        stock = stock.lower()\n",
    "        print(f\"downloading data for {stock}\")\n",
    "        we_have_data = False\n",
    "        for file in glob.glob(f'{file_path}/*.csv'):\n",
    "            # check every file to see if we have data on this stock\n",
    "\n",
    "            if f\"{stock}\" in file: # we have a data file for this stock\n",
    "                we_have_data = True\n",
    "                \n",
    "        if we_have_data:\n",
    "            print(f'found existing stock for {stock}')\n",
    "            # open file\n",
    "         \n",
    "            for file in glob.glob(f'{file_path}/*.csv'):\n",
    "                \n",
    "                if f\"{stock}\" in file:\n",
    "                    print('file', f\"{file}\")\n",
    "                    stock_df = pd.read_csv(f\"{file}\").set_index('date')\n",
    "                    \n",
    "                    \n",
    "                    most_recent_date = stock_df.index.max().split(' ')[0]\n",
    "                    oldest_date= stock_df.index.min().split(' ')[0]\n",
    "\n",
    "                    \n",
    "                    stock_df.index = pd.to_datetime(stock_df.index)\n",
    "\n",
    "                    most_recent_year, most_recent_month, most_recent_day = most_recent_date.split('-')\n",
    "                    oldest_year, oldest_month, oldest_day = oldest_date.split('-')\n",
    "\n",
    "                    start = datetime.datetime(int(most_recent_year), int(most_recent_month), int(most_recent_day) + 1)\n",
    "                    stock_history = getHistoricalPrices(f\"{stock}\", start, end)\n",
    "                    \n",
    "                    stock_history.index = pd.to_datetime(stock_history.index)\n",
    "\n",
    "                    #combine new and old stocks\n",
    "                    stock_history = pd.concat((stock_history, stock_df))\n",
    "\n",
    "                    # delete the old file\n",
    "                    os.remove(f\"{file}\")\n",
    "\n",
    "        else: # we don't have this stocks data\n",
    "            stock_history = getHistoricalPrices(f\"{stock}\", default_start, end)\n",
    "            oldest_year=default_start.year\n",
    "            oldest_month=default_start.month\n",
    "            oldest_day=default_start.day\n",
    "                \n",
    "        now = stock_history.index.max()\n",
    "        now_year = now.year\n",
    "        now_month = now.month\n",
    "        now_day = now.day\n",
    "        # save the file\n",
    "        print('file =', f'{file_path}/{stock}_{oldest_year}-{oldest_month}-{oldest_day}_to_{now_year}-{now_month}-{now_day}.csv')\n",
    "\n",
    "        stock_history.to_csv(f'{file_path}/{stock}_{oldest_year}-{oldest_month}-{oldest_day}_to_{now_year}-{now_month}-{now_day}.csv')\n",
    "\n",
    "\n",
    "\n"
   ]
  },
  {
   "cell_type": "code",
   "execution_count": 47,
   "metadata": {},
   "outputs": [],
   "source": [
    "# our test stocks\n",
    "list_of_20_stocks = [ 'adbe', 'are', 'atvi', 'bac', 'ce', 'cern', 'efx', 'emr', 'eqix', 'lb', 'ni', 'peg', 'pg', 'ph', 'pnr', 'pvh', 'rop', 'rost', 'so', 'ual', 'vno']"
   ]
  },
  {
   "cell_type": "code",
   "execution_count": 48,
   "metadata": {},
   "outputs": [],
   "source": [
    "# reits are stocks\n",
    "reit_stock_list = [\n",
    "'vno',\n",
    "'SUI',\n",
    "'DLR',\n",
    "'NRZ',\n",
    "'REG',\n",
    "'FRT',\n",
    "'CPT',\n",
    "'NLY',\n",
    "'PLD',\n",
    "'HASI',\n",
    "'WELL',\n",
    "'DRE',\n",
    "'SRG',\n",
    "'PEI',\n",
    "'IRM',\n",
    "'LAMR',\n",
    "'NRZ',\n",
    "'AGNC',\n",
    "'HIW',\n",
    "'eqix',\n",
    "'are'\n",
    "]"
   ]
  },
  {
   "cell_type": "code",
   "execution_count": null,
   "metadata": {},
   "outputs": [],
   "source": []
  },
  {
   "cell_type": "code",
   "execution_count": 49,
   "metadata": {},
   "outputs": [],
   "source": [
    "bank_stock_list = ['C',\n",
    "'BKU',\n",
    "'CMA',\n",
    "'STT',\n",
    "'FITB',\n",
    "'FTC',\n",
    "'WFC',\n",
    "'MTB',\n",
    "'USB',\n",
    "'BAC',\n",
    "'KEY',\n",
    "'JPM',\n",
    "'PNC',\n",
    "'BKU',\n",
    "'NTRS',\n",
    "'GBCI',\n",
    "'PACW',\n",
    "'WAL',\n",
    "'FSBW',\n",
    "'HTBK',\n",
    "'BCML',\n",
    "'FHB',\n",
    "'HAFC',\n",
    "'CATY',\n",
    "'BOH',\n",
    "'COLB',\n",
    "'CVCY',\n",
    "'OVLY',\n",
    "'HOPE',\n",
    "'CWBC',\n",
    "'UMPQ',\n",
    "'UBFO',\n",
    "'BSRR',\n",
    "'CVBF',\n",
    "'TCBK',\n",
    "'RBB',\n",
    "'PUB',\n",
    "'CPG',\n",
    "'EWBC',\n",
    "'BMRC',\n",
    "'PFBC',\n",
    "'ZION',\n",
    "'WABC',\n",
    "'AMRB',\n",
    "'BOCH',\n",
    "'FRC',\n",
    "'SIVB',\n",
    "'CCB']"
   ]
  },
  {
   "cell_type": "code",
   "execution_count": 50,
   "metadata": {},
   "outputs": [],
   "source": [
    "# retail_stocks = ['m', 'kss','dds','dbi','anf','aeo','zumz','jwn','gps','lb','tpr','cpri','fl','ctrn','goos','spwh','plce','bke','urbn','gco','scvl','cato','boot',\n",
    "#                 'levi','ftch','tjx','rost']"
   ]
  },
  {
   "cell_type": "code",
   "execution_count": 51,
   "metadata": {},
   "outputs": [],
   "source": [
    "list_of_etfs = ['dia', 'spy', 'iwm', 'qqq', 'pej', 'pbj', 'vti',  'vfh', 'ibuy', 'xrt',  'inn', 'bjk']"
   ]
  },
  {
   "cell_type": "code",
   "execution_count": 63,
   "metadata": {},
   "outputs": [
    {
     "name": "stdout",
     "output_type": "stream",
     "text": [
      "downloading data for vno\n",
      "file = ../data/historical_stock_data/vno_2017-1-1_to_2020-5-15.csv\n",
      "downloading data for sui\n",
      "file = ../data/historical_stock_data/sui_2017-1-1_to_2020-5-15.csv\n",
      "downloading data for dlr\n",
      "file = ../data/historical_stock_data/dlr_2017-1-1_to_2020-5-15.csv\n",
      "downloading data for nrz\n",
      "file = ../data/historical_stock_data/nrz_2017-1-1_to_2020-5-15.csv\n",
      "downloading data for reg\n",
      "file = ../data/historical_stock_data/reg_2017-1-1_to_2020-5-15.csv\n",
      "downloading data for frt\n",
      "file = ../data/historical_stock_data/frt_2017-1-1_to_2020-5-15.csv\n",
      "downloading data for cpt\n",
      "file = ../data/historical_stock_data/cpt_2017-1-1_to_2020-5-15.csv\n",
      "downloading data for nly\n",
      "file = ../data/historical_stock_data/nly_2017-1-1_to_2020-5-15.csv\n",
      "downloading data for pld\n",
      "file = ../data/historical_stock_data/pld_2017-1-1_to_2020-5-15.csv\n",
      "downloading data for hasi\n",
      "file = ../data/historical_stock_data/hasi_2017-1-1_to_2020-5-15.csv\n",
      "downloading data for well\n",
      "file = ../data/historical_stock_data/well_2017-1-1_to_2020-5-15.csv\n",
      "downloading data for dre\n",
      "file = ../data/historical_stock_data/dre_2017-1-1_to_2020-5-15.csv\n",
      "downloading data for srg\n",
      "file = ../data/historical_stock_data/srg_2017-1-1_to_2020-5-15.csv\n",
      "downloading data for pei\n",
      "file = ../data/historical_stock_data/pei_2017-1-1_to_2020-5-15.csv\n",
      "downloading data for irm\n",
      "file = ../data/historical_stock_data/irm_2017-1-1_to_2020-5-15.csv\n",
      "downloading data for lamr\n",
      "file = ../data/historical_stock_data/lamr_2017-1-1_to_2020-5-15.csv\n",
      "downloading data for nrz\n",
      "found existing stock for nrz\n",
      "file ../data/historical_stock_data/nrz_2017-1-1_to_2020-5-15.csv\n",
      "file = ../data/historical_stock_data/nrz_2017-01-03_to_2020-5-15.csv\n",
      "downloading data for agnc\n",
      "file = ../data/historical_stock_data/agnc_2017-1-1_to_2020-5-15.csv\n",
      "downloading data for hiw\n",
      "file = ../data/historical_stock_data/hiw_2017-1-1_to_2020-5-15.csv\n",
      "downloading data for eqix\n",
      "file = ../data/historical_stock_data/eqix_2017-1-1_to_2020-5-15.csv\n",
      "downloading data for are\n",
      "file = ../data/historical_stock_data/are_2017-1-1_to_2020-5-15.csv\n"
     ]
    }
   ],
   "source": [
    "file_path_stocks = '../data/historical_stock_data'\n",
    "file_path_etf = '../data/historical_etf_data'\n",
    "update_s_and_p_dataset(file_path=file_path_stocks, stock_list=reit_stock_list) # are reits in stokcs?"
   ]
  },
  {
   "cell_type": "code",
   "execution_count": 44,
   "metadata": {},
   "outputs": [
    {
     "data": {
      "text/plain": [
       "Timestamp('2020-04-17 00:00:00')"
      ]
     },
     "execution_count": 44,
     "metadata": {},
     "output_type": "execute_result"
    }
   ],
   "source": [
    "dict_of_stock_to_historical_price_df['MMM'].index.max() # index is dat as returned from the API"
   ]
  },
  {
   "cell_type": "code",
   "execution_count": 70,
   "metadata": {},
   "outputs": [],
   "source": [
    "mmm_df = pd.read_csv('../data/MMM_2016-01-04_to_2020-04-17.csv')"
   ]
  },
  {
   "cell_type": "code",
   "execution_count": 72,
   "metadata": {},
   "outputs": [
    {
     "data": {
      "text/plain": [
       "'2020-04-17'"
      ]
     },
     "execution_count": 72,
     "metadata": {},
     "output_type": "execute_result"
    }
   ],
   "source": [
    "mmm_df.date.max()"
   ]
  },
  {
   "cell_type": "code",
   "execution_count": null,
   "metadata": {},
   "outputs": [],
   "source": []
  },
  {
   "cell_type": "code",
   "execution_count": 68,
   "metadata": {},
   "outputs": [],
   "source": [
    "dict_of_stock_to_historical_price_df['MMM'].to_csv('../data/MMM_2016-01-04_to_2020-04-17.csv')"
   ]
  },
  {
   "cell_type": "code",
   "execution_count": null,
   "metadata": {},
   "outputs": [],
   "source": []
  },
  {
   "cell_type": "code",
   "execution_count": 61,
   "metadata": {},
   "outputs": [
    {
     "data": {
      "text/plain": [
       "[None, None, None, None, None, None, None, None, None, None, None, None, None]"
      ]
     },
     "execution_count": 61,
     "metadata": {},
     "output_type": "execute_result"
    }
   ],
   "source": [
    "import os\n",
    "\n",
    "directory = '../data/historical_etf_data'\n",
    "\n",
    "[os.rename(os.path.join(directory, f), os.path.join(directory, f).lower()) for f in os.listdir(directory)]"
   ]
  }
 ],
 "metadata": {
  "file_extension": ".py",
  "kernelspec": {
   "display_name": "Python 3.7.0 64-bit ('daily-trading-nJ43NNNI-py3.7': venv)",
   "language": "python",
   "name": "python37064bitdailytradingnj43nnnipy37venvd9db9359ec934f90b15f4732101b653e"
  },
  "language_info": {
   "codemirror_mode": {
    "name": "ipython",
    "version": 3
   },
   "file_extension": ".py",
   "mimetype": "text/x-python",
   "name": "python",
   "nbconvert_exporter": "python",
   "pygments_lexer": "ipython3",
   "version": "3.7.0"
  },
  "mimetype": "text/x-python",
  "name": "python",
  "npconvert_exporter": "python",
  "pygments_lexer": "ipython3",
  "version": 3
 },
 "nbformat": 4,
 "nbformat_minor": 4
}
