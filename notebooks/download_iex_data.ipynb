{
 "nbformat": 4,
 "nbformat_minor": 2,
 "metadata": {
  "language_info": {
   "name": "python",
   "codemirror_mode": {
    "name": "ipython",
    "version": 3
   },
   "version": "3.7.0-final"
  },
  "orig_nbformat": 2,
  "file_extension": ".py",
  "mimetype": "text/x-python",
  "name": "python",
  "npconvert_exporter": "python",
  "pygments_lexer": "ipython3",
  "version": 3,
  "kernelspec": {
   "name": "python37064bitdailytradingnj43nnnipy37venvd9db9359ec934f90b15f4732101b653e",
   "display_name": "Python 3.7.0 64-bit ('daily-trading-nJ43NNNI-py3.7': venv)"
  }
 },
 "cells": [
  {
   "cell_type": "code",
   "execution_count": 112,
   "metadata": {},
   "outputs": [],
   "source": [
    "import pandas as pd\n",
    "from iexfinance.stocks import Stock\n",
    "from datetime import datetime\n",
    "import matplotlib.pyplot as plt\n",
    "from iexfinance.stocks import get_historical_data\n",
    "import os\n",
    "import yaml\n",
    "import sys\n",
    "import datetime\n",
    "import glob\n",
    "\n",
    "# used to access data directory\n",
    "sys.path.insert(0,'../')"
   ]
  },
  {
   "cell_type": "code",
   "execution_count": 113,
   "metadata": {},
   "outputs": [],
   "source": [
    "import pandas as pd\n",
    "table=pd.read_html('https://en.wikipedia.org/wiki/List_of_S%26P_500_companies')\n",
    "df = table[0]\n",
    "df.to_csv('S&P500-Info.csv')\n",
    "df.to_csv(\"S&P500-Symbols.csv\", columns=['Symbol'])"
   ]
  },
  {
   "cell_type": "code",
   "execution_count": 114,
   "metadata": {},
   "outputs": [],
   "source": [
    "#  source ~/.ssh/iex_key.sh\n",
    "# ENV var IEX_KEY\n",
    "API_TOKEN=    credentials = yaml.load(open(os.path.expanduser(\n",
    "        '~/.ssh/api_credentials.yml')))['iex']['api_key']"
   ]
  },
  {
   "cell_type": "code",
   "execution_count": 115,
   "metadata": {},
   "outputs": [
    {
     "output_type": "execute_result",
     "data": {
      "text/plain": "'pk_291949b3b45c490fa2a95869d87121c5'"
     },
     "metadata": {},
     "execution_count": 115
    }
   ],
   "source": [
    "API_TOKEN"
   ]
  },
  {
   "cell_type": "code",
   "execution_count": 116,
   "metadata": {},
   "outputs": [],
   "source": [
    "sp = pd.read_csv('../data/S&P500-Symbols.csv', index_col=[0])\n",
    ""
   ]
  },
  {
   "cell_type": "code",
   "execution_count": 117,
   "metadata": {},
   "outputs": [
    {
     "output_type": "execute_result",
     "data": {
      "text/plain": "    Symbol\n0      MMM\n1      ABT\n2     ABBV\n3     ABMD\n4      ACN\n..     ...\n500    YUM\n501   ZBRA\n502    ZBH\n503   ZION\n504    ZTS\n\n[505 rows x 1 columns]",
      "text/html": "<div>\n<style scoped>\n    .dataframe tbody tr th:only-of-type {\n        vertical-align: middle;\n    }\n\n    .dataframe tbody tr th {\n        vertical-align: top;\n    }\n\n    .dataframe thead th {\n        text-align: right;\n    }\n</style>\n<table border=\"1\" class=\"dataframe\">\n  <thead>\n    <tr style=\"text-align: right;\">\n      <th></th>\n      <th>Symbol</th>\n    </tr>\n  </thead>\n  <tbody>\n    <tr>\n      <th>0</th>\n      <td>MMM</td>\n    </tr>\n    <tr>\n      <th>1</th>\n      <td>ABT</td>\n    </tr>\n    <tr>\n      <th>2</th>\n      <td>ABBV</td>\n    </tr>\n    <tr>\n      <th>3</th>\n      <td>ABMD</td>\n    </tr>\n    <tr>\n      <th>4</th>\n      <td>ACN</td>\n    </tr>\n    <tr>\n      <th>...</th>\n      <td>...</td>\n    </tr>\n    <tr>\n      <th>500</th>\n      <td>YUM</td>\n    </tr>\n    <tr>\n      <th>501</th>\n      <td>ZBRA</td>\n    </tr>\n    <tr>\n      <th>502</th>\n      <td>ZBH</td>\n    </tr>\n    <tr>\n      <th>503</th>\n      <td>ZION</td>\n    </tr>\n    <tr>\n      <th>504</th>\n      <td>ZTS</td>\n    </tr>\n  </tbody>\n</table>\n<p>505 rows × 1 columns</p>\n</div>"
     },
     "metadata": {},
     "execution_count": 117
    }
   ],
   "source": [
    "sp"
   ]
  },
  {
   "cell_type": "markdown",
   "metadata": {},
   "source": [
    "## test calls to IEX"
   ]
  },
  {
   "cell_type": "code",
   "execution_count": 21,
   "metadata": {},
   "outputs": [],
   "source": [
    "# getCompanyInfo returns a dictionary with the company symbol as a key and the info as the value \n",
    "# call to iex finance api to return company info for a list of symbols\n",
    "def getCompanyInfo(symbols):\n",
    "    stock_batch = Stock(symbols, token=API_TOKEN)\n",
    "    company_info = stock_batch.get_company()\n",
    "    return company_info"
   ]
  },
  {
   "cell_type": "code",
   "execution_count": 22,
   "metadata": {},
   "outputs": [],
   "source": [
    "sp_company_info = getCompanyInfo(sp[\"Symbol\"][:5].tolist())\n",
    ""
   ]
  },
  {
   "cell_type": "code",
   "execution_count": 23,
   "metadata": {},
   "outputs": [],
   "source": [
    "company_info_to_df = []\n",
    "for company in sp_company_info:\n",
    "    company_info_to_df.append(sp_company_info[company])"
   ]
  },
  {
   "cell_type": "code",
   "execution_count": 24,
   "metadata": {},
   "outputs": [
    {
     "output_type": "execute_result",
     "data": {
      "text/plain": "  symbol          companyName                 exchange  \\\n0    MMM               3M Co.  New York Stock Exchange   \n1    ABT  Abbott Laboratories  New York Stock Exchange   \n2   ABBV         AbbVie, Inc.  New York Stock Exchange   \n3   ABMD        ABIOMED, Inc.                   NASDAQ   \n4    ACN        Accenture Plc  New York Stock Exchange   \n\n                          industry                   website  \\\n0         Industrial Conglomerates         http://www.3m.com   \n1              Medical Specialties     http://www.abbott.com   \n2           Pharmaceuticals: Major     http://www.abbvie.com   \n3              Medical Specialties    http://www.abiomed.com   \n4  Information Technology Services  http://www.accenture.com   \n\n                    CEO                  sector  \n0      Michael F. Roman  Producer Manufacturing  \n1        Robert B. Ford       Health Technology  \n2   Richard A. Gonzalez       Health Technology  \n3    Michael R. Minogue       Health Technology  \n4  Julie Spellman Sweet     Technology Services  ",
      "text/html": "<div>\n<style scoped>\n    .dataframe tbody tr th:only-of-type {\n        vertical-align: middle;\n    }\n\n    .dataframe tbody tr th {\n        vertical-align: top;\n    }\n\n    .dataframe thead th {\n        text-align: right;\n    }\n</style>\n<table border=\"1\" class=\"dataframe\">\n  <thead>\n    <tr style=\"text-align: right;\">\n      <th></th>\n      <th>symbol</th>\n      <th>companyName</th>\n      <th>exchange</th>\n      <th>industry</th>\n      <th>website</th>\n      <th>CEO</th>\n      <th>sector</th>\n    </tr>\n  </thead>\n  <tbody>\n    <tr>\n      <th>0</th>\n      <td>MMM</td>\n      <td>3M Co.</td>\n      <td>New York Stock Exchange</td>\n      <td>Industrial Conglomerates</td>\n      <td>http://www.3m.com</td>\n      <td>Michael F. Roman</td>\n      <td>Producer Manufacturing</td>\n    </tr>\n    <tr>\n      <th>1</th>\n      <td>ABT</td>\n      <td>Abbott Laboratories</td>\n      <td>New York Stock Exchange</td>\n      <td>Medical Specialties</td>\n      <td>http://www.abbott.com</td>\n      <td>Robert B. Ford</td>\n      <td>Health Technology</td>\n    </tr>\n    <tr>\n      <th>2</th>\n      <td>ABBV</td>\n      <td>AbbVie, Inc.</td>\n      <td>New York Stock Exchange</td>\n      <td>Pharmaceuticals: Major</td>\n      <td>http://www.abbvie.com</td>\n      <td>Richard A. Gonzalez</td>\n      <td>Health Technology</td>\n    </tr>\n    <tr>\n      <th>3</th>\n      <td>ABMD</td>\n      <td>ABIOMED, Inc.</td>\n      <td>NASDAQ</td>\n      <td>Medical Specialties</td>\n      <td>http://www.abiomed.com</td>\n      <td>Michael R. Minogue</td>\n      <td>Health Technology</td>\n    </tr>\n    <tr>\n      <th>4</th>\n      <td>ACN</td>\n      <td>Accenture Plc</td>\n      <td>New York Stock Exchange</td>\n      <td>Information Technology Services</td>\n      <td>http://www.accenture.com</td>\n      <td>Julie Spellman Sweet</td>\n      <td>Technology Services</td>\n    </tr>\n  </tbody>\n</table>\n</div>"
     },
     "metadata": {},
     "execution_count": 24
    }
   ],
   "source": [
    "columns = ['symbol', 'companyName', 'exchange',\n",
    "           'industry', 'website', 'CEO', 'sector']\n",
    "company_info_to_df = pd.DataFrame(company_info_to_df, columns=columns )\n",
    "company_info_to_df.head()"
   ]
  },
  {
   "cell_type": "markdown",
   "metadata": {},
   "source": [
    "# Company Earnings"
   ]
  },
  {
   "cell_type": "code",
   "execution_count": 25,
   "metadata": {},
   "outputs": [],
   "source": [
    "def getEarnings(symbol):\n",
    "    stock_batch = Stock(symbol,\n",
    "                        token=API_TOKEN)\n",
    "    earnings = stock_batch.get_earnings(last=4)\n",
    "    return earnings\n",
    "\n",
    "single_stock_earnings = getEarnings(sp[\"Symbol\"][0])"
   ]
  },
  {
   "cell_type": "code",
   "execution_count": 26,
   "metadata": {},
   "outputs": [
    {
     "output_type": "execute_result",
     "data": {
      "text/plain": "[{'actualEPS': 1.95,\n  'consensusEPS': 2.11,\n  'announceTime': 'BTO',\n  'numberOfEstimates': 17,\n  'EPSSurpriseDollar': -0.16,\n  'EPSReportDate': '2020-01-28',\n  'fiscalPeriod': 'Q4 2019',\n  'fiscalEndDate': '2019-12-31',\n  'yearAgo': 2.31,\n  'yearAgoChangePercent': -0.1558,\n  'currency': 'USD'},\n {'actualEPS': 2.58,\n  'consensusEPS': 2.49,\n  'announceTime': 'BTO',\n  'numberOfEstimates': 16,\n  'EPSSurpriseDollar': 0.09,\n  'EPSReportDate': '2019-10-24',\n  'fiscalPeriod': 'Q3 2019',\n  'fiscalEndDate': '2019-09-30',\n  'yearAgo': 2.58,\n  'yearAgoChangePercent': 0,\n  'currency': 'USD'},\n {'actualEPS': 2.2,\n  'consensusEPS': 2.05,\n  'announceTime': 'BTO',\n  'numberOfEstimates': 16,\n  'EPSSurpriseDollar': 0.15,\n  'EPSReportDate': '2019-07-25',\n  'fiscalPeriod': 'Q2 2019',\n  'fiscalEndDate': '2019-06-30',\n  'yearAgo': 2.59,\n  'yearAgoChangePercent': -0.1506,\n  'currency': 'USD'},\n {'actualEPS': 2.23,\n  'consensusEPS': 2.49,\n  'announceTime': 'BTO',\n  'numberOfEstimates': 16,\n  'EPSSurpriseDollar': -0.26,\n  'EPSReportDate': '2019-04-25',\n  'fiscalPeriod': 'Q1 2019',\n  'fiscalEndDate': '2019-03-31',\n  'yearAgo': 2.5,\n  'yearAgoChangePercent': -0.108,\n  'currency': 'USD'}]"
     },
     "metadata": {},
     "execution_count": 26
    }
   ],
   "source": [
    "single_stock_earnings"
   ]
  },
  {
   "cell_type": "markdown",
   "metadata": {},
   "source": [
    "## Historical Prices"
   ]
  },
  {
   "cell_type": "code",
   "execution_count": 124,
   "metadata": {},
   "outputs": [],
   "source": [
    "def getHistoricalPrices(stock,start_date, end_date):\n",
    "    return get_historical_data(stock, start_date, end_date, \n",
    "                               output_format='pandas', \n",
    "                               token=API_TOKEN)\n",
    " \n",
    "start = datetime.datetime(2020, 4, 17)\n",
    "end = datetime.datetime.now()\n",
    "single_stock_history = getHistoricalPrices(sp[\"Symbol\"][0], start, end)"
   ]
  },
  {
   "cell_type": "code",
   "execution_count": 55,
   "metadata": {},
   "outputs": [
    {
     "output_type": "execute_result",
     "data": {
      "text/plain": "'MMM'"
     },
     "metadata": {},
     "execution_count": 55
    }
   ],
   "source": [
    "sp[\"Symbol\"][0]"
   ]
  },
  {
   "cell_type": "code",
   "execution_count": 28,
   "metadata": {},
   "outputs": [
    {
     "output_type": "execute_result",
     "data": {
      "text/plain": "              open    high     low   close   volume\ndate                                               \n2016-01-04  148.05  148.32  145.40  146.82  3277188\n2016-01-05  146.82  147.50  145.61  147.46  2688082\n2016-01-06  145.59  145.76  143.42  144.49  2997126\n2016-01-07  142.52  143.13  140.63  140.97  3553519\n2016-01-08  141.36  142.50  140.22  140.49  2663979\n...            ...     ...     ...     ...      ...\n2020-04-13  147.50  148.58  145.30  146.40  2642295\n2020-04-14  149.62  150.98  148.05  150.14  3318390\n2020-04-15  148.19  148.55  144.90  145.16  3043859\n2020-04-16  145.27  146.45  143.23  144.90  4170357\n2020-04-17  147.44  148.50  144.80  146.46  5393130\n\n[1080 rows x 5 columns]",
      "text/html": "<div>\n<style scoped>\n    .dataframe tbody tr th:only-of-type {\n        vertical-align: middle;\n    }\n\n    .dataframe tbody tr th {\n        vertical-align: top;\n    }\n\n    .dataframe thead th {\n        text-align: right;\n    }\n</style>\n<table border=\"1\" class=\"dataframe\">\n  <thead>\n    <tr style=\"text-align: right;\">\n      <th></th>\n      <th>open</th>\n      <th>high</th>\n      <th>low</th>\n      <th>close</th>\n      <th>volume</th>\n    </tr>\n    <tr>\n      <th>date</th>\n      <th></th>\n      <th></th>\n      <th></th>\n      <th></th>\n      <th></th>\n    </tr>\n  </thead>\n  <tbody>\n    <tr>\n      <th>2016-01-04</th>\n      <td>148.05</td>\n      <td>148.32</td>\n      <td>145.40</td>\n      <td>146.82</td>\n      <td>3277188</td>\n    </tr>\n    <tr>\n      <th>2016-01-05</th>\n      <td>146.82</td>\n      <td>147.50</td>\n      <td>145.61</td>\n      <td>147.46</td>\n      <td>2688082</td>\n    </tr>\n    <tr>\n      <th>2016-01-06</th>\n      <td>145.59</td>\n      <td>145.76</td>\n      <td>143.42</td>\n      <td>144.49</td>\n      <td>2997126</td>\n    </tr>\n    <tr>\n      <th>2016-01-07</th>\n      <td>142.52</td>\n      <td>143.13</td>\n      <td>140.63</td>\n      <td>140.97</td>\n      <td>3553519</td>\n    </tr>\n    <tr>\n      <th>2016-01-08</th>\n      <td>141.36</td>\n      <td>142.50</td>\n      <td>140.22</td>\n      <td>140.49</td>\n      <td>2663979</td>\n    </tr>\n    <tr>\n      <th>...</th>\n      <td>...</td>\n      <td>...</td>\n      <td>...</td>\n      <td>...</td>\n      <td>...</td>\n    </tr>\n    <tr>\n      <th>2020-04-13</th>\n      <td>147.50</td>\n      <td>148.58</td>\n      <td>145.30</td>\n      <td>146.40</td>\n      <td>2642295</td>\n    </tr>\n    <tr>\n      <th>2020-04-14</th>\n      <td>149.62</td>\n      <td>150.98</td>\n      <td>148.05</td>\n      <td>150.14</td>\n      <td>3318390</td>\n    </tr>\n    <tr>\n      <th>2020-04-15</th>\n      <td>148.19</td>\n      <td>148.55</td>\n      <td>144.90</td>\n      <td>145.16</td>\n      <td>3043859</td>\n    </tr>\n    <tr>\n      <th>2020-04-16</th>\n      <td>145.27</td>\n      <td>146.45</td>\n      <td>143.23</td>\n      <td>144.90</td>\n      <td>4170357</td>\n    </tr>\n    <tr>\n      <th>2020-04-17</th>\n      <td>147.44</td>\n      <td>148.50</td>\n      <td>144.80</td>\n      <td>146.46</td>\n      <td>5393130</td>\n    </tr>\n  </tbody>\n</table>\n<p>1080 rows × 5 columns</p>\n</div>"
     },
     "metadata": {},
     "execution_count": 28
    }
   ],
   "source": [
    "single_stock_history"
   ]
  },
  {
   "cell_type": "code",
   "execution_count": 29,
   "metadata": {},
   "outputs": [
    {
     "output_type": "execute_result",
     "data": {
      "text/plain": "<matplotlib.axes._subplots.AxesSubplot at 0x114bf0b38>"
     },
     "metadata": {},
     "execution_count": 29
    },
    {
     "output_type": "display_data",
     "data": {
      "text/plain": "<Figure size 432x288 with 1 Axes>",
      "image/svg+xml": "<?xml version=\"1.0\" encoding=\"utf-8\" standalone=\"no\"?>\n<!DOCTYPE svg PUBLIC \"-//W3C//DTD SVG 1.1//EN\"\n  \"http://www.w3.org/Graphics/SVG/1.1/DTD/svg11.dtd\">\n<!-- Created with matplotlib (https://matplotlib.org/) -->\n<svg height=\"260.191033pt\" version=\"1.1\" viewBox=\"0 0 375.589302 260.191033\" width=\"375.589302pt\" xmlns=\"http://www.w3.org/2000/svg\" xmlns:xlink=\"http://www.w3.org/1999/xlink\">\n <defs>\n  <style type=\"text/css\">\n*{stroke-linecap:butt;stroke-linejoin:round;}\n  </style>\n </defs>\n <g id=\"figure_1\">\n  <g id=\"patch_1\">\n   <path d=\"M 0 260.191033 \nL 375.589302 260.191033 \nL 375.589302 0 \nL 0 0 \nz\n\" style=\"fill:none;\"/>\n  </g>\n  <g id=\"axes_1\">\n   <g id=\"patch_2\">\n    <path d=\"M 33.589302 203.04 \nL 368.389302 203.04 \nL 368.389302 7.2 \nL 33.589302 7.2 \nz\n\" style=\"fill:#ffffff;\"/>\n   </g>\n   <g id=\"matplotlib.axis_1\">\n    <g id=\"xtick_1\">\n     <g id=\"line2d_1\">\n      <defs>\n       <path d=\"M 0 0 \nL 0 3.5 \n\" id=\"mfd579adeb3\" style=\"stroke:#000000;stroke-width:0.8;\"/>\n      </defs>\n      <g>\n       <use style=\"stroke:#000000;stroke-width:0.8;\" x=\"48.22404\" xlink:href=\"#mfd579adeb3\" y=\"203.04\"/>\n      </g>\n     </g>\n     <g id=\"text_1\">\n      <!-- 2016-01 -->\n      <defs>\n       <path d=\"M 19.1875 8.296875 \nL 53.609375 8.296875 \nL 53.609375 0 \nL 7.328125 0 \nL 7.328125 8.296875 \nQ 12.9375 14.109375 22.625 23.890625 \nQ 32.328125 33.6875 34.8125 36.53125 \nQ 39.546875 41.84375 41.421875 45.53125 \nQ 43.3125 49.21875 43.3125 52.78125 \nQ 43.3125 58.59375 39.234375 62.25 \nQ 35.15625 65.921875 28.609375 65.921875 \nQ 23.96875 65.921875 18.8125 64.3125 \nQ 13.671875 62.703125 7.8125 59.421875 \nL 7.8125 69.390625 \nQ 13.765625 71.78125 18.9375 73 \nQ 24.125 74.21875 28.421875 74.21875 \nQ 39.75 74.21875 46.484375 68.546875 \nQ 53.21875 62.890625 53.21875 53.421875 \nQ 53.21875 48.921875 51.53125 44.890625 \nQ 49.859375 40.875 45.40625 35.40625 \nQ 44.1875 33.984375 37.640625 27.21875 \nQ 31.109375 20.453125 19.1875 8.296875 \nz\n\" id=\"DejaVuSans-50\"/>\n       <path d=\"M 31.78125 66.40625 \nQ 24.171875 66.40625 20.328125 58.90625 \nQ 16.5 51.421875 16.5 36.375 \nQ 16.5 21.390625 20.328125 13.890625 \nQ 24.171875 6.390625 31.78125 6.390625 \nQ 39.453125 6.390625 43.28125 13.890625 \nQ 47.125 21.390625 47.125 36.375 \nQ 47.125 51.421875 43.28125 58.90625 \nQ 39.453125 66.40625 31.78125 66.40625 \nz\nM 31.78125 74.21875 \nQ 44.046875 74.21875 50.515625 64.515625 \nQ 56.984375 54.828125 56.984375 36.375 \nQ 56.984375 17.96875 50.515625 8.265625 \nQ 44.046875 -1.421875 31.78125 -1.421875 \nQ 19.53125 -1.421875 13.0625 8.265625 \nQ 6.59375 17.96875 6.59375 36.375 \nQ 6.59375 54.828125 13.0625 64.515625 \nQ 19.53125 74.21875 31.78125 74.21875 \nz\n\" id=\"DejaVuSans-48\"/>\n       <path d=\"M 12.40625 8.296875 \nL 28.515625 8.296875 \nL 28.515625 63.921875 \nL 10.984375 60.40625 \nL 10.984375 69.390625 \nL 28.421875 72.90625 \nL 38.28125 72.90625 \nL 38.28125 8.296875 \nL 54.390625 8.296875 \nL 54.390625 0 \nL 12.40625 0 \nz\n\" id=\"DejaVuSans-49\"/>\n       <path d=\"M 33.015625 40.375 \nQ 26.375 40.375 22.484375 35.828125 \nQ 18.609375 31.296875 18.609375 23.390625 \nQ 18.609375 15.53125 22.484375 10.953125 \nQ 26.375 6.390625 33.015625 6.390625 \nQ 39.65625 6.390625 43.53125 10.953125 \nQ 47.40625 15.53125 47.40625 23.390625 \nQ 47.40625 31.296875 43.53125 35.828125 \nQ 39.65625 40.375 33.015625 40.375 \nz\nM 52.59375 71.296875 \nL 52.59375 62.3125 \nQ 48.875 64.0625 45.09375 64.984375 \nQ 41.3125 65.921875 37.59375 65.921875 \nQ 27.828125 65.921875 22.671875 59.328125 \nQ 17.53125 52.734375 16.796875 39.40625 \nQ 19.671875 43.65625 24.015625 45.921875 \nQ 28.375 48.1875 33.59375 48.1875 \nQ 44.578125 48.1875 50.953125 41.515625 \nQ 57.328125 34.859375 57.328125 23.390625 \nQ 57.328125 12.15625 50.6875 5.359375 \nQ 44.046875 -1.421875 33.015625 -1.421875 \nQ 20.359375 -1.421875 13.671875 8.265625 \nQ 6.984375 17.96875 6.984375 36.375 \nQ 6.984375 53.65625 15.1875 63.9375 \nQ 23.390625 74.21875 37.203125 74.21875 \nQ 40.921875 74.21875 44.703125 73.484375 \nQ 48.484375 72.75 52.59375 71.296875 \nz\n\" id=\"DejaVuSans-54\"/>\n       <path d=\"M 4.890625 31.390625 \nL 31.203125 31.390625 \nL 31.203125 23.390625 \nL 4.890625 23.390625 \nz\n\" id=\"DejaVuSans-45\"/>\n      </defs>\n      <g transform=\"translate(10.999219 237.511846)rotate(-30)scale(0.1 -0.1)\">\n       <use xlink:href=\"#DejaVuSans-50\"/>\n       <use x=\"63.623047\" xlink:href=\"#DejaVuSans-48\"/>\n       <use x=\"127.246094\" xlink:href=\"#DejaVuSans-49\"/>\n       <use x=\"190.869141\" xlink:href=\"#DejaVuSans-54\"/>\n       <use x=\"254.492188\" xlink:href=\"#DejaVuSans-45\"/>\n       <use x=\"290.576172\" xlink:href=\"#DejaVuSans-48\"/>\n       <use x=\"354.199219\" xlink:href=\"#DejaVuSans-49\"/>\n      </g>\n     </g>\n    </g>\n    <g id=\"xtick_2\">\n     <g id=\"line2d_2\">\n      <g>\n       <use style=\"stroke:#000000;stroke-width:0.8;\" x=\"83.619683\" xlink:href=\"#mfd579adeb3\" y=\"203.04\"/>\n      </g>\n     </g>\n     <g id=\"text_2\">\n      <!-- 2016-07 -->\n      <defs>\n       <path d=\"M 8.203125 72.90625 \nL 55.078125 72.90625 \nL 55.078125 68.703125 \nL 28.609375 0 \nL 18.3125 0 \nL 43.21875 64.59375 \nL 8.203125 64.59375 \nz\n\" id=\"DejaVuSans-55\"/>\n      </defs>\n      <g transform=\"translate(46.394862 237.511846)rotate(-30)scale(0.1 -0.1)\">\n       <use xlink:href=\"#DejaVuSans-50\"/>\n       <use x=\"63.623047\" xlink:href=\"#DejaVuSans-48\"/>\n       <use x=\"127.246094\" xlink:href=\"#DejaVuSans-49\"/>\n       <use x=\"190.869141\" xlink:href=\"#DejaVuSans-54\"/>\n       <use x=\"254.492188\" xlink:href=\"#DejaVuSans-45\"/>\n       <use x=\"290.576172\" xlink:href=\"#DejaVuSans-48\"/>\n       <use x=\"354.199219\" xlink:href=\"#DejaVuSans-55\"/>\n      </g>\n     </g>\n    </g>\n    <g id=\"xtick_3\">\n     <g id=\"line2d_3\">\n      <g>\n       <use style=\"stroke:#000000;stroke-width:0.8;\" x=\"119.404289\" xlink:href=\"#mfd579adeb3\" y=\"203.04\"/>\n      </g>\n     </g>\n     <g id=\"text_3\">\n      <!-- 2017-01 -->\n      <g transform=\"translate(82.179469 237.511846)rotate(-30)scale(0.1 -0.1)\">\n       <use xlink:href=\"#DejaVuSans-50\"/>\n       <use x=\"63.623047\" xlink:href=\"#DejaVuSans-48\"/>\n       <use x=\"127.246094\" xlink:href=\"#DejaVuSans-49\"/>\n       <use x=\"190.869141\" xlink:href=\"#DejaVuSans-55\"/>\n       <use x=\"254.492188\" xlink:href=\"#DejaVuSans-45\"/>\n       <use x=\"290.576172\" xlink:href=\"#DejaVuSans-48\"/>\n       <use x=\"354.199219\" xlink:href=\"#DejaVuSans-49\"/>\n      </g>\n     </g>\n    </g>\n    <g id=\"xtick_4\">\n     <g id=\"line2d_4\">\n      <g>\n       <use style=\"stroke:#000000;stroke-width:0.8;\" x=\"154.605451\" xlink:href=\"#mfd579adeb3\" y=\"203.04\"/>\n      </g>\n     </g>\n     <g id=\"text_4\">\n      <!-- 2017-07 -->\n      <g transform=\"translate(117.38063 237.511846)rotate(-30)scale(0.1 -0.1)\">\n       <use xlink:href=\"#DejaVuSans-50\"/>\n       <use x=\"63.623047\" xlink:href=\"#DejaVuSans-48\"/>\n       <use x=\"127.246094\" xlink:href=\"#DejaVuSans-49\"/>\n       <use x=\"190.869141\" xlink:href=\"#DejaVuSans-55\"/>\n       <use x=\"254.492188\" xlink:href=\"#DejaVuSans-45\"/>\n       <use x=\"290.576172\" xlink:href=\"#DejaVuSans-48\"/>\n       <use x=\"354.199219\" xlink:href=\"#DejaVuSans-55\"/>\n      </g>\n     </g>\n    </g>\n    <g id=\"xtick_5\">\n     <g id=\"line2d_5\">\n      <g>\n       <use style=\"stroke:#000000;stroke-width:0.8;\" x=\"190.390058\" xlink:href=\"#mfd579adeb3\" y=\"203.04\"/>\n      </g>\n     </g>\n     <g id=\"text_5\">\n      <!-- 2018-01 -->\n      <defs>\n       <path d=\"M 31.78125 34.625 \nQ 24.75 34.625 20.71875 30.859375 \nQ 16.703125 27.09375 16.703125 20.515625 \nQ 16.703125 13.921875 20.71875 10.15625 \nQ 24.75 6.390625 31.78125 6.390625 \nQ 38.8125 6.390625 42.859375 10.171875 \nQ 46.921875 13.96875 46.921875 20.515625 \nQ 46.921875 27.09375 42.890625 30.859375 \nQ 38.875 34.625 31.78125 34.625 \nz\nM 21.921875 38.8125 \nQ 15.578125 40.375 12.03125 44.71875 \nQ 8.5 49.078125 8.5 55.328125 \nQ 8.5 64.0625 14.71875 69.140625 \nQ 20.953125 74.21875 31.78125 74.21875 \nQ 42.671875 74.21875 48.875 69.140625 \nQ 55.078125 64.0625 55.078125 55.328125 \nQ 55.078125 49.078125 51.53125 44.71875 \nQ 48 40.375 41.703125 38.8125 \nQ 48.828125 37.15625 52.796875 32.3125 \nQ 56.78125 27.484375 56.78125 20.515625 \nQ 56.78125 9.90625 50.3125 4.234375 \nQ 43.84375 -1.421875 31.78125 -1.421875 \nQ 19.734375 -1.421875 13.25 4.234375 \nQ 6.78125 9.90625 6.78125 20.515625 \nQ 6.78125 27.484375 10.78125 32.3125 \nQ 14.796875 37.15625 21.921875 38.8125 \nz\nM 18.3125 54.390625 \nQ 18.3125 48.734375 21.84375 45.5625 \nQ 25.390625 42.390625 31.78125 42.390625 \nQ 38.140625 42.390625 41.71875 45.5625 \nQ 45.3125 48.734375 45.3125 54.390625 \nQ 45.3125 60.0625 41.71875 63.234375 \nQ 38.140625 66.40625 31.78125 66.40625 \nQ 25.390625 66.40625 21.84375 63.234375 \nQ 18.3125 60.0625 18.3125 54.390625 \nz\n\" id=\"DejaVuSans-56\"/>\n      </defs>\n      <g transform=\"translate(153.165237 237.511846)rotate(-30)scale(0.1 -0.1)\">\n       <use xlink:href=\"#DejaVuSans-50\"/>\n       <use x=\"63.623047\" xlink:href=\"#DejaVuSans-48\"/>\n       <use x=\"127.246094\" xlink:href=\"#DejaVuSans-49\"/>\n       <use x=\"190.869141\" xlink:href=\"#DejaVuSans-56\"/>\n       <use x=\"254.492188\" xlink:href=\"#DejaVuSans-45\"/>\n       <use x=\"290.576172\" xlink:href=\"#DejaVuSans-48\"/>\n       <use x=\"354.199219\" xlink:href=\"#DejaVuSans-49\"/>\n      </g>\n     </g>\n    </g>\n    <g id=\"xtick_6\">\n     <g id=\"line2d_6\">\n      <g>\n       <use style=\"stroke:#000000;stroke-width:0.8;\" x=\"225.591219\" xlink:href=\"#mfd579adeb3\" y=\"203.04\"/>\n      </g>\n     </g>\n     <g id=\"text_6\">\n      <!-- 2018-07 -->\n      <g transform=\"translate(188.366399 237.511846)rotate(-30)scale(0.1 -0.1)\">\n       <use xlink:href=\"#DejaVuSans-50\"/>\n       <use x=\"63.623047\" xlink:href=\"#DejaVuSans-48\"/>\n       <use x=\"127.246094\" xlink:href=\"#DejaVuSans-49\"/>\n       <use x=\"190.869141\" xlink:href=\"#DejaVuSans-56\"/>\n       <use x=\"254.492188\" xlink:href=\"#DejaVuSans-45\"/>\n       <use x=\"290.576172\" xlink:href=\"#DejaVuSans-48\"/>\n       <use x=\"354.199219\" xlink:href=\"#DejaVuSans-55\"/>\n      </g>\n     </g>\n    </g>\n    <g id=\"xtick_7\">\n     <g id=\"line2d_7\">\n      <g>\n       <use style=\"stroke:#000000;stroke-width:0.8;\" x=\"261.375826\" xlink:href=\"#mfd579adeb3\" y=\"203.04\"/>\n      </g>\n     </g>\n     <g id=\"text_7\">\n      <!-- 2019-01 -->\n      <defs>\n       <path d=\"M 10.984375 1.515625 \nL 10.984375 10.5 \nQ 14.703125 8.734375 18.5 7.8125 \nQ 22.3125 6.890625 25.984375 6.890625 \nQ 35.75 6.890625 40.890625 13.453125 \nQ 46.046875 20.015625 46.78125 33.40625 \nQ 43.953125 29.203125 39.59375 26.953125 \nQ 35.25 24.703125 29.984375 24.703125 \nQ 19.046875 24.703125 12.671875 31.3125 \nQ 6.296875 37.9375 6.296875 49.421875 \nQ 6.296875 60.640625 12.9375 67.421875 \nQ 19.578125 74.21875 30.609375 74.21875 \nQ 43.265625 74.21875 49.921875 64.515625 \nQ 56.59375 54.828125 56.59375 36.375 \nQ 56.59375 19.140625 48.40625 8.859375 \nQ 40.234375 -1.421875 26.421875 -1.421875 \nQ 22.703125 -1.421875 18.890625 -0.6875 \nQ 15.09375 0.046875 10.984375 1.515625 \nz\nM 30.609375 32.421875 \nQ 37.25 32.421875 41.125 36.953125 \nQ 45.015625 41.5 45.015625 49.421875 \nQ 45.015625 57.28125 41.125 61.84375 \nQ 37.25 66.40625 30.609375 66.40625 \nQ 23.96875 66.40625 20.09375 61.84375 \nQ 16.21875 57.28125 16.21875 49.421875 \nQ 16.21875 41.5 20.09375 36.953125 \nQ 23.96875 32.421875 30.609375 32.421875 \nz\n\" id=\"DejaVuSans-57\"/>\n      </defs>\n      <g transform=\"translate(224.151005 237.511846)rotate(-30)scale(0.1 -0.1)\">\n       <use xlink:href=\"#DejaVuSans-50\"/>\n       <use x=\"63.623047\" xlink:href=\"#DejaVuSans-48\"/>\n       <use x=\"127.246094\" xlink:href=\"#DejaVuSans-49\"/>\n       <use x=\"190.869141\" xlink:href=\"#DejaVuSans-57\"/>\n       <use x=\"254.492188\" xlink:href=\"#DejaVuSans-45\"/>\n       <use x=\"290.576172\" xlink:href=\"#DejaVuSans-48\"/>\n       <use x=\"354.199219\" xlink:href=\"#DejaVuSans-49\"/>\n      </g>\n     </g>\n    </g>\n    <g id=\"xtick_8\">\n     <g id=\"line2d_8\">\n      <g>\n       <use style=\"stroke:#000000;stroke-width:0.8;\" x=\"296.576988\" xlink:href=\"#mfd579adeb3\" y=\"203.04\"/>\n      </g>\n     </g>\n     <g id=\"text_8\">\n      <!-- 2019-07 -->\n      <g transform=\"translate(259.352167 237.511846)rotate(-30)scale(0.1 -0.1)\">\n       <use xlink:href=\"#DejaVuSans-50\"/>\n       <use x=\"63.623047\" xlink:href=\"#DejaVuSans-48\"/>\n       <use x=\"127.246094\" xlink:href=\"#DejaVuSans-49\"/>\n       <use x=\"190.869141\" xlink:href=\"#DejaVuSans-57\"/>\n       <use x=\"254.492188\" xlink:href=\"#DejaVuSans-45\"/>\n       <use x=\"290.576172\" xlink:href=\"#DejaVuSans-48\"/>\n       <use x=\"354.199219\" xlink:href=\"#DejaVuSans-55\"/>\n      </g>\n     </g>\n    </g>\n    <g id=\"xtick_9\">\n     <g id=\"line2d_9\">\n      <g>\n       <use style=\"stroke:#000000;stroke-width:0.8;\" x=\"332.361594\" xlink:href=\"#mfd579adeb3\" y=\"203.04\"/>\n      </g>\n     </g>\n     <g id=\"text_9\">\n      <!-- 2020-01 -->\n      <g transform=\"translate(295.136773 237.511846)rotate(-30)scale(0.1 -0.1)\">\n       <use xlink:href=\"#DejaVuSans-50\"/>\n       <use x=\"63.623047\" xlink:href=\"#DejaVuSans-48\"/>\n       <use x=\"127.246094\" xlink:href=\"#DejaVuSans-50\"/>\n       <use x=\"190.869141\" xlink:href=\"#DejaVuSans-48\"/>\n       <use x=\"254.492188\" xlink:href=\"#DejaVuSans-45\"/>\n       <use x=\"290.576172\" xlink:href=\"#DejaVuSans-48\"/>\n       <use x=\"354.199219\" xlink:href=\"#DejaVuSans-49\"/>\n      </g>\n     </g>\n    </g>\n    <g id=\"xtick_10\">\n     <g id=\"line2d_10\">\n      <g>\n       <use style=\"stroke:#000000;stroke-width:0.8;\" x=\"367.757237\" xlink:href=\"#mfd579adeb3\" y=\"203.04\"/>\n      </g>\n     </g>\n     <g id=\"text_10\">\n      <!-- 2020-07 -->\n      <g transform=\"translate(330.532417 237.511846)rotate(-30)scale(0.1 -0.1)\">\n       <use xlink:href=\"#DejaVuSans-50\"/>\n       <use x=\"63.623047\" xlink:href=\"#DejaVuSans-48\"/>\n       <use x=\"127.246094\" xlink:href=\"#DejaVuSans-50\"/>\n       <use x=\"190.869141\" xlink:href=\"#DejaVuSans-48\"/>\n       <use x=\"254.492188\" xlink:href=\"#DejaVuSans-45\"/>\n       <use x=\"290.576172\" xlink:href=\"#DejaVuSans-48\"/>\n       <use x=\"354.199219\" xlink:href=\"#DejaVuSans-55\"/>\n      </g>\n     </g>\n    </g>\n    <g id=\"text_11\">\n     <!-- date -->\n     <defs>\n      <path d=\"M 45.40625 46.390625 \nL 45.40625 75.984375 \nL 54.390625 75.984375 \nL 54.390625 0 \nL 45.40625 0 \nL 45.40625 8.203125 \nQ 42.578125 3.328125 38.25 0.953125 \nQ 33.9375 -1.421875 27.875 -1.421875 \nQ 17.96875 -1.421875 11.734375 6.484375 \nQ 5.515625 14.40625 5.515625 27.296875 \nQ 5.515625 40.1875 11.734375 48.09375 \nQ 17.96875 56 27.875 56 \nQ 33.9375 56 38.25 53.625 \nQ 42.578125 51.265625 45.40625 46.390625 \nz\nM 14.796875 27.296875 \nQ 14.796875 17.390625 18.875 11.75 \nQ 22.953125 6.109375 30.078125 6.109375 \nQ 37.203125 6.109375 41.296875 11.75 \nQ 45.40625 17.390625 45.40625 27.296875 \nQ 45.40625 37.203125 41.296875 42.84375 \nQ 37.203125 48.484375 30.078125 48.484375 \nQ 22.953125 48.484375 18.875 42.84375 \nQ 14.796875 37.203125 14.796875 27.296875 \nz\n\" id=\"DejaVuSans-100\"/>\n      <path d=\"M 34.28125 27.484375 \nQ 23.390625 27.484375 19.1875 25 \nQ 14.984375 22.515625 14.984375 16.5 \nQ 14.984375 11.71875 18.140625 8.90625 \nQ 21.296875 6.109375 26.703125 6.109375 \nQ 34.1875 6.109375 38.703125 11.40625 \nQ 43.21875 16.703125 43.21875 25.484375 \nL 43.21875 27.484375 \nz\nM 52.203125 31.203125 \nL 52.203125 0 \nL 43.21875 0 \nL 43.21875 8.296875 \nQ 40.140625 3.328125 35.546875 0.953125 \nQ 30.953125 -1.421875 24.3125 -1.421875 \nQ 15.921875 -1.421875 10.953125 3.296875 \nQ 6 8.015625 6 15.921875 \nQ 6 25.140625 12.171875 29.828125 \nQ 18.359375 34.515625 30.609375 34.515625 \nL 43.21875 34.515625 \nL 43.21875 35.40625 \nQ 43.21875 41.609375 39.140625 45 \nQ 35.0625 48.390625 27.6875 48.390625 \nQ 23 48.390625 18.546875 47.265625 \nQ 14.109375 46.140625 10.015625 43.890625 \nL 10.015625 52.203125 \nQ 14.9375 54.109375 19.578125 55.046875 \nQ 24.21875 56 28.609375 56 \nQ 40.484375 56 46.34375 49.84375 \nQ 52.203125 43.703125 52.203125 31.203125 \nz\n\" id=\"DejaVuSans-97\"/>\n      <path d=\"M 18.3125 70.21875 \nL 18.3125 54.6875 \nL 36.8125 54.6875 \nL 36.8125 47.703125 \nL 18.3125 47.703125 \nL 18.3125 18.015625 \nQ 18.3125 11.328125 20.140625 9.421875 \nQ 21.96875 7.515625 27.59375 7.515625 \nL 36.8125 7.515625 \nL 36.8125 0 \nL 27.59375 0 \nQ 17.1875 0 13.234375 3.875 \nQ 9.28125 7.765625 9.28125 18.015625 \nL 9.28125 47.703125 \nL 2.6875 47.703125 \nL 2.6875 54.6875 \nL 9.28125 54.6875 \nL 9.28125 70.21875 \nz\n\" id=\"DejaVuSans-116\"/>\n      <path d=\"M 56.203125 29.59375 \nL 56.203125 25.203125 \nL 14.890625 25.203125 \nQ 15.484375 15.921875 20.484375 11.0625 \nQ 25.484375 6.203125 34.421875 6.203125 \nQ 39.59375 6.203125 44.453125 7.46875 \nQ 49.3125 8.734375 54.109375 11.28125 \nL 54.109375 2.78125 \nQ 49.265625 0.734375 44.1875 -0.34375 \nQ 39.109375 -1.421875 33.890625 -1.421875 \nQ 20.796875 -1.421875 13.15625 6.1875 \nQ 5.515625 13.8125 5.515625 26.8125 \nQ 5.515625 40.234375 12.765625 48.109375 \nQ 20.015625 56 32.328125 56 \nQ 43.359375 56 49.78125 48.890625 \nQ 56.203125 41.796875 56.203125 29.59375 \nz\nM 47.21875 32.234375 \nQ 47.125 39.59375 43.09375 43.984375 \nQ 39.0625 48.390625 32.421875 48.390625 \nQ 24.90625 48.390625 20.390625 44.140625 \nQ 15.875 39.890625 15.1875 32.171875 \nz\n\" id=\"DejaVuSans-101\"/>\n     </defs>\n     <g transform=\"translate(189.714302 250.911346)scale(0.1 -0.1)\">\n      <use xlink:href=\"#DejaVuSans-100\"/>\n      <use x=\"63.476562\" xlink:href=\"#DejaVuSans-97\"/>\n      <use x=\"124.755859\" xlink:href=\"#DejaVuSans-116\"/>\n      <use x=\"163.964844\" xlink:href=\"#DejaVuSans-101\"/>\n     </g>\n    </g>\n   </g>\n   <g id=\"matplotlib.axis_2\">\n    <g id=\"ytick_1\">\n     <g id=\"line2d_11\">\n      <defs>\n       <path d=\"M 0 0 \nL -3.5 0 \n\" id=\"m3abb5841b0\" style=\"stroke:#000000;stroke-width:0.8;\"/>\n      </defs>\n      <g>\n       <use style=\"stroke:#000000;stroke-width:0.8;\" x=\"33.589302\" xlink:href=\"#m3abb5841b0\" y=\"191.444111\"/>\n      </g>\n     </g>\n     <g id=\"text_12\">\n      <!-- 120 -->\n      <g transform=\"translate(7.501802 195.243329)scale(0.1 -0.1)\">\n       <use xlink:href=\"#DejaVuSans-49\"/>\n       <use x=\"63.623047\" xlink:href=\"#DejaVuSans-50\"/>\n       <use x=\"127.246094\" xlink:href=\"#DejaVuSans-48\"/>\n      </g>\n     </g>\n    </g>\n    <g id=\"ytick_2\">\n     <g id=\"line2d_12\">\n      <g>\n       <use style=\"stroke:#000000;stroke-width:0.8;\" x=\"33.589302\" xlink:href=\"#m3abb5841b0\" y=\"166.147668\"/>\n      </g>\n     </g>\n     <g id=\"text_13\">\n      <!-- 140 -->\n      <defs>\n       <path d=\"M 37.796875 64.3125 \nL 12.890625 25.390625 \nL 37.796875 25.390625 \nz\nM 35.203125 72.90625 \nL 47.609375 72.90625 \nL 47.609375 25.390625 \nL 58.015625 25.390625 \nL 58.015625 17.1875 \nL 47.609375 17.1875 \nL 47.609375 0 \nL 37.796875 0 \nL 37.796875 17.1875 \nL 4.890625 17.1875 \nL 4.890625 26.703125 \nz\n\" id=\"DejaVuSans-52\"/>\n      </defs>\n      <g transform=\"translate(7.501802 169.946887)scale(0.1 -0.1)\">\n       <use xlink:href=\"#DejaVuSans-49\"/>\n       <use x=\"63.623047\" xlink:href=\"#DejaVuSans-52\"/>\n       <use x=\"127.246094\" xlink:href=\"#DejaVuSans-48\"/>\n      </g>\n     </g>\n    </g>\n    <g id=\"ytick_3\">\n     <g id=\"line2d_13\">\n      <g>\n       <use style=\"stroke:#000000;stroke-width:0.8;\" x=\"33.589302\" xlink:href=\"#m3abb5841b0\" y=\"140.851225\"/>\n      </g>\n     </g>\n     <g id=\"text_14\">\n      <!-- 160 -->\n      <g transform=\"translate(7.501802 144.650444)scale(0.1 -0.1)\">\n       <use xlink:href=\"#DejaVuSans-49\"/>\n       <use x=\"63.623047\" xlink:href=\"#DejaVuSans-54\"/>\n       <use x=\"127.246094\" xlink:href=\"#DejaVuSans-48\"/>\n      </g>\n     </g>\n    </g>\n    <g id=\"ytick_4\">\n     <g id=\"line2d_14\">\n      <g>\n       <use style=\"stroke:#000000;stroke-width:0.8;\" x=\"33.589302\" xlink:href=\"#m3abb5841b0\" y=\"115.554783\"/>\n      </g>\n     </g>\n     <g id=\"text_15\">\n      <!-- 180 -->\n      <g transform=\"translate(7.501802 119.354001)scale(0.1 -0.1)\">\n       <use xlink:href=\"#DejaVuSans-49\"/>\n       <use x=\"63.623047\" xlink:href=\"#DejaVuSans-56\"/>\n       <use x=\"127.246094\" xlink:href=\"#DejaVuSans-48\"/>\n      </g>\n     </g>\n    </g>\n    <g id=\"ytick_5\">\n     <g id=\"line2d_15\">\n      <g>\n       <use style=\"stroke:#000000;stroke-width:0.8;\" x=\"33.589302\" xlink:href=\"#m3abb5841b0\" y=\"90.25834\"/>\n      </g>\n     </g>\n     <g id=\"text_16\">\n      <!-- 200 -->\n      <g transform=\"translate(7.501802 94.057559)scale(0.1 -0.1)\">\n       <use xlink:href=\"#DejaVuSans-50\"/>\n       <use x=\"63.623047\" xlink:href=\"#DejaVuSans-48\"/>\n       <use x=\"127.246094\" xlink:href=\"#DejaVuSans-48\"/>\n      </g>\n     </g>\n    </g>\n    <g id=\"ytick_6\">\n     <g id=\"line2d_16\">\n      <g>\n       <use style=\"stroke:#000000;stroke-width:0.8;\" x=\"33.589302\" xlink:href=\"#m3abb5841b0\" y=\"64.961897\"/>\n      </g>\n     </g>\n     <g id=\"text_17\">\n      <!-- 220 -->\n      <g transform=\"translate(7.501802 68.761116)scale(0.1 -0.1)\">\n       <use xlink:href=\"#DejaVuSans-50\"/>\n       <use x=\"63.623047\" xlink:href=\"#DejaVuSans-50\"/>\n       <use x=\"127.246094\" xlink:href=\"#DejaVuSans-48\"/>\n      </g>\n     </g>\n    </g>\n    <g id=\"ytick_7\">\n     <g id=\"line2d_17\">\n      <g>\n       <use style=\"stroke:#000000;stroke-width:0.8;\" x=\"33.589302\" xlink:href=\"#m3abb5841b0\" y=\"39.665455\"/>\n      </g>\n     </g>\n     <g id=\"text_18\">\n      <!-- 240 -->\n      <g transform=\"translate(7.501802 43.464673)scale(0.1 -0.1)\">\n       <use xlink:href=\"#DejaVuSans-50\"/>\n       <use x=\"63.623047\" xlink:href=\"#DejaVuSans-52\"/>\n       <use x=\"127.246094\" xlink:href=\"#DejaVuSans-48\"/>\n      </g>\n     </g>\n    </g>\n    <g id=\"ytick_8\">\n     <g id=\"line2d_18\">\n      <g>\n       <use style=\"stroke:#000000;stroke-width:0.8;\" x=\"33.589302\" xlink:href=\"#m3abb5841b0\" y=\"14.369012\"/>\n      </g>\n     </g>\n     <g id=\"text_19\">\n      <!-- 260 -->\n      <g transform=\"translate(7.501802 18.168231)scale(0.1 -0.1)\">\n       <use xlink:href=\"#DejaVuSans-50\"/>\n       <use x=\"63.623047\" xlink:href=\"#DejaVuSans-54\"/>\n       <use x=\"127.246094\" xlink:href=\"#DejaVuSans-48\"/>\n      </g>\n     </g>\n    </g>\n   </g>\n   <g id=\"line2d_19\">\n    <path clip-path=\"url(#pa4717abb20)\" d=\"M 48.807484 157.521581 \nL 49.001966 156.712095 \nL 49.390929 164.920791 \nL 49.58541 165.527905 \nL 50.168855 165.56585 \nL 50.363337 165.059921 \nL 50.557818 167.76664 \nL 50.7523 164.655178 \nL 50.946781 167.804585 \nL 51.724708 168.184032 \nL 51.919189 169.992727 \nL 52.113671 168.98087 \nL 52.308152 166.754783 \nL 52.891597 169.221186 \nL 53.086078 160.101818 \nL 53.28056 159.127905 \nL 53.475042 156.88917 \nL 53.669523 152.234625 \nL 54.447449 156.193518 \nL 54.641931 150.312095 \nL 54.836412 149.148458 \nL 55.030894 149.110514 \nL 55.614339 148.56664 \nL 55.80882 147.50419 \nL 56.197783 152.652016 \nL 56.392265 148.490751 \nL 57.170191 146.50498 \nL 57.364673 145.126324 \nL 57.559154 144.923953 \nL 57.753636 145.341344 \nL 58.337081 143.760316 \nL 58.531562 145.695494 \nL 58.726044 144.367431 \nL 58.920525 142.128696 \nL 59.115007 143.039368 \nL 59.698451 144.810119 \nL 59.892933 141.369802 \nL 60.087415 141.59747 \nL 60.281896 141.635415 \nL 60.476378 140.762688 \nL 61.059822 140.130277 \nL 61.254304 140.598261 \nL 61.643267 140.990356 \nL 61.837749 138.47336 \nL 62.421193 138.561897 \nL 63.004638 136.108142 \nL 63.199119 134.109723 \nL 63.782564 134.729486 \nL 63.977046 134.640949 \nL 64.171527 135.450435 \nL 64.366009 135.210119 \nL 65.143935 132.908142 \nL 65.338417 135.298656 \nL 65.532898 132.313676 \nL 65.72738 132.465455 \nL 65.921861 131.327115 \nL 66.699787 133.502609 \nL 66.894269 132.237787 \nL 67.088751 131.795099 \nL 67.283232 132.465455 \nL 67.866677 132.516047 \nL 68.061158 130.694704 \nL 68.25564 129.986403 \nL 68.450121 130.530277 \nL 68.644603 129.746087 \nL 69.422529 128.645692 \nL 69.617011 129.543715 \nL 69.811492 129.897866 \nL 70.005974 129.897866 \nL 70.589419 130.252016 \nL 70.7839 133.034625 \nL 70.978382 131.036206 \nL 71.172863 131.99747 \nL 71.950789 130.302609 \nL 72.145271 130.770593 \nL 72.339753 131.795099 \nL 72.534234 131.023557 \nL 72.728716 129.606957 \nL 73.31216 130.074941 \nL 73.506642 127.87415 \nL 73.701124 128.493913 \nL 73.895605 128.013281 \nL 74.090087 130.327905 \nL 74.673531 128.772174 \nL 75.256976 134.387984 \nL 75.451458 134.514466 \nL 76.034902 133.123162 \nL 76.423865 128.215652 \nL 76.618347 129.58166 \nL 76.812828 129.606957 \nL 77.590755 130.327905 \nL 77.785236 129.859921 \nL 77.979718 130.682055 \nL 78.174199 130.252016 \nL 79.146607 126.406957 \nL 79.53557 130.024348 \nL 80.119015 131.833043 \nL 80.313496 131.225929 \nL 80.507978 130.985613 \nL 80.70246 128.291542 \nL 80.896941 129.543715 \nL 81.480386 126.647273 \nL 81.674867 126.470198 \nL 81.869349 126.647273 \nL 82.06383 123.004585 \nL 82.258312 129.316047 \nL 82.841757 131.757154 \nL 83.619683 121.195889 \nL 84.397609 121.082055 \nL 84.786572 122.04332 \nL 84.981054 119.19747 \nL 85.564498 118.071779 \nL 85.75898 116.617233 \nL 85.953462 116.553992 \nL 86.147943 114.416443 \nL 86.342425 113.784032 \nL 86.925869 114.15083 \nL 87.314832 113.758735 \nL 87.509314 115.225929 \nL 87.703796 114.998261 \nL 88.28724 116.022767 \nL 88.481722 118.514466 \nL 88.676203 117.742925 \nL 88.870685 118.109723 \nL 89.065166 117.629091 \nL 89.648611 117.717628 \nL 90.037574 117.603794 \nL 90.232056 118.324743 \nL 90.426537 117.363478 \nL 91.009982 117.35083 \nL 91.204464 117.591146 \nL 91.398945 117.047273 \nL 91.593427 114.28996 \nL 91.787908 115.213281 \nL 92.371353 114.846482 \nL 92.565835 116.503399 \nL 92.760316 115.719209 \nL 92.954798 116.591937 \nL 93.149279 116.048063 \nL 93.732724 116.731067 \nL 93.927205 115.845692 \nL 94.121687 116.301028 \nL 94.316169 116.086008 \nL 94.51065 116.301028 \nL 95.094095 114.922372 \nL 95.288576 115.365059 \nL 95.483058 116.516047 \nL 95.872021 114.530277 \nL 96.649947 114.972964 \nL 96.844429 115.870988 \nL 97.03891 115.4283 \nL 97.233392 121.069407 \nL 97.816837 117.957945 \nL 98.011318 120.525534 \nL 98.2058 121.094704 \nL 98.400281 119.867826 \nL 98.594763 121.803004 \nL 99.372689 118.590356 \nL 99.567171 116.07336 \nL 99.761652 115.744506 \nL 99.956134 118.855968 \nL 100.539578 120.677312 \nL 100.73406 120.234625 \nL 100.928541 118.603004 \nL 101.123023 121.410909 \nL 101.317505 120.323162 \nL 101.900949 121.8283 \nL 102.095431 126.078103 \nL 102.289912 125.180079 \nL 102.484394 126.128696 \nL 102.678875 126.520791 \nL 103.26232 126.761107 \nL 103.456802 128.607747 \nL 103.651283 128.557154 \nL 104.040246 127.785613 \nL 104.623691 127.937391 \nL 104.818173 128.266245 \nL 105.207136 128.380079 \nL 105.401617 128.835415 \nL 105.985062 126.59668 \nL 106.179543 132.971383 \nL 106.374025 132.617233 \nL 106.568507 133.56585 \nL 106.762988 133.553202 \nL 107.346433 134.147668 \nL 107.540914 135.475731 \nL 107.929877 132.21249 \nL 108.124359 132.655178 \nL 108.902285 126.900237 \nL 109.096767 127.709723 \nL 109.291248 122.789565 \nL 109.48573 121.777708 \nL 110.069175 124.522372 \nL 110.263656 122.840158 \nL 110.458138 125.660711 \nL 110.652619 124.699447 \nL 110.847101 124.45913 \nL 111.430546 126.280474 \nL 111.819509 125.357154 \nL 112.208472 123.788775 \nL 112.791916 125.040949 \nL 112.986398 124.699447 \nL 113.18088 126.002213 \nL 113.375361 124.876522 \nL 113.569843 125.129486 \nL 114.153287 126.153992 \nL 114.347769 125.926324 \nL 114.54225 120.55083 \nL 114.736732 120.76585 \nL 114.931214 117.464664 \nL 115.514658 116.010119 \nL 115.70914 117.034625 \nL 115.903621 119.855178 \nL 116.098103 120.588775 \nL 116.292584 118.780079 \nL 116.876029 117.882055 \nL 117.070511 117.262292 \nL 117.264992 117.540553 \nL 117.459474 116.56664 \nL 117.653955 117.13581 \nL 118.431882 116.920791 \nL 118.626363 117.983241 \nL 119.015326 117.363478 \nL 119.793252 118.021186 \nL 119.987734 117.679684 \nL 120.182216 118.451225 \nL 120.376697 117.793518 \nL 120.960142 119.007747 \nL 121.154623 119.880474 \nL 121.349105 118.223557 \nL 121.543586 118.792727 \nL 122.515994 119.020395 \nL 122.710476 117.464664 \nL 122.904957 117.224348 \nL 123.099439 117.464664 \nL 123.682884 117.439368 \nL 123.877365 120.652016 \nL 124.071847 119.690751 \nL 124.266328 119.576917 \nL 124.46081 118.742134 \nL 125.238736 122.106561 \nL 125.433218 121.663874 \nL 125.627699 122.916047 \nL 125.822181 121.8283 \nL 126.405625 121.752411 \nL 126.600107 120.917628 \nL 127.183552 116.819605 \nL 127.961478 113.531067 \nL 128.155959 113.404585 \nL 128.350441 111.241739 \nL 128.544923 111.823557 \nL 129.322849 111.292332 \nL 129.711812 106.460711 \nL 129.906293 106.182451 \nL 130.489738 106.814862 \nL 130.68422 107.523162 \nL 130.878701 103.083636 \nL 131.073183 103.045692 \nL 131.267664 103.779289 \nL 131.851109 104.297866 \nL 132.045591 104.057549 \nL 132.434554 103.033043 \nL 132.629035 101.376126 \nL 133.21248 100.984032 \nL 133.406961 102.48917 \nL 133.601443 101.388775 \nL 133.795925 102.514466 \nL 133.990406 99.921581 \nL 134.573851 99.099447 \nL 134.768332 100.21249 \nL 134.962814 100.098656 \nL 135.157295 100.199842 \nL 135.351777 100.99668 \nL 135.935222 102.362688 \nL 136.129703 101.654387 \nL 136.324185 102.046482 \nL 136.518666 101.287589 \nL 136.713148 101.224348 \nL 137.296593 101.995889 \nL 137.491074 102.666245 \nL 137.685556 102.603004 \nL 137.880037 103.045692 \nL 138.074519 102.919209 \nL 138.657963 103.27336 \nL 138.852445 102.818024 \nL 139.046927 103.286008 \nL 139.241408 104.614071 \nL 140.019334 102.451225 \nL 140.213816 102.6283 \nL 140.408297 103.121581 \nL 140.602779 101.439368 \nL 140.797261 101.009328 \nL 141.575187 96.418024 \nL 141.769668 96.582451 \nL 141.96415 95.178498 \nL 142.742076 96.822767 \nL 143.325521 90.878103 \nL 143.520002 91.017233 \nL 144.103447 91.96585 \nL 144.297929 92.838577 \nL 144.49241 94.508142 \nL 144.686892 94.369012 \nL 144.881373 94.59668 \nL 145.6593 92.901818 \nL 145.853781 96.784822 \nL 146.242744 95.570593 \nL 146.826189 92.142925 \nL 147.02067 93.129486 \nL 147.215152 93.433043 \nL 147.604115 89.410909 \nL 148.382041 87.172174 \nL 148.576523 84.604585 \nL 148.771004 84.756364 \nL 148.965486 81.784032 \nL 149.548931 82.391146 \nL 149.937894 83.921581 \nL 150.326857 81.493123 \nL 150.910302 80.911304 \nL 151.299265 77.59747 \nL 151.688228 73.512095 \nL 152.466154 73.360316 \nL 152.855117 74.802213 \nL 153.049599 73.942134 \nL 153.633043 74.308933 \nL 153.827525 77.888379 \nL 154.022006 76.825929 \nL 154.216488 80.329486 \nL 154.41097 79.899447 \nL 154.994414 77.825138 \nL 155.383377 77.913676 \nL 155.577859 80.114466 \nL 155.77234 78.128696 \nL 156.355785 76.990356 \nL 156.550267 78.040158 \nL 156.744748 75.96585 \nL 156.93923 76.231462 \nL 157.133711 75.371383 \nL 157.717156 75.485217 \nL 157.911638 75.953202 \nL 158.300601 74.511304 \nL 158.495082 76.142925 \nL 159.078527 77.610119 \nL 159.273008 91.029881 \nL 159.46749 91.485217 \nL 159.661972 90.195099 \nL 159.856453 90.61249 \nL 160.439898 88.778498 \nL 161.023343 80.620395 \nL 161.217824 80.582451 \nL 161.801269 80.848063 \nL 161.99575 82.125534 \nL 162.190232 82.062292 \nL 162.579195 82.694704 \nL 163.16264 80.936601 \nL 163.357121 81.176917 \nL 163.551603 80.240949 \nL 163.940566 85.793518 \nL 164.524011 84.503399 \nL 164.718492 83.352411 \nL 164.912974 86.881265 \nL 165.107455 87.576917 \nL 165.301937 87.564269 \nL 165.885381 87.146877 \nL 166.079863 86.565059 \nL 166.468826 84.794308 \nL 166.663308 85.755573 \nL 167.441234 89.018814 \nL 167.635715 87.665455 \nL 168.024679 83.061502 \nL 168.608123 78.16664 \nL 168.802605 78.065455 \nL 168.997086 78.255178 \nL 169.386049 73.372964 \nL 169.969494 72.854387 \nL 170.163976 73.107352 \nL 170.358457 76.965059 \nL 170.552939 77.053597 \nL 170.74742 76.648854 \nL 171.330865 76.686798 \nL 171.525347 76.307352 \nL 171.719828 78.267826 \nL 171.91431 78.179289 \nL 172.108791 77.736601 \nL 172.692236 74.119209 \nL 173.081199 69.363478 \nL 173.275681 69.553202 \nL 173.470162 69.363478 \nL 174.248088 69.072569 \nL 174.44257 69.376126 \nL 174.637051 68.010119 \nL 174.831533 67.845692 \nL 175.414978 66.58087 \nL 175.609459 67.807747 \nL 175.803941 67.15004 \nL 175.998422 65.923162 \nL 176.192904 63.292332 \nL 176.776349 63.001423 \nL 176.97083 46.432253 \nL 177.165312 42.599842 \nL 177.359793 48.595099 \nL 177.554275 46.318419 \nL 178.332201 52.07336 \nL 178.526683 52.086008 \nL 178.721164 49.493123 \nL 178.915646 49.505771 \nL 179.49909 51.921581 \nL 179.888054 52.528696 \nL 180.277017 55.538972 \nL 180.860461 54.565059 \nL 181.054943 53.161107 \nL 181.249424 55.602213 \nL 181.443906 53.047273 \nL 181.638388 53.123162 \nL 182.221832 50.429091 \nL 182.416314 47.140553 \nL 182.610795 50.315257 \nL 182.999758 50.568221 \nL 183.583203 47.254387 \nL 183.972166 42.182451 \nL 184.166648 35.693913 \nL 184.361129 38.210909 \nL 185.139056 41.866245 \nL 185.333537 41.347668 \nL 185.528019 39.286008 \nL 185.7225 42.030672 \nL 186.305945 40.55083 \nL 186.500426 43.991146 \nL 186.694908 40.791146 \nL 186.88939 42.093913 \nL 187.083871 42.195099 \nL 187.667316 41.663874 \nL 187.861797 41.701818 \nL 188.445242 46.331067 \nL 189.223168 45.420395 \nL 189.41765 44.471779 \nL 189.806613 45.521581 \nL 190.779021 45.192727 \nL 191.167984 38.944506 \nL 191.751428 39.931067 \nL 191.94591 38.046482 \nL 192.140392 38.223557 \nL 192.334873 36.743715 \nL 192.529355 34.0117 \nL 193.307281 33.670198 \nL 193.501762 29.407747 \nL 193.696244 32.190356 \nL 193.890726 29.319209 \nL 194.47417 30.432253 \nL 194.668652 31.684427 \nL 194.863133 29.938972 \nL 195.252096 16.101818 \nL 195.835541 19.415652 \nL 196.030023 25.069407 \nL 196.224504 26.384822 \nL 196.613467 33.126324 \nL 197.196912 50.492332 \nL 197.391394 47.722372 \nL 197.585875 48.278893 \nL 197.780357 61.306561 \nL 197.974838 58.372174 \nL 198.558283 53.338182 \nL 198.752765 50.593518 \nL 198.947246 49.784032 \nL 199.336209 43.877312 \nL 200.114135 45.901028 \nL 200.308617 49.556364 \nL 200.503099 44.724743 \nL 200.69758 43.434625 \nL 201.281025 34.429091 \nL 201.669988 45.344506 \nL 201.864469 50.618814 \nL 202.058951 51.845692 \nL 202.836877 47.684427 \nL 203.031359 45.268617 \nL 203.22584 44.294704 \nL 203.420322 37.957945 \nL 204.003767 39.918419 \nL 204.39273 46.887589 \nL 204.781693 43.18166 \nL 205.365137 50.340553 \nL 205.559619 49.214862 \nL 205.754101 47.077312 \nL 206.143064 70.830672 \nL 206.726508 64.65834 \nL 206.92099 70.185613 \nL 207.115471 69.338182 \nL 207.309953 65.569012 \nL 208.087879 74.296285 \nL 208.282361 69.603794 \nL 208.671324 66.644111 \nL 208.865805 74.764269 \nL 209.44925 74.055968 \nL 209.643732 68.78166 \nL 209.838213 72.133439 \nL 210.032695 69.48996 \nL 210.227176 70.6283 \nL 210.810621 67.870988 \nL 211.005103 64.848063 \nL 211.394066 66.416443 \nL 211.588547 67.807747 \nL 212.171992 70.172964 \nL 212.366473 88.829091 \nL 212.755437 93.938972 \nL 212.949918 95.16585 \nL 213.533363 97.353992 \nL 213.727844 96.557154 \nL 213.922326 97.214862 \nL 214.116808 95.722372 \nL 214.311289 91.067826 \nL 214.894734 89.929486 \nL 215.478178 83.896285 \nL 215.67266 83.731858 \nL 216.256105 82.972964 \nL 216.645068 89.992727 \nL 216.839549 89.803004 \nL 217.034031 91.573755 \nL 217.617476 88.032253 \nL 217.811957 91.561107 \nL 218.006439 91.940553 \nL 218.20092 91.004585 \nL 218.395402 91.485217 \nL 219.173328 95.646482 \nL 219.36781 91.927905 \nL 219.562291 93.761897 \nL 219.756773 90.776917 \nL 220.340217 88.917628 \nL 220.534699 88.740553 \nL 220.923662 83.845692 \nL 221.118144 81.923162 \nL 221.89607 84.035415 \nL 222.090551 84.07336 \nL 222.285033 85.667036 \nL 222.479514 83.972174 \nL 223.062959 84.984032 \nL 223.257441 91.029881 \nL 223.451922 92.686798 \nL 223.646404 95.924743 \nL 223.840885 94.685217 \nL 224.42433 95.570593 \nL 224.618812 94.584032 \nL 224.813293 96.683636 \nL 225.202256 94.406957 \nL 225.785701 95.924743 \nL 225.980182 95.532648 \nL 226.369146 93.622767 \nL 226.563627 93.470988 \nL 227.341553 88.386403 \nL 227.536035 93.192727 \nL 227.924998 88.76585 \nL 228.508443 88.854387 \nL 228.702924 87.640158 \nL 228.897406 87.475731 \nL 229.091887 88.234625 \nL 229.286369 87.791937 \nL 229.869814 91.725534 \nL 230.064295 89.398261 \nL 230.453258 80.190356 \nL 230.64774 80.87336 \nL 231.231184 83.782451 \nL 231.425666 74.675731 \nL 231.620148 81.341344 \nL 231.814629 83.263874 \nL 232.009111 81.037787 \nL 232.592555 81.784032 \nL 232.787037 79.418814 \nL 232.981519 81.22751 \nL 233.370482 87.779289 \nL 233.953926 90.460711 \nL 234.342889 88.500237 \nL 234.731853 84.225138 \nL 235.315297 84.440158 \nL 235.509779 83.061502 \nL 235.898742 86.780079 \nL 236.093223 83.567431 \nL 237.065631 77.0283 \nL 237.260113 77.331858 \nL 237.454594 76.446482 \nL 238.232521 79.38087 \nL 238.427002 75.295494 \nL 238.621484 74.144506 \nL 238.815965 74.359526 \nL 239.39941 73.90419 \nL 239.593891 75.358735 \nL 239.788373 81.771383 \nL 239.982855 78.8117 \nL 240.177336 80.291542 \nL 240.760781 78.204585 \nL 241.344225 70.944506 \nL 241.538707 69.603794 \nL 242.122152 73.170593 \nL 242.316633 76.800632 \nL 242.511115 76.256759 \nL 242.705596 77.470988 \nL 243.483523 74.840158 \nL 243.678004 70.387984 \nL 243.872486 70.324743 \nL 244.066967 72.753202 \nL 244.261449 73.575336 \nL 244.844893 72.082846 \nL 245.039375 77.078893 \nL 245.428338 94.394308 \nL 245.62282 92.497075 \nL 246.206264 91.599051 \nL 246.400746 87.311304 \nL 246.595227 86.552411 \nL 246.789709 89.777708 \nL 246.984191 90.448063 \nL 247.567635 88.538182 \nL 247.956598 109.81249 \nL 248.15108 109.24332 \nL 248.345561 109.293913 \nL 248.929006 108.231462 \nL 249.123488 103.146877 \nL 249.317969 102.577708 \nL 249.512451 100.098656 \nL 249.706932 99.352411 \nL 250.290377 98.795889 \nL 250.484859 96.203004 \nL 250.873822 85.110514 \nL 251.068303 88.867036 \nL 251.651748 94.002213 \nL 251.84623 92.32 \nL 252.040711 92.712095 \nL 252.429674 78.874941 \nL 253.013119 83.200632 \nL 253.2076 89.613281 \nL 253.402082 91.915257 \nL 253.791045 94.305771 \nL 254.568971 89.385613 \nL 254.763453 84.769012 \nL 254.957934 84.490751 \nL 255.152416 80.240949 \nL 255.735861 79.178498 \nL 255.930342 87.475731 \nL 256.319305 86.868617 \nL 256.513787 92.484427 \nL 257.097232 92.383241 \nL 257.291713 93.470988 \nL 257.680676 87.564269 \nL 257.875158 95.191146 \nL 258.458602 99.339763 \nL 258.653084 97.138972 \nL 259.042047 106.220395 \nL 259.236529 110.8117 \nL 259.819973 117.300237 \nL 260.403418 102.021186 \nL 260.5979 103.703399 \nL 261.181344 102.223557 \nL 261.570307 101.70498 \nL 261.764789 110.799051 \nL 261.95927 101.236996 \nL 262.542715 101.793518 \nL 263.12616 98.353202 \nL 263.320641 100.111304 \nL 263.904086 100.161897 \nL 264.098568 104.247273 \nL 264.293049 103.564269 \nL 264.487531 100.743715 \nL 264.682012 95.494704 \nL 265.459938 100.048063 \nL 265.65442 100.010119 \nL 265.848902 99.719209 \nL 266.043383 95.444111 \nL 266.626828 98.85913 \nL 267.015791 91.18166 \nL 267.210273 89.878893 \nL 267.404754 91.320791 \nL 267.988199 89.992727 \nL 268.18268 88.841739 \nL 268.377162 87.007747 \nL 268.571643 90.460711 \nL 268.766125 90.486008 \nL 269.34957 89.107352 \nL 269.738533 77.964269 \nL 269.933014 84.022767 \nL 270.127496 79.052016 \nL 270.905422 79.621186 \nL 271.099904 79.469407 \nL 271.294385 80.430672 \nL 271.488867 78.432253 \nL 272.072311 76.876522 \nL 272.266793 78.394308 \nL 272.461275 78.836996 \nL 272.655756 80.911304 \nL 272.850238 80.784822 \nL 273.433682 81.58166 \nL 273.628164 85.401423 \nL 273.822645 86.716838 \nL 274.017127 90.435415 \nL 274.211609 89.132648 \nL 274.795053 81.278103 \nL 274.989535 82.922372 \nL 275.572979 80.038577 \nL 276.156424 79.52 \nL 276.350906 78.849644 \nL 276.545387 79.760316 \nL 276.739869 78.103399 \nL 276.93435 84.364269 \nL 277.517795 86.198261 \nL 277.712277 81.101028 \nL 277.906758 81.202213 \nL 278.10124 79.469407 \nL 278.295721 80.418024 \nL 278.879166 75.156364 \nL 279.073647 74.916047 \nL 279.268129 73.651225 \nL 279.462611 71.248063 \nL 279.657092 70.767431 \nL 280.240537 71.260711 \nL 280.435018 75.131067 \nL 280.6295 74.941344 \nL 280.823981 73.145296 \nL 281.018463 68.225138 \nL 281.601908 70.236206 \nL 282.185352 66.378498 \nL 282.963279 66.808538 \nL 283.15776 65.594308 \nL 283.352242 66.125534 \nL 283.546723 101.995889 \nL 283.741205 100.794308 \nL 284.519131 103.526324 \nL 284.713613 107.877312 \nL 284.908094 109.546877 \nL 285.102576 108.952411 \nL 285.68602 111.709723 \nL 285.880502 116.667826 \nL 286.074984 117.338182 \nL 286.269465 121.524743 \nL 286.463947 120.791146 \nL 287.047391 123.055178 \nL 287.241873 121.613281 \nL 287.436354 122.991937 \nL 287.825318 129.353992 \nL 288.408762 132.946087 \nL 288.603244 131.618024 \nL 288.797725 128.531858 \nL 288.992207 133.426719 \nL 289.186688 133.148458 \nL 289.964615 136.614071 \nL 290.159096 139.080474 \nL 290.548059 141.167431 \nL 291.131504 140.800632 \nL 291.325986 135.425138 \nL 291.520467 135.98166 \nL 291.714949 134.881265 \nL 291.90943 132.490751 \nL 292.687356 129.58166 \nL 292.881838 129.455178 \nL 293.07632 129.657549 \nL 293.270801 132.389565 \nL 293.854246 132.275731 \nL 294.048727 125.850435 \nL 294.243209 127.254387 \nL 294.43769 123.219605 \nL 294.632172 123.96585 \nL 295.215617 123.927905 \nL 295.410098 125.635415 \nL 295.60458 125.825138 \nL 295.799061 126.305771 \nL 295.993543 123.978498 \nL 296.576988 122.498656 \nL 296.771469 123.118419 \nL 296.965951 121.90419 \nL 297.354914 125.67336 \nL 297.938358 129.22751 \nL 298.13284 133.641739 \nL 298.327322 133.641739 \nL 298.716285 123.978498 \nL 299.299729 124.610909 \nL 299.494211 119.994308 \nL 299.883174 124.332648 \nL 300.077656 124.901818 \nL 300.6611 122.334229 \nL 301.050063 116.288379 \nL 301.244545 117.92 \nL 301.439026 123.169012 \nL 302.216953 118.552411 \nL 302.800397 127.507352 \nL 303.578324 136.158735 \nL 303.772805 136.247273 \nL 303.967287 135.513676 \nL 304.161768 136.462292 \nL 304.745213 138.195099 \nL 304.939695 134.678893 \nL 305.134176 142.356364 \nL 305.328658 144.848063 \nL 305.523139 138.953992 \nL 306.106584 137.12 \nL 306.301065 139.573755 \nL 306.495547 139.39668 \nL 306.690029 139.738182 \nL 306.88451 146.100237 \nL 307.467955 145.758735 \nL 307.662436 146.226719 \nL 308.245881 138.675731 \nL 309.023807 142.571383 \nL 309.218289 140.762688 \nL 309.41277 135.501028 \nL 309.607252 135.867826 \nL 310.190697 133.338182 \nL 310.385178 129.644901 \nL 310.57966 130.631462 \nL 310.774141 127.469407 \nL 310.968623 126.38166 \nL 311.552067 128.620395 \nL 311.746549 130.644111 \nL 312.135512 131.908933 \nL 312.329994 132.301028 \nL 312.913438 132.301028 \nL 313.10792 134.855968 \nL 313.302401 135.791937 \nL 313.496883 136.006957 \nL 313.691365 135.121581 \nL 314.274809 135.286008 \nL 314.663772 146.353202 \nL 314.858254 146.884427 \nL 315.052735 146.138182 \nL 315.63618 149.047273 \nL 315.830662 152.563478 \nL 316.025143 152.247273 \nL 316.219625 150.577708 \nL 316.414106 143.254387 \nL 316.997551 140.206166 \nL 317.192033 137.082055 \nL 317.386514 138.093913 \nL 317.580996 136.373755 \nL 317.775477 136.930277 \nL 318.358922 133.338182 \nL 318.747885 129.771383 \nL 318.942367 138.460711 \nL 319.136848 133.148458 \nL 319.720293 129.391937 \nL 319.914774 129.708142 \nL 320.109256 130.264664 \nL 320.303738 134.539763 \nL 320.498219 128.08917 \nL 321.081664 122.005375 \nL 321.276145 121.537391 \nL 321.470627 123.143715 \nL 321.665108 122.486008 \nL 321.85959 124.218814 \nL 322.443035 128.063874 \nL 322.637516 127.140553 \nL 322.831998 127.507352 \nL 323.026479 127.026719 \nL 323.220961 125.825138 \nL 323.804406 127.52 \nL 323.998887 127.342925 \nL 324.38785 134.35004 \nL 324.582332 131.238577 \nL 325.165776 127.899447 \nL 325.360258 129.176917 \nL 325.55474 127.431462 \nL 326.527147 130.391146 \nL 326.721629 134.312095 \nL 326.91611 131.820395 \nL 327.110592 135.323953 \nL 327.305074 126.343715 \nL 327.888518 128.418024 \nL 328.083 131.162688 \nL 328.277481 129.79668 \nL 328.471963 130.024348 \nL 328.666444 129.733439 \nL 329.249889 127.254387 \nL 329.638852 129.429881 \nL 330.027815 121.410909 \nL 330.61126 117.48996 \nL 330.805742 119.753992 \nL 331.194705 119.867826 \nL 331.389186 119.020395 \nL 331.972631 120.829091 \nL 332.167112 120.082846 \nL 332.556076 115.554783 \nL 332.750557 117.515257 \nL 333.334002 117.300237 \nL 333.528483 118.210909 \nL 333.722965 114.757945 \nL 333.917446 114.036996 \nL 334.111928 114.960316 \nL 334.695373 114.391146 \nL 334.889854 113.821976 \nL 335.084336 115.833043 \nL 335.278817 114.277312 \nL 335.473299 113.847273 \nL 336.251225 116.326324 \nL 336.445707 118.046482 \nL 336.640188 118.413281 \nL 336.83467 117.894704 \nL 337.418115 121.082055 \nL 337.612596 133.793518 \nL 337.807078 138.321581 \nL 338.001559 137.676522 \nL 338.196041 142.546087 \nL 338.779485 145.164269 \nL 338.973967 144.342134 \nL 339.168449 137.90419 \nL 339.36293 137.195889 \nL 339.557412 140.75004 \nL 340.140856 140.661502 \nL 340.529819 136.044901 \nL 340.724301 141.154783 \nL 340.918783 139.573755 \nL 341.696709 142.267826 \nL 341.89119 141.686008 \nL 342.085672 142.672569 \nL 342.863598 150.27415 \nL 343.05808 157.483636 \nL 343.447043 153.297075 \nL 343.641524 154.460711 \nL 344.224969 149.679684 \nL 344.419451 159.52 \nL 344.613932 148.465455 \nL 344.808414 151.716047 \nL 345.002895 148.882846 \nL 345.58634 161.01249 \nL 345.780821 149.325534 \nL 345.975303 156.990356 \nL 346.169785 174.267826 \nL 346.364266 164.022767 \nL 346.947711 177.644901 \nL 347.336674 169.916838 \nL 347.531155 169.297075 \nL 347.725637 185.25913 \nL 348.309082 194.138182 \nL 348.503563 175.355573 \nL 348.698045 176.848063 \nL 348.892526 170.979289 \nL 349.087008 174.697866 \nL 349.670453 169.006166 \nL 349.864934 170.561897 \nL 350.059416 174.824348 \nL 350.253897 168.791146 \nL 350.448379 174.002213 \nL 351.031823 165.262292 \nL 351.420787 154.776917 \nL 351.615268 156.307352 \nL 352.393194 158.052806 \nL 352.587676 153.322372 \nL 352.782157 159.621186 \nL 352.976639 159.95004 \nL 353.171121 157.976917 \nL 353.171121 157.976917 \n\" style=\"fill:none;stroke:#1f77b4;stroke-linecap:square;stroke-width:1.5;\"/>\n   </g>\n   <g id=\"patch_3\">\n    <path d=\"M 33.589302 203.04 \nL 33.589302 7.2 \n\" style=\"fill:none;stroke:#000000;stroke-linecap:square;stroke-linejoin:miter;stroke-width:0.8;\"/>\n   </g>\n   <g id=\"patch_4\">\n    <path d=\"M 368.389302 203.04 \nL 368.389302 7.2 \n\" style=\"fill:none;stroke:#000000;stroke-linecap:square;stroke-linejoin:miter;stroke-width:0.8;\"/>\n   </g>\n   <g id=\"patch_5\">\n    <path d=\"M 33.589302 203.04 \nL 368.389302 203.04 \n\" style=\"fill:none;stroke:#000000;stroke-linecap:square;stroke-linejoin:miter;stroke-width:0.8;\"/>\n   </g>\n   <g id=\"patch_6\">\n    <path d=\"M 33.589302 7.2 \nL 368.389302 7.2 \n\" style=\"fill:none;stroke:#000000;stroke-linecap:square;stroke-linejoin:miter;stroke-width:0.8;\"/>\n   </g>\n  </g>\n </g>\n <defs>\n  <clipPath id=\"pa4717abb20\">\n   <rect height=\"195.84\" width=\"334.8\" x=\"33.589302\" y=\"7.2\"/>\n  </clipPath>\n </defs>\n</svg>\n",
      "image/png": "[encoded data removed]"
     },
     "metadata": {
      "needs_background": "light"
     }
    }
   ],
   "source": [
    "single_stock_history['close'].plot(label=\"3M Close\")"
   ]
  },
  {
   "cell_type": "markdown",
   "metadata": {},
   "source": [
    "# Get list of historical prices for the first 100 stocks\n"
   ]
  },
  {
   "cell_type": "code",
   "execution_count": 30,
   "metadata": {},
   "outputs": [
    {
     "output_type": "execute_result",
     "data": {
      "text/plain": "   Symbol\n0     MMM\n1     ABT\n2    ABBV\n3    ABMD\n4     ACN\n..    ...\n95     CE\n96    CNC\n97    CNP\n98    CTL\n99   CERN\n\n[100 rows x 1 columns]",
      "text/html": "<div>\n<style scoped>\n    .dataframe tbody tr th:only-of-type {\n        vertical-align: middle;\n    }\n\n    .dataframe tbody tr th {\n        vertical-align: top;\n    }\n\n    .dataframe thead th {\n        text-align: right;\n    }\n</style>\n<table border=\"1\" class=\"dataframe\">\n  <thead>\n    <tr style=\"text-align: right;\">\n      <th></th>\n      <th>Symbol</th>\n    </tr>\n  </thead>\n  <tbody>\n    <tr>\n      <th>0</th>\n      <td>MMM</td>\n    </tr>\n    <tr>\n      <th>1</th>\n      <td>ABT</td>\n    </tr>\n    <tr>\n      <th>2</th>\n      <td>ABBV</td>\n    </tr>\n    <tr>\n      <th>3</th>\n      <td>ABMD</td>\n    </tr>\n    <tr>\n      <th>4</th>\n      <td>ACN</td>\n    </tr>\n    <tr>\n      <th>...</th>\n      <td>...</td>\n    </tr>\n    <tr>\n      <th>95</th>\n      <td>CE</td>\n    </tr>\n    <tr>\n      <th>96</th>\n      <td>CNC</td>\n    </tr>\n    <tr>\n      <th>97</th>\n      <td>CNP</td>\n    </tr>\n    <tr>\n      <th>98</th>\n      <td>CTL</td>\n    </tr>\n    <tr>\n      <th>99</th>\n      <td>CERN</td>\n    </tr>\n  </tbody>\n</table>\n<p>100 rows × 1 columns</p>\n</div>"
     },
     "metadata": {},
     "execution_count": 30
    }
   ],
   "source": [
    "sp[:100]"
   ]
  },
  {
   "cell_type": "code",
   "execution_count": 31,
   "metadata": {},
   "outputs": [],
   "source": [
    "start = datetime(2016, 1, 1)\n",
    "end = datetime(2020, 7, 30)"
   ]
  },
  {
   "cell_type": "code",
   "execution_count": 32,
   "metadata": {},
   "outputs": [],
   "source": [
    "dict_of_stock_to_historical_price_df = {}"
   ]
  },
  {
   "cell_type": "code",
   "execution_count": 54,
   "metadata": {},
   "outputs": [
    {
     "output_type": "execute_result",
     "data": {
      "text/plain": "(2016, 1, 1)"
     },
     "metadata": {},
     "execution_count": 54
    }
   ],
   "source": [
    "\n",
    "start.year, start.month, start.day"
   ]
  },
  {
   "cell_type": "code",
   "execution_count": 33,
   "metadata": {},
   "outputs": [
    {
     "output_type": "stream",
     "name": "stdout",
     "text": "Downloading data for MMM\nDownloading data for ABT\nDownloading data for ABBV\nDownloading data for ABMD\nDownloading data for ACN\n"
    }
   ],
   "source": [
    "for stock in sp.Symbol[:5]:\n",
    "    print(f\"Downloading data for {stock}\")\n",
    "    stock_history = getHistoricalPrices(f\"{stock}\", start, end)\n",
    "    dict_of_stock_to_historical_price_df[stock] = stock_history"
   ]
  },
  {
   "cell_type": "code",
   "execution_count": 120,
   "metadata": {},
   "outputs": [
    {
     "output_type": "stream",
     "name": "stdout",
     "text": "downloading data for MMM\nfound existing stock for MMM\n2020-04-17 00:00:00 2022-01-01 00:00:00\nfound existing stock for MMM\n2020-04-17 00:00:00 2022-01-01 00:00:00\nfound existing stock for MMM\n2020-04-17 00:00:00 2022-01-01 00:00:00\ndownloading data for ABT\nfound existing stock for ABT\n2020-04-17 00:00:00 2022-01-01 00:00:00\ndownloading data for ABBV\nfound existing stock for ABBV\n2020-04-17 00:00:00 2022-01-01 00:00:00\ndownloading data for ABMD\nfound existing stock for ABMD\n2020-04-17 00:00:00 2022-01-01 00:00:00\ndownloading data for ACN\nfound existing stock for ACN\n2020-04-17 00:00:00 2022-01-01 00:00:00\ndownloading data for ATVI\ndownloading data for ADBE\ndownloading data for AMD\ndownloading data for AAP\ndownloading data for AES\ndownloading data for AFL\ndownloading data for A\nfound existing stock for A\n2020-04-17 00:00:00 2022-01-01 00:00:00\nfound existing stock for A\n2020-04-17 00:00:00 2022-01-01 00:00:00\nfound existing stock for A\n2020-04-17 00:00:00 2022-01-01 00:00:00\nfound existing stock for A\n2020-04-17 00:00:00 2022-01-01 00:00:00\nfound existing stock for A\n2020-04-17 00:00:00 2022-01-01 00:00:00\nfound existing stock for A\n2020-04-17 00:00:00 2022-01-01 00:00:00\nfound existing stock for A\n2020-04-17 00:00:00 2022-01-01 00:00:00\nfound existing stock for A\n2020-04-17 00:00:00 2022-01-01 00:00:00\nfound existing stock for A\n2020-04-17 00:00:00 2022-01-01 00:00:00\nfound existing stock for A\n2020-04-17 00:00:00 2022-01-01 00:00:00\ndownloading data for APD\ndownloading data for AKAM\ndownloading data for ALK\ndownloading data for ALB\ndownloading data for ARE\ndownloading data for ALXN\ndownloading data for ALGN\ndownloading data for ALLE\n"
    }
   ],
   "source": [
    "update_s_and_p_dataset(20)"
   ]
  },
  {
   "cell_type": "code",
   "execution_count": 119,
   "metadata": {},
   "outputs": [],
   "source": [
    "\n",
    "\n",
    "\n",
    "def update_s_and_p_dataset(n_stock_to_download=5, default_start =datetime.datetime(2016, 1, 1), end = datetime.datetime.now() ):\n",
    "    \"\"\"\n",
    "    Run through the S and P data and update\n",
    "\n",
    "    Minimize API calls by only pulling new data\n",
    "    \"\"\"\n",
    "    file_path = '../data/historical_stock_data'\n",
    "    for stock in sp.Symbol[:n_stock_to_download]:\n",
    "        print(f\"downloading data for {stock}\")\n",
    "        for file in glob.glob(f'{file_path}/*.csv'):\n",
    "            if f\"{stock}\" in file: # we have a data file for this stock\n",
    "                print(f'found existing stock for {stock}')\n",
    "                # open file\n",
    "                stock_df = pd.read_csv(f\"{file}\")\n",
    "                most_recent_date = stock_df.date.max()\n",
    "                oldest_date= stock_df.date.min()\n",
    "\n",
    "                most_recent_year, most_recent_month, most_recent_day = most_recent_date.split('-')\n",
    "                oldest_year, oldest_month, oldest_day = oldest_date.split('-')\n",
    "\n",
    "                start = datetime.datetime(int(most_recent_year), int(most_recent_month), int(most_recent_day))\n",
    "                print(start, end)\n",
    "                stock_history = getHistoricalPrices(f\"{stock}\", start, end)\n",
    "                \n",
    "                # delete the old file\n",
    "                os.remove(f\"{file}\")\n",
    "\n",
    "            else: # we don't have this stocks data\n",
    "                stock_history = getHistoricalPrices(f\"{stock}\", default_start, end)\n",
    "                oldest_year=default_start.year\n",
    "                oldest_month=default_start.month\n",
    "                oldest_day=default_start.day\n",
    "                \n",
    "        now = datetime.datetime.now()\n",
    "        now_year = now.year\n",
    "        now_month = now.month\n",
    "        now_day = now.day\n",
    "        # save the file\n",
    "        stock_history.to_csv(f'{file_path}/{stock}_{oldest_year}-{oldest_month}-{oldest_day}_to_{now_year}-{now_month}-{now_day}.csv')\n",
    "\n",
    "\n",
    "\n"
   ]
  },
  {
   "cell_type": "code",
   "execution_count": 44,
   "metadata": {},
   "outputs": [
    {
     "output_type": "execute_result",
     "data": {
      "text/plain": "Timestamp('2020-04-17 00:00:00')"
     },
     "metadata": {},
     "execution_count": 44
    }
   ],
   "source": [
    "dict_of_stock_to_historical_price_df['MMM'].index.max() # index is dat as returned from the API"
   ]
  },
  {
   "cell_type": "code",
   "execution_count": 70,
   "metadata": {},
   "outputs": [],
   "source": [
    "mmm_df = pd.read_csv('../data/MMM_2016-01-04_to_2020-04-17.csv')"
   ]
  },
  {
   "cell_type": "code",
   "execution_count": 72,
   "metadata": {},
   "outputs": [
    {
     "output_type": "execute_result",
     "data": {
      "text/plain": "'2020-04-17'"
     },
     "metadata": {},
     "execution_count": 72
    }
   ],
   "source": [
    "mmm_df.date.max()"
   ]
  },
  {
   "cell_type": "code",
   "execution_count": null,
   "metadata": {},
   "outputs": [],
   "source": []
  },
  {
   "cell_type": "code",
   "execution_count": 68,
   "metadata": {},
   "outputs": [],
   "source": [
    "dict_of_stock_to_historical_price_df['MMM'].to_csv('../data/MMM_2016-01-04_to_2020-04-17.csv')"
   ]
  }
 ]
}