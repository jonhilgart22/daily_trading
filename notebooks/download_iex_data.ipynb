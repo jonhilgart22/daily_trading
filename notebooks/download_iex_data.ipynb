{
 "cells": [
  {
   "cell_type": "code",
   "execution_count": 176,
   "metadata": {},
   "outputs": [],
   "source": [
    "import pandas as pd\n",
    "from iexfinance.stocks import Stock\n",
    "from datetime import datetime\n",
    "import matplotlib.pyplot as plt\n",
    "from iexfinance.stocks import get_historical_data\n",
    "import os\n",
    "import yaml\n",
    "import sys\n",
    "import datetime\n",
    "import glob\n",
    "\n",
    "# used to access data directory\n",
    "sys.path.insert(0,'../')"
   ]
  },
  {
   "cell_type": "code",
   "execution_count": 177,
   "metadata": {},
   "outputs": [],
   "source": [
    "import pandas as pd\n",
    "table=pd.read_html('https://en.wikipedia.org/wiki/List_of_S%26P_500_companies')\n",
    "df = table[0]\n",
    "df.to_csv('S&P500-Info.csv')\n",
    "df.to_csv(\"S&P500-Symbols.csv\", columns=['Symbol'])"
   ]
  },
  {
   "cell_type": "code",
   "execution_count": 178,
   "metadata": {},
   "outputs": [
    {
     "name": "stderr",
     "output_type": "stream",
     "text": [
      "/Users/jonathanhilgart/Library/Caches/pypoetry/virtualenvs/daily-trading-nJ43NNNI-py3.7/lib/python3.7/site-packages/ipykernel_launcher.py:4: YAMLLoadWarning: calling yaml.load() without Loader=... is deprecated, as the default Loader is unsafe. Please read https://msg.pyyaml.org/load for full details.\n",
      "  after removing the cwd from sys.path.\n"
     ]
    }
   ],
   "source": [
    "#  source ~/.ssh/iex_key.sh\n",
    "# ENV var IEX_KEY\n",
    "API_TOKEN=    credentials = yaml.load(open(os.path.expanduser(\n",
    "        '~/.ssh/api_credentials.yml')))['iex']['api_key']"
   ]
  },
  {
   "cell_type": "code",
   "execution_count": 179,
   "metadata": {},
   "outputs": [
    {
     "data": {
      "text/plain": [
       "'pk_291949b3b45c490fa2a95869d87121c5'"
      ]
     },
     "execution_count": 179,
     "metadata": {},
     "output_type": "execute_result"
    }
   ],
   "source": [
    "API_TOKEN"
   ]
  },
  {
   "cell_type": "code",
   "execution_count": 180,
   "metadata": {},
   "outputs": [],
   "source": [
    "sp = pd.read_csv('../data/S&P500-Symbols.csv', index_col=[0])\n"
   ]
  },
  {
   "cell_type": "code",
   "execution_count": 181,
   "metadata": {},
   "outputs": [
    {
     "data": {
      "text/html": [
       "<div>\n",
       "<style scoped>\n",
       "    .dataframe tbody tr th:only-of-type {\n",
       "        vertical-align: middle;\n",
       "    }\n",
       "\n",
       "    .dataframe tbody tr th {\n",
       "        vertical-align: top;\n",
       "    }\n",
       "\n",
       "    .dataframe thead th {\n",
       "        text-align: right;\n",
       "    }\n",
       "</style>\n",
       "<table border=\"1\" class=\"dataframe\">\n",
       "  <thead>\n",
       "    <tr style=\"text-align: right;\">\n",
       "      <th></th>\n",
       "      <th>Symbol</th>\n",
       "    </tr>\n",
       "  </thead>\n",
       "  <tbody>\n",
       "    <tr>\n",
       "      <th>0</th>\n",
       "      <td>MMM</td>\n",
       "    </tr>\n",
       "    <tr>\n",
       "      <th>1</th>\n",
       "      <td>ABT</td>\n",
       "    </tr>\n",
       "    <tr>\n",
       "      <th>2</th>\n",
       "      <td>ABBV</td>\n",
       "    </tr>\n",
       "    <tr>\n",
       "      <th>3</th>\n",
       "      <td>ABMD</td>\n",
       "    </tr>\n",
       "    <tr>\n",
       "      <th>4</th>\n",
       "      <td>ACN</td>\n",
       "    </tr>\n",
       "    <tr>\n",
       "      <th>...</th>\n",
       "      <td>...</td>\n",
       "    </tr>\n",
       "    <tr>\n",
       "      <th>500</th>\n",
       "      <td>YUM</td>\n",
       "    </tr>\n",
       "    <tr>\n",
       "      <th>501</th>\n",
       "      <td>ZBRA</td>\n",
       "    </tr>\n",
       "    <tr>\n",
       "      <th>502</th>\n",
       "      <td>ZBH</td>\n",
       "    </tr>\n",
       "    <tr>\n",
       "      <th>503</th>\n",
       "      <td>ZION</td>\n",
       "    </tr>\n",
       "    <tr>\n",
       "      <th>504</th>\n",
       "      <td>ZTS</td>\n",
       "    </tr>\n",
       "  </tbody>\n",
       "</table>\n",
       "<p>505 rows × 1 columns</p>\n",
       "</div>"
      ],
      "text/plain": [
       "    Symbol\n",
       "0      MMM\n",
       "1      ABT\n",
       "2     ABBV\n",
       "3     ABMD\n",
       "4      ACN\n",
       "..     ...\n",
       "500    YUM\n",
       "501   ZBRA\n",
       "502    ZBH\n",
       "503   ZION\n",
       "504    ZTS\n",
       "\n",
       "[505 rows x 1 columns]"
      ]
     },
     "execution_count": 181,
     "metadata": {},
     "output_type": "execute_result"
    }
   ],
   "source": [
    "sp"
   ]
  },
  {
   "cell_type": "markdown",
   "metadata": {},
   "source": [
    "## test calls to IEX"
   ]
  },
  {
   "cell_type": "code",
   "execution_count": 182,
   "metadata": {},
   "outputs": [],
   "source": [
    "# getCompanyInfo returns a dictionary with the company symbol as a key and the info as the value \n",
    "# call to iex finance api to return company info for a list of symbols\n",
    "def getCompanyInfo(symbols):\n",
    "    stock_batch = Stock(symbols, token=API_TOKEN)\n",
    "    company_info = stock_batch.get_company()\n",
    "    return company_info"
   ]
  },
  {
   "cell_type": "code",
   "execution_count": 183,
   "metadata": {},
   "outputs": [],
   "source": [
    "sp_company_info = getCompanyInfo(sp[\"Symbol\"][:5].tolist())\n"
   ]
  },
  {
   "cell_type": "code",
   "execution_count": 184,
   "metadata": {},
   "outputs": [],
   "source": [
    "company_info_to_df = []\n",
    "for company in sp_company_info:\n",
    "    company_info_to_df.append(sp_company_info[company])"
   ]
  },
  {
   "cell_type": "code",
   "execution_count": 185,
   "metadata": {},
   "outputs": [
    {
     "data": {
      "text/html": [
       "<div>\n",
       "<style scoped>\n",
       "    .dataframe tbody tr th:only-of-type {\n",
       "        vertical-align: middle;\n",
       "    }\n",
       "\n",
       "    .dataframe tbody tr th {\n",
       "        vertical-align: top;\n",
       "    }\n",
       "\n",
       "    .dataframe thead th {\n",
       "        text-align: right;\n",
       "    }\n",
       "</style>\n",
       "<table border=\"1\" class=\"dataframe\">\n",
       "  <thead>\n",
       "    <tr style=\"text-align: right;\">\n",
       "      <th></th>\n",
       "      <th>symbol</th>\n",
       "      <th>companyName</th>\n",
       "      <th>exchange</th>\n",
       "      <th>industry</th>\n",
       "      <th>website</th>\n",
       "      <th>CEO</th>\n",
       "      <th>sector</th>\n",
       "    </tr>\n",
       "  </thead>\n",
       "  <tbody>\n",
       "    <tr>\n",
       "      <th>0</th>\n",
       "      <td>MMM</td>\n",
       "      <td>3M Co.</td>\n",
       "      <td>New York Stock Exchange</td>\n",
       "      <td>Industrial Conglomerates</td>\n",
       "      <td>http://www.3m.com</td>\n",
       "      <td>Michael F. Roman</td>\n",
       "      <td>Producer Manufacturing</td>\n",
       "    </tr>\n",
       "    <tr>\n",
       "      <th>1</th>\n",
       "      <td>ABT</td>\n",
       "      <td>Abbott Laboratories</td>\n",
       "      <td>New York Stock Exchange</td>\n",
       "      <td>Medical Specialties</td>\n",
       "      <td>http://www.abbott.com</td>\n",
       "      <td>Robert B. Ford</td>\n",
       "      <td>Health Technology</td>\n",
       "    </tr>\n",
       "    <tr>\n",
       "      <th>2</th>\n",
       "      <td>ABBV</td>\n",
       "      <td>AbbVie, Inc.</td>\n",
       "      <td>New York Stock Exchange</td>\n",
       "      <td>Pharmaceuticals: Major</td>\n",
       "      <td>http://www.abbvie.com</td>\n",
       "      <td>Richard A. Gonzalez</td>\n",
       "      <td>Health Technology</td>\n",
       "    </tr>\n",
       "    <tr>\n",
       "      <th>3</th>\n",
       "      <td>ABMD</td>\n",
       "      <td>ABIOMED, Inc.</td>\n",
       "      <td>NASDAQ</td>\n",
       "      <td>Medical Specialties</td>\n",
       "      <td>http://www.abiomed.com</td>\n",
       "      <td>Michael R. Minogue</td>\n",
       "      <td>Health Technology</td>\n",
       "    </tr>\n",
       "    <tr>\n",
       "      <th>4</th>\n",
       "      <td>ACN</td>\n",
       "      <td>Accenture Plc</td>\n",
       "      <td>New York Stock Exchange</td>\n",
       "      <td>Information Technology Services</td>\n",
       "      <td>http://www.accenture.com</td>\n",
       "      <td>Julie Spellman Sweet</td>\n",
       "      <td>Technology Services</td>\n",
       "    </tr>\n",
       "  </tbody>\n",
       "</table>\n",
       "</div>"
      ],
      "text/plain": [
       "  symbol          companyName                 exchange  \\\n",
       "0    MMM               3M Co.  New York Stock Exchange   \n",
       "1    ABT  Abbott Laboratories  New York Stock Exchange   \n",
       "2   ABBV         AbbVie, Inc.  New York Stock Exchange   \n",
       "3   ABMD        ABIOMED, Inc.                   NASDAQ   \n",
       "4    ACN        Accenture Plc  New York Stock Exchange   \n",
       "\n",
       "                          industry                   website  \\\n",
       "0         Industrial Conglomerates         http://www.3m.com   \n",
       "1              Medical Specialties     http://www.abbott.com   \n",
       "2           Pharmaceuticals: Major     http://www.abbvie.com   \n",
       "3              Medical Specialties    http://www.abiomed.com   \n",
       "4  Information Technology Services  http://www.accenture.com   \n",
       "\n",
       "                    CEO                  sector  \n",
       "0      Michael F. Roman  Producer Manufacturing  \n",
       "1        Robert B. Ford       Health Technology  \n",
       "2   Richard A. Gonzalez       Health Technology  \n",
       "3    Michael R. Minogue       Health Technology  \n",
       "4  Julie Spellman Sweet     Technology Services  "
      ]
     },
     "execution_count": 185,
     "metadata": {},
     "output_type": "execute_result"
    }
   ],
   "source": [
    "columns = ['symbol', 'companyName', 'exchange',\n",
    "           'industry', 'website', 'CEO', 'sector']\n",
    "company_info_to_df = pd.DataFrame(company_info_to_df, columns=columns )\n",
    "company_info_to_df.head()"
   ]
  },
  {
   "cell_type": "markdown",
   "metadata": {},
   "source": [
    "# Company Earnings"
   ]
  },
  {
   "cell_type": "code",
   "execution_count": 186,
   "metadata": {},
   "outputs": [],
   "source": [
    "def getEarnings(symbol):\n",
    "    stock_batch = Stock(symbol,\n",
    "                        token=API_TOKEN)\n",
    "    earnings = stock_batch.get_earnings(last=4)\n",
    "    return earnings\n",
    "\n",
    "single_stock_earnings = getEarnings(sp[\"Symbol\"][0])"
   ]
  },
  {
   "cell_type": "code",
   "execution_count": 187,
   "metadata": {},
   "outputs": [
    {
     "data": {
      "text/plain": [
       "[{'actualEPS': 2.16,\n",
       "  'consensusEPS': 2.03,\n",
       "  'announceTime': 'BTO',\n",
       "  'numberOfEstimates': 17,\n",
       "  'EPSSurpriseDollar': 0.13,\n",
       "  'EPSReportDate': '2020-04-28',\n",
       "  'fiscalPeriod': 'Q1 2020',\n",
       "  'fiscalEndDate': '2020-03-31',\n",
       "  'yearAgo': 2.23,\n",
       "  'yearAgoChangePercent': -0.0314,\n",
       "  'currency': 'USD'},\n",
       " {'actualEPS': 1.95,\n",
       "  'consensusEPS': 2.11,\n",
       "  'announceTime': 'BTO',\n",
       "  'numberOfEstimates': 17,\n",
       "  'EPSSurpriseDollar': -0.16,\n",
       "  'EPSReportDate': '2020-01-28',\n",
       "  'fiscalPeriod': 'Q4 2019',\n",
       "  'fiscalEndDate': '2019-12-31',\n",
       "  'yearAgo': 2.31,\n",
       "  'yearAgoChangePercent': -0.1558,\n",
       "  'currency': 'USD'},\n",
       " {'actualEPS': 2.58,\n",
       "  'consensusEPS': 2.49,\n",
       "  'announceTime': 'BTO',\n",
       "  'numberOfEstimates': 16,\n",
       "  'EPSSurpriseDollar': 0.09,\n",
       "  'EPSReportDate': '2019-10-24',\n",
       "  'fiscalPeriod': 'Q3 2019',\n",
       "  'fiscalEndDate': '2019-09-30',\n",
       "  'yearAgo': 2.58,\n",
       "  'yearAgoChangePercent': 0,\n",
       "  'currency': 'USD'},\n",
       " {'actualEPS': 2.2,\n",
       "  'consensusEPS': 2.05,\n",
       "  'announceTime': 'BTO',\n",
       "  'numberOfEstimates': 16,\n",
       "  'EPSSurpriseDollar': 0.15,\n",
       "  'EPSReportDate': '2019-07-25',\n",
       "  'fiscalPeriod': 'Q2 2019',\n",
       "  'fiscalEndDate': '2019-06-30',\n",
       "  'yearAgo': 2.59,\n",
       "  'yearAgoChangePercent': -0.1506,\n",
       "  'currency': 'USD'}]"
      ]
     },
     "execution_count": 187,
     "metadata": {},
     "output_type": "execute_result"
    }
   ],
   "source": [
    "single_stock_earnings"
   ]
  },
  {
   "cell_type": "markdown",
   "metadata": {},
   "source": [
    "## Historical Prices"
   ]
  },
  {
   "cell_type": "code",
   "execution_count": 188,
   "metadata": {},
   "outputs": [],
   "source": [
    "def getHistoricalPrices(stock,start_date, end_date):\n",
    "    return get_historical_data(stock, start_date, end_date, \n",
    "                               output_format='pandas', \n",
    "                               token=API_TOKEN)\n",
    " \n",
    "start = datetime.datetime(2020, 4, 17)\n",
    "end = datetime.datetime.now()\n",
    "single_stock_history = getHistoricalPrices(sp[\"Symbol\"][0], start, end)"
   ]
  },
  {
   "cell_type": "code",
   "execution_count": 189,
   "metadata": {},
   "outputs": [
    {
     "data": {
      "text/plain": [
       "'MMM'"
      ]
     },
     "execution_count": 189,
     "metadata": {},
     "output_type": "execute_result"
    }
   ],
   "source": [
    "sp[\"Symbol\"][0]"
   ]
  },
  {
   "cell_type": "code",
   "execution_count": 190,
   "metadata": {},
   "outputs": [
    {
     "data": {
      "text/html": [
       "<div>\n",
       "<style scoped>\n",
       "    .dataframe tbody tr th:only-of-type {\n",
       "        vertical-align: middle;\n",
       "    }\n",
       "\n",
       "    .dataframe tbody tr th {\n",
       "        vertical-align: top;\n",
       "    }\n",
       "\n",
       "    .dataframe thead th {\n",
       "        text-align: right;\n",
       "    }\n",
       "</style>\n",
       "<table border=\"1\" class=\"dataframe\">\n",
       "  <thead>\n",
       "    <tr style=\"text-align: right;\">\n",
       "      <th></th>\n",
       "      <th>open</th>\n",
       "      <th>high</th>\n",
       "      <th>low</th>\n",
       "      <th>close</th>\n",
       "      <th>volume</th>\n",
       "    </tr>\n",
       "    <tr>\n",
       "      <th>date</th>\n",
       "      <th></th>\n",
       "      <th></th>\n",
       "      <th></th>\n",
       "      <th></th>\n",
       "      <th></th>\n",
       "    </tr>\n",
       "  </thead>\n",
       "  <tbody>\n",
       "    <tr>\n",
       "      <th>2020-04-17</th>\n",
       "      <td>241.60</td>\n",
       "      <td>242.66</td>\n",
       "      <td>238.25</td>\n",
       "      <td>242.43</td>\n",
       "      <td>5924520</td>\n",
       "    </tr>\n",
       "    <tr>\n",
       "      <th>2020-04-20</th>\n",
       "      <td>238.24</td>\n",
       "      <td>241.11</td>\n",
       "      <td>236.26</td>\n",
       "      <td>236.64</td>\n",
       "      <td>7357417</td>\n",
       "    </tr>\n",
       "    <tr>\n",
       "      <th>2020-04-21</th>\n",
       "      <td>231.33</td>\n",
       "      <td>233.34</td>\n",
       "      <td>229.41</td>\n",
       "      <td>230.22</td>\n",
       "      <td>6571408</td>\n",
       "    </tr>\n",
       "    <tr>\n",
       "      <th>2020-04-22</th>\n",
       "      <td>234.40</td>\n",
       "      <td>236.27</td>\n",
       "      <td>233.39</td>\n",
       "      <td>234.77</td>\n",
       "      <td>4323892</td>\n",
       "    </tr>\n",
       "    <tr>\n",
       "      <th>2020-04-23</th>\n",
       "      <td>235.51</td>\n",
       "      <td>238.92</td>\n",
       "      <td>234.83</td>\n",
       "      <td>235.07</td>\n",
       "      <td>6364822</td>\n",
       "    </tr>\n",
       "    <tr>\n",
       "      <th>2020-04-24</th>\n",
       "      <td>236.61</td>\n",
       "      <td>238.33</td>\n",
       "      <td>234.20</td>\n",
       "      <td>237.83</td>\n",
       "      <td>3572511</td>\n",
       "    </tr>\n",
       "    <tr>\n",
       "      <th>2020-04-27</th>\n",
       "      <td>239.12</td>\n",
       "      <td>242.19</td>\n",
       "      <td>238.45</td>\n",
       "      <td>241.32</td>\n",
       "      <td>3632509</td>\n",
       "    </tr>\n",
       "    <tr>\n",
       "      <th>2020-04-28</th>\n",
       "      <td>245.01</td>\n",
       "      <td>245.16</td>\n",
       "      <td>240.36</td>\n",
       "      <td>241.09</td>\n",
       "      <td>4709897</td>\n",
       "    </tr>\n",
       "  </tbody>\n",
       "</table>\n",
       "</div>"
      ],
      "text/plain": [
       "              open    high     low   close   volume\n",
       "date                                               \n",
       "2020-04-17  241.60  242.66  238.25  242.43  5924520\n",
       "2020-04-20  238.24  241.11  236.26  236.64  7357417\n",
       "2020-04-21  231.33  233.34  229.41  230.22  6571408\n",
       "2020-04-22  234.40  236.27  233.39  234.77  4323892\n",
       "2020-04-23  235.51  238.92  234.83  235.07  6364822\n",
       "2020-04-24  236.61  238.33  234.20  237.83  3572511\n",
       "2020-04-27  239.12  242.19  238.45  241.32  3632509\n",
       "2020-04-28  245.01  245.16  240.36  241.09  4709897"
      ]
     },
     "execution_count": 190,
     "metadata": {},
     "output_type": "execute_result"
    }
   ],
   "source": [
    "getHistoricalPrices('dia', start, end)"
   ]
  },
  {
   "cell_type": "code",
   "execution_count": 191,
   "metadata": {},
   "outputs": [
    {
     "data": {
      "text/html": [
       "<div>\n",
       "<style scoped>\n",
       "    .dataframe tbody tr th:only-of-type {\n",
       "        vertical-align: middle;\n",
       "    }\n",
       "\n",
       "    .dataframe tbody tr th {\n",
       "        vertical-align: top;\n",
       "    }\n",
       "\n",
       "    .dataframe thead th {\n",
       "        text-align: right;\n",
       "    }\n",
       "</style>\n",
       "<table border=\"1\" class=\"dataframe\">\n",
       "  <thead>\n",
       "    <tr style=\"text-align: right;\">\n",
       "      <th></th>\n",
       "      <th>open</th>\n",
       "      <th>high</th>\n",
       "      <th>low</th>\n",
       "      <th>close</th>\n",
       "      <th>volume</th>\n",
       "    </tr>\n",
       "    <tr>\n",
       "      <th>date</th>\n",
       "      <th></th>\n",
       "      <th></th>\n",
       "      <th></th>\n",
       "      <th></th>\n",
       "      <th></th>\n",
       "    </tr>\n",
       "  </thead>\n",
       "  <tbody>\n",
       "    <tr>\n",
       "      <th>2020-04-17</th>\n",
       "      <td>147.44</td>\n",
       "      <td>148.50</td>\n",
       "      <td>144.80</td>\n",
       "      <td>146.46</td>\n",
       "      <td>5393130</td>\n",
       "    </tr>\n",
       "    <tr>\n",
       "      <th>2020-04-20</th>\n",
       "      <td>144.75</td>\n",
       "      <td>147.02</td>\n",
       "      <td>143.65</td>\n",
       "      <td>143.67</td>\n",
       "      <td>2893045</td>\n",
       "    </tr>\n",
       "    <tr>\n",
       "      <th>2020-04-21</th>\n",
       "      <td>142.25</td>\n",
       "      <td>142.77</td>\n",
       "      <td>140.50</td>\n",
       "      <td>141.63</td>\n",
       "      <td>2331372</td>\n",
       "    </tr>\n",
       "    <tr>\n",
       "      <th>2020-04-22</th>\n",
       "      <td>143.36</td>\n",
       "      <td>144.48</td>\n",
       "      <td>141.71</td>\n",
       "      <td>143.61</td>\n",
       "      <td>2750414</td>\n",
       "    </tr>\n",
       "    <tr>\n",
       "      <th>2020-04-23</th>\n",
       "      <td>144.58</td>\n",
       "      <td>147.58</td>\n",
       "      <td>143.88</td>\n",
       "      <td>144.33</td>\n",
       "      <td>2585335</td>\n",
       "    </tr>\n",
       "    <tr>\n",
       "      <th>2020-04-24</th>\n",
       "      <td>145.17</td>\n",
       "      <td>147.34</td>\n",
       "      <td>144.31</td>\n",
       "      <td>147.00</td>\n",
       "      <td>2247654</td>\n",
       "    </tr>\n",
       "    <tr>\n",
       "      <th>2020-04-27</th>\n",
       "      <td>148.00</td>\n",
       "      <td>154.49</td>\n",
       "      <td>147.89</td>\n",
       "      <td>153.65</td>\n",
       "      <td>4644944</td>\n",
       "    </tr>\n",
       "    <tr>\n",
       "      <th>2020-04-28</th>\n",
       "      <td>160.03</td>\n",
       "      <td>163.08</td>\n",
       "      <td>155.20</td>\n",
       "      <td>157.61</td>\n",
       "      <td>8294104</td>\n",
       "    </tr>\n",
       "  </tbody>\n",
       "</table>\n",
       "</div>"
      ],
      "text/plain": [
       "              open    high     low   close   volume\n",
       "date                                               \n",
       "2020-04-17  147.44  148.50  144.80  146.46  5393130\n",
       "2020-04-20  144.75  147.02  143.65  143.67  2893045\n",
       "2020-04-21  142.25  142.77  140.50  141.63  2331372\n",
       "2020-04-22  143.36  144.48  141.71  143.61  2750414\n",
       "2020-04-23  144.58  147.58  143.88  144.33  2585335\n",
       "2020-04-24  145.17  147.34  144.31  147.00  2247654\n",
       "2020-04-27  148.00  154.49  147.89  153.65  4644944\n",
       "2020-04-28  160.03  163.08  155.20  157.61  8294104"
      ]
     },
     "execution_count": 191,
     "metadata": {},
     "output_type": "execute_result"
    }
   ],
   "source": [
    "single_stock_history"
   ]
  },
  {
   "cell_type": "code",
   "execution_count": 192,
   "metadata": {},
   "outputs": [
    {
     "data": {
      "text/plain": [
       "<matplotlib.axes._subplots.AxesSubplot at 0x11dd35f98>"
      ]
     },
     "execution_count": 192,
     "metadata": {},
     "output_type": "execute_result"
    },
    {
     "data": {
      "image/png": "[encoded data removed]",
      "text/plain": [
       "<Figure size 432x288 with 1 Axes>"
      ]
     },
     "metadata": {
      "needs_background": "light"
     },
     "output_type": "display_data"
    }
   ],
   "source": [
    "single_stock_history['close'].plot(label=\"3M Close\")"
   ]
  },
  {
   "cell_type": "markdown",
   "metadata": {},
   "source": [
    "# Get list of historical prices for the first 100 stocks\n"
   ]
  },
  {
   "cell_type": "code",
   "execution_count": 193,
   "metadata": {},
   "outputs": [
    {
     "data": {
      "text/html": [
       "<div>\n",
       "<style scoped>\n",
       "    .dataframe tbody tr th:only-of-type {\n",
       "        vertical-align: middle;\n",
       "    }\n",
       "\n",
       "    .dataframe tbody tr th {\n",
       "        vertical-align: top;\n",
       "    }\n",
       "\n",
       "    .dataframe thead th {\n",
       "        text-align: right;\n",
       "    }\n",
       "</style>\n",
       "<table border=\"1\" class=\"dataframe\">\n",
       "  <thead>\n",
       "    <tr style=\"text-align: right;\">\n",
       "      <th></th>\n",
       "      <th>Symbol</th>\n",
       "    </tr>\n",
       "  </thead>\n",
       "  <tbody>\n",
       "    <tr>\n",
       "      <th>0</th>\n",
       "      <td>MMM</td>\n",
       "    </tr>\n",
       "    <tr>\n",
       "      <th>1</th>\n",
       "      <td>ABT</td>\n",
       "    </tr>\n",
       "    <tr>\n",
       "      <th>2</th>\n",
       "      <td>ABBV</td>\n",
       "    </tr>\n",
       "    <tr>\n",
       "      <th>3</th>\n",
       "      <td>ABMD</td>\n",
       "    </tr>\n",
       "    <tr>\n",
       "      <th>4</th>\n",
       "      <td>ACN</td>\n",
       "    </tr>\n",
       "    <tr>\n",
       "      <th>...</th>\n",
       "      <td>...</td>\n",
       "    </tr>\n",
       "    <tr>\n",
       "      <th>95</th>\n",
       "      <td>CE</td>\n",
       "    </tr>\n",
       "    <tr>\n",
       "      <th>96</th>\n",
       "      <td>CNC</td>\n",
       "    </tr>\n",
       "    <tr>\n",
       "      <th>97</th>\n",
       "      <td>CNP</td>\n",
       "    </tr>\n",
       "    <tr>\n",
       "      <th>98</th>\n",
       "      <td>CTL</td>\n",
       "    </tr>\n",
       "    <tr>\n",
       "      <th>99</th>\n",
       "      <td>CERN</td>\n",
       "    </tr>\n",
       "  </tbody>\n",
       "</table>\n",
       "<p>100 rows × 1 columns</p>\n",
       "</div>"
      ],
      "text/plain": [
       "   Symbol\n",
       "0     MMM\n",
       "1     ABT\n",
       "2    ABBV\n",
       "3    ABMD\n",
       "4     ACN\n",
       "..    ...\n",
       "95     CE\n",
       "96    CNC\n",
       "97    CNP\n",
       "98    CTL\n",
       "99   CERN\n",
       "\n",
       "[100 rows x 1 columns]"
      ]
     },
     "execution_count": 193,
     "metadata": {},
     "output_type": "execute_result"
    }
   ],
   "source": [
    "sp[:100]"
   ]
  },
  {
   "cell_type": "code",
   "execution_count": 194,
   "metadata": {},
   "outputs": [
    {
     "ename": "TypeError",
     "evalue": "'module' object is not callable",
     "output_type": "error",
     "traceback": [
      "\u001b[0;31m---------------------------------------------------------------------------\u001b[0m",
      "\u001b[0;31mTypeError\u001b[0m                                 Traceback (most recent call last)",
      "\u001b[0;32m<ipython-input-194-58a0d7c02d93>\u001b[0m in \u001b[0;36m<module>\u001b[0;34m\u001b[0m\n\u001b[0;32m----> 1\u001b[0;31m \u001b[0mstart\u001b[0m \u001b[0;34m=\u001b[0m \u001b[0mdatetime\u001b[0m\u001b[0;34m(\u001b[0m\u001b[0;36m2016\u001b[0m\u001b[0;34m,\u001b[0m \u001b[0;36m1\u001b[0m\u001b[0;34m,\u001b[0m \u001b[0;36m1\u001b[0m\u001b[0;34m)\u001b[0m\u001b[0;34m\u001b[0m\u001b[0m\n\u001b[0m\u001b[1;32m      2\u001b[0m \u001b[0mend\u001b[0m \u001b[0;34m=\u001b[0m \u001b[0mdatetime\u001b[0m\u001b[0;34m(\u001b[0m\u001b[0;36m2020\u001b[0m\u001b[0;34m,\u001b[0m \u001b[0;36m7\u001b[0m\u001b[0;34m,\u001b[0m \u001b[0;36m30\u001b[0m\u001b[0;34m)\u001b[0m\u001b[0;34m\u001b[0m\u001b[0m\n",
      "\u001b[0;31mTypeError\u001b[0m: 'module' object is not callable"
     ]
    }
   ],
   "source": [
    "start = datetime(2016, 1, 1)\n",
    "end = datetime(2020, 7, 30)"
   ]
  },
  {
   "cell_type": "code",
   "execution_count": 195,
   "metadata": {},
   "outputs": [],
   "source": [
    "dict_of_stock_to_historical_price_df = {}"
   ]
  },
  {
   "cell_type": "code",
   "execution_count": 196,
   "metadata": {},
   "outputs": [
    {
     "data": {
      "text/plain": [
       "(2020, 4, 17)"
      ]
     },
     "execution_count": 196,
     "metadata": {},
     "output_type": "execute_result"
    }
   ],
   "source": [
    "\n",
    "start.year, start.month, start.day"
   ]
  },
  {
   "cell_type": "code",
   "execution_count": 197,
   "metadata": {},
   "outputs": [
    {
     "name": "stdout",
     "output_type": "stream",
     "text": [
      "Downloading data for MMM\n",
      "Downloading data for ABT\n",
      "Downloading data for ABBV\n",
      "Downloading data for ABMD\n",
      "Downloading data for ACN\n"
     ]
    }
   ],
   "source": [
    "for stock in sp.Symbol[:5]:\n",
    "    print(f\"Downloading data for {stock}\")\n",
    "    stock_history = getHistoricalPrices(f\"{stock}\", start, end)\n",
    "    dict_of_stock_to_historical_price_df[stock] = stock_history"
   ]
  },
  {
   "cell_type": "code",
   "execution_count": 198,
   "metadata": {},
   "outputs": [
    {
     "ename": "TypeError",
     "evalue": "update_s_and_p_dataset() missing 1 required positional argument: 'file_path'",
     "output_type": "error",
     "traceback": [
      "\u001b[0;31m---------------------------------------------------------------------------\u001b[0m",
      "\u001b[0;31mTypeError\u001b[0m                                 Traceback (most recent call last)",
      "\u001b[0;32m<ipython-input-198-d3fbc235b79e>\u001b[0m in \u001b[0;36m<module>\u001b[0;34m\u001b[0m\n\u001b[0;32m----> 1\u001b[0;31m \u001b[0mupdate_s_and_p_dataset\u001b[0m\u001b[0;34m(\u001b[0m\u001b[0;36m20\u001b[0m\u001b[0;34m)\u001b[0m\u001b[0;34m\u001b[0m\u001b[0m\n\u001b[0m",
      "\u001b[0;31mTypeError\u001b[0m: update_s_and_p_dataset() missing 1 required positional argument: 'file_path'"
     ]
    }
   ],
   "source": [
    "update_s_and_p_dataset(20)"
   ]
  },
  {
   "cell_type": "code",
   "execution_count": 203,
   "metadata": {},
   "outputs": [],
   "source": [
    "\n",
    "\n",
    "\n",
    "def update_s_and_p_dataset(stock_list, file_path, n_stock_to_download=5, default_start =datetime.datetime(2017, 1, 1), end = datetime.datetime.now() ):\n",
    "    \"\"\"\n",
    "    Run through the S and P data and update\n",
    "\n",
    "    Minimize API calls by only pulling new data\n",
    "    \"\"\"\n",
    "\n",
    "    for stock in stock_list[:n_stock_to_download]:\n",
    "        print(f\"downloading data for {stock}\")\n",
    "        we_have_data = False\n",
    "        for file in glob.glob(f'{file_path}/*.csv'):\n",
    "            # check every file to see if we have data on this stock\n",
    "\n",
    "            if f\"{stock}\" in file: # we have a data file for this stock\n",
    "                we_have_data = True\n",
    "                \n",
    "        if we_have_data:\n",
    "            print(f'found existing stock for {stock}')\n",
    "            # open file\n",
    "         \n",
    "            for file in glob.glob(f'{file_path}/*.csv'):\n",
    "                \n",
    "                if f\"{stock}\" in file:\n",
    "                    print('file', f\"{file}\")\n",
    "                    stock_df = pd.read_csv(f\"{file}\").set_index('date')\n",
    "                    \n",
    "                    \n",
    "                    most_recent_date = stock_df.index.max().split(' ')[0]\n",
    "                    oldest_date= stock_df.index.min().split(' ')[0]\n",
    "\n",
    "                    \n",
    "                    stock_df.index = pd.to_datetime(stock_df.index)\n",
    "\n",
    "                    most_recent_year, most_recent_month, most_recent_day = most_recent_date.split('-')\n",
    "                    oldest_year, oldest_month, oldest_day = oldest_date.split('-')\n",
    "\n",
    "                    start = datetime.datetime(int(most_recent_year), int(most_recent_month), int(most_recent_day) + 1)\n",
    "                    stock_history = getHistoricalPrices(f\"{stock}\", start, end)\n",
    "                    \n",
    "                    stock_history.index = pd.to_datetime(stock_history.index)\n",
    "\n",
    "                    #combine new and old stocks\n",
    "                    stock_history = pd.concat((stock_history, stock_df))\n",
    "\n",
    "                    # delete the old file\n",
    "                    os.remove(f\"{file}\")\n",
    "\n",
    "        else: # we don't have this stocks data\n",
    "            stock_history = getHistoricalPrices(f\"{stock}\", default_start, end)\n",
    "            oldest_year=default_start.year\n",
    "            oldest_month=default_start.month\n",
    "            oldest_day=default_start.day\n",
    "                \n",
    "        now = datetime.datetime.now()\n",
    "        now_year = now.year\n",
    "        now_month = now.month\n",
    "        now_day = now.day\n",
    "        # save the file\n",
    "        print('file =', f'{file_path}/{stock}_{oldest_year}-{oldest_month}-{oldest_day}_to_{now_year}-{now_month}-{now_day}.csv')\n",
    "\n",
    "        stock_history.to_csv(f'{file_path}/{stock}_{oldest_year}-{oldest_month}-{oldest_day}_to_{now_year}-{now_month}-{now_day}.csv')\n",
    "\n",
    "\n",
    "\n"
   ]
  },
  {
   "cell_type": "code",
   "execution_count": 199,
   "metadata": {},
   "outputs": [],
   "source": [
    "# our test stocks\n",
    "list_of_20_stocks = [ 'adbe', 'are', 'atvi', 'bac', 'ce', 'cern', 'efx', 'emr', 'eqix', 'lb', 'ni', 'peg', 'pg', 'ph', 'pnr', 'pvh', 'rop', 'rost', 'so', 'ual', 'vno']"
   ]
  },
  {
   "cell_type": "code",
   "execution_count": 207,
   "metadata": {},
   "outputs": [],
   "source": [
    "retail_stocks = ['m', 'kss','dds','dbi','anf','aeo','zumz','jwn','gps','lb','tpr','cpri','fl','ctrn','goos','spwh','plce','bke','urbn','gco','scvl','cato','boot',\n",
    "                'levi','ftch','tjx','rost']"
   ]
  },
  {
   "cell_type": "code",
   "execution_count": 200,
   "metadata": {},
   "outputs": [],
   "source": [
    "list_of_etfs = ['dia', 'spy', 'iwm', 'qqq', 'pej', 'pbj', 'vti',  'vfh', 'ibuy', 'xrt', 'hpt', 'inn', 'bjk']"
   ]
  },
  {
   "cell_type": "code",
   "execution_count": 201,
   "metadata": {},
   "outputs": [
    {
     "data": {
      "text/plain": [
       "False"
      ]
     },
     "execution_count": 201,
     "metadata": {},
     "output_type": "execute_result"
    }
   ],
   "source": [
    "'abde' in '../data/historical_stock_data/adbe_2017-1-1_to_2020-4-20.csv'"
   ]
  },
  {
   "cell_type": "code",
   "execution_count": 208,
   "metadata": {},
   "outputs": [
    {
     "name": "stdout",
     "output_type": "stream",
     "text": [
      "downloading data for adbe\n",
      "found existing stock for adbe\n",
      "file ../data/historical_stock_data/adbe_2017-01-03_to_2020-4-29.csv\n",
      "file = ../data/historical_stock_data/adbe_2017-01-03_to_2020-4-29.csv\n",
      "downloading data for are\n",
      "found existing stock for are\n",
      "file ../data/historical_stock_data/are_2017-01-03_to_2020-4-29.csv\n",
      "file = ../data/historical_stock_data/are_2017-01-03_to_2020-4-29.csv\n",
      "downloading data for atvi\n",
      "found existing stock for atvi\n",
      "file ../data/historical_stock_data/atvi_2017-01-03_to_2020-4-29.csv\n",
      "file = ../data/historical_stock_data/atvi_2017-01-03_to_2020-4-29.csv\n",
      "downloading data for bac\n",
      "found existing stock for bac\n",
      "file ../data/historical_stock_data/bac_2017-01-03_to_2020-4-29.csv\n",
      "file = ../data/historical_stock_data/bac_2017-01-03_to_2020-4-29.csv\n",
      "downloading data for ce\n",
      "found existing stock for ce\n",
      "file ../data/historical_stock_data/cern_2017-1-1_to_2020-4-29.csv\n",
      "file ../data/historical_stock_data/plce_2017-1-1_to_2020-4-29.csv\n",
      "file ../data/historical_stock_data/ce_2017-01-03_to_2020-4-29.csv\n",
      "file = ../data/historical_stock_data/ce_2017-01-03_to_2020-4-29.csv\n",
      "downloading data for cern\n",
      "file = ../data/historical_stock_data/cern_2017-1-1_to_2020-4-29.csv\n",
      "downloading data for efx\n",
      "found existing stock for efx\n",
      "file ../data/historical_stock_data/efx_2017-01-03_to_2020-4-29.csv\n",
      "file = ../data/historical_stock_data/efx_2017-01-03_to_2020-4-29.csv\n",
      "downloading data for emr\n",
      "file = ../data/historical_stock_data/emr_2017-1-1_to_2020-4-29.csv\n",
      "downloading data for eqix\n",
      "found existing stock for eqix\n",
      "file ../data/historical_stock_data/eqix_2017-01-03_to_2020-4-29.csv\n",
      "file = ../data/historical_stock_data/eqix_2017-01-03_to_2020-4-29.csv\n",
      "downloading data for lb\n",
      "found existing stock for lb\n",
      "file ../data/historical_stock_data/lb_2017-01-03_to_2020-4-29.csv\n",
      "file = ../data/historical_stock_data/lb_2017-01-03_to_2020-4-29.csv\n",
      "downloading data for ni\n",
      "found existing stock for ni\n",
      "file ../data/historical_stock_data/ni_2017-01-03_to_2020-4-29.csv\n",
      "file = ../data/historical_stock_data/ni_2017-01-03_to_2020-4-29.csv\n",
      "downloading data for peg\n",
      "found existing stock for peg\n",
      "file ../data/historical_stock_data/peg_2017-01-03_to_2020-4-29.csv\n",
      "file = ../data/historical_stock_data/peg_2017-01-03_to_2020-4-29.csv\n",
      "downloading data for pg\n",
      "found existing stock for pg\n",
      "file ../data/historical_stock_data/pg_2017-01-03_to_2020-4-29.csv\n",
      "file = ../data/historical_stock_data/pg_2017-01-03_to_2020-4-29.csv\n",
      "downloading data for ph\n",
      "found existing stock for ph\n",
      "file ../data/historical_stock_data/ph_2017-01-03_to_2020-4-29.csv\n",
      "file = ../data/historical_stock_data/ph_2017-01-03_to_2020-4-29.csv\n",
      "downloading data for pnr\n",
      "found existing stock for pnr\n",
      "file ../data/historical_stock_data/pnr_2017-01-03_to_2020-4-29.csv\n",
      "file = ../data/historical_stock_data/pnr_2017-01-03_to_2020-4-29.csv\n",
      "downloading data for pvh\n",
      "found existing stock for pvh\n",
      "file ../data/historical_stock_data/pvh_2017-01-03_to_2020-4-29.csv\n",
      "file = ../data/historical_stock_data/pvh_2017-01-03_to_2020-4-29.csv\n",
      "downloading data for rop\n",
      "found existing stock for rop\n",
      "file ../data/historical_stock_data/rop_2017-01-03_to_2020-4-29.csv\n",
      "file = ../data/historical_stock_data/rop_2017-01-03_to_2020-4-29.csv\n",
      "downloading data for rost\n",
      "found existing stock for rost\n",
      "file ../data/historical_stock_data/rost_2017-01-03_to_2020-4-29.csv\n",
      "file = ../data/historical_stock_data/rost_2017-01-03_to_2020-4-29.csv\n",
      "downloading data for so\n",
      "found existing stock for so\n",
      "file ../data/historical_stock_data/so_2017-01-03_to_2020-4-29.csv\n",
      "file = ../data/historical_stock_data/so_2017-01-03_to_2020-4-29.csv\n",
      "downloading data for ual\n",
      "found existing stock for ual\n",
      "file ../data/historical_stock_data/ual_2017-01-03_to_2020-4-29.csv\n",
      "file = ../data/historical_stock_data/ual_2017-01-03_to_2020-4-29.csv\n",
      "downloading data for vno\n",
      "found existing stock for vno\n",
      "file ../data/historical_stock_data/vno_2017-01-03_to_2020-4-29.csv\n",
      "file = ../data/historical_stock_data/vno_2017-01-03_to_2020-4-29.csv\n"
     ]
    }
   ],
   "source": [
    "file_path_stocks = '../data/historical_stock_data'\n",
    "file_path_etf = '../data/historical_etf_data'\n",
    "update_s_and_p_dataset(list_of_20_stocks, file_path_stocks , 30)"
   ]
  },
  {
   "cell_type": "code",
   "execution_count": 44,
   "metadata": {},
   "outputs": [
    {
     "data": {
      "text/plain": [
       "Timestamp('2020-04-17 00:00:00')"
      ]
     },
     "execution_count": 44,
     "metadata": {},
     "output_type": "execute_result"
    }
   ],
   "source": [
    "dict_of_stock_to_historical_price_df['MMM'].index.max() # index is dat as returned from the API"
   ]
  },
  {
   "cell_type": "code",
   "execution_count": 70,
   "metadata": {},
   "outputs": [],
   "source": [
    "mmm_df = pd.read_csv('../data/MMM_2016-01-04_to_2020-04-17.csv')"
   ]
  },
  {
   "cell_type": "code",
   "execution_count": 72,
   "metadata": {},
   "outputs": [
    {
     "data": {
      "text/plain": [
       "'2020-04-17'"
      ]
     },
     "execution_count": 72,
     "metadata": {},
     "output_type": "execute_result"
    }
   ],
   "source": [
    "mmm_df.date.max()"
   ]
  },
  {
   "cell_type": "code",
   "execution_count": null,
   "metadata": {},
   "outputs": [],
   "source": []
  },
  {
   "cell_type": "code",
   "execution_count": 68,
   "metadata": {},
   "outputs": [],
   "source": [
    "dict_of_stock_to_historical_price_df['MMM'].to_csv('../data/MMM_2016-01-04_to_2020-04-17.csv')"
   ]
  }
 ],
 "metadata": {
  "file_extension": ".py",
  "kernelspec": {
   "display_name": "Python 3.7.0 64-bit ('daily-trading-nJ43NNNI-py3.7': venv)",
   "language": "python",
   "name": "python37064bitdailytradingnj43nnnipy37venvd9db9359ec934f90b15f4732101b653e"
  },
  "language_info": {
   "codemirror_mode": {
    "name": "ipython",
    "version": 3
   },
   "file_extension": ".py",
   "mimetype": "text/x-python",
   "name": "python",
   "nbconvert_exporter": "python",
   "pygments_lexer": "ipython3",
   "version": "3.7.0"
  },
  "mimetype": "text/x-python",
  "name": "python",
  "npconvert_exporter": "python",
  "pygments_lexer": "ipython3",
  "version": 3
 },
 "nbformat": 4,
 "nbformat_minor": 4
}
