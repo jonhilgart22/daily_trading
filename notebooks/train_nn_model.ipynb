{
 "cells": [
  {
   "cell_type": "code",
   "execution_count": 715,
   "metadata": {},
   "outputs": [
    {
     "name": "stdout",
     "output_type": "stream",
     "text": [
      "Populating the interactive namespace from numpy and matplotlib\n"
     ]
    }
   ],
   "source": [
    "import pandas as pd\n",
    "import glob\n",
    "import numpy as numpy\n",
    "import matplotlib.pyplot as plt\n",
    "from collections import defaultdict\n",
    "from tqdm import tqdm\n",
    "import time\n",
    "from sklearn.model_selection import train_test_split\n",
    "from sklearn.ensemble import GradientBoostingRegressor, RandomForestRegressor\n",
    "from sklearn.metrics import mean_squared_error\n",
    "from sklearn.decomposition import PCA\n",
    "import seaborn as sns\n",
    "import holidays\n",
    "from sklearn.preprocessing import StandardScaler\n",
    "from sklearn.svm import SVR\n",
    "\n",
    "\n",
    "from tensorflow.keras.models import Sequential\n",
    "from tensorflow.keras.layers import LSTM, Dense, Bidirectional, BatchNormalization, TimeDistributed, Conv2D, Flatten, MaxPooling2D\n",
    "from tensorflow.keras.callbacks import EarlyStopping, Callback\n",
    "from tensorflow.keras.optimizers import Adam\n",
    "from tensorflow.keras.constraints import max_norm\n",
    "from multiprocessing import Process, Pool\n",
    "\n",
    "import os\n",
    "import multiprocessing as mp\n",
    "import warnings\n",
    "from filterpy.kalman import KalmanFilter\n",
    "from filterpy.common import Q_discrete_white_noise\n",
    "\n",
    "warnings.filterwarnings('ignore')\n",
    "\n",
    "%pylab inline"
   ]
  },
  {
   "cell_type": "code",
   "execution_count": null,
   "metadata": {},
   "outputs": [],
   "source": [
    "EARLIEST_DATE = '2012-01-01'"
   ]
  },
  {
   "cell_type": "markdown",
   "metadata": {},
   "source": [
    "# REad in data"
   ]
  },
  {
   "cell_type": "code",
   "execution_count": 573,
   "metadata": {},
   "outputs": [],
   "source": [
    "\n",
    "def read_in_data(check_recent_date=True, recent_date_check=datetime.datetime.now().date()):\n",
    "    dict_of_stocks_and_dfs = {}\n",
    "    for file_ in glob.glob('../data/updated_historical_stock_and_etf_data/*.csv'):\n",
    "        stock_name = file_.rsplit(\"/\")[-1].split('_')[0].lower() \n",
    "        print(f\"Reading in {stock_name}\")\n",
    "        df_  = pd.read_csv(f\"{file_}\")\n",
    "        # ensure we have the most recent data\n",
    "        most_recent_date = pd.to_datetime(df_.date.max())\n",
    "        oldest_date = pd.to_datetime(df_.date.min())\n",
    "        \n",
    "        oldest_date_bool = oldest_date < datetime.datetime(2006,1,1).date()\n",
    "        recent_date_bool = most_recent_date == recent_date_check\n",
    "        \n",
    "        if oldest_date_bool and recent_date_bool:\n",
    "            dict_of_stocks_and_dfs[stock_name] = df_.sort_values('date')\n",
    "        elif oldest_date_bool and not check_recent_date:\n",
    "            dict_of_stocks_and_dfs[stock_name] = df_.sort_values('date')            \n",
    "        else:\n",
    "            print(f\"Stock {stock_name} most recent date is {most_recent_date} oldest date is {oldest_date}. Skipping it\")\n",
    "    return dict_of_stocks_and_dfs"
   ]
  },
  {
   "cell_type": "code",
   "execution_count": 574,
   "metadata": {},
   "outputs": [
    {
     "name": "stdout",
     "output_type": "stream",
     "text": [
      "Reading in wal\n",
      "Reading in fsbw\n",
      "Stock fsbw most recent date is 2020-05-15 00:00:00 oldest date is 2012-07-10 00:00:00. Skipping it\n",
      "Reading in pfbc\n",
      "Stock pfbc most recent date is 2020-05-15 00:00:00 oldest date is 2011-07-21 00:00:00. Skipping it\n",
      "Reading in hasi\n",
      "Stock hasi most recent date is 2020-05-15 00:00:00 oldest date is 2013-04-18 00:00:00. Skipping it\n",
      "Reading in mtb\n",
      "Reading in rbb\n",
      "Stock rbb most recent date is 2020-05-15 00:00:00 oldest date is 2017-07-26 00:00:00. Skipping it\n",
      "Reading in jpm\n",
      "Reading in umpq\n",
      "Reading in cvbf\n",
      "Reading in fitb\n",
      "Reading in irm\n",
      "Reading in wfc\n",
      "Reading in cwbc\n",
      "Reading in bsrr\n",
      "Reading in key\n",
      "Reading in ewbc\n",
      "Reading in dlr\n",
      "Reading in ubfo\n",
      "Reading in cvcy\n",
      "Reading in hope\n",
      "Stock hope most recent date is 2020-05-15 00:00:00 oldest date is 2011-12-05 00:00:00. Skipping it\n",
      "Reading in pacw\n",
      "Reading in ntrs\n",
      "Reading in agnc\n",
      "Stock agnc most recent date is 2020-05-15 00:00:00 oldest date is 2008-05-14 00:00:00. Skipping it\n",
      "Reading in cma\n",
      "Reading in nrz\n",
      "Stock nrz most recent date is 2020-05-15 00:00:00 oldest date is 2013-05-02 00:00:00. Skipping it\n",
      "Reading in gbci\n",
      "Reading in hiw\n",
      "Reading in sui\n",
      "Reading in c\n",
      "Reading in colb\n",
      "Reading in srg\n",
      "Stock srg most recent date is 2020-05-15 00:00:00 oldest date is 2015-07-06 00:00:00. Skipping it\n",
      "Reading in dre\n",
      "Reading in lamr\n",
      "Reading in wabc\n",
      "Reading in bac\n",
      "Reading in bku\n",
      "Stock bku most recent date is 2020-05-15 00:00:00 oldest date is 2011-02-01 00:00:00. Skipping it\n",
      "Reading in bmrc\n",
      "Reading in vno\n",
      "Reading in usb\n",
      "Reading in caty\n",
      "Reading in sivb\n",
      "Reading in boch\n",
      "Reading in stt\n",
      "Reading in pnc\n",
      "Reading in are\n",
      "Reading in cpg\n",
      "Stock cpg most recent date is 2020-05-15 00:00:00 oldest date is 2006-07-21 00:00:00. Skipping it\n",
      "Reading in frc\n",
      "Stock frc most recent date is 2020-05-15 00:00:00 oldest date is 2010-12-13 00:00:00. Skipping it\n",
      "Reading in pei\n",
      "Reading in cpt\n",
      "Reading in reg\n"
     ]
    }
   ],
   "source": [
    "dict_of_stocks_and_dfs = read_in_data(recent_date_check=datetime.datetime(2020,5,15).date())"
   ]
  },
  {
   "cell_type": "code",
   "execution_count": 583,
   "metadata": {},
   "outputs": [
    {
     "data": {
      "text/plain": [
       "1482"
      ]
     },
     "execution_count": 583,
     "metadata": {},
     "output_type": "execute_result"
    }
   ],
   "source": [
    "(len(dict_of_stocks_and_dfs.keys())-1) * len(dict_of_stocks_and_dfs.keys())"
   ]
  },
  {
   "cell_type": "code",
   "execution_count": null,
   "metadata": {},
   "outputs": [],
   "source": []
  },
  {
   "cell_type": "markdown",
   "metadata": {},
   "source": [
    "# Create correlation features"
   ]
  },
  {
   "cell_type": "code",
   "execution_count": 599,
   "metadata": {},
   "outputs": [],
   "source": [
    "def build_correlation_dfs(dict_of_stocks_and_dfs, n_day_rolling_features_list=[ 5, 7, 10, 30, 180, 365], verbose=False):\n",
    "    \"\"\"\n",
    "    Create correlation + variance based  upon daily closing stock prices for given date ranges\n",
    "    \n",
    "    also include daily volume\n",
    "    \n",
    "    We are trying to  predict 7 day correaltion\n",
    "    \"\"\"\n",
    "\n",
    "    stock_features_dict = defaultdict(pd.DataFrame)\n",
    "    start_time = time.time()\n",
    "    \n",
    "    start = time.time()\n",
    "    n_stocks = len(dict_of_stocks_and_dfs.keys())\n",
    "    final_feature_df = create_date_dummy_df()\n",
    "    pairs_of_stocks = []\n",
    "    \n",
    "    for idx, first_stock_name in enumerate(dict_of_stocks_and_dfs.keys()):\n",
    "        print('')\n",
    "        print(f\"Finished {idx/n_stocks} pct of stocks\")\n",
    "        print('')\n",
    "        for second_idx, second_stock_name in enumerate(dict_of_stocks_and_dfs.keys()):\n",
    "            stock_pair = f\"{first_stock_name}_{second_stock_name}\"\n",
    "            reverse_pair = f\"{second_stock_name}_{first_stock_name}\"\n",
    "            \n",
    "            if (first_stock_name == second_stock_name) or (stock_pair in pairs_of_stocks)  or (reverse_pair in pairs_of_stocks): # pnr -> ual same as ual -> pnr\n",
    "                continue\n",
    "            else:\n",
    "                pairs_of_stocks.append(stock_pair)\n",
    "            if verbose:\n",
    "                print('-------')\n",
    "                print(f\"{first_stock_name} & {second_stock_name}\")\n",
    "                print('-------')\n",
    "            \n",
    "            # here the date is not the index, yet\n",
    "            first_stock_df = dict_of_stocks_and_dfs[f\"{first_stock_name}\"].loc[ \n",
    "                dict_of_stocks_and_dfs[f\"{first_stock_name}\"].date.isin(dict_of_stocks_and_dfs[f\"{second_stock_name}\"].date), :]\n",
    "\n",
    "            #  filter second df by the dates in first\n",
    "\n",
    "            # here the date is not the index, yet\n",
    "            second_stock_df = dict_of_stocks_and_dfs[f\"{second_stock_name}\"].loc[ \n",
    "                dict_of_stocks_and_dfs[f\"{second_stock_name}\"].date.isin(first_stock_df.date), :]\n",
    "            \n",
    "            # set the date as an index and sort by date\n",
    "            first_stock_df = first_stock_df.sort_values('date')\n",
    "            second_stock_df = second_stock_df.sort_values('date')\n",
    "\n",
    "            first_stock_df = first_stock_df.set_index('date')\n",
    "            second_stock_df = second_stock_df.set_index('date')\n",
    "            \n",
    "            all_features_df = pd.DataFrame()\n",
    "            for rolling_idx, rolling_day in enumerate(n_day_rolling_features_list):\n",
    "                if verbose:\n",
    "                    print(f\"Rolling calculations for {rolling_day}\")\n",
    "                features_df = create_correlation_and_variance_features(\n",
    "                    first_stock_df, second_stock_df, rolling_day, final_feature_df, \n",
    "                    first_stock_name=first_stock_name, second_stock_name=second_stock_name)\n",
    "                   \n",
    "                current_feature_cols = set(features_df.columns)\n",
    "                final_feature_cols = set(final_feature_df.columns)\n",
    "\n",
    "                \n",
    "                if (f\"{first_stock_name}_volume\" not in final_feature_df.columns) and (rolling_idx == 0):\n",
    "                    features_df[f\"{first_stock_name}_volume\"] = list(first_stock_df.volume)\n",
    "                \n",
    "                if (f\"{second_stock_name}_volume\" not in final_feature_df.columns) and (rolling_idx == 0):\n",
    "                    features_df[f\"{second_stock_name}_volume\"] = list(second_stock_df.volume)\n",
    "                    \n",
    "                if rolling_idx == 0: \n",
    "                    all_features_df = features_df\n",
    "                else:\n",
    "                    all_features_df = all_features_df.join(features_df, on='date', lsuffix='_left')\n",
    "            \n",
    "\n",
    "                    \n",
    "            all_features_df.index = pd.to_datetime(all_features_df.index)\n",
    "            final_feature_df = final_feature_df.join(all_features_df, on='date')\n",
    "\n",
    "            if verbose:\n",
    "                end = time.time()\n",
    "                print(f\"Building all features took {(end-start)/60} minutes\")\n",
    "                start = time.time()\n",
    "\n",
    "    end_time = time.time()\n",
    "    print(f\"Total time {(end_time-start_time) / 60} minutes for {len(pairs_of_stocks)} pairs\")\n",
    "    final_feature_df = add_time_feature(final_feature_df)\n",
    "    return final_feature_df, pairs_of_stocks\n",
    "            \n",
    "        \n",
    "\n",
    "# Note: will eventuall need to add in 0s for stocks withour correlation data with other stocks due to date range"
   ]
  },
  {
   "cell_type": "code",
   "execution_count": 600,
   "metadata": {},
   "outputs": [],
   "source": [
    "def create_date_dummy_df(start_date=datetime.datetime(1980,1,1), n_years=50):\n",
    "    \n",
    "    #  create dummy df with dates to join against\n",
    "    list_of_dates  = []\n",
    "    n_days = 365*n_years\n",
    "    start_date = start_date\n",
    "\n",
    "    for i in range(n_days):\n",
    "        list_of_dates.append(start_date + datetime.timedelta(i))\n",
    "    df_ = pd.DataFrame(list_of_dates, columns=['date'])\n",
    "    \n",
    "    df_.date_ =  pd.to_datetime(df_.date)\n",
    "    return df_.set_index('date')\n",
    "    "
   ]
  },
  {
   "cell_type": "code",
   "execution_count": 601,
   "metadata": {},
   "outputs": [],
   "source": [
    "def add_time_feature(final_stock_df):\n",
    "    \n",
    "    days = [i.day for i in final_stock_df.index]\n",
    "    months = [i.month for i in final_stock_df.index]\n",
    "    quarters = [i.quarter for i in final_stock_df.index]\n",
    "    years = [i.year for i in final_stock_df.index]\n",
    "    \n",
    "    us_holidays = holidays.UnitedStates()\n",
    "    \n",
    "    h_ = np.array([i in us_holidays for i in final_stock_df.index]).astype(int)\n",
    "\n",
    "\n",
    "    final_stock_df['day'] = days\n",
    "    final_stock_df['month'] = months\n",
    "    final_stock_df['quarter'] = quarters\n",
    "    final_stock_df['year'] = years\n",
    "#     final_stock_df['is_holiday'] = h_\n",
    "    \n",
    "    return final_stock_df"
   ]
  },
  {
   "cell_type": "code",
   "execution_count": 602,
   "metadata": {},
   "outputs": [],
   "source": [
    "def create_correlation_and_variance_features(first_stock_df, second_stock_df, n_days_stride, final_stock_df, \n",
    "                                             first_stock_name=None, second_stock_name=None, verbose=False):\n",
    "    \"\"\"\n",
    "    n_days_stride: the  number of rolling days to calculate correlation for\n",
    "    \"\"\"\n",
    "    n_rows = len(first_stock_df)\n",
    "\n",
    "    previous_row = 0\n",
    "\n",
    "    features_per_time_period = defaultdict(list)\n",
    "    if verbose:\n",
    "        print(f\"Creating correlations + variance on close for {n_days_stride} days\")\n",
    "    \n",
    "    rolling_close_df = pd.DataFrame(first_stock_df.close.rolling(\n",
    "        n_days_stride).corr(second_stock_df.close)).rename(\n",
    "        {'close': f\"{first_stock_name}_{second_stock_name}_close_corr_rolling_{n_days_stride}_days\"},axis=1).fillna(method='backfill').round(6)\n",
    "\n",
    "    \n",
    "    # add cols\n",
    "    \n",
    "    current_feature_cols = list(final_stock_df.columns)\n",
    "    \n",
    "\n",
    "    # as we go through different pairs will have multiple var / corr for the first stock\n",
    "    # pnc_bar calcualtes corr for pnr\n",
    "    #pnr_bat calculates corr for pnr\n",
    "    # don't want the same cols\n",
    "    if f\"{first_stock_name}_close_std_rolling_{n_days_stride}_days\" not in current_feature_cols:\n",
    "        \n",
    "        rolling_close_std_first_stock =  first_stock_df.close.rolling(n_days_stride).std().fillna(method='backfill').round(6)\n",
    "        rolling_close_df[f\"{first_stock_name}_close_std_rolling_{n_days_stride}_days\"] = rolling_close_std_first_stock\n",
    "        \n",
    "    if f\"{second_stock_name}_close_std_rolling_{n_days_stride}_days\" not in current_feature_cols:\n",
    "        rolling_close_std_second_stock =  second_stock_df.close.rolling(n_days_stride).std().fillna(method='backfill').round( 6)\n",
    "        rolling_close_df[f\"{second_stock_name}_close_std_rolling_{n_days_stride}_days\"] = rolling_close_std_second_stock\n",
    "        \n",
    "    if f\"{first_stock_name}_volume_std_rolling_{n_days_stride}_days\" not in current_feature_cols:\n",
    "        rolling_volume_std_first_stock =  first_stock_df.volume.rolling(n_days_stride).std().fillna(method='backfill').round(6)\n",
    "        rolling_close_df[f\"{first_stock_name}_volume_std_rolling_{n_days_stride}_days\"] = rolling_volume_std_first_stock\n",
    "        \n",
    "    if f\"{second_stock_name}_volume_std_rolling_{n_days_stride}_days\" not in current_feature_cols:\n",
    "        rolling_volume_std_second_stock =  second_stock_df.volume.rolling(n_days_stride).std().fillna(method='backfill').round(6)\n",
    "        rolling_close_df[f\"{second_stock_name}_volume_std_rolling_{n_days_stride}_days\"] = rolling_volume_std_second_stock\n",
    "    \n",
    "    return rolling_close_df\n",
    "\n"
   ]
  },
  {
   "cell_type": "code",
   "execution_count": 603,
   "metadata": {},
   "outputs": [
    {
     "name": "stdout",
     "output_type": "stream",
     "text": [
      "\n",
      "Finished 0.0 pct of stocks\n",
      "\n",
      "\n",
      "Finished 0.02564102564102564 pct of stocks\n",
      "\n",
      "\n",
      "Finished 0.05128205128205128 pct of stocks\n",
      "\n",
      "\n",
      "Finished 0.07692307692307693 pct of stocks\n",
      "\n",
      "\n",
      "Finished 0.10256410256410256 pct of stocks\n",
      "\n",
      "\n",
      "Finished 0.1282051282051282 pct of stocks\n",
      "\n",
      "\n",
      "Finished 0.15384615384615385 pct of stocks\n",
      "\n",
      "\n",
      "Finished 0.1794871794871795 pct of stocks\n",
      "\n",
      "\n",
      "Finished 0.20512820512820512 pct of stocks\n",
      "\n",
      "\n",
      "Finished 0.23076923076923078 pct of stocks\n",
      "\n",
      "\n",
      "Finished 0.2564102564102564 pct of stocks\n",
      "\n",
      "\n",
      "Finished 0.28205128205128205 pct of stocks\n",
      "\n",
      "\n",
      "Finished 0.3076923076923077 pct of stocks\n",
      "\n",
      "\n",
      "Finished 0.3333333333333333 pct of stocks\n",
      "\n",
      "\n",
      "Finished 0.358974358974359 pct of stocks\n",
      "\n",
      "\n",
      "Finished 0.38461538461538464 pct of stocks\n",
      "\n",
      "\n",
      "Finished 0.41025641025641024 pct of stocks\n",
      "\n",
      "\n",
      "Finished 0.4358974358974359 pct of stocks\n",
      "\n",
      "\n",
      "Finished 0.46153846153846156 pct of stocks\n",
      "\n",
      "\n",
      "Finished 0.48717948717948717 pct of stocks\n",
      "\n",
      "\n",
      "Finished 0.5128205128205128 pct of stocks\n",
      "\n",
      "\n",
      "Finished 0.5384615384615384 pct of stocks\n",
      "\n",
      "\n",
      "Finished 0.5641025641025641 pct of stocks\n",
      "\n",
      "\n",
      "Finished 0.5897435897435898 pct of stocks\n",
      "\n",
      "\n",
      "Finished 0.6153846153846154 pct of stocks\n",
      "\n",
      "\n",
      "Finished 0.6410256410256411 pct of stocks\n",
      "\n",
      "\n",
      "Finished 0.6666666666666666 pct of stocks\n",
      "\n",
      "\n",
      "Finished 0.6923076923076923 pct of stocks\n",
      "\n",
      "\n",
      "Finished 0.717948717948718 pct of stocks\n",
      "\n",
      "\n",
      "Finished 0.7435897435897436 pct of stocks\n",
      "\n",
      "\n",
      "Finished 0.7692307692307693 pct of stocks\n",
      "\n",
      "\n",
      "Finished 0.7948717948717948 pct of stocks\n",
      "\n",
      "\n",
      "Finished 0.8205128205128205 pct of stocks\n",
      "\n",
      "\n",
      "Finished 0.8461538461538461 pct of stocks\n",
      "\n",
      "\n",
      "Finished 0.8717948717948718 pct of stocks\n",
      "\n",
      "\n",
      "Finished 0.8974358974358975 pct of stocks\n",
      "\n",
      "\n",
      "Finished 0.9230769230769231 pct of stocks\n",
      "\n",
      "\n",
      "Finished 0.9487179487179487 pct of stocks\n",
      "\n",
      "\n",
      "Finished 0.9743589743589743 pct of stocks\n",
      "\n",
      "Total time 5.419573684533437 minutes for 741 pairs\n"
     ]
    }
   ],
   "source": [
    "# 2 minutes fo 210 pairs\n",
    "final_stock_df, pairs_of_stocks = build_correlation_dfs(dict_of_stocks_and_dfs, verbose=False)"
   ]
  },
  {
   "cell_type": "code",
   "execution_count": null,
   "metadata": {},
   "outputs": [],
   "source": [
    "# max number of stocks is ~300 NOT 990"
   ]
  },
  {
   "cell_type": "code",
   "execution_count": 604,
   "metadata": {},
   "outputs": [
    {
     "data": {
      "text/plain": [
       "4957"
      ]
     },
     "execution_count": 604,
     "metadata": {},
     "output_type": "execute_result"
    }
   ],
   "source": [
    "len(final_stock_df.columns)"
   ]
  },
  {
   "cell_type": "code",
   "execution_count": 585,
   "metadata": {},
   "outputs": [
    {
     "data": {
      "text/plain": [
       "5777"
      ]
     },
     "execution_count": 585,
     "metadata": {},
     "output_type": "execute_result"
    }
   ],
   "source": [
    "len(final_stock_df.columns)"
   ]
  },
  {
   "cell_type": "markdown",
   "metadata": {},
   "source": [
    "# Prep code for NN"
   ]
  },
  {
   "cell_type": "code",
   "execution_count": 653,
   "metadata": {},
   "outputs": [],
   "source": [
    "# prepare the data for LSTM model\n",
    "def split_sequences(sequences, n_steps, y_col='pg_so_close_corr_rolling_7_days', start_idx=0, n_val=50, print_idx=100): #2200\n",
    "    \"\"\"\n",
    "    sequences = input_data\n",
    "    n_steps = n_days of data to give at a time\n",
    "    \n",
    "    only works for the currently set y_col\n",
    "    \"\"\"\n",
    "    if y_col not in sequences.columns:\n",
    "        raise ValueError('This y col does not exist in this df')\n",
    "    \n",
    "    X, y = list(), list()\n",
    "    X_val, y_val = list(), list()\n",
    "    \n",
    "    n_sequences = len(sequences)\n",
    "    print('n_sequences', n_sequences)\n",
    "\n",
    "    for i in range(start_idx, n_sequences):\n",
    "        if i == start_idx:\n",
    "            print(f\"Training idx start at {i}\")\n",
    "        if (i % print_idx == 0) and i != 0:\n",
    "            print(f\"Pct finished = {i/n_sequences}\")\n",
    "            \n",
    "        # find the end of this pattern\n",
    "        end_ix = i + n_steps \n",
    "        total_end_ix = end_ix + n_val\n",
    "        # check if we are beyond the dataset\n",
    "        if (total_end_ix) > n_sequences:\n",
    "            print(f\"Training idx end at {end_ix}\")\n",
    "            print('Total idx checked', total_end_ix)\n",
    "            break\n",
    "        # gather input and output parts of the pattern\n",
    "        seq_x, seq_y = np.array(sequences.loc[:, sequences.columns != f\"{y_col}\"][i:end_ix]), np.array(\n",
    "            sequences.loc[:, sequences.columns == f\"{y_col}\"].shift(-7).fillna(method='ffill').iloc[end_ix-1])\n",
    "\n",
    "                                 \n",
    "        X.append(seq_x)\n",
    "        y.append(seq_y)\n",
    "    \n",
    "    val_start_idx = start_idx + n_sequences - (start_idx  + n_val -2)\n",
    "    for i in range(val_start_idx, n_sequences):\n",
    "        if i == val_start_idx:\n",
    "            print(f\"Val idx start at {val_start_idx}\")\n",
    "        if (i % print_idx == 0) and i != 0:\n",
    "            print(f\"Pct finished for val sequences = {i/n_sequences}\")\n",
    "        # find the end of this pattern\n",
    "        end_ix = i + n_steps\n",
    "        # check if we are beyond the dataset\n",
    "        if end_ix > len(sequences):\n",
    "            print(f\"Val idx end at {end_ix}\")\n",
    "            break\n",
    "        # gather input and output parts of the pattern\n",
    "        seq_x, seq_y = np.array(sequences.loc[:, sequences.columns != f\"{y_col}\"][i:end_ix]), np.array(\n",
    "            sequences.loc[:, sequences.columns == f\"{y_col}\"].shift(-7).fillna(method='ffill').iloc[end_ix-1])\n",
    "        \n",
    "        \n",
    "        X_val.append(seq_x)\n",
    "        y_val.append(seq_y)\n",
    "    \n",
    "    \n",
    "\n",
    "    X, y, X_val, y_val = array(X), array(y), array(X_val), array(y_val)\n",
    "    \n",
    "    # errors for standard scaler\n",
    "    X = np.nan_to_num(X.astype(np.float32)) # converting to float 32 throws some infinity errors\n",
    "    X_val = np.nan_to_num(X_val.astype(np.float32)) # converting to float 32 throws some infinity errors  \n",
    "    \n",
    "    \n",
    "    scalers = {}\n",
    "    for i in range(X.shape[1]):\n",
    "        scalers[i] = StandardScaler()\n",
    "        X[:, i, :] = scalers[i].fit_transform(X[:, i, :]) \n",
    "\n",
    "\n",
    "    for i in range(X_val.shape[1]):\n",
    "        X_val[:, i, :] = scalers[i].transform(X_val[:, i, :]) \n",
    "   # need  to do this again as standard scaler may have nans\n",
    "    X = np.nan_to_num(X.astype(np.float32)) # converting to float 32 throws some infinity errors\n",
    "    X_val = np.nan_to_num(X_val.astype(np.float32)) # converting to float 32 throws some infinity errors \n",
    "    print('X val shape', X_val.shape)\n",
    "    \n",
    "\n",
    "    \n",
    "    return X, y, X_val, y_val, scalers\n",
    "\n",
    "    \n",
    "    "
   ]
  },
  {
   "cell_type": "code",
   "execution_count": null,
   "metadata": {},
   "outputs": [],
   "source": [
    "Conv2D()"
   ]
  },
  {
   "cell_type": "code",
   "execution_count": 759,
   "metadata": {},
   "outputs": [],
   "source": [
    "def build_keras_model(n_steps, n_features, n_units=50, dropout_pct=0.02, n_layers = 1):\n",
    "    model = Sequential()\n",
    "\n",
    "\n",
    "    # define CNN model\n",
    "#     model.add(TimeDistributed(Conv2D(n_units, kernel_and_pool_size))\n",
    "#     model.add(TimeDistributed(MaxPooling2D(pool_size=kernel_and_pool_size))\n",
    "#     model.add(TimeDistributed(Flatten()))\n",
    "\n",
    "        \n",
    "    model.add(LSTM(n_units, activation='relu', dropout=dropout_pct, return_sequences=True, input_shape=(n_steps, n_features)))\n",
    "    model.add(BatchNormalization())\n",
    "    for _ in range(n_layers):\n",
    "        model.add(LSTM(n_units, activation='relu', dropout=dropout_pct, return_sequences=True))\n",
    "        model.add(BatchNormalization())\n",
    "    model.add(LSTM(n_units, activation='relu', dropout=dropout_pct))\n",
    "    model.add(BatchNormalization())\n",
    "    model.add(Dense(n_units))\n",
    "    model.add(Dense(int(n_units/2)))\n",
    "    model.add(Dense(1))\n",
    "    #Adam(learning_rate=0.00001, beta_1=0.9, beta_2=0.999, amsgrad=False)\n",
    "    #LR = 0.0001\n",
    "    #clipnorm=1., clipvalue=0.5\n",
    "    model.compile(optimizer=Adam(learning_rate=0.0001, beta_1=0.9, beta_2=0.999, amsgrad=False), loss='mse', metrics=['mse'])\n",
    "    return model"
   ]
  },
  {
   "cell_type": "code",
   "execution_count": 760,
   "metadata": {},
   "outputs": [],
   "source": [
    "model = build_keras_model(30, 7610)"
   ]
  },
  {
   "cell_type": "code",
   "execution_count": 761,
   "metadata": {},
   "outputs": [
    {
     "name": "stdout",
     "output_type": "stream",
     "text": [
      "Model: \"sequential_70\"\n",
      "_________________________________________________________________\n",
      "Layer (type)                 Output Shape              Param #   \n",
      "=================================================================\n",
      "lstm_192 (LSTM)              (None, 30, 50)            1532200   \n",
      "_________________________________________________________________\n",
      "batch_normalization_183 (Bat (None, 30, 50)            200       \n",
      "_________________________________________________________________\n",
      "lstm_193 (LSTM)              (None, 30, 50)            20200     \n",
      "_________________________________________________________________\n",
      "batch_normalization_184 (Bat (None, 30, 50)            200       \n",
      "_________________________________________________________________\n",
      "lstm_194 (LSTM)              (None, 50)                20200     \n",
      "_________________________________________________________________\n",
      "batch_normalization_185 (Bat (None, 50)                200       \n",
      "_________________________________________________________________\n",
      "dense_189 (Dense)            (None, 50)                2550      \n",
      "_________________________________________________________________\n",
      "dense_190 (Dense)            (None, 25)                1275      \n",
      "_________________________________________________________________\n",
      "dense_191 (Dense)            (None, 1)                 26        \n",
      "=================================================================\n",
      "Total params: 1,577,051\n",
      "Trainable params: 1,576,751\n",
      "Non-trainable params: 300\n",
      "_________________________________________________________________\n"
     ]
    }
   ],
   "source": [
    "model.summary()"
   ]
  },
  {
   "cell_type": "code",
   "execution_count": 666,
   "metadata": {},
   "outputs": [],
   "source": [
    "early_stopping = EarlyStopping(monitor='val_loss', min_delta=0, patience=300, verbose=1, restore_best_weights=True)\n",
    "\n",
    "class PredictionCallback(Callback):\n",
    "    def on_epoch_end(self, epoch, logs={}):\n",
    "        y_pred = self.model.predict(self.validation_data[0])\n",
    "        print('prediction: {} at epoch: {}'.format(y_pred, epoch))\n"
   ]
  },
  {
   "cell_type": "markdown",
   "metadata": {},
   "source": [
    "# Train a model"
   ]
  },
  {
   "cell_type": "code",
   "execution_count": null,
   "metadata": {},
   "outputs": [],
   "source": []
  },
  {
   "cell_type": "code",
   "execution_count": 699,
   "metadata": {},
   "outputs": [],
   "source": [
    "# train on all data\n",
    "# predict for the upcoming week\n",
    "\n",
    "def prediction_for_upcoming_week(final_stock_df,pairs_of_stocks,  job_id=None, verbose = True, print_idx=1, n_day_sequences=14, \n",
    "                                 start_date_training_data='2010-01-01', n_validation_sequences=30):\n",
    "    final_stock_df = final_stock_df.dropna()\n",
    "    final_stock_df = final_stock_df.sort_values(by='date')\n",
    "    print(len(final_stock_df),  'len input final_stock_df')\n",
    "    # add this to predictions\n",
    "    stock_to_industry = pd.read_csv('../data/Industries stock list - all.csv')\n",
    "    stock_to_industry.symbol = [i.lower() for i in stock_to_industry.symbol]\n",
    "\n",
    "    final_stock_df = final_stock_df.dropna()\n",
    "    most_recent_date = final_stock_df.index.max()\n",
    "\n",
    "    prediction_end = most_recent_date + datetime.timedelta(7)\n",
    "\n",
    "\n",
    "\n",
    "    test_df = final_stock_df.iloc[-n_day_sequences:, :]\n",
    "    \n",
    "\n",
    "    n_days_corr_predictions = 7\n",
    "\n",
    "\n",
    "    pct_change_corr = []\n",
    "    predicted_corr = []\n",
    "    last_corr_for_prediction_day = []\n",
    "    pred_dates = []\n",
    "    first_stock_industries = []\n",
    "    second_stock_industries = []\n",
    "    \n",
    "    first_model = True\n",
    "\n",
    "    start = time.time()\n",
    "    total_n = len(pairs_of_stocks)\n",
    "    \n",
    "    for idx,stock_pairing in enumerate(pairs_of_stocks):\n",
    "        if idx % print_idx == 0 and verbose:\n",
    "            print('----------')\n",
    "            print(f\"Stock pairing = {stock_pairing}\")\n",
    "            print(f\"Pct finished = {idx/total_n}\")\n",
    "        first_stock_name, second_stock_name = stock_pairing.split('_')\n",
    "\n",
    "        first_stock_industries.append(stock_to_industry[stock_to_industry.symbol == first_stock_name].industry.values[0])\n",
    "        second_stock_industries.append(stock_to_industry[stock_to_industry.symbol == second_stock_name].industry.values[0])\n",
    "\n",
    "\n",
    "\n",
    "        pred_col_name = f\"{stock_pairing}_close_corr_rolling_{n_days_corr_predictions}_days\"\n",
    "\n",
    "        # remove the current 7-day corr for this stock\n",
    "        # for 7 take rolling 7 days corr to the present day to predict off of\n",
    "        \n",
    "        ## TRAINING AND TESTING DATA\n",
    "        X,y, X_val, y_val, scalers = split_sequences(final_stock_df[final_stock_df.index >= f\"{start_date_training_data}\"],\n",
    "                                                     n_day_sequences, start_idx=0, \n",
    "                                    n_val=n_validation_sequences, y_col=f\"{pred_col_name}\") # 30 steps\n",
    "\n",
    "        \n",
    "\n",
    "        train_X, train_y = final_stock_df.loc[:, final_stock_df.columns != f\"{pred_col_name}\"],  final_stock_df[f\"{pred_col_name}\"].shift(-7).fillna(method='ffill') \n",
    "                                                           # get corr from 7 days in the future\n",
    "        test_X, test_y = np.array(test_df.loc[:, test_df.columns != f\"{pred_col_name}\"]),  test_df[f\"{pred_col_name}\"]\n",
    "        test_X = np.array(test_X).reshape(1, X.shape[1], X.shape[2])\n",
    "        test_X = np.nan_to_num(test_X.astype(np.float32))\n",
    "        \n",
    "        for i in range(test_X.shape[1]):\n",
    "            test_X[:, i, :] = scalers[i].transform(test_X[:, i, :]) \n",
    "        test_X = np.nan_to_num(test_X.astype(np.float32))\n",
    "        \n",
    "#         return X,y, X_val, y_val, test_X\n",
    "        ## END TRAINING AND TESTING DATA \n",
    "        \n",
    "        \n",
    "        if first_model:\n",
    "            smaller_model = build_keras_model(X.shape[1],X.shape[2])\n",
    "            \n",
    "        # test again at 700 epochs\n",
    "        if first_model:\n",
    "            start = time.time()\n",
    "            # 800 epochs\n",
    "            history = smaller_model.fit(x=X, y=y, batch_size=256, epochs=800, verbose=0, \n",
    "                      validation_data=(X_val, y_val), shuffle=False,  use_multiprocessing=False, callbacks=[early_stopping])\n",
    "            end=time.time()\n",
    "\n",
    "            print((end-start)/60,' minutes')\n",
    "        else:\n",
    "\n",
    "            # Freeze the layers except the last 5 layers\n",
    "            for layer in smaller_model.layers[:-3]:\n",
    "                layer.trainable = False\n",
    "            # Check the trainable status of the individual layers\n",
    "\n",
    "            for layer in smaller_model.layers:\n",
    "                print(layer, layer.trainable)\n",
    "\n",
    "            smaller_model.compile(optimizer=Adam(learning_rate=0.0001, beta_1=0.9, beta_2=0.999, amsgrad=False), loss='mse', metrics=['mse'])\n",
    "            \n",
    "            start = time.time()\n",
    "            history = smaller_model.fit(x=X, y=y, batch_size=256, epochs=200, verbose=0, \n",
    "                      validation_data=(X_val, y_val), shuffle=False,  use_multiprocessing=False, callbacks=[early_stopping])\n",
    "            end=time.time()\n",
    "            print((end-start)/60,' minutes')\n",
    "\n",
    "    \n",
    "        history_df  = pd.DataFrame(history.history)\n",
    "        history_df[['mse', 'val_mse']].iloc[-100:, :].plot()\n",
    "        plt.show()\n",
    "        prediction = smaller_model.predict(test_X)[0][0] \n",
    "\n",
    "        if verbose and idx % print_idx==0:\n",
    "            print(f\"Prediction = {prediction}\")\n",
    "\n",
    "\n",
    "\n",
    "        last_corr_date = train_y.index.max()\n",
    "        last_corr = train_y[train_y.index.max()]  \n",
    "        if verbose and idx % print_idx==0:\n",
    "            print(f\"Last corr = {last_corr}\")\n",
    "\n",
    "        pred_dates.append(most_recent_date)\n",
    "        predicted_corr.append(prediction)\n",
    "        last_corr_for_prediction_day.append(last_corr)\n",
    "        \n",
    "        if verbose and idx % print_idx==0:\n",
    "            print(f\"{stock_pairing} corr7-day corr of close from {most_recent_date} to {prediction_end} is {prediction} \")\n",
    "        \n",
    "        first_model = False\n",
    "\n",
    "\n",
    "    end = time.time()\n",
    "\n",
    "    print(f\"Predictions took {(end-start)/60} mins\")\n",
    "\n",
    "    squarred_difference = (np.array(last_corr_for_prediction_day)-np.array(predicted_corr))**2\n",
    "\n",
    "    prediction_df = pd.DataFrame({ 'pred_date_start':pred_dates,'stock_pair':pairs_of_stocks,   'first_stock_industry': first_stock_industries, \n",
    "                   'second_stock_industry': second_stock_industries,\n",
    "                   'predicted_corr': predicted_corr, 'last_7_day_corr_for_pred_date_start': last_corr_for_prediction_day, \n",
    "            'squarred_diff_7_day_cor': (np.array(last_corr_for_prediction_day)-np.array(predicted_corr))**2\n",
    "                 })\n",
    "    \n",
    "    if job_id:\n",
    "        tmp_filepath = '../data/tmp_prediction_dfs'\n",
    "        if not os.path.isdir(f\"{tmp_filepath}\"):\n",
    "            os.mkdir(f\"{tmp_filepath}\")\n",
    "        prediction_df.to_csv(\n",
    "        f'{tmp_filepath}/{job_id}_test_predictions_{most_recent_date}-{prediction_end}.csv', index=False)\n",
    "    else:\n",
    "        prediction_df.to_csv(\n",
    "    f'../data/predictions/lstm_test_predictions_{most_recent_date}-{prediction_end}.csv', index=False)\n"
   ]
  },
  {
   "cell_type": "code",
   "execution_count": null,
   "metadata": {},
   "outputs": [],
   "source": []
  },
  {
   "cell_type": "code",
   "execution_count": 700,
   "metadata": {},
   "outputs": [
    {
     "data": {
      "text/plain": [
       "741"
      ]
     },
     "execution_count": 700,
     "metadata": {},
     "output_type": "execute_result"
    }
   ],
   "source": [
    "len(pairs_of_stocks)"
   ]
  },
  {
   "cell_type": "code",
   "execution_count": 701,
   "metadata": {},
   "outputs": [],
   "source": [
    "# should take ~4 hours for 378 pairs of stocks\n",
    "# 6.5 minutes for 10 stocks"
   ]
  },
  {
   "cell_type": "code",
   "execution_count": 702,
   "metadata": {},
   "outputs": [
    {
     "data": {
      "text/plain": [
       "4957"
      ]
     },
     "execution_count": 702,
     "metadata": {},
     "output_type": "execute_result"
    }
   ],
   "source": [
    "len(final_stock_df.columns)"
   ]
  },
  {
   "cell_type": "code",
   "execution_count": 703,
   "metadata": {},
   "outputs": [
    {
     "data": {
      "text/plain": [
       "['wal_mtb', 'wal_jpm']"
      ]
     },
     "execution_count": 703,
     "metadata": {},
     "output_type": "execute_result"
    }
   ],
   "source": [
    "pairs_of_stocks[:2]"
   ]
  },
  {
   "cell_type": "code",
   "execution_count": 704,
   "metadata": {},
   "outputs": [
    {
     "data": {
      "text/plain": [
       "0"
      ]
     },
     "execution_count": 704,
     "metadata": {},
     "output_type": "execute_result"
    }
   ],
   "source": [
    "np.isnan(final_stock_df).sum().sum()"
   ]
  },
  {
   "cell_type": "code",
   "execution_count": 705,
   "metadata": {},
   "outputs": [
    {
     "data": {
      "text/plain": [
       "Index(['wal_mtb_close_corr_rolling_5_days', 'wal_close_std_rolling_5_days',\n",
       "       'mtb_close_std_rolling_5_days', 'wal_volume_std_rolling_5_days',\n",
       "       'mtb_volume_std_rolling_5_days', 'wal_volume', 'mtb_volume',\n",
       "       'wal_mtb_close_corr_rolling_7_days', 'wal_close_std_rolling_7_days',\n",
       "       'mtb_close_std_rolling_7_days',\n",
       "       ...\n",
       "       'cpt_reg_close_corr_rolling_5_days',\n",
       "       'cpt_reg_close_corr_rolling_7_days',\n",
       "       'cpt_reg_close_corr_rolling_10_days',\n",
       "       'cpt_reg_close_corr_rolling_30_days',\n",
       "       'cpt_reg_close_corr_rolling_180_days',\n",
       "       'cpt_reg_close_corr_rolling_365_days', 'day', 'month', 'quarter',\n",
       "       'year'],\n",
       "      dtype='object', length=4957)"
      ]
     },
     "execution_count": 705,
     "metadata": {},
     "output_type": "execute_result"
    }
   ],
   "source": [
    "final_stock_df.columns"
   ]
  },
  {
   "cell_type": "code",
   "execution_count": 706,
   "metadata": {},
   "outputs": [
    {
     "data": {
      "text/plain": [
       "741"
      ]
     },
     "execution_count": 706,
     "metadata": {},
     "output_type": "execute_result"
    }
   ],
   "source": [
    "len(pairs_of_stocks)"
   ]
  },
  {
   "cell_type": "code",
   "execution_count": 707,
   "metadata": {},
   "outputs": [
    {
     "name": "stdout",
     "output_type": "stream",
     "text": [
      "2523 len input final_stock_df\n",
      "----------\n",
      "Stock pairing = wal_mtb\n",
      "Pct finished = 0.0\n",
      "n_sequences 848\n",
      "Training idx start at 0\n",
      "Pct finished = 0.1179245283018868\n",
      "Pct finished = 0.2358490566037736\n",
      "Pct finished = 0.35377358490566035\n",
      "Pct finished = 0.4716981132075472\n",
      "Pct finished = 0.589622641509434\n",
      "Pct finished = 0.7075471698113207\n",
      "Pct finished = 0.8254716981132075\n",
      "Pct finished = 0.9433962264150944\n",
      "Training idx end at 824\n",
      "Total idx checked 849\n",
      "Val idx start at 825\n",
      "Val idx end at 849\n",
      "X val shape (10, 14, 4956)\n",
      "14.927805165449778  minutes\n"
     ]
    },
    {
     "data": {
      "image/png": "[encoded data removed]",
      "text/plain": [
       "<Figure size 432x288 with 1 Axes>"
      ]
     },
     "metadata": {
      "needs_background": "light"
     },
     "output_type": "display_data"
    },
    {
     "name": "stdout",
     "output_type": "stream",
     "text": [
      "Prediction = 0.0506906695663929\n",
      "Last corr = 0.974008\n",
      "wal_mtb corr7-day corr of close from 2020-05-15 00:00:00 to 2020-05-22 00:00:00 is 0.0506906695663929 \n",
      "----------\n",
      "Stock pairing = wal_jpm\n",
      "Pct finished = 0.006666666666666667\n",
      "n_sequences 848\n",
      "Training idx start at 0\n",
      "Pct finished = 0.1179245283018868\n",
      "Pct finished = 0.2358490566037736\n",
      "Pct finished = 0.35377358490566035\n",
      "Pct finished = 0.4716981132075472\n",
      "Pct finished = 0.589622641509434\n",
      "Pct finished = 0.7075471698113207\n",
      "Pct finished = 0.8254716981132075\n",
      "Pct finished = 0.9433962264150944\n",
      "Training idx end at 824\n",
      "Total idx checked 849\n",
      "Val idx start at 825\n",
      "Val idx end at 849\n",
      "X val shape (10, 14, 4956)\n",
      "<tensorflow.python.keras.layers.recurrent_v2.LSTM object at 0x143795128> False\n",
      "<tensorflow.python.keras.layers.normalization_v2.BatchNormalization object at 0x15c3ea7b8> False\n",
      "<tensorflow.python.keras.layers.recurrent_v2.LSTM object at 0x15756e358> False\n",
      "<tensorflow.python.keras.layers.normalization_v2.BatchNormalization object at 0x1567bc470> False\n",
      "<tensorflow.python.keras.layers.recurrent_v2.LSTM object at 0x1514a4e48> False\n",
      "<tensorflow.python.keras.layers.normalization_v2.BatchNormalization object at 0x156aaffd0> False\n",
      "<tensorflow.python.keras.layers.core.Dense object at 0x14dda4b00> True\n",
      "<tensorflow.python.keras.layers.core.Dense object at 0x1538d3860> True\n",
      "<tensorflow.python.keras.layers.core.Dense object at 0x1538d3828> True\n",
      "3.0020601987838744  minutes\n"
     ]
    },
    {
     "data": {
      "image/png": "[encoded data removed]",
      "text/plain": [
       "<Figure size 432x288 with 1 Axes>"
      ]
     },
     "metadata": {
      "needs_background": "light"
     },
     "output_type": "display_data"
    },
    {
     "name": "stdout",
     "output_type": "stream",
     "text": [
      "Prediction = 1.5245156288146973\n",
      "Last corr = 0.956929\n",
      "wal_jpm corr7-day corr of close from 2020-05-15 00:00:00 to 2020-05-22 00:00:00 is 1.5245156288146973 \n",
      "----------\n",
      "Stock pairing = wal_umpq\n",
      "Pct finished = 0.013333333333333334\n",
      "n_sequences 848\n",
      "Training idx start at 0\n",
      "Pct finished = 0.1179245283018868\n",
      "Pct finished = 0.2358490566037736\n",
      "Pct finished = 0.35377358490566035\n",
      "Pct finished = 0.4716981132075472\n",
      "Pct finished = 0.589622641509434\n",
      "Pct finished = 0.7075471698113207\n",
      "Pct finished = 0.8254716981132075\n",
      "Pct finished = 0.9433962264150944\n",
      "Training idx end at 824\n",
      "Total idx checked 849\n",
      "Val idx start at 825\n",
      "Val idx end at 849\n",
      "X val shape (10, 14, 4956)\n",
      "<tensorflow.python.keras.layers.recurrent_v2.LSTM object at 0x143795128> False\n",
      "<tensorflow.python.keras.layers.normalization_v2.BatchNormalization object at 0x15c3ea7b8> False\n",
      "<tensorflow.python.keras.layers.recurrent_v2.LSTM object at 0x15756e358> False\n",
      "<tensorflow.python.keras.layers.normalization_v2.BatchNormalization object at 0x1567bc470> False\n",
      "<tensorflow.python.keras.layers.recurrent_v2.LSTM object at 0x1514a4e48> False\n",
      "<tensorflow.python.keras.layers.normalization_v2.BatchNormalization object at 0x156aaffd0> False\n",
      "<tensorflow.python.keras.layers.core.Dense object at 0x14dda4b00> True\n",
      "<tensorflow.python.keras.layers.core.Dense object at 0x1538d3860> True\n",
      "<tensorflow.python.keras.layers.core.Dense object at 0x1538d3828> True\n",
      "3.057954736550649  minutes\n"
     ]
    },
    {
     "data": {
      "image/png": "[encoded data removed]",
      "text/plain": [
       "<Figure size 432x288 with 1 Axes>"
      ]
     },
     "metadata": {
      "needs_background": "light"
     },
     "output_type": "display_data"
    },
    {
     "name": "stdout",
     "output_type": "stream",
     "text": [
      "Prediction = 1.3534592390060425\n",
      "Last corr = 0.989008\n",
      "wal_umpq corr7-day corr of close from 2020-05-15 00:00:00 to 2020-05-22 00:00:00 is 1.3534592390060425 \n",
      "----------\n",
      "Stock pairing = wal_cvbf\n",
      "Pct finished = 0.02\n",
      "n_sequences 848\n",
      "Training idx start at 0\n",
      "Pct finished = 0.1179245283018868\n",
      "Pct finished = 0.2358490566037736\n",
      "Pct finished = 0.35377358490566035\n",
      "Pct finished = 0.4716981132075472\n",
      "Pct finished = 0.589622641509434\n",
      "Pct finished = 0.7075471698113207\n",
      "Pct finished = 0.8254716981132075\n",
      "Pct finished = 0.9433962264150944\n",
      "Training idx end at 824\n",
      "Total idx checked 849\n",
      "Val idx start at 825\n",
      "Val idx end at 849\n",
      "X val shape (10, 14, 4956)\n",
      "<tensorflow.python.keras.layers.recurrent_v2.LSTM object at 0x143795128> False\n",
      "<tensorflow.python.keras.layers.normalization_v2.BatchNormalization object at 0x15c3ea7b8> False\n",
      "<tensorflow.python.keras.layers.recurrent_v2.LSTM object at 0x15756e358> False\n",
      "<tensorflow.python.keras.layers.normalization_v2.BatchNormalization object at 0x1567bc470> False\n",
      "<tensorflow.python.keras.layers.recurrent_v2.LSTM object at 0x1514a4e48> False\n",
      "<tensorflow.python.keras.layers.normalization_v2.BatchNormalization object at 0x156aaffd0> False\n",
      "<tensorflow.python.keras.layers.core.Dense object at 0x14dda4b00> True\n",
      "<tensorflow.python.keras.layers.core.Dense object at 0x1538d3860> True\n",
      "<tensorflow.python.keras.layers.core.Dense object at 0x1538d3828> True\n",
      "3.007385317484538  minutes\n"
     ]
    },
    {
     "data": {
      "image/png": "[encoded data removed]",
      "text/plain": [
       "<Figure size 432x288 with 1 Axes>"
      ]
     },
     "metadata": {
      "needs_background": "light"
     },
     "output_type": "display_data"
    },
    {
     "name": "stdout",
     "output_type": "stream",
     "text": [
      "Prediction = 2.580435037612915\n",
      "Last corr = 0.986554\n",
      "wal_cvbf corr7-day corr of close from 2020-05-15 00:00:00 to 2020-05-22 00:00:00 is 2.580435037612915 \n",
      "----------\n",
      "Stock pairing = wal_fitb\n",
      "Pct finished = 0.02666666666666667\n",
      "n_sequences 848\n",
      "Training idx start at 0\n",
      "Pct finished = 0.1179245283018868\n",
      "Pct finished = 0.2358490566037736\n",
      "Pct finished = 0.35377358490566035\n",
      "Pct finished = 0.4716981132075472\n",
      "Pct finished = 0.589622641509434\n",
      "Pct finished = 0.7075471698113207\n",
      "Pct finished = 0.8254716981132075\n",
      "Pct finished = 0.9433962264150944\n",
      "Training idx end at 824\n",
      "Total idx checked 849\n",
      "Val idx start at 825\n",
      "Val idx end at 849\n",
      "X val shape (10, 14, 4956)\n",
      "<tensorflow.python.keras.layers.recurrent_v2.LSTM object at 0x143795128> False\n",
      "<tensorflow.python.keras.layers.normalization_v2.BatchNormalization object at 0x15c3ea7b8> False\n",
      "<tensorflow.python.keras.layers.recurrent_v2.LSTM object at 0x15756e358> False\n",
      "<tensorflow.python.keras.layers.normalization_v2.BatchNormalization object at 0x1567bc470> False\n",
      "<tensorflow.python.keras.layers.recurrent_v2.LSTM object at 0x1514a4e48> False\n",
      "<tensorflow.python.keras.layers.normalization_v2.BatchNormalization object at 0x156aaffd0> False\n",
      "<tensorflow.python.keras.layers.core.Dense object at 0x14dda4b00> True\n",
      "<tensorflow.python.keras.layers.core.Dense object at 0x1538d3860> True\n",
      "<tensorflow.python.keras.layers.core.Dense object at 0x1538d3828> True\n",
      "3.0076917807261148  minutes\n"
     ]
    },
    {
     "data": {
      "image/png": "[encoded data removed]",
      "text/plain": [
       "<Figure size 432x288 with 1 Axes>"
      ]
     },
     "metadata": {
      "needs_background": "light"
     },
     "output_type": "display_data"
    },
    {
     "name": "stdout",
     "output_type": "stream",
     "text": [
      "Prediction = 1.2648135423660278\n",
      "Last corr = 0.979363\n",
      "wal_fitb corr7-day corr of close from 2020-05-15 00:00:00 to 2020-05-22 00:00:00 is 1.2648135423660278 \n",
      "----------\n",
      "Stock pairing = wal_irm\n",
      "Pct finished = 0.03333333333333333\n",
      "n_sequences 848\n",
      "Training idx start at 0\n",
      "Pct finished = 0.1179245283018868\n",
      "Pct finished = 0.2358490566037736\n",
      "Pct finished = 0.35377358490566035\n",
      "Pct finished = 0.4716981132075472\n",
      "Pct finished = 0.589622641509434\n",
      "Pct finished = 0.7075471698113207\n",
      "Pct finished = 0.8254716981132075\n",
      "Pct finished = 0.9433962264150944\n",
      "Training idx end at 824\n",
      "Total idx checked 849\n",
      "Val idx start at 825\n",
      "Val idx end at 849\n",
      "X val shape (10, 14, 4956)\n",
      "<tensorflow.python.keras.layers.recurrent_v2.LSTM object at 0x143795128> False\n",
      "<tensorflow.python.keras.layers.normalization_v2.BatchNormalization object at 0x15c3ea7b8> False\n",
      "<tensorflow.python.keras.layers.recurrent_v2.LSTM object at 0x15756e358> False\n",
      "<tensorflow.python.keras.layers.normalization_v2.BatchNormalization object at 0x1567bc470> False\n",
      "<tensorflow.python.keras.layers.recurrent_v2.LSTM object at 0x1514a4e48> False\n",
      "<tensorflow.python.keras.layers.normalization_v2.BatchNormalization object at 0x156aaffd0> False\n",
      "<tensorflow.python.keras.layers.core.Dense object at 0x14dda4b00> True\n",
      "<tensorflow.python.keras.layers.core.Dense object at 0x1538d3860> True\n",
      "<tensorflow.python.keras.layers.core.Dense object at 0x1538d3828> True\n",
      "2.9637553811073305  minutes\n"
     ]
    },
    {
     "data": {
      "image/png": "[encoded data removed]",
      "text/plain": [
       "<Figure size 432x288 with 1 Axes>"
      ]
     },
     "metadata": {
      "needs_background": "light"
     },
     "output_type": "display_data"
    },
    {
     "name": "stdout",
     "output_type": "stream",
     "text": [
      "Prediction = 0.9367712736129761\n",
      "Last corr = 0.954229\n",
      "wal_irm corr7-day corr of close from 2020-05-15 00:00:00 to 2020-05-22 00:00:00 is 0.9367712736129761 \n",
      "----------\n",
      "Stock pairing = wal_wfc\n",
      "Pct finished = 0.04\n",
      "n_sequences 848\n",
      "Training idx start at 0\n",
      "Pct finished = 0.1179245283018868\n",
      "Pct finished = 0.2358490566037736\n",
      "Pct finished = 0.35377358490566035\n",
      "Pct finished = 0.4716981132075472\n",
      "Pct finished = 0.589622641509434\n",
      "Pct finished = 0.7075471698113207\n",
      "Pct finished = 0.8254716981132075\n",
      "Pct finished = 0.9433962264150944\n",
      "Training idx end at 824\n",
      "Total idx checked 849\n",
      "Val idx start at 825\n",
      "Val idx end at 849\n",
      "X val shape (10, 14, 4956)\n",
      "<tensorflow.python.keras.layers.recurrent_v2.LSTM object at 0x143795128> False\n",
      "<tensorflow.python.keras.layers.normalization_v2.BatchNormalization object at 0x15c3ea7b8> False\n",
      "<tensorflow.python.keras.layers.recurrent_v2.LSTM object at 0x15756e358> False\n",
      "<tensorflow.python.keras.layers.normalization_v2.BatchNormalization object at 0x1567bc470> False\n",
      "<tensorflow.python.keras.layers.recurrent_v2.LSTM object at 0x1514a4e48> False\n",
      "<tensorflow.python.keras.layers.normalization_v2.BatchNormalization object at 0x156aaffd0> False\n",
      "<tensorflow.python.keras.layers.core.Dense object at 0x14dda4b00> True\n",
      "<tensorflow.python.keras.layers.core.Dense object at 0x1538d3860> True\n",
      "<tensorflow.python.keras.layers.core.Dense object at 0x1538d3828> True\n",
      "3.0483705679575603  minutes\n"
     ]
    },
    {
     "data": {
      "image/png": "[encoded data removed]",
      "text/plain": [
       "<Figure size 432x288 with 1 Axes>"
      ]
     },
     "metadata": {
      "needs_background": "light"
     },
     "output_type": "display_data"
    },
    {
     "name": "stdout",
     "output_type": "stream",
     "text": [
      "Prediction = 0.7381609678268433\n",
      "Last corr = 0.916556\n",
      "wal_wfc corr7-day corr of close from 2020-05-15 00:00:00 to 2020-05-22 00:00:00 is 0.7381609678268433 \n",
      "----------\n",
      "Stock pairing = wal_cwbc\n",
      "Pct finished = 0.04666666666666667\n",
      "n_sequences 848\n",
      "Training idx start at 0\n",
      "Pct finished = 0.1179245283018868\n",
      "Pct finished = 0.2358490566037736\n",
      "Pct finished = 0.35377358490566035\n",
      "Pct finished = 0.4716981132075472\n",
      "Pct finished = 0.589622641509434\n",
      "Pct finished = 0.7075471698113207\n",
      "Pct finished = 0.8254716981132075\n",
      "Pct finished = 0.9433962264150944\n",
      "Training idx end at 824\n",
      "Total idx checked 849\n",
      "Val idx start at 825\n",
      "Val idx end at 849\n",
      "X val shape (10, 14, 4956)\n",
      "<tensorflow.python.keras.layers.recurrent_v2.LSTM object at 0x143795128> False\n",
      "<tensorflow.python.keras.layers.normalization_v2.BatchNormalization object at 0x15c3ea7b8> False\n",
      "<tensorflow.python.keras.layers.recurrent_v2.LSTM object at 0x15756e358> False\n",
      "<tensorflow.python.keras.layers.normalization_v2.BatchNormalization object at 0x1567bc470> False\n",
      "<tensorflow.python.keras.layers.recurrent_v2.LSTM object at 0x1514a4e48> False\n",
      "<tensorflow.python.keras.layers.normalization_v2.BatchNormalization object at 0x156aaffd0> False\n",
      "<tensorflow.python.keras.layers.core.Dense object at 0x14dda4b00> True\n",
      "<tensorflow.python.keras.layers.core.Dense object at 0x1538d3860> True\n",
      "<tensorflow.python.keras.layers.core.Dense object at 0x1538d3828> True\n",
      "2.9805628657341003  minutes\n"
     ]
    },
    {
     "data": {
      "image/png": "[encoded data removed]",
      "text/plain": [
       "<Figure size 432x288 with 1 Axes>"
      ]
     },
     "metadata": {
      "needs_background": "light"
     },
     "output_type": "display_data"
    },
    {
     "name": "stdout",
     "output_type": "stream",
     "text": [
      "Prediction = nan\n",
      "Last corr = 0.772589\n",
      "wal_cwbc corr7-day corr of close from 2020-05-15 00:00:00 to 2020-05-22 00:00:00 is nan \n",
      "----------\n",
      "Stock pairing = wal_bsrr\n",
      "Pct finished = 0.05333333333333334\n",
      "n_sequences 848\n",
      "Training idx start at 0\n",
      "Pct finished = 0.1179245283018868\n",
      "Pct finished = 0.2358490566037736\n",
      "Pct finished = 0.35377358490566035\n",
      "Pct finished = 0.4716981132075472\n",
      "Pct finished = 0.589622641509434\n",
      "Pct finished = 0.7075471698113207\n",
      "Pct finished = 0.8254716981132075\n",
      "Pct finished = 0.9433962264150944\n",
      "Training idx end at 824\n",
      "Total idx checked 849\n",
      "Val idx start at 825\n",
      "Val idx end at 849\n",
      "X val shape (10, 14, 4956)\n",
      "<tensorflow.python.keras.layers.recurrent_v2.LSTM object at 0x143795128> False\n",
      "<tensorflow.python.keras.layers.normalization_v2.BatchNormalization object at 0x15c3ea7b8> False\n",
      "<tensorflow.python.keras.layers.recurrent_v2.LSTM object at 0x15756e358> False\n",
      "<tensorflow.python.keras.layers.normalization_v2.BatchNormalization object at 0x1567bc470> False\n",
      "<tensorflow.python.keras.layers.recurrent_v2.LSTM object at 0x1514a4e48> False\n",
      "<tensorflow.python.keras.layers.normalization_v2.BatchNormalization object at 0x156aaffd0> False\n",
      "<tensorflow.python.keras.layers.core.Dense object at 0x14dda4b00> True\n",
      "<tensorflow.python.keras.layers.core.Dense object at 0x1538d3860> True\n",
      "<tensorflow.python.keras.layers.core.Dense object at 0x1538d3828> True\n",
      "3.1063997983932494  minutes\n"
     ]
    },
    {
     "data": {
      "image/png": "[encoded data removed]",
      "text/plain": [
       "<Figure size 432x288 with 1 Axes>"
      ]
     },
     "metadata": {
      "needs_background": "light"
     },
     "output_type": "display_data"
    },
    {
     "name": "stdout",
     "output_type": "stream",
     "text": [
      "Prediction = nan\n",
      "Last corr = 0.987764\n",
      "wal_bsrr corr7-day corr of close from 2020-05-15 00:00:00 to 2020-05-22 00:00:00 is nan \n",
      "----------\n",
      "Stock pairing = wal_key\n",
      "Pct finished = 0.06\n",
      "n_sequences 848\n",
      "Training idx start at 0\n",
      "Pct finished = 0.1179245283018868\n",
      "Pct finished = 0.2358490566037736\n",
      "Pct finished = 0.35377358490566035\n",
      "Pct finished = 0.4716981132075472\n",
      "Pct finished = 0.589622641509434\n",
      "Pct finished = 0.7075471698113207\n",
      "Pct finished = 0.8254716981132075\n",
      "Pct finished = 0.9433962264150944\n",
      "Training idx end at 824\n",
      "Total idx checked 849\n",
      "Val idx start at 825\n",
      "Val idx end at 849\n",
      "X val shape (10, 14, 4956)\n",
      "<tensorflow.python.keras.layers.recurrent_v2.LSTM object at 0x143795128> False\n",
      "<tensorflow.python.keras.layers.normalization_v2.BatchNormalization object at 0x15c3ea7b8> False\n",
      "<tensorflow.python.keras.layers.recurrent_v2.LSTM object at 0x15756e358> False\n",
      "<tensorflow.python.keras.layers.normalization_v2.BatchNormalization object at 0x1567bc470> False\n",
      "<tensorflow.python.keras.layers.recurrent_v2.LSTM object at 0x1514a4e48> False\n",
      "<tensorflow.python.keras.layers.normalization_v2.BatchNormalization object at 0x156aaffd0> False\n",
      "<tensorflow.python.keras.layers.core.Dense object at 0x14dda4b00> True\n",
      "<tensorflow.python.keras.layers.core.Dense object at 0x1538d3860> True\n",
      "<tensorflow.python.keras.layers.core.Dense object at 0x1538d3828> True\n",
      "3.1400938351949055  minutes\n"
     ]
    },
    {
     "data": {
      "image/png": "[encoded data removed]",
      "text/plain": [
       "<Figure size 432x288 with 1 Axes>"
      ]
     },
     "metadata": {
      "needs_background": "light"
     },
     "output_type": "display_data"
    },
    {
     "name": "stdout",
     "output_type": "stream",
     "text": [
      "Prediction = nan\n",
      "Last corr = 0.990574\n",
      "wal_key corr7-day corr of close from 2020-05-15 00:00:00 to 2020-05-22 00:00:00 is nan \n",
      "----------\n",
      "Stock pairing = wal_ewbc\n",
      "Pct finished = 0.06666666666666667\n",
      "n_sequences 848\n",
      "Training idx start at 0\n",
      "Pct finished = 0.1179245283018868\n",
      "Pct finished = 0.2358490566037736\n",
      "Pct finished = 0.35377358490566035\n",
      "Pct finished = 0.4716981132075472\n",
      "Pct finished = 0.589622641509434\n",
      "Pct finished = 0.7075471698113207\n",
      "Pct finished = 0.8254716981132075\n",
      "Pct finished = 0.9433962264150944\n",
      "Training idx end at 824\n",
      "Total idx checked 849\n",
      "Val idx start at 825\n",
      "Val idx end at 849\n",
      "X val shape (10, 14, 4956)\n",
      "<tensorflow.python.keras.layers.recurrent_v2.LSTM object at 0x143795128> False\n",
      "<tensorflow.python.keras.layers.normalization_v2.BatchNormalization object at 0x15c3ea7b8> False\n",
      "<tensorflow.python.keras.layers.recurrent_v2.LSTM object at 0x15756e358> False\n",
      "<tensorflow.python.keras.layers.normalization_v2.BatchNormalization object at 0x1567bc470> False\n",
      "<tensorflow.python.keras.layers.recurrent_v2.LSTM object at 0x1514a4e48> False\n",
      "<tensorflow.python.keras.layers.normalization_v2.BatchNormalization object at 0x156aaffd0> False\n",
      "<tensorflow.python.keras.layers.core.Dense object at 0x14dda4b00> True\n",
      "<tensorflow.python.keras.layers.core.Dense object at 0x1538d3860> True\n",
      "<tensorflow.python.keras.layers.core.Dense object at 0x1538d3828> True\n",
      "WARNING:tensorflow:Early stopping conditioned on metric `val_loss` which is not available. Available metrics are: \n"
     ]
    },
    {
     "name": "stderr",
     "output_type": "stream",
     "text": [
      "WARNING:tensorflow:Early stopping conditioned on metric `val_loss` which is not available. Available metrics are: \n"
     ]
    },
    {
     "ename": "KeyboardInterrupt",
     "evalue": "",
     "output_type": "error",
     "traceback": [
      "\u001b[0;31m---------------------------------------------------------------------------\u001b[0m",
      "\u001b[0;31mKeyboardInterrupt\u001b[0m                         Traceback (most recent call last)",
      "\u001b[0;32m<ipython-input-707-1c6cfabbde90>\u001b[0m in \u001b[0;36m<module>\u001b[0;34m\u001b[0m\n\u001b[1;32m     16\u001b[0m \u001b[0;34m\u001b[0m\u001b[0m\n\u001b[1;32m     17\u001b[0m \u001b[0;31m# wal_cwbc is nan\u001b[0m\u001b[0;34m\u001b[0m\u001b[0;34m\u001b[0m\u001b[0m\n\u001b[0;32m---> 18\u001b[0;31m \u001b[0mprediction_for_upcoming_week\u001b[0m\u001b[0;34m(\u001b[0m\u001b[0mfinal_stock_df\u001b[0m\u001b[0;34m,\u001b[0m \u001b[0mpairs_of_stocks\u001b[0m\u001b[0;34m[\u001b[0m\u001b[0;34m:\u001b[0m\u001b[0;36m150\u001b[0m\u001b[0;34m]\u001b[0m\u001b[0;34m)\u001b[0m\u001b[0;34m\u001b[0m\u001b[0m\n\u001b[0m",
      "\u001b[0;32m<ipython-input-699-004c216bdea5>\u001b[0m in \u001b[0;36mprediction_for_upcoming_week\u001b[0;34m(final_stock_df, pairs_of_stocks, job_id, verbose, print_idx, n_day_sequences, start_date_training_data, n_validation_sequences)\u001b[0m\n\u001b[1;32m    100\u001b[0m             \u001b[0mstart\u001b[0m \u001b[0;34m=\u001b[0m \u001b[0mtime\u001b[0m\u001b[0;34m.\u001b[0m\u001b[0mtime\u001b[0m\u001b[0;34m(\u001b[0m\u001b[0;34m)\u001b[0m\u001b[0;34m\u001b[0m\u001b[0m\n\u001b[1;32m    101\u001b[0m             history = smaller_model.fit(x=X, y=y, batch_size=256, epochs=200, verbose=0, \n\u001b[0;32m--> 102\u001b[0;31m                       validation_data=(X_val, y_val), shuffle=False,  use_multiprocessing=False, callbacks=[early_stopping])\n\u001b[0m\u001b[1;32m    103\u001b[0m             \u001b[0mend\u001b[0m\u001b[0;34m=\u001b[0m\u001b[0mtime\u001b[0m\u001b[0;34m.\u001b[0m\u001b[0mtime\u001b[0m\u001b[0;34m(\u001b[0m\u001b[0;34m)\u001b[0m\u001b[0;34m\u001b[0m\u001b[0m\n\u001b[1;32m    104\u001b[0m             \u001b[0mprint\u001b[0m\u001b[0;34m(\u001b[0m\u001b[0;34m(\u001b[0m\u001b[0mend\u001b[0m\u001b[0;34m-\u001b[0m\u001b[0mstart\u001b[0m\u001b[0;34m)\u001b[0m\u001b[0;34m/\u001b[0m\u001b[0;36m60\u001b[0m\u001b[0;34m,\u001b[0m\u001b[0;34m' minutes'\u001b[0m\u001b[0;34m)\u001b[0m\u001b[0;34m\u001b[0m\u001b[0m\n",
      "\u001b[0;32m~/Library/Caches/pypoetry/virtualenvs/daily-trading-nJ43NNNI-py3.7/lib/python3.7/site-packages/tensorflow_core/python/keras/engine/training.py\u001b[0m in \u001b[0;36mfit\u001b[0;34m(self, x, y, batch_size, epochs, verbose, callbacks, validation_split, validation_data, shuffle, class_weight, sample_weight, initial_epoch, steps_per_epoch, validation_steps, validation_freq, max_queue_size, workers, use_multiprocessing, **kwargs)\u001b[0m\n\u001b[1;32m    817\u001b[0m         \u001b[0mmax_queue_size\u001b[0m\u001b[0;34m=\u001b[0m\u001b[0mmax_queue_size\u001b[0m\u001b[0;34m,\u001b[0m\u001b[0;34m\u001b[0m\u001b[0m\n\u001b[1;32m    818\u001b[0m         \u001b[0mworkers\u001b[0m\u001b[0;34m=\u001b[0m\u001b[0mworkers\u001b[0m\u001b[0;34m,\u001b[0m\u001b[0;34m\u001b[0m\u001b[0m\n\u001b[0;32m--> 819\u001b[0;31m         use_multiprocessing=use_multiprocessing)\n\u001b[0m\u001b[1;32m    820\u001b[0m \u001b[0;34m\u001b[0m\u001b[0m\n\u001b[1;32m    821\u001b[0m   def evaluate(self,\n",
      "\u001b[0;32m~/Library/Caches/pypoetry/virtualenvs/daily-trading-nJ43NNNI-py3.7/lib/python3.7/site-packages/tensorflow_core/python/keras/engine/training_v2.py\u001b[0m in \u001b[0;36mfit\u001b[0;34m(self, model, x, y, batch_size, epochs, verbose, callbacks, validation_split, validation_data, shuffle, class_weight, sample_weight, initial_epoch, steps_per_epoch, validation_steps, validation_freq, max_queue_size, workers, use_multiprocessing, **kwargs)\u001b[0m\n\u001b[1;32m    340\u001b[0m                 \u001b[0mmode\u001b[0m\u001b[0;34m=\u001b[0m\u001b[0mModeKeys\u001b[0m\u001b[0;34m.\u001b[0m\u001b[0mTRAIN\u001b[0m\u001b[0;34m,\u001b[0m\u001b[0;34m\u001b[0m\u001b[0m\n\u001b[1;32m    341\u001b[0m                 \u001b[0mtraining_context\u001b[0m\u001b[0;34m=\u001b[0m\u001b[0mtraining_context\u001b[0m\u001b[0;34m,\u001b[0m\u001b[0;34m\u001b[0m\u001b[0m\n\u001b[0;32m--> 342\u001b[0;31m                 total_epochs=epochs)\n\u001b[0m\u001b[1;32m    343\u001b[0m             \u001b[0mcbks\u001b[0m\u001b[0;34m.\u001b[0m\u001b[0mmake_logs\u001b[0m\u001b[0;34m(\u001b[0m\u001b[0mmodel\u001b[0m\u001b[0;34m,\u001b[0m \u001b[0mepoch_logs\u001b[0m\u001b[0;34m,\u001b[0m \u001b[0mtraining_result\u001b[0m\u001b[0;34m,\u001b[0m \u001b[0mModeKeys\u001b[0m\u001b[0;34m.\u001b[0m\u001b[0mTRAIN\u001b[0m\u001b[0;34m)\u001b[0m\u001b[0;34m\u001b[0m\u001b[0m\n\u001b[1;32m    344\u001b[0m \u001b[0;34m\u001b[0m\u001b[0m\n",
      "\u001b[0;32m~/Library/Caches/pypoetry/virtualenvs/daily-trading-nJ43NNNI-py3.7/lib/python3.7/site-packages/tensorflow_core/python/keras/engine/training_v2.py\u001b[0m in \u001b[0;36mrun_one_epoch\u001b[0;34m(model, iterator, execution_function, dataset_size, batch_size, strategy, steps_per_epoch, num_samples, mode, training_context, total_epochs)\u001b[0m\n\u001b[1;32m    126\u001b[0m         step=step, mode=mode, size=current_batch_size) as batch_logs:\n\u001b[1;32m    127\u001b[0m       \u001b[0;32mtry\u001b[0m\u001b[0;34m:\u001b[0m\u001b[0;34m\u001b[0m\u001b[0m\n\u001b[0;32m--> 128\u001b[0;31m         \u001b[0mbatch_outs\u001b[0m \u001b[0;34m=\u001b[0m \u001b[0mexecution_function\u001b[0m\u001b[0;34m(\u001b[0m\u001b[0miterator\u001b[0m\u001b[0;34m)\u001b[0m\u001b[0;34m\u001b[0m\u001b[0m\n\u001b[0m\u001b[1;32m    129\u001b[0m       \u001b[0;32mexcept\u001b[0m \u001b[0;34m(\u001b[0m\u001b[0mStopIteration\u001b[0m\u001b[0;34m,\u001b[0m \u001b[0merrors\u001b[0m\u001b[0;34m.\u001b[0m\u001b[0mOutOfRangeError\u001b[0m\u001b[0;34m)\u001b[0m\u001b[0;34m:\u001b[0m\u001b[0;34m\u001b[0m\u001b[0m\n\u001b[1;32m    130\u001b[0m         \u001b[0;31m# TODO(kaftan): File bug about tf function and errors.OutOfRangeError?\u001b[0m\u001b[0;34m\u001b[0m\u001b[0;34m\u001b[0m\u001b[0m\n",
      "\u001b[0;32m~/Library/Caches/pypoetry/virtualenvs/daily-trading-nJ43NNNI-py3.7/lib/python3.7/site-packages/tensorflow_core/python/keras/engine/training_v2_utils.py\u001b[0m in \u001b[0;36mexecution_function\u001b[0;34m(input_fn)\u001b[0m\n\u001b[1;32m     96\u001b[0m     \u001b[0;31m# `numpy` translates Tensors to values in Eager mode.\u001b[0m\u001b[0;34m\u001b[0m\u001b[0;34m\u001b[0m\u001b[0m\n\u001b[1;32m     97\u001b[0m     return nest.map_structure(_non_none_constant_value,\n\u001b[0;32m---> 98\u001b[0;31m                               distributed_function(input_fn))\n\u001b[0m\u001b[1;32m     99\u001b[0m \u001b[0;34m\u001b[0m\u001b[0m\n\u001b[1;32m    100\u001b[0m   \u001b[0;32mreturn\u001b[0m \u001b[0mexecution_function\u001b[0m\u001b[0;34m\u001b[0m\u001b[0m\n",
      "\u001b[0;32m~/Library/Caches/pypoetry/virtualenvs/daily-trading-nJ43NNNI-py3.7/lib/python3.7/site-packages/tensorflow_core/python/eager/def_function.py\u001b[0m in \u001b[0;36m__call__\u001b[0;34m(self, *args, **kwds)\u001b[0m\n\u001b[1;32m    566\u001b[0m         \u001b[0mxla_context\u001b[0m\u001b[0;34m.\u001b[0m\u001b[0mExit\u001b[0m\u001b[0;34m(\u001b[0m\u001b[0;34m)\u001b[0m\u001b[0;34m\u001b[0m\u001b[0m\n\u001b[1;32m    567\u001b[0m     \u001b[0;32melse\u001b[0m\u001b[0;34m:\u001b[0m\u001b[0;34m\u001b[0m\u001b[0m\n\u001b[0;32m--> 568\u001b[0;31m       \u001b[0mresult\u001b[0m \u001b[0;34m=\u001b[0m \u001b[0mself\u001b[0m\u001b[0;34m.\u001b[0m\u001b[0m_call\u001b[0m\u001b[0;34m(\u001b[0m\u001b[0;34m*\u001b[0m\u001b[0margs\u001b[0m\u001b[0;34m,\u001b[0m \u001b[0;34m**\u001b[0m\u001b[0mkwds\u001b[0m\u001b[0;34m)\u001b[0m\u001b[0;34m\u001b[0m\u001b[0m\n\u001b[0m\u001b[1;32m    569\u001b[0m \u001b[0;34m\u001b[0m\u001b[0m\n\u001b[1;32m    570\u001b[0m     \u001b[0;32mif\u001b[0m \u001b[0mtracing_count\u001b[0m \u001b[0;34m==\u001b[0m \u001b[0mself\u001b[0m\u001b[0;34m.\u001b[0m\u001b[0m_get_tracing_count\u001b[0m\u001b[0;34m(\u001b[0m\u001b[0;34m)\u001b[0m\u001b[0;34m:\u001b[0m\u001b[0;34m\u001b[0m\u001b[0m\n",
      "\u001b[0;32m~/Library/Caches/pypoetry/virtualenvs/daily-trading-nJ43NNNI-py3.7/lib/python3.7/site-packages/tensorflow_core/python/eager/def_function.py\u001b[0m in \u001b[0;36m_call\u001b[0;34m(self, *args, **kwds)\u001b[0m\n\u001b[1;32m    597\u001b[0m       \u001b[0;31m# In this case we have created variables on the first call, so we run the\u001b[0m\u001b[0;34m\u001b[0m\u001b[0;34m\u001b[0m\u001b[0m\n\u001b[1;32m    598\u001b[0m       \u001b[0;31m# defunned version which is guaranteed to never create variables.\u001b[0m\u001b[0;34m\u001b[0m\u001b[0;34m\u001b[0m\u001b[0m\n\u001b[0;32m--> 599\u001b[0;31m       \u001b[0;32mreturn\u001b[0m \u001b[0mself\u001b[0m\u001b[0;34m.\u001b[0m\u001b[0m_stateless_fn\u001b[0m\u001b[0;34m(\u001b[0m\u001b[0;34m*\u001b[0m\u001b[0margs\u001b[0m\u001b[0;34m,\u001b[0m \u001b[0;34m**\u001b[0m\u001b[0mkwds\u001b[0m\u001b[0;34m)\u001b[0m  \u001b[0;31m# pylint: disable=not-callable\u001b[0m\u001b[0;34m\u001b[0m\u001b[0m\n\u001b[0m\u001b[1;32m    600\u001b[0m     \u001b[0;32melif\u001b[0m \u001b[0mself\u001b[0m\u001b[0;34m.\u001b[0m\u001b[0m_stateful_fn\u001b[0m \u001b[0;32mis\u001b[0m \u001b[0;32mnot\u001b[0m \u001b[0;32mNone\u001b[0m\u001b[0;34m:\u001b[0m\u001b[0;34m\u001b[0m\u001b[0m\n\u001b[1;32m    601\u001b[0m       \u001b[0;31m# Release the lock early so that multiple threads can perform the call\u001b[0m\u001b[0;34m\u001b[0m\u001b[0;34m\u001b[0m\u001b[0m\n",
      "\u001b[0;32m~/Library/Caches/pypoetry/virtualenvs/daily-trading-nJ43NNNI-py3.7/lib/python3.7/site-packages/tensorflow_core/python/eager/function.py\u001b[0m in \u001b[0;36m__call__\u001b[0;34m(self, *args, **kwargs)\u001b[0m\n\u001b[1;32m   2361\u001b[0m     \u001b[0;32mwith\u001b[0m \u001b[0mself\u001b[0m\u001b[0;34m.\u001b[0m\u001b[0m_lock\u001b[0m\u001b[0;34m:\u001b[0m\u001b[0;34m\u001b[0m\u001b[0m\n\u001b[1;32m   2362\u001b[0m       \u001b[0mgraph_function\u001b[0m\u001b[0;34m,\u001b[0m \u001b[0margs\u001b[0m\u001b[0;34m,\u001b[0m \u001b[0mkwargs\u001b[0m \u001b[0;34m=\u001b[0m \u001b[0mself\u001b[0m\u001b[0;34m.\u001b[0m\u001b[0m_maybe_define_function\u001b[0m\u001b[0;34m(\u001b[0m\u001b[0margs\u001b[0m\u001b[0;34m,\u001b[0m \u001b[0mkwargs\u001b[0m\u001b[0;34m)\u001b[0m\u001b[0;34m\u001b[0m\u001b[0m\n\u001b[0;32m-> 2363\u001b[0;31m     \u001b[0;32mreturn\u001b[0m \u001b[0mgraph_function\u001b[0m\u001b[0;34m.\u001b[0m\u001b[0m_filtered_call\u001b[0m\u001b[0;34m(\u001b[0m\u001b[0margs\u001b[0m\u001b[0;34m,\u001b[0m \u001b[0mkwargs\u001b[0m\u001b[0;34m)\u001b[0m  \u001b[0;31m# pylint: disable=protected-access\u001b[0m\u001b[0;34m\u001b[0m\u001b[0m\n\u001b[0m\u001b[1;32m   2364\u001b[0m \u001b[0;34m\u001b[0m\u001b[0m\n\u001b[1;32m   2365\u001b[0m   \u001b[0;34m@\u001b[0m\u001b[0mproperty\u001b[0m\u001b[0;34m\u001b[0m\u001b[0m\n",
      "\u001b[0;32m~/Library/Caches/pypoetry/virtualenvs/daily-trading-nJ43NNNI-py3.7/lib/python3.7/site-packages/tensorflow_core/python/eager/function.py\u001b[0m in \u001b[0;36m_filtered_call\u001b[0;34m(self, args, kwargs)\u001b[0m\n\u001b[1;32m   1609\u001b[0m          if isinstance(t, (ops.Tensor,\n\u001b[1;32m   1610\u001b[0m                            resource_variable_ops.BaseResourceVariable))),\n\u001b[0;32m-> 1611\u001b[0;31m         self.captured_inputs)\n\u001b[0m\u001b[1;32m   1612\u001b[0m \u001b[0;34m\u001b[0m\u001b[0m\n\u001b[1;32m   1613\u001b[0m   \u001b[0;32mdef\u001b[0m \u001b[0m_call_flat\u001b[0m\u001b[0;34m(\u001b[0m\u001b[0mself\u001b[0m\u001b[0;34m,\u001b[0m \u001b[0margs\u001b[0m\u001b[0;34m,\u001b[0m \u001b[0mcaptured_inputs\u001b[0m\u001b[0;34m,\u001b[0m \u001b[0mcancellation_manager\u001b[0m\u001b[0;34m=\u001b[0m\u001b[0;32mNone\u001b[0m\u001b[0;34m)\u001b[0m\u001b[0;34m:\u001b[0m\u001b[0;34m\u001b[0m\u001b[0m\n",
      "\u001b[0;32m~/Library/Caches/pypoetry/virtualenvs/daily-trading-nJ43NNNI-py3.7/lib/python3.7/site-packages/tensorflow_core/python/eager/function.py\u001b[0m in \u001b[0;36m_call_flat\u001b[0;34m(self, args, captured_inputs, cancellation_manager)\u001b[0m\n\u001b[1;32m   1690\u001b[0m       \u001b[0;31m# No tape is watching; skip to running the function.\u001b[0m\u001b[0;34m\u001b[0m\u001b[0;34m\u001b[0m\u001b[0m\n\u001b[1;32m   1691\u001b[0m       return self._build_call_outputs(self._inference_function.call(\n\u001b[0;32m-> 1692\u001b[0;31m           ctx, args, cancellation_manager=cancellation_manager))\n\u001b[0m\u001b[1;32m   1693\u001b[0m     forward_backward = self._select_forward_and_backward_functions(\n\u001b[1;32m   1694\u001b[0m         \u001b[0margs\u001b[0m\u001b[0;34m,\u001b[0m\u001b[0;34m\u001b[0m\u001b[0m\n",
      "\u001b[0;32m~/Library/Caches/pypoetry/virtualenvs/daily-trading-nJ43NNNI-py3.7/lib/python3.7/site-packages/tensorflow_core/python/eager/function.py\u001b[0m in \u001b[0;36mcall\u001b[0;34m(self, ctx, args, cancellation_manager)\u001b[0m\n\u001b[1;32m    543\u001b[0m               \u001b[0minputs\u001b[0m\u001b[0;34m=\u001b[0m\u001b[0margs\u001b[0m\u001b[0;34m,\u001b[0m\u001b[0;34m\u001b[0m\u001b[0m\n\u001b[1;32m    544\u001b[0m               \u001b[0mattrs\u001b[0m\u001b[0;34m=\u001b[0m\u001b[0;34m(\u001b[0m\u001b[0;34m\"executor_type\"\u001b[0m\u001b[0;34m,\u001b[0m \u001b[0mexecutor_type\u001b[0m\u001b[0;34m,\u001b[0m \u001b[0;34m\"config_proto\"\u001b[0m\u001b[0;34m,\u001b[0m \u001b[0mconfig\u001b[0m\u001b[0;34m)\u001b[0m\u001b[0;34m,\u001b[0m\u001b[0;34m\u001b[0m\u001b[0m\n\u001b[0;32m--> 545\u001b[0;31m               ctx=ctx)\n\u001b[0m\u001b[1;32m    546\u001b[0m         \u001b[0;32melse\u001b[0m\u001b[0;34m:\u001b[0m\u001b[0;34m\u001b[0m\u001b[0m\n\u001b[1;32m    547\u001b[0m           outputs = execute.execute_with_cancellation(\n",
      "\u001b[0;32m~/Library/Caches/pypoetry/virtualenvs/daily-trading-nJ43NNNI-py3.7/lib/python3.7/site-packages/tensorflow_core/python/eager/execute.py\u001b[0m in \u001b[0;36mquick_execute\u001b[0;34m(op_name, num_outputs, inputs, attrs, ctx, name)\u001b[0m\n\u001b[1;32m     59\u001b[0m     tensors = pywrap_tensorflow.TFE_Py_Execute(ctx._handle, device_name,\n\u001b[1;32m     60\u001b[0m                                                \u001b[0mop_name\u001b[0m\u001b[0;34m,\u001b[0m \u001b[0minputs\u001b[0m\u001b[0;34m,\u001b[0m \u001b[0mattrs\u001b[0m\u001b[0;34m,\u001b[0m\u001b[0;34m\u001b[0m\u001b[0m\n\u001b[0;32m---> 61\u001b[0;31m                                                num_outputs)\n\u001b[0m\u001b[1;32m     62\u001b[0m   \u001b[0;32mexcept\u001b[0m \u001b[0mcore\u001b[0m\u001b[0;34m.\u001b[0m\u001b[0m_NotOkStatusException\u001b[0m \u001b[0;32mas\u001b[0m \u001b[0me\u001b[0m\u001b[0;34m:\u001b[0m\u001b[0;34m\u001b[0m\u001b[0m\n\u001b[1;32m     63\u001b[0m     \u001b[0;32mif\u001b[0m \u001b[0mname\u001b[0m \u001b[0;32mis\u001b[0m \u001b[0;32mnot\u001b[0m \u001b[0;32mNone\u001b[0m\u001b[0;34m:\u001b[0m\u001b[0;34m\u001b[0m\u001b[0m\n",
      "\u001b[0;31mKeyboardInterrupt\u001b[0m: "
     ]
    }
   ],
   "source": [
    "# 6.5 minutes for 10 stocks\n",
    "final_stock_df = final_stock_df.dropna()\n",
    "# test 14 day period instead of 30\n",
    "# no dice\n",
    "# test smaller network smae LR\n",
    "# no dice\n",
    "# test since 2016 data\n",
    "# no dice\n",
    "# test smaller learning rate \n",
    "# no dice\n",
    "# test smaller batch size\n",
    "# nothing\n",
    "# test batch size  one\n",
    "\n",
    "# so the solution was less validation data\n",
    "\n",
    "# wal_cwbc is nan\n",
    "prediction_for_upcoming_week(final_stock_df, pairs_of_stocks[:150])"
   ]
  },
  {
   "cell_type": "code",
   "execution_count": null,
   "metadata": {},
   "outputs": [],
   "source": [
    "np.isnan(X).sum()"
   ]
  },
  {
   "cell_type": "code",
   "execution_count": null,
   "metadata": {},
   "outputs": [],
   "source": [
    "np.isnan(y).sum()"
   ]
  },
  {
   "cell_type": "code",
   "execution_count": null,
   "metadata": {},
   "outputs": [],
   "source": [
    "np.isnan(X_val).sum()"
   ]
  },
  {
   "cell_type": "code",
   "execution_count": 381,
   "metadata": {},
   "outputs": [
    {
     "data": {
      "text/plain": [
       "0"
      ]
     },
     "execution_count": 381,
     "metadata": {},
     "output_type": "execute_result"
    }
   ],
   "source": [
    "np.isnan(test_X).sum()"
   ]
  },
  {
   "cell_type": "code",
   "execution_count": 741,
   "metadata": {},
   "outputs": [
    {
     "data": {
      "text/plain": [
       "(920, 30, 7609)"
      ]
     },
     "execution_count": 741,
     "metadata": {},
     "output_type": "execute_result"
    }
   ],
   "source": [
    "X.shape"
   ]
  },
  {
   "cell_type": "code",
   "execution_count": 764,
   "metadata": {},
   "outputs": [
    {
     "data": {
      "text/plain": [
       "array([[[ 6.3315147e-01, -4.0225439e-02, -2.0955741e-01, ...,\n",
       "         -1.3089590e+00, -1.3580441e+00, -8.1021920e-02],\n",
       "        [ 4.9237117e-01, -2.9718536e-01, -8.0603009e-01, ...,\n",
       "         -1.3116791e+00, -1.3609316e+00, -8.7561585e-02],\n",
       "        [ 6.7750984e-01,  6.4380622e-01, -4.8963074e-02, ...,\n",
       "         -1.3144102e+00, -1.3638312e+00, -8.7561585e-02],\n",
       "        ...,\n",
       "        [-3.3272165e-01, -6.7840558e-01, -3.8611093e-01, ...,\n",
       "         -1.3863686e+00, -1.4404267e+00, -9.3658574e-02],\n",
       "        [ 1.1757526e-02, -4.0714911e-01, -1.0684547e+00, ...,\n",
       "         -1.3894027e+00, -1.4436650e+00, -9.3658574e-02],\n",
       "        [ 7.2871464e-01, -5.0212055e-01, -8.4904128e-01, ...,\n",
       "         -1.3924494e+00, -1.4469175e+00, -9.3658574e-02]],\n",
       "\n",
       "       [[ 4.9250159e-01, -2.9696226e-01, -8.0589026e-01, ...,\n",
       "         -1.3089590e+00, -1.3580441e+00, -8.1021920e-02],\n",
       "        [ 6.7783940e-01,  6.4417285e-01, -4.9141262e-02, ...,\n",
       "         -1.3116791e+00, -1.3609316e+00, -8.7561585e-02],\n",
       "        [ 3.5224825e-01,  1.3141130e+00, -1.2479852e-01, ...,\n",
       "         -1.3144102e+00, -1.3638312e+00, -8.7561585e-02],\n",
       "        ...,\n",
       "        [ 1.1000755e-02, -4.0717083e-01, -1.0689291e+00, ...,\n",
       "         -1.3863686e+00, -1.4404267e+00, -9.3658574e-02],\n",
       "        [ 7.2797698e-01, -5.0240171e-01, -8.4921998e-01, ...,\n",
       "         -1.3894027e+00, -1.4436650e+00, -9.3658574e-02],\n",
       "        [ 6.9066852e-01, -3.0661798e-01, -6.5389067e-01, ...,\n",
       "         -1.3924494e+00, -1.4469175e+00, -9.3658574e-02]],\n",
       "\n",
       "       [[ 6.7798209e-01,  6.4440972e-01, -4.9015820e-02, ...,\n",
       "         -1.3089590e+00, -1.3580441e+00, -8.1021920e-02],\n",
       "        [ 3.5253206e-01,  1.3144490e+00, -1.2498816e-01, ...,\n",
       "         -1.3116791e+00, -1.3609316e+00, -8.7561585e-02],\n",
       "        [-1.4448323e+00,  2.5421882e-02, -9.1435426e-01, ...,\n",
       "         -1.3144102e+00, -1.3638312e+00, -8.7561585e-02],\n",
       "        ...,\n",
       "        [ 7.2759348e-01, -5.0242454e-01, -8.4965920e-01, ...,\n",
       "         -1.3863686e+00, -1.4404267e+00, -9.3658574e-02],\n",
       "        [ 6.8987721e-01, -3.0687684e-01, -6.5404940e-01, ...,\n",
       "         -1.3894027e+00, -1.4436650e+00, -9.3658574e-02],\n",
       "        [ 7.2970325e-01, -6.6945451e-01, -2.0686889e-01, ...,\n",
       "         -1.3924494e+00, -1.4469175e+00, -9.3658574e-02]],\n",
       "\n",
       "       ...,\n",
       "\n",
       "       [[ 6.0107154e-01,  3.7337428e-01,  1.8756205e-01, ...,\n",
       "          1.4572943e+00,  1.4307966e+00, -8.1021920e-02],\n",
       "        [ 5.1616275e-01,  7.4952640e-02, -4.4760948e-01, ...,\n",
       "          1.4539698e+00,  1.4276143e+00, -8.7561585e-02],\n",
       "        [ 7.3092794e-01,  8.8583982e-01,  4.7625428e-01, ...,\n",
       "          1.4506601e+00,  1.4244460e+00, -8.7561585e-02],\n",
       "        ...,\n",
       "        [ 6.5566659e-01, -1.2063841e+00, -8.3875471e-01, ...,\n",
       "          1.3723750e+00,  1.3494525e+00, -9.3658574e-02],\n",
       "        [ 7.1799862e-01, -1.0104070e+00, -9.9221528e-01, ...,\n",
       "          1.3694112e+00,  1.3466119e+00, -9.3658574e-02],\n",
       "        [-1.0907973e+00, -1.0100678e+00, -4.5362017e-01, ...,\n",
       "          1.3664596e+00,  1.3437829e+00, -9.3658574e-02]],\n",
       "\n",
       "       [[ 5.1629472e-01,  7.5181201e-02, -4.4747648e-01, ...,\n",
       "          1.4572943e+00,  1.4307966e+00, -8.1021920e-02],\n",
       "        [ 7.3126495e-01,  8.8619542e-01,  4.7615543e-01, ...,\n",
       "          1.4539698e+00,  1.4276143e+00, -8.7561585e-02],\n",
       "        [ 7.2262514e-01,  1.6842324e-01, -9.4953798e-02, ...,\n",
       "          1.4506601e+00,  1.4244460e+00,  1.1420533e+01],\n",
       "        ...,\n",
       "        [ 7.1760988e-01, -1.0104358e+00, -9.9267739e-01, ...,\n",
       "          1.3723750e+00,  1.3494525e+00, -9.3658574e-02],\n",
       "        [-1.0941019e+00, -1.0104070e+00, -4.5375845e-01, ...,\n",
       "          1.3694112e+00,  1.3466119e+00, -9.3658574e-02],\n",
       "        [-1.0300673e+00, -6.9369000e-01, -6.6495049e-01, ...,\n",
       "          1.3664596e+00,  1.3437829e+00, -9.3658574e-02]],\n",
       "\n",
       "       [[ 7.3141122e-01,  8.8643581e-01,  4.7627088e-01, ...,\n",
       "          1.4572943e+00,  1.4307966e+00, -8.1021920e-02],\n",
       "        [ 7.2296101e-01,  1.6881149e-01, -9.5138930e-02, ...,\n",
       "          1.4539698e+00,  1.4276143e+00,  1.1420533e+01],\n",
       "        [ 7.0758492e-01,  6.6677213e-02, -9.6284068e-01, ...,\n",
       "          1.4506601e+00,  1.4244460e+00, -8.7561585e-02],\n",
       "        ...,\n",
       "        [-1.0954349e+00, -1.0104358e+00, -4.5413458e-01, ...,\n",
       "          1.3723750e+00,  1.3494525e+00, -9.3658574e-02],\n",
       "        [-1.0332862e+00, -6.9399309e-01, -6.6511035e-01, ...,\n",
       "          1.3694112e+00,  1.3466119e+00, -9.3658574e-02],\n",
       "        [-1.6086286e+00, -6.1280024e-01, -1.1528378e+00, ...,\n",
       "          1.3664596e+00,  1.3437829e+00, -9.3658574e-02]]], dtype=float32)"
      ]
     },
     "execution_count": 764,
     "metadata": {},
     "output_type": "execute_result"
    }
   ],
   "source": [
    "X"
   ]
  },
  {
   "cell_type": "code",
   "execution_count": 765,
   "metadata": {},
   "outputs": [
    {
     "ename": "ValueError",
     "evalue": "could not broadcast input array from shape (920,51) into shape (920,7609)",
     "output_type": "error",
     "traceback": [
      "\u001b[0;31m---------------------------------------------------------------------------\u001b[0m",
      "\u001b[0;31mValueError\u001b[0m                                Traceback (most recent call last)",
      "\u001b[0;32m<ipython-input-765-3c6142f11c28>\u001b[0m in \u001b[0;36m<module>\u001b[0;34m\u001b[0m\n\u001b[1;32m      3\u001b[0m \u001b[0;32mfor\u001b[0m \u001b[0mi\u001b[0m \u001b[0;32min\u001b[0m \u001b[0mrange\u001b[0m\u001b[0;34m(\u001b[0m\u001b[0mX\u001b[0m\u001b[0;34m.\u001b[0m\u001b[0mshape\u001b[0m\u001b[0;34m[\u001b[0m\u001b[0;36m1\u001b[0m\u001b[0;34m]\u001b[0m\u001b[0;34m)\u001b[0m\u001b[0;34m:\u001b[0m\u001b[0;34m\u001b[0m\u001b[0m\n\u001b[1;32m      4\u001b[0m     \u001b[0mpca_scalers\u001b[0m\u001b[0;34m[\u001b[0m\u001b[0mi\u001b[0m\u001b[0;34m]\u001b[0m \u001b[0;34m=\u001b[0m \u001b[0mPCA\u001b[0m\u001b[0;34m(\u001b[0m\u001b[0;36m.70\u001b[0m\u001b[0;34m)\u001b[0m\u001b[0;34m\u001b[0m\u001b[0m\n\u001b[0;32m----> 5\u001b[0;31m     \u001b[0mX\u001b[0m\u001b[0;34m[\u001b[0m\u001b[0;34m:\u001b[0m\u001b[0;34m,\u001b[0m \u001b[0mi\u001b[0m\u001b[0;34m,\u001b[0m \u001b[0;34m:\u001b[0m\u001b[0;34m]\u001b[0m \u001b[0;34m=\u001b[0m \u001b[0mpca_scalers\u001b[0m\u001b[0;34m[\u001b[0m\u001b[0mi\u001b[0m\u001b[0;34m]\u001b[0m\u001b[0;34m.\u001b[0m\u001b[0mfit_transform\u001b[0m\u001b[0;34m(\u001b[0m\u001b[0mX\u001b[0m\u001b[0;34m[\u001b[0m\u001b[0;34m:\u001b[0m\u001b[0;34m,\u001b[0m \u001b[0mi\u001b[0m\u001b[0;34m,\u001b[0m \u001b[0;34m:\u001b[0m\u001b[0;34m]\u001b[0m\u001b[0;34m)\u001b[0m\u001b[0;34m\u001b[0m\u001b[0m\n\u001b[0m\u001b[1;32m      6\u001b[0m \u001b[0mend\u001b[0m \u001b[0;34m=\u001b[0m \u001b[0mtime\u001b[0m\u001b[0;34m.\u001b[0m\u001b[0mtime\u001b[0m\u001b[0;34m(\u001b[0m\u001b[0;34m)\u001b[0m\u001b[0;34m\u001b[0m\u001b[0m\n\u001b[1;32m      7\u001b[0m \u001b[0;34m\u001b[0m\u001b[0m\n",
      "\u001b[0;31mValueError\u001b[0m: could not broadcast input array from shape (920,51) into shape (920,7609)"
     ]
    }
   ],
   "source": [
    "start = time.time()\n",
    "pca_scalers = {}\n",
    "new_X = []\n",
    "for i in range(X.shape[1]):\n",
    "    pca_scalers[i] = PCA(.80)\n",
    "    new_X.append(pca_scalers[i].fit_transform(X[:, i, :]) \n",
    "end = time.time()\n",
    "\n",
    "print((end-start)/60)"
   ]
  },
  {
   "cell_type": "code",
   "execution_count": null,
   "metadata": {},
   "outputs": [],
   "source": []
  }
 ],
 "metadata": {
  "kernelspec": {
   "display_name": "Python 3.7.0 64-bit ('daily-trading-nJ43NNNI-py3.7': venv)",
   "language": "python",
   "name": "python37064bitdailytradingnj43nnnipy37venvd9db9359ec934f90b15f4732101b653e"
  },
  "language_info": {
   "codemirror_mode": {
    "name": "ipython",
    "version": 3
   },
   "file_extension": ".py",
   "mimetype": "text/x-python",
   "name": "python",
   "nbconvert_exporter": "python",
   "pygments_lexer": "ipython3",
   "version": "3.7.0"
  }
 },
 "nbformat": 4,
 "nbformat_minor": 4
}
