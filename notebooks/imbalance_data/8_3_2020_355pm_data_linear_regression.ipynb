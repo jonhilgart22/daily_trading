{
 "cells": [
  {
   "cell_type": "code",
   "execution_count": 387,
   "metadata": {},
   "outputs": [],
   "source": [
    "import pandas as pd\n",
    "import sys\n",
    "from sklearn.linear_model import LinearRegression\n",
    "from sklearn.model_selection import train_test_split\n",
    "from sklearn.metrics import mean_absolute_error\n",
    "from sklearn.ensemble import RandomForestRegressor, GradientBoostingRegressor\n",
    "\n",
    "import numpy as np\n",
    "import seaborn as sns\n",
    "import matplotlib.pyplot as plt\n",
    "sys.path.insert(0, '../../')\n",
    "\n",
    "pd.set_option('display.max_columns', None)\n"
   ]
  },
  {
   "cell_type": "markdown",
   "metadata": {},
   "source": [
    "# Read in data"
   ]
  },
  {
   "cell_type": "code",
   "execution_count": 388,
   "metadata": {},
   "outputs": [],
   "source": [
    "original_df = pd.read_csv('../../data/imbalance_data/cleaned_08-01-2020_22_15_47 - 08-01-2020_22_15_47_355pm_data.csv')"
   ]
  },
  {
   "cell_type": "code",
   "execution_count": 389,
   "metadata": {},
   "outputs": [],
   "source": [
    "original_df.drop('imbalancetype', inplace=True, axis=1)"
   ]
  },
  {
   "cell_type": "code",
   "execution_count": 390,
   "metadata": {},
   "outputs": [
    {
     "data": {
      "text/plain": [
       "(6733, 22)"
      ]
     },
     "execution_count": 390,
     "metadata": {},
     "output_type": "execute_result"
    }
   ],
   "source": [
    "original_df.shape"
   ]
  },
  {
   "cell_type": "code",
   "execution_count": 391,
   "metadata": {},
   "outputs": [
    {
     "data": {
      "text/plain": [
       "(6733, 22)"
      ]
     },
     "execution_count": 391,
     "metadata": {},
     "output_type": "execute_result"
    }
   ],
   "source": [
    "original_df.shape"
   ]
  },
  {
   "cell_type": "code",
   "execution_count": 392,
   "metadata": {},
   "outputs": [
    {
     "data": {
      "text/plain": [
       "(6733, 20)"
      ]
     },
     "execution_count": 392,
     "metadata": {},
     "output_type": "execute_result"
    }
   ],
   "source": [
    "imbal_train_df.shape"
   ]
  },
  {
   "cell_type": "markdown",
   "metadata": {},
   "source": [
    "- Get p and L dataset"
   ]
  },
  {
   "cell_type": "code",
   "execution_count": 393,
   "metadata": {},
   "outputs": [],
   "source": [
    "p_and_l_df = original_df[['close', 'lastprice_unnormalized']] # use this for p&l"
   ]
  },
  {
   "cell_type": "code",
   "execution_count": 394,
   "metadata": {},
   "outputs": [],
   "source": [
    "imbal_train_df = original_df.loc[:, (original_df.columns!='close') &  (original_df.columns!='lastprice_unnormalized') ]"
   ]
  },
  {
   "cell_type": "markdown",
   "metadata": {},
   "source": [
    "# take top cols\n",
    "- Need to run all cells first"
   ]
  },
  {
   "cell_type": "code",
   "execution_count": 395,
   "metadata": {},
   "outputs": [],
   "source": [
    "cols_to_select = list(X_train.columns[np.array(lr.coef_ > .0005).ravel()])"
   ]
  },
  {
   "cell_type": "code",
   "execution_count": 396,
   "metadata": {},
   "outputs": [],
   "source": [
    "cols_to_select.append('pct_move_snapshot_to_close')\n",
    "smaller_imbal_train_df = imbal_train_df.loc[:,imbal_train_df.columns.isin(cols_to_select)]"
   ]
  },
  {
   "cell_type": "code",
   "execution_count": 397,
   "metadata": {},
   "outputs": [
    {
     "data": {
      "text/plain": [
       "['currentvolume',\n",
       " 'nbo',\n",
       " 'imbalancesize',\n",
       " 'notional_imbalance',\n",
       " 'currentreferenceprice',\n",
       " 'nearindicativeprice',\n",
       " 'farindicativeprice',\n",
       " 'day',\n",
       " 'year',\n",
       " 'month',\n",
       " 'pct_move_snapshot_to_close']"
      ]
     },
     "execution_count": 397,
     "metadata": {},
     "output_type": "execute_result"
    }
   ],
   "source": [
    "cols_to_select"
   ]
  },
  {
   "cell_type": "markdown",
   "metadata": {},
   "source": [
    "# Split into x and y"
   ]
  },
  {
   "cell_type": "code",
   "execution_count": 398,
   "metadata": {},
   "outputs": [],
   "source": [
    "imbal_train_X = imbal_train_df.loc[:, imbal_train_df.columns != 'pct_move_snapshot_to_close']\n",
    "imbal_train_y = imbal_train_df.loc[:, imbal_train_df.columns == 'pct_move_snapshot_to_close']"
   ]
  },
  {
   "cell_type": "code",
   "execution_count": 399,
   "metadata": {},
   "outputs": [],
   "source": [
    "# # small cols\n",
    "# smaller cols does worse\n",
    "# imbal_train_X = smaller_imbal_train_df.loc[:, smaller_imbal_train_df.columns != 'pct_move_snapshot_to_close']\n",
    "# imbal_train_y = smaller_imbal_train_df.loc[:, smaller_imbal_train_df.columns == 'pct_move_snapshot_to_close']"
   ]
  },
  {
   "cell_type": "markdown",
   "metadata": {},
   "source": [
    "# train a model"
   ]
  },
  {
   "cell_type": "code",
   "execution_count": 400,
   "metadata": {},
   "outputs": [
    {
     "data": {
      "text/html": [
       "<div>\n",
       "<style scoped>\n",
       "    .dataframe tbody tr th:only-of-type {\n",
       "        vertical-align: middle;\n",
       "    }\n",
       "\n",
       "    .dataframe tbody tr th {\n",
       "        vertical-align: top;\n",
       "    }\n",
       "\n",
       "    .dataframe thead th {\n",
       "        text-align: right;\n",
       "    }\n",
       "</style>\n",
       "<table border=\"1\" class=\"dataframe\">\n",
       "  <thead>\n",
       "    <tr style=\"text-align: right;\">\n",
       "      <th></th>\n",
       "      <th>close</th>\n",
       "      <th>lastprice_unnormalized</th>\n",
       "    </tr>\n",
       "  </thead>\n",
       "  <tbody>\n",
       "    <tr>\n",
       "      <th>106</th>\n",
       "      <td>86.52</td>\n",
       "      <td>86.5500</td>\n",
       "    </tr>\n",
       "    <tr>\n",
       "      <th>4234</th>\n",
       "      <td>57.95</td>\n",
       "      <td>57.8500</td>\n",
       "    </tr>\n",
       "    <tr>\n",
       "      <th>458</th>\n",
       "      <td>47.61</td>\n",
       "      <td>47.7700</td>\n",
       "    </tr>\n",
       "    <tr>\n",
       "      <th>5623</th>\n",
       "      <td>29.68</td>\n",
       "      <td>29.7053</td>\n",
       "    </tr>\n",
       "    <tr>\n",
       "      <th>3155</th>\n",
       "      <td>41.03</td>\n",
       "      <td>41.0200</td>\n",
       "    </tr>\n",
       "    <tr>\n",
       "      <th>...</th>\n",
       "      <td>...</td>\n",
       "      <td>...</td>\n",
       "    </tr>\n",
       "    <tr>\n",
       "      <th>2747</th>\n",
       "      <td>117.19</td>\n",
       "      <td>117.1300</td>\n",
       "    </tr>\n",
       "    <tr>\n",
       "      <th>5262</th>\n",
       "      <td>31.10</td>\n",
       "      <td>31.1750</td>\n",
       "    </tr>\n",
       "    <tr>\n",
       "      <th>84</th>\n",
       "      <td>82.30</td>\n",
       "      <td>82.1900</td>\n",
       "    </tr>\n",
       "    <tr>\n",
       "      <th>903</th>\n",
       "      <td>117.40</td>\n",
       "      <td>117.6400</td>\n",
       "    </tr>\n",
       "    <tr>\n",
       "      <th>1777</th>\n",
       "      <td>164.34</td>\n",
       "      <td>164.9475</td>\n",
       "    </tr>\n",
       "  </tbody>\n",
       "</table>\n",
       "<p>1010 rows × 2 columns</p>\n",
       "</div>"
      ],
      "text/plain": [
       "       close  lastprice_unnormalized\n",
       "106    86.52                 86.5500\n",
       "4234   57.95                 57.8500\n",
       "458    47.61                 47.7700\n",
       "5623   29.68                 29.7053\n",
       "3155   41.03                 41.0200\n",
       "...      ...                     ...\n",
       "2747  117.19                117.1300\n",
       "5262   31.10                 31.1750\n",
       "84     82.30                 82.1900\n",
       "903   117.40                117.6400\n",
       "1777  164.34                164.9475\n",
       "\n",
       "[1010 rows x 2 columns]"
      ]
     },
     "execution_count": 400,
     "metadata": {},
     "output_type": "execute_result"
    }
   ],
   "source": [
    "p_and_l_test_df[['close','lastprice_unnormalized']]"
   ]
  },
  {
   "cell_type": "code",
   "execution_count": 440,
   "metadata": {},
   "outputs": [
    {
     "name": "stdout",
     "output_type": "stream",
     "text": [
      "PCT finished = 0.00%\n",
      "prediction [-0.26495936]\n",
      "going down\n",
      "delta_close_last_pct= 0.0018909090909089432\n",
      "last_price= 68.88\n",
      "close_price= 68.75\n",
      "prediction_index= 1000\n",
      " \n",
      "PCT finished = 16.67%\n",
      "prediction [-0.39074864]\n",
      "going down\n",
      "delta_close_last_pct= 0.002631953336178494\n",
      "last_price= 140.95\n",
      "close_price= 140.58\n",
      "prediction_index= 500\n",
      " \n",
      "prediction [-0.23566576]\n",
      "going down\n",
      "delta_close_last_pct= 0.0013368983957218195\n",
      "last_price= 14.98\n",
      "close_price= 14.96\n",
      "prediction_index= 1000\n",
      " \n",
      "PCT finished = 33.33%\n",
      "prediction [-0.15646589]\n",
      "going down\n",
      "delta_close_last_pct= -0.0004954582989263878\n",
      "last_price= 121.04\n",
      "close_price= 121.1\n",
      "prediction_index= 0\n",
      " \n",
      "prediction [-0.13443001]\n",
      "going down\n",
      "delta_close_last_pct= -0.0006618133686300265\n",
      "last_price= 45.3\n",
      "close_price= 45.33\n",
      "prediction_index= 1000\n",
      " \n",
      "PCT finished = 50.00%\n",
      "prediction [-0.30898871]\n",
      "going down\n",
      "delta_close_last_pct= 0.0050493716337520755\n",
      "last_price= 89.57\n",
      "close_price= 89.12\n",
      "prediction_index= 0\n",
      " \n",
      "prediction [-0.14917718]\n",
      "going down\n",
      "delta_close_last_pct= -0.0002291016352128361\n",
      "last_price= 349.11\n",
      "close_price= 349.19\n",
      "prediction_index= 500\n",
      " \n",
      "PCT finished = 66.67%\n",
      "prediction [-0.101471]\n",
      "going down\n",
      "delta_close_last_pct= -0.0002849002849002469\n",
      "last_price= 17.545\n",
      "close_price= 17.55\n",
      "prediction_index= 0\n",
      " \n",
      "prediction [-0.15946734]\n",
      "going down\n",
      "delta_close_last_pct= 0.0010224948875254825\n",
      "last_price= 9.79\n",
      "close_price= 9.78\n",
      "prediction_index= 500\n",
      " \n",
      "prediction [-0.17982589]\n",
      "going down\n",
      "delta_close_last_pct= -0.000976835054423586\n",
      "last_price= 71.59\n",
      "close_price= 71.66\n",
      "prediction_index= 1000\n",
      " \n",
      "PCT finished = 83.33%\n",
      "prediction [-0.31425955]\n",
      "going down\n",
      "delta_close_last_pct= 0.0043601895734597385\n",
      "last_price= 52.98\n",
      "close_price= 52.75\n",
      "prediction_index= 0\n",
      " \n",
      "prediction [-0.32189375]\n",
      "going down\n",
      "delta_close_last_pct= 0.002454657029865137\n",
      "last_price= 147.02\n",
      "close_price= 146.66\n",
      "prediction_index= 500\n",
      " \n"
     ]
    }
   ],
   "source": [
    "mae = []\n",
    "mae_above_threshold = []\n",
    "mae_positive_predictions = []\n",
    "mae_negative_predictions= [] \n",
    "n_correct_signs=[]\n",
    "\n",
    "n_correct_sign_and_more_extreme_predictions = []\n",
    "n_correct_sign_and_threshold = []\n",
    "total_delta_close_last = []\n",
    "len_correct=[]\n",
    "threshold = .10\n",
    "cv = 120\n",
    "\n",
    "position_size_in_dollars=100_000\n",
    "cost_per_1k_shares_entry_and_exit=6\n",
    "# How much does it cost per share?\n",
    "# $6 per 1k shares on entry and exit\n",
    "\n",
    "for i in range(cv):\n",
    "    if i % 20 == 0:\n",
    "        print(f\"PCT finished = {i/cv:.2%}\")\n",
    "    lr =LinearRegression()\n",
    "    X_train, X_test, y_train, y_test  = train_test_split(imbal_train_X, imbal_train_y, test_size=0.15) # RandomForestRegressor(n_jobs=-1) #ain, X_test, y_train, y_test  = train_test_split(imbal_train_X, imbal_train_y, test_size=0.10)\n",
    "    p_and_l_test_df = X_test.join(p_and_l_df)\n",
    "    \n",
    "    \n",
    "    lr.fit(X_train, y_train )\n",
    "\n",
    "    test_predictions = lr.predict(X_test)\n",
    "    mae.append(mean_absolute_error(y_test, test_predictions) )\n",
    "\n",
    "    # what about more extreme predicitons, above threshold\n",
    "    threshold_mask = np.abs(test_predictions) > threshold\n",
    "    threshold_test_predictions = test_predictions[threshold_mask]\n",
    "    threshold_y_test = y_test[threshold_mask]\n",
    "    mae_above_threshold.append(mean_absolute_error(threshold_y_test, threshold_test_predictions))\n",
    "\n",
    "    # are we better at positive or negative predictions?\n",
    "    positive_mask = np.sign(test_predictions) == 1\n",
    "    positive_predictions = test_predictions[positive_mask]\n",
    "    positive_y_test = y_test[positive_mask]\n",
    "    mae_positive_predictions.append(mean_absolute_error(positive_y_test, positive_predictions))\n",
    "\n",
    "    negative_predictions = test_predictions[np.sign(test_predictions) == -1]\n",
    "    negative_y_test = y_test[np.sign(test_predictions) == -1]\n",
    "    mae_negative_predictions.append(mean_absolute_error(negative_y_test, negative_predictions))\n",
    "\n",
    "    # sign of prediction and more extreme signs\n",
    "    len_correct.append(len(y_test))\n",
    "    n_sign_and_extreme = []\n",
    "    n_sign = []\n",
    "    n_sign_and_threshold = []\n",
    "    delta_close_last_array = []\n",
    "    \n",
    "    start_prices_running_sum = 0\n",
    "    end_prices_running_sum = 0 # this should be higher\n",
    "    \n",
    "    prediction_index = 0\n",
    "    for pred_, true_ in zip(test_predictions, np.array(y_test).ravel()):\n",
    "\n",
    "        if (np.sign(pred_) == np.sign(true_) ) and (np.abs(true_) > np.abs(pred_)):\n",
    "            n_sign_and_extreme.append(1)\n",
    "        if (np.sign(pred_) == np.sign(true_) ) :\n",
    "            n_sign.append(1)\n",
    "        if (np.abs(pred_) > threshold) and (np.sign(pred_) == np.sign(true_) ) : \n",
    "            n_sign_and_threshold.append(1)\n",
    "            \n",
    "        if (np.abs(pred_) > threshold): ## get into a position here\n",
    "            stock_direction_pred = np.sign(pred_) # direction stock is going to move\n",
    "            \n",
    "            # calculate P & l\n",
    "            last_price =  p_and_l_test_df.iloc[prediction_index, :]['lastprice_unnormalized']\n",
    "            \n",
    "            close_price = p_and_l_test_df.iloc[prediction_index, :]['close']\n",
    "            \n",
    "            if stock_direction_pred > 0: # going up\n",
    "                delta_close_last_pct = (close_price / last_price) - 1\n",
    "                start_prices_running_sum += last_price \n",
    "                end_prices_running_sum += close_price\n",
    "                \n",
    "                if (prediction_index % 500 == 0) and (i % 20 == 0):\n",
    "                    print('going up')\n",
    "                    print('delta_close_last_pct=',delta_close_last_pct)\n",
    "                    print('last_price=',last_price)\n",
    "                    print('close_price=', close_price)\n",
    "                    print('prediction_index=',prediction_index)\n",
    "                    print(' ')\n",
    "\n",
    "            \n",
    "            else: # going down\n",
    "                delta_close_last_pct = (last_price /close_price ) - 1\n",
    "                start_prices_running_sum += close_price \n",
    "                end_prices_running_sum += last_price\n",
    "                \n",
    "                if (prediction_index % 500 == 0) and (i % 20 == 0):\n",
    "                    print('prediction', pred_)\n",
    "                    print('going down')\n",
    "                    print('delta_close_last_pct=',delta_close_last_pct)\n",
    "                    print('last_price=',last_price)\n",
    "                    print('close_price=', close_price)\n",
    "                    print('prediction_index=',prediction_index)\n",
    "                    print(' ')\n",
    "\n",
    "            delta_close_last_array.append(delta_close_last_pct)\n",
    "                \n",
    "            \n",
    "        prediction_index += 1\n",
    "            \n",
    "            \n",
    "            \n",
    "                \n",
    "    n_correct_sign_and_more_extreme_predictions.append(np.sum(n_sign_and_extreme))\n",
    "    n_correct_signs.append(np.sum(n_sign))\n",
    "    n_correct_sign_and_threshold.append(np.sum(n_sign_and_threshold))\n",
    "    total_delta_close_last.append(np.median(delta_close_last_array))\n",
    "\n"
   ]
  },
  {
   "cell_type": "code",
   "execution_count": 441,
   "metadata": {},
   "outputs": [
    {
     "data": {
      "text/plain": [
       "52526.409999999916"
      ]
     },
     "execution_count": 441,
     "metadata": {},
     "output_type": "execute_result"
    }
   ],
   "source": [
    "start_prices_running_sum"
   ]
  },
  {
   "cell_type": "code",
   "execution_count": 442,
   "metadata": {},
   "outputs": [
    {
     "data": {
      "text/plain": [
       "52583.773800000024"
      ]
     },
     "execution_count": 442,
     "metadata": {},
     "output_type": "execute_result"
    }
   ],
   "source": [
    "end_prices_running_sum"
   ]
  },
  {
   "cell_type": "code",
   "execution_count": 443,
   "metadata": {},
   "outputs": [
    {
     "data": {
      "text/plain": [
       "0.0010920944340211403"
      ]
     },
     "execution_count": 443,
     "metadata": {},
     "output_type": "execute_result"
    }
   ],
   "source": [
    "end_prices_running_sum / start_prices_running_sum -1"
   ]
  },
  {
   "cell_type": "code",
   "execution_count": 444,
   "metadata": {},
   "outputs": [
    {
     "data": {
      "text/plain": [
       "[0.004425630171252637,\n",
       " 0.0020664003306238854,\n",
       " 0.0006338139755981409,\n",
       " -0.00031523011798606504,\n",
       " -0.015090543259557387,\n",
       " 0.0,\n",
       " 0.002583372475340573,\n",
       " 0.002122541389557142,\n",
       " 0.002539360081259323,\n",
       " -0.0025500196155354704]"
      ]
     },
     "execution_count": 444,
     "metadata": {},
     "output_type": "execute_result"
    }
   ],
   "source": [
    "delta_close_last_array[:10]"
   ]
  },
  {
   "cell_type": "code",
   "execution_count": 445,
   "metadata": {},
   "outputs": [
    {
     "data": {
      "text/plain": [
       "52583.773800000024"
      ]
     },
     "execution_count": 445,
     "metadata": {},
     "output_type": "execute_result"
    }
   ],
   "source": [
    "\n",
    "end_prices_running_sum"
   ]
  },
  {
   "cell_type": "code",
   "execution_count": 446,
   "metadata": {},
   "outputs": [
    {
     "data": {
      "text/plain": [
       "52526.409999999916"
      ]
     },
     "execution_count": 446,
     "metadata": {},
     "output_type": "execute_result"
    }
   ],
   "source": [
    "start_prices_running_sum\n"
   ]
  },
  {
   "cell_type": "code",
   "execution_count": 447,
   "metadata": {},
   "outputs": [
    {
     "name": "stdout",
     "output_type": "stream",
     "text": [
      "median mae for negative predictions = 22.74%\n",
      "median mae for positive predictions = 21.44%\n",
      "median MAE with threshold predictions = 24.40%\n",
      "median MAE with all data is 22.52%\n",
      "pct of the time we guess the corect sign (up or down) all data is 61.13%\n",
      "pct of the time we guess the corect sign (up or down) all data and the true data is more extreme 37.76%\n",
      "pct of the time we guess the corect sign (up or down) and the prediction is more extreme than our threshold     of 0.1 =  39.38%\n",
      "The expected profit in pct per dollar  put in is 0.109209%\n"
     ]
    }
   ],
   "source": [
    "print(f\"median mae for negative predictions = {np.median(mae_negative_predictions):.2%}\")\n",
    "print(f\"median mae for positive predictions = {np.median(mae_positive_predictions):.2%}\") # slightly better as positive predictions\n",
    "print(f\"median MAE with threshold predictions = {np.median(mae_above_threshold):.2%}\")\n",
    "print(f\"median MAE with all data is {np.median(mae):.2%}\")\n",
    "print(f\"pct of the time we guess the corect sign (up or down) all data is {np.sum(n_correct_signs)/np.sum(len_correct):.2%}\")\n",
    "print(f\"pct of the time we guess the corect sign (up or down) all data and the true data is more extreme {np.sum(n_correct_sign_and_more_extreme_predictions)/np.sum(len_correct):.2%}\")\n",
    "print(f\"pct of the time we guess the corect sign (up or down) and the prediction is more extreme than our threshold \\\n",
    "    of {threshold} =  {np.sum(n_correct_sign_and_threshold)/np.sum(len_correct):.2%}\")\n",
    "print(f\"The expected profit in pct per dollar  put in is {(end_prices_running_sum / start_prices_running_sum) - 1:.6%}\")\n"
   ]
  },
  {
   "cell_type": "code",
   "execution_count": 448,
   "metadata": {},
   "outputs": [
    {
     "data": {
      "text/plain": [
       "0.085937207085518"
      ]
     },
     "execution_count": 448,
     "metadata": {},
     "output_type": "execute_result"
    }
   ],
   "source": [
    "np.median(delta_close_last_array)*100"
   ]
  },
  {
   "cell_type": "markdown",
   "metadata": {},
   "source": [
    "# Threshold predictions"
   ]
  },
  {
   "cell_type": "code",
   "execution_count": 119,
   "metadata": {},
   "outputs": [
    {
     "name": "stdout",
     "output_type": "stream",
     "text": [
      " \n",
      "True move =  0.06\n",
      "Predicted move = -0.11548068292224656\n",
      " \n",
      "True move =  0.06\n",
      "Predicted move = -0.22869827708650742\n",
      " \n",
      "True move =  -0.06\n",
      "Predicted move = -0.22519892308461553\n",
      " \n",
      "True move =  -0.13\n",
      "Predicted move = -0.2251772624813347\n",
      " \n",
      "True move =  -0.27\n",
      "Predicted move = -0.37562180227024233\n",
      " \n",
      "True move =  -0.12\n",
      "Predicted move = -0.11545169689870577\n",
      " \n",
      "True move =  -0.07\n",
      "Predicted move = -0.156785177536759\n",
      " \n",
      "True move =  -0.27\n",
      "Predicted move = -0.200676989494221\n",
      " \n",
      "True move =  0.0\n",
      "Predicted move = -0.20730996730590892\n",
      " \n",
      "True move =  -0.24\n",
      "Predicted move = -0.101309440929373\n",
      " \n",
      "True move =  0.08\n",
      "Predicted move = -0.10818534754875991\n",
      " \n",
      "True move =  -0.27\n",
      "Predicted move = -0.22439599154226136\n",
      " \n",
      "True move =  -0.03\n",
      "Predicted move = -0.12056162829826417\n",
      " \n",
      "True move =  0.17\n",
      "Predicted move = -0.22380753873438108\n",
      " \n",
      "True move =  -0.33\n",
      "Predicted move = -0.10106982419365579\n",
      " \n",
      "True move =  0.14\n",
      "Predicted move = -0.14450701944703637\n",
      " \n",
      "True move =  -0.6\n",
      "Predicted move = -0.28162429637614395\n",
      " \n",
      "True move =  0.17\n",
      "Predicted move = -0.2037351641401895\n",
      " \n",
      "True move =  0.05\n",
      "Predicted move = -0.23362703310662264\n",
      " \n",
      "True move =  0.09\n",
      "Predicted move = -0.21054799505881397\n",
      " \n",
      "True move =  0.0\n",
      "Predicted move = -0.11528062507874831\n",
      " \n",
      "True move =  0.11\n",
      "Predicted move = -0.13834398180516444\n",
      " \n",
      "True move =  -0.31\n",
      "Predicted move = -0.23487794220217262\n",
      " \n",
      "True move =  0.53\n",
      "Predicted move = -0.2816230615730376\n",
      " \n",
      "True move =  -0.22\n",
      "Predicted move = -0.10421087329303835\n",
      " \n",
      "True move =  -0.23\n",
      "Predicted move = -0.2904988114794742\n",
      " \n",
      "True move =  -0.07\n",
      "Predicted move = -0.13007832408405107\n",
      " \n",
      "True move =  -0.16\n",
      "Predicted move = -0.12429178070539365\n",
      " \n",
      "True move =  0.0\n",
      "Predicted move = -0.11020227535406879\n",
      " \n",
      "True move =  -0.11\n",
      "Predicted move = -0.1393449596594969\n"
     ]
    }
   ],
   "source": [
    "# Threshold predictions\n",
    "N = 30\n",
    "for test, true in zip(test_predictions[threshold_mask].ravel()[:N], np.array(y_test)[threshold_mask].ravel()[:N]):\n",
    "    print(' ')\n",
    "    print('True move = ', true)\n",
    "    print('Predicted move =', test)"
   ]
  },
  {
   "cell_type": "code",
   "execution_count": 11,
   "metadata": {},
   "outputs": [
    {
     "name": "stdout",
     "output_type": "stream",
     "text": [
      " \n",
      "True move =  0.18\n",
      "Predicted move = -0.07930251947141809\n",
      " \n",
      "True move =  0.3\n",
      "Predicted move = 0.0782097197416683\n",
      " \n",
      "True move =  0.13\n",
      "Predicted move = 0.08096606920120075\n",
      " \n",
      "True move =  -0.22\n",
      "Predicted move = -0.18268469858625025\n",
      " \n",
      "True move =  0.04\n",
      "Predicted move = -0.207499002409109\n",
      " \n",
      "True move =  0.06\n",
      "Predicted move = -0.09908016692762289\n",
      " \n",
      "True move =  0.07\n",
      "Predicted move = -0.0741316035189794\n",
      " \n",
      "True move =  -0.03\n",
      "Predicted move = -0.22033569101532563\n",
      " \n",
      "True move =  -0.57\n",
      "Predicted move = -0.09630914352613101\n",
      " \n",
      "True move =  -0.01\n",
      "Predicted move = -0.031568716245996276\n",
      " \n",
      "True move =  -0.35\n",
      "Predicted move = -0.2669185753964738\n",
      " \n",
      "True move =  -0.32\n",
      "Predicted move = -0.1308466734391216\n",
      " \n",
      "True move =  -0.39\n",
      "Predicted move = -0.10122170269306663\n",
      " \n",
      "True move =  0.0\n",
      "Predicted move = -0.14955906989197065\n",
      " \n",
      "True move =  0.0\n",
      "Predicted move = -0.20194275215730717\n",
      " \n",
      "True move =  -0.13\n",
      "Predicted move = -0.19806921260167448\n",
      " \n",
      "True move =  0.15\n",
      "Predicted move = -0.04437765399822291\n",
      " \n",
      "True move =  0.13\n",
      "Predicted move = -0.021704596467394532\n",
      " \n",
      "True move =  -0.06\n",
      "Predicted move = -0.060461176775115866\n",
      " \n",
      "True move =  -0.25\n",
      "Predicted move = -0.08854577190938456\n",
      " \n",
      "True move =  -0.38\n",
      "Predicted move = -0.367228616203915\n",
      " \n",
      "True move =  -0.4\n",
      "Predicted move = -0.09081888110902991\n",
      " \n",
      "True move =  0.27\n",
      "Predicted move = 0.05888649988855221\n",
      " \n",
      "True move =  -0.14\n",
      "Predicted move = -0.1568507401330942\n",
      " \n",
      "True move =  -0.02\n",
      "Predicted move = -0.13172111094829442\n",
      " \n",
      "True move =  -0.08\n",
      "Predicted move = -0.16513863424532466\n",
      " \n",
      "True move =  0.09\n",
      "Predicted move = -0.07125032367565037\n",
      " \n",
      "True move =  0.0\n",
      "Predicted move = 0.03266217171121594\n",
      " \n",
      "True move =  -0.14\n",
      "Predicted move = -0.05560948388693027\n",
      " \n",
      "True move =  -0.06\n",
      "Predicted move = -0.12192558967421308\n"
     ]
    }
   ],
   "source": [
    "N = 30\n",
    "for test, true in zip(test_predictions.ravel()[:N], np.array(y_test).ravel()[:N]):\n",
    "    print(' ')\n",
    "    print('True move = ', true)\n",
    "    print('Predicted move =', test)"
   ]
  },
  {
   "cell_type": "markdown",
   "metadata": {},
   "source": [
    "# How often do we get the sign correct"
   ]
  },
  {
   "cell_type": "code",
   "execution_count": 12,
   "metadata": {},
   "outputs": [],
   "source": [
    "n_correct_signs = 0\n",
    "for test, true in zip(test_predictions.ravel(), np.array(y_test).ravel()):\n",
    "    if np.sign(test) == np.sign(true):\n",
    "        n_correct_signs += 1"
   ]
  },
  {
   "cell_type": "code",
   "execution_count": 13,
   "metadata": {},
   "outputs": [
    {
     "data": {
      "text/plain": [
       "0.6379821958456974"
      ]
     },
     "execution_count": 13,
     "metadata": {},
     "output_type": "execute_result"
    }
   ],
   "source": [
    "n_correct_signs / len(y_test) # 62% of the time we guessed the correct move direction (up or down)"
   ]
  },
  {
   "cell_type": "markdown",
   "metadata": {},
   "source": [
    "# What about the correct sign for threshold (<=15%) moves?"
   ]
  },
  {
   "cell_type": "code",
   "execution_count": 14,
   "metadata": {},
   "outputs": [],
   "source": [
    "n_correct_signs = 0\n",
    "for test, true in zip(test_predictions[threshold_mask].ravel(), np.array(y_test)[threshold_mask].ravel()):\n",
    "    if np.sign(test) == np.sign(true):\n",
    "        n_correct_signs += 1"
   ]
  },
  {
   "cell_type": "code",
   "execution_count": 15,
   "metadata": {},
   "outputs": [
    {
     "data": {
      "text/plain": [
       "0.27596439169139464"
      ]
     },
     "execution_count": 15,
     "metadata": {},
     "output_type": "execute_result"
    }
   ],
   "source": [
    "n_correct_signs / len(y_test) # 62% of the time we guessed the correct move direction (up or down)"
   ]
  },
  {
   "cell_type": "markdown",
   "metadata": {},
   "source": [
    "# What about the correct sign for positive moves?"
   ]
  },
  {
   "cell_type": "code",
   "execution_count": 93,
   "metadata": {},
   "outputs": [
    {
     "name": "stdout",
     "output_type": "stream",
     "text": [
      "0.03897668679327726 -0.13\n",
      "0.09338163434165914 0.38\n",
      "0.007832537663091887 -0.15\n",
      "0.015575505480803553 -0.08\n",
      "0.11422734308074789 -0.97\n",
      "0.001463058716064669 -0.25\n",
      "0.04263202085119078 0.13\n",
      "0.0757983096877588 0.38\n",
      "0.032505399644353616 0.0\n",
      "0.11430143777177992 0.24\n",
      "0.016740128863899528 0.0\n",
      "0.02883943183858051 0.07\n",
      "0.0841982931590155 0.05\n",
      "0.060664187656377155 -0.32\n",
      "0.04091794811316385 -0.02\n",
      "0.026874645715552203 -0.29\n",
      "0.147709736148669 0.02\n",
      "0.08643732687922512 0.21\n",
      "0.07464296765413136 -0.11\n",
      "0.09800826831894272 0.15\n",
      "0.0972293541291398 1.7\n",
      "0.06968099174404196 0.0\n",
      "0.11693594655278083 -0.19\n",
      "0.05994698062990711 0.12\n",
      "0.05703986552012319 -0.24\n",
      "0.04577875750867211 -0.02\n",
      "0.02811885218518917 0.28\n",
      "0.08867122088054158 -0.48\n",
      "0.08601229724986492 -0.09\n",
      "0.041304136319579854 0.33\n",
      "0.08834565421381635 1.24\n",
      "0.06795449487212268 -0.01\n",
      "0.11072116523458275 0.04\n",
      "0.12008975761464091 -0.13\n",
      "0.05509689569789078 -0.57\n",
      "0.0867397082652257 0.12\n",
      "0.07043633339729283 0.0\n",
      "0.004010448815839424 0.17\n",
      "0.08720239896443482 0.16\n",
      "0.007111577860968499 0.52\n",
      "0.04332459930604937 -0.12\n",
      "0.16799755896684543 0.51\n",
      "0.0960451175360868 0.41\n",
      "0.09449329934342687 0.99\n",
      "0.1612291280740199 0.05\n",
      "0.04415226746701473 0.23\n",
      "0.07132510154561711 -0.17\n",
      "0.13580211111168294 0.86\n",
      "0.10677287198753538 0.09\n",
      "0.06620005988143118 0.12\n",
      "0.08746174857645839 -0.12\n",
      "0.019196750453642775 0.07\n",
      "0.080808285105896 0.06\n",
      "0.04084019085323565 0.15\n",
      "0.014496827649777 0.05\n",
      "0.02573590261484604 0.29\n",
      "0.0752279925624495 -0.18\n",
      "0.05497535143140153 -0.02\n",
      "0.08966864613107628 -0.5\n",
      "0.027743587471440012 -0.04\n",
      "0.13825366186339005 0.0\n",
      "0.06199043969291829 -0.16\n",
      "0.026967752925874944 -0.15\n",
      "0.09649393085355706 0.07\n",
      "0.07810289992839659 -0.04\n",
      "0.0009913711839485695 0.02\n",
      "0.018291283961010762 0.19\n",
      "0.09676678586745613 -0.18\n",
      "0.032662085587609635 0.11\n",
      "0.0813428954510349 0.0\n",
      "0.07708164901531589 0.23\n",
      "0.10137914954929039 0.0\n",
      "0.025999518600380966 -0.1\n",
      "0.07596534977540248 -0.19\n",
      "0.03507343571867816 0.16\n",
      "0.038574060651086484 0.06\n",
      "0.10854652381668028 0.19\n",
      "0.08130843672542509 -0.6\n",
      "0.09120220727699557 -0.53\n",
      "0.043143379258022474 -0.03\n",
      "0.036446516088741276 0.23\n",
      "0.045216395140543764 -0.16\n",
      "0.13553841256349175 -0.93\n",
      "0.06774341009869067 0.31\n",
      "0.061160923470574335 -0.22\n",
      "0.05492866976343924 -0.07\n",
      "0.07595681675898458 -0.42\n",
      "0.002277437334126553 -0.18\n",
      "0.0064298474419466345 0.0\n",
      "0.010138051356360922 -0.17\n",
      "0.09041315524683524 -0.18\n",
      "0.046306152339555595 -0.1\n",
      "0.05179444302634861 -0.67\n",
      "0.04739715632839081 0.07\n",
      "0.007496140558216985 0.26\n",
      "0.05769258411212563 -0.75\n",
      "0.045769359295393386 0.07\n",
      "0.06387392012641335 -0.02\n",
      "0.06423652235911037 -0.37\n",
      "0.08833760611821084 -0.02\n",
      "0.07684373539170775 0.02\n",
      "0.04976908379260836 -0.16\n",
      "0.042700845680277766 -0.22\n",
      "0.09923432400674947 0.37\n",
      "0.01884408312812136 0.19\n",
      "0.0739732229342871 0.18\n",
      "0.034811459154467705 0.23\n",
      "0.04759481863294779 0.1\n",
      "0.03990391066014398 0.28\n",
      "0.1707520934125193 0.63\n",
      "0.09793971041802285 0.07\n",
      "0.05281416546893736 0.1\n",
      "0.049775633249863116 0.43\n",
      "0.058846892708884546 0.03\n",
      "0.026451394494871217 -0.15\n",
      "0.0963461638956078 -0.24\n",
      "0.1906758757540703 0.33\n",
      "0.06791215741614343 0.0\n",
      "0.010878559686306133 -0.05\n",
      "0.08891109107564299 0.34\n",
      "0.0854386794436226 -0.47\n",
      "0.038533348457118866 0.13\n",
      "0.032805689941871385 -0.08\n",
      "0.05585054193293182 -0.25\n",
      "0.05648420352275041 -0.01\n",
      "0.06528101298548661 0.3\n",
      "0.2518347733815821 1.47\n",
      "0.020627517287595598 0.07\n",
      "0.08713860761477266 -0.05\n",
      "0.04938146918542152 0.0\n",
      "0.028900991166082246 0.35\n"
     ]
    }
   ],
   "source": [
    "n_correct_signs = 0\n",
    "for test, true in zip(test_predictions[positive_mask].ravel(), np.array(y_test)[positive_mask].ravel()):\n",
    "    print(test,true)\n",
    "    if np.sign(test) == np.sign(true):\n",
    "        n_correct_signs += 1"
   ]
  },
  {
   "cell_type": "code",
   "execution_count": 94,
   "metadata": {},
   "outputs": [
    {
     "data": {
      "text/plain": [
       "0.09495548961424333"
      ]
     },
     "execution_count": 94,
     "metadata": {},
     "output_type": "execute_result"
    }
   ],
   "source": [
    "n_correct_signs / len(y_test) # 62% of the time we guessed the correct move direction (up or down)"
   ]
  },
  {
   "cell_type": "markdown",
   "metadata": {},
   "source": [
    "# Coefficients"
   ]
  },
  {
   "cell_type": "code",
   "execution_count": 123,
   "metadata": {},
   "outputs": [
    {
     "data": {
      "text/plain": [
       "array([[ 2.86735429e-01,  6.01592271e+02, -1.05897452e-01,\n",
       "        -6.02500796e+02,  4.89263969e-01,  5.54624959e-01,\n",
       "        -3.32669472e+00,  2.25797336e-01,  1.61684133e-01,\n",
       "         2.94946601e-01]])"
      ]
     },
     "execution_count": 123,
     "metadata": {},
     "output_type": "execute_result"
    }
   ],
   "source": [
    "lr.coef_"
   ]
  },
  {
   "cell_type": "code",
   "execution_count": null,
   "metadata": {},
   "outputs": [],
   "source": [
    "X_train"
   ]
  },
  {
   "cell_type": "code",
   "execution_count": 254,
   "metadata": {},
   "outputs": [
    {
     "data": {
      "image/png": "[encoded data removed]",
      "text/plain": [
       "<Figure size 720x360 with 1 Axes>"
      ]
     },
     "metadata": {
      "needs_background": "light"
     },
     "output_type": "display_data"
    }
   ],
   "source": [
    "plt.figure(figsize=(10,5))\n",
    "sns.barplot(x = X_train.columns[np.argsort(lr.coef_).ravel()], y = lr.coef_.ravel()[np.argsort(lr.coef_).ravel()])\n",
    "plt.xticks(rotation=90) ;"
   ]
  },
  {
   "cell_type": "code",
   "execution_count": 19,
   "metadata": {},
   "outputs": [
    {
     "data": {
      "text/plain": [
       "array([-7.86854820e+02, -3.83651791e+02, -6.22514812e+00, -1.73024488e+00,\n",
       "       -7.53218479e-01, -3.58735516e-01, -2.68781227e-01, -1.79862432e-01,\n",
       "       -2.75760593e-02,  2.75299783e-11,  7.00108438e-02,  1.23456755e-01,\n",
       "        1.38178306e-01,  2.77456436e-01,  3.64226488e-01,  6.46225303e-01,\n",
       "        6.79975346e-01,  7.14074050e+00,  1.88381243e+02,  9.81319399e+02])"
      ]
     },
     "execution_count": 19,
     "metadata": {},
     "output_type": "execute_result"
    }
   ],
   "source": [
    " lr.coef_.ravel()[np.argsort(lr.coef_).ravel()]"
   ]
  },
  {
   "cell_type": "code",
   "execution_count": null,
   "metadata": {},
   "outputs": [],
   "source": []
  }
 ],
 "metadata": {
  "file_extension": ".py",
  "kernelspec": {
   "display_name": "daily-trading",
   "language": "python",
   "name": "daily-trading"
  },
  "language_info": {
   "codemirror_mode": {
    "name": "ipython",
    "version": 3
   },
   "file_extension": ".py",
   "mimetype": "text/x-python",
   "name": "python",
   "nbconvert_exporter": "python",
   "pygments_lexer": "ipython3",
   "version": "3.7.4"
  },
  "mimetype": "text/x-python",
  "name": "python",
  "npconvert_exporter": "python",
  "pygments_lexer": "ipython3",
  "version": 3
 },
 "nbformat": 4,
 "nbformat_minor": 4
}
