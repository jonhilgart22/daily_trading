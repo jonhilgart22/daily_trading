{
 "cells": [
  {
   "cell_type": "code",
   "execution_count": 1,
   "metadata": {},
   "outputs": [],
   "source": [
    "import pandas as pd\n",
    "import sys\n",
    "from sklearn.linear_model import LinearRegression\n",
    "from sklearn.model_selection import train_test_split\n",
    "from sklearn.metrics import mean_absolute_error\n",
    "from sklearn.ensemble import RandomForestRegressor, GradientBoostingRegressor\n",
    "\n",
    "import numpy as np\n",
    "import seaborn as sns\n",
    "import matplotlib.pyplot as plt\n",
    "sys.path.insert(0, '../../')"
   ]
  },
  {
   "cell_type": "markdown",
   "metadata": {},
   "source": [
    "# Read in data"
   ]
  },
  {
   "cell_type": "code",
   "execution_count": 4,
   "metadata": {},
   "outputs": [],
   "source": [
    "imbal_train_df = pd.read_csv('../../data/imbalance_data/cleaned_08-01-2020_22_15_47 - 08-01-2020_22_15_47_all_data.csv')"
   ]
  },
  {
   "cell_type": "code",
   "execution_count": 17,
   "metadata": {},
   "outputs": [],
   "source": [
    "imbal_train_df = imbal_train_df.loc[:, imbal_train_df.columns != 'close']"
   ]
  },
  {
   "cell_type": "code",
   "execution_count": 18,
   "metadata": {},
   "outputs": [
    {
     "data": {
      "text/plain": [
       "(13540, 21)"
      ]
     },
     "execution_count": 18,
     "metadata": {},
     "output_type": "execute_result"
    }
   ],
   "source": [
    "imbal_train_df.shape"
   ]
  },
  {
   "cell_type": "markdown",
   "metadata": {},
   "source": [
    "# Split into x and y"
   ]
  },
  {
   "cell_type": "code",
   "execution_count": 19,
   "metadata": {},
   "outputs": [],
   "source": [
    "imbal_train_X = imbal_train_df.loc[:, imbal_train_df.columns != 'pct_move_snapshot_to_close']\n",
    "imbal_train_y = imbal_train_df.loc[:, imbal_train_df.columns == 'pct_move_snapshot_to_close']"
   ]
  },
  {
   "cell_type": "markdown",
   "metadata": {},
   "source": [
    "# train"
   ]
  },
  {
   "cell_type": "code",
   "execution_count": 20,
   "metadata": {},
   "outputs": [
    {
     "name": "stdout",
     "output_type": "stream",
     "text": [
      "0.0\n",
      "0.16666666666666666\n",
      "0.3333333333333333\n",
      "0.5\n",
      "0.6666666666666666\n",
      "0.8333333333333334\n"
     ]
    }
   ],
   "source": [
    "mae = []\n",
    "mae_above_threshold = []\n",
    "mae_positive_predictions = []\n",
    "mae_negative_predictions= [] \n",
    "n_correct_signs=[]\n",
    "\n",
    "n_correct_sign_and_more_extreme_predictions = []\n",
    "n_correct_sign_and_threshold = []\n",
    "total_delta_close_last = []\n",
    "len_correct=[]\n",
    "threshold = .10\n",
    "cv = 120\n",
    "position_size=5000\n",
    "\n",
    "for i in range(cv):\n",
    "    if i % 20 == 0:\n",
    "        print(i/cv)\n",
    "    lr =LinearRegression()\n",
    "    X_train, X_test, y_train, y_test  = train_test_split(imbal_train_X, imbal_train_y, test_size=0.15) # RandomForestRegressor(n_jobs=-1) #ain, X_test, y_train, y_test  = train_test_split(imbal_train_X, imbal_train_y, test_size=0.10)\n",
    "#     p_and_l_test_df = X_test.join(p_and_l_df)\n",
    "    \n",
    "    \n",
    "    lr.fit(X_train, y_train )\n",
    "\n",
    "    test_predictions = lr.predict(X_test)\n",
    "    mae.append(mean_absolute_error(y_test, test_predictions) )\n",
    "\n",
    "    # what about more extreme predicitons, above threshold\n",
    "    threshold_mask = np.abs(test_predictions) > threshold\n",
    "    threshold_test_predictions = test_predictions[threshold_mask]\n",
    "    threshold_y_test = y_test[threshold_mask]\n",
    "    mae_above_threshold.append(mean_absolute_error(threshold_y_test, threshold_test_predictions))\n",
    "\n",
    "    # are we better at positive or negative predictions?\n",
    "    positive_mask = np.sign(test_predictions) == 1\n",
    "    positive_predictions = test_predictions[positive_mask]\n",
    "    positive_y_test = y_test[positive_mask]\n",
    "    mae_positive_predictions.append(mean_absolute_error(positive_y_test, positive_predictions))\n",
    "\n",
    "    negative_predictions = test_predictions[np.sign(test_predictions) == -1]\n",
    "    negative_y_test = y_test[np.sign(test_predictions) == -1]\n",
    "    mae_negative_predictions.append(mean_absolute_error(negative_y_test, negative_predictions))\n",
    "\n",
    "    # sign of prediction and more extreme signs\n",
    "    len_correct.append(len(y_test))\n",
    "    n_sign_and_extreme = []\n",
    "    n_sign = []\n",
    "    n_sign_and_threshold = []\n",
    "    delta_close_last_array = []\n",
    "    \n",
    "    prediction_index = 0\n",
    "    for pred_, true_ in zip(test_predictions, np.array(y_test).ravel()):\n",
    "\n",
    "        if (np.sign(pred_) == np.sign(true_) ) and (np.abs(true_) > np.abs(pred_)):\n",
    "            n_sign_and_extreme.append(1)\n",
    "        if (np.sign(pred_) == np.sign(true_) ) :\n",
    "            n_sign.append(1)\n",
    "        if (np.abs(pred_) > threshold) and (np.sign(pred_) == np.sign(true_) ) : \n",
    "            n_sign_and_threshold.append(1)\n",
    "            \n",
    "#         if (np.abs(pred_) > threshold): ## get into a position here\n",
    "#             stock_direction_pred = np.sign(pred_) # direction stock is going to move\n",
    "            \n",
    "#             # calculate P & l\n",
    "#             last_price =  p_and_l_test_df.iloc[prediction_index, :]['lastprice_unnormalized']\n",
    "            \n",
    "#             close_price = p_and_l_test_df.iloc[prediction_index, :]['close']\n",
    "            \n",
    "#             if stock_direction_pred > 0: # going up\n",
    "#                 delta_close_last = close_price - last_price\n",
    "            \n",
    "#             else: # going down\n",
    "#                 delta_close_last = last_price - close_price \n",
    "            \n",
    "#             delta_close_last_array.append(delta_close_last)\n",
    "                \n",
    "            \n",
    "        prediction_index += 1\n",
    "            \n",
    "            \n",
    "            \n",
    "\n",
    "            \n",
    "        \n",
    "    n_correct_sign_and_more_extreme_predictions.append(np.sum(n_sign_and_extreme))\n",
    "    n_correct_signs.append(np.sum(n_sign))\n",
    "    n_correct_sign_and_threshold.append(np.sum(n_sign_and_threshold))\n",
    "    total_delta_close_last.append(np.sum(delta_close_last_array))\n",
    "\n"
   ]
  },
  {
   "cell_type": "code",
   "execution_count": 21,
   "metadata": {},
   "outputs": [
    {
     "name": "stdout",
     "output_type": "stream",
     "text": [
      "median mae for negative predictions = 30.71%\n",
      "median mae for positive predictions = 26.45%\n",
      "median MAE with threshold predictions = 32.93%\n",
      "median MAE with all data is 29.48%\n",
      "pct of the time we guess the corect sign (up or down) all data is 61.28%\n",
      "pct of the time we guess the corect sign (up or down) all data and the true data is more extreme 40.50%\n",
      "pct of the time we guess the corect sign (up or down) and the prediction is more extreme than our threshold     of 0.1 =  38.75%\n"
     ]
    }
   ],
   "source": [
    "print(f\"median mae for negative predictions = {np.median(mae_negative_predictions):.2%}\")\n",
    "print(f\"median mae for positive predictions = {np.median(mae_positive_predictions):.2%}\") # slightly better as positive predictions\n",
    "print(f\"median MAE with threshold predictions = {np.median(mae_above_threshold):.2%}\")\n",
    "print(f\"median MAE with all data is {np.median(mae):.2%}\")\n",
    "print(f\"pct of the time we guess the corect sign (up or down) all data is {np.sum(n_correct_signs)/np.sum(len_correct):.2%}\")\n",
    "print(f\"pct of the time we guess the corect sign (up or down) all data and the true data is more extreme {np.sum(n_correct_sign_and_more_extreme_predictions)/np.sum(len_correct):.2%}\")\n",
    "print(f\"pct of the time we guess the corect sign (up or down) and the prediction is more extreme than our threshold \\\n",
    "    of {threshold} =  {np.sum(n_correct_sign_and_threshold)/np.sum(len_correct):.2%}\")\n"
   ]
  },
  {
   "cell_type": "markdown",
   "metadata": {},
   "source": [
    "# Coefficients"
   ]
  },
  {
   "cell_type": "code",
   "execution_count": 22,
   "metadata": {},
   "outputs": [
    {
     "data": {
      "image/png": "[encoded data removed]",
      "text/plain": [
       "<Figure size 720x360 with 1 Axes>"
      ]
     },
     "metadata": {
      "needs_background": "light"
     },
     "output_type": "display_data"
    }
   ],
   "source": [
    "plt.figure(figsize=(10,5))\n",
    "sns.barplot(x = X_train.columns[np.argsort(lr.coef_).ravel()], y = lr.coef_.ravel()[np.argsort(lr.coef_).ravel()])\n",
    "plt.xticks(rotation=90) ;"
   ]
  },
  {
   "cell_type": "code",
   "execution_count": null,
   "metadata": {},
   "outputs": [],
   "source": []
  }
 ],
 "metadata": {
  "kernelspec": {
   "display_name": "daily-trading",
   "language": "python",
   "name": "daily-trading"
  },
  "language_info": {
   "codemirror_mode": {
    "name": "ipython",
    "version": 3
   },
   "file_extension": ".py",
   "mimetype": "text/x-python",
   "name": "python",
   "nbconvert_exporter": "python",
   "pygments_lexer": "ipython3",
   "version": "3.7.4"
  }
 },
 "nbformat": 4,
 "nbformat_minor": 4
}
