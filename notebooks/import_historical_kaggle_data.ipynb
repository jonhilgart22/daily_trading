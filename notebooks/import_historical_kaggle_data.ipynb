{
 "nbformat": 4,
 "nbformat_minor": 2,
 "metadata": {
  "language_info": {
   "name": "python",
   "codemirror_mode": {
    "name": "ipython",
    "version": 3
   },
   "version": "3.7.0-final"
  },
  "orig_nbformat": 2,
  "file_extension": ".py",
  "mimetype": "text/x-python",
  "name": "python",
  "npconvert_exporter": "python",
  "pygments_lexer": "ipython3",
  "version": 3,
  "kernelspec": {
   "name": "python37064bitdailytradingnj43nnnipy37venvd9db9359ec934f90b15f4732101b653e",
   "display_name": "Python 3.7.0 64-bit ('daily-trading-nJ43NNNI-py3.7': venv)"
  }
 },
 "cells": [
  {
   "cell_type": "code",
   "execution_count": 6,
   "metadata": {},
   "outputs": [],
   "source": [
    "import pandas as pd\n",
    "import os\n",
    "import sys\n",
    "import glob\n",
    "sys.path.insert(0, '../')"
   ]
  },
  {
   "cell_type": "markdown",
   "metadata": {},
   "source": [
    "### Import data for one stock"
   ]
  },
  {
   "cell_type": "code",
   "execution_count": 3,
   "metadata": {},
   "outputs": [],
   "source": [
    "mmm_df = pd.read_csv('../data/price-volume-data-for-all-us-stocks-etfs/Stocks/mmm.us.txt')"
   ]
  },
  {
   "cell_type": "code",
   "execution_count": 4,
   "metadata": {},
   "outputs": [
    {
     "output_type": "execute_result",
     "data": {
      "text/plain": "             Date      Open      High       Low     Close   Volume  OpenInt\n0      1970-01-02    2.1664    2.1749    2.1664    2.1664    84754        0\n1      1970-01-05    2.1664    2.1833    2.1664    2.1749   525466        0\n2      1970-01-06    2.1749    2.2002    2.1749    2.2002   207172        0\n3      1970-01-07    2.2002    2.2172    2.1917    2.2086   193991        0\n4      1970-01-08    2.2086    2.2512    2.2086    2.2427   357846        0\n...           ...       ...       ...       ...       ...      ...      ...\n12070  2017-11-06  232.2200  232.6300  230.1500  230.3100  1334683        0\n12071  2017-11-07  230.3800  230.7700  229.1400  230.0500  1553529        0\n12072  2017-11-08  229.8400  230.6500  229.3800  229.8300  1510221        0\n12073  2017-11-09  228.5400  229.4000  227.0500  228.3900  1573336        0\n12074  2017-11-10  227.4700  228.4400  226.1600  227.4500  1295822        0\n\n[12075 rows x 7 columns]",
      "text/html": "<div>\n<style scoped>\n    .dataframe tbody tr th:only-of-type {\n        vertical-align: middle;\n    }\n\n    .dataframe tbody tr th {\n        vertical-align: top;\n    }\n\n    .dataframe thead th {\n        text-align: right;\n    }\n</style>\n<table border=\"1\" class=\"dataframe\">\n  <thead>\n    <tr style=\"text-align: right;\">\n      <th></th>\n      <th>Date</th>\n      <th>Open</th>\n      <th>High</th>\n      <th>Low</th>\n      <th>Close</th>\n      <th>Volume</th>\n      <th>OpenInt</th>\n    </tr>\n  </thead>\n  <tbody>\n    <tr>\n      <th>0</th>\n      <td>1970-01-02</td>\n      <td>2.1664</td>\n      <td>2.1749</td>\n      <td>2.1664</td>\n      <td>2.1664</td>\n      <td>84754</td>\n      <td>0</td>\n    </tr>\n    <tr>\n      <th>1</th>\n      <td>1970-01-05</td>\n      <td>2.1664</td>\n      <td>2.1833</td>\n      <td>2.1664</td>\n      <td>2.1749</td>\n      <td>525466</td>\n      <td>0</td>\n    </tr>\n    <tr>\n      <th>2</th>\n      <td>1970-01-06</td>\n      <td>2.1749</td>\n      <td>2.2002</td>\n      <td>2.1749</td>\n      <td>2.2002</td>\n      <td>207172</td>\n      <td>0</td>\n    </tr>\n    <tr>\n      <th>3</th>\n      <td>1970-01-07</td>\n      <td>2.2002</td>\n      <td>2.2172</td>\n      <td>2.1917</td>\n      <td>2.2086</td>\n      <td>193991</td>\n      <td>0</td>\n    </tr>\n    <tr>\n      <th>4</th>\n      <td>1970-01-08</td>\n      <td>2.2086</td>\n      <td>2.2512</td>\n      <td>2.2086</td>\n      <td>2.2427</td>\n      <td>357846</td>\n      <td>0</td>\n    </tr>\n    <tr>\n      <th>...</th>\n      <td>...</td>\n      <td>...</td>\n      <td>...</td>\n      <td>...</td>\n      <td>...</td>\n      <td>...</td>\n      <td>...</td>\n    </tr>\n    <tr>\n      <th>12070</th>\n      <td>2017-11-06</td>\n      <td>232.2200</td>\n      <td>232.6300</td>\n      <td>230.1500</td>\n      <td>230.3100</td>\n      <td>1334683</td>\n      <td>0</td>\n    </tr>\n    <tr>\n      <th>12071</th>\n      <td>2017-11-07</td>\n      <td>230.3800</td>\n      <td>230.7700</td>\n      <td>229.1400</td>\n      <td>230.0500</td>\n      <td>1553529</td>\n      <td>0</td>\n    </tr>\n    <tr>\n      <th>12072</th>\n      <td>2017-11-08</td>\n      <td>229.8400</td>\n      <td>230.6500</td>\n      <td>229.3800</td>\n      <td>229.8300</td>\n      <td>1510221</td>\n      <td>0</td>\n    </tr>\n    <tr>\n      <th>12073</th>\n      <td>2017-11-09</td>\n      <td>228.5400</td>\n      <td>229.4000</td>\n      <td>227.0500</td>\n      <td>228.3900</td>\n      <td>1573336</td>\n      <td>0</td>\n    </tr>\n    <tr>\n      <th>12074</th>\n      <td>2017-11-10</td>\n      <td>227.4700</td>\n      <td>228.4400</td>\n      <td>226.1600</td>\n      <td>227.4500</td>\n      <td>1295822</td>\n      <td>0</td>\n    </tr>\n  </tbody>\n</table>\n<p>12075 rows × 7 columns</p>\n</div>"
     },
     "metadata": {},
     "execution_count": 4
    }
   ],
   "source": [
    "mmm_df"
   ]
  },
  {
   "cell_type": "markdown",
   "metadata": {},
   "source": [
    "### Run through stocks we pulled data from IEX for. Update the .csv file with this historical data"
   ]
  },
  {
   "cell_type": "code",
   "execution_count": 38,
   "metadata": {
    "tags": [
     "outputPrepend"
    ]
   },
   "outputs": [
    {
     "output_type": "stream",
     "name": "stdout",
     "text": "  7.40   745474        0\n3  2005-03-02  7.62  7.68  7.40   7.43  1756699        0\n4  2005-03-03  7.80  7.92  7.43   7.55  2303457        0\n0       2005-02-25\n1       2005-02-28\n2       2005-03-01\n3       2005-03-02\n4       2005-03-03\n           ...    \n3196    2017-11-06\n3197    2017-11-07\n3198    2017-11-08\n3199    2017-11-09\n3200    2017-11-10\nName: date, Length: 3201, dtype: object\nhead and tail\n2020-04-17\n2005-02-25\n         date   open   high    low  close  volume\n0  2016-01-04  64.99  65.00  63.43  64.27  987310\n1  2016-01-05  64.64  67.00  64.64  64.95  746616\n2  2016-01-06  64.11  65.82  64.03  64.87  877822\n3  2016-01-07  63.53  64.89  62.91  63.50  769361\n4  2016-01-08  64.38  66.10  63.94  64.53  916004\nstock_name acn\nhistorical_file ../data/price-volume-data-for-all-us-stocks-etfs/Stocks/acn.us.txt\n         date    open    high     low   close   volume  openint\n0  2005-02-25  20.913  21.363  20.913  21.363  2761287        0\n1  2005-02-28  21.194  22.126  21.157  21.704  5477602        0\n2  2005-03-01  21.728  22.059  21.549  21.735  2150754        0\n3  2005-03-02  21.744  21.744  21.416  21.593  1784505        0\n4  2005-03-03  21.549  21.634  21.251  21.329  1462877        0\n0       2005-02-25\n1       2005-02-28\n2       2005-03-01\n3       2005-03-02\n4       2005-03-03\n           ...    \n3196    2017-11-06\n3197    2017-11-07\n3198    2017-11-08\n3199    2017-11-09\n3200    2017-11-10\nName: date, Length: 3201, dtype: object\nhead and tail\n2020-04-17\n2005-02-25\n         date    open    high     low   close   volume\n0  2016-01-04  102.62  102.65  100.97  101.83  2817024\n1  2016-01-05  101.97  102.87  101.47  102.36  2408961\n2  2016-01-06  100.81  103.06  100.54  102.16  3134204\n3  2016-01-07   99.75  100.84   98.84   99.16  3194718\n4  2016-01-08   99.48   99.81   98.00   98.20  2330210\nstock_name abbv\nhistorical_file ../data/price-volume-data-for-all-us-stocks-etfs/Stocks/abbv.us.txt\n         date    open    high     low   close    volume  openint\n0  2013-01-04  29.004  29.231  28.694  28.810  25511835        0\n1  2013-01-07  28.609  29.699  28.609  28.869  21363337        0\n2  2013-01-08  28.728  29.022  27.948  28.242  21323206        0\n3  2013-01-09  28.153  28.443  28.153  28.399  22441767        0\n4  2013-01-10  27.933  28.481  27.925  28.481  18692425        0\n0       2013-01-04\n1       2013-01-07\n2       2013-01-08\n3       2013-01-09\n4       2013-01-10\n           ...    \n1219    2017-11-06\n1220    2017-11-07\n1221    2017-11-08\n1222    2017-11-09\n1223    2017-11-10\nName: date, Length: 1224, dtype: object\nhead and tail\n2020-04-17\n2013-01-04\n         date   open   high    low  close    volume\n0  2016-01-04  58.06  58.32  56.40  57.61  10308397\n1  2016-01-05  57.99  58.25  56.82  57.37   7179634\n2  2016-01-06  56.37  57.56  56.18  57.38   8952688\n3  2016-01-07  56.52  57.84  56.34  57.21   9292609\n4  2016-01-08  57.55  57.81  55.48  55.65   7985221\nstock_name atvi\nhistorical_file ../data/price-volume-data-for-all-us-stocks-etfs/Stocks/atvi.us.txt\n         date    open    high     low   close   volume  openint\n0  2005-02-25  5.6910  5.7466  5.6631  5.7190  8139003        0\n1  2005-02-28  5.7003  5.7931  5.6817  5.7003  7967140        0\n2  2005-03-01  5.7280  5.8486  5.7003  5.8394  9956793        0\n3  2005-03-02  5.8579  5.9784  5.7837  5.9506  7542431        0\n4  2005-03-03  5.9784  6.0341  5.9134  5.9321  5585679        0\n0       2005-02-25\n1       2005-02-28\n2       2005-03-01\n3       2005-03-02\n4       2005-03-03\n           ...    \n3196    2017-11-06\n3197    2017-11-07\n3198    2017-11-08\n3199    2017-11-09\n3200    2017-11-10\nName: date, Length: 3201, dtype: object\nhead and tail\n2020-04-17\n2005-02-25\n         date   open   high    low  close    volume\n0  2016-01-04  38.05  38.09  36.98  37.62   8926113\n1  2016-01-05  37.79  37.89  36.94  37.14  11150973\n2  2016-01-06  36.32  36.80  36.08  36.79  17867263\n3  2016-01-07  35.79  37.01  35.43  36.27  10489201\n4  2016-01-08  36.79  36.80  35.54  35.71   8412722\nstock_name akam\nhistorical_file ../data/price-volume-data-for-all-us-stocks-etfs/Stocks/akam.us.txt\n         date   open   high    low  close   volume  openint\n0  2005-02-25  11.29  11.46  11.07  11.09  1645902        0\n1  2005-02-28  11.05  11.23  11.00  11.01  1593848        0\n2  2005-03-01  11.01  11.14  10.97  10.97  1884675        0\n3  2005-03-02  10.95  11.16  10.75  11.00  2489002        0\n4  2005-03-03  11.20  11.23  11.01  11.05  1975686        0\n0       2005-02-25\n1       2005-02-28\n2       2005-03-01\n3       2005-03-02\n4       2005-03-03\n           ...    \n3196    2017-11-06\n3197    2017-11-07\n3198    2017-11-08\n3199    2017-11-09\n3200    2017-11-10\nName: date, Length: 3201, dtype: object\nhead and tail\n2020-04-17\n2005-02-25\n         date   open   high    low  close   volume\n0  2016-01-04  51.80  52.32  50.91  52.31  4341097\n1  2016-01-05  52.38  52.65  51.93  52.02  1505033\n2  2016-01-06  51.00  51.76  50.38  50.48  2588749\n3  2016-01-07  49.34  50.70  48.16  48.19  4029624\n4  2016-01-08  48.51  49.18  48.05  48.10  4122741\nstock_name abmd\nhistorical_file ../data/price-volume-data-for-all-us-stocks-etfs/Stocks/abmd.us.txt\n         date   open   high    low  close  volume  openint\n0  2005-02-25  10.05  11.14  10.05  10.89  157345        0\n1  2005-02-28  10.92  10.92  10.40  10.70  134382        0\n2  2005-03-01  10.50  11.09  10.37  10.80  130592        0\n3  2005-03-02  10.70  11.05  10.62  10.66  124627        0\n4  2005-03-03  10.65  10.90  10.40  10.71   54680        0\n0       2005-02-25\n1       2005-02-28\n2       2005-03-01\n3       2005-03-02\n4       2005-03-03\n           ...    \n3194    2017-11-06\n3195    2017-11-07\n3196    2017-11-08\n3197    2017-11-09\n3198    2017-11-10\nName: date, Length: 3199, dtype: object\nhead and tail\n2020-04-17\n2005-02-25\n         date   open   high    low  close  volume\n0  2016-01-04  88.80  89.42  84.77  85.24  638068\n1  2016-01-05  85.20  87.30  83.74  85.00  469566\n2  2016-01-06  84.01  87.13  83.75  85.30  607106\n3  2016-01-07  83.71  84.88  81.92  81.92  565316\n4  2016-01-08  82.66  85.71  82.66  84.58  643855\nstock_name alle\nhistorical_file ../data/price-volume-data-for-all-us-stocks-etfs/Stocks/alle.us.txt\n         date    open    high     low   close   volume  openint\n0  2013-12-04  41.521  41.521  40.587  40.764  2600701        0\n1  2013-12-05  41.200  41.200  39.592  40.003  3428719        0\n2  2013-12-06  39.720  40.012  39.602  39.660  4506162        0\n3  2013-12-09  39.660  40.217  39.212  40.128  3789727        0\n4  2013-12-10  40.021  41.745  39.994  41.473  3884738        0\n0      2013-12-04\n1      2013-12-05\n2      2013-12-06\n3      2013-12-09\n4      2013-12-10\n          ...    \n988    2017-11-06\n989    2017-11-07\n990    2017-11-08\n991    2017-11-09\n992    2017-11-10\nName: date, Length: 993, dtype: object\nhead and tail\n2020-04-17\n2013-12-04\n         date   open   high    low  close  volume\n0  2016-01-04  64.88  64.88  63.39  64.53  845036\n1  2016-01-05  64.57  65.40  64.11  64.46  525644\n2  2016-01-06  63.62  63.83  62.39  62.77  505485\n3  2016-01-07  61.63  62.29  60.75  60.96  614109\n4  2016-01-08  61.30  61.71  59.62  59.77  675735\nstock_name aap\nhistorical_file ../data/price-volume-data-for-all-us-stocks-etfs/Stocks/aap.us.txt\n         date    open    high     low   close   volume  openint\n0  2005-02-25  32.994  33.388  32.994  33.289   625774        0\n1  2005-02-28  33.299  33.299  32.699  33.052   576995        0\n2  2005-03-01  33.209  33.516  33.209  33.407   845445        0\n3  2005-03-02  33.318  34.181  33.061  34.103  1320913        0\n4  2005-03-03  34.103  34.428  33.975  34.044   896209        0\n0       2005-02-25\n1       2005-02-28\n2       2005-03-01\n3       2005-03-02\n4       2005-03-03\n           ...    \n3196    2017-11-06\n3197    2017-11-07\n3198    2017-11-08\n3199    2017-11-09\n3200    2017-11-10\nName: date, Length: 3201, dtype: object\nhead and tail\n2020-04-17\n2005-02-25\n         date    open    high     low   close   volume\n0  2016-01-04  149.25  154.48  147.51  152.24  1935307\n1  2016-01-05  152.35  153.79  149.89  151.20  1127677\n2  2016-01-06  149.68  150.05  145.78  147.20  1048419\n3  2016-01-07  144.80  149.46  143.13  148.83  1343674\n4  2016-01-08  149.03  149.44  144.87  145.56  1030364\nstock_name alxn\nhistorical_file ../data/price-volume-data-for-all-us-stocks-etfs/Stocks/alxn.us.txt\n         date   open   high    low  close   volume  openint\n0  2005-02-25  5.870  6.000  5.855  5.975   634992        0\n1  2005-02-28  5.940  5.960  5.790  5.840   638780        0\n2  2005-03-01  5.775  5.825  5.475  5.680  1735408        0\n3  2005-03-02  5.640  5.660  5.500  5.530  1076668        0\n4  2005-03-03  5.555  5.625  5.480  5.480   656728        0\n0       2005-02-25\n1       2005-02-28\n2       2005-03-01\n3       2005-03-02\n4       2005-03-03\n           ...    \n3196    2017-11-06\n3197    2017-11-07\n3198    2017-11-08\n3199    2017-11-09\n3200    2017-11-10\nName: date, Length: 3201, dtype: object\nhead and tail\n2020-04-17\n2005-02-25\n         date    open    high     low   close   volume\n0  2016-01-04  187.01  187.07  182.50  184.68  1637408\n1  2016-01-05  185.36  187.59  184.00  184.90  1042532\n2  2016-01-06  183.72  186.92  182.57  184.07  1480791\n3  2016-01-07  180.51  181.13  174.37  174.37  1966700\n4  2016-01-08  175.01  175.01  167.76  168.13  1754809\nstock_name afl\nhistorical_file ../data/price-volume-data-for-all-us-stocks-etfs/Stocks/afl.us.txt\n         date     open     high      low    close   volume  openint\n0  1984-07-19  0.38110  0.39787  0.38110  0.38938   514477        0\n1  1984-07-20  0.38938  0.39787  0.38938  0.38938  1153677        0\n2  1984-07-23  0.38938  0.38938  0.37251  0.37251   787306        0\n3  1984-07-24  0.37251  0.38938  0.37251  0.37251   374165        0\n4  1984-07-25  0.37251  0.37251  0.36401  0.36401   506684        0\n0       1984-07-19\n1       1984-07-20\n2       1984-07-23\n3       1984-07-24\n4       1984-07-25\n           ...    \n8393    2017-11-06\n8394    2017-11-07\n8395    2017-11-08\n8396    2017-11-09\n8397    2017-11-10\nName: date, Length: 8398, dtype: object\nhead and tail\n2020-04-17\n1984-07-19\n         date   open   high    low  close   volume\n0  2016-01-04  29.40  29.59  29.10  29.59  4948306\n1  2016-01-05  29.59  29.82  29.37  29.55  4099924\n2  2016-01-06  29.17  29.31  28.98  29.10  3727472\n3  2016-01-07  28.56  29.00  28.47  28.61  4706036\n4  2016-01-08  28.84  28.90  28.31  28.36  4460772\nstock_name mmm\nhistorical_file ../data/price-volume-data-for-all-us-stocks-etfs/Stocks/mmm.us.txt\n         date    open    high     low   close  volume  openint\n0  1970-01-02  2.1664  2.1749  2.1664  2.1664   84754        0\n1  1970-01-05  2.1664  2.1833  2.1664  2.1749  525466        0\n2  1970-01-06  2.1749  2.2002  2.1749  2.2002  207172        0\n3  1970-01-07  2.2002  2.2172  2.1917  2.2086  193991        0\n4  1970-01-08  2.2086  2.2512  2.2086  2.2427  357846        0\n0        1970-01-02\n1        1970-01-05\n2        1970-01-06\n3        1970-01-07\n4        1970-01-08\n            ...    \n12070    2017-11-06\n12071    2017-11-07\n12072    2017-11-08\n12073    2017-11-09\n12074    2017-11-10\nName: date, Length: 12075, dtype: object\nhead and tail\n2020-04-17\n1970-01-02\n         date    open    high     low   close   volume\n0  2016-01-04  148.05  148.32  145.40  146.82  3277188\n1  2016-01-05  146.82  147.50  145.61  147.46  2688082\n2  2016-01-06  145.59  145.76  143.42  144.49  2997126\n3  2016-01-07  142.52  143.13  140.63  140.97  3553519\n4  2016-01-08  141.36  142.50  140.22  140.49  2663979\nstock_name amd\nhistorical_file ../data/price-volume-data-for-all-us-stocks-etfs/Stocks/amd.us.txt\n         date  open  high   low  close  volume  openint\n0  1983-03-21  8.97  9.03  8.81   9.00  528000        0\n1  1983-03-22  8.72  8.97  8.50   8.50  332400        0\n2  1983-03-23  8.50  8.81  8.47   8.72  442400        0\n3  1983-03-24  8.72  8.78  8.66   8.78  412000        0\n4  1983-03-25  8.91  9.06  8.75   8.88  216400        0\n0       1983-03-21\n1       1983-03-22\n2       1983-03-23\n3       1983-03-24\n4       1983-03-25\n           ...    \n8732    2017-11-06\n8733    2017-11-07\n8734    2017-11-08\n8735    2017-11-09\n8736    2017-11-10\nName: date, Length: 8737, dtype: object\nhead and tail\n2020-04-17\n1983-03-21\n         date  open  high   low  close    volume\n0  2016-01-04  2.77  2.82  2.63   2.77  32516771\n1  2016-01-05  2.77  2.80  2.64   2.75  12972260\n2  2016-01-06  2.66  2.71  2.47   2.51  23759374\n3  2016-01-07  2.43  2.48  2.26   2.28  22203514\n4  2016-01-08  2.36  2.42  2.10   2.14  31822424\nstock_name aes\nhistorical_file ../data/price-volume-data-for-all-us-stocks-etfs/Stocks/aes.us.txt\n         date    open    high     low   close    volume  openint\n0  1991-06-26  2.7725  2.9884  2.7725  2.9195  18790675        0\n1  1991-06-27  2.9884  3.0577  2.8936  2.9538   6950813        0\n2  1991-06-28  2.9538  3.0231  2.8761  2.9280   2703634        0\n3  1991-07-01  2.9884  2.9884  2.9195  2.9538   2037453        0\n4  1991-07-02  2.9884  2.9884  2.9538  2.9884   1451154        0\n0       1991-06-26\n1       1991-06-27\n2       1991-06-28\n3       1991-07-01\n4       1991-07-02\n           ...    \n6641    2017-11-06\n6642    2017-11-07\n6643    2017-11-08\n6644    2017-11-09\n6645    2017-11-10\nName: date, Length: 6646, dtype: object\nhead and tail\n2020-04-17\n1991-06-26\n         date  open  high   low  close   volume\n0  2016-01-04  9.44  9.48  9.22   9.43  4813485\n1  2016-01-05  9.47  9.59  9.28   9.56  4393783\n2  2016-01-06  9.40  9.48  9.20   9.23  4588059\n3  2016-01-07  9.09  9.20  8.99   9.00  7402894\n4  2016-01-08  9.01  9.20  8.78   9.13  8175649\nstock_name abt\nhistorical_file ../data/price-volume-data-for-all-us-stocks-etfs/Stocks/abt.us.txt\n         date    open    high     low   close   volume  openint\n0  1983-04-06  0.7125  0.7125  0.7004  0.7044  3711236        0\n1  1983-04-07  0.7044  0.7125  0.7004  0.7125  5327739        0\n2  1983-04-08  0.7125  0.7166  0.7044  0.7084  6999570        0\n3  1983-04-11  0.7125  0.7166  0.7084  0.7125  3485953        0\n4  1983-04-12  0.7166  0.7247  0.7125  0.7206  9596250        0\n0       1983-04-06\n1       1983-04-07\n2       1983-04-08\n3       1983-04-11\n4       1983-04-12\n           ...    \n8721    2017-11-06\n8722    2017-11-07\n8723    2017-11-08\n8724    2017-11-09\n8725    2017-11-10\nName: date, Length: 8726, dtype: object\nhead and tail\n2020-04-17\n1983-04-06\n         date   open   high    low  close    volume\n0  2016-01-04  43.94  44.05  42.50  42.93  12227482\n1  2016-01-05  42.96  43.20  42.61  42.92   8245208\n2  2016-01-06  42.31  42.98  42.21  42.56   5906042\n3  2016-01-07  41.68  42.18  41.40  41.54   7151352\n4  2016-01-08  41.86  41.90  40.54  40.67   7477658\nstock_name a\nhistorical_file ../data/price-volume-data-for-all-us-stocks-etfs/Stocks/a.us.txt\n         date    open    high     low   close    volume  openint\n0  1999-11-18  30.713  33.754  27.002  29.702  66277506        0\n1  1999-11-19  28.986  29.027  26.872  27.257  16142920        0\n2  1999-11-22  27.886  29.702  27.044  29.702   6970266        0\n3  1999-11-23  28.688  29.446  27.002  27.002   6332082        0\n4  1999-11-24  27.083  28.309  27.002  27.717   5132147        0\n0       1999-11-18\n1       1999-11-19\n2       1999-11-22\n3       1999-11-23\n4       1999-11-24\n           ...    \n4516    2017-11-06\n4517    2017-11-07\n4518    2017-11-08\n4519    2017-11-09\n4520    2017-11-10\nName: date, Length: 4521, dtype: object\nhead and tail\n2020-04-17\n1999-11-18\n         date   open   high    low  close   volume\n0  2016-01-04  41.06  41.19  40.34  40.69  3287335\n1  2016-01-05  40.73  40.95  40.34  40.55  2587246\n2  2016-01-06  40.24  40.99  40.05  40.73  2103619\n3  2016-01-07  40.14  40.15  38.81  39.00  3504314\n4  2016-01-08  39.22  39.71  38.47  38.59  3736768\nstock_name adbe\nhistorical_file ../data/price-volume-data-for-all-us-stocks-etfs/Stocks/adbe.us.txt\n         date  open  high   low  close   volume  openint\n0  1986-08-14  0.21  0.21  0.21   0.21  8320000        0\n1  1986-08-15  0.21  0.21  0.20   0.20  8665600        0\n2  1986-08-18  0.20  0.20  0.20   0.20  5657600        0\n3  1986-08-19  0.20  0.20  0.20   0.20  4121600        0\n4  1986-08-20  0.20  0.21  0.20   0.20  1369600        0\n0       1986-08-14\n1       1986-08-15\n2       1986-08-18\n3       1986-08-19\n4       1986-08-20\n           ...    \n7871    2017-11-06\n7872    2017-11-07\n7873    2017-11-08\n7874    2017-11-09\n7875    2017-11-10\nName: date, Length: 7876, dtype: object\nhead and tail\n2020-04-17\n1986-08-14\n         date   open   high    low  close   volume\n0  2016-01-04  91.77  92.00  90.54  91.97  2993832\n1  2016-01-05  92.01  92.85  91.41  92.34  1821298\n2  2016-01-06  91.10  91.50  90.24  91.02  1673989\n3  2016-01-07  89.40  91.40  88.71  89.11  2717802\n4  2016-01-08  89.68  89.99  87.63  87.85  2263449\nstock_name are\nhistorical_file ../data/price-volume-data-for-all-us-stocks-etfs/Stocks/are.us.txt\n         date    open    high     low   close  volume  openint\n0  2005-02-25  53.441  54.595  53.441  54.595   70309        0\n1  2005-02-28  54.604  54.604  53.491  53.730  279731        0\n2  2005-03-01  53.810  54.934  53.763  54.902   94241        0\n3  2005-03-02  54.902  54.902  54.364  54.565  113436        0\n4  2005-03-03  54.671  54.765  54.226  54.581   63950        0\n0       2005-02-25\n1       2005-02-28\n2       2005-03-01\n3       2005-03-02\n4       2005-03-03\n           ...    \n3196    2017-11-06\n3197    2017-11-07\n3198    2017-11-08\n3199    2017-11-09\n3200    2017-11-10\nName: date, Length: 3201, dtype: object\nhead and tail\n2020-04-17\n2005-02-25\n         date   open   high    low  close  volume\n0  2016-01-04  89.67  89.71  88.46  89.11  522786\n1  2016-01-05  89.22  90.73  89.13  90.34  213646\n2  2016-01-06  89.71  90.53  89.29  89.73  195738\n3  2016-01-07  88.09  88.82  86.76  86.76  354667\n4  2016-01-08  87.13  87.63  85.51  85.57  354097\nstock_name apd\nhistorical_file ../data/price-volume-data-for-all-us-stocks-etfs/Stocks/apd.us.txt\n         date    open    high     low   close   volume  openint\n0  1983-04-06  2.6984  2.7070  2.6238  2.6319  1378336        0\n1  1983-04-07  2.6238  2.6400  2.5986  2.6068   929776        0\n2  1983-04-08  2.6068  2.6569  2.5986  2.6486  2098720        0\n3  1983-04-11  2.7819  2.7819  2.6569  2.7819  1697223        0\n4  1983-04-12  2.7986  2.8152  2.7737  2.7737   197867        0\n0       1983-04-06\n1       1983-04-07\n2       1983-04-08\n3       1983-04-11\n4       1983-04-12\n           ...    \n8720    2017-11-06\n8721    2017-11-07\n8722    2017-11-08\n8723    2017-11-09\n8724    2017-11-10\nName: date, Length: 8725, dtype: object\nhead and tail\n2020-04-17\n1983-04-06\n         date    open    high     low   close   volume\n0  2016-01-04  128.21  129.28  127.07  129.19  1320341\n1  2016-01-05  128.47  129.27  125.91  126.88  1355748\n2  2016-01-06  124.86  125.08  122.85  123.79  1490026\n3  2016-01-07  121.27  122.73  119.18  119.64  3944829\n4  2016-01-08  120.30  120.89  118.83  119.02  2577240\nstock_name alk\nhistorical_file ../data/price-volume-data-for-all-us-stocks-etfs/Stocks/alk.us.txt\n         date    open    high     low   close   volume  openint\n0  2005-02-25  6.8783  7.0188  6.7509  6.9947  1000885        0\n1  2005-02-28  6.9852  6.9852  6.6842  6.7150  1206134        0\n2  2005-03-01  6.7722  7.1389  6.7722  7.1156  1967985        0\n3  2005-03-02  7.0916  7.1035  6.8735  6.8735  1031294        0\n4  2005-03-03  6.9024  7.1060  6.8290  7.0916  1311287        0\n0       2005-02-25\n1       2005-02-28\n2       2005-03-01\n3       2005-03-02\n4       2005-03-03\n           ...    \n3196    2017-11-06\n3197    2017-11-07\n3198    2017-11-08\n3199    2017-11-09\n3200    2017-11-10\nName: date, Length: 3201, dtype: object\nhead and tail\n2020-04-17\n2005-02-25\n         date   open   high    low  close   volume\n0  2016-01-04  79.16  79.29  77.33  78.40  1441331\n1  2016-01-05  78.60  79.17  76.56  77.09  1547077\n2  2016-01-06  76.53  78.25  76.30  78.20  1387117\n3  2016-01-07  76.57  77.19  72.88  73.99  1797151\n4  2016-01-08  74.89  74.89  70.25  70.38  2723471\n"
    }
   ],
   "source": [
    "def add_historic_data_to_current_csv():\n",
    "    current_data_file_path = '../data/historical_stock_data'\n",
    "    historic_data_file_path = '../data/price-volume-data-for-all-us-stocks-etfs/Stocks'\n",
    "\n",
    "    for file in glob.glob(f'{add_historic_data_to_current_csv}/*.csv'):\n",
    "    stock_name = file.rsplit(\"/\")[-1].split('_')[0].lower() # note: store all stock names as uppercase\n",
    "    # find the stock name in historical kaggle dataa\n",
    "    for historical_file in glob.glob(f'{historic_data_file_path}/*.txt'):\n",
    "        historical_stock_name = historical_file.split(\"/\")[-1].split(\".\")[0]\n",
    "        \n",
    "        if stock_name == historical_stock_name:\n",
    "            print('stock_name', stock_name)\n",
    "            print('historical_file', historical_file)\n",
    "            # read in current data\n",
    "            current_stock_data = pd.read_csv(f\"{file}\")\n",
    "            historical_stock_data = pd.read_csv(f\"{historical_file}\")\n",
    "            historical_stock_data.columns = map(str.lower, historical_stock_data.columns)\n",
    "\n",
    "            print(historical_stock_data.head())\n",
    "\n",
    "            current_dates = current_stock_data.date\n",
    "\n",
    "            # get the new data we don't have yet\n",
    "            historical_stock_data[~historical_stock_data.date.isin(current_dates)]\n",
    "            historical_stock_data.drop('openint', inplace=True, axis=1)\n",
    "            print(historical_stock_data.date)\n",
    "\n",
    "            # concat historical with current data\n",
    "            combined_stock_df = pd.concat([current_stock_data, historical_stock_data])\n",
    "            print('head and tail')\n",
    "            print(combined_stock_df.date.max())\n",
    "            print(combined_stock_df.date.min())\n",
    "            print(combined_stock_df.head())\n",
    "\n",
    "            break\n",
    "\n"
   ]
  },
  {
   "cell_type": "code",
   "execution_count": null,
   "metadata": {},
   "outputs": [],
   "source": []
  },
  {
   "cell_type": "code",
   "execution_count": null,
   "metadata": {},
   "outputs": [],
   "source": []
  }
 ]
}