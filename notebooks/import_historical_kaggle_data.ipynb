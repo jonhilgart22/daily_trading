{
 "nbformat": 4,
 "nbformat_minor": 2,
 "metadata": {
  "language_info": {
   "name": "python",
   "codemirror_mode": {
    "name": "ipython",
    "version": 3
   },
   "version": "3.7.0-final"
  },
  "orig_nbformat": 2,
  "file_extension": ".py",
  "mimetype": "text/x-python",
  "name": "python",
  "npconvert_exporter": "python",
  "pygments_lexer": "ipython3",
  "version": 3,
  "kernelspec": {
   "name": "python37064bitdailytradingnj43nnnipy37venvd9db9359ec934f90b15f4732101b653e",
   "display_name": "Python 3.7.0 64-bit ('daily-trading-nJ43NNNI-py3.7': venv)"
  }
 },
 "cells": [
  {
   "cell_type": "code",
   "execution_count": 6,
   "metadata": {},
   "outputs": [],
   "source": [
    "import pandas as pd\n",
    "import os\n",
    "import sys\n",
    "import glob\n",
    "sys.path.insert(0, '../')"
   ]
  },
  {
   "cell_type": "markdown",
   "metadata": {},
   "source": [
    "### Import data for one stock"
   ]
  },
  {
   "cell_type": "code",
   "execution_count": 3,
   "metadata": {},
   "outputs": [],
   "source": [
    "mmm_df = pd.read_csv('../data/price-volume-data-for-all-us-stocks-etfs/Stocks/mmm.us.txt')"
   ]
  },
  {
   "cell_type": "code",
   "execution_count": 4,
   "metadata": {},
   "outputs": [
    {
     "output_type": "execute_result",
     "data": {
      "text/plain": "             Date      Open      High       Low     Close   Volume  OpenInt\n0      1970-01-02    2.1664    2.1749    2.1664    2.1664    84754        0\n1      1970-01-05    2.1664    2.1833    2.1664    2.1749   525466        0\n2      1970-01-06    2.1749    2.2002    2.1749    2.2002   207172        0\n3      1970-01-07    2.2002    2.2172    2.1917    2.2086   193991        0\n4      1970-01-08    2.2086    2.2512    2.2086    2.2427   357846        0\n...           ...       ...       ...       ...       ...      ...      ...\n12070  2017-11-06  232.2200  232.6300  230.1500  230.3100  1334683        0\n12071  2017-11-07  230.3800  230.7700  229.1400  230.0500  1553529        0\n12072  2017-11-08  229.8400  230.6500  229.3800  229.8300  1510221        0\n12073  2017-11-09  228.5400  229.4000  227.0500  228.3900  1573336        0\n12074  2017-11-10  227.4700  228.4400  226.1600  227.4500  1295822        0\n\n[12075 rows x 7 columns]",
      "text/html": "<div>\n<style scoped>\n    .dataframe tbody tr th:only-of-type {\n        vertical-align: middle;\n    }\n\n    .dataframe tbody tr th {\n        vertical-align: top;\n    }\n\n    .dataframe thead th {\n        text-align: right;\n    }\n</style>\n<table border=\"1\" class=\"dataframe\">\n  <thead>\n    <tr style=\"text-align: right;\">\n      <th></th>\n      <th>Date</th>\n      <th>Open</th>\n      <th>High</th>\n      <th>Low</th>\n      <th>Close</th>\n      <th>Volume</th>\n      <th>OpenInt</th>\n    </tr>\n  </thead>\n  <tbody>\n    <tr>\n      <th>0</th>\n      <td>1970-01-02</td>\n      <td>2.1664</td>\n      <td>2.1749</td>\n      <td>2.1664</td>\n      <td>2.1664</td>\n      <td>84754</td>\n      <td>0</td>\n    </tr>\n    <tr>\n      <th>1</th>\n      <td>1970-01-05</td>\n      <td>2.1664</td>\n      <td>2.1833</td>\n      <td>2.1664</td>\n      <td>2.1749</td>\n      <td>525466</td>\n      <td>0</td>\n    </tr>\n    <tr>\n      <th>2</th>\n      <td>1970-01-06</td>\n      <td>2.1749</td>\n      <td>2.2002</td>\n      <td>2.1749</td>\n      <td>2.2002</td>\n      <td>207172</td>\n      <td>0</td>\n    </tr>\n    <tr>\n      <th>3</th>\n      <td>1970-01-07</td>\n      <td>2.2002</td>\n      <td>2.2172</td>\n      <td>2.1917</td>\n      <td>2.2086</td>\n      <td>193991</td>\n      <td>0</td>\n    </tr>\n    <tr>\n      <th>4</th>\n      <td>1970-01-08</td>\n      <td>2.2086</td>\n      <td>2.2512</td>\n      <td>2.2086</td>\n      <td>2.2427</td>\n      <td>357846</td>\n      <td>0</td>\n    </tr>\n    <tr>\n      <th>...</th>\n      <td>...</td>\n      <td>...</td>\n      <td>...</td>\n      <td>...</td>\n      <td>...</td>\n      <td>...</td>\n      <td>...</td>\n    </tr>\n    <tr>\n      <th>12070</th>\n      <td>2017-11-06</td>\n      <td>232.2200</td>\n      <td>232.6300</td>\n      <td>230.1500</td>\n      <td>230.3100</td>\n      <td>1334683</td>\n      <td>0</td>\n    </tr>\n    <tr>\n      <th>12071</th>\n      <td>2017-11-07</td>\n      <td>230.3800</td>\n      <td>230.7700</td>\n      <td>229.1400</td>\n      <td>230.0500</td>\n      <td>1553529</td>\n      <td>0</td>\n    </tr>\n    <tr>\n      <th>12072</th>\n      <td>2017-11-08</td>\n      <td>229.8400</td>\n      <td>230.6500</td>\n      <td>229.3800</td>\n      <td>229.8300</td>\n      <td>1510221</td>\n      <td>0</td>\n    </tr>\n    <tr>\n      <th>12073</th>\n      <td>2017-11-09</td>\n      <td>228.5400</td>\n      <td>229.4000</td>\n      <td>227.0500</td>\n      <td>228.3900</td>\n      <td>1573336</td>\n      <td>0</td>\n    </tr>\n    <tr>\n      <th>12074</th>\n      <td>2017-11-10</td>\n      <td>227.4700</td>\n      <td>228.4400</td>\n      <td>226.1600</td>\n      <td>227.4500</td>\n      <td>1295822</td>\n      <td>0</td>\n    </tr>\n  </tbody>\n</table>\n<p>12075 rows × 7 columns</p>\n</div>"
     },
     "metadata": {},
     "execution_count": 4
    }
   ],
   "source": [
    "mmm_df"
   ]
  },
  {
   "cell_type": "markdown",
   "metadata": {},
   "source": [
    "### Run through stocks we pulled data from IEX for. Update the .csv file with this historical data"
   ]
  },
  {
   "cell_type": "code",
   "execution_count": 56,
   "metadata": {
    "tags": [
     "outputPrepend"
    ]
   },
   "outputs": [],
   "source": [
    "def add_historic_data_to_current_csv():\n",
    "    current_data_file_path = '../data/historical_stock_data'\n",
    "    augmented_data_file_path = '../data/updated_historical_stock_data'\n",
    "    historic_data_file_path = '../data/price-volume-data-for-all-us-stocks-etfs/Stocks'\n",
    "\n",
    "    for file in glob.glob(f'{current_data_file_path}/*.csv'):\n",
    "        stock_name = file.rsplit(\"/\")[-1].split('_')[0].lower() # note: store all stock names as uppercase\n",
    "        # find the stock name in historical kaggle dataa\n",
    "        for historical_file in glob.glob(f'{historic_data_file_path}/*.txt'):\n",
    "            historical_stock_name = historical_file.split(\"/\")[-1].split(\".\")[0]\n",
    "            \n",
    "            if stock_name == historical_stock_name:\n",
    "                print(f\"Found historical data for {stock_name}\")\n",
    "                # read in current data\n",
    "                current_stock_data = pd.read_csv(f\"{file}\")\n",
    "                historical_stock_data = pd.read_csv(f\"{historical_file}\")\n",
    "                historical_stock_data.columns = map(str.lower, historical_stock_data.columns)\n",
    "\n",
    "                current_dates = current_stock_data.date\n",
    "\n",
    "                # get the new data we don't have yet\n",
    "                historical_stock_data[~historical_stock_data.date.isin(current_dates)]\n",
    "                historical_stock_data.drop('openint', inplace=True, axis=1)\n",
    "\n",
    "                # concat historical with current data\n",
    "                combined_stock_df = pd.concat([current_stock_data, historical_stock_data])\n",
    "                most_recent_date = combined_stock_df.date.max()\n",
    "                most_recent_year, most_recent_month, most_recent_day = most_recent_date.split('-')\n",
    "\n",
    "                oldest_date = combined_stock_df.date.min()\n",
    "                oldest_year, oldest_month, oldest_day = oldest_date.split('-')\n",
    "                \n",
    "                # save the file\n",
    "                combined_stock_df.to_csv(f'{augmented_data_file_path}/{stock_name.lower()}_{int(oldest_year)}-{int(oldest_month)}-{int(oldest_day)}_to_{int(most_recent_year)}-{int(most_recent_month)}-{int(most_recent_day)}.csv')\n",
    "                # delete the old file only if we haven't  updated it\n",
    "                # os.remove(f\"{file}\")\n",
    "                break\n",
    "        # # if we don't have historical data , save the original data into the augmented folder\n",
    "        # if os.path.isfile(f'{augmented_data_file_path}/{stock_name.lower()}_{int(oldest_year)}-{int(oldest_month)}-{int(oldest_day)}_to_{int(most_recent_year)}-{int(most_recent_month)}-{int(most_recent_day)}.csv'):\n",
    "        #     pass\n",
    "        # else:\n",
    "        #     current_stock_data = pd.read_csv(f\"{file}\")\n",
    "        #     current_stock_data.to_csv(f\"{augmented_data_file_path}/)\n",
    "\n"
   ]
  },
  {
   "cell_type": "code",
   "execution_count": 57,
   "metadata": {
    "tags": [
     "outputPrepend",
     "outputPrepend",
     "outputPrepend",
     "outputPrepend",
     "outputPrepend",
     "outputPrepend"
    ]
   },
   "outputs": [
    {
     "output_type": "stream",
     "name": "stdout",
     "text": "Found historical data for pnr\nFound historical data for bac\nFound historical data for ce\nFound historical data for peg\nFound historical data for bac\nFound historical data for ni\nFound historical data for ual\nFound historical data for vno\nFound historical data for ual\nFound historical data for efx\nFound historical data for rost\nFound historical data for ph\nFound historical data for eqix\nFound historical data for rop\nFound historical data for are\nFound historical data for pg\nFound historical data for pvh\nFound historical data for lb\nFound historical data for so\nFound historical data for rop\nFound historical data for cern\nFound historical data for peg\nFound historical data for adbe\nFound historical data for emr\nFound historical data for efx\nFound historical data for ce\nFound historical data for lb\nFound historical data for adbe\nFound historical data for pvh\nFound historical data for are\nFound historical data for cern\nFound historical data for vno\nFound historical data for pg\nFound historical data for eqix\nFound historical data for rost\nFound historical data for so\nFound historical data for emr\nFound historical data for ni\nFound historical data for ph\nFound historical data for pnr\n"
    }
   ],
   "source": [
    "add_historic_data_to_current_csv()"
   ]
  },
  {
   "cell_type": "code",
   "execution_count": null,
   "metadata": {},
   "outputs": [],
   "source": []
  },
  {
   "cell_type": "code",
   "execution_count": null,
   "metadata": {},
   "outputs": [],
   "source": []
  }
 ]
}